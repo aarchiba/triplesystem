{
 "metadata": {
  "name": "n-delayfit"
 },
 "nbformat": 3,
 "nbformat_minor": 0,
 "worksheets": [
  {
   "cells": [
    {
     "cell_type": "code",
     "collapsed": false,
     "input": [
      "import scipy.optimize\n",
      "import scipy.linalg\n",
      "\n",
      "import minuit\n",
      "\n",
      "import kepler\n",
      "import quad_integrate\n",
      "import threebody\n",
      "import minuit_wrap"
     ],
     "language": "python",
     "metadata": {},
     "outputs": [],
     "prompt_number": 19
    },
    {
     "cell_type": "code",
     "collapsed": false,
     "input": [
      "reload(minuit_wrap)\n",
      "reload(threebody)"
     ],
     "language": "python",
     "metadata": {},
     "outputs": [
      {
       "output_type": "pyout",
       "prompt_number": 14,
       "text": [
        "<module 'threebody' from 'threebody.py'>"
       ]
      }
     ],
     "prompt_number": 14
    },
    {
     "cell_type": "code",
     "collapsed": false,
     "input": [
      "(mjds, delays, tel_list, \n",
      "    tels, uncerts) = threebody.load_data(\n",
      "        doppler_correct=False)"
     ],
     "language": "python",
     "metadata": {},
     "outputs": [],
     "prompt_number": 15
    },
    {
     "cell_type": "code",
     "collapsed": false,
     "input": [
      "tmatrix, lin_params = threebody.trend_matrix(mjds, \n",
      "        tel_list, tels)"
     ],
     "language": "python",
     "metadata": {},
     "outputs": [],
     "prompt_number": 4
    },
    {
     "cell_type": "code",
     "collapsed": false,
     "input": [
      "o = threebody.compute_orbit(threebody.best_parameters,\n",
      "    mjds-delays/86400.)\n",
      "r = delays - o[\"delays\"]\n",
      "plt.plot(mjds,r)"
     ],
     "language": "python",
     "metadata": {},
     "outputs": [
      {
       "output_type": "pyout",
       "prompt_number": 18,
       "text": [
        "[<matplotlib.lines.Line2D at 0x3b24a90>]"
       ]
      },
      {
       "output_type": "display_data",
       "png": "[encoded data removed]"
      }
     ],
     "prompt_number": 18
    },
    {
     "cell_type": "code",
     "collapsed": false,
     "input": [
      "x, res, rk, s = scipy.linalg.lstsq(tmatrix, r)\n"
     ],
     "language": "python",
     "metadata": {},
     "outputs": [],
     "prompt_number": 21
    },
    {
     "cell_type": "code",
     "collapsed": false,
     "input": [
      "def mfun(asini_i, pb_i, eps1_i, eps2_i, tasc_i, \n",
      "            acosi_i, q_i,\n",
      "            asini_o, pb_o, eps1_o, eps2_o, tasc_o, \n",
      "            acosi_o, delta_lan,\n",
      "            const, f0error, f1error, \n",
      "            j_AO327, j_GBT1500, j_GBT350, \n",
      "            j_GBT820, j_WSRT1400):\n",
      "    p = (asini_i, pb_i, eps1_i, eps2_i, tasc_i, \n",
      "            acosi_i, q_i,\n",
      "            asini_o, pb_o, eps1_o, eps2_o, tasc_o, \n",
      "            acosi_o, delta_lan)\n",
      "    l = (const, f0error, f1error, \n",
      "            j_AO327, j_GBT1500, j_GBT350, \n",
      "            j_GBT820, j_WSRT1400)\n",
      "    #print p,l\n",
      "    ngd = np.dot(tmatrix,l)\n",
      "    gd = delays - ngd\n",
      "    ts = mjds-gd/86400.\n",
      "    ep = 0\n",
      "    ts[ts<ep] = ep\n",
      "    o = threebody.compute_orbit(p,ts)\n",
      "    r = delays - (o[\"delays\"] + ngd)\n",
      "    return np.sum((r/uncerts)**2)\n"
     ],
     "language": "python",
     "metadata": {},
     "outputs": [],
     "prompt_number": 23
    },
    {
     "cell_type": "code",
     "collapsed": false,
     "input": [
      "F = minuit_wrap.Fitter(mfun)"
     ],
     "language": "python",
     "metadata": {},
     "outputs": [],
     "prompt_number": 24
    },
    {
     "cell_type": "code",
     "collapsed": false,
     "input": [
      "for p,v in zip(F.parameters,threebody.best_parameters):\n",
      "    F.values[p] = v\n",
      "for p,v in zip(F.parameters,threebody.best_errors):\n",
      "    F.errors[p] = v\n"
     ],
     "language": "python",
     "metadata": {},
     "outputs": [],
     "prompt_number": 25
    },
    {
     "cell_type": "code",
     "collapsed": false,
     "input": [
      "for p,v in zip(\n",
      "        F.parameters[len(threebody.best_parameters):],\n",
      "        x):\n",
      "    F.values[p] = v"
     ],
     "language": "python",
     "metadata": {},
     "outputs": [],
     "prompt_number": 26
    },
    {
     "cell_type": "code",
     "collapsed": false,
     "input": [
      "print lin_params"
     ],
     "language": "python",
     "metadata": {},
     "outputs": [
      {
       "output_type": "stream",
       "stream": "stdout",
       "text": [
        "['const', 'f0error', 'f1error', 'j_AO327', 'j_GBT1500', 'j_GBT350', 'j_GBT820', 'j_WSRT1400']\n"
       ]
      }
     ],
     "prompt_number": 27
    },
    {
     "cell_type": "code",
     "collapsed": false,
     "input": [
      "F.errors['const'] = 1e-8\n",
      "F.errors['f0error'] = 1e-19\n",
      "F.errors['f1error'] = 1e-24\n",
      "for n in lin_params:\n",
      "    if n.startswith(\"j_\"):\n",
      "        F.errors[n] = 1e-8"
     ],
     "language": "python",
     "metadata": {},
     "outputs": [],
     "prompt_number": 28
    },
    {
     "cell_type": "code",
     "collapsed": false,
     "input": [
      "F.set_normalization()"
     ],
     "language": "python",
     "metadata": {},
     "outputs": [],
     "prompt_number": 29
    },
    {
     "cell_type": "code",
     "collapsed": false,
     "input": [
      "F.printMode = 3\n",
      "F.eps = 1e-10\n",
      "F.tol = 100\n",
      "F.up = 1"
     ],
     "language": "python",
     "metadata": {},
     "outputs": [],
     "prompt_number": 30
    },
    {
     "cell_type": "code",
     "collapsed": false,
     "input": [
      "F.migrad()"
     ],
     "language": "python",
     "metadata": {},
     "outputs": [],
     "prompt_number": 31
    },
    {
     "cell_type": "code",
     "collapsed": false,
     "input": [
      "mfun(*(threebody.best_parameters+[0]*len(lin_params)))"
     ],
     "language": "python",
     "metadata": {},
     "outputs": [],
     "prompt_number": "*"
    },
    {
     "cell_type": "code",
     "collapsed": false,
     "input": [
      "F._minuit.printMode"
     ],
     "language": "python",
     "metadata": {},
     "outputs": [],
     "prompt_number": "*"
    },
    {
     "cell_type": "code",
     "collapsed": false,
     "input": [
      "F.best_values"
     ],
     "language": "python",
     "metadata": {},
     "outputs": [
      {
       "output_type": "pyout",
       "prompt_number": 32,
       "text": [
        "{'acosi_i': 1.492994946977472353,\n",
        " 'acosi_o': 91.603991437834297228,\n",
        " 'asini_i': 1.2175286545573546351,\n",
        " 'asini_o': 74.672686443826071012,\n",
        " 'const': 2.8431724712294179384e-05,\n",
        " 'delta_lan': 6.0649953876393786824e-06,\n",
        " 'eps1_i': -9.1727951191818730553e-05,\n",
        " 'eps1_o': -0.0034621092605997573357,\n",
        " 'eps2_i': 0.00068558302011568753088,\n",
        " 'eps2_o': 0.035186334226658369562,\n",
        " 'f0error': 2.4943269318421438148e-05,\n",
        " 'f1error': 1.0374157007447983541e-14,\n",
        " 'j_AO327': 0.00048750483738245861535,\n",
        " 'j_GBT1500': 1.3227092786417492107e-05,\n",
        " 'j_GBT350': 0.00016996219966908960149,\n",
        " 'j_GBT820': 1.4009049459777801381e-05,\n",
        " 'j_WSRT1400': -4.92567083706698894e-05,\n",
        " 'pb_i': 1.6294016368878408767,\n",
        " 'pb_o': 327.25746940528566817,\n",
        " 'q_i': 0.13737778084167010942,\n",
        " 'tasc_i': 0.40751917945012327212,\n",
        " 'tasc_o': 313.93558360533014662}"
       ]
      }
     ],
     "prompt_number": 32
    },
    {
     "cell_type": "code",
     "collapsed": false,
     "input": [
      "F.values"
     ],
     "language": "python",
     "metadata": {},
     "outputs": [
      {
       "output_type": "pyout",
       "prompt_number": 33,
       "text": [
        "{'acosi_i': 1.492994946977472353,\n",
        " 'acosi_o': 91.603991437834297228,\n",
        " 'asini_i': 1.2175286545573546351,\n",
        " 'asini_o': 74.672686443826071012,\n",
        " 'const': 2.8431724712294179384e-05,\n",
        " 'delta_lan': 6.0649953876393786824e-06,\n",
        " 'eps1_i': -9.1727951191818730553e-05,\n",
        " 'eps1_o': -0.0034621092605997573357,\n",
        " 'eps2_i': 0.00068558302011568753088,\n",
        " 'eps2_o': 0.035186334226658369562,\n",
        " 'f0error': 2.4943269318421438148e-05,\n",
        " 'f1error': 1.0374157007447983541e-14,\n",
        " 'j_AO327': 0.00048750483738245861535,\n",
        " 'j_GBT1500': 1.3227092786417492107e-05,\n",
        " 'j_GBT350': 0.00016996219966908960149,\n",
        " 'j_GBT820': 1.4009049459777801381e-05,\n",
        " 'j_WSRT1400': -4.92567083706698894e-05,\n",
        " 'pb_i': 1.6294016368878408767,\n",
        " 'pb_o': 327.25746940528566817,\n",
        " 'q_i': 0.13737778084167010942,\n",
        " 'tasc_i': 0.40751917945012327212,\n",
        " 'tasc_o': 313.93558360533014662}"
       ]
      }
     ],
     "prompt_number": 33
    },
    {
     "cell_type": "code",
     "collapsed": false,
     "input": [],
     "language": "python",
     "metadata": {},
     "outputs": []
    }
   ],
   "metadata": {}
  }
 ]
}