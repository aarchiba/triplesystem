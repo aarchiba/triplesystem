{
 "metadata": {
  "name": "n-delayfit"
 },
 "nbformat": 3,
 "nbformat_minor": 0,
 "worksheets": [
  {
   "cells": [
    {
     "cell_type": "code",
     "collapsed": false,
     "input": [
      "import scipy.optimize\n",
      "import scipy.linalg\n",
      "\n",
      "import minuit\n",
      "\n",
      "import kepler\n",
      "import quad_integrate\n",
      "import threebody\n",
      "import minuit_wrap"
     ],
     "language": "python",
     "metadata": {},
     "outputs": [],
     "prompt_number": 8
    },
    {
     "cell_type": "code",
     "collapsed": false,
     "input": [
      "reload(minuit_wrap)\n",
      "reload(threebody)"
     ],
     "language": "python",
     "metadata": {},
     "outputs": [
      {
       "output_type": "pyout",
       "prompt_number": 9,
       "text": [
        "<module 'threebody' from 'threebody.pyc'>"
       ]
      }
     ],
     "prompt_number": 9
    },
    {
     "cell_type": "code",
     "collapsed": false,
     "input": [
      "best_parameters_this_code = {'acosi_i': 1.492994946977472353,\n",
      " 'acosi_o': 91.603991437834297228,\n",
      " 'asini_i': 1.2175286545573546351,\n",
      " 'asini_o': 74.672686443826071012,\n",
      " 'const': 2.8431724712294179384e-05,\n",
      " 'delta_lan': 6.0649953876393786824e-06,\n",
      " 'eps2_i': -9.1727951191818730553e-05,\n",
      " 'eps2_o': -0.0034621092605997573357,\n",
      " 'eps1_i': 0.00068558302011568753088,\n",
      " 'eps1_o': 0.035186334226658369562,\n",
      " 'f0error': 2.4943269318421438148e-05,\n",
      " 'f1error': 1.0374157007447983541e-14,\n",
      " 'j_AO327': 0.00048750483738245861535,\n",
      " 'j_GBT1500': 1.3227092786417492107e-05,\n",
      " 'j_GBT350': 0.00016996219966908960149,\n",
      " 'j_GBT820': 1.4009049459777801381e-05,\n",
      " 'j_WSRT1400': -4.92567083706698894e-05,\n",
      " 'pb_i': 1.6294016368878408767,\n",
      " 'pb_o': 327.25746940528566817,\n",
      " 'q_i': 0.13737778084167010942,\n",
      " 'tasc_i': 0.40751917945012327212,\n",
      " 'tasc_o': 313.93558360533014662}\n",
      "best_errors_this_code = {'acosi_i': 8.419958365014049e-08,\n",
      " 'acosi_o': 0.00014779456857638378,\n",
      " 'asini_i': 1.1197343607810618e-08,\n",
      " 'asini_o': 4.1838147042122145e-08,\n",
      " 'const': 1.8758045094492212e-08,\n",
      " 'delta_lan': 3.567365241160437e-06,\n",
      " 'eps2_i': 1.467566065209281e-08,\n",
      " 'eps2_o': 4.4362805086288643e-10,\n",
      " 'eps1_i': 1.1001315856011326e-08,\n",
      " 'eps1_o': 2.565259157996876e-10,\n",
      " 'f0error': 1.991787826011919e-19,\n",
      " 'f1error': 1.270605970363864e-24,\n",
      " 'j_AO327': 1.9832670570287805e-08,\n",
      " 'j_GBT1500': 1.5529909431843252e-08,\n",
      " 'j_GBT350': 1.990545102605825e-08,\n",
      " 'j_GBT820': 1.9747997005895685e-08,\n",
      " 'j_WSRT1400': 1.831913037469575e-08,\n",
      " 'pb_i': 6.887761644992787e-11,\n",
      " 'pb_o': 8.528319370274854e-08,\n",
      " 'q_i': 1.1059537232778617e-08,\n",
      " 'tasc_i': 6.559163206682185e-09,\n",
      " 'tasc_o': 4.289364824022555e-08}"
     ],
     "language": "python",
     "metadata": {},
     "outputs": [],
     "prompt_number": 22
    },
    {
     "cell_type": "code",
     "collapsed": false,
     "input": [
      "(mjds, delays, tel_list, \n",
      "    tels, uncerts) = threebody.load_data(\n",
      "        doppler_correct=False)"
     ],
     "language": "python",
     "metadata": {},
     "outputs": [],
     "prompt_number": 23
    },
    {
     "cell_type": "code",
     "collapsed": false,
     "input": [
      "tmatrix, lin_params = threebody.trend_matrix(mjds, \n",
      "        tel_list, tels)"
     ],
     "language": "python",
     "metadata": {},
     "outputs": [],
     "prompt_number": 24
    },
    {
     "cell_type": "code",
     "collapsed": false,
     "input": [
      "def resids(asini_i, pb_i, eps1_i, eps2_i, tasc_i, \n",
      "            acosi_i, q_i,\n",
      "            asini_o, pb_o, eps1_o, eps2_o, tasc_o, \n",
      "            acosi_o, delta_lan,\n",
      "            const, f0error, f1error, \n",
      "            j_AO327, j_GBT1500, j_GBT350, \n",
      "            j_GBT820, j_WSRT1400):\n",
      "    p = (asini_i, pb_i, eps1_i, eps2_i, tasc_i, \n",
      "            acosi_i, q_i,\n",
      "            asini_o, pb_o, eps1_o, eps2_o, tasc_o, \n",
      "            acosi_o, delta_lan)\n",
      "    l = (const, f0error, f1error, \n",
      "            j_AO327, j_GBT1500, j_GBT350, \n",
      "            j_GBT820, j_WSRT1400)\n",
      "    #print p,l\n",
      "    ngd = np.dot(tmatrix,l)\n",
      "    gd = delays - ngd\n",
      "    ts = mjds-gd/86400.\n",
      "    ep = 0\n",
      "    ts[ts<ep] = ep\n",
      "    o = threebody.compute_orbit(p,ts)\n",
      "    return delays - (o[\"delays\"] + ngd)\n",
      "def mfun(asini_i, pb_i, eps1_i, eps2_i, tasc_i, \n",
      "            acosi_i, q_i,\n",
      "            asini_o, pb_o, eps1_o, eps2_o, tasc_o, \n",
      "            acosi_o, delta_lan,\n",
      "            const, f0error, f1error, \n",
      "            j_AO327, j_GBT1500, j_GBT350, \n",
      "            j_GBT820, j_WSRT1400):\n",
      "    r = resids(asini_i, pb_i, eps1_i, eps2_i, tasc_i, \n",
      "            acosi_i, q_i,\n",
      "            asini_o, pb_o, eps1_o, eps2_o, tasc_o, \n",
      "            acosi_o, delta_lan,\n",
      "            const, f0error, f1error, \n",
      "            j_AO327, j_GBT1500, j_GBT350, \n",
      "            j_GBT820, j_WSRT1400)\n",
      "    return np.sum((r/uncerts)**2)\n"
     ],
     "language": "python",
     "metadata": {},
     "outputs": [],
     "prompt_number": 25
    },
    {
     "cell_type": "code",
     "collapsed": false,
     "input": [
      "F = minuit_wrap.Fitter(mfun)"
     ],
     "language": "python",
     "metadata": {},
     "outputs": [],
     "prompt_number": 26
    },
    {
     "cell_type": "code",
     "collapsed": false,
     "input": [
      "for p,v in zip(F.parameters,threebody.best_parameters):\n",
      "    F.values[p] = v\n",
      "for p,v in zip(F.parameters,threebody.best_errors):\n",
      "    F.errors[p] = v\n"
     ],
     "language": "python",
     "metadata": {},
     "outputs": [],
     "prompt_number": 27
    },
    {
     "cell_type": "code",
     "collapsed": false,
     "input": [
      "for p,v in zip(\n",
      "        F.parameters[len(threebody.best_parameters):],\n",
      "        x):\n",
      "    F.values[p] = v"
     ],
     "language": "python",
     "metadata": {},
     "outputs": [
      {
       "ename": "NameError",
       "evalue": "name 'x' is not defined",
       "output_type": "pyerr",
       "traceback": [
        "\u001b[0;31m---------------------------------------------------------------------------\u001b[0m\n\u001b[0;31mNameError\u001b[0m                                 Traceback (most recent call last)",
        "\u001b[0;32m<ipython-input-28-e0750b5b748a>\u001b[0m in \u001b[0;36m<module>\u001b[0;34m()\u001b[0m\n\u001b[1;32m      1\u001b[0m for p,v in zip(\n\u001b[1;32m      2\u001b[0m         \u001b[0mF\u001b[0m\u001b[0;34m.\u001b[0m\u001b[0mparameters\u001b[0m\u001b[0;34m[\u001b[0m\u001b[0mlen\u001b[0m\u001b[0;34m(\u001b[0m\u001b[0mthreebody\u001b[0m\u001b[0;34m.\u001b[0m\u001b[0mbest_parameters\u001b[0m\u001b[0;34m)\u001b[0m\u001b[0;34m:\u001b[0m\u001b[0;34m]\u001b[0m\u001b[0;34m,\u001b[0m\u001b[0;34m\u001b[0m\u001b[0m\n\u001b[0;32m----> 3\u001b[0;31m         x):\n\u001b[0m\u001b[1;32m      4\u001b[0m     \u001b[0mF\u001b[0m\u001b[0;34m.\u001b[0m\u001b[0mvalues\u001b[0m\u001b[0;34m[\u001b[0m\u001b[0mp\u001b[0m\u001b[0;34m]\u001b[0m \u001b[0;34m=\u001b[0m \u001b[0mv\u001b[0m\u001b[0;34m\u001b[0m\u001b[0m\n",
        "\u001b[0;31mNameError\u001b[0m: name 'x' is not defined"
       ]
      }
     ],
     "prompt_number": 28
    },
    {
     "cell_type": "code",
     "collapsed": false,
     "input": [
      "print lin_params"
     ],
     "language": "python",
     "metadata": {},
     "outputs": [
      {
       "output_type": "stream",
       "stream": "stdout",
       "text": [
        "['const', 'f0error', 'f1error', 'j_AO327', 'j_GBT1500', 'j_GBT350', 'j_GBT820', 'j_WSRT1400']\n"
       ]
      }
     ],
     "prompt_number": 29
    },
    {
     "cell_type": "code",
     "collapsed": false,
     "input": [
      "F.errors['const'] = 1e-8\n",
      "F.errors['f0error'] = 1e-19\n",
      "F.errors['f1error'] = 1e-24\n",
      "for n in lin_params:\n",
      "    if n.startswith(\"j_\"):\n",
      "        F.errors[n] = 1e-8"
     ],
     "language": "python",
     "metadata": {},
     "outputs": [],
     "prompt_number": 30
    },
    {
     "cell_type": "code",
     "collapsed": false,
     "input": [
      "for p in F.parameters:\n",
      "    F.values[p] = best_parameters_this_code[p]\n",
      "    F.errors[p] = best_errors_this_code[p]"
     ],
     "language": "python",
     "metadata": {},
     "outputs": [],
     "prompt_number": 31
    },
    {
     "cell_type": "code",
     "collapsed": false,
     "input": [
      "F.set_normalization()"
     ],
     "language": "python",
     "metadata": {},
     "outputs": [],
     "prompt_number": 32
    },
    {
     "cell_type": "code",
     "collapsed": false,
     "input": [
      "F.printMode = 3\n",
      "F.strategy = 2\n",
      "F.eps = 1e-10\n",
      "F.tol = 100\n",
      "F.up = np.sqrt(44125.159585404094539/len(mjds))"
     ],
     "language": "python",
     "metadata": {},
     "outputs": [],
     "prompt_number": 34
    },
    {
     "cell_type": "code",
     "collapsed": false,
     "input": [
      "F.migrad()"
     ],
     "language": "python",
     "metadata": {},
     "outputs": [],
     "prompt_number": 35
    },
    {
     "cell_type": "code",
     "collapsed": false,
     "input": [
      "F.best_values"
     ],
     "language": "python",
     "metadata": {},
     "outputs": [
      {
       "output_type": "pyout",
       "prompt_number": 36,
       "text": [
        "{'acosi_i': 1.4929949464896041636,\n",
        " 'acosi_o': 91.603994257191975283,\n",
        " 'asini_i': 1.2175286546188969497,\n",
        " 'asini_o': 74.672686443017899482,\n",
        " 'const': 2.8431675905798838936e-05,\n",
        " 'delta_lan': 6.0165184084501119907e-06,\n",
        " 'eps1_i': 0.00068558311260452149281,\n",
        " 'eps1_o': 0.03518633422999966005,\n",
        " 'eps2_i': -9.1728001795492570165e-05,\n",
        " 'eps2_o': -0.0034621092610966871467,\n",
        " 'f0error': 2.4943269318421250312e-05,\n",
        " 'f1error': 1.0374157007482400636e-14,\n",
        " 'j_AO327': 0.00048750485164911145207,\n",
        " 'j_GBT1500': 1.3227096189166306151e-05,\n",
        " 'j_GBT350': 0.00016996219952873911035,\n",
        " 'j_GBT820': 1.4008959114200585093e-05,\n",
        " 'j_WSRT1400': -4.9256749280859596128e-05,\n",
        " 'pb_i': 1.629401636888116228,\n",
        " 'pb_o': 327.25746940431410117,\n",
        " 'q_i': 0.13737778105929988031,\n",
        " 'tasc_i': 0.40751917950794010087,\n",
        " 'tasc_o': 313.93558360492420059}"
       ]
      }
     ],
     "prompt_number": 36
    },
    {
     "cell_type": "code",
     "collapsed": false,
     "input": [
      "F.values"
     ],
     "language": "python",
     "metadata": {},
     "outputs": [
      {
       "output_type": "pyout",
       "prompt_number": 37,
       "text": [
        "{'acosi_i': 1.4929949464896041636,\n",
        " 'acosi_o': 91.603994257191975283,\n",
        " 'asini_i': 1.2175286546188969497,\n",
        " 'asini_o': 74.672686443017899482,\n",
        " 'const': 2.8431675905798838936e-05,\n",
        " 'delta_lan': 6.0165184084501119907e-06,\n",
        " 'eps1_i': 0.00068558311260452149281,\n",
        " 'eps1_o': 0.03518633422999966005,\n",
        " 'eps2_i': -9.1728001795492570165e-05,\n",
        " 'eps2_o': -0.0034621092610966871467,\n",
        " 'f0error': 2.4943269318421438133e-05,\n",
        " 'f1error': 1.0374157007482400636e-14,\n",
        " 'j_AO327': 0.00048750485164911145207,\n",
        " 'j_GBT1500': 1.3227096189166306151e-05,\n",
        " 'j_GBT350': 0.00016996219952873911035,\n",
        " 'j_GBT820': 1.4008959114200585093e-05,\n",
        " 'j_WSRT1400': -4.9256749280859596128e-05,\n",
        " 'pb_i': 1.629401636888116228,\n",
        " 'pb_o': 327.25746940431410117,\n",
        " 'q_i': 0.13737778105929988031,\n",
        " 'tasc_i': 0.40751917950794010087,\n",
        " 'tasc_o': 313.93558360492420059}"
       ]
      }
     ],
     "prompt_number": 37
    },
    {
     "cell_type": "code",
     "collapsed": false,
     "input": [
      "F.hesse()"
     ],
     "language": "python",
     "metadata": {},
     "outputs": [],
     "prompt_number": 87
    },
    {
     "cell_type": "code",
     "collapsed": false,
     "input": [
      "F.errors"
     ],
     "language": "python",
     "metadata": {},
     "outputs": [
      {
       "output_type": "pyout",
       "prompt_number": 38,
       "text": [
        "{'acosi_i': 1.5101278333193462e-07,\n",
        " 'acosi_o': 0.0002666618668256968,\n",
        " 'asini_i': 1.2006928511641952e-08,\n",
        " 'asini_o': 5.2317991404260006e-08,\n",
        " 'const': 4.0715720966437245e-08,\n",
        " 'delta_lan': 3.986264737772277e-06,\n",
        " 'eps1_i': 1.3239092960341052e-08,\n",
        " 'eps1_o': 3.629625618654749e-10,\n",
        " 'eps2_i': 1.649831956706592e-08,\n",
        " 'eps2_o': 4.95807173035209e-10,\n",
        " 'f0error': 4.583554012474644e-19,\n",
        " 'f1error': 2.101279436509343e-24,\n",
        " 'j_AO327': 4.4893015952221626e-08,\n",
        " 'j_GBT1500': 2.241137487239338e-08,\n",
        " 'j_GBT350': 4.5693997294771616e-08,\n",
        " 'j_GBT820': 4.402596652141316e-08,\n",
        " 'j_WSRT1400': 3.3238852334799596e-08,\n",
        " 'pb_i': 7.686605188351874e-11,\n",
        " 'pb_o': 1.101189717013365e-07,\n",
        " 'q_i': 2.012669694932034e-08,\n",
        " 'tasc_i': 7.693666018470265e-09,\n",
        " 'tasc_o': 5.8841190907489816e-08}"
       ]
      }
     ],
     "prompt_number": 38
    },
    {
     "cell_type": "code",
     "collapsed": false,
     "input": [
      "threebody.report(F)"
     ],
     "language": "python",
     "metadata": {},
     "outputs": [
      {
       "output_type": "stream",
       "stream": "stdout",
       "text": [
        "asini_i 1.217528655(12)e0\n",
        "pb_i 1.62940163689(8)e0\n",
        "eps1_i 6.85583(13)e-4\n",
        "eps2_i -9.1728(16)e-5\n",
        "tasc_i 4.07519180(8)e-1\n",
        "acosi_i 1.49299495(15)e0\n",
        "q_i 1.3737778(2)e-1\n",
        "asini_o 7.467268644(5)e1\n",
        "pb_o 3.2725746940(11)e2\n",
        "eps1_o 3.51863342(4)e-2\n",
        "eps2_o -3.4621093(5)e-3\n",
        "tasc_o 3.1393558360(6)e2\n",
        "acosi_o 9.16040(3)e1\n",
        "delta_lan 6(4)e-6\n",
        "const 2.843(4)e-5\n",
        "f0error 2.49432693184214(5)e-5\n",
        "f1error 1.0374157007(2)e-14\n",
        "j_AO327 4.8750(4)e-4\n",
        "j_GBT1500 1.323(2)e-5\n",
        "j_GBT350 1.6996(5)e-4\n",
        "j_GBT820 1.401(4)e-5\n",
        "j_WSRT1400 -4.926(3)e-5\n",
        "\n",
        "asini_i delta_lan -0.505214348571\n",
        "\n",
        "pb_i delta_lan -0.608027805158\n",
        "\n",
        "eps1_i tasc_i 0.736826403806\n",
        "\n",
        "\n",
        "\n",
        "acosi_i q_i 0.605847471425\n",
        "\n",
        "\n",
        "asini_o delta_lan 0.803580824322\n",
        "asini_o f1error -0.586141570845\n",
        "\n",
        "pb_o eps2_o -0.558962479709\n",
        "pb_o tasc_o 0.525018079078\n",
        "\n",
        "\n",
        "\n",
        "\n",
        "\n",
        "\n",
        "\n",
        "\n",
        "\n",
        "\n",
        "\n",
        "\n",
        "\n"
       ]
      }
     ],
     "prompt_number": 39
    },
    {
     "cell_type": "code",
     "collapsed": false,
     "input": [
      "F.errors[F.parameters[14]]"
     ],
     "language": "python",
     "metadata": {},
     "outputs": [
      {
       "output_type": "pyout",
       "prompt_number": 95,
       "text": [
        "3.5672427389753936e-08"
       ]
      }
     ],
     "prompt_number": 95
    },
    {
     "cell_type": "code",
     "collapsed": false,
     "input": [
      "f = np.float128\n",
      "(f(56000+f(1e-9)/86400.)-56000)*86400"
     ],
     "language": "python",
     "metadata": {},
     "outputs": [
      {
       "output_type": "pyout",
       "prompt_number": 100,
       "text": [
        "9.2086338554508984089e-10"
       ]
      }
     ],
     "prompt_number": 100
    },
    {
     "cell_type": "code",
     "collapsed": false,
     "input": [
      "F.values"
     ],
     "language": "python",
     "metadata": {},
     "outputs": [
      {
       "output_type": "pyout",
       "prompt_number": 103,
       "text": [
        "{'acosi_i': 1.4929949469774723703,\n",
        " 'acosi_o': 91.603991437834295652,\n",
        " 'asini_i': 1.2175286545573547059,\n",
        " 'asini_o': 74.672686443826066238,\n",
        " 'const': 2.843172471229417952e-05,\n",
        " 'delta_lan': 6.0649953876393784277e-06,\n",
        " 'eps1_i': -9.1727951191818734894e-05,\n",
        " 'eps1_o': -0.003462109260599757158,\n",
        " 'eps2_i': 0.00068558302011568757021,\n",
        " 'eps2_o': 0.035186334226658372293,\n",
        " 'f0error': 2.494326931842143742e-05,\n",
        " 'f1error': 1.0374157007447983187e-14,\n",
        " 'j_AO327': 0.00048750483738245860765,\n",
        " 'j_GBT1500': 1.3227092786417491362e-05,\n",
        " 'j_GBT350': 0.00016996219966908959493,\n",
        " 'j_GBT820': 1.4009049459777801546e-05,\n",
        " 'j_WSRT1400': -4.9256708370669892308e-05,\n",
        " 'pb_i': 1.6294016368878407874,\n",
        " 'pb_o': 327.25746940528568985,\n",
        " 'q_i': 0.13737778084167009962,\n",
        " 'tasc_i': 0.40751917945012328115,\n",
        " 'tasc_o': 313.93558360533012319}"
       ]
      }
     ],
     "prompt_number": 103
    },
    {
     "cell_type": "code",
     "collapsed": false,
     "input": [
      "mfun(**F.values)"
     ],
     "language": "python",
     "metadata": {},
     "outputs": [
      {
       "output_type": "pyout",
       "prompt_number": 104,
       "text": [
        "44125.159585404094539"
       ]
      }
     ],
     "prompt_number": 104
    },
    {
     "cell_type": "code",
     "collapsed": false,
     "input": [
      "mfun(**{'acosi_i': 1.4929949469774723703,\n",
      " 'acosi_o': 91.603991437834295652,\n",
      " 'asini_i': 1.2175286545573547059,\n",
      " 'asini_o': 74.672686443826066238,\n",
      " 'const': 2.843172471229417952e-05,\n",
      " 'delta_lan': 6.0649953876393784277e-06,\n",
      " 'eps2_i': -9.1727951191818734894e-05, # reverse eps1 and eps2\n",
      " 'eps2_o': -0.003462109260599757158,\n",
      " 'eps1_i': 0.00068558302011568757021,\n",
      " 'eps1_o': 0.035186334226658372293,\n",
      " 'f0error': 2.494326931842143742e-05,\n",
      " 'f1error': 1.0374157007447983187e-14,\n",
      " 'j_AO327': 0.00048750483738245860765,\n",
      " 'j_GBT1500': 1.3227092786417491362e-05,\n",
      " 'j_GBT350': 0.00016996219966908959493,\n",
      " 'j_GBT820': 1.4009049459777801546e-05,\n",
      " 'j_WSRT1400': -4.9256708370669892308e-05,\n",
      " 'pb_i': 1.6294016368878407874,\n",
      " 'pb_o': 327.25746940528568985,\n",
      " 'q_i': 0.13737778084167009962,\n",
      " 'tasc_i': 0.40751917945012328115,\n",
      " 'tasc_o': 313.93558360533012319})"
     ],
     "language": "python",
     "metadata": {},
     "outputs": [
      {
       "output_type": "pyout",
       "prompt_number": 21,
       "text": [
        "44125.159723302199378"
       ]
      }
     ],
     "prompt_number": 21
    },
    {
     "cell_type": "code",
     "collapsed": false,
     "input": [
      "plt.plot(mjds, resids(**F.values))"
     ],
     "language": "python",
     "metadata": {},
     "outputs": [
      {
       "output_type": "pyout",
       "prompt_number": 20,
       "text": [
        "[<matplotlib.lines.Line2D at 0x4382ed0>]"
       ]
      },
      {
       "output_type": "display_data",
       "png": "[encoded data removed]"
      }
     ],
     "prompt_number": 20
    },
    {
     "cell_type": "code",
     "collapsed": false,
     "input": [],
     "language": "python",
     "metadata": {},
     "outputs": []
    }
   ],
   "metadata": {}
  }
 ]
}