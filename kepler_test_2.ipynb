{
 "metadata": {
  "name": "kepler_test_2"
 },
 "nbformat": 3,
 "nbformat_minor": 0,
 "worksheets": [
  {
   "cells": [
    {
     "cell_type": "code",
     "collapsed": false,
     "input": [
      "import functools\n",
      "\n",
      "import scipy.optimize\n",
      "\n",
      "import minuit\n",
      "\n",
      "import kepler\n",
      "import quad_integrate\n",
      "import threebody"
     ],
     "language": "python",
     "metadata": {},
     "outputs": [],
     "prompt_number": 1
    },
    {
     "cell_type": "code",
     "collapsed": false,
     "input": [
      "(asini_i, pb_i, eps1_i, eps2_i, tasc_i, \n",
      "            acosi_i, q_i,\n",
      "            asini_o, pb_o, eps1_o, eps2_o, tasc_o, \n",
      "            acosi_o, delta_lan) = threebody.best_parameters"
     ],
     "language": "python",
     "metadata": {},
     "outputs": [],
     "prompt_number": 6
    },
    {
     "cell_type": "markdown",
     "metadata": {},
     "source": [
      "Check z=0 at tasc"
     ]
    },
    {
     "cell_type": "code",
     "collapsed": false,
     "input": [
      "s=kepler.kepler_three_body_measurable(*(threebody.best_parameters+[0,np.zeros(3),np.zeros(3),tasc_o]))[0]\n",
      "print s[16]\n",
      "print s[19] # should be negative because this is not the pulsar"
     ],
     "language": "python",
     "metadata": {},
     "outputs": [
      {
       "output_type": "stream",
       "stream": "stdout",
       "text": [
        "0.0\n",
        "-5.69834035151\n"
       ]
      }
     ],
     "prompt_number": 12
    },
    {
     "cell_type": "code",
     "collapsed": false,
     "input": [
      "s=kepler.kepler_three_body_measurable(*(threebody.best_parameters+[0,np.zeros(3),np.zeros(3),tasc_i]))[0]\n",
      "print s[2]-s[9]\n",
      "print s[5]-s[12] # should be positive"
     ],
     "language": "python",
     "metadata": {},
     "outputs": [
      {
       "output_type": "stream",
       "stream": "stdout",
       "text": [
        "0.0\n",
        "38.8621272467\n"
       ]
      }
     ],
     "prompt_number": 13
    },
    {
     "cell_type": "markdown",
     "metadata": {},
     "source": [
      "Check periapsis at T0"
     ]
    },
    {
     "cell_type": "code",
     "collapsed": false,
     "input": [
      "# WARNING WARNING WARNING: kepler.py exhanges eps1 and eps2 relative to TEMPO's ELL1 model. \n",
      "asini_i, pb_i, e_i, om_i, t0_i = kepler.btx_parameters(asini_i, pb_i, eps1_i, eps2_i, tasc_i)\n",
      "asini_o, pb_o, e_o, om_o, t0_o = kepler.btx_parameters(asini_o, pb_o, eps1_o, eps2_o, tasc_o)\n",
      "#s = o[\"states\"][i]\n",
      "#cm_i = (s[:6]*s[6]+s[7:13]*s[13])/(s[6]+s[13])\n"
     ],
     "language": "python",
     "metadata": {},
     "outputs": [],
     "prompt_number": 20
    },
    {
     "cell_type": "code",
     "collapsed": false,
     "input": [
      "def d_i(t):\n",
      "    s = kepler.kepler_three_body_measurable(*(threebody.best_parameters+[0,np.zeros(3),np.zeros(3),t]))[0]\n",
      "    d = s[:3]-s[7:10]\n",
      "    return np.sqrt(np.dot(d,d))\n",
      "def d_o(t):\n",
      "    s = kepler.kepler_three_body_measurable(*(threebody.best_parameters+[0,np.zeros(3),np.zeros(3),t]))[0]\n",
      "    cm_i = (s[:6]*s[6]+s[7:13]*s[13])/(s[6]+s[13])\n",
      "    d = s[14:17]-cm_i[:3]\n",
      "    return np.sqrt(np.dot(d,d))\n"
     ],
     "language": "python",
     "metadata": {},
     "outputs": [],
     "prompt_number": 21
    },
    {
     "cell_type": "code",
     "collapsed": false,
     "input": [
      "reload(kepler)\n",
      "t0_val = d_i(t0_i)\n",
      "ts = np.linspace(0,pb_i,1000)\n",
      "ds = [d_i(t) for t in ts]\n",
      "plt.plot(ts, ds)\n",
      "plt.axhline(t0_val)\n",
      "plt.axvline(t0_i%pb_i)\n",
      "print t0_val, np.amin(ds)"
     ],
     "language": "python",
     "metadata": {},
     "outputs": [
      {
       "output_type": "stream",
       "stream": "stdout",
       "text": [
        "15.9359326214 15.935932676\n"
       ]
      },
      {
       "output_type": "display_data",
       "png": "[encoded data removed]"
      }
     ],
     "prompt_number": 24
    },
    {
     "cell_type": "code",
     "collapsed": false,
     "input": [],
     "language": "python",
     "metadata": {},
     "outputs": [],
     "prompt_number": 18
    },
    {
     "cell_type": "code",
     "collapsed": false,
     "input": [],
     "language": "python",
     "metadata": {},
     "outputs": []
    }
   ],
   "metadata": {}
  }
 ]
}