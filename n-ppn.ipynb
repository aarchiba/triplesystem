{
 "metadata": {
  "name": "n-ppn"
 },
 "nbformat": 3,
 "nbformat_minor": 0,
 "worksheets": [
  {
   "cells": [
    {
     "cell_type": "markdown",
     "metadata": {},
     "source": [
      "Incorporating post-Newtonian motion\n",
      "==================================="
     ]
    },
    {
     "cell_type": "markdown",
     "metadata": {},
     "source": [
      "Nordtvedt 1985 works out the Lagrangian for motion in a parameterized post-Newtonian framework. Given such a Lagrangian $L$, the motion of each body is governed by\n",
      "$$\n",
      "\\frac{d}{dt}\\left(\\frac{\\partial L}{\\partial v_i}\\right) = \\frac{\\partial L}{\\partial r_i}.\n",
      "$$\n",
      "This Lagrangian is given by\n",
      "$$\n",
      "L = -\\sum_i M(I)_i\\left(1-\\frac{v_i^2}{2}-\\frac{v_i^4}{8}\\right) + \\frac{1}{2}\\sum_{i,j}\\frac{\\Gamma_{ij}}{r_{ij}}\\left(1+\\frac{v_i^2+v_j^2}{2}-\\frac{3v_i\\cdot v_j}{2}-\\frac{(v_i\\cdot\\hat r_{ij})(v_j\\cdot\\hat r_{ij})}{2}\\right)\n",
      "+ \\frac{\\gamma}{2}\\sum_{i,j}\\frac{\\Theta_{ij}}{r_{ij}}(v_i-v_j)^2+\\left(\\frac{1}{2}-\\beta\\right)\\sum_{i,j,k}\\frac{\\Gamma_{ijk}}{r_{ij}r_{ik}}.\n",
      "$$"
     ]
    },
    {
     "cell_type": "markdown",
     "metadata": {},
     "source": [
      "What are all these alarming constants? Well, $\\beta$ and $\\gamma$ are standard post-Newtonian parameters having the value $1$ in GR. $M(I)_i$ converges to $m_i$ if body $i$ is noncompact, and similarly if all the bodies involved are noncompact $\\Gamma_{ij}=m_im_j$, $\\Theta_{ij}=m_im_j$, and $\\Gamma_{ijk} = m_im_jm_k$. Even when non-compact, $\\Gamma_{ij}$ and $\\Theta_{ij}$ are symmetric in their indices, and $\\Gamma_{ijk}$ is symmetric in the last two indices. "
     ]
    },
    {
     "cell_type": "markdown",
     "metadata": {},
     "source": [
      "If the pulsar is the only compact body in the system, then all these parameters are specified by simply specifying a set of masses for the pulsar: $M(G)$, $M(\\gamma)$, $M(\\beta)$, $M'(\\beta)$. $M(I)$ is an inertial mass, the one that appears in $F=Ma$. $M(G)$ is the gravitational mass that appears in Kepler's laws for distant bodies. $M(\\gamma)$ is associated with the deflection of light. "
     ]
    },
    {
     "cell_type": "markdown",
     "metadata": {},
     "source": [
      "Benacquista and Nordtvedt 1988 claim that the $\\Gamma_{ijk} $ can be safely ignored: they assume a linear field. They also explain that the summation conventions are in all cases over distinct bodies. Further, they show $\\Gamma_{ij}+\\gamma \\Theta_{ij}=(1+\\gamma)M_i M_j$. Therefore with three bodies, the parameters are $\\gamma$, $M_i$, $ \\Gamma_{12} $, $ \\Gamma_{23} $, and $\\Gamma_{13}$; seven parameters seems quite manageable. They also give a formula for going to higher PPN order \"in the motions\" but not \"in the fields\", which doesn't involve any new parameters but does need more Lagrangian terms."
     ]
    },
    {
     "cell_type": "markdown",
     "metadata": {},
     "source": [
      "I think it makes sense, then, to work with the Lagrangian:\n",
      "$$\n",
      "L = -\\sum_i M(I)_i\\left(1-\\frac{v_i^2}{2}-\\frac{v_i^4}{8}\\right) + \\frac{1}{2}\\sum_{i,j}\\frac{\\Gamma_{ij}}{r_{ij}}\\left(1+\\frac{v_i^2+v_j^2}{2}-\\frac{3v_i\\cdot v_j}{2}-\\frac{(v_i\\cdot\\hat r_{ij})(v_j\\cdot\\hat r_{ij})}{2}\\right)\n",
      "+ \\frac{\\gamma}{2}\\sum_{i,j}\\frac{\\Theta_{ij}}{r_{ij}}(v_i-v_j)^2,\n",
      "$$\n",
      "leaving the $M$s, the $\\Gamma$s, and the $\\Theta$s to be specified later; they can then be specified in the code to be exactly the GR parameters, to assume only the pulsar is compact, or to allow all seven to be fit."
     ]
    },
    {
     "cell_type": "markdown",
     "metadata": {},
     "source": [
      "I think we may need to include the nonlinear-field term. This should introduce nine new variables (plus $\\beta$). In fact this term is needed to reproduce Mercury's perihelion advance, so I doubt we can do without it in the triple system. "
     ]
    },
    {
     "cell_type": "markdown",
     "metadata": {},
     "source": [
      "Let's check this against the Lagrangians in some other papers; these will mostly be GR-specific."
     ]
    },
    {
     "cell_type": "markdown",
     "metadata": {},
     "source": [
      "Damour and Schafer 1984 give a 2PN GR Lagrangian with an undetermined term; for now I'm only interested in the 1PN terms (and setting $c=G=1$:\n",
      "$$\n",
      "L = L_N + L_2,\n",
      "$$\n",
      "where\n",
      "$$\n",
      "L_N = \\frac{1}{2}\\sum_a m_a v_a^2 + \\frac{1}{2} \\sum_a \\sum_{b\\neq a} \\frac{m_a m_b}{r_{ab}}\n",
      "$$\n",
      "and\n",
      "$$\n",
      "L_2 = \\frac{1}{8}\\sum_a m_a v_a^4 + \n",
      "\\frac{1}{4}\\sum_a \\sum_{b\\neq a} \\frac{m_am_b}{r_{ab}}\\left(6v_a^2-7(v_a\\cdot v_b)-(n_{ab}\\cdot v_a)(n_{ab}\\cdot v_b)\\right)\n",
      "-\\frac{1}{2}\\sum_a \\sum_{b\\neq a} \\sum_{c\\neq a} \\frac{m_am_bm_c}{r_{ab}r_{ac}}\n",
      "$$\n",
      "They also explain how to get rid of acceleration-dependent terms, which might be relevant if I want to use Benacquista's 2PPN Lagrangian."
     ]
    },
    {
     "cell_type": "markdown",
     "metadata": {},
     "source": [
      "Now the trick is to find manageable and correct derivatives of the formula, and to convert this into a usable right-hand side for an ODE solver. Oh, and to reintroduce $G$ and $c$ as appropriate."
     ]
    },
    {
     "cell_type": "code",
     "collapsed": false,
     "input": [
      "from sympy import *\n",
      "%load_ext sympy.interactive.ipythonprinting"
     ],
     "language": "python",
     "metadata": {},
     "outputs": [
      {
       "output_type": "stream",
       "stream": "stderr",
       "text": [
        "/usr/lib/pymodules/python2.7/mpl_toolkits/__init__.py:2: UserWarning: Module dap was already imported from None, but /usr/lib/python2.7/dist-packages is being added to sys.path\n",
        "  __import__('pkg_resources').declare_namespace(__name__)\n"
       ]
      }
     ],
     "prompt_number": 1
    },
    {
     "cell_type": "code",
     "collapsed": false,
     "input": [
      "# numpy binds itself to one CPU; unbind it\n",
      "import os\n",
      "os.system(\"taskset -p 0xff %d\" % os.getpid());"
     ],
     "language": "python",
     "metadata": {},
     "outputs": [],
     "prompt_number": 2
    },
    {
     "cell_type": "code",
     "collapsed": false,
     "input": [
      "var('gamma')\n",
      "var('beta')\n",
      "ms = [Symbol('m%d' % i) for i in range(3)]\n",
      "gammas = []\n",
      "thetas = []\n",
      "gamma3s = []\n",
      "xs = []\n",
      "vs = []\n",
      "for i in range(3):\n",
      "    gammas.append([])\n",
      "    thetas.append([])\n",
      "    gamma3s.append([])\n",
      "    xs.append([])\n",
      "    vs.append([])\n",
      "    for j in range(3):\n",
      "        xs[-1].append(Symbol('x%d%d'%(i,j)))\n",
      "        vs[-1].append(Symbol('v%d%d'%(i,j)))\n",
      "        gamma3s[-1].append([])\n",
      "        if i==j:\n",
      "            gammas[-1].append(0)\n",
      "            thetas[-1].append(0)\n",
      "        else:\n",
      "            gammas[-1].append(Symbol('Gamma%d%d' % (min(i,j),max(i,j))))\n",
      "            thetas[-1].append(Symbol('Theta%d%d' % (min(i,j),max(i,j))))\n",
      "        for k in range(3):\n",
      "            if i==j or i==k:\n",
      "                gamma3s[-1][-1].append(0)\n",
      "            else:    \n",
      "                gamma3s[-1][-1].append(Symbol('Gamma%d%d%d' % (i,min(j,k),max(j,k))))"
     ],
     "language": "python",
     "metadata": {},
     "outputs": [],
     "prompt_number": 3
    },
    {
     "cell_type": "code",
     "collapsed": false,
     "input": [
      "mag_vs_sq = []\n",
      "mag_vs_sq_f = []\n",
      "for i in range(3):\n",
      "    mag_vs_sq.append(Symbol('vs%d' % i))\n",
      "    mag_vs_sq_f.append(0)\n",
      "    for j in range(3):\n",
      "        mag_vs_sq_f[-1] += vs[i][j]*vs[i][j]"
     ],
     "language": "python",
     "metadata": {},
     "outputs": [],
     "prompt_number": 4
    },
    {
     "cell_type": "code",
     "collapsed": false,
     "input": [
      "Lm = 0\n",
      "for i in range(3):\n",
      "    Lm += -ms[i]*(1-mag_vs_sq[i]/2-mag_vs_sq[i]**2/8)\n",
      "Lm"
     ],
     "language": "python",
     "metadata": {},
     "outputs": [
      {
       "latex": [
        "$$- m_{0} \\left(- \\frac{1}{8} vs_{0}^{2} - \\frac{1}{2} vs_{0} + 1\\right) - m_{1} \\left(- \\frac{1}{8} vs_{1}^{2} - \\frac{1}{2} vs_{1} + 1\\right) - m_{2} \\left(- \\frac{1}{8} vs_{2}^{2} - \\frac{1}{2} vs_{2} + 1\\right)$$"
       ],
       "output_type": "pyout",
       "png": "[encoded data removed]",
       "prompt_number": 5,
       "text": [
        "     \u239b     2          \u239e      \u239b     2          \u239e      \u239b     2          \u239e\n",
        "     \u239c  vs\u2080    vs\u2080    \u239f      \u239c  vs\u2081    vs\u2081    \u239f      \u239c  vs\u2082    vs\u2082    \u239f\n",
        "- m\u2080\u22c5\u239c- \u2500\u2500\u2500\u2500 - \u2500\u2500\u2500 + 1\u239f - m\u2081\u22c5\u239c- \u2500\u2500\u2500\u2500 - \u2500\u2500\u2500 + 1\u239f - m\u2082\u22c5\u239c- \u2500\u2500\u2500\u2500 - \u2500\u2500\u2500 + 1\u239f\n",
        "     \u239d   8      2     \u23a0      \u239d   8      2     \u23a0      \u239d   8      2     \u23a0"
       ]
      }
     ],
     "prompt_number": 5
    },
    {
     "cell_type": "code",
     "collapsed": false,
     "input": [
      "mag_r = []\n",
      "mag_r_f = []\n",
      "for i in range(3):\n",
      "    mag_r.append([])\n",
      "    mag_r_f.append([])\n",
      "    for j in range(3):\n",
      "        if i==j:\n",
      "            mag_r[-1].append(0)\n",
      "            mag_r_f[-1].append(0)\n",
      "        else:    \n",
      "            mag_r[-1].append(Symbol('r%d%d'%(min(i,j),max(i,j))))\n",
      "            mag_r_f[-1].append(0)\n",
      "                         \n",
      "            for k in range(3):\n",
      "                mag_r_f[-1][-1] += (xs[i][k]-xs[j][k])**2\n",
      "            mag_r_f[-1][-1] **= Rational(1,2)"
     ],
     "language": "python",
     "metadata": {},
     "outputs": [],
     "prompt_number": 6
    },
    {
     "cell_type": "code",
     "collapsed": false,
     "input": [
      "Lt = 0\n",
      "for i in range(3):\n",
      "    for j in range(3):\n",
      "        if i==j:\n",
      "            continue\n",
      "        nsq = 0\n",
      "        for k in range(3):\n",
      "            nsq += (vs[i][k]-vs[j][k])**2\n",
      "        Lt += gamma/2*thetas[i][j]/mag_r[i][j]*nsq\n",
      "#Lt"
     ],
     "language": "python",
     "metadata": {},
     "outputs": [],
     "prompt_number": 7
    },
    {
     "cell_type": "code",
     "collapsed": false,
     "input": [
      "Lg = 0\n",
      "for i in range(3):\n",
      "    for j in range(3):\n",
      "        if i==j:\n",
      "            continue\n",
      "        brack = 1 + (mag_vs_sq[i]+mag_vs_sq[j])/2\n",
      "        b3a = 0\n",
      "        b3b = 0\n",
      "        for k in range(3):\n",
      "            brack += -Rational(3,2)*(vs[i][k]*vs[j][k])\n",
      "            b3a += vs[i][k]*(xs[i][k]-xs[j][k])/mag_r[i][j]\n",
      "            b3b += vs[j][k]*(xs[i][k]-xs[j][k])/mag_r[i][j] # FIXME: check the sign here\n",
      "        brack += -Rational(1,2)*b3a*b3b\n",
      "        Lg += Rational(1,2)*gammas[i][j]/mag_r[i][j]*brack\n",
      "#Lg"
     ],
     "language": "python",
     "metadata": {},
     "outputs": [],
     "prompt_number": 8
    },
    {
     "cell_type": "code",
     "collapsed": false,
     "input": [
      "Lf = 0\n",
      "for i in range(3):\n",
      "    for j in range(3):\n",
      "        if i==j:\n",
      "            continue\n",
      "        for k in range(3):\n",
      "            if i==k:\n",
      "                continue\n",
      "            Lf += (Rational(1,2)-beta)*gamma3s[i][j][k]/mag_r[i][j]/mag_r[i][k]\n",
      "#Lf"
     ],
     "language": "python",
     "metadata": {},
     "outputs": [],
     "prompt_number": 9
    },
    {
     "cell_type": "code",
     "collapsed": false,
     "input": [
      "L = Lg + Lt + Lm + Lf\n",
      "#L"
     ],
     "language": "python",
     "metadata": {},
     "outputs": [],
     "prompt_number": 10
    },
    {
     "cell_type": "code",
     "collapsed": false,
     "input": [
      "#Lt = L\n",
      "#for i in range(3):\n",
      "#    Lt = Lt.subs(xs[i][0],xs[i][0]+1)\n",
      "#Lt-L"
     ],
     "language": "python",
     "metadata": {},
     "outputs": [],
     "prompt_number": 11
    },
    {
     "cell_type": "code",
     "collapsed": false,
     "input": [
      "Lds_N = 0\n",
      "for i in range(3):\n",
      "    Lds_N += Rational(1,2)*ms[i]*mag_vs_sq[i]\n",
      "    for j in range(3):\n",
      "        if j==i:\n",
      "            continue\n",
      "        Lds_N += Rational(1,2)*ms[i]*ms[j]/mag_r[i][j]\n",
      "Lds_N"
     ],
     "language": "python",
     "metadata": {},
     "outputs": [
      {
       "latex": [
        "$$\\frac{m_{0} m_{1}}{r_{01}} + \\frac{m_{0} m_{2}}{r_{02}} + \\frac{1}{2} m_{0} vs_{0} + \\frac{m_{1} m_{2}}{r_{12}} + \\frac{1}{2} m_{1} vs_{1} + \\frac{1}{2} m_{2} vs_{2}$$"
       ],
       "output_type": "pyout",
       "png": "[encoded data removed]",
       "prompt_number": 12,
       "text": [
        "m\u2080\u22c5m\u2081   m\u2080\u22c5m\u2082   m\u2080\u22c5vs\u2080   m\u2081\u22c5m\u2082   m\u2081\u22c5vs\u2081   m\u2082\u22c5vs\u2082\n",
        "\u2500\u2500\u2500\u2500\u2500 + \u2500\u2500\u2500\u2500\u2500 + \u2500\u2500\u2500\u2500\u2500\u2500 + \u2500\u2500\u2500\u2500\u2500 + \u2500\u2500\u2500\u2500\u2500\u2500 + \u2500\u2500\u2500\u2500\u2500\u2500\n",
        " r\u2080\u2081     r\u2080\u2082      2       r\u2081\u2082      2        2   "
       ]
      }
     ],
     "prompt_number": 12
    },
    {
     "cell_type": "code",
     "collapsed": false,
     "input": [
      "Lds_2 = 0\n",
      "for i in range(3):\n",
      "    Lds_2 += Rational(1,8)*ms[i]*mag_vs_sq[i]**2\n",
      "    for j in range(3):\n",
      "        if j==i:\n",
      "            continue\n",
      "        brack = 6*mag_vs_sq[i]\n",
      "        dot1 = 0\n",
      "        dot2 = 0\n",
      "        for k in range(3):\n",
      "            brack += -7*vs[i][k]*vs[j][k]\n",
      "            dot1 += vs[i][k]*(xs[i][k]-xs[j][k])/mag_r[i][j]\n",
      "            dot2 += vs[j][k]*(xs[i][k]-xs[j][k])/mag_r[i][j]\n",
      "        brack += -dot1*dot2\n",
      "        Lds_2 += Rational(1,4)*ms[i]*ms[j]*brack/mag_r[i][j]\n",
      "        for k in range(3):\n",
      "            if k==i:\n",
      "                continue\n",
      "            Lds_2 += -Rational(1,2)*ms[i]*ms[j]*ms[k]/(mag_r[i][j]*mag_r[i][k])\n",
      "#Lds_2"
     ],
     "language": "python",
     "metadata": {},
     "outputs": [],
     "prompt_number": 13
    },
    {
     "cell_type": "code",
     "collapsed": false,
     "input": [
      "def zap_body(expr, l=2):\n",
      "    expr = expr.subs(ms[l],0)\n",
      "    for i in range(3):\n",
      "        expr = expr.subs(vs[l][i],0)\n",
      "    return expr\n",
      "def clear_vsq(expr):\n",
      "    for i in range(3):\n",
      "        expr = expr.subs(mag_vs_sq[i],mag_vs_sq_f[i])\n",
      "    return expr"
     ],
     "language": "python",
     "metadata": {},
     "outputs": [],
     "prompt_number": 14
    },
    {
     "cell_type": "code",
     "collapsed": false,
     "input": [
      "Lds = Lds_N + Lds_2\n",
      "L_GR = L.subs(beta,1).subs(gamma,1)\n",
      "for i in range(3):\n",
      "    for j in range(3):\n",
      "        if j==i:\n",
      "            continue\n",
      "        L_GR = L_GR.subs(gammas[i][j],ms[i]*ms[j]).subs(thetas[i][j],ms[i]*ms[j])\n",
      "        for k in range(3):\n",
      "            if k==i:\n",
      "                continue\n",
      "            L_GR = L_GR.subs(gamma3s[i][j][k],ms[i]*ms[j]*ms[k])\n",
      "cancel(clear_vsq(L_GR-Lds))\n",
      "\n"
     ],
     "language": "python",
     "metadata": {},
     "outputs": [
      {
       "latex": [
        "$$- m_{0} - m_{1} - m_{2}$$"
       ],
       "output_type": "pyout",
       "png": "[encoded data removed]",
       "prompt_number": 15,
       "text": [
        "-m\u2080 - m\u2081 - m\u2082"
       ]
      }
     ],
     "prompt_number": 15
    },
    {
     "cell_type": "code",
     "collapsed": false,
     "input": [],
     "language": "python",
     "metadata": {},
     "outputs": [],
     "prompt_number": 15
    },
    {
     "cell_type": "code",
     "collapsed": false,
     "input": [
      "a_s = []\n",
      "for i in range(3):\n",
      "    a_s.append([])\n",
      "    for j in range(3):\n",
      "        a_s[-1].append(Symbol(\"a_%d%d\" % (i,j)))"
     ],
     "language": "python",
     "metadata": {},
     "outputs": [],
     "prompt_number": 16
    },
    {
     "cell_type": "code",
     "collapsed": false,
     "input": [
      "def diff_mag_r_f(ii,jj,i,j):\n",
      "    if ii==jj:\n",
      "        return 0\n",
      "    if i==ii:\n",
      "        return (xs[ii][j]-xs[jj][j])/mag_r[ii][jj]\n",
      "    if i==jj:\n",
      "        return (xs[jj][j]-xs[ii][j])/mag_r[ii][jj]\n",
      "    return 0\n",
      "def partial_vs(expr,i,j):\n",
      "    r = diff(expr,vs[i][j])\n",
      "    for ii in range(3):\n",
      "        r += diff(expr,mag_vs_sq[ii])*diff(mag_vs_sq_f[ii],vs[i][j])\n",
      "    return r\n",
      "def partial_xs(expr,i,j):\n",
      "    r = diff(expr,xs[i][j])\n",
      "    for ii in range(3):\n",
      "        for jj in range(ii+1,3):\n",
      "            r += diff(expr,mag_r[ii][jj])*diff_mag_r_f(ii,jj,i,j)\n",
      "    return r\n",
      "def d_by_dt(expr):\n",
      "    r = 0\n",
      "    for i in range(3):\n",
      "        for j in range(3):\n",
      "            r += partial_vs(expr,i,j)*a_s[i][j]\n",
      "            r += partial_xs(expr,i,j)*vs[i][j]\n",
      "    return r"
     ],
     "language": "python",
     "metadata": {},
     "outputs": [],
     "prompt_number": 17
    },
    {
     "cell_type": "code",
     "collapsed": false,
     "input": [
      "#diff(mag_r_f[1][2],xs[1][2])"
     ],
     "language": "python",
     "metadata": {},
     "outputs": [],
     "prompt_number": 18
    },
    {
     "cell_type": "code",
     "collapsed": false,
     "input": [
      "#diff_mag_r_f(1,2,1,2)"
     ],
     "language": "python",
     "metadata": {},
     "outputs": [],
     "prompt_number": 19
    },
    {
     "cell_type": "code",
     "collapsed": false,
     "input": [
      "#Lg"
     ],
     "language": "python",
     "metadata": {},
     "outputs": [],
     "prompt_number": 20
    },
    {
     "cell_type": "code",
     "collapsed": false,
     "input": [
      "#partial_xs(Lg, 2,2)"
     ],
     "language": "python",
     "metadata": {},
     "outputs": [],
     "prompt_number": 21
    },
    {
     "cell_type": "code",
     "collapsed": false,
     "input": [
      "#partial_vs(mag_vs_sq[0],0,0)"
     ],
     "language": "python",
     "metadata": {},
     "outputs": [],
     "prompt_number": 22
    },
    {
     "cell_type": "markdown",
     "metadata": {},
     "source": [
      "Let's first get the conversion to equations of motion working for the Newtonian case, where we know what the answer should be."
     ]
    },
    {
     "cell_type": "code",
     "collapsed": false,
     "input": [
      "Lnm = 0\n",
      "for i in range(3):\n",
      "    Lnm += -ms[i]*(1-mag_vs_sq[i]/2)\n",
      "#Lnm\n",
      "Lng = 0\n",
      "for i in range(3):\n",
      "    for j in range(i+1,3):\n",
      "        Lng += ms[i]*ms[j]/mag_r[i][j]\n",
      "#Lng\n",
      "Ln = Lnm + Lng\n",
      "Ln"
     ],
     "language": "python",
     "metadata": {},
     "outputs": [
      {
       "latex": [
        "$$\\frac{m_{0} m_{1}}{r_{01}} + \\frac{m_{0} m_{2}}{r_{02}} - m_{0} \\left(- \\frac{1}{2} vs_{0} + 1\\right) + \\frac{m_{1} m_{2}}{r_{12}} - m_{1} \\left(- \\frac{1}{2} vs_{1} + 1\\right) - m_{2} \\left(- \\frac{1}{2} vs_{2} + 1\\right)$$"
       ],
       "output_type": "pyout",
       "png": "[encoded data removed]",
       "prompt_number": 23,
       "text": [
        "m\u2080\u22c5m\u2081   m\u2080\u22c5m\u2082      \u239b  vs\u2080    \u239e   m\u2081\u22c5m\u2082      \u239b  vs\u2081    \u239e      \u239b  vs\u2082    \u239e\n",
        "\u2500\u2500\u2500\u2500\u2500 + \u2500\u2500\u2500\u2500\u2500 - m\u2080\u22c5\u239c- \u2500\u2500\u2500 + 1\u239f + \u2500\u2500\u2500\u2500\u2500 - m\u2081\u22c5\u239c- \u2500\u2500\u2500 + 1\u239f - m\u2082\u22c5\u239c- \u2500\u2500\u2500 + 1\u239f\n",
        " r\u2080\u2081     r\u2080\u2082       \u239d   2     \u23a0    r\u2081\u2082       \u239d   2     \u23a0      \u239d   2     \u23a0"
       ]
      }
     ],
     "prompt_number": 23
    },
    {
     "cell_type": "code",
     "collapsed": false,
     "input": [
      "partial_vs(Ln,i,j)"
     ],
     "language": "python",
     "metadata": {},
     "outputs": [
      {
       "latex": [
        "$$m_{2} v_{22}$$"
       ],
       "output_type": "pyout",
       "png": "[encoded data removed]",
       "prompt_number": 24,
       "text": [
        "m\u2082\u22c5v\u2082\u2082"
       ]
      }
     ],
     "prompt_number": 24
    },
    {
     "cell_type": "code",
     "collapsed": false,
     "input": [
      "equations_n = [d_by_dt(partial_vs(Ln,i,j))-partial_xs(Ln,i,j) for i in range(3) for j in range(3)]\n",
      "equations_n[0]"
     ],
     "language": "python",
     "metadata": {},
     "outputs": [
      {
       "latex": [
        "$$a_{00} m_{0} + \\frac{m_{0} m_{1} \\left(x_{00} - x_{10}\\right)}{r_{01}^{3}} + \\frac{m_{0} m_{2} \\left(x_{00} - x_{20}\\right)}{r_{02}^{3}}$$"
       ],
       "output_type": "pyout",
       "png": "[encoded data removed]",
       "prompt_number": 25,
       "text": [
        "         m\u2080\u22c5m\u2081\u22c5(x\u2080\u2080 - x\u2081\u2080)   m\u2080\u22c5m\u2082\u22c5(x\u2080\u2080 - x\u2082\u2080)\n",
        "a\u2080\u2080\u22c5m\u2080 + \u2500\u2500\u2500\u2500\u2500\u2500\u2500\u2500\u2500\u2500\u2500\u2500\u2500\u2500\u2500\u2500\u2500 + \u2500\u2500\u2500\u2500\u2500\u2500\u2500\u2500\u2500\u2500\u2500\u2500\u2500\u2500\u2500\u2500\u2500\n",
        "                   3                   3      \n",
        "                r\u2080\u2081                 r\u2080\u2082       "
       ]
      }
     ],
     "prompt_number": 25
    },
    {
     "cell_type": "code",
     "collapsed": false,
     "input": [
      "Mn = []\n",
      "bn = []\n",
      "for m, expr in enumerate(equations_n):\n",
      "    Mn.append([])\n",
      "    bm = -expr\n",
      "    for i in range(3):\n",
      "        for j in range(3):\n",
      "            bm = bm.subs(a_s[i][j],0)\n",
      "            Mn[-1].append(diff(expr,a_s[i][j]))\n",
      "    bn.append(bm)"
     ],
     "language": "python",
     "metadata": {},
     "outputs": [],
     "prompt_number": 26
    },
    {
     "cell_type": "code",
     "collapsed": false,
     "input": [
      "#Mn"
     ],
     "language": "python",
     "metadata": {},
     "outputs": [],
     "prompt_number": 27
    },
    {
     "cell_type": "code",
     "collapsed": false,
     "input": [
      "#bn"
     ],
     "language": "python",
     "metadata": {},
     "outputs": [],
     "prompt_number": 28
    },
    {
     "cell_type": "markdown",
     "metadata": {},
     "source": [
      "Now back to the PPN Lagrangian"
     ]
    },
    {
     "cell_type": "code",
     "collapsed": false,
     "input": [
      "# For specializing to two bodies and two dimensions\n",
      "# Also zaps the Gammaijk and Thetaij terms because these weren't part of the problem I was having\n",
      "def zap_non_problems(Mez):\n",
      "    Mez = Mez.subs(gamma,0).subs(beta,Rational(1,2)).subs(ms[2],0)\n",
      "    for i in range(3):\n",
      "        for j in range(3):\n",
      "            if i<j:\n",
      "                Mez = Mez.subs(gamma3s[2][i][j],0)\n",
      "        Mez = Mez.subs(vs[2][i],0)\n",
      "        Mez = Mez.subs(vs[i][1],0)\n",
      "        Mez = Mez.subs(xs[i][1],0)\n",
      "        Mez = Mez.subs(gammas[2][i],0)\n",
      "        Mez = Mez.subs(thetas[2][i],0)\n",
      "    return Mez\n",
      "    "
     ],
     "language": "python",
     "metadata": {},
     "outputs": [],
     "prompt_number": 29
    },
    {
     "cell_type": "code",
     "collapsed": false,
     "input": [
      "equations = [d_by_dt(partial_vs(L,i,j))-partial_xs(L,i,j) for i in range(3) for j in range(3)]"
     ],
     "language": "python",
     "metadata": {},
     "outputs": [],
     "prompt_number": 30
    },
    {
     "cell_type": "code",
     "collapsed": false,
     "input": [
      "#zap_non_problems(L)"
     ],
     "language": "python",
     "metadata": {},
     "outputs": [],
     "prompt_number": 31
    },
    {
     "cell_type": "code",
     "collapsed": false,
     "input": [
      "#zap_non_problems(partial_vs(L,0,0))"
     ],
     "language": "python",
     "metadata": {},
     "outputs": [],
     "prompt_number": 32
    },
    {
     "cell_type": "code",
     "collapsed": false,
     "input": [
      "#zap_non_problems(equations[0])"
     ],
     "language": "python",
     "metadata": {},
     "outputs": [],
     "prompt_number": 33
    },
    {
     "cell_type": "code",
     "collapsed": false,
     "input": [
      "M = []\n",
      "b = []\n",
      "for m, expr in enumerate(equations):\n",
      "    M.append([])\n",
      "    bm = -expr\n",
      "    for i in range(3):\n",
      "        for j in range(3):\n",
      "            bm = bm.subs(a_s[i][j],0)\n",
      "            M[-1].append(diff(expr,a_s[i][j]))\n",
      "    b.append(bm)"
     ],
     "language": "python",
     "metadata": {},
     "outputs": [],
     "prompt_number": 34
    },
    {
     "cell_type": "code",
     "collapsed": false,
     "input": [
      "zap_gamma_m_term = False\n",
      "zap_gamma_v_terms = False\n",
      "zap_diag_vsq_terms = False\n",
      "zap_diag_vii_terms = False\n",
      "if zap_gamma_m_term:\n",
      "    for i in range(9):\n",
      "        for j in range(9):\n",
      "            for ii in range(3):\n",
      "                for jj in range(3):\n",
      "                    M[i][j] = M[i][j].subs(gammas[ii][jj],0)\n",
      "if zap_gamma_v_terms:\n",
      "    for i in range(9):\n",
      "        for j in range(9):\n",
      "            if i==j:\n",
      "                continue\n",
      "            for ii in range(3):\n",
      "                for jj in range(3):\n",
      "                    M[i][j] = M[i][j].subs(vs[ii][jj],0)\n",
      "if zap_diag_vsq_terms:\n",
      "    for i in range(9):\n",
      "        for j in range(3):\n",
      "            M[i][i] = M[i][i].subs(mag_vs_sq[j],0)\n",
      "if zap_diag_vii_terms:\n",
      "    for i in range(9):\n",
      "        M[i][i] = M[i][i].subs(vs[i//3][i//3],0)\n",
      "    "
     ],
     "language": "python",
     "metadata": {},
     "outputs": [],
     "prompt_number": 35
    },
    {
     "cell_type": "code",
     "collapsed": false,
     "input": [
      "if False:\n",
      "    M = []\n",
      "    for i in range(9):\n",
      "        M.append([])\n",
      "        for j in range(9):\n",
      "            M[-1].append(sympify(0))\n",
      "        M[i][i] = ms[i//3]\n",
      "    M"
     ],
     "language": "python",
     "metadata": {},
     "outputs": [],
     "prompt_number": 36
    },
    {
     "cell_type": "code",
     "collapsed": false,
     "input": [
      "Mz = []\n",
      "for Mr in M:\n",
      "    Mz.append([])\n",
      "    for Me in Mr:\n",
      "        Mz[-1].append(zap_non_problems(Me))\n",
      "#Mz"
     ],
     "language": "python",
     "metadata": {},
     "outputs": [],
     "prompt_number": 37
    },
    {
     "cell_type": "code",
     "collapsed": false,
     "input": [
      "#i,j = 0,0\n",
      "#M[i][j], M[j][i]"
     ],
     "language": "python",
     "metadata": {},
     "outputs": [],
     "prompt_number": 38
    },
    {
     "cell_type": "code",
     "collapsed": false,
     "input": [
      "b2s = [zap_non_problems(b0z) for b0z in b]\n",
      "#expand(b2s[0])"
     ],
     "language": "python",
     "metadata": {},
     "outputs": [],
     "prompt_number": 39
    },
    {
     "cell_type": "markdown",
     "metadata": {},
     "source": [
      "Now let's try to eliminate the matrix inversion."
     ]
    },
    {
     "cell_type": "code",
     "collapsed": false,
     "input": [
      "M0 = []\n",
      "M0i = []\n",
      "for i in range(9):\n",
      "    M0.append([])\n",
      "    M0i.append([])\n",
      "    for j in range(9):\n",
      "        if i==j:\n",
      "            M0[-1].append(M[i][j])\n",
      "            for ii in range(3):\n",
      "                for jj in range(3):\n",
      "                    M0[-1][-1] = M0[-1][-1].subs(gammas[ii][jj],0)\n",
      "                    M0[-1][-1] = M0[-1][-1].subs(thetas[ii][jj],0)\n",
      "            M0i[-1].append(M0[-1][-1]**(-1))\n",
      "        else:\n",
      "            M0[-1].append(0)\n",
      "            M0i[-1].append(0)\n",
      "[M0[i][i] for i in range(9)]"
     ],
     "language": "python",
     "metadata": {},
     "outputs": [
      {
       "latex": [
        "$$\\begin{bmatrix}m_{0} v_{00}^{2} - 2 m_{0} \\left(- \\frac{1}{4} vs_{0} - \\frac{1}{2}\\right), & m_{0} v_{01}^{2} - 2 m_{0} \\left(- \\frac{1}{4} vs_{0} - \\frac{1}{2}\\right), & m_{0} v_{02}^{2} - 2 m_{0} \\left(- \\frac{1}{4} vs_{0} - \\frac{1}{2}\\right), & m_{1} v_{10}^{2} - 2 m_{1} \\left(- \\frac{1}{4} vs_{1} - \\frac{1}{2}\\right), & m_{1} v_{11}^{2} - 2 m_{1} \\left(- \\frac{1}{4} vs_{1} - \\frac{1}{2}\\right), & m_{1} v_{12}^{2} - 2 m_{1} \\left(- \\frac{1}{4} vs_{1} - \\frac{1}{2}\\right), & m_{2} v_{20}^{2} - 2 m_{2} \\left(- \\frac{1}{4} vs_{2} - \\frac{1}{2}\\right), & m_{2} v_{21}^{2} - 2 m_{2} \\left(- \\frac{1}{4} vs_{2} - \\frac{1}{2}\\right), & m_{2} v_{22}^{2} - 2 m_{2} \\left(- \\frac{1}{4} vs_{2} - \\frac{1}{2}\\right)\\end{bmatrix}$$"
       ],
       "output_type": "pyout",
       "prompt_number": 40,
       "text": [
        "\u23a1      2        \u239b  vs\u2080   1\u239e        2        \u239b  vs\u2080   1\u239e        2        \u239b  vs\u2080\n",
        "\u23a2m\u2080\u22c5v\u2080\u2080  - 2\u22c5m\u2080\u22c5\u239c- \u2500\u2500\u2500 - \u2500\u239f, m\u2080\u22c5v\u2080\u2081  - 2\u22c5m\u2080\u22c5\u239c- \u2500\u2500\u2500 - \u2500\u239f, m\u2080\u22c5v\u2080\u2082  - 2\u22c5m\u2080\u22c5\u239c- \u2500\u2500\u2500\n",
        "\u23a3               \u239d   4    2\u23a0                 \u239d   4    2\u23a0                 \u239d   4 \n",
        "\n",
        "   1\u239e        2        \u239b  vs\u2081   1\u239e        2        \u239b  vs\u2081   1\u239e        2        \n",
        " - \u2500\u239f, m\u2081\u22c5v\u2081\u2080  - 2\u22c5m\u2081\u22c5\u239c- \u2500\u2500\u2500 - \u2500\u239f, m\u2081\u22c5v\u2081\u2081  - 2\u22c5m\u2081\u22c5\u239c- \u2500\u2500\u2500 - \u2500\u239f, m\u2081\u22c5v\u2081\u2082  - 2\u22c5m\u2081\u22c5\n",
        "   2\u23a0                 \u239d   4    2\u23a0                 \u239d   4    2\u23a0                 \n",
        "\n",
        "\u239b  vs\u2081   1\u239e        2        \u239b  vs\u2082   1\u239e        2        \u239b  vs\u2082   1\u239e        2  \n",
        "\u239c- \u2500\u2500\u2500 - \u2500\u239f, m\u2082\u22c5v\u2082\u2080  - 2\u22c5m\u2082\u22c5\u239c- \u2500\u2500\u2500 - \u2500\u239f, m\u2082\u22c5v\u2082\u2081  - 2\u22c5m\u2082\u22c5\u239c- \u2500\u2500\u2500 - \u2500\u239f, m\u2082\u22c5v\u2082\u2082  -\n",
        "\u239d   4    2\u23a0                 \u239d   4    2\u23a0                 \u239d   4    2\u23a0           \n",
        "\n",
        "      \u239b  vs\u2082   1\u239e\u23a4\n",
        " 2\u22c5m\u2082\u22c5\u239c- \u2500\u2500\u2500 - \u2500\u239f\u23a5\n",
        "      \u239d   4    2\u23a0\u23a6"
       ]
      }
     ],
     "prompt_number": 40
    },
    {
     "cell_type": "code",
     "collapsed": false,
     "input": [
      "b0 = b[:]\n",
      "for k in range(9):\n",
      "    for i in range(3):\n",
      "        b0[k] = b0[k].subs(mag_vs_sq[i],0)\n",
      "        for j in range(3):\n",
      "            b0[k] = b0[k].subs(vs[i][j],0)\n",
      "            for l in range(3):\n",
      "                if i==j or i==l:\n",
      "                    continue\n",
      "                b0[k] = b0[k].subs(gamma3s[i][j][l],0)\n",
      "                \n",
      "b0"
     ],
     "language": "python",
     "metadata": {},
     "outputs": [
      {
       "latex": [
        "$$\\begin{bmatrix}- \\frac{\\Gamma_{01} \\left(x_{00} - x_{10}\\right)}{r_{01}^{3}} - \\frac{\\Gamma_{02} \\left(x_{00} - x_{20}\\right)}{r_{02}^{3}}, & - \\frac{\\Gamma_{01} \\left(x_{01} - x_{11}\\right)}{r_{01}^{3}} - \\frac{\\Gamma_{02} \\left(x_{01} - x_{21}\\right)}{r_{02}^{3}}, & - \\frac{\\Gamma_{01} \\left(x_{02} - x_{12}\\right)}{r_{01}^{3}} - \\frac{\\Gamma_{02} \\left(x_{02} - x_{22}\\right)}{r_{02}^{3}}, & - \\frac{\\Gamma_{01} \\left(- x_{00} + x_{10}\\right)}{r_{01}^{3}} - \\frac{\\Gamma_{12} \\left(x_{10} - x_{20}\\right)}{r_{12}^{3}}, & - \\frac{\\Gamma_{01} \\left(- x_{01} + x_{11}\\right)}{r_{01}^{3}} - \\frac{\\Gamma_{12} \\left(x_{11} - x_{21}\\right)}{r_{12}^{3}}, & - \\frac{\\Gamma_{01} \\left(- x_{02} + x_{12}\\right)}{r_{01}^{3}} - \\frac{\\Gamma_{12} \\left(x_{12} - x_{22}\\right)}{r_{12}^{3}}, & - \\frac{\\Gamma_{02} \\left(- x_{00} + x_{20}\\right)}{r_{02}^{3}} - \\frac{\\Gamma_{12} \\left(- x_{10} + x_{20}\\right)}{r_{12}^{3}}, & - \\frac{\\Gamma_{02} \\left(- x_{01} + x_{21}\\right)}{r_{02}^{3}} - \\frac{\\Gamma_{12} \\left(- x_{11} + x_{21}\\right)}{r_{12}^{3}}, & - \\frac{\\Gamma_{02} \\left(- x_{02} + x_{22}\\right)}{r_{02}^{3}} - \\frac{\\Gamma_{12} \\left(- x_{12} + x_{22}\\right)}{r_{12}^{3}}\\end{bmatrix}$$"
       ],
       "output_type": "pyout",
       "prompt_number": 41,
       "text": [
        "\u23a1  \u0393\u2080\u2081\u22c5(x\u2080\u2080 - x\u2081\u2080)   \u0393\u2080\u2082\u22c5(x\u2080\u2080 - x\u2082\u2080)    \u0393\u2080\u2081\u22c5(x\u2080\u2081 - x\u2081\u2081)   \u0393\u2080\u2082\u22c5(x\u2080\u2081 - x\u2082\u2081)    \u0393\n",
        "\u23a2- \u2500\u2500\u2500\u2500\u2500\u2500\u2500\u2500\u2500\u2500\u2500\u2500\u2500\u2500\u2500 - \u2500\u2500\u2500\u2500\u2500\u2500\u2500\u2500\u2500\u2500\u2500\u2500\u2500\u2500\u2500, - \u2500\u2500\u2500\u2500\u2500\u2500\u2500\u2500\u2500\u2500\u2500\u2500\u2500\u2500\u2500 - \u2500\u2500\u2500\u2500\u2500\u2500\u2500\u2500\u2500\u2500\u2500\u2500\u2500\u2500\u2500, - \u2500\n",
        "\u23a2           3                 3                  3                 3          \n",
        "\u23a3        r\u2080\u2081               r\u2080\u2082                r\u2080\u2081               r\u2080\u2082           \n",
        "\n",
        "\u2080\u2081\u22c5(x\u2080\u2082 - x\u2081\u2082)   \u0393\u2080\u2082\u22c5(x\u2080\u2082 - x\u2082\u2082)    \u0393\u2080\u2081\u22c5(-x\u2080\u2080 + x\u2081\u2080)   \u0393\u2081\u2082\u22c5(x\u2081\u2080 - x\u2082\u2080)    \u0393\u2080\u2081\u22c5\n",
        "\u2500\u2500\u2500\u2500\u2500\u2500\u2500\u2500\u2500\u2500\u2500\u2500\u2500\u2500 - \u2500\u2500\u2500\u2500\u2500\u2500\u2500\u2500\u2500\u2500\u2500\u2500\u2500\u2500\u2500, - \u2500\u2500\u2500\u2500\u2500\u2500\u2500\u2500\u2500\u2500\u2500\u2500\u2500\u2500\u2500\u2500 - \u2500\u2500\u2500\u2500\u2500\u2500\u2500\u2500\u2500\u2500\u2500\u2500\u2500\u2500\u2500, - \u2500\u2500\u2500\u2500\n",
        "        3                 3                  3                  3             \n",
        "     r\u2080\u2081               r\u2080\u2082                r\u2080\u2081                r\u2081\u2082              \n",
        "\n",
        "(-x\u2080\u2081 + x\u2081\u2081)   \u0393\u2081\u2082\u22c5(x\u2081\u2081 - x\u2082\u2081)    \u0393\u2080\u2081\u22c5(-x\u2080\u2082 + x\u2081\u2082)   \u0393\u2081\u2082\u22c5(x\u2081\u2082 - x\u2082\u2082)    \u0393\u2080\u2082\u22c5(-\n",
        "\u2500\u2500\u2500\u2500\u2500\u2500\u2500\u2500\u2500\u2500\u2500\u2500 - \u2500\u2500\u2500\u2500\u2500\u2500\u2500\u2500\u2500\u2500\u2500\u2500\u2500\u2500\u2500, - \u2500\u2500\u2500\u2500\u2500\u2500\u2500\u2500\u2500\u2500\u2500\u2500\u2500\u2500\u2500\u2500 - \u2500\u2500\u2500\u2500\u2500\u2500\u2500\u2500\u2500\u2500\u2500\u2500\u2500\u2500\u2500, - \u2500\u2500\u2500\u2500\u2500\u2500\n",
        "     3                  3                  3                  3               \n",
        "  r\u2080\u2081                r\u2081\u2082                r\u2080\u2081                r\u2081\u2082                \n",
        "\n",
        "x\u2080\u2080 + x\u2082\u2080)   \u0393\u2081\u2082\u22c5(-x\u2081\u2080 + x\u2082\u2080)    \u0393\u2080\u2082\u22c5(-x\u2080\u2081 + x\u2082\u2081)   \u0393\u2081\u2082\u22c5(-x\u2081\u2081 + x\u2082\u2081)    \u0393\u2080\u2082\u22c5(-\n",
        "\u2500\u2500\u2500\u2500\u2500\u2500\u2500\u2500\u2500\u2500 - \u2500\u2500\u2500\u2500\u2500\u2500\u2500\u2500\u2500\u2500\u2500\u2500\u2500\u2500\u2500\u2500, - \u2500\u2500\u2500\u2500\u2500\u2500\u2500\u2500\u2500\u2500\u2500\u2500\u2500\u2500\u2500\u2500 - \u2500\u2500\u2500\u2500\u2500\u2500\u2500\u2500\u2500\u2500\u2500\u2500\u2500\u2500\u2500\u2500, - \u2500\u2500\u2500\u2500\u2500\u2500\n",
        "   3                  3                   3                  3                \n",
        "r\u2080\u2082                r\u2081\u2082                 r\u2080\u2082                r\u2081\u2082                 \n",
        "\n",
        "x\u2080\u2082 + x\u2082\u2082)   \u0393\u2081\u2082\u22c5(-x\u2081\u2082 + x\u2082\u2082)\u23a4\n",
        "\u2500\u2500\u2500\u2500\u2500\u2500\u2500\u2500\u2500\u2500 - \u2500\u2500\u2500\u2500\u2500\u2500\u2500\u2500\u2500\u2500\u2500\u2500\u2500\u2500\u2500\u2500\u23a5\n",
        "   3                  3      \u23a5\n",
        "r\u2080\u2082                r\u2081\u2082       \u23a6"
       ]
      }
     ],
     "prompt_number": 41
    },
    {
     "cell_type": "code",
     "collapsed": false,
     "input": [
      "M0 = Matrix(M0)\n",
      "M1 = Matrix(M)-M0\n",
      "b0 = Matrix(b0)\n",
      "b1 = Matrix(b)-b0\n",
      "M0i = Matrix(M0i)"
     ],
     "language": "python",
     "metadata": {},
     "outputs": [],
     "prompt_number": 42
    },
    {
     "cell_type": "markdown",
     "metadata": {},
     "source": [
      "We want to solve \n",
      "$$\n",
      "(M_0+M_1)a = b_0+b_1\n",
      "$$\n",
      "where among other things the subscripts denote the order of dependence on $v^2/c^2$ or $r_S/r$ (which are of about equal magnitude). We can do this by direct matrix inversion, but since we have already dropped everything of second order, we should be able to do better:\n",
      "$$\n",
      "(M_0^{-1}-M_0^{-1}M_1M_0^{-1})(M_0+M_1) = I + M_0^{-1}M_1 - M_0^{-1}M_1 + O(v^4/c^4)\n",
      "$$\n",
      "or\n",
      "$$\n",
      "a = M_0^{-1}(b_0+b_1) - M_0^{-1}M_1M_0^{-1}b_0 + O(v^4/c^4).\n",
      "$$"
     ]
    },
    {
     "cell_type": "code",
     "collapsed": false,
     "input": [
      "rhs = M0i*(b0+b1-(M1*M0i)*b0)"
     ],
     "language": "python",
     "metadata": {},
     "outputs": [],
     "prompt_number": 43
    },
    {
     "cell_type": "code",
     "collapsed": false,
     "input": [
      "dx = []\n",
      "dx_f = []\n",
      "for i in range(3):\n",
      "    dx.append([])\n",
      "    dx_f.append([])\n",
      "    for j in range(3):\n",
      "        dx[-1].append([])\n",
      "        dx_f[-1].append([])\n",
      "        for k in range(3):\n",
      "            dx[-1][-1].append(Symbol(\"dx%d%d%d\" % (min(i,j),max(i,j),k)))\n",
      "            if i<j:\n",
      "                dx[-1][-1][-1]=-dx[-1][-1][-1]\n",
      "            dx_f[-1][-1].append(xs[i][k]-xs[j][k])\n",
      "def dx_subs(expr):\n",
      "    for i in range(3):\n",
      "        for j in range(3):\n",
      "            if i==j:\n",
      "                continue\n",
      "            for k in range(3):\n",
      "                expr = expr.subs(dx_f[i][j][k],dx[i][j][k])\n",
      "    return expr"
     ],
     "language": "python",
     "metadata": {},
     "outputs": [],
     "prompt_number": 44
    },
    {
     "cell_type": "code",
     "collapsed": false,
     "input": [
      "dx_subs(xs[1][1]-xs[0][1])"
     ],
     "language": "python",
     "metadata": {},
     "outputs": [
      {
       "latex": [
        "$$dx_{011}$$"
       ],
       "output_type": "pyout",
       "png": "[encoded data removed]",
       "prompt_number": 45,
       "text": [
        "dx\u2080\u2081\u2081"
       ]
      }
     ],
     "prompt_number": 45
    },
    {
     "cell_type": "code",
     "collapsed": false,
     "input": [
      "print count_ops(dx_subs(rhs[0]))\n",
      "print sum(count_ops((dx_subs(rhs[i]))) for i in range(9))"
     ],
     "language": "python",
     "metadata": {},
     "outputs": [
      {
       "output_type": "stream",
       "stream": "stdout",
       "text": [
        "2581\n",
        "23211"
       ]
      },
      {
       "output_type": "stream",
       "stream": "stdout",
       "text": [
        "\n"
       ]
      }
     ],
     "prompt_number": 46
    },
    {
     "cell_type": "code",
     "collapsed": false,
     "input": [
      "rhs = [dx_subs(r) for r in rhs]"
     ],
     "language": "python",
     "metadata": {},
     "outputs": [],
     "prompt_number": 47
    },
    {
     "cell_type": "markdown",
     "metadata": {},
     "source": [
      "Rendering the equations of motion to C code\n",
      "-------------------------------------------\n"
     ]
    },
    {
     "cell_type": "code",
     "collapsed": false,
     "input": [
      "from sympy.printing import print_ccode, ccode"
     ],
     "language": "python",
     "metadata": {},
     "outputs": [],
     "prompt_number": 48
    },
    {
     "cell_type": "code",
     "collapsed": false,
     "input": [
      "simplify_before_c = False"
     ],
     "language": "python",
     "metadata": {},
     "outputs": [],
     "prompt_number": 49
    },
    {
     "cell_type": "code",
     "collapsed": false,
     "input": [
      "if simplify_before_c:\n",
      "    sb = [simplify(bi) for bi in b]\n",
      "    sM = [[simplify(Me) for Me in Mr] for Mr in M]\n",
      "else:\n",
      "    sb = [expand(bi) for bi in b]\n",
      "    sM = [[expand(Me) for Me in Mr] for Mr in M]\n"
     ],
     "language": "python",
     "metadata": {},
     "outputs": [],
     "prompt_number": 50
    },
    {
     "cell_type": "code",
     "collapsed": false,
     "input": [
      "var('half')\n",
      "#print rhs[0].subs(beta-Rational(1,2),bmh)\n",
      "#print rhs[0].subs(Rational(1,2),half)"
     ],
     "language": "python",
     "metadata": {},
     "outputs": [
      {
       "latex": [
        "$$half$$"
       ],
       "output_type": "pyout",
       "png": "[encoded data removed]",
       "prompt_number": 51,
       "text": [
        "half"
       ]
      }
     ],
     "prompt_number": 51
    },
    {
     "cell_type": "code",
     "collapsed": false,
     "input": [
      "if simplify_before_c and False:\n",
      "    srhs = []\n",
      "    for i in range(9):\n",
      "        print count_ops(rhs[i]),\n",
      "        srhs.append(cancel(rhs[i]))\n",
      "        print count_ops(srhs[-1])\n",
      "else:\n",
      "    srhs = [rhs[i].subs(Rational(1,2),half) for i in range(9)]\n"
     ],
     "language": "python",
     "metadata": {},
     "outputs": [],
     "prompt_number": 52
    },
    {
     "cell_type": "code",
     "collapsed": false,
     "input": [
      "indent = \" \"*4\n",
      "from cStringIO import StringIO\n",
      "s = StringIO()\n",
      "s.write(\"\"\"template <class num> void \n",
      "ppn(const num xv[21], \n",
      "    num M[9][9],\n",
      "    num b[9],\n",
      "    const num gamma, const num beta,\n",
      "    const num Gamma01, const num Gamma02, const num Gamma12, \n",
      "    const num Theta01, const num Theta02, const num Theta12,\n",
      "    const num Gamma011, const num Gamma012, const num Gamma022,\n",
      "    const num Gamma100, const num Gamma102, const num Gamma122,\n",
      "    const num Gamma200, const num Gamma201, const num Gamma211) {\n",
      "\n",
      "\"\"\")\n",
      "for i in range(3):\n",
      "    s.write(indent)\n",
      "    s.write(\"const num m%d = xv[%d];\\n\" % (i,7*i+6))\n",
      "s.write(\"\\n\")\n",
      "for i in range(3):\n",
      "    for j in range(3):\n",
      "        s.write(indent)\n",
      "        s.write(\"const num x%d%d = xv[%d];\\n\" % (i,j,7*i+j))\n",
      "s.write(\"\\n\")\n",
      "for i in range(3):\n",
      "    for j in range(3):\n",
      "        if not i<j:\n",
      "            continue\n",
      "        s.write(indent)\n",
      "        l = [\"pow(x%d%d-x%d%d,2)\" % (i,ii,j,ii) for ii in range(3)]\n",
      "        s.write(\"const num r%d%d = sqrt(%s);\\n\" % (i,j,\"+\".join(l)))\n",
      "s.write(\"\\n\")\n",
      "for i in range(3):\n",
      "    for j in range(3):\n",
      "        s.write(indent)\n",
      "        s.write(\"const num v%d%d = xv[%d];\\n\" % (i,j,7*i+j+3))\n",
      "s.write(\"\\n\")\n",
      "for i in range(3):\n",
      "    s.write(indent)\n",
      "    s.write(\"const num vs%d = %s;\\n\" % (i,\"+\".join([\"pow(v%d%d,2)\"%(i,j) for j in range(3)])))\n",
      "s.write(\"\\n\")\n",
      "for i,bi in enumerate(sb):\n",
      "    #continue\n",
      "    s.write(indent)\n",
      "    s.write(\"b[%d] = \" % i)\n",
      "    s.write(ccode(bi))\n",
      "    s.write(\";\\n\")\n",
      "s.write(\"\\n\")\n",
      "for i in range(len(b)):\n",
      "    for j in range(len(b)):\n",
      "        #continue\n",
      "        s.write(indent)\n",
      "        s.write(\"M[%d][%d] = \" % (i,j))\n",
      "        s.write(ccode(sM[i][j]))\n",
      "        s.write(\";\\n\")\n",
      "s.write(\"\"\"\n",
      "};\n",
      "\n",
      "template <class num> void \n",
      "ppn_direct(const num xv[21], \n",
      "    num a[9],\n",
      "    const num gamma, const num beta,\n",
      "    const num Gamma01, const num Gamma02, const num Gamma12, \n",
      "    const num Theta01, const num Theta02, const num Theta12,\n",
      "    const num Gamma011, const num Gamma012, const num Gamma022,\n",
      "    const num Gamma100, const num Gamma102, const num Gamma122,\n",
      "    const num Gamma200, const num Gamma201, const num Gamma211) {\n",
      "\n",
      "    const num half = ((num)1)/((num)2);\n",
      "\n",
      "\"\"\")\n",
      "for i in range(3):\n",
      "    s.write(indent)\n",
      "    s.write(\"const num m%d = xv[%d];\\n\" % (i,7*i+6))\n",
      "s.write(\"\\n\")\n",
      "for i in range(3):\n",
      "    for j in range(3):\n",
      "        s.write(indent)\n",
      "        s.write(\"const num x%d%d = xv[%d];\\n\" % (i,j,7*i+j))\n",
      "s.write(\"\\n\")\n",
      "for i in range(3):\n",
      "    for j in range(i+1,3):\n",
      "        for k in range(3):\n",
      "            s.write(indent)\n",
      "            s.write(\"const num dx%d%d%d = x%d%d-x%d%d;\\n\" % (i,j,k,j,k,i,k))\n",
      "s.write(\"\\n\")\n",
      "for i in range(3):\n",
      "    for j in range(3):\n",
      "        if not i<j:\n",
      "            continue\n",
      "        s.write(indent)\n",
      "        l = [\"pow(x%d%d-x%d%d,2)\" % (i,ii,j,ii) for ii in range(3)]\n",
      "        s.write(\"const num r%d%d = sqrt(%s);\\n\" % (i,j,\"+\".join(l)))\n",
      "s.write(\"\\n\")\n",
      "for i in range(3):\n",
      "    for j in range(3):\n",
      "        s.write(indent)\n",
      "        s.write(\"const num v%d%d = xv[%d];\\n\" % (i,j,7*i+j+3))\n",
      "s.write(\"\\n\")\n",
      "for i in range(3):\n",
      "    s.write(indent)\n",
      "    s.write(\"const num vs%d = %s;\\n\" % (i,\"+\".join([\"pow(v%d%d,2)\"%(i,j) for j in range(3)])))\n",
      "s.write(\"\\n\")\n",
      "for i,rhsi in enumerate(srhs):\n",
      "    #continue\n",
      "    s.write(indent)\n",
      "    s.write(\"a[%d] = \" % i)\n",
      "    s.write(ccode(rhsi))\n",
      "    s.write(\";\\n\")\n",
      "s.write(\"\"\"\n",
      "};\n",
      "\n",
      "template <class num> inline void newton_lagrangian(const num xv[21], \n",
      "    num M[9][9],\n",
      "    num b[9]) {\n",
      "\n",
      "\"\"\")\n",
      "for i in range(3):\n",
      "    s.write(indent)\n",
      "    s.write(\"const num m%d = xv[%d];\\n\" % (i,7*i+6))\n",
      "s.write(\"\\n\")\n",
      "for i in range(3):\n",
      "    for j in range(3):\n",
      "        s.write(indent)\n",
      "        s.write(\"const num x%d%d = xv[%d];\\n\" % (i,j,7*i+j))\n",
      "s.write(\"\\n\")\n",
      "for i in range(3):\n",
      "    for j in range(3):\n",
      "        if not i<j:\n",
      "            continue\n",
      "        s.write(indent)\n",
      "        l = [\"pow(x%d%d-x%d%d,2)\" % (i,ii,j,ii) for ii in range(3)]\n",
      "        s.write(\"const num r%d%d = sqrt(%s);\\n\" % (i,j,\"+\".join(l)))\n",
      "s.write(\"\\n\")\n",
      "for i,bi in enumerate(bn):\n",
      "    s.write(indent)\n",
      "    s.write(\"b[%d] = \" % i)\n",
      "    s.write(ccode(bi))\n",
      "    s.write(\";\\n\")\n",
      "s.write(\"\\n\")\n",
      "for i in range(len(b)):\n",
      "    for j in range(len(b)):\n",
      "        s.write(indent)\n",
      "        s.write(\"M[%d][%d] = \" % (i,j))\n",
      "        s.write(ccode(Mn[i][j]))\n",
      "        s.write(\";\\n\")\n",
      "s.write(\"\"\"\n",
      "};\n",
      "\"\"\")\n",
      "cfun = s.getvalue()\n",
      "with open(\"ppn.hpp\",\"wt\") as f:\n",
      "    f.write(cfun)\n",
      "print len(cfun)"
     ],
     "language": "python",
     "metadata": {},
     "outputs": [
      {
       "output_type": "stream",
       "stream": "stdout",
       "text": [
        "234210\n"
       ]
      }
     ],
     "prompt_number": 53
    },
    {
     "cell_type": "code",
     "collapsed": false,
     "input": [],
     "language": "python",
     "metadata": {},
     "outputs": [],
     "prompt_number": 53
    },
    {
     "cell_type": "code",
     "collapsed": false,
     "input": [],
     "language": "python",
     "metadata": {},
     "outputs": [],
     "prompt_number": 53
    },
    {
     "cell_type": "code",
     "collapsed": false,
     "input": [],
     "language": "python",
     "metadata": {},
     "outputs": [],
     "prompt_number": 53
    }
   ],
   "metadata": {}
  }
 ]
}