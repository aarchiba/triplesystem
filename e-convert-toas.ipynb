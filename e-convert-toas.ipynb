{
 "metadata": {
  "name": ""
 },
 "nbformat": 3,
 "nbformat_minor": 0,
 "worksheets": [
  {
   "cells": [
    {
     "cell_type": "code",
     "collapsed": false,
     "input": [
      "import subprocess"
     ],
     "language": "python",
     "metadata": {},
     "outputs": [],
     "prompt_number": 1
    },
    {
     "cell_type": "code",
     "collapsed": false,
     "input": [
      "timfile = \"toas/ncy/0337.NRT-t2-120s-20140206\"\n",
      "outtimfile = \"toas/ncy/ncy-20140206.tim\"\n",
      "obscode = \"f\"\n",
      "o = subprocess.check_output(\n",
      "    [\"tempo2\",\n",
      "     \"-f\", \"0337_tempo2_pm.par\",\n",
      "     \"-output\", \"general2\",\n",
      "     \"-s\", \"OUTPUT {sat} {freq} {err}\\n\",\n",
      "     timfile])\n",
      "print \"\\n\".join(o.split(\"\\n\")[:30])"
     ],
     "language": "python",
     "metadata": {},
     "outputs": [
      {
       "output_type": "stream",
       "stream": "stdout",
       "text": [
        "This program comes with ABSOLUTELY NO WARRANTY.\n",
        "This is free software, and you are welcome to redistribute it\n",
        "under conditions of GPL license.\n",
        "\n",
        "WARNING [PAR1]: Have not set a position epoch. The period epoch will be used instead. 0337_tempo2_pm.par\n",
        "WARNING [PAR2]: Have not set a DM epoch. The period epoch will be used instead. 0337_tempo2_pm.par\n",
        "WARNING [TROP2]: Assume standard atmospheric pressure (no data) for site ncy at MJD 56492.3\n",
        "WARNING [TROP1]: Assume zero zenith wet delay (no data) for site ncy  at MJD 56492.3\n",
        "WARNING: duplicated warnings have been suppressed.\n",
        "[tempo2.C:532] Complete fit\n",
        "Looking for /usr/local/tempo2/plugins//general2_linux_plug.t2\n",
        "Starting general2 plugin\n",
        "OUTPUT 56492.29911993885651 1502.6849999999999454 2.2650000000000001243\n",
        "OUTPUT 56492.299819481987814 1502.7999999999999545 2.0449999999999999289\n",
        "OUTPUT 56492.300519027282064 1499.02800000000002 1.6730000000000000426\n",
        "OUTPUT 56492.30121857275488 1495.3689999999999145 2.8860000000000001208\n",
        "OUTPUT 56492.301918115725083 1495.4410000000000309 1.758999999999999897\n",
        "OUTPUT 56492.30261765965049 1494.3699999999998909 1.9710000000000000853\n",
        "OUTPUT 56492.30331720044471 1498.4570000000001073 3.4409999999999998366\n",
        "OUTPUT 56492.304016744174472 1497.7809999999999491 2.5929999999999999716\n",
        "OUTPUT 56492.30471628445936 1502.7070000000001073 2.1850000000000000533\n",
        "OUTPUT 56492.305415862753609 1496.8420000000000982 2.6669999999999998153\n",
        "OUTPUT 56492.306115378715283 1490.0350000000000819 1.7689999999999999059\n",
        "OUTPUT 56492.306814917295572 1497.4860000000001037 2.9879999999999999893\n",
        "OUTPUT 56492.30751446124291 1496.5709999999999127 1.4259999999999999343\n",
        "OUTPUT 56492.308214004569393 1496.2950000000000728 2.1150000000000002132\n",
        "OUTPUT 56492.308913551841528 1489.8409999999998945 2.6080000000000000959\n",
        "OUTPUT 56492.309613097353456 1486.4800000000000182 2.0320000000000000284\n",
        "OUTPUT 56492.310312664549183 1499.2249999999999091 2.3559999999999998721\n",
        "OUTPUT 56492.311012242437336 1494.5080000000000382 1.2640000000000000124\n"
       ]
      }
     ],
     "prompt_number": 11
    },
    {
     "cell_type": "code",
     "collapsed": false,
     "input": [
      "with open(outtimfile, \"wt\") as f:\n",
      "    for l in o.split(\"\\n\"):\n",
      "        if not l.startswith(\"OUTPUT\"):\n",
      "            continue\n",
      "        w = l.split()\n",
      "        imjd, fmjd = w[1].split(\".\")\n",
      "        if len(fmjd)<13:\n",
      "            fmjd += \"0\"*(13-len(fmjd))\n",
      "        s = (\"%s \" % obscode\n",
      "             +\" \"*14\n",
      "             +\"%8.3f\" % float(w[2])\n",
      "             +\"%6s.%13s\" % (imjd,fmjd[:13])\n",
      "             +\"% 9.3f\" % float(w[3]))\n",
      "         \n",
      "        #print [s[15:24],s[24:44],s[44:53],s]\n",
      "        f.write(s+\"\\n\")\n",
      "        "
     ],
     "language": "python",
     "metadata": {},
     "outputs": [],
     "prompt_number": 27
    },
    {
     "cell_type": "code",
     "collapsed": false,
     "input": [],
     "language": "python",
     "metadata": {},
     "outputs": []
    }
   ],
   "metadata": {}
  }
 ]
}