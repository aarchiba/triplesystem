{
 "metadata": {
  "name": ""
 },
 "nbformat": 3,
 "nbformat_minor": 0,
 "worksheets": [
  {
   "cells": [
    {
     "cell_type": "code",
     "collapsed": false,
     "input": [
      "import subprocess"
     ],
     "language": "python",
     "metadata": {},
     "outputs": [],
     "prompt_number": 1
    },
    {
     "cell_type": "code",
     "collapsed": false,
     "input": [
      "#timfile = \"toas/ncy/0337.NRT-t2-120s-20140206\"\n",
      "#outtimfile = \"toas/ncy/ncy-20140206.tim\"\n",
      "#obscode = \"f\"\n",
      "timfile = \"0337+1715_GUPPI_Lband_fscr.tim\"\n",
      "outtimfile = \"0337+1715_GUPPI_Lband_fscr_t1.tim\"\n",
      "obscode = \"1\"\n",
      "o = subprocess.check_output(\n",
      "    [\"tempo2\",\n",
      "     \"-f\", \"0337_tempo2_pm.par\",\n",
      "     \"-output\", \"general2\",\n",
      "     \"-npsr\", \"1\",\n",
      "     \"-nobs\", \"50000\",\n",
      "     \"-s\", \"OUTPUT {sat} {freq} {err}\\n\",\n",
      "     timfile])\n",
      "print \"\\n\".join(o.split(\"\\n\")[:30])"
     ],
     "language": "python",
     "metadata": {},
     "outputs": [
      {
       "output_type": "stream",
       "stream": "stdout",
       "text": [
        "This program comes with ABSOLUTELY NO WARRANTY.\n",
        "This is free software, and you are welcome to redistribute it\n",
        "under conditions of GPL license.\n",
        "\n",
        "WARNING [PAR1]: Have not set a position epoch. The period epoch will be used instead. 0337_tempo2_pm.par\n",
        "WARNING [PAR2]: Have not set a DM epoch. The period epoch will be used instead. 0337_tempo2_pm.par\n",
        "WARNING [CLK3]: no clock corrections available for clock UTC(gbt) for MJD 56702.9\n",
        "WARNING [CLK4]: Trying assuming UTC = UTC(gbt)\n",
        "WARNING [CLK9]: ... ok, using stated approximation \n",
        "WARNING: duplicated warnings have been suppressed.\n",
        "WARNING [CLK6]: Proceeding assuming UTC =  UTC(gbt)\n",
        "WARNING [TROP2]: Assume standard atmospheric pressure (no data) for site gbt at MJD 56034.9\n",
        "WARNING [TROP1]: Assume zero zenith wet delay (no data) for site gbt  at MJD 56034.9\n",
        "[tempo2.C:532] Complete fit\n",
        "Looking for /usr/local/tempo2/plugins//general2_linux_plug.t2\n",
        "Starting general2 plugin\n",
        "OUTPUT 56034.855325832806482 1508.2840579999999591 2.0480000000000000426\n",
        "OUTPUT 56034.855681272510651 1509.3370359999998982 2.1789999999999998259\n",
        "OUTPUT 56034.856037060489665 1509.6820070000001124 1.8709999999999999964\n",
        "OUTPUT 56034.856392975712456 1508.692017000000078 1.838999999999999968\n",
        "OUTPUT 56034.856748700462109 1508.8249510000000555 2.1400000000000001243\n",
        "OUTPUT 56034.85710388746762 1509.0389399999999114 2.0059999999999997833\n",
        "OUTPUT 56034.857459548431802 1510.0240479999999934 2.4239999999999999325\n",
        "OUTPUT 56034.857815463486812 1509.1970209999999497 2.1789999999999998259\n",
        "OUTPUT 56034.858170713764519 1509.3249510000000555 2.2959999999999998188\n",
        "OUTPUT 56034.858525963622579 1510.0269780000000992 2.1240000000000001101\n",
        "OUTPUT 56034.858881404885327 1508.0570070000001124 1.8529999999999999805\n",
        "OUTPUT 56034.859237540274208 1508.7750240000000304 1.804000000000000048\n",
        "OUTPUT 56034.859592506394339 1507.9360349999999471 1.8129999999999999449\n",
        "OUTPUT 56034.859948167685282 1508.0839840000001004 2.1530000000000000249\n"
       ]
      }
     ],
     "prompt_number": 9
    },
    {
     "cell_type": "code",
     "collapsed": false,
     "input": [
      "with open(outtimfile, \"wt\") as f:\n",
      "    for l in o.split(\"\\n\"):\n",
      "        if not l.startswith(\"OUTPUT\"):\n",
      "            continue\n",
      "        w = l.split()\n",
      "        imjd, fmjd = w[1].split(\".\")\n",
      "        if len(fmjd)<13:\n",
      "            fmjd += \"0\"*(13-len(fmjd))\n",
      "        s = (\"%s \" % obscode\n",
      "             +\" \"*14\n",
      "             +\"%8.3f\" % float(w[2])\n",
      "             +\"%6s.%13s\" % (imjd,fmjd[:13])\n",
      "             +\"% 9.3f\" % float(w[3]))\n",
      "         \n",
      "        #print [s[15:24],s[24:44],s[44:53],s]\n",
      "        f.write(s+\"\\n\")\n",
      "        "
     ],
     "language": "python",
     "metadata": {},
     "outputs": [],
     "prompt_number": 10
    },
    {
     "cell_type": "code",
     "collapsed": false,
     "input": [],
     "language": "python",
     "metadata": {},
     "outputs": []
    }
   ],
   "metadata": {}
  }
 ]
}