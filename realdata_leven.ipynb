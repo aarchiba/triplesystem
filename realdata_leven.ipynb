{
 "metadata": {
  "name": "realdata_leven"
 },
 "nbformat": 3,
 "nbformat_minor": 0,
 "worksheets": [
  {
   "cells": [
    {
     "cell_type": "code",
     "collapsed": false,
     "input": [
      "import scipy.optimize\n",
      "\n",
      "import kepler\n",
      "import quad_integrate"
     ],
     "language": "python",
     "metadata": {},
     "outputs": [],
     "prompt_number": 1
    },
    {
     "cell_type": "code",
     "collapsed": false,
     "input": [
      "delay_list = []\n",
      "with open(\"0337_delays_2.txt\") as f:\n",
      "    for l in f.readlines():\n",
      "        if l.startswith(\"#\"):\n",
      "            continue\n",
      "        mjd, delay, tel = l.split()\n",
      "        delay_list.append((float(mjd),float(delay),tel))\n",
      "mjds = np.array([m for (m,d,t) in delay_list])\n",
      "delays = np.array([d for (m,d,t) in delay_list])"
     ],
     "language": "python",
     "metadata": {},
     "outputs": [],
     "prompt_number": 2
    },
    {
     "cell_type": "code",
     "collapsed": false,
     "input": [
      "tel_list = list(sorted(set([t for (m,d,t) in delay_list])))\n",
      "tels = np.array([tel_list.index(t) for (m,d,t) in delay_list])"
     ],
     "language": "python",
     "metadata": {},
     "outputs": [],
     "prompt_number": 3
    },
    {
     "cell_type": "code",
     "collapsed": false,
     "input": [
      "mjds -= delays/86400. # reomve Doppler effect"
     ],
     "language": "python",
     "metadata": {},
     "outputs": [],
     "prompt_number": 4
    },
    {
     "cell_type": "code",
     "collapsed": false,
     "input": [
      "ix = np.argsort(mjds)\n",
      "mjds = mjds[ix]\n",
      "delays = delays[ix]"
     ],
     "language": "python",
     "metadata": {},
     "outputs": [],
     "prompt_number": 5
    },
    {
     "cell_type": "code",
     "collapsed": false,
     "input": [
      "tels = tels[ix]"
     ],
     "language": "python",
     "metadata": {},
     "outputs": [],
     "prompt_number": 6
    },
    {
     "cell_type": "code",
     "collapsed": false,
     "input": [
      "a = np.loadtxt(\"partial_results_2.txt\")\n",
      "b = np.loadtxt(\"partial_results_3.txt\")\n",
      "c = np.loadtxt(\"partial_results_4.txt\")\n",
      "rs = np.vstack([a, b, c])"
     ],
     "language": "python",
     "metadata": {},
     "outputs": [],
     "prompt_number": 7
    },
    {
     "cell_type": "code",
     "collapsed": false,
     "input": [
      "ix = np.argmin(rs[:,0])\n",
      "err = rs[ix,0]\n",
      "parms = rs[ix,1:]\n",
      "(asini_i, pb_i, eps1_i, eps2_i, tasc_i, \n",
      "            acosi_i, q_i,\n",
      "            asini_o, pb_o, eps1_o, eps2_o, tasc_o, \n",
      "            acosi_o, delta_lan,\n",
      "            ) = parms\n",
      "print err, np.sqrt(err)"
     ],
     "language": "python",
     "metadata": {},
     "outputs": [
      {
       "output_type": "stream",
       "stream": "stdout",
       "text": [
        "5.67701643652e-10 2.38264903763e-05\n"
       ]
      }
     ],
     "prompt_number": 8
    },
    {
     "cell_type": "code",
     "collapsed": false,
     "input": [
      "orbital_parameters_fit_g = (asini_i, pb_i, eps1_i, eps2_i, tasc_i, \n",
      "            acosi_i, q_i,\n",
      "            asini_o, pb_o, eps1_o, eps2_o, tasc_o, \n",
      "            acosi_o, delta_lan,\n",
      "            )"
     ],
     "language": "python",
     "metadata": {},
     "outputs": [],
     "prompt_number": 9
    },
    {
     "cell_type": "code",
     "collapsed": false,
     "input": [
      "year_length = 365.2425\n",
      "def remove_non_orbital(vec):\n",
      "    non_orbital_basis = np.vstack([\n",
      "                  np.cos(2*np.pi*mjds/year_length),\n",
      "                  np.sin(2*np.pi*mjds/year_length),\n",
      "                  mjds*np.sin(2*np.pi*mjds/year_length),\n",
      "                  mjds*np.sin(2*np.pi*mjds/year_length),\n",
      "                  np.cos(4*np.pi*mjds/year_length),\n",
      "                  np.sin(4*np.pi*mjds/year_length),\n",
      "                  mjds,\n",
      "                  mjds**2/2.,\n",
      "                  np.ones_like(mjds),\n",
      "        ]).T\n",
      "    x, res, rk, s = scipy.linalg.lstsq(non_orbital_basis, vec)\n",
      "    return vec-np.dot(non_orbital_basis,x)\n",
      "def remove_trend(vec):\n",
      "    non_orbital_basis = np.vstack([\n",
      "                  mjds,\n",
      "                  mjds**2/2.,\n",
      "                  np.ones_like(mjds),\n",
      "                  np.arange(1,len(tel_list))[:,None]==tels[None,:],\n",
      "                  #np.cos(2*np.pi*mjds/year_length),\n",
      "                  #np.sin(2*np.pi*mjds/year_length),\n",
      "        ]).T\n",
      "    x, res, rk, s = scipy.linalg.lstsq(non_orbital_basis, vec)\n",
      "    return vec-np.dot(non_orbital_basis,x)"
     ],
     "language": "python",
     "metadata": {},
     "outputs": [],
     "prompt_number": 10
    },
    {
     "cell_type": "code",
     "collapsed": false,
     "input": [
      "z_cache = {}\n",
      "deriv_cache = {}\n"
     ],
     "language": "python",
     "metadata": {},
     "outputs": [],
     "prompt_number": 11
    },
    {
     "cell_type": "code",
     "collapsed": false,
     "input": [
      "tol = 1e-16\n",
      "def eval_zs(args):\n",
      "    print \"eval:\", args,\n",
      "\n",
      "    initial_values, jac = kepler.kepler_three_body_measurable(*(list(args)+[0,np.zeros(3),np.zeros(3),0]))\n",
      "    vectors = jac.T # all of them, why not?\n",
      "    \n",
      "    if tuple(initial_values) not in z_cache:\n",
      "        O = quad_integrate.ODE(quad_integrate.KeplerRHS(),\n",
      "               initial_values, 0,\n",
      "               rtol = tol, atol = tol,\n",
      "               vectors = [],\n",
      "               delta = 1e-10)\n",
      "        zs = []\n",
      "        for t in mjds:\n",
      "            O.integrate_to(t)\n",
      "            zs.append(O.x[2])\n",
      "        zs = np.array(zs)\n",
      "        z_cache[tuple(initial_values)] = zs\n",
      "    else:\n",
      "        zs = z_cache[tuple(initial_values)]\n",
      "    evec = remove_trend(zs-delays)\n",
      "    print np.sqrt(np.mean(evec**2))\n",
      "    with open(\"partial_results_vlbi_4.txt\",\"a\") as f:\n",
      "        f.write(\"\\t\".join(repr(f) for f in (np.mean(evec**2),) + tuple(args)))\n",
      "        f.write(\"\\n\")\n",
      "        f.flush()\n",
      "    return np.asarray(evec, float)\n",
      "def eval_derivs(args):\n",
      "    print \"deriv:\", args,\n",
      "\n",
      "    initial_values, jac = kepler.kepler_three_body_measurable(*(list(args)+[0,np.zeros(3),np.zeros(3),0]))\n",
      "    vectors = jac[:,:14].T # all of them, why not?\n",
      "    \n",
      "    if tuple(initial_values) not in deriv_cache:\n",
      "        O = quad_integrate.ODE(quad_integrate.KeplerRHS(),\n",
      "               initial_values, 0,\n",
      "               rtol = tol, atol = tol,\n",
      "               vectors = vectors,\n",
      "               delta = 1e-10)\n",
      "        zs = []\n",
      "        jac_all = []\n",
      "        for t in mjds:\n",
      "            O.integrate_to(t)\n",
      "            zs.append(O.x[2])\n",
      "            jac_all.append(O.dx[2,:])\n",
      "        zs = np.array(zs)\n",
      "        jac_all = np.array(jac_all)\n",
      "        zs = np.array(zs)\n",
      "        z_cache[tuple(initial_values)] = zs\n",
      "        deriv_cache[tuple(initial_values)] = jac_all\n",
      "    else:\n",
      "        zs = z_cache[tuple(initial_values)]\n",
      "        jac_all = deriv_cache[tuple(initial_values)]\n",
      "    \n",
      "    evec = remove_trend(zs-delays)\n",
      "    for i in range(jac_all.shape[1]):\n",
      "        jac_all[:,i] = remove_trend(jac_all[:,i])\n",
      "    print np.sqrt(np.mean(evec**2))\n",
      "    with open(\"partial_results_vlbi_4.txt\",\"a\") as f:\n",
      "        f.write(\"\\t\".join(repr(f) for f in (np.mean(evec**2),) + tuple(args)))\n",
      "        f.write(\"\\n\")\n",
      "        f.flush()\n",
      "    return np.asarray(jac_all, float)"
     ],
     "language": "python",
     "metadata": {},
     "outputs": [],
     "prompt_number": 16
    },
    {
     "cell_type": "code",
     "collapsed": false,
     "input": [
      "r = scipy.optimize.leastsq(eval_zs, \n",
      "    orbital_parameters_fit_g,\n",
      "    Dfun=eval_derivs)"
     ],
     "language": "python",
     "metadata": {},
     "outputs": [
      {
       "output_type": "stream",
       "stream": "stdout",
       "text": [
        "eval: [  1.21747254e+00   1.62940503e+00  -9.05267619e-05   6.81643133e-04\n",
        "   4.07503484e-01   7.44395928e-01   1.16726615e-01   7.46726292e+01\n",
        "   3.27254519e+02  -3.46806555e-03   3.51841591e-02   3.13932757e+02\n",
        "   3.94975669e+01   2.54883710e-02] 2.51213477028e-05\n",
        "deriv: [  1.21747254e+00   1.62940503e+00  -9.05267619e-05   6.81643133e-04\n",
        "   4.07503484e-01   7.44395928e-01   1.16726615e-01   7.46726292e+01\n",
        "   3.27254519e+02  -3.46806555e-03   3.51841591e-02   3.13932757e+02\n",
        "   3.94975669e+01   2.54883710e-02] "
       ]
      },
      {
       "output_type": "stream",
       "stream": "stdout",
       "text": [
        "2.51213477028e-05\n",
        "eval: [  1.21747254e+00   1.62940503e+00  -9.05267619e-05   6.81643133e-04\n",
        "   4.07503484e-01   7.44395928e-01   1.16726615e-01   7.46726292e+01\n",
        "   3.27254519e+02  -3.46806555e-03   3.51841591e-02   3.13932757e+02\n",
        "   3.94975669e+01   2.54883710e-02] 2.51213477028e-05\n",
        "eval: [  1.21747254e+00   1.62940503e+00  -9.05267619e-05   6.81643133e-04\n",
        "   4.07503484e-01   7.44395928e-01   1.16726615e-01   7.46726292e+01\n",
        "   3.27254519e+02  -3.46806555e-03   3.51841591e-02   3.13932757e+02\n",
        "   3.94975669e+01   2.54883710e-02] 2.51213477028e-05\n",
        "deriv: [  1.21747254e+00   1.62940503e+00  -9.05267619e-05   6.81643133e-04\n",
        "   4.07503484e-01   7.44395928e-01   1.16726615e-01   7.46726292e+01\n",
        "   3.27254519e+02  -3.46806555e-03   3.51841591e-02   3.13932757e+02\n",
        "   3.94975669e+01   2.54883710e-02] "
       ]
      },
      {
       "output_type": "stream",
       "stream": "stdout",
       "text": [
        "2.51213477028e-05\n",
        "eval: [  1.21748287e+00   1.62940462e+00  -9.05797869e-05   6.81728834e-04\n",
        "   4.07497945e-01   7.46676263e-01   1.21037709e-01   7.46726503e+01\n",
        "   3.27255429e+02  -3.46667412e-03   3.51847333e-02   3.13933714e+02\n",
        "   3.94973151e+01   1.44938043e-02] "
       ]
      },
      {
       "output_type": "stream",
       "stream": "stdout",
       "text": [
        "4.18787538144e-05\n",
        "eval: [  1.21748409e+00   1.62940499e+00  -9.02961006e-05   6.81865560e-04\n",
        "   4.07503273e-01   7.42698028e-01   1.17086608e-01   7.46725661e+01\n",
        "   3.27254624e+02  -3.46804309e-03   3.51843908e-02   3.13932874e+02\n",
        "   3.95026926e+01   1.55209790e-02] "
       ]
      },
      {
       "output_type": "stream",
       "stream": "stdout",
       "text": [
        "3.50448206243e-05\n",
        "eval: [  1.21747597e+00   1.62940502e+00  -8.85958221e-05   6.82553781e-04\n",
        "   4.07504034e-01   7.44548295e-01   1.16663306e-01   7.46726152e+01\n",
        "   3.27254529e+02  -3.46802044e-03   3.51842149e-02   3.13932761e+02\n",
        "   3.94981210e+01   2.17915138e-02] "
       ]
      },
      {
       "output_type": "stream",
       "stream": "stdout",
       "text": [
        "3.18353349516e-05\n"
       ]
      }
     ],
     "prompt_number": 17
    },
    {
     "cell_type": "code",
     "collapsed": false,
     "input": [
      "r"
     ],
     "language": "python",
     "metadata": {},
     "outputs": [
      {
       "output_type": "pyout",
       "prompt_number": 18,
       "text": [
        "(array([  1.21747254e+00,   1.62940503e+00,  -9.05267619e-05,\n",
        "         6.81643133e-04,   4.07503484e-01,   7.44395928e-01,\n",
        "         1.16726615e-01,   7.46726292e+01,   3.27254519e+02,\n",
        "        -3.46806555e-03,   3.51841591e-02,   3.13932757e+02,\n",
        "         3.94975669e+01,   2.54883710e-02]),\n",
        " 2)"
       ]
      }
     ],
     "prompt_number": 18
    },
    {
     "cell_type": "code",
     "collapsed": false,
     "input": [
      "orbital_parameters_fit_g = r[0]"
     ],
     "language": "python",
     "metadata": {},
     "outputs": [],
     "prompt_number": 19
    },
    {
     "cell_type": "code",
     "collapsed": false,
     "input": [
      "1./r[0][6]"
     ],
     "language": "python",
     "metadata": {},
     "outputs": [
      {
       "output_type": "pyout",
       "prompt_number": 21,
       "text": [
        "8.567026439260367"
       ]
      }
     ],
     "prompt_number": 21
    },
    {
     "cell_type": "code",
     "collapsed": false,
     "input": [],
     "language": "python",
     "metadata": {},
     "outputs": []
    }
   ],
   "metadata": {}
  }
 ]
}