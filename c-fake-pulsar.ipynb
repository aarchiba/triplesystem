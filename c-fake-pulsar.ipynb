{
 "metadata": {
  "name": "c-fake-pulsar"
 },
 "nbformat": 3,
 "nbformat_minor": 0,
 "worksheets": [
  {
   "cells": [
    {
     "cell_type": "code",
     "collapsed": false,
     "input": [
      "%load_ext autoreload\n",
      "\n",
      "%autoreload 2"
     ],
     "language": "python",
     "metadata": {},
     "outputs": [],
     "prompt_number": 1
    },
    {
     "cell_type": "code",
     "collapsed": false,
     "input": [
      "import subprocess\n",
      "import os\n",
      "\n",
      "import residuals"
     ],
     "language": "python",
     "metadata": {},
     "outputs": [],
     "prompt_number": 37
    },
    {
     "cell_type": "code",
     "collapsed": false,
     "input": [
      "psr = {}\n",
      "\n",
      "psr['P'] = 0.002 # s\n",
      "psr['B'] = 1e8 # G\n",
      "psr['RMS'] = 1. # us\n",
      "\n",
      "psr['DM'] = 10.\n",
      "psr['PMRA'] = 5.\n",
      "psr['PMDEC'] = 3.\n",
      "psr['PX'] = 1.\n",
      "\n",
      "psr['PB'] = 1.6 # days\n",
      "psr['MPSR'] = 1.4 # solarmass\n",
      "psr['M2'] = 0.2 # solarmass\n",
      "psr['I'] = np.pi/6\n",
      "psr['E'] = 0.05\n",
      "psr['OM'] = 95 # degrees\n",
      "psr['T0'] = 55920"
     ],
     "language": "python",
     "metadata": {},
     "outputs": [],
     "prompt_number": 55
    },
    {
     "cell_type": "code",
     "collapsed": false,
     "input": [
      "psr['PDOT'] = (psr['B']/3.2e19)**2/psr['P']\n",
      "\n",
      "Tsun = 4.925490947e-6 # mus\n",
      "psr['PBs'] = psr['PB']*86400\n",
      "psr['MTOT'] = psr['MPSR']+psr['M2']\n",
      "psr['f'] = (psr['M2']*np.sin(psr['I']))**3/psr['MTOT']**2\n",
      "psr['ASINI'] = (psr['f']*Tsun*psr['PBs']**2/(4*np.pi**2))**(1./3)\n",
      "psr['F0'] = 1./psr['P']\n",
      "psr['F1'] = -psr['PDOT']/psr['P']**2\n",
      "\n",
      "psr['OMDOT'] = 3*Tsun**(2./3)*(psr['PBs']/(2*np.pi))**(-5./3)*psr['MTOT']**(2./3)/(1-psr['E']**2)\n",
      "psr['GAMMA'] = Tsun**(2./3)*(psr['PBs']/(2*np.pi))**(1./3)*psr['E']*psr['M2']*(psr['MPSR']+2*psr['M2'])/psr['MTOT']**(4./3)\n",
      "psr['R'] = Tsun*psr['M2']\n",
      "psr['SINI'] = Tsun**(-1./3)*(psr['PBs']/(2*np.pi))**(-2./3)*psr['ASINI']*psr['MTOT']**(2./3)/psr['M2']\n",
      "\n",
      "psr['PBDOT'] = 0 # gravitational radiation not implemented"
     ],
     "language": "python",
     "metadata": {},
     "outputs": [],
     "prompt_number": 56
    },
    {
     "cell_type": "code",
     "collapsed": false,
     "input": [
      "psr"
     ],
     "language": "python",
     "metadata": {},
     "outputs": [
      {
       "output_type": "pyout",
       "prompt_number": 57,
       "text": [
        "{'ASINI': 0.97657534969295468,\n",
        " 'B': 100000000.0,\n",
        " 'DM': 10.0,\n",
        " 'E': 0.05,\n",
        " 'F0': 500.0,\n",
        " 'F1': -1.2207031250000001e-15,\n",
        " 'GAMMA': 7.80243508225614e-05,\n",
        " 'I': 0.5235987755982988,\n",
        " 'M2': 0.2,\n",
        " 'MPSR': 1.4,\n",
        " 'MTOT': 1.5999999999999999,\n",
        " 'OM': 95,\n",
        " 'OMDOT': 6.8944283243124e-11,\n",
        " 'P': 0.002,\n",
        " 'PB': 1.6,\n",
        " 'PBDOT': 0,\n",
        " 'PBs': 138240.0,\n",
        " 'PDOT': 4.8828125e-21,\n",
        " 'PMDEC': 3.0,\n",
        " 'PMRA': 5.0,\n",
        " 'PX': 1.0,\n",
        " 'R': 9.850981894e-07,\n",
        " 'RMS': 1.0,\n",
        " 'SINI': 0.5,\n",
        " 'T0': 55920,\n",
        " 'f': 0.00039062499999999997}"
       ]
      }
     ],
     "prompt_number": 57
    },
    {
     "cell_type": "code",
     "collapsed": false,
     "input": [
      "parfile = \"\"\"PSR J0000+00\n",
      "RAJ 00:00:00.000\n",
      "DECJ 00:00:00.000\n",
      "PMRA {PMRA}\n",
      "PMDEC {PMDEC}\n",
      "PX {PX}\n",
      "F0 {F0}\n",
      "F1 {F1}\n",
      "PEPOCH 56100\n",
      "DM {DM}\n",
      "SOLARN0 10\n",
      "EPHEM DE405\n",
      "CLK UTC(NIST)\n",
      "UNITS TDB\n",
      "TIMEEPH FB90\n",
      "CORRECT_TROPOSPHERE N\n",
      "PLANET_SHAPIRO N\n",
      "DILATEFREQ N\n",
      "TZRMJD 55920\n",
      "TZRFRQ 99999.999\n",
      "TZRSITE @\n",
      "BINARY DD\n",
      "A1     {ASINI}\n",
      "E      {E}\n",
      "T0     {T0}\n",
      "PB     {PB}\n",
      "OM     {OM}\n",
      "OMDOT  {OMDOT}\n",
      "PBDOT  0\n",
      "GAMMA  {GAMMA}\n",
      "M2     {M2}\n",
      "XDOT   0\n",
      "EDOT   0\n",
      "\"\"\".format(**psr)\n",
      "print parfile"
     ],
     "language": "python",
     "metadata": {},
     "outputs": [
      {
       "output_type": "stream",
       "stream": "stdout",
       "text": [
        "PSR J0000+00\n",
        "RAJ 00:00:00.000\n",
        "DECJ 00:00:00.000\n",
        "PMRA 5.0\n",
        "PMDEC 3.0\n",
        "PX 1.0\n",
        "F0 500.0\n",
        "F1 -1.220703125e-15\n",
        "PEPOCH 56100\n",
        "DM 10.0\n",
        "SOLARN0 10\n",
        "EPHEM DE405\n",
        "CLK UTC(NIST)\n",
        "UNITS TDB\n",
        "TIMEEPH FB90\n",
        "CORRECT_TROPOSPHERE N\n",
        "PLANET_SHAPIRO N\n",
        "DILATEFREQ N\n",
        "TZRMJD 55920\n",
        "TZRFRQ 99999.999\n",
        "TZRSITE @\n",
        "BINARY DD\n",
        "A1     0.976575349693\n",
        "E      0.05\n",
        "T0     55920\n",
        "PB     1.6\n",
        "OM     95\n",
        "OMDOT  6.89442832431e-11\n",
        "PBDOT  0\n",
        "GAMMA  7.80243508226e-05\n",
        "M2     0.2\n",
        "XDOT   0\n",
        "EDOT   0\n",
        "\n"
       ]
      }
     ],
     "prompt_number": 58
    },
    {
     "cell_type": "code",
     "collapsed": false,
     "input": [
      "def write_timfile(f, times, site='3', freq=1400.):\n",
      "    for t in times:\n",
      "        t_base = np.floor(t)\n",
      "        t_frac = t-np.floor(t)\n",
      "        strtoa = repr(int(t_base))+(\"%.100f\"%t_frac)[1:]\n",
      "        if abs(float(strtoa)-t)>1e-5:\n",
      "            raise ValueError(\"t: %s strtoa: %s\" % (t,strtoa))\n",
      "        f.write(\"%s              %8s %19s     1.00\\n\" % (site,freq,strtoa[:19]))\n"
     ],
     "language": "python",
     "metadata": {},
     "outputs": [],
     "prompt_number": 59
    },
    {
     "cell_type": "code",
     "collapsed": false,
     "input": [
      "with open(\"fake-pulsar.tim\",\"wt\") as f:\n",
      "    write_timfile(f, 55920+np.arange(10))"
     ],
     "language": "python",
     "metadata": {},
     "outputs": [],
     "prompt_number": 60
    },
    {
     "cell_type": "code",
     "collapsed": false,
     "input": [
      "times = np.linspace(55920, 56500, 30000).astype(np.float128)"
     ],
     "language": "python",
     "metadata": {},
     "outputs": [],
     "prompt_number": 61
    },
    {
     "cell_type": "code",
     "collapsed": false,
     "input": [
      "with open(\"fake-pulsar.tim\",\"wt\") as f:\n",
      "    write_timfile(f, times)\n",
      "with open(\"fake-pulsar.par\",\"wt\") as f:\n",
      "    f.write(parfile)\n",
      "subprocess.check_call([\"tempo\", \"-f\", \"fake-pulsar.par\", \"fake-pulsar.tim\"])\n",
      "resids = residuals.read_residuals()\n",
      "times -= resids.prefit_sec/86400\n",
      "print np.sqrt(np.mean(resids.prefit_sec**2))"
     ],
     "language": "python",
     "metadata": {},
     "outputs": [
      {
       "output_type": "stream",
       "stream": "stdout",
       "text": [
        "3.52551135449e-09\n"
       ]
      }
     ],
     "prompt_number": 74
    },
    {
     "cell_type": "code",
     "collapsed": false,
     "input": [
      "# add bogus noise\n",
      "# use tempo to fit for parameters\n",
      "# use a Fitter with a bogus third body to fit for parameters\n",
      "# use emcee to estimate the errors"
     ],
     "language": "python",
     "metadata": {},
     "outputs": [],
     "prompt_number": 75
    },
    {
     "cell_type": "code",
     "collapsed": false,
     "input": [
      "times += psr['RMS']*1e-6/86400*np.random.randn(len(times))"
     ],
     "language": "python",
     "metadata": {},
     "outputs": [],
     "prompt_number": 76
    },
    {
     "cell_type": "code",
     "collapsed": false,
     "input": [
      "with open(\"fake-pulsar.tim\",\"wt\") as f:\n",
      "    write_timfile(f, times)"
     ],
     "language": "python",
     "metadata": {},
     "outputs": [],
     "prompt_number": 77
    },
    {
     "cell_type": "code",
     "collapsed": false,
     "input": [
      "parfile_fit = \"\"\"PSR J0000+00\n",
      "RAJ 00:00:00.000 1\n",
      "DECJ 00:00:00.000 1\n",
      "PMRA {PMRA} 1\n",
      "PMDEC {PMDEC} 1\n",
      "PX {PX} 1\n",
      "F0 {F0} 1\n",
      "F1 {F1} 1\n",
      "PEPOCH 56100\n",
      "DM {DM}\n",
      "SOLARN0 10\n",
      "EPHEM DE405\n",
      "CLK UTC(NIST)\n",
      "UNITS TDB\n",
      "TIMEEPH FB90\n",
      "CORRECT_TROPOSPHERE N\n",
      "PLANET_SHAPIRO N\n",
      "DILATEFREQ N\n",
      "TZRMJD 55920\n",
      "TZRFRQ 99999.999\n",
      "TZRSITE @\n",
      "BINARY DD\n",
      "A1     {ASINI} 1\n",
      "E      {E} 1\n",
      "T0     {T0} 1\n",
      "PB     {PB} 1\n",
      "OM     {OM} 1\n",
      "OMDOT  {OMDOT} 1\n",
      "PBDOT  0\n",
      "GAMMA  {GAMMA} 1\n",
      "M2     {M2} 1\n",
      "XDOT   0\n",
      "EDOT   0\n",
      "\"\"\".format(**psr)\n",
      "with open(\"fake-pulsar-fit.par\",\"wt\") as f:\n",
      "    f.write(parfile_fit)\n",
      "print parfile_fit"
     ],
     "language": "python",
     "metadata": {},
     "outputs": [
      {
       "output_type": "stream",
       "stream": "stdout",
       "text": [
        "PSR J0000+00\n",
        "RAJ 00:00:00.000 1\n",
        "DECJ 00:00:00.000 1\n",
        "PMRA 5.0 1\n",
        "PMDEC 3.0 1\n",
        "PX 1.0 1\n",
        "F0 500.0 1\n",
        "F1 -1.220703125e-15 1\n",
        "PEPOCH 56100\n",
        "DM 10.0\n",
        "SOLARN0 10\n",
        "EPHEM DE405\n",
        "CLK UTC(NIST)\n",
        "UNITS TDB\n",
        "TIMEEPH FB90\n",
        "CORRECT_TROPOSPHERE N\n",
        "PLANET_SHAPIRO N\n",
        "DILATEFREQ N\n",
        "TZRMJD 55920\n",
        "TZRFRQ 99999.999\n",
        "TZRSITE @\n",
        "BINARY DD\n",
        "A1     0.976575349693 1\n",
        "E      0.05 1\n",
        "T0     55920 1\n",
        "PB     1.6 1\n",
        "OM     95 1\n",
        "OMDOT  6.89442832431e-11 1\n",
        "PBDOT  0\n",
        "GAMMA  7.80243508226e-05 1\n",
        "M2     0.2 1\n",
        "XDOT   0\n",
        "EDOT   0\n",
        "\n"
       ]
      }
     ],
     "prompt_number": 78
    },
    {
     "cell_type": "code",
     "collapsed": false,
     "input": [
      "subprocess.check_call([\"tempo\", \"-f\", \"fake-pulsar-fit.par\", \"-no\", \"fake-pulsar.pulses\", \"fake-pulsar.tim\"])"
     ],
     "language": "python",
     "metadata": {},
     "outputs": [
      {
       "output_type": "pyout",
       "prompt_number": 81,
       "text": [
        "0"
       ]
      }
     ],
     "prompt_number": 81
    },
    {
     "cell_type": "code",
     "collapsed": false,
     "input": [
      "parout = open(\"J0000+00.par\").read()\n",
      "print parout"
     ],
     "language": "python",
     "metadata": {},
     "outputs": [
      {
       "output_type": "stream",
       "stream": "stdout",
       "text": [
        "PSR              J0000+00    \n",
        "RAJ      00:00:00.00481603  1          0.03637283\n",
        "DECJ      00:00:00.1666238  1           1.2585296\n",
        "PMRA              -64.6801  1            916.1187\n",
        "PMDEC             163.7908  1           2113.2277\n",
        "PX                  0.9803  1              0.0139\n",
        "F0    500.0000000000000568  1  0.0000000000021882\n",
        "F1     -1.220600523639D-15  1  2.690966798415D-19\n",
        "PEPOCH        56100.000000\n",
        "START            55919.999\n",
        "FINISH           56500.001\n",
        "DM               10.000000\n",
        "SOLARN0              10.00\n",
        "EPHEM               DE405\n",
        "CLK                 UTC(NIST)   \n",
        "UNITS               TDB\n",
        "TIMEEPH             FB90\n",
        "T2CMETHOD           TEMPO\n",
        "CORRECT_TROPOSPHERE N\n",
        "PLANET_SHAPIRO      N\n",
        "DILATEFREQ          N\n",
        "NTOA                 30000\n",
        "TRES                  1.00\n",
        "TZRMJD  56100.01866729072030\n",
        "TZRFRQ            1400.000\n",
        "TZRSITE                  3\n",
        "NITS                     1\n",
        "BINARY            DD      \n",
        "A1             0.976766197  1         0.016856079\n",
        "E             0.0500050519  1        0.0000020026\n",
        "T0         55920.000002210  1         0.000000907\n",
        "PB          1.600000000533  1      0.000000000815\n",
        "OM         94.994059429542  1     11.303460597179\n",
        "OMDOT            0.0000268  1           0.0000419\n",
        "GAMMA           -0.0000146  1           0.1931580\n",
        "M2             -404.816969  1          159.219940\n",
        "\n"
       ]
      }
     ],
     "prompt_number": 82
    },
    {
     "cell_type": "code",
     "collapsed": false,
     "input": [],
     "language": "python",
     "metadata": {},
     "outputs": []
    }
   ],
   "metadata": {}
  }
 ]
}