{
 "metadata": {
  "name": "n-toafit"
 },
 "nbformat": 3,
 "nbformat_minor": 0,
 "worksheets": [
  {
   "cells": [
    {
     "cell_type": "code",
     "collapsed": false,
     "input": [
      "%load_ext autoreload\n",
      "\n",
      "%autoreload 2"
     ],
     "language": "python",
     "metadata": {},
     "outputs": [],
     "prompt_number": 1
    },
    {
     "cell_type": "code",
     "collapsed": false,
     "input": [
      "import subprocess\n",
      "import inspect\n",
      "\n",
      "import scipy.linalg\n",
      "\n",
      "import minuit\n",
      "\n",
      "import threebody\n",
      "import kepler\n",
      "import quad_integrate\n",
      "import minuit_wrap\n"
     ],
     "language": "python",
     "metadata": {},
     "outputs": [],
     "prompt_number": 2
    },
    {
     "cell_type": "code",
     "collapsed": false,
     "input": [
      "base_mjd = 55920\n",
      "tzrmjd_base = 56100"
     ],
     "language": "python",
     "metadata": {},
     "outputs": [],
     "prompt_number": 3
    },
    {
     "cell_type": "code",
     "collapsed": false,
     "input": [
      "mjds, pulses, tel_list, tels, uncerts = threebody.load_toas()"
     ],
     "language": "python",
     "metadata": {},
     "outputs": [],
     "prompt_number": 4
    },
    {
     "cell_type": "code",
     "collapsed": false,
     "input": [
      "phase_uncerts = uncerts*365.9533436144258189 # approximate F0\n",
      "print np.mean(phase_uncerts), np.mean(uncerts)"
     ],
     "language": "python",
     "metadata": {},
     "outputs": [
      {
       "output_type": "stream",
       "stream": "stdout",
       "text": [
        "0.000623884276008 1.70481917133e-06\n"
       ]
      }
     ],
     "prompt_number": 5
    },
    {
     "cell_type": "code",
     "collapsed": false,
     "input": [
      "print tel_list"
     ],
     "language": "python",
     "metadata": {},
     "outputs": [
      {
       "output_type": "stream",
       "stream": "stdout",
       "text": [
        "['AO1350', 'AO1440', 'AO327', 'GBT1500', 'GBT350', 'GBT820', 'WSRT1400']\n"
       ]
      }
     ],
     "prompt_number": 6
    },
    {
     "cell_type": "code",
     "collapsed": false,
     "input": [
      "jmatrix,jnames = threebody.trend_matrix(mjds, tel_list, tels, const=False, P=False, Pdot=False, jumps=True)\n",
      "#jnames = ['j_'+n for n in tel_list[1:]]\n",
      "print jnames"
     ],
     "language": "python",
     "metadata": {},
     "outputs": [
      {
       "output_type": "stream",
       "stream": "stdout",
       "text": [
        "['j_AO1440', 'j_AO327', 'j_GBT1500', 'j_GBT350', 'j_GBT820', 'j_WSRT1400']\n"
       ]
      }
     ],
     "prompt_number": 7
    },
    {
     "cell_type": "code",
     "collapsed": false,
     "input": [],
     "language": "python",
     "metadata": {},
     "outputs": [],
     "prompt_number": 7
    },
    {
     "cell_type": "code",
     "collapsed": false,
     "input": [
      "resid_cache = {}\n",
      "def residuals(p):\n",
      "    pc = p.copy()\n",
      "    del pc['tzrmjd']\n",
      "    del pc['f0']\n",
      "    del pc['f1']\n",
      "    pc = tuple(sorted(pc.items()))\n",
      "    if pc not in resid_cache:\n",
      "        jumps = np.dot(jmatrix,np.array([p[n] for n in jnames]))\n",
      "        o = threebody.compute_orbit_bbat([p[n] for n in parameters[:14]], \n",
      "            (mjds-base_mjd)-(jumps/86400.).astype(np.float128))\n",
      "        t_psr_s = o['t_psr']*86400.\n",
      "        resid_cache[pc] = t_psr_s\n",
      "    t_psr_s = resid_cache[pc]-(p['tzrmjd']+(tzrmjd_base-base_mjd))*86400\n",
      "    # FIXME: assumes PEPOCH=TZRMJD\n",
      "    phase = p['f0']*t_psr_s+p['f1']*t_psr_s**2/2.\n",
      "    return phase-pulses\n",
      "\n",
      "def mfun(asini_i, pb_i, eps1_i, eps2_i, tasc_i, \n",
      "            acosi_i, q_i,\n",
      "            asini_o, pb_o, eps1_o, eps2_o, tasc_o, \n",
      "            acosi_o, delta_lan,\n",
      "            tzrmjd, f0, f1, \n",
      "            j_AO1440, j_AO327, j_GBT1500, \n",
      "            j_GBT350, j_GBT820, j_WSRT1400):\n",
      "    r = residuals(locals())\n",
      "    return np.sum((r/phase_uncerts)**2)\n",
      "parameters = inspect.getargspec(mfun).args"
     ],
     "language": "python",
     "metadata": {},
     "outputs": [],
     "prompt_number": 38
    },
    {
     "cell_type": "code",
     "collapsed": false,
     "input": [
      "F = minuit_wrap.Fitter(mfun)"
     ],
     "language": "python",
     "metadata": {},
     "outputs": [],
     "prompt_number": 39
    },
    {
     "cell_type": "code",
     "collapsed": false,
     "input": [
      "best_parameters = {'acosi_i': 1.4929862588663960758,\n",
      " 'acosi_o': 91.617941797449888988,\n",
      " 'asini_i': 1.2175287020486945866,\n",
      " 'asini_o': 74.672693058950960536,\n",
      " 'delta_lan': -5.8150284439036972337e-05,\n",
      " 'eps1_i': 0.00068567061735558419287,\n",
      " 'eps1_o': 0.035186307163170868541,\n",
      " 'eps2_i': -9.1695444739146245634e-05,\n",
      " 'eps2_o': -0.0034621201009006383508,\n",
      " 'f0': 365.95336879329157809,\n",
      " 'f1': -2.447635756534791276e-15,\n",
      " 'j_AO1440': 1.5076559907194445347e-06,\n",
      " 'j_AO327': 0.00049038731991381206183,\n",
      " 'j_GBT1500': 1.4832296152922550753e-05,\n",
      " 'j_GBT350': 0.00017128793851210017519,\n",
      " 'j_GBT820': 1.7349580378302418578e-05,\n",
      " 'j_WSRT1400': -4.7722633292688620323e-05,\n",
      " 'pb_i': 1.6294017478029645897,\n",
      " 'pb_o': 327.25751242302521665,\n",
      " 'q_i': 0.13737824720827664527,\n",
      " 'tasc_i': 0.40751930282264762069,\n",
      " 'tasc_o': 313.93560601843813529,\n",
      " 'tzrmjd': 0.99998763672377-1}\n",
      "best_errors = {'acosi_i': 3.370303801835014e-08,\n",
      " 'acosi_o': 4.8167846714967205e-05,\n",
      " 'asini_i': 4.509055552231862e-09,\n",
      " 'asini_o': 3.508272414379927e-08,\n",
      " 'delta_lan': 1.2479040398812225e-06,\n",
      " 'eps1_i': 9.858000137330593e-09,\n",
      " 'eps1_o': 6.54699277355958e-11,\n",
      " 'eps2_i': 2.725769768396246e-08,\n",
      " 'eps2_o': 7.901098931557688e-10,\n",
      " 'f0': 3.022368721482778e-13,\n",
      " 'f1': 6.444399430351435e-20,\n",
      " 'j_AO1440': 1.110276862079532e-08,\n",
      " 'j_AO327': 1.302531501186911e-07,\n",
      " 'j_GBT1500': 1.6651918660122316e-08,\n",
      " 'j_GBT350': 3.447346279775526e-07,\n",
      " 'j_GBT820': 8.688588616299676e-08,\n",
      " 'j_WSRT1400': 2.8068526880908094e-08,\n",
      " 'pb_i': 3.66973899299573e-11,\n",
      " 'pb_o': 3.356634201441321e-08,\n",
      " 'q_i': 4.013308092805307e-09,\n",
      " 'tasc_i': 5.255642407878276e-09,\n",
      " 'tasc_o': 1.2127481097118383e-08,\n",
      " 'tzrmjd': 5.710297721750182e-14}"
     ],
     "language": "python",
     "metadata": {},
     "outputs": [],
     "prompt_number": 52
    },
    {
     "cell_type": "code",
     "collapsed": false,
     "input": [
      "for p in F.parameters:\n",
      "    F.values[p] = best_parameters[p]\n",
      "for p in F.parameters:\n",
      "    F.errors[p] = best_errors[p]\n"
     ],
     "language": "python",
     "metadata": {},
     "outputs": [],
     "prompt_number": 53
    },
    {
     "cell_type": "code",
     "collapsed": false,
     "input": [
      "for p in F.parameters:\n",
      "    F.fixed[p] = True\n",
      "F.fixed['f0'] = False\n",
      "F.fixed['f1'] = False\n",
      "F.fixed['tzrmjd'] = False"
     ],
     "language": "python",
     "metadata": {},
     "outputs": [],
     "prompt_number": 54
    },
    {
     "cell_type": "code",
     "collapsed": false,
     "input": [
      "F.printMode = 3\n",
      "F.migrad()"
     ],
     "language": "python",
     "metadata": {},
     "outputs": [
      {
       "ename": "MinuitError",
       "evalue": "Covariance is not positive definite.",
       "output_type": "pyerr",
       "traceback": [
        "\u001b[0;31m---------------------------------------------------------------------------\u001b[0m\n\u001b[0;31mMinuitError\u001b[0m                               Traceback (most recent call last)",
        "\u001b[0;32m<ipython-input-55-50ff4641438d>\u001b[0m in \u001b[0;36m<module>\u001b[0;34m()\u001b[0m\n\u001b[1;32m      1\u001b[0m \u001b[0mF\u001b[0m\u001b[0;34m.\u001b[0m\u001b[0mprintMode\u001b[0m \u001b[0;34m=\u001b[0m \u001b[0;36m3\u001b[0m\u001b[0;34m\u001b[0m\u001b[0m\n\u001b[0;32m----> 2\u001b[0;31m \u001b[0mF\u001b[0m\u001b[0;34m.\u001b[0m\u001b[0mmigrad\u001b[0m\u001b[0;34m(\u001b[0m\u001b[0;34m)\u001b[0m\u001b[0;34m\u001b[0m\u001b[0m\n\u001b[0m",
        "\u001b[0;32m/home/aarchiba/projects/threebody/minuit_wrap.pyc\u001b[0m in \u001b[0;36mmigrad\u001b[0;34m(self)\u001b[0m\n\u001b[1;32m     96\u001b[0m     \u001b[0;32mdef\u001b[0m \u001b[0mmigrad\u001b[0m\u001b[0;34m(\u001b[0m\u001b[0mself\u001b[0m\u001b[0;34m)\u001b[0m\u001b[0;34m:\u001b[0m\u001b[0;34m\u001b[0m\u001b[0m\n\u001b[1;32m     97\u001b[0m         \u001b[0mself\u001b[0m\u001b[0;34m.\u001b[0m\u001b[0m_set_minuit\u001b[0m\u001b[0;34m(\u001b[0m\u001b[0;34m)\u001b[0m\u001b[0;34m\u001b[0m\u001b[0m\n\u001b[0;32m---> 98\u001b[0;31m         \u001b[0mr\u001b[0m \u001b[0;34m=\u001b[0m \u001b[0mself\u001b[0m\u001b[0;34m.\u001b[0m\u001b[0m_minuit\u001b[0m\u001b[0;34m.\u001b[0m\u001b[0mmigrad\u001b[0m\u001b[0;34m(\u001b[0m\u001b[0;34m)\u001b[0m\u001b[0;34m\u001b[0m\u001b[0m\n\u001b[0m\u001b[1;32m     99\u001b[0m         \u001b[0mself\u001b[0m\u001b[0;34m.\u001b[0m\u001b[0m_get_minuit\u001b[0m\u001b[0;34m(\u001b[0m\u001b[0;34m)\u001b[0m\u001b[0;34m\u001b[0m\u001b[0m\n\u001b[1;32m    100\u001b[0m         \u001b[0;32mreturn\u001b[0m \u001b[0mr\u001b[0m\u001b[0;34m\u001b[0m\u001b[0m\n",
        "\u001b[0;31mMinuitError\u001b[0m: Covariance is not positive definite."
       ]
      }
     ],
     "prompt_number": 55
    },
    {
     "cell_type": "code",
     "collapsed": false,
     "input": [
      "best_parameters = F.best_values.copy()"
     ],
     "language": "python",
     "metadata": {},
     "outputs": [],
     "prompt_number": 70
    },
    {
     "cell_type": "code",
     "collapsed": false,
     "input": [
      "r = residuals(best_parameters)\n",
      "for i, t in enumerate(tel_list):\n",
      "    c = tels==i\n",
      "    plt.plot(mjds[c],r[c],\".\",label=t)\n",
      "#plt.legend(loc=\"best\")\n"
     ],
     "language": "python",
     "metadata": {},
     "outputs": [
      {
       "output_type": "display_data",
       "png": "[encoded data removed]"
      }
     ],
     "prompt_number": 71
    },
    {
     "cell_type": "code",
     "collapsed": false,
     "input": [
      "inphases = ((mjds-best_parameters['tasc_i'])/best_parameters['pb_i']) % 1\n",
      "plt.hexbin(inphases, mjds, residuals(best_parameters)*1e6/best_parameters['f0'], gridsize=20)\n",
      "plt.xlabel(\"Inner orbital phase\")\n",
      "plt.ylabel(\"MJD\")\n",
      "plt.colorbar()\n",
      "#plt.ylabel(\"$\\mu$s\")\n",
      "plt.cool()\n",
      "plt.title(\"RMS %.2g $\\mu$s\" % np.std(residuals(best_parameters)*1e6/best_parameters['f0']))\n",
      "plt.savefig(\"toafit.pdf\")\n"
     ],
     "language": "python",
     "metadata": {},
     "outputs": [
      {
       "output_type": "display_data",
       "png": "[encoded data removed]"
      }
     ],
     "prompt_number": 72
    },
    {
     "cell_type": "code",
     "collapsed": false,
     "input": [
      "F.values"
     ],
     "language": "python",
     "metadata": {},
     "outputs": [
      {
       "output_type": "pyout",
       "prompt_number": 59,
       "text": [
        "{'acosi_i': 1.492986258866396,\n",
        " 'acosi_o': 91.61794179744989,\n",
        " 'asini_i': 1.2175287020486947,\n",
        " 'asini_o': 74.67269305895095,\n",
        " 'delta_lan': -5.815028443903697e-05,\n",
        " 'eps1_i': 0.0006856706173555842,\n",
        " 'eps1_o': 0.035186307163170866,\n",
        " 'eps2_i': -9.169544473914625e-05,\n",
        " 'eps2_o': -0.0034621201009006385,\n",
        " 'f0': 365.9533687932916,\n",
        " 'f1': -2.4476357565347913e-15,\n",
        " 'j_AO1440': 1.5076559907194446e-06,\n",
        " 'j_AO327': 0.000490387319913812,\n",
        " 'j_GBT1500': 1.483229615292255e-05,\n",
        " 'j_GBT350': 0.00017128793851210018,\n",
        " 'j_GBT820': 1.734958037830242e-05,\n",
        " 'j_WSRT1400': -4.772263329268862e-05,\n",
        " 'pb_i': 1.6294017478029645,\n",
        " 'pb_o': 327.2575124230252,\n",
        " 'q_i': 0.13737824720827665,\n",
        " 'tasc_i': 0.40751930282264764,\n",
        " 'tasc_o': 313.93560601843814,\n",
        " 'tzrmjd': -1.2363276229998554e-05}"
       ]
      }
     ],
     "prompt_number": 59
    },
    {
     "cell_type": "code",
     "collapsed": false,
     "input": [
      "F.set_normalization()"
     ],
     "language": "python",
     "metadata": {},
     "outputs": [],
     "prompt_number": 74
    },
    {
     "cell_type": "code",
     "collapsed": false,
     "input": [
      "for p in F.parameters:\n",
      "    F.values[p] = best_parameters[p]\n",
      "for p in F.parameters:\n",
      "    F.errors[p] = best_errors[p]\n"
     ],
     "language": "python",
     "metadata": {},
     "outputs": [],
     "prompt_number": 73
    },
    {
     "cell_type": "code",
     "collapsed": false,
     "input": [
      "for p in F.parameters:\n",
      "    F.fixed[p] = False"
     ],
     "language": "python",
     "metadata": {},
     "outputs": [],
     "prompt_number": 62
    },
    {
     "cell_type": "code",
     "collapsed": false,
     "input": [
      "F.printMode = 3\n",
      "F.strategy = 2\n",
      "F.eps = 1e-7\n",
      "F.tol = 100\n",
      "F.up = 1.7\n",
      "F.migrad()"
     ],
     "language": "python",
     "metadata": {},
     "outputs": [],
     "prompt_number": 75
    },
    {
     "cell_type": "code",
     "collapsed": false,
     "input": [
      "F.hesse()"
     ],
     "language": "python",
     "metadata": {},
     "outputs": [],
     "prompt_number": 76
    },
    {
     "cell_type": "code",
     "collapsed": false,
     "input": [
      "threebody.report(F)"
     ],
     "language": "python",
     "metadata": {},
     "outputs": [
      {
       "output_type": "stream",
       "stream": "stdout",
       "text": [
        "asini_i 1.217528702(5)e0\n",
        "pb_i 1.62940174780(4)e0\n",
        "eps1_i 6.85671(10)e-4\n",
        "eps2_i -9.170(3)e-5\n",
        "tasc_i 4.07519303(5)e-1\n",
        "acosi_i 1.49298626(3)e0\n",
        "q_i 1.37378247(4)e-1\n",
        "asini_o 7.467269306(4)e1\n",
        "pb_o 3.2725751242(3)e2\n",
        "eps1_o 3.518630716(7)e-2\n",
        "eps2_o -3.4621201(8)e-3\n",
        "tasc_o 3.13935606018(12)e2\n",
        "acosi_o 9.161794(5)e1\n",
        "delta_lan -5.82(12)e-5\n",
        "tzrmjd -1.236327623(6)e-5\n",
        "f0 3.659533687932916(3)e2\n",
        "f1 -2.44764(6)e-15\n",
        "j_AO1440 1.508(11)e-6\n",
        "j_AO327 4.9039(13)e-4\n",
        "j_GBT1500 1.4832(17)e-5\n",
        "j_GBT350 1.713(3)e-4\n",
        "j_GBT820 1.735(9)e-5\n",
        "j_WSRT1400 -4.772(3)e-5\n",
        "\n",
        "asini_i delta_lan -0.502601304021\n",
        "\n",
        "pb_i delta_lan -0.637944348519\n",
        "\n",
        "eps1_i tasc_i 0.723424823408\n",
        "\n",
        "\n",
        "\n",
        "\n",
        "\n",
        "asini_o delta_lan 0.548821669125\n",
        "\n",
        "\n",
        "\n",
        "\n",
        "\n",
        "\n",
        "\n",
        "\n",
        "\n",
        "\n",
        "j_AO1440 j_GBT1500 0.880363565181\n",
        "j_AO1440 j_WSRT1400 0.707005111349\n",
        "\n",
        "\n",
        "j_GBT1500 j_WSRT1400 0.658524605866\n",
        "\n",
        "\n",
        "\n"
       ]
      }
     ],
     "prompt_number": 21
    },
    {
     "cell_type": "code",
     "collapsed": false,
     "input": [
      "F.values"
     ],
     "language": "python",
     "metadata": {},
     "outputs": [
      {
       "output_type": "pyout",
       "prompt_number": 85,
       "text": [
        "{'acosi_i': 1.492996505749166051,\n",
        " 'acosi_o': 91.624327061946270585,\n",
        " 'asini_i': 1.2175286739463885032,\n",
        " 'asini_o': 74.672712940915864505,\n",
        " 'delta_lan': -4.8924067422821832562e-05,\n",
        " 'eps1_i': 0.00068569214948117362916,\n",
        " 'eps1_o': 0.035186266537560595716,\n",
        " 'eps2_i': -9.1663265850432053158e-05,\n",
        " 'eps2_o': -0.0034621353064823793319,\n",
        " 'f0': 365.95336879306462755,\n",
        " 'f1': -2.3087642545369393818e-15,\n",
        " 'j_AO1440': -5.2035840020719817456e-06,\n",
        " 'j_AO327': 0.00048620538587195378448,\n",
        " 'j_GBT1500': 8.2762648393068845411e-06,\n",
        " 'j_GBT350': 0.00016435240849134364285,\n",
        " 'j_GBT820': 1.39969928987975978e-05,\n",
        " 'j_WSRT1400': -5.4412712486553552976e-05,\n",
        " 'pb_i': 1.6294017469527389251,\n",
        " 'pb_o': 327.25754679334093919,\n",
        " 'q_i': 0.13737736822937013903,\n",
        " 'tasc_i': 0.40751933310868834821,\n",
        " 'tasc_o': 313.93561073710762493,\n",
        " 'tzrmjd': -1.2363237255575723422e-05}"
       ]
      }
     ],
     "prompt_number": 85
    },
    {
     "cell_type": "code",
     "collapsed": false,
     "input": [
      "F.errors"
     ],
     "language": "python",
     "metadata": {},
     "outputs": [
      {
       "output_type": "pyout",
       "prompt_number": 86,
       "text": [
        "{'acosi_i': 1.1364855283869259e-07,\n",
        " 'acosi_o': 0.00019120360006287366,\n",
        " 'asini_i': 1.621267616747125e-08,\n",
        " 'asini_o': 8.500526965230896e-08,\n",
        " 'delta_lan': 5.887930556206129e-06,\n",
        " 'eps1_i': 1.626776241835793e-08,\n",
        " 'eps1_o': 3.5025504505771786e-10,\n",
        " 'eps2_i': 2.1422489154240615e-08,\n",
        " 'eps2_o': 6.20211990305842e-10,\n",
        " 'f0': 2.6737212960806425e-12,\n",
        " 'f1': 7.154596587522638e-19,\n",
        " 'j_AO1440': 7.869581642299969e-08,\n",
        " 'j_AO327': 2.939829478062659e-07,\n",
        " 'j_GBT1500': 8.431206831925499e-08,\n",
        " 'j_GBT350': 7.385834466074228e-07,\n",
        " 'j_GBT820': 2.1775339741433153e-07,\n",
        " 'j_WSRT1400': 9.932751627769614e-08,\n",
        " 'pb_i': 1.0096889106962887e-10,\n",
        " 'pb_o': 1.3048863234327796e-07,\n",
        " 'q_i': 1.4736390586720232e-08,\n",
        " 'tasc_i': 9.763319569531049e-09,\n",
        " 'tasc_o': 6.285845016953283e-08,\n",
        " 'tzrmjd': 9.298470732599925e-13}"
       ]
      }
     ],
     "prompt_number": 86
    },
    {
     "cell_type": "code",
     "collapsed": false,
     "input": [
      "F.minos()"
     ],
     "language": "python",
     "metadata": {},
     "outputs": [
      {
       "ename": "MinuitError",
       "evalue": "MINOS failed.",
       "output_type": "pyerr",
       "traceback": [
        "\u001b[0;31m---------------------------------------------------------------------------\u001b[0m\n\u001b[0;31mMinuitError\u001b[0m                               Traceback (most recent call last)",
        "\u001b[0;32m<ipython-input-87-2961ae014c79>\u001b[0m in \u001b[0;36m<module>\u001b[0;34m()\u001b[0m\n\u001b[0;32m----> 1\u001b[0;31m \u001b[0mF\u001b[0m\u001b[0;34m.\u001b[0m\u001b[0mminos\u001b[0m\u001b[0;34m(\u001b[0m\u001b[0;34m)\u001b[0m\u001b[0;34m\u001b[0m\u001b[0m\n\u001b[0m",
        "\u001b[0;31mMinuitError\u001b[0m: MINOS failed."
       ]
      }
     ],
     "prompt_number": 87
    },
    {
     "cell_type": "code",
     "collapsed": false,
     "input": [
      "m_tot_i = kepler.mass(np.hypot(F.values['asini_i'],F.values['acosi_i'])*(1+1/F.values['q_i']), F.values['pb_i'])\n",
      "m_p = m_tot_i*(1-F.values['q_i'])\n",
      "m_i = m_p*F.values['q_i']\n",
      "#m_tot = m_tot_i*F.values['q_o']\n",
      "\n",
      "print m_p, m_i"
     ],
     "language": "python",
     "metadata": {},
     "outputs": [
      {
       "output_type": "stream",
       "stream": "stdout",
       "text": [
        "1.41508194254 0.194401476922\n"
       ]
      }
     ],
     "prompt_number": 32
    },
    {
     "cell_type": "code",
     "collapsed": false,
     "input": [
      "kepler.kepler_three_body_measurable(*(\n",
      "    [F.values[n] for n in kepler.three_body_parameters_measurable[:14]]\n",
      "    +[0,np.zeros(3),np.zeros(3),0]))[0][6::7]"
     ],
     "language": "python",
     "metadata": {},
     "outputs": [
      {
       "output_type": "pyout",
       "prompt_number": 36,
       "text": [
        "array([ 1.4423022 ,  0.19814095,  0.4114937 ])"
       ]
      }
     ],
     "prompt_number": 36
    },
    {
     "cell_type": "code",
     "collapsed": false,
     "input": [
      "np.hypot(np.float128(3),4).dtype"
     ],
     "language": "python",
     "metadata": {},
     "outputs": [
      {
       "output_type": "pyout",
       "prompt_number": 37,
       "text": [
        "dtype('float128')"
       ]
      }
     ],
     "prompt_number": 37
    },
    {
     "cell_type": "code",
     "collapsed": false,
     "input": [
      "vals, vecst = scipy.linalg.eigh(F._minuit.matrix())"
     ],
     "language": "python",
     "metadata": {},
     "outputs": [],
     "prompt_number": 81
    },
    {
     "cell_type": "code",
     "collapsed": false,
     "input": [
      "vals"
     ],
     "language": "python",
     "metadata": {},
     "outputs": [
      {
       "output_type": "pyout",
       "prompt_number": 82,
       "text": [
        "array([  2.85847354e-02,   6.84660924e-02,   1.24918635e-01,\n",
        "         3.19433879e-01,   4.43582024e-01,   5.76521114e-01,\n",
        "         2.10798059e+00,   2.96328249e+00,   3.52555685e+00,\n",
        "         4.24090220e+00,   4.44516808e+00,   4.53515945e+00,\n",
        "         4.82022307e+00,   6.88106212e+00,   8.81641342e+00,\n",
        "         1.63390807e+01,   1.95086560e+01,   3.19294533e+01,\n",
        "         3.65756613e+01,   5.16149338e+01,   1.12063205e+02,\n",
        "         1.38583128e+02,   2.87773379e+02])"
       ]
      }
     ],
     "prompt_number": 82
    },
    {
     "cell_type": "code",
     "collapsed": false,
     "input": [
      "np.diag(F._minuit.matrix())"
     ],
     "language": "python",
     "metadata": {},
     "outputs": [
      {
       "output_type": "pyout",
       "prompt_number": 83,
       "text": [
        "array([  12.92820543,    7.57015584,    2.72319037,    0.61767713,\n",
        "          3.45098755,   11.37076592,   13.48271164,    5.87090539,\n",
        "         15.11253528,   28.62101795,    0.61617676,   26.86495547,\n",
        "         15.75714988,   22.26193842,  265.15849966,   78.25955575,\n",
        "        123.25524263,   50.23896827,    5.09410403,   25.63603909,\n",
        "          4.59017581,    6.28103783,   12.52275579])"
       ]
      }
     ],
     "prompt_number": 83
    },
    {
     "cell_type": "code",
     "collapsed": false,
     "input": [
      "import functools"
     ],
     "language": "python",
     "metadata": {},
     "outputs": [],
     "prompt_number": 90
    },
    {
     "cell_type": "code",
     "collapsed": false,
     "input": [
      "import sqlite"
     ],
     "language": "python",
     "metadata": {},
     "outputs": [
      {
       "ename": "ImportError",
       "evalue": "No module named sqlite",
       "output_type": "pyerr",
       "traceback": [
        "\u001b[0;31m---------------------------------------------------------------------------\u001b[0m\n\u001b[0;31mImportError\u001b[0m                               Traceback (most recent call last)",
        "\u001b[0;32m<ipython-input-92-ab4ce6426b07>\u001b[0m in \u001b[0;36m<module>\u001b[0;34m()\u001b[0m\n\u001b[0;32m----> 1\u001b[0;31m \u001b[0;32mimport\u001b[0m \u001b[0msqlite\u001b[0m\u001b[0;34m\u001b[0m\u001b[0m\n\u001b[0m",
        "\u001b[0;31mImportError\u001b[0m: No module named sqlite"
       ]
      }
     ],
     "prompt_number": 92
    },
    {
     "cell_type": "code",
     "collapsed": false,
     "input": [],
     "language": "python",
     "metadata": {},
     "outputs": []
    }
   ],
   "metadata": {}
  }
 ]
}