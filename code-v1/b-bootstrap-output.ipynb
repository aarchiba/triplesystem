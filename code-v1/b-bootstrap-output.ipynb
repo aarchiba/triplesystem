{
 "metadata": {
  "name": "b-bootstrap-output"
 },
 "nbformat": 3,
 "nbformat_minor": 0,
 "worksheets": [
  {
   "cells": [
    {
     "cell_type": "code",
     "collapsed": false,
     "input": [
      "%load_ext autoreload\n",
      "\n",
      "%autoreload 2"
     ],
     "language": "python",
     "metadata": {},
     "outputs": [],
     "prompt_number": 1
    },
    {
     "cell_type": "code",
     "collapsed": false,
     "input": [
      "from glob import glob\n",
      "import os\n",
      "import time\n",
      "import cPickle as pickle\n",
      "\n",
      "import scipy.linalg\n",
      "import scipy.stats\n",
      "\n",
      "import emcee\n",
      "\n",
      "import kepler\n",
      "import threebody"
     ],
     "language": "python",
     "metadata": {},
     "outputs": [],
     "prompt_number": 2
    },
    {
     "cell_type": "code",
     "collapsed": false,
     "input": [
      "class BootstrapRun:\n",
      "    def __init__(self, fval, mjds, ncalls, params, state):\n",
      "        self.fval = fval\n",
      "        self.mjds = mjds\n",
      "        self.ncalls = ncalls\n",
      "        self.params = params\n",
      "        self.state = state"
     ],
     "language": "python",
     "metadata": {},
     "outputs": [],
     "prompt_number": 8
    },
    {
     "cell_type": "code",
     "collapsed": false,
     "input": [
      "jobid = 1067\n",
      "\n",
      "bootstrap_pickle = None\n",
      "fitter_pickle = None\n",
      "parameters_pickle = None\n",
      "\n",
      "runs = []\n",
      "for d in sorted(glob(\"bootstrap-runs/%d-*/\" % jobid)):\n",
      "    b = pickle.load(open(d+\"bootstrap.pickle\"))\n",
      "    f = pickle.load(open(d+\"fitter.pickle\"))\n",
      "    p = pickle.load(open(d+\"parameters.pickle\"))\n",
      "    if bootstrap_pickle is None:\n",
      "        bootstrap_pickle = b\n",
      "        fitter_pickle = f\n",
      "        parameters_pickle = p\n",
      "    else:\n",
      "        if bootstrap_pickle!=b:\n",
      "            raise ValueError(\"Bootstrap parameters differ: %s and %s\" % (bootstrap_pickle, b))\n",
      "        if fitter_pickle!=f:\n",
      "            raise ValueError(\"Fitter parameters differ: %s and %s\" % (fitter_pickle, b))\n",
      "        if parameters_pickle!=p:\n",
      "            raise ValueError(\"Parameters differ: %s and %s\" % (parameters_pickle, b))\n",
      "    for f in sorted(glob(d+\"*-state.txt\")):\n",
      "        f_base = f.split(\"/\")[-1]\n",
      "        base = d+\"-\".join(f_base.split(\"-\")[:3])\n",
      "        fval = np.load(base+\"-fval.npy\")\n",
      "        ncalls = np.load(base+\"-ncalls.npy\")\n",
      "        mjds = np.load(base+\"-mjds.npy\")\n",
      "        params = np.load(base+\"-params.npy\")\n",
      "        state = open(base+\"-state.txt\").readline()\n",
      "        runs.append(BootstrapRun(fval=fval,ncalls=ncalls,\n",
      "            mjds=mjds,params=dict(zip(parameters_pickle,params)),state=state))\n"
     ],
     "language": "python",
     "metadata": {},
     "outputs": [],
     "prompt_number": 50
    },
    {
     "cell_type": "code",
     "collapsed": false,
     "input": [
      "#print set([r.state for r in runs])\n",
      "#print len(runs), len([r for r in runs if r.state!='exception'])\n",
      "print \"total:\", len(runs)\n",
      "for s in sorted(set([r.state for r in runs])):\n",
      "    print s.strip()+\":\", len([r for r in runs if r.state==s])"
     ],
     "language": "python",
     "metadata": {},
     "outputs": [
      {
       "output_type": "stream",
       "stream": "stdout",
       "text": [
        "total: 97\n",
        "exception: 96\n",
        "success: 1\n"
       ]
      }
     ],
     "prompt_number": 51
    },
    {
     "cell_type": "code",
     "collapsed": false,
     "input": [
      "plt.hist([r.fval for r in runs])"
     ],
     "language": "python",
     "metadata": {},
     "outputs": [
      {
       "output_type": "pyout",
       "prompt_number": 46,
       "text": [
        "(array([ 2,  5,  6, 16, 19, 24, 11,  8,  5,  1]),\n",
        " array([ 47581.233,  47812.098,  48042.964,  48273.83,  48504.696,\n",
        "        48735.561,  48966.427,  49197.293,  49428.159,  49659.024,\n",
        "        49889.89], dtype=float128),\n",
        " <a list of 10 Patch objects>)"
       ]
      },
      {
       "output_type": "display_data",
       "png": "[encoded data removed]"
      }
     ],
     "prompt_number": 46
    },
    {
     "cell_type": "code",
     "collapsed": false,
     "input": [
      "runs[0].params"
     ],
     "language": "python",
     "metadata": {},
     "outputs": [
      {
       "output_type": "pyout",
       "prompt_number": 47,
       "text": [
        "{'acosi_i': 1.491049967423509414,\n",
        " 'acosi_o': 91.481988060126651428,\n",
        " 'asini_i': 1.2175228712836229963,\n",
        " 'asini_o': 74.672497043583355048,\n",
        " 'd_DECJ': 1.6820442535007259364e-07,\n",
        " 'd_PX': -0.89204897138122770349,\n",
        " 'd_RAJ': -3.2440937644793452667e-08,\n",
        " 'dbeta': -0.00041927607992713454447,\n",
        " 'delta': -3.1672569475332541095e-06,\n",
        " 'delta_lan': -9.4568117906923993148e-06,\n",
        " 'dgamma': -3.3654104405991850467e-08,\n",
        " 'eps1_i': 0.00069035356770329027734,\n",
        " 'eps1_o': 0.035185435363490060126,\n",
        " 'eps2_i': -9.1330139001798734266e-05,\n",
        " 'eps2_o': -0.003464871677589722263,\n",
        " 'j_AO1350': 5.35545165081872026e-05,\n",
        " 'j_AO1440': 4.888092299357856058e-05,\n",
        " 'j_AO327': 6.5251117071088727119e-05,\n",
        " 'j_GBT1500': 6.2262476346449395453e-05,\n",
        " 'j_GBT350': 1.7413611755641696151e-05,\n",
        " 'j_GBT820': 6.7804574195285341028e-05,\n",
        " 'j_WSRT350': -3.6252557076002728938e-05,\n",
        " 'lan': 22.833789466800666818,\n",
        " 'pb_i': 1.6293866452593713492,\n",
        " 'pb_o': 327.2556543825572053,\n",
        " 'q_i': 0.13729312442031417561,\n",
        " 'tasc_i': 0.4077160837428198618,\n",
        " 'tasc_o': 313.93392395509419179}"
       ]
      }
     ],
     "prompt_number": 47
    },
    {
     "cell_type": "code",
     "collapsed": false,
     "input": [
      "plt.hist([r.params['delta'] for r in runs])"
     ],
     "language": "python",
     "metadata": {},
     "outputs": [
      {
       "output_type": "pyout",
       "prompt_number": 48,
       "text": [
        "(array([ 1,  3, 52,  4,  7, 12,  5,  9,  2,  2]),\n",
        " array([-3.1674097e-06, -3.1673554e-06, -3.167301e-06, -3.1672466e-06,\n",
        "       -3.1671923e-06, -3.1671379e-06, -3.1670836e-06, -3.1670292e-06,\n",
        "       -3.1669749e-06, -3.1669205e-06, -3.1668662e-06], dtype=float128),\n",
        " <a list of 10 Patch objects>)"
       ]
      },
      {
       "output_type": "display_data",
       "png": "[encoded data removed]"
      }
     ],
     "prompt_number": 48
    },
    {
     "cell_type": "code",
     "collapsed": false,
     "input": [
      "fitter_pickle"
     ],
     "language": "python",
     "metadata": {},
     "outputs": [
      {
       "output_type": "pyout",
       "prompt_number": 43,
       "text": [
        "{'files': '0337+17-scott-2013-08-29',\n",
        " 'fit_pm': False,\n",
        " 'fit_pos': True,\n",
        " 'fit_px': True,\n",
        " 'kopeikin': True,\n",
        " 'parfile': '0337_tempo2_pm.par',\n",
        " 'ppn_mode': 'heavysimple',\n",
        " 'priors': ('dbeta', 'dgamma'),\n",
        " 't2_astrometry': True,\n",
        " 'tzrmjd_middle': 'auto'}"
       ]
      }
     ],
     "prompt_number": 43
    },
    {
     "cell_type": "code",
     "collapsed": false,
     "input": [
      "F = threebody.Fitter(**fitter_pickle)"
     ],
     "language": "python",
     "metadata": {},
     "outputs": [],
     "prompt_number": 29
    },
    {
     "cell_type": "code",
     "collapsed": false,
     "input": [
      "F.best_parameters"
     ],
     "language": "python",
     "metadata": {},
     "outputs": [
      {
       "output_type": "pyout",
       "prompt_number": 30,
       "text": [
        "{'acosi_i': 1.4918201559141026891,\n",
        " 'acosi_o': 91.538803655892465684,\n",
        " 'asini_i': 1.2175267433885295882,\n",
        " 'asini_o': 74.67270742567038018,\n",
        " 'd_DECJ': 2.9640861910493352648e-07,\n",
        " 'd_PX': -1.0405567405159385289,\n",
        " 'd_RAJ': -6.1736316555675183866e-08,\n",
        " 'dbeta': 0.00033986864322539633422,\n",
        " 'delta': -2.2688386333383954992e-08,\n",
        " 'delta_lan': -1.8809136976495257115e-05,\n",
        " 'dgamma': -1.8951589251428431437e-06,\n",
        " 'eps1_i': 0.00068720783464731253291,\n",
        " 'eps1_o': 0.035186237038225256442,\n",
        " 'eps2_i': -9.1163744112754571427e-05,\n",
        " 'eps2_o': -0.0034622080180268495571,\n",
        " 'f0': 365.95336876828094,\n",
        " 'general': True,\n",
        " 'j_AO1350': 5.4228324683405969317e-05,\n",
        " 'j_AO1440': 4.890947662785795862e-05,\n",
        " 'j_AO327': 6.5187778174706155005e-05,\n",
        " 'j_GBT1500': 6.2343759112006296165e-05,\n",
        " 'j_GBT350': 1.850848802508463259e-05,\n",
        " 'j_GBT820': 6.7988804962975596256e-05,\n",
        " 'j_WSRT350': -3.659833252004249826e-05,\n",
        " 'lan': 23.253760277104680285,\n",
        " 'matrix_mode': 0,\n",
        " 'pb_i': 1.6293968754702170177,\n",
        " 'pb_o': 327.25748384400204768,\n",
        " 'pm_x': -4.7253571656398304e-11,\n",
        " 'pm_y': 5.176655321908803e-11,\n",
        " 'ppn_mode': 'heavysimple',\n",
        " 'q_i': 0.13730653159776934562,\n",
        " 'special': True,\n",
        " 'tasc_i': 0.40771701016130317243,\n",
        " 'tasc_o': 313.93575039385853312,\n",
        " 'tol': 1e-16,\n",
        " 'use_quad': False}"
       ]
      }
     ],
     "prompt_number": 30
    },
    {
     "cell_type": "code",
     "collapsed": false,
     "input": [
      "bootstrap_pickle"
     ],
     "language": "python",
     "metadata": {},
     "outputs": [
      {
       "output_type": "pyout",
       "prompt_number": 49,
       "text": [
        "{'minimizer': 'minuit', 'strategy': 1}"
       ]
      }
     ],
     "prompt_number": 49
    },
    {
     "cell_type": "code",
     "collapsed": false,
     "input": [],
     "language": "python",
     "metadata": {},
     "outputs": []
    }
   ],
   "metadata": {}
  }
 ]
}