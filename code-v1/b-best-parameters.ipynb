{
 "cells": [
  {
   "cell_type": "code",
   "execution_count": 1,
   "metadata": {
    "collapsed": true
   },
   "outputs": [],
   "source": [
    "%load_ext autoreload\n",
    "\n",
    "%autoreload 2\n",
    "\n",
    "import cPickle as pickle\n",
    "from glob import glob\n",
    "import os\n",
    "from os.path import join\n",
    "import random\n",
    "import numpy as np\n",
    "\n",
    "import threebody\n",
    "\n",
    "import logging\n",
    "logger = logging.getLogger()\n",
    "#logger.setLevel(logging.DEBUG)\n",
    "logger.setLevel(logging.INFO)\n",
    "logging.debug(\"test\")"
   ]
  },
  {
   "cell_type": "markdown",
   "metadata": {},
   "source": [
    "## Select a model to evaluate\n",
    "\n",
    "Each block in this section loads up a particular model; the sections below try evaluating it with various parameter sets."
   ]
  },
  {
   "cell_type": "code",
   "execution_count": null,
   "metadata": {
    "collapsed": true
   },
   "outputs": [],
   "source": [
    "# fitter_params\n",
    "\n",
    "d = pickle.load(open(\"fitter_params.pickle\"))\n",
    "F = threebody.Fitter(**d)\n",
    "\n",
    "d"
   ]
  },
  {
   "cell_type": "code",
   "execution_count": null,
   "metadata": {
    "collapsed": true
   },
   "outputs": [],
   "source": [
    "# emcee_params\n",
    "\n",
    "d = pickle.load(open(\"emcee_params.pickle\"))\n",
    "F = threebody.Fitter(**d)\n",
    "\n",
    "d"
   ]
  },
  {
   "cell_type": "code",
   "execution_count": null,
   "metadata": {
    "collapsed": true
   },
   "outputs": [],
   "source": [
    "# MCMC run\n",
    "\n",
    "jobid = \"4203\"\n",
    "job_dir = glob(os.path.join(\"emcee-chains\",jobid+\".*\"))[0]\n",
    "\n",
    "with open(os.path.join(job_dir,\"fitter_params.pickle\")) as f:\n",
    "    fitter_params = pickle.load(f)\n",
    "#fitter_params = pickle.load(open(\"fitter_params.pickle\"))\n",
    "F = threebody.Fitter(**fitter_params)\n",
    "\n",
    "fiter_params"
   ]
  },
  {
   "cell_type": "code",
   "execution_count": 34,
   "metadata": {},
   "outputs": [
    {
     "name": "stderr",
     "output_type": "stream",
     "text": [
      "WARNING:threebody:best_parameters not found on disk (148 available)\n"
     ]
    },
    {
     "data": {
      "text/plain": [
       "['phase']"
      ]
     },
     "execution_count": 34,
     "metadata": {},
     "output_type": "execute_result"
    }
   ],
   "source": [
    "# downhill run\n",
    "\n",
    "#name = \"dmtesting\"\n",
    "#name = \"heavysimple\"\n",
    "#name = \"GRdaily\"\n",
    "\n",
    "#name = \"primary\"\n",
    "#name = \"lowfreq\"\n",
    "#name = \"newton\"\n",
    "#name = \"GR\"\n",
    "#name = \"dailyDM\"\n",
    "#name = \"WSRT\"\n",
    "#name = \"AO\"\n",
    "#name = \"GBT\"\n",
    "\n",
    "#name = \"noshapiro\"\n",
    "#name = \"fake\"\n",
    "#name = \"fake_noSR\"\n",
    "#name = \"SReffects\"\n",
    "#name = \"SRGReffects\"\n",
    "name = \"nonzerodelta_nonlinear\"\n",
    "d = pickle.load(open(join(\"downhill-runs\",name,\"fitter_params.pickle\")))\n",
    "F = threebody.Fitter(**d)\n",
    "\n",
    "d\n",
    "F.jnames"
   ]
  },
  {
   "cell_type": "markdown",
   "metadata": {},
   "source": [
    "### Update the database based on fitter results"
   ]
  },
  {
   "cell_type": "code",
   "execution_count": 134,
   "metadata": {},
   "outputs": [
    {
     "name": "stdout",
     "output_type": "stream",
     "text": [
      "existing best parameters: 36691.1758817\n",
      "best parameters from fitter: 1.47959168284e+12\n"
     ]
    }
   ],
   "source": [
    "bpd = threebody.load_best_parameter_database()\n",
    "\n",
    "p = pickle.load(open(\"fitter_best_values.pickle\"))\n",
    "#p = pickle.load(open(\"derivative-best-parameters.pickle\"))\n",
    "#p = pickle.load(open(\"downhill_best_values.pickle\"))\n",
    "newp = F.best_parameters.copy()\n",
    "\n",
    "newp.update(p)\n",
    "try:\n",
    "    old = F.goodness_of_fit(F.best_parameters)\n",
    "except KeyError:\n",
    "    old = np.inf\n",
    "new = F.goodness_of_fit(newp)\n",
    "print \"existing best parameters:\", old\n",
    "print \"best parameters from fitter:\", new"
   ]
  },
  {
   "cell_type": "code",
   "execution_count": 114,
   "metadata": {},
   "outputs": [
    {
     "name": "stdout",
     "output_type": "stream",
     "text": [
      "updating\n"
     ]
    }
   ],
   "source": [
    "if new<old:\n",
    "    print \"updating\"\n",
    "    bpd[F.bpd_k] = newp\n",
    "threebody.save_best_parameter_database(bpd)"
   ]
  },
  {
   "cell_type": "markdown",
   "metadata": {},
   "source": [
    "### Update the database by looking at the best results from an MCMC run\n",
    "\n",
    "See also k-downhill-runner , which allows taking an MCMC best position as the start point for a downhill optimizer run."
   ]
  },
  {
   "cell_type": "code",
   "execution_count": 93,
   "metadata": {
    "collapsed": true
   },
   "outputs": [],
   "source": [
    "jobid = \"13607\"\n",
    "job_dir = glob(os.path.join(\"emcee-chains\",jobid+\".*\"))[0]"
   ]
  },
  {
   "cell_type": "code",
   "execution_count": 94,
   "metadata": {},
   "outputs": [
    {
     "data": {
      "text/plain": [
       "{'efac': 1,\n",
       " 'fdn_range': (1, 5),\n",
       " 'files': 'fake_delta',\n",
       " 'fit_pm': True,\n",
       " 'fit_pos': True,\n",
       " 'fit_px': True,\n",
       " 'general': True,\n",
       " 'kopeikin': False,\n",
       " 'linear_dm': True,\n",
       " 'linear_jumps': True,\n",
       " 'matrix_mode': 0,\n",
       " 'only_tels': None,\n",
       " 'parfile': '0337_tempo2_px_optical_dmcorr.par',\n",
       " 'ppn_mode': 'GR',\n",
       " 'priors': ('dbeta', 'dgamma'),\n",
       " 'reference_f0': 365.95336876828094,\n",
       " 'shapiro': True,\n",
       " 'special': True,\n",
       " 't2_astrometry': True,\n",
       " 'toa_mode': 'pipeline',\n",
       " 'tol': 1e-16,\n",
       " 'tzrmjd_middle': 'auto',\n",
       " 'use_quad': False}"
      ]
     },
     "execution_count": 94,
     "metadata": {},
     "output_type": "execute_result"
    }
   ],
   "source": [
    "with open(os.path.join(job_dir,\"fitter_params.pickle\")) as f:\n",
    "    fitter_params = pickle.load(f)\n",
    "#fitter_params = pickle.load(open(\"fitter_params.pickle\"))\n",
    "F = threebody.Fitter(**fitter_params)\n",
    "fitter_params"
   ]
  },
  {
   "cell_type": "code",
   "execution_count": 95,
   "metadata": {
    "collapsed": true
   },
   "outputs": [],
   "source": [
    "best_so_far = np.load(os.path.join(job_dir,\"best_so_far.npy\"))\n",
    "newp = F.best_parameters.copy()\n",
    "for i,p in enumerate(F.parameters):\n",
    "    newp[p] = best_so_far[i]"
   ]
  },
  {
   "cell_type": "code",
   "execution_count": 96,
   "metadata": {},
   "outputs": [
    {
     "name": "stdout",
     "output_type": "stream",
     "text": [
      "existing best parameters: 5723312.88309\n",
      "best parameters from MCMC: 5678239.4674\n"
     ]
    }
   ],
   "source": [
    "old = F.goodness_of_fit()\n",
    "new = F.goodness_of_fit(newp)\n",
    "print \"existing best parameters:\", old\n",
    "print \"best parameters from MCMC:\", new"
   ]
  },
  {
   "cell_type": "code",
   "execution_count": 97,
   "metadata": {},
   "outputs": [
    {
     "name": "stdout",
     "output_type": "stream",
     "text": [
      "updating\n"
     ]
    }
   ],
   "source": [
    "bpd = threebody.load_best_parameter_database()\n",
    "if new<old:\n",
    "    print \"updating\"\n",
    "    bpd[frozenset(F.args.iteritems())] = newp\n",
    "threebody.save_best_parameter_database(bpd)"
   ]
  },
  {
   "cell_type": "markdown",
   "metadata": {},
   "source": [
    "### Update the database for a fitter by trying values for all known configurations"
   ]
  },
  {
   "cell_type": "code",
   "execution_count": 35,
   "metadata": {},
   "outputs": [
    {
     "name": "stderr",
     "output_type": "stream",
     "text": [
      "INFO:threebody:Missing key in parameters: asini_i\n",
      "INFO:threebody:Missing key in parameters: pb_i\n",
      "INFO:threebody:Missing key in parameters: eps1_i\n",
      "INFO:threebody:Missing key in parameters: eps2_i\n",
      "INFO:threebody:Missing key in parameters: tasc_i\n",
      "INFO:threebody:Missing key in parameters: acosi_i\n",
      "INFO:threebody:Missing key in parameters: q_i\n",
      "INFO:threebody:Missing key in parameters: asini_o\n",
      "INFO:threebody:Missing key in parameters: pb_o\n",
      "INFO:threebody:Missing key in parameters: eps1_o\n",
      "INFO:threebody:Missing key in parameters: eps2_o\n",
      "INFO:threebody:Missing key in parameters: tasc_o\n",
      "INFO:threebody:Missing key in parameters: acosi_o\n",
      "INFO:threebody:Missing key in parameters: delta_lan\n"
     ]
    },
    {
     "name": "stdout",
     "output_type": "stream",
     "text": [
      "existing best parameters: inf\n",
      "best parameters from database: 2.25617257015e+16\n",
      "best parameters from database: 2.25617273318e+16\n",
      "best parameters from database: 2.20963661062e+16\n",
      "best parameters from database: 2.21601972535e+16\n",
      "best parameters from database: 2.21602025141e+16\n",
      "best parameters from database: 2.25617257015e+16\n",
      "best parameters from database: 2.21601916481e+16\n",
      "best parameters from database: 2.21815724116e+16\n",
      "best parameters from database: 2.25617261975e+16\n",
      "best parameters from database: 2.21601972845e+16\n",
      "best parameters from database: 2.25617261929e+16\n",
      "best parameters from database: 2.25617264075e+16\n",
      "best parameters from database: 2.25617257015e+16\n",
      "best parameters from database: 2.25618070811e+16\n",
      "best parameters from database: 2.25617261975e+16\n",
      "best parameters from database: 2.25617257015e+16\n",
      "best parameters from database: 2.21601980563e+16\n"
     ]
    },
    {
     "ename": "KeyboardInterrupt",
     "evalue": "",
     "output_type": "error",
     "traceback": [
      "\u001b[0;31m---------------------------------------------------------------------------\u001b[0m",
      "\u001b[0;31mKeyboardInterrupt\u001b[0m                         Traceback (most recent call last)",
      "\u001b[0;32m<ipython-input-35-bdfaa46fe9ae>\u001b[0m in \u001b[0;36m<module>\u001b[0;34m()\u001b[0m\n\u001b[1;32m     45\u001b[0m     \u001b[0mnewp\u001b[0m \u001b[0;34m=\u001b[0m \u001b[0mF\u001b[0m\u001b[0;34m.\u001b[0m\u001b[0mbest_parameters\u001b[0m\u001b[0;34m.\u001b[0m\u001b[0mcopy\u001b[0m\u001b[0;34m(\u001b[0m\u001b[0;34m)\u001b[0m\u001b[0;34m\u001b[0m\u001b[0m\n\u001b[1;32m     46\u001b[0m     \u001b[0mnewp\u001b[0m\u001b[0;34m.\u001b[0m\u001b[0mupdate\u001b[0m\u001b[0;34m(\u001b[0m\u001b[0mp\u001b[0m\u001b[0;34m)\u001b[0m\u001b[0;34m\u001b[0m\u001b[0m\n\u001b[0;32m---> 47\u001b[0;31m     \u001b[0mnew\u001b[0m \u001b[0;34m=\u001b[0m \u001b[0mF\u001b[0m\u001b[0;34m.\u001b[0m\u001b[0mgoodness_of_fit\u001b[0m\u001b[0;34m(\u001b[0m\u001b[0mnewp\u001b[0m\u001b[0;34m)\u001b[0m\u001b[0;34m\u001b[0m\u001b[0m\n\u001b[0m\u001b[1;32m     48\u001b[0m     \u001b[0;32mprint\u001b[0m \u001b[0;34m\"best parameters from database:\"\u001b[0m\u001b[0;34m,\u001b[0m \u001b[0mnew\u001b[0m\u001b[0;34m\u001b[0m\u001b[0m\n\u001b[1;32m     49\u001b[0m     \u001b[0;32mif\u001b[0m \u001b[0mnew\u001b[0m\u001b[0;34m<\u001b[0m\u001b[0mbest\u001b[0m\u001b[0;34m:\u001b[0m\u001b[0;34m\u001b[0m\u001b[0m\n",
      "\u001b[0;32m/data2/people/aarchiba/projects/triplesystem/code-v1/threebody.py\u001b[0m in \u001b[0;36mgoodness_of_fit\u001b[0;34m(self, argdict, linear_fit)\u001b[0m\n\u001b[1;32m   1474\u001b[0m         return -2*self.efac**2*(self.lnprob(argdict,\n\u001b[1;32m   1475\u001b[0m                                             \u001b[0mmarginalize\u001b[0m\u001b[0;34m=\u001b[0m\u001b[0mFalse\u001b[0m\u001b[0;34m,\u001b[0m\u001b[0;34m\u001b[0m\u001b[0m\n\u001b[0;32m-> 1476\u001b[0;31m                                             linear_fit=linear_fit)\n\u001b[0m\u001b[1;32m   1477\u001b[0m                                 + self.lnprior(argdict))\n\u001b[1;32m   1478\u001b[0m \u001b[0;34m\u001b[0m\u001b[0m\n",
      "\u001b[0;32m/data2/people/aarchiba/projects/triplesystem/code-v1/threebody.py\u001b[0m in \u001b[0;36mlnprob\u001b[0;34m(self, p, marginalize, linear_fit)\u001b[0m\n\u001b[1;32m   1424\u001b[0m                 r = self.residuals(p,\n\u001b[1;32m   1425\u001b[0m                                    \u001b[0mmarginalize\u001b[0m\u001b[0;34m=\u001b[0m\u001b[0mmarginalize\u001b[0m\u001b[0;34m,\u001b[0m\u001b[0;34m\u001b[0m\u001b[0m\n\u001b[0;32m-> 1426\u001b[0;31m                                    linear_fit=linear_fit)\n\u001b[0m\u001b[1;32m   1427\u001b[0m                 \u001b[0mm\u001b[0m \u001b[0;34m=\u001b[0m \u001b[0;36m0\u001b[0m\u001b[0;34m\u001b[0m\u001b[0m\n\u001b[1;32m   1428\u001b[0m             \u001b[0mr\u001b[0m \u001b[0;34m=\u001b[0m \u001b[0mr\u001b[0m\u001b[0;34m/\u001b[0m\u001b[0mself\u001b[0m\u001b[0;34m.\u001b[0m\u001b[0mphase_uncerts\u001b[0m\u001b[0;34m/\u001b[0m\u001b[0mself\u001b[0m\u001b[0;34m.\u001b[0m\u001b[0mefac\u001b[0m\u001b[0;34m\u001b[0m\u001b[0m\n",
      "\u001b[0;32m/data2/people/aarchiba/projects/triplesystem/code-v1/threebody.py\u001b[0m in \u001b[0;36mresiduals\u001b[0;34m(self, p, linear_fit, marginalize)\u001b[0m\n\u001b[1;32m   1328\u001b[0m         \u001b[0;32mif\u001b[0m \u001b[0mp\u001b[0m \u001b[0;32mis\u001b[0m \u001b[0mNone\u001b[0m\u001b[0;34m:\u001b[0m\u001b[0;34m\u001b[0m\u001b[0m\n\u001b[1;32m   1329\u001b[0m             \u001b[0mp\u001b[0m \u001b[0;34m=\u001b[0m \u001b[0mself\u001b[0m\u001b[0;34m.\u001b[0m\u001b[0mbest_parameters\u001b[0m\u001b[0;34m\u001b[0m\u001b[0m\n\u001b[0;32m-> 1330\u001b[0;31m         \u001b[0mo\u001b[0m \u001b[0;34m=\u001b[0m \u001b[0mself\u001b[0m\u001b[0;34m.\u001b[0m\u001b[0mcompute_orbit\u001b[0m\u001b[0;34m(\u001b[0m\u001b[0mp\u001b[0m\u001b[0;34m)\u001b[0m\u001b[0;34m\u001b[0m\u001b[0m\n\u001b[0m\u001b[1;32m   1331\u001b[0m         \u001b[0mt_psr_s\u001b[0m \u001b[0;34m=\u001b[0m \u001b[0mo\u001b[0m\u001b[0;34m[\u001b[0m\u001b[0;34m't_psr'\u001b[0m\u001b[0;34m]\u001b[0m\u001b[0;34m*\u001b[0m\u001b[0;36m86400.\u001b[0m\u001b[0;34m\u001b[0m\u001b[0m\n\u001b[1;32m   1332\u001b[0m         \u001b[0mA\u001b[0m\u001b[0;34m,\u001b[0m \u001b[0mnames\u001b[0m \u001b[0;34m=\u001b[0m \u001b[0mself\u001b[0m\u001b[0;34m.\u001b[0m\u001b[0mfit_matrix\u001b[0m\u001b[0;34m(\u001b[0m\u001b[0mt_psr_s\u001b[0m\u001b[0;34m)\u001b[0m\u001b[0;34m\u001b[0m\u001b[0m\n",
      "\u001b[0;32m/data2/people/aarchiba/projects/triplesystem/code-v1/threebody.py\u001b[0m in \u001b[0;36mcompute_orbit\u001b[0;34m(self, p)\u001b[0m\n\u001b[1;32m   1291\u001b[0m                 \u001b[0mp\u001b[0m\u001b[0;34m,\u001b[0m\u001b[0;34m\u001b[0m\u001b[0m\n\u001b[1;32m   1292\u001b[0m                 \u001b[0mself\u001b[0m\u001b[0;34m.\u001b[0m\u001b[0mmjds\u001b[0m\u001b[0;34m,\u001b[0m\u001b[0;34m\u001b[0m\u001b[0m\n\u001b[0;32m-> 1293\u001b[0;31m                 keep_states=True)\n\u001b[0m\u001b[1;32m   1294\u001b[0m             debug(\"Back from compute_orbit after time %s (%d evaluations)\"\n\u001b[1;32m   1295\u001b[0m                   % (o['time'], o['n_evaluations']))\n",
      "\u001b[0;32m/data2/people/aarchiba/projects/triplesystem/code-v1/threebody.py\u001b[0m in \u001b[0;36mcompute_orbit\u001b[0;34m(parameter_dict, times, keep_states)\u001b[0m\n\u001b[1;32m    674\u001b[0m         \u001b[0;32massert\u001b[0m \u001b[0mt_bb\u001b[0m \u001b[0;34m>=\u001b[0m \u001b[0ml_t_bb\u001b[0m\u001b[0;34m\u001b[0m\u001b[0m\n\u001b[1;32m    675\u001b[0m         \u001b[0ml_t_bb\u001b[0m \u001b[0;34m=\u001b[0m \u001b[0mt_bb\u001b[0m\u001b[0;34m\u001b[0m\u001b[0m\n\u001b[0;32m--> 676\u001b[0;31m         \u001b[0mO\u001b[0m\u001b[0;34m.\u001b[0m\u001b[0mintegrate_to\u001b[0m\u001b[0;34m(\u001b[0m\u001b[0mt_bb\u001b[0m\u001b[0;34m)\u001b[0m\u001b[0;34m\u001b[0m\u001b[0m\n\u001b[0m\u001b[1;32m    677\u001b[0m         \u001b[0;32mif\u001b[0m \u001b[0mi\u001b[0m\u001b[0;34m+\u001b[0m\u001b[0;36m1\u001b[0m \u001b[0;34m==\u001b[0m \u001b[0mreport\u001b[0m\u001b[0;34m:\u001b[0m\u001b[0;34m\u001b[0m\u001b[0m\n\u001b[1;32m    678\u001b[0m             \u001b[0mdebug\u001b[0m\u001b[0;34m(\u001b[0m\u001b[0;34m\"Extracting results\"\u001b[0m\u001b[0;34m)\u001b[0m\u001b[0;34m\u001b[0m\u001b[0m\n",
      "\u001b[0;31mKeyboardInterrupt\u001b[0m: "
     ]
    }
   ],
   "source": [
    "#d = pickle.load(open(\"fitter_params.pickle\"))\n",
    "#d = pickle.load(open(\"downhill-runs/WSRT/fitter_params.pickle\"))\n",
    "#d = pickle.load(open(\"emcee-chains/32534.nimrod/fitter_params.pickle\"))\n",
    "#d = pickle.load(open(\"fake_toas_fitter.pickle\"))\n",
    "#d = pickle.load(open(\"forecaster_params.pickle\"))\n",
    "#d['files'] = 'fake-uniform'\n",
    "#d['kopeikin'] = True\n",
    "#d['fit_pm'] = True\n",
    "#d['fit_px'] = True\n",
    "\n",
    "#d = pickle.load(open(\"sensitivity_params.pickle\"))\n",
    "#d = pickle.load(open(\"plot_params.pickle\"))\n",
    "#d = pickle.load(open(\"scratch_params.pickle\"))\n",
    "#print d\n",
    "#F = threebody.Fitter(**d)\n",
    "#print F.args\n",
    "bpd = threebody.load_best_parameter_database()\n",
    "if \"j_NCY1400\" not in F.best_parameters:\n",
    "    F.best_parameters[\"j_NCY1400\"] = 0.25*2.7e-3\n",
    "if \"delta\" not in F.best_parameters:\n",
    "    F.best_parameters['delta'] = 0\n",
    "try:\n",
    "    old = F.goodness_of_fit(F.best_parameters)\n",
    "except KeyError:\n",
    "    print \"Missing best parameter values!\"\n",
    "    old = np.inf\n",
    "print \"existing best parameters:\", old\n",
    "best = old\n",
    "best_p = F.best_parameters.copy()\n",
    "itms = bpd.items()\n",
    "random.shuffle(itms)\n",
    "def sim(i):\n",
    "    n = 0\n",
    "    k,v = i\n",
    "    dk = dict(k)\n",
    "    for p, v in dk.items():\n",
    "        if p not in d or d[p]!=v:\n",
    "            n += 1\n",
    "    for p, v in d.items():\n",
    "        if p not in dk:\n",
    "            n += 1\n",
    "    return n\n",
    "itms.sort(key=sim)\n",
    "for k, p in itms: \n",
    "    newp = F.best_parameters.copy()\n",
    "    newp.update(p)\n",
    "    new = F.goodness_of_fit(newp)\n",
    "    print \"best parameters from database:\", new\n",
    "    if new<best:\n",
    "        best = new\n",
    "        best_p = newp\n",
    "        if True:\n",
    "            bpd = threebody.load_best_parameter_database()\n",
    "            bpd[frozenset(F.args.iteritems())] = best_p\n",
    "            threebody.save_best_parameter_database(bpd)\n"
   ]
  },
  {
   "cell_type": "code",
   "execution_count": 11,
   "metadata": {},
   "outputs": [
    {
     "data": {
      "text/plain": [
       "['phase']"
      ]
     },
     "execution_count": 11,
     "metadata": {},
     "output_type": "execute_result"
    }
   ],
   "source": [
    "F.jnames"
   ]
  },
  {
   "cell_type": "code",
   "execution_count": null,
   "metadata": {
    "collapsed": true
   },
   "outputs": [],
   "source": [
    "best_p"
   ]
  },
  {
   "cell_type": "code",
   "execution_count": null,
   "metadata": {
    "collapsed": true
   },
   "outputs": [],
   "source": [
    "bpd[frozenset(F.args.iteritems())] = best_p\n",
    "threebody.save_best_parameter_database(bpd)"
   ]
  },
  {
   "cell_type": "code",
   "execution_count": null,
   "metadata": {
    "collapsed": true
   },
   "outputs": [],
   "source": []
  },
  {
   "cell_type": "code",
   "execution_count": null,
   "metadata": {
    "collapsed": true
   },
   "outputs": [],
   "source": [
    "bpd.items()"
   ]
  },
  {
   "cell_type": "code",
   "execution_count": null,
   "metadata": {
    "collapsed": true
   },
   "outputs": [],
   "source": [
    "newp"
   ]
  },
  {
   "cell_type": "code",
   "execution_count": null,
   "metadata": {
    "collapsed": true
   },
   "outputs": [],
   "source": [
    "for k in bpd.keys():\n",
    "    d = dict(k)\n",
    "    if False and 'shapiro' not in d:\n",
    "        d['shapiro'] = True\n",
    "        bpd[frozenset(d.iteritems())] = bpd[k]\n",
    "        d['shapiro'] = False\n",
    "        bpd[frozenset(d.iteritems())] = bpd[k]\n",
    "    if d['parfile'] == '0337_tempo2_pm.par':\n",
    "        d['parfile'] = '0337_tempo2_px.par'\n",
    "        nk = frozenset(d.iteritems())\n",
    "        if nk not in bpd:\n",
    "            bpd[nk] = bpd[k]"
   ]
  },
  {
   "cell_type": "code",
   "execution_count": null,
   "metadata": {
    "collapsed": true
   },
   "outputs": [],
   "source": [
    "for k in F.best_parameters:\n",
    "    if k not in p:\n",
    "        print \"missing from p:\", k, F.best_parameters[k]\n",
    "    elif F.best_parameters[k]!=p[k]:\n",
    "        print \"different:\", k, F.best_parameters[k], p[k]\n",
    "        "
   ]
  },
  {
   "cell_type": "code",
   "execution_count": null,
   "metadata": {
    "collapsed": true
   },
   "outputs": [],
   "source": [
    "for k in bpd.keys():\n",
    "    if k==frozenset(d.iteritems()):\n",
    "        bpd[k].pop('pm_x',None)\n",
    "        bpd[k].pop('pm_y',None)\n",
    "        bpd[k].pop('f1',None)"
   ]
  },
  {
   "cell_type": "code",
   "execution_count": null,
   "metadata": {
    "collapsed": true
   },
   "outputs": [],
   "source": [
    "F.parameters"
   ]
  },
  {
   "cell_type": "code",
   "execution_count": null,
   "metadata": {
    "collapsed": true
   },
   "outputs": [],
   "source": [
    "paper1 = dict(files=\"0337+17-scott-2013-06-06\",\n",
    "                         parfile=\"0337_tempo2_nobinary.par\",\n",
    "                         tzrmjd_middle='auto',\n",
    "                         fit_pos=False,\n",
    "                         fit_pm=False,\n",
    "                         fit_px=False,\n",
    "                         t2_astrometry=True,\n",
    "                         kopeikin=False,\n",
    "                         priors=(),\n",
    "                         ppn_mode=None)"
   ]
  },
  {
   "cell_type": "code",
   "execution_count": null,
   "metadata": {
    "collapsed": true
   },
   "outputs": [],
   "source": [
    "F = threebody.Fitter(**paper1)"
   ]
  },
  {
   "cell_type": "code",
   "execution_count": null,
   "metadata": {
    "collapsed": true
   },
   "outputs": [],
   "source": [
    "bpd[frozenset(F.args.iteritems())]"
   ]
  },
  {
   "cell_type": "code",
   "execution_count": null,
   "metadata": {
    "collapsed": true
   },
   "outputs": [],
   "source": [
    "for ot in [['AO1350','AO1440'],['GBT1500'],['WSRT1400']]:\n",
    "    args = F.args.copy()\n",
    "    args['only_tels'] = tuple(ot)\n",
    "    bpd[frozenset(args.iteritems())] = bpd[frozenset(F.args.iteritems())]"
   ]
  },
  {
   "cell_type": "markdown",
   "metadata": {},
   "source": [
    "## Fill in missing parameter values"
   ]
  },
  {
   "cell_type": "code",
   "execution_count": 29,
   "metadata": {
    "collapsed": true
   },
   "outputs": [],
   "source": [
    "bpd = threebody.load_best_parameter_database()\n",
    "c = False\n",
    "for p in ['delta','dbeta','dgamma']:\n",
    "    if p not in F.best_parameters:\n",
    "        F.best_parameters[p] = 0\n",
    "        c = True\n",
    "if c:\n",
    "    bpd[frozenset(F.args.iteritems())] = F.best_parameters\n",
    "    threebody.save_best_parameter_database(bpd)"
   ]
  },
  {
   "cell_type": "code",
   "execution_count": null,
   "metadata": {
    "collapsed": true
   },
   "outputs": [],
   "source": []
  }
 ],
 "metadata": {
  "kernelspec": {
   "display_name": "Python 2",
   "language": "python",
   "name": "python2"
  },
  "language_info": {
   "codemirror_mode": {
    "name": "ipython",
    "version": 2
   },
   "file_extension": ".py",
   "mimetype": "text/x-python",
   "name": "python",
   "nbconvert_exporter": "python",
   "pygments_lexer": "ipython2",
   "version": "2.7.3"
  }
 },
 "nbformat": 4,
 "nbformat_minor": 1
}
