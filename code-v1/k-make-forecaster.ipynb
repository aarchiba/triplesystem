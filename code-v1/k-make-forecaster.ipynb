{
 "cells": [
  {
   "cell_type": "code",
   "execution_count": 2,
   "metadata": {},
   "outputs": [
    {
     "name": "stderr",
     "output_type": "stream",
     "text": [
      "DEBUG:root:test\n"
     ]
    }
   ],
   "source": [
    "%load_ext autoreload\n",
    "\n",
    "%autoreload 2\n",
    "\n",
    "from __future__ import division\n",
    "from glob import glob\n",
    "import os\n",
    "import time\n",
    "import cPickle as pickle\n",
    "\n",
    "import scipy.linalg\n",
    "import scipy.stats\n",
    "\n",
    "import numpy as np\n",
    "import matplotlib\n",
    "import matplotlib.pyplot as plt\n",
    "%matplotlib inline\n",
    "matplotlib.rc(\"figure\", dpi=144)\n",
    "\n",
    "import astropy.io.fits\n",
    "import astropy.table\n",
    "import astropy.units as u\n",
    "import astropy.constants as c\n",
    "import astropy.time\n",
    "\n",
    "import emcee\n",
    "import numdifftools\n",
    "\n",
    "import kepler\n",
    "import threebody\n",
    "\n",
    "import logging\n",
    "logger = logging.getLogger()\n",
    "logger.setLevel(logging.DEBUG)\n",
    "#logger.setLevel(logging.INFO)\n",
    "logging.debug(\"test\")"
   ]
  },
  {
   "cell_type": "code",
   "execution_count": 8,
   "metadata": {},
   "outputs": [
    {
     "name": "stderr",
     "output_type": "stream",
     "text": [
      "DEBUG:threebody:Fitting DM\n",
      "DEBUG:threebody:base telescope AO_1400 from list of ['AO_1400', 'GBT_1400', 'WSRT_1400']\n"
     ]
    }
   ],
   "source": [
    "params = dict(files=\"tuned2_aligned_pulses_1400\",\n",
    "                     tzrmjd_middle='auto',\n",
    "                     parfile=\"0337_tempo2_px_optical_dmcorr.par\",\n",
    "                     fit_pos=True,\n",
    "                     fit_pm=True,\n",
    "                     fit_px=True,\n",
    "                     efac=1,\n",
    "                     t2_astrometry=True,\n",
    "                     kopeikin=False,\n",
    "                     ppn_mode='GR',\n",
    "                     linear_jumps=True,\n",
    "                     linear_dm=True,\n",
    "                     fdn_range=(1,5),\n",
    "                     priors=('dbeta','dgamma'),\n",
    "                     toa_mode=\"pipeline\")\n",
    "F = threebody.Fitter(**params)"
   ]
  },
  {
   "cell_type": "code",
   "execution_count": 9,
   "metadata": {
    "scrolled": false
   },
   "outputs": [
    {
     "name": "stderr",
     "output_type": "stream",
     "text": [
      "DEBUG:threebody:Started residuals for {'eps1_o': 0.035186245417735729051, 'eps1_i': 0.00068716205276208324327, 'asini_i': 1.2175266014146624455, 'eps2_i': -9.132277866347851799e-05, 'delta_lan': -1.657705678023142526e-07, 'eps2_o': -0.0034621421881627369671, 'q_i': 0.1374307472722445261, 'asini_o': 74.672704350835691765, 'pb_o': 327.25752006843474368, 'pb_i': 1.6293969564434118404, 'tasc_i': 0.40771695316270799674, 'acosi_o': 91.305497988483536813, 'acosi_i': 1.4885611635760799381, 'tasc_o': 313.93579529677346512}\n",
      "DEBUG:threebody:Started compute_orbit for {'ppn_mode': 'GR', 'shapiro': True, 'asini_i': 1.2175266014146624455, 'eps2_i': -9.132277866347851799e-05, 'delta_lan': -1.657705678023142526e-07, 'eps2_o': -0.0034621421881627369671, 'q_i': 0.1374307472722445261, 'general': True, 'tasc_i': 0.40771695316270799674, 'acosi_o': 91.305497988483536813, 'acosi_i': 1.4885611635760799381, 'special': True, 'tasc_o': 313.93579529677346512, 'eps1_o': 0.035186245417735729051, 'eps1_i': 0.00068716205276208324327, 'tol': 1e-16, 'use_quad': False, 'pb_i': 1.6293969564434118404, 'matrix_mode': 0, 'asini_o': 74.672704350835691765, 'pb_o': 327.25752006843474368, 'kopeikin': False}\n",
      "DEBUG:threebody:compute_orbit cache miss, running calculation\n",
      "DEBUG:threebody:Calling compute_orbit\n",
      "DEBUG:threebody:Running compute_orbit with parameter_dict {'ppn_mode': 'GR', 'shapiro': True, 'asini_i': 1.2175266014146624455, 'eps2_i': -9.132277866347851799e-05, 'delta_lan': -1.657705678023142526e-07, 'eps2_o': -0.0034621421881627369671, 'q_i': 0.1374307472722445261, 'general': True, 'tasc_i': 0.40771695316270799674, 'acosi_o': 91.305497988483536813, 'acosi_i': 1.4885611635760799381, 'special': True, 'tasc_o': 313.93579529677346512, 'eps1_o': 0.035186245417735729051, 'eps1_i': 0.00068716205276208324327, 'tol': 1e-16, 'use_quad': False, 'pb_i': 1.6293969564434118404, 'matrix_mode': 0, 'asini_o': 74.672704350835691765, 'pb_o': 327.25752006843474368, 'kopeikin': False}\n",
      "DEBUG:threebody:PPN mode is GR\n",
      "DEBUG:threebody:Running compute_orbit from time 36.6989459463 to 1967.82252422 with tol 1e-16\n",
      "DEBUG:threebody:Constructing initial conditions\n",
      "DEBUG:threebody:setting up RHS\n",
      "DEBUG:threebody:Constructing ODE integrator\n",
      "DEBUG:threebody:Computing TOA 0 at t_bb=36.6989\n",
      "DEBUG:threebody:Extracting results\n",
      "DEBUG:threebody:Computing TOA 1 at t_bb=47.7225\n",
      "DEBUG:threebody:Extracting results\n",
      "DEBUG:threebody:Computing TOA 3 at t_bb=47.7225\n",
      "DEBUG:threebody:Extracting results\n",
      "DEBUG:threebody:Computing TOA 7 at t_bb=47.7225\n",
      "DEBUG:threebody:Extracting results\n",
      "DEBUG:threebody:Computing TOA 15 at t_bb=48.7189\n",
      "DEBUG:threebody:Extracting results\n",
      "DEBUG:threebody:Computing TOA 31 at t_bb=60.9175\n",
      "DEBUG:threebody:Extracting results\n",
      "DEBUG:threebody:Computing TOA 63 at t_bb=69.8587\n",
      "DEBUG:threebody:Extracting results\n",
      "DEBUG:threebody:Computing TOA 127 at t_bb=69.8795\n",
      "DEBUG:threebody:Extracting results\n",
      "DEBUG:threebody:Computing TOA 255 at t_bb=75.8488\n",
      "DEBUG:threebody:Extracting results\n",
      "DEBUG:threebody:Computing TOA 511 at t_bb=78.8536\n",
      "DEBUG:threebody:Extracting results\n",
      "DEBUG:threebody:Computing TOA 1023 at t_bb=92.8166\n",
      "DEBUG:threebody:Extracting results\n",
      "DEBUG:threebody:Computing TOA 2047 at t_bb=119.665\n",
      "DEBUG:threebody:Extracting results\n",
      "DEBUG:threebody:Computing TOA 4095 at t_bb=168.608\n",
      "DEBUG:threebody:Extracting results\n",
      "DEBUG:threebody:Computing TOA 8191 at t_bb=326.386\n",
      "DEBUG:threebody:Extracting results\n",
      "DEBUG:threebody:Computing TOA 16383 at t_bb=879.491\n",
      "DEBUG:threebody:Extracting results\n",
      "DEBUG:threebody:Done integration\n",
      "DEBUG:threebody:Back from compute_orbit after time 34.3277089596 (1600434 evaluations)\n",
      "DEBUG:threebody:Setting up linear least-squares fitting\n",
      "DEBUG:threebody:Residual chi-squared: 41728.2023504\n",
      "DEBUG:threebody:Residual chi-squared: 41534.4021309\n",
      "DEBUG:threebody:Residual chi-squared: 41534.4075885\n",
      "DEBUG:threebody:Done linear least-squares\n"
     ]
    },
    {
     "data": {
      "text/plain": [
       "41534.401260146861386"
      ]
     },
     "execution_count": 9,
     "metadata": {},
     "output_type": "execute_result"
    }
   ],
   "source": [
    "F.goodness_of_fit(F.best_parameters)"
   ]
  },
  {
   "cell_type": "code",
   "execution_count": null,
   "metadata": {},
   "outputs": [],
   "source": [
    "vals, names = F.compute_linear_parts(F.best_parameters)"
   ]
  },
  {
   "cell_type": "code",
   "execution_count": null,
   "metadata": {
    "scrolled": false
   },
   "outputs": [],
   "source": [
    "bp = F.best_parameters.copy()\n",
    "for n, v in zip(names, vals):\n",
    "    bp[n] = v\n",
    "F.goodness_of_fit(bp, linear_fit=False)"
   ]
  },
  {
   "cell_type": "code",
   "execution_count": null,
   "metadata": {},
   "outputs": [],
   "source": [
    "bp"
   ]
  },
  {
   "cell_type": "code",
   "execution_count": 4,
   "metadata": {},
   "outputs": [
    {
     "ename": "NameError",
     "evalue": "name 'F' is not defined",
     "output_type": "error",
     "traceback": [
      "\u001b[0;31m---------------------------------------------------------------------------\u001b[0m",
      "\u001b[0;31mNameError\u001b[0m                                 Traceback (most recent call last)",
      "\u001b[0;32m<ipython-input-4-dae7cd8e7f25>\u001b[0m in \u001b[0;36m<module>\u001b[0;34m()\u001b[0m\n\u001b[1;32m      1\u001b[0m \u001b[0;32mwith\u001b[0m \u001b[0mopen\u001b[0m\u001b[0;34m(\u001b[0m\u001b[0;34m\"forecaster_params.pickle\"\u001b[0m\u001b[0;34m,\u001b[0m\u001b[0;34m\"wb\"\u001b[0m\u001b[0;34m)\u001b[0m \u001b[0;32mas\u001b[0m \u001b[0mf\u001b[0m\u001b[0;34m:\u001b[0m\u001b[0;34m\u001b[0m\u001b[0m\n\u001b[0;32m----> 2\u001b[0;31m     \u001b[0mpickle\u001b[0m\u001b[0;34m.\u001b[0m\u001b[0mdump\u001b[0m\u001b[0;34m(\u001b[0m\u001b[0mF\u001b[0m\u001b[0;34m.\u001b[0m\u001b[0margs\u001b[0m\u001b[0;34m,\u001b[0m\u001b[0mf\u001b[0m\u001b[0;34m)\u001b[0m\u001b[0;34m\u001b[0m\u001b[0m\n\u001b[0m\u001b[1;32m      3\u001b[0m \u001b[0;32mwith\u001b[0m \u001b[0mopen\u001b[0m\u001b[0;34m(\u001b[0m\u001b[0;34m\"forecaster_best_parameters.pickle\"\u001b[0m\u001b[0;34m,\u001b[0m\u001b[0;34m\"wb\"\u001b[0m\u001b[0;34m)\u001b[0m \u001b[0;32mas\u001b[0m \u001b[0mf\u001b[0m\u001b[0;34m:\u001b[0m\u001b[0;34m\u001b[0m\u001b[0m\n\u001b[1;32m      4\u001b[0m     \u001b[0mpickle\u001b[0m\u001b[0;34m.\u001b[0m\u001b[0mdump\u001b[0m\u001b[0;34m(\u001b[0m\u001b[0mbp\u001b[0m\u001b[0;34m,\u001b[0m\u001b[0mf\u001b[0m\u001b[0;34m)\u001b[0m\u001b[0;34m\u001b[0m\u001b[0m\n",
      "\u001b[0;31mNameError\u001b[0m: name 'F' is not defined"
     ]
    }
   ],
   "source": [
    "with open(\"forecaster_params.pickle\",\"wb\") as f:\n",
    "    pickle.dump(F.args,f)\n",
    "with open(\"forecaster_best_parameters.pickle\",\"wb\") as f:\n",
    "    pickle.dump(bp,f)\n"
   ]
  },
  {
   "cell_type": "code",
   "execution_count": null,
   "metadata": {
    "collapsed": true
   },
   "outputs": [],
   "source": []
  }
 ],
 "metadata": {
  "kernelspec": {
   "display_name": "Python 2",
   "language": "python",
   "name": "python2"
  },
  "language_info": {
   "codemirror_mode": {
    "name": "ipython",
    "version": 2
   },
   "file_extension": ".py",
   "mimetype": "text/x-python",
   "name": "python",
   "nbconvert_exporter": "python",
   "pygments_lexer": "ipython2",
   "version": "2.7.3"
  }
 },
 "nbformat": 4,
 "nbformat_minor": 2
}
