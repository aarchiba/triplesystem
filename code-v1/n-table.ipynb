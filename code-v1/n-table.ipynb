{
 "cells": [
  {
   "cell_type": "code",
   "execution_count": 8,
   "metadata": {},
   "outputs": [
    {
     "name": "stdout",
     "output_type": "stream",
     "text": [
      "The autoreload extension is already loaded. To reload it, use:\n",
      "  %reload_ext autoreload\n"
     ]
    }
   ],
   "source": [
    "%load_ext autoreload\n",
    "\n",
    "%autoreload 2"
   ]
  },
  {
   "cell_type": "code",
   "execution_count": 9,
   "metadata": {
    "collapsed": true
   },
   "outputs": [],
   "source": [
    "from glob import glob\n",
    "import os\n",
    "import time\n",
    "from cStringIO import StringIO\n",
    "\n",
    "import numpy as np\n",
    "import scipy.linalg\n",
    "import scipy.stats\n",
    "\n",
    "import emcee\n",
    "\n",
    "import kepler\n",
    "import threebody"
   ]
  },
  {
   "cell_type": "code",
   "execution_count": 10,
   "metadata": {
    "collapsed": true
   },
   "outputs": [],
   "source": [
    "import matplotlib\n",
    "matplotlib.rcParams['savefig.dpi'] = 120"
   ]
  },
  {
   "cell_type": "code",
   "execution_count": 11,
   "metadata": {
    "collapsed": true
   },
   "outputs": [],
   "source": [
    "jobid = \"4375\"\n",
    "job_dir = glob(os.path.join(\"emcee-chains\",jobid+\".*\"))[0]\n",
    "d = np.load(os.path.join(job_dir,\"fitted_parameters.npz\"))\n",
    "parameter_means = d['parameter_means'][None][0]\n",
    "parameter_errors = d['parameter_errors'][None][0]\n",
    "fitter_params = d['fitter_params'][None][0]\n",
    "parameter_formatted = dict((p,threebody.fmt(parameter_means[p],parameter_errors[p])) for p in parameter_means)"
   ]
  },
  {
   "cell_type": "code",
   "execution_count": 12,
   "metadata": {
    "collapsed": true
   },
   "outputs": [],
   "source": [
    "F = threebody.Fitter(**fitter_params)"
   ]
  },
  {
   "cell_type": "code",
   "execution_count": 13,
   "metadata": {},
   "outputs": [
    {
     "name": "stdout",
     "output_type": "stream",
     "text": [
      "eps1_o 0.0351859658148 0.0351860224301\n",
      "eps1_i 0.000688262063085 0.000688040813265\n",
      "asini_i 1.21752527797 1.21752555166\n",
      "eps2_i -9.13954168319e-05 -9.13888774764e-05\n",
      "delta_lan 2.19913601188e-06 6.18993947387e-06\n",
      "eps2_o -0.00346306969577 -0.00346288427579\n",
      "q_i 0.137405570412 0.13740968433\n",
      "asini_o 74.672633135 74.6726478696\n",
      "pb_o 327.256885572 327.257012362\n",
      "delta -1.08530037771e-06 -8.6798823797e-07\n",
      "pb_i 1.62939341669 1.62939413212\n",
      "dgamma -1.33795394689e-05 5.3041936512e-07\n",
      "tasc_i 0.40771664137 0.407716710232\n",
      "acosi_o 91.361037238 91.3743573428\n",
      "dbeta 0.00152960556651 -0.00129248335819\n",
      "acosi_i 1.48955415134 1.48969547328\n",
      "tasc_o 313.935159977 313.935286772\n"
     ]
    }
   ],
   "source": [
    "mean_parameters = F.best_parameters.copy()\n",
    "for p in F.best_parameters:\n",
    "    if p in parameter_means:\n",
    "        mean_parameters[p] = parameter_means[p]\n",
    "for p in F.best_parameters:\n",
    "    print p, F.best_parameters[p], mean_parameters[p]"
   ]
  },
  {
   "cell_type": "code",
   "execution_count": 14,
   "metadata": {},
   "outputs": [
    {
     "name": "stdout",
     "output_type": "stream",
     "text": [
      "eps1_o 0.0351859658148 0.0351860224301\n",
      "eps1_i 0.000688262063085 0.000688040813265\n",
      "asini_i 1.21752527797 1.21752555166\n",
      "eps2_i -9.13954168319e-05 -9.13888774764e-05\n",
      "delta_lan 2.19913601188e-06 6.18993947387e-06\n",
      "eps2_o -0.00346306969577 -0.00346288427579\n",
      "q_i 0.137405570412 0.13740968433\n",
      "asini_o 74.672633135 74.6726478696\n",
      "pb_o 327.256885572 327.257012362\n",
      "delta -1.08530037771e-06 -8.6798823797e-07\n",
      "pb_i 1.62939341669 1.62939413212\n",
      "dgamma -1.33795394689e-05 5.3041936512e-07\n",
      "tasc_i 0.40771664137 0.407716710232\n",
      "acosi_o 91.361037238 91.3743573428\n",
      "dbeta 0.00152960556651 -0.00129248335819\n",
      "acosi_i 1.48955415134 1.48969547328\n",
      "tasc_o 313.935159977 313.935286772\n"
     ]
    }
   ],
   "source": [
    "mean_parameters = F.best_parameters.copy()\n",
    "for p in F.best_parameters:\n",
    "    if p in parameter_means:\n",
    "        mean_parameters[p] = parameter_means[p]\n",
    "for p in F.best_parameters:\n",
    "    print p, F.best_parameters[p], mean_parameters[p]"
   ]
  },
  {
   "cell_type": "code",
   "execution_count": 15,
   "metadata": {
    "collapsed": true
   },
   "outputs": [],
   "source": [
    "resids = F.residuals(mean_parameters)"
   ]
  },
  {
   "cell_type": "code",
   "execution_count": 16,
   "metadata": {},
   "outputs": [
    {
     "name": "stdout",
     "output_type": "stream",
     "text": [
      "1.54387714432 0.76230403208\n"
     ]
    }
   ],
   "source": [
    "rms_resid_us = np.sqrt(np.mean(resids**2))/parameter_means['f0'] * 1e6\n",
    "wts = F.phase_uncerts**(-2)\n",
    "rms_resid_us_wt = np.sqrt(np.sum(wts*resids**2)/np.sum(wts))/parameter_means['f0'] * 1e6\n",
    "print rms_resid_us, rms_resid_us_wt"
   ]
  },
  {
   "cell_type": "code",
   "execution_count": 17,
   "metadata": {},
   "outputs": [
    {
     "data": {
      "text/plain": [
       "0.0001333333333333333"
      ]
     },
     "execution_count": 17,
     "metadata": {},
     "output_type": "execute_result"
    }
   ],
   "source": [
    "2./(360*60*60*1000)*24*60*60"
   ]
  },
  {
   "cell_type": "code",
   "execution_count": 18,
   "metadata": {},
   "outputs": [
    {
     "name": "stdout",
     "output_type": "stream",
     "text": [
      "$1.000000(13)\\times 10^{ 3 }$\n",
      "$56451.27(3)$\n"
     ]
    }
   ],
   "source": [
    "def fmt_tex(x, u):\n",
    "    x = float(x)\n",
    "    u = float(u)\n",
    "    if u<0:\n",
    "        raise ValueError(\"Uncertainty %g < 0\" % u)\n",
    "    elif u==0:\n",
    "        return \"%g\" % x\n",
    "    exponent_number = np.floor(np.log10(np.abs(x)))\n",
    "    exponent_error = np.floor(np.log10(u))\n",
    "    if u*10**(-exponent_error)>=2:\n",
    "        ndigs = 1\n",
    "    else:\n",
    "        ndigs = 2\n",
    "    if -1<=exponent_number<=2:\n",
    "        no_exponent = True\n",
    "    else:\n",
    "        no_exponent = False\n",
    "    if exponent_error>exponent_number:\n",
    "        fstr = \"$0({:\"+str(ndigs)+r\"d})\\times 10^{{ {:d} }}$\"\n",
    "        return fstr.format(\n",
    "            int(np.rint(u*10**(-exponent_error+(ndigs-1)))),\n",
    "            int(exponent_error-ndigs+1))\n",
    "    \n",
    "    number_digits = int(exponent_number-exponent_error)+ndigs-1\n",
    "    if no_exponent:\n",
    "        fstr = \"${:.\"+str(number_digits-int(exponent_number))+r\"f}({:d})$\"\n",
    "        return fstr.format(\n",
    "           x,\n",
    "           int(np.rint(u*10**(-exponent_error+(ndigs-1)))))\n",
    "    else:\n",
    "        fstr = \"${:.\"+str(number_digits)+r\"f}({:d})\\times 10^{{ {:d} }}$\"\n",
    "        return fstr.format(\n",
    "           x*10**(-exponent_number),\n",
    "           int(np.rint(u*10**(-exponent_error+(ndigs-1)))),\n",
    "           int(exponent_number))\n",
    "\n",
    "def fmt_mjd(x, u, base_mjd):\n",
    "    x = float(x)\n",
    "    u = float(u)\n",
    "    if u<0:\n",
    "        raise ValueError(\"Uncertainty %g < 0\" % u)\n",
    "    elif u==0:\n",
    "        raise ValueError(\"Uncertainty %g == 0\" % u)\n",
    "        #return \"%g\" % x\n",
    "    fracpart = (x-np.floor(x)) + (base_mjd-np.floor(base_mjd))\n",
    "    intpart = np.floor(x)+np.floor(base_mjd)+np.floor(fracpart)\n",
    "    fracpart -= np.floor(fracpart)\n",
    "    exponent_error = np.floor(np.log10(u))\n",
    "    if u*10**(-exponent_error)>=2:\n",
    "        ndigs = 1\n",
    "    else:\n",
    "        ndigs = 2\n",
    "    number_digits = int(-exponent_error)+ndigs-1\n",
    "    fstr = \"${:5d}.{:d}({:d})$\"\n",
    "    return fstr.format(int(intpart),\n",
    "       int(np.rint(fracpart*10**number_digits)),\n",
    "       int(np.rint(u*10**(-exponent_error+(ndigs-1)))))\n",
    "\n",
    "print fmt_tex(1000,0.013)\n",
    "print fmt_mjd(531.27,0.03,55920)"
   ]
  },
  {
   "cell_type": "code",
   "execution_count": 31,
   "metadata": {
    "collapsed": true
   },
   "outputs": [],
   "source": [
    "class TableEntry:\n",
    "    def __init__(self, description, mathname, value, error, units, base_mjd=None):\n",
    "        self.description = description\n",
    "        self.mathname = mathname\n",
    "        self.value = value\n",
    "        self.error = error\n",
    "        self.units = units\n",
    "        self.base_mjd = base_mjd\n",
    "        \n",
    "    def as_tex(self):\n",
    "        if self.base_mjd is None:\n",
    "            return (self.description + \" & \" +\n",
    "                    self.mathname + \" & \" +\n",
    "                    fmt_tex(self.value, self.error) + \" \" + self.units + r\"\"\"\\\\\n",
    "\"\"\")\n",
    "        else:\n",
    "            return (self.description + \" & \" +\n",
    "                    self.mathname + \" & MJD \" +\n",
    "                    fmt_mjd(self.value, self.error, self.base_mjd) + r\"\"\"\\\\\n",
    "\"\"\")"
   ]
  },
  {
   "cell_type": "code",
   "execution_count": 32,
   "metadata": {
    "collapsed": true
   },
   "outputs": [],
   "source": [
    "class TableEntryString:\n",
    "    def __init__(self, description, mathname, value):\n",
    "        self.description = description\n",
    "        self.mathname = mathname\n",
    "        self.value = value\n",
    "        \n",
    "    def as_tex(self):\n",
    "        return (self.description + \" & \" +\n",
    "                self.mathname + \" & \" +\n",
    "                self.value + r\"\"\"\\\\\n",
    "\"\"\")"
   ]
  },
  {
   "cell_type": "code",
   "execution_count": 50,
   "metadata": {
    "collapsed": true
   },
   "outputs": [],
   "source": [
    "s = r\"\"\"\\hline\n",
    "\\multicolumn{3}{c}{%s}\\\\\n",
    "\\hline\n",
    "\"\"\""
   ]
  },
  {
   "cell_type": "code",
   "execution_count": 51,
   "metadata": {},
   "outputs": [],
   "source": [
    "s2 = r\"\"\"\\multicolumn{3}{c}{%s}\\\\\"\"\" + \"\\n\"\n"
   ]
  },
  {
   "cell_type": "code",
   "execution_count": 52,
   "metadata": {},
   "outputs": [],
   "source": [
    "class Divider:\n",
    "    def __init__(self, kind, text=None):\n",
    "        self.kind = kind\n",
    "        self.text = text\n",
    "    def as_tex(self):\n",
    "        if self.kind==\"h\":\n",
    "            return s % self.text\n",
    "        elif self.kind==\" \":\n",
    "            return s2 % self.text\n",
    "        else:\n",
    "            raise ValueError"
   ]
  },
  {
   "cell_type": "code",
   "execution_count": 53,
   "metadata": {},
   "outputs": [],
   "source": [
    "def format_table(entries):\n",
    "    o = StringIO()\n",
    "    o.write(r\"\"\"\\begin{tabular}{lcc}\n",
    "Parameter & Symbol & Value \\\\\n",
    "\"\"\")\n",
    "    for e in entries:\n",
    "        o.write(e.as_tex())\n",
    "    o.write(r\"\"\"\\hline\n",
    "\\end{tabular}\n",
    "\"\"\")\n",
    "    return o.getvalue()"
   ]
  },
  {
   "cell_type": "code",
   "execution_count": 69,
   "metadata": {},
   "outputs": [
    {
     "name": "stdout",
     "output_type": "stream",
     "text": [
      "\\begin{tabular}{lcc}\n",
      "Parameter & Symbol & Value \\\\\n",
      "\\hline\n",
      "\\multicolumn{3}{c}{Fixed values}\\\\\n",
      "\\hline\n",
      "Right ascension & RA & $03^h 37^m 43^s.82589(13)$\\\\\n",
      "Declination & Dec & $+17\\degree 15' 14'' .828(2)$\\\\\n",
      "Dispersion measure & DM & $21.3162(3)$\\,pc\\,cm$^{-3}$\\\\\n",
      "Solar system ephemeris &  & DE435\\\\\n",
      "Reference epoch &  & MJD 55920.0\\\\\n",
      "Observation span &  & MJD 55956.7--57866.9\\\\\n",
      "Number of TOAs &  & 27110\\\\\n",
      "Root-mean-squared residual (unweighted) &  & $1.5\\,\\mu$s\\\\\n",
      "\\hline\n",
      "\\multicolumn{3}{c}{Fitted parameters}\\\\\n",
      "\\hline\n",
      "\\multicolumn{3}{c}{Spin-down parameters}\\\\\n",
      "Pulsar spin frequency & $f$ & $365.953363083(4)$ Hz\\\\\n",
      "Spin frequency derivative & $\\dot f$ & $-1.1775454(13)\\times 10^{ -15 }$ Hz s$^{-1}$\\\\\n",
      "\\multicolumn{3}{c}{Inner Keplerian parameters for pulsar orbit}\\\\\n",
      "Semimajor axis projected along line of sight & $(a \\sin i)_I$ & $1.2175256(2)$ lt-s\\\\\n",
      "Orbital period & $P_{b,I}$ & $1.6293941(7)$ d\\\\\n",
      "Eccentricity parameter ($e\\sin \\Omega$) & $\\epsilon_{1,I}$ & $6.880(2)\\times 10^{ -4 }$ \\\\\n",
      "Eccentricity parameter ($e\\cos \\Omega$) & $\\epsilon_{2,I}$ & $-9.1389(17)\\times 10^{ -5 }$ \\\\\n",
      "Time of ascending node & $t_{\\text{asc},I}$ & MJD $55920.40771671(6)$\\\\\n",
      "\\multicolumn{3}{c}{Outer Keplerian parameters for centre of mass of inner binary}\\\\\n",
      "Semimajor axis projected along line of sight & $(a \\sin i)_O$ & $74.672648(14)$ lt-s\\\\\n",
      "Orbital period & $P_{b,O}$ & $327.25701(12)$ d\\\\\n",
      "Eccentricity parameter ($e\\sin \\Omega$) & $\\epsilon_{1,O}$ & $3.518602(5)\\times 10^{ -2 }$ \\\\\n",
      "Eccentricity parameter ($e\\cos \\Omega$) & $\\epsilon_{2,O}$ & $-3.46288(17)\\times 10^{ -3 }$ \\\\\n",
      "Time of ascending node & $t_{\\text{asc},O}$ & MJD $56233.93529(12)$\\\\\n",
      "\\multicolumn{3}{c}{Interaction parameters}\\\\\n",
      "Semimajor axis projected in plane of sky & $(a \\cos i)_I$ & $1.48970(18)$ lt-s\\\\\n",
      "Semimajor axis projected in plane of sky & $(a \\cos i)_O$ & $91.374(12)$ lt-s\\\\\n",
      "Inner companion mass over PSR mass & $q_I = m_{cI}/m_p$ & $0.137410(4)$ \\\\\n",
      "Difference in longs. of asc. nodes & $\\delta_{\\text{lan}}$ & $3.5(4)\\times 10^{ -4 }$ $\\degree$\\\\\n",
      "\\multicolumn{3}{c}{GR violation parameters}\\\\\n",
      "PPN nonlinearity-of-gravity parameter & $\\beta_{\\text{PPN}}-1$ & $-1(3)\\times 10^{ -3 }$ \\\\\n",
      "PPN space curvature parameter & $\\gamma_{\\text{PPN}}-1$ & $0(2)\\times 10^{ -5 }$ \\\\\n",
      "SEP violation parameter & $\\Delta$ & $(-0.9 \\pm 0.2 \\pm 0.8) \\times 10^{-6}$\\\\\n",
      "\\hline\n",
      "\\multicolumn{3}{c}{Inferred values}\\\\\n",
      "\\hline\n",
      "\\multicolumn{3}{c}{Pulsar properties}\\\\\n",
      "Pulsar period & $P$ & $2.73258863254(3)$ ms\\\\\n",
      "Pulsar period derivative & $\\dot P$ & $8.792780(10)\\times 10^{ -21 }$ \\\\\n",
      "Inferred surface dipole magnetic field & $B$ & $1.6\\times 10^8$ G\\\\\n",
      "Spin-down power & $\\dot E$ & $1.7\\times 10^{34}$ erg s$^{-1}$\\\\\n",
      "Characteristic age & $\\tau$ & $4.9\\times 10^9$ y\\\\\n",
      "\\multicolumn{3}{c}{Orbital geometry}\\\\\n",
      "Pulsar semimajor axis (inner) & $a_I$ & $1.92394(14)$ lt-s\\\\\n",
      "Eccentricity (inner) & $e_I$ & $6.941(2)\\times 10^{ -4 }$ \\\\\n",
      "Longitude of periastron (inner) & $\\omega_I$ & $97.5660(13)$ $\\degree$\\\\\n",
      "Pulsar semimajor axis (outer) & $a_O$ & $118.005(9)$ lt-s\\\\\n",
      "Eccentricity (outer) & $e_O$ & $3.535601(3)\\times 10^{ -2 }$ \\\\\n",
      "Longitude of periastron (outer) & $\\omega_O$ & $95.6207(3)$ $\\degree$\\\\\n",
      "Inclination of invariant plane & $i$ & $39.256(4)$ $\\degree$\\\\\n",
      "Inclination of inner orbit & $i_I$ & $39.259(3)$ $\\degree$\\\\\n",
      "Angle between orbital planes & $\\delta_i$ & $2.8(6)\\times 10^{ -3 }$ $\\degree$\\\\\n",
      "Angle between eccentricity vectors & $\\delta_\\omega \\sim \\omega_O-\\omega_I$ & $-1.9453(16)$ $\\degree$\\\\\n",
      "\\multicolumn{3}{c}{Masses}\\\\\n",
      "Pulsar mass & $m_p$ & $1.4361(3)$ $M_\\Sun$\\\\\n",
      "Inner companion mass & $m_{cI}$ & $0.19734(4)$ $M_\\Sun$\\\\\n",
      "Outer companion mass & $m_{cO}$ & $0.40971(9)$ $M_\\Sun$\\\\\n",
      "\\hline\n",
      "\\end{tabular}\n",
      "\n"
     ]
    }
   ],
   "source": [
    "delta_systematic = 8e-7\n",
    "\n",
    "table = format_table([\n",
    "    Divider(\"h\",\"Fixed values\"),\n",
    "    TableEntryString(\"Right ascension\",\n",
    "        r\"RA\",r\"$03^h 37^m 43^s.82589(13)$\"),\n",
    "    TableEntryString(\"Declination\",\n",
    "        r\"Dec\",r\"$+17\\degree 15' 14'' .828(2)$\"),\n",
    "    TableEntryString(\"Dispersion measure\",\n",
    "        r\"DM\",r\"$21.3162(3)$\\,pc\\,cm$^{-3}$\"),\n",
    "    TableEntryString(\"Solar system ephemeris\",\n",
    "        r\"\",\"DE435\"),\n",
    "    TableEntryString(\"Reference epoch\",\n",
    "        r\"\",\"MJD %d.0\" % F.base_mjd),\n",
    "    TableEntryString(\"Observation span\",\n",
    "        r\"\",\"MJD %.1f--%.1f\" % (F.mjds[0]+F.base_mjd,F.mjds[-1]+F.base_mjd)),\n",
    "    TableEntryString(\"Number of TOAs\",\n",
    "        r\"\",\"%d\" % len(F.mjds)),\n",
    "    TableEntryString(\"Root-mean-squared residual (unweighted)\",\n",
    "        r\"\",r\"$%.1f\\,\\mu$s\" % rms_resid_us),\n",
    "    Divider(\"h\",\"Fitted parameters\"),\n",
    "    Divider(\" \",\"Spin-down parameters\"),\n",
    "    #TableEntry(\"Zero of pulsar phase\",\n",
    "    #    r\"$t_0$\",parameter_means[\"tzrmjd\"],parameter_errors[\"tzrmjd\"],\"MJD\",base_mjd=F.base_mjd),\n",
    "    TableEntry(\"Pulsar spin frequency\",\n",
    "        r\"$f$\",parameter_means[\"f0\"],parameter_errors[\"f0\"],\"Hz\"),\n",
    "    TableEntry(\"Spin frequency derivative\",\n",
    "        r\"$\\dot f$\",parameter_means[\"f1\"],parameter_errors[\"f1\"],\"Hz s$^{-1}$\"),\n",
    "    Divider(\" \",\"Inner Keplerian parameters for pulsar orbit\"),\n",
    "    TableEntry(\"Semimajor axis projected along line of sight\",\n",
    "        r\"$(a \\sin i)_I$\",parameter_means[\"asini_i\"],parameter_errors[\"asini_i\"],\"lt-s\"),\n",
    "    TableEntry(\"Orbital period\",\n",
    "        r\"$P_{b,I}$\",parameter_means[\"pb_i\"],parameter_errors[\"pb_i\"],\"d\"),\n",
    "    TableEntry(\"Eccentricity parameter ($e\\sin \\Omega$)\",\n",
    "        r\"$\\epsilon_{1,I}$\",parameter_means[\"eps1_i\"],parameter_errors[\"eps1_i\"],\"\"),\n",
    "    TableEntry(\"Eccentricity parameter ($e\\cos \\Omega$)\",\n",
    "        r\"$\\epsilon_{2,I}$\",parameter_means[\"eps2_i\"],parameter_errors[\"eps2_i\"],\"\"),\n",
    "    TableEntry(\"Time of ascending node\",\n",
    "        r\"$t_{\\text{asc},I}$\",parameter_means[\"tasc_i\"],parameter_errors[\"tasc_i\"],\"MJD\",base_mjd=F.base_mjd),\n",
    "    Divider(\" \",\"Outer Keplerian parameters for centre of mass of inner binary\"),\n",
    "    TableEntry(\"Semimajor axis projected along line of sight\",\n",
    "        r\"$(a \\sin i)_O$\",parameter_means[\"asini_o\"],parameter_errors[\"asini_o\"],\"lt-s\"),\n",
    "    TableEntry(\"Orbital period\",\n",
    "        r\"$P_{b,O}$\",parameter_means[\"pb_o\"],parameter_errors[\"pb_o\"],\"d\"),\n",
    "    TableEntry(\"Eccentricity parameter ($e\\sin \\Omega$)\",\n",
    "        r\"$\\epsilon_{1,O}$\",parameter_means[\"eps1_o\"],parameter_errors[\"eps1_o\"],\"\"),\n",
    "    TableEntry(\"Eccentricity parameter ($e\\cos \\Omega$)\",\n",
    "        r\"$\\epsilon_{2,O}$\",parameter_means[\"eps2_o\"],parameter_errors[\"eps2_o\"],\"\"),\n",
    "    TableEntry(\"Time of ascending node\",\n",
    "        r\"$t_{\\text{asc},O}$\",parameter_means[\"tasc_o\"],parameter_errors[\"tasc_o\"],\"MJD\",base_mjd=F.base_mjd),\n",
    "    Divider(\" \",\"Interaction parameters\"),\n",
    "    TableEntry(\"Semimajor axis projected in plane of sky\",r\"$(a \\cos i)_I$\",parameter_means[\"acosi_i\"],parameter_errors[\"acosi_i\"],\"lt-s\"),\n",
    "    TableEntry(\"Semimajor axis projected in plane of sky\",r\"$(a \\cos i)_O$\",parameter_means[\"acosi_o\"],parameter_errors[\"acosi_o\"],\"lt-s\"),\n",
    "    TableEntry(\"Inner companion mass over PSR mass\",\n",
    "        r\"$q_I = m_{cI}/m_p$\",parameter_means[\"q_i\"],parameter_errors[\"q_i\"],\"\"),\n",
    "    TableEntry(\"Difference in longs. of asc. nodes\",\n",
    "        r\"$\\delta_{\\text{lan}}$\",parameter_means[\"delta_lan_deg\"],parameter_errors[\"delta_lan_deg\"],\"$\\degree$\"),\n",
    "    Divider(\" \",\"GR violation parameters\"),\n",
    "    TableEntry(r\"PPN nonlinearity-of-gravity parameter\",\n",
    "        r\"$\\beta_{\\text{PPN}}-1$\",parameter_means[\"dbeta\"],parameter_errors[\"dbeta\"],\"\"),\n",
    "    TableEntry(r\"PPN space curvature parameter\",\n",
    "        r\"$\\gamma_{\\text{PPN}}-1$\",parameter_means[\"dgamma\"],parameter_errors[\"dgamma\"],\"\"),\n",
    "    # FIXME: handle systematic errors better\n",
    "    #TableEntry(r\"SEP violation parameter (see text)\",\n",
    "    #    r\"$\\Delta$\",parameter_means[\"delta\"],parameter_errors[\"delta\"],\"\"),\n",
    "    TableEntryString(r\"SEP violation parameter\",\n",
    "        r\"$\\Delta$\",\n",
    "        r\"$(%.1f \\pm %.1f \\pm %.1f) \\times 10^{-6}$\"\n",
    "                     % (1e6*parameter_means[\"delta\"],\n",
    "                        1e6*parameter_errors[\"delta\"],\n",
    "                        1e6*delta_systematic)),\n",
    "    Divider(\"h\",\"Inferred values\"),\n",
    "    Divider(\" \",\"Pulsar properties\"),\n",
    "    TableEntry(\"Pulsar period\",\n",
    "        r\"$P$\",parameter_means[\"P\"]*1e3,parameter_errors[\"P\"]*1e3,\"ms\"),\n",
    "    TableEntry(\"Pulsar period derivative\",\n",
    "        r\"$\\dot P$\",parameter_means[\"Pdot\"],parameter_errors[\"Pdot\"],\"\"),\n",
    "    #TableEntry(\"Inferred surface dipole magnetic field\",\n",
    "    #    r\"$B$\",parameter_means[\"B\"],parameter_errors[\"B\"],\"G\"),\n",
    "    #TableEntry(\"Spin-down power\",\n",
    "    #    r\"$\\dot E$\",parameter_means[\"Edot\"],parameter_errors[\"Edot\"],\"erg s$^{-1}$\"),\n",
    "    #TableEntry(\"Characteristic age\",\n",
    "    #    r\"$\\tau$\",parameter_means[\"tau\"],parameter_errors[\"tau\"],\"y\"),\n",
    "    TableEntryString(\"Inferred surface dipole magnetic field\",\n",
    "        r\"$B$\",r\"$1.6\\times 10^8$ G\"),\n",
    "    TableEntryString(\"Spin-down power\",\n",
    "        r\"$\\dot E$\",r\"$1.7\\times 10^{34}$ erg s$^{-1}$\"),\n",
    "    TableEntryString(\"Characteristic age\",\n",
    "        r\"$\\tau$\",r\"$4.9\\times 10^9$ y\"),\n",
    "    Divider(\" \",\"Orbital geometry\"),\n",
    "    TableEntry(\"Pulsar semimajor axis (inner)\",\n",
    "        r\"$a_I$\",parameter_means[\"a_i\"],parameter_errors[\"a_i\"],\"lt-s\"),\n",
    "    TableEntry(\"Eccentricity (inner)\",\n",
    "        r\"$e_I$\",parameter_means[\"e_i\"],parameter_errors[\"e_i\"],\"\"),\n",
    "    TableEntry(\"Longitude of periastron (inner)\",\n",
    "        r\"$\\omega_I$\",parameter_means[\"omega_i_deg\"],parameter_errors[\"omega_i_deg\"],\"$\\degree$\"),\n",
    "    TableEntry(\"Pulsar semimajor axis (outer)\",\n",
    "        r\"$a_O$\",parameter_means[\"a_o\"],parameter_errors[\"a_o\"],\"lt-s\"),\n",
    "    TableEntry(\"Eccentricity (outer)\",\n",
    "        r\"$e_O$\",parameter_means[\"e_o\"],parameter_errors[\"e_o\"],\"\"),\n",
    "    TableEntry(\"Longitude of periastron (outer)\",\n",
    "        r\"$\\omega_O$\",parameter_means[\"omega_o_deg\"],parameter_errors[\"omega_o_deg\"],\"$\\degree$\"),\n",
    "    TableEntry(\"Inclination of invariant plane\",\n",
    "        r\"$i$\",parameter_means[\"i_deg\"],parameter_errors[\"i_deg\"],\"$\\degree$\"),\n",
    "    TableEntry(\"Inclination of inner orbit\",\n",
    "        r\"$i_I$\",parameter_means[\"i_i_deg\"],parameter_errors[\"i_i_deg\"],\"$\\degree$\"),\n",
    "    TableEntry(\"Angle between orbital planes\",\n",
    "        r\"$\\delta_i$\",parameter_means[\"delta_i_deg\"],parameter_errors[\"delta_i_deg\"],\"$\\degree$\"),\n",
    "    TableEntry(\"Angle between eccentricity vectors\",\n",
    "        r\"$\\delta_\\omega \\sim \\omega_O-\\omega_I$\",parameter_means[\"delta_omega_deg\"],parameter_errors[\"delta_omega_deg\"],\"$\\degree$\"),\n",
    "    Divider(\" \",\"Masses\"),\n",
    "    TableEntry(\"Pulsar mass\",\n",
    "        r\"$m_p$\",parameter_means[\"m_psr\"],parameter_errors[\"m_psr\"],\"$M_\\Sun$\"),\n",
    "    TableEntry(\"Inner companion mass\",\n",
    "        r\"$m_{cI}$\",parameter_means[\"m_1\"],parameter_errors[\"m_1\"],\"$M_\\Sun$\"),\n",
    "    TableEntry(\"Outer companion mass\",\n",
    "        r\"$m_{cO}$\",parameter_means[\"m_2\"],parameter_errors[\"m_2\"],\"$M_\\Sun$\"),\n",
    "    ])\n",
    "print table"
   ]
  },
  {
   "cell_type": "code",
   "execution_count": 72,
   "metadata": {},
   "outputs": [],
   "source": [
    "with open(\"table.tex\", \"wt\") as f:\n",
    "    f.write(r\"\"\"%\\documentclass{article}\n",
    "%\\usepackage{amsmath}\n",
    "%\\usepackage{gensymb}\n",
    "%\\newcommand{\\Sun}{\\odot}\n",
    "%\\begin{document}\n",
    "% DO NOT EDIT - automatically generated\n",
    "{\\scriptsize\n",
    "\"\"\")\n",
    "    f.write(table)\n",
    "    f.write(r\"\"\"\n",
    "}\n",
    "\n",
    "The system parameters for PSR~J0337+17. Values in parentheses represent \n",
    "$1\\sigma$ errors in the last decimal place(s), as determined by our MCMC \n",
    "fitting. In the top section are parameter \n",
    "values we supplied as input to our timing fit; the position was determined \n",
    "with VLBI, and the DM we determined by examining a single observation. \n",
    "In the middle section are\n",
    "the parameters we used to describe the state of the system as of the\n",
    "reference epoch, which is when we began our differential equation \n",
    "integrations. Along with the pulsar spin-down parameters, these parameters \n",
    "are further divided into the conventional Keplerian parameters measurable \n",
    "in binary pulsars, one set for each of the orbits, plus four parameters \n",
    "that are measurable only because of orbital interactions. These fourteen \n",
    "parameters plus the longitude of the ascending node of the inner system \n",
    "and the center of mass position and velocity, all assumed to be zero, can \n",
    "completely describe any combination of three positions, velocities, and \n",
    "masses. \n",
    "The last subsection contains parameters that describe the degree to which \n",
    "this timing solution differs from GR. The PPN parameters $\\beta$ and $\\gamma$\n",
    "are not substantially constrained by our observations, and their values and \n",
    "uncertainties are consistent with the priors we obtained from Solar System\n",
    "experiments. The SEP vioaltion parameter $\\Delta$ is the fractional difference\n",
    "in acceleration between the pulsar and the inner white dwarf, and because it is\n",
    "the focus of this paper we take additional steps to estimate the impact of \n",
    "systematics on it.\n",
    "The fourth section contains quantities we inferred from the result\n",
    "of our fitting. Although some of the fitting parameters are highly covariant,\n",
    "we computed inferred parameters and their errors based on a sample from the\n",
    "posterior distribution, correctly taking into account these covariances. \n",
    "Note that since we do not correct for the mean slowing, the pulsar spin \n",
    "frequency and its derivative are changed by a fractional amount on the \n",
    "order of $10^{-6}$, and therefore so are all quantities derived from them.\n",
    "We use the standard formulae for computing $B$, $\\dot E$, and $\\tau$; in \n",
    "particular we assume a pulsar mass of $1.4M_\\Sun$ and a moment of inertia\n",
    "of $10^{45}\\;g\\;cm^2$.\n",
    "The Laplace-Lagrange parameters $\\epsilon_1$ and $\\epsilon_2$ provide a \n",
    "parameterization of the eccentricity ($e$) and longitude of periastron ($\\Omega$) \n",
    "of an orbit that avoids a coordinate singularity at zero eccentricity; \n",
    "the pair $(\\epsilon_2,\\epsilon_1)$ forms a vector in the plane of the orbit \n",
    "called the eccentricity vector.\n",
    "For a single orbit, the ascending node is the place where the pulsar passes \n",
    "through the plane of the sky moving away from us; the longitude of the \n",
    "ascending node specified the orientation of the orbit on the sky. This is not \n",
    "measurable with the data we have, but the difference between the longitudes of\n",
    "the ascending nodes of the two orbits is measurable through orbital interactions.\n",
    "The invariant plane is the plane perpendicular to the total (orbital) angular\n",
    "momentum of the triple system.\n",
    "Masses are as measured by a distant observer; corrections for special \n",
    "relativity are at the $10^{-8}$ fractional level and are therefore irrelevant.\n",
    "\n",
    "%\\end{document}\"\"\")\n"
   ]
  },
  {
   "cell_type": "code",
   "execution_count": 84,
   "metadata": {
    "collapsed": true
   },
   "outputs": [],
   "source": [
    "\"\"\"\n",
    "The zero of pulsar phase is to some degree arbitrary; it is based on \n",
    "alignment with our reference profile for the Westerbork 1400~MHz \n",
    "observations. It is also measured at the solar system barycenter and at \n",
    "infinite frequency.\n",
    "\"\"\""
   ]
  },
  {
   "cell_type": "code",
   "execution_count": 7,
   "metadata": {
    "collapsed": true
   },
   "outputs": [],
   "source": [
    "np.average?"
   ]
  },
  {
   "cell_type": "code",
   "execution_count": 56,
   "metadata": {},
   "outputs": [
    {
     "data": {
      "text/plain": [
       "{'B': 156855661.73257729555,\n",
       " 'Edot': 1.702160499718938014e+34,\n",
       " 'P': 0.0027325886325366150635,\n",
       " 'Pdot': 8.7927795443249636513e-21,\n",
       " 'a_i': 1.9239441482798994213,\n",
       " 'a_o': 118.00541333636190835,\n",
       " 'a_tot_i': 15.925462006012838122,\n",
       " 'a_tot_o': 588.48090158648086406,\n",
       " 'acosi_i': 1.4896954732838410983,\n",
       " 'acosi_o': 91.37435734279643812,\n",
       " 'asini_i': 1.2175255516555931047,\n",
       " 'asini_o': 74.672647869588037725,\n",
       " 'dbeta': -0.001292483358193196038,\n",
       " 'delta': -8.6798823796983757654e-07,\n",
       " 'delta_i': 4.9098274332476952e-05,\n",
       " 'delta_i_deg': 0.0028131239006264287,\n",
       " 'delta_lan': 6.1899394738712141069e-06,\n",
       " 'delta_lan_deg': 0.00035465740729424986927,\n",
       " 'delta_omega': -0.033951284457028044438,\n",
       " 'delta_omega_deg': -1.9452653084358176568,\n",
       " 'dgamma': 5.3041936511959916593e-07,\n",
       " 'e_i': 0.00069408363178287931598,\n",
       " 'e_o': 0.035356014226554930815,\n",
       " 'eps1_i': 0.00068804081326490438394,\n",
       " 'eps1_o': 0.035186022430071315914,\n",
       " 'eps2_i': -9.1388877476418056856e-05,\n",
       " 'eps2_o': -0.0034628842757855533136,\n",
       " 'f0': 365.95336308331092876,\n",
       " 'f1': -1.1775454258948897091e-15,\n",
       " 'i': 0.68515464677710303,\n",
       " 'i_deg': 39.256469574104699,\n",
       " 'i_i': 0.68520003952881996596,\n",
       " 'i_i_deg': 39.259070387198559442,\n",
       " 'i_o': 0.68515110800904602723,\n",
       " 'i_o_deg': 39.256266817630351824,\n",
       " 'm_1': 0.19733629882615494,\n",
       " 'm_2': 0.40970521045358732,\n",
       " 'm_2_over_m_p': 0.28528691372697024,\n",
       " 'm_psr': 1.4361163841548308,\n",
       " 'm_tot': 2.0431578934345729,\n",
       " 'nordtvedt_from_delta': 8.6798823796983752842e-06,\n",
       " 'nordtvedt_parameter': -0.0051704638521379037512,\n",
       " 'omega_i': 1.702848172053209798,\n",
       " 'omega_i_deg': 97.566013410215977043,\n",
       " 'omega_o': 1.6688968875961817535,\n",
       " 'omega_o_deg': 95.620748101780159385,\n",
       " 'pb_i': 1.6293941321209201001,\n",
       " 'pb_o': 327.25701236185533674,\n",
       " 'periastron_advance_i': 4.8542853534396259937e-13,\n",
       " 'periastron_advance_i_period': 35438331707.509030949,\n",
       " 'periastron_advance_i_year': 1.77299131820367263e-10,\n",
       " 'periastron_advance_o': 7.4002831930840423903e-17,\n",
       " 'periastron_advance_o_period': 232461069465572.80531,\n",
       " 'periastron_advance_o_year': 2.7028979341499984031e-14,\n",
       " 'period_ratio': 0.0049789433704150423573,\n",
       " 'prob': -18305.377820427493,\n",
       " 'q_i': 0.13740968433042750131,\n",
       " 'q_o': 0.25082159719674529,\n",
       " 'tasc_i': 0.40771671023175945156,\n",
       " 'tasc_o': 313.93528677199332841,\n",
       " 'tau': 4924056504.9269511229}"
      ]
     },
     "execution_count": 56,
     "metadata": {},
     "output_type": "execute_result"
    }
   ],
   "source": [
    "parameter_means"
   ]
  },
  {
   "cell_type": "code",
   "execution_count": null,
   "metadata": {
    "collapsed": true
   },
   "outputs": [],
   "source": []
  }
 ],
 "metadata": {
  "kernelspec": {
   "display_name": "Python 2",
   "language": "python",
   "name": "python2"
  },
  "language_info": {
   "codemirror_mode": {
    "name": "ipython",
    "version": 2
   },
   "file_extension": ".py",
   "mimetype": "text/x-python",
   "name": "python",
   "nbconvert_exporter": "python",
   "pygments_lexer": "ipython2",
   "version": "2.7.3"
  }
 },
 "nbformat": 4,
 "nbformat_minor": 1
}
