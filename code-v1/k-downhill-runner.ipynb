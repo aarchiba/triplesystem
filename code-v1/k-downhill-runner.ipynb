{
 "cells": [
  {
   "cell_type": "code",
   "execution_count": 21,
   "metadata": {},
   "outputs": [
    {
     "name": "stdout",
     "output_type": "stream",
     "text": [
      "The autoreload extension is already loaded. To reload it, use:\n",
      "  %reload_ext autoreload\n"
     ]
    }
   ],
   "source": [
    "%load_ext autoreload\n",
    "\n",
    "%autoreload 2\n",
    "\n",
    "from __future__ import print_function, division\n",
    "\n",
    "import cPickle as pickle\n",
    "from glob import glob\n",
    "import subprocess\n",
    "import sys\n",
    "import string\n",
    "import os\n",
    "import random\n",
    "import numpy as np\n",
    "from os.path import join\n",
    "\n",
    "import threebody\n",
    "\n",
    "import logging\n",
    "logger = logging.getLogger()\n",
    "#logger.setLevel(logging.DEBUG)\n",
    "logger.setLevel(logging.INFO)\n",
    "logging.debug(\"test\")"
   ]
  },
  {
   "cell_type": "code",
   "execution_count": 290,
   "metadata": {
    "collapsed": true
   },
   "outputs": [],
   "source": [
    "dmx_span = tuple(144.3+i*365.25 for i in range(6))\n",
    "basic_params = dict(files=\"tuned2_aligned_pulses_1400_nosun2\",\n",
    "                     tzrmjd_middle='auto',\n",
    "                     parfile=\"0337_de435.par\",\n",
    "                     fit_pos=True,\n",
    "                     fit_pm=True,\n",
    "                     fit_px=True,\n",
    "                     efac=1,\n",
    "                     t2_astrometry=True,\n",
    "                     kopeikin=False,\n",
    "                     ppn_mode='heavysimple',\n",
    "                     linear_jumps=True,\n",
    "                     linear_dm=False,\n",
    "                     fdn_range=(1,5),\n",
    "                     priors=('dbeta','dgamma'),\n",
    "                     toa_mode=\"pipeline\",\n",
    "                     dmx_span=dmx_span,\n",
    "                     variable_dm=True,\n",
    "                     variable_ipm=True)\n"
   ]
  },
  {
   "cell_type": "code",
   "execution_count": null,
   "metadata": {
    "collapsed": true
   },
   "outputs": [],
   "source": []
  },
  {
   "cell_type": "code",
   "execution_count": 344,
   "metadata": {
    "collapsed": true
   },
   "outputs": [],
   "source": [
    "qsub_script = string.Template(\"\"\"#!/bin/sh\n",
    "#PBS -lnodes=1:ppn=1:compute:old\n",
    "#PBS -N threebody_downhill_$name\n",
    "#PBS -V\n",
    "#PBS -o $DIR/pbs.out\n",
    "#PBS -e $DIR/pbs.err\n",
    "\n",
    "cd $here\n",
    "export PATH=/users/aarchiba/.virtualenvs/triplesystem/bin:/users/aarchiba/.local/bin:/usr/local/src/presto/bin:/users/aarchiba/bin:/usr/local/src/fv5.4:/usr/local/openmpi-2.1.0/bin/:/users/aarchiba/.local/bin:/opt/rh/python27/root/usr/bin:/opt/rh/rh-git29/root/usr/bin:/opt/rh/devtoolset-6/root/usr/bin:/usr/local/src/presto/bin:/users/aarchiba/bin:/usr/local/src/fv5.4:/usr/local/openmpi-2.1.0/bin/:.:/users/aarchiba/bin:/opt/local/share/cv/bin:/usr/local/bin:/opt/local/bin:/bin:/usr/bin:/bin:/usr/etc:/usr/sbin:/sbin:/usr/local/sbin:/users/aarchiba/.local/bin:/opt/rh/python27/root/usr/bin:/opt/rh/rh-git29/root/usr/bin:/opt/rh/devtoolset-6/root/usr/bin:/usr/local/src/presto/bin:/usr/local/src/fv5.4:/usr/local/openmpi-2.1.0/bin/:/usr/lib64/qt-3.3/bin\n",
    "export PYTHONPATH=\n",
    "\n",
    "python downhill.py $DIR/fitter_params.pickle $DIR/best_values.pickle \\\n",
    "--method $method --best_parameters $sv > $DIR/stdout.txt\n",
    "\"\"\")\n",
    "def submit(params, name, method=\"BOBYQA\", start=None):\n",
    "    # FIXME: handle already-running jobs\n",
    "    here = os.getcwd()\n",
    "    DIR = join(\"downhill-runs\",name)\n",
    "    if not os.path.exists(DIR):\n",
    "        os.makedirs(DIR)\n",
    "    with open(join(DIR, \"fitter_params.pickle\"),\"wb\") as f:\n",
    "        pickle.dump(params, f)\n",
    "    F = threebody.Fitter(**params)\n",
    "    if start is not None:\n",
    "        F.best_parameters.update(start)\n",
    "        sv = join(DIR, \"start_values.pickle\")\n",
    "        with open(sv,\"wb\") as f:\n",
    "            pickle.dump(F.best_parameters, f)\n",
    "    else:\n",
    "        sv = \"default\"\n",
    "    for p in F.parameters:\n",
    "        if p not in F.best_parameters:\n",
    "            raise ValueError(\"best parameters don't include %s\" % p)\n",
    "    print(\"Initial goodness of fit:\", F.goodness_of_fit(),\n",
    "          \"/\", len(F.mjds))\n",
    "    if F.goodness_of_fit()>1e6:\n",
    "        raise ValueError\n",
    "    s = qsub_script.substitute(**locals())\n",
    "    P = subprocess.Popen([\"qsub\",\"-\"],stdin=subprocess.PIPE,\n",
    "                         stdout=subprocess.PIPE, \n",
    "                         stderr=subprocess.PIPE)\n",
    "    out, err = P.communicate(input=s)\n",
    "    if P.returncode:\n",
    "        raise ValueError(\"qsub returned %s, output:\\n%s\\nerror:\\n%s\"\n",
    "                         % (P.returncode, out, err))\n",
    "    return out, err"
   ]
  },
  {
   "cell_type": "code",
   "execution_count": 410,
   "metadata": {
    "collapsed": true
   },
   "outputs": [],
   "source": [
    "start=None"
   ]
  },
  {
   "cell_type": "code",
   "execution_count": 408,
   "metadata": {},
   "outputs": [
    {
     "name": "stdout",
     "output_type": "stream",
     "text": [
      "MCMC setup before: 36706.9372785 after: 36707.8631494\n",
      "basic_params before: 36706.9372785 after: 36707.8631494\n"
     ]
    }
   ],
   "source": [
    "jobid = \"5361\"\n",
    "job_dir = glob(os.path.join(\"emcee-chains\",jobid+\".*\"))[0]\n",
    "\n",
    "with open(os.path.join(job_dir,\"fitter_params.pickle\")) as f:\n",
    "    fitter_params = pickle.load(f)\n",
    "\n",
    "F = threebody.Fitter(**fitter_params)\n",
    "best_so_far = np.load(os.path.join(job_dir,\"best_so_far.npy\"))\n",
    "start = F.best_parameters.copy()\n",
    "for i,p in enumerate(F.parameters):\n",
    "    start[p] = best_so_far[i]\n",
    "G = threebody.Fitter(**basic_params)\n",
    "print(\"MCMC setup before:\", F.goodness_of_fit(), \n",
    "      \"after:\", F.goodness_of_fit(start))\n",
    "print(\"basic_params before:\", G.goodness_of_fit(),\n",
    "      \"after:\", G.goodness_of_fit(start))"
   ]
  },
  {
   "cell_type": "code",
   "execution_count": 409,
   "metadata": {},
   "outputs": [
    {
     "name": "stdout",
     "output_type": "stream",
     "text": [
      "Initial goodness of fit: 36707.8631494 / 27110\n"
     ]
    },
    {
     "data": {
      "text/plain": [
       "('5549.nimrod.cv.nrao.edu\\n', '')"
      ]
     },
     "execution_count": 409,
     "metadata": {},
     "output_type": "execute_result"
    }
   ],
   "source": [
    "submit(fitter_params, \"MCMC\", start=start)"
   ]
  },
  {
   "cell_type": "code",
   "execution_count": 411,
   "metadata": {},
   "outputs": [
    {
     "name": "stdout",
     "output_type": "stream",
     "text": [
      "Initial goodness of fit: 36706.9372785 / 27110\n"
     ]
    },
    {
     "data": {
      "text/plain": [
       "('5550.nimrod.cv.nrao.edu\\n', '')"
      ]
     },
     "execution_count": 411,
     "metadata": {},
     "output_type": "execute_result"
    }
   ],
   "source": [
    "p = basic_params.copy()\n",
    "submit(p,\"heavysimple\",start=start)\n",
    "#submit(p,\"heavysimple\",method=\"basinhopping\",start=start)\n"
   ]
  },
  {
   "cell_type": "code",
   "execution_count": 412,
   "metadata": {},
   "outputs": [
    {
     "name": "stdout",
     "output_type": "stream",
     "text": [
      "Initial goodness of fit: 36706.9372785 / 27110\n"
     ]
    },
    {
     "data": {
      "text/plain": [
       "('5551.nimrod.cv.nrao.edu\\n', '')"
      ]
     },
     "execution_count": 412,
     "metadata": {},
     "output_type": "execute_result"
    }
   ],
   "source": [
    "p = basic_params.copy()\n",
    "p[\"files\"] = \"tuned2_aligned_pulses_1400_nosun2\"\n",
    "submit(p,\"lband\",start=start)\n"
   ]
  },
  {
   "cell_type": "code",
   "execution_count": 353,
   "metadata": {},
   "outputs": [
    {
     "name": "stdout",
     "output_type": "stream",
     "text": [
      "Initial goodness of fit: 37361.7615041 / 27138\n"
     ]
    },
    {
     "data": {
      "text/plain": [
       "('4552.nimrod.cv.nrao.edu\\n', '')"
      ]
     },
     "execution_count": 353,
     "metadata": {},
     "output_type": "execute_result"
    }
   ],
   "source": [
    "p = basic_params.copy()\n",
    "p[\"ppn_mode\"] = \"GR\"\n",
    "submit(p,\"GR\")\n",
    "#submit(p,\"GR\",start=start)\n",
    "#submit(p,\"GR\",method=\"Powell\",start=start)\n",
    "#submit(p,\"GR\",method=\"basinhopping\",start=start)\n"
   ]
  },
  {
   "cell_type": "code",
   "execution_count": 394,
   "metadata": {},
   "outputs": [
    {
     "name": "stdout",
     "output_type": "stream",
     "text": [
      "Initial goodness of fit: 34189.8614823 / 27110\n"
     ]
    },
    {
     "data": {
      "text/plain": [
       "('4817.nimrod.cv.nrao.edu\\n', '')"
      ]
     },
     "execution_count": 394,
     "metadata": {},
     "output_type": "execute_result"
    }
   ],
   "source": [
    "p = basic_params.copy()\n",
    "p[\"ppn_mode\"] = \"GR\"\n",
    "p[\"dmx_span\"] = 1\n",
    "p[\"variable_ipm\"] = False\n",
    "submit(p,\"GRdaily\")\n",
    "#submit(p,\"GR\",start=start)\n",
    "#submit(p,\"GR\",method=\"Powell\",start=start)\n",
    "#submit(p,\"GR\",method=\"basinhopping\",start=start)\n"
   ]
  },
  {
   "cell_type": "code",
   "execution_count": 301,
   "metadata": {},
   "outputs": [
    {
     "name": "stderr",
     "output_type": "stream",
     "text": [
      "WARNING:threebody:best_parameters not found on disk (122 available)\n"
     ]
    },
    {
     "name": "stdout",
     "output_type": "stream",
     "text": [
      "Initial goodness of fit: 40509.078393 / 27138\n"
     ]
    },
    {
     "data": {
      "text/plain": [
       "{'dmx_span': (144.3, 509.55, 874.8, 1240.05, 1605.3, 1970.55),\n",
       " 'efac': 1,\n",
       " 'fdn_range': (1, 5),\n",
       " 'files': 'tuned2_aligned_pulses_1400_nosun2',\n",
       " 'fit_pm': True,\n",
       " 'fit_pos': True,\n",
       " 'fit_px': True,\n",
       " 'kopeikin': False,\n",
       " 'linear_dm': True,\n",
       " 'linear_jumps': True,\n",
       " 'parfile': '0337_de435.par',\n",
       " 'ppn_mode': 'heavysimple',\n",
       " 'priors': ('dbeta', 'dgamma'),\n",
       " 't2_astrometry': True,\n",
       " 'toa_mode': 'pipeline',\n",
       " 'tzrmjd_middle': 'auto',\n",
       " 'variable_dm': False,\n",
       " 'variable_ipm': False}"
      ]
     },
     "execution_count": 301,
     "metadata": {},
     "output_type": "execute_result"
    }
   ],
   "source": [
    "p = basic_params.copy()\n",
    "#p[\"files\"] = \"tuned2_aligned_pulses_1400_nosun2\"\n",
    "p[\"linear_dm\"] = True\n",
    "p[\"variable_dm\"] = False\n",
    "p[\"variable_ipm\"] = False\n",
    "submit(p,\"dmtesting\",start=start)\n",
    "#submit(p,\"heavysimple\",method=\"basinhopping\",start=start)\n",
    "p"
   ]
  },
  {
   "cell_type": "markdown",
   "metadata": {},
   "source": [
    "## Paper runs"
   ]
  },
  {
   "cell_type": "code",
   "execution_count": 385,
   "metadata": {},
   "outputs": [
    {
     "name": "stdout",
     "output_type": "stream",
     "text": [
      "Initial goodness of fit: 36766.3401074 / 27110\n"
     ]
    },
    {
     "data": {
      "text/plain": [
       "('4809.nimrod.cv.nrao.edu\\n', '')"
      ]
     },
     "execution_count": 385,
     "metadata": {},
     "output_type": "execute_result"
    }
   ],
   "source": [
    "p = basic_params.copy()\n",
    "submit(p,\"primary\",start=start)"
   ]
  },
  {
   "cell_type": "code",
   "execution_count": 413,
   "metadata": {},
   "outputs": [
    {
     "name": "stdout",
     "output_type": "stream",
     "text": [
      "Initial goodness of fit: 43214.6036375 / 27193\n"
     ]
    },
    {
     "data": {
      "text/plain": [
       "('5552.nimrod.cv.nrao.edu\\n', '')"
      ]
     },
     "execution_count": 413,
     "metadata": {},
     "output_type": "execute_result"
    }
   ],
   "source": [
    "p = basic_params.copy()\n",
    "p[\"files\"] = \"tuned2_aligned_pulses_5deg\"\n",
    "submit(p,\"lowfreq\",start=start)"
   ]
  },
  {
   "cell_type": "code",
   "execution_count": 387,
   "metadata": {},
   "outputs": [
    {
     "name": "stdout",
     "output_type": "stream",
     "text": [
      "Initial goodness of fit: 88926.850906 / 27110\n"
     ]
    },
    {
     "data": {
      "text/plain": [
       "('4811.nimrod.cv.nrao.edu\\n', '')"
      ]
     },
     "execution_count": 387,
     "metadata": {},
     "output_type": "execute_result"
    }
   ],
   "source": [
    "p = basic_params.copy()\n",
    "p[\"ppn_mode\"] = \"newtondelta\"\n",
    "submit(p,\"newton\",start=start)"
   ]
  },
  {
   "cell_type": "code",
   "execution_count": 414,
   "metadata": {},
   "outputs": [
    {
     "name": "stdout",
     "output_type": "stream",
     "text": [
      "Initial goodness of fit: 34186.4744772 / 27110\n"
     ]
    },
    {
     "data": {
      "text/plain": [
       "('5553.nimrod.cv.nrao.edu\\n', '')"
      ]
     },
     "execution_count": 414,
     "metadata": {},
     "output_type": "execute_result"
    }
   ],
   "source": [
    "p = basic_params.copy()\n",
    "p[\"dmx_span\"] = 1\n",
    "p[\"variable_ipm\"] = False\n",
    "submit(p,\"dailyDM\",start=start)"
   ]
  },
  {
   "cell_type": "code",
   "execution_count": 389,
   "metadata": {},
   "outputs": [
    {
     "name": "stdout",
     "output_type": "stream",
     "text": [
      "Initial goodness of fit: 4102.47667649 / 3268\n"
     ]
    },
    {
     "data": {
      "text/plain": [
       "('4813.nimrod.cv.nrao.edu\\n', '')"
      ]
     },
     "execution_count": 389,
     "metadata": {},
     "output_type": "execute_result"
    }
   ],
   "source": [
    "p = basic_params.copy()\n",
    "p[\"files\"] = \"tuned2_aligned_pulses_5deg_WSRT\"\n",
    "submit(p,\"WSRT\",start=start)\n",
    "#submit(p,\"WSRT\",method=\"Powell\",start=start)\n",
    "#submit(p,\"WSRT\",method=\"basinhopping\",start=start)\n"
   ]
  },
  {
   "cell_type": "code",
   "execution_count": 390,
   "metadata": {},
   "outputs": [
    {
     "name": "stdout",
     "output_type": "stream",
     "text": [
      "Initial goodness of fit: 9000.36382182 / 5355\n"
     ]
    },
    {
     "data": {
      "text/plain": [
       "('4814.nimrod.cv.nrao.edu\\n', '')"
      ]
     },
     "execution_count": 390,
     "metadata": {},
     "output_type": "execute_result"
    }
   ],
   "source": [
    "p = basic_params.copy()\n",
    "p[\"files\"] = \"tuned2_aligned_pulses_5deg_AO\"\n",
    "submit(p,\"AO\",start=start)\n",
    "#submit(p,\"AO\",method=\"Powell\",start=start)\n",
    "#submit(p,\"AO\",method=\"basinhopping\",start=start)\n"
   ]
  },
  {
   "cell_type": "code",
   "execution_count": 391,
   "metadata": {},
   "outputs": [
    {
     "name": "stdout",
     "output_type": "stream",
     "text": [
      "Initial goodness of fit: 23396.6605104 / 18487\n"
     ]
    },
    {
     "data": {
      "text/plain": [
       "('4815.nimrod.cv.nrao.edu\\n', '')"
      ]
     },
     "execution_count": 391,
     "metadata": {},
     "output_type": "execute_result"
    }
   ],
   "source": [
    "p = basic_params.copy()\n",
    "p[\"files\"] = \"tuned2_aligned_pulses_5deg_GBT\"\n",
    "submit(p,\"GBT\",start=start)\n",
    "#submit(p,\"GBT\",method=\"Powell\")\n",
    "#submit(p,\"GBT\",method=\"basinhopping\")\n"
   ]
  },
  {
   "cell_type": "code",
   "execution_count": null,
   "metadata": {
    "collapsed": true
   },
   "outputs": [],
   "source": []
  },
  {
   "cell_type": "markdown",
   "metadata": {},
   "source": [
    "## Incorporate results into database"
   ]
  },
  {
   "cell_type": "code",
   "execution_count": null,
   "metadata": {
    "scrolled": false
   },
   "outputs": [
    {
     "name": "stdout",
     "output_type": "stream",
     "text": [
      "WSRT unchanged\n",
      "AO unchanged\n",
      "GBT unchanged\n",
      "heavysimple existing best parameters: 36706.9372785\n",
      "heavysimple best parameters from fitter: 36706.906731\n",
      "heavysimple updating\n",
      "GR unchanged\n",
      "dmtesting unchanged\n",
      "MCMC existing best parameters: 36706.906731\n",
      "MCMC best parameters from fitter: 36707.4220321\n",
      "lband unchanged\n",
      "primary existing best parameters: 36706.906731\n",
      "primary best parameters from fitter: 36763.9494175\n",
      "lowfreq existing best parameters: 43214.6036375\n",
      "lowfreq best parameters from fitter: 43214.4184441\n",
      "lowfreq updating\n",
      "newton unchanged\n"
     ]
    }
   ],
   "source": [
    "bpd = threebody.load_best_parameter_database()\n",
    "\n",
    "for DIR in glob(join(\"downhill-runs\",\"*\")):\n",
    "    name = DIR.split(\"/\")[-1]\n",
    "    d = pickle.load(open(join(DIR,\"fitter_params.pickle\")))\n",
    "    F = threebody.Fitter(**d)\n",
    "    try:\n",
    "        p = pickle.load(open(join(DIR,\"best_values.pickle\")))\n",
    "    except IOError:\n",
    "        continue\n",
    "    newp = F.best_parameters.copy()\n",
    "\n",
    "    newp.update(p)\n",
    "    if newp==F.best_parameters:\n",
    "        print(name, \"unchanged\")\n",
    "        continue\n",
    "    try:\n",
    "        old = F.goodness_of_fit(F.best_parameters)\n",
    "    except KeyError:\n",
    "        old = np.inf\n",
    "    new = F.goodness_of_fit(newp)\n",
    "    print(name, \"existing best parameters:\", old)\n",
    "    print(name, \"best parameters from fitter:\", new)\n",
    "\n",
    "    if new<old:\n",
    "        bpd = threebody.load_best_parameter_database()\n",
    "        print(name, \"updating\")\n",
    "        bpd[F.bpd_k] = newp\n",
    "        threebody.save_best_parameter_database(bpd)"
   ]
  },
  {
   "cell_type": "code",
   "execution_count": null,
   "metadata": {
    "collapsed": true
   },
   "outputs": [],
   "source": []
  }
 ],
 "metadata": {
  "kernelspec": {
   "display_name": "Python 2",
   "language": "python",
   "name": "python2"
  },
  "language_info": {
   "codemirror_mode": {
    "name": "ipython",
    "version": 2
   },
   "file_extension": ".py",
   "mimetype": "text/x-python",
   "name": "python",
   "nbconvert_exporter": "python",
   "pygments_lexer": "ipython2",
   "version": "2.7.3"
  }
 },
 "nbformat": 4,
 "nbformat_minor": 2
}
