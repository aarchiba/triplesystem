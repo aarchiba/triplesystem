{
 "cells": [
  {
   "cell_type": "code",
   "execution_count": 21,
   "metadata": {},
   "outputs": [
    {
     "name": "stdout",
     "output_type": "stream",
     "text": [
      "The autoreload extension is already loaded. To reload it, use:\n",
      "  %reload_ext autoreload\n"
     ]
    }
   ],
   "source": [
    "%load_ext autoreload\n",
    "\n",
    "%autoreload 2\n",
    "\n",
    "from __future__ import print_function, division\n",
    "\n",
    "import cPickle as pickle\n",
    "from glob import glob\n",
    "import subprocess\n",
    "import sys\n",
    "import string\n",
    "import os\n",
    "import random\n",
    "import numpy as np\n",
    "from os.path import join\n",
    "\n",
    "import threebody\n",
    "\n",
    "import logging\n",
    "logger = logging.getLogger()\n",
    "#logger.setLevel(logging.DEBUG)\n",
    "logger.setLevel(logging.INFO)\n",
    "logging.debug(\"test\")"
   ]
  },
  {
   "cell_type": "code",
   "execution_count": 168,
   "metadata": {
    "collapsed": true
   },
   "outputs": [],
   "source": [
    "basic_params = dict(files=\"tuned2_aligned_pulses_5deg\",\n",
    "                     tzrmjd_middle='auto',\n",
    "                     parfile=\"0337_de430.par\",\n",
    "                     fit_pos=True,\n",
    "                     fit_pm=True,\n",
    "                     fit_px=True,\n",
    "                     efac=1,\n",
    "                     t2_astrometry=True,\n",
    "                     kopeikin=False,\n",
    "                     ppn_mode='heavysimple',\n",
    "                     linear_jumps=True,\n",
    "                     linear_dm=False,\n",
    "                     fdn_range=(1,5),\n",
    "                     priors=('dbeta','dgamma'),\n",
    "                     toa_mode=\"pipeline\",\n",
    "                     dmx_span=365.2425/2,\n",
    "                     variable_dm=True,\n",
    "                     variable_ipm=True)\n"
   ]
  },
  {
   "cell_type": "code",
   "execution_count": null,
   "metadata": {
    "collapsed": true
   },
   "outputs": [],
   "source": []
  },
  {
   "cell_type": "code",
   "execution_count": 128,
   "metadata": {
    "collapsed": true
   },
   "outputs": [],
   "source": [
    "qsub_script = string.Template(\"\"\"#!/bin/sh\n",
    "#PBS -lnodes=1:ppn=1:compute:old\n",
    "#PBS -N threebody_downhill_$name\n",
    "#PBS -V\n",
    "#PBS -o $DIR/pbs.out\n",
    "#PBS -e $DIR/pbs.err\n",
    "\n",
    "cd $here\n",
    "export PATH=/users/aarchiba/.virtualenvs/triplesystem/bin:/users/aarchiba/.local/bin:/usr/local/src/presto/bin:/users/aarchiba/bin:/usr/local/src/fv5.4:/usr/local/openmpi-2.1.0/bin/:/users/aarchiba/.local/bin:/opt/rh/python27/root/usr/bin:/opt/rh/rh-git29/root/usr/bin:/opt/rh/devtoolset-6/root/usr/bin:/usr/local/src/presto/bin:/users/aarchiba/bin:/usr/local/src/fv5.4:/usr/local/openmpi-2.1.0/bin/:.:/users/aarchiba/bin:/opt/local/share/cv/bin:/usr/local/bin:/opt/local/bin:/bin:/usr/bin:/bin:/usr/etc:/usr/sbin:/sbin:/usr/local/sbin:/users/aarchiba/.local/bin:/opt/rh/python27/root/usr/bin:/opt/rh/rh-git29/root/usr/bin:/opt/rh/devtoolset-6/root/usr/bin:/usr/local/src/presto/bin:/usr/local/src/fv5.4:/usr/local/openmpi-2.1.0/bin/:/usr/lib64/qt-3.3/bin\n",
    "export PYTHONPATH=\n",
    "\n",
    "python downhill.py $DIR/fitter_params.pickle $DIR/best_values.pickle \\\n",
    "--method $method --best_parameters $sv > $DIR/stdout.txt\n",
    "\"\"\")\n",
    "def submit(params, name, method=\"BOBYQA\", start=None):\n",
    "    # FIXME: handle already-running jobs\n",
    "    here = os.getcwd()\n",
    "    DIR = join(\"downhill-runs\",name)\n",
    "    if not os.path.exists(DIR):\n",
    "        os.makedirs(DIR)\n",
    "    with open(join(DIR, \"fitter_params.pickle\"),\"wb\") as f:\n",
    "        pickle.dump(params, f)\n",
    "    F = threebody.Fitter(**params)\n",
    "    if start is not None:\n",
    "        F.best_parameters.update(start)\n",
    "        sv = join(DIR, \"start_values.pickle\")\n",
    "        with open(sv,\"wb\") as f:\n",
    "            pickle.dump(F.best_parameters, f)\n",
    "    else:\n",
    "        sv = \"default\"\n",
    "    for p in F.parameters:\n",
    "        if p not in F.best_parameters:\n",
    "            raise ValueError(\"best parameters don't include %s\" % p)\n",
    "    print(\"Initial goodness of fit:\", F.goodness_of_fit(),\n",
    "          \"/\", len(F.mjds))\n",
    "    s = qsub_script.substitute(**locals())\n",
    "    P = subprocess.Popen([\"qsub\",\"-\"],stdin=subprocess.PIPE,\n",
    "                         stdout=subprocess.PIPE, \n",
    "                         stderr=subprocess.PIPE)\n",
    "    out, err = P.communicate(input=s)\n",
    "    if P.returncode:\n",
    "        raise ValueError(\"qsub returned %s, output:\\n%s\\nerror:\\n%s\"\n",
    "                         % (P.returncode, out, err))\n",
    "    return out, err"
   ]
  },
  {
   "cell_type": "code",
   "execution_count": 161,
   "metadata": {
    "collapsed": true
   },
   "outputs": [],
   "source": [
    "start=None"
   ]
  },
  {
   "cell_type": "code",
   "execution_count": 196,
   "metadata": {},
   "outputs": [
    {
     "name": "stdout",
     "output_type": "stream",
     "text": [
      "MCMC setup before: 39907.0546317 after: 39907.364184\n",
      "basic_params before: 37937.4341033 after: 38087.1209711\n"
     ]
    }
   ],
   "source": [
    "jobid = \"4070\"\n",
    "job_dir = glob(os.path.join(\"emcee-chains\",jobid+\".*\"))[0]\n",
    "\n",
    "with open(os.path.join(job_dir,\"fitter_params.pickle\")) as f:\n",
    "    fitter_params = pickle.load(f)\n",
    "\n",
    "F = threebody.Fitter(**fitter_params)\n",
    "best_so_far = np.load(os.path.join(job_dir,\"best_so_far.npy\"))\n",
    "start = F.best_parameters.copy()\n",
    "for i,p in enumerate(F.parameters):\n",
    "    start[p] = best_so_far[i]\n",
    "G = threebody.Fitter(**basic_params)\n",
    "print(\"MCMC setup before:\", F.goodness_of_fit(), \n",
    "      \"after:\", F.goodness_of_fit(start))\n",
    "print(\"basic_params before:\", G.goodness_of_fit(),\n",
    "      \"after:\", G.goodness_of_fit(start))"
   ]
  },
  {
   "cell_type": "code",
   "execution_count": 197,
   "metadata": {},
   "outputs": [
    {
     "name": "stdout",
     "output_type": "stream",
     "text": [
      "Initial goodness of fit: 39907.364184 / 27138\n"
     ]
    },
    {
     "data": {
      "text/plain": [
       "('4182.nimrod.cv.nrao.edu\\n', '')"
      ]
     },
     "execution_count": 197,
     "metadata": {},
     "output_type": "execute_result"
    }
   ],
   "source": [
    "submit(fitter_params, \"MCMC\", start=start)"
   ]
  },
  {
   "cell_type": "code",
   "execution_count": 169,
   "metadata": {},
   "outputs": [
    {
     "name": "stderr",
     "output_type": "stream",
     "text": [
      "WARNING:threebody:best_parameters not found on disk (111 available)\n"
     ]
    },
    {
     "name": "stdout",
     "output_type": "stream",
     "text": [
      "Initial goodness of fit: 38051.0382286 / 27221\n"
     ]
    },
    {
     "data": {
      "text/plain": [
       "('4099.nimrod.cv.nrao.edu\\n', '')"
      ]
     },
     "execution_count": 169,
     "metadata": {},
     "output_type": "execute_result"
    }
   ],
   "source": [
    "p = basic_params.copy()\n",
    "submit(p,\"heavysimple\",start=start)\n",
    "#submit(p,\"heavysimple\",method=\"basinhopping\",start=start)\n"
   ]
  },
  {
   "cell_type": "code",
   "execution_count": 190,
   "metadata": {},
   "outputs": [
    {
     "name": "stderr",
     "output_type": "stream",
     "text": [
      "WARNING:threebody:best_parameters not found on disk (116 available)\n"
     ]
    },
    {
     "name": "stdout",
     "output_type": "stream",
     "text": [
      "Initial goodness of fit: 36364.2056757 / 27138\n"
     ]
    },
    {
     "data": {
      "text/plain": [
       "('4161.nimrod.cv.nrao.edu\\n', '')"
      ]
     },
     "execution_count": 190,
     "metadata": {},
     "output_type": "execute_result"
    }
   ],
   "source": [
    "p = basic_params.copy()\n",
    "p[\"files\"] = \"tuned2_aligned_pulses_1400_nosun2\"\n",
    "submit(p,\"lband\",start=start)\n"
   ]
  },
  {
   "cell_type": "code",
   "execution_count": 175,
   "metadata": {},
   "outputs": [
    {
     "name": "stdout",
     "output_type": "stream",
     "text": [
      "Initial goodness of fit: 37978.7130627 / 27221\n"
     ]
    },
    {
     "data": {
      "text/plain": [
       "('4105.nimrod.cv.nrao.edu\\n', '')"
      ]
     },
     "execution_count": 175,
     "metadata": {},
     "output_type": "execute_result"
    }
   ],
   "source": [
    "p = basic_params.copy()\n",
    "p[\"ppn_mode\"] = \"GR\"\n",
    "submit(p,\"GR\")\n",
    "#submit(p,\"GR\",start=start)\n",
    "#submit(p,\"GR\",method=\"Powell\",start=start)\n",
    "#submit(p,\"GR\",method=\"basinhopping\",start=start)\n"
   ]
  },
  {
   "cell_type": "code",
   "execution_count": 171,
   "metadata": {},
   "outputs": [
    {
     "name": "stderr",
     "output_type": "stream",
     "text": [
      "WARNING:threebody:best_parameters not found on disk (111 available)\n"
     ]
    },
    {
     "name": "stdout",
     "output_type": "stream",
     "text": [
      "Initial goodness of fit: 4147.26028511 / 3297\n"
     ]
    },
    {
     "data": {
      "text/plain": [
       "('4101.nimrod.cv.nrao.edu\\n', '')"
      ]
     },
     "execution_count": 171,
     "metadata": {},
     "output_type": "execute_result"
    }
   ],
   "source": [
    "p = basic_params.copy()\n",
    "p[\"files\"] = \"tuned2_aligned_pulses_5deg_WSRT\"\n",
    "submit(p,\"WSRT\",start=start)\n",
    "#submit(p,\"WSRT\",method=\"Powell\",start=start)\n",
    "#submit(p,\"WSRT\",method=\"basinhopping\",start=start)\n"
   ]
  },
  {
   "cell_type": "code",
   "execution_count": 172,
   "metadata": {},
   "outputs": [
    {
     "name": "stderr",
     "output_type": "stream",
     "text": [
      "WARNING:threebody:best_parameters not found on disk (111 available)\n"
     ]
    },
    {
     "name": "stdout",
     "output_type": "stream",
     "text": [
      "Initial goodness of fit: 10372.4280487 / 5437\n"
     ]
    },
    {
     "data": {
      "text/plain": [
       "('4102.nimrod.cv.nrao.edu\\n', '')"
      ]
     },
     "execution_count": 172,
     "metadata": {},
     "output_type": "execute_result"
    }
   ],
   "source": [
    "p = basic_params.copy()\n",
    "p[\"files\"] = \"tuned2_aligned_pulses_5deg_AO\"\n",
    "submit(p,\"AO\",start=start)\n",
    "#submit(p,\"AO\",method=\"Powell\",start=start)\n",
    "#submit(p,\"AO\",method=\"basinhopping\",start=start)\n"
   ]
  },
  {
   "cell_type": "code",
   "execution_count": 173,
   "metadata": {},
   "outputs": [
    {
     "name": "stderr",
     "output_type": "stream",
     "text": [
      "WARNING:threebody:best_parameters not found on disk (111 available)\n"
     ]
    },
    {
     "name": "stdout",
     "output_type": "stream",
     "text": [
      "Initial goodness of fit: 22842.5259149 / 18487\n"
     ]
    },
    {
     "data": {
      "text/plain": [
       "('4103.nimrod.cv.nrao.edu\\n', '')"
      ]
     },
     "execution_count": 173,
     "metadata": {},
     "output_type": "execute_result"
    }
   ],
   "source": [
    "p = basic_params.copy()\n",
    "p[\"files\"] = \"tuned2_aligned_pulses_5deg_GBT\"\n",
    "submit(p,\"GBT\",start=start)\n",
    "#submit(p,\"GBT\",method=\"Powell\")\n",
    "#submit(p,\"GBT\",method=\"basinhopping\")\n"
   ]
  },
  {
   "cell_type": "code",
   "execution_count": 145,
   "metadata": {},
   "outputs": [
    {
     "name": "stdout",
     "output_type": "stream",
     "text": [
      "Initial goodness of fit: 39950.1750333 / 27138\n"
     ]
    },
    {
     "data": {
      "text/plain": [
       "('4071.nimrod.cv.nrao.edu\\n', '')"
      ]
     },
     "execution_count": 145,
     "metadata": {},
     "output_type": "execute_result"
    }
   ],
   "source": [
    "p = basic_params.copy()\n",
    "p[\"files\"] = \"tuned2_aligned_pulses_1400_nosun2\"\n",
    "p[\"linear_dm\"] = True\n",
    "p[\"variable_dm\"] = False\n",
    "p[\"variable_ipm\"] = False\n",
    "submit(p,\"dmtesting\",start=start)\n",
    "#submit(p,\"heavysimple\",method=\"basinhopping\",start=start)\n"
   ]
  },
  {
   "cell_type": "markdown",
   "metadata": {},
   "source": [
    "## Incorporate results into database"
   ]
  },
  {
   "cell_type": "code",
   "execution_count": 198,
   "metadata": {},
   "outputs": [
    {
     "name": "stdout",
     "output_type": "stream",
     "text": [
      "WSRT unchanged\n",
      "AO unchanged\n",
      "GBT unchanged\n",
      "heavysimple unchanged\n",
      "GR unchanged\n",
      "dmtesting existing best parameters: 39907.0546317\n",
      "dmtesting best parameters from fitter: 39947.7999381\n",
      "MCMC existing best parameters: 39907.0546317\n",
      "MCMC best parameters from fitter: 39907.0546317\n",
      "lband unchanged\n"
     ]
    }
   ],
   "source": [
    "bpd = threebody.load_best_parameter_database()\n",
    "\n",
    "for DIR in glob(join(\"downhill-runs\",\"*\")):\n",
    "    name = DIR.split(\"/\")[-1]\n",
    "    d = pickle.load(open(join(DIR,\"fitter_params.pickle\")))\n",
    "    F = threebody.Fitter(**d)\n",
    "    try:\n",
    "        p = pickle.load(open(join(DIR,\"best_values.pickle\")))\n",
    "    except IOError:\n",
    "        continue\n",
    "    newp = F.best_parameters.copy()\n",
    "\n",
    "    newp.update(p)\n",
    "    if newp==F.best_parameters:\n",
    "        print(name, \"unchanged\")\n",
    "        continue\n",
    "    try:\n",
    "        old = F.goodness_of_fit(F.best_parameters)\n",
    "    except KeyError:\n",
    "        old = np.inf\n",
    "    new = F.goodness_of_fit(newp)\n",
    "    print(name, \"existing best parameters:\", old)\n",
    "    print(name, \"best parameters from fitter:\", new)\n",
    "\n",
    "    if new<old:\n",
    "        bpd = threebody.load_best_parameter_database()\n",
    "        print(name, \"updating\")\n",
    "        bpd[F.bpd_k] = newp\n",
    "        threebody.save_best_parameter_database(bpd)"
   ]
  },
  {
   "cell_type": "code",
   "execution_count": null,
   "metadata": {
    "collapsed": true
   },
   "outputs": [],
   "source": []
  }
 ],
 "metadata": {
  "kernelspec": {
   "display_name": "Python 2",
   "language": "python",
   "name": "python2"
  },
  "language_info": {
   "codemirror_mode": {
    "name": "ipython",
    "version": 2
   },
   "file_extension": ".py",
   "mimetype": "text/x-python",
   "name": "python",
   "nbconvert_exporter": "python",
   "pygments_lexer": "ipython2",
   "version": "2.7.3"
  }
 },
 "nbformat": 4,
 "nbformat_minor": 2
}
