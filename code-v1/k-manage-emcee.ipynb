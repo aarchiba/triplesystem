{
 "cells": [
  {
   "cell_type": "code",
   "execution_count": 196,
   "metadata": {},
   "outputs": [
    {
     "name": "stdout",
     "output_type": "stream",
     "text": [
      "The autoreload extension is already loaded. To reload it, use:\n",
      "  %reload_ext autoreload\n"
     ]
    }
   ],
   "source": [
    "%load_ext autoreload\n",
    "\n",
    "%autoreload 2\n",
    "\n",
    "from glob import glob\n",
    "from os.path import join\n",
    "import os\n",
    "import pickle\n",
    "import random\n",
    "\n",
    "import scipy.linalg\n",
    "import scipy.stats\n",
    "import matplotlib\n",
    "matplotlib.rcParams[\"figure.dpi\"] = 144\n",
    "matplotlib.rcParams[\"savefig.dpi\"] = 144\n",
    "import matplotlib.pyplot as plt\n",
    "import numpy as np\n",
    "\n",
    "import subprocess\n",
    "import shutil\n",
    "\n",
    "from astropy.table import Table, Column\n",
    "import astropy.units as u\n",
    "\n",
    "import emcee\n",
    "\n",
    "import kepler\n",
    "import threebody\n",
    "\n",
    "import minuit_wrap\n",
    "%matplotlib inline\n",
    "\n",
    "import logging\n",
    "logger = logging.getLogger()\n",
    "#logger.setLevel(logging.DEBUG)\n",
    "logger.setLevel(logging.INFO)\n",
    "logging.debug(\"test\")"
   ]
  },
  {
   "cell_type": "markdown",
   "metadata": {},
   "source": [
    "## Check everything is ready"
   ]
  },
  {
   "cell_type": "code",
   "execution_count": 120,
   "metadata": {},
   "outputs": [
    {
     "name": "stdout",
     "output_type": "stream",
     "text": [
      "-rw-r--r-- 1 aarchiba aipsuser 513 Aug  8 17:13 emcee_params.pickle\r\n",
      "-rw-r--r-- 1 aarchiba aipsuser 439 Aug 15 10:21 fitter_params.pickle\r\n"
     ]
    }
   ],
   "source": [
    "!ls -l fitter_params.pickle emcee_params.pickle"
   ]
  },
  {
   "cell_type": "code",
   "execution_count": 113,
   "metadata": {
    "collapsed": true
   },
   "outputs": [],
   "source": [
    "shutil.copy(\"fitter_params.pickle\",\"emcee_params.pickle\")"
   ]
  },
  {
   "cell_type": "code",
   "execution_count": 339,
   "metadata": {
    "collapsed": true
   },
   "outputs": [],
   "source": [
    "shutil.copy(\"downhill-runs/WSRT/fitter_params.pickle\",\"emcee_params.pickle\")"
   ]
  },
  {
   "cell_type": "code",
   "execution_count": 340,
   "metadata": {},
   "outputs": [
    {
     "data": {
      "text/plain": [
       "{'dmx_span': (144.3, 509.55, 874.8, 1240.05, 1605.3, 1970.55),\n",
       " 'efac': 1,\n",
       " 'fdn_range': (1, 5),\n",
       " 'files': 'tuned2_aligned_pulses_5deg_WSRT',\n",
       " 'fit_pm': True,\n",
       " 'fit_pos': True,\n",
       " 'fit_px': True,\n",
       " 'kopeikin': False,\n",
       " 'linear_dm': False,\n",
       " 'linear_jumps': True,\n",
       " 'parfile': '0337_de435.par',\n",
       " 'ppn_mode': 'heavysimple',\n",
       " 'priors': ('dbeta', 'dgamma'),\n",
       " 't2_astrometry': True,\n",
       " 'toa_mode': 'pipeline',\n",
       " 'tzrmjd_middle': 'auto',\n",
       " 'variable_dm': True,\n",
       " 'variable_ipm': True}"
      ]
     },
     "execution_count": 340,
     "metadata": {},
     "output_type": "execute_result"
    }
   ],
   "source": [
    "d = pickle.load(open(\"emcee_params.pickle\"))\n",
    "F = threebody.Fitter(**d)\n",
    "d"
   ]
  },
  {
   "cell_type": "code",
   "execution_count": 341,
   "metadata": {},
   "outputs": [
    {
     "data": {
      "text/plain": [
       "4100.7956183974937669"
      ]
     },
     "execution_count": 341,
     "metadata": {},
     "output_type": "execute_result"
    }
   ],
   "source": [
    "F.goodness_of_fit()"
   ]
  },
  {
   "cell_type": "markdown",
   "metadata": {},
   "source": [
    "## Set up walkers and cores"
   ]
  },
  {
   "cell_type": "code",
   "execution_count": 328,
   "metadata": {},
   "outputs": [
    {
     "name": "stdout",
     "output_type": "stream",
     "text": [
      "emcee-chains/5555.nimrod.cv.nrao.edu\n"
     ]
    }
   ],
   "source": [
    "matching_run = None\n",
    "runs = sorted((os.path.getmtime(g), g) for g in glob(\"emcee-chains/*\"))\n",
    "for r in runs[::-1]:\n",
    "    p = join(r[1],\"parameters.npy\")\n",
    "    if not os.path.exists(p): \n",
    "        continue\n",
    "    p = list(np.load(p))\n",
    "    if p == F.parameters:\n",
    "        matching_run = r[1]\n",
    "        break\n",
    "else:\n",
    "    raise ValueError(\"No matching set of parameters found\")\n",
    "print matching_run"
   ]
  },
  {
   "cell_type": "code",
   "execution_count": 329,
   "metadata": {},
   "outputs": [
    {
     "data": {
      "text/plain": [
       "98"
      ]
     },
     "execution_count": 329,
     "metadata": {},
     "output_type": "execute_result"
    }
   ],
   "source": [
    "setup = \"new\"\n",
    "\n",
    "if setup == \"new\":\n",
    "    nodes = 5\n",
    "    ppn = 20\n",
    "    cycles = 1\n",
    "    tag = \"new\"\n",
    "elif setup == \"old\":\n",
    "    nodes = 7\n",
    "    ppn = 12\n",
    "    cycles = 1\n",
    "    tag = \"old\"\n",
    "    \n",
    "walkers = nodes*ppn*cycles-1\n",
    "walkers -= walkers % 2\n",
    "walkers"
   ]
  },
  {
   "cell_type": "code",
   "execution_count": 330,
   "metadata": {
    "collapsed": true
   },
   "outputs": [],
   "source": [
    "skip = 20\n",
    "\n",
    "input_walkers = sorted(glob(join(matching_run,\"*-pos.npy\")))[::-skip]\n",
    "\n",
    "new_walker_pool = []\n",
    "for w in input_walkers:\n",
    "    nw = np.load(w)\n",
    "    if not np.all(np.isfinite(nw)):\n",
    "        continue\n",
    "    if len(nw.shape) != 2:\n",
    "        raise ValueError(\"Bad shape for walkers: %s\" % (nw.shape,))\n",
    "    nw -= nw.mean(axis=0)[None,:]\n",
    "    new_walker_pool.extend(list(nw))\n",
    "\n",
    "if len(new_walker_pool)<walkers:\n",
    "    raise ValueError(\"Only %d walkers found but needed %d\" \n",
    "                     % (len(new_walker_pool), walkers))\n",
    "\n",
    "random.shuffle(new_walker_pool)\n",
    "new_walkers = np.array(new_walker_pool[:walkers])[None,:,:]"
   ]
  },
  {
   "cell_type": "code",
   "execution_count": 331,
   "metadata": {},
   "outputs": [
    {
     "name": "stdout",
     "output_type": "stream",
     "text": [
      "(1, 98, 17)\n"
     ]
    }
   ],
   "source": [
    "walker_name = \"start-walkers.npy\"\n",
    "# Note shape has a 1 in front\n",
    "np.save(walker_name, new_walkers)\n",
    "print new_walkers.shape"
   ]
  },
  {
   "cell_type": "markdown",
   "metadata": {},
   "source": [
    "## No matching version"
   ]
  },
  {
   "cell_type": "code",
   "execution_count": 288,
   "metadata": {},
   "outputs": [
    {
     "name": "stdout",
     "output_type": "stream",
     "text": [
      "emcee-chains/4391.nimrod.cv.nrao.edu\n",
      "[0, 1, 2, 3, 4, 5, 6, 7, 8, 9, 10, 11, 12, 13, 14]\n",
      "['asini_i', 'pb_i', 'eps1_i', 'eps2_i', 'tasc_i', 'acosi_i', 'q_i', 'asini_o', 'pb_o', 'eps1_o', 'eps2_o', 'tasc_o', 'acosi_o', 'delta_lan', 'delta', 'dgamma', 'dbeta']\n",
      "['asini_i', 'pb_i', 'eps1_i', 'eps2_i', 'tasc_i', 'acosi_i', 'q_i', 'asini_o', 'pb_o', 'eps1_o', 'eps2_o', 'tasc_o', 'acosi_o', 'delta_lan', 'delta']\n"
     ]
    }
   ],
   "source": [
    "matching_run = None\n",
    "runs = sorted((os.path.getmtime(g), g) for g in glob(\"emcee-chains/*\"))\n",
    "for r in runs[::-1]:\n",
    "    p = join(r[1],\"parameters.npy\")\n",
    "    if not os.path.exists(p): \n",
    "        continue\n",
    "    p = list(np.load(p))\n",
    "    if set(p) >= set(F.parameters):\n",
    "        matching_run = r[1]\n",
    "        ix = [p.index(pi) for pi in F.parameters]\n",
    "        break\n",
    "else:\n",
    "    raise ValueError(\"No matching set of parameters found\")\n",
    "print matching_run\n",
    "print ix\n",
    "print p\n",
    "print F.parameters"
   ]
  },
  {
   "cell_type": "code",
   "execution_count": 289,
   "metadata": {
    "collapsed": true
   },
   "outputs": [],
   "source": [
    "skip = 20\n",
    "\n",
    "input_walkers = sorted(glob(join(matching_run,\"*-pos.npy\")))[::-skip]\n",
    "\n",
    "new_walker_pool = []\n",
    "for w in input_walkers:\n",
    "    nw = np.load(w)\n",
    "    if len(nw.shape) != 2:\n",
    "        raise ValueError(\"Bad shape for walkers: %s\" % (nw.shape,))\n",
    "    nw = nw[:,ix]\n",
    "    nw -= nw.mean(axis=0)[None,:]\n",
    "    new_walker_pool.extend(list(nw))\n",
    "\n",
    "if len(new_walker_pool)<walkers:\n",
    "    raise ValueError(\"Only %d walkers found but needed %d\" \n",
    "                     % (len(new_walker_pool), walkers))\n",
    "\n",
    "random.shuffle(new_walker_pool)\n",
    "new_walkers = np.array(new_walker_pool[:walkers])[None,:,:]"
   ]
  },
  {
   "cell_type": "code",
   "execution_count": 290,
   "metadata": {},
   "outputs": [
    {
     "name": "stdout",
     "output_type": "stream",
     "text": [
      "(1, 98, 15)\n"
     ]
    }
   ],
   "source": [
    "walker_name = \"start-walkers.npy\"\n",
    "# Note shape has a 1 in front\n",
    "np.save(walker_name, new_walkers)\n",
    "print new_walkers.shape"
   ]
  },
  {
   "cell_type": "markdown",
   "metadata": {},
   "source": [
    "## Manage qsub status\n",
    "\n",
    "Check whether a job is running, start it if it isn't, inspect what went wrong if it died.\n",
    "\n",
    "See also [Ganglia](http://localhost:9080/ganglia/?c=nimrod&m=load_one&r=hour&s=by%20name&hc=4&mc=2)"
   ]
  },
  {
   "cell_type": "code",
   "execution_count": 342,
   "metadata": {
    "collapsed": true,
    "scrolled": false
   },
   "outputs": [],
   "source": [
    "o = subprocess.check_output([\"qstat\",\"-f\"])\n",
    "jobs = {}\n",
    "cj = None\n",
    "ce = None\n",
    "for l in o.split(\"\\n\"):\n",
    "    if l.startswith(\"\\t\"):\n",
    "        jobs[cj][ce] += l[1:]\n",
    "    elif l.startswith(\" \"*4):\n",
    "        k, v = l.split(\"=\", 1)\n",
    "        k = k.strip()\n",
    "        v = v.strip()\n",
    "        ce = k\n",
    "        jobs[cj][ce] = v\n",
    "    elif l.startswith(\"Job Id:\"):\n",
    "        i, j = l.split(\":\",1)\n",
    "        cj = j.strip()\n",
    "        if cj in jobs:\n",
    "            raise ValueError\n",
    "        jobs[cj] = {}\n",
    "\n",
    "myjobs = {k:v for (k,v) in jobs.items() \n",
    "          if v[\"Job_Owner\"]==\"aarchiba@nimrod.cv.nrao.edu\"}\n",
    "for k in sorted(myjobs.keys()):\n",
    "    j = myjobs[k]\n",
    "    if os.path.exists(join(\"emcee-chains\",k)):\n",
    "        print k, j.get(\"job_state\",None)"
   ]
  },
  {
   "cell_type": "code",
   "execution_count": 343,
   "metadata": {},
   "outputs": [
    {
     "name": "stdout",
     "output_type": "stream",
     "text": [
      "#!/bin/sh\n",
      "#PBS -lnodes=5:ppn=20:compute:new\n",
      "#PBS -N threebody_emcee_mpi\n",
      "#PBS -V\n",
      "\n",
      "cd /data2/people/aarchiba/projects/triplesystem/code-v1\n",
      "export PATH=/users/aarchiba/.virtualenvs/triplesystem/bin:/users/aarchiba/.local/bin:/usr/local/src/presto/bin:/users/aarchiba/bin:/usr/local/src/fv5.4:/usr/local/openmpi-2.1.0/bin/:/users/aarchiba/.local/bin:/opt/rh/python27/root/usr/bin:/opt/rh/rh-git29/root/usr/bin:/opt/rh/devtoolset-6/root/usr/bin:/usr/local/src/presto/bin:/users/aarchiba/bin:/usr/local/src/fv5.4:/usr/local/openmpi-2.1.0/bin/:.:/users/aarchiba/bin:/opt/local/share/cv/bin:/usr/local/bin:/opt/local/bin:/bin:/usr/bin:/bin:/usr/etc:/usr/sbin:/sbin:/usr/local/sbin:/users/aarchiba/.local/bin:/opt/rh/python27/root/usr/bin:/opt/rh/rh-git29/root/usr/bin:/opt/rh/devtoolset-6/root/usr/bin:/usr/local/src/presto/bin:/usr/local/src/fv5.4:/usr/local/openmpi-2.1.0/bin/:/usr/lib64/qt-3.3/bin\n",
      "export PYTHONPATH=\n",
      "export OPENBLAS_NUM_THREADS=1\n",
      "\n",
      "mpirun python emcee_chain_mpi.py\n",
      "\n",
      "\n"
     ]
    }
   ],
   "source": [
    "qsub_script = \"\"\"#!/bin/sh\n",
    "#PBS -lnodes={nodes}:ppn={ppn}:compute:{tag}\n",
    "#PBS -N threebody_emcee_mpi\n",
    "#PBS -V\n",
    "\n",
    "cd /data2/people/aarchiba/projects/triplesystem/code-v1\n",
    "export PATH=/users/aarchiba/.virtualenvs/triplesystem/bin:/users/aarchiba/.local/bin:/usr/local/src/presto/bin:/users/\\\n",
    "aarchiba/bin:/usr/local/src/fv5.4:/usr/local/openmpi-2.1.0/bin/:/users/aarchiba/.local/bin:/opt/rh/python27/root/usr/b\\\n",
    "in:/opt/rh/rh-git29/root/usr/bin:/opt/rh/devtoolset-6/root/usr/bin:/usr/local/src/presto/bin:/users/aarchiba/bin:/usr/\\\n",
    "local/src/fv5.4:/usr/local/openmpi-2.1.0/bin/:.:/users/aarchiba/bin:/opt/local/share/cv/bin:/usr/local/bin:/opt/local/\\\n",
    "bin:/bin:/usr/bin:/bin:/usr/etc:/usr/sbin:/sbin:/usr/local/sbin:/users/aarchiba/.local/bin:/opt/rh/python27/root/usr/b\\\n",
    "in:/opt/rh/rh-git29/root/usr/bin:/opt/rh/devtoolset-6/root/usr/bin:/usr/local/src/presto/bin:/usr/local/src/fv5.4:/usr\\\n",
    "/local/openmpi-2.1.0/bin/:/usr/lib64/qt-3.3/bin\n",
    "export PYTHONPATH=\n",
    "export OPENBLAS_NUM_THREADS=1\n",
    "\n",
    "mpirun python emcee_chain_mpi.py\n",
    "\n",
    "\"\"\".format(**globals())\n",
    "\n",
    "print(qsub_script)"
   ]
  },
  {
   "cell_type": "code",
   "execution_count": 344,
   "metadata": {},
   "outputs": [
    {
     "name": "stdout",
     "output_type": "stream",
     "text": [
      "9658.nimrod.cv.nrao.edu\n",
      "\n",
      "\n"
     ]
    }
   ],
   "source": [
    "P = subprocess.Popen([\"qsub\",\"-\"],stdin=subprocess.PIPE,\n",
    "                         stdout=subprocess.PIPE, \n",
    "                         stderr=subprocess.PIPE)\n",
    "out, err = P.communicate(input=qsub_script)\n",
    "if P.returncode:\n",
    "    raise ValueError(\"qsub returned %s, output:\\n%s\\nerror:\\n%s\"\n",
    "                     % (P.returncode, out, err))\n",
    "print out\n",
    "print err"
   ]
  },
  {
   "cell_type": "markdown",
   "metadata": {
    "collapsed": true,
    "scrolled": false
   },
   "source": [
    "## Managing active jobs"
   ]
  },
  {
   "cell_type": "code",
   "execution_count": 92,
   "metadata": {
    "collapsed": true
   },
   "outputs": [],
   "source": [
    "def uniquify(l):\n",
    "    s = set()\n",
    "    for i in l:\n",
    "        if i not in s:\n",
    "            yield i\n",
    "            s.add(i)\n"
   ]
  },
  {
   "cell_type": "code",
   "execution_count": 94,
   "metadata": {
    "scrolled": false
   },
   "outputs": [
    {
     "name": "stdout",
     "output_type": "stream",
     "text": [
      "\n",
      "3544.nimrod.cv.nrao.edu\n",
      "\n",
      "/usr/local/lib/python2.7/site-packages/stevedore/extension.py:17: UserWarning: Module mpl_toolkits was already imported from None, but /home/rhlocal/rhel6/x86_64/stow/Python-2.7.3/lib/python2.7/site-packages/matplotlib-1.2.1-py2.7-linux-x86_64.egg is being added to sys.path\n",
      "  import pkg_resources\n",
      "\n"
     ]
    }
   ],
   "source": [
    "for k in sorted(myjobs.keys()):\n",
    "    print\n",
    "    print k\n",
    "    j = myjobs[k]\n",
    "    p = j[\"Output_Path\"].split(\":\")[1]\n",
    "    if os.path.exists(p):\n",
    "        for l in uniquify(open(p,\"rt\").readlines()):\n",
    "            print l,\n",
    "    print\n",
    "    p = j[\"Error_Path\"].split(\":\")[1]\n",
    "    if os.path.exists(p):\n",
    "        for l in uniquify(open(p,\"rt\").readlines()):\n",
    "            print l,\n",
    "    print\n",
    "    "
   ]
  },
  {
   "cell_type": "code",
   "execution_count": 81,
   "metadata": {
    "scrolled": false
   },
   "outputs": [
    {
     "name": "stdout",
     "output_type": "stream",
     "text": [
      "nimrod06/0\n"
     ]
    }
   ],
   "source": [
    "for k in sorted(myjobs.keys()):\n",
    "    print myjobs[k][\"exec_host\"]"
   ]
  },
  {
   "cell_type": "code",
   "execution_count": null,
   "metadata": {
    "collapsed": true
   },
   "outputs": [],
   "source": []
  }
 ],
 "metadata": {
  "kernelspec": {
   "display_name": "Python 2",
   "language": "python",
   "name": "python2"
  },
  "language_info": {
   "codemirror_mode": {
    "name": "ipython",
    "version": 2
   },
   "file_extension": ".py",
   "mimetype": "text/x-python",
   "name": "python",
   "nbconvert_exporter": "python",
   "pygments_lexer": "ipython2",
   "version": "2.7.3"
  }
 },
 "nbformat": 4,
 "nbformat_minor": 2
}
