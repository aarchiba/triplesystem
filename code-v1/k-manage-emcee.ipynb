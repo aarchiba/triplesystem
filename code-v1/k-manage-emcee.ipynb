{
 "cells": [
  {
   "cell_type": "code",
   "execution_count": 119,
   "metadata": {},
   "outputs": [
    {
     "name": "stdout",
     "output_type": "stream",
     "text": [
      "The autoreload extension is already loaded. To reload it, use:\n",
      "  %reload_ext autoreload\n"
     ]
    }
   ],
   "source": [
    "%load_ext autoreload\n",
    "\n",
    "%autoreload 2\n",
    "\n",
    "from glob import glob\n",
    "from os.path import join\n",
    "import os\n",
    "import pickle\n",
    "\n",
    "import scipy.linalg\n",
    "import scipy.stats\n",
    "import matplotlib\n",
    "matplotlib.rcParams[\"figure.dpi\"] = 144\n",
    "matplotlib.rcParams[\"savefig.dpi\"] = 144\n",
    "import matplotlib.pyplot as plt\n",
    "import numpy as np\n",
    "\n",
    "import subprocess\n",
    "import shutil\n",
    "\n",
    "from astropy.table import Table, Column\n",
    "import astropy.units as u\n",
    "\n",
    "import emcee\n",
    "\n",
    "import kepler\n",
    "import threebody\n",
    "\n",
    "import minuit_wrap\n",
    "%matplotlib inline\n",
    "\n",
    "import logging\n",
    "logger = logging.getLogger()\n",
    "#logger.setLevel(logging.DEBUG)\n",
    "logger.setLevel(logging.INFO)\n",
    "logging.debug(\"test\")"
   ]
  },
  {
   "cell_type": "markdown",
   "metadata": {},
   "source": [
    "## Check everything is ready"
   ]
  },
  {
   "cell_type": "code",
   "execution_count": 120,
   "metadata": {},
   "outputs": [
    {
     "name": "stdout",
     "output_type": "stream",
     "text": [
      "-rw-r--r-- 1 aarchiba aipsuser 513 Aug  8 17:13 emcee_params.pickle\r\n",
      "-rw-r--r-- 1 aarchiba aipsuser 439 Aug 15 10:21 fitter_params.pickle\r\n"
     ]
    }
   ],
   "source": [
    "!ls -l fitter_params.pickle emcee_params.pickle"
   ]
  },
  {
   "cell_type": "code",
   "execution_count": 113,
   "metadata": {
    "collapsed": true
   },
   "outputs": [],
   "source": [
    "shutil.copy(\"fitter_params.pickle\",\"emcee_params.pickle\")"
   ]
  },
  {
   "cell_type": "code",
   "execution_count": 136,
   "metadata": {
    "collapsed": true
   },
   "outputs": [],
   "source": [
    "shutil.copy(\"downhill-runs/lband/fitter_params.pickle\",\"emcee_params.pickle\")"
   ]
  },
  {
   "cell_type": "code",
   "execution_count": 140,
   "metadata": {},
   "outputs": [
    {
     "data": {
      "text/plain": [
       "{'dmx_span': 182.62125,\n",
       " 'efac': 1,\n",
       " 'fdn_range': (1, 5),\n",
       " 'files': 'tuned2_aligned_pulses_1400_nosun2',\n",
       " 'fit_pm': True,\n",
       " 'fit_pos': True,\n",
       " 'fit_px': True,\n",
       " 'kopeikin': False,\n",
       " 'linear_dm': False,\n",
       " 'linear_jumps': True,\n",
       " 'parfile': '0337_de430.par',\n",
       " 'ppn_mode': 'heavysimple',\n",
       " 'priors': ('dbeta', 'dgamma'),\n",
       " 't2_astrometry': True,\n",
       " 'toa_mode': 'pipeline',\n",
       " 'tzrmjd_middle': 'auto',\n",
       " 'variable_dm': True,\n",
       " 'variable_ipm': True}"
      ]
     },
     "execution_count": 140,
     "metadata": {},
     "output_type": "execute_result"
    }
   ],
   "source": [
    "d = pickle.load(open(\"emcee_params.pickle\"))\n",
    "F = threebody.Fitter(**d)\n",
    "d"
   ]
  },
  {
   "cell_type": "code",
   "execution_count": 141,
   "metadata": {},
   "outputs": [
    {
     "data": {
      "text/plain": [
       "36358.805574199816686"
      ]
     },
     "execution_count": 141,
     "metadata": {},
     "output_type": "execute_result"
    }
   ],
   "source": [
    "F.goodness_of_fit()"
   ]
  },
  {
   "cell_type": "code",
   "execution_count": 142,
   "metadata": {},
   "outputs": [
    {
     "data": {
      "text/plain": [
       "(1, 142, 17)"
      ]
     },
     "execution_count": 142,
     "metadata": {},
     "output_type": "execute_result"
    }
   ],
   "source": [
    "walker_name = \"start-walkers.npy\"\n",
    "walkers = np.load(walker_name)\n",
    "walkers.shape"
   ]
  },
  {
   "cell_type": "code",
   "execution_count": 143,
   "metadata": {
    "collapsed": true
   },
   "outputs": [],
   "source": [
    "if walkers.shape[-1] != len(F.parameters):\n",
    "    print(\"Problem! Walkers don't match parameter set\")\n",
    "    raise ValueError\n",
    "    if len(F.parameters)<walkers.shape[-1]:\n",
    "        print(\"Trimming\")\n",
    "        walkers = walkers[...,:len(F.parameters)]\n",
    "        np.save(walker_name, walkers)\n",
    "    elif len(F.parameters)>walkers.shape[-1]:\n",
    "        newshape = list(walkers.shape)\n",
    "        newshape[-1] = len(F.parameters)\n",
    "        newwalkers = np.zeros(newshape, dtype=walkers.dtype)\n",
    "        newwalkers[...,:walkers.shape[-1]] = walkers\n",
    "        randshape = list(walkers.shape)\n",
    "        randshape[-1] = len(F.parameters)-walkers.shape[-1]\n",
    "        newwalkers[...,walkers.shape[-1]:] = (\n",
    "            1e-7*np.random.randn(*randshape))\n",
    "        walkers = newwalkers\n",
    "        np.save(walker_name, walkers)\n",
    "        "
   ]
  },
  {
   "cell_type": "markdown",
   "metadata": {},
   "source": [
    "## Select and check a fitter configuration"
   ]
  },
  {
   "cell_type": "code",
   "execution_count": null,
   "metadata": {
    "collapsed": true
   },
   "outputs": [],
   "source": []
  },
  {
   "cell_type": "markdown",
   "metadata": {},
   "source": [
    "## Rearrange the walkers"
   ]
  },
  {
   "cell_type": "code",
   "execution_count": null,
   "metadata": {
    "collapsed": true
   },
   "outputs": [],
   "source": []
  },
  {
   "cell_type": "markdown",
   "metadata": {},
   "source": [
    "## Manage qsub status\n",
    "\n",
    "Check whether a job is running, start it if it isn't, inspect what went wrong if it died.\n",
    "\n",
    "See also [Ganglia](http://localhost:9080/ganglia/?c=nimrod&m=load_one&r=hour&s=by%20name&hc=4&mc=2)"
   ]
  },
  {
   "cell_type": "code",
   "execution_count": 146,
   "metadata": {
    "scrolled": false
   },
   "outputs": [
    {
     "name": "stdout",
     "output_type": "stream",
     "text": [
      "'},'\n",
      "'},'\n",
      "4164.nimrod.cv.nrao.edu C\n",
      "4182.nimrod.cv.nrao.edu C\n"
     ]
    }
   ],
   "source": [
    "o = subprocess.check_output([\"qstat\",\"-f\"])\n",
    "jobs = {}\n",
    "cj = None\n",
    "ce = None\n",
    "for l in o.split(\"\\n\"):\n",
    "    if l.startswith(\"\\t\"):\n",
    "        jobs[cj][ce] += l[1:]\n",
    "    elif l.startswith(\" \"*4):\n",
    "        k, v = l.split(\"=\", 1)\n",
    "        k = k.strip()\n",
    "        v = v.strip()\n",
    "        ce = k\n",
    "        jobs[cj][ce] = v\n",
    "    elif l.startswith(\"Job Id:\"):\n",
    "        i, j = l.split(\":\",1)\n",
    "        cj = j.strip()\n",
    "        if cj in jobs:\n",
    "            raise ValueError\n",
    "        jobs[cj] = {}\n",
    "    elif l.strip():\n",
    "        print repr(l)\n",
    "\n",
    "myjobs = {k:v for (k,v) in jobs.items() \n",
    "          if v[\"Job_Owner\"]==\"aarchiba@nimrod.cv.nrao.edu\"}\n",
    "for k in sorted(myjobs.keys()):\n",
    "    j = myjobs[k]\n",
    "    print k, j.get(\"job_state\",None)"
   ]
  },
  {
   "cell_type": "code",
   "execution_count": 147,
   "metadata": {},
   "outputs": [
    {
     "name": "stdout",
     "output_type": "stream",
     "text": [
      "4183.nimrod.cv.nrao.edu\n"
     ]
    }
   ],
   "source": [
    "o = subprocess.check_output([\"qsub\", \"submit_emcee_mpi.sh\"])\n",
    "o = o.strip()\n",
    "print o\n",
    "qsub_job_name_full = o\n",
    "qsub_job_number = o.split(\".\")[0]"
   ]
  },
  {
   "cell_type": "code",
   "execution_count": 91,
   "metadata": {
    "collapsed": true,
    "scrolled": false
   },
   "outputs": [],
   "source": [
    "#myjobs"
   ]
  },
  {
   "cell_type": "code",
   "execution_count": 92,
   "metadata": {
    "collapsed": true
   },
   "outputs": [],
   "source": [
    "def uniquify(l):\n",
    "    s = set()\n",
    "    for i in l:\n",
    "        if i not in s:\n",
    "            yield i\n",
    "            s.add(i)\n"
   ]
  },
  {
   "cell_type": "code",
   "execution_count": 94,
   "metadata": {
    "scrolled": false
   },
   "outputs": [
    {
     "name": "stdout",
     "output_type": "stream",
     "text": [
      "\n",
      "3544.nimrod.cv.nrao.edu\n",
      "\n",
      "/usr/local/lib/python2.7/site-packages/stevedore/extension.py:17: UserWarning: Module mpl_toolkits was already imported from None, but /home/rhlocal/rhel6/x86_64/stow/Python-2.7.3/lib/python2.7/site-packages/matplotlib-1.2.1-py2.7-linux-x86_64.egg is being added to sys.path\n",
      "  import pkg_resources\n",
      "\n"
     ]
    }
   ],
   "source": [
    "for k in sorted(myjobs.keys()):\n",
    "    print\n",
    "    print k\n",
    "    j = myjobs[k]\n",
    "    p = j[\"Output_Path\"].split(\":\")[1]\n",
    "    if os.path.exists(p):\n",
    "        for l in uniquify(open(p,\"rt\").readlines()):\n",
    "            print l,\n",
    "    print\n",
    "    p = j[\"Error_Path\"].split(\":\")[1]\n",
    "    if os.path.exists(p):\n",
    "        for l in uniquify(open(p,\"rt\").readlines()):\n",
    "            print l,\n",
    "    print\n",
    "    "
   ]
  },
  {
   "cell_type": "code",
   "execution_count": 81,
   "metadata": {
    "scrolled": false
   },
   "outputs": [
    {
     "name": "stdout",
     "output_type": "stream",
     "text": [
      "nimrod06/0\n"
     ]
    }
   ],
   "source": [
    "for k in sorted(myjobs.keys()):\n",
    "    print myjobs[k][\"exec_host\"]"
   ]
  },
  {
   "cell_type": "code",
   "execution_count": null,
   "metadata": {
    "collapsed": true
   },
   "outputs": [],
   "source": []
  }
 ],
 "metadata": {
  "kernelspec": {
   "display_name": "Python 2",
   "language": "python",
   "name": "python2"
  },
  "language_info": {
   "codemirror_mode": {
    "name": "ipython",
    "version": 2
   },
   "file_extension": ".py",
   "mimetype": "text/x-python",
   "name": "python",
   "nbconvert_exporter": "python",
   "pygments_lexer": "ipython2",
   "version": "2.7.3"
  }
 },
 "nbformat": 4,
 "nbformat_minor": 2
}
