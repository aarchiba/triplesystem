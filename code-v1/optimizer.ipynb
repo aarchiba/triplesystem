{
 "metadata": {
  "name": "optimizer"
 },
 "nbformat": 3,
 "nbformat_minor": 0,
 "worksheets": [
  {
   "cells": [
    {
     "cell_type": "code",
     "collapsed": false,
     "input": [
      "import scipy.optimize"
     ],
     "language": "python",
     "metadata": {},
     "outputs": [],
     "prompt_number": 3
    },
    {
     "cell_type": "code",
     "collapsed": false,
     "input": [
      "xs = np.linspace(0,10)\n",
      "def f(p):\n",
      "    a, b = p\n",
      "    return (1+(xs-a)**2+b**2)**(-1)\n",
      "def Df(p):\n",
      "    a, b = p\n",
      "    return np.array([2*(xs-a)*(1+(xs-a)**2+b**2)**(-2), -2*b*(1+(xs-a)**2+b**2)**(-2)])\n",
      "true_p = (1,1)\n",
      "ys = f(true_p)"
     ],
     "language": "python",
     "metadata": {},
     "outputs": [],
     "prompt_number": 10
    },
    {
     "cell_type": "code",
     "collapsed": false,
     "input": [
      "p_values = []\n",
      "def fitfunc(p):\n",
      "    print repr(p)\n",
      "    v = f(p)-ys\n",
      "    p_values.append((p,np.sum(v)**2))\n",
      "    return v\n",
      "\n",
      "r = scipy.optimize.leastsq(fitfunc, (1.5,1.5))\n",
      "print r\n",
      "r2 = scipy.optimize.leastsq(fitfunc, (1.5,1.5), Dfun=Df, col_deriv=True)\n",
      "print r2\n"
     ],
     "language": "python",
     "metadata": {},
     "outputs": [
      {
       "output_type": "stream",
       "stream": "stdout",
       "text": [
        "array([ 1.5,  1.5])\n",
        "array([ 1.5,  1.5])\n",
        "array([ 1.5,  1.5])\n",
        "array([ 1.50000002,  1.5       ])\n",
        "array([ 1.5       ,  1.50000002])\n",
        "array([ 0.63454103,  0.94440782])\n",
        "array([ 0.63454104,  0.94440782])\n",
        "array([ 0.63454103,  0.94440783])\n",
        "array([ 0.99201351,  1.04019401])\n",
        "array([ 0.99201352,  1.04019401])\n",
        "array([ 0.99201351,  1.04019402])\n",
        "array([ 1.0003215 ,  0.99936057])\n",
        "array([ 1.00032152,  0.99936057])\n",
        "array([ 1.0003215 ,  0.99936059])\n",
        "array([ 1.00000027,  0.99999987])\n",
        "array([ 1.00000028,  0.99999987])\n",
        "array([ 1.00000027,  0.99999989])\n",
        "array([ 1.,  1.])\n",
        "array([ 1.00000001,  1.        ])\n",
        "array([ 1.        ,  1.00000001])\n",
        "array([ 1.,  1.])\n",
        "(array([ 1.,  1.]), 2)\n",
        "array([ 1.5,  1.5])\n",
        "array([ 1.5,  1.5])\n",
        "array([ 1.5,  1.5])\n",
        "array([ 0.63454103,  0.94440782])\n",
        "array([ 0.9920135 ,  1.04019401])\n",
        "array([ 1.0003215 ,  0.99936057])\n",
        "array([ 1.00000027,  0.99999987])\n",
        "array([ 1.,  1.])\n",
        "array([ 1.,  1.])\n",
        "(array([ 1.,  1.]), 2)\n"
       ]
      }
     ],
     "prompt_number": 11
    },
    {
     "cell_type": "code",
     "collapsed": false,
     "input": [
      "print p_values[:8]\n",
      "plt.plot([p[0][0] for p in p_values])\n",
      "plt.plot([p[0][1] for p in p_values])"
     ],
     "language": "python",
     "metadata": {},
     "outputs": [
      {
       "output_type": "stream",
       "stream": "stdout",
       "text": [
        "[(array([ 1.,  1.]), 2.3116775763371264), (array([ 1.,  1.]), 2.3116775763371264), (array([ 1.,  1.]), 2.3116775763371264), (array([ 1.,  1.]), 2.3116775234162583), (array([ 1.,  1.]), 2.3116778141118677), (array([ 0.,  0.]), 0.13570775352177586), (array([ 1.,  1.]), 0.13570773987077095), (array([ 1.,  1.]), 0.13570779922038631)]\n"
       ]
      },
      {
       "output_type": "pyout",
       "prompt_number": 21,
       "text": [
        "[<matplotlib.lines.Line2D at 0x46957d0>]"
       ]
      },
      {
       "output_type": "display_data",
       "png": "[encoded data removed]"
      }
     ],
     "prompt_number": 21
    },
    {
     "cell_type": "code",
     "collapsed": false,
     "input": [],
     "language": "python",
     "metadata": {},
     "outputs": []
    }
   ],
   "metadata": {}
  }
 ]
}