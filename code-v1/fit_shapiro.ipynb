{
 "metadata": {
  "name": "fit_shapiro"
 },
 "nbformat": 3,
 "nbformat_minor": 0,
 "worksheets": [
  {
   "cells": [
    {
     "cell_type": "code",
     "collapsed": false,
     "input": [
      "import os\n",
      "\n",
      "import numpy as np\n",
      "import numpy.random\n",
      "import scipy.optimize\n",
      "\n",
      "import minuit\n",
      "\n",
      "import kepler\n",
      "import quad_integrate\n",
      "import threebody\n"
     ],
     "language": "python",
     "metadata": {},
     "outputs": [],
     "prompt_number": 4
    },
    {
     "cell_type": "code",
     "collapsed": false,
     "input": [
      "delay_list = []\n",
      "with open(\"0337_delays_2.txt\") as f:\n",
      "    for l in f.readlines():\n",
      "        if l.startswith(\"#\"):\n",
      "            continue\n",
      "        mjd, delay, tel = l.split()\n",
      "        delay_list.append((float(mjd),float(delay),tel))\n",
      "mjds = np.array([m for (m,d,t) in delay_list])\n",
      "delays = np.array([d for (m,d,t) in delay_list])\n",
      "\n",
      "tel_list = list(sorted(set([t for (m,d,t) in delay_list])))\n",
      "tels = np.array([tel_list.index(t) for (m,d,t) in delay_list])\n",
      "\n",
      "mjds -= delays/86400. # reomve Doppler effect\n",
      "\n",
      "ix = np.argsort(mjds)\n",
      "mjds = mjds[ix]\n",
      "delays = delays[ix]\n",
      "\n",
      "tels = tels[ix]\n"
     ],
     "language": "python",
     "metadata": {},
     "outputs": [],
     "prompt_number": 5
    },
    {
     "cell_type": "code",
     "collapsed": false,
     "input": [
      "# these ones give 24 us error but don't fit the optical q_i\n",
      "params = [\n",
      "         1.2174747243188027,\n",
      "         1.6294050499170794,\n",
      "         -8.924516861524968e-05,\n",
      "         0.000685253016835822,\n",
      "         0.4075020223794183,\n",
      "         0.7448736328511888,\n",
      "         0.11700148191244052,\n",
      "         74.67249772629293,\n",
      "         327.2543331024813,\n",
      "         -0.0034677237764728424,\n",
      "         0.03518458652298544,\n",
      "         313.93278525531576,\n",
      "         39.4975669344576,\n",
      "         0.022249717631385148\n",
      "        ]\n"
     ],
     "language": "python",
     "metadata": {},
     "outputs": [],
     "prompt_number": 6
    },
    {
     "cell_type": "code",
     "collapsed": false,
     "input": [
      "# These ones give 29 us error and fit the optical q_i\n",
      "params = np.array([\n",
      "    1.2174988158050191, \n",
      "    1.6294021833256951, \n",
      "    -8.3661608717230577e-05, \n",
      "    0.00068964302009720969, \n",
      "    0.40750117909098849, \n",
      "    0.7830338355955665, \n",
      "    0.13675428276180454, \n",
      "    74.672835052964615, \n",
      "    327.25812275080034, \n",
      "    -0.0034615127312474562, \n",
      "    0.035186127376441473, \n",
      "    313.9365673866829, \n",
      "    43.094242265811594, \n",
      "    0.0025344640183430282,\n",
      "    ])"
     ],
     "language": "python",
     "metadata": {},
     "outputs": [],
     "prompt_number": 22
    },
    {
     "cell_type": "code",
     "collapsed": false,
     "input": [
      "optical_iq_i = 7.32\n",
      "optical_iq_i_u = 0.08"
     ],
     "language": "python",
     "metadata": {},
     "outputs": [],
     "prompt_number": 8
    },
    {
     "cell_type": "code",
     "collapsed": false,
     "input": [
      "def fun(p):\n",
      "    #print \"fun:\",p,\n",
      "    o = threebody.compute_orbit(p, mjds, shapiro=True, special=True, general=True)\n",
      "    rv = threebody.remove_trend(\n",
      "        o['states'][:,2]+o['shapiro']+86400*o['einstein']-delays, mjds, tel_list, tels)\n",
      "    q_i = p[kepler.three_body_parameters_measurable.index('q_i')]\n",
      "    #oe = (q_i**(-1)-optical_iq_i)/optical_iq_i_u\n",
      "    r = np.sqrt(np.mean(rv**2))\n",
      "    #print r, oe\n",
      "    #return np.asarray(np.concatenate((rv,[10*oe*3e-5])), float)\n",
      "    return np.asarray(rv, float)\n"
     ],
     "language": "python",
     "metadata": {},
     "outputs": [],
     "prompt_number": 10
    },
    {
     "cell_type": "code",
     "collapsed": false,
     "input": [
      "r = scipy.optimize.leastsq(fun, params)\n",
      "fp = r[0]\n",
      " "
     ],
     "language": "python",
     "metadata": {},
     "outputs": [],
     "prompt_number": 42
    },
    {
     "cell_type": "code",
     "collapsed": false,
     "input": [
      "print fun(fp)"
     ],
     "language": "python",
     "metadata": {},
     "outputs": [
      {
       "output_type": "stream",
       "stream": "stdout",
       "text": [
        "fun: [  1.21749882e+00   1.62940218e+00  -8.36616087e-05   6.89643020e-04\n",
        "   4.07501179e-01   7.83033836e-01   1.36754283e-01   7.46728351e+01\n",
        "   3.27258123e+02  -3.46151273e-03   3.51861274e-02   3.13936567e+02\n",
        "   4.30942423e+01   2.53446402e-03] "
       ]
      },
      {
       "output_type": "stream",
       "stream": "stdout",
       "text": [
        "2.91905827545e-05 -0.0951843879565\n",
        "[ -3.00066673e-05  -3.23747398e-05  -3.15319252e-05 ...,  -7.92221884e-06\n",
        "   6.50107136e-06  -8.56659492e-06]\n"
       ]
      }
     ],
     "prompt_number": 30
    },
    {
     "cell_type": "code",
     "collapsed": false,
     "input": [
      "params = fp"
     ],
     "language": "python",
     "metadata": {},
     "outputs": [],
     "prompt_number": 31
    },
    {
     "cell_type": "code",
     "collapsed": false,
     "input": [
      "print repr(tuple(fp))"
     ],
     "language": "python",
     "metadata": {},
     "outputs": [
      {
       "output_type": "stream",
       "stream": "stdout",
       "text": [
        "(1.2174988158050191, 1.6294021833256951, -8.3661608717230577e-05, 0.00068964302009720969, 0.40750117909098849, 0.7830338355955665, 0.13675428276180454, 74.672835052964615, 327.25812275080034, -0.0034615127312474562, 0.035186127376441473, 313.9365673866829, 43.094242265811594, 0.0025344640183430282)\n"
       ]
      }
     ],
     "prompt_number": 34
    },
    {
     "cell_type": "code",
     "collapsed": false,
     "input": [
      "errors = [\n",
      "    6.79905918881e-07,\n",
      "    1.30848353799e-08,\n",
      "    4.66578015993e-07,\n",
      "    4.53991274435e-07,\n",
      "    2.73548072486e-07,\n",
      "    0.0093319987877,\n",
      "    0.01,\n",
      "    1.23356102739e-05,\n",
      "    2.43846531118e-05,\n",
      "    2.36181420292e-08,\n",
      "    2.90977031153e-08,\n",
      "    1.20859123447e-05,\n",
      "    0.0020486624124,\n",
      "    0.000474483461346,\n",
      "]"
     ],
     "language": "python",
     "metadata": {},
     "outputs": [],
     "prompt_number": 15
    },
    {
     "cell_type": "code",
     "collapsed": false,
     "input": [
      "params = [1.2175308871440869, \n",
      "    1.6294016450028166, \n",
      "    -9.1832878843968246e-05, \n",
      "    0.00068551192604084739, \n",
      "    0.40748842314179151, \n",
      "    1.4907181307833861, \n",
      "    0.13812040298038378, \n",
      "    74.672735812340676, \n",
      "    327.25768490510319, \n",
      "    -0.0034618981877972358, \n",
      "    0.035186316115792107, \n",
      "    313.93572526323481, \n",
      "    91.415926027083202, \n",
      "    9.4223295931147692e-05]\n",
      "errors = [8.8078808969866078e-09, \n",
      "    1.850475165567389e-08, \n",
      "    1.4959626060813296e-08, \n",
      "    3.6648048439848202e-09, \n",
      "    1.9915928891960408e-09, \n",
      "    0.013197439249614622, \n",
      "    0.001, \n",
      "    1.7445187349498271e-05, \n",
      "    3.448510714447086e-05, \n",
      "    2.7605494971802263e-10, \n",
      "    4.1150366379563119e-08, \n",
      "    1.7092061151527156e-05, \n",
      "    0.00011202065518376015, \n",
      "    0.00067102094615724352]\n"
     ],
     "language": "python",
     "metadata": {},
     "outputs": [],
     "prompt_number": 32
    },
    {
     "cell_type": "code",
     "collapsed": false,
     "input": [
      "params = [\n",
      "    1.2175308666827334, \n",
      "    1.6294016259152229, \n",
      "    -9.1858860263027996e-05, \n",
      "    0.00068552156132464293, \n",
      "    0.40748837727223758, \n",
      "    1.490997180877722, \n",
      "    0.13825701500224169, \n",
      "    74.672738074810724, \n",
      "    327.25770803095952, \n",
      "    -0.0034618568218941362, \n",
      "    0.035186326624153511, \n",
      "    313.93574982352646, \n",
      "    91.429965672964812, \n",
      "    9.3983763169785801e-05\n",
      "]\n",
      "errors = [\n",
      "    1.5570012767393623e-08, \n",
      "    1.2626367246292309e-10, \n",
      "    1.5389724926954442e-08, \n",
      "    1.4077883582781764e-08, \n",
      "    8.3965199956120764e-09, \n",
      "    2.1168254118354111e-05, \n",
      "    0.0001, \n",
      "    1.5828568199827656e-07, \n",
      "    2.6312559865077115e-07, \n",
      "    5.5906096301864372e-10, \n",
      "    4.8335985007017017e-10, \n",
      "    1.4948723857613057e-07, \n",
      "    0.0012632994546060222, \n",
      "    5.9159729886233523e-06\n",
      "]\n"
     ],
     "language": "python",
     "metadata": {},
     "outputs": [],
     "prompt_number": 45
    },
    {
     "cell_type": "code",
     "collapsed": false,
     "input": [
      "params =  [\n",
      "    1.2175309301441208, \n",
      "    1.629401746731145, \n",
      "    -9.1697093242085466e-05, \n",
      "    0.0006854633835837548, \n",
      "    0.40748867492589791, \n",
      "    1.487752631431152, \n",
      "    0.13739461329390812, \n",
      "    74.67272383306134, \n",
      "    327.25756209738336, \n",
      "    -0.0034621170121345887, \n",
      "    0.035186260395957986, \n",
      "    313.93559571809072, \n",
      "    91.245831212863962, \n",
      "    0.00011087166369959373\n",
      "]\n",
      "errors = [\n",
      "    2.459592975750685e-08, \n",
      "    2.7743936422970531e-10, \n",
      "    2.4097750651139993e-08, \n",
      "    2.1937496420847227e-08, \n",
      "    1.3083263621740591e-08, \n",
      "    3.2623928743907066e-05, \n",
      "    1.2134289869912935e-06, \n",
      "    2.5077505382376551e-07, \n",
      "    4.0210113503074705e-07, \n",
      "    9.2430842350094845e-10, \n",
      "    7.7670063912445483e-10, \n",
      "    2.5571226462834943e-07, \n",
      "    0.0019377797257486174, \n",
      "    9.3418316551305119e-06\n",
      "]"
     ],
     "language": "python",
     "metadata": {},
     "outputs": [],
     "prompt_number": 100
    },
    {
     "cell_type": "code",
     "collapsed": false,
     "input": [
      "def scale(p):\n",
      "    return (np.array(p,np.float128)-np.array(params,np.float128))/np.array(errors,np.float128)\n",
      "def unscale(p):\n",
      "    return np.array(p,np.float128)*np.array(errors,np.float128)+np.array(params,np.float128)"
     ],
     "language": "python",
     "metadata": {},
     "outputs": [],
     "prompt_number": 92
    },
    {
     "cell_type": "code",
     "collapsed": false,
     "input": [
      "cache = {} # This also serves as a way to find the best value seen so far"
     ],
     "language": "python",
     "metadata": {},
     "outputs": [],
     "prompt_number": 47
    },
    {
     "cell_type": "code",
     "collapsed": false,
     "input": [
      "def mfun(asini_i, pb_i, eps1_i, eps2_i, tasc_i, \n",
      "            acosi_i, q_i,\n",
      "            asini_o, pb_o, eps1_o, eps2_o, tasc_o, \n",
      "            acosi_o, delta_lan):\n",
      "    p = (asini_i, pb_i, eps1_i, eps2_i, tasc_i, \n",
      "            acosi_i, q_i,\n",
      "            asini_o, pb_o, eps1_o, eps2_o, tasc_o, \n",
      "            acosi_o, delta_lan)\n",
      "    p = tuple(unscale(p))\n",
      "    if p in cache:\n",
      "        v = cache[p]\n",
      "    else:\n",
      "        r = fun(p)\n",
      "        v = np.sum((r/1e-6)**2)\n",
      "        cache[p] = v\n",
      "    return v"
     ],
     "language": "python",
     "metadata": {},
     "outputs": [],
     "prompt_number": 93
    },
    {
     "cell_type": "code",
     "collapsed": false,
     "input": [
      "m = minuit.Minuit(mfun)"
     ],
     "language": "python",
     "metadata": {},
     "outputs": [],
     "prompt_number": 94
    },
    {
     "cell_type": "code",
     "collapsed": false,
     "input": [
      "for n,v in zip(m.parameters, scale(params)):\n",
      "    m.values[n] = v"
     ],
     "language": "python",
     "metadata": {},
     "outputs": [],
     "prompt_number": 95
    },
    {
     "cell_type": "code",
     "collapsed": false,
     "input": [
      "m.printMode = 3\n",
      "m.strategy = 2\n",
      "m.eps = 1e-10\n",
      "m.tol = 50.\n",
      "#m.values['q_i'] = optical_iq_i ** (-1)\n",
      "m.fixed['q_i'] = False\n",
      "m.migrad()"
     ],
     "language": "python",
     "metadata": {},
     "outputs": [
      {
       "ename": "KeyboardInterrupt",
       "evalue": "",
       "output_type": "pyerr",
       "traceback": [
        "\u001b[0;31m---------------------------------------------------------------------------\u001b[0m\n\u001b[0;31mKeyboardInterrupt\u001b[0m                         Traceback (most recent call last)",
        "\u001b[0;32m<ipython-input-97-d8c4156fa450>\u001b[0m in \u001b[0;36m<module>\u001b[0;34m()\u001b[0m\n\u001b[1;32m      5\u001b[0m \u001b[0;31m#m.values['q_i'] = optical_iq_i ** (-1)\u001b[0m\u001b[0;34m\u001b[0m\u001b[0;34m\u001b[0m\u001b[0m\n\u001b[1;32m      6\u001b[0m \u001b[0;31m#m.fixed['q_i'] = True\u001b[0m\u001b[0;34m\u001b[0m\u001b[0;34m\u001b[0m\u001b[0m\n\u001b[0;32m----> 7\u001b[0;31m \u001b[0mm\u001b[0m\u001b[0;34m.\u001b[0m\u001b[0mmigrad\u001b[0m\u001b[0;34m(\u001b[0m\u001b[0;34m)\u001b[0m\u001b[0;34m\u001b[0m\u001b[0m\n\u001b[0m",
        "\u001b[0;32m<ipython-input-93-d680f6e5e2a6>\u001b[0m in \u001b[0;36mmfun\u001b[0;34m(asini_i, pb_i, eps1_i, eps2_i, tasc_i, acosi_i, q_i, asini_o, pb_o, eps1_o, eps2_o, tasc_o, acosi_o, delta_lan)\u001b[0m\n\u001b[1;32m     11\u001b[0m         \u001b[0mv\u001b[0m \u001b[0;34m=\u001b[0m \u001b[0mcache\u001b[0m\u001b[0;34m[\u001b[0m\u001b[0mp\u001b[0m\u001b[0;34m]\u001b[0m\u001b[0;34m\u001b[0m\u001b[0m\n\u001b[1;32m     12\u001b[0m     \u001b[0;32melse\u001b[0m\u001b[0;34m:\u001b[0m\u001b[0;34m\u001b[0m\u001b[0m\n\u001b[0;32m---> 13\u001b[0;31m         \u001b[0mr\u001b[0m \u001b[0;34m=\u001b[0m \u001b[0mfun\u001b[0m\u001b[0;34m(\u001b[0m\u001b[0mp\u001b[0m\u001b[0;34m)\u001b[0m\u001b[0;34m\u001b[0m\u001b[0m\n\u001b[0m\u001b[1;32m     14\u001b[0m         \u001b[0mv\u001b[0m \u001b[0;34m=\u001b[0m \u001b[0mnp\u001b[0m\u001b[0;34m.\u001b[0m\u001b[0msum\u001b[0m\u001b[0;34m(\u001b[0m\u001b[0;34m(\u001b[0m\u001b[0mr\u001b[0m\u001b[0;34m/\u001b[0m\u001b[0;36m1e-6\u001b[0m\u001b[0;34m)\u001b[0m\u001b[0;34m**\u001b[0m\u001b[0;36m2\u001b[0m\u001b[0;34m)\u001b[0m\u001b[0;34m\u001b[0m\u001b[0m\n\u001b[1;32m     15\u001b[0m         \u001b[0mcache\u001b[0m\u001b[0;34m[\u001b[0m\u001b[0mp\u001b[0m\u001b[0;34m]\u001b[0m \u001b[0;34m=\u001b[0m \u001b[0mv\u001b[0m\u001b[0;34m\u001b[0m\u001b[0m\n",
        "\u001b[0;32m<ipython-input-10-39c3029e0c7a>\u001b[0m in \u001b[0;36mfun\u001b[0;34m(p)\u001b[0m\n\u001b[1;32m      1\u001b[0m \u001b[0;32mdef\u001b[0m \u001b[0mfun\u001b[0m\u001b[0;34m(\u001b[0m\u001b[0mp\u001b[0m\u001b[0;34m)\u001b[0m\u001b[0;34m:\u001b[0m\u001b[0;34m\u001b[0m\u001b[0m\n\u001b[1;32m      2\u001b[0m     \u001b[0;31m#print \"fun:\",p,\u001b[0m\u001b[0;34m\u001b[0m\u001b[0;34m\u001b[0m\u001b[0m\n\u001b[0;32m----> 3\u001b[0;31m     \u001b[0mo\u001b[0m \u001b[0;34m=\u001b[0m \u001b[0mthreebody\u001b[0m\u001b[0;34m.\u001b[0m\u001b[0mcompute_orbit\u001b[0m\u001b[0;34m(\u001b[0m\u001b[0mp\u001b[0m\u001b[0;34m,\u001b[0m \u001b[0mmjds\u001b[0m\u001b[0;34m,\u001b[0m \u001b[0mshapiro\u001b[0m\u001b[0;34m=\u001b[0m\u001b[0mTrue\u001b[0m\u001b[0;34m,\u001b[0m \u001b[0mspecial\u001b[0m\u001b[0;34m=\u001b[0m\u001b[0mTrue\u001b[0m\u001b[0;34m,\u001b[0m \u001b[0mgeneral\u001b[0m\u001b[0;34m=\u001b[0m\u001b[0mTrue\u001b[0m\u001b[0;34m)\u001b[0m\u001b[0;34m\u001b[0m\u001b[0m\n\u001b[0m\u001b[1;32m      4\u001b[0m     rv = threebody.remove_trend(\n\u001b[1;32m      5\u001b[0m         o['states'][:,2]+o['shapiro']+86400*o['einstein']-delays, mjds, tel_list, tels)\n",
        "\u001b[0;32m/home/peridot/projects/threebody/threebody.pyc\u001b[0m in \u001b[0;36mcompute_orbit\u001b[0;34m(parameters, times, with_derivatives, epoch, save_orbits, load_orbits, tol, shapiro, special, general)\u001b[0m\n\u001b[1;32m    149\u001b[0m                delta = 1e-10)\n\u001b[1;32m    150\u001b[0m         \u001b[0;32mfor\u001b[0m \u001b[0mt\u001b[0m \u001b[0;32min\u001b[0m \u001b[0mtimes\u001b[0m\u001b[0;34m:\u001b[0m\u001b[0;34m\u001b[0m\u001b[0m\n\u001b[0;32m--> 151\u001b[0;31m             \u001b[0mO\u001b[0m\u001b[0;34m.\u001b[0m\u001b[0mintegrate_to\u001b[0m\u001b[0;34m(\u001b[0m\u001b[0mt\u001b[0m\u001b[0;34m)\u001b[0m\u001b[0;34m\u001b[0m\u001b[0m\n\u001b[0m\u001b[1;32m    152\u001b[0m             \u001b[0mstates\u001b[0m\u001b[0;34m.\u001b[0m\u001b[0mappend\u001b[0m\u001b[0;34m(\u001b[0m\u001b[0mO\u001b[0m\u001b[0;34m.\u001b[0m\u001b[0mx\u001b[0m\u001b[0;34m)\u001b[0m\u001b[0;34m\u001b[0m\u001b[0m\n\u001b[1;32m    153\u001b[0m         \u001b[0mderivatives\u001b[0m \u001b[0;34m=\u001b[0m \u001b[0mNone\u001b[0m\u001b[0;34m\u001b[0m\u001b[0m\n",
        "\u001b[0;31mKeyboardInterrupt\u001b[0m: "
       ]
      }
     ],
     "prompt_number": 97
    },
    {
     "cell_type": "code",
     "collapsed": false,
     "input": [
      "m.hesse()"
     ],
     "language": "python",
     "metadata": {},
     "outputs": [],
     "prompt_number": 72
    },
    {
     "cell_type": "code",
     "collapsed": false,
     "input": [
      "def fmt(x, u):\n",
      "    \n",
      "    exponent_number = np.floor(np.log10(np.abs(x)))\n",
      "    exponent_error = np.floor(np.log10(u))\n",
      "    if u*10**(-exponent_error)>=2:\n",
      "        ndigs = 1\n",
      "    else:\n",
      "        ndigs = 2\n",
      "    if exponent_error>exponent_number:\n",
      "        fstr = \"0({:\"+str(ndigs)+\"d})e{:d}\"\n",
      "        return fstr.format(\n",
      "            int(np.rint(u*10**(-exponent_error+(ndigs-1)))),\n",
      "            int(exponent_error-ndigs+1))\n",
      "    number_digits = int(exponent_number-exponent_error)+ndigs-1\n",
      "    fstr = \"{:.\"+str(number_digits)+\"f}({:d})e{:d}\"\n",
      "    return fstr.format(\n",
      "       x*10**(-exponent_number),\n",
      "       int(np.rint(u*10**(-exponent_error+(ndigs-1)))),\n",
      "       int(exponent_number))\n",
      "    \n",
      "print fmt(0,0.01)\n",
      "print fmt(0,0.03)\n",
      "print fmt(1,110)\n",
      "print fmt(1,400)\n",
      "print fmt(100,3)\n",
      "print fmt(100.5,3)\n",
      "print fmt(1,0.003)\n",
      "print fmt(1,0.001)\n",
      "    "
     ],
     "language": "python",
     "metadata": {},
     "outputs": [
      {
       "output_type": "stream",
       "stream": "stdout",
       "text": [
        "0(10)e-3\n",
        "0(3)e-2\n",
        "0(11)e1\n",
        "0(4)e2\n",
        "1.00(3)e2\n",
        "1.01(3)e2\n",
        "1.000(3)e0\n",
        "1.0000(10)e0\n"
       ]
      }
     ],
     "prompt_number": 70
    },
    {
     "cell_type": "code",
     "collapsed": false,
     "input": [
      "params_temp = []\n",
      "errors_temp = []\n",
      "for n in kepler.three_body_parameters_measurable[:14]:\n",
      "    params_temp.append(m.values[n])\n",
      "    errors_temp.append(m.errors[n])\n",
      "\n",
      "params_temp = unscale(params_temp)\n",
      "errors_temp = np.array(errors_temp)*np.array(errors)\n",
      "\n",
      "ix = m.parameters.index('q_i')\n",
      "print \"optical:\", fmt(params_temp[ix]**(-1), params_temp[ix]**(-1)*errors_temp[ix]/params_temp[ix])\n",
      "\n",
      "for n, p, e in zip(m.parameters, params_temp, errors_temp):\n",
      "    print n, fmt(p, e)\n",
      "print\n",
      "print \"params = \", repr(list(params_temp))\n",
      "print \"errors = \", repr(list(errors_temp))\n",
      "print\n",
      "fv = mfun(*scale(params_temp))\n",
      "print fv, np.sqrt(fv/len(mjds))"
     ],
     "language": "python",
     "metadata": {},
     "outputs": [
      {
       "output_type": "stream",
       "stream": "stdout",
       "text": [
        "optical: 7.27831(6)e0\n",
        "asini_i 1.21753093(2)e0\n",
        "pb_i 1.6294017467(3)e0\n",
        "eps1_i -9.170(2)e-5\n",
        "eps2_i 6.8546(2)e-4\n",
        "tasc_i 4.07488675(13)e-1\n",
        "acosi_i 1.48775(3)e0\n",
        "q_i 1.373946(12)e-1\n",
        "asini_o 7.46727238(3)e1\n",
        "pb_o 3.272575621(4)e2\n",
        "eps1_o -3.4621170(9)e-3\n",
        "eps2_o 3.51862604(8)e-2\n",
        "tasc_o 3.139355957(3)e2\n",
        "acosi_o 9.12458(19)e1\n",
        "delta_lan 1.11(9)e-4\n",
        "\n",
        "params =  [1.2175309301441208, 1.629401746731145, -9.1697093242085466e-05, 0.0006854633835837548, 0.40748867492589791, 1.487752631431152, 0.13739461329390812, 74.67272383306134, 327.25756209738336, -0.0034621170121345887, 0.035186260395957986, 313.93559571809072, 91.245831212863962, 0.00011087166369959373]\n",
        "errors =  [2.459592975750685e-08, 2.7743936422970531e-10, 2.4097750651139993e-08, 2.1937496420847227e-08, 1.3083263621740591e-08, 3.2623928743907066e-05, 1.2134289869912935e-06, 2.5077505382376551e-07, 4.0210113503074705e-07, 9.2430842350094845e-10, 7.7670063912445483e-10, 2.5571226462834943e-07, 0.0019377797257486174, 9.3418316551305119e-06]\n",
        "\n",
        "151095.85826 2.44995886196\n"
       ]
      }
     ],
     "prompt_number": 87
    },
    {
     "cell_type": "code",
     "collapsed": false,
     "input": [
      "m.fixed['q_i'] = False\n",
      "m.migrad()"
     ],
     "language": "python",
     "metadata": {},
     "outputs": [],
     "prompt_number": 74
    },
    {
     "cell_type": "code",
     "collapsed": false,
     "input": [
      "m.up = 2.45\n",
      "m.hesse()"
     ],
     "language": "python",
     "metadata": {},
     "outputs": [],
     "prompt_number": 76
    },
    {
     "cell_type": "code",
     "collapsed": false,
     "input": [
      "(asini_i, pb_i, eps1_i, eps2_i, tasc_i, \n",
      "            acosi_i, q_i,\n",
      "            asini_o, pb_o, eps1_o, eps2_o, tasc_o, \n",
      "            acosi_o, delta_lan) = params_temp\n",
      "(asini_i_u, pb_i_u, eps1_i_u, eps2_i_u, tasc_i_u, \n",
      "            acosi_i_u, q_i_u,\n",
      "            asini_o_u, pb_o_u, eps1_o_u, eps2_o_u, tasc_o_u, \n",
      "            acosi_o_u, delta_lan_u) = errors_temp\n",
      "\n",
      "a_i = np.hypot(asini_i, acosi_i)\n",
      "a_i_u = np.hypot(asini_i*asini_i_u, acosi_i*acosi_i_u)/a_i\n",
      "print \"a_i\", fmt(a_i,a_i_u)\n",
      "a_i_tot = a_i*(1+q_i**(-1))\n",
      "a_i_tot_u = np.hypot(a_i_u*(1+q_i**(-1)),a_i*q_i_u*q_i**(-2))\n",
      "print \"a_i_tot\", fmt(a_i_tot,a_i_tot_u)\n",
      "\n",
      "m_tot, (dm_da, dm_dpb) = kepler.mass_partials(a_i_tot, pb_i)\n",
      "m_tot_u = np.hypot(dm_da*a_i_tot_u, dm_dpb*pb_i_u)\n",
      "print \"m_tot\", fmt(m_tot, m_tot_u)\n",
      "m_psr = m_tot*(1-q_i)\n",
      "m_psr_u = np.hypot(m_tot_u*(1-q_i),m_tot*q_i_u)\n",
      "print \"m_psr\", fmt(m_psr, m_psr_u)\n"
     ],
     "language": "python",
     "metadata": {},
     "outputs": [
      {
       "output_type": "stream",
       "stream": "stdout",
       "text": [
        "a_i 1.92244(3)e0\n",
        "a_i_tot 1.59146(2)e1\n",
        "m_tot 1.62960(7)e0\n",
        "m_psr 1.40570(6)e0\n"
       ]
      }
     ],
     "prompt_number": 88
    },
    {
     "cell_type": "code",
     "collapsed": false,
     "input": [
      "goodfit_params = params_temp\n",
      "goodfit_errors = errors_temp"
     ],
     "language": "python",
     "metadata": {},
     "outputs": [],
     "prompt_number": 90
    },
    {
     "cell_type": "code",
     "collapsed": false,
     "input": [
      "f = fun(params)\n",
      "print np.sqrt(np.mean(f**2))"
     ],
     "language": "python",
     "metadata": {},
     "outputs": [
      {
       "output_type": "stream",
       "stream": "stdout",
       "text": [
        "2.44995886196e-06\n"
       ]
      }
     ],
     "prompt_number": 102
    },
    {
     "cell_type": "code",
     "collapsed": false,
     "input": [
      "m.errors"
     ],
     "language": "python",
     "metadata": {},
     "outputs": [
      {
       "output_type": "pyout",
       "prompt_number": 92,
       "text": [
        "{'acosi_i': 0.0005782864331836992,\n",
        " 'acosi_o': 0.048617806530591154,\n",
        " 'asini_i': 4.892511664427692e-07,\n",
        " 'asini_o': 4.450171671778435e-06,\n",
        " 'delta_lan': 0.0003827389515332707,\n",
        " 'eps1_i': 4.852442690130803e-07,\n",
        " 'eps1_o': 1.6086230296527104e-08,\n",
        " 'eps2_i': 5.10119839660229e-07,\n",
        " 'eps2_o': 1.3116907852414187e-08,\n",
        " 'pb_i': 3.4177840305012377e-09,\n",
        " 'pb_o': 7.07509480417511e-06,\n",
        " 'q_i': 0.1,\n",
        " 'tasc_i': 2.660167940876427e-07,\n",
        " 'tasc_o': 2.2546783124713292e-06}"
       ]
      }
     ],
     "prompt_number": 92
    },
    {
     "cell_type": "code",
     "collapsed": false,
     "input": [
      "n = len(m.parameters)\n",
      "C = m.matrix(True)\n",
      "for i in range(n):\n",
      "    for j in range(i+1,n):\n",
      "        if abs(C[i][j])>0.5:\n",
      "            print m.parameters[i], m.parameters[j], C[i][j]\n"
     ],
     "language": "python",
     "metadata": {},
     "outputs": [
      {
       "output_type": "stream",
       "stream": "stdout",
       "text": [
        "asini_i pb_i 0.565994074112\n",
        "asini_i eps2_i -0.560611637406\n",
        "asini_i acosi_i -0.625248863723\n",
        "asini_i acosi_o -0.596864203322\n",
        "asini_i delta_lan -0.812337339927\n",
        "pb_i eps2_i -0.771365963135\n",
        "pb_i tasc_i -0.688784899973\n",
        "pb_i acosi_i -0.533364942043\n",
        "pb_i tasc_o 0.717109798509\n",
        "pb_i acosi_o -0.838439758303\n",
        "pb_i delta_lan -0.809984085324\n",
        "eps2_i tasc_i 0.86781243786\n",
        "eps2_i acosi_i 0.680597699945\n",
        "eps2_i tasc_o -0.552145422277\n",
        "eps2_i acosi_o 0.832951837974\n",
        "eps2_i delta_lan 0.738745908613\n",
        "tasc_i acosi_i 0.612962534512\n",
        "tasc_i acosi_o 0.688758964831\n",
        "tasc_i delta_lan 0.549844471593\n",
        "acosi_i acosi_o 0.85385802393\n",
        "acosi_i delta_lan 0.729142708428\n",
        "asini_o pb_o 0.655557572909\n",
        "asini_o eps2_o -0.580525474142\n",
        "pb_o eps2_o -0.59765960868\n",
        "pb_o tasc_o 0.609795703853\n",
        "tasc_o acosi_o -0.566453085973\n",
        "tasc_o delta_lan -0.640306328155\n",
        "acosi_o delta_lan 0.795159944457\n"
       ]
      }
     ],
     "prompt_number": 94
    },
    {
     "cell_type": "markdown",
     "metadata": {},
     "source": [
      "Below uses a different parametrization"
     ]
    },
    {
     "cell_type": "code",
     "collapsed": false,
     "input": [
      "def mfun2(asini_i, pb_i, eps1_i, eps2_i, tasc_i, \n",
      "            i_i, q_i,\n",
      "            asini_o, pb_o, eps1_o, eps2_o, tasc_o, \n",
      "            delta_i, delta_lan):\n",
      "    acosi_i = asini_i/np.tan(i_i)\n",
      "    acosi_o = asini_o/np.tan(i_i+delta_i)\n",
      "    p = (asini_i, pb_i, eps1_i, eps2_i, tasc_i, \n",
      "            acosi_i, q_i,\n",
      "            asini_o, pb_o, eps1_o, eps2_o, tasc_o, \n",
      "            acosi_o, delta_lan)\n",
      "    r = fun(p)\n",
      "    return np.sum((r/3e-5)**2)"
     ],
     "language": "python",
     "metadata": {},
     "outputs": [],
     "prompt_number": 7
    },
    {
     "cell_type": "code",
     "collapsed": false,
     "input": [
      "(asini_i, pb_i, eps1_i, eps2_i, tasc_i, \n",
      "            acosi_i, q_i,\n",
      "            asini_o, pb_o, eps1_o, eps2_o, tasc_o, \n",
      "            acosi_o, delta_lan) = params\n",
      "i_i = np.arctan2(asini_i,acosi_i)\n",
      "delta_i = np.arctan2(asini_o,acosi_o)-i_i\n",
      "print asini_i, acosi_i, i_i\n",
      "print asini_o, acosi_o, delta_i\n",
      "params2 = (asini_i, pb_i, eps1_i, eps2_i, tasc_i, \n",
      "            i_i, q_i,\n",
      "            asini_o, pb_o, eps1_o, eps2_o, tasc_o, \n",
      "            delta_i, delta_lan)"
     ],
     "language": "python",
     "metadata": {},
     "outputs": [
      {
       "output_type": "stream",
       "stream": "stdout",
       "text": [
        "1.21749881581 0.783033835596 0.999251961005\n",
        "74.672835053 43.0942422658 0.0481277956191\n"
       ]
      }
     ],
     "prompt_number": 8
    },
    {
     "cell_type": "code",
     "collapsed": false,
     "input": [
      "# Best fit with q_i pinned; 25 us.\n",
      "params2 = [1.2174725521410714, \n",
      "    1.6294021766616862, \n",
      "    -9.351991285521032e-05, \n",
      "    0.0006860812511803413, \n",
      "    0.40749525067266673, \n",
      "    1.0352910299654439, \n",
      "    0.13661202185792348, \n",
      "    74.6728367775959, \n",
      "    327.25785669610167, \n",
      "    -0.003461335669965389, \n",
      "    0.03518622161825523, \n",
      "    313.93650863408936, \n",
      "    0.0586839866004212, \n",
      "    0.020355384435179927]"
     ],
     "language": "python",
     "metadata": {},
     "outputs": [],
     "prompt_number": 9
    },
    {
     "cell_type": "code",
     "collapsed": false,
     "input": [
      "m2 = minuit.Minuit(mfun2)"
     ],
     "language": "python",
     "metadata": {},
     "outputs": [],
     "prompt_number": 10
    },
    {
     "cell_type": "code",
     "collapsed": false,
     "input": [
      "for n,v in zip(kepler.three_body_parameters_measurable[:14], params2):\n",
      "    m2.values[n] = v\n",
      "m2.values['i_i'] = params2[5]\n",
      "m2.values['delta_i'] = params2[-2]\n"
     ],
     "language": "python",
     "metadata": {},
     "outputs": [],
     "prompt_number": 11
    },
    {
     "cell_type": "code",
     "collapsed": false,
     "input": [
      "m2.fixed['q_i'] = True\n",
      "m2.tol = 1."
     ],
     "language": "python",
     "metadata": {},
     "outputs": [],
     "prompt_number": 12
    },
    {
     "cell_type": "code",
     "collapsed": false,
     "input": [
      "m2.eps = 1e-10"
     ],
     "language": "python",
     "metadata": {},
     "outputs": [],
     "prompt_number": 13
    },
    {
     "cell_type": "code",
     "collapsed": false,
     "input": [
      "m2.printMode = 3\n",
      "m2.strategy = 2\n",
      "m2.migrad()"
     ],
     "language": "python",
     "metadata": {},
     "outputs": [
      {
       "ename": "MinuitError",
       "evalue": "Function value is above the specified estimated distance to the minimum (edm).",
       "output_type": "pyerr",
       "traceback": [
        "\u001b[0;31m---------------------------------------------------------------------------\u001b[0m\n\u001b[0;31mMinuitError\u001b[0m                               Traceback (most recent call last)",
        "\u001b[0;32m<ipython-input-14-3711c9859cc4>\u001b[0m in \u001b[0;36m<module>\u001b[0;34m()\u001b[0m\n\u001b[1;32m      1\u001b[0m \u001b[0mm2\u001b[0m\u001b[0;34m.\u001b[0m\u001b[0mprintMode\u001b[0m \u001b[0;34m=\u001b[0m \u001b[0;36m3\u001b[0m\u001b[0;34m\u001b[0m\u001b[0m\n\u001b[1;32m      2\u001b[0m \u001b[0mm2\u001b[0m\u001b[0;34m.\u001b[0m\u001b[0mstrategy\u001b[0m \u001b[0;34m=\u001b[0m \u001b[0;36m2\u001b[0m\u001b[0;34m\u001b[0m\u001b[0m\n\u001b[0;32m----> 3\u001b[0;31m \u001b[0mm2\u001b[0m\u001b[0;34m.\u001b[0m\u001b[0mmigrad\u001b[0m\u001b[0;34m(\u001b[0m\u001b[0;34m)\u001b[0m\u001b[0;34m\u001b[0m\u001b[0m\n\u001b[0m",
        "\u001b[0;31mMinuitError\u001b[0m: Function value is above the specified estimated distance to the minimum (edm)."
       ]
      }
     ],
     "prompt_number": 14
    },
    {
     "cell_type": "code",
     "collapsed": false,
     "input": [
      "\n",
      "m2.printMode = 3\n",
      "m2.hesse()"
     ],
     "language": "python",
     "metadata": {},
     "outputs": [],
     "prompt_number": 15
    },
    {
     "cell_type": "code",
     "collapsed": false,
     "input": [
      "params2 = []\n",
      "for n in kepler.three_body_parameters_measurable[:14]:\n",
      "    if n=='acosi_i':\n",
      "        n='i_i'\n",
      "    elif n=='acosi_o':\n",
      "        n='delta_i'\n",
      "    print n, m2.values[n]\n",
      "    params2.append(m2.values[n])\n",
      "print \"optical:\", m2.values['q_i']**(-1)\n",
      "print repr(params2)"
     ],
     "language": "python",
     "metadata": {},
     "outputs": [
      {
       "output_type": "stream",
       "stream": "stdout",
       "text": [
        "asini_i 1.21747255214\n",
        "pb_i 1.62940217666\n",
        "eps1_i -9.35199128552e-05\n",
        "eps2_i 0.00068608125118\n",
        "tasc_i 0.407495250673\n",
        "i_i 1.03529102997\n",
        "q_i 0.136612021858\n",
        "asini_o 74.6728367776\n",
        "pb_o 327.257856696\n",
        "eps1_o -0.00346133566997\n",
        "eps2_o 0.0351862216183\n",
        "tasc_o 313.936508634\n",
        "delta_i 0.0586839866004\n",
        "delta_lan 0.0203553844352\n",
        "optical: 7.32\n",
        "[1.2174725521410714, 1.6294021766616862, -9.351991285521032e-05, 0.0006860812511803413, 0.40749525067266673, 1.0352910299654439, 0.13661202185792348, 74.6728367775959, 327.25785669610167, -0.003461335669965389, 0.03518622161825523, 313.93650863408936, 0.0586839866004212, 0.020355384435179927]\n"
       ]
      }
     ],
     "prompt_number": 16
    },
    {
     "cell_type": "code",
     "collapsed": false,
     "input": [
      "m2.errors"
     ],
     "language": "python",
     "metadata": {},
     "outputs": [
      {
       "output_type": "pyout",
       "prompt_number": 17,
       "text": [
        "{'asini_i': 4.119300408491759e-07,\n",
        " 'asini_o': 3.1954306925915965e-06,\n",
        " 'delta_i': 0.0004280242340039028,\n",
        " 'delta_lan': 0.00030827196409193225,\n",
        " 'eps1_i': 4.596656383214903e-07,\n",
        " 'eps1_o': 1.423852242904276e-08,\n",
        " 'eps2_i': 3.4498171424739676e-07,\n",
        " 'eps2_o': 1.076789806353313e-08,\n",
        " 'i_i': 0.0013882303906687945,\n",
        " 'pb_i': 5.355502932551877e-09,\n",
        " 'pb_o': 3.8012977672630613e-06,\n",
        " 'q_i': 0.1,\n",
        " 'tasc_i': 2.0402717046073916e-07,\n",
        " 'tasc_o': 2.813779973264987e-06}"
       ]
      }
     ],
     "prompt_number": 17
    },
    {
     "cell_type": "code",
     "collapsed": false,
     "input": [
      "n = len(m2.parameters)\n",
      "C = m2.matrix(True)\n",
      "for i in range(n):\n",
      "    for j in range(i+1,n):\n",
      "        if abs(C[i][j])>0.5:\n",
      "            print m2.parameters[i], m2.parameters[j], C[i][j]\n"
     ],
     "language": "python",
     "metadata": {},
     "outputs": [
      {
       "output_type": "stream",
       "stream": "stdout",
       "text": [
        "asini_i delta_lan -0.631147172156\n",
        "pb_i asini_o -0.605208805261\n",
        "pb_i pb_o 0.525355852139\n",
        "pb_i tasc_o 0.781721830338\n",
        "pb_i delta_i 0.890120122894\n",
        "pb_i delta_lan -0.768620004249\n",
        "asini_o delta_lan 0.627982515301\n",
        "pb_o tasc_o 0.614900580275\n",
        "pb_o delta_lan -0.546857418427\n",
        "tasc_o delta_i 0.632178224437\n",
        "tasc_o delta_lan -0.521090445427\n",
        "delta_i delta_lan -0.504389419259\n"
       ]
      }
     ],
     "prompt_number": 27
    },
    {
     "cell_type": "code",
     "collapsed": false,
     "input": [
      "w, v = scipy.linalg.eigh(C)\n",
      "print w"
     ],
     "language": "python",
     "metadata": {},
     "outputs": [
      {
       "output_type": "stream",
       "stream": "stdout",
       "text": [
        "[ -5.60326684e-18  -1.11762791e-32  -2.01634105e-33   1.16052740e-17\n",
        "   9.28433497e-17   4.19447239e-03   8.01411089e-03   3.83029845e-02\n",
        "   1.84318457e-01   8.91776911e-01   1.11627758e+00   1.33986924e+00\n",
        "   1.49189324e+00   3.92535300e+00]\n"
       ]
      }
     ],
     "prompt_number": 28
    },
    {
     "cell_type": "code",
     "collapsed": false,
     "input": [
      "for val, vec in zip(w,v):\n",
      "    print val, \n",
      "    s = \"\"\n",
      "    for c,n in zip(vec,m2.parameters):\n",
      "        if abs(c)>1e-1:\n",
      "            s += \" %f*%s\" % (c,n)\n",
      "            if m2.fixed[n]:\n",
      "                s = \"\"\n",
      "                break\n",
      "    print"
     ],
     "language": "python",
     "metadata": {},
     "outputs": [
      {
       "output_type": "stream",
       "stream": "stdout",
       "text": [
        "-5.60326684045e-18\n",
        "-1.11762790734e-32\n",
        "-2.01634104565e-33\n",
        "1.16052739933e-17\n",
        "9.28433496599e-17\n",
        "0.00419447238842\n",
        "0.00801411088844\n",
        "0.0383029845274\n",
        "0.18431845739\n",
        "0.891776911204\n",
        "1.11627758095\n",
        "1.33986923948\n",
        "1.49189323897\n",
        "3.9253530042\n"
       ]
      }
     ],
     "prompt_number": 31
    },
    {
     "cell_type": "code",
     "collapsed": false,
     "input": [
      "m2.fixed['asini_i'] = True\n",
      "m2.fixed['pb_i'] = True\n",
      "m2.fixed['eps1_i'] = True\n",
      "m2.fixed['eps2_i'] = True\n",
      "m2.fixed['eps1_o'] = True\n",
      "m2.fixed['eps2_o'] = True\n",
      "\n",
      "m2.hesse()"
     ],
     "language": "python",
     "metadata": {},
     "outputs": [],
     "prompt_number": 32
    },
    {
     "cell_type": "code",
     "collapsed": false,
     "input": [
      "m2.errors"
     ],
     "language": "python",
     "metadata": {},
     "outputs": [
      {
       "output_type": "pyout",
       "prompt_number": 33,
       "text": [
        "{'asini_i': 4.140611989727984e-07,\n",
        " 'asini_o': 4.026150239959849e-06,\n",
        " 'delta_i': 0.0006637284833591394,\n",
        " 'delta_lan': 0.00024079718425760104,\n",
        " 'eps1_i': 4.596656383214903e-07,\n",
        " 'eps1_o': 1.423852242904276e-08,\n",
        " 'eps2_i': 3.4498171424739676e-07,\n",
        " 'eps2_o': 1.076789806353313e-08,\n",
        " 'i_i': 0.004978632575833052,\n",
        " 'pb_i': 5.954426360228816e-09,\n",
        " 'pb_o': 7.627613510537656e-06,\n",
        " 'q_i': 0.1,\n",
        " 'tasc_i': 1.390231757206864e-07,\n",
        " 'tasc_o': 6.043206916291924e-06}"
       ]
      }
     ],
     "prompt_number": 33
    },
    {
     "cell_type": "code",
     "collapsed": false,
     "input": [
      "m2.fixed['asini_i'] = False\n",
      "m2.fixed['pb_i'] = False\n",
      "m2.fixed['eps1_i'] = False\n",
      "m2.fixed['eps2_i'] = False\n",
      "m2.fixed['eps1_o'] = False\n",
      "m2.fixed['eps2_o'] = False\n",
      "m2.migrad()"
     ],
     "language": "python",
     "metadata": {},
     "outputs": [
      {
       "ename": "MinuitError",
       "evalue": "Function value is above the specified estimated distance to the minimum (edm).",
       "output_type": "pyerr",
       "traceback": [
        "\u001b[0;31m---------------------------------------------------------------------------\u001b[0m\n\u001b[0;31mMinuitError\u001b[0m                               Traceback (most recent call last)",
        "\u001b[0;32m<ipython-input-35-898a5703aa5f>\u001b[0m in \u001b[0;36m<module>\u001b[0;34m()\u001b[0m\n\u001b[1;32m      5\u001b[0m \u001b[0mm2\u001b[0m\u001b[0;34m.\u001b[0m\u001b[0mfixed\u001b[0m\u001b[0;34m[\u001b[0m\u001b[0;34m'eps1_o'\u001b[0m\u001b[0;34m]\u001b[0m \u001b[0;34m=\u001b[0m \u001b[0mFalse\u001b[0m\u001b[0;34m\u001b[0m\u001b[0m\n\u001b[1;32m      6\u001b[0m \u001b[0mm2\u001b[0m\u001b[0;34m.\u001b[0m\u001b[0mfixed\u001b[0m\u001b[0;34m[\u001b[0m\u001b[0;34m'eps2_o'\u001b[0m\u001b[0;34m]\u001b[0m \u001b[0;34m=\u001b[0m \u001b[0mFalse\u001b[0m\u001b[0;34m\u001b[0m\u001b[0m\n\u001b[0;32m----> 7\u001b[0;31m \u001b[0mm2\u001b[0m\u001b[0;34m.\u001b[0m\u001b[0mmigrad\u001b[0m\u001b[0;34m(\u001b[0m\u001b[0;34m)\u001b[0m\u001b[0;34m\u001b[0m\u001b[0m\n\u001b[0m",
        "\u001b[0;31mMinuitError\u001b[0m: Function value is above the specified estimated distance to the minimum (edm)."
       ]
      }
     ],
     "prompt_number": 35
    },
    {
     "cell_type": "code",
     "collapsed": false,
     "input": [
      "m2.minos()\n",
      "m2.merrors"
     ],
     "language": "python",
     "metadata": {},
     "outputs": [
      {
       "ename": "RuntimeError",
       "evalue": "You must run MIGRAD (successfully) first.",
       "output_type": "pyerr",
       "traceback": [
        "\u001b[0;31m---------------------------------------------------------------------------\u001b[0m\n\u001b[0;31mRuntimeError\u001b[0m                              Traceback (most recent call last)",
        "\u001b[0;32m<ipython-input-36-a134e183e295>\u001b[0m in \u001b[0;36m<module>\u001b[0;34m()\u001b[0m\n\u001b[0;32m----> 1\u001b[0;31m \u001b[0mm2\u001b[0m\u001b[0;34m.\u001b[0m\u001b[0mminos\u001b[0m\u001b[0;34m(\u001b[0m\u001b[0;34m)\u001b[0m\u001b[0;34m\u001b[0m\u001b[0m\n\u001b[0m\u001b[1;32m      2\u001b[0m \u001b[0mm2\u001b[0m\u001b[0;34m.\u001b[0m\u001b[0mmerrors\u001b[0m\u001b[0;34m\u001b[0m\u001b[0m\n",
        "\u001b[0;31mRuntimeError\u001b[0m: You must run MIGRAD (successfully) first."
       ]
      }
     ],
     "prompt_number": 36
    },
    {
     "cell_type": "code",
     "collapsed": false,
     "input": [
      "m2parameters = m2.parameters\n",
      "m2values = np.array([m2.values[n] for n in m2parameters])\n",
      "m2errors = np.array([m2.errors[n] for n in m2parameters])"
     ],
     "language": "python",
     "metadata": {},
     "outputs": [],
     "prompt_number": 42
    },
    {
     "cell_type": "code",
     "collapsed": false,
     "input": [
      "def scale(p):\n",
      "    return (np.asarray(p)-m2values)/m2errors\n",
      "def unscale(p):\n",
      "    return (np.asarray(p)*m2errors)+m2values"
     ],
     "language": "python",
     "metadata": {},
     "outputs": [],
     "prompt_number": 43
    },
    {
     "cell_type": "code",
     "collapsed": false,
     "input": [
      "def mfun3(asini_i, pb_i, eps1_i, eps2_i, tasc_i, \n",
      "            i_i, q_i,\n",
      "            asini_o, pb_o, eps1_o, eps2_o, tasc_o, \n",
      "            delta_i, delta_lan):\n",
      "    return mfun2(*unscale([asini_i, pb_i, eps1_i, eps2_i, tasc_i, \n",
      "            i_i, q_i,\n",
      "            asini_o, pb_o, eps1_o, eps2_o, tasc_o, \n",
      "            delta_i, delta_lan]))\n"
     ],
     "language": "python",
     "metadata": {},
     "outputs": [],
     "prompt_number": 44
    },
    {
     "cell_type": "code",
     "collapsed": false,
     "input": [
      "m3 = minuit.Minuit(mfun3)"
     ],
     "language": "python",
     "metadata": {},
     "outputs": [],
     "prompt_number": 45
    },
    {
     "cell_type": "code",
     "collapsed": false,
     "input": [
      "for n,v in zip(m2parameters, scale(m2values)):\n",
      "    m3.values[n] = v\n"
     ],
     "language": "python",
     "metadata": {},
     "outputs": [],
     "prompt_number": 46
    },
    {
     "cell_type": "code",
     "collapsed": false,
     "input": [
      "m3.fixed['q_i'] = True"
     ],
     "language": "python",
     "metadata": {},
     "outputs": [],
     "prompt_number": 47
    },
    {
     "cell_type": "code",
     "collapsed": false,
     "input": [
      "m3.printMode = 3\n",
      "m3.eps = 1e-10\n",
      "m3.tol = 200.\n",
      "m3.strategy = 2\n",
      "m3.migrad()"
     ],
     "language": "python",
     "metadata": {},
     "outputs": [],
     "prompt_number": 54
    },
    {
     "cell_type": "code",
     "collapsed": false,
     "input": [
      "for n in m3.parameters:\n",
      "    print n, m3.errors[n]*m2.errors[n]"
     ],
     "language": "python",
     "metadata": {},
     "outputs": [
      {
       "output_type": "stream",
       "stream": "stdout",
       "text": [
        "asini_i 6.79905918881e-07\n",
        "pb_i 1.30848353799e-08\n",
        "eps1_i 4.66578015993e-07\n",
        "eps2_i 4.53991274435e-07\n",
        "tasc_i 2.73548072486e-07\n",
        "i_i 0.0093319987877\n",
        "q_i 0.01\n",
        "asini_o 1.23356102739e-05\n",
        "pb_o 2.43846531118e-05\n",
        "eps1_o 2.36181420292e-08\n",
        "eps2_o 2.90977031153e-08\n",
        "tasc_o 1.20859123447e-05\n",
        "delta_i 0.0020486624124\n",
        "delta_lan 0.000474483461346\n"
       ]
      }
     ],
     "prompt_number": 58
    },
    {
     "cell_type": "code",
     "collapsed": false,
     "input": [
      "n = len(m3.parameters)\n",
      "C = m3.matrix(True)\n",
      "for i in range(n):\n",
      "    for j in range(i+1,n):\n",
      "        if abs(C[i][j])>0.5:\n",
      "            print m3.parameters[i], m3.parameters[j], C[i][j]\n"
     ],
     "language": "python",
     "metadata": {},
     "outputs": [
      {
       "output_type": "stream",
       "stream": "stdout",
       "text": [
        "asini_i pb_i -0.500057864748\n",
        "asini_i delta_i -0.567840807688\n",
        "asini_i delta_lan -0.728222104882\n",
        "pb_i asini_o 0.557332451159\n",
        "pb_i pb_o 0.687696934615\n",
        "pb_i tasc_o 0.725411690223\n",
        "pb_i delta_i 0.844295966666\n",
        "eps2_i tasc_i 0.845138920986\n",
        "i_i eps1_o -0.711819249037\n",
        "i_i delta_i 0.786208068446\n",
        "i_i delta_lan 0.720111344378\n",
        "asini_o pb_o 0.935579941523\n",
        "asini_o eps2_o -0.89794040248\n",
        "asini_o delta_i 0.611130165564\n",
        "pb_o eps2_o -0.827160138819\n",
        "pb_o tasc_o 0.682327079092\n",
        "pb_o delta_i 0.569549454062\n",
        "eps1_o eps2_o 0.601389151992\n",
        "eps2_o delta_i -0.518064525642\n",
        "delta_i delta_lan 0.657127290753\n"
       ]
      }
     ],
     "prompt_number": 57
    },
    {
     "cell_type": "code",
     "collapsed": false,
     "input": [],
     "language": "python",
     "metadata": {},
     "outputs": []
    }
   ],
   "metadata": {}
  }
 ]
}