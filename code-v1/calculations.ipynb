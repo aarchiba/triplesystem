{
 "metadata": {
  "name": "calculations"
 },
 "nbformat": 3,
 "nbformat_minor": 0,
 "worksheets": [
  {
   "cells": [
    {
     "cell_type": "code",
     "collapsed": false,
     "input": [
      "import scipy.optimize\n",
      "\n",
      "import minuit\n",
      "\n",
      "import kepler\n",
      "import quad_integrate\n",
      "import threebody"
     ],
     "language": "python",
     "metadata": {},
     "outputs": [],
     "prompt_number": 5
    },
    {
     "cell_type": "code",
     "collapsed": false,
     "input": [
      "reload(threebody)"
     ],
     "language": "python",
     "metadata": {},
     "outputs": [
      {
       "output_type": "pyout",
       "prompt_number": 6,
       "text": [
        "<module 'threebody' from 'threebody.pyc'>"
       ]
      }
     ],
     "prompt_number": 6
    },
    {
     "cell_type": "code",
     "collapsed": false,
     "input": [
      "mjds, delays, tel_list, tels, uncerts = threebody.load_data()"
     ],
     "language": "python",
     "metadata": {},
     "outputs": [],
     "prompt_number": 7
    },
    {
     "cell_type": "code",
     "collapsed": false,
     "input": [
      "def orb(*p):\n",
      "    o = threebody.compute_orbit(p, mjds[:10], epoch=mjds[0],\n",
      "    shapiro=True, special=True, general=True, with_derivatives=True, use_quad=False, delta=1e-6)\n",
      "    #print o[\"time\"], o[\"n_evaluations\"], np.array(p)-np.array(threebody.best_parameters)\n",
      "    return o[\"delays\"], o[\"derivatives\"]\n",
      "print\n",
      "kepler.check_all_partials(orb, threebody.best_parameters, rtol=1e-3)"
     ],
     "language": "python",
     "metadata": {},
     "outputs": [
      {
       "output_type": "stream",
       "stream": "stdout",
       "text": [
        "\n",
        "fail fraction:"
       ]
      },
      {
       "ename": "AssertionError",
       "evalue": "\nNot equal to tolerance rtol=0.001, atol=0.0001\n\n(mismatch 100.0%)\n x: array([[ 0.30660572,  29.154266, -0.31239724, -4.6946359,  4.5266682,\n         0.050292033, -0.37164609,  0.44740702,  1.1790594,  29.776657,\n         0.042741741, -1.2734463,  3.254901e-05,  0.0004899956],...\n y: array([[ 0.30656074,  29.154188, -0.31277862, -4.6951564,  4.5244105,\n         0.050234712, -0.38424138,  0.4474069,  1.1790593,  29.776661,\n         0.042742085, -1.2734463,  3.2508794e-05,  0.0004892621],...",
       "output_type": "pyerr",
       "traceback": [
        "\u001b[0;31m---------------------------------------------------------------------------\u001b[0m\n\u001b[0;31mAssertionError\u001b[0m                            Traceback (most recent call last)",
        "\u001b[0;32m<ipython-input-8-1b4bc27f909d>\u001b[0m in \u001b[0;36m<module>\u001b[0;34m()\u001b[0m\n\u001b[1;32m      5\u001b[0m     \u001b[0;32mreturn\u001b[0m \u001b[0mo\u001b[0m\u001b[0;34m[\u001b[0m\u001b[0;34m\"delays\"\u001b[0m\u001b[0;34m]\u001b[0m\u001b[0;34m,\u001b[0m \u001b[0mo\u001b[0m\u001b[0;34m[\u001b[0m\u001b[0;34m\"derivatives\"\u001b[0m\u001b[0;34m]\u001b[0m\u001b[0;34m\u001b[0m\u001b[0m\n\u001b[1;32m      6\u001b[0m \u001b[0;32mprint\u001b[0m\u001b[0;34m\u001b[0m\u001b[0m\n\u001b[0;32m----> 7\u001b[0;31m \u001b[0mkepler\u001b[0m\u001b[0;34m.\u001b[0m\u001b[0mcheck_all_partials\u001b[0m\u001b[0;34m(\u001b[0m\u001b[0morb\u001b[0m\u001b[0;34m,\u001b[0m \u001b[0mthreebody\u001b[0m\u001b[0;34m.\u001b[0m\u001b[0mbest_parameters\u001b[0m\u001b[0;34m,\u001b[0m \u001b[0mrtol\u001b[0m\u001b[0;34m=\u001b[0m\u001b[0;36m1e-3\u001b[0m\u001b[0;34m)\u001b[0m\u001b[0;34m\u001b[0m\u001b[0m\n\u001b[0m",
        "\u001b[0;32m/home/peridot/projects/threebody/kepler.pyc\u001b[0m in \u001b[0;36mcheck_all_partials\u001b[0;34m(f, args, delta, atol, rtol)\u001b[0m\n\u001b[1;32m    581\u001b[0m \u001b[0;34m\u001b[0m\u001b[0m\n\u001b[1;32m    582\u001b[0m     \u001b[0;32mtry\u001b[0m\u001b[0;34m:\u001b[0m\u001b[0;34m\u001b[0m\u001b[0m\n\u001b[0;32m--> 583\u001b[0;31m         \u001b[0mnp\u001b[0m\u001b[0;34m.\u001b[0m\u001b[0mtesting\u001b[0m\u001b[0;34m.\u001b[0m\u001b[0massert_allclose\u001b[0m\u001b[0;34m(\u001b[0m\u001b[0mjac\u001b[0m\u001b[0;34m,\u001b[0m \u001b[0mnjac\u001b[0m\u001b[0;34m,\u001b[0m \u001b[0matol\u001b[0m\u001b[0;34m=\u001b[0m\u001b[0matol\u001b[0m\u001b[0;34m,\u001b[0m \u001b[0mrtol\u001b[0m\u001b[0;34m=\u001b[0m\u001b[0mrtol\u001b[0m\u001b[0;34m)\u001b[0m\u001b[0;34m\u001b[0m\u001b[0m\n\u001b[0m\u001b[1;32m    584\u001b[0m     \u001b[0;32mexcept\u001b[0m \u001b[0mAssertionError\u001b[0m\u001b[0;34m:\u001b[0m\u001b[0;34m\u001b[0m\u001b[0m\n\u001b[1;32m    585\u001b[0m         \u001b[0;31m#print jac\u001b[0m\u001b[0;34m\u001b[0m\u001b[0;34m\u001b[0m\u001b[0m\n",
        "\u001b[0;32m/usr/lib/python2.7/dist-packages/numpy/testing/utils.pyc\u001b[0m in \u001b[0;36massert_allclose\u001b[0;34m(actual, desired, rtol, atol, err_msg, verbose)\u001b[0m\n\u001b[1;32m   1166\u001b[0m     \u001b[0mheader\u001b[0m \u001b[0;34m=\u001b[0m \u001b[0;34m'Not equal to tolerance rtol=%g, atol=%g'\u001b[0m \u001b[0;34m%\u001b[0m \u001b[0;34m(\u001b[0m\u001b[0mrtol\u001b[0m\u001b[0;34m,\u001b[0m \u001b[0matol\u001b[0m\u001b[0;34m)\u001b[0m\u001b[0;34m\u001b[0m\u001b[0m\n\u001b[1;32m   1167\u001b[0m     assert_array_compare(compare, actual, desired, err_msg=str(err_msg),\n\u001b[0;32m-> 1168\u001b[0;31m                          verbose=verbose, header=header)\n\u001b[0m\u001b[1;32m   1169\u001b[0m \u001b[0;34m\u001b[0m\u001b[0m\n\u001b[1;32m   1170\u001b[0m \u001b[0;32mdef\u001b[0m \u001b[0massert_array_almost_equal_nulp\u001b[0m\u001b[0;34m(\u001b[0m\u001b[0mx\u001b[0m\u001b[0;34m,\u001b[0m \u001b[0my\u001b[0m\u001b[0;34m,\u001b[0m \u001b[0mnulp\u001b[0m\u001b[0;34m=\u001b[0m\u001b[0;36m1\u001b[0m\u001b[0;34m)\u001b[0m\u001b[0;34m:\u001b[0m\u001b[0;34m\u001b[0m\u001b[0m\n",
        "\u001b[0;32m/usr/lib/python2.7/dist-packages/numpy/testing/utils.pyc\u001b[0m in \u001b[0;36massert_array_compare\u001b[0;34m(comparison, x, y, err_msg, verbose, header)\u001b[0m\n\u001b[1;32m    634\u001b[0m                                 names=('x', 'y'))\n\u001b[1;32m    635\u001b[0m             \u001b[0;32mif\u001b[0m \u001b[0;32mnot\u001b[0m \u001b[0mcond\u001b[0m \u001b[0;34m:\u001b[0m\u001b[0;34m\u001b[0m\u001b[0m\n\u001b[0;32m--> 636\u001b[0;31m                 \u001b[0;32mraise\u001b[0m \u001b[0mAssertionError\u001b[0m\u001b[0;34m(\u001b[0m\u001b[0mmsg\u001b[0m\u001b[0;34m)\u001b[0m\u001b[0;34m\u001b[0m\u001b[0m\n\u001b[0m\u001b[1;32m    637\u001b[0m     \u001b[0;32mexcept\u001b[0m \u001b[0mValueError\u001b[0m\u001b[0;34m,\u001b[0m \u001b[0me\u001b[0m\u001b[0;34m:\u001b[0m\u001b[0;34m\u001b[0m\u001b[0m\n\u001b[1;32m    638\u001b[0m         \u001b[0mheader\u001b[0m \u001b[0;34m=\u001b[0m \u001b[0;34m'error during assertion:\\n%s\\n\\n%s'\u001b[0m \u001b[0;34m%\u001b[0m \u001b[0;34m(\u001b[0m\u001b[0me\u001b[0m\u001b[0;34m,\u001b[0m \u001b[0mheader\u001b[0m\u001b[0;34m)\u001b[0m\u001b[0;34m\u001b[0m\u001b[0m\n",
        "\u001b[0;31mAssertionError\u001b[0m: \nNot equal to tolerance rtol=0.001, atol=0.0001\n\n(mismatch 100.0%)\n x: array([[ 0.30660572,  29.154266, -0.31239724, -4.6946359,  4.5266682,\n         0.050292033, -0.37164609,  0.44740702,  1.1790594,  29.776657,\n         0.042741741, -1.2734463,  3.254901e-05,  0.0004899956],...\n y: array([[ 0.30656074,  29.154188, -0.31277862, -4.6951564,  4.5244105,\n         0.050234712, -0.38424138,  0.4474069,  1.1790593,  29.776661,\n         0.042742085, -1.2734463,  3.2508794e-05,  0.0004892621],..."
       ]
      },
      {
       "output_type": "stream",
       "stream": "stdout",
       "text": [
        " 0.0714285714286\n",
        "max fail: 26.0401079285 at (9, 6)\n",
        "jac there: -0.37166594066 njac there: -0.384276554403\n"
       ]
      }
     ],
     "prompt_number": 8
    },
    {
     "cell_type": "code",
     "collapsed": false,
     "input": [
      "n = 100\n",
      "delta = 1e-12\n",
      "o = threebody.compute_orbit(threebody.best_parameters, mjds[:n], delta=delta,\n",
      "        shapiro=True, special=True, general=True, with_derivatives=True, use_quad=True)\n",
      "print o[\"time\"]\n",
      "o2 = threebody.compute_orbit(threebody.best_parameters, mjds[:n], symmetric=True, delta=delta,\n",
      "        shapiro=True, special=True, general=True, with_derivatives=True, use_quad=True)\n",
      "print o2[\"time\"]\n",
      "d = o2[\"derivatives\"]-o[\"derivatives\"]\n",
      "print np.sqrt(np.mean(d**2,axis=0))/np.sqrt(np.mean(o2[\"derivatives\"]**2,axis=0))"
     ],
     "language": "python",
     "metadata": {},
     "outputs": [
      {
       "ename": "KeyboardInterrupt",
       "evalue": "",
       "output_type": "pyerr",
       "traceback": [
        "\u001b[0;31m---------------------------------------------------------------------------\u001b[0m\n\u001b[0;31mKeyboardInterrupt\u001b[0m                         Traceback (most recent call last)",
        "\u001b[0;32m<ipython-input-9-115fde77fc01>\u001b[0m in \u001b[0;36m<module>\u001b[0;34m()\u001b[0m\n\u001b[1;32m      2\u001b[0m \u001b[0mdelta\u001b[0m \u001b[0;34m=\u001b[0m \u001b[0;36m1e-12\u001b[0m\u001b[0;34m\u001b[0m\u001b[0m\n\u001b[1;32m      3\u001b[0m o = threebody.compute_orbit(threebody.best_parameters, mjds[:n], delta=delta,\n\u001b[0;32m----> 4\u001b[0;31m         shapiro=True, special=True, general=True, with_derivatives=True, use_quad=True)\n\u001b[0m\u001b[1;32m      5\u001b[0m \u001b[0;32mprint\u001b[0m \u001b[0mo\u001b[0m\u001b[0;34m[\u001b[0m\u001b[0;34m\"time\"\u001b[0m\u001b[0;34m]\u001b[0m\u001b[0;34m\u001b[0m\u001b[0m\n\u001b[1;32m      6\u001b[0m o2 = threebody.compute_orbit(threebody.best_parameters, mjds[:n], symmetric=True, delta=delta,\n",
        "\u001b[0;32m/home/peridot/projects/threebody/threebody.pyc\u001b[0m in \u001b[0;36mcompute_orbit\u001b[0;34m(parameters, times, with_derivatives, epoch, tol, delta, symmetric, shapiro, special, general, use_quad)\u001b[0m\n\u001b[1;32m    151\u001b[0m                use_quad = use_quad)\n\u001b[1;32m    152\u001b[0m         \u001b[0;32mfor\u001b[0m \u001b[0mt\u001b[0m \u001b[0;32min\u001b[0m \u001b[0mtimes\u001b[0m\u001b[0;34m:\u001b[0m\u001b[0;34m\u001b[0m\u001b[0m\n\u001b[0;32m--> 153\u001b[0;31m             \u001b[0mO\u001b[0m\u001b[0;34m.\u001b[0m\u001b[0mintegrate_to\u001b[0m\u001b[0;34m(\u001b[0m\u001b[0mt\u001b[0m\u001b[0;34m)\u001b[0m\u001b[0;34m\u001b[0m\u001b[0m\n\u001b[0m\u001b[1;32m    154\u001b[0m             \u001b[0mstates\u001b[0m\u001b[0;34m.\u001b[0m\u001b[0mappend\u001b[0m\u001b[0;34m(\u001b[0m\u001b[0mO\u001b[0m\u001b[0;34m.\u001b[0m\u001b[0mx\u001b[0m\u001b[0;34m)\u001b[0m\u001b[0;34m\u001b[0m\u001b[0m\n\u001b[1;32m    155\u001b[0m             \u001b[0mdx\u001b[0m \u001b[0;34m=\u001b[0m \u001b[0mO\u001b[0m\u001b[0;34m.\u001b[0m\u001b[0mdx\u001b[0m\u001b[0;34m\u001b[0m\u001b[0m\n",
        "\u001b[0;31mKeyboardInterrupt\u001b[0m: "
       ]
      }
     ],
     "prompt_number": 9
    },
    {
     "cell_type": "code",
     "collapsed": false,
     "input": [
      "fname = \"best_jac.npz\"\n",
      "try:\n",
      "    o = np.load(fname)\n",
      "except IOError:\n",
      "    o = threebody.compute_orbit(threebody.best_parameters, mjds, delta=1e-12,\n",
      "        shapiro=True, special=True, general=True, with_derivatives=True, use_quad=True)\n",
      "    np.savez(fname, **o)\n",
      "\n",
      "print o[\"n_evaluations\"], o[\"time\"]\n",
      "print o[\"derivatives\"].shape\n"
     ],
     "language": "python",
     "metadata": {},
     "outputs": [
      {
       "output_type": "stream",
       "stream": "stdout",
       "text": [
        "662606 2168.16726303\n",
        "(25173, 14)"
       ]
      },
      {
       "output_type": "stream",
       "stream": "stdout",
       "text": [
        "\n"
       ]
      }
     ],
     "prompt_number": 10
    },
    {
     "cell_type": "code",
     "collapsed": false,
     "input": [
      "fname = \"best_jac_2.npz\"\n",
      "try:\n",
      "    o2 = np.load(fname)\n",
      "except IOError:\n",
      "    o2 = threebody.compute_orbit(threebody.best_parameters, mjds, symmetric=True, delta=1e-12,\n",
      "        shapiro=True, special=True, general=True, with_derivatives=True, use_quad=True)\n",
      "    np.savez(fname, **o2)\n",
      "\n",
      "print o2[\"n_evaluations\"], o2[\"time\"]\n",
      "print o2[\"derivatives\"].shape\n"
     ],
     "language": "python",
     "metadata": {},
     "outputs": [
      {
       "output_type": "stream",
       "stream": "stdout",
       "text": [
        "662606 4186.20593882\n",
        "(25173, 14)"
       ]
      },
      {
       "output_type": "stream",
       "stream": "stdout",
       "text": [
        "\n"
       ]
      }
     ],
     "prompt_number": 11
    },
    {
     "cell_type": "code",
     "collapsed": false,
     "input": [
      "d = o2[\"derivatives\"]-o[\"derivatives\"]\n",
      "print np.sqrt(np.mean(d**2,axis=0))/np.sqrt(np.mean(o2[\"derivatives\"]**2,axis=0))"
     ],
     "language": "python",
     "metadata": {},
     "outputs": [
      {
       "output_type": "stream",
       "stream": "stdout",
       "text": [
        "[ 5.3634096e-10  2.9141874e-10  1.0808985e-08  2.3614258e-09  8.471847e-09\n",
        "  8.0392117e-10  2.2934156e-08  2.5465648e-14  4.0584602e-13  6.7641802e-12\n",
        "  1.9025678e-12  2.2142399e-13  3.3468434e-11  4.6268534e-08]\n"
       ]
      }
     ],
     "prompt_number": 12
    },
    {
     "cell_type": "code",
     "collapsed": false,
     "input": [
      "kepler.check_all_partials(lambda *args: threebody.shapiro_delay(args[:7],args[7:],with_derivatives=True),\n",
      "                          o[\"states\"][0,:14], atol=1e-12, rtol=1e-6)"
     ],
     "language": "python",
     "metadata": {},
     "outputs": [],
     "prompt_number": 13
    },
    {
     "cell_type": "code",
     "collapsed": false,
     "input": [
      "kepler.check_all_partials(lambda *args: threebody.shapiros(args,with_derivatives=True),\n",
      "                          o[\"states\"][0,:21], atol=1e-12, rtol=1e-6)"
     ],
     "language": "python",
     "metadata": {},
     "outputs": [],
     "prompt_number": 14
    },
    {
     "cell_type": "markdown",
     "metadata": {},
     "source": [
      "Best-fit parameter uncertainties and correlations\n",
      "-------------------------------------------------"
     ]
    },
    {
     "cell_type": "code",
     "collapsed": false,
     "input": [
      "f0, f0err = 365.9533436144258189, 0.0000000000656904\n",
      "f1, f1err = 7.833539631670e-15, 1.490959143049e-17\n",
      "pepoch = 56100.000000"
     ],
     "language": "python",
     "metadata": {},
     "outputs": [],
     "prompt_number": 15
    },
    {
     "cell_type": "code",
     "collapsed": false,
     "input": [
      "const_vec = np.ones(len(o[\"times\"]))\n",
      "f0error_vec = 86400./f0*(o[\"times\"]-pepoch)\n",
      "f1error_vec = 86400./f0*0.5*(o[\"times\"]-pepoch)**2\n",
      "jump_vec = tels[:,None]==[None,:]\n",
      "jac = np.hstack([o[\"derivatives\"],\n",
      "                 const_vec[:,None],\n",
      "                 f0error_vec[:,None],\n",
      "                 f1error_vec[:,None]])\n",
      "jac_scale = jac/uncerts[:,None]\n",
      "param_scales = np.sqrt(np.mean(jac_scale**2, axis=0))\n",
      "print param_scales\n",
      "U,s,Vh = scipy.linalg.svd(jac_scale/param_scales[None,:], full_matrices=False)\n",
      "print s"
     ],
     "language": "python",
     "metadata": {},
     "outputs": [
      {
       "output_type": "stream",
       "stream": "stdout",
       "text": [
        "[ 870596.06  2.9886385e+08  410763.71  2697544.1  3172612.6  659601.87\n",
        "  5101488.9  718027.38  486905.3  25371262.0  1.8900794e+08  912584.25\n",
        "  405.09522  8437.0517  966306.16  1.2768177e+13  3.5729433e+17]\n",
        "[  4.82256863e+02   2.73819235e+02   2.08747121e+02   1.61173994e+02\n",
        "   1.56530592e+02   1.05647754e+02   9.68908595e+01   5.52598339e+01\n",
        "   4.58827791e+01   1.97246683e+01   1.07717212e+01   1.03516032e+01\n",
        "   4.17007058e+00   5.45806679e-01   4.65755230e-03   1.30801659e-05\n",
        "   2.60374746e-06]"
       ]
      },
      {
       "output_type": "stream",
       "stream": "stdout",
       "text": [
        "\n"
       ]
      }
     ],
     "prompt_number": 16
    },
    {
     "cell_type": "code",
     "collapsed": false,
     "input": [
      "print U.shape, s.shape, Vh.shape"
     ],
     "language": "python",
     "metadata": {},
     "outputs": [
      {
       "output_type": "stream",
       "stream": "stdout",
       "text": [
        "(25173, 17) (17,) (17, 17)\n"
       ]
      }
     ],
     "prompt_number": 17
    },
    {
     "cell_type": "markdown",
     "metadata": {},
     "source": [
      "Linear least-squares fitting\n",
      "----------------------------"
     ]
    },
    {
     "cell_type": "code",
     "collapsed": false,
     "input": [
      "nl_resids = o[\"delays\"] - delays\n",
      "plt.plot(o[\"times\"],nl_resids)"
     ],
     "language": "python",
     "metadata": {},
     "outputs": [
      {
       "output_type": "pyout",
       "prompt_number": 18,
       "text": [
        "[<matplotlib.lines.Line2D at 0x4116a90>]"
       ]
      },
      {
       "output_type": "display_data",
       "png": "[encoded data removed]"
      }
     ],
     "prompt_number": 18
    },
    {
     "cell_type": "code",
     "collapsed": false,
     "input": [
      "for i in range(len(s)-1):\n",
      "    si = s**(-1)\n",
      "    if i>0:\n",
      "        si[-i:] = 0\n",
      "    delta_params = param_scales**(-1)*np.dot(Vh.T, np.dot(np.diag(si), np.dot(U.T, nl_resids/uncerts)))\n",
      "    chi2 = np.sum((np.dot(jac_scale,delta_params)-nl_resids/uncerts)**2)\n",
      "    print i, s[0]/s[-i], chi2, chi2/len(mjds)"
     ],
     "language": "python",
     "metadata": {},
     "outputs": [
      {
       "output_type": "stream",
       "stream": "stdout",
       "text": [
        "0 1.0 6009988.49229 238.747407631\n",
        "1 185216450.563 7262556.22645 288.505788998\n",
        "2 36869323.0574 23890522.0857 949.053433669\n",
        "3 103542.984052 28835916.0735 1145.50971571\n",
        "4"
       ]
      },
      {
       "output_type": "stream",
       "stream": "stdout",
       "text": [
        " 883.567171063 25127870048.5 998207.20806\n",
        "5 115.647170454 1.3586397057e+13 539721012.871\n",
        "6 46.587649557 1.42990152981e+13 568029845.392\n",
        "7 44.7706410121 1.5431753837e+13 613027999.72\n",
        "8 24.4494283187"
       ]
      },
      {
       "output_type": "stream",
       "stream": "stdout",
       "text": [
        " 5.18171322657e+13 2058440879.74\n",
        "9 10.5106288902 4.45207808293e+14 17685925725.7\n",
        "10 8.72707769049 2.96275553036e+15 117695766510.0\n",
        "11 4.97732052407 3.82905614763e+15 152109647147.0\n",
        "12 4.56476210988 3.86030553915e+15 153351032422.0\n",
        "13"
       ]
      },
      {
       "output_type": "stream",
       "stream": "stdout",
       "text": [
        " 3.0809112558 4.21750300756e+15 167540738393.0\n",
        "14 2.99215059603 4.21879634064e+15 167592116182.0\n",
        "15 2.31024438217 4.5929556134e+15 182455631566.0\n"
       ]
      }
     ],
     "prompt_number": 19
    },
    {
     "cell_type": "code",
     "collapsed": false,
     "input": [
      "import scipy.linalg\n",
      "x, res, rk, s = scipy.linalg.lstsq(jac, nl_resids)\n",
      "resids = np.dot(jac,x)-nl_resids\n",
      "print np.sqrt(np.mean(resids**2))\n",
      "plt.plot(mjds, resids)"
     ],
     "language": "python",
     "metadata": {},
     "outputs": [
      {
       "output_type": "stream",
       "stream": "stdout",
       "text": [
        "3.75519569492e-05\n"
       ]
      },
      {
       "output_type": "pyout",
       "prompt_number": 21,
       "text": [
        "[<matplotlib.lines.Line2D at 0x4803710>]"
       ]
      },
      {
       "output_type": "display_data",
       "png": "[encoded data removed]"
      }
     ],
     "prompt_number": 21
    },
    {
     "cell_type": "code",
     "collapsed": false,
     "input": [
      "si = s**(-1)\n",
      "delta_params = param_scales**(-1)*np.dot(Vh.T, np.dot(np.diag(si), np.dot(U.T, nl_resids/uncerts)))\n",
      "resids = np.dot(jac_scale,delta_params)*uncerts[:,None]-nl_resids\n",
      "chi2 = np.sum((np.dot(jac_scale,delta_params)-nl_resids/uncerts)**2)\n",
      "print chi2, chi2/len(mjds), np.sqrt(np.mean(resids**2))"
     ],
     "language": "python",
     "metadata": {},
     "outputs": [],
     "prompt_number": "*"
    },
    {
     "cell_type": "markdown",
     "metadata": {},
     "source": [
      "Errors from least-squares\n",
      "-------------------------"
     ]
    },
    {
     "cell_type": "code",
     "collapsed": false,
     "input": [],
     "language": "python",
     "metadata": {},
     "outputs": []
    },
    {
     "cell_type": "code",
     "collapsed": false,
     "input": [
      "noise = [np.dot(U.T,np.random.randn(len(o[\"times\"]))) for i in range(1000)]"
     ],
     "language": "python",
     "metadata": {},
     "outputs": [],
     "prompt_number": 11
    },
    {
     "cell_type": "code",
     "collapsed": false,
     "input": [
      "cov = np.cov(noise, rowvar=0)\n",
      "#print cov\n",
      "plt.imshow(cov)\n",
      "plt.colorbar()"
     ],
     "language": "python",
     "metadata": {},
     "outputs": [
      {
       "output_type": "pyout",
       "prompt_number": 71,
       "text": [
        "<matplotlib.colorbar.Colorbar instance at 0xd2655a8>"
       ]
      },
      {
       "output_type": "display_data",
       "png": "[encoded data removed]"
      }
     ],
     "prompt_number": 71
    },
    {
     "cell_type": "code",
     "collapsed": false,
     "input": [
      "param_names = kepler.three_body_parameters_measurable[:14] + [\"const\", \"f0error\", \"f1error\"]"
     ],
     "language": "python",
     "metadata": {},
     "outputs": [],
     "prompt_number": 73
    },
    {
     "cell_type": "code",
     "collapsed": false,
     "input": [
      "cov = np.dot(Vh.T, np.dot(np.diag(si), Vh))\n",
      "param_scales_2 = np.sqrt(np.diag(cov))\n",
      "corr = (param_scales_2**(-1))[None,:]*cov*(param_scales_2**(-1))[:,None]\n",
      "ps = param_scales**(-1)*param_scales_2\n",
      "for n, v, e, eo in zip(param_names, threebody.best_parameters, ps, threebody.best_errors):\n",
      "    print n, threebody.fmt(v,e), e/eo\n",
      "print\n",
      "for i in range(len(ps)):\n",
      "    for j in range(i,len(ps)):\n",
      "        print param_names[i], param_names[j], corr[i,j]"
     ],
     "language": "python",
     "metadata": {},
     "outputs": [
      {
       "output_type": "stream",
       "stream": "stdout",
       "text": [
        "asini_i 1.21752866(11)e0 6.44310412048\n",
        "pb_i 1.6294017424(7)e0 2.88478775492\n",
        "eps1_i -9.168(20)e-5 11.9414095491\n",
        "eps2_i 6.8570(7)e-4 4.91052554319\n",
        "tasc_i 4.0748888(5)e-1 5.40679493943\n",
        "acosi_i 1.492841(16)e0 0.590466042854\n",
        "q_i 1.37397(2)e-1 2.00997409835\n",
        "asini_o 7.46727092(4)e1 1.82197099715\n",
        "pb_o 3.272575440(8)e2 2.38539811679\n",
        "eps1_o -3.462128(4)e-3 5.32256364988\n",
        "eps2_o 3.51862725(16)e-2 2.57239600747\n",
        "tasc_o 3.139355832(6)e2 2.9582966224\n",
        "acosi_o 9.1611(3)e1 1.76051445351\n",
        "delta_lan -4(3)e-5 3.30229005911\n",
        "\n",
        "asini_i asini_i 1.0\n",
        "asini_i pb_i 0.138640066787\n",
        "asini_i eps1_i 0.0887183810115\n",
        "asini_i eps2_i -0.0169727390553\n",
        "asini_i tasc_i 0.0775435278109\n",
        "asini_i acosi_i -0.00570547727658\n",
        "asini_i q_i 0.00838274040398\n",
        "asini_i asini_o -0.332668633923\n",
        "asini_i pb_o -0.0259910007917\n",
        "asini_i eps1_o -0.108231460643\n",
        "asini_i eps2_o 0.0345797200359\n",
        "asini_i tasc_o -0.0622501926797\n",
        "asini_i acosi_o 0.0656203287786\n",
        "asini_i delta_lan -0.362760371705\n",
        "asini_i const -0.000433025452016\n",
        "asini_i f0error -0.000271634200961\n",
        "asini_i f1error 0.000313026951435\n",
        "pb_i pb_i 1.0\n",
        "pb_i eps1_i -0.0351991339253\n",
        "pb_i eps2_i 0.0589256684418\n",
        "pb_i tasc_i -0.206837605883\n",
        "pb_i acosi_i -0.421614339963\n",
        "pb_i q_i -0.458125843872\n",
        "pb_i asini_o -0.326792522442\n",
        "pb_i pb_o -0.00953192142196\n",
        "pb_i eps1_o -0.049070890335\n",
        "pb_i eps2_o 0.0868688772961\n",
        "pb_i tasc_o 0.0339981242997\n",
        "pb_i acosi_o -0.583482722193\n",
        "pb_i delta_lan -0.460686073755\n",
        "pb_i const -0.00150069706211\n",
        "pb_i f0error -0.000828418880504\n",
        "pb_i f1error 0.000994843692728\n",
        "eps1_i eps1_i 1.0\n",
        "eps1_i eps2_i -0.0443267015073\n",
        "eps1_i tasc_i 0.0637869697431\n",
        "eps1_i acosi_i -0.00212698874566\n",
        "eps1_i q_i -0.00190324344184\n",
        "eps1_i asini_o -0.0171452259351\n",
        "eps1_i pb_o 0.00931966043318\n",
        "eps1_i eps1_o 0.0387900976529\n",
        "eps1_i eps2_o -0.00662786720724\n",
        "eps1_i tasc_o 0.00642100523118\n",
        "eps1_i acosi_o -0.0114522683046\n",
        "eps1_i delta_lan -0.00769964628913\n",
        "eps1_i const -2.90046240184e-05\n",
        "eps1_i f0error -1.66238044946e-05\n",
        "eps1_i f1error -9.74108564688e-06\n",
        "eps2_i eps2_i 1.0\n",
        "eps2_i tasc_i 0.583086152691\n",
        "eps2_i acosi_i 0.00213442810401\n",
        "eps2_i q_i 0.000932893582428\n",
        "eps2_i asini_o 0.0931993628053\n",
        "eps2_i pb_o -0.00325362528102\n",
        "eps2_i eps1_o 0.0421830624812\n",
        "eps2_i eps2_o -0.0606615702887\n",
        "eps2_i tasc_o -0.00480413888304\n",
        "eps2_i acosi_o 0.0233501421164\n",
        "eps2_i delta_lan 0.0820139902618\n",
        "eps2_i const 0.000107885391542\n",
        "eps2_i f0error -6.98041998468e-05\n",
        "eps2_i f1error -4.39427485869e-05\n",
        "tasc_i tasc_i 1.0\n",
        "tasc_i acosi_i -0.0181985759442\n",
        "tasc_i q_i -0.0135107484356\n",
        "tasc_i asini_o -0.0778586893915\n",
        "tasc_i pb_o -0.00983921941341\n",
        "tasc_i eps1_o -0.0112905225359\n",
        "tasc_i eps2_o -0.0600925856609\n",
        "tasc_i tasc_o -0.0584698870453\n",
        "tasc_i acosi_o 0.0377071325718\n",
        "tasc_i delta_lan -0.092383481387\n",
        "tasc_i const 0.00022998986209\n",
        "tasc_i f0error -8.26399971993e-05\n",
        "tasc_i f1error -0.00018595894721\n",
        "acosi_i acosi_i 1.0\n",
        "acosi_i q_i 0.990291435128\n",
        "acosi_i asini_o 0.129108514917\n",
        "acosi_i pb_o 0.488202254102\n",
        "acosi_i eps1_o 0.152599808249\n",
        "acosi_i eps2_o 0.0811789190603\n",
        "acosi_i tasc_o 0.623266131084\n",
        "acosi_i acosi_o 0.28335378991\n",
        "acosi_i delta_lan 0.00602143742226\n",
        "acosi_i const -0.0706755451997\n",
        "acosi_i f0error -0.0241203447117\n",
        "acosi_i f1error 0.0480386369905\n",
        "q_i q_i 1.0\n",
        "q_i asini_o 0.0891476594896\n",
        "q_i pb_o 0.434592647968\n",
        "q_i eps1_o 0.14457337642\n",
        "q_i eps2_o 0.0869949991931\n",
        "q_i tasc_o 0.557156487485\n",
        "q_i acosi_o 0.365162403899\n",
        "q_i delta_lan -0.00958816568214\n",
        "q_i const 0.00496483167797\n",
        "q_i f0error 0.00226544179954\n",
        "q_i f1error -0.00234923273916\n",
        "asini_o asini_o 1.0\n",
        "asini_o pb_o 0.384723203564\n",
        "asini_o eps1_o 0.190315121243\n",
        "asini_o eps2_o -0.218006860083\n",
        "asini_o tasc_o 0.3645398788\n",
        "asini_o acosi_o -0.12120064362\n",
        "asini_o delta_lan 0.790356005079\n",
        "asini_o const 0.000161243339101\n",
        "asini_o f0error -0.00150856526341\n",
        "asini_o f1error -0.00416905766324\n",
        "pb_o pb_o 1.0\n",
        "pb_o eps1_o -0.132622191223\n",
        "pb_o eps2_o -0.272243084164\n",
        "pb_o tasc_o 0.809048734567\n",
        "pb_o acosi_o -0.275231717898\n",
        "pb_o delta_lan 0.0217910694793\n",
        "pb_o const 0.00268625756084\n",
        "pb_o f0error -0.000425018575296\n",
        "pb_o f1error -0.00483724542394\n",
        "eps1_o eps1_o 1.0\n",
        "eps1_o eps2_o 0.139170804096\n",
        "eps1_o tasc_o 0.0818998371122\n",
        "eps1_o acosi_o -0.0792309004289\n",
        "eps1_o delta_lan 0.141948568916\n",
        "eps1_o const 0.00119696359364\n",
        "eps1_o f0error 0.000667577914878\n",
        "eps1_o f1error -0.000179945596984\n",
        "eps2_o eps2_o 1.0\n",
        "eps2_o tasc_o 0.152817863188\n",
        "eps2_o acosi_o 0.0332794382065\n",
        "eps2_o delta_lan -0.19077105935\n",
        "eps2_o const 0.000882666177984\n",
        "eps2_o f0error 0.00139718717439\n",
        "eps2_o f1error 0.00201828031774\n",
        "tasc_o tasc_o 1.0\n",
        "tasc_o acosi_o -0.428740040036\n",
        "tasc_o delta_lan 0.0606500871517\n",
        "tasc_o const 0.0050188331383\n",
        "tasc_o f0error 0.00198682564395\n",
        "tasc_o f1error -0.00321674771413\n",
        "acosi_o acosi_o 1.0\n",
        "acosi_o delta_lan -0.00193338573976\n",
        "acosi_o const -0.0258484949081\n",
        "acosi_o f0error -0.00905592369567\n",
        "acosi_o f1error 0.0170207010678\n",
        "delta_lan delta_lan 1.0\n",
        "delta_lan const 0.000106132739785\n",
        "delta_lan f0error 0.000400455542743\n",
        "delta_lan f1error -0.000348927249062\n",
        "const const 1.0\n",
        "const f0error 0.837772181819\n",
        "const f1error 0.209056358319\n",
        "f0error f0error 1.0\n",
        "f0error f1error 0.709095704998\n",
        "f1error f1error 1.0\n"
       ]
      }
     ],
     "prompt_number": 75
    },
    {
     "cell_type": "code",
     "collapsed": false,
     "input": [
      "for i in range(len(s)):\n",
      "    print s[i],\n",
      "    for j in range(len(s)):\n",
      "        if abs(Vh[j,i])>1e-1:\n",
      "            print \"%f*%s\" % (Vh[j,i], param_names[j]),\n",
      "    print"
     ],
     "language": "python",
     "metadata": {},
     "outputs": [
      {
       "output_type": "stream",
       "stream": "stdout",
       "text": [
        "440.288218621 -0.249835*asini_i 0.149029*eps1_i -0.208059*eps2_i -0.352692*acosi_i 0.369309*q_i 0.762946*asini_o\n",
        "273.361709002 -0.475771*pb_i -0.188781*eps1_i 0.258962*eps2_i -0.119600*q_i -0.712033*pb_o 0.114780*eps1_o 0.253924*tasc_o -0.223710*acosi_o\n",
        "236.808154022 0.141188*eps1_i 0.172395*eps2_i 0.963125*tasc_i 0.102814*asini_o\n",
        "178.317352626 0.296743*asini_i 0.253450*pb_i -0.253407*eps2_i -0.356082*pb_o 0.609014*eps1_o -0.411962*eps2_o -0.314203*tasc_o\n",
        "155.808235269 -0.470627*pb_i -0.201636*eps1_i 0.313115*eps2_i -0.192773*q_i 0.171020*asini_o 0.524923*pb_o 0.375441*eps1_o -0.326963*eps2_o -0.194767*tasc_o\n",
        "144.935850743 -0.334457*asini_i 0.122091*eps1_i -0.102624*eps2_i -0.231696*acosi_i -0.305764*q_i 0.212359*acosi_o 0.409790*delta_lan -0.698499*const\n",
        "105.779847207 0.336456*asini_i -0.115482*eps1_i 0.103646*eps2_i 0.218590*acosi_i 0.298084*q_i -0.223367*acosi_o -0.384218*delta_lan -0.714915*const\n",
        "99.9655974181 0.147112*pb_i 0.354830*eps1_i 0.676080*eps2_i -0.193670*tasc_i 0.137939*q_i 0.162054*asini_o -0.190741*pb_o -0.322992*tasc_o 0.398517*acosi_o\n",
        "61.3665369325 0.162075*asini_i -0.306751*pb_i 0.417568*eps1_i -0.118776*eps2_i 0.167754*acosi_i 0.348328*q_i -0.227036*asini_o 0.125028*pb_o 0.397408*eps1_o 0.130051*eps2_o 0.452309*tasc_o 0.268484*acosi_o 0.130771*delta_lan\n",
        "22.3254596026 -0.103504*asini_i 0.331143*eps1_i -0.301649*eps2_i 0.738170*acosi_i -0.302994*q_i 0.319078*asini_o -0.118024*eps1_o -0.146723*tasc_o\n",
        "19.1789144461 0.268979*asini_i -0.281407*pb_i 0.247878*eps1_i -0.225618*acosi_i -0.130974*q_i 0.107281*eps1_o 0.607433*eps2_o -0.440044*tasc_o -0.363153*acosi_o\n",
        "18.6018425214 0.327380*pb_i -0.488107*eps1_i 0.313613*acosi_i 0.105537*q_i 0.217544*asini_o 0.386284*eps1_o 0.507331*eps2_o 0.276548*delta_lan\n",
        "6.47886022908 -0.353077*asini_i -0.222747*q_i 0.274232*eps1_o 0.247221*eps2_o 0.289021*acosi_o -0.764525*delta_lan\n",
        "0.513631529941 -0.118863*asini_i -0.391550*pb_i -0.316287*eps1_i -0.295362*eps2_i 0.424619*q_i -0.145682*asini_o -0.148213*pb_o -0.177447*eps1_o -0.470254*tasc_o 0.401030*acosi_o\n",
        "0.00564278102698 -0.343256*asini_i 0.115017*eps1_i 0.208312*q_i -0.191367*asini_o -0.112621*tasc_o -0.280224*acosi_o -0.635571*f0error -0.514553*f1error\n",
        "2.4693040696e-05 0.343123*asini_i -0.114948*eps1_i -0.210044*q_i 0.191658*asini_o 0.112862*tasc_o 0.281861*acosi_o 0.129783*f0error -0.806116*f1error\n",
        "5.22961568477e-06 -0.342989*asini_i 0.114881*eps1_i 0.211773*q_i -0.191948*asini_o -0.113098*tasc_o -0.283491*acosi_o 0.761040*f0error -0.292254*f1error\n"
       ]
      }
     ],
     "prompt_number": 67
    },
    {
     "cell_type": "markdown",
     "metadata": {},
     "source": [
      "Derived quantities and their errors\n",
      "-----------------------------------"
     ]
    },
    {
     "cell_type": "code",
     "collapsed": false,
     "input": [
      "pnames = kepler.three_body_parameters_measurable"
     ],
     "language": "python",
     "metadata": {},
     "outputs": []
    },
    {
     "cell_type": "code",
     "collapsed": false,
     "input": [
      "def a_i(p):\n",
      "    return np.hypot(p[pname.index('asini_i')], p[pname.index('acosi_i')])\n",
      "def a_i_tot(p):\n",
      "    return a_i(p)*(1+p[pname.index('q_i')]**(-1))\n",
      "def masses(p):\n",
      "    return kepler.kepler_three_body_measurable(*(p+(0,np.zeros(3),np.zeros(3),0)))[0][6::7]\n",
      "def i_rel(p):\n",
      "    s = kepler.kepler_three_body_measurable(*(p+(0,np.zeros(3),np.zeros(3),0)))[0][6::7]\n",
      "    di = s[7:13]-s[:6]\n",
      "    vec_i = np.cross(di[:3],di[3:])\n",
      "    m_i = s[6]+s[13]\n",
      "    cm_i = (s[6]*s[7:13]+s[13]*s[:6])/m_i\n",
      "    do = s[14:20]-cm_i\n",
      "    vec_o = np.cross(do[:3],do[3:])\n",
      "    return np.arccos(np.dot(do,di)/np.sqrt(np.dot(do,do)*np.dot(di,di)))\n",
      "    "
     ],
     "language": "python",
     "metadata": {},
     "outputs": []
    }
   ],
   "metadata": {}
  }
 ]
}