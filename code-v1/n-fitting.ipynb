{
 "cells": [
  {
   "cell_type": "code",
   "execution_count": 2,
   "metadata": {
    "collapsed": true
   },
   "outputs": [],
   "source": [
    "%load_ext autoreload\n",
    "\n",
    "%autoreload 2"
   ]
  },
  {
   "cell_type": "code",
   "execution_count": 4,
   "metadata": {
    "collapsed": true
   },
   "outputs": [],
   "source": [
    "from glob import glob\n",
    "import os\n",
    "import pickle\n",
    "\n",
    "import scipy.linalg\n",
    "import matplotlib.pyplot as plt\n",
    "\n",
    "import emcee\n",
    "\n",
    "import kepler\n",
    "import threebody\n",
    "\n",
    "import minuit_wrap\n",
    "%matplotlib inline"
   ]
  },
  {
   "cell_type": "code",
   "execution_count": 5,
   "metadata": {
    "collapsed": true
   },
   "outputs": [],
   "source": [
    "import logging\n",
    "logger = logging.getLogger()\n",
    "\n",
    "#logger.setLevel(logging.DEBUG)\n",
    "fh = logging.FileHandler(\"fitting.log\")\n",
    "formatter = logging.Formatter('%(asctime)s - %(module)s:%(funcName)s:%(lineno)s - %(message)s')\n",
    "fh.setFormatter(formatter)\n",
    "logger.addHandler(fh)\n"
   ]
  },
  {
   "cell_type": "code",
   "execution_count": 6,
   "metadata": {
    "collapsed": true
   },
   "outputs": [],
   "source": [
    "# numpy binds itself to one CPU; unbind it\n",
    "#import os\n",
    "#os.system(\"taskset -p 0xff %d\" % os.getpid());"
   ]
  },
  {
   "cell_type": "code",
   "execution_count": 7,
   "metadata": {
    "collapsed": true
   },
   "outputs": [],
   "source": [
    "#import matplotlib\n",
    "#matplotlib.rcParams['savefig.dpi'] = 120"
   ]
  },
  {
   "cell_type": "code",
   "execution_count": 281,
   "metadata": {
    "collapsed": true
   },
   "outputs": [],
   "source": [
    "#F = threebody.Fitter(\"0337+17-scott-2013-06-06\",tzrmjd_middle='weighted',priors=['dbeta','dgamma'],ppn_mode='heavysimple')\n",
    "#F = threebody.Fitter(\"0337+17-scott-2013-06-06\",\n",
    "#    tzrmjd_middle='weighted',priors=['dbeta','dgamma'],\n",
    "#    use_quad=True,tol=1e-20,ppn_mode='heavysimple')\n",
    "#F = threebody.Fitter(\"0337+17-scott-2013-06-06\",tzrmjd_middle='weighted',\n",
    "#    only_tels=['AO1440','AO1350','GBT1500'],\n",
    "#    ppn_mode='heavysimple')\n",
    "#F = threebody.Fitter(\"0337+17-scott-2013-06-06\",tzrmjd_middle='weighted',\n",
    "#    only_tels=['WSRT1400'],\n",
    "#    ppn_mode='heavysimple')\n",
    "#F = threebody.Fitter(files=\"0337+17-scott-2013-08-29\",tzrmjd_middle='weighted',\n",
    "#                     parfile=\"0337_tempo2_nobinary.par\",\n",
    "#                     fit_pos=True,\n",
    "#                     ppn_mode='GR')\n",
    "#F = threebody.Fitter(files=\"0337+17-scott-2013-08-29\",tzrmjd_middle='auto',\n",
    "#                     parfile=\"0337_modified.par\",\n",
    "#                     fit_pos=True,\n",
    "#                     fit_pm=True,\n",
    "#                     fit_px=True,\n",
    "#                     t2_astrometry=True,\n",
    "#                     ppn_mode='GR')\n",
    "#F = threebody.Fitter(files=\"0337+17-scott-2013-08-29\",tzrmjd_middle='auto',\n",
    "#                     parfile=\"0337_modified.par\",\n",
    "#                     fit_pos=True,\n",
    "#                     fit_pm=True,\n",
    "#                     fit_px=True,\n",
    "#                     t2_astrometry=True,\n",
    "#                     kopeikin=True,\n",
    "#                     ppn_mode='heavysimple')\n",
    "if False:\n",
    "    fitter_params = dict(files=\"0337+17-scott-2013-08-29\",tzrmjd_middle='auto',\n",
    "                     parfile=\"0337_tempo2_pm.par\",\n",
    "                     fit_pos=True,\n",
    "                     fit_pm=False,\n",
    "                     fit_px=True,\n",
    "                     t2_astrometry=True,\n",
    "                     kopeikin=True,\n",
    "                     priors=('dbeta','dgamma'),\n",
    "                     ppn_mode='heavysimple')\n",
    "elif False:\n",
    "    fitter_params = dict(files=\"0337+17-scott-2013-08-29\",tzrmjd_middle='auto',\n",
    "                     parfile=\"0337_tempo2_pm.par\",\n",
    "                     fit_pos=True,\n",
    "                     fit_pm=False,\n",
    "                     fit_px=True,\n",
    "                     t2_astrometry=True,\n",
    "                     kopeikin=True,\n",
    "                     shapiro=False,\n",
    "                     priors=('dbeta','dgamma'),\n",
    "                     ppn_mode='heavysimple')\n",
    "elif False:\n",
    "    fitter_params = dict(files=\"0337+17-scott-2013-08-29\",tzrmjd_middle='auto',\n",
    "                     parfile=\"0337_tempo2_pm.par\",\n",
    "                     fit_pos=True,\n",
    "                     fit_pm=False,\n",
    "                     fit_px=True,\n",
    "                     t2_astrometry=True,\n",
    "                     kopeikin=True,\n",
    "                     general=False,\n",
    "                     priors=('dbeta','dgamma'),\n",
    "                     ppn_mode='heavysimple')\n",
    "elif False:\n",
    "    fitter_params = dict(files=\"0337+17-scott-2013-08-29\",tzrmjd_middle='auto',\n",
    "                     parfile=\"0337_tempo2_pm.par\",\n",
    "                     fit_pos=True,\n",
    "                     fit_pm=False,\n",
    "                     fit_px=True,\n",
    "                     t2_astrometry=True,\n",
    "                     kopeikin=True,\n",
    "                     ppn_mode=None)\n",
    "elif False:\n",
    "    fitter_params = dict(files=\"0337+17-scott-2013-08-29\",tzrmjd_middle='auto',\n",
    "                     parfile=\"0337_tempo2_px.par\",\n",
    "                     fit_pos=True,\n",
    "                     fit_pm=False,\n",
    "                     fit_px=True,\n",
    "                     t2_astrometry=True,\n",
    "                     kopeikin=True,\n",
    "                     ppn_mode='GR')\n",
    "elif False:\n",
    "    fitter_params = dict(files=\"0337+17-scott-2013-08-29\",tzrmjd_middle='auto',\n",
    "                     parfile=\"0337_tempo2_pm.par\",\n",
    "                     fit_pos=True,\n",
    "                     fit_pm=False,\n",
    "                     fit_px=True,\n",
    "                     t2_astrometry=True,\n",
    "                     kopeikin=True,\n",
    "                     ppn_mode='GR')\n",
    "elif False:\n",
    "    fitter_params = dict(files=\"0337+17-scott-2014-01-22\",\n",
    "                     tzrmjd_middle='auto',\n",
    "                     parfile=\"0337_tempo2_px_optical.par\",\n",
    "                     fit_pos=True,\n",
    "                     fit_pm=False,\n",
    "                     fit_px=False,\n",
    "                     t2_astrometry=True,\n",
    "                     kopeikin=True,\n",
    "                     ppn_mode='GR')\n",
    "elif False:\n",
    "    fitter_params = dict(files=\"0337+17-scott-2014-01-22\",\n",
    "                     tzrmjd_middle='auto',\n",
    "                     parfile=\"0337_tempo2_px_optical.par\",\n",
    "                     fit_pos=True,\n",
    "                     fit_pm=False,\n",
    "                     fit_px=False,\n",
    "                     t2_astrometry=True,\n",
    "                     kopeikin=False,\n",
    "                     ppn_mode='GR')\n",
    "elif False:\n",
    "    fitter_params = dict(files=\"0337+17-scott-2014-01-22\",\n",
    "                     tzrmjd_middle='auto',\n",
    "                     parfile=\"0337_tempo2_px_optical.par\",\n",
    "                     fit_pos=True,\n",
    "                     fit_pm=False,\n",
    "                     fit_px=False,\n",
    "                     t2_astrometry=True,\n",
    "                     kopeikin=False,\n",
    "                     priors=('dbeta','dgamma'),\n",
    "                     ppn_mode='heavysimple')\n",
    "elif False:\n",
    "    fitter_params = dict(files=\"0337+17-anne-2014-01-28\",\n",
    "                     tzrmjd_middle='auto',\n",
    "                     parfile=\"0337_tempo2_px_optical.par\",\n",
    "                     fit_pos=True,\n",
    "                     fit_pm=False,\n",
    "                     fit_px=False,\n",
    "                     t2_astrometry=True,\n",
    "                     kopeikin=False,\n",
    "                     priors=('dbeta','dgamma'),\n",
    "                     ppn_mode='heavysimple')\n",
    "elif False:\n",
    "    fitter_params = dict(files=\"0337+17-anne-2014-02-04c\",\n",
    "                     tzrmjd_middle='auto',\n",
    "                     parfile=\"0337_tempo2_px_optical.par\",\n",
    "                     fit_pos=True,\n",
    "                     fit_pm=False,\n",
    "                     fit_px=False,\n",
    "                     t2_astrometry=True,\n",
    "                     kopeikin=False,\n",
    "                     ppn_mode='GR')\n",
    "elif False:\n",
    "    fitter_params = dict(files=\"0337+17-anne-2014-02-04c\",\n",
    "                     tzrmjd_middle='auto',\n",
    "                     parfile=\"0337_tempo_px_optical.par\",\n",
    "                     fit_pos=False,\n",
    "                     fit_pm=False,\n",
    "                     fit_px=False,\n",
    "                     t2_astrometry=True,\n",
    "                     kopeikin=False,\n",
    "                     ppn_mode='GR')\n",
    "elif False:\n",
    "    fitter_params = dict(files=\"0337+17-anne-2014-09-22\",\n",
    "                     tzrmjd_middle='auto',\n",
    "                     parfile=\"0337_tempo_px_optical.par\",\n",
    "                     fit_pos=True,\n",
    "                     fit_pm=False,\n",
    "                     fit_px=False,\n",
    "                     t2_astrometry=True,\n",
    "                     kopeikin=False,\n",
    "                     ppn_mode='GR')\n",
    "elif False:\n",
    "    fitter_params = dict(files=\"0337+17-anne-2014-09-22\",\n",
    "                     tzrmjd_middle='auto',\n",
    "                     parfile=\"0337_tempo2_px_optical.par\",\n",
    "                     fit_pos=True,\n",
    "                     fit_pm=False,\n",
    "                     fit_px=False,\n",
    "                     t2_astrometry=True,\n",
    "                     kopeikin=False,\n",
    "                     priors=('dbeta','dgamma'),\n",
    "                     ppn_mode='heavysimple')\n",
    "elif False:\n",
    "    fitter_params = dict(files=\"0337+17-anne-2014-09-29\",\n",
    "                     tzrmjd_middle='auto',\n",
    "                     parfile=\"0337_tempo2_px_optical.par\",\n",
    "                     fit_pos=True,\n",
    "                     fit_pm=False,\n",
    "                     fit_px=False,\n",
    "                     t2_astrometry=True,\n",
    "                     kopeikin=False,\n",
    "                     priors=('dbeta','dgamma'),\n",
    "                     ppn_mode='heavysimple')\n",
    "elif False:\n",
    "    fitter_params = dict(files=\"0337+17-anne-2014-09-22\",\n",
    "                     tzrmjd_middle='auto',\n",
    "                     parfile=\"0337_tempo2_px_optical.par\",\n",
    "                     fit_pos=True,\n",
    "                     fit_pm=False,\n",
    "                     fit_px=False,\n",
    "                     t2_astrometry=True,\n",
    "                     kopeikin=False,\n",
    "                     only_tels=('GBT1500','WSRT1400'),\n",
    "                     priors=('dbeta','dgamma'),\n",
    "                     ppn_mode='heavysimple')\n",
    "elif False:\n",
    "    fitter_params = dict(files=\"0337+17-anne-2014-09-22\",\n",
    "                     tzrmjd_middle='auto',\n",
    "                     parfile=\"0337_tempo2_px_optical.par\",\n",
    "                     fit_pos=True,\n",
    "                     fit_pm=False,\n",
    "                     fit_px=False,\n",
    "                     t2_astrometry=True,\n",
    "                     efac=(('AO1440',1.45),\n",
    "                           ('GBT1500',1.11),\n",
    "                           ('WSRT1400',1.45)),\n",
    "                     kopeikin=False,\n",
    "                     priors=('dbeta','dgamma'),\n",
    "                     ppn_mode='heavysimple')\n",
    "elif False:\n",
    "    fitter_params = dict(files=\"0337_6vec_table_150131_pulses.fits\",\n",
    "                     tzrmjd_middle='auto',\n",
    "                     fit_pos=False,\n",
    "                     fit_pm=False,\n",
    "                     fit_px=False,\n",
    "                     t2_astrometry=False,\n",
    "                     efac=(('AO1440',1.45),\n",
    "                           ('GBT1500',1.11),\n",
    "                           ('GBT1500s',1.11),\n",
    "                           ('WSRT1400',1.45)),\n",
    "                     kopeikin=False,\n",
    "                     priors=('dbeta','dgamma'),\n",
    "                     linear_jumps=True,\n",
    "                     ppn_mode='heavysimple')\n",
    "elif False:\n",
    "    fitter_params = dict(files=\"0337+17-anne-2014-09-22\",\n",
    "                     tzrmjd_middle='auto',\n",
    "                     parfile=\"0337_tempo2_px_optical.par\",\n",
    "                     fit_pos=True,\n",
    "                     fit_pm=True,\n",
    "                     fit_px=True,\n",
    "                     t2_astrometry=True,\n",
    "                     efac=(('AO1440',1.45),\n",
    "                           ('GBT1500',1.11),\n",
    "                           ('WSRT1400',1.45)),\n",
    "                     kopeikin=False,\n",
    "                     priors=('dbeta','dgamma'),\n",
    "                     ppn_mode='heavysimple')\n",
    "elif False:\n",
    "    fitter_params = dict(files=\"0337+17-anne-2014-09-22\",\n",
    "                     tzrmjd_middle='auto',\n",
    "                     parfile=\"0337_tempo2_px_optical.par\",\n",
    "                     fit_pos=True,\n",
    "                     fit_pm=True,\n",
    "                     fit_px=True,\n",
    "                     t2_astrometry=True,\n",
    "                     efac=(('AO1440',1.45),\n",
    "                           ('GBT1500',1.11),\n",
    "                           ('WSRT1400',1.45)),\n",
    "                     kopeikin=False,\n",
    "                     priors=('dbeta','dgamma'),\n",
    "                     ppn_mode='heavysimple')\n",
    "elif False:\n",
    "    fitter_params = dict(files=\"tuned_mueller_pulses_selected\",\n",
    "                     tzrmjd_middle='auto',\n",
    "                     parfile=\"0337_tempo2_px_optical.par\",\n",
    "                     fit_pos=True,\n",
    "                     fit_pm=True,\n",
    "                     fit_px=True,\n",
    "                     t2_astrometry=True,\n",
    "                     efac=(('AO1440',1.0),\n",
    "                           ('GBT1500',1.0),\n",
    "                           ('WSRT1400',1.0)),\n",
    "                     kopeikin=False,\n",
    "                     priors=('dbeta','dgamma'),\n",
    "                     ppn_mode='heavysimple',\n",
    "                     toa_mode=\"pipeline\")\n",
    "elif True:\n",
    "    fitter_params = dict(files=\"tuned_mueller_pulses_selected\",\n",
    "                     tzrmjd_middle='auto',\n",
    "                     parfile=\"0337_tempo2_px_optical.par\",\n",
    "                     fit_pos=True,\n",
    "                     fit_pm=True,\n",
    "                     fit_px=True,\n",
    "                     t2_astrometry=True,\n",
    "                     efac=(('AO1440',1.0),\n",
    "                           ('GBT1500',1.0),\n",
    "                           ('WSRT1400',1.0)),\n",
    "                     kopeikin=False,\n",
    "                     ppn_mode='GR',\n",
    "                     linear_jumps=True,\n",
    "                     linear_dm=True,\n",
    "                     toa_mode=\"pipeline\")\n",
    "else:\n",
    "    runid = \"7983\"\n",
    "    fitter_params = pickle.load(open(\"emcee-chains/%s.nimrod/fitter_params.pickle\" % runid))\n",
    "#F = threebody.Fitter(\"0337+17-scott-2013-06-06\",tzrmjd_middle='weighted',ppn_mode='GR')\n",
    "#F = threebody.Fitter(\"0337+17-scott-2013-06-06\",tzrmjd_middle='weighted',general=False,ppn_mode='GR')\n",
    "#F = threebody.Fitter(\"0337+17-scott-2013-06-06\",tzrmjd_middle=True)\n",
    "with open(\"fitter_params.pickle\",\"wb\") as f:\n",
    "    pickle.dump(fitter_params,f)\n",
    "F = threebody.Fitter(**fitter_params)"
   ]
  },
  {
   "cell_type": "code",
   "execution_count": 282,
   "metadata": {},
   "outputs": [
    {
     "data": {
      "text/plain": [
       "(['AO_1400', 'AO_430', 'GBT_1400', 'WSRT_1400', 'WSRT_350'], 24301)"
      ]
     },
     "execution_count": 282,
     "metadata": {},
     "output_type": "execute_result"
    }
   ],
   "source": [
    "F.tel_list, len(F.mjds)"
   ]
  },
  {
   "cell_type": "code",
   "execution_count": 283,
   "metadata": {},
   "outputs": [
    {
     "name": "stdout",
     "output_type": "stream",
     "text": [
      "['asini_i', 'pb_i', 'eps1_i', 'eps2_i', 'tasc_i', 'acosi_i', 'q_i', 'asini_o', 'pb_o', 'eps1_o', 'eps2_o', 'tasc_o', 'acosi_o', 'delta_lan']\n",
      "14\n"
     ]
    }
   ],
   "source": [
    "print F.parameters\n",
    "print len(F.parameters)"
   ]
  },
  {
   "cell_type": "code",
   "execution_count": 284,
   "metadata": {},
   "outputs": [
    {
     "data": {
      "text/plain": [
       "{'acosi_i': 1.4917495861716117575,\n",
       " 'acosi_o': 91.538622303063296705,\n",
       " 'asini_i': 1.2175267872938913722,\n",
       " 'asini_o': 74.672700475463019559,\n",
       " 'd_DECJ': 1.6847336940935975218e-07,\n",
       " 'd_PMDEC': -1.9580532733266362e-10,\n",
       " 'd_PMRA': 9.885280864586482e-11,\n",
       " 'd_PX': -0.92477760701603597092,\n",
       " 'd_RAJ': -3.2388334094615887816e-08,\n",
       " 'dbeta': -0.00041698493776006720714,\n",
       " 'delta': -3.1672615080429307528e-06,\n",
       " 'delta_lan': -1.4814438730602487865e-05,\n",
       " 'dgamma': 1.175749501990592583e-06,\n",
       " 'eps1_i': 0.00068719624184425013864,\n",
       " 'eps1_o': 0.035186230981765461941,\n",
       " 'eps2_i': -9.1233451319126974892e-05,\n",
       " 'eps2_o': -0.0034621989709442620155,\n",
       " 'f0': 365.95336876828094,\n",
       " 'general': True,\n",
       " 'j_AO1350': 5.4169010371405938449e-05,\n",
       " 'j_AO1440': 4.8930549945746121983e-05,\n",
       " 'j_AO327': 6.5301884179095320452e-05,\n",
       " 'j_GBT1500': 6.2334158805205982467e-05,\n",
       " 'j_GBT350': 1.8510494219682503864e-05,\n",
       " 'j_GBT820': 6.7999885696179984064e-05,\n",
       " 'j_NCY1400': 0.000675,\n",
       " 'j_WSRT350': -3.6586764591042250491e-05,\n",
       " 'lan': 22.854202311569486596,\n",
       " 'matrix_mode': 0,\n",
       " 'pb_i': 1.6293969535361752128,\n",
       " 'pb_o': 327.25748641581127349,\n",
       " 'pm_x': -4.7253571656398304e-11,\n",
       " 'pm_y': 5.176655321908803e-11,\n",
       " 'ppn_mode': 'GR',\n",
       " 'q_i': 0.13726437847682271791,\n",
       " 'shapiro': True,\n",
       " 'special': True,\n",
       " 'tasc_i': 0.40771702206773739223,\n",
       " 'tasc_o': 313.9357584942376686,\n",
       " 'tol': 1e-16,\n",
       " 'use_quad': False}"
      ]
     },
     "execution_count": 284,
     "metadata": {},
     "output_type": "execute_result"
    }
   ],
   "source": [
    "F.best_parameters"
   ]
  },
  {
   "cell_type": "code",
   "execution_count": 287,
   "metadata": {
    "collapsed": true
   },
   "outputs": [],
   "source": [
    "if 'j_NCY1400' not in F.best_errors:\n",
    "    F.best_errors['j_NCY1400'] = F.best_errors['j_GBT1500']\n",
    "if 'j_GBT1500s' not in F.best_parameters:\n",
    "    F.best_parameters['j_GBT1500s'] = F.best_parameters['j_GBT1500']\n",
    "if 'j_GBT1500s' not in F.best_errors:\n",
    "    F.best_errors['j_GBT1500s'] = F.best_errors['j_GBT1500']\n",
    "if 'j_AO430' not in F.best_parameters:\n",
    "    F.best_parameters['j_AO430'] = 0\n",
    "if 'j_AO430' not in F.best_errors:\n",
    "    F.best_errors['j_AO430'] = F.best_errors['j_GBT1500']\n",
    "if 'j_WSRT350' not in F.best_parameters:\n",
    "    F.best_parameters['j_WSRT350'] = 0\n",
    "if 'j_WSRT350' not in F.best_errors:\n",
    "    F.best_errors['j_WSRT350'] = F.best_errors['j_GBT1500']\n",
    " "
   ]
  },
  {
   "cell_type": "code",
   "execution_count": 288,
   "metadata": {
    "collapsed": true
   },
   "outputs": [],
   "source": [
    "#for n in threebody.astro_names:\n",
    "#    F.best_parameters[n] = 0"
   ]
  },
  {
   "cell_type": "code",
   "execution_count": 289,
   "metadata": {
    "collapsed": true
   },
   "outputs": [],
   "source": [
    "#F.best_parameters['d_PX'] = 0\n",
    "#F.best_parameters['pm_x'] = 0\n",
    "#F.best_parameters['pm_y'] = 0\n"
   ]
  },
  {
   "cell_type": "code",
   "execution_count": 290,
   "metadata": {},
   "outputs": [
    {
     "data": {
      "image/png": "[encoded data removed]",
      "text/plain": [
       "<matplotlib.figure.Figure at 0xb8f2910>"
      ]
     },
     "metadata": {},
     "output_type": "display_data"
    }
   ],
   "source": [
    "rload = F.residuals(F.best_parameters)\n",
    "for ti, t in enumerate(F.tel_list):\n",
    "    c = F.tels == ti\n",
    "    plt.plot(F.mjds[c], rload[c], \n",
    "             \".\", markersize=1, label=t)\n",
    "plt.legend(loc=\"best\")\n",
    "plt.show()"
   ]
  },
  {
   "cell_type": "code",
   "execution_count": 291,
   "metadata": {},
   "outputs": [
    {
     "data": {
      "text/plain": [
       "173884.09238209101468"
      ]
     },
     "execution_count": 291,
     "metadata": {},
     "output_type": "execute_result"
    }
   ],
   "source": [
    "F.goodness_of_fit(F.best_parameters)"
   ]
  },
  {
   "cell_type": "code",
   "execution_count": 292,
   "metadata": {},
   "outputs": [],
   "source": [
    "mfun = F.make_mfun()"
   ]
  },
  {
   "cell_type": "code",
   "execution_count": 293,
   "metadata": {},
   "outputs": [
    {
     "data": {
      "text/plain": [
       "173884.09238209101468"
      ]
     },
     "execution_count": 293,
     "metadata": {},
     "output_type": "execute_result"
    }
   ],
   "source": [
    "mfun(*[F.best_parameters[p] for p in F.parameters])"
   ]
  },
  {
   "cell_type": "code",
   "execution_count": null,
   "metadata": {
    "collapsed": true
   },
   "outputs": [],
   "source": []
  },
  {
   "cell_type": "code",
   "execution_count": 294,
   "metadata": {},
   "outputs": [],
   "source": [
    "M = minuit_wrap.Fitter(F.make_mfun())"
   ]
  },
  {
   "cell_type": "code",
   "execution_count": 295,
   "metadata": {
    "collapsed": true
   },
   "outputs": [],
   "source": [
    "for p in F.parameters:\n",
    "    M.values[p] = F.best_parameters[p]\n",
    "    M.errors[p] = F.best_errors[p]\n",
    "M.set_normalization()"
   ]
  },
  {
   "cell_type": "code",
   "execution_count": 296,
   "metadata": {
    "collapsed": true
   },
   "outputs": [],
   "source": [
    "if False:\n",
    "    for p in F.parameters:\n",
    "        if not p.startswith(\"j_\"):\n",
    "            M.fixed[p] = True\n"
   ]
  },
  {
   "cell_type": "code",
   "execution_count": 297,
   "metadata": {
    "collapsed": true
   },
   "outputs": [],
   "source": [
    "#if F.linear_jumps:\n",
    "#    print \"linear jumps\"\n",
    "#    for p in F.parameters:\n",
    "#        if p.startswith(\"j_\"):\n",
    "#            M.fixed[p] = True\n"
   ]
  },
  {
   "cell_type": "code",
   "execution_count": 298,
   "metadata": {
    "collapsed": true
   },
   "outputs": [],
   "source": [
    "if False:\n",
    "    for p in F.parameters:\n",
    "        M.fixed[p] = False"
   ]
  },
  {
   "cell_type": "code",
   "execution_count": null,
   "metadata": {},
   "outputs": [],
   "source": [
    "M.best_filename = \"fitter_best_values.pickle\"\n",
    "M.tol = 100\n",
    "#M.eps = 1e-6\n",
    "M.strategy = 1\n",
    "M.printMode = 3\n",
    "M.migrad()"
   ]
  },
  {
   "cell_type": "code",
   "execution_count": 37,
   "metadata": {},
   "outputs": [
    {
     "ename": "AttributeError",
     "evalue": "'iminuit._libiminuit.Minuit' object has no attribute 'printMode'",
     "output_type": "error",
     "traceback": [
      "\u001b[0;31m---------------------------------------------------------------------------\u001b[0m",
      "\u001b[0;31mAttributeError\u001b[0m                            Traceback (most recent call last)",
      "\u001b[0;32m<ipython-input-37-312e011255c2>\u001b[0m in \u001b[0;36m<module>\u001b[0;34m()\u001b[0m\n\u001b[1;32m      2\u001b[0m \u001b[0;31m#M.eps = 1e-6\u001b[0m\u001b[0;34m\u001b[0m\u001b[0;34m\u001b[0m\u001b[0m\n\u001b[1;32m      3\u001b[0m \u001b[0mM\u001b[0m\u001b[0;34m.\u001b[0m\u001b[0mstrategy\u001b[0m \u001b[0;34m=\u001b[0m \u001b[0;36m1\u001b[0m\u001b[0;34m\u001b[0m\u001b[0m\n\u001b[0;32m----> 4\u001b[0;31m \u001b[0mM\u001b[0m\u001b[0;34m.\u001b[0m\u001b[0mprintMode\u001b[0m \u001b[0;34m=\u001b[0m \u001b[0;36m3\u001b[0m\u001b[0;34m\u001b[0m\u001b[0m\n\u001b[0m\u001b[1;32m      5\u001b[0m \u001b[0mM\u001b[0m\u001b[0;34m.\u001b[0m\u001b[0msimplex\u001b[0m\u001b[0;34m(\u001b[0m\u001b[0;34m)\u001b[0m\u001b[0;34m\u001b[0m\u001b[0m\n",
      "\u001b[0;32m/data2/people/aarchiba/projects/triplesystem/code-v1/minuit_wrap.py\u001b[0m in \u001b[0;36mprintMode\u001b[0;34m(self, v)\u001b[0m\n\u001b[1;32m     75\u001b[0m     \u001b[0;34m@\u001b[0m\u001b[0mprintMode\u001b[0m\u001b[0;34m.\u001b[0m\u001b[0msetter\u001b[0m\u001b[0;34m\u001b[0m\u001b[0m\n\u001b[1;32m     76\u001b[0m     \u001b[0;32mdef\u001b[0m \u001b[0mprintMode\u001b[0m\u001b[0;34m(\u001b[0m\u001b[0mself\u001b[0m\u001b[0;34m,\u001b[0m \u001b[0mv\u001b[0m\u001b[0;34m)\u001b[0m\u001b[0;34m:\u001b[0m\u001b[0;34m\u001b[0m\u001b[0m\n\u001b[0;32m---> 77\u001b[0;31m         \u001b[0mself\u001b[0m\u001b[0;34m.\u001b[0m\u001b[0m_minuit\u001b[0m\u001b[0;34m.\u001b[0m\u001b[0mprintMode\u001b[0m \u001b[0;34m=\u001b[0m \u001b[0mv\u001b[0m\u001b[0;34m\u001b[0m\u001b[0m\n\u001b[0m\u001b[1;32m     78\u001b[0m     \u001b[0;34m@\u001b[0m\u001b[0mproperty\u001b[0m\u001b[0;34m\u001b[0m\u001b[0m\n\u001b[1;32m     79\u001b[0m     \u001b[0;32mdef\u001b[0m \u001b[0meps\u001b[0m\u001b[0;34m(\u001b[0m\u001b[0mself\u001b[0m\u001b[0;34m)\u001b[0m\u001b[0;34m:\u001b[0m\u001b[0;34m\u001b[0m\u001b[0m\n",
      "\u001b[0;31mAttributeError\u001b[0m: 'iminuit._libiminuit.Minuit' object has no attribute 'printMode'"
     ]
    }
   ],
   "source": [
    "M.tol = 100\n",
    "#M.eps = 1e-6\n",
    "M.strategy = 1\n",
    "M.printMode = 3\n",
    "M.simplex()"
   ]
  },
  {
   "cell_type": "code",
   "execution_count": null,
   "metadata": {
    "collapsed": true
   },
   "outputs": [],
   "source": [
    "for (i,p) in enumerate(F.parameters):\n",
    "    M.values[p] = M.best_values[p]\n",
    "    M.errors[p] = F.best_errors[p]\n",
    "M.set_normalization() "
   ]
  },
  {
   "cell_type": "code",
   "execution_count": null,
   "metadata": {
    "collapsed": true
   },
   "outputs": [],
   "source": [
    "best_so_far = np.load(\"emcee-chains/1045.nimrod/best_so_far.npy\")\n",
    "for (i,p) in enumerate(F.parameters):\n",
    "    M.values[p] = best_so_far[i]\n",
    "    M.errors[p] = F.best_errors[p]\n",
    "M.set_normalization()    "
   ]
  },
  {
   "cell_type": "code",
   "execution_count": null,
   "metadata": {
    "collapsed": true
   },
   "outputs": [],
   "source": [
    "M.tol = 100\n",
    "M.eps = 1e-6\n",
    "M.strategy = 1\n",
    "M.printMode = 3\n",
    "M.migrad()"
   ]
  },
  {
   "cell_type": "code",
   "execution_count": null,
   "metadata": {
    "collapsed": true
   },
   "outputs": [],
   "source": [
    "for p in F.parameters:\n",
    "    print p, (M.best_values[p]-F.best_parameters[p])/F.best_errors[p]"
   ]
  },
  {
   "cell_type": "code",
   "execution_count": null,
   "metadata": {
    "collapsed": true
   },
   "outputs": [],
   "source": [
    "M.best_values"
   ]
  },
  {
   "cell_type": "code",
   "execution_count": null,
   "metadata": {
    "collapsed": true
   },
   "outputs": [],
   "source": [
    "mfun(*[M.best_values[p] for p in F.parameters])"
   ]
  },
  {
   "cell_type": "code",
   "execution_count": null,
   "metadata": {
    "collapsed": true
   },
   "outputs": [],
   "source": [
    "if False:\n",
    "    import cPickle as pickle\n",
    "    with open(M.best_filename,\"wb\") as f:\n",
    "        pickle.dump(M.best_values, f)"
   ]
  },
  {
   "cell_type": "code",
   "execution_count": null,
   "metadata": {
    "collapsed": true
   },
   "outputs": [],
   "source": [
    "M._minuit.errors"
   ]
  },
  {
   "cell_type": "code",
   "execution_count": null,
   "metadata": {
    "collapsed": true
   },
   "outputs": [],
   "source": [
    "new_walkers = np.load(\"emcee-chains/845.nimrod/new_walkers.npy\")\n",
    "new_walkers = new_walkers.reshape((-1,new_walkers.shape[-1]))\n",
    "new_walkers -= np.mean(new_walkers,axis=0)\n",
    "delta = new_walkers[np.random.randint(new_walkers.shape[0])]\n",
    "for (i,p) in enumerate(F.parameters):\n",
    "    M.values[p] = M.best_values[p] + delta[i]\n",
    "    M.errors[p] = F.best_errors[p]\n",
    "M.set_normalization() "
   ]
  },
  {
   "cell_type": "code",
   "execution_count": null,
   "metadata": {
    "collapsed": true
   },
   "outputs": [],
   "source": []
  }
 ],
 "metadata": {
  "kernelspec": {
   "display_name": "Python 2",
   "language": "python",
   "name": "python2"
  },
  "language_info": {
   "codemirror_mode": {
    "name": "ipython",
    "version": 2
   },
   "file_extension": ".py",
   "mimetype": "text/x-python",
   "name": "python",
   "nbconvert_exporter": "python",
   "pygments_lexer": "ipython2",
   "version": "2.7.3"
  }
 },
 "nbformat": 4,
 "nbformat_minor": 1
}
