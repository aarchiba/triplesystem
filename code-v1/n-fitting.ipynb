{
 "cells": [
  {
   "cell_type": "code",
   "execution_count": 1,
   "metadata": {
    "collapsed": true
   },
   "outputs": [],
   "source": [
    "%load_ext autoreload\n",
    "\n",
    "%autoreload 2"
   ]
  },
  {
   "cell_type": "code",
   "execution_count": 2,
   "metadata": {
    "collapsed": true
   },
   "outputs": [],
   "source": [
    "from glob import glob\n",
    "import os\n",
    "import pickle\n",
    "\n",
    "import scipy.linalg\n",
    "import matplotlib.pyplot as plt\n",
    "import scipy.optimize\n",
    "import numpy as np\n",
    "\n",
    "import emcee\n",
    "\n",
    "import kepler\n",
    "import threebody\n",
    "\n",
    "import minuit_wrap\n",
    "%matplotlib inline"
   ]
  },
  {
   "cell_type": "code",
   "execution_count": 3,
   "metadata": {
    "collapsed": true
   },
   "outputs": [],
   "source": [
    "import logging\n",
    "logger = logging.getLogger()\n",
    "\n",
    "#logger.setLevel(logging.DEBUG)\n",
    "fh = logging.FileHandler(\"fitting.log\")\n",
    "formatter = logging.Formatter('%(asctime)s - %(module)s:%(funcName)s:%(lineno)s - %(message)s')\n",
    "fh.setFormatter(formatter)\n",
    "logger.addHandler(fh)\n"
   ]
  },
  {
   "cell_type": "code",
   "execution_count": 4,
   "metadata": {
    "collapsed": true
   },
   "outputs": [],
   "source": [
    "# numpy binds itself to one CPU; unbind it\n",
    "#import os\n",
    "#os.system(\"taskset -p 0xff %d\" % os.getpid());"
   ]
  },
  {
   "cell_type": "code",
   "execution_count": 5,
   "metadata": {
    "collapsed": true
   },
   "outputs": [],
   "source": [
    "#import matplotlib\n",
    "#matplotlib.rcParams['savefig.dpi'] = 120"
   ]
  },
  {
   "cell_type": "code",
   "execution_count": 54,
   "metadata": {
    "collapsed": true
   },
   "outputs": [],
   "source": [
    "if False:\n",
    "    fitter_params = dict(files=\"tuned2_aligned_pulses_1400\",\n",
    "                     tzrmjd_middle='auto',\n",
    "                     parfile=\"0337_tempo2_px_optical_dmcorr.par\",\n",
    "                     fit_pos=True,\n",
    "                     fit_pm=True,\n",
    "                     fit_px=True,\n",
    "                     efac=1,\n",
    "                     t2_astrometry=True,\n",
    "                     kopeikin=False,\n",
    "                     ppn_mode='GR',\n",
    "                     linear_jumps=True,\n",
    "                     linear_dm=True,\n",
    "                     toa_mode=\"pipeline\")\n",
    "elif True:\n",
    "    fitter_params = dict(files=\"tuned2_aligned_pulses_1400\",\n",
    "                     tzrmjd_middle='auto',\n",
    "                     parfile=\"0337_tempo2_px_optical_dmcorr.par\",\n",
    "                     fit_pos=True,\n",
    "                     fit_pm=True,\n",
    "                     fit_px=True,\n",
    "                     efac=1,\n",
    "                     t2_astrometry=True,\n",
    "                     kopeikin=False,\n",
    "                     ppn_mode='heavysimple',\n",
    "                     linear_jumps=True,\n",
    "                     linear_dm=True,\n",
    "                     toa_mode=\"pipeline\")\n",
    "else:\n",
    "    runid = \"7983\"\n",
    "    fitter_params = pickle.load(open(\"emcee-chains/%s.nimrod/fitter_params.pickle\" % runid))\n",
    "#F = threebody.Fitter(\"0337+17-scott-2013-06-06\",tzrmjd_middle='weighted',ppn_mode='GR')\n",
    "#F = threebody.Fitter(\"0337+17-scott-2013-06-06\",tzrmjd_middle='weighted',general=False,ppn_mode='GR')\n",
    "#F = threebody.Fitter(\"0337+17-scott-2013-06-06\",tzrmjd_middle=True)\n",
    "with open(\"fitter_params.pickle\",\"wb\") as f:\n",
    "    pickle.dump(fitter_params,f)\n",
    "F = threebody.Fitter(**fitter_params)"
   ]
  },
  {
   "cell_type": "code",
   "execution_count": 55,
   "metadata": {},
   "outputs": [
    {
     "data": {
      "text/plain": [
       "(['AO_1400', 'GBT_1400', 'WSRT_1400'], 27535)"
      ]
     },
     "execution_count": 55,
     "metadata": {},
     "output_type": "execute_result"
    }
   ],
   "source": [
    "F.tel_list, len(F.mjds)"
   ]
  },
  {
   "cell_type": "code",
   "execution_count": 56,
   "metadata": {},
   "outputs": [
    {
     "name": "stdout",
     "output_type": "stream",
     "text": [
      "['asini_i', 'pb_i', 'eps1_i', 'eps2_i', 'tasc_i', 'acosi_i', 'q_i', 'asini_o', 'pb_o', 'eps1_o', 'eps2_o', 'tasc_o', 'acosi_o', 'delta_lan', 'delta', 'dgamma', 'dbeta']\n",
      "17\n"
     ]
    }
   ],
   "source": [
    "print F.parameters\n",
    "print len(F.parameters)"
   ]
  },
  {
   "cell_type": "code",
   "execution_count": 57,
   "metadata": {},
   "outputs": [
    {
     "data": {
      "text/plain": [
       "{'acosi_i': 1.4885611563894778422,\n",
       " 'acosi_o': 91.305509598178798823,\n",
       " 'asini_i': 1.2175266062660606256,\n",
       " 'asini_o': 74.672704362014117714,\n",
       " 'dbeta': 2.2504295888997497946e-11,\n",
       " 'delta': 0.0,\n",
       " 'delta_lan': -1.8817274078147161826e-07,\n",
       " 'dgamma': 0.0,\n",
       " 'eps1_i': 0.00068716338536487529281,\n",
       " 'eps1_o': 0.035186245478223697435,\n",
       " 'eps2_i': -9.1308555566635959701e-05,\n",
       " 'eps2_o': -0.0034621422565100533302,\n",
       " 'pb_i': 1.629396956445798689,\n",
       " 'pb_o': 327.2575200720538893,\n",
       " 'q_i': 0.13743075152466099826,\n",
       " 'tasc_i': 0.40771695271490304612,\n",
       " 'tasc_o': 313.93579530184884194}"
      ]
     },
     "execution_count": 57,
     "metadata": {},
     "output_type": "execute_result"
    }
   ],
   "source": [
    "F.best_parameters"
   ]
  },
  {
   "cell_type": "code",
   "execution_count": 58,
   "metadata": {},
   "outputs": [
    {
     "data": {
      "image/png": "[encoded data removed]",
      "text/plain": [
       "<matplotlib.figure.Figure at 0xc61e5d0>"
      ]
     },
     "metadata": {},
     "output_type": "display_data"
    }
   ],
   "source": [
    "rload = F.residuals(F.best_parameters)\n",
    "for ti, t in enumerate(F.tel_list):\n",
    "    c = F.tels == ti\n",
    "    plt.plot(F.mjds[c], rload[c], \n",
    "             \".\", markersize=1, label=t)\n",
    "plt.legend(loc=\"best\")\n",
    "plt.show()"
   ]
  },
  {
   "cell_type": "code",
   "execution_count": 59,
   "metadata": {},
   "outputs": [
    {
     "data": {
      "text/plain": [
       "42787.763748053120096"
      ]
     },
     "execution_count": 59,
     "metadata": {},
     "output_type": "execute_result"
    }
   ],
   "source": [
    "F.goodness_of_fit(F.best_parameters)"
   ]
  },
  {
   "cell_type": "code",
   "execution_count": 60,
   "metadata": {
    "collapsed": true
   },
   "outputs": [],
   "source": [
    "mfun = F.make_mfun()"
   ]
  },
  {
   "cell_type": "code",
   "execution_count": 61,
   "metadata": {},
   "outputs": [
    {
     "data": {
      "text/plain": [
       "42787.763748053120096"
      ]
     },
     "execution_count": 61,
     "metadata": {},
     "output_type": "execute_result"
    }
   ],
   "source": [
    "mfun(*[F.best_parameters[p] for p in F.parameters])"
   ]
  },
  {
   "cell_type": "code",
   "execution_count": 62,
   "metadata": {
    "collapsed": true
   },
   "outputs": [],
   "source": [
    "M = minuit_wrap.Fitter(F.make_mfun())"
   ]
  },
  {
   "cell_type": "code",
   "execution_count": 63,
   "metadata": {
    "collapsed": true
   },
   "outputs": [],
   "source": [
    "for p in F.parameters:\n",
    "    M.values[p] = F.best_parameters[p]\n",
    "    M.errors[p] = F.best_errors[p]\n",
    "M.set_normalization()"
   ]
  },
  {
   "cell_type": "markdown",
   "metadata": {},
   "source": [
    "## MINUIT"
   ]
  },
  {
   "cell_type": "code",
   "execution_count": null,
   "metadata": {
    "collapsed": true
   },
   "outputs": [],
   "source": [
    "M.best_filename = \"fitter_best_values.pickle\"\n",
    "M.tol = 100\n",
    "#M.eps = 1e-6\n",
    "M.strategy = 1\n",
    "M.printMode = 3\n",
    "M.migrad()"
   ]
  },
  {
   "cell_type": "markdown",
   "metadata": {},
   "source": [
    "## Python optimizer instead"
   ]
  },
  {
   "cell_type": "code",
   "execution_count": null,
   "metadata": {
    "collapsed": true
   },
   "outputs": [],
   "source": [
    "M.best_filename = \"fitter_best_values.pickle\"\n",
    "M.printMode = 3\n",
    "M.scipy_minimize(\"Powell\", options=dict(ftol=1e-8))"
   ]
  },
  {
   "cell_type": "markdown",
   "metadata": {},
   "source": [
    "## NLopt optimizer\n",
    "\n"
   ]
  },
  {
   "cell_type": "code",
   "execution_count": null,
   "metadata": {},
   "outputs": [
    {
     "name": "stdout",
     "output_type": "stream",
     "text": [
      "[ 0.0  0.0  0.0  0.0  0.0  0.0  0.0  0.0  0.0  0.0  0.0  0.0  0.0  0.0  0.0\n",
      "  0.0  0.0]\n"
     ]
    }
   ],
   "source": [
    "M.best_filename = \"fitter_best_values.pickle\"\n",
    "M.printMode = 3\n",
    "M.nlopt_minimize()"
   ]
  },
  {
   "cell_type": "markdown",
   "metadata": {},
   "source": [
    "## Attic"
   ]
  },
  {
   "cell_type": "code",
   "execution_count": null,
   "metadata": {
    "collapsed": true
   },
   "outputs": [],
   "source": [
    "M.tol = 100\n",
    "#M.eps = 1e-6\n",
    "M.strategy = 1\n",
    "M.printMode = 3\n",
    "M.simplex()"
   ]
  },
  {
   "cell_type": "code",
   "execution_count": null,
   "metadata": {
    "collapsed": true
   },
   "outputs": [],
   "source": [
    "for (i,p) in enumerate(F.parameters):\n",
    "    M.values[p] = M.best_values[p]\n",
    "    M.errors[p] = F.best_errors[p]\n",
    "M.set_normalization() "
   ]
  },
  {
   "cell_type": "code",
   "execution_count": null,
   "metadata": {
    "collapsed": true
   },
   "outputs": [],
   "source": [
    "best_so_far = np.load(\"emcee-chains/1045.nimrod/best_so_far.npy\")\n",
    "for (i,p) in enumerate(F.parameters):\n",
    "    M.values[p] = best_so_far[i]\n",
    "    M.errors[p] = F.best_errors[p]\n",
    "M.set_normalization()    "
   ]
  },
  {
   "cell_type": "code",
   "execution_count": null,
   "metadata": {
    "collapsed": true
   },
   "outputs": [],
   "source": [
    "M.tol = 100\n",
    "M.eps = 1e-6\n",
    "M.strategy = 1\n",
    "M.printMode = 3\n",
    "M.migrad()"
   ]
  },
  {
   "cell_type": "code",
   "execution_count": null,
   "metadata": {
    "collapsed": true
   },
   "outputs": [],
   "source": [
    "for p in F.parameters:\n",
    "    print p, (M.best_values[p]-F.best_parameters[p])/F.best_errors[p]"
   ]
  },
  {
   "cell_type": "code",
   "execution_count": null,
   "metadata": {
    "collapsed": true
   },
   "outputs": [],
   "source": [
    "M.best_values"
   ]
  },
  {
   "cell_type": "code",
   "execution_count": null,
   "metadata": {
    "collapsed": true
   },
   "outputs": [],
   "source": [
    "mfun(*[M.best_values[p] for p in F.parameters])"
   ]
  },
  {
   "cell_type": "code",
   "execution_count": null,
   "metadata": {
    "collapsed": true
   },
   "outputs": [],
   "source": [
    "if False:\n",
    "    import cPickle as pickle\n",
    "    with open(M.best_filename,\"wb\") as f:\n",
    "        pickle.dump(M.best_values, f)"
   ]
  },
  {
   "cell_type": "code",
   "execution_count": null,
   "metadata": {
    "collapsed": true
   },
   "outputs": [],
   "source": [
    "M._minuit.errors"
   ]
  },
  {
   "cell_type": "code",
   "execution_count": null,
   "metadata": {
    "collapsed": true
   },
   "outputs": [],
   "source": [
    "new_walkers = np.load(\"emcee-chains/845.nimrod/new_walkers.npy\")\n",
    "new_walkers = new_walkers.reshape((-1,new_walkers.shape[-1]))\n",
    "new_walkers -= np.mean(new_walkers,axis=0)\n",
    "delta = new_walkers[np.random.randint(new_walkers.shape[0])]\n",
    "for (i,p) in enumerate(F.parameters):\n",
    "    M.values[p] = M.best_values[p] + delta[i]\n",
    "    M.errors[p] = F.best_errors[p]\n",
    "M.set_normalization() "
   ]
  },
  {
   "cell_type": "code",
   "execution_count": null,
   "metadata": {
    "collapsed": true
   },
   "outputs": [],
   "source": []
  }
 ],
 "metadata": {
  "kernelspec": {
   "display_name": "Python 2",
   "language": "python",
   "name": "python2"
  },
  "language_info": {
   "codemirror_mode": {
    "name": "ipython",
    "version": 2
   },
   "file_extension": ".py",
   "mimetype": "text/x-python",
   "name": "python",
   "nbconvert_exporter": "python",
   "pygments_lexer": "ipython2",
   "version": "2.7.3"
  }
 },
 "nbformat": 4,
 "nbformat_minor": 1
}
