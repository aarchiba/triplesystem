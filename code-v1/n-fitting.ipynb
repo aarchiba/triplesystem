{
 "cells": [
  {
   "cell_type": "code",
   "execution_count": 2,
   "metadata": {
    "collapsed": true
   },
   "outputs": [],
   "source": [
    "%load_ext autoreload\n",
    "\n",
    "%autoreload 2"
   ]
  },
  {
   "cell_type": "code",
   "execution_count": 4,
   "metadata": {
    "collapsed": true
   },
   "outputs": [],
   "source": [
    "from glob import glob\n",
    "import os\n",
    "import pickle\n",
    "\n",
    "import scipy.linalg\n",
    "import matplotlib.pyplot as plt\n",
    "\n",
    "import emcee\n",
    "\n",
    "import kepler\n",
    "import threebody\n",
    "\n",
    "import minuit_wrap\n",
    "%matplotlib inline"
   ]
  },
  {
   "cell_type": "code",
   "execution_count": 5,
   "metadata": {
    "collapsed": true
   },
   "outputs": [],
   "source": [
    "import logging\n",
    "logger = logging.getLogger()\n",
    "\n",
    "#logger.setLevel(logging.DEBUG)\n",
    "fh = logging.FileHandler(\"fitting.log\")\n",
    "formatter = logging.Formatter('%(asctime)s - %(module)s:%(funcName)s:%(lineno)s - %(message)s')\n",
    "fh.setFormatter(formatter)\n",
    "logger.addHandler(fh)\n"
   ]
  },
  {
   "cell_type": "code",
   "execution_count": 6,
   "metadata": {
    "collapsed": true
   },
   "outputs": [],
   "source": [
    "# numpy binds itself to one CPU; unbind it\n",
    "#import os\n",
    "#os.system(\"taskset -p 0xff %d\" % os.getpid());"
   ]
  },
  {
   "cell_type": "code",
   "execution_count": 7,
   "metadata": {
    "collapsed": true
   },
   "outputs": [],
   "source": [
    "#import matplotlib\n",
    "#matplotlib.rcParams['savefig.dpi'] = 120"
   ]
  },
  {
   "cell_type": "code",
   "execution_count": 301,
   "metadata": {
    "collapsed": true
   },
   "outputs": [],
   "source": [
    "#F = threebody.Fitter(\"0337+17-scott-2013-06-06\",tzrmjd_middle='weighted',priors=['dbeta','dgamma'],ppn_mode='heavysimple')\n",
    "#F = threebody.Fitter(\"0337+17-scott-2013-06-06\",\n",
    "#    tzrmjd_middle='weighted',priors=['dbeta','dgamma'],\n",
    "#    use_quad=True,tol=1e-20,ppn_mode='heavysimple')\n",
    "#F = threebody.Fitter(\"0337+17-scott-2013-06-06\",tzrmjd_middle='weighted',\n",
    "#    only_tels=['AO1440','AO1350','GBT1500'],\n",
    "#    ppn_mode='heavysimple')\n",
    "#F = threebody.Fitter(\"0337+17-scott-2013-06-06\",tzrmjd_middle='weighted',\n",
    "#    only_tels=['WSRT1400'],\n",
    "#    ppn_mode='heavysimple')\n",
    "#F = threebody.Fitter(files=\"0337+17-scott-2013-08-29\",tzrmjd_middle='weighted',\n",
    "#                     parfile=\"0337_tempo2_nobinary.par\",\n",
    "#                     fit_pos=True,\n",
    "#                     ppn_mode='GR')\n",
    "#F = threebody.Fitter(files=\"0337+17-scott-2013-08-29\",tzrmjd_middle='auto',\n",
    "#                     parfile=\"0337_modified.par\",\n",
    "#                     fit_pos=True,\n",
    "#                     fit_pm=True,\n",
    "#                     fit_px=True,\n",
    "#                     t2_astrometry=True,\n",
    "#                     ppn_mode='GR')\n",
    "#F = threebody.Fitter(files=\"0337+17-scott-2013-08-29\",tzrmjd_middle='auto',\n",
    "#                     parfile=\"0337_modified.par\",\n",
    "#                     fit_pos=True,\n",
    "#                     fit_pm=True,\n",
    "#                     fit_px=True,\n",
    "#                     t2_astrometry=True,\n",
    "#                     kopeikin=True,\n",
    "#                     ppn_mode='heavysimple')\n",
    "if False:\n",
    "    fitter_params = dict(files=\"0337+17-scott-2013-08-29\",tzrmjd_middle='auto',\n",
    "                     parfile=\"0337_tempo2_pm.par\",\n",
    "                     fit_pos=True,\n",
    "                     fit_pm=False,\n",
    "                     fit_px=True,\n",
    "                     t2_astrometry=True,\n",
    "                     kopeikin=True,\n",
    "                     priors=('dbeta','dgamma'),\n",
    "                     ppn_mode='heavysimple')\n",
    "elif False:\n",
    "    fitter_params = dict(files=\"0337+17-scott-2013-08-29\",tzrmjd_middle='auto',\n",
    "                     parfile=\"0337_tempo2_pm.par\",\n",
    "                     fit_pos=True,\n",
    "                     fit_pm=False,\n",
    "                     fit_px=True,\n",
    "                     t2_astrometry=True,\n",
    "                     kopeikin=True,\n",
    "                     shapiro=False,\n",
    "                     priors=('dbeta','dgamma'),\n",
    "                     ppn_mode='heavysimple')\n",
    "elif False:\n",
    "    fitter_params = dict(files=\"0337+17-scott-2013-08-29\",tzrmjd_middle='auto',\n",
    "                     parfile=\"0337_tempo2_pm.par\",\n",
    "                     fit_pos=True,\n",
    "                     fit_pm=False,\n",
    "                     fit_px=True,\n",
    "                     t2_astrometry=True,\n",
    "                     kopeikin=True,\n",
    "                     general=False,\n",
    "                     priors=('dbeta','dgamma'),\n",
    "                     ppn_mode='heavysimple')\n",
    "elif False:\n",
    "    fitter_params = dict(files=\"0337+17-scott-2013-08-29\",tzrmjd_middle='auto',\n",
    "                     parfile=\"0337_tempo2_pm.par\",\n",
    "                     fit_pos=True,\n",
    "                     fit_pm=False,\n",
    "                     fit_px=True,\n",
    "                     t2_astrometry=True,\n",
    "                     kopeikin=True,\n",
    "                     ppn_mode=None)\n",
    "elif False:\n",
    "    fitter_params = dict(files=\"0337+17-scott-2013-08-29\",tzrmjd_middle='auto',\n",
    "                     parfile=\"0337_tempo2_px.par\",\n",
    "                     fit_pos=True,\n",
    "                     fit_pm=False,\n",
    "                     fit_px=True,\n",
    "                     t2_astrometry=True,\n",
    "                     kopeikin=True,\n",
    "                     ppn_mode='GR')\n",
    "elif False:\n",
    "    fitter_params = dict(files=\"0337+17-scott-2013-08-29\",tzrmjd_middle='auto',\n",
    "                     parfile=\"0337_tempo2_pm.par\",\n",
    "                     fit_pos=True,\n",
    "                     fit_pm=False,\n",
    "                     fit_px=True,\n",
    "                     t2_astrometry=True,\n",
    "                     kopeikin=True,\n",
    "                     ppn_mode='GR')\n",
    "elif False:\n",
    "    fitter_params = dict(files=\"0337+17-scott-2014-01-22\",\n",
    "                     tzrmjd_middle='auto',\n",
    "                     parfile=\"0337_tempo2_px_optical.par\",\n",
    "                     fit_pos=True,\n",
    "                     fit_pm=False,\n",
    "                     fit_px=False,\n",
    "                     t2_astrometry=True,\n",
    "                     kopeikin=True,\n",
    "                     ppn_mode='GR')\n",
    "elif False:\n",
    "    fitter_params = dict(files=\"0337+17-scott-2014-01-22\",\n",
    "                     tzrmjd_middle='auto',\n",
    "                     parfile=\"0337_tempo2_px_optical.par\",\n",
    "                     fit_pos=True,\n",
    "                     fit_pm=False,\n",
    "                     fit_px=False,\n",
    "                     t2_astrometry=True,\n",
    "                     kopeikin=False,\n",
    "                     ppn_mode='GR')\n",
    "elif False:\n",
    "    fitter_params = dict(files=\"0337+17-scott-2014-01-22\",\n",
    "                     tzrmjd_middle='auto',\n",
    "                     parfile=\"0337_tempo2_px_optical.par\",\n",
    "                     fit_pos=True,\n",
    "                     fit_pm=False,\n",
    "                     fit_px=False,\n",
    "                     t2_astrometry=True,\n",
    "                     kopeikin=False,\n",
    "                     priors=('dbeta','dgamma'),\n",
    "                     ppn_mode='heavysimple')\n",
    "elif False:\n",
    "    fitter_params = dict(files=\"0337+17-anne-2014-01-28\",\n",
    "                     tzrmjd_middle='auto',\n",
    "                     parfile=\"0337_tempo2_px_optical.par\",\n",
    "                     fit_pos=True,\n",
    "                     fit_pm=False,\n",
    "                     fit_px=False,\n",
    "                     t2_astrometry=True,\n",
    "                     kopeikin=False,\n",
    "                     priors=('dbeta','dgamma'),\n",
    "                     ppn_mode='heavysimple')\n",
    "elif False:\n",
    "    fitter_params = dict(files=\"0337+17-anne-2014-02-04c\",\n",
    "                     tzrmjd_middle='auto',\n",
    "                     parfile=\"0337_tempo2_px_optical.par\",\n",
    "                     fit_pos=True,\n",
    "                     fit_pm=False,\n",
    "                     fit_px=False,\n",
    "                     t2_astrometry=True,\n",
    "                     kopeikin=False,\n",
    "                     ppn_mode='GR')\n",
    "elif False:\n",
    "    fitter_params = dict(files=\"0337+17-anne-2014-02-04c\",\n",
    "                     tzrmjd_middle='auto',\n",
    "                     parfile=\"0337_tempo_px_optical.par\",\n",
    "                     fit_pos=False,\n",
    "                     fit_pm=False,\n",
    "                     fit_px=False,\n",
    "                     t2_astrometry=True,\n",
    "                     kopeikin=False,\n",
    "                     ppn_mode='GR')\n",
    "elif False:\n",
    "    fitter_params = dict(files=\"0337+17-anne-2014-09-22\",\n",
    "                     tzrmjd_middle='auto',\n",
    "                     parfile=\"0337_tempo_px_optical.par\",\n",
    "                     fit_pos=True,\n",
    "                     fit_pm=False,\n",
    "                     fit_px=False,\n",
    "                     t2_astrometry=True,\n",
    "                     kopeikin=False,\n",
    "                     ppn_mode='GR')\n",
    "elif False:\n",
    "    fitter_params = dict(files=\"0337+17-anne-2014-09-22\",\n",
    "                     tzrmjd_middle='auto',\n",
    "                     parfile=\"0337_tempo2_px_optical.par\",\n",
    "                     fit_pos=True,\n",
    "                     fit_pm=False,\n",
    "                     fit_px=False,\n",
    "                     t2_astrometry=True,\n",
    "                     kopeikin=False,\n",
    "                     priors=('dbeta','dgamma'),\n",
    "                     ppn_mode='heavysimple')\n",
    "elif False:\n",
    "    fitter_params = dict(files=\"0337+17-anne-2014-09-29\",\n",
    "                     tzrmjd_middle='auto',\n",
    "                     parfile=\"0337_tempo2_px_optical.par\",\n",
    "                     fit_pos=True,\n",
    "                     fit_pm=False,\n",
    "                     fit_px=False,\n",
    "                     t2_astrometry=True,\n",
    "                     kopeikin=False,\n",
    "                     priors=('dbeta','dgamma'),\n",
    "                     ppn_mode='heavysimple')\n",
    "elif False:\n",
    "    fitter_params = dict(files=\"0337+17-anne-2014-09-22\",\n",
    "                     tzrmjd_middle='auto',\n",
    "                     parfile=\"0337_tempo2_px_optical.par\",\n",
    "                     fit_pos=True,\n",
    "                     fit_pm=False,\n",
    "                     fit_px=False,\n",
    "                     t2_astrometry=True,\n",
    "                     kopeikin=False,\n",
    "                     only_tels=('GBT1500','WSRT1400'),\n",
    "                     priors=('dbeta','dgamma'),\n",
    "                     ppn_mode='heavysimple')\n",
    "elif False:\n",
    "    fitter_params = dict(files=\"0337+17-anne-2014-09-22\",\n",
    "                     tzrmjd_middle='auto',\n",
    "                     parfile=\"0337_tempo2_px_optical.par\",\n",
    "                     fit_pos=True,\n",
    "                     fit_pm=False,\n",
    "                     fit_px=False,\n",
    "                     t2_astrometry=True,\n",
    "                     efac=(('AO1440',1.45),\n",
    "                           ('GBT1500',1.11),\n",
    "                           ('WSRT1400',1.45)),\n",
    "                     kopeikin=False,\n",
    "                     priors=('dbeta','dgamma'),\n",
    "                     ppn_mode='heavysimple')\n",
    "elif False:\n",
    "    fitter_params = dict(files=\"0337_6vec_table_150131_pulses.fits\",\n",
    "                     tzrmjd_middle='auto',\n",
    "                     fit_pos=False,\n",
    "                     fit_pm=False,\n",
    "                     fit_px=False,\n",
    "                     t2_astrometry=False,\n",
    "                     efac=(('AO1440',1.45),\n",
    "                           ('GBT1500',1.11),\n",
    "                           ('GBT1500s',1.11),\n",
    "                           ('WSRT1400',1.45)),\n",
    "                     kopeikin=False,\n",
    "                     priors=('dbeta','dgamma'),\n",
    "                     linear_jumps=True,\n",
    "                     ppn_mode='heavysimple')\n",
    "elif False:\n",
    "    fitter_params = dict(files=\"0337+17-anne-2014-09-22\",\n",
    "                     tzrmjd_middle='auto',\n",
    "                     parfile=\"0337_tempo2_px_optical.par\",\n",
    "                     fit_pos=True,\n",
    "                     fit_pm=True,\n",
    "                     fit_px=True,\n",
    "                     t2_astrometry=True,\n",
    "                     efac=(('AO1440',1.45),\n",
    "                           ('GBT1500',1.11),\n",
    "                           ('WSRT1400',1.45)),\n",
    "                     kopeikin=False,\n",
    "                     priors=('dbeta','dgamma'),\n",
    "                     ppn_mode='heavysimple')\n",
    "elif False:\n",
    "    fitter_params = dict(files=\"0337+17-anne-2014-09-22\",\n",
    "                     tzrmjd_middle='auto',\n",
    "                     parfile=\"0337_tempo2_px_optical.par\",\n",
    "                     fit_pos=True,\n",
    "                     fit_pm=True,\n",
    "                     fit_px=True,\n",
    "                     t2_astrometry=True,\n",
    "                     efac=(('AO1440',1.45),\n",
    "                           ('GBT1500',1.11),\n",
    "                           ('WSRT1400',1.45)),\n",
    "                     kopeikin=False,\n",
    "                     priors=('dbeta','dgamma'),\n",
    "                     ppn_mode='heavysimple')\n",
    "elif False:\n",
    "    fitter_params = dict(files=\"tuned_mueller_pulses_selected\",\n",
    "                     tzrmjd_middle='auto',\n",
    "                     parfile=\"0337_tempo2_px_optical.par\",\n",
    "                     fit_pos=True,\n",
    "                     fit_pm=True,\n",
    "                     fit_px=True,\n",
    "                     t2_astrometry=True,\n",
    "                     efac=(('AO1440',1.0),\n",
    "                           ('GBT1500',1.0),\n",
    "                           ('WSRT1400',1.0)),\n",
    "                     kopeikin=False,\n",
    "                     priors=('dbeta','dgamma'),\n",
    "                     ppn_mode='heavysimple',\n",
    "                     toa_mode=\"pipeline\")\n",
    "elif False:\n",
    "    fitter_params = dict(files=\"tuned_mueller_pulses_selected\",\n",
    "                     tzrmjd_middle='auto',\n",
    "                     parfile=\"0337_tempo2_px_optical.par\",\n",
    "                     fit_pos=True,\n",
    "                     fit_pm=True,\n",
    "                     fit_px=True,\n",
    "                     t2_astrometry=True,\n",
    "                     efac=(('AO1440',1.0),\n",
    "                           ('GBT1500',1.0),\n",
    "                           ('WSRT1400',1.0)),\n",
    "                     kopeikin=False,\n",
    "                     ppn_mode='GR',\n",
    "                     linear_jumps=True,\n",
    "                     linear_dm=True,\n",
    "                     toa_mode=\"pipeline\")\n",
    "elif True:\n",
    "    fitter_params = dict(files=\"tuned_mueller_pulses_selected\",\n",
    "                     tzrmjd_middle='auto',\n",
    "                     parfile=\"0337_tempo2_px_optical.par\",\n",
    "                     fit_pos=True,\n",
    "                     fit_pm=True,\n",
    "                     fit_px=True,\n",
    "                     t2_astrometry=True,\n",
    "                     efac=(('AO1440',1.0),\n",
    "                           ('GBT1500',1.0),\n",
    "                           ('WSRT1400',1.0)),\n",
    "                     kopeikin=False,\n",
    "                     ppn_mode='heavysimple',\n",
    "                     linear_jumps=True,\n",
    "                     linear_dm=True,\n",
    "                     toa_mode=\"pipeline\")\n",
    "else:\n",
    "    runid = \"7983\"\n",
    "    fitter_params = pickle.load(open(\"emcee-chains/%s.nimrod/fitter_params.pickle\" % runid))\n",
    "#F = threebody.Fitter(\"0337+17-scott-2013-06-06\",tzrmjd_middle='weighted',ppn_mode='GR')\n",
    "#F = threebody.Fitter(\"0337+17-scott-2013-06-06\",tzrmjd_middle='weighted',general=False,ppn_mode='GR')\n",
    "#F = threebody.Fitter(\"0337+17-scott-2013-06-06\",tzrmjd_middle=True)\n",
    "with open(\"fitter_params.pickle\",\"wb\") as f:\n",
    "    pickle.dump(fitter_params,f)\n",
    "F = threebody.Fitter(**fitter_params)"
   ]
  },
  {
   "cell_type": "code",
   "execution_count": 302,
   "metadata": {},
   "outputs": [
    {
     "data": {
      "text/plain": [
       "(['AO_1400', 'AO_430', 'GBT_1400', 'WSRT_1400', 'WSRT_350'], 24301)"
      ]
     },
     "execution_count": 302,
     "metadata": {},
     "output_type": "execute_result"
    }
   ],
   "source": [
    "F.tel_list, len(F.mjds)"
   ]
  },
  {
   "cell_type": "code",
   "execution_count": 303,
   "metadata": {},
   "outputs": [
    {
     "name": "stdout",
     "output_type": "stream",
     "text": [
      "['asini_i', 'pb_i', 'eps1_i', 'eps2_i', 'tasc_i', 'acosi_i', 'q_i', 'asini_o', 'pb_o', 'eps1_o', 'eps2_o', 'tasc_o', 'acosi_o', 'delta_lan', 'delta', 'dgamma', 'dbeta']\n",
      "17\n"
     ]
    }
   ],
   "source": [
    "print F.parameters\n",
    "print len(F.parameters)"
   ]
  },
  {
   "cell_type": "code",
   "execution_count": 304,
   "metadata": {},
   "outputs": [
    {
     "data": {
      "text/plain": [
       "{'acosi_i': 1.4917553649083741,\n",
       " 'acosi_o': 91.53728918325116,\n",
       " 'asini_i': 1.2175267843858402,\n",
       " 'asini_o': 74.67270166579456,\n",
       " 'd_DECJ': -1.070731501745044e-09,\n",
       " 'd_PMDEC': -1.9580532733266362e-10,\n",
       " 'd_PMRA': 9.885280864586482e-11,\n",
       " 'd_PX': -0.5531255775641357,\n",
       " 'd_RAJ': -3.4254785902426147e-09,\n",
       " 'dbeta': 0,\n",
       " 'delta': 0,\n",
       " 'delta_lan': -1.1875825731197669e-05,\n",
       " 'dgamma': 0,\n",
       " 'eps1_i': 0.0006871812134080429,\n",
       " 'eps1_o': 0.0351862386078509,\n",
       " 'eps2_i': -9.115741533177484e-05,\n",
       " 'eps2_o': -0.003462197684711702,\n",
       " 'f0': 365.95336311128915,\n",
       " 'j_AO1350': 5.416890691232084e-05,\n",
       " 'j_AO1440': 4.8927007422127645e-05,\n",
       " 'j_AO327': 6.509749509896134e-05,\n",
       " 'j_GBT1500': 6.2342354290442e-05,\n",
       " 'j_GBT350': 1.8517017863581812e-05,\n",
       " 'j_GBT820': 6.785312385988059e-05,\n",
       " 'j_NCY1400': 0.000675,\n",
       " 'j_WSRT350': -3.659850586544055e-05,\n",
       " 'pb_i': 1.6293969535220398,\n",
       " 'pb_o': 327.25748562198874,\n",
       " 'ppn_mode': 'heavysimple',\n",
       " 'q_i': 0.13726698219882472,\n",
       " 'shapiro': True,\n",
       " 'tasc_i': 0.40771702695152506,\n",
       " 'tasc_o': 313.9357571515758,\n",
       " 'tol': 1e-16,\n",
       " 'use_quad': False}"
      ]
     },
     "execution_count": 304,
     "metadata": {},
     "output_type": "execute_result"
    }
   ],
   "source": [
    "F.best_parameters"
   ]
  },
  {
   "cell_type": "code",
   "execution_count": 305,
   "metadata": {
    "collapsed": true
   },
   "outputs": [],
   "source": [
    "if 'j_NCY1400' not in F.best_errors:\n",
    "    F.best_errors['j_NCY1400'] = F.best_errors['j_GBT1500']\n",
    "if 'j_GBT1500s' not in F.best_parameters:\n",
    "    F.best_parameters['j_GBT1500s'] = F.best_parameters['j_GBT1500']\n",
    "if 'j_GBT1500s' not in F.best_errors:\n",
    "    F.best_errors['j_GBT1500s'] = F.best_errors['j_GBT1500']\n",
    "if 'j_AO430' not in F.best_parameters:\n",
    "    F.best_parameters['j_AO430'] = 0\n",
    "if 'j_AO430' not in F.best_errors:\n",
    "    F.best_errors['j_AO430'] = F.best_errors['j_GBT1500']\n",
    "if 'j_WSRT350' not in F.best_parameters:\n",
    "    F.best_parameters['j_WSRT350'] = 0\n",
    "if 'j_WSRT350' not in F.best_errors:\n",
    "    F.best_errors['j_WSRT350'] = F.best_errors['j_GBT1500']\n",
    " "
   ]
  },
  {
   "cell_type": "code",
   "execution_count": 306,
   "metadata": {
    "collapsed": true
   },
   "outputs": [],
   "source": [
    "#for n in threebody.astro_names:\n",
    "#    F.best_parameters[n] = 0"
   ]
  },
  {
   "cell_type": "code",
   "execution_count": 307,
   "metadata": {
    "collapsed": true
   },
   "outputs": [],
   "source": [
    "#F.best_parameters['d_PX'] = 0\n",
    "#F.best_parameters['pm_x'] = 0\n",
    "#F.best_parameters['pm_y'] = 0\n"
   ]
  },
  {
   "cell_type": "code",
   "execution_count": 308,
   "metadata": {},
   "outputs": [
    {
     "data": {
      "image/png": "[encoded data removed]",
      "text/plain": [
       "<matplotlib.figure.Figure at 0x49de190>"
      ]
     },
     "metadata": {},
     "output_type": "display_data"
    }
   ],
   "source": [
    "rload = F.residuals(F.best_parameters)\n",
    "for ti, t in enumerate(F.tel_list):\n",
    "    c = F.tels == ti\n",
    "    plt.plot(F.mjds[c], rload[c], \n",
    "             \".\", markersize=1, label=t)\n",
    "plt.legend(loc=\"best\")\n",
    "plt.show()"
   ]
  },
  {
   "cell_type": "code",
   "execution_count": 309,
   "metadata": {},
   "outputs": [
    {
     "data": {
      "text/plain": [
       "175940.85862614470221"
      ]
     },
     "execution_count": 309,
     "metadata": {},
     "output_type": "execute_result"
    }
   ],
   "source": [
    "F.goodness_of_fit(F.best_parameters)"
   ]
  },
  {
   "cell_type": "code",
   "execution_count": 310,
   "metadata": {
    "collapsed": true
   },
   "outputs": [],
   "source": [
    "mfun = F.make_mfun()"
   ]
  },
  {
   "cell_type": "code",
   "execution_count": 311,
   "metadata": {},
   "outputs": [
    {
     "data": {
      "text/plain": [
       "175940.85862614470221"
      ]
     },
     "execution_count": 311,
     "metadata": {},
     "output_type": "execute_result"
    }
   ],
   "source": [
    "mfun(*[F.best_parameters[p] for p in F.parameters])"
   ]
  },
  {
   "cell_type": "code",
   "execution_count": null,
   "metadata": {
    "collapsed": true
   },
   "outputs": [],
   "source": []
  },
  {
   "cell_type": "code",
   "execution_count": 318,
   "metadata": {
    "collapsed": true
   },
   "outputs": [],
   "source": [
    "M = minuit_wrap.Fitter(F.make_mfun())"
   ]
  },
  {
   "cell_type": "code",
   "execution_count": 319,
   "metadata": {
    "collapsed": true
   },
   "outputs": [],
   "source": [
    "for p in F.parameters:\n",
    "    M.values[p] = F.best_parameters[p]\n",
    "    M.errors[p] = F.best_errors[p]\n",
    "M.set_normalization()"
   ]
  },
  {
   "cell_type": "code",
   "execution_count": 320,
   "metadata": {
    "collapsed": true
   },
   "outputs": [],
   "source": [
    "if False:\n",
    "    for p in F.parameters:\n",
    "        if not p.startswith(\"j_\"):\n",
    "            M.fixed[p] = True\n"
   ]
  },
  {
   "cell_type": "code",
   "execution_count": 321,
   "metadata": {
    "collapsed": true
   },
   "outputs": [],
   "source": [
    "#if F.linear_jumps:\n",
    "#    print \"linear jumps\"\n",
    "#    for p in F.parameters:\n",
    "#        if p.startswith(\"j_\"):\n",
    "#            M.fixed[p] = True\n"
   ]
  },
  {
   "cell_type": "code",
   "execution_count": 322,
   "metadata": {
    "collapsed": true
   },
   "outputs": [],
   "source": [
    "if False:\n",
    "    for p in F.parameters:\n",
    "        M.fixed[p] = False"
   ]
  },
  {
   "cell_type": "code",
   "execution_count": 323,
   "metadata": {},
   "outputs": [
    {
     "data": {
      "text/html": [
       "<hr>"
      ]
     },
     "metadata": {},
     "output_type": "display_data"
    },
    {
     "data": {
      "text/html": [
       "\n",
       "        <table>\n",
       "            <tr>\n",
       "                <td title=\"Minimum value of function\">FCN = 151134.380179</td>\n",
       "                <td title=\"Total number of call to FCN so far\">TOTAL NCALL = 2223</td>\n",
       "                <td title=\"Number of call in last migrad\">NCALLS = 2223</td>\n",
       "            </tr>\n",
       "            <tr>\n",
       "                <td title=\"Estimated distance to minimum\">EDM = 32.6844768644</td>\n",
       "                <td title=\"Maximum EDM definition of convergence\">GOAL EDM = 0.01</td>\n",
       "                <td title=\"Error def. Amount of increase in FCN to be defined as 1 standard deviation\">\n",
       "                UP = 1.0</td>\n",
       "            </tr>\n",
       "        </table>\n",
       "        \n",
       "        <table>\n",
       "            <tr>\n",
       "                <td align=\"center\" title=\"Validity of the migrad call\">Valid</td>\n",
       "                <td align=\"center\" title=\"Validity of parameters\">Valid Param</td>\n",
       "                <td align=\"center\" title=\"Is Covariance matrix accurate?\">Accurate Covar</td>\n",
       "                <td align=\"center\" title=\"Positive definiteness of covariance matrix\">PosDef</td>\n",
       "                <td align=\"center\" title=\"Was covariance matrix made posdef by adding diagonal element\">Made PosDef</td>\n",
       "            </tr>\n",
       "            <tr>\n",
       "                <td align=\"center\" style=\"background-color:#FF7878\">False</td>\n",
       "                <td align=\"center\" style=\"background-color:#92CCA6\">True</td>\n",
       "                <td align=\"center\" style=\"background-color:#FF7878\">False</td>\n",
       "                <td align=\"center\" style=\"background-color:#FF7878\">False</td>\n",
       "                <td align=\"center\" style=\"background-color:#FF7878\">True</td>\n",
       "            </tr>\n",
       "            <tr>\n",
       "                <td align=\"center\" title=\"Was last hesse call fail?\">Hesse Fail</td>\n",
       "                <td align=\"center\" title=\"Validity of covariance\">HasCov</td>\n",
       "                <td align=\"center\" title=\"Is EDM above goal EDM?\">Above EDM</td>\n",
       "                <td align=\"center\"></td>\n",
       "                <td align=\"center\" title=\"Did last migrad call reach max call limit?\">Reach calllim</td>\n",
       "            </tr>\n",
       "            <tr>\n",
       "                <td align=\"center\" style=\"background-color:#92CCA6\">False</td>\n",
       "                <td align=\"center\" style=\"background-color:#92CCA6\">True</td>\n",
       "                <td align=\"center\" style=\"background-color:#FF7878\">True</td>\n",
       "                <td align=\"center\"></td>\n",
       "                <td align=\"center\" style=\"background-color:#92CCA6\">False</td>\n",
       "            </tr>\n",
       "        </table>\n",
       "        "
      ]
     },
     "metadata": {},
     "output_type": "display_data"
    },
    {
     "data": {
      "text/html": [
       "\n",
       "        <table>\n",
       "            <tr>\n",
       "                <td><a href=\"#\" onclick=\"$('#IWNlUjDhcj').toggle()\">+</a></td>\n",
       "                <td title=\"Variable name\">Name</td>\n",
       "                <td title=\"Value of parameter\">Value</td>\n",
       "                <td title=\"Parabolic error\">Parab Error</td>\n",
       "                <td title=\"Minos lower error\">Minos Error-</td>\n",
       "                <td title=\"Minos upper error\">Minos Error+</td>\n",
       "                <td title=\"Lower limit of the parameter\">Limit-</td>\n",
       "                <td title=\"Upper limit of the parameter\">Limit+</td>\n",
       "                <td title=\"Is the parameter fixed in the fit\">FIXED</td>\n",
       "            </tr>\n",
       "        \n",
       "            <tr>\n",
       "                <td>1</td>\n",
       "                <td>asini_i</td>\n",
       "                <td>-24.4954</td>\n",
       "                <td>1.54996</td>\n",
       "                <td>0</td>\n",
       "                <td>0</td>\n",
       "                <td></td>\n",
       "                <td></td>\n",
       "                <td></td>\n",
       "            </tr>\n",
       "            \n",
       "            <tr>\n",
       "                <td>2</td>\n",
       "                <td>pb_i</td>\n",
       "                <td>5.04554</td>\n",
       "                <td>0.0587023</td>\n",
       "                <td>0</td>\n",
       "                <td>0</td>\n",
       "                <td></td>\n",
       "                <td></td>\n",
       "                <td></td>\n",
       "            </tr>\n",
       "            \n",
       "            <tr>\n",
       "                <td>3</td>\n",
       "                <td>eps1_i</td>\n",
       "                <td>-7.89949</td>\n",
       "                <td>0.376254</td>\n",
       "                <td>0</td>\n",
       "                <td>0</td>\n",
       "                <td></td>\n",
       "                <td></td>\n",
       "                <td></td>\n",
       "            </tr>\n",
       "            \n",
       "            <tr>\n",
       "                <td>4</td>\n",
       "                <td>eps2_i</td>\n",
       "                <td>-8.79097</td>\n",
       "                <td>0.512365</td>\n",
       "                <td>0</td>\n",
       "                <td>0</td>\n",
       "                <td></td>\n",
       "                <td></td>\n",
       "                <td></td>\n",
       "            </tr>\n",
       "            \n",
       "            <tr>\n",
       "                <td>5</td>\n",
       "                <td>tasc_i</td>\n",
       "                <td>-14.5265</td>\n",
       "                <td>0.143338</td>\n",
       "                <td>0</td>\n",
       "                <td>0</td>\n",
       "                <td></td>\n",
       "                <td></td>\n",
       "                <td></td>\n",
       "            </tr>\n",
       "            \n",
       "            <tr>\n",
       "                <td>6</td>\n",
       "                <td>acosi_i</td>\n",
       "                <td>5798.49</td>\n",
       "                <td>7.71909</td>\n",
       "                <td>0</td>\n",
       "                <td>0</td>\n",
       "                <td></td>\n",
       "                <td></td>\n",
       "                <td></td>\n",
       "            </tr>\n",
       "            \n",
       "            <tr>\n",
       "                <td>7</td>\n",
       "                <td>q_i</td>\n",
       "                <td>3701.05</td>\n",
       "                <td>0.426212</td>\n",
       "                <td>0</td>\n",
       "                <td>0</td>\n",
       "                <td></td>\n",
       "                <td></td>\n",
       "                <td></td>\n",
       "            </tr>\n",
       "            \n",
       "            <tr>\n",
       "                <td>8</td>\n",
       "                <td>asini_o</td>\n",
       "                <td>25.7455</td>\n",
       "                <td>0.609894</td>\n",
       "                <td>0</td>\n",
       "                <td>0</td>\n",
       "                <td></td>\n",
       "                <td></td>\n",
       "                <td></td>\n",
       "            </tr>\n",
       "            \n",
       "            <tr>\n",
       "                <td>9</td>\n",
       "                <td>pb_o</td>\n",
       "                <td>332.74</td>\n",
       "                <td>0.184638</td>\n",
       "                <td>0</td>\n",
       "                <td>0</td>\n",
       "                <td></td>\n",
       "                <td></td>\n",
       "                <td></td>\n",
       "            </tr>\n",
       "            \n",
       "            <tr>\n",
       "                <td>10</td>\n",
       "                <td>eps1_o</td>\n",
       "                <td>-0.093822</td>\n",
       "                <td>1.17226</td>\n",
       "                <td>0</td>\n",
       "                <td>0</td>\n",
       "                <td></td>\n",
       "                <td></td>\n",
       "                <td></td>\n",
       "            </tr>\n",
       "            \n",
       "            <tr>\n",
       "                <td>11</td>\n",
       "                <td>eps2_o</td>\n",
       "                <td>49.156</td>\n",
       "                <td>0.64178</td>\n",
       "                <td>0</td>\n",
       "                <td>0</td>\n",
       "                <td></td>\n",
       "                <td></td>\n",
       "                <td></td>\n",
       "            </tr>\n",
       "            \n",
       "            <tr>\n",
       "                <td>12</td>\n",
       "                <td>tasc_o</td>\n",
       "                <td>664.192</td>\n",
       "                <td>1.02824</td>\n",
       "                <td>0</td>\n",
       "                <td>0</td>\n",
       "                <td></td>\n",
       "                <td></td>\n",
       "                <td></td>\n",
       "            </tr>\n",
       "            \n",
       "            <tr>\n",
       "                <td>13</td>\n",
       "                <td>acosi_o</td>\n",
       "                <td>-462.667</td>\n",
       "                <td>0.432502</td>\n",
       "                <td>0</td>\n",
       "                <td>0</td>\n",
       "                <td></td>\n",
       "                <td></td>\n",
       "                <td></td>\n",
       "            </tr>\n",
       "            \n",
       "            <tr>\n",
       "                <td>14</td>\n",
       "                <td>delta_lan</td>\n",
       "                <td>0.635733</td>\n",
       "                <td>0.158195</td>\n",
       "                <td>0</td>\n",
       "                <td>0</td>\n",
       "                <td></td>\n",
       "                <td></td>\n",
       "                <td></td>\n",
       "            </tr>\n",
       "            \n",
       "            <tr>\n",
       "                <td>15</td>\n",
       "                <td>delta</td>\n",
       "                <td>-0.103164</td>\n",
       "                <td>0.000176641</td>\n",
       "                <td>0</td>\n",
       "                <td>0</td>\n",
       "                <td></td>\n",
       "                <td></td>\n",
       "                <td></td>\n",
       "            </tr>\n",
       "            \n",
       "            <tr>\n",
       "                <td>16</td>\n",
       "                <td>dgamma</td>\n",
       "                <td>2.06385</td>\n",
       "                <td>0.027249</td>\n",
       "                <td>0</td>\n",
       "                <td>0</td>\n",
       "                <td></td>\n",
       "                <td></td>\n",
       "                <td></td>\n",
       "            </tr>\n",
       "            \n",
       "            <tr>\n",
       "                <td>17</td>\n",
       "                <td>dbeta</td>\n",
       "                <td>2.63092</td>\n",
       "                <td>0.0233519</td>\n",
       "                <td>0</td>\n",
       "                <td>0</td>\n",
       "                <td></td>\n",
       "                <td></td>\n",
       "                <td></td>\n",
       "            </tr>\n",
       "            \n",
       "            </table>\n",
       "        \n",
       "            <pre id=\"IWNlUjDhcj\" style=\"display:none;\">\n",
       "            <textarea rows=\"40\" cols=\"50\" onclick=\"this.select()\" readonly>\\begin{tabular}{|c|r|r|r|r|r|r|r|c|}\n",
       "\\hline\n",
       " & Name & Value & Para Error & Error+ & Error- & Limit+ & Limit- & FIXED\\\\\n",
       "\\hline\n",
       "1 & $asini_{i}$ & -2.450e+01 & 1.550e+00 &  &  &  &  & \\\\\n",
       "\\hline\n",
       "2 & $pb_{i}$ & 5.046e+00 & 5.870e-02 &  &  &  &  & \\\\\n",
       "\\hline\n",
       "3 & $eps1_{i}$ & -7.899e+00 & 3.763e-01 &  &  &  &  & \\\\\n",
       "\\hline\n",
       "4 & $eps2_{i}$ & -8.791e+00 & 5.124e-01 &  &  &  &  & \\\\\n",
       "\\hline\n",
       "5 & $tasc_{i}$ & -1.453e+01 & 1.433e-01 &  &  &  &  & \\\\\n",
       "\\hline\n",
       "6 & $acosi_{i}$ & 5.798e+03 & 7.719e+00 &  &  &  &  & \\\\\n",
       "\\hline\n",
       "7 & $q_{i}$ & 3.701e+03 & 4.262e-01 &  &  &  &  & \\\\\n",
       "\\hline\n",
       "8 & $asini_{o}$ & 2.575e+01 & 6.099e-01 &  &  &  &  & \\\\\n",
       "\\hline\n",
       "9 & $pb_{o}$ & 3.327e+02 & 1.846e-01 &  &  &  &  & \\\\\n",
       "\\hline\n",
       "10 & $eps1_{o}$ & -9.382e-02 & 1.172e+00 &  &  &  &  & \\\\\n",
       "\\hline\n",
       "11 & $eps2_{o}$ & 4.916e+01 & 6.418e-01 &  &  &  &  & \\\\\n",
       "\\hline\n",
       "12 & $tasc_{o}$ & 6.642e+02 & 1.028e+00 &  &  &  &  & \\\\\n",
       "\\hline\n",
       "13 & $acosi_{o}$ & -4.627e+02 & 4.325e-01 &  &  &  &  & \\\\\n",
       "\\hline\n",
       "14 & $\\delta_{lan}$ & 6.357e-01 & 1.582e-01 &  &  &  &  & \\\\\n",
       "\\hline\n",
       "15 & $\\delta$ & -1.032e-01 & 1.766e-04 &  &  &  &  & \\\\\n",
       "\\hline\n",
       "16 & dgamma & 2.064e+00 & 2.725e-02 &  &  &  &  & \\\\\n",
       "\\hline\n",
       "17 & dbeta & 2.631e+00 & 2.335e-02 &  &  &  &  & \\\\\n",
       "\\hline\n",
       "\\end{tabular}</textarea>\n",
       "            </pre>\n",
       "            "
      ]
     },
     "metadata": {},
     "output_type": "display_data"
    },
    {
     "data": {
      "text/html": [
       "<hr>"
      ]
     },
     "metadata": {},
     "output_type": "display_data"
    },
    {
     "data": {
      "text/plain": [
       "({'hesse_failed': False, 'has_reached_call_limit': False, 'has_accurate_covar': False, 'has_posdef_covar': False, 'up': 1.0, 'edm': 32.68447686436626, 'is_valid': False, 'is_above_max_edm': True, 'has_covariance': True, 'has_made_posdef_covar': True, 'has_valid_parameters': True, 'fval': 151134.3801792917, 'nfcn': 2223},\n",
       " [{'is_const': False, 'name': 'asini_i', 'has_limits': False, 'value': -24.495448297798415, 'number': 0, 'has_lower_limit': False, 'upper_limit': 0.0, 'lower_limit': 0.0, 'has_upper_limit': False, 'error': 1.5499574249537338, 'is_fixed': False},\n",
       "  {'is_const': False, 'name': 'pb_i', 'has_limits': False, 'value': 5.045544193549022, 'number': 1, 'has_lower_limit': False, 'upper_limit': 0.0, 'lower_limit': 0.0, 'has_upper_limit': False, 'error': 0.05870230588129517, 'is_fixed': False},\n",
       "  {'is_const': False, 'name': 'eps1_i', 'has_limits': False, 'value': -7.8994881021597445, 'number': 2, 'has_lower_limit': False, 'upper_limit': 0.0, 'lower_limit': 0.0, 'has_upper_limit': False, 'error': 0.37625352583019156, 'is_fixed': False},\n",
       "  {'is_const': False, 'name': 'eps2_i', 'has_limits': False, 'value': -8.790969608123001, 'number': 3, 'has_lower_limit': False, 'upper_limit': 0.0, 'lower_limit': 0.0, 'has_upper_limit': False, 'error': 0.5123647622827994, 'is_fixed': False},\n",
       "  {'is_const': False, 'name': 'tasc_i', 'has_limits': False, 'value': -14.526450602152032, 'number': 4, 'has_lower_limit': False, 'upper_limit': 0.0, 'lower_limit': 0.0, 'has_upper_limit': False, 'error': 0.1433384119309616, 'is_fixed': False},\n",
       "  {'is_const': False, 'name': 'acosi_i', 'has_limits': False, 'value': 5798.4933523344, 'number': 5, 'has_lower_limit': False, 'upper_limit': 0.0, 'lower_limit': 0.0, 'has_upper_limit': False, 'error': 7.719092089247027, 'is_fixed': False},\n",
       "  {'is_const': False, 'name': 'q_i', 'has_limits': False, 'value': 3701.048290554498, 'number': 6, 'has_lower_limit': False, 'upper_limit': 0.0, 'lower_limit': 0.0, 'has_upper_limit': False, 'error': 0.4262116015594835, 'is_fixed': False},\n",
       "  {'is_const': False, 'name': 'asini_o', 'has_limits': False, 'value': 25.745533503807074, 'number': 7, 'has_lower_limit': False, 'upper_limit': 0.0, 'lower_limit': 0.0, 'has_upper_limit': False, 'error': 0.6098937574176939, 'is_fixed': False},\n",
       "  {'is_const': False, 'name': 'pb_o', 'has_limits': False, 'value': 332.74049214585534, 'number': 8, 'has_lower_limit': False, 'upper_limit': 0.0, 'lower_limit': 0.0, 'has_upper_limit': False, 'error': 0.18463808043442623, 'is_fixed': False},\n",
       "  {'is_const': False, 'name': 'eps1_o', 'has_limits': False, 'value': -0.09382203462363353, 'number': 9, 'has_lower_limit': False, 'upper_limit': 0.0, 'lower_limit': 0.0, 'has_upper_limit': False, 'error': 1.1722649767733, 'is_fixed': False},\n",
       "  {'is_const': False, 'name': 'eps2_o', 'has_limits': False, 'value': 49.15604085394121, 'number': 10, 'has_lower_limit': False, 'upper_limit': 0.0, 'lower_limit': 0.0, 'has_upper_limit': False, 'error': 0.6417798557315747, 'is_fixed': False},\n",
       "  {'is_const': False, 'name': 'tasc_o', 'has_limits': False, 'value': 664.1916639710139, 'number': 11, 'has_lower_limit': False, 'upper_limit': 0.0, 'lower_limit': 0.0, 'has_upper_limit': False, 'error': 1.0282401699086623, 'is_fixed': False},\n",
       "  {'is_const': False, 'name': 'acosi_o', 'has_limits': False, 'value': -462.6665915919592, 'number': 12, 'has_lower_limit': False, 'upper_limit': 0.0, 'lower_limit': 0.0, 'has_upper_limit': False, 'error': 0.4325023397596428, 'is_fixed': False},\n",
       "  {'is_const': False, 'name': 'delta_lan', 'has_limits': False, 'value': 0.6357328139155856, 'number': 13, 'has_lower_limit': False, 'upper_limit': 0.0, 'lower_limit': 0.0, 'has_upper_limit': False, 'error': 0.15819495765396033, 'is_fixed': False},\n",
       "  {'is_const': False, 'name': 'delta', 'has_limits': False, 'value': -0.1031635722574715, 'number': 14, 'has_lower_limit': False, 'upper_limit': 0.0, 'lower_limit': 0.0, 'has_upper_limit': False, 'error': 0.00017664077561938978, 'is_fixed': False},\n",
       "  {'is_const': False, 'name': 'dgamma', 'has_limits': False, 'value': 2.0638502444498745, 'number': 15, 'has_lower_limit': False, 'upper_limit': 0.0, 'lower_limit': 0.0, 'has_upper_limit': False, 'error': 0.027249046497440307, 'is_fixed': False},\n",
       "  {'is_const': False, 'name': 'dbeta', 'has_limits': False, 'value': 2.6309182085843097, 'number': 16, 'has_lower_limit': False, 'upper_limit': 0.0, 'lower_limit': 0.0, 'has_upper_limit': False, 'error': 0.02335186646233856, 'is_fixed': False}])"
      ]
     },
     "execution_count": 323,
     "metadata": {},
     "output_type": "execute_result"
    }
   ],
   "source": [
    "M.best_filename = \"fitter_best_values.pickle\"\n",
    "M.tol = 100\n",
    "#M.eps = 1e-6\n",
    "M.strategy = 1\n",
    "M.printMode = 3\n",
    "M.migrad()"
   ]
  },
  {
   "cell_type": "code",
   "execution_count": 37,
   "metadata": {},
   "outputs": [
    {
     "ename": "AttributeError",
     "evalue": "'iminuit._libiminuit.Minuit' object has no attribute 'printMode'",
     "output_type": "error",
     "traceback": [
      "\u001b[0;31m---------------------------------------------------------------------------\u001b[0m",
      "\u001b[0;31mAttributeError\u001b[0m                            Traceback (most recent call last)",
      "\u001b[0;32m<ipython-input-37-312e011255c2>\u001b[0m in \u001b[0;36m<module>\u001b[0;34m()\u001b[0m\n\u001b[1;32m      2\u001b[0m \u001b[0;31m#M.eps = 1e-6\u001b[0m\u001b[0;34m\u001b[0m\u001b[0;34m\u001b[0m\u001b[0m\n\u001b[1;32m      3\u001b[0m \u001b[0mM\u001b[0m\u001b[0;34m.\u001b[0m\u001b[0mstrategy\u001b[0m \u001b[0;34m=\u001b[0m \u001b[0;36m1\u001b[0m\u001b[0;34m\u001b[0m\u001b[0m\n\u001b[0;32m----> 4\u001b[0;31m \u001b[0mM\u001b[0m\u001b[0;34m.\u001b[0m\u001b[0mprintMode\u001b[0m \u001b[0;34m=\u001b[0m \u001b[0;36m3\u001b[0m\u001b[0;34m\u001b[0m\u001b[0m\n\u001b[0m\u001b[1;32m      5\u001b[0m \u001b[0mM\u001b[0m\u001b[0;34m.\u001b[0m\u001b[0msimplex\u001b[0m\u001b[0;34m(\u001b[0m\u001b[0;34m)\u001b[0m\u001b[0;34m\u001b[0m\u001b[0m\n",
      "\u001b[0;32m/data2/people/aarchiba/projects/triplesystem/code-v1/minuit_wrap.py\u001b[0m in \u001b[0;36mprintMode\u001b[0;34m(self, v)\u001b[0m\n\u001b[1;32m     75\u001b[0m     \u001b[0;34m@\u001b[0m\u001b[0mprintMode\u001b[0m\u001b[0;34m.\u001b[0m\u001b[0msetter\u001b[0m\u001b[0;34m\u001b[0m\u001b[0m\n\u001b[1;32m     76\u001b[0m     \u001b[0;32mdef\u001b[0m \u001b[0mprintMode\u001b[0m\u001b[0;34m(\u001b[0m\u001b[0mself\u001b[0m\u001b[0;34m,\u001b[0m \u001b[0mv\u001b[0m\u001b[0;34m)\u001b[0m\u001b[0;34m:\u001b[0m\u001b[0;34m\u001b[0m\u001b[0m\n\u001b[0;32m---> 77\u001b[0;31m         \u001b[0mself\u001b[0m\u001b[0;34m.\u001b[0m\u001b[0m_minuit\u001b[0m\u001b[0;34m.\u001b[0m\u001b[0mprintMode\u001b[0m \u001b[0;34m=\u001b[0m \u001b[0mv\u001b[0m\u001b[0;34m\u001b[0m\u001b[0m\n\u001b[0m\u001b[1;32m     78\u001b[0m     \u001b[0;34m@\u001b[0m\u001b[0mproperty\u001b[0m\u001b[0;34m\u001b[0m\u001b[0m\n\u001b[1;32m     79\u001b[0m     \u001b[0;32mdef\u001b[0m \u001b[0meps\u001b[0m\u001b[0;34m(\u001b[0m\u001b[0mself\u001b[0m\u001b[0;34m)\u001b[0m\u001b[0;34m:\u001b[0m\u001b[0;34m\u001b[0m\u001b[0m\n",
      "\u001b[0;31mAttributeError\u001b[0m: 'iminuit._libiminuit.Minuit' object has no attribute 'printMode'"
     ]
    }
   ],
   "source": [
    "M.tol = 100\n",
    "#M.eps = 1e-6\n",
    "M.strategy = 1\n",
    "M.printMode = 3\n",
    "M.simplex()"
   ]
  },
  {
   "cell_type": "code",
   "execution_count": null,
   "metadata": {
    "collapsed": true
   },
   "outputs": [],
   "source": [
    "for (i,p) in enumerate(F.parameters):\n",
    "    M.values[p] = M.best_values[p]\n",
    "    M.errors[p] = F.best_errors[p]\n",
    "M.set_normalization() "
   ]
  },
  {
   "cell_type": "code",
   "execution_count": null,
   "metadata": {
    "collapsed": true
   },
   "outputs": [],
   "source": [
    "best_so_far = np.load(\"emcee-chains/1045.nimrod/best_so_far.npy\")\n",
    "for (i,p) in enumerate(F.parameters):\n",
    "    M.values[p] = best_so_far[i]\n",
    "    M.errors[p] = F.best_errors[p]\n",
    "M.set_normalization()    "
   ]
  },
  {
   "cell_type": "code",
   "execution_count": null,
   "metadata": {
    "collapsed": true
   },
   "outputs": [],
   "source": [
    "M.tol = 100\n",
    "M.eps = 1e-6\n",
    "M.strategy = 1\n",
    "M.printMode = 3\n",
    "M.migrad()"
   ]
  },
  {
   "cell_type": "code",
   "execution_count": null,
   "metadata": {
    "collapsed": true
   },
   "outputs": [],
   "source": [
    "for p in F.parameters:\n",
    "    print p, (M.best_values[p]-F.best_parameters[p])/F.best_errors[p]"
   ]
  },
  {
   "cell_type": "code",
   "execution_count": null,
   "metadata": {
    "collapsed": true
   },
   "outputs": [],
   "source": [
    "M.best_values"
   ]
  },
  {
   "cell_type": "code",
   "execution_count": null,
   "metadata": {
    "collapsed": true
   },
   "outputs": [],
   "source": [
    "mfun(*[M.best_values[p] for p in F.parameters])"
   ]
  },
  {
   "cell_type": "code",
   "execution_count": null,
   "metadata": {
    "collapsed": true
   },
   "outputs": [],
   "source": [
    "if False:\n",
    "    import cPickle as pickle\n",
    "    with open(M.best_filename,\"wb\") as f:\n",
    "        pickle.dump(M.best_values, f)"
   ]
  },
  {
   "cell_type": "code",
   "execution_count": null,
   "metadata": {
    "collapsed": true
   },
   "outputs": [],
   "source": [
    "M._minuit.errors"
   ]
  },
  {
   "cell_type": "code",
   "execution_count": null,
   "metadata": {
    "collapsed": true
   },
   "outputs": [],
   "source": [
    "new_walkers = np.load(\"emcee-chains/845.nimrod/new_walkers.npy\")\n",
    "new_walkers = new_walkers.reshape((-1,new_walkers.shape[-1]))\n",
    "new_walkers -= np.mean(new_walkers,axis=0)\n",
    "delta = new_walkers[np.random.randint(new_walkers.shape[0])]\n",
    "for (i,p) in enumerate(F.parameters):\n",
    "    M.values[p] = M.best_values[p] + delta[i]\n",
    "    M.errors[p] = F.best_errors[p]\n",
    "M.set_normalization() "
   ]
  },
  {
   "cell_type": "code",
   "execution_count": null,
   "metadata": {
    "collapsed": true
   },
   "outputs": [],
   "source": []
  }
 ],
 "metadata": {
  "kernelspec": {
   "display_name": "Python 2",
   "language": "python",
   "name": "python2"
  },
  "language_info": {
   "codemirror_mode": {
    "name": "ipython",
    "version": 2
   },
   "file_extension": ".py",
   "mimetype": "text/x-python",
   "name": "python",
   "nbconvert_exporter": "python",
   "pygments_lexer": "ipython2",
   "version": "2.7.3"
  }
 },
 "nbformat": 4,
 "nbformat_minor": 1
}
