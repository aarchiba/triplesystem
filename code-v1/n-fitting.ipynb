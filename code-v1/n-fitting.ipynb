{
 "cells": [
  {
   "cell_type": "code",
   "execution_count": 2,
   "metadata": {},
   "outputs": [],
   "source": [
    "%load_ext autoreload\n",
    "\n",
    "%autoreload 2"
   ]
  },
  {
   "cell_type": "code",
   "execution_count": 3,
   "metadata": {},
   "outputs": [],
   "source": [
    "from glob import glob\n",
    "import os\n",
    "import pickle\n",
    "\n",
    "import scipy.linalg\n",
    "import matplotlib.pyplot as plt\n",
    "\n",
    "import emcee\n",
    "\n",
    "import kepler\n",
    "import threebody\n",
    "\n",
    "import minuit_wrap\n",
    "%matplotlib inline"
   ]
  },
  {
   "cell_type": "code",
   "execution_count": 4,
   "metadata": {},
   "outputs": [],
   "source": [
    "import logging\n",
    "logger = logging.getLogger()\n",
    "\n",
    "#logger.setLevel(logging.DEBUG)\n",
    "fh = logging.FileHandler(\"fitting.log\")\n",
    "formatter = logging.Formatter('%(asctime)s - %(module)s:%(funcName)s:%(lineno)s - %(message)s')\n",
    "fh.setFormatter(formatter)\n",
    "logger.addHandler(fh)\n"
   ]
  },
  {
   "cell_type": "code",
   "execution_count": 5,
   "metadata": {},
   "outputs": [],
   "source": [
    "# numpy binds itself to one CPU; unbind it\n",
    "#import os\n",
    "#os.system(\"taskset -p 0xff %d\" % os.getpid());"
   ]
  },
  {
   "cell_type": "code",
   "execution_count": 6,
   "metadata": {},
   "outputs": [],
   "source": [
    "#import matplotlib\n",
    "#matplotlib.rcParams['savefig.dpi'] = 120"
   ]
  },
  {
   "cell_type": "code",
   "execution_count": 26,
   "metadata": {},
   "outputs": [],
   "source": [
    "#F = threebody.Fitter(\"0337+17-scott-2013-06-06\",tzrmjd_middle='weighted',priors=['dbeta','dgamma'],ppn_mode='heavysimple')\n",
    "#F = threebody.Fitter(\"0337+17-scott-2013-06-06\",\n",
    "#    tzrmjd_middle='weighted',priors=['dbeta','dgamma'],\n",
    "#    use_quad=True,tol=1e-20,ppn_mode='heavysimple')\n",
    "#F = threebody.Fitter(\"0337+17-scott-2013-06-06\",tzrmjd_middle='weighted',\n",
    "#    only_tels=['AO1440','AO1350','GBT1500'],\n",
    "#    ppn_mode='heavysimple')\n",
    "#F = threebody.Fitter(\"0337+17-scott-2013-06-06\",tzrmjd_middle='weighted',\n",
    "#    only_tels=['WSRT1400'],\n",
    "#    ppn_mode='heavysimple')\n",
    "#F = threebody.Fitter(files=\"0337+17-scott-2013-08-29\",tzrmjd_middle='weighted',\n",
    "#                     parfile=\"0337_tempo2_nobinary.par\",\n",
    "#                     fit_pos=True,\n",
    "#                     ppn_mode='GR')\n",
    "#F = threebody.Fitter(files=\"0337+17-scott-2013-08-29\",tzrmjd_middle='auto',\n",
    "#                     parfile=\"0337_modified.par\",\n",
    "#                     fit_pos=True,\n",
    "#                     fit_pm=True,\n",
    "#                     fit_px=True,\n",
    "#                     t2_astrometry=True,\n",
    "#                     ppn_mode='GR')\n",
    "#F = threebody.Fitter(files=\"0337+17-scott-2013-08-29\",tzrmjd_middle='auto',\n",
    "#                     parfile=\"0337_modified.par\",\n",
    "#                     fit_pos=True,\n",
    "#                     fit_pm=True,\n",
    "#                     fit_px=True,\n",
    "#                     t2_astrometry=True,\n",
    "#                     kopeikin=True,\n",
    "#                     ppn_mode='heavysimple')\n",
    "if False:\n",
    "    fitter_params = dict(files=\"0337+17-scott-2013-08-29\",tzrmjd_middle='auto',\n",
    "                     parfile=\"0337_tempo2_pm.par\",\n",
    "                     fit_pos=True,\n",
    "                     fit_pm=False,\n",
    "                     fit_px=True,\n",
    "                     t2_astrometry=True,\n",
    "                     kopeikin=True,\n",
    "                     priors=('dbeta','dgamma'),\n",
    "                     ppn_mode='heavysimple')\n",
    "elif False:\n",
    "    fitter_params = dict(files=\"0337+17-scott-2013-08-29\",tzrmjd_middle='auto',\n",
    "                     parfile=\"0337_tempo2_pm.par\",\n",
    "                     fit_pos=True,\n",
    "                     fit_pm=False,\n",
    "                     fit_px=True,\n",
    "                     t2_astrometry=True,\n",
    "                     kopeikin=True,\n",
    "                     shapiro=False,\n",
    "                     priors=('dbeta','dgamma'),\n",
    "                     ppn_mode='heavysimple')\n",
    "elif False:\n",
    "    fitter_params = dict(files=\"0337+17-scott-2013-08-29\",tzrmjd_middle='auto',\n",
    "                     parfile=\"0337_tempo2_pm.par\",\n",
    "                     fit_pos=True,\n",
    "                     fit_pm=False,\n",
    "                     fit_px=True,\n",
    "                     t2_astrometry=True,\n",
    "                     kopeikin=True,\n",
    "                     general=False,\n",
    "                     priors=('dbeta','dgamma'),\n",
    "                     ppn_mode='heavysimple')\n",
    "elif False:\n",
    "    fitter_params = dict(files=\"0337+17-scott-2013-08-29\",tzrmjd_middle='auto',\n",
    "                     parfile=\"0337_tempo2_pm.par\",\n",
    "                     fit_pos=True,\n",
    "                     fit_pm=False,\n",
    "                     fit_px=True,\n",
    "                     t2_astrometry=True,\n",
    "                     kopeikin=True,\n",
    "                     ppn_mode=None)\n",
    "elif False:\n",
    "    fitter_params = dict(files=\"0337+17-scott-2013-08-29\",tzrmjd_middle='auto',\n",
    "                     parfile=\"0337_tempo2_px.par\",\n",
    "                     fit_pos=True,\n",
    "                     fit_pm=False,\n",
    "                     fit_px=True,\n",
    "                     t2_astrometry=True,\n",
    "                     kopeikin=True,\n",
    "                     ppn_mode='GR')\n",
    "elif False:\n",
    "    fitter_params = dict(files=\"0337+17-scott-2013-08-29\",tzrmjd_middle='auto',\n",
    "                     parfile=\"0337_tempo2_pm.par\",\n",
    "                     fit_pos=True,\n",
    "                     fit_pm=False,\n",
    "                     fit_px=True,\n",
    "                     t2_astrometry=True,\n",
    "                     kopeikin=True,\n",
    "                     ppn_mode='GR')\n",
    "elif False:\n",
    "    fitter_params = dict(files=\"0337+17-scott-2014-01-22\",\n",
    "                     tzrmjd_middle='auto',\n",
    "                     parfile=\"0337_tempo2_px_optical.par\",\n",
    "                     fit_pos=True,\n",
    "                     fit_pm=False,\n",
    "                     fit_px=False,\n",
    "                     t2_astrometry=True,\n",
    "                     kopeikin=True,\n",
    "                     ppn_mode='GR')\n",
    "elif False:\n",
    "    fitter_params = dict(files=\"0337+17-scott-2014-01-22\",\n",
    "                     tzrmjd_middle='auto',\n",
    "                     parfile=\"0337_tempo2_px_optical.par\",\n",
    "                     fit_pos=True,\n",
    "                     fit_pm=False,\n",
    "                     fit_px=False,\n",
    "                     t2_astrometry=True,\n",
    "                     kopeikin=False,\n",
    "                     ppn_mode='GR')\n",
    "elif False:\n",
    "    fitter_params = dict(files=\"0337+17-scott-2014-01-22\",\n",
    "                     tzrmjd_middle='auto',\n",
    "                     parfile=\"0337_tempo2_px_optical.par\",\n",
    "                     fit_pos=True,\n",
    "                     fit_pm=False,\n",
    "                     fit_px=False,\n",
    "                     t2_astrometry=True,\n",
    "                     kopeikin=False,\n",
    "                     priors=('dbeta','dgamma'),\n",
    "                     ppn_mode='heavysimple')\n",
    "elif False:\n",
    "    fitter_params = dict(files=\"0337+17-anne-2014-01-28\",\n",
    "                     tzrmjd_middle='auto',\n",
    "                     parfile=\"0337_tempo2_px_optical.par\",\n",
    "                     fit_pos=True,\n",
    "                     fit_pm=False,\n",
    "                     fit_px=False,\n",
    "                     t2_astrometry=True,\n",
    "                     kopeikin=False,\n",
    "                     priors=('dbeta','dgamma'),\n",
    "                     ppn_mode='heavysimple')\n",
    "elif False:\n",
    "    fitter_params = dict(files=\"0337+17-anne-2014-02-04c\",\n",
    "                     tzrmjd_middle='auto',\n",
    "                     parfile=\"0337_tempo2_px_optical.par\",\n",
    "                     fit_pos=True,\n",
    "                     fit_pm=False,\n",
    "                     fit_px=False,\n",
    "                     t2_astrometry=True,\n",
    "                     kopeikin=False,\n",
    "                     ppn_mode='GR')\n",
    "elif False:\n",
    "    fitter_params = dict(files=\"0337+17-anne-2014-02-04c\",\n",
    "                     tzrmjd_middle='auto',\n",
    "                     parfile=\"0337_tempo_px_optical.par\",\n",
    "                     fit_pos=False,\n",
    "                     fit_pm=False,\n",
    "                     fit_px=False,\n",
    "                     t2_astrometry=True,\n",
    "                     kopeikin=False,\n",
    "                     ppn_mode='GR')\n",
    "elif False:\n",
    "    fitter_params = dict(files=\"0337+17-anne-2014-09-22\",\n",
    "                     tzrmjd_middle='auto',\n",
    "                     parfile=\"0337_tempo_px_optical.par\",\n",
    "                     fit_pos=True,\n",
    "                     fit_pm=False,\n",
    "                     fit_px=False,\n",
    "                     t2_astrometry=True,\n",
    "                     kopeikin=False,\n",
    "                     ppn_mode='GR')\n",
    "elif False:\n",
    "    fitter_params = dict(files=\"0337+17-anne-2014-09-22\",\n",
    "                     tzrmjd_middle='auto',\n",
    "                     parfile=\"0337_tempo2_px_optical.par\",\n",
    "                     fit_pos=True,\n",
    "                     fit_pm=False,\n",
    "                     fit_px=False,\n",
    "                     t2_astrometry=True,\n",
    "                     kopeikin=False,\n",
    "                     priors=('dbeta','dgamma'),\n",
    "                     ppn_mode='heavysimple')\n",
    "elif False:\n",
    "    fitter_params = dict(files=\"0337+17-anne-2014-09-29\",\n",
    "                     tzrmjd_middle='auto',\n",
    "                     parfile=\"0337_tempo2_px_optical.par\",\n",
    "                     fit_pos=True,\n",
    "                     fit_pm=False,\n",
    "                     fit_px=False,\n",
    "                     t2_astrometry=True,\n",
    "                     kopeikin=False,\n",
    "                     priors=('dbeta','dgamma'),\n",
    "                     ppn_mode='heavysimple')\n",
    "elif False:\n",
    "    fitter_params = dict(files=\"0337+17-anne-2014-09-22\",\n",
    "                     tzrmjd_middle='auto',\n",
    "                     parfile=\"0337_tempo2_px_optical.par\",\n",
    "                     fit_pos=True,\n",
    "                     fit_pm=False,\n",
    "                     fit_px=False,\n",
    "                     t2_astrometry=True,\n",
    "                     kopeikin=False,\n",
    "                     only_tels=('GBT1500','WSRT1400'),\n",
    "                     priors=('dbeta','dgamma'),\n",
    "                     ppn_mode='heavysimple')\n",
    "elif False:\n",
    "    fitter_params = dict(files=\"0337+17-anne-2014-09-22\",\n",
    "                     tzrmjd_middle='auto',\n",
    "                     parfile=\"0337_tempo2_px_optical.par\",\n",
    "                     fit_pos=True,\n",
    "                     fit_pm=False,\n",
    "                     fit_px=False,\n",
    "                     t2_astrometry=True,\n",
    "                     efac=(('AO1440',1.45),\n",
    "                           ('GBT1500',1.11),\n",
    "                           ('WSRT1400',1.45)),\n",
    "                     kopeikin=False,\n",
    "                     priors=('dbeta','dgamma'),\n",
    "                     ppn_mode='heavysimple')\n",
    "elif False:\n",
    "    fitter_params = dict(files=\"0337_6vec_table_150131_pulses.fits\",\n",
    "                     tzrmjd_middle='auto',\n",
    "                     fit_pos=False,\n",
    "                     fit_pm=False,\n",
    "                     fit_px=False,\n",
    "                     t2_astrometry=False,\n",
    "                     efac=(('AO1440',1.45),\n",
    "                           ('GBT1500',1.11),\n",
    "                           ('GBT1500s',1.11),\n",
    "                           ('WSRT1400',1.45)),\n",
    "                     kopeikin=False,\n",
    "                     priors=('dbeta','dgamma'),\n",
    "                     linear_jumps=True,\n",
    "                     ppn_mode='heavysimple')\n",
    "elif False:\n",
    "    fitter_params = dict(files=\"0337+17-anne-2014-09-22\",\n",
    "                     tzrmjd_middle='auto',\n",
    "                     parfile=\"0337_tempo2_px_optical.par\",\n",
    "                     fit_pos=True,\n",
    "                     fit_pm=True,\n",
    "                     fit_px=True,\n",
    "                     t2_astrometry=True,\n",
    "                     efac=(('AO1440',1.45),\n",
    "                           ('GBT1500',1.11),\n",
    "                           ('WSRT1400',1.45)),\n",
    "                     kopeikin=False,\n",
    "                     priors=('dbeta','dgamma'),\n",
    "                     ppn_mode='heavysimple')\n",
    "elif True:\n",
    "    fitter_params = dict(files=\"0337+17-anne-2014-09-22\",\n",
    "                     tzrmjd_middle='auto',\n",
    "                     parfile=\"0337_tempo2_px_optical.par\",\n",
    "                     fit_pos=True,\n",
    "                     fit_pm=True,\n",
    "                     fit_px=True,\n",
    "                     t2_astrometry=True,\n",
    "                     efac=(('AO1440',1.45),\n",
    "                           ('GBT1500',1.11),\n",
    "                           ('WSRT1400',1.45)),\n",
    "                     kopeikin=False,\n",
    "                     priors=('dbeta','dgamma'),\n",
    "                     ppn_mode='heavysimple')\n",
    "else:\n",
    "    runid = \"7983\"\n",
    "    fitter_params = pickle.load(open(\"emcee-chains/%s.nimrod/fitter_params.pickle\" % runid))\n",
    "#F = threebody.Fitter(\"0337+17-scott-2013-06-06\",tzrmjd_middle='weighted',ppn_mode='GR')\n",
    "#F = threebody.Fitter(\"0337+17-scott-2013-06-06\",tzrmjd_middle='weighted',general=False,ppn_mode='GR')\n",
    "#F = threebody.Fitter(\"0337+17-scott-2013-06-06\",tzrmjd_middle=True)\n",
    "with open(\"fitter_params.pickle\",\"wb\") as f:\n",
    "    pickle.dump(fitter_params,f)\n",
    "F = threebody.Fitter(**fitter_params)"
   ]
  },
  {
   "cell_type": "code",
   "execution_count": 27,
   "metadata": {},
   "outputs": [
    {
     "data": {
      "text/plain": [
       "(['AO1440', 'GBT1500', 'WSRT1400'], 34570)"
      ]
     },
     "execution_count": 27,
     "metadata": {},
     "output_type": "execute_result"
    }
   ],
   "source": [
    "F.tel_list, len(F.mjds)"
   ]
  },
  {
   "cell_type": "code",
   "execution_count": 28,
   "metadata": {},
   "outputs": [
    {
     "name": "stdout",
     "output_type": "stream",
     "text": [
      "['asini_i', 'pb_i', 'eps1_i', 'eps2_i', 'tasc_i', 'acosi_i', 'q_i', 'asini_o', 'pb_o', 'eps1_o', 'eps2_o', 'tasc_o', 'acosi_o', 'delta_lan', 'delta', 'dgamma', 'dbeta', 'd_RAJ', 'd_DECJ', 'd_PMRA', 'd_PMDEC', 'd_PX', 'j_AO1440', 'j_GBT1500']\n",
      "24\n"
     ]
    }
   ],
   "source": [
    "print F.parameters\n",
    "print len(F.parameters)"
   ]
  },
  {
   "cell_type": "code",
   "execution_count": 29,
   "metadata": {},
   "outputs": [
    {
     "data": {
      "text/plain": [
       "{'acosi_i': 1.4908646291229854471,\n",
       " 'acosi_o': 91.462096717677266948,\n",
       " 'asini_i': 1.2175235157278100291,\n",
       " 'asini_o': 74.672544317576733962,\n",
       " 'd_DECJ': 3.3051655762772815761e-07,\n",
       " 'd_PMDEC': 5.4388900807450304949e-10,\n",
       " 'd_PMRA': -1.224982018501526943e-10,\n",
       " 'd_PX': 0.13493845989349860515,\n",
       " 'd_RAJ': -5.774486778604892854e-08,\n",
       " 'dbeta': 0.00024941732279330518386,\n",
       " 'delta': -2.5970252962828613829e-06,\n",
       " 'delta_lan': 2.2376751101362222439e-06,\n",
       " 'dgamma': 3.5982842019324150652e-06,\n",
       " 'eps1_i': 0.00068979641917213052497,\n",
       " 'eps1_o': 0.035185583677067633576,\n",
       " 'eps2_i': -9.1383856624465516534e-05,\n",
       " 'eps2_o': -0.0034643325179809715897,\n",
       " 'f0': 365.95336311711874974,\n",
       " 'j_AO1350': 5.364017648361716e-05,\n",
       " 'j_AO1440': -0.00055118737802055722056,\n",
       " 'j_AO327': 6.457616019511097e-05,\n",
       " 'j_GBT1500': -0.00053772415903362277698,\n",
       " 'j_GBT350': 1.8912917353649655e-05,\n",
       " 'j_GBT820': 6.712253154451129e-05,\n",
       " 'j_NCY1400': 0.000675,\n",
       " 'j_WSRT350': -3.6063906052781444e-05,\n",
       " 'pb_i': 1.6293884869075564751,\n",
       " 'pb_o': 327.25601683610902665,\n",
       " 'ppn_mode': 'heavysimple',\n",
       " 'q_i': 0.1374664705588184484,\n",
       " 'shapiro': True,\n",
       " 'tasc_i': 0.40771621601341658092,\n",
       " 'tasc_o': 313.93428679015077198,\n",
       " 'tol': 1e-16,\n",
       " 'tzrmjd_base': 55920,\n",
       " 'use_quad': False}"
      ]
     },
     "execution_count": 29,
     "metadata": {},
     "output_type": "execute_result"
    }
   ],
   "source": [
    "F.best_parameters"
   ]
  },
  {
   "cell_type": "code",
   "execution_count": 30,
   "metadata": {},
   "outputs": [],
   "source": [
    "if 'j_NCY1400' not in F.best_errors:\n",
    "    F.best_errors['j_NCY1400'] = F.best_errors['j_GBT1500']\n",
    "if 'j_GBT1500s' not in F.best_parameters:\n",
    "    F.best_parameters['j_GBT1500s'] = F.best_parameters['j_GBT1500']\n",
    "if 'j_GBT1500s' not in F.best_errors:\n",
    "    F.best_errors['j_GBT1500s'] = F.best_errors['j_GBT1500']\n",
    " "
   ]
  },
  {
   "cell_type": "code",
   "execution_count": 31,
   "metadata": {},
   "outputs": [],
   "source": [
    "#for n in threebody.astro_names:\n",
    "#    F.best_parameters[n] = 0"
   ]
  },
  {
   "cell_type": "code",
   "execution_count": 32,
   "metadata": {},
   "outputs": [],
   "source": [
    "#F.best_parameters['d_PX'] = 0\n",
    "#F.best_parameters['pm_x'] = 0\n",
    "#F.best_parameters['pm_y'] = 0\n"
   ]
  },
  {
   "cell_type": "code",
   "execution_count": 33,
   "metadata": {},
   "outputs": [
    {
     "data": {
      "image/png": "[encoded data removed]",
      "text/plain": [
       "<matplotlib.figure.Figure at 0x4c77590>"
      ]
     },
     "metadata": {},
     "output_type": "display_data"
    }
   ],
   "source": [
    "rload = F.residuals(F.best_parameters)\n",
    "for ti, t in enumerate(F.tel_list):\n",
    "    c = F.tels == ti\n",
    "    plt.plot(F.mjds[c], rload[c], \n",
    "             \".\", markersize=1, label=t)\n",
    "plt.legend(loc=\"best\")\n",
    "plt.show()"
   ]
  },
  {
   "cell_type": "code",
   "execution_count": 34,
   "metadata": {},
   "outputs": [],
   "source": [
    "mfun = F.make_mfun()"
   ]
  },
  {
   "cell_type": "code",
   "execution_count": 35,
   "metadata": {},
   "outputs": [
    {
     "data": {
      "text/plain": [
       "33731.261732194856009"
      ]
     },
     "execution_count": 35,
     "metadata": {},
     "output_type": "execute_result"
    }
   ],
   "source": [
    "mfun(*[F.best_parameters[p] for p in F.parameters])"
   ]
  },
  {
   "cell_type": "code",
   "execution_count": 36,
   "metadata": {},
   "outputs": [
    {
     "data": {
      "text/plain": [
       "33799.142419950165674"
      ]
     },
     "execution_count": 36,
     "metadata": {},
     "output_type": "execute_result"
    }
   ],
   "source": [
    "-2*F.efac**2*(F.lnprob(F.best_parameters)+F.lnprior(F.best_parameters))"
   ]
  },
  {
   "cell_type": "code",
   "execution_count": 37,
   "metadata": {},
   "outputs": [],
   "source": [
    "M = minuit_wrap.Fitter(F.make_mfun())"
   ]
  },
  {
   "cell_type": "code",
   "execution_count": 38,
   "metadata": {},
   "outputs": [],
   "source": [
    "for p in F.parameters:\n",
    "    M.values[p] = F.best_parameters[p]\n",
    "    M.errors[p] = F.best_errors[p]\n",
    "M.set_normalization()"
   ]
  },
  {
   "cell_type": "code",
   "execution_count": 39,
   "metadata": {},
   "outputs": [],
   "source": [
    "if False:\n",
    "    for p in F.parameters:\n",
    "        if not p.startswith(\"j_\"):\n",
    "            M.fixed[p] = True\n"
   ]
  },
  {
   "cell_type": "code",
   "execution_count": 40,
   "metadata": {},
   "outputs": [],
   "source": [
    "#if F.linear_jumps:\n",
    "#    print \"linear jumps\"\n",
    "#    for p in F.parameters:\n",
    "#        if p.startswith(\"j_\"):\n",
    "#            M.fixed[p] = True\n"
   ]
  },
  {
   "cell_type": "code",
   "execution_count": null,
   "metadata": {},
   "outputs": [],
   "source": [
    "if False:\n",
    "    for p in F.parameters:\n",
    "        M.fixed[p] = False"
   ]
  },
  {
   "cell_type": "code",
   "execution_count": null,
   "metadata": {},
   "outputs": [],
   "source": [
    "M.best_filename = \"fitter_best_values.pickle\"\n",
    "M.tol = 100\n",
    "M.eps = 1e-6\n",
    "M.strategy = 1\n",
    "M.printMode = 3\n",
    "M.migrad()"
   ]
  },
  {
   "cell_type": "code",
   "execution_count": null,
   "metadata": {},
   "outputs": [],
   "source": [
    "M.tol = 100\n",
    "M.eps = 1e-6\n",
    "M.strategy = 1\n",
    "M.printMode = 3\n",
    "M.simplex()"
   ]
  },
  {
   "cell_type": "code",
   "execution_count": null,
   "metadata": {},
   "outputs": [],
   "source": [
    "for (i,p) in enumerate(F.parameters):\n",
    "    M.values[p] = M.best_values[p]\n",
    "    M.errors[p] = F.best_errors[p]\n",
    "M.set_normalization() "
   ]
  },
  {
   "cell_type": "code",
   "execution_count": null,
   "metadata": {},
   "outputs": [],
   "source": [
    "best_so_far = np.load(\"emcee-chains/1045.nimrod/best_so_far.npy\")\n",
    "for (i,p) in enumerate(F.parameters):\n",
    "    M.values[p] = best_so_far[i]\n",
    "    M.errors[p] = F.best_errors[p]\n",
    "M.set_normalization()    "
   ]
  },
  {
   "cell_type": "code",
   "execution_count": null,
   "metadata": {},
   "outputs": [],
   "source": [
    "M.tol = 100\n",
    "M.eps = 1e-6\n",
    "M.strategy = 1\n",
    "M.printMode = 3\n",
    "M.migrad()"
   ]
  },
  {
   "cell_type": "code",
   "execution_count": null,
   "metadata": {},
   "outputs": [],
   "source": [
    "for p in F.parameters:\n",
    "    print p, (M.best_values[p]-F.best_parameters[p])/F.best_errors[p]"
   ]
  },
  {
   "cell_type": "code",
   "execution_count": null,
   "metadata": {},
   "outputs": [],
   "source": [
    "M.best_values"
   ]
  },
  {
   "cell_type": "code",
   "execution_count": null,
   "metadata": {},
   "outputs": [],
   "source": [
    "mfun(*[M.best_values[p] for p in F.parameters])"
   ]
  },
  {
   "cell_type": "code",
   "execution_count": null,
   "metadata": {},
   "outputs": [],
   "source": [
    "if False:\n",
    "    import cPickle as pickle\n",
    "    with open(M.best_filename,\"wb\") as f:\n",
    "        pickle.dump(M.best_values, f)"
   ]
  },
  {
   "cell_type": "code",
   "execution_count": null,
   "metadata": {},
   "outputs": [],
   "source": [
    "M._minuit.errors"
   ]
  },
  {
   "cell_type": "code",
   "execution_count": null,
   "metadata": {},
   "outputs": [],
   "source": [
    "new_walkers = np.load(\"emcee-chains/845.nimrod/new_walkers.npy\")\n",
    "new_walkers = new_walkers.reshape((-1,new_walkers.shape[-1]))\n",
    "new_walkers -= np.mean(new_walkers,axis=0)\n",
    "delta = new_walkers[np.random.randint(new_walkers.shape[0])]\n",
    "for (i,p) in enumerate(F.parameters):\n",
    "    M.values[p] = M.best_values[p] + delta[i]\n",
    "    M.errors[p] = F.best_errors[p]\n",
    "M.set_normalization() "
   ]
  },
  {
   "cell_type": "code",
   "execution_count": null,
   "metadata": {},
   "outputs": [],
   "source": []
  }
 ],
 "metadata": {
  "kernelspec": {
   "display_name": "Python 2",
   "language": "python",
   "name": "python2"
  },
  "language_info": {
   "codemirror_mode": {
    "name": "ipython",
    "version": 2
   },
   "file_extension": ".py",
   "mimetype": "text/x-python",
   "name": "python",
   "nbconvert_exporter": "python",
   "pygments_lexer": "ipython2",
   "version": "2.7.3"
  }
 },
 "nbformat": 4,
 "nbformat_minor": 1
}
