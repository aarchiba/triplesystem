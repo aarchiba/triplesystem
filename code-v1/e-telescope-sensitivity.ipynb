{
 "metadata": {
  "name": ""
 },
 "nbformat": 3,
 "nbformat_minor": 0,
 "worksheets": [
  {
   "cells": [
    {
     "cell_type": "code",
     "collapsed": false,
     "input": [
      "%load_ext autoreload\n",
      "\n",
      "%autoreload 2"
     ],
     "language": "python",
     "metadata": {},
     "outputs": [],
     "prompt_number": 1
    },
    {
     "cell_type": "code",
     "collapsed": false,
     "input": [
      "from __future__ import division\n",
      "from glob import glob\n",
      "import os\n",
      "import time\n",
      "import cPickle as pickle\n",
      "\n",
      "import scipy.linalg\n",
      "import scipy.stats\n",
      "\n",
      "import emcee\n",
      "import numdifftools\n",
      "\n",
      "import kepler\n",
      "import threebody"
     ],
     "language": "python",
     "metadata": {},
     "outputs": [],
     "prompt_number": 2
    },
    {
     "cell_type": "code",
     "collapsed": false,
     "input": [
      "fpickle = \"fitter_params.pickle\"\n",
      "d = pickle.load(open(fpickle,\"rb\"))\n",
      "F = threebody.Fitter(**d)\n",
      "F.parameters"
     ],
     "language": "python",
     "metadata": {},
     "outputs": [
      {
       "metadata": {},
       "output_type": "pyout",
       "prompt_number": 3,
       "text": [
        "['asini_i',\n",
        " 'pb_i',\n",
        " 'eps1_i',\n",
        " 'eps2_i',\n",
        " 'tasc_i',\n",
        " 'acosi_i',\n",
        " 'q_i',\n",
        " 'asini_o',\n",
        " 'pb_o',\n",
        " 'eps1_o',\n",
        " 'eps2_o',\n",
        " 'tasc_o',\n",
        " 'acosi_o',\n",
        " 'delta_lan',\n",
        " 'delta',\n",
        " 'dgamma',\n",
        " 'dbeta',\n",
        " 'd_RAJ',\n",
        " 'd_DECJ',\n",
        " 'j_AO1440',\n",
        " 'j_GBT1500',\n",
        " 'j_NCY1400']"
       ]
      }
     ],
     "prompt_number": 3
    },
    {
     "cell_type": "code",
     "collapsed": false,
     "input": [
      "if False:\n",
      "    n = 0\n",
      "    residual_size = None\n",
      "    def residcalc(X):\n",
      "        global n, residual_size\n",
      "        print n, X\n",
      "        n += 1\n",
      "        pms = F.best_parameters.copy()\n",
      "        for i,p in enumerate(F.parameters):\n",
      "            pms[p] = X[i]\n",
      "        try:\n",
      "            r = F.residuals(pms)\n",
      "        except Exception as e:\n",
      "            print e\n",
      "            r = 1e40*np.random.randn(residual_size)\n",
      "        if residual_size is None:\n",
      "            residual_size = len(r)\n",
      "        return r\n",
      "    X = np.zeros(len(F.parameters))\n",
      "    for i,p in enumerate(F.parameters):\n",
      "        X[i] = F.best_parameters[p]\n",
      "    J = numdifftools.Jacobian(residcalc)(X)\n",
      "    np.save(\"jac-telescopes.npy\",J)\n",
      "else:\n",
      "    J = np.load(\"jac-telescopes.npy\")\n"
     ],
     "language": "python",
     "metadata": {},
     "outputs": [
      {
       "output_type": "stream",
       "stream": "stdout",
       "text": [
        "0 [  1.21752679e+00   1.62939693e+00   6.87205875e-04  -9.12165538e-05\n",
        "   4.07716977e-01   1.49235773e+00   1.37478906e-01   7.46727070e+01\n",
        "   3.27257524e+02   3.51862490e-02  -3.46213493e-03   3.13935792e+02\n",
        "   9.15680039e+01  -2.48441014e-05   0.00000000e+00   0.00000000e+00\n",
        "   0.00000000e+00  -6.54081692e-08   2.54236284e-07  -5.51110839e-04\n",
        "  -5.37645345e-04   6.75000000e-04]\n",
        "1"
       ]
      },
      {
       "output_type": "stream",
       "stream": "stdout",
       "text": [
        " [  3.65258037e+00   1.62939693e+00   6.87205875e-04  -9.12165538e-05\n",
        "   4.07716977e-01   1.49235773e+00   1.37478906e-01   7.46727070e+01\n",
        "   3.27257524e+02   3.51862490e-02  -3.46213493e-03   3.13935792e+02\n",
        "   9.15680039e+01  -2.48441014e-05   0.00000000e+00   0.00000000e+00\n",
        "   0.00000000e+00  -6.54081692e-08   2.54236284e-07  -5.51110839e-04\n",
        "  -5.37645345e-04   6.75000000e-04]\n",
        "2"
       ]
      },
      {
       "output_type": "stream",
       "stream": "stdout",
       "text": [
        " [ -1.21752679e+00   1.62939693e+00   6.87205875e-04  -9.12165538e-05\n",
        "   4.07716977e-01   1.49235773e+00   1.37478906e-01   7.46727070e+01\n",
        "   3.27257524e+02   3.51862490e-02  -3.46213493e-03   3.13935792e+02\n",
        "   9.15680039e+01  -2.48441014e-05   0.00000000e+00   0.00000000e+00\n",
        "   0.00000000e+00  -6.54081692e-08   2.54236284e-07  -5.51110839e-04\n",
        "  -5.37645345e-04   6.75000000e-04]\n",
        "3"
       ]
      },
      {
       "output_type": "stream",
       "stream": "stdout",
       "text": [
        " [  2.43505358e+00   1.62939693e+00   6.87205875e-04  -9.12165538e-05\n",
        "   4.07716977e-01   1.49235773e+00   1.37478906e-01   7.46727070e+01\n",
        "   3.27257524e+02   3.51862490e-02  -3.46213493e-03   3.13935792e+02\n",
        "   9.15680039e+01  -2.48441014e-05   0.00000000e+00   0.00000000e+00\n",
        "   0.00000000e+00  -6.54081692e-08   2.54236284e-07  -5.51110839e-04\n",
        "  -5.37645345e-04   6.75000000e-04]\n",
        "4"
       ]
      },
      {
       "output_type": "stream",
       "stream": "stdout",
       "text": [
        " [  0.00000000e+00   1.62939693e+00   6.87205875e-04  -9.12165538e-05\n",
        "   4.07716977e-01   1.49235773e+00   1.37478906e-01   7.46727070e+01\n",
        "   3.27257524e+02   3.51862490e-02  -3.46213493e-03   3.13935792e+02\n",
        "   9.15680039e+01  -2.48441014e-05   0.00000000e+00   0.00000000e+00\n",
        "   0.00000000e+00  -6.54081692e-08   2.54236284e-07  -5.51110839e-04\n",
        "  -5.37645345e-04   6.75000000e-04]\n",
        "5"
       ]
      },
      {
       "output_type": "stream",
       "stream": "stdout",
       "text": [
        " [  1.82629019e+00   1.62939693e+00   6.87205875e-04  -9.12165538e-05\n",
        "   4.07716977e-01   1.49235773e+00   1.37478906e-01   7.46727070e+01\n",
        "   3.27257524e+02   3.51862490e-02  -3.46213493e-03   3.13935792e+02\n",
        "   9.15680039e+01  -2.48441014e-05   0.00000000e+00   0.00000000e+00\n",
        "   0.00000000e+00  -6.54081692e-08   2.54236284e-07  -5.51110839e-04\n",
        "  -5.37645345e-04   6.75000000e-04]\n",
        "6"
       ]
      },
      {
       "output_type": "stream",
       "stream": "stdout",
       "text": [
        " [  6.08763396e-01   1.62939693e+00   6.87205875e-04  -9.12165538e-05\n",
        "   4.07716977e-01   1.49235773e+00   1.37478906e-01   7.46727070e+01\n",
        "   3.27257524e+02   3.51862490e-02  -3.46213493e-03   3.13935792e+02\n",
        "   9.15680039e+01  -2.48441014e-05   0.00000000e+00   0.00000000e+00\n",
        "   0.00000000e+00  -6.54081692e-08   2.54236284e-07  -5.51110839e-04\n",
        "  -5.37645345e-04   6.75000000e-04]\n",
        "7"
       ]
      },
      {
       "output_type": "stream",
       "stream": "stdout",
       "text": [
        " [  1.52190849e+00   1.62939693e+00   6.87205875e-04  -9.12165538e-05\n",
        "   4.07716977e-01   1.49235773e+00   1.37478906e-01   7.46727070e+01\n",
        "   3.27257524e+02   3.51862490e-02  -3.46213493e-03   3.13935792e+02\n",
        "   9.15680039e+01  -2.48441014e-05   0.00000000e+00   0.00000000e+00\n",
        "   0.00000000e+00  -6.54081692e-08   2.54236284e-07  -5.51110839e-04\n",
        "  -5.37645345e-04   6.75000000e-04]\n",
        "8"
       ]
      },
      {
       "output_type": "stream",
       "stream": "stdout",
       "text": [
        " [  9.13145093e-01   1.62939693e+00   6.87205875e-04  -9.12165538e-05\n",
        "   4.07716977e-01   1.49235773e+00   1.37478906e-01   7.46727070e+01\n",
        "   3.27257524e+02   3.51862490e-02  -3.46213493e-03   3.13935792e+02\n",
        "   9.15680039e+01  -2.48441014e-05   0.00000000e+00   0.00000000e+00\n",
        "   0.00000000e+00  -6.54081692e-08   2.54236284e-07  -5.51110839e-04\n",
        "  -5.37645345e-04   6.75000000e-04]\n",
        "9"
       ]
      },
      {
       "output_type": "stream",
       "stream": "stdout",
       "text": [
        " [  1.36971764e+00   1.62939693e+00   6.87205875e-04  -9.12165538e-05\n",
        "   4.07716977e-01   1.49235773e+00   1.37478906e-01   7.46727070e+01\n",
        "   3.27257524e+02   3.51862490e-02  -3.46213493e-03   3.13935792e+02\n",
        "   9.15680039e+01  -2.48441014e-05   0.00000000e+00   0.00000000e+00\n",
        "   0.00000000e+00  -6.54081692e-08   2.54236284e-07  -5.51110839e-04\n",
        "  -5.37645345e-04   6.75000000e-04]\n",
        "10"
       ]
      },
      {
       "output_type": "stream",
       "stream": "stdout",
       "text": [
        " [  1.06533594e+00   1.62939693e+00   6.87205875e-04  -9.12165538e-05\n",
        "   4.07716977e-01   1.49235773e+00   1.37478906e-01   7.46727070e+01\n",
        "   3.27257524e+02   3.51862490e-02  -3.46213493e-03   3.13935792e+02\n",
        "   9.15680039e+01  -2.48441014e-05   0.00000000e+00   0.00000000e+00\n",
        "   0.00000000e+00  -6.54081692e-08   2.54236284e-07  -5.51110839e-04\n",
        "  -5.37645345e-04   6.75000000e-04]\n",
        "11"
       ]
      },
      {
       "output_type": "stream",
       "stream": "stdout",
       "text": [
        " [  1.29362222e+00   1.62939693e+00   6.87205875e-04  -9.12165538e-05\n",
        "   4.07716977e-01   1.49235773e+00   1.37478906e-01   7.46727070e+01\n",
        "   3.27257524e+02   3.51862490e-02  -3.46213493e-03   3.13935792e+02\n",
        "   9.15680039e+01  -2.48441014e-05   0.00000000e+00   0.00000000e+00\n",
        "   0.00000000e+00  -6.54081692e-08   2.54236284e-07  -5.51110839e-04\n",
        "  -5.37645345e-04   6.75000000e-04]\n",
        "12"
       ]
      },
      {
       "output_type": "stream",
       "stream": "stdout",
       "text": [
        " [  1.14143137e+00   1.62939693e+00   6.87205875e-04  -9.12165538e-05\n",
        "   4.07716977e-01   1.49235773e+00   1.37478906e-01   7.46727070e+01\n",
        "   3.27257524e+02   3.51862490e-02  -3.46213493e-03   3.13935792e+02\n",
        "   9.15680039e+01  -2.48441014e-05   0.00000000e+00   0.00000000e+00\n",
        "   0.00000000e+00  -6.54081692e-08   2.54236284e-07  -5.51110839e-04\n",
        "  -5.37645345e-04   6.75000000e-04]\n",
        "13"
       ]
      },
      {
       "output_type": "stream",
       "stream": "stdout",
       "text": [
        " [  1.25557450e+00   1.62939693e+00   6.87205875e-04  -9.12165538e-05\n",
        "   4.07716977e-01   1.49235773e+00   1.37478906e-01   7.46727070e+01\n",
        "   3.27257524e+02   3.51862490e-02  -3.46213493e-03   3.13935792e+02\n",
        "   9.15680039e+01  -2.48441014e-05   0.00000000e+00   0.00000000e+00\n",
        "   0.00000000e+00  -6.54081692e-08   2.54236284e-07  -5.51110839e-04\n",
        "  -5.37645345e-04   6.75000000e-04]\n",
        "14"
       ]
      },
      {
       "output_type": "stream",
       "stream": "stdout",
       "text": [
        " [  1.17947908e+00   1.62939693e+00   6.87205875e-04  -9.12165538e-05\n",
        "   4.07716977e-01   1.49235773e+00   1.37478906e-01   7.46727070e+01\n",
        "   3.27257524e+02   3.51862490e-02  -3.46213493e-03   3.13935792e+02\n",
        "   9.15680039e+01  -2.48441014e-05   0.00000000e+00   0.00000000e+00\n",
        "   0.00000000e+00  -6.54081692e-08   2.54236284e-07  -5.51110839e-04\n",
        "  -5.37645345e-04   6.75000000e-04]\n",
        "15"
       ]
      },
      {
       "output_type": "stream",
       "stream": "stdout",
       "text": [
        " [  1.23655065e+00   1.62939693e+00   6.87205875e-04  -9.12165538e-05\n",
        "   4.07716977e-01   1.49235773e+00   1.37478906e-01   7.46727070e+01\n",
        "   3.27257524e+02   3.51862490e-02  -3.46213493e-03   3.13935792e+02\n",
        "   9.15680039e+01  -2.48441014e-05   0.00000000e+00   0.00000000e+00\n",
        "   0.00000000e+00  -6.54081692e-08   2.54236284e-07  -5.51110839e-04\n",
        "  -5.37645345e-04   6.75000000e-04]\n",
        "16"
       ]
      },
      {
       "output_type": "stream",
       "stream": "stdout",
       "text": [
        " [  1.19850293e+00   1.62939693e+00   6.87205875e-04  -9.12165538e-05\n",
        "   4.07716977e-01   1.49235773e+00   1.37478906e-01   7.46727070e+01\n",
        "   3.27257524e+02   3.51862490e-02  -3.46213493e-03   3.13935792e+02\n",
        "   9.15680039e+01  -2.48441014e-05   0.00000000e+00   0.00000000e+00\n",
        "   0.00000000e+00  -6.54081692e-08   2.54236284e-07  -5.51110839e-04\n",
        "  -5.37645345e-04   6.75000000e-04]\n",
        "17"
       ]
      },
      {
       "output_type": "stream",
       "stream": "stdout",
       "text": [
        " [  1.22703872e+00   1.62939693e+00   6.87205875e-04  -9.12165538e-05\n",
        "   4.07716977e-01   1.49235773e+00   1.37478906e-01   7.46727070e+01\n",
        "   3.27257524e+02   3.51862490e-02  -3.46213493e-03   3.13935792e+02\n",
        "   9.15680039e+01  -2.48441014e-05   0.00000000e+00   0.00000000e+00\n",
        "   0.00000000e+00  -6.54081692e-08   2.54236284e-07  -5.51110839e-04\n",
        "  -5.37645345e-04   6.75000000e-04]\n",
        "18"
       ]
      },
      {
       "output_type": "stream",
       "stream": "stdout",
       "text": [
        " [  1.20801486e+00   1.62939693e+00   6.87205875e-04  -9.12165538e-05\n",
        "   4.07716977e-01   1.49235773e+00   1.37478906e-01   7.46727070e+01\n",
        "   3.27257524e+02   3.51862490e-02  -3.46213493e-03   3.13935792e+02\n",
        "   9.15680039e+01  -2.48441014e-05   0.00000000e+00   0.00000000e+00\n",
        "   0.00000000e+00  -6.54081692e-08   2.54236284e-07  -5.51110839e-04\n",
        "  -5.37645345e-04   6.75000000e-04]\n",
        "19"
       ]
      },
      {
       "output_type": "stream",
       "stream": "stdout",
       "text": [
        " [  1.22228276e+00   1.62939693e+00   6.87205875e-04  -9.12165538e-05\n",
        "   4.07716977e-01   1.49235773e+00   1.37478906e-01   7.46727070e+01\n",
        "   3.27257524e+02   3.51862490e-02  -3.46213493e-03   3.13935792e+02\n",
        "   9.15680039e+01  -2.48441014e-05   0.00000000e+00   0.00000000e+00\n",
        "   0.00000000e+00  -6.54081692e-08   2.54236284e-07  -5.51110839e-04\n",
        "  -5.37645345e-04   6.75000000e-04]\n",
        "20"
       ]
      },
      {
       "output_type": "stream",
       "stream": "stdout",
       "text": [
        " [  1.21277083e+00   1.62939693e+00   6.87205875e-04  -9.12165538e-05\n",
        "   4.07716977e-01   1.49235773e+00   1.37478906e-01   7.46727070e+01\n",
        "   3.27257524e+02   3.51862490e-02  -3.46213493e-03   3.13935792e+02\n",
        "   9.15680039e+01  -2.48441014e-05   0.00000000e+00   0.00000000e+00\n",
        "   0.00000000e+00  -6.54081692e-08   2.54236284e-07  -5.51110839e-04\n",
        "  -5.37645345e-04   6.75000000e-04]\n",
        "21"
       ]
      },
      {
       "output_type": "stream",
       "stream": "stdout",
       "text": [
        " [  1.21990477e+00   1.62939693e+00   6.87205875e-04  -9.12165538e-05\n",
        "   4.07716977e-01   1.49235773e+00   1.37478906e-01   7.46727070e+01\n",
        "   3.27257524e+02   3.51862490e-02  -3.46213493e-03   3.13935792e+02\n",
        "   9.15680039e+01  -2.48441014e-05   0.00000000e+00   0.00000000e+00\n",
        "   0.00000000e+00  -6.54081692e-08   2.54236284e-07  -5.51110839e-04\n",
        "  -5.37645345e-04   6.75000000e-04]\n",
        "22"
       ]
      },
      {
       "output_type": "stream",
       "stream": "stdout",
       "text": [
        " [  1.21514881e+00   1.62939693e+00   6.87205875e-04  -9.12165538e-05\n",
        "   4.07716977e-01   1.49235773e+00   1.37478906e-01   7.46727070e+01\n",
        "   3.27257524e+02   3.51862490e-02  -3.46213493e-03   3.13935792e+02\n",
        "   9.15680039e+01  -2.48441014e-05   0.00000000e+00   0.00000000e+00\n",
        "   0.00000000e+00  -6.54081692e-08   2.54236284e-07  -5.51110839e-04\n",
        "  -5.37645345e-04   6.75000000e-04]\n",
        "23"
       ]
      },
      {
       "output_type": "stream",
       "stream": "stdout",
       "text": [
        " [  1.21871578e+00   1.62939693e+00   6.87205875e-04  -9.12165538e-05\n",
        "   4.07716977e-01   1.49235773e+00   1.37478906e-01   7.46727070e+01\n",
        "   3.27257524e+02   3.51862490e-02  -3.46213493e-03   3.13935792e+02\n",
        "   9.15680039e+01  -2.48441014e-05   0.00000000e+00   0.00000000e+00\n",
        "   0.00000000e+00  -6.54081692e-08   2.54236284e-07  -5.51110839e-04\n",
        "  -5.37645345e-04   6.75000000e-04]\n",
        "24"
       ]
      },
      {
       "output_type": "stream",
       "stream": "stdout",
       "text": [
        " [  1.21633780e+00   1.62939693e+00   6.87205875e-04  -9.12165538e-05\n",
        "   4.07716977e-01   1.49235773e+00   1.37478906e-01   7.46727070e+01\n",
        "   3.27257524e+02   3.51862490e-02  -3.46213493e-03   3.13935792e+02\n",
        "   9.15680039e+01  -2.48441014e-05   0.00000000e+00   0.00000000e+00\n",
        "   0.00000000e+00  -6.54081692e-08   2.54236284e-07  -5.51110839e-04\n",
        "  -5.37645345e-04   6.75000000e-04]\n",
        "25"
       ]
      },
      {
       "output_type": "stream",
       "stream": "stdout",
       "text": [
        " [  1.21812129e+00   1.62939693e+00   6.87205875e-04  -9.12165538e-05\n",
        "   4.07716977e-01   1.49235773e+00   1.37478906e-01   7.46727070e+01\n",
        "   3.27257524e+02   3.51862490e-02  -3.46213493e-03   3.13935792e+02\n",
        "   9.15680039e+01  -2.48441014e-05   0.00000000e+00   0.00000000e+00\n",
        "   0.00000000e+00  -6.54081692e-08   2.54236284e-07  -5.51110839e-04\n",
        "  -5.37645345e-04   6.75000000e-04]\n",
        "26"
       ]
      },
      {
       "output_type": "stream",
       "stream": "stdout",
       "text": [
        " [  1.21693230e+00   1.62939693e+00   6.87205875e-04  -9.12165538e-05\n",
        "   4.07716977e-01   1.49235773e+00   1.37478906e-01   7.46727070e+01\n",
        "   3.27257524e+02   3.51862490e-02  -3.46213493e-03   3.13935792e+02\n",
        "   9.15680039e+01  -2.48441014e-05   0.00000000e+00   0.00000000e+00\n",
        "   0.00000000e+00  -6.54081692e-08   2.54236284e-07  -5.51110839e-04\n",
        "  -5.37645345e-04   6.75000000e-04]\n",
        "27"
       ]
      },
      {
       "output_type": "stream",
       "stream": "stdout",
       "text": [
        " [  1.21782404e+00   1.62939693e+00   6.87205875e-04  -9.12165538e-05\n",
        "   4.07716977e-01   1.49235773e+00   1.37478906e-01   7.46727070e+01\n",
        "   3.27257524e+02   3.51862490e-02  -3.46213493e-03   3.13935792e+02\n",
        "   9.15680039e+01  -2.48441014e-05   0.00000000e+00   0.00000000e+00\n",
        "   0.00000000e+00  -6.54081692e-08   2.54236284e-07  -5.51110839e-04\n",
        "  -5.37645345e-04   6.75000000e-04]\n",
        "28"
       ]
      }
     ],
     "prompt_number": "*"
    },
    {
     "cell_type": "code",
     "collapsed": false,
     "input": [
      "with open(\"jac-telescope-params.pickle\",\"wb\") as f:\n",
      "    pickle.dump(d,f)\n",
      "with open(\"jac-telescope-best_parameters.pickle\",\"wb\") as f:\n",
      "    pickle.dump(F.best_parameters,f)\n"
     ],
     "language": "python",
     "metadata": {},
     "outputs": [],
     "prompt_number": "*"
    },
    {
     "cell_type": "code",
     "collapsed": false,
     "input": [
      "J.shape"
     ],
     "language": "python",
     "metadata": {},
     "outputs": [
      {
       "metadata": {},
       "output_type": "pyout",
       "prompt_number": 6,
       "text": [
        "(38805, 22)"
       ]
      }
     ],
     "prompt_number": 6
    },
    {
     "cell_type": "code",
     "collapsed": false,
     "input": [
      "F.tel_list"
     ],
     "language": "python",
     "metadata": {},
     "outputs": [
      {
       "metadata": {},
       "output_type": "pyout",
       "prompt_number": 7,
       "text": [
        "['AO1440', 'GBT1500', 'NCY1400', 'WSRT1400']"
       ]
      }
     ],
     "prompt_number": 7
    },
    {
     "cell_type": "code",
     "collapsed": false,
     "input": [
      "d = None\n",
      "for tels in ([F.tel_list] \n",
      "             + [[t] for t in F.tel_list] \n",
      "             + [F.tel_list[1:], ['GBT1500','WSRT1400']]):\n",
      "    c = np.zeros(J.shape[0], dtype='bool')\n",
      "    for t in tels:\n",
      "        c |= F.tels == F.tel_list.index(t)\n",
      "    Jc = (J/F.phase_uncerts[:,None])[c,:]\n",
      "    covt = scipy.linalg.inv(np.dot(Jc.T, Jc))\n",
      "    if d is None:\n",
      "        d = np.diag(covt)\n",
      "    print \"+\".join(tels)+\"\\t\"+\" \".join([\"%s=%.2g\"%(p,v) for (p,v) in zip(F.parameters, np.diag(covt)/d)])\n"
     ],
     "language": "python",
     "metadata": {},
     "outputs": [
      {
       "output_type": "stream",
       "stream": "stdout",
       "text": [
        "AO1440+GBT1500+NCY1400+WSRT1400\tasini_i=1 pb_i=1 eps1_i=1 eps2_i=1 tasc_i=1 acosi_i=1 q_i=1 asini_o=1 pb_o=1 eps1_o=1 eps2_o=1 tasc_o=1 acosi_o=1 delta_lan=1 delta=1 dgamma=1 dbeta=1 d_RAJ=1 d_DECJ=1 j_AO1440=1 j_GBT1500=1 j_NCY1400=1\n",
        "AO1440\tasini_i=4.3 pb_i=3.7 eps1_i=3.5 eps2_i=2.4 tasc_i=4 acosi_i=5 q_i=27 asini_o=2.6 pb_o=2.3 eps1_o=2.3 eps2_o=2.3 tasc_o=2.3 acosi_o=5.1 delta_lan=14 delta=2 dgamma=9.3 dbeta=9 d_RAJ=4.3e+02 d_DECJ=8.7e+02 j_AO1440=2.6e+06 j_GBT1500=3.1e+06 j_NCY1400=1e+06\n",
        "GBT1500\tasini_i=4.5 pb_i=4.5 eps1_i=4.5 eps2_i=9.5 tasc_i=4.4 acosi_i=4.3 q_i=4.4 asini_o=5 pb_o=5 eps1_o=5 eps2_o=5 tasc_o=5 acosi_o=3.9 delta_lan=2.9 delta=5.2 dgamma=5.5 dbeta=4.1 d_RAJ=3.1 d_DECJ=3 j_AO1440=7.4e+02 j_GBT1500=6.7e+02 j_NCY1400=4.8e+02"
       ]
      },
      {
       "output_type": "stream",
       "stream": "stdout",
       "text": [
        "\n",
        "NCY1400\tasini_i=2.2e+02 pb_i=1.8e+02 eps1_i=1.7e+02 eps2_i=9.4e+02 tasc_i=2.2e+02 acosi_i=25 q_i=4e+03 asini_o=2.6e+03 pb_o=81 eps1_o=93 eps2_o=84 tasc_o=1e+02 acosi_o=23 delta_lan=2.4e+02 delta=52 dgamma=3.5e+02 dbeta=5.9e+02 d_RAJ=6.3e+07 d_DECJ=7e+07 j_AO1440=3.8e+11 j_GBT1500=3.1e+11 j_NCY1400=2.2e+11\n",
        "WSRT1400\tasini_i=4.4e+02 pb_i=4e+02 eps1_i=3.8e+02 eps2_i=1.2e+02 tasc_i=4.2e+02 acosi_i=55 q_i=6.5e+03 asini_o=1.2e+02 pb_o=2e+02 eps1_o=2.1e+02 eps2_o=2.1e+02 tasc_o=2e+02 acosi_o=56 delta_lan=2.1e+02 delta=1.4e+02 dgamma=5.6e+02 dbeta=9.6e+02 d_RAJ=4.4e+03 d_DECJ=1.7e+04 j_AO1440=1.3e+05 j_GBT1500=1.3e+07 j_NCY1400=2.2e+08"
       ]
      },
      {
       "output_type": "stream",
       "stream": "stdout",
       "text": [
        "\n",
        "GBT1500+NCY1400+WSRT1400\tasini_i=3.2 pb_i=3.2 eps1_i=3.2 eps2_i=6.5 tasc_i=3.2 acosi_i=2.9 q_i=2.2 asini_o=3.5 pb_o=3.5 eps1_o=3.5 eps2_o=3.5 tasc_o=3.5 acosi_o=2.6 delta_lan=1.9 delta=3.6 dgamma=3.1 dbeta=2.5 d_RAJ=2 d_DECJ=1.9 j_AO1440=1.1 j_GBT1500=1 j_NCY1400=1.1\n",
        "GBT1500+WSRT1400\tasini_i=4 pb_i=4.1 eps1_i=4 eps2_i=8.1 tasc_i=4 acosi_i=3.9 q_i=3.4 asini_o=4.5 pb_o=4.5 eps1_o=4.5 eps2_o=4.5 tasc_o=4.5 acosi_o=3.5 delta_lan=2.4 delta=4.7 dgamma=4.8 dbeta=3.6 d_RAJ=2.4 d_DECJ=2.3 j_AO1440=1.1 j_GBT1500=1 j_NCY1400=3.4"
       ]
      },
      {
       "output_type": "stream",
       "stream": "stdout",
       "text": [
        "\n"
       ]
      }
     ],
     "prompt_number": 34
    },
    {
     "cell_type": "code",
     "collapsed": false,
     "input": [
      "for p in F.parameters:\n",
      "    print p, F.best_parameters[p]"
     ],
     "language": "python",
     "metadata": {},
     "outputs": [
      {
       "output_type": "stream",
       "stream": "stdout",
       "text": [
        "asini_i 1.21752679109\n",
        "pb_i 1.62939693499\n",
        "eps1_i 0.000687205875366\n",
        "eps2_i -9.12165537749e-05\n",
        "tasc_i 0.407716976587\n",
        "acosi_i 1.49235772917\n",
        "q_i 0.137478906254\n",
        "asini_o 74.6727069668\n",
        "pb_o 327.257523629\n",
        "eps1_o 0.0351862490478\n",
        "eps2_o -0.00346213493173\n",
        "tasc_o 313.93579204\n",
        "acosi_o 91.5680038523\n",
        "delta_lan -2.48441014306e-05\n",
        "delta 0.0\n",
        "dgamma 0.0\n",
        "dbeta 0.0\n",
        "d_RAJ -6.54081691666e-08\n",
        "d_DECJ 2.54236284423e-07\n",
        "j_AO1440 -0.000551110838831\n",
        "j_GBT1500 -0.000537645345394\n",
        "j_NCY1400 0.000675\n"
       ]
      }
     ],
     "prompt_number": 18
    },
    {
     "cell_type": "code",
     "collapsed": false,
     "input": [
      "xs = np.linspace(0,1,1000)[1:-1]\n",
      "plt.plot(xs, scipy.stats.norm.isf(xs))"
     ],
     "language": "python",
     "metadata": {},
     "outputs": [
      {
       "metadata": {},
       "output_type": "pyout",
       "prompt_number": 31,
       "text": [
        "[<matplotlib.lines.Line2D at 0xe3f7910>]"
       ]
      },
      {
       "metadata": {},
       "output_type": "display_data",
       "png": "[encoded data removed]",
       "text": [
        "<matplotlib.figure.Figure at 0xe3fdfd0>"
       ]
      }
     ],
     "prompt_number": 31
    },
    {
     "cell_type": "code",
     "collapsed": false,
     "input": [
      "np.hypot(0.4,0.9)"
     ],
     "language": "python",
     "metadata": {},
     "outputs": [
      {
       "metadata": {},
       "output_type": "pyout",
       "prompt_number": 35,
       "text": [
        "0.98488578017961048"
       ]
      }
     ],
     "prompt_number": 35
    },
    {
     "cell_type": "code",
     "collapsed": false,
     "input": [
      "(1.3+3.8)/np.hypot(0.4,0.9)"
     ],
     "language": "python",
     "metadata": {},
     "outputs": [
      {
       "metadata": {},
       "output_type": "pyout",
       "prompt_number": 36,
       "text": [
        "5.1782654421814565"
       ]
      }
     ],
     "prompt_number": 36
    },
    {
     "cell_type": "code",
     "collapsed": false,
     "input": [],
     "language": "python",
     "metadata": {},
     "outputs": []
    }
   ],
   "metadata": {}
  }
 ]
}