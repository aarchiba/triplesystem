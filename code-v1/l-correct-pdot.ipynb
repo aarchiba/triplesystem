{
 "cells": [
  {
   "cell_type": "code",
   "execution_count": 21,
   "metadata": {},
   "outputs": [
    {
     "name": "stdout",
     "output_type": "stream",
     "text": [
      "The autoreload extension is already loaded. To reload it, use:\n",
      "  %reload_ext autoreload\n"
     ]
    }
   ],
   "source": [
    "%load_ext autoreload\n",
    "\n",
    "%autoreload 2\n",
    "\n",
    "import numpy as np\n",
    "\n",
    "import astropy.units as u\n",
    "import astropy.constants as c\n",
    "from astropy.coordinates import SkyCoord, Angle\n",
    "\n",
    "\n",
    "from galpy.potential import MWPotential2014"
   ]
  },
  {
   "cell_type": "code",
   "execution_count": 15,
   "metadata": {},
   "outputs": [
    {
     "data": {
      "text/latex": [
       "$1298.7013 \\; \\mathrm{pc}$"
      ],
      "text/plain": [
       "<Quantity 1298.7012987012986 pc>"
      ]
     },
     "execution_count": 15,
     "metadata": {},
     "output_type": "execute_result"
    }
   ],
   "source": [
    "px = 0.77*u.mas\n",
    "pmra = 4.51*u.mas/u.year\n",
    "pmdec = 2.2*u.mas/u.year\n",
    "pdot = 1.758643e-20\n",
    "p = 2.73258863256*u.ms\n",
    "\n",
    "d = (1/(px/u.arcsec)*u.pc).to(u.pc)\n",
    "d"
   ]
  },
  {
   "cell_type": "code",
   "execution_count": 18,
   "metadata": {},
   "outputs": [
    {
     "data": {
      "text/latex": [
       "$2.1714371 \\times 10^{-22} \\; \\mathrm{}$"
      ],
      "text/plain": [
       "<Quantity 2.1714371131810317e-22>"
      ]
     },
     "execution_count": 18,
     "metadata": {},
     "output_type": "execute_result"
    }
   ],
   "source": [
    "pm_total = np.hypot(pmra,pmdec)\n",
    "\n",
    "pdot_shk = p*2.43e-21/u.s*(d/u.kpc)*(pm_total/(u.mas/u.year))**2\n",
    "pdot_shk.decompose()"
   ]
  },
  {
   "cell_type": "code",
   "execution_count": 22,
   "metadata": {},
   "outputs": [
    {
     "data": {
      "text/latex": [
       "$30.892955 \\; \\mathrm{\\frac{km}{s}}$"
      ],
      "text/plain": [
       "<Quantity 30.89295451941633 km / s>"
      ]
     },
     "execution_count": 22,
     "metadata": {},
     "output_type": "execute_result"
    }
   ],
   "source": [
    "v = (pm_total/u.rad*d).to(u.km/u.s)\n",
    "v"
   ]
  },
  {
   "cell_type": "code",
   "execution_count": 19,
   "metadata": {},
   "outputs": [
    {
     "data": {
      "text/latex": [
       "$1.7369286 \\times 10^{-20} \\; \\mathrm{}$"
      ],
      "text/plain": [
       "<Quantity 1.73692862886819e-20>"
      ]
     },
     "execution_count": 19,
     "metadata": {},
     "output_type": "execute_result"
    }
   ],
   "source": [
    "pdot-pdot_shk"
   ]
  },
  {
   "cell_type": "code",
   "execution_count": 23,
   "metadata": {},
   "outputs": [
    {
     "data": {
      "text/latex": [
       "$9.1149345 \\times 10^{-23} \\; \\mathrm{}$"
      ],
      "text/plain": [
       "<Quantity 9.11493454768632e-23>"
      ]
     },
     "execution_count": 23,
     "metadata": {},
     "output_type": "execute_result"
    }
   ],
   "source": [
    "a = 1e-11*u.m/u.s**2\n",
    "\n",
    "pdot_a = (a*p/c.c).decompose()\n",
    "pdot_a"
   ]
  },
  {
   "cell_type": "code",
   "execution_count": 27,
   "metadata": {},
   "outputs": [
    {
     "data": {
      "text/plain": [
       "<SkyCoord (Galactic): (l, b, distance) in (deg, deg, pc)\n",
       "    ( 169.98968854, -30.03948224,  1298.7012987)>"
      ]
     },
     "execution_count": 27,
     "metadata": {},
     "output_type": "execute_result"
    }
   ],
   "source": [
    "psr = SkyCoord(\"03h37m43.82589s\", \"+17d15m14.828s\", frame=\"icrs\", distance=d)\n",
    "psr.galactic"
   ]
  },
  {
   "cell_type": "code",
   "execution_count": 30,
   "metadata": {},
   "outputs": [
    {
     "data": {
      "text/latex": [
       "$7.6076807 \\times 10^{-23} \\; \\mathrm{}$"
      ],
      "text/plain": [
       "<Quantity 7.607680668834357e-23>"
      ]
     },
     "execution_count": 30,
     "metadata": {},
     "output_type": "execute_result"
    }
   ],
   "source": [
    "pdot_acc = (p*(1.02290211786e-19-7.4449648526e-20)/u.s).decompose()\n",
    "pdot_acc"
   ]
  },
  {
   "cell_type": "code",
   "execution_count": 32,
   "metadata": {},
   "outputs": [
    {
     "data": {
      "text/latex": [
       "$1.6065442 \\times 10^{-23} \\; \\mathrm{}$"
      ],
      "text/plain": [
       "<Quantity 1.6065442076759618e-23>"
      ]
     },
     "execution_count": 32,
     "metadata": {},
     "output_type": "execute_result"
    }
   ],
   "source": [
    "pdot_acc_uncert = (p*5.87920255736e-21/u.s).decompose()\n",
    "pdot_acc_uncert"
   ]
  },
  {
   "cell_type": "code",
   "execution_count": 31,
   "metadata": {},
   "outputs": [
    {
     "data": {
      "text/latex": [
       "$1.7293209 \\times 10^{-20} \\; \\mathrm{}$"
      ],
      "text/plain": [
       "<Quantity 1.7293209481993555e-20>"
      ]
     },
     "execution_count": 31,
     "metadata": {},
     "output_type": "execute_result"
    }
   ],
   "source": [
    "pdot-pdot_shk-pdot_acc"
   ]
  },
  {
   "cell_type": "code",
   "execution_count": null,
   "metadata": {
    "collapsed": true
   },
   "outputs": [],
   "source": []
  }
 ],
 "metadata": {
  "kernelspec": {
   "display_name": "Python 2",
   "language": "python",
   "name": "python2"
  },
  "language_info": {
   "codemirror_mode": {
    "name": "ipython",
    "version": 2
   },
   "file_extension": ".py",
   "mimetype": "text/x-python",
   "name": "python",
   "nbconvert_exporter": "python",
   "pygments_lexer": "ipython2",
   "version": "2.7.3"
  }
 },
 "nbformat": 4,
 "nbformat_minor": 2
}
