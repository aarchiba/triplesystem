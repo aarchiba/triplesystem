{
 "metadata": {
  "name": "n-accuracy"
 },
 "nbformat": 3,
 "nbformat_minor": 0,
 "worksheets": [
  {
   "cells": [
    {
     "cell_type": "code",
     "collapsed": false,
     "input": [
      "%load_ext autoreload\n",
      "\n",
      "%autoreload 2\n",
      "\n",
      "from glob import glob\n",
      "import os\n",
      "\n",
      "import scipy.linalg\n",
      "\n",
      "import emcee\n",
      "\n",
      "import kepler\n",
      "import threebody\n",
      "\n",
      "import minuit_wrap"
     ],
     "language": "python",
     "metadata": {},
     "outputs": [],
     "prompt_number": 1
    },
    {
     "cell_type": "code",
     "collapsed": false,
     "input": [
      "# numpy binds itself to one CPU; unbind it\n",
      "#import os\n",
      "#os.system(\"taskset -p 0xff %d\" % os.getpid());"
     ],
     "language": "python",
     "metadata": {},
     "outputs": [],
     "prompt_number": 2
    },
    {
     "cell_type": "code",
     "collapsed": false,
     "input": [
      "F = threebody.Fitter(\"0337+17-scott-2013-06-06\",tzrmjd_middle='weighted',ppn_mode='GR')\n",
      "params = F.best_parameters.copy()"
     ],
     "language": "python",
     "metadata": {},
     "outputs": [],
     "prompt_number": 3
    },
    {
     "cell_type": "code",
     "collapsed": false,
     "input": [
      "ps = [(1e-14,True),\n",
      "      (1e-10,False),\n",
      "      (1e-12,False),\n",
      "      (1e-14,False),\n",
      "      (1e-15,False),\n",
      "      (1e-16,False),\n",
      "      #(1e-17,False),\n",
      "      #(1e-18,False),\n",
      "      (1e-16,True),\n",
      "      (1e-18,True),\n",
      "      (1e-19,True)]\n",
      "#rs = {}"
     ],
     "language": "python",
     "metadata": {},
     "outputs": [],
     "prompt_number": 4
    },
    {
     "cell_type": "code",
     "collapsed": false,
     "input": [
      "for tol, uq in ps:\n",
      "    if (tol,uq) not in rs:\n",
      "        params['tol'] = tol\n",
      "        params['use_quad'] = uq\n",
      "        o = threebody.compute_orbit(params, F.mjds-F.base_mjd)\n",
      "        rs[tol,uq] = o\n",
      "        print tol, uq, o['time']"
     ],
     "language": "python",
     "metadata": {},
     "outputs": [
      {
       "output_type": "stream",
       "stream": "stdout",
       "text": [
        "1e-14 True 207.10515213\n",
        "1e-10"
       ]
      },
      {
       "output_type": "stream",
       "stream": "stdout",
       "text": [
        " False 1.38570189476\n",
        "1e-12"
       ]
      },
      {
       "output_type": "stream",
       "stream": "stdout",
       "text": [
        " False 1.62034916878\n",
        "1e-14"
       ]
      },
      {
       "output_type": "stream",
       "stream": "stdout",
       "text": [
        " False 2.00406193733\n",
        "1e-15"
       ]
      },
      {
       "output_type": "stream",
       "stream": "stdout",
       "text": [
        " False 2.13133597374\n",
        "1e-16"
       ]
      },
      {
       "output_type": "stream",
       "stream": "stdout",
       "text": [
        " False 2.32993578911\n",
        "1e-17"
       ]
      },
      {
       "output_type": "stream",
       "stream": "stdout",
       "text": [
        " False 4.48146796227\n",
        "1e-18"
       ]
      },
      {
       "output_type": "stream",
       "stream": "stdout",
       "text": [
        " False 9.31457304955\n",
        "1e-16"
       ]
      },
      {
       "output_type": "stream",
       "stream": "stdout",
       "text": [
        " True 241.002706051\n",
        "1e-18"
       ]
      },
      {
       "output_type": "stream",
       "stream": "stdout",
       "text": [
        " True 427.724171877\n",
        "1e-20"
       ]
      },
      {
       "output_type": "stream",
       "stream": "stdout",
       "text": [
        " True 1041.22294378\n"
       ]
      }
     ],
     "prompt_number": 5
    },
    {
     "cell_type": "code",
     "collapsed": false,
     "input": [
      "best = ps[-1]\n",
      "for p in ps[:-1]:\n",
      "    if p[1]:\n",
      "        c = 'r'\n",
      "    else:\n",
      "        c = 'b'\n",
      "    plt.loglog([p[0]],[86400*np.sum(np.abs(rs[best]['t_psr']-rs[p]['t_psr']))],'o',color=c)\n",
      "plt.ylabel(\"Total error in seconds\")\n",
      "plt.xlabel(\"Requested tolerance\")\n",
      "plt.savefig(\"error.pdf\")"
     ],
     "language": "python",
     "metadata": {},
     "outputs": [
      {
       "output_type": "display_data",
       "png": "[encoded data removed]"
      }
     ],
     "prompt_number": 7
    },
    {
     "cell_type": "code",
     "collapsed": false,
     "input": [
      "resids = {}"
     ],
     "language": "python",
     "metadata": {},
     "outputs": [],
     "prompt_number": 5
    },
    {
     "cell_type": "code",
     "collapsed": false,
     "input": [
      "for tol, uq in sorted(ps)[::-1]:\n",
      "    if (tol,uq) not in resids:\n",
      "        params['tol'] = tol\n",
      "        params['use_quad'] = uq\n",
      "        r = F.residuals(params)\n",
      "        resids[tol,uq] = r\n",
      "    print tol, uq, np.sum((resids[tol,uq]/F.phase_uncerts)**2)"
     ],
     "language": "python",
     "metadata": {},
     "outputs": [
      {
       "output_type": "stream",
       "stream": "stdout",
       "text": [
        "1e-10 False 580769.843901\n",
        "1e-12"
       ]
      },
      {
       "output_type": "stream",
       "stream": "stdout",
       "text": [
        " False 43424.8842844\n",
        "1e-14"
       ]
      },
      {
       "output_type": "stream",
       "stream": "stdout",
       "text": [
        " True 43410.625735\n",
        "1e-14"
       ]
      },
      {
       "output_type": "stream",
       "stream": "stdout",
       "text": [
        " False 43410.6232048\n",
        "1e-15"
       ]
      },
      {
       "output_type": "stream",
       "stream": "stdout",
       "text": [
        " False 43410.6546135\n",
        "1e-16"
       ]
      },
      {
       "output_type": "stream",
       "stream": "stdout",
       "text": [
        " True 43410.6593072\n",
        "1e-16"
       ]
      },
      {
       "output_type": "stream",
       "stream": "stdout",
       "text": [
        " False 43410.6575387\n",
        "1e-18"
       ]
      },
      {
       "output_type": "stream",
       "stream": "stdout",
       "text": [
        " True 43410.6606154\n",
        "1e-19"
       ]
      },
      {
       "output_type": "stream",
       "stream": "stdout",
       "text": [
        " True 43410.660632\n"
       ]
      }
     ],
     "prompt_number": 6
    },
    {
     "cell_type": "code",
     "collapsed": false,
     "input": [
      "for mm in [0,1]:\n",
      "    params['tol'] = 1e-16\n",
      "    params['use_quad'] = False\n",
      "    params['matrix_mode'] = mm\n",
      "    print mm, np.sum((F.residuals(params)/F.phase_uncerts)**2)"
     ],
     "language": "python",
     "metadata": {},
     "outputs": [
      {
       "output_type": "stream",
       "stream": "stdout",
       "text": [
        " 0 "
       ]
      },
      {
       "output_type": "stream",
       "stream": "stdout",
       "text": [
        "43410.6575387\n",
        "1 "
       ]
      },
      {
       "output_type": "stream",
       "stream": "stdout",
       "text": [
        "43410.7499667\n"
       ]
      }
     ],
     "prompt_number": 8
    },
    {
     "cell_type": "code",
     "collapsed": false,
     "input": [
      "len(F.mjds)"
     ],
     "language": "python",
     "metadata": {},
     "outputs": [
      {
       "output_type": "pyout",
       "prompt_number": 9,
       "text": [
        "26280"
       ]
      }
     ],
     "prompt_number": 9
    },
    {
     "cell_type": "code",
     "collapsed": false,
     "input": [],
     "language": "python",
     "metadata": {},
     "outputs": []
    }
   ],
   "metadata": {}
  }
 ]
}