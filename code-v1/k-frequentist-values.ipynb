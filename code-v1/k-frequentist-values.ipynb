{
 "cells": [
  {
   "cell_type": "code",
   "execution_count": 7,
   "metadata": {},
   "outputs": [
    {
     "name": "stdout",
     "output_type": "stream",
     "text": [
      "The autoreload extension is already loaded. To reload it, use:\n",
      "  %reload_ext autoreload\n"
     ]
    }
   ],
   "source": [
    "%load_ext autoreload\n",
    "\n",
    "%autoreload 2\n",
    "\n",
    "from __future__ import division, print_function\n",
    "\n",
    "import cPickle as pickle\n",
    "from glob import glob\n",
    "import subprocess\n",
    "import sys\n",
    "import string\n",
    "import os\n",
    "import random\n",
    "import numpy as np\n",
    "from os.path import join\n",
    "\n",
    "import threebody\n",
    "\n",
    "import logging\n",
    "logger = logging.getLogger()\n",
    "#logger.setLevel(logging.DEBUG)\n",
    "logger.setLevel(logging.INFO)\n",
    "logging.debug(\"test\")"
   ]
  },
  {
   "cell_type": "code",
   "execution_count": 54,
   "metadata": {
    "collapsed": true
   },
   "outputs": [],
   "source": [
    "name = \"lband\""
   ]
  },
  {
   "cell_type": "code",
   "execution_count": 55,
   "metadata": {},
   "outputs": [
    {
     "name": "stdout",
     "output_type": "stream",
     "text": [
      "Goodness of fit: 35964.2426404\n",
      "asini_i 1.2175257(3)e0 2.63787630239e-07\n",
      "pb_i 1.6293946(7)e0 6.78439451839e-07\n",
      "eps1_i 6.879(2)e-4 2.05113394164e-07\n",
      "eps2_i -9.1375(18)e-5 1.81444874624e-08\n",
      "tasc_i 4.0771674(7)e-1 6.53765097781e-08\n",
      "acosi_i 1.48968(19)e0 0.000190225026422\n",
      "q_i 1.37415(5)e-1 4.58682128044e-06\n",
      "asini_o 7.4672659(13)e1 1.27770208215e-05\n",
      "pb_o 3.2725712(11)e2 0.000111175180261\n",
      "eps1_o 3.518607(5)e-2 4.87421507821e-08\n",
      "eps2_o -3.46273(16)e-3 1.62125743842e-07\n",
      "tasc_o 3.1393539(11)e2 0.000111119145954\n",
      "acosi_o 9.1371(12)e1 0.0124057618027\n",
      "delta_lan 5.6(9)e-6 8.51042143298e-07\n",
      "delta -6.8(19)e-7 1.89080335228e-07\n",
      "dgamma 1(3)e-2 0.0277406178145\n",
      "dbeta 5(5)e-2 0.053267632291\n",
      "DM_0000 1.5(12)e2 116.254445136\n",
      "DM_0001 1.5(12)e2 116.25438626\n",
      "DM_0002 1.5(12)e2 116.253921211\n",
      "DM_0003 1.5(12)e2 116.254014236\n",
      "DM_0004 1.5(12)e2 116.253785841\n",
      "DM_0005 1.5(12)e2 116.254079955\n",
      "DM_0006 1.5(12)e2 116.253838312\n",
      "DM_0007 1.5(12)e2 116.25419967\n",
      "DM_0008 1.5(12)e2 116.254118995\n",
      "DM_0009 1.5(12)e2 116.255546564\n",
      "DM_0010 1.5(12)e2 116.256394809\n",
      "FD1 1.2(10)e0 0.959581264406\n",
      "FD2 -1.2(9)e0 0.931397308039\n",
      "FD3 7(5)e-1 0.538527538436\n",
      "FD4 -2.0(15)e-1 0.154273693854\n",
      "IPM_0000 5.4(8)e1 8.16930350363\n",
      "IPM_0001 4.3(6)e2 61.2479078246\n",
      "IPM_0002 1.02(20)e2 19.5330288243\n",
      "IPM_0003 -9.5(18)e2 179.994333418\n",
      "IPM_0004 0(3)e1 26.4306568055\n",
      "IPM_0005 -1.6(2)e3 249.650879144\n",
      "IPM_0006 6.4(9)e2 94.9938928023\n",
      "IPM_0007 9.1(14)e2 138.667446124\n",
      "IPM_0008 -9(5)e1 49.5189498996\n",
      "IPM_0009 4.6(15)e3 1493.92119628\n",
      "IPM_0010 -4.2(9)e3 923.956717619\n",
      "d_DECJ 5.6(5)e-5 4.59109236871e-06\n",
      "d_PMDEC -3.08(20)e-8 1.97597134186e-09\n",
      "d_PMRA -5.3(6)e-9 5.95176273746e-10\n",
      "d_PX -3(8)e0 7.79554469374\n",
      "d_RAJ -1.74(11)e-5 1.05334710922e-06\n",
      "f0 3.65953363082(4)e2 3.80315551519e-09\n",
      "f1 -1.177542(4)e-15 4.30269288227e-21\n",
      "j_GBT_1400 -3.390(5)e-3 4.91218296261e-06\n",
      "j_WSRT_1400 -3.642(10)e-3 1.01040165499e-05\n",
      "phase -5.6913126643(5)e9 0.482079033233\n"
     ]
    }
   ],
   "source": [
    "d = join(\"derivative-runs\",name)\n",
    "params = pickle.load(open(join(d,\"params.pickle\"),\"rb\"))\n",
    "F = threebody.Fitter(**params)\n",
    "try:\n",
    "    F.best_parameters = pickle.load(\n",
    "        open(join(d,\"best_parameters.pickle\"),\"rb\"))\n",
    "except IOError:\n",
    "    pass\n",
    "derivatives = {}\n",
    "for p in F.parameters:\n",
    "    derivatives[p] = np.load(join(d,\"%s.npy\" % p))\n",
    "print(\"Goodness of fit:\",F.goodness_of_fit())\n",
    "M, linear_parameters = F.compute_linear_matrix()\n",
    "lv, linear_parameters = F.compute_linear_parts()\n",
    "for i, p in enumerate(linear_parameters):\n",
    "    derivatives[p] = M[:,i]\n",
    "\n",
    "ps = F.parameters + linear_parameters\n",
    "Abig = np.array([derivatives[p] \n",
    "                 for p in ps], \n",
    "                dtype=np.longdouble).T\n",
    "#print(Abig.shape)\n",
    "result = threebody.lstsq_with_errors(Abig, \n",
    "                                     F.residuals(), \n",
    "                                     F.phase_uncerts)\n",
    "\n",
    "for i,p in enumerate(ps):\n",
    "    if p in F.parameters:\n",
    "        v = F.best_parameters[p]\n",
    "    elif p in linear_parameters:\n",
    "        v = lv[linear_parameters.index(p)]\n",
    "    else:\n",
    "        v = 0\n",
    "    print(p, \n",
    "          threebody.fmt(v-result.x[i], result.uncerts[i]), \n",
    "          result.uncerts[i])"
   ]
  },
  {
   "cell_type": "code",
   "execution_count": 56,
   "metadata": {},
   "outputs": [
    {
     "name": "stdout",
     "output_type": "stream",
     "text": [
      "pre-improvement: 35964.2426404\n",
      "post-improvement: 319961.550896\n"
     ]
    }
   ],
   "source": [
    "# FIXME\n",
    "bp = F.best_parameters.copy()\n",
    "for p in F.parameters:\n",
    "    i = ps.index(p)\n",
    "    bp[p] -= result.x[i]\n",
    "pre = F.goodness_of_fit(F.best_parameters)\n",
    "print(\"pre-improvement:\", pre)\n",
    "post = F.goodness_of_fit(bp)\n",
    "print(\"post-improvement:\", post)\n",
    "if post<pre:\n",
    "    with open(\"derivative-best-parameters.pickle\",\"wb\") as f:\n",
    "        pickle.dump(bp, f)"
   ]
  },
  {
   "cell_type": "code",
   "execution_count": 57,
   "metadata": {},
   "outputs": [
    {
     "data": {
      "text/plain": [
       "['asini_i',\n",
       " 'pb_i',\n",
       " 'eps1_i',\n",
       " 'eps2_i',\n",
       " 'tasc_i',\n",
       " 'acosi_i',\n",
       " 'q_i',\n",
       " 'asini_o',\n",
       " 'pb_o',\n",
       " 'eps1_o',\n",
       " 'eps2_o',\n",
       " 'tasc_o',\n",
       " 'acosi_o',\n",
       " 'delta_lan',\n",
       " 'delta',\n",
       " 'dgamma',\n",
       " 'dbeta']"
      ]
     },
     "execution_count": 57,
     "metadata": {},
     "output_type": "execute_result"
    }
   ],
   "source": [
    "F.parameters"
   ]
  },
  {
   "cell_type": "code",
   "execution_count": 58,
   "metadata": {},
   "outputs": [
    {
     "data": {
      "text/plain": [
       "1.24043120876"
      ]
     },
     "execution_count": 58,
     "metadata": {},
     "output_type": "execute_result"
    }
   ],
   "source": [
    "np.median(F.phase_uncerts)/F.reference_f0*1e6"
   ]
  },
  {
   "cell_type": "code",
   "execution_count": null,
   "metadata": {
    "collapsed": true
   },
   "outputs": [],
   "source": []
  }
 ],
 "metadata": {
  "kernelspec": {
   "display_name": "Python 2",
   "language": "python",
   "name": "python2"
  },
  "language_info": {
   "codemirror_mode": {
    "name": "ipython",
    "version": 2
   },
   "file_extension": ".py",
   "mimetype": "text/x-python",
   "name": "python",
   "nbconvert_exporter": "python",
   "pygments_lexer": "ipython2",
   "version": "2.7.3"
  }
 },
 "nbformat": 4,
 "nbformat_minor": 2
}
