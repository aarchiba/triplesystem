{
 "cells": [
  {
   "cell_type": "code",
   "execution_count": 7,
   "metadata": {},
   "outputs": [
    {
     "name": "stdout",
     "output_type": "stream",
     "text": [
      "The autoreload extension is already loaded. To reload it, use:\n",
      "  %reload_ext autoreload\n"
     ]
    }
   ],
   "source": [
    "%load_ext autoreload\n",
    "\n",
    "%autoreload 2\n",
    "\n",
    "from __future__ import division, print_function\n",
    "\n",
    "import cPickle as pickle\n",
    "from glob import glob\n",
    "import subprocess\n",
    "import sys\n",
    "import string\n",
    "import os\n",
    "import random\n",
    "import numpy as np\n",
    "from os.path import join\n",
    "\n",
    "import threebody\n",
    "\n",
    "import logging\n",
    "logger = logging.getLogger()\n",
    "#logger.setLevel(logging.DEBUG)\n",
    "logger.setLevel(logging.INFO)\n",
    "logging.debug(\"test\")"
   ]
  },
  {
   "cell_type": "code",
   "execution_count": 45,
   "metadata": {
    "collapsed": true
   },
   "outputs": [],
   "source": [
    "name = \"dmtesting\""
   ]
  },
  {
   "cell_type": "code",
   "execution_count": 46,
   "metadata": {},
   "outputs": [
    {
     "name": "stdout",
     "output_type": "stream",
     "text": [
      "Goodness of fit: 39907.0546317\n",
      "asini_i 1.2175243(2)e0 2.33678894276e-07\n",
      "pb_i 1.6293909(6)e0 6.02189987355e-07\n",
      "eps1_i 6.8900(18)e-4 1.82207016017e-07\n",
      "eps2_i -9.1463(17)e-5 1.73734612523e-08\n",
      "tasc_i 4.0771638(6)e-1 5.79712914925e-08\n",
      "acosi_i 1.48954(18)e0 0.000177412511269\n",
      "q_i 1.37431(4)e-1 3.98411471275e-06\n",
      "asini_o 7.4672590(11)e1 1.14195575329e-05\n",
      "pb_o 3.2725652(10)e2 9.95086802009e-05\n",
      "eps1_o 3.518581(4)e-2 4.36114099251e-08\n",
      "eps2_o -3.46359(15)e-3 1.45098404179e-07\n",
      "tasc_o 3.1393480(10)e2 9.94679139442e-05\n",
      "acosi_o 9.1369(11)e1 0.0114499700449\n",
      "delta_lan -5.3(7)e-6 6.94278216971e-07\n",
      "delta -1.67(17)e-6 1.69715666162e-07\n",
      "dgamma 6(3)e-2 0.0252414357206\n",
      "dbeta 1.5(5)e-1 0.0482485184572\n",
      "FD1 4(10)e-1 0.956470105268\n",
      "FD2 -4(9)e-1 0.928354361472\n",
      "FD3 2(5)e-1 0.536720263027\n",
      "FD4 0(15)e-2 0.153722453772\n",
      "d_DECJ 5.79(17)e-5 1.65403272011e-06\n",
      "d_DM 0(12)e1 115.878015273\n",
      "d_PMDEC -1.55(9)e-8 9.28313220634e-10\n",
      "d_PMRA -9.5(3)e-9 2.52027964627e-10\n",
      "d_PX -9(6)e0 5.50121269708\n",
      "d_RAJ -1.71(4)e-5 3.85130386477e-07\n",
      "f0 3.65953363077(4)e2 3.55072956747e-09\n",
      "f1 -1.1775313(12)e-15 1.24794184309e-21\n",
      "j_GBT_1400 -3.396(5)e-3 4.51735849986e-06\n",
      "j_WSRT_1400 -3.694(10)e-3 9.82143078762e-06\n",
      "phase -5.6913126639(5)e9 0.480517988882\n"
     ]
    }
   ],
   "source": [
    "d = join(\"derivative-runs\",name)\n",
    "params = pickle.load(open(join(d,\"params.pickle\"),\"rb\"))\n",
    "F = threebody.Fitter(**params)\n",
    "try:\n",
    "    F.best_parameters = pickle.load(\n",
    "        open(join(d,\"best_parameters.pickle\"),\"rb\"))\n",
    "except IOError:\n",
    "    pass\n",
    "derivatives = {}\n",
    "for p in F.parameters:\n",
    "    derivatives[p] = np.load(join(d,\"%s.npy\" % p))\n",
    "print(\"Goodness of fit:\",F.goodness_of_fit())\n",
    "M, linear_parameters = F.compute_linear_matrix()\n",
    "lv, linear_parameters = F.compute_linear_parts()\n",
    "for i, p in enumerate(linear_parameters):\n",
    "    derivatives[p] = M[:,i]\n",
    "\n",
    "ps = F.parameters + linear_parameters\n",
    "Abig = np.array([derivatives[p] \n",
    "                 for p in ps], \n",
    "                dtype=np.longdouble).T\n",
    "#print(Abig.shape)\n",
    "result = threebody.lstsq_with_errors(Abig, \n",
    "                                     F.residuals(), \n",
    "                                     F.phase_uncerts)\n",
    "\n",
    "for i,p in enumerate(ps):\n",
    "    if p in F.parameters:\n",
    "        v = F.best_parameters[p]\n",
    "    elif p in linear_parameters:\n",
    "        v = lv[linear_parameters.index(p)]\n",
    "    else:\n",
    "        v = 0\n",
    "    print(p, \n",
    "          threebody.fmt(v-result.x[i], result.uncerts[i]), \n",
    "          result.uncerts[i])"
   ]
  },
  {
   "cell_type": "code",
   "execution_count": 47,
   "metadata": {},
   "outputs": [
    {
     "name": "stdout",
     "output_type": "stream",
     "text": [
      "pre-improvement: 39907.0546317\n",
      "post-improvement: 7634274.73486\n"
     ]
    }
   ],
   "source": [
    "# FIXME\n",
    "bp = F.best_parameters.copy()\n",
    "for p in F.parameters:\n",
    "    i = ps.index(p)\n",
    "    bp[p] -= result.x[i]\n",
    "pre = F.goodness_of_fit(F.best_parameters)\n",
    "print(\"pre-improvement:\", pre)\n",
    "post = F.goodness_of_fit(bp)\n",
    "print(\"post-improvement:\", post)\n",
    "if post<pre:\n",
    "    with open(\"derivative-best-parameters.pickle\",\"wb\") as f:\n",
    "        pickle.dump(bp, f)"
   ]
  },
  {
   "cell_type": "code",
   "execution_count": 48,
   "metadata": {},
   "outputs": [
    {
     "data": {
      "text/plain": [
       "['asini_i',\n",
       " 'pb_i',\n",
       " 'eps1_i',\n",
       " 'eps2_i',\n",
       " 'tasc_i',\n",
       " 'acosi_i',\n",
       " 'q_i',\n",
       " 'asini_o',\n",
       " 'pb_o',\n",
       " 'eps1_o',\n",
       " 'eps2_o',\n",
       " 'tasc_o',\n",
       " 'acosi_o',\n",
       " 'delta_lan',\n",
       " 'delta',\n",
       " 'dgamma',\n",
       " 'dbeta']"
      ]
     },
     "execution_count": 48,
     "metadata": {},
     "output_type": "execute_result"
    }
   ],
   "source": [
    "F.parameters"
   ]
  },
  {
   "cell_type": "code",
   "execution_count": null,
   "metadata": {
    "collapsed": true
   },
   "outputs": [],
   "source": []
  }
 ],
 "metadata": {
  "kernelspec": {
   "display_name": "Python 2",
   "language": "python",
   "name": "python2"
  },
  "language_info": {
   "codemirror_mode": {
    "name": "ipython",
    "version": 2
   },
   "file_extension": ".py",
   "mimetype": "text/x-python",
   "name": "python",
   "nbconvert_exporter": "python",
   "pygments_lexer": "ipython2",
   "version": "2.7.3"
  }
 },
 "nbformat": 4,
 "nbformat_minor": 2
}
