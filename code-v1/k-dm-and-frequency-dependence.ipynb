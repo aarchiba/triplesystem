{
 "cells": [
  {
   "cell_type": "code",
   "execution_count": 1,
   "metadata": {},
   "outputs": [
    {
     "name": "stderr",
     "output_type": "stream",
     "text": [
      "DEBUG:root:test\n"
     ]
    }
   ],
   "source": [
    "%load_ext autoreload\n",
    "\n",
    "%autoreload 2\n",
    "\n",
    "from glob import glob\n",
    "from os.path import join\n",
    "import os\n",
    "import pickle\n",
    "\n",
    "import scipy.linalg\n",
    "import matplotlib\n",
    "matplotlib.rcParams[\"figure.dpi\"] = 144\n",
    "matplotlib.rcParams[\"savefig.dpi\"] = 144\n",
    "import matplotlib.pyplot as plt\n",
    "import numpy as np\n",
    "\n",
    "from astropy.table import Table, Column\n",
    "import astropy.units as u\n",
    "\n",
    "import emcee\n",
    "\n",
    "import kepler\n",
    "import threebody\n",
    "\n",
    "import minuit_wrap\n",
    "%matplotlib inline\n",
    "\n",
    "import logging\n",
    "logger = logging.getLogger()\n",
    "logger.setLevel(logging.DEBUG)\n",
    "#logger.setLevel(logging.INFO)\n",
    "logging.debug(\"test\")"
   ]
  },
  {
   "cell_type": "code",
   "execution_count": 2,
   "metadata": {},
   "outputs": [
    {
     "name": "stderr",
     "output_type": "stream",
     "text": [
      "DEBUG:threebody:Fitting DM\n",
      "DEBUG:threebody:base telescope AO_1400 from list of ['AO_1400', 'AO_430', 'GBT_1400', 'WSRT_1400', 'WSRT_350']\n"
     ]
    }
   ],
   "source": [
    "d = pickle.load(open(\"fitter_params.pickle\"))\n",
    "F = threebody.Fitter(**d)\n",
    "params = d"
   ]
  },
  {
   "cell_type": "code",
   "execution_count": 3,
   "metadata": {
    "scrolled": false
   },
   "outputs": [
    {
     "name": "stderr",
     "output_type": "stream",
     "text": [
      "DEBUG:threebody:Started residuals for {'f0': 365.95336311128915, 'shapiro': True, 'j_NCY1400': 0.000675, 'asini_i': 1.2175265019387542758, 'eps2_i': -9.1300073961811384699e-05, 'delta_lan': -9.8698650879648641589e-06, 'eps2_o': -0.003462177678515299745, 'q_i': 0.13730684938043949346, 'asini_o': 74.672702906402272566, 'j_GBT350': 1.8517017863581812e-05, 'dgamma': 0.00020638502444498746259, 'tasc_i': 0.40771691870264608189, 'ppn_mode': 'heavysimple', 'd_RAJ': -3.4254785902426147e-09, 'acosi_i': 1.4922378021036498232, 'acosi_o': 91.474385642988143237, 'tasc_o': 313.93578089310207763, 'eps1_o': 0.035186238583013847816, 'eps1_i': 0.00068708310951100119386, 'tol': 1e-16, 'd_PMRA': 9.885280864586482e-11, 'j_WSRT350': -3.659850586544055e-05, 'd_PMDEC': -1.9580532733266362e-10, 'j_GBT820': 6.785312385988059e-05, 'use_quad': False, 'd_PX': -0.5531255775641357, 'j_AO327': 6.509749509896134e-05, 'd_DECJ': -1.070731501745044e-09, 'delta': -1.0316357225747149967e-09, 'j_AO1440': 4.8927007422127645e-05, 'j_AO1350': 5.416890691232084e-05, 'dbeta': 0.00026309182085843098181, 'pb_o': 327.25750664874838183, 'pb_i': 1.6293969538395742265, 'j_GBT1500': 6.2342354290442e-05}\n",
      "DEBUG:threebody:Started compute_orbit for {'f0': 365.95336311128915, 'shapiro': True, 'j_NCY1400': 0.000675, 'asini_i': 1.2175265019387542758, 'eps2_i': -9.1300073961811384699e-05, 'delta_lan': -9.8698650879648641589e-06, 'eps2_o': -0.003462177678515299745, 'q_i': 0.13730684938043949346, 'asini_o': 74.672702906402272566, 'j_GBT350': 1.8517017863581812e-05, 'dgamma': 0.00020638502444498746259, 'tasc_i': 0.40771691870264608189, 'ppn_mode': 'heavysimple', 'd_RAJ': -3.4254785902426147e-09, 'acosi_i': 1.4922378021036498232, 'acosi_o': 91.474385642988143237, 'tasc_o': 313.93578089310207763, 'eps1_o': 0.035186238583013847816, 'eps1_i': 0.00068708310951100119386, 'tol': 1e-16, 'd_PMRA': 9.885280864586482e-11, 'j_WSRT350': -3.659850586544055e-05, 'd_PMDEC': -1.9580532733266362e-10, 'j_GBT820': 6.785312385988059e-05, 'use_quad': False, 'd_PX': -0.5531255775641357, 'j_AO327': 6.509749509896134e-05, 'd_DECJ': -1.070731501745044e-09, 'delta': -1.0316357225747149967e-09, 'j_AO1440': 4.8927007422127645e-05, 'j_AO1350': 5.416890691232084e-05, 'dbeta': 0.00026309182085843098181, 'pb_o': 327.25750664874838183, 'pb_i': 1.6293969538395742265, 'j_GBT1500': 6.2342354290442e-05}\n",
      "DEBUG:threebody:compute_orbit cache miss, running calculation\n",
      "DEBUG:threebody:Calling compute_orbit\n",
      "DEBUG:threebody:Running compute_orbit with parameter_dict {'f0': 365.95336311128915, 'shapiro': True, 'j_NCY1400': 0.000675, 'asini_i': 1.2175265019387542758, 'eps2_i': -9.1300073961811384699e-05, 'delta_lan': -9.8698650879648641589e-06, 'eps2_o': -0.003462177678515299745, 'q_i': 0.13730684938043949346, 'asini_o': 74.672702906402272566, 'j_GBT350': 1.8517017863581812e-05, 'dgamma': 0.00020638502444498746259, 'tasc_i': 0.40771691870264608189, 'ppn_mode': 'heavysimple', 'd_RAJ': -3.4254785902426147e-09, 'acosi_i': 1.4922378021036498232, 'acosi_o': 91.474385642988143237, 'tasc_o': 313.93578089310207763, 'eps1_o': 0.035186238583013847816, 'eps1_i': 0.00068708310951100119386, 'tol': 1e-16, 'd_PMRA': 9.885280864586482e-11, 'j_WSRT350': -3.659850586544055e-05, 'd_PMDEC': -1.9580532733266362e-10, 'j_GBT820': 6.785312385988059e-05, 'use_quad': False, 'd_PX': -0.5531255775641357, 'j_AO327': 6.509749509896134e-05, 'd_DECJ': -1.070731501745044e-09, 'delta': -1.0316357225747149967e-09, 'j_AO1440': 4.8927007422127645e-05, 'j_AO1350': 5.416890691232084e-05, 'dbeta': 0.00026309182085843098181, 'pb_o': 327.25750664874838183, 'pb_i': 1.6293969538395742265, 'j_GBT1500': 6.2342354290442e-05}\n",
      "DEBUG:threebody:PPN mode is heavysimple\n",
      "DEBUG:threebody:Running compute_orbit from time 36.6989459147 to 1967.82251765 with tol 1e-16\n",
      "DEBUG:threebody:Constructing initial conditions\n",
      "DEBUG:threebody:setting up RHS\n",
      "DEBUG:threebody:Constructing ODE integrator\n",
      "DEBUG:threebody:Computing TOA 0 at t_bb=36.6989\n",
      "DEBUG:threebody:Extracting results\n",
      "DEBUG:threebody:Computing TOA 1 at t_bb=46.8416\n",
      "DEBUG:threebody:Extracting results\n",
      "DEBUG:threebody:Computing TOA 3 at t_bb=47.7225\n",
      "DEBUG:threebody:Extracting results\n",
      "DEBUG:threebody:Computing TOA 7 at t_bb=47.7225\n",
      "DEBUG:threebody:Extracting results\n",
      "DEBUG:threebody:Computing TOA 15 at t_bb=48.7189\n",
      "DEBUG:threebody:Extracting results\n",
      "DEBUG:threebody:Computing TOA 31 at t_bb=57.7207\n",
      "DEBUG:threebody:Extracting results\n",
      "DEBUG:threebody:Computing TOA 63 at t_bb=67.6568\n",
      "DEBUG:threebody:Extracting results\n",
      "DEBUG:threebody:Computing TOA 127 at t_bb=69.8795\n",
      "DEBUG:threebody:Extracting results\n",
      "DEBUG:threebody:Computing TOA 255 at t_bb=75.6883\n",
      "DEBUG:threebody:Extracting results\n",
      "DEBUG:threebody:Computing TOA 511 at t_bb=78.8405\n",
      "DEBUG:threebody:Extracting results\n",
      "DEBUG:threebody:Computing TOA 1023 at t_bb=92.8037\n",
      "DEBUG:threebody:Extracting results\n",
      "DEBUG:threebody:Computing TOA 2047 at t_bb=116.992\n",
      "DEBUG:threebody:Extracting results\n",
      "DEBUG:threebody:Computing TOA 4095 at t_bb=167.625\n",
      "DEBUG:threebody:Extracting results\n",
      "DEBUG:threebody:Computing TOA 8191 at t_bb=316.356\n",
      "DEBUG:threebody:Extracting results\n",
      "DEBUG:threebody:Computing TOA 16383 at t_bb=1316.52\n",
      "DEBUG:threebody:Extracting results\n",
      "DEBUG:threebody:Done integration\n",
      "DEBUG:threebody:Back from compute_orbit after time 35.2283630371 (1611357 evaluations)\n",
      "DEBUG:threebody:Setting up linear least-squares fitting\n",
      "DEBUG:threebody:Residual chi-squared: 151502.27457\n",
      "DEBUG:threebody:Residual chi-squared: 151135.520248\n",
      "DEBUG:threebody:Residual chi-squared: 151135.516631\n",
      "DEBUG:threebody:Done linear least-squares\n"
     ]
    },
    {
     "data": {
      "text/plain": [
       "array([ 4.5309745e+09,  4.2102823e+09,  4.1824314e+09, ..., -5.6528015e+10,\n",
       "       -5.6528015e+10, -5.6528015e+10], dtype=float128)"
      ]
     },
     "execution_count": 3,
     "metadata": {},
     "output_type": "execute_result"
    }
   ],
   "source": [
    "F.residuals(F.best_parameters)"
   ]
  },
  {
   "cell_type": "code",
   "execution_count": 4,
   "metadata": {},
   "outputs": [
    {
     "name": "stderr",
     "output_type": "stream",
     "text": [
      "DEBUG:threebody:Computing linear parts\n",
      "DEBUG:threebody:Computing linear matrix\n",
      "DEBUG:threebody:Started compute_orbit for {'f0': 365.95336311128915, 'shapiro': True, 'j_NCY1400': 0.000675, 'asini_i': 1.2175265019387542758, 'eps2_i': -9.1300073961811384699e-05, 'delta_lan': -9.8698650879648641589e-06, 'eps2_o': -0.003462177678515299745, 'q_i': 0.13730684938043949346, 'asini_o': 74.672702906402272566, 'j_GBT350': 1.8517017863581812e-05, 'dgamma': 0.00020638502444498746259, 'tasc_i': 0.40771691870264608189, 'ppn_mode': 'heavysimple', 'd_RAJ': -3.4254785902426147e-09, 'acosi_i': 1.4922378021036498232, 'acosi_o': 91.474385642988143237, 'tasc_o': 313.93578089310207763, 'eps1_o': 0.035186238583013847816, 'eps1_i': 0.00068708310951100119386, 'tol': 1e-16, 'd_PMRA': 9.885280864586482e-11, 'j_WSRT350': -3.659850586544055e-05, 'd_PMDEC': -1.9580532733266362e-10, 'j_GBT820': 6.785312385988059e-05, 'use_quad': False, 'd_PX': -0.5531255775641357, 'j_AO327': 6.509749509896134e-05, 'd_DECJ': -1.070731501745044e-09, 'delta': -1.0316357225747149967e-09, 'j_AO1440': 4.8927007422127645e-05, 'j_AO1350': 5.416890691232084e-05, 'dbeta': 0.00026309182085843098181, 'pb_o': 327.25750664874838183, 'pb_i': 1.6293969538395742265, 'j_GBT1500': 6.2342354290442e-05}\n",
      "DEBUG:threebody:compute_orbit cache hit\n",
      "DEBUG:threebody:fit matrix shape is (24301, 13)\n",
      "DEBUG:threebody:Residual chi-squared: 151502.27457\n",
      "DEBUG:threebody:Residual chi-squared: 151135.520248\n",
      "DEBUG:threebody:Residual chi-squared: 151135.516631\n",
      "DEBUG:threebody:final x: [ 6.7828325e-05 -1.0733199 -2.2332332e-08 -8.4675898e-09  43.382006\n",
      " -1.8977524e-05  365.95336 -1.1775282e-15  0.20712186 -0.0033290751\n",
      " -0.0034739757  0.20119779 -5.6913127e+09]\n",
      "DEBUG:threebody:residual 151135.522342\n",
      "DEBUG:threebody:residual RMS 0.001307\n"
     ]
    }
   ],
   "source": [
    "vals, names = F.compute_linear_parts(F.best_parameters)\n",
    "lp = dict(zip(names, vals))\n",
    "der = dict(zip(F.jnames, F.jmatrix.T))"
   ]
  },
  {
   "cell_type": "code",
   "execution_count": 5,
   "metadata": {},
   "outputs": [
    {
     "name": "stderr",
     "output_type": "stream",
     "text": [
      "DEBUG:threebody:Started residuals for {'f0': 365.95336311128915, 'shapiro': True, 'j_NCY1400': 0.000675, 'asini_i': 1.2175265019387542758, 'eps2_i': -9.1300073961811384699e-05, 'delta_lan': -9.8698650879648641589e-06, 'eps2_o': -0.003462177678515299745, 'q_i': 0.13730684938043949346, 'asini_o': 74.672702906402272566, 'j_GBT350': 1.8517017863581812e-05, 'dgamma': 0.00020638502444498746259, 'tasc_i': 0.40771691870264608189, 'ppn_mode': 'heavysimple', 'd_RAJ': -3.4254785902426147e-09, 'acosi_i': 1.4922378021036498232, 'acosi_o': 91.474385642988143237, 'tasc_o': 313.93578089310207763, 'eps1_o': 0.035186238583013847816, 'eps1_i': 0.00068708310951100119386, 'tol': 1e-16, 'd_PMRA': 9.885280864586482e-11, 'j_WSRT350': -3.659850586544055e-05, 'd_PMDEC': -1.9580532733266362e-10, 'j_GBT820': 6.785312385988059e-05, 'use_quad': False, 'd_PX': -0.5531255775641357, 'j_AO327': 6.509749509896134e-05, 'd_DECJ': -1.070731501745044e-09, 'delta': -1.0316357225747149967e-09, 'j_AO1440': 4.8927007422127645e-05, 'j_AO1350': 5.416890691232084e-05, 'dbeta': 0.00026309182085843098181, 'pb_o': 327.25750664874838183, 'pb_i': 1.6293969538395742265, 'j_GBT1500': 6.2342354290442e-05}\n",
      "DEBUG:threebody:Started compute_orbit for {'f0': 365.95336311128915, 'shapiro': True, 'j_NCY1400': 0.000675, 'asini_i': 1.2175265019387542758, 'eps2_i': -9.1300073961811384699e-05, 'delta_lan': -9.8698650879648641589e-06, 'eps2_o': -0.003462177678515299745, 'q_i': 0.13730684938043949346, 'asini_o': 74.672702906402272566, 'j_GBT350': 1.8517017863581812e-05, 'dgamma': 0.00020638502444498746259, 'tasc_i': 0.40771691870264608189, 'ppn_mode': 'heavysimple', 'd_RAJ': -3.4254785902426147e-09, 'acosi_i': 1.4922378021036498232, 'acosi_o': 91.474385642988143237, 'tasc_o': 313.93578089310207763, 'eps1_o': 0.035186238583013847816, 'eps1_i': 0.00068708310951100119386, 'tol': 1e-16, 'd_PMRA': 9.885280864586482e-11, 'j_WSRT350': -3.659850586544055e-05, 'd_PMDEC': -1.9580532733266362e-10, 'j_GBT820': 6.785312385988059e-05, 'use_quad': False, 'd_PX': -0.5531255775641357, 'j_AO327': 6.509749509896134e-05, 'd_DECJ': -1.070731501745044e-09, 'delta': -1.0316357225747149967e-09, 'j_AO1440': 4.8927007422127645e-05, 'j_AO1350': 5.416890691232084e-05, 'dbeta': 0.00026309182085843098181, 'pb_o': 327.25750664874838183, 'pb_i': 1.6293969538395742265, 'j_GBT1500': 6.2342354290442e-05}\n",
      "DEBUG:threebody:compute_orbit cache hit\n",
      "DEBUG:threebody:Setting up linear least-squares fitting\n",
      "DEBUG:threebody:Residual chi-squared: 151502.27457\n",
      "DEBUG:threebody:Residual chi-squared: 151135.520248\n",
      "DEBUG:threebody:Residual chi-squared: 151135.516631\n",
      "DEBUG:threebody:Done linear least-squares\n"
     ]
    }
   ],
   "source": [
    "d = dict()\n",
    "d.update(der)\n",
    "res = F.residuals(F.best_parameters)\n",
    "d[\"resid_phase\"] = res\n",
    "d[\"resid_s\"] = res/F.reference_f0\n",
    "d[\"uncert_phase\"] = F.uncerts\n",
    "toa_info = F.annotated_toas(d)"
   ]
  },
  {
   "cell_type": "code",
   "execution_count": 6,
   "metadata": {},
   "outputs": [
    {
     "data": {
      "text/plain": [
       "<matplotlib.text.Text at 0x113d00d0>"
      ]
     },
     "execution_count": 6,
     "metadata": {},
     "output_type": "execute_result"
    },
    {
     "data": {
      "image/png": "[encoded data removed]",
      "text/plain": [
       "<matplotlib.figure.Figure at 0x32eef90>"
      ]
     },
     "metadata": {},
     "output_type": "display_data"
    }
   ],
   "source": [
    "freqs = np.array([t[\"freq\"] for t in toa_info])\n",
    "d_DMs = np.array([float(t[\"flags\"][\"d_DM\"]) for t in toa_info])\n",
    "fmla = 4.15e6/freqs**2 * 1e-3\n",
    "\n",
    "plt.plot(freqs, fmla,\".\")\n",
    "plt.plot(freqs, d_DMs,\".\")\n",
    "plt.xlabel(\"f (MHz)\")\n",
    "plt.ylabel(\"extra delay (s/DM unit)\")"
   ]
  },
  {
   "cell_type": "code",
   "execution_count": 7,
   "metadata": {},
   "outputs": [
    {
     "data": {
      "text/plain": [
       "<matplotlib.legend.Legend at 0x32f1110>"
      ]
     },
     "execution_count": 7,
     "metadata": {},
     "output_type": "execute_result"
    },
    {
     "data": {
      "image/png": "[encoded data removed]",
      "text/plain": [
       "<matplotlib.figure.Figure at 0x32f1190>"
      ]
     },
     "metadata": {},
     "output_type": "display_data"
    }
   ],
   "source": [
    "for k in der:\n",
    "    d = der[k]\n",
    "    d /= np.sqrt(np.mean(d**2))\n",
    "    plt.plot(freqs, d, \",\", label=k)\n",
    "plt.legend(loc=\"upper center\")"
   ]
  },
  {
   "cell_type": "markdown",
   "metadata": {},
   "source": [
    "We have the derivative of delay, in seconds, with respect to DM, stored in `d_DM`. We solved for the constant `c` that made `c*d_DM` line up with our residuals, measured in phase. So `(c/f0)*d_DM` should line up with our residuals in seconds, and so the actual change in DM called for should be `c/f0` DM units. "
   ]
  },
  {
   "cell_type": "code",
   "execution_count": 8,
   "metadata": {},
   "outputs": [
    {
     "name": "stdout",
     "output_type": "stream",
     "text": [
      "-0.00293294184253 pc/cm^3\n"
     ]
    }
   ],
   "source": [
    "# The fit was to phase not seconds; check correction factor and sign\n",
    "dm_correction = lp[\"d_DM\"]/F.reference_f0 \n",
    "print dm_correction, \"pc/cm^3\"\n"
   ]
  },
  {
   "cell_type": "code",
   "execution_count": 9,
   "metadata": {
    "scrolled": false
   },
   "outputs": [
    {
     "name": "stderr",
     "output_type": "stream",
     "text": [
      "WARNING:threebody:best_parameters not found on disk (74 available)\n"
     ]
    },
    {
     "name": "stdout",
     "output_type": "stream",
     "text": [
      "(21.313, 21.315932941842529886)\n"
     ]
    },
    {
     "name": "stderr",
     "output_type": "stream",
     "text": [
      "INFO:threebody:tempo2 output appears to be old, deleting to trigger recomputation\n",
      "DEBUG:threebody:Fitting DM\n",
      "DEBUG:threebody:base telescope AO_1400 from list of ['AO_1400', 'AO_430', 'GBT_1400', 'WSRT_1400', 'WSRT_350']\n",
      "DEBUG:threebody:Started residuals for {'f0': 365.95336311128915, 'shapiro': True, 'j_NCY1400': 0.000675, 'asini_i': 1.2175265019387542758, 'eps2_i': -9.1300073961811384699e-05, 'delta_lan': -9.8698650879648641589e-06, 'eps2_o': -0.003462177678515299745, 'q_i': 0.13730684938043949346, 'asini_o': 74.672702906402272566, 'j_GBT350': 1.8517017863581812e-05, 'dgamma': 0.00020638502444498746259, 'tasc_i': 0.40771691870264608189, 'ppn_mode': 'heavysimple', 'd_RAJ': -3.4254785902426147e-09, 'acosi_i': 1.4922378021036498232, 'acosi_o': 91.474385642988143237, 'tasc_o': 313.93578089310207763, 'eps1_o': 0.035186238583013847816, 'eps1_i': 0.00068708310951100119386, 'tol': 1e-16, 'd_PMRA': 9.885280864586482e-11, 'j_WSRT350': -3.659850586544055e-05, 'd_PMDEC': -1.9580532733266362e-10, 'j_GBT820': 6.785312385988059e-05, 'use_quad': False, 'd_PX': -0.5531255775641357, 'j_AO327': 6.509749509896134e-05, 'd_DECJ': -1.070731501745044e-09, 'delta': -1.0316357225747149967e-09, 'j_AO1440': 4.8927007422127645e-05, 'j_AO1350': 5.416890691232084e-05, 'dbeta': 0.00026309182085843098181, 'pb_o': 327.25750664874838183, 'pb_i': 1.6293969538395742265, 'j_GBT1500': 6.2342354290442e-05}\n",
      "DEBUG:threebody:Started compute_orbit for {'f0': 365.95336311128915, 'shapiro': True, 'j_NCY1400': 0.000675, 'asini_i': 1.2175265019387542758, 'eps2_i': -9.1300073961811384699e-05, 'delta_lan': -9.8698650879648641589e-06, 'eps2_o': -0.003462177678515299745, 'q_i': 0.13730684938043949346, 'asini_o': 74.672702906402272566, 'j_GBT350': 1.8517017863581812e-05, 'dgamma': 0.00020638502444498746259, 'tasc_i': 0.40771691870264608189, 'ppn_mode': 'heavysimple', 'd_RAJ': -3.4254785902426147e-09, 'acosi_i': 1.4922378021036498232, 'acosi_o': 91.474385642988143237, 'tasc_o': 313.93578089310207763, 'eps1_o': 0.035186238583013847816, 'eps1_i': 0.00068708310951100119386, 'tol': 1e-16, 'd_PMRA': 9.885280864586482e-11, 'j_WSRT350': -3.659850586544055e-05, 'd_PMDEC': -1.9580532733266362e-10, 'j_GBT820': 6.785312385988059e-05, 'use_quad': False, 'd_PX': -0.5531255775641357, 'j_AO327': 6.509749509896134e-05, 'd_DECJ': -1.070731501745044e-09, 'delta': -1.0316357225747149967e-09, 'j_AO1440': 4.8927007422127645e-05, 'j_AO1350': 5.416890691232084e-05, 'dbeta': 0.00026309182085843098181, 'pb_o': 327.25750664874838183, 'pb_i': 1.6293969538395742265, 'j_GBT1500': 6.2342354290442e-05}\n",
      "DEBUG:threebody:compute_orbit cache hit\n",
      "DEBUG:threebody:Setting up linear least-squares fitting\n",
      "DEBUG:threebody:Residual chi-squared: 151502.27457\n",
      "DEBUG:threebody:Residual chi-squared: 151135.520248\n",
      "DEBUG:threebody:Residual chi-squared: 151135.516631\n",
      "DEBUG:threebody:Done linear least-squares\n",
      "DEBUG:threebody:Started residuals for {'f0': 365.95336311128915, 'shapiro': True, 'j_NCY1400': 0.000675, 'asini_i': 1.2175265019387542758, 'eps2_i': -9.1300073961811384699e-05, 'delta_lan': -9.8698650879648641589e-06, 'eps2_o': -0.003462177678515299745, 'q_i': 0.13730684938043949346, 'asini_o': 74.672702906402272566, 'j_GBT350': 1.8517017863581812e-05, 'dgamma': 0.00020638502444498746259, 'tasc_i': 0.40771691870264608189, 'ppn_mode': 'heavysimple', 'd_RAJ': -3.4254785902426147e-09, 'acosi_i': 1.4922378021036498232, 'acosi_o': 91.474385642988143237, 'tasc_o': 313.93578089310207763, 'eps1_o': 0.035186238583013847816, 'eps1_i': 0.00068708310951100119386, 'tol': 1e-16, 'd_PMRA': 9.885280864586482e-11, 'j_WSRT350': -3.659850586544055e-05, 'd_PMDEC': -1.9580532733266362e-10, 'j_GBT820': 6.785312385988059e-05, 'use_quad': False, 'd_PX': -0.5531255775641357, 'j_AO327': 6.509749509896134e-05, 'd_DECJ': -1.070731501745044e-09, 'delta': -1.0316357225747149967e-09, 'j_AO1440': 4.8927007422127645e-05, 'j_AO1350': 5.416890691232084e-05, 'dbeta': 0.00026309182085843098181, 'pb_o': 327.25750664874838183, 'pb_i': 1.6293969538395742265, 'j_GBT1500': 6.2342354290442e-05}\n",
      "DEBUG:threebody:Started compute_orbit for {'f0': 365.95336311128915, 'shapiro': True, 'j_NCY1400': 0.000675, 'asini_i': 1.2175265019387542758, 'eps2_i': -9.1300073961811384699e-05, 'delta_lan': -9.8698650879648641589e-06, 'eps2_o': -0.003462177678515299745, 'q_i': 0.13730684938043949346, 'asini_o': 74.672702906402272566, 'j_GBT350': 1.8517017863581812e-05, 'dgamma': 0.00020638502444498746259, 'tasc_i': 0.40771691870264608189, 'ppn_mode': 'heavysimple', 'd_RAJ': -3.4254785902426147e-09, 'acosi_i': 1.4922378021036498232, 'acosi_o': 91.474385642988143237, 'tasc_o': 313.93578089310207763, 'eps1_o': 0.035186238583013847816, 'eps1_i': 0.00068708310951100119386, 'tol': 1e-16, 'd_PMRA': 9.885280864586482e-11, 'j_WSRT350': -3.659850586544055e-05, 'd_PMDEC': -1.9580532733266362e-10, 'j_GBT820': 6.785312385988059e-05, 'use_quad': False, 'd_PX': -0.5531255775641357, 'j_AO327': 6.509749509896134e-05, 'd_DECJ': -1.070731501745044e-09, 'delta': -1.0316357225747149967e-09, 'j_AO1440': 4.8927007422127645e-05, 'j_AO1350': 5.416890691232084e-05, 'dbeta': 0.00026309182085843098181, 'pb_o': 327.25750664874838183, 'pb_i': 1.6293969538395742265, 'j_GBT1500': 6.2342354290442e-05}\n",
      "DEBUG:threebody:compute_orbit cache miss, running calculation\n",
      "DEBUG:threebody:Calling compute_orbit\n",
      "DEBUG:threebody:Running compute_orbit with parameter_dict {'f0': 365.95336311128915, 'shapiro': True, 'j_NCY1400': 0.000675, 'asini_i': 1.2175265019387542758, 'eps2_i': -9.1300073961811384699e-05, 'delta_lan': -9.8698650879648641589e-06, 'eps2_o': -0.003462177678515299745, 'q_i': 0.13730684938043949346, 'asini_o': 74.672702906402272566, 'j_GBT350': 1.8517017863581812e-05, 'dgamma': 0.00020638502444498746259, 'tasc_i': 0.40771691870264608189, 'ppn_mode': 'heavysimple', 'd_RAJ': -3.4254785902426147e-09, 'acosi_i': 1.4922378021036498232, 'acosi_o': 91.474385642988143237, 'tasc_o': 313.93578089310207763, 'eps1_o': 0.035186238583013847816, 'eps1_i': 0.00068708310951100119386, 'tol': 1e-16, 'd_PMRA': 9.885280864586482e-11, 'j_WSRT350': -3.659850586544055e-05, 'd_PMDEC': -1.9580532733266362e-10, 'j_GBT820': 6.785312385988059e-05, 'use_quad': False, 'd_PX': -0.5531255775641357, 'j_AO327': 6.509749509896134e-05, 'd_DECJ': -1.070731501745044e-09, 'delta': -1.0316357225747149967e-09, 'j_AO1440': 4.8927007422127645e-05, 'j_AO1350': 5.416890691232084e-05, 'dbeta': 0.00026309182085843098181, 'pb_o': 327.25750664874838183, 'pb_i': 1.6293969538395742265, 'j_GBT1500': 6.2342354290442e-05}\n",
      "DEBUG:threebody:PPN mode is heavysimple\n",
      "DEBUG:threebody:Running compute_orbit from time 36.6989459147 to 1967.82251765 with tol 1e-16\n",
      "DEBUG:threebody:Constructing initial conditions\n",
      "DEBUG:threebody:setting up RHS\n",
      "DEBUG:threebody:Constructing ODE integrator\n",
      "DEBUG:threebody:Computing TOA 0 at t_bb=36.6989\n",
      "DEBUG:threebody:Extracting results\n",
      "DEBUG:threebody:Computing TOA 1 at t_bb=46.8416\n",
      "DEBUG:threebody:Extracting results\n",
      "DEBUG:threebody:Computing TOA 3 at t_bb=47.7225\n",
      "DEBUG:threebody:Extracting results\n",
      "DEBUG:threebody:Computing TOA 7 at t_bb=47.7225\n",
      "DEBUG:threebody:Extracting results\n",
      "DEBUG:threebody:Computing TOA 15 at t_bb=48.7189\n",
      "DEBUG:threebody:Extracting results\n",
      "DEBUG:threebody:Computing TOA 31 at t_bb=57.7207\n",
      "DEBUG:threebody:Extracting results\n",
      "DEBUG:threebody:Computing TOA 63 at t_bb=67.6568\n",
      "DEBUG:threebody:Extracting results\n",
      "DEBUG:threebody:Computing TOA 127 at t_bb=69.8795\n",
      "DEBUG:threebody:Extracting results\n",
      "DEBUG:threebody:Computing TOA 255 at t_bb=75.6883\n",
      "DEBUG:threebody:Extracting results\n",
      "DEBUG:threebody:Computing TOA 511 at t_bb=78.8405\n",
      "DEBUG:threebody:Extracting results\n",
      "DEBUG:threebody:Computing TOA 1023 at t_bb=92.8037\n",
      "DEBUG:threebody:Extracting results\n",
      "DEBUG:threebody:Computing TOA 2047 at t_bb=116.992\n",
      "DEBUG:threebody:Extracting results\n",
      "DEBUG:threebody:Computing TOA 4095 at t_bb=167.625\n",
      "DEBUG:threebody:Extracting results\n",
      "DEBUG:threebody:Computing TOA 8191 at t_bb=316.356\n",
      "DEBUG:threebody:Extracting results\n",
      "DEBUG:threebody:Computing TOA 16383 at t_bb=1316.52\n",
      "DEBUG:threebody:Extracting results\n",
      "DEBUG:threebody:Done integration\n",
      "DEBUG:threebody:Back from compute_orbit after time 34.4103720188 (1611357 evaluations)\n",
      "DEBUG:threebody:Setting up linear least-squares fitting\n"
     ]
    },
    {
     "name": "stderr",
     "output_type": "stream",
     "text": [
      "DEBUG:threebody:Residual chi-squared: 151301.177117\n",
      "DEBUG:threebody:Residual chi-squared: 151134.314132\n",
      "DEBUG:threebody:Residual chi-squared: 151134.313745\n",
      "DEBUG:threebody:Done linear least-squares\n",
      "DEBUG:threebody:Computing linear parts\n",
      "DEBUG:threebody:Computing linear matrix\n",
      "DEBUG:threebody:Started compute_orbit for {'f0': 365.95336311128915, 'shapiro': True, 'j_NCY1400': 0.000675, 'asini_i': 1.2175265019387542758, 'eps2_i': -9.1300073961811384699e-05, 'delta_lan': -9.8698650879648641589e-06, 'eps2_o': -0.003462177678515299745, 'q_i': 0.13730684938043949346, 'asini_o': 74.672702906402272566, 'j_GBT350': 1.8517017863581812e-05, 'dgamma': 0.00020638502444498746259, 'tasc_i': 0.40771691870264608189, 'ppn_mode': 'heavysimple', 'd_RAJ': -3.4254785902426147e-09, 'acosi_i': 1.4922378021036498232, 'acosi_o': 91.474385642988143237, 'tasc_o': 313.93578089310207763, 'eps1_o': 0.035186238583013847816, 'eps1_i': 0.00068708310951100119386, 'tol': 1e-16, 'd_PMRA': 9.885280864586482e-11, 'j_WSRT350': -3.659850586544055e-05, 'd_PMDEC': -1.9580532733266362e-10, 'j_GBT820': 6.785312385988059e-05, 'use_quad': False, 'd_PX': -0.5531255775641357, 'j_AO327': 6.509749509896134e-05, 'd_DECJ': -1.070731501745044e-09, 'delta': -1.0316357225747149967e-09, 'j_AO1440': 4.8927007422127645e-05, 'j_AO1350': 5.416890691232084e-05, 'dbeta': 0.00026309182085843098181, 'pb_o': 327.25750664874838183, 'pb_i': 1.6293969538395742265, 'j_GBT1500': 6.2342354290442e-05}\n",
      "DEBUG:threebody:compute_orbit cache hit\n",
      "DEBUG:threebody:fit matrix shape is (24301, 13)\n",
      "DEBUG:threebody:Residual chi-squared: 151301.177117\n",
      "DEBUG:threebody:Residual chi-squared: 151134.314132\n",
      "DEBUG:threebody:Residual chi-squared: 151134.313745\n",
      "DEBUG:threebody:final x: [ 6.7828625e-05  2.8946342e-05 -2.2335067e-08 -8.4668921e-09  43.363206\n",
      " -1.8977554e-05  365.95336 -1.1775282e-15  0.20712148 -0.0033290789\n",
      " -0.0034739736  0.20119761 -5.6913127e+09]\n",
      "DEBUG:threebody:residual 151134.309531\n",
      "DEBUG:threebody:residual RMS 0.001307\n"
     ]
    },
    {
     "name": "stdout",
     "output_type": "stream",
     "text": [
      "(2.2020636604358574321e+32, 2.2020636604358574321e+32)\n",
      "-0.00293294184253 7.90984426489e-08\n",
      "-0.00293294184253 0.00293302094097\n"
     ]
    },
    {
     "data": {
      "text/plain": [
       "<matplotlib.legend.Legend at 0x186400d0>"
      ]
     },
     "execution_count": 9,
     "metadata": {},
     "output_type": "execute_result"
    },
    {
     "data": {
      "image/png": "[encoded data removed]",
      "text/plain": [
       "<matplotlib.figure.Figure at 0x5f55a10>"
      ]
     },
     "metadata": {},
     "output_type": "display_data"
    }
   ],
   "source": [
    "par = params[\"parfile\"]\n",
    "par2 = par[:par.rindex(\".\")]+\"_dmcorr.par\"\n",
    "with open(par2, \"wt\") as f:\n",
    "    for l in open(par, \"rt\").readlines():\n",
    "        if l.startswith(\"DM\"):\n",
    "            dm = float(l.split()[1])\n",
    "            dm2 = dm-dm_correction\n",
    "            print(dm, dm2)\n",
    "            f.write(\"DM %f\\n\" % dm2)\n",
    "        else:\n",
    "            f.write(l)\n",
    "\n",
    "params2 = params.copy()\n",
    "params2[\"parfile\"] = par2\n",
    "F2 = threebody.Fitter(**params2)\n",
    "print(F.goodness_of_fit(F.best_parameters), \n",
    "      F2.goodness_of_fit(F.best_parameters))\n",
    "vals, names = F2.compute_linear_parts(F.best_parameters)\n",
    "lp2 = dict(zip(names, vals))\n",
    "print lp[\"d_DM\"]/F.reference_f0, lp2[\"d_DM\"]/F.reference_f0\n",
    "print dm_correction, (lp2[\"d_DM\"]-lp[\"d_DM\"])/F.reference_f0\n",
    "\n",
    "plt.plot(freqs, 1e6*(F2.mjds-F.mjds)*86400, \".\", label=\"Bary\")\n",
    "plt.plot(freqs, 1e6*d_DMs*dm_correction, \".\", label=\"d_DM\")\n",
    "plt.xlabel(\"f (MHz)\")\n",
    "plt.ylabel(r\"$\\Delta$t ($\\mu$s)\")\n",
    "plt.legend()\n",
    "\n"
   ]
  },
  {
   "cell_type": "code",
   "execution_count": 10,
   "metadata": {},
   "outputs": [
    {
     "name": "stderr",
     "output_type": "stream",
     "text": [
      "DEBUG:threebody:Started compute_orbit for {'f0': 365.95336311128915, 'shapiro': True, 'j_NCY1400': 0.000675, 'asini_i': 1.2175265019387542758, 'eps2_i': -9.1300073961811384699e-05, 'delta_lan': -9.8698650879648641589e-06, 'eps2_o': -0.003462177678515299745, 'q_i': 0.13730684938043949346, 'asini_o': 74.672702906402272566, 'j_GBT350': 1.8517017863581812e-05, 'dgamma': 0.00020638502444498746259, 'tasc_i': 0.40771691870264608189, 'ppn_mode': 'heavysimple', 'd_RAJ': -3.4254785902426147e-09, 'acosi_i': 1.4922378021036498232, 'acosi_o': 91.474385642988143237, 'tasc_o': 313.93578089310207763, 'eps1_o': 0.035186238583013847816, 'eps1_i': 0.00068708310951100119386, 'tol': 1e-16, 'd_PMRA': 9.885280864586482e-11, 'j_WSRT350': -3.659850586544055e-05, 'd_PMDEC': -1.9580532733266362e-10, 'j_GBT820': 6.785312385988059e-05, 'use_quad': False, 'd_PX': -0.5531255775641357, 'j_AO327': 6.509749509896134e-05, 'd_DECJ': -1.070731501745044e-09, 'delta': -1.0316357225747149967e-09, 'j_AO1440': 4.8927007422127645e-05, 'j_AO1350': 5.416890691232084e-05, 'dbeta': 0.00026309182085843098181, 'pb_o': 327.25750664874838183, 'pb_i': 1.6293969538395742265, 'j_GBT1500': 6.2342354290442e-05}\n",
      "DEBUG:threebody:compute_orbit cache hit\n",
      "DEBUG:threebody:Started compute_orbit for {'f0': 365.95336311128915, 'shapiro': True, 'j_NCY1400': 0.000675, 'asini_i': 1.2175265019387542758, 'eps2_i': -9.1300073961811384699e-05, 'delta_lan': -9.8698650879648641589e-06, 'eps2_o': -0.003462177678515299745, 'q_i': 0.13730684938043949346, 'asini_o': 74.672702906402272566, 'j_GBT350': 1.8517017863581812e-05, 'dgamma': 0.00020638502444498746259, 'tasc_i': 0.40771691870264608189, 'ppn_mode': 'heavysimple', 'd_RAJ': -3.4254785902426147e-09, 'acosi_i': 1.4922378021036498232, 'acosi_o': 91.474385642988143237, 'tasc_o': 313.93578089310207763, 'eps1_o': 0.035186238583013847816, 'eps1_i': 0.00068708310951100119386, 'tol': 1e-16, 'd_PMRA': 9.885280864586482e-11, 'j_WSRT350': -3.659850586544055e-05, 'd_PMDEC': -1.9580532733266362e-10, 'j_GBT820': 6.785312385988059e-05, 'use_quad': False, 'd_PX': -0.5531255775641357, 'j_AO327': 6.509749509896134e-05, 'd_DECJ': -1.070731501745044e-09, 'delta': -1.0316357225747149967e-09, 'j_AO1440': 4.8927007422127645e-05, 'j_AO1350': 5.416890691232084e-05, 'dbeta': 0.00026309182085843098181, 'pb_o': 327.25750664874838183, 'pb_i': 1.6293969538395742265, 'j_GBT1500': 6.2342354290442e-05}\n",
      "DEBUG:threebody:compute_orbit cache hit\n"
     ]
    },
    {
     "data": {
      "text/plain": [
       "<matplotlib.text.Text at 0x11d84e10>"
      ]
     },
     "execution_count": 10,
     "metadata": {},
     "output_type": "execute_result"
    },
    {
     "data": {
      "image/png": "[encoded data removed]",
      "text/plain": [
       "<matplotlib.figure.Figure at 0x11d7f750>"
      ]
     },
     "metadata": {},
     "output_type": "display_data"
    }
   ],
   "source": [
    "orbit = F.compute_orbit(F.best_parameters)\n",
    "orbit2 = F2.compute_orbit(F.best_parameters)\n",
    "\n",
    "t_psr = orbit['t_psr']\n",
    "t_psr2 = orbit2['t_psr']\n",
    "\n",
    "plt.plot(freqs, 1e6*(t_psr2-t_psr)*86400, \".\")\n",
    "plt.xlabel(\"f (MHz)\")\n",
    "plt.ylabel(r\"$\\Delta$t ($\\mu$s)\")\n"
   ]
  },
  {
   "cell_type": "code",
   "execution_count": null,
   "metadata": {
    "collapsed": true
   },
   "outputs": [],
   "source": []
  }
 ],
 "metadata": {
  "kernelspec": {
   "display_name": "Python 2",
   "language": "python",
   "name": "python2"
  },
  "language_info": {
   "codemirror_mode": {
    "name": "ipython",
    "version": 2
   },
   "file_extension": ".py",
   "mimetype": "text/x-python",
   "name": "python",
   "nbconvert_exporter": "python",
   "pygments_lexer": "ipython2",
   "version": "2.7.3"
  }
 },
 "nbformat": 4,
 "nbformat_minor": 2
}
