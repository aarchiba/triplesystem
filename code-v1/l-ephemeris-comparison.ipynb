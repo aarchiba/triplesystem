{
 "cells": [
  {
   "cell_type": "code",
   "execution_count": 1,
   "metadata": {
    "collapsed": true
   },
   "outputs": [],
   "source": [
    "%load_ext autoreload\n",
    "\n",
    "%autoreload 2\n",
    "\n",
    "from __future__ import print_function, division\n",
    "\n",
    "import cPickle as pickle\n",
    "from glob import glob\n",
    "import subprocess\n",
    "import sys\n",
    "import string\n",
    "import os\n",
    "import random\n",
    "import numpy as np\n",
    "from os.path import join\n",
    "\n",
    "import threebody\n",
    "\n",
    "import logging\n",
    "logger = logging.getLogger()\n",
    "#logger.setLevel(logging.DEBUG)\n",
    "logger.setLevel(logging.INFO)\n",
    "logging.debug(\"test\")"
   ]
  },
  {
   "cell_type": "code",
   "execution_count": 2,
   "metadata": {
    "collapsed": true
   },
   "outputs": [],
   "source": [
    "dmx_span = tuple(144.3+i*365.25 for i in range(6))\n",
    "# old par file: 0337_de45.par\n",
    "basic_params = dict(files=\"tuned2_aligned_pulses_1400_nosun2\",\n",
    "                     tzrmjd_middle='auto',\n",
    "                     parfile=\"0337_de435_grpaper.par\",\n",
    "                     fit_pos=True,\n",
    "                     fit_pm=True,\n",
    "                     fit_px=True,\n",
    "                     efac=1,\n",
    "                     t2_astrometry=True,\n",
    "                     kopeikin=False,\n",
    "                     ppn_mode='heavysimple',\n",
    "                     linear_jumps=True,\n",
    "                     linear_dm=False,\n",
    "                     fdn_range=(1,5),\n",
    "                     priors=('dbeta','dgamma'),\n",
    "                     toa_mode=\"pipeline\",\n",
    "                     dmx_span=dmx_span,\n",
    "                     variable_dm=True,\n",
    "                     variable_ipm=True)\n"
   ]
  },
  {
   "cell_type": "code",
   "execution_count": 3,
   "metadata": {},
   "outputs": [
    {
     "data": {
      "text/plain": [
       "36705.544948188510123"
      ]
     },
     "execution_count": 3,
     "metadata": {},
     "output_type": "execute_result"
    }
   ],
   "source": [
    "F = threebody.Fitter(**basic_params)\n",
    "F.goodness_of_fit()"
   ]
  },
  {
   "cell_type": "code",
   "execution_count": 11,
   "metadata": {},
   "outputs": [
    {
     "name": "stderr",
     "output_type": "stream",
     "text": [
      "WARNING:threebody:best_parameters not found on disk (149 available)\n",
      "INFO:threebody:tempo2 output appears to be old, deleting to trigger recomputation\n"
     ]
    },
    {
     "data": {
      "text/plain": [
       "26014586711.609062983"
      ]
     },
     "execution_count": 11,
     "metadata": {},
     "output_type": "execute_result"
    }
   ],
   "source": [
    "new_params = basic_params.copy()\n",
    "new_params[\"parfile\"] = \"0337_de435_t1_grpaper.par\"\n",
    "G = threebody.Fitter(**new_params)\n",
    "G.goodness_of_fit(F.best_parameters)"
   ]
  },
  {
   "cell_type": "code",
   "execution_count": null,
   "metadata": {
    "collapsed": true
   },
   "outputs": [],
   "source": [
    "G.goodness_of_fit()"
   ]
  },
  {
   "cell_type": "code",
   "execution_count": 12,
   "metadata": {},
   "outputs": [
    {
     "name": "stderr",
     "output_type": "stream",
     "text": [
      "WARNING:threebody:best_parameters not found on disk (149 available)\n"
     ]
    },
    {
     "data": {
      "text/plain": [
       "36705.544948188510123"
      ]
     },
     "execution_count": 12,
     "metadata": {},
     "output_type": "execute_result"
    }
   ],
   "source": [
    "new_params = basic_params.copy()\n",
    "new_params[\"parfile\"] = \"0337_de435_specific.par\"\n",
    "H = threebody.Fitter(**new_params)\n",
    "H.goodness_of_fit(F.best_parameters)"
   ]
  },
  {
   "cell_type": "code",
   "execution_count": null,
   "metadata": {
    "collapsed": true
   },
   "outputs": [],
   "source": []
  }
 ],
 "metadata": {
  "kernelspec": {
   "display_name": "Python 2",
   "language": "python",
   "name": "python2"
  },
  "language_info": {
   "codemirror_mode": {
    "name": "ipython",
    "version": 2
   },
   "file_extension": ".py",
   "mimetype": "text/x-python",
   "name": "python",
   "nbconvert_exporter": "python",
   "pygments_lexer": "ipython2",
   "version": "2.7.3"
  }
 },
 "nbformat": 4,
 "nbformat_minor": 2
}
