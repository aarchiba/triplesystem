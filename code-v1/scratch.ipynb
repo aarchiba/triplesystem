{
 "cells": [
  {
   "cell_type": "code",
   "execution_count": 44,
   "metadata": {},
   "outputs": [],
   "source": [
    "%matplotlib inline\n",
    "import numpy as np\n",
    "import astropy.constants as c\n",
    "import astropy.units as u\n",
    "import matplotlib.pyplot as plt\n",
    "import scipy.integrate\n",
    "\n",
    "import numpy.ma as ma"
   ]
  },
  {
   "cell_type": "code",
   "execution_count": 42,
   "metadata": {},
   "outputs": [
    {
     "data": {
      "text/plain": [
       "(0.98429242263002226, 0.99605913458068551, 0.99901390860520545)"
      ]
     },
     "execution_count": 42,
     "metadata": {},
     "output_type": "execute_result"
    }
   ],
   "source": [
    "df = 1.56*u.MHz\n",
    "f = 4.5*u.GHz\n",
    "RM = 1e5*u.m**(-2)\n",
    "a = (RM*c.c**2*f**(-3)*df).to(1)\n",
    "np.sinc(2*a/np.pi), np.sinc(a/np.pi), np.sinc(a/2/np.pi)"
   ]
  },
  {
   "cell_type": "code",
   "execution_count": 31,
   "metadata": {},
   "outputs": [
    {
     "data": {
      "text/latex": [
       "$0.98429086 \\; \\mathrm{}$"
      ],
      "text/plain": [
       "<Quantity 0.9842908579085058>"
      ]
     },
     "execution_count": 31,
     "metadata": {},
     "output_type": "execute_result"
    },
    {
     "data": {
      "image/png": "[encoded data removed]",
      "text/plain": [
       "<matplotlib.figure.Figure at 0x334f850>"
      ]
     },
     "metadata": {},
     "output_type": "display_data"
    }
   ],
   "source": [
    "fs = np.linspace(f-df/2, f+df/2, 20001)\n",
    "P = np.exp(2.j*(RM*(c.c**2/fs**2-c.c**2/f**2)).to(1))\n",
    "plt.plot(P.real)\n",
    "#plt.plot(P.imag)\n",
    "np.abs(np.mean(P))"
   ]
  },
  {
   "cell_type": "code",
   "execution_count": 24,
   "metadata": {},
   "outputs": [
    {
     "data": {
      "text/latex": [
       "$0.98429086 \\; \\mathrm{}$"
      ],
      "text/plain": [
       "<Quantity 0.9842908574016507>"
      ]
     },
     "execution_count": 24,
     "metadata": {},
     "output_type": "execute_result"
    }
   ],
   "source": [
    "lams = np.linspace(c.c/(f-df/2),c.c/(f+df/2),20001)\n",
    "P = np.exp(2.j*(RM*lams**2).to(1))\n",
    "np.abs(np.mean(P))"
   ]
  },
  {
   "cell_type": "code",
   "execution_count": 25,
   "metadata": {},
   "outputs": [
    {
     "data": {
      "text/latex": [
       "$0.98429086 \\; \\mathrm{}$"
      ],
      "text/plain": [
       "<Quantity 0.9842908574324812>"
      ]
     },
     "execution_count": 25,
     "metadata": {},
     "output_type": "execute_result"
    }
   ],
   "source": [
    "lamsq = np.linspace((c.c/(f-df/2))**2,(c.c/(f+df/2))**2,20001)\n",
    "P = np.exp(2.j*(RM*lamsq).to(1))\n",
    "np.abs(np.mean(P))"
   ]
  },
  {
   "cell_type": "code",
   "execution_count": 13,
   "metadata": {},
   "outputs": [
    {
     "data": {
      "text/plain": [
       "(-0.17646882068226766, 0.20949233893403035, 0.74620051791295883)"
      ]
     },
     "execution_count": 13,
     "metadata": {},
     "output_type": "execute_result"
    }
   ],
   "source": [
    "df = 50*u.MHz\n",
    "f = 1400*u.MHz\n",
    "RM = 500*u.m**(-2)\n",
    "a = (RM*c.c**2*f**(-3)*df).to(1)\n",
    "np.sinc(2*a), np.sinc(a), np.sinc(a/2)"
   ]
  },
  {
   "cell_type": "code",
   "execution_count": 41,
   "metadata": {},
   "outputs": [
    {
     "data": {
      "text/plain": [
       "(0.9983341664682815, 0.99833416646828144)"
      ]
     },
     "execution_count": 41,
     "metadata": {},
     "output_type": "execute_result"
    }
   ],
   "source": [
    "theta = 0.2\n",
    "scipy.integrate.quad(np.cos, -theta/2, theta/2)[0]/theta, np.sinc(theta/2/np.pi)"
   ]
  },
  {
   "cell_type": "code",
   "execution_count": 40,
   "metadata": {
    "collapsed": true
   },
   "outputs": [],
   "source": [
    "np.sinc?"
   ]
  },
  {
   "cell_type": "code",
   "execution_count": 45,
   "metadata": {},
   "outputs": [
    {
     "data": {
      "text/plain": [
       "masked_array(data = [1.0 1.4142135623730951 -- -- -- 2.449489742783178],\n",
       "             mask = [False False  True  True  True False],\n",
       "       fill_value = 1e+20)"
      ]
     },
     "execution_count": 45,
     "metadata": {},
     "output_type": "execute_result"
    }
   ],
   "source": [
    "a = ma.array([1,2,3,4,5,6])\n",
    "a[2:5] = ma.masked\n",
    "np.sqrt(a)"
   ]
  },
  {
   "cell_type": "code",
   "execution_count": 46,
   "metadata": {},
   "outputs": [
    {
     "data": {
      "text/plain": [
       "9"
      ]
     },
     "execution_count": 46,
     "metadata": {},
     "output_type": "execute_result"
    }
   ],
   "source": [
    "np.sum(a)"
   ]
  },
  {
   "cell_type": "code",
   "execution_count": 47,
   "metadata": {},
   "outputs": [
    {
     "data": {
      "text/plain": [
       "masked_array(data = [1 2 -- -- -- 6],\n",
       "             mask = [False False  True  True  True False],\n",
       "       fill_value = 999999)"
      ]
     },
     "execution_count": 47,
     "metadata": {},
     "output_type": "execute_result"
    }
   ],
   "source": [
    "a"
   ]
  },
  {
   "cell_type": "code",
   "execution_count": null,
   "metadata": {
    "collapsed": true
   },
   "outputs": [],
   "source": []
  }
 ],
 "metadata": {
  "kernelspec": {
   "display_name": "Python 2",
   "language": "python",
   "name": "python2"
  },
  "language_info": {
   "codemirror_mode": {
    "name": "ipython",
    "version": 2
   },
   "file_extension": ".py",
   "mimetype": "text/x-python",
   "name": "python",
   "nbconvert_exporter": "python",
   "pygments_lexer": "ipython2",
   "version": "2.7.3"
  }
 },
 "nbformat": 4,
 "nbformat_minor": 2
}
