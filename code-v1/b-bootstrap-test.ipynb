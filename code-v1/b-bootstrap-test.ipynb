{
 "metadata": {
  "name": "b-bootstrap-test"
 },
 "nbformat": 3,
 "nbformat_minor": 0,
 "worksheets": [
  {
   "cells": [
    {
     "cell_type": "code",
     "collapsed": false,
     "input": [
      "import scipy.linalg"
     ],
     "language": "python",
     "metadata": {},
     "outputs": [],
     "prompt_number": 3
    },
    {
     "cell_type": "code",
     "collapsed": false,
     "input": [
      "xs = np.linspace(0,1,25000)\n",
      "us = np.random.randn(len(xs))**2\n",
      "ys = np.random.randn(len(xs))*us"
     ],
     "language": "python",
     "metadata": {},
     "outputs": [],
     "prompt_number": 4
    },
    {
     "cell_type": "code",
     "collapsed": false,
     "input": [
      "def chi2(xs, ys, us):\n",
      "    At = [np.ones(len(xs)), xs, xs**2]\n",
      "    A = np.array(At).T\n",
      "    v, rk, res, s = scipy.linalg.lstsq(A/us[:,None],ys/us)\n",
      "    resids = ys-np.dot(A,v)\n",
      "    return np.sum((resids/us)**2)"
     ],
     "language": "python",
     "metadata": {},
     "outputs": [],
     "prompt_number": 12
    },
    {
     "cell_type": "code",
     "collapsed": false,
     "input": [
      "def bootstrap(xs,ys,us):\n",
      "    ix = np.random.randint(0,len(xs),len(xs))\n",
      "    ix.sort()\n",
      "    return xs[ix],ys[ix],us[ix]"
     ],
     "language": "python",
     "metadata": {},
     "outputs": [],
     "prompt_number": 13
    },
    {
     "cell_type": "code",
     "collapsed": false,
     "input": [
      "boot_chi2s = [chi2(*bootstrap(xs,ys,us)) for i in range(1000)]"
     ],
     "language": "python",
     "metadata": {},
     "outputs": [],
     "prompt_number": 14
    },
    {
     "cell_type": "code",
     "collapsed": false,
     "input": [
      "plt.hist(boot_chi2s)\n",
      "plt.axvline(chi2(xs,ys,us))"
     ],
     "language": "python",
     "metadata": {},
     "outputs": [
      {
       "output_type": "pyout",
       "prompt_number": 15,
       "text": [
        "<matplotlib.lines.Line2D at 0x4594810>"
       ]
      },
      {
       "output_type": "display_data",
       "png": "[encoded data removed]"
      }
     ],
     "prompt_number": 15
    },
    {
     "cell_type": "code",
     "collapsed": false,
     "input": [],
     "language": "python",
     "metadata": {},
     "outputs": []
    }
   ],
   "metadata": {}
  }
 ]
}