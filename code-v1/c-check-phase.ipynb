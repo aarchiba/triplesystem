{
 "metadata": {
  "name": ""
 },
 "nbformat": 3,
 "nbformat_minor": 0,
 "worksheets": [
  {
   "cells": [
    {
     "cell_type": "code",
     "collapsed": false,
     "input": [
      "%load_ext autoreload\n",
      "\n",
      "%autoreload 2"
     ],
     "language": "python",
     "metadata": {},
     "outputs": [],
     "prompt_number": 1
    },
    {
     "cell_type": "code",
     "collapsed": false,
     "input": [
      "import subprocess\n",
      "import os\n",
      "from glob import glob\n",
      "import cPickle as pickle\n",
      "import re\n",
      "import shutil\n",
      "\n",
      "import residuals\n",
      "import psrchive\n",
      "\n",
      "import threebody"
     ],
     "language": "python",
     "metadata": {},
     "outputs": [],
     "prompt_number": 2
    },
    {
     "cell_type": "markdown",
     "metadata": {},
     "source": [
      "# One at a time\n",
      "\n",
      "Check how a given par file and standard profile align TOAs."
     ]
    },
    {
     "cell_type": "code",
     "collapsed": false,
     "input": [
      "parfile = \"vlbi-56891-auto.par\"\n",
      "profile = \"data/gbt/GUPPI_Lband_rotated.aligned\"\n",
      "files = ['data/gbt/guppi_56877_0337+17.fscrunch',\n",
      "         ]"
     ],
     "language": "python",
     "metadata": {},
     "outputs": [],
     "prompt_number": 11
    },
    {
     "cell_type": "code",
     "collapsed": false,
     "input": [
      "values = []\n",
      "errors = []\n",
      "mjds = []\n",
      "for f in files:\n",
      "    print f,\n",
      "    tzrmjd = tzrfrq = tzrsite = None\n",
      "    for l in open(parfile, \"rt\").readlines():\n",
      "        if l.startswith(\"TZRMJD\"):\n",
      "            tzrmjd = l.split()[1]\n",
      "        if l.startswith(\"TZRFRQ\"):\n",
      "            tzrfrq = l.split()[1]\n",
      "        if l.startswith(\"TZRSITE\"):\n",
      "            tzrsite = l.split()[1]\n",
      "    toaline = \"%1s%23s %19s     3.00\\n\" % (tzrsite, tzrfrq, tzrmjd)\n",
      "    #print toaline\n",
      "    o = subprocess.check_output([\"pat\",\n",
      "                           \"-f\", \"princeton\",\n",
      "                           \"-F\",\n",
      "                           \"-s\", profile,\n",
      "                           f])\n",
      "    with open(f+\".tim\", \"wt\") as timf:\n",
      "        timf.write(toaline)\n",
      "        timf.write(o)\n",
      "    subprocess.check_call([\"tempo\", \n",
      "                           \"-f\", parfile,\n",
      "                           f+\".tim\"])\n",
      "    r = residuals.read_residuals()\n",
      "    #plt.plot(r.bary_TOA[1:], r.prefit_phs[1:], \".\", markersize=1)\n",
      "    values.append(r.prefit_sec[1:])\n",
      "    errors.append(r.uncertainty[1:])\n",
      "    mjds.append(r.bary_TOA[1:])\n",
      "    print np.mean(values[-1]), np.mean(errors[-1])\n"
     ],
     "language": "python",
     "metadata": {},
     "outputs": [
      {
       "output_type": "stream",
       "stream": "stdout",
       "text": [
        "data/gbt/guppi_56877_0337+17.fscrunch "
       ]
      },
      {
       "output_type": "stream",
       "stream": "stdout",
       "text": [
        "7.40181027731e-06 3.43561146497e-06\n"
       ]
      }
     ],
     "prompt_number": 12
    },
    {
     "cell_type": "code",
     "collapsed": false,
     "input": [
      "for m, v, e in zip(mjds, values, errors):\n",
      "    plt.figure()\n",
      "    plt.errorbar(m,v,e, linestyle=\"none\")"
     ],
     "language": "python",
     "metadata": {},
     "outputs": [
      {
       "metadata": {},
       "output_type": "display_data",
       "png": "[encoded data removed]",
       "text": [
        "<matplotlib.figure.Figure at 0x33da5d0>"
       ]
      }
     ],
     "prompt_number": 13
    },
    {
     "cell_type": "markdown",
     "metadata": {},
     "source": [
      "# Mass production\n",
      "\n",
      "Check many files using a par file generated for each one"
     ]
    },
    {
     "cell_type": "code",
     "collapsed": false,
     "input": [
      "parfile = \"J0337+17-vlbi5.par\"\n",
      "profile = \"data/gbt/GUPPI_Lband_rotated.aligned\"\n",
      "#files = glob(\"data/gbt/guppi_*_0337+17_*.forTOAs\")\n",
      "#files = glob(\"data/wsrt/add_all*_1380.Marten\")\n",
      "print len(files)"
     ],
     "language": "python",
     "metadata": {},
     "outputs": [
      {
       "output_type": "stream",
       "stream": "stdout",
       "text": [
        "96\n"
       ]
      }
     ],
     "prompt_number": 57
    },
    {
     "cell_type": "code",
     "collapsed": false,
     "input": [
      "mjd_re = re.compile(r\"guppi_(\\d+)_\")\n",
      "files_new = []\n",
      "for f in sorted(files)[::-1]:\n",
      "    print f\n",
      "    #mjd = mjd_re.search(f).group(1)\n",
      "    #mjd = \"56710\"\n",
      "    try:\n",
      "        F = psrchive.Archive_load(f)\n",
      "    except RuntimeError:\n",
      "        continue\n",
      "    mjd = F.get_Integration(0).get_start_time().in_days()\n",
      "\n",
      "    mjd = str(mjd)\n",
      "    F.get_Integration(0).get_start_time()\n",
      "    subprocess.check_call([\"python\", \"fit_segment.py\",\n",
      "                           \"--fixedbtx\",\n",
      "                          mjd])\n",
      "    subprocess.check_call([\"pam\", \n",
      "                           \"-e\", \"newephem\", \n",
      "                           \"-E\", \"J0337+17.par\",\n",
      "                           f])\n",
      "    f_newephem = f.rsplit(\".\",1)[0]+\".newephem\"\n",
      "    files_new.append(f_newephem)\n",
      "    shutil.copy(\"J0337+17.par\", f_newephem+\".par\")\n",
      "    subprocess.check_call([\"pav\",\n",
      "                           \"-YFp\",\n",
      "                           \"-g\", f_newephem+\".eps/cps\",\n",
      "                           f_newephem])\n",
      "    \n",
      "    "
     ],
     "language": "python",
     "metadata": {},
     "outputs": [
      {
       "output_type": "stream",
       "stream": "stdout",
       "text": [
        "data/gbt/guppi_56702_0337+17_0008.forTOAs\n",
        "data/gbt/guppi_56690_0337+17_0010.forTOAs"
       ]
      },
      {
       "output_type": "stream",
       "stream": "stdout",
       "text": [
        "\n",
        "data/gbt/guppi_56689_0337+17_0004.forTOAs"
       ]
      },
      {
       "output_type": "stream",
       "stream": "stdout",
       "text": [
        "\n",
        "data/gbt/guppi_56684_0337+17_0004.forTOAs"
       ]
      },
      {
       "output_type": "stream",
       "stream": "stdout",
       "text": [
        "\n",
        "data/gbt/guppi_56668_0337+17_0013.forTOAs"
       ]
      },
      {
       "output_type": "stream",
       "stream": "stdout",
       "text": [
        "\n",
        "data/gbt/guppi_56660_0337+17_0002.forTOAs"
       ]
      },
      {
       "output_type": "stream",
       "stream": "stdout",
       "text": [
        "\n",
        "data/gbt/guppi_56649_0337+17_0002.forTOAs"
       ]
      },
      {
       "output_type": "stream",
       "stream": "stdout",
       "text": [
        "\n",
        "data/gbt/guppi_56639_0337+17_0002.forTOAs"
       ]
      },
      {
       "output_type": "stream",
       "stream": "stdout",
       "text": [
        "\n",
        "data/gbt/guppi_56630_0337+17_0003.forTOAs"
       ]
      },
      {
       "output_type": "stream",
       "stream": "stdout",
       "text": [
        "\n",
        "data/gbt/guppi_56622_0337+17_0002.forTOAs"
       ]
      },
      {
       "output_type": "stream",
       "stream": "stdout",
       "text": [
        "\n",
        "data/gbt/guppi_56611_0337+17_0003.forTOAs"
       ]
      },
      {
       "output_type": "stream",
       "stream": "stdout",
       "text": [
        "\n",
        "data/gbt/guppi_56611_0337+17_0002.forTOAs"
       ]
      },
      {
       "output_type": "stream",
       "stream": "stdout",
       "text": [
        "\n",
        "data/gbt/guppi_56603_0337+17_0002.forTOAs"
       ]
      },
      {
       "output_type": "stream",
       "stream": "stdout",
       "text": [
        "\n",
        "data/gbt/guppi_56599_0337+17_0002.forTOAs"
       ]
      },
      {
       "output_type": "stream",
       "stream": "stdout",
       "text": [
        "\n",
        "data/gbt/guppi_56595_0337+17_0002.forTOAs"
       ]
      },
      {
       "output_type": "stream",
       "stream": "stdout",
       "text": [
        "\n",
        "data/gbt/guppi_56585_0337+17_0002.forTOAs"
       ]
      },
      {
       "output_type": "stream",
       "stream": "stdout",
       "text": [
        "\n",
        "data/gbt/guppi_56563_0337+17_0002.forTOAs"
       ]
      },
      {
       "output_type": "stream",
       "stream": "stdout",
       "text": [
        "\n",
        "data/gbt/guppi_56550_0337+17_0002.forTOAs"
       ]
      },
      {
       "output_type": "stream",
       "stream": "stdout",
       "text": [
        "\n",
        "data/gbt/guppi_56527_0337+17_0002.forTOAs"
       ]
      },
      {
       "output_type": "stream",
       "stream": "stdout",
       "text": [
        "\n",
        "data/gbt/guppi_56523_0337+17_0002.forTOAs"
       ]
      },
      {
       "output_type": "stream",
       "stream": "stdout",
       "text": [
        "\n",
        "data/gbt/guppi_56515_0337+17_0002.forTOAs"
       ]
      },
      {
       "output_type": "stream",
       "stream": "stdout",
       "text": [
        "\n",
        "data/gbt/guppi_56506_0337+17_0002.forTOAs"
       ]
      },
      {
       "output_type": "stream",
       "stream": "stdout",
       "text": [
        "\n",
        "data/gbt/guppi_56500_0337+17_0002.forTOAs"
       ]
      },
      {
       "output_type": "stream",
       "stream": "stdout",
       "text": [
        "\n",
        "data/gbt/guppi_56494_0337+17_0002.forTOAs"
       ]
      },
      {
       "output_type": "stream",
       "stream": "stdout",
       "text": [
        "\n",
        "data/gbt/guppi_56487_0337+17_0003.forTOAs"
       ]
      },
      {
       "output_type": "stream",
       "stream": "stdout",
       "text": [
        "\n",
        "data/gbt/guppi_56487_0337+17_0002.forTOAs"
       ]
      },
      {
       "output_type": "stream",
       "stream": "stdout",
       "text": [
        "\n",
        "data/gbt/guppi_56479_0337+17_0002.forTOAs"
       ]
      },
      {
       "output_type": "stream",
       "stream": "stdout",
       "text": [
        "\n",
        "data/gbt/guppi_56471_0337+17_0004.forTOAs"
       ]
      },
      {
       "output_type": "stream",
       "stream": "stdout",
       "text": [
        "\n",
        "data/gbt/guppi_56465_0337+17_0002.forTOAs"
       ]
      },
      {
       "output_type": "stream",
       "stream": "stdout",
       "text": [
        "\n",
        "data/gbt/guppi_56458_0337+17_0002.forTOAs"
       ]
      },
      {
       "output_type": "stream",
       "stream": "stdout",
       "text": [
        "\n",
        "data/gbt/guppi_56444_0337+17_0003.forTOAs"
       ]
      },
      {
       "output_type": "stream",
       "stream": "stdout",
       "text": [
        "\n",
        "data/gbt/guppi_56437_0337+17_0002.forTOAs"
       ]
      },
      {
       "output_type": "stream",
       "stream": "stdout",
       "text": [
        "\n",
        "data/gbt/guppi_56430_0337+17_0002.forTOAs"
       ]
      },
      {
       "output_type": "stream",
       "stream": "stdout",
       "text": [
        "\n",
        "data/gbt/guppi_56423_0337+17_0002.forTOAs"
       ]
      },
      {
       "output_type": "stream",
       "stream": "stdout",
       "text": [
        "\n",
        "data/gbt/guppi_56416_0337+17_0002.forTOAs"
       ]
      },
      {
       "output_type": "stream",
       "stream": "stdout",
       "text": [
        "\n",
        "data/gbt/guppi_56412_0337+17_0005.forTOAs"
       ]
      },
      {
       "output_type": "stream",
       "stream": "stdout",
       "text": [
        "\n",
        "data/gbt/guppi_56406_0337+17_0002.forTOAs"
       ]
      },
      {
       "output_type": "stream",
       "stream": "stdout",
       "text": [
        "\n",
        "data/gbt/guppi_56398_0337+17_0002.forTOAs"
       ]
      },
      {
       "output_type": "stream",
       "stream": "stdout",
       "text": [
        "\n",
        "data/gbt/guppi_56389_0337+17_0002.forTOAs"
       ]
      },
      {
       "output_type": "stream",
       "stream": "stdout",
       "text": [
        "\n",
        "data/gbt/guppi_56382_0337+17_0002.forTOAs"
       ]
      },
      {
       "output_type": "stream",
       "stream": "stdout",
       "text": [
        "\n",
        "data/gbt/guppi_56376_0337+17_0002.forTOAs"
       ]
      },
      {
       "output_type": "stream",
       "stream": "stdout",
       "text": [
        "\n",
        "data/gbt/guppi_56367_0337+17_0002.forTOAs"
       ]
      },
      {
       "output_type": "stream",
       "stream": "stdout",
       "text": [
        "\n",
        "data/gbt/guppi_56362_0337+17_0004.forTOAs"
       ]
      },
      {
       "output_type": "stream",
       "stream": "stdout",
       "text": [
        "\n",
        "data/gbt/guppi_56353_0337+17_0002.forTOAs"
       ]
      },
      {
       "output_type": "stream",
       "stream": "stdout",
       "text": [
        "\n",
        "data/gbt/guppi_56346_0337+17_0002.forTOAs"
       ]
      },
      {
       "output_type": "stream",
       "stream": "stdout",
       "text": [
        "\n",
        "data/gbt/guppi_56340_0337+17_0002.forTOAs"
       ]
      },
      {
       "output_type": "stream",
       "stream": "stdout",
       "text": [
        "\n",
        "data/gbt/guppi_56333_0337+17_0004.forTOAs"
       ]
      },
      {
       "output_type": "stream",
       "stream": "stdout",
       "text": [
        "\n",
        "data/gbt/guppi_56328_0337+17_0002.forTOAs"
       ]
      },
      {
       "output_type": "stream",
       "stream": "stdout",
       "text": [
        "\n",
        "data/gbt/guppi_56320_0337+17_0002.forTOAs"
       ]
      },
      {
       "output_type": "stream",
       "stream": "stdout",
       "text": [
        "\n",
        "data/gbt/guppi_56311_0337+17_0002.forTOAs"
       ]
      },
      {
       "output_type": "stream",
       "stream": "stdout",
       "text": [
        "\n",
        "data/gbt/guppi_56304_0337+17_0002.forTOAs"
       ]
      },
      {
       "output_type": "stream",
       "stream": "stdout",
       "text": [
        "\n",
        "data/gbt/guppi_56297_0337+17_0002.forTOAs"
       ]
      },
      {
       "output_type": "stream",
       "stream": "stdout",
       "text": [
        "\n",
        "data/gbt/guppi_56290_0337+17_0002.forTOAs"
       ]
      },
      {
       "output_type": "stream",
       "stream": "stdout",
       "text": [
        "\n",
        "data/gbt/guppi_56283_0337+17_0002.forTOAs"
       ]
      },
      {
       "output_type": "stream",
       "stream": "stdout",
       "text": [
        "\n",
        "data/gbt/guppi_56276_0337+17_0002.forTOAs"
       ]
      },
      {
       "output_type": "stream",
       "stream": "stdout",
       "text": [
        "\n",
        "data/gbt/guppi_56274_0337+17_0003.forTOAs"
       ]
      },
      {
       "output_type": "stream",
       "stream": "stdout",
       "text": [
        "\n",
        "data/gbt/guppi_56246_0337+17_0002.forTOAs"
       ]
      },
      {
       "output_type": "stream",
       "stream": "stdout",
       "text": [
        "\n",
        "data/gbt/guppi_56241_0337+17_0003.forTOAs"
       ]
      },
      {
       "output_type": "stream",
       "stream": "stdout",
       "text": [
        "\n",
        "data/gbt/guppi_56236_0337+17_0002.forTOAs"
       ]
      },
      {
       "output_type": "stream",
       "stream": "stdout",
       "text": [
        "\n",
        "data/gbt/guppi_56234_0337+17_0005.forTOAs"
       ]
      },
      {
       "output_type": "stream",
       "stream": "stdout",
       "text": [
        "\n",
        "data/gbt/guppi_56223_0337+17_0005_0001.forTOAs"
       ]
      },
      {
       "output_type": "stream",
       "stream": "stdout",
       "text": [
        "\n",
        "data/gbt/guppi_56214_0337+17_0002.forTOAs\n",
        "data/gbt/guppi_56207_0337+17_0002.forTOAs"
       ]
      },
      {
       "output_type": "stream",
       "stream": "stdout",
       "text": [
        "\n",
        "data/gbt/guppi_56203_0337+17_0002.forTOAs"
       ]
      },
      {
       "output_type": "stream",
       "stream": "stdout",
       "text": [
        "\n",
        "data/gbt/guppi_56197_0337+17_0002.forTOAs"
       ]
      },
      {
       "output_type": "stream",
       "stream": "stdout",
       "text": [
        "\n",
        "data/gbt/guppi_56187_0337+17_0004.forTOAs"
       ]
      },
      {
       "output_type": "stream",
       "stream": "stdout",
       "text": [
        "\n",
        "data/gbt/guppi_56179_0337+17_0003.forTOAs"
       ]
      },
      {
       "output_type": "stream",
       "stream": "stdout",
       "text": [
        "\n",
        "data/gbt/guppi_56175_0337+17_0002.forTOAs"
       ]
      },
      {
       "output_type": "stream",
       "stream": "stdout",
       "text": [
        "\n",
        "data/gbt/guppi_56170_0337+17_0002.forTOAs"
       ]
      },
      {
       "output_type": "stream",
       "stream": "stdout",
       "text": [
        "\n",
        "data/gbt/guppi_56163_0337+17_0002.forTOAs"
       ]
      },
      {
       "output_type": "stream",
       "stream": "stdout",
       "text": [
        "\n",
        "data/gbt/guppi_56149_0337+17_0002.forTOAs"
       ]
      },
      {
       "output_type": "stream",
       "stream": "stdout",
       "text": [
        "\n",
        "data/gbt/guppi_56145_0337+17_0002.forTOAs"
       ]
      },
      {
       "output_type": "stream",
       "stream": "stdout",
       "text": [
        "\n",
        "data/gbt/guppi_56142_0337+17_0004.forTOAs"
       ]
      },
      {
       "output_type": "stream",
       "stream": "stdout",
       "text": [
        "\n",
        "data/gbt/guppi_56135_0337+17_0002.forTOAs"
       ]
      },
      {
       "output_type": "stream",
       "stream": "stdout",
       "text": [
        "\n",
        "data/gbt/guppi_56131_0337+17_0002.forTOAs"
       ]
      },
      {
       "output_type": "stream",
       "stream": "stdout",
       "text": [
        "\n",
        "data/gbt/guppi_56124_0337+17_0002.forTOAs"
       ]
      },
      {
       "output_type": "stream",
       "stream": "stdout",
       "text": [
        "\n",
        "data/gbt/guppi_56121_0337+17_0002.forTOAs"
       ]
      },
      {
       "output_type": "stream",
       "stream": "stdout",
       "text": [
        "\n",
        "data/gbt/guppi_56116_0337+17_0002.forTOAs"
       ]
      },
      {
       "output_type": "stream",
       "stream": "stdout",
       "text": [
        "\n",
        "data/gbt/guppi_56107_0337+17_0002.forTOAs"
       ]
      },
      {
       "output_type": "stream",
       "stream": "stdout",
       "text": [
        "\n",
        "data/gbt/guppi_56103_0337+17_0002.forTOAs"
       ]
      },
      {
       "output_type": "stream",
       "stream": "stdout",
       "text": [
        "\n",
        "data/gbt/guppi_56101_0337+17_0004.forTOAs"
       ]
      },
      {
       "output_type": "stream",
       "stream": "stdout",
       "text": [
        "\n",
        "data/gbt/guppi_56096_0337+17_0002.forTOAs"
       ]
      },
      {
       "output_type": "stream",
       "stream": "stdout",
       "text": [
        "\n",
        "data/gbt/guppi_56081_0337+17_0004.forTOAs"
       ]
      },
      {
       "output_type": "stream",
       "stream": "stdout",
       "text": [
        "\n",
        "data/gbt/guppi_56071_0337+17_0002.forTOAs"
       ]
      },
      {
       "output_type": "stream",
       "stream": "stdout",
       "text": [
        "\n",
        "data/gbt/guppi_56069_0337+17_0004.forTOAs"
       ]
      },
      {
       "output_type": "stream",
       "stream": "stdout",
       "text": [
        "\n",
        "data/gbt/guppi_56066_0337+17_0002.forTOAs"
       ]
      },
      {
       "output_type": "stream",
       "stream": "stdout",
       "text": [
        "\n",
        "data/gbt/guppi_56063_0337+17_0002.forTOAs"
       ]
      },
      {
       "output_type": "stream",
       "stream": "stdout",
       "text": [
        "\n",
        "data/gbt/guppi_56060_0337+17_0002.forTOAs"
       ]
      },
      {
       "output_type": "stream",
       "stream": "stdout",
       "text": [
        "\n",
        "data/gbt/guppi_56056_0337+17_0002.forTOAs"
       ]
      },
      {
       "output_type": "stream",
       "stream": "stdout",
       "text": [
        "\n",
        "data/gbt/guppi_56053_0337+17_0002.forTOAs"
       ]
      },
      {
       "output_type": "stream",
       "stream": "stdout",
       "text": [
        "\n",
        "data/gbt/guppi_56050_0337+17_0008.forTOAs"
       ]
      },
      {
       "output_type": "stream",
       "stream": "stdout",
       "text": [
        "\n",
        "data/gbt/guppi_56047_0337+17_0002.forTOAs"
       ]
      },
      {
       "output_type": "stream",
       "stream": "stdout",
       "text": [
        "\n",
        "data/gbt/guppi_56041_0337+17_0002.forTOAs"
       ]
      },
      {
       "output_type": "stream",
       "stream": "stdout",
       "text": [
        "\n",
        "data/gbt/guppi_56039_0337+17_0003.forTOAs"
       ]
      },
      {
       "output_type": "stream",
       "stream": "stdout",
       "text": [
        "\n",
        "data/gbt/guppi_56036_0337+17_0002.forTOAs"
       ]
      },
      {
       "output_type": "stream",
       "stream": "stdout",
       "text": [
        "\n",
        "data/gbt/guppi_56034_0337+17_0002.forTOAs"
       ]
      },
      {
       "output_type": "stream",
       "stream": "stdout",
       "text": [
        "\n"
       ]
      }
     ],
     "prompt_number": 61
    },
    {
     "cell_type": "code",
     "collapsed": false,
     "input": [
      "means = []\n",
      "stds = []\n",
      "mjds = []\n",
      "for f in sorted(files_new)[::-1]:\n",
      "    print f,\n",
      "    tzrmjd = tzrfrq = tzrsite = None\n",
      "    for l in open(f+\".par\", \"rt\").readlines():\n",
      "        if l.startswith(\"TZRMJD\"):\n",
      "            tzrmjd = l.split()[1]\n",
      "        if l.startswith(\"TZRFRQ\"):\n",
      "            tzrfrq = l.split()[1]\n",
      "        if l.startswith(\"TZRSITE\"):\n",
      "            tzrsite = l.split()[1]\n",
      "    toaline = \"%1s%23s %19s     3.00\\n\" % (tzrsite, tzrfrq, tzrmjd)\n",
      "    #print toaline\n",
      "    o = subprocess.check_output([\"pat\",\n",
      "                           \"-f\", \"princeton\",\n",
      "                           \"-F\",\n",
      "                           \"-s\", profile,\n",
      "                           f])\n",
      "    with open(f+\".tim\", \"wt\") as timf:\n",
      "        timf.write(toaline)\n",
      "        timf.write(o)\n",
      "    subprocess.check_call([\"tempo\", \n",
      "                           \"-f\", f+\".par\",\n",
      "                           f+\".tim\"])\n",
      "    r = residuals.read_residuals()\n",
      "    #plt.plot(r.bary_TOA, r.prefit_phs, \".\", markersize=1)\n",
      "    means.append(np.mean(r.prefit_phs[1:]))\n",
      "    stds.append(np.std(r.prefit_phs[1:]))\n",
      "    mjds.append(np.mean(r.bary_TOA[1:]))\n",
      "    print means[-1], r.prefit_phs[0], r.prefit_phs[-1]\n",
      "\n",
      "means = means[::-1]\n",
      "stds = stds[::-1]\n",
      "mjds = mjds[::-1]"
     ],
     "language": "python",
     "metadata": {},
     "outputs": [
      {
       "output_type": "stream",
       "stream": "stdout",
       "text": [
        "data/gbt/guppi_56702_0337+17_0008.newephem "
       ]
      },
      {
       "output_type": "stream",
       "stream": "stdout",
       "text": [
        "-0.000320141155695 0.0 -0.000208765268326\n",
        "data/gbt/guppi_56690_0337+17_0010.newephem "
       ]
      },
      {
       "output_type": "stream",
       "stream": "stdout",
       "text": [
        "0.000397299468165 0.0 0.000805094838142\n",
        "data/gbt/guppi_56689_0337+17_0004.newephem "
       ]
      },
      {
       "output_type": "stream",
       "stream": "stdout",
       "text": [
        "-8.27933351199e-05 0.0 -0.000576362013817\n",
        "data/gbt/guppi_56684_0337+17_0004.newephem "
       ]
      },
      {
       "output_type": "stream",
       "stream": "stdout",
       "text": [
        "-2.36183404922e-05 0.0 0.00087633728981\n",
        "data/gbt/guppi_56668_0337+17_0013.newephem "
       ]
      },
      {
       "output_type": "stream",
       "stream": "stdout",
       "text": [
        "0.00130293468634 0.0 -0.000154718756676\n",
        "data/gbt/guppi_56660_0337+17_0002.newephem "
       ]
      },
      {
       "output_type": "stream",
       "stream": "stdout",
       "text": [
        "0.00105835331811 0.0 6.15417957306e-05\n",
        "data/gbt/guppi_56649_0337+17_0002.newephem "
       ]
      },
      {
       "output_type": "stream",
       "stream": "stdout",
       "text": [
        "0.00144608043236 0.0 0.000437319278717\n",
        "data/gbt/guppi_56639_0337+17_0002.newephem "
       ]
      },
      {
       "output_type": "stream",
       "stream": "stdout",
       "text": [
        "0.0026121314453 0.0 0.0023789703846\n",
        "data/gbt/guppi_56630_0337+17_0003.newephem "
       ]
      },
      {
       "output_type": "stream",
       "stream": "stdout",
       "text": [
        "0.00230452209188 0.0 0.00393289327621\n",
        "data/gbt/guppi_56622_0337+17_0002.newephem "
       ]
      },
      {
       "output_type": "stream",
       "stream": "stdout",
       "text": [
        "0.00289029449224 0.0 0.00472880899906\n",
        "data/gbt/guppi_56611_0337+17_0003.newephem "
       ]
      },
      {
       "output_type": "stream",
       "stream": "stdout",
       "text": [
        "0.00277157444721 0.0 0.00178223103285\n",
        "data/gbt/guppi_56611_0337+17_0002.newephem "
       ]
      },
      {
       "output_type": "stream",
       "stream": "stdout",
       "text": [
        "0.00279683318544 0.0 0.00271078944206\n",
        "data/gbt/guppi_56603_0337+17_0002.newephem "
       ]
      },
      {
       "output_type": "stream",
       "stream": "stdout",
       "text": [
        "0.00333621109627 0.0 0.00173754990101\n",
        "data/gbt/guppi_56599_0337+17_0002.newephem "
       ]
      },
      {
       "output_type": "stream",
       "stream": "stdout",
       "text": [
        "0.00330835107613 0.0 0.0049247816205\n",
        "data/gbt/guppi_56595_0337+17_0002.newephem "
       ]
      },
      {
       "output_type": "stream",
       "stream": "stdout",
       "text": [
        "0.00378519256373 0.0 0.00315272063017\n",
        "data/gbt/guppi_56585_0337+17_0002.newephem "
       ]
      },
      {
       "output_type": "stream",
       "stream": "stdout",
       "text": [
        "0.00346503488413 0.0 0.0034046843648\n",
        "data/gbt/guppi_56563_0337+17_0002.newephem "
       ]
      },
      {
       "output_type": "stream",
       "stream": "stdout",
       "text": [
        "0.00471044331789 0.0 0.00528604537249\n",
        "data/gbt/guppi_56550_0337+17_0002.newephem "
       ]
      },
      {
       "output_type": "stream",
       "stream": "stdout",
       "text": [
        "0.0031580703414 0.0 0.00405392795801\n",
        "data/gbt/guppi_56527_0337+17_0002.newephem "
       ]
      },
      {
       "output_type": "stream",
       "stream": "stdout",
       "text": [
        "0.00308427334484 0.0 0.00364083051682\n",
        "data/gbt/guppi_56523_0337+17_0002.newephem "
       ]
      },
      {
       "output_type": "stream",
       "stream": "stdout",
       "text": [
        "0.00369333018859 0.0 0.00432109832764\n",
        "data/gbt/guppi_56515_0337+17_0002.newephem "
       ]
      },
      {
       "output_type": "stream",
       "stream": "stdout",
       "text": [
        "0.00293958932161 0.0 0.00339968502522\n",
        "data/gbt/guppi_56506_0337+17_0002.newephem "
       ]
      },
      {
       "output_type": "stream",
       "stream": "stdout",
       "text": [
        "0.00346761055209 0.0 0.00353601574898\n",
        "data/gbt/guppi_56500_0337+17_0002.newephem "
       ]
      },
      {
       "output_type": "stream",
       "stream": "stdout",
       "text": [
        "0.00254408904427 0.0 0.00120320916176\n",
        "data/gbt/guppi_56494_0337+17_0002.newephem "
       ]
      },
      {
       "output_type": "stream",
       "stream": "stdout",
       "text": [
        "0.00314273754525 0.0 0.00378700345755\n",
        "data/gbt/guppi_56487_0337+17_0003.newephem "
       ]
      },
      {
       "output_type": "stream",
       "stream": "stdout",
       "text": [
        "0.0025059194304 0.0 0.00314792990685\n",
        "data/gbt/guppi_56487_0337+17_0002.newephem "
       ]
      },
      {
       "output_type": "stream",
       "stream": "stdout",
       "text": [
        "0.00259783327579 0.0 0.00064555555582\n",
        "data/gbt/guppi_56479_0337+17_0002.newephem "
       ]
      },
      {
       "output_type": "stream",
       "stream": "stdout",
       "text": [
        "0.0031031850597 0.0 0.00252148509026\n",
        "data/gbt/guppi_56471_0337+17_0004.newephem "
       ]
      },
      {
       "output_type": "stream",
       "stream": "stdout",
       "text": [
        "0.00294827302045 0.0 0.00300377607346\n",
        "data/gbt/guppi_56465_0337+17_0002.newephem "
       ]
      },
      {
       "output_type": "stream",
       "stream": "stdout",
       "text": [
        "0.00322265497276 0.0 0.00325003266335\n",
        "data/gbt/guppi_56458_0337+17_0002.newephem "
       ]
      },
      {
       "output_type": "stream",
       "stream": "stdout",
       "text": [
        "0.00307820425792 0.0 0.00391622632742\n",
        "data/gbt/guppi_56444_0337+17_0003.newephem "
       ]
      },
      {
       "output_type": "stream",
       "stream": "stdout",
       "text": [
        "0.00284885632437 0.0 0.00457502901554\n",
        "data/gbt/guppi_56437_0337+17_0002.newephem "
       ]
      },
      {
       "output_type": "stream",
       "stream": "stdout",
       "text": [
        "0.00262920411402 0.0 0.00355088710785\n",
        "data/gbt/guppi_56430_0337+17_0002.newephem "
       ]
      },
      {
       "output_type": "stream",
       "stream": "stdout",
       "text": [
        "0.0034030204018 0.0 0.000820577144623\n",
        "data/gbt/guppi_56423_0337+17_0002.newephem "
       ]
      },
      {
       "output_type": "stream",
       "stream": "stdout",
       "text": [
        "0.00269054291504 0.0 0.00367829203606\n",
        "data/gbt/guppi_56416_0337+17_0002.newephem "
       ]
      },
      {
       "output_type": "stream",
       "stream": "stdout",
       "text": [
        "0.00330787518474 0.0 0.0038033425808\n",
        "data/gbt/guppi_56412_0337+17_0005.newephem "
       ]
      },
      {
       "output_type": "stream",
       "stream": "stdout",
       "text": [
        "0.00247149303432 0.0 0.0014271736145\n",
        "data/gbt/guppi_56406_0337+17_0002.newephem "
       ]
      },
      {
       "output_type": "stream",
       "stream": "stdout",
       "text": [
        "0.00228556761042 0.0 0.00217472761869\n",
        "data/gbt/guppi_56398_0337+17_0002.newephem "
       ]
      },
      {
       "output_type": "stream",
       "stream": "stdout",
       "text": [
        "0.00246849947143 0.0 0.00284557044506\n",
        "data/gbt/guppi_56389_0337+17_0002.newephem "
       ]
      },
      {
       "output_type": "stream",
       "stream": "stdout",
       "text": [
        "0.00201712509222 0.0 0.00272919610143\n",
        "data/gbt/guppi_56382_0337+17_0002.newephem "
       ]
      },
      {
       "output_type": "stream",
       "stream": "stdout",
       "text": [
        "0.00195865931788 0.0 0.00328528136015\n",
        "data/gbt/guppi_56376_0337+17_0002.newephem "
       ]
      },
      {
       "output_type": "stream",
       "stream": "stdout",
       "text": [
        "0.00199881805615 0.0 0.00316791236401\n",
        "data/gbt/guppi_56367_0337+17_0002.newephem "
       ]
      },
      {
       "output_type": "stream",
       "stream": "stdout",
       "text": [
        "0.00141764826634 0.0 0.00110537558794\n",
        "data/gbt/guppi_56362_0337+17_0004.newephem "
       ]
      },
      {
       "output_type": "stream",
       "stream": "stdout",
       "text": [
        "0.00238017116984 0.0 0.00220484286547\n",
        "data/gbt/guppi_56353_0337+17_0002.newephem "
       ]
      },
      {
       "output_type": "stream",
       "stream": "stdout",
       "text": [
        "0.0025768019259 0.0 0.00236911326647\n",
        "data/gbt/guppi_56346_0337+17_0002.newephem "
       ]
      },
      {
       "output_type": "stream",
       "stream": "stdout",
       "text": [
        "0.00179416913053 0.0 0.00482478737831\n",
        "data/gbt/guppi_56340_0337+17_0002.newephem "
       ]
      },
      {
       "output_type": "stream",
       "stream": "stdout",
       "text": [
        "0.00191820112781 0.0 0.00169727951288\n",
        "data/gbt/guppi_56333_0337+17_0004.newephem "
       ]
      },
      {
       "output_type": "stream",
       "stream": "stdout",
       "text": [
        "0.00127326219939 0.0 0.00148349255323\n",
        "data/gbt/guppi_56328_0337+17_0002.newephem "
       ]
      },
      {
       "output_type": "stream",
       "stream": "stdout",
       "text": [
        "0.0011550879239 0.0 0.0022633112967\n",
        "data/gbt/guppi_56320_0337+17_0002.newephem "
       ]
      },
      {
       "output_type": "stream",
       "stream": "stdout",
       "text": [
        "0.00175928250706 0.0 0.000433787703514\n",
        "data/gbt/guppi_56311_0337+17_0002.newephem "
       ]
      },
      {
       "output_type": "stream",
       "stream": "stdout",
       "text": [
        "0.00135047367907 0.0 0.00239546597004\n",
        "data/gbt/guppi_56304_0337+17_0002.newephem "
       ]
      },
      {
       "output_type": "stream",
       "stream": "stdout",
       "text": [
        "0.00252207692551 0.0 0.00164043158293\n",
        "data/gbt/guppi_56297_0337+17_0002.newephem "
       ]
      },
      {
       "output_type": "stream",
       "stream": "stdout",
       "text": [
        "0.00155538868046 0.0 0.00158515572548\n",
        "data/gbt/guppi_56290_0337+17_0002.newephem "
       ]
      },
      {
       "output_type": "stream",
       "stream": "stdout",
       "text": [
        "0.00160987150708 0.0 0.00251327827573\n",
        "data/gbt/guppi_56283_0337+17_0002.newephem "
       ]
      },
      {
       "output_type": "stream",
       "stream": "stdout",
       "text": [
        "0.00167118646204 0.0 0.00267138704658\n",
        "data/gbt/guppi_56276_0337+17_0002.newephem "
       ]
      },
      {
       "output_type": "stream",
       "stream": "stdout",
       "text": [
        "0.0029090756574 0.0 0.00276497006416\n",
        "data/gbt/guppi_56274_0337+17_0003.newephem "
       ]
      },
      {
       "output_type": "stream",
       "stream": "stdout",
       "text": [
        "0.0025336634029 0.0 0.00116152316332\n",
        "data/gbt/guppi_56246_0337+17_0002.newephem "
       ]
      },
      {
       "output_type": "stream",
       "stream": "stdout",
       "text": [
        "0.00286431743266 0.0 0.00235878676176\n",
        "data/gbt/guppi_56241_0337+17_0003.newephem "
       ]
      },
      {
       "output_type": "stream",
       "stream": "stdout",
       "text": [
        "0.00252515688125 0.0 0.00350566953421\n",
        "data/gbt/guppi_56236_0337+17_0002.newephem "
       ]
      },
      {
       "output_type": "stream",
       "stream": "stdout",
       "text": [
        "0.00246621551382 0.0 0.00282951071858\n",
        "data/gbt/guppi_56234_0337+17_0005.newephem "
       ]
      },
      {
       "output_type": "stream",
       "stream": "stdout",
       "text": [
        "0.0028037748687 0.0 0.00413766503334\n",
        "data/gbt/guppi_56214_0337+17_0002.newephem "
       ]
      },
      {
       "output_type": "stream",
       "stream": "stdout",
       "text": [
        "0.00321199469978 0.0 0.00283155217767\n",
        "data/gbt/guppi_56207_0337+17_0002.newephem "
       ]
      },
      {
       "output_type": "stream",
       "stream": "stdout",
       "text": [
        "0.00286319118459 0.0 0.0013172365725\n",
        "data/gbt/guppi_56203_0337+17_0002.newephem "
       ]
      },
      {
       "output_type": "stream",
       "stream": "stdout",
       "text": [
        "0.00297186128667 0.0 0.00353059917688\n",
        "data/gbt/guppi_56197_0337+17_0002.newephem "
       ]
      },
      {
       "output_type": "stream",
       "stream": "stdout",
       "text": [
        "0.00287352091982 0.0 0.00145652331412\n",
        "data/gbt/guppi_56187_0337+17_0004.newephem "
       ]
      },
      {
       "output_type": "stream",
       "stream": "stdout",
       "text": [
        "0.00307599709115 0.0 0.00444979965687\n",
        "data/gbt/guppi_56179_0337+17_0003.newephem "
       ]
      },
      {
       "output_type": "stream",
       "stream": "stdout",
       "text": [
        "0.00294272758765 0.0 0.00430330634117\n",
        "data/gbt/guppi_56175_0337+17_0002.newephem "
       ]
      },
      {
       "output_type": "stream",
       "stream": "stdout",
       "text": [
        "0.00333692170155 0.0 0.0038165897131\n",
        "data/gbt/guppi_56170_0337+17_0002.newephem "
       ]
      },
      {
       "output_type": "stream",
       "stream": "stdout",
       "text": [
        "0.00303870019695 0.0 0.002227332443\n",
        "data/gbt/guppi_56163_0337+17_0002.newephem "
       ]
      },
      {
       "output_type": "stream",
       "stream": "stdout",
       "text": [
        "0.00299067158056 0.0 0.00294447690248\n",
        "data/gbt/guppi_56149_0337+17_0002.newephem "
       ]
      },
      {
       "output_type": "stream",
       "stream": "stdout",
       "text": [
        "0.00367876071306 0.0 0.00430695340037\n",
        "data/gbt/guppi_56145_0337+17_0002.newephem "
       ]
      },
      {
       "output_type": "stream",
       "stream": "stdout",
       "text": [
        "0.00257394547704 0.0 0.00199231877923\n",
        "data/gbt/guppi_56142_0337+17_0004.newephem "
       ]
      },
      {
       "output_type": "stream",
       "stream": "stdout",
       "text": [
        "0.00311947324973 0.0 0.00524094700813\n",
        "data/gbt/guppi_56135_0337+17_0002.newephem "
       ]
      },
      {
       "output_type": "stream",
       "stream": "stdout",
       "text": [
        "0.00322206971114 0.0 0.00264588370919\n",
        "data/gbt/guppi_56131_0337+17_0002.newephem "
       ]
      },
      {
       "output_type": "stream",
       "stream": "stdout",
       "text": [
        "0.00360886336759 0.0 0.00283093005419\n",
        "data/gbt/guppi_56124_0337+17_0002.newephem "
       ]
      },
      {
       "output_type": "stream",
       "stream": "stdout",
       "text": [
        "0.00342341105348 0.0 0.00368093326688\n",
        "data/gbt/guppi_56121_0337+17_0002.newephem "
       ]
      },
      {
       "output_type": "stream",
       "stream": "stdout",
       "text": [
        "0.00244880136062 0.0 0.00379843823612\n",
        "data/gbt/guppi_56116_0337+17_0002.newephem "
       ]
      },
      {
       "output_type": "stream",
       "stream": "stdout",
       "text": [
        "0.00340802577692 0.0 0.00320364907384\n",
        "data/gbt/guppi_56107_0337+17_0002.newephem "
       ]
      },
      {
       "output_type": "stream",
       "stream": "stdout",
       "text": [
        "0.00328441464808 0.0 0.00335204601288\n",
        "data/gbt/guppi_56103_0337+17_0002.newephem "
       ]
      },
      {
       "output_type": "stream",
       "stream": "stdout",
       "text": [
        "0.00240724856655 0.0 0.00286242552102\n",
        "data/gbt/guppi_56101_0337+17_0004.newephem "
       ]
      },
      {
       "output_type": "stream",
       "stream": "stdout",
       "text": [
        "0.00273083586056 0.0 0.00673288851976\n",
        "data/gbt/guppi_56096_0337+17_0002.newephem "
       ]
      },
      {
       "output_type": "stream",
       "stream": "stdout",
       "text": [
        "0.00265931356698 0.0 0.00222626328468\n",
        "data/gbt/guppi_56081_0337+17_0004.newephem "
       ]
      },
      {
       "output_type": "stream",
       "stream": "stdout",
       "text": [
        "0.0462434761799 0.0 0.046409316361\n",
        "data/gbt/guppi_56071_0337+17_0002.newephem "
       ]
      },
      {
       "output_type": "stream",
       "stream": "stdout",
       "text": [
        "0.0214943189174 0.0 0.0205716639757\n",
        "data/gbt/guppi_56069_0337+17_0004.newephem "
       ]
      },
      {
       "output_type": "stream",
       "stream": "stdout",
       "text": [
        "0.0369675366891 0.0 0.0366225354373\n",
        "data/gbt/guppi_56066_0337+17_0002.newephem "
       ]
      },
      {
       "output_type": "stream",
       "stream": "stdout",
       "text": [
        "0.0649645565412 0.0 0.0673574246466\n",
        "data/gbt/guppi_56063_0337+17_0002.newephem "
       ]
      },
      {
       "output_type": "stream",
       "stream": "stdout",
       "text": [
        "0.190944732187 0.0 0.190132226795\n",
        "data/gbt/guppi_56060_0337+17_0002.newephem "
       ]
      },
      {
       "output_type": "stream",
       "stream": "stdout",
       "text": [
        "0.234508697476 0.0 0.234777487814\n",
        "data/gbt/guppi_56056_0337+17_0002.newephem "
       ]
      },
      {
       "output_type": "stream",
       "stream": "stdout",
       "text": [
        "0.380261988711 0.0 0.381754823029\n",
        "data/gbt/guppi_56053_0337+17_0002.newephem "
       ]
      },
      {
       "output_type": "stream",
       "stream": "stdout",
       "text": [
        "-0.403259066179 0.0 -0.40405549854\n",
        "data/gbt/guppi_56050_0337+17_0008.newephem "
       ]
      },
      {
       "output_type": "stream",
       "stream": "stdout",
       "text": [
        "-0.0566753527876 0.0 -0.0557198040187\n",
        "data/gbt/guppi_56047_0337+17_0002.newephem "
       ]
      },
      {
       "output_type": "stream",
       "stream": "stdout",
       "text": [
        "0.122342414176 0.0 0.122677128762\n",
        "data/gbt/guppi_56041_0337+17_0002.newephem "
       ]
      },
      {
       "output_type": "stream",
       "stream": "stdout",
       "text": [
        "-0.497907935403 0.0 -0.497283000499\n",
        "data/gbt/guppi_56039_0337+17_0003.newephem "
       ]
      },
      {
       "output_type": "stream",
       "stream": "stdout",
       "text": [
        "0.471349430008 0.0 0.471205022186\n",
        "data/gbt/guppi_56036_0337+17_0002.newephem "
       ]
      },
      {
       "output_type": "stream",
       "stream": "stdout",
       "text": [
        "0.449029020445 0.0 0.449468296021\n",
        "data/gbt/guppi_56034_0337+17_0002.newephem "
       ]
      },
      {
       "output_type": "stream",
       "stream": "stdout",
       "text": [
        "0.477883779711 0.0 0.497576549649\n"
       ]
      }
     ],
     "prompt_number": 62
    },
    {
     "cell_type": "code",
     "collapsed": false,
     "input": [
      "plt.errorbar(mjds, means, stds, linestyle=\"none\")"
     ],
     "language": "python",
     "metadata": {},
     "outputs": [
      {
       "metadata": {},
       "output_type": "pyout",
       "prompt_number": 63,
       "text": [
        "<Container object of 3 artists>"
       ]
      },
      {
       "metadata": {},
       "output_type": "display_data",
       "png": "[encoded data removed]",
       "text": [
        "<matplotlib.figure.Figure at 0x4704a50>"
       ]
      }
     ],
     "prompt_number": 63
    },
    {
     "cell_type": "code",
     "collapsed": false,
     "input": [],
     "language": "python",
     "metadata": {},
     "outputs": []
    }
   ],
   "metadata": {}
  }
 ]
}