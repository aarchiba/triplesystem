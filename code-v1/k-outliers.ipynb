{
 "cells": [
  {
   "cell_type": "code",
   "execution_count": 171,
   "metadata": {},
   "outputs": [
    {
     "name": "stdout",
     "output_type": "stream",
     "text": [
      "The autoreload extension is already loaded. To reload it, use:\n",
      "  %reload_ext autoreload\n"
     ]
    }
   ],
   "source": [
    "%load_ext autoreload\n",
    "\n",
    "%autoreload 2\n",
    "\n",
    "from glob import glob\n",
    "from os.path import join\n",
    "import os\n",
    "import pickle\n",
    "\n",
    "import scipy.linalg\n",
    "import matplotlib\n",
    "matplotlib.rcParams[\"figure.dpi\"] = 144\n",
    "matplotlib.rcParams[\"savefig.dpi\"] = 144\n",
    "import matplotlib.pyplot as plt\n",
    "import numpy as np\n",
    "\n",
    "from astropy.table import Table, Column\n",
    "import astropy.units as U\n",
    "\n",
    "import emcee\n",
    "\n",
    "import kepler\n",
    "import threebody\n",
    "\n",
    "import minuit_wrap\n",
    "%matplotlib inline\n",
    "\n",
    "import logging\n"
   ]
  },
  {
   "cell_type": "code",
   "execution_count": 172,
   "metadata": {},
   "outputs": [
    {
     "data": {
      "text/plain": [
       "{'dmx_span': 182.62125,\n",
       " 'efac': 1,\n",
       " 'fdn_range': (1, 5),\n",
       " 'files': 'tuned2_aligned_pulses_1400_nosun2',\n",
       " 'fit_pm': True,\n",
       " 'fit_pos': True,\n",
       " 'fit_px': True,\n",
       " 'kopeikin': False,\n",
       " 'linear_dm': False,\n",
       " 'linear_jumps': True,\n",
       " 'parfile': '0337_de430.par',\n",
       " 'ppn_mode': 'heavysimple',\n",
       " 'priors': ('dbeta', 'dgamma'),\n",
       " 't2_astrometry': True,\n",
       " 'toa_mode': 'pipeline',\n",
       " 'tzrmjd_middle': 'auto',\n",
       " 'variable_dm': True,\n",
       " 'variable_ipm': True}"
      ]
     },
     "execution_count": 172,
     "metadata": {},
     "output_type": "execute_result"
    }
   ],
   "source": [
    "#d = pickle.load(open(\"forecaster_params.pickle\"))\n",
    "#d[\"files\"] = \"tuned_mueller_pulses_selected\"\n",
    "#d[\"toa_mode\"] = \"pipeline\"\n",
    "#d = pickle.load(open(\"fitter_params.pickle\"))\n",
    "d = pickle.load(open(\"downhill-runs/lband/fitter_params.pickle\"))\n",
    "F = threebody.Fitter(**d)\n",
    "\n",
    "d"
   ]
  },
  {
   "cell_type": "code",
   "execution_count": 173,
   "metadata": {},
   "outputs": [
    {
     "name": "stderr",
     "output_type": "stream",
     "text": [
      "/users/aarchiba/.virtualenvs/triplesystem/lib/python2.7/site-packages/scipy/optimize/zeros.py:173: RuntimeWarning: Tolerance of -1.08420217249e-19 reached\n",
      "  warnings.warn(msg, RuntimeWarning)\n"
     ]
    },
    {
     "data": {
      "text/plain": [
       "35963.574013696456273"
      ]
     },
     "execution_count": 173,
     "metadata": {},
     "output_type": "execute_result"
    },
    {
     "data": {
      "image/png": "[encoded data removed]",
      "text/plain": [
       "<matplotlib.figure.Figure at 0x1af4ded0>"
      ]
     },
     "metadata": {},
     "output_type": "display_data"
    }
   ],
   "source": [
    "res = F.residuals(F.best_parameters)\n",
    "plt.plot(F.mjds, res,\".\")\n",
    "F.goodness_of_fit()"
   ]
  },
  {
   "cell_type": "code",
   "execution_count": 174,
   "metadata": {
    "collapsed": true
   },
   "outputs": [],
   "source": [
    "toa_infos = F.annotated_toas(residuals=F.residuals())"
   ]
  },
  {
   "cell_type": "code",
   "execution_count": 175,
   "metadata": {},
   "outputs": [
    {
     "name": "stdout",
     "output_type": "stream",
     "text": [
      "-0.000525951385498 0.00080370190105\n",
      "-0.654411025793\n",
      "-0.000525951385498 2.19618664464e-06\n",
      "0.00080370190105\n"
     ]
    }
   ],
   "source": [
    "t = toa_infos[0]\n",
    "print t[\"flags\"][\"resid_phase\"], t[\"flags\"][\"uncert_phase\"]\n",
    "print t[\"flags\"][\"resid_phase\"]/t[\"flags\"][\"uncert_phase\"]\n",
    "print F.residuals()[0], F.uncerts[0]\n",
    "print 1e-6*t[\"uncert\"]*F.reference_f0"
   ]
  },
  {
   "cell_type": "code",
   "execution_count": 176,
   "metadata": {
    "scrolled": false
   },
   "outputs": [
    {
     "name": "stdout",
     "output_type": "stream",
     "text": [
      "  Observation    abs(z) residual uncertainty  n \n",
      "                           us         us        \n",
      "---------------- ------ -------- ----------- ---\n",
      "56554.34_AO_1400   9.04   -4.338       0.480   1\n"
     ]
    }
   ],
   "source": [
    "zs = [np.abs(t[\"flags\"][\"resid_phase\"]/t[\"flags\"][\"uncert_phase\"])\n",
    "      for t in toa_infos]\n",
    "ix = np.argsort(zs)[::-1]\n",
    "i = 0\n",
    "files = {}\n",
    "z = np.inf\n",
    "while(z)>10:\n",
    "    t = toa_infos[ix[i]]\n",
    "    f = t[\"file\"]\n",
    "    o = f.split(\"/\")[2]\n",
    "    if o not in files:\n",
    "        z = zs[ix[i]]\n",
    "        files[o] = [z,\n",
    "                    1e6*t[\"flags\"][\"resid_s\"], \n",
    "                    t[\"uncert\"], \n",
    "                    0]\n",
    "    files[o][3] += 1        \n",
    "    i += 1\n",
    "    \n",
    "os = []\n",
    "zss = []\n",
    "rs = []\n",
    "us = []\n",
    "ns = []\n",
    "for k, v in sorted(files.items()):\n",
    "    os.append(k)\n",
    "    zss.append(v[0])\n",
    "    rs.append(v[1])\n",
    "    us.append(v[2])\n",
    "    ns.append(v[3])\n",
    "    \n",
    "rows = [[k, v[0], v[1], v[2], v[3]] for (k,v) in sorted(files.items())]\n",
    "rows.sort(key=lambda r: -r[1])\n",
    "T = Table(rows=rows,\n",
    "          names=[\"Observation\", \"abs(z)\", \n",
    "                 \"residual\", \"uncertainty\", \"n\"])\n",
    "T['residual'].unit = U.us\n",
    "T['uncertainty'].unit = U.us\n",
    "T['abs(z)'].format = \".2f\"\n",
    "T['residual'].format = \".3f\"\n",
    "T['uncertainty'].format = \".3f\"\n",
    "T.pprint(max_lines=-1)\n",
    "bad_observations = os[:]"
   ]
  },
  {
   "cell_type": "code",
   "execution_count": 177,
   "metadata": {
    "collapsed": true
   },
   "outputs": [],
   "source": [
    "def plot_observation(o):\n",
    "    ts = [t for t in toa_infos if o in t[\"file\"].split(\"/\")]\n",
    "    mjds = np.array([t[\"mjd\"] for t in ts])\n",
    "    freqs = np.array([t[\"freq\"] for t in ts])\n",
    "    res = np.array([t[\"flags\"][\"resid_s\"] for t in ts])\n",
    "    unc = np.array([t[\"uncert\"]*1e-6 for t in ts])\n",
    "    t = (mjds-mjds[0])*86400\n",
    "    \n",
    "    plt.figure()\n",
    "    plt.subplot(121)\n",
    "    plt.title(o)\n",
    "    plt.axhline(0, color=\"orange\")\n",
    "    plt.errorbar(t, 1e6*res, 1e6*unc, linestyle=\"none\", marker=\".\")\n",
    "    plt.xlabel(\"t (s)\")\n",
    "    plt.ylabel(\"residual ($\\mu$s)\")\n",
    "    n,x = plt.ylim()\n",
    "    plt.subplot(122)\n",
    "    plt.axhline(0, color=\"orange\")\n",
    "    plt.errorbar(freqs, 1e6*res, 1e6*unc, linestyle=\"none\", marker=\".\")\n",
    "    plt.xlabel(\"f (MHz)\")\n",
    "    plt.ylim(n,x)\n",
    "    plt.gca().yaxis.set_ticklabels([])\n",
    "    plt.subplots_adjust(wspace=0)\n",
    "    plt.savefig(\"outlier-plots/%s.pdf\" % o)"
   ]
  },
  {
   "cell_type": "code",
   "execution_count": 178,
   "metadata": {
    "scrolled": false
   },
   "outputs": [
    {
     "data": {
      "image/png": "[encoded data removed]",
      "text/plain": [
       "<matplotlib.figure.Figure at 0x193f4c90>"
      ]
     },
     "metadata": {},
     "output_type": "display_data"
    }
   ],
   "source": [
    "for o in bad_observations:\n",
    "    plot_observation(o)"
   ]
  },
  {
   "cell_type": "markdown",
   "metadata": {
    "collapsed": true
   },
   "source": [
    "## Grouped residuals"
   ]
  },
  {
   "cell_type": "code",
   "execution_count": 179,
   "metadata": {
    "collapsed": true
   },
   "outputs": [],
   "source": [
    "groups = {}\n",
    "for t in toa_infos:\n",
    "    f = t[\"file\"]\n",
    "    if f not in groups:\n",
    "        groups[f] = []\n",
    "    groups[f].append(t)"
   ]
  },
  {
   "cell_type": "code",
   "execution_count": 180,
   "metadata": {
    "collapsed": true
   },
   "outputs": [],
   "source": [
    "def combine(values, uncerts):\n",
    "    weights = 1/uncerts\n",
    "    sw = np.sum(weights)\n",
    "    v = np.sum(weights*values)/sw\n",
    "    u = np.sqrt(np.sum((weights*uncerts)**2))/sw\n",
    "    return v,u"
   ]
  },
  {
   "cell_type": "code",
   "execution_count": 181,
   "metadata": {
    "collapsed": true
   },
   "outputs": [],
   "source": [
    "tels = set()\n",
    "avgs = []\n",
    "for k in sorted(groups.keys()):\n",
    "    ts = groups[k]\n",
    "    r = np.array([1e6*t[\"flags\"][\"resid_s\"] for t in ts])\n",
    "    u = np.array([t[\"uncert\"] for t in ts])\n",
    "    m = np.array([t[\"mjd\"] for t in ts])\n",
    "    ipms = np.array([float(t[\"flags\"][\"ipm\"]) for t in ts])\n",
    "    ar, au = combine(r,u)\n",
    "    am, _ = combine(m,u)\n",
    "    ipm, _ = combine(ipms,u)\n",
    "    tels.add(t[\"tel\"])\n",
    "    if au<0.5:\n",
    "        avgs.append(dict(key=k,mjd=am,res=ar,uncert=au, \n",
    "                         ipm=ipm,tel=t[\"tel\"]))"
   ]
  },
  {
   "cell_type": "code",
   "execution_count": 182,
   "metadata": {},
   "outputs": [
    {
     "data": {
      "text/plain": [
       "<matplotlib.text.Text at 0x146e2c50>"
      ]
     },
     "execution_count": 182,
     "metadata": {},
     "output_type": "execute_result"
    },
    {
     "data": {
      "image/png": "[encoded data removed]",
      "text/plain": [
       "<matplotlib.figure.Figure at 0x6a796d0>"
      ]
     },
     "metadata": {},
     "output_type": "display_data"
    },
    {
     "data": {
      "image/png": "[encoded data removed]",
      "text/plain": [
       "<matplotlib.figure.Figure at 0x6a79e50>"
      ]
     },
     "metadata": {},
     "output_type": "display_data"
    }
   ],
   "source": [
    "for t in sorted(tels)[::-1]:\n",
    "    plt.errorbar([a[\"mjd\"] for a in avgs if a[\"tel\"]==t], \n",
    "               [a[\"res\"] for a in avgs if a[\"tel\"]==t],\n",
    "               [a[\"uncert\"] for a in avgs if a[\"tel\"]==t],\n",
    "                  label=t,\n",
    "                linestyle=\"none\")\n",
    "yl,yh = plt.ylim()\n",
    "plt.plot([a[\"mjd\"] for a in avgs],\n",
    "         [1e6*a[\"ipm\"] for a in avgs],\n",
    "        \"k.\", zorder=-5, label=\"IPM delay\")\n",
    "plt.ylim(yl,yh)\n",
    "plt.legend()\n",
    "plt.xlabel(\"MJD\")\n",
    "plt.ylabel(\"avg. residual ($\\mu$s)\")\n",
    "plt.gcf().set_size_inches(10,8)\n",
    "plt.savefig(\"per-obs.pdf\")\n",
    "plt.figure()\n",
    "plt.plot([a[\"mjd\"] for a in avgs], \n",
    "           [a[\"res\"]/a[\"uncert\"] for a in avgs],\n",
    "        \".\")\n",
    "plt.xlabel(\"MJD\")\n",
    "plt.ylabel(\"avg. residual (z)\")\n",
    "\n"
   ]
  },
  {
   "cell_type": "code",
   "execution_count": 183,
   "metadata": {},
   "outputs": [
    {
     "name": "stdout",
     "output_type": "stream",
     "text": [
      "57262.25_GBT_1400 3.3(18)e-1 1.79807032685\n",
      "57263.39_AO_1400 -4(7)e-2 -0.627986446515\n",
      "57280.44_GBT_1400 -2.1(14)e-1 -1.54541830291\n",
      "57292.43_GBT_1400 1.3(5)e-1 2.79589856497\n",
      "57293.30_AO_1400 0(7)e-2 -0.0149379658187\n",
      "57293.32_AO_1400 0(7)e-2 -0.0228203740416\n",
      "57301.32_GBT_1400 -2.5(19)e-1 -1.32067349878\n",
      "57317.25_AO_1400 -4(8)e-2 -0.505222832417\n",
      "57322.45_GBT_1400 -2(2)e-1 -0.873309917227\n",
      "57343.12_GBT_1400 0(16)e-2 0.55790590266\n",
      "57349.14_AO_1400 -1.3(6)e-1 -2.10795604683\n",
      "57354.24_GBT_1400 0(5)e-2 -0.0391298096654\n",
      "57364.04_GBT_1400 0(2)e-1 -0.133228577045\n",
      "57376.08_AO_1400 0(7)e-2 -0.117690126214\n",
      "57384.08_GBT_1400 -1.2(18)e-1 -0.668852575776\n",
      "57400.02_AO_1400 -9(6)e-2 -1.57097238348\n",
      "57405.23_GBT_1400 2.0(14)e-1 1.45579652727\n",
      "57413.11_GBT_1400 0(4)e-2 0.185345642541\n",
      "57422.95_AO_1400 -3(5)e-2 -0.570540801475\n",
      "57428.86_GBT_1400 -2.0(17)e-1 -1.1935240525\n",
      "57431.99_AO_1400 2.3(2)e0 10.9187467454\n",
      "57448.92_GBT_1400 2.3(18)e-1 1.31621109616\n",
      "57470.88_GBT_1400 2.2(17)e-1 1.29000402021\n",
      "57471.79_GBT_1400 1.8(13)e-1 1.42074936807\n",
      "57471.99_GBT_1400 2.8(7)e-1 3.89997889558\n",
      "57493.64_GBT_1400 1.3(13)e-1 0.982524795062\n",
      "57502.73_AO_1400 -10(6)e-2 -1.50911360184\n",
      "57510.89_GBT_1400 -6.7(15)e-1 -4.49666074796\n",
      "57530.66_AO_1400 -1(7)e-2 -0.161867616403\n",
      "57532.49_GBT_1400 0(17)e-2 0.000511604826706\n",
      "57538.58_GBT_1400 1.0(5)e-1 1.974515693\n",
      "57551.60_AO_1400 -2.8(9)e-1 -2.94277400165\n",
      "57558.52_GBT_1400 5.2(17)e-1 3.05536165198\n",
      "57571.55_AO_1400 4(8)e-2 0.545209279532\n",
      "57577.70_GBT_1400 0(19)e-2 0.305910219733\n",
      "57591.60_GBT_1400 0(10)e-2 -0.455076527922\n",
      "57594.50_AO_1400 -6(7)e-2 -0.867861986209\n",
      "57599.44_GBT_1400 0(19)e-2 -0.0272263294265\n",
      "57621.42_AO_1400 -1.4(8)e-1 -1.80726261674\n",
      "57621.42_GBT_1400 -3.8(18)e-1 -2.07868525331\n",
      "57628.39_AO_1400 -6(7)e-2 -0.84054672093\n",
      "57636.48_GBT_1400 0(17)e-2 0.170913388822\n",
      "57642.46_GBT_1400 1(6)e-2 0.255051609077\n",
      "57643.36_AO_1400 -1.2(8)e-1 -1.53268992415\n",
      "57660.12_GBT_1400 0(2)e-1 0.301083599002\n",
      "57667.32_AO_1400 -8(6)e-2 -1.26560122017\n",
      "57678.22_GBT_1400 0(13)e-2 0.52863629283\n",
      "57686.24_AO_1400 2.9(6)e-1 4.61576923026\n",
      "57686.28_AO_1400 5.7(13)e-1 4.31910758347\n",
      "57698.14_GBT_1400 -1.0(5)e-1 -2.11680755427\n",
      "57700.07_GBT_1400 0(12)e-2 0.599289518194\n",
      "57705.19_AO_1400 1(6)e-2 0.260511202253\n",
      "57720.39_GBT_1400 0(18)e-2 0.0260315350968\n",
      "57730.11_AO_1400 -2.3(9)e-1 -2.64555873753\n",
      "57739.07_AO_1400 -1.8(6)e-1 -2.9596035772\n",
      "57740.10_GBT_1400 -4.5(17)e-1 -2.6057817015\n",
      "57757.02_GBT_1400 2(6)e-2 0.342635348129\n",
      "57761.11_GBT_1400 -5(2)e-1 -2.22061913237\n",
      "57764.01_AO_1400 3(7)e-2 0.420386442978\n",
      "57782.15_GBT_1400 -1.0(2)e0 -4.62773798697\n",
      "57787.94_AO_1400 2.1(6)e-1 3.38317925314\n",
      "57808.90_AO_1400 1(4)e-2 0.339636539435\n",
      "57826.05_GBT_1400 -5.9(11)e-1 -5.2021437034\n",
      "57826.78_GBT_1400 5.2(13)e-1 4.16159660749\n",
      "57832.87_AO_1400 -1.8(7)e-1 -2.4756174755\n",
      "57845.89_GBT_1400 -1(2)e-1 -0.626465664138\n",
      "57866.91_GBT_1400 -1.4(12)e-1 -1.20687985028\n"
     ]
    }
   ],
   "source": [
    "for a in avgs:\n",
    "    if a[\"mjd\"]<57250:\n",
    "        continue\n",
    "    k = a[\"key\"].split(\"/\")[2]\n",
    "    print k, threebody.fmt(a[\"res\"], a[\"uncert\"]), a[\"res\"]/a[\"uncert\"]"
   ]
  },
  {
   "cell_type": "code",
   "execution_count": 184,
   "metadata": {},
   "outputs": [
    {
     "data": {
      "text/plain": [
       "{'file': 'data/obs/55956.70_WSRT_1400/tuned2/scrunch_0000.ar',\n",
       " 'flags': {'P': '0.00273285578456',\n",
       "  'band': '1400',\n",
       "  'bw': '20.0',\n",
       "  'chan': '5',\n",
       "  'day_bary': 36.698945946259331999,\n",
       "  'ipm': '1.37889118459e-07',\n",
       "  'max_smearing': '0.04241883288',\n",
       "  'mode': 'fold',\n",
       "  'nbin': '512',\n",
       "  'phase': '0.30476971276',\n",
       "  'pn': '-4530974479',\n",
       "  'processing_name': 'tuned2',\n",
       "  'reduced_chi2': '1.10940790474',\n",
       "  'resid_phase': -0.000525951385498046875,\n",
       "  'resid_s': -1.4372087549522615235e-06,\n",
       "  'snr': '11.1171428287',\n",
       "  'solarangle': '105.804707157',\n",
       "  'subint': '0',\n",
       "  'tel': 'WSRT',\n",
       "  'toa_name': 'aligned',\n",
       "  'tsubint': '579.996288',\n",
       "  'uncert': '0.000803623322186',\n",
       "  'uncert_phase': 0.00080370190104991543,\n",
       "  'uncert_scaled': '0.000846443861987',\n",
       "  'weighted_frequency': '1429.375'},\n",
       " 'freq': 1409.375,\n",
       " 'mjd': 55956.696412057274,\n",
       " 'mjd_string': '55956.69641205727328014952',\n",
       " 'tel': 'wsrt',\n",
       " 'uncert': 2.19618664464}"
      ]
     },
     "execution_count": 184,
     "metadata": {},
     "output_type": "execute_result"
    }
   ],
   "source": [
    "toa_infos[0]"
   ]
  },
  {
   "cell_type": "code",
   "execution_count": null,
   "metadata": {
    "collapsed": true
   },
   "outputs": [],
   "source": []
  }
 ],
 "metadata": {
  "kernelspec": {
   "display_name": "Python 2",
   "language": "python",
   "name": "python2"
  },
  "language_info": {
   "codemirror_mode": {
    "name": "ipython",
    "version": 2
   },
   "file_extension": ".py",
   "mimetype": "text/x-python",
   "name": "python",
   "nbconvert_exporter": "python",
   "pygments_lexer": "ipython2",
   "version": "2.7.3"
  }
 },
 "nbformat": 4,
 "nbformat_minor": 2
}
