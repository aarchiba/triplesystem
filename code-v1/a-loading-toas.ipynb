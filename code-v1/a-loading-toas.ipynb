{
 "metadata": {
  "name": "a-loading-toas"
 },
 "nbformat": 3,
 "nbformat_minor": 0,
 "worksheets": [
  {
   "cells": [
    {
     "cell_type": "code",
     "collapsed": false,
     "input": [
      "%load_ext autoreload\n",
      "\n",
      "%autoreload 2"
     ],
     "language": "python",
     "metadata": {},
     "outputs": [],
     "prompt_number": 1
    },
    {
     "cell_type": "code",
     "collapsed": false,
     "input": [
      "import threebody"
     ],
     "language": "python",
     "metadata": {},
     "outputs": [],
     "prompt_number": 2
    },
    {
     "cell_type": "code",
     "collapsed": false,
     "input": [
      "toa_base = \"0337+17-scott-2013-08-15\""
     ],
     "language": "python",
     "metadata": {},
     "outputs": [],
     "prompt_number": 3
    },
    {
     "cell_type": "code",
     "collapsed": false,
     "input": [
      "bats, pulses, tel_list, tels, errs = threebody.load_toas(\n",
      "                    timfile = toa_base+\".tim\",\n",
      "                    pulses = toa_base+\".pulses\",\n",
      "                    parfile = \"0337_bogus.par\",\n",
      "                    t2outfile = None)"
     ],
     "language": "python",
     "metadata": {},
     "outputs": [],
     "prompt_number": 6
    },
    {
     "cell_type": "code",
     "collapsed": false,
     "input": [
      "bats2, pulses2, tel_list2, tels2, errs2 = threebody.load_toas(\n",
      "                    timfile = toa_base+\".tim\",\n",
      "                    pulses = toa_base+\".pulses\",\n",
      "                    parfile = \"0337_tempo2_nobinary.par\",\n",
      "                    t2outfile = None)"
     ],
     "language": "python",
     "metadata": {},
     "outputs": [],
     "prompt_number": 7
    },
    {
     "cell_type": "code",
     "collapsed": false,
     "input": [
      "bats3, pulses3, tel_list3, tels3, errs3 = threebody.load_toas(\n",
      "                    timfile = toa_base+\".tim\",\n",
      "                    pulses = toa_base+\".pulses\",\n",
      "                    parfile = \"0337_tempo2_nobinary_icrf.par\",\n",
      "                    t2outfile = \"0337_tempo2_nobinary_icrf.out\")"
     ],
     "language": "python",
     "metadata": {},
     "outputs": [],
     "prompt_number": 21
    },
    {
     "cell_type": "code",
     "collapsed": false,
     "input": [
      "plt.plot(bats, (bats2-bats)*86400*1e6)\n",
      "plt.plot(bats, (bats2-bats3)*86400*1e6)\n",
      "plt.axvline(56000)\n",
      "plt.axvline(56365.25)\n",
      "plt.xlabel(\"MJD\")\n",
      "plt.ylabel(r\"$\\mu$s\")"
     ],
     "language": "python",
     "metadata": {},
     "outputs": [
      {
       "output_type": "pyout",
       "prompt_number": 15,
       "text": [
        "<matplotlib.text.Text at 0x48d6990>"
       ]
      },
      {
       "output_type": "display_data",
       "png": "[encoded data removed]"
      }
     ],
     "prompt_number": 15
    },
    {
     "cell_type": "code",
     "collapsed": false,
     "input": [
      "plt.plot(bats, (bats3-bats2)*86400*1e6)\n",
      "plt.xlabel(\"MJD\")\n",
      "plt.ylabel(r\"$\\mu$s\")"
     ],
     "language": "python",
     "metadata": {},
     "outputs": [
      {
       "output_type": "pyout",
       "prompt_number": 16,
       "text": [
        "<matplotlib.text.Text at 0x4acc710>"
       ]
      },
      {
       "output_type": "display_data",
       "png": "[encoded data removed]"
      }
     ],
     "prompt_number": 16
    },
    {
     "cell_type": "code",
     "collapsed": false,
     "input": [],
     "language": "python",
     "metadata": {},
     "outputs": []
    }
   ],
   "metadata": {}
  }
 ]
}