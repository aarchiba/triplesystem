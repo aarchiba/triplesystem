{
 "cells": [
  {
   "cell_type": "code",
   "execution_count": 1,
   "metadata": {},
   "outputs": [
    {
     "name": "stderr",
     "output_type": "stream",
     "text": [
      "DEBUG:root:test\n"
     ]
    }
   ],
   "source": [
    "%load_ext autoreload\n",
    "\n",
    "%autoreload 2\n",
    "\n",
    "from __future__ import print_function, division\n",
    "\n",
    "import cPickle as pickle\n",
    "from glob import glob\n",
    "import subprocess\n",
    "import sys\n",
    "import string\n",
    "import os\n",
    "import random\n",
    "import numpy as np\n",
    "from os.path import join\n",
    "import scipy.linalg\n",
    "\n",
    "import threebody\n",
    "\n",
    "import logging\n",
    "logger = logging.getLogger()\n",
    "logger.setLevel(logging.DEBUG)\n",
    "#logger.setLevel(logging.INFO)\n",
    "logging.debug(\"test\")"
   ]
  },
  {
   "cell_type": "code",
   "execution_count": 17,
   "metadata": {
    "scrolled": false
   },
   "outputs": [],
   "source": [
    "run = \"4235\"\n",
    "\n",
    "run_dir = glob(\"emcee-chains/%s*/\" % run)[0]\n",
    "\n",
    "lasts = {}\n",
    "for lf in sorted(glob(join(run_dir, \"rank-*.log\"))):\n",
    "    n = int(lf.split(\"-\")[-1].split(\".\")[0])\n",
    "    l = open(lf,\"rt\").readlines()[-1]\n",
    "    l = l.split(\" - \",2)[1]\n",
    "    if l not in lasts:\n",
    "        lasts[l] = []\n",
    "    lasts[l].append(n)\n",
    "\n",
    "#lasts\n",
    "    "
   ]
  },
  {
   "cell_type": "code",
   "execution_count": 18,
   "metadata": {},
   "outputs": [
    {
     "data": {
      "text/plain": [
       "10"
      ]
     },
     "execution_count": 18,
     "metadata": {},
     "output_type": "execute_result"
    }
   ],
   "source": [
    "bad = None\n",
    "for k, v in lasts.items():\n",
    "    if v == [0]:\n",
    "        continue\n",
    "    elif len(v) == 1:\n",
    "        bad = v[0]\n",
    "        break\n",
    "bad"
   ]
  },
  {
   "cell_type": "code",
   "execution_count": 19,
   "metadata": {},
   "outputs": [
    {
     "data": {
      "text/plain": [
       "'emcee-chains/4235.nimrod.cv.nrao.edu/eval-params-10-227'"
      ]
     },
     "execution_count": 19,
     "metadata": {},
     "output_type": "execute_result"
    }
   ],
   "source": [
    "fitter_params = pickle.load(open(join(run_dir,\"fitter_params.pickle\")))\n",
    "pn = sorted(glob(join(run_dir,\"eval-params-%d-*\" % bad)),\n",
    "            key=lambda s: int(s.split(\"-\")[-1]))[-1]\n",
    "params = pickle.load(open(pn))\n",
    "\n",
    "#fitter_params\n",
    "pn"
   ]
  },
  {
   "cell_type": "code",
   "execution_count": 20,
   "metadata": {},
   "outputs": [
    {
     "name": "stderr",
     "output_type": "stream",
     "text": [
      "DEBUG:threebody:base telescope AO_1400 from list of ['AO_1400', 'GBT_1400', 'WSRT_1400']\n"
     ]
    }
   ],
   "source": [
    "F = threebody.Fitter(**fitter_params)"
   ]
  },
  {
   "cell_type": "code",
   "execution_count": 21,
   "metadata": {},
   "outputs": [
    {
     "name": "stderr",
     "output_type": "stream",
     "text": [
      "DEBUG:threebody:Started residuals for {'eps1_o': 0.035186144529728314743, 'eps1_i': 0.00068756365163029250194, 'asini_i': 1.2175261340611907534, 'eps2_i': -9.1342940728985311107e-05, 'delta_lan': 4.3669577065527311844e-06, 'eps2_o': -0.0034624781891805099991, 'q_i': 0.13741412366069401114, 'asini_o': 74.672679004981893383, 'pb_o': 327.25729010941072994, 'dgamma': -2.1938772461962205163e-05, 'pb_i': 1.6293956719827174931, 'delta': -3.9098581460917986535e-07, 'tasc_i': 0.40771684809900035507, 'acosi_o': 91.353642236763340841, 'dbeta': 0.0029896177279454729846, 'acosi_i': 1.4894119650445916636, 'tasc_o': 313.93556502474439798}\n",
      "DEBUG:threebody:Started compute_orbit for {'ppn_mode': 'heavysimple', 'shapiro': True, 'asini_i': 1.2175261340611907534, 'eps2_i': -9.1342940728985311107e-05, 'delta_lan': 4.3669577065527311844e-06, 'eps2_o': -0.0034624781891805099991, 'q_i': 0.13741412366069401114, 'general': True, 'dgamma': -2.1938772461962205163e-05, 'tasc_i': 0.40771684809900035507, 'acosi_o': 91.353642236763340841, 'acosi_i': 1.4894119650445916636, 'special': True, 'tasc_o': 313.93556502474439798, 'eps1_o': 0.035186144529728314743, 'eps1_i': 0.00068756365163029250194, 'tol': 1e-16, 'use_quad': False, 'pb_i': 1.6293956719827174931, 'matrix_mode': 0, 'delta': -3.9098581460917986535e-07, 'asini_o': 74.672679004981893383, 'dbeta': 0.0029896177279454729846, 'pb_o': 327.25729010941072994, 'kopeikin': False}\n",
      "DEBUG:threebody:compute_orbit cache miss, running calculation\n",
      "DEBUG:threebody:Calling compute_orbit\n",
      "DEBUG:threebody:Running compute_orbit with parameter_dict {'ppn_mode': 'heavysimple', 'shapiro': True, 'asini_i': 1.2175261340611907534, 'eps2_i': -9.1342940728985311107e-05, 'delta_lan': 4.3669577065527311844e-06, 'eps2_o': -0.0034624781891805099991, 'q_i': 0.13741412366069401114, 'general': True, 'dgamma': -2.1938772461962205163e-05, 'tasc_i': 0.40771684809900035507, 'acosi_o': 91.353642236763340841, 'acosi_i': 1.4894119650445916636, 'special': True, 'tasc_o': 313.93556502474439798, 'eps1_o': 0.035186144529728314743, 'eps1_i': 0.00068756365163029250194, 'tol': 1e-16, 'use_quad': False, 'pb_i': 1.6293956719827174931, 'matrix_mode': 0, 'delta': -3.9098581460917986535e-07, 'asini_o': 74.672679004981893383, 'dbeta': 0.0029896177279454729846, 'pb_o': 327.25729010941072994, 'kopeikin': False}\n",
      "DEBUG:threebody:PPN mode is heavysimple\n",
      "DEBUG:threebody:Running compute_orbit from time 36.6989459463 to 1946.91749502 with tol 1e-16\n",
      "DEBUG:threebody:Constructing initial conditions\n",
      "DEBUG:threebody:setting up RHS\n",
      "DEBUG:threebody:Constructing ODE integrator\n",
      "DEBUG:threebody:Computing TOA 0 at t_bb=36.6989\n",
      "DEBUG:threebody:Extracting results\n",
      "DEBUG:threebody:Computing TOA 1 at t_bb=47.7225\n",
      "DEBUG:threebody:Extracting results\n",
      "DEBUG:threebody:Computing TOA 3 at t_bb=47.7225\n",
      "DEBUG:threebody:Extracting results\n",
      "DEBUG:threebody:Computing TOA 7 at t_bb=47.7225\n",
      "DEBUG:threebody:Extracting results\n",
      "DEBUG:threebody:Computing TOA 15 at t_bb=48.7189\n",
      "DEBUG:threebody:Extracting results\n",
      "DEBUG:threebody:Computing TOA 31 at t_bb=60.9175\n",
      "DEBUG:threebody:Extracting results\n",
      "DEBUG:threebody:Computing TOA 63 at t_bb=69.8587\n",
      "DEBUG:threebody:Extracting results\n",
      "DEBUG:threebody:Computing TOA 127 at t_bb=69.8795\n",
      "DEBUG:threebody:Extracting results\n",
      "DEBUG:threebody:Computing TOA 255 at t_bb=75.8488\n",
      "DEBUG:threebody:Extracting results\n",
      "DEBUG:threebody:Computing TOA 511 at t_bb=78.8536\n",
      "DEBUG:threebody:Extracting results\n",
      "DEBUG:threebody:Computing TOA 1023 at t_bb=92.8166\n",
      "DEBUG:threebody:Extracting results\n",
      "DEBUG:threebody:Computing TOA 2047 at t_bb=119.665\n",
      "DEBUG:threebody:Extracting results\n",
      "DEBUG:threebody:Computing TOA 4095 at t_bb=175.633\n",
      "DEBUG:threebody:Extracting results\n",
      "DEBUG:threebody:Computing TOA 8191 at t_bb=352.699\n",
      "DEBUG:threebody:Extracting results\n",
      "DEBUG:threebody:Computing TOA 16383 at t_bb=950.544\n",
      "DEBUG:threebody:Extracting results\n",
      "DEBUG:threebody:Done integration\n",
      "DEBUG:threebody:Back from compute_orbit after time 34.9042699337 (1592906 evaluations)\n",
      "DEBUG:threebody:Setting up linear least-squares fitting\n",
      "DEBUG:threebody:Calling scipy.linalg.lstsq\n",
      "DEBUG:threebody:scipy.linalg.lstsq returned\n",
      "DEBUG:threebody:Residual chi-squared: 36807.3037513\n",
      "DEBUG:threebody:Calling scipy.linalg.lstsq\n",
      "DEBUG:threebody:scipy.linalg.lstsq returned\n",
      "DEBUG:threebody:Residual chi-squared: 35995.4418548\n",
      "DEBUG:threebody:Calling scipy.linalg.lstsq\n",
      "DEBUG:threebody:scipy.linalg.lstsq returned\n",
      "DEBUG:threebody:Residual chi-squared: 35995.4416068\n",
      "DEBUG:threebody:Calling scipy.linalg.lstsq\n",
      "DEBUG:threebody:scipy.linalg.lstsq returned\n",
      "DEBUG:threebody:Residual chi-squared: 35995.4408297\n",
      "DEBUG:threebody:Calling scipy.linalg.lstsq\n",
      "DEBUG:threebody:scipy.linalg.lstsq returned\n",
      "DEBUG:threebody:Residual chi-squared: 35995.441978\n",
      "DEBUG:threebody:lstsq done\n",
      "DEBUG:threebody:Done linear least-squares\n"
     ]
    },
    {
     "data": {
      "text/plain": [
       "-18226.457825369373014"
      ]
     },
     "execution_count": 21,
     "metadata": {},
     "output_type": "execute_result"
    }
   ],
   "source": [
    "F.lnprob(params)"
   ]
  },
  {
   "cell_type": "code",
   "execution_count": 22,
   "metadata": {},
   "outputs": [
    {
     "name": "stderr",
     "output_type": "stream",
     "text": [
      "DEBUG:threebody:Computing linear parts\n",
      "DEBUG:threebody:Computing linear matrix\n",
      "DEBUG:threebody:Started compute_orbit for {'ppn_mode': 'heavysimple', 'shapiro': True, 'asini_i': 1.2175261340611907534, 'eps2_i': -9.1342940728985311107e-05, 'delta_lan': 4.3669577065527311844e-06, 'eps2_o': -0.0034624781891805099991, 'q_i': 0.13741412366069401114, 'general': True, 'dgamma': -2.1938772461962205163e-05, 'tasc_i': 0.40771684809900035507, 'acosi_o': 91.353642236763340841, 'acosi_i': 1.4894119650445916636, 'special': True, 'tasc_o': 313.93556502474439798, 'eps1_o': 0.035186144529728314743, 'eps1_i': 0.00068756365163029250194, 'tol': 1e-16, 'use_quad': False, 'pb_i': 1.6293956719827174931, 'matrix_mode': 0, 'delta': -3.9098581460917986535e-07, 'asini_o': 74.672679004981893383, 'dbeta': 0.0029896177279454729846, 'pb_o': 327.25729010941072994, 'kopeikin': False}\n",
      "DEBUG:threebody:compute_orbit cache hit\n",
      "DEBUG:threebody:fit matrix shape is (27138, 36)\n",
      "DEBUG:threebody:Calling scipy.linalg.lstsq\n",
      "DEBUG:threebody:scipy.linalg.lstsq returned\n",
      "DEBUG:threebody:Residual chi-squared: 36807.3037513\n",
      "DEBUG:threebody:Calling scipy.linalg.lstsq\n",
      "DEBUG:threebody:scipy.linalg.lstsq returned\n",
      "DEBUG:threebody:Residual chi-squared: 35995.4418548\n",
      "DEBUG:threebody:Calling scipy.linalg.lstsq\n",
      "DEBUG:threebody:scipy.linalg.lstsq returned\n",
      "DEBUG:threebody:Residual chi-squared: 35995.4416068\n",
      "DEBUG:threebody:Calling scipy.linalg.lstsq\n",
      "DEBUG:threebody:scipy.linalg.lstsq returned\n",
      "DEBUG:threebody:Residual chi-squared: 35995.4408297\n",
      "DEBUG:threebody:Calling scipy.linalg.lstsq\n",
      "DEBUG:threebody:scipy.linalg.lstsq returned\n",
      "DEBUG:threebody:Residual chi-squared: 35995.441978\n",
      "DEBUG:threebody:lstsq done\n",
      "DEBUG:threebody:final x: [ 158.67109  158.57403  158.4845  158.54553  158.56014  158.60285\n",
      "  158.51408  158.46797  158.43266  158.15077  157.79277  1.3130091\n",
      " -1.2781195  0.73864337 -0.21133023  39.454018  474.70547  92.74253\n",
      " -468.64144  36.882256 -1193.8498  604.64731  1078.0588 -154.43697\n",
      "  5306.7016 -4748.6689  5.0554929e-05 -2.7211273e-08 -6.0739944e-09\n",
      "  15.892099 -1.5966273e-05  365.95336 -1.1775358e-15 -0.0033875784\n",
      " -0.0036422226 -5.6913127e+09]\n",
      "DEBUG:threebody:residual 35995.439108\n",
      "DEBUG:threebody:residual RMS 0.000563\n"
     ]
    },
    {
     "data": {
      "text/plain": [
       "(array([ 158.67109,  158.57403,  158.4845,  158.54553,  158.56014,\n",
       "         158.60285,  158.51408,  158.46797,  158.43266,  158.15077,\n",
       "         157.79277,  1.3130091, -1.2781195,  0.73864337, -0.21133023,\n",
       "         39.454018,  474.70547,  92.74253, -468.64144,  36.882256,\n",
       "        -1193.8498,  604.64731,  1078.0588, -154.43697,  5306.7016,\n",
       "        -4748.6689,  5.0554929e-05, -2.7211273e-08, -6.0739944e-09,\n",
       "         15.892099, -1.5966273e-05,  365.95336, -1.1775358e-15,\n",
       "        -0.0033875784, -0.0036422226, -5.6913127e+09], dtype=float128),\n",
       " ['DM_0000',\n",
       "  'DM_0001',\n",
       "  'DM_0002',\n",
       "  'DM_0003',\n",
       "  'DM_0004',\n",
       "  'DM_0005',\n",
       "  'DM_0006',\n",
       "  'DM_0007',\n",
       "  'DM_0008',\n",
       "  'DM_0009',\n",
       "  'DM_0010',\n",
       "  'FD1',\n",
       "  'FD2',\n",
       "  'FD3',\n",
       "  'FD4',\n",
       "  'IPM_0000',\n",
       "  'IPM_0001',\n",
       "  'IPM_0002',\n",
       "  'IPM_0003',\n",
       "  'IPM_0004',\n",
       "  'IPM_0005',\n",
       "  'IPM_0006',\n",
       "  'IPM_0007',\n",
       "  'IPM_0008',\n",
       "  'IPM_0009',\n",
       "  'IPM_0010',\n",
       "  'd_DECJ',\n",
       "  'd_PMDEC',\n",
       "  'd_PMRA',\n",
       "  'd_PX',\n",
       "  'd_RAJ',\n",
       "  'f0',\n",
       "  'f1',\n",
       "  'j_GBT_1400',\n",
       "  'j_WSRT_1400',\n",
       "  'phase'])"
      ]
     },
     "execution_count": 22,
     "metadata": {},
     "output_type": "execute_result"
    }
   ],
   "source": [
    "F.compute_linear_parts(params)"
   ]
  },
  {
   "cell_type": "code",
   "execution_count": 23,
   "metadata": {},
   "outputs": [
    {
     "name": "stdout",
     "output_type": "stream",
     "text": [
      "lapack_opt_info:\n",
      "    libraries = ['openblas', 'openblas']\n",
      "    library_dirs = ['/usr/local/lib']\n",
      "    define_macros = [('HAVE_CBLAS', None)]\n",
      "    language = c\n",
      "blas_opt_info:\n",
      "    libraries = ['openblas', 'openblas']\n",
      "    library_dirs = ['/usr/local/lib']\n",
      "    define_macros = [('HAVE_CBLAS', None)]\n",
      "    language = c\n",
      "openblas_info:\n",
      "    libraries = ['openblas', 'openblas']\n",
      "    library_dirs = ['/usr/local/lib']\n",
      "    define_macros = [('HAVE_CBLAS', None)]\n",
      "    language = c\n",
      "blis_info:\n",
      "  NOT AVAILABLE\n",
      "openblas_lapack_info:\n",
      "    libraries = ['openblas', 'openblas']\n",
      "    library_dirs = ['/usr/local/lib']\n",
      "    define_macros = [('HAVE_CBLAS', None)]\n",
      "    language = c\n",
      "lapack_mkl_info:\n",
      "  NOT AVAILABLE\n",
      "blas_mkl_info:\n",
      "  NOT AVAILABLE\n"
     ]
    }
   ],
   "source": [
    "#import numpy.config\n",
    "np.__config__.show()"
   ]
  },
  {
   "cell_type": "code",
   "execution_count": 24,
   "metadata": {},
   "outputs": [
    {
     "name": "stdout",
     "output_type": "stream",
     "text": [
      "lapack_opt_info:\n",
      "    libraries = ['openblas']\n",
      "    library_dirs = ['/usr/local/lib']\n",
      "    language = f77\n",
      "blas_opt_info:\n",
      "    libraries = ['openblas']\n",
      "    library_dirs = ['/usr/local/lib']\n",
      "    language = f77\n",
      "openblas_info:\n",
      "    libraries = ['openblas']\n",
      "    library_dirs = ['/usr/local/lib']\n",
      "    language = f77\n",
      "openblas_lapack_info:\n",
      "    libraries = ['openblas']\n",
      "    library_dirs = ['/usr/local/lib']\n",
      "    language = f77\n",
      "blas_mkl_info:\n",
      "  NOT AVAILABLE\n"
     ]
    }
   ],
   "source": [
    "scipy.__config__.show()"
   ]
  },
  {
   "cell_type": "code",
   "execution_count": null,
   "metadata": {
    "collapsed": true
   },
   "outputs": [],
   "source": []
  }
 ],
 "metadata": {
  "kernelspec": {
   "display_name": "Python 2",
   "language": "python",
   "name": "python2"
  },
  "language_info": {
   "codemirror_mode": {
    "name": "ipython",
    "version": 2
   },
   "file_extension": ".py",
   "mimetype": "text/x-python",
   "name": "python",
   "nbconvert_exporter": "python",
   "pygments_lexer": "ipython2",
   "version": "2.7.3"
  }
 },
 "nbformat": 4,
 "nbformat_minor": 2
}
