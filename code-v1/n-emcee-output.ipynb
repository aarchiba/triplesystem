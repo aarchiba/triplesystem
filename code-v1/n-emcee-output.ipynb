{
 "cells": [
  {
   "cell_type": "code",
   "execution_count": 1,
   "metadata": {
    "collapsed": true
   },
   "outputs": [],
   "source": [
    "%load_ext autoreload\n",
    "\n",
    "%autoreload 2"
   ]
  },
  {
   "cell_type": "code",
   "execution_count": 2,
   "metadata": {
    "collapsed": true
   },
   "outputs": [],
   "source": [
    "from glob import glob\n",
    "import os\n",
    "import time\n",
    "import cPickle as pickle\n",
    "import joblib\n",
    "\n",
    "import scipy.linalg\n",
    "import scipy.stats\n",
    "\n",
    "import emcee\n",
    "\n",
    "import kepler\n",
    "import threebody"
   ]
  },
  {
   "cell_type": "code",
   "execution_count": 3,
   "metadata": {},
   "outputs": [
    {
     "data": {
      "text/plain": [
       "<matplotlib.figure.Figure at 0x58e5150>"
      ]
     },
     "metadata": {},
     "output_type": "display_data"
    }
   ],
   "source": [
    "import matplotlib\n",
    "matplotlib.rcParams['savefig.dpi'] = 144\n",
    "%matplotlib inline\n",
    "import numpy as np\n",
    "import matplotlib.pyplot as plt\n",
    "plt.viridis()"
   ]
  },
  {
   "cell_type": "code",
   "execution_count": 4,
   "metadata": {
    "collapsed": true
   },
   "outputs": [],
   "source": [
    "def load(jobid,thin=1,burn=0):\n",
    "    offsets, probs, blobs = [], [], []\n",
    "    b = os.path.join(\"emcee-chains\",jobid+\".*\")\n",
    "    i = 0\n",
    "    j = 0\n",
    "    for o,p in zip(sorted(glob(os.path.join(b,\"*-pos.npy\"))),\n",
    "                   sorted(glob(os.path.join(b,\"*-prob.npy\")))):\n",
    "        if j<burn:\n",
    "            j+=1\n",
    "            continue\n",
    "        if i==0:\n",
    "            offsets.append(np.load(o))\n",
    "            probs.append(np.load(p))\n",
    "            bfn = o.rsplit(\"-\",1)[0]+\"-blobs.npy\"\n",
    "            blobs.append(bfn)\n",
    "        i += 1\n",
    "        i %= thin\n",
    "    offsets = np.array(offsets)\n",
    "    probs = np.array(probs)\n",
    "    blobs = np.array(blobs)\n",
    "    if len(offsets.shape)==3:\n",
    "        offsets = offsets[:,None,:,:]\n",
    "        probs = probs[:,None,...]\n",
    "    return offsets, probs, blobs"
   ]
  },
  {
   "cell_type": "code",
   "execution_count": 176,
   "metadata": {},
   "outputs": [
    {
     "name": "stdout",
     "output_type": "stream",
     "text": [
      "(1, 1, 760, 17)\n",
      "(1,)\n"
     ]
    }
   ],
   "source": [
    "#jobid = \"862\" # Massive full run, no delta; converged\n",
    "#jobid = \"863\" # with delta, still converging\n",
    "#jobid = \"870\" # started from full run, using 40 temps\n",
    "#jobid = \"945\" # Including GR, not fully converged\n",
    "#jobid = \"947\" # Including GR\n",
    "#jobid = \"960\" # heavysimple, long, not quite converged\n",
    "#jobid = \"964\" # heavysimple, converged (mostly)\n",
    "#jobid = \"967\" # heavysimple, AO GBT L-band only\n",
    "#jobid = \"984\" # Including GR\n",
    "#jobid = \"992\" # heavysimple, fixed G\n",
    "#jobid = \"993\" # heavysimple, fixed G, priors on beta and gamma\n",
    "#jobid = \"998\" # heavysimple, fixed G, priors on beta and gamma, quad precision\n",
    "#jobid = \"1004\" # heavysimple, fixed G, priors on beta and gamma, WSRT only\n",
    "#jobid = \"1007\" # heavysimple, fixed G, priors on beta and gamma, GBT only\n",
    "#jobid = \"1008\" # heavysimple, fixed G, priors on beta and gamma, AO only\n",
    "#jobid = \"1009\" # heavysimple, fixed G, priors on beta and gamma, tempo2 par file, position fit\n",
    "#jobid = \"1045\" # heavysimple, new data, tempo2 astrometry\n",
    "#jobid = \"1090\" # GR, new data, tempo2 astrometry\n",
    "#jobid = \"6276\" # run for use in discovery paper and timing paper - missing blobs\n",
    "#jobid = \"7983\" # run for use in discovery paper and timing paper\n",
    "#jobid = \"11893\" # AO-only run for use timing paper\n",
    "#jobid = \"11894\" # GBT-only run for use in timing paper\n",
    "#jobid = \"11895\" # WSRT-only run for use in timing paper\n",
    "#jobid = \"12472\" # GR run for use in VLBI paper - data til November\n",
    "#jobid = \"12504\" # SEP test run - data til November\n",
    "#jobid = \"12508\" # GR run for use in VLBI paper - data til January\n",
    "#jobid = \"12516\" # SEP test run - data til November\n",
    "#jobid = \"32533\" # GR run with analytic marginalization - data til August (some)\n",
    "#jobid = \"32534\" # SEP test run with analytic marginalization - data til August (some)\n",
    "#jobid = \"32550\" # SEP test run with analytic marginalization - GBT/WSRT only\n",
    "#jobid = \"32597\" # SEP test run with per-telescope EFACs\n",
    "#jobid = \"69543\" # general-purpose fit 2016-09-26\n",
    "#jobid = \"3095\" # general-purpose fit 2017-07-04\n",
    "jobid = \"3143\" # GR violation test 2017-07-12\n",
    "\n",
    "job_dir = glob(os.path.join(\"emcee-chains\",jobid+\".*\"))[0]\n",
    "full_offsets, full_prob, full_blobs = load(jobid,burn=0)\n",
    "print full_offsets.shape\n",
    "print full_blobs.shape\n",
    "offsets, prob = full_offsets[:,0], full_prob[:,0]"
   ]
  },
  {
   "cell_type": "code",
   "execution_count": 177,
   "metadata": {},
   "outputs": [
    {
     "data": {
      "text/plain": [
       "'emcee-chains/3143.nimrod.cv.nrao.edu/fitter_params.pickle'"
      ]
     },
     "execution_count": 177,
     "metadata": {},
     "output_type": "execute_result"
    }
   ],
   "source": [
    "fpname = os.path.join(job_dir,\"fitter_params.pickle\")\n",
    "with open(fpname) as f:\n",
    "    fitter_params = pickle.load(f)\n",
    "F = threebody.Fitter(**fitter_params)\n",
    "fpname"
   ]
  },
  {
   "cell_type": "code",
   "execution_count": 178,
   "metadata": {},
   "outputs": [
    {
     "data": {
      "text/plain": [
       "{'efac': 1,\n",
       " 'files': 'tuned2_aligned_pulses_1400',\n",
       " 'fit_pm': True,\n",
       " 'fit_pos': True,\n",
       " 'fit_px': True,\n",
       " 'kopeikin': False,\n",
       " 'linear_dm': True,\n",
       " 'linear_jumps': True,\n",
       " 'parfile': '0337_tempo2_px_optical_dmcorr.par',\n",
       " 'ppn_mode': 'heavysimple',\n",
       " 't2_astrometry': True,\n",
       " 'toa_mode': 'pipeline',\n",
       " 'tzrmjd_middle': 'auto'}"
      ]
     },
     "execution_count": 178,
     "metadata": {},
     "output_type": "execute_result"
    }
   ],
   "source": [
    "fitter_params"
   ]
  },
  {
   "cell_type": "code",
   "execution_count": 179,
   "metadata": {},
   "outputs": [
    {
     "data": {
      "text/plain": [
       "['asini_i',\n",
       " 'pb_i',\n",
       " 'eps1_i',\n",
       " 'eps2_i',\n",
       " 'tasc_i',\n",
       " 'acosi_i',\n",
       " 'q_i',\n",
       " 'asini_o',\n",
       " 'pb_o',\n",
       " 'eps1_o',\n",
       " 'eps2_o',\n",
       " 'tasc_o',\n",
       " 'acosi_o',\n",
       " 'delta_lan',\n",
       " 'delta',\n",
       " 'dgamma',\n",
       " 'dbeta']"
      ]
     },
     "execution_count": 179,
     "metadata": {},
     "output_type": "execute_result"
    }
   ],
   "source": [
    "F.parameters"
   ]
  },
  {
   "cell_type": "code",
   "execution_count": 180,
   "metadata": {},
   "outputs": [
    {
     "name": "stdout",
     "output_type": "stream",
     "text": [
      "Total time: 0.000000 days\n"
     ]
    },
    {
     "ename": "ZeroDivisionError",
     "evalue": "float division by zero",
     "output_type": "error",
     "traceback": [
      "\u001b[0;31m---------------------------------------------------------------------------\u001b[0m",
      "\u001b[0;31mZeroDivisionError\u001b[0m                         Traceback (most recent call last)",
      "\u001b[0;32m<ipython-input-180-e30422f1b1f1>\u001b[0m in \u001b[0;36m<module>\u001b[0;34m()\u001b[0m\n\u001b[1;32m      8\u001b[0m \u001b[0mnsteps\u001b[0m \u001b[0;34m=\u001b[0m \u001b[0mfull_offsets\u001b[0m\u001b[0;34m.\u001b[0m\u001b[0mshape\u001b[0m\u001b[0;34m[\u001b[0m\u001b[0;36m0\u001b[0m\u001b[0;34m]\u001b[0m\u001b[0;34m-\u001b[0m\u001b[0;36m1\u001b[0m\u001b[0;34m\u001b[0m\u001b[0m\n\u001b[1;32m      9\u001b[0m \u001b[0;32mprint\u001b[0m \u001b[0;34m\"Total time: %f days\"\u001b[0m \u001b[0;34m%\u001b[0m \u001b[0;34m(\u001b[0m\u001b[0melapsed_time\u001b[0m\u001b[0;34m/\u001b[0m\u001b[0;36m86400.\u001b[0m\u001b[0;34m)\u001b[0m\u001b[0;34m\u001b[0m\u001b[0m\n\u001b[0;32m---> 10\u001b[0;31m \u001b[0;32mprint\u001b[0m \u001b[0;34m\"Time per step: %g s\"\u001b[0m \u001b[0;34m%\u001b[0m \u001b[0;34m(\u001b[0m\u001b[0melapsed_time\u001b[0m\u001b[0;34m/\u001b[0m\u001b[0mnsteps\u001b[0m\u001b[0;34m)\u001b[0m\u001b[0;34m\u001b[0m\u001b[0m\n\u001b[0m\u001b[1;32m     11\u001b[0m \u001b[0;32mprint\u001b[0m \u001b[0;34m\"Time per usable sample: %g s\"\u001b[0m \u001b[0;34m%\u001b[0m \u001b[0;34m(\u001b[0m\u001b[0melapsed_time\u001b[0m\u001b[0;34m/\u001b[0m\u001b[0;34m(\u001b[0m\u001b[0mnsteps\u001b[0m\u001b[0;34m*\u001b[0m\u001b[0mfull_offsets\u001b[0m\u001b[0;34m.\u001b[0m\u001b[0mshape\u001b[0m\u001b[0;34m[\u001b[0m\u001b[0;36m2\u001b[0m\u001b[0;34m]\u001b[0m\u001b[0;34m)\u001b[0m\u001b[0;34m)\u001b[0m\u001b[0;34m\u001b[0m\u001b[0m\n\u001b[1;32m     12\u001b[0m \u001b[0;32mprint\u001b[0m \u001b[0;34m\"Time per simulation: %g s\"\u001b[0m \u001b[0;34m%\u001b[0m \u001b[0;34m(\u001b[0m\u001b[0melapsed_time\u001b[0m\u001b[0;34m/\u001b[0m\u001b[0;34m(\u001b[0m\u001b[0mnsteps\u001b[0m\u001b[0;34m*\u001b[0m\u001b[0mfull_offsets\u001b[0m\u001b[0;34m.\u001b[0m\u001b[0mshape\u001b[0m\u001b[0;34m[\u001b[0m\u001b[0;36m1\u001b[0m\u001b[0;34m]\u001b[0m\u001b[0;34m*\u001b[0m\u001b[0mfull_offsets\u001b[0m\u001b[0;34m.\u001b[0m\u001b[0mshape\u001b[0m\u001b[0;34m[\u001b[0m\u001b[0;36m2\u001b[0m\u001b[0;34m]\u001b[0m\u001b[0;34m)\u001b[0m\u001b[0;34m)\u001b[0m\u001b[0;34m\u001b[0m\u001b[0m\n",
      "\u001b[0;31mZeroDivisionError\u001b[0m: float division by zero"
     ]
    }
   ],
   "source": [
    "first_time = np.inf\n",
    "last_time = -np.inf\n",
    "for f in glob(os.path.join(\"emcee-chains\",jobid+\".*\",\"*-pos.npy\")):\n",
    "    t = os.stat(f).st_mtime\n",
    "    first_time = min(t,first_time)\n",
    "    last_time = max(t,last_time)\n",
    "elapsed_time = float(last_time-first_time)\n",
    "nsteps = full_offsets.shape[0]-1\n",
    "print \"Total time: %f days\" % (elapsed_time/86400.)\n",
    "print \"Time per step: %g s\" % (elapsed_time/nsteps)\n",
    "print \"Time per usable sample: %g s\" % (elapsed_time/(nsteps*full_offsets.shape[2]))\n",
    "print \"Time per simulation: %g s\" % (elapsed_time/(nsteps*full_offsets.shape[1]*full_offsets.shape[2]))"
   ]
  },
  {
   "cell_type": "code",
   "execution_count": 181,
   "metadata": {},
   "outputs": [
    {
     "data": {
      "text/plain": [
       "{'acosi_i': 1.4885611563894778422,\n",
       " 'acosi_o': 91.305509598178798823,\n",
       " 'asini_i': 1.2175266062660606256,\n",
       " 'asini_o': 74.672704362014117714,\n",
       " 'dbeta': 2.2504295888997497946e-11,\n",
       " 'delta': 0.0,\n",
       " 'delta_lan': -1.8817274078147161826e-07,\n",
       " 'dgamma': 0.0,\n",
       " 'eps1_i': 0.00068716338536487529281,\n",
       " 'eps1_o': 0.035186245478223697435,\n",
       " 'eps2_i': -9.1308555566635959701e-05,\n",
       " 'eps2_o': -0.0034621422565100533302,\n",
       " 'pb_i': 1.629396956445798689,\n",
       " 'pb_o': 327.2575200720538893,\n",
       " 'q_i': 0.13743075152466099826,\n",
       " 'tasc_i': 0.40771695271490304612,\n",
       " 'tasc_o': 313.93579530184884194}"
      ]
     },
     "execution_count": 181,
     "metadata": {},
     "output_type": "execute_result"
    }
   ],
   "source": [
    "F.best_parameters"
   ]
  },
  {
   "cell_type": "code",
   "execution_count": 182,
   "metadata": {},
   "outputs": [
    {
     "name": "stdout",
     "output_type": "stream",
     "text": [
      "[ 1.2175266  1.629397  0.00068716339 -9.1308556e-05  0.40771695  1.4885612\n",
      "  0.13743075  74.672704  327.25752  0.035186245 -0.0034621423  313.9358\n",
      "  91.30551 -1.8817274e-07  0.0  0.0  2.2504296e-11]\n",
      "['asini_i', 'pb_i', 'eps1_i', 'eps2_i', 'tasc_i', 'acosi_i', 'q_i', 'asini_o', 'pb_o', 'eps1_o', 'eps2_o', 'tasc_o', 'acosi_o', 'delta_lan', 'delta', 'dgamma', 'dbeta']\n"
     ]
    }
   ],
   "source": [
    "Fbp = np.load(os.path.join(job_dir,\"best_parameters.npy\"))\n",
    "print Fbp\n",
    "warned = False\n",
    "for (i,p) in enumerate(F.parameters):\n",
    "    if not warned and np.abs(Fbp[i]-F.best_parameters[p])>1e-3*F.best_errors[p]:\n",
    "        print \"Warning: mismatch between F and Fitter used by chains; best parameter database may have been updated\"\n",
    "        warned = True\n",
    "    F.best_parameters[p] = Fbp[i]\n",
    "if len(F.parameters)!=offsets.shape[-1]:\n",
    "    raise ValueError(\"Mismatch in number of parameters between F (%d) and stored values (%d)\" % (len(F.parameters),offsets.shape[-1]))\n",
    "print F.parameters"
   ]
  },
  {
   "cell_type": "code",
   "execution_count": 183,
   "metadata": {},
   "outputs": [
    {
     "data": {
      "image/png": "[encoded data removed]",
      "text/plain": [
       "<matplotlib.figure.Figure at 0x7180ad0>"
      ]
     },
     "metadata": {},
     "output_type": "display_data"
    }
   ],
   "source": [
    "chi2_skip = 0\n",
    "plt.subplot(141)\n",
    "plt.plot(np.arange(len(prob))[chi2_skip:],\n",
    "         -2*1.3**2*np.amax(prob[chi2_skip:],axis=1), color=\"red\")\n",
    "plt.plot(np.arange(len(prob))[chi2_skip:],\n",
    "         -2*1.3**2*np.mean(prob[chi2_skip:],axis=1), color=\"green\")\n",
    "plt.plot(np.arange(len(prob))[chi2_skip:],\n",
    "         -2*1.3**2*np.amin(prob[chi2_skip:],axis=1), color=\"blue\")\n",
    "plt.axhline(F.dof(), color=\"orange\", linestyle=\"--\")\n",
    "\n",
    "#print np.amax(prob[-1]), np.mean(prob[-1]), np.amin(prob[-1])\n",
    "plt.ylim(0,2*np.amax(-2*1.3**2*np.amin(prob[-20:],axis=1)))\n",
    "\n",
    "plt.title(\"$\\chi^2$\")\n",
    "for (i,p) in enumerate(F.parameters):\n",
    "    e = F.best_errors[p]\n",
    "    plt.subplot(142)\n",
    "    plt.title(\"mean\")\n",
    "    plt.plot(np.mean(offsets[...,i]/np.std(offsets[...,i]),axis=1))\n",
    "    plt.subplot(143)\n",
    "    plt.title(\"std\")\n",
    "    plt.semilogy(np.std(offsets[...,i]/e,axis=1))\n",
    "plt.subplot(142)\n",
    "plt.yscale('symlog',linthreshy=1)\n",
    "eigvals = []\n",
    "for j in range(offsets.shape[0]):\n",
    "    s = np.array([F.best_errors[p]**(-1) for p in F.parameters])\n",
    "    vals, vecs = scipy.linalg.eigh(np.corrcoef(offsets[j].T))\n",
    "    eigvals.append(vals)\n",
    "eigvals = np.array(eigvals)\n",
    "for v in eigvals.T:\n",
    "    plt.subplot(144)\n",
    "    plt.title(\"eigenvalues of corr. mtx.\")\n",
    "    plt.semilogy(v)\n",
    "plt.gcf().set_size_inches(11,4)\n",
    "plt.savefig(os.path.join(job_dir,\"progress.pdf\"))"
   ]
  },
  {
   "cell_type": "code",
   "execution_count": 184,
   "metadata": {},
   "outputs": [
    {
     "name": "stdout",
     "output_type": "stream",
     "text": [
      "asini_i 1.0\n",
      "pb_i 1.0\n",
      "eps1_i 1.0\n",
      "eps2_i 1.0\n",
      "tasc_i 1.0\n",
      "acosi_i 1.0\n",
      "q_i 1.0\n",
      "asini_o 1.0\n",
      "pb_o 1.0\n",
      "eps1_o 1.0\n",
      "eps2_o 1.0\n",
      "tasc_o 1.0\n",
      "acosi_o 1.0\n",
      "delta_lan 1.0\n",
      "delta 1.0\n",
      "dgamma 1.0\n",
      "dbeta 1.0\n"
     ]
    },
    {
     "data": {
      "image/png": "[encoded data removed]",
      "text/plain": [
       "<matplotlib.figure.Figure at 0x698ef10>"
      ]
     },
     "metadata": {},
     "output_type": "display_data"
    }
   ],
   "source": [
    "for (i,p) in enumerate(F.parameters):\n",
    "    plt.plot(np.std(offsets[...,i],axis=1)/np.std(offsets[0,:,i]))\n",
    "    print p, np.std(offsets[-1,:,i])/np.std(offsets[0,:,i])\n",
    "#plt.gca().set_yscale(\"log\")\n",
    "plt.xlabel(\"Iteration\")\n",
    "plt.ylabel(\"Parameter std. dev. over initial std. dev.\")\n",
    "plt.savefig(\"std-growth.pdf\")"
   ]
  },
  {
   "cell_type": "code",
   "execution_count": 185,
   "metadata": {
    "collapsed": true
   },
   "outputs": [],
   "source": [
    "if full_offsets.shape[1]>1:\n",
    "    pm = 'acosi_i'\n",
    "    k = F.parameters.index(pm)\n",
    "    for i in range(full_offsets.shape[1]):\n",
    "        plt.semilogy([np.std(full_offsets[j,i,...,k])/F.best_errors[pm] for j in range(len(full_offsets))])\n",
    "    plt.title(\"Evolution of std(%s) for different temperatures\" % pm) \n",
    "    plt.xlabel(\"Step\")\n",
    "    plt.ylabel(\"std divided by best_error\")"
   ]
  },
  {
   "cell_type": "code",
   "execution_count": 186,
   "metadata": {
    "collapsed": true
   },
   "outputs": [],
   "source": [
    "if full_offsets.shape[1]>1:\n",
    "    for i in range(0,full_offsets.shape[1],5):\n",
    "        pbs = full_prob[-1,i,... ]\n",
    "        plt.hist(pbs-np.mean(pbs),histtype='step',label=str(i))\n",
    "    plt.title(\"Distribution of log probablity for various temperatures\") \n",
    "    plt.xlabel(\"log probability\")\n",
    "    plt.legend(loc=\"best\")"
   ]
  },
  {
   "cell_type": "code",
   "execution_count": 187,
   "metadata": {},
   "outputs": [
    {
     "data": {
      "image/png": "[encoded data removed]",
      "text/plain": [
       "<matplotlib.figure.Figure at 0x6795a50>"
      ]
     },
     "metadata": {},
     "output_type": "display_data"
    },
    {
     "data": {
      "image/png": "[encoded data removed]",
      "text/plain": [
       "<matplotlib.figure.Figure at 0x14144cd0>"
      ]
     },
     "metadata": {},
     "output_type": "display_data"
    },
    {
     "data": {
      "image/png": "[encoded data removed]",
      "text/plain": [
       "<matplotlib.figure.Figure at 0x6645cd0>"
      ]
     },
     "metadata": {},
     "output_type": "display_data"
    }
   ],
   "source": [
    "prior_limits = {'delta': 6e-3, 'dgamma':2.3e-5, 'dbeta':3e-3, 'lan':np.pi }\n",
    "labels = {'delta': r\"$\\Delta$\", 'dgamma': r\"$\\gamma-1$\", 'dbeta': r\"$\\beta-1$\",\n",
    "          'q_i': r\"$q_i$\", \"acosi_i\": r\"$(a\\cos i)_i$\", 'tzrmjd':r\"$t_0$\", 'f0':r\"$f_0$\",\n",
    "          'lan':r\"$\\Omega$\"}\n",
    "skip = 0\n",
    "for p in ['delta','dgamma','dbeta','lan']:\n",
    "    if p not in F.parameters:\n",
    "        continue\n",
    "    plt.figure()\n",
    "    i = F.parameters.index(p)\n",
    "    ms = np.mean(offsets[skip:,...,i],axis=-1)+F.best_parameters[p]\n",
    "    ss = np.std(offsets[skip:,...,i],axis=-1)\n",
    "    plt.plot(ms,color=\"k\")\n",
    "    plt.plot(ms+ss,color=\"k\",linestyle=\"--\")\n",
    "    plt.plot(ms-ss,color=\"k\",linestyle=\"--\")\n",
    "    #if p=='delta':\n",
    "    #    plt.gca().set_yscale(\"symlog\",linthreshy=1e-6)\n",
    "    q1, med, q3 = [], [], []\n",
    "    for j in range(skip,offsets.shape[0]):\n",
    "        q1.append(scipy.stats.scoreatpercentile(offsets[j,:,i],100*scipy.stats.norm.cdf(-1))+F.best_parameters[p])\n",
    "        med.append(np.median(offsets[j,:,i])+F.best_parameters[p])\n",
    "        q3.append(scipy.stats.scoreatpercentile(offsets[j,:,i],100*scipy.stats.norm.cdf(1))+F.best_parameters[p])\n",
    "    plt.plot(med,color=\"b\")\n",
    "    plt.plot(q1,color=\"b\",linestyle=\"--\")\n",
    "    plt.plot(q3,color=\"b\",linestyle=\"--\")\n",
    "    plt.ylabel(labels[p])\n",
    "    ny,xy = plt.gca().get_ylim()\n",
    "    plt.axhline(prior_limits[p],linestyle=\":\",color=\"red\")\n",
    "    plt.axhline(-prior_limits[p],linestyle=\":\",color=\"red\")\n",
    "    plt.ylim(ny,xy)\n",
    "    plt.savefig(os.path.join(job_dir,\"%s-convergence.pdf\" % p))"
   ]
  },
  {
   "cell_type": "code",
   "execution_count": 188,
   "metadata": {},
   "outputs": [
    {
     "name": "stdout",
     "output_type": "stream",
     "text": [
      "best: -27327.8792928\n",
      "chi2: 54655.7585856 reduced chi2: 1.98495582298\n",
      "reduced chi2 with efac: 1.98495582298\n",
      "iteration: 0 of 1\n"
     ]
    }
   ],
   "source": [
    "print \"best:\", np.amax(full_prob)\n",
    "print \"chi2:\", -2*F.efac**2*np.amax(full_prob), \"reduced chi2:\", -2*F.efac**2*np.amax(full_prob)/len(F.mjds)\n",
    "print \"reduced chi2 with efac:\", -2*np.amax(full_prob)/len(F.mjds)\n",
    "print \"iteration:\", np.argmax(full_prob)//(full_prob.shape[1]*full_prob.shape[2]), \"of\", full_prob.shape[0]\n",
    "if full_offsets.shape[1]>1:\n",
    "    print \"temperature:\", (np.argmax(full_prob)//full_prob.shape[2])%full_prob.shape[1], \"of\", full_prob.shape[1]\n",
    "\n",
    "best_offset = offsets.reshape((-1,offsets.shape[-1]))[np.argmax(prob.reshape((-1,)))]\n",
    "params = np.array([np.float128(F.best_parameters[p]) for p in F.parameters])\n",
    "best_so_far = params+best_offset\n",
    "np.save(os.path.join(job_dir,\"best_so_far.npy\"),best_so_far)"
   ]
  },
  {
   "cell_type": "code",
   "execution_count": null,
   "metadata": {
    "collapsed": true
   },
   "outputs": [],
   "source": [
    "n_cores = 95\n",
    "n_walkers = full_offsets.shape[-2]\n",
    "\n",
    "#print F.parameters[:-7]\n",
    "\n",
    "# Default: stick to one temperature, don't change the number of walkers\n",
    "new_walkers = full_offsets[-1,:,:]\n",
    "\n",
    "# Ditch jumps\n",
    "#new_walkers = new_walkers[...,:-7]\n",
    "\n",
    "# multiply the number of walkers by \n",
    "#n=2\n",
    "#new_walkers = full_offsets[-n*20::20,0].reshape((1,-1,offsets.shape[-1]))\n",
    "\n",
    "# Go up to many temperatures\n",
    "#nT = 40\n",
    "#new_walkers = full_offsets[-nT*20::20,0,:]\n",
    "\n",
    "# Suppy random values for three new parameters\n",
    "#new_walkers = np.random.randn(1,n_walkers,27)*1e-4\n",
    "#new_walkers[:,:,:24] = full_offsets[-1,:,:n_walkers]\n",
    "\n",
    "# Trim excess walkers\n",
    "#new_walkers = new_walkers[:,:new_walkers.shape[1]*95//96,:]\n",
    "\n",
    "# Move to center at zero\n",
    "new_walkers -= np.mean(new_walkers,axis=1)[:,None,:]\n",
    "\n",
    "# Trim extra jumps\n",
    "#new_walkers = new_walkers[...,:22]\n",
    "\n",
    "# Add new jump(s)\n",
    "#add_jumps = 1\n",
    "#new_walkers_tmp = np.zeros((new_walkers.shape[0],new_walkers.shape[1],new_walkers.shape[2]+add_jumps), dtype=new_walkers.dtype)\n",
    "#new_walkers_tmp[:,:,:-add_jumps] = new_walkers\n",
    "#new_walkers_tmp[:,:,-add_jumps:] = 1e-6*np.random.randn(new_walkers.shape[0],new_walkers.shape[1],add_jumps)\n",
    "#new_walkers = new_walkers_tmp\n",
    "\n",
    "# Rearrange parameters\n",
    "if True:\n",
    "    if False:\n",
    "        d = dict(files=\"0337+17-scott-2014-01-22\",\n",
    "                         parfile=\"0337_tempo2_px_optical.par\",\n",
    "                         tzrmjd_middle='auto',\n",
    "                         fit_pos=True,\n",
    "                         fit_pm=False,\n",
    "                         fit_px=False,\n",
    "                         t2_astrometry=True,\n",
    "                         kopeikin=False,\n",
    "                         priors=('dbeta','dgammma'),\n",
    "                         ppn_mode='heavysimple')\n",
    "    else:\n",
    "        d = pickle.load(open(\"fitter_params.pickle\"))\n",
    "    F2 = threebody.Fitter(**d)\n",
    "    new_walkers_old = new_walkers\n",
    "    new_walkers = np.random.randn(new_walkers.shape[0],\n",
    "                                  new_walkers.shape[1],\n",
    "                                  len(F2.parameters))\n",
    "    for i,p in enumerate(F2.parameters):\n",
    "        if p in F.parameters:\n",
    "            new_walkers[...,i]=new_walkers_old[...,F.parameters.index(p)]\n",
    "        elif p=='dbeta':\n",
    "            scale = 3e-3\n",
    "            new_walkers[...,i]=scale*np.random.randn(\n",
    "                                    new_walkers.shape[0],\n",
    "                                    new_walkers.shape[1])\n",
    "        elif p=='dgamma':\n",
    "            scale = 2.3e-5\n",
    "            new_walkers[...,i]=scale*np.random.randn(\n",
    "                                    new_walkers.shape[0],\n",
    "                                    new_walkers.shape[1])\n",
    "        elif p=='delta':\n",
    "            scale = 1e-6\n",
    "            new_walkers[...,i]=scale*np.random.randn(\n",
    "                                    new_walkers.shape[0],\n",
    "                                    new_walkers.shape[1])\n",
    "        else:\n",
    "            print \"Don't know how to scale parameter %s\" % p\n",
    "\n",
    "# Scale by\n",
    "#sf = 10\n",
    "#new_walkers = (new_walkers-np.mean(new_walkers,axis=0))*sf+np.mean(new_walkers,axis=0)\n",
    "\n",
    "print new_walkers.shape\n",
    "np.save(os.path.join(job_dir,\"new_walkers.npy\"),new_walkers)"
   ]
  },
  {
   "cell_type": "code",
   "execution_count": null,
   "metadata": {
    "collapsed": true
   },
   "outputs": [],
   "source": [
    "burnin = -600\n",
    "thin = 10\n",
    "offs = offsets[burnin::thin].reshape((-1,offsets.shape[-1]))\n",
    "offs.shape"
   ]
  },
  {
   "cell_type": "code",
   "execution_count": null,
   "metadata": {
    "collapsed": true
   },
   "outputs": [],
   "source": [
    "same = []\n",
    "for i in range(len(offsets)-1):\n",
    "    same.append(np.sum(np.all(offsets[i]==offsets[i+1],axis=-1))/float(offsets.shape[1]))\n",
    "plt.plot(same)\n",
    "print np.mean(same), np.mean(same)**thin"
   ]
  },
  {
   "cell_type": "code",
   "execution_count": null,
   "metadata": {
    "collapsed": true
   },
   "outputs": [],
   "source": [
    "efac = 1.3\n",
    "l1 = 'delta'\n",
    "l2 = 'dgamma'\n",
    "#l1 = 'q_i'\n",
    "#l2 = 'acosi_i'\n",
    "#l1 = 'tzrmjd'\n",
    "#l2 = 'f0'\n",
    "\n",
    "plt.hexbin(offs[:,F.parameters.index(l1)]+F.best_parameters[l1], \n",
    "           offs[:,F.parameters.index(l2)]+F.best_parameters[l2])\n",
    "plt.xlabel(labels[l1])\n",
    "plt.ylabel(labels[l2])\n",
    "plt.plot([np.mean(offs[:,F.parameters.index(l1)])+F.best_parameters[l1]],\n",
    "         [np.mean(offs[:,F.parameters.index(l2)])+F.best_parameters[l2]],\n",
    "         \"k+\")\n",
    "plt.plot([best_offset[F.parameters.index(l1)]+F.best_parameters[l1]],\n",
    "         [best_offset[F.parameters.index(l2)]+F.best_parameters[l2]],\n",
    "         \"ko\")\n",
    "plt.plot([F.best_parameters[l1]],\n",
    "         [F.best_parameters[l2]],\n",
    "         \"k.\")\n",
    "plt.title(\"Posterior sample\")\n",
    "plt.savefig(os.path.join(job_dir,\"posterior.pdf\"))\n",
    "\n",
    "\n",
    "plt.figure() # FIXME: I think the high-temperature probabilities have been \n",
    "# rescaled by the temperature factor, but it'd be nice to show their information\n",
    "vals = -2*efac**2*full_prob[:,0].reshape(-1)\n",
    "print vals.shape\n",
    "plt.hexbin(full_offsets[:,0,...,F.parameters.index(l1)].reshape(-1)+F.best_parameters[l1], \n",
    "           full_offsets[:,0,...,F.parameters.index(l2)].reshape(-1)+F.best_parameters[l2],\n",
    "           C=vals, vmax=scipy.stats.scoreatpercentile(vals,95.),\n",
    "           reduce_C_function = np.amin)\n",
    "plt.plot([best_offset[F.parameters.index(l1)]+F.best_parameters[l1]],\n",
    "         [best_offset[F.parameters.index(l2)]+F.best_parameters[l2]],\n",
    "         \"ko\")\n",
    "plt.xlabel(labels[l1])\n",
    "plt.ylabel(labels[l2])\n",
    "plt.colorbar()\n",
    "plt.title(\"$\\chi^2$\")\n",
    "plt.savefig(os.path.join(job_dir,\"log-prob.pdf\"))"
   ]
  },
  {
   "cell_type": "code",
   "execution_count": null,
   "metadata": {
    "collapsed": true
   },
   "outputs": [],
   "source": [
    "l1 = 'tzrmjd'\n",
    "l2 = 'f0'\n",
    "\n",
    "if l1 in F.parameters and l2 in F.parameters:\n",
    "    xs = offs[:,F.parameters.index(l1)]+F.best_parameters[l1] \n",
    "    ys = offs[:,F.parameters.index(l2)]+F.best_parameters[l2]\n",
    "    stk = np.vstack((xs,ys))\n",
    "    stk -= np.mean(stk,axis=1)[:,None]\n",
    "    #vals, vecs = scipy.linalg.eigh(np.corrcoef(stk))\n",
    "    #print vals\n",
    "    #xts, yts = np.dot(vecs,stk)\n",
    "    xts, yts = stk\n",
    "    yts = yts - np.mean(yts/xts)*xts\n",
    "    plt.hexbin(xts,yts)\n",
    "    plt.xlabel(labels[l1]+\" minus mean\")\n",
    "    plt.ylabel(labels[l2]+\" modified\")\n"
   ]
  },
  {
   "cell_type": "code",
   "execution_count": null,
   "metadata": {
    "collapsed": true
   },
   "outputs": [],
   "source": [
    "for p in ['delta','dgamma','dbeta','lan']:\n",
    "    if p not in F.parameters:\n",
    "        continue\n",
    "    plt.figure()\n",
    "    plt.hist(offs[:,F.parameters.index(p)]+F.best_parameters[p],bins=int(np.sqrt(len(offs))), histtype='step')\n",
    "    plt.axvline(np.mean(offs[:,F.parameters.index(p)])+F.best_parameters[p],color='blue')\n",
    "    plt.xlabel(labels[p])\n",
    "    \n",
    "    nx,xx = plt.gca().get_xlim()\n",
    "    plt.axvline(prior_limits[p],linestyle=\":\",color=\"red\")\n",
    "    plt.axvline(-prior_limits[p],linestyle=\":\",color=\"red\")\n",
    "    plt.axvline(0,linestyle=\"--\",color=\"red\")\n",
    "    plt.xlim(nx,xx)\n",
    "    \n",
    "    print p, threebody.fmt(np.mean(offs[:,F.parameters.index(p)]\n",
    "                                        +F.best_parameters[p]),\n",
    "                           np.std(offs[:,F.parameters.index(p)]))\n",
    "\n"
   ]
  },
  {
   "cell_type": "code",
   "execution_count": null,
   "metadata": {
    "collapsed": true
   },
   "outputs": [],
   "source": [
    "stds = np.std(offs,axis=0)\n",
    "if False:\n",
    "    vals, vecs = scipy.linalg.eigh(np.corrcoef(offs.T))\n",
    "    sv = vecs[:,-1]*stds\n",
    "    ssv = sv/np.array([F.best_errors[p] for p in F.parameters])\n",
    "    print \"This combination of offsets produces negligible change in value:\"\n",
    "    print \"%15s\\tamount\\t\\tamount over best_error\" % \"parameter\"\n",
    "\n",
    "    for (vv,v,p) in sorted(zip(ssv,sv,F.parameters)):\n",
    "        print \"%15s\\t%.4g\\t%.4g\" % (p,v,vv)\n"
   ]
  },
  {
   "cell_type": "code",
   "execution_count": null,
   "metadata": {
    "collapsed": true
   },
   "outputs": [],
   "source": [
    "params = F.best_parameters.copy()\n",
    "params0 = F.best_parameters.copy()\n",
    "for (i,p) in enumerate(F.parameters):\n",
    "    params0[p] = best_so_far[i]\n",
    "    params[p] = best_so_far[i]\n",
    "    params[p] += vecs[i,-1]*stds[i]\n",
    "r = F.residuals(params)\n",
    "r0 = F.residuals(params0)"
   ]
  },
  {
   "cell_type": "code",
   "execution_count": null,
   "metadata": {
    "collapsed": true
   },
   "outputs": [],
   "source": [
    "if False:\n",
    "    plt.hexbin(\n",
    "        ((F.mjds-F.base_mjd-F.best_parameters['tasc_i'])/F.best_parameters['pb_i'])%1, \n",
    "        F.mjds,\n",
    "        C=(r-r0)/F.best_parameters['f0']*1e6, gridsize=20)\n",
    "    plt.title(\"Deviations with minimal effect\")\n",
    "else:\n",
    "    plt.hexbin(\n",
    "        ((F.mjds-F.base_mjd-F.best_parameters['tasc_i'])/F.best_parameters['pb_i'])%1, \n",
    "        F.mjds,\n",
    "        C=r0/F.best_parameters['f0']*1e6, gridsize=20)\n",
    "    plt.title(\"Residuals\")\n",
    "plt.colorbar().set_label(r\"$\\mu$s\")\n",
    "print np.sum((r0/F.phase_uncerts)**2), np.sum((r/F.phase_uncerts)**2), len(F.mjds)\n",
    "plt.savefig(os.path.join(job_dir,\"change.pdf\"))"
   ]
  },
  {
   "cell_type": "code",
   "execution_count": null,
   "metadata": {
    "collapsed": true
   },
   "outputs": [],
   "source": [
    "for i,p in enumerate(F.parameters):\n",
    "    v = F.best_parameters[p] + np.mean(offs[:,i])\n",
    "    e = np.std(offs[:,i])\n",
    "    print p, threebody.fmt(v,e)"
   ]
  },
  {
   "cell_type": "code",
   "execution_count": null,
   "metadata": {
    "collapsed": true
   },
   "outputs": [],
   "source": [
    "C = np.corrcoef(offs.T)\n",
    "for (i,p) in enumerate(F.parameters):\n",
    "    for (j,q) in enumerate(F.parameters):\n",
    "        if j<=i:\n",
    "            continue\n",
    "        if abs(C[i,j])>0.8:\n",
    "            print p, q, C[i,j]\n",
    "    print"
   ]
  },
  {
   "cell_type": "code",
   "execution_count": null,
   "metadata": {
    "collapsed": true
   },
   "outputs": [],
   "source": []
  },
  {
   "cell_type": "code",
   "execution_count": null,
   "metadata": {
    "collapsed": true
   },
   "outputs": [],
   "source": [
    "plt.cool()\n",
    "def covariance_plot(parameters):\n",
    "    for (i,p1) in enumerate(parameters):\n",
    "        v1 = offs[:,F.parameters.index(p1)]\n",
    "        for (j,p2) in enumerate(parameters):\n",
    "            if j<i:\n",
    "                continue\n",
    "            plt.subplot(len(parameters),len(parameters),i*len(parameters)+j+1)\n",
    "            if j==i:\n",
    "                plt.hist(v1,bins=20)\n",
    "                plt.xlabel(p1)\n",
    "            else:\n",
    "                v2 = offs[:,F.parameters.index(p2)]\n",
    "                plt.hexbin(v1,v2,rasterized=True)\n",
    "            plt.gca().set_xticklabels([])\n",
    "            plt.gca().set_yticklabels([])\n",
    "    plt.subplots_adjust(hspace=0,wspace=0,left=0,right=1,top=1,bottom=0.02)\n",
    "covariance_plot([p for p in F.parameters if not p.startswith(\"j_\")])\n",
    "plt.gcf().set_size_inches(18,18)\n",
    "plt.savefig(os.path.join(job_dir,\"all-covariances.pdf\"))        "
   ]
  },
  {
   "cell_type": "code",
   "execution_count": null,
   "metadata": {
    "collapsed": true
   },
   "outputs": [],
   "source": [
    "params = {}\n",
    "for i,p in enumerate(F.parameters):\n",
    "    params[p] = F.best_parameters[p] + np.mean(offs[:,i])\n",
    "    params[p] = best_so_far[i]\n",
    "r = F.residuals(params)"
   ]
  },
  {
   "cell_type": "code",
   "execution_count": null,
   "metadata": {
    "collapsed": true
   },
   "outputs": [],
   "source": [
    "yn, yx = np.amin(F.mjds), np.amax(F.mjds)\n",
    "plt.hexbin(\n",
    "    ((F.mjds-F.best_parameters['tasc_i'])/F.best_parameters['pb_i'])%1, \n",
    "    F.mjds,\n",
    "    C=r, \n",
    "    extent = (0,1,yn,yx),\n",
    "    gridsize=20)\n",
    "plt.colorbar()\n",
    "print np.sum((r/F.phase_uncerts)**2), len(F.mjds), np.sqrt(np.mean(r**2))/F.best_parameters['f0']*1e6\n"
   ]
  },
  {
   "cell_type": "code",
   "execution_count": null,
   "metadata": {
    "collapsed": true
   },
   "outputs": [],
   "source": [
    "result = {}\n",
    "result[\"base_mjd\"] = F.base_mjd\n",
    "result[\"tzrmjd_base\"] = F.tzrmjd_base\n",
    "result[\"file\"] = \"0337+17-scott-2013-06-06\"\n",
    "result[\"best_so_far\"] = best_so_far\n",
    "result[\"parameters\"] = F.parameters\n",
    "result[\"best_parameters\"] = F.best_parameters\n",
    "result[\"offset_sample\"] = offs\n",
    "result[\"mean_value\"] = params\n",
    "result[\"current_time\"] = time.time()\n",
    "for f in glob(\"*.py\")+glob(\"*.pyx\")+glob(\"*.hpp\"):\n",
    "    result[f] = os.path.getmtime(f)\n",
    "\n",
    "np.savez(os.path.join(job_dir,\"results.npz\"), result)"
   ]
  },
  {
   "cell_type": "code",
   "execution_count": null,
   "metadata": {
    "collapsed": true
   },
   "outputs": [],
   "source": [
    "params"
   ]
  },
  {
   "cell_type": "code",
   "execution_count": null,
   "metadata": {
    "collapsed": true
   },
   "outputs": [],
   "source": [
    "kepler_cache = {}\n",
    "def keplerize(params):\n",
    "    t = tuple(params)\n",
    "    if t not in kepler_cache:\n",
    "        kepler_cache[t] = kepler.kepler_three_body_measurable(*(list(params[:14])+[0,np.zeros(3),np.zeros(3),0]))[0]\n",
    "    return kepler_cache[t]"
   ]
  },
  {
   "cell_type": "code",
   "execution_count": null,
   "metadata": {
    "collapsed": true
   },
   "outputs": [],
   "source": [
    "def normalize(v):\n",
    "    return v/np.sqrt(np.dot(v,v))\n",
    "def angle(v,w):\n",
    "    return np.arccos(np.dot(normalize(v),normalize(w)))\n",
    "class Pulsar(object):\n",
    "    def __init__(self, params, blob, prob):\n",
    "        for i,p in enumerate(F.parameters):\n",
    "            setattr(self,p,params[i])\n",
    "        self.prob = prob\n",
    "        # FIXME: compute f0, f1, tzrmjd\n",
    "        d = blob['linear_part']\n",
    "        self.f0 = d['f0']\n",
    "        self.f1 = d['f1']\n",
    "        self.tzrmjd = d['tzrmjd']\n",
    "        self.coordinates = blob['initial_values']\n",
    "        self.P = self.f0**(-1)\n",
    "        self.Pdot = -self.f1*self.f0**(-2)\n",
    "        self.B = 3.2e19*(self.P*self.Pdot)**(0.5)\n",
    "        self.Edot = 3.95e31*(self.Pdot/1e-15)*self.P**(-3)\n",
    "        self.tau = self.P/(2*self.Pdot)/(86400*365.2425)\n",
    "\n",
    "        x = self.coordinates\n",
    "    \n",
    "        self.m_psr = x[6]\n",
    "        self.m_1 = x[13]\n",
    "        self.m_2 = x[20]\n",
    "        \n",
    "        m_i = x[6]+x[13]\n",
    "        cm_i = x[:6]*x[6]+x[7:13]*x[13]\n",
    "\n",
    "        o_vec = normalize(np.cross(x[14:17],x[17:20]))\n",
    "        i_vec = normalize(np.cross(x[7:10]-x[:3],x[10:13]-x[3:6]))\n",
    "        j_vec = (x[6]*np.cross(x[:3],x[3:6])+\n",
    "                 x[13]*np.cross(x[7:10],x[10:13])+\n",
    "                 x[20]*np.cross(x[14:17],x[17:20]))\n",
    "        self.i = np.arccos(normalize(j_vec)[2])\n",
    "        self.i_deg = np.degrees(self.i)   \n",
    "        self.delta_i = angle(o_vec,i_vec)\n",
    "        self.delta_i_deg = np.degrees(self.delta_i)\n",
    "        self.delta_lan_deg = np.degrees(self.delta_lan)\n",
    "        self.e_i = np.hypot(self.eps1_i,self.eps2_i)\n",
    "        self.e_o = np.hypot(self.eps1_o,self.eps2_o)\n",
    "        self.a_i = np.hypot(self.acosi_i,self.asini_i)\n",
    "        self.a_o = np.hypot(self.acosi_o,self.asini_o)\n",
    "        self.q_o = self.m_2/(self.m_psr+self.m_1)\n",
    "        self.m_2_over_m_p = self.m_2/self.m_psr\n",
    "        self.m_tot = self.m_2+self.m_1+self.m_psr\n",
    "        self.a_tot_i = self.a_i*(1+1/self.q_i)\n",
    "        self.a_tot_o = self.a_o*(1+1/self.q_o)\n",
    "        self.i_i = np.arctan2(self.asini_i,self.acosi_i)\n",
    "        self.i_i_deg = np.degrees(self.i_i)\n",
    "        self.i_o = np.arctan2(self.asini_o,self.acosi_o)\n",
    "        self.i_o_deg = np.degrees(self.i_o)\n",
    "        self.omega_i = np.arctan2(self.eps1_i, self.eps2_i)\n",
    "        self.omega_i_deg = np.degrees(self.omega_i)\n",
    "        self.omega_o = np.arctan2(self.eps1_o, self.eps2_o)\n",
    "        self.omega_o_deg = np.degrees(self.omega_o)\n",
    "        self.delta_omega = self.omega_o-self.omega_i\n",
    "        self.delta_omega_deg = np.degrees(self.delta_omega)\n",
    "        self.period_ratio = self.pb_i/self.pb_o\n",
    "        \n",
    "        # FIXME: double-check and debug this\n",
    "        self.periastron_advance_i = 6*np.pi/self.pb_i*kepler.G*(self.m_psr+self.m_1)*(self.a_tot_i*kepler.c**2*(1-self.e_i**2))**(-1)\n",
    "        self.periastron_advance_i_year = self.periastron_advance_i*365.2425\n",
    "        self.periastron_advance_i_period = 2*np.pi/self.periastron_advance_i_year\n",
    "        self.periastron_advance_o = 6*np.pi/self.pb_o*kepler.G*(self.m_psr+self.m_2)*(self.a_tot_o*kepler.c**2*(1-self.e_o**2))**(-1)\n",
    "        self.periastron_advance_o_year = self.periastron_advance_o*365.2425\n",
    "        self.periastron_advance_o_period = 2*np.pi/self.periastron_advance_o_year\n",
    "\n",
    "        if 'dbeta' in F.parameters and 'dgamma' in F.parameters:\n",
    "            self.nordtvedt_parameter = 4*self.dbeta-self.dgamma\n",
    "            if 'delta' in F.parameters:\n",
    "                self.nordtvedt_from_delta = -self.delta/0.1"
   ]
  },
  {
   "cell_type": "code",
   "execution_count": null,
   "metadata": {
    "collapsed": true
   },
   "outputs": [],
   "source": [
    "pulsars = []\n",
    "for orow, bfn, pbr in zip(full_offsets[burnin::thin],\n",
    "                         full_blobs[burnin::thin],\n",
    "                         full_prob[burnin::thin]):\n",
    "    brow = np.load(bfn)\n",
    "    for j, (o, pb) in enumerate(zip(orow[0],pbr[0])):\n",
    "        params = [F.best_parameters[p]+o[i] \n",
    "                  for (i,p) in enumerate(F.parameters)]\n",
    "        pulsars.append(Pulsar(params, brow[j],pb))"
   ]
  },
  {
   "cell_type": "code",
   "execution_count": null,
   "metadata": {
    "collapsed": true
   },
   "outputs": [],
   "source": [
    "parameter_means = {}\n",
    "parameter_errors = {}\n",
    "for n in dir(pulsars[0]):\n",
    "    v = getattr(pulsars[0],n)\n",
    "    if not (isinstance(v,float) or isinstance(v,np.float128) or isinstance(v,np.float64)):\n",
    "        continue\n",
    "    vs = [getattr(p,n) for p in pulsars]\n",
    "    print n, threebody.fmt(np.mean(vs),np.std(vs))\n",
    "    parameter_means[n] = np.mean(vs)\n",
    "    parameter_errors[n] = np.std(vs)\n",
    "np.savez(os.path.join(job_dir,\"fitted_parameters.npz\"),\n",
    "         parameter_means=parameter_means,\n",
    "         parameter_errors=parameter_errors,\n",
    "         fitter_params=fitter_params)"
   ]
  },
  {
   "cell_type": "code",
   "execution_count": null,
   "metadata": {
    "collapsed": true
   },
   "outputs": [],
   "source": [
    "for n in dir(pulsars[0]):\n",
    "    v = getattr(pulsars[0],n)\n",
    "    print n, type(v)"
   ]
  },
  {
   "cell_type": "code",
   "execution_count": null,
   "metadata": {
    "collapsed": true
   },
   "outputs": [],
   "source": [
    "saved = {}\n",
    "for i,p in enumerate(pulsars):\n",
    "    for n in dir(p):\n",
    "        if n.startswith(\"_\"):\n",
    "            continue\n",
    "        v = getattr(p,n)\n",
    "        if (not isinstance(v,float) \n",
    "            and not isinstance(v,np.float128)\n",
    "            and not isinstance(v,np.float64)):\n",
    "            continue\n",
    "        if n not in saved:\n",
    "            saved[n] = np.zeros(len(pulsars),dtype=np.float128)\n",
    "        saved[n][i] = v\n",
    "with open(os.path.join(job_dir,\"pulsars.pickle\"), \"wb\") as f:\n",
    "    pickle.dump(saved, f)"
   ]
  },
  {
   "cell_type": "code",
   "execution_count": null,
   "metadata": {
    "collapsed": true
   },
   "outputs": [],
   "source": [
    "for l1, l2 in [('m_psr','m_1'),\n",
    "                ('m_psr','m_2'),\n",
    "                ('acosi_i','q_i'),\n",
    "                ]:\n",
    "    plt.figure()\n",
    "    v1 = np.array([getattr(p,l1) for p in pulsars])\n",
    "    v2 = np.array([getattr(p,l2) for p in pulsars])\n",
    "    plt.hexbin(v1-np.mean(v1),v2-np.mean(v2))\n",
    "    plt.xlabel(\"%s - %g\" % (l1, np.mean(v1)))\n",
    "    plt.ylabel(\"%s - %g\" % (l2, np.mean(v2)))\n",
    "    plt.savefig(os.path.join(job_dir,\"%s-vs-%s.pdf\" % (l1,l2)))"
   ]
  },
  {
   "cell_type": "code",
   "execution_count": null,
   "metadata": {
    "collapsed": true
   },
   "outputs": [],
   "source": [
    "non_classical = ['a_i','a_o','acosi_i','acosi_o','delta_i','delta_lan','i','i_i','i_o','m_1','m_2','m_psr','q_i','q_o']"
   ]
  },
  {
   "cell_type": "code",
   "execution_count": null,
   "metadata": {
    "collapsed": true
   },
   "outputs": [],
   "source": [
    "params = ['m_psr','q_i','i_i','i_o']\n",
    "for (i,p1) in enumerate(params):\n",
    "    v1 = np.array([getattr(p,p1) for p in pulsars])\n",
    "    for (j,p2) in enumerate(params):\n",
    "        if j<i:\n",
    "            continue\n",
    "        plt.subplot(len(params),len(params),len(params)*i+j+1)\n",
    "        if j==i:\n",
    "            plt.hist(v1,bins=20)\n",
    "            plt.xlabel(p1)\n",
    "        else:\n",
    "            v2 = np.array([getattr(p,p2) for p in pulsars])\n",
    "            plt.hexbin(v1,v2,rasterized=True)\n",
    "            #plt.xlabel(p1)\n",
    "            #plt.ylabel(p2)\n",
    "        plt.gca().set_xticklabels([])\n",
    "        plt.gca().set_yticklabels([])\n",
    "plt.subplots_adjust(hspace=0,wspace=0)\n",
    "plt.gcf().set_size_inches(8,8)\n",
    "plt.savefig(\"covariances.pdf\")"
   ]
  },
  {
   "cell_type": "code",
   "execution_count": null,
   "metadata": {
    "collapsed": true
   },
   "outputs": [],
   "source": [
    "# code by John D. Cook\n",
    "def farey(x, N):\n",
    "    a, b = 0, 1\n",
    "    c, d = 1, 1\n",
    "    while (b <= N and d <= N):\n",
    "        mediant = float(a+c)/(b+d)\n",
    "        if x == mediant:\n",
    "            if b + d <= N:\n",
    "                return a+c, b+d\n",
    "            elif d > b:\n",
    "                return c, d\n",
    "            else:\n",
    "                return a, b\n",
    "        elif x > mediant:\n",
    "            a, b = a+c, b+d\n",
    "        else:\n",
    "            c, d = a+c, b+d\n",
    " \n",
    "    if (b > N):\n",
    "        return c, d\n",
    "    else:\n",
    "        return a, b"
   ]
  },
  {
   "cell_type": "code",
   "execution_count": null,
   "metadata": {
    "collapsed": true
   },
   "outputs": [],
   "source": [
    "print parameter_means['period_ratio'], parameter_errors['period_ratio']"
   ]
  },
  {
   "cell_type": "code",
   "execution_count": null,
   "metadata": {
    "collapsed": true
   },
   "outputs": [],
   "source": [
    "pr = parameter_means['period_ratio']\n",
    "for n in [10,100,1000,10000]:\n",
    "    a,b = farey(pr,n)\n",
    "    print \"%d/%d\" % (a,b), abs(pr-a/float(b))/pr"
   ]
  },
  {
   "cell_type": "code",
   "execution_count": null,
   "metadata": {
    "collapsed": true
   },
   "outputs": [],
   "source": [
    "print 1/pr"
   ]
  },
  {
   "cell_type": "code",
   "execution_count": null,
   "metadata": {
    "collapsed": true
   },
   "outputs": [],
   "source": []
  }
 ],
 "metadata": {
  "kernelspec": {
   "display_name": "Python 2",
   "language": "python",
   "name": "python2"
  },
  "language_info": {
   "codemirror_mode": {
    "name": "ipython",
    "version": 2
   },
   "file_extension": ".py",
   "mimetype": "text/x-python",
   "name": "python",
   "nbconvert_exporter": "python",
   "pygments_lexer": "ipython2",
   "version": "2.7.3"
  }
 },
 "nbformat": 4,
 "nbformat_minor": 1
}
