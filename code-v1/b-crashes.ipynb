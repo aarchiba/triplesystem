{
 "metadata": {
  "name": "b-crashes"
 },
 "nbformat": 3,
 "nbformat_minor": 0,
 "worksheets": [
  {
   "cells": [
    {
     "cell_type": "code",
     "collapsed": false,
     "input": [
      "%load_ext autoreload\n",
      "\n",
      "%autoreload 2"
     ],
     "language": "python",
     "metadata": {},
     "outputs": [],
     "prompt_number": 1
    },
    {
     "cell_type": "code",
     "collapsed": false,
     "input": [
      "import logging\n",
      "\n",
      "import threebody\n",
      "import minuit_wrap"
     ],
     "language": "python",
     "metadata": {},
     "outputs": [],
     "prompt_number": 2
    },
    {
     "cell_type": "code",
     "collapsed": false,
     "input": [
      "import matplotlib\n",
      "matplotlib.rcParams['savefig.dpi'] = 120"
     ],
     "language": "python",
     "metadata": {},
     "outputs": [],
     "prompt_number": 3
    },
    {
     "cell_type": "code",
     "collapsed": false,
     "input": [
      "import logging\n",
      "logger = logging.getLogger()\n",
      "\n",
      "logger.setLevel(logging.DEBUG)\n",
      "fh = logging.FileHandler(\"crashes.log\")\n",
      "formatter = logging.Formatter('%(asctime)s - %(module)s:%(funcName)s:%(lineno)s - %(message)s')\n",
      "fh.setFormatter(formatter)\n",
      "logger.addHandler(fh)\n"
     ],
     "language": "python",
     "metadata": {},
     "outputs": [],
     "prompt_number": 4
    },
    {
     "cell_type": "code",
     "collapsed": false,
     "input": [
      "#F = threebody.Fitter(\"0337+17-scott-2013-06-06\",tzrmjd_middle='weighted',\n",
      "#    priors=['dbeta','dgamma'],ppn_mode='heavysimple')\n",
      "F = threebody.Fitter(files=\"0337+17-scott-2013-08-29\",tzrmjd_middle='auto',\n",
      "                     parfile=\"0337_tempo2_pm.par\",\n",
      "                     fit_pos=True,\n",
      "                     fit_pm=False,\n",
      "                     fit_px=True,\n",
      "                     t2_astrometry=True,\n",
      "                     kopeikin=True,\n",
      "                     priors=('dbeta','dgamma'),\n",
      "                     ppn_mode='heavysimple')"
     ],
     "language": "python",
     "metadata": {},
     "outputs": [],
     "prompt_number": 5
    },
    {
     "cell_type": "code",
     "collapsed": false,
     "input": [
      "p = {'ppn_mode': 'heavysimple', \n",
      "    'asini_i': 1.2175270208510583894, \n",
      "    'eps2_i': -9.1349234069825134392e-05, \n",
      "    'delta_lan': 0.0003916980942196630036, \n",
      "    'eps2_o': -0.0034622589600043452028, \n",
      "    'q_i': 0.13710093267043817692, \n",
      "    'general': True, \n",
      "    'j_GBT350': 1.6935828309848199052e-05, \n",
      "    'dgamma': 8.6843564287146822467e-06, \n",
      "    'tasc_i': 0.40771745458659482415, \n",
      "    'acosi_o': 91.640508183006750137, \n",
      "    'd_RAJ': -2.414095971581985684e-08, \n",
      "    'acosi_i': 1.4870960373214262701, \n",
      "    'special': True, \n",
      "    'tasc_o': 313.93564210578614607, \n",
      "    'eps1_o': 0.03518607306587351485, \n",
      "    'eps1_i': 0.00068755071076588645544, \n",
      "    'tol': 1e-16, \n",
      "    'j_WSRT350': -3.7575282939145755958e-05, \n",
      "    'use_quad': False, \n",
      "    'lan': 26.477464503977326208, \n",
      "    'j_GBT820': 6.9385736251399121646e-05, \n",
      "    'd_PX': 12.592392752050834304, \n",
      "    'matrix_mode': 0, \n",
      "    'j_AO327': 6.7477966457655154642e-05, \n",
      "    'd_DECJ': 6.2053708049575063887e-08, \n",
      "    'delta': -6.377575525702636883e-09, \n",
      "    'asini_o': 74.672691277150328594, \n",
      "    'j_AO1440': 4.8089262168205250861e-05, \n",
      "    'j_AO1350': 5.6438199999358145865e-05, \n",
      "    'dbeta': 0.0017496703368452341592, \n",
      "    'pb_o': 327.25738318510880706, \n",
      "    'pb_i': 1.6293969099774285557, \n",
      "    'j_GBT1500': 6.1637935156661066636e-05}\n"
     ],
     "language": "python",
     "metadata": {},
     "outputs": [],
     "prompt_number": 6
    },
    {
     "cell_type": "code",
     "collapsed": false,
     "input": [
      "F.residuals(p)"
     ],
     "language": "python",
     "metadata": {},
     "outputs": [
      {
       "output_type": "pyout",
       "prompt_number": 7,
       "text": [
        "array([-0.0011781072, -0.0020569487, -0.0017635429, ...,  0.0015528018,\n",
        "       -0.0001438553, -0.00028038789], dtype=float128)"
       ]
      }
     ],
     "prompt_number": 7
    },
    {
     "cell_type": "code",
     "collapsed": false,
     "input": [
      "-2*F.efac**2*(F.lnprob(p)+F.lnprior(p))"
     ],
     "language": "python",
     "metadata": {},
     "outputs": [
      {
       "output_type": "pyout",
       "prompt_number": 8,
       "text": [
        "75854.076861136624494"
       ]
      }
     ],
     "prompt_number": 8
    },
    {
     "cell_type": "code",
     "collapsed": false,
     "input": [
      "a = np.float128(4000)\n",
      "(a+1e-16)-a"
     ],
     "language": "python",
     "metadata": {},
     "outputs": [
      {
       "output_type": "pyout",
       "prompt_number": 9,
       "text": [
        "0.0"
       ]
      }
     ],
     "prompt_number": "*"
    },
    {
     "cell_type": "code",
     "collapsed": false,
     "input": [
      "p2 = p.copy()\n",
      "p2['tol'] = 1e-17\n",
      "F.residuals(p2)"
     ],
     "language": "python",
     "metadata": {},
     "outputs": [],
     "prompt_number": "*"
    },
    {
     "cell_type": "code",
     "collapsed": false,
     "input": [],
     "language": "python",
     "metadata": {},
     "outputs": [],
     "prompt_number": "*"
    }
   ],
   "metadata": {}
  }
 ]
}