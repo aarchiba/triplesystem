{
 "cells": [
  {
   "cell_type": "code",
   "execution_count": 29,
   "metadata": {},
   "outputs": [],
   "source": [
    "from __future__ import print_function, division\n",
    "\n",
    "import numpy as np\n",
    "\n",
    "%matplotlib inline\n",
    "%config InlineBackend.print_figure_kwargs={'bbox_inches':None}\n",
    "\n",
    "import matplotlib\n",
    "import matplotlib.pyplot as plt\n",
    "\n",
    "matplotlib.rc(\"figure\", dpi=144)\n",
    "matplotlib.rc(\"text\", usetex=True)\n",
    "matplotlib.rc(\"font\", family=\"serif\", size=12.)\n",
    "matplotlib.rc(\"text.latex\", preamble=\"\"\"\n",
    "\\usepackage{times}\n",
    "\"\"\")\n",
    "\n",
    "# Nature main body text is 12pt Times\n",
    "# Figure sizes\n",
    "onecolumn = 89/25.4\n",
    "twocolumn = 183/25.4\n",
    "pageheight = 247/25.4\n",
    "\n",
    "goldenratio = (1+np.sqrt(5))/2"
   ]
  },
  {
   "cell_type": "code",
   "execution_count": null,
   "metadata": {
    "collapsed": true
   },
   "outputs": [],
   "source": [
    "def adjustFigHeight(fig, aspect=1/goldenratio):\n",
    "    \n",
    "    xsize, ysize = fig.get_size_inches()\n",
    "    "
   ]
  },
  {
   "cell_type": "code",
   "execution_count": 30,
   "metadata": {},
   "outputs": [
    {
     "data": {
      "image/png": "[encoded data removed]",
      "text/plain": [
       "<matplotlib.figure.Figure at 0x3fffe90>"
      ]
     },
     "metadata": {},
     "output_type": "display_data"
    }
   ],
   "source": [
    "#plt.figure(dpi=144)\n",
    "x = np.linspace(-1,1,100)\n",
    "plt.plot(x, x**3)\n",
    "plt.xlabel(\"x values\")\n",
    "plt.gca().\n",
    "plt.gcf().set_size_inches(onecolumn,onecolumn/goldenratio)\n",
    "plt.tight_layout()\n",
    "#plt.subplots_adjust(bottom=0.2)\n"
   ]
  },
  {
   "cell_type": "code",
   "execution_count": null,
   "metadata": {
    "collapsed": true
   },
   "outputs": [],
   "source": []
  }
 ],
 "metadata": {
  "kernelspec": {
   "display_name": "Python 2",
   "language": "python",
   "name": "python2"
  },
  "language_info": {
   "codemirror_mode": {
    "name": "ipython",
    "version": 2
   },
   "file_extension": ".py",
   "mimetype": "text/x-python",
   "name": "python",
   "nbconvert_exporter": "python",
   "pygments_lexer": "ipython2",
   "version": "2.7.3"
  }
 },
 "nbformat": 4,
 "nbformat_minor": 2
}
