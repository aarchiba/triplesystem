{
 "metadata": {
  "name": ""
 },
 "nbformat": 3,
 "nbformat_minor": 0,
 "worksheets": [
  {
   "cells": [
    {
     "cell_type": "code",
     "collapsed": false,
     "input": [
      "%load_ext autoreload\n",
      "\n",
      "%autoreload 2"
     ],
     "language": "python",
     "metadata": {},
     "outputs": [],
     "prompt_number": 1
    },
    {
     "cell_type": "code",
     "collapsed": false,
     "input": [
      "import matplotlib\n",
      "matplotlib.rcParams['savefig.dpi'] = 120"
     ],
     "language": "python",
     "metadata": {},
     "outputs": [],
     "prompt_number": 2
    },
    {
     "cell_type": "code",
     "collapsed": false,
     "input": [
      "from __future__ import division\n",
      "from glob import glob\n",
      "import os\n",
      "import time\n",
      "import cPickle as pickle\n",
      "\n",
      "import scipy.linalg\n",
      "import scipy.stats\n",
      "\n",
      "import astropy.io.fits\n",
      "import astropy.table\n",
      "import astropy.units as u\n",
      "import astropy.constants as c\n",
      "\n",
      "import emcee\n",
      "import numdifftools\n",
      "\n",
      "import kepler\n",
      "import threebody\n"
     ],
     "language": "python",
     "metadata": {},
     "outputs": [],
     "prompt_number": 3
    },
    {
     "cell_type": "code",
     "collapsed": false,
     "input": [
      "!ls -ltr *.fits"
     ],
     "language": "python",
     "metadata": {},
     "outputs": [
      {
       "output_type": "stream",
       "stream": "stdout",
       "text": [
        "-rw-r--r-- 1 aarchiba pulsar 6436800 Oct  9 11:41 0337_6vec_table_141009.fits\r\n",
        "-rw-r----- 1 aarchiba pulsar 3363840 Feb  2 05:56 0337_6vec_table_GBT_Lband_fold_150131.fits\r\n",
        "-rw-r--r-- 1 aarchiba pulsar 3513600 Feb  2 11:37 0337_6vec_table_GBT_Lband_fold_150131_pulses.fits\r\n",
        "-rw-r--r-- 1 aarchiba pulsar 6713280 Feb  3 10:55 0337_6vec_table_141009_pulses.fits\r\n"
       ]
      }
     ],
     "prompt_number": 4
    },
    {
     "cell_type": "code",
     "collapsed": false,
     "input": [
      "V1 = astropy.table.Table.read(\"0337_6vec_table_141009.fits\")\n",
      "V2 = astropy.table.Table.read(\"0337_6vec_table_GBT_Lband_fold_150131.fits\")"
     ],
     "language": "python",
     "metadata": {},
     "outputs": [],
     "prompt_number": 6
    },
    {
     "cell_type": "code",
     "collapsed": false,
     "input": [
      "V1_infos = set(V1['infos'])\n",
      "V1_infos"
     ],
     "language": "python",
     "metadata": {},
     "outputs": [
      {
       "metadata": {},
       "output_type": "pyout",
       "prompt_number": 11,
       "text": [
        "{'Arecibo,L-band,PUPPI_coherent_fold',\n",
        " 'GBT,L-band,GUPPI_coherent_fold',\n",
        " 'GBT,L-band,GUPPI_coherent_search',\n",
        " 'WSRT,L-band,PUMAII_coherent_fold'}"
       ]
      }
     ],
     "prompt_number": 11
    },
    {
     "cell_type": "code",
     "collapsed": false,
     "input": [
      "V2_infos = set(V2['infos'])\n",
      "V2_infos"
     ],
     "language": "python",
     "metadata": {},
     "outputs": [
      {
       "metadata": {},
       "output_type": "pyout",
       "prompt_number": 8,
       "text": [
        "{'GBT,L-band,GUPPI_coherent_fold'}"
       ]
      }
     ],
     "prompt_number": 8
    },
    {
     "cell_type": "code",
     "collapsed": false,
     "input": [
      "c = np.zeros(len(V1),dtype=bool)\n",
      "for i in range(len(V1)):\n",
      "    c[i] = V1['infos'][i] in V2_infos\n",
      "print np.sum(c), \"to be replaced by\", len(V2) "
     ],
     "language": "python",
     "metadata": {},
     "outputs": [
      {
       "output_type": "stream",
       "stream": "stdout",
       "text": [
        "15516 to be replaced by 18443\n"
       ]
      }
     ],
     "prompt_number": 12
    },
    {
     "cell_type": "code",
     "collapsed": false,
     "input": [
      "V = astropy.table.vstack((V1[~c], V2))"
     ],
     "language": "python",
     "metadata": {},
     "outputs": [],
     "prompt_number": 18
    },
    {
     "cell_type": "code",
     "collapsed": false,
     "input": [
      "len(V1), len(V2), len(V1[~c]), len(V)"
     ],
     "language": "python",
     "metadata": {},
     "outputs": [
      {
       "metadata": {},
       "output_type": "pyout",
       "prompt_number": 19,
       "text": [
        "(34570, 18443, 19054, 37497)"
       ]
      }
     ],
     "prompt_number": 19
    },
    {
     "cell_type": "code",
     "collapsed": false,
     "input": [
      "V.write(\"0337_6vec_table_150131.fits\")"
     ],
     "language": "python",
     "metadata": {},
     "outputs": [],
     "prompt_number": 20
    },
    {
     "cell_type": "code",
     "collapsed": false,
     "input": [],
     "language": "python",
     "metadata": {},
     "outputs": []
    }
   ],
   "metadata": {}
  }
 ]
}