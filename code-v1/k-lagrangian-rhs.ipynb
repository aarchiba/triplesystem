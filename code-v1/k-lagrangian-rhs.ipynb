{
 "cells": [
  {
   "cell_type": "markdown",
   "metadata": {},
   "source": [
    "# Constructing a right-hand-side function for the ODE solver #\n",
    "\n",
    "The idea is to construct a RHS function for rhe ODE solver from a Lagrangian, using sympy. The output function should be a C++ file that contains a few functions that compute the needed right-hand sides. These should be templated over the numeric type so that they can work with either `long double` or `__quad128__`. \n",
    "\n",
    "The right-hand side functions should be:\n",
    "\n",
    "* `newton` - simple newtonian motion\n",
    "* `newton_jac` - simple newtonian motion, but computing the derivatives of the trajectory with respect to all parameters as well\n",
    "* `ppn` - parameterized post-Newtonian motion\n",
    "* `ppn_jac` - parameterized post-Newtonian motion with derivatives\n",
    "\n",
    "See also the notebook `n-ppn`, which contains a previous version of this.\n"
   ]
  },
  {
   "cell_type": "markdown",
   "metadata": {},
   "source": [
    "## Lagrangians from the literature"
   ]
  },
  {
   "cell_type": "markdown",
   "metadata": {},
   "source": [
    "Nordtvedt 1985 works out the Lagrangian for motion in a parameterized post-Newtonian framework. Given such a Lagrangian $L$, the motion of each body is governed by\n",
    "$$\n",
    "\\frac{d}{dt}\\left(\\frac{\\partial L}{\\partial v_i}\\right) = \\frac{\\partial L}{\\partial r_i}.\n",
    "$$\n",
    "This Lagrangian is given by\n",
    "$$\n",
    "L = -\\sum_i M(I)_i\\left(1-\\frac{v_i^2}{2}-\\frac{v_i^4}{8}\\right) + \\frac{1}{2}\\sum_{i,j}\\frac{\\Gamma_{ij}}{r_{ij}}\\left(1+\\frac{v_i^2+v_j^2}{2}-\\frac{3v_i\\cdot v_j}{2}-\\frac{(v_i\\cdot\\hat r_{ij})(v_j\\cdot\\hat r_{ij})}{2}\\right)\n",
    "+ \\frac{\\gamma}{2}\\sum_{i,j}\\frac{\\Theta_{ij}}{r_{ij}}(v_i-v_j)^2+\\left(\\frac{1}{2}-\\beta\\right)\\sum_{i,j,k}\\frac{\\Gamma_{ijk}}{r_{ij}r_{ik}}.\n",
    "$$"
   ]
  },
  {
   "cell_type": "markdown",
   "metadata": {},
   "source": [
    "What are all these alarming constants? Well, $\\beta$ and $\\gamma$ are standard post-Newtonian parameters having the value $1$ in GR. $M(I)_i$ converges to $m_i$ if body $i$ is noncompact, and similarly if all the bodies involved are noncompact $\\Gamma_{ij}=m_im_j$, $\\Theta_{ij}=m_im_j$, and $\\Gamma_{ijk} = m_im_jm_k$. Even when compact, $\\Gamma_{ij}$ and $\\Theta_{ij}$ are symmetric in their indices, and $\\Gamma_{ijk}$ is symmetric in the last two indices. "
   ]
  },
  {
   "cell_type": "markdown",
   "metadata": {},
   "source": [
    "If the pulsar is the only compact body in the system, then all these parameters are specified by simply specifying a set of masses for the pulsar: $M(G)$, $M(\\gamma)$, $M(\\beta)$, $M'(\\beta)$. $M(I)$ is an inertial mass, the one that appears in $F=Ma$. $M(G)$ is the gravitational mass that appears in Kepler's laws for distant bodies. $M(\\gamma)$ is associated with the deflection of light. "
   ]
  },
  {
   "cell_type": "markdown",
   "metadata": {},
   "source": [
    "## Constructing the Lagrangians in sympy form"
   ]
  },
  {
   "cell_type": "code",
   "execution_count": 1,
   "metadata": {
    "collapsed": false
   },
   "outputs": [],
   "source": [
    "from sympy import *\n",
    "#%load_ext sympy.interactive.ipythonprinting\n",
    "init_printing()"
   ]
  },
  {
   "cell_type": "markdown",
   "metadata": {},
   "source": [
    "### The PPN Lagrangian\n",
    "\n",
    "Because the PPN Lagrangian is big and messy, we're going to construct it as a sum of parts, divided up as the expression above, and referred to by which PPN parameters appear."
   ]
  },
  {
   "cell_type": "markdown",
   "metadata": {},
   "source": [
    "We need to create variable objects for each variable sympy will work with. This includes, for example, all nine position variables, but also all the $\\Gamma$ and $\\Theta$ variables; we take (anti-) symmetry into account."
   ]
  },
  {
   "cell_type": "code",
   "execution_count": 2,
   "metadata": {
    "collapsed": false
   },
   "outputs": [],
   "source": [
    "var('gamma')\n",
    "var('beta')\n",
    "ms = [Symbol('m%d' % i) for i in range(3)]\n",
    "gammas = []\n",
    "thetas = []\n",
    "gamma3s = []\n",
    "xs = []\n",
    "vs = []\n",
    "for i in range(3):\n",
    "    gammas.append([])\n",
    "    thetas.append([])\n",
    "    gamma3s.append([])\n",
    "    xs.append([])\n",
    "    vs.append([])\n",
    "    for j in range(3):\n",
    "        xs[-1].append(Symbol('x%d%d'%(i,j)))\n",
    "        vs[-1].append(Symbol('v%d%d'%(i,j)))\n",
    "        gamma3s[-1].append([])\n",
    "        if i==j:\n",
    "            gammas[-1].append(0)\n",
    "            thetas[-1].append(0)\n",
    "        else:\n",
    "            gammas[-1].append(Symbol('Gamma%d%d' % (min(i,j),max(i,j))))\n",
    "            thetas[-1].append(Symbol('Theta%d%d' % (min(i,j),max(i,j))))\n",
    "        for k in range(3):\n",
    "            if i==j or i==k:\n",
    "                gamma3s[-1][-1].append(0)\n",
    "            else:    \n",
    "                gamma3s[-1][-1].append(Symbol('Gamma%d%d%d' % (i,min(j,k),max(j,k))))\n"
   ]
  },
  {
   "cell_type": "markdown",
   "metadata": {},
   "source": [
    "To simplify the expressions, we create variables for the squared velocities of the three objects. As long as we provide appropriate derivatives for these, the results willl be right, and I had trouble with the simplifications when I used the expressions for these directly. One can always substitute the values back in if it comes to that."
   ]
  },
  {
   "cell_type": "code",
   "execution_count": 3,
   "metadata": {
    "collapsed": true
   },
   "outputs": [],
   "source": [
    "mag_vs_sq = []\n",
    "mag_vs_sq_f = []\n",
    "for i in range(3):\n",
    "    mag_vs_sq.append(Symbol('vs%d' % i))\n",
    "    mag_vs_sq_f.append(0)\n",
    "    for j in range(3):\n",
    "        mag_vs_sq_f[-1] += vs[i][j]*vs[i][j]"
   ]
  },
  {
   "cell_type": "markdown",
   "metadata": {},
   "source": [
    "Kinetic energy terms in the Lagrangian. Since this is 1PPN order there's a term beyond $mv^2/2$."
   ]
  },
  {
   "cell_type": "code",
   "execution_count": 4,
   "metadata": {
    "collapsed": false
   },
   "outputs": [
    {
     "data": {
      "image/png": "[encoded data removed]",
      "text/latex": [
       "$$- m_{0} \\left(- \\frac{vs_{0}^{2}}{8} - \\frac{vs_{0}}{2} + 1\\right) - m_{1} \\left(- \\frac{vs_{1}^{2}}{8} - \\frac{vs_{1}}{2} + 1\\right) - m_{2} \\left(- \\frac{vs_{2}^{2}}{8} - \\frac{vs_{2}}{2} + 1\\right)$$"
      ],
      "text/plain": [
       "     ⎛     2          ⎞      ⎛     2          ⎞      ⎛     2          ⎞\n",
       "     ⎜  vs₀    vs₀    ⎟      ⎜  vs₁    vs₁    ⎟      ⎜  vs₂    vs₂    ⎟\n",
       "- m₀⋅⎜- ──── - ─── + 1⎟ - m₁⋅⎜- ──── - ─── + 1⎟ - m₂⋅⎜- ──── - ─── + 1⎟\n",
       "     ⎝   8      2     ⎠      ⎝   8      2     ⎠      ⎝   8      2     ⎠"
      ]
     },
     "execution_count": 4,
     "metadata": {},
     "output_type": "execute_result"
    }
   ],
   "source": [
    "Lm = 0\n",
    "for i in range(3):\n",
    "    Lm += -ms[i]*(1-mag_vs_sq[i]/2-mag_vs_sq[i]**2/8)\n",
    "Lm"
   ]
  },
  {
   "cell_type": "markdown",
   "metadata": {},
   "source": [
    "Similarly we construct variables for all the pairwise distances."
   ]
  },
  {
   "cell_type": "code",
   "execution_count": 7,
   "metadata": {
    "collapsed": false
   },
   "outputs": [],
   "source": [
    "mag_r = []\n",
    "mag_r_f = []\n",
    "for i in range(3):\n",
    "    mag_r.append([])\n",
    "    mag_r_f.append([])\n",
    "    for j in range(3):\n",
    "        if i==j:\n",
    "            mag_r[-1].append(0)\n",
    "            mag_r_f[-1].append(0)\n",
    "        else:    \n",
    "            mag_r[-1].append(Symbol('r%d%d'%(min(i,j),max(i,j))))\n",
    "            mag_r_f[-1].append(0)\n",
    "                         \n",
    "            for k in range(3):\n",
    "                mag_r_f[-1][-1] += (xs[i][k]-xs[j][k])**2\n",
    "            mag_r_f[-1][-1] **= Rational(1,2)"
   ]
  },
  {
   "cell_type": "markdown",
   "metadata": {},
   "source": [
    "$\\Theta$ terms."
   ]
  },
  {
   "cell_type": "code",
   "execution_count": 9,
   "metadata": {
    "collapsed": false
   },
   "outputs": [],
   "source": [
    "Lt = 0\n",
    "for i in range(3):\n",
    "    for j in range(3):\n",
    "        if i==j:\n",
    "            continue\n",
    "        nsq = 0\n",
    "        for k in range(3):\n",
    "            nsq += (vs[i][k]-vs[j][k])**2\n",
    "        Lt += gamma/2*thetas[i][j]/mag_r[i][j]*nsq\n",
    "#Lt"
   ]
  },
  {
   "cell_type": "markdown",
   "metadata": {},
   "source": [
    "Two-index $\\Gamma$ terms."
   ]
  },
  {
   "cell_type": "code",
   "execution_count": 11,
   "metadata": {
    "collapsed": false
   },
   "outputs": [],
   "source": [
    "Lg = 0\n",
    "for i in range(3):\n",
    "    for j in range(3):\n",
    "        if i==j:\n",
    "            continue\n",
    "        brack = 1 + (mag_vs_sq[i]+mag_vs_sq[j])/2\n",
    "        b3a = 0\n",
    "        b3b = 0\n",
    "        for k in range(3):\n",
    "            brack += -Rational(3,2)*(vs[i][k]*vs[j][k])\n",
    "            b3a += vs[i][k]*(xs[i][k]-xs[j][k])/mag_r[i][j]\n",
    "            b3b += vs[j][k]*(xs[i][k]-xs[j][k])/mag_r[i][j] # FIXME: check the sign here\n",
    "        brack += -Rational(1,2)*b3a*b3b\n",
    "        Lg += Rational(1,2)*gammas[i][j]/mag_r[i][j]*brack\n",
    "#Lg"
   ]
  },
  {
   "cell_type": "markdown",
   "metadata": {},
   "source": [
    "Three-index $\\Gamma$ terms. These are nonlinear modifications to the potential of and between bodies, and are largely responsible for Mercury's (excess) periastron advance."
   ]
  },
  {
   "cell_type": "code",
   "execution_count": 13,
   "metadata": {
    "collapsed": false
   },
   "outputs": [],
   "source": [
    "Lf = 0\n",
    "for i in range(3):\n",
    "    for j in range(3):\n",
    "        if i==j:\n",
    "            continue\n",
    "        for k in range(3):\n",
    "            if i==k:\n",
    "                continue\n",
    "            Lf += (Rational(1,2)-beta)*gamma3s[i][j][k]/mag_r[i][j]/mag_r[i][k]\n",
    "#Lf"
   ]
  },
  {
   "cell_type": "code",
   "execution_count": 14,
   "metadata": {
    "collapsed": true
   },
   "outputs": [],
   "source": [
    "L = Lg + Lt + Lm + Lf"
   ]
  },
  {
   "cell_type": "markdown",
   "metadata": {},
   "source": [
    "### The Newtonian Lagrangian"
   ]
  },
  {
   "cell_type": "code",
   "execution_count": 15,
   "metadata": {
    "collapsed": false
   },
   "outputs": [
    {
     "data": {
      "image/png": "[encoded data removed]",
      "text/latex": [
       "$$\\frac{m_{0} m_{1}}{r_{01}} + \\frac{m_{0} m_{2}}{r_{02}} + \\frac{m_{0} vs_{0}}{2} + \\frac{m_{1} m_{2}}{r_{12}} + \\frac{m_{1} vs_{1}}{2} + \\frac{m_{2} vs_{2}}{2}$$"
      ],
      "text/plain": [
       "m₀⋅m₁   m₀⋅m₂   m₀⋅vs₀   m₁⋅m₂   m₁⋅vs₁   m₂⋅vs₂\n",
       "───── + ───── + ────── + ───── + ────── + ──────\n",
       " r₀₁     r₀₂      2       r₁₂      2        2   "
      ]
     },
     "execution_count": 15,
     "metadata": {},
     "output_type": "execute_result"
    }
   ],
   "source": [
    "Lds_N = 0\n",
    "for i in range(3):\n",
    "    Lds_N += Rational(1,2)*ms[i]*mag_vs_sq[i]\n",
    "    for j in range(3):\n",
    "        if j==i:\n",
    "            continue\n",
    "        Lds_N += Rational(1,2)*ms[i]*ms[j]/mag_r[i][j]\n",
    "Lds_N\n"
   ]
  },
  {
   "cell_type": "markdown",
   "metadata": {},
   "source": [
    "## Extracting equations of motion"
   ]
  },
  {
   "cell_type": "code",
   "execution_count": 18,
   "metadata": {
    "collapsed": false
   },
   "outputs": [
    {
     "data": {
      "image/png": "[encoded data removed]",
      "text/latex": [
       "$$\\left [ \\left [ a_{00}, \\quad a_{01}, \\quad a_{02}\\right ], \\quad \\left [ a_{10}, \\quad a_{11}, \\quad a_{12}\\right ], \\quad \\left [ a_{20}, \\quad a_{21}, \\quad a_{22}\\right ]\\right ]$$"
      ],
      "text/plain": [
       "[[a₀₀, a₀₁, a₀₂], [a₁₀, a₁₁, a₁₂], [a₂₀, a₂₁, a₂₂]]"
      ]
     },
     "execution_count": 18,
     "metadata": {},
     "output_type": "execute_result"
    }
   ],
   "source": [
    "a_s = []\n",
    "for i in range(3):\n",
    "    a_s.append([])\n",
    "    for j in range(3):\n",
    "        a_s[-1].append(Symbol(\"a_%d%d\" % (i,j)))\n",
    "a_s"
   ]
  },
  {
   "cell_type": "markdown",
   "metadata": {},
   "source": [
    "Because we've introduced various shorthand symbols and because we know about the relationships between, time, position, velocity, and acceleration, we define our own differentiation functions that do the right thing."
   ]
  },
  {
   "cell_type": "code",
   "execution_count": 19,
   "metadata": {
    "collapsed": true
   },
   "outputs": [],
   "source": [
    "def diff_mag_r_f(ii,jj,i,j):\n",
    "    if ii==jj:\n",
    "        return 0\n",
    "    if i==ii:\n",
    "        return (xs[ii][j]-xs[jj][j])/mag_r[ii][jj]\n",
    "    if i==jj:\n",
    "        return (xs[jj][j]-xs[ii][j])/mag_r[ii][jj]\n",
    "    return 0\n",
    "def partial_vs(expr,i,j):\n",
    "    r = diff(expr,vs[i][j])\n",
    "    for ii in range(3):\n",
    "        r += diff(expr,mag_vs_sq[ii])*diff(mag_vs_sq_f[ii],vs[i][j])\n",
    "    return r\n",
    "def partial_xs(expr,i,j):\n",
    "    r = diff(expr,xs[i][j])\n",
    "    for ii in range(3):\n",
    "        for jj in range(ii+1,3):\n",
    "            r += diff(expr,mag_r[ii][jj])*diff_mag_r_f(ii,jj,i,j)\n",
    "    return r\n",
    "def d_by_dt(expr):\n",
    "    r = 0\n",
    "    for i in range(3):\n",
    "        for j in range(3):\n",
    "            r += partial_vs(expr,i,j)*a_s[i][j]\n",
    "            r += partial_xs(expr,i,j)*vs[i][j]\n",
    "    return r"
   ]
  },
  {
   "cell_type": "markdown",
   "metadata": {},
   "source": [
    "### Newtonian case"
   ]
  },
  {
   "cell_type": "code",
   "execution_count": 21,
   "metadata": {
    "collapsed": false
   },
   "outputs": [
    {
     "data": {
      "image/png": "[encoded data removed]",
      "text/latex": [
       "$$a_{00} m_{0} + \\frac{m_{0} m_{1}}{r_{01}^{3}} \\left(x_{00} - x_{10}\\right) + \\frac{m_{0} m_{2}}{r_{02}^{3}} \\left(x_{00} - x_{20}\\right)$$"
      ],
      "text/plain": [
       "         m₀⋅m₁⋅(x₀₀ - x₁₀)   m₀⋅m₂⋅(x₀₀ - x₂₀)\n",
       "a₀₀⋅m₀ + ───────────────── + ─────────────────\n",
       "                   3                   3      \n",
       "                r₀₁                 r₀₂       "
      ]
     },
     "execution_count": 21,
     "metadata": {},
     "output_type": "execute_result"
    }
   ],
   "source": [
    "Ln = Lds_N\n",
    "equations_n = [d_by_dt(partial_vs(Ln,i,j))-partial_xs(Ln,i,j) for i in range(3) for j in range(3)]\n",
    "equations_n[0]"
   ]
  },
  {
   "cell_type": "markdown",
   "metadata": {},
   "source": [
    "This we can always write as $M(x,v)a = b(x,v)$ for some matrix $M$. In this case the matrix will be diagonal and independent of $x$ and $v$, but in the PPN case neither is true and some further work will be required."
   ]
  },
  {
   "cell_type": "code",
   "execution_count": 22,
   "metadata": {
    "collapsed": true
   },
   "outputs": [],
   "source": [
    "Mn = []\n",
    "bn = []\n",
    "for m, expr in enumerate(equations_n):\n",
    "    Mn.append([])\n",
    "    bm = -expr\n",
    "    for i in range(3):\n",
    "        for j in range(3):\n",
    "            bm = bm.subs(a_s[i][j],0)\n",
    "            Mn[-1].append(diff(expr,a_s[i][j]))\n",
    "    bn.append(bm)"
   ]
  },
  {
   "cell_type": "code",
   "execution_count": 23,
   "metadata": {
    "collapsed": false
   },
   "outputs": [
    {
     "data": {
      "image/png": "[encoded data removed]",
      "text/latex": [
       "$$\\left [ \\left [ m_{0}, \\quad 0, \\quad 0, \\quad 0, \\quad 0, \\quad 0, \\quad 0, \\quad 0, \\quad 0\\right ], \\quad \\left [ 0, \\quad m_{0}, \\quad 0, \\quad 0, \\quad 0, \\quad 0, \\quad 0, \\quad 0, \\quad 0\\right ], \\quad \\left [ 0, \\quad 0, \\quad m_{0}, \\quad 0, \\quad 0, \\quad 0, \\quad 0, \\quad 0, \\quad 0\\right ], \\quad \\left [ 0, \\quad 0, \\quad 0, \\quad m_{1}, \\quad 0, \\quad 0, \\quad 0, \\quad 0, \\quad 0\\right ], \\quad \\left [ 0, \\quad 0, \\quad 0, \\quad 0, \\quad m_{1}, \\quad 0, \\quad 0, \\quad 0, \\quad 0\\right ], \\quad \\left [ 0, \\quad 0, \\quad 0, \\quad 0, \\quad 0, \\quad m_{1}, \\quad 0, \\quad 0, \\quad 0\\right ], \\quad \\left [ 0, \\quad 0, \\quad 0, \\quad 0, \\quad 0, \\quad 0, \\quad m_{2}, \\quad 0, \\quad 0\\right ], \\quad \\left [ 0, \\quad 0, \\quad 0, \\quad 0, \\quad 0, \\quad 0, \\quad 0, \\quad m_{2}, \\quad 0\\right ], \\quad \\left [ 0, \\quad 0, \\quad 0, \\quad 0, \\quad 0, \\quad 0, \\quad 0, \\quad 0, \\quad m_{2}\\right ]\\right ]$$"
      ],
      "text/plain": [
       "[[m₀, 0, 0, 0, 0, 0, 0, 0, 0], [0, m₀, 0, 0, 0, 0, 0, 0, 0], [0, 0, m₀, 0, 0, \n",
       "0, 0, 0, 0], [0, 0, 0, m₁, 0, 0, 0, 0, 0], [0, 0, 0, 0, m₁, 0, 0, 0, 0], [0, 0\n",
       ", 0, 0, 0, m₁, 0, 0, 0], [0, 0, 0, 0, 0, 0, m₂, 0, 0], [0, 0, 0, 0, 0, 0, 0, m\n",
       "₂, 0], [0, 0, 0, 0, 0, 0, 0, 0, m₂]]"
      ]
     },
     "execution_count": 23,
     "metadata": {},
     "output_type": "execute_result"
    }
   ],
   "source": [
    "Mn"
   ]
  },
  {
   "cell_type": "code",
   "execution_count": 24,
   "metadata": {
    "collapsed": false
   },
   "outputs": [
    {
     "data": {
      "image/png": "[encoded data removed]",
      "text/latex": [
       "$$\\left [ - \\frac{m_{0} m_{1}}{r_{01}^{3}} \\left(x_{00} - x_{10}\\right) - \\frac{m_{0} m_{2}}{r_{02}^{3}} \\left(x_{00} - x_{20}\\right), \\quad - \\frac{m_{0} m_{1}}{r_{01}^{3}} \\left(x_{01} - x_{11}\\right) - \\frac{m_{0} m_{2}}{r_{02}^{3}} \\left(x_{01} - x_{21}\\right), \\quad - \\frac{m_{0} m_{1}}{r_{01}^{3}} \\left(x_{02} - x_{12}\\right) - \\frac{m_{0} m_{2}}{r_{02}^{3}} \\left(x_{02} - x_{22}\\right), \\quad - \\frac{m_{0} m_{1}}{r_{01}^{3}} \\left(- x_{00} + x_{10}\\right) - \\frac{m_{1} m_{2}}{r_{12}^{3}} \\left(x_{10} - x_{20}\\right), \\quad - \\frac{m_{0} m_{1}}{r_{01}^{3}} \\left(- x_{01} + x_{11}\\right) - \\frac{m_{1} m_{2}}{r_{12}^{3}} \\left(x_{11} - x_{21}\\right), \\quad - \\frac{m_{0} m_{1}}{r_{01}^{3}} \\left(- x_{02} + x_{12}\\right) - \\frac{m_{1} m_{2}}{r_{12}^{3}} \\left(x_{12} - x_{22}\\right), \\quad - \\frac{m_{0} m_{2}}{r_{02}^{3}} \\left(- x_{00} + x_{20}\\right) - \\frac{m_{1} m_{2}}{r_{12}^{3}} \\left(- x_{10} + x_{20}\\right), \\quad - \\frac{m_{0} m_{2}}{r_{02}^{3}} \\left(- x_{01} + x_{21}\\right) - \\frac{m_{1} m_{2}}{r_{12}^{3}} \\left(- x_{11} + x_{21}\\right), \\quad - \\frac{m_{0} m_{2}}{r_{02}^{3}} \\left(- x_{02} + x_{22}\\right) - \\frac{m_{1} m_{2}}{r_{12}^{3}} \\left(- x_{12} + x_{22}\\right)\\right ]$$"
      ],
      "text/plain": [
       "⎡  m₀⋅m₁⋅(x₀₀ - x₁₀)   m₀⋅m₂⋅(x₀₀ - x₂₀)    m₀⋅m₁⋅(x₀₁ - x₁₁)   m₀⋅m₂⋅(x₀₁ - x\n",
       "⎢- ───────────────── - ─────────────────, - ───────────────── - ──────────────\n",
       "⎢            3                   3                    3                   3   \n",
       "⎣         r₀₁                 r₀₂                  r₀₁                 r₀₂    \n",
       "\n",
       "₂₁)    m₀⋅m₁⋅(x₀₂ - x₁₂)   m₀⋅m₂⋅(x₀₂ - x₂₂)    m₀⋅m₁⋅(-x₀₀ + x₁₀)   m₁⋅m₂⋅(x₁\n",
       "───, - ───────────────── - ─────────────────, - ────────────────── - ─────────\n",
       "                 3                   3                    3                   \n",
       "              r₀₁                 r₀₂                  r₀₁                  r₁\n",
       "\n",
       "₀ - x₂₀)    m₀⋅m₁⋅(-x₀₁ + x₁₁)   m₁⋅m₂⋅(x₁₁ - x₂₁)    m₀⋅m₁⋅(-x₀₂ + x₁₂)   m₁⋅\n",
       "────────, - ────────────────── - ─────────────────, - ────────────────── - ───\n",
       " 3                    3                    3                    3             \n",
       "₂                  r₀₁                  r₁₂                  r₀₁              \n",
       "\n",
       "m₂⋅(x₁₂ - x₂₂)    m₀⋅m₂⋅(-x₀₀ + x₂₀)   m₁⋅m₂⋅(-x₁₀ + x₂₀)    m₀⋅m₂⋅(-x₀₁ + x₂₁\n",
       "──────────────, - ────────────────── - ──────────────────, - ─────────────────\n",
       "       3                    3                    3                     3      \n",
       "    r₁₂                  r₀₂                  r₁₂                   r₀₂       \n",
       "\n",
       ")   m₁⋅m₂⋅(-x₁₁ + x₂₁)    m₀⋅m₂⋅(-x₀₂ + x₂₂)   m₁⋅m₂⋅(-x₁₂ + x₂₂)⎤\n",
       "─ - ──────────────────, - ────────────────── - ──────────────────⎥\n",
       "              3                     3                    3       ⎥\n",
       "           r₁₂                   r₀₂                  r₁₂        ⎦"
      ]
     },
     "execution_count": 24,
     "metadata": {},
     "output_type": "execute_result"
    }
   ],
   "source": [
    "bn"
   ]
  },
  {
   "cell_type": "markdown",
   "metadata": {},
   "source": [
    "### PPN case\n",
    "\n",
    "We will try to do the same thing here: extract the equations into a form $Ma = b$; we can avoid the need for matrix inversion by using the fact that all the off-diagonal terms in the matrix are already at 1PPN order, so we can use a truncated series expansion for matrix inversion."
   ]
  },
  {
   "cell_type": "code",
   "execution_count": 25,
   "metadata": {
    "collapsed": true
   },
   "outputs": [],
   "source": [
    "equations = [d_by_dt(partial_vs(L,i,j))-partial_xs(L,i,j) for i in range(3) for j in range(3)]"
   ]
  },
  {
   "cell_type": "code",
   "execution_count": 26,
   "metadata": {
    "collapsed": true
   },
   "outputs": [],
   "source": [
    "M = []\n",
    "b = []\n",
    "for m, expr in enumerate(equations):\n",
    "    M.append([])\n",
    "    bm = -expr\n",
    "    for i in range(3):\n",
    "        for j in range(3):\n",
    "            bm = bm.subs(a_s[i][j],0)\n",
    "            M[-1].append(diff(expr,a_s[i][j]))\n",
    "    b.append(bm)"
   ]
  },
  {
   "cell_type": "markdown",
   "metadata": {},
   "source": [
    "Our goal is to separate out the terms by their PPN order - `M0` and `b0` will contain all the zero-order (Newtonian) terms, and `M1` and `b1` will contain only 1PPN terms. This will allow us to drop any product of `M1` and `b1` with themselves or each other."
   ]
  },
  {
   "cell_type": "code",
   "execution_count": 31,
   "metadata": {
    "collapsed": false
   },
   "outputs": [
    {
     "data": {
      "image/png": "[encoded data removed]",
      "text/latex": [
       "$$\\left [ m_{0} v_{00}^{2} - 2 m_{0} \\left(- \\frac{vs_{0}}{4} - \\frac{1}{2}\\right), \\quad m_{0} v_{01}^{2} - 2 m_{0} \\left(- \\frac{vs_{0}}{4} - \\frac{1}{2}\\right), \\quad m_{0} v_{02}^{2} - 2 m_{0} \\left(- \\frac{vs_{0}}{4} - \\frac{1}{2}\\right), \\quad m_{1} v_{10}^{2} - 2 m_{1} \\left(- \\frac{vs_{1}}{4} - \\frac{1}{2}\\right), \\quad m_{1} v_{11}^{2} - 2 m_{1} \\left(- \\frac{vs_{1}}{4} - \\frac{1}{2}\\right), \\quad m_{1} v_{12}^{2} - 2 m_{1} \\left(- \\frac{vs_{1}}{4} - \\frac{1}{2}\\right), \\quad m_{2} v_{20}^{2} - 2 m_{2} \\left(- \\frac{vs_{2}}{4} - \\frac{1}{2}\\right), \\quad m_{2} v_{21}^{2} - 2 m_{2} \\left(- \\frac{vs_{2}}{4} - \\frac{1}{2}\\right), \\quad m_{2} v_{22}^{2} - 2 m_{2} \\left(- \\frac{vs_{2}}{4} - \\frac{1}{2}\\right)\\right ]$$"
      ],
      "text/plain": [
       "⎡      2        ⎛  vs₀   1⎞        2        ⎛  vs₀   1⎞        2        ⎛  vs₀\n",
       "⎢m₀⋅v₀₀  - 2⋅m₀⋅⎜- ─── - ─⎟, m₀⋅v₀₁  - 2⋅m₀⋅⎜- ─── - ─⎟, m₀⋅v₀₂  - 2⋅m₀⋅⎜- ───\n",
       "⎣               ⎝   4    2⎠                 ⎝   4    2⎠                 ⎝   4 \n",
       "\n",
       "   1⎞        2        ⎛  vs₁   1⎞        2        ⎛  vs₁   1⎞        2        \n",
       " - ─⎟, m₁⋅v₁₀  - 2⋅m₁⋅⎜- ─── - ─⎟, m₁⋅v₁₁  - 2⋅m₁⋅⎜- ─── - ─⎟, m₁⋅v₁₂  - 2⋅m₁⋅\n",
       "   2⎠                 ⎝   4    2⎠                 ⎝   4    2⎠                 \n",
       "\n",
       "⎛  vs₁   1⎞        2        ⎛  vs₂   1⎞        2        ⎛  vs₂   1⎞        2  \n",
       "⎜- ─── - ─⎟, m₂⋅v₂₀  - 2⋅m₂⋅⎜- ─── - ─⎟, m₂⋅v₂₁  - 2⋅m₂⋅⎜- ─── - ─⎟, m₂⋅v₂₂  -\n",
       "⎝   4    2⎠                 ⎝   4    2⎠                 ⎝   4    2⎠           \n",
       "\n",
       "      ⎛  vs₂   1⎞⎤\n",
       " 2⋅m₂⋅⎜- ─── - ─⎟⎥\n",
       "      ⎝   4    2⎠⎦"
      ]
     },
     "execution_count": 31,
     "metadata": {},
     "output_type": "execute_result"
    }
   ],
   "source": [
    "M0 = []\n",
    "M0i = []\n",
    "for i in range(9):\n",
    "    M0.append([])\n",
    "    M0i.append([])\n",
    "    for j in range(9):\n",
    "        if i==j:\n",
    "            M0[-1].append(M[i][j])\n",
    "            for ii in range(3):\n",
    "                for jj in range(3):\n",
    "                    M0[-1][-1] = M0[-1][-1].subs(gammas[ii][jj],0)\n",
    "                    M0[-1][-1] = M0[-1][-1].subs(thetas[ii][jj],0)\n",
    "            M0i[-1].append(M0[-1][-1]**(-1))\n",
    "        else:\n",
    "            M0[-1].append(0)\n",
    "            M0i[-1].append(0)\n",
    "[M0[i][i] for i in range(9)]"
   ]
  },
  {
   "cell_type": "code",
   "execution_count": 32,
   "metadata": {
    "collapsed": false
   },
   "outputs": [
    {
     "data": {
      "image/png": "[encoded data removed]",
      "text/latex": [
       "$$\\left [ - \\frac{\\Gamma_{01}}{r_{01}^{3}} \\left(x_{00} - x_{10}\\right) - \\frac{\\Gamma_{02}}{r_{02}^{3}} \\left(x_{00} - x_{20}\\right), \\quad - \\frac{\\Gamma_{01}}{r_{01}^{3}} \\left(x_{01} - x_{11}\\right) - \\frac{\\Gamma_{02}}{r_{02}^{3}} \\left(x_{01} - x_{21}\\right), \\quad - \\frac{\\Gamma_{01}}{r_{01}^{3}} \\left(x_{02} - x_{12}\\right) - \\frac{\\Gamma_{02}}{r_{02}^{3}} \\left(x_{02} - x_{22}\\right), \\quad - \\frac{\\Gamma_{01}}{r_{01}^{3}} \\left(- x_{00} + x_{10}\\right) - \\frac{\\Gamma_{12}}{r_{12}^{3}} \\left(x_{10} - x_{20}\\right), \\quad - \\frac{\\Gamma_{01}}{r_{01}^{3}} \\left(- x_{01} + x_{11}\\right) - \\frac{\\Gamma_{12}}{r_{12}^{3}} \\left(x_{11} - x_{21}\\right), \\quad - \\frac{\\Gamma_{01}}{r_{01}^{3}} \\left(- x_{02} + x_{12}\\right) - \\frac{\\Gamma_{12}}{r_{12}^{3}} \\left(x_{12} - x_{22}\\right), \\quad - \\frac{\\Gamma_{02}}{r_{02}^{3}} \\left(- x_{00} + x_{20}\\right) - \\frac{\\Gamma_{12}}{r_{12}^{3}} \\left(- x_{10} + x_{20}\\right), \\quad - \\frac{\\Gamma_{02}}{r_{02}^{3}} \\left(- x_{01} + x_{21}\\right) - \\frac{\\Gamma_{12}}{r_{12}^{3}} \\left(- x_{11} + x_{21}\\right), \\quad - \\frac{\\Gamma_{02}}{r_{02}^{3}} \\left(- x_{02} + x_{22}\\right) - \\frac{\\Gamma_{12}}{r_{12}^{3}} \\left(- x_{12} + x_{22}\\right)\\right ]$$"
      ],
      "text/plain": [
       "⎡  Γ₀₁⋅(x₀₀ - x₁₀)   Γ₀₂⋅(x₀₀ - x₂₀)    Γ₀₁⋅(x₀₁ - x₁₁)   Γ₀₂⋅(x₀₁ - x₂₁)    Γ\n",
       "⎢- ─────────────── - ───────────────, - ─────────────── - ───────────────, - ─\n",
       "⎢           3                 3                  3                 3          \n",
       "⎣        r₀₁               r₀₂                r₀₁               r₀₂           \n",
       "\n",
       "₀₁⋅(x₀₂ - x₁₂)   Γ₀₂⋅(x₀₂ - x₂₂)    Γ₀₁⋅(-x₀₀ + x₁₀)   Γ₁₂⋅(x₁₀ - x₂₀)    Γ₀₁⋅\n",
       "────────────── - ───────────────, - ──────────────── - ───────────────, - ────\n",
       "        3                 3                  3                  3             \n",
       "     r₀₁               r₀₂                r₀₁                r₁₂              \n",
       "\n",
       "(-x₀₁ + x₁₁)   Γ₁₂⋅(x₁₁ - x₂₁)    Γ₀₁⋅(-x₀₂ + x₁₂)   Γ₁₂⋅(x₁₂ - x₂₂)    Γ₀₂⋅(-\n",
       "──────────── - ───────────────, - ──────────────── - ───────────────, - ──────\n",
       "     3                  3                  3                  3               \n",
       "  r₀₁                r₁₂                r₀₁                r₁₂                \n",
       "\n",
       "x₀₀ + x₂₀)   Γ₁₂⋅(-x₁₀ + x₂₀)    Γ₀₂⋅(-x₀₁ + x₂₁)   Γ₁₂⋅(-x₁₁ + x₂₁)    Γ₀₂⋅(-\n",
       "────────── - ────────────────, - ──────────────── - ────────────────, - ──────\n",
       "   3                  3                   3                  3                \n",
       "r₀₂                r₁₂                 r₀₂                r₁₂                 \n",
       "\n",
       "x₀₂ + x₂₂)   Γ₁₂⋅(-x₁₂ + x₂₂)⎤\n",
       "────────── - ────────────────⎥\n",
       "   3                  3      ⎥\n",
       "r₀₂                r₁₂       ⎦"
      ]
     },
     "execution_count": 32,
     "metadata": {},
     "output_type": "execute_result"
    }
   ],
   "source": [
    "b0 = b[:]\n",
    "for k in range(9):\n",
    "    for i in range(3):\n",
    "        b0[k] = b0[k].subs(mag_vs_sq[i],0)\n",
    "        for j in range(3):\n",
    "            b0[k] = b0[k].subs(vs[i][j],0)\n",
    "            for l in range(3):\n",
    "                if i==j or i==l:\n",
    "                    continue\n",
    "                b0[k] = b0[k].subs(gamma3s[i][j][l],0)\n",
    "                \n",
    "b0"
   ]
  },
  {
   "cell_type": "code",
   "execution_count": 33,
   "metadata": {
    "collapsed": true
   },
   "outputs": [],
   "source": [
    "M0 = Matrix(M0)\n",
    "M1 = Matrix(M)-M0\n",
    "b0 = Matrix(b0)\n",
    "b1 = Matrix(b)-b0\n",
    "M0i = Matrix(M0i)"
   ]
  },
  {
   "cell_type": "markdown",
   "metadata": {},
   "source": [
    "We want to solve \n",
    "$$\n",
    "(M_0+M_1)a = b_0+b_1\n",
    "$$\n",
    "where among other things the subscripts denote the order of dependence on $v^2/c^2$ or $r_S/r$ (which are of about equal magnitude). We can do this by direct matrix inversion, but since we have already dropped everything of second order, we should be able to do better:\n",
    "$$\n",
    "(M_0^{-1}-M_0^{-1}M_1M_0^{-1})(M_0+M_1) = I + M_0^{-1}M_1 - M_0^{-1}M_1 + O(v^4/c^4)\n",
    "$$\n",
    "or\n",
    "$$\n",
    "a = M_0^{-1}(b_0+b_1) - M_0^{-1}M_1M_0^{-1}b_0 + O(v^4/c^4).\n",
    "$$"
   ]
  },
  {
   "cell_type": "code",
   "execution_count": 42,
   "metadata": {
    "collapsed": true
   },
   "outputs": [],
   "source": [
    "rhs = M0i*(b0+b1-(M1*M0i)*b0)"
   ]
  },
  {
   "cell_type": "markdown",
   "metadata": {},
   "source": [
    "### Newtonian\n",
    "\n",
    "This is much simpler because we don't need the matrix-inversion trick."
   ]
  },
  {
   "cell_type": "code",
   "execution_count": 39,
   "metadata": {
    "collapsed": false
   },
   "outputs": [
    {
     "data": {
      "image/png": "[encoded data removed]",
      "text/latex": [
       "$$\\left [ \\left [ \\frac{1}{m_{0}}, \\quad 0, \\quad 0, \\quad 0, \\quad 0, \\quad 0, \\quad 0, \\quad 0, \\quad 0\\right ], \\quad \\left [ 0, \\quad \\frac{1}{m_{0}}, \\quad 0, \\quad 0, \\quad 0, \\quad 0, \\quad 0, \\quad 0, \\quad 0\\right ], \\quad \\left [ 0, \\quad 0, \\quad \\frac{1}{m_{0}}, \\quad 0, \\quad 0, \\quad 0, \\quad 0, \\quad 0, \\quad 0\\right ], \\quad \\left [ 0, \\quad 0, \\quad 0, \\quad \\frac{1}{m_{1}}, \\quad 0, \\quad 0, \\quad 0, \\quad 0, \\quad 0\\right ], \\quad \\left [ 0, \\quad 0, \\quad 0, \\quad 0, \\quad \\frac{1}{m_{1}}, \\quad 0, \\quad 0, \\quad 0, \\quad 0\\right ], \\quad \\left [ 0, \\quad 0, \\quad 0, \\quad 0, \\quad 0, \\quad \\frac{1}{m_{1}}, \\quad 0, \\quad 0, \\quad 0\\right ], \\quad \\left [ 0, \\quad 0, \\quad 0, \\quad 0, \\quad 0, \\quad 0, \\quad \\frac{1}{m_{2}}, \\quad 0, \\quad 0\\right ], \\quad \\left [ 0, \\quad 0, \\quad 0, \\quad 0, \\quad 0, \\quad 0, \\quad 0, \\quad \\frac{1}{m_{2}}, \\quad 0\\right ], \\quad \\left [ 0, \\quad 0, \\quad 0, \\quad 0, \\quad 0, \\quad 0, \\quad 0, \\quad 0, \\quad \\frac{1}{m_{2}}\\right ]\\right ]$$"
      ],
      "text/plain": [
       "⎡⎡1                         ⎤  ⎡   1                      ⎤  ⎡      1         \n",
       "⎢⎢──, 0, 0, 0, 0, 0, 0, 0, 0⎥, ⎢0, ──, 0, 0, 0, 0, 0, 0, 0⎥, ⎢0, 0, ──, 0, 0, \n",
       "⎣⎣m₀                        ⎦  ⎣   m₀                     ⎦  ⎣      m₀        \n",
       "\n",
       "          ⎤  ⎡         1                ⎤  ⎡            1             ⎤  ⎡    \n",
       "0, 0, 0, 0⎥, ⎢0, 0, 0, ──, 0, 0, 0, 0, 0⎥, ⎢0, 0, 0, 0, ──, 0, 0, 0, 0⎥, ⎢0, 0\n",
       "          ⎦  ⎣         m₁               ⎦  ⎣            m₁            ⎦  ⎣    \n",
       "\n",
       "           1          ⎤  ⎡                  1       ⎤  ⎡                     1\n",
       ", 0, 0, 0, ──, 0, 0, 0⎥, ⎢0, 0, 0, 0, 0, 0, ──, 0, 0⎥, ⎢0, 0, 0, 0, 0, 0, 0, ─\n",
       "           m₁         ⎦  ⎣                  m₂      ⎦  ⎣                     m\n",
       "\n",
       "    ⎤  ⎡                        1 ⎤⎤\n",
       "─, 0⎥, ⎢0, 0, 0, 0, 0, 0, 0, 0, ──⎥⎥\n",
       "₂   ⎦  ⎣                        m₂⎦⎦"
      ]
     },
     "execution_count": 39,
     "metadata": {},
     "output_type": "execute_result"
    }
   ],
   "source": [
    "Mni = [[Mn[i][j] for j in range(len(Mn[0]))] for i in range(len(Mn))]\n",
    "for j in range(len(Mn)):\n",
    "    Mni[j][j] = Mn[j][j]**(-1)\n",
    "Mni"
   ]
  },
  {
   "cell_type": "code",
   "execution_count": 41,
   "metadata": {
    "collapsed": false
   },
   "outputs": [
    {
     "data": {
      "image/png": "[encoded data removed]",
      "text/latex": [
       "$$\\left[\\begin{matrix}\\frac{1}{m_{0}} \\left(- \\frac{m_{0} m_{1}}{r_{01}^{3}} \\left(x_{00} - x_{10}\\right) - \\frac{m_{0} m_{2}}{r_{02}^{3}} \\left(x_{00} - x_{20}\\right)\\right)\\\\\\frac{1}{m_{0}} \\left(- \\frac{m_{0} m_{1}}{r_{01}^{3}} \\left(x_{01} - x_{11}\\right) - \\frac{m_{0} m_{2}}{r_{02}^{3}} \\left(x_{01} - x_{21}\\right)\\right)\\\\\\frac{1}{m_{0}} \\left(- \\frac{m_{0} m_{1}}{r_{01}^{3}} \\left(x_{02} - x_{12}\\right) - \\frac{m_{0} m_{2}}{r_{02}^{3}} \\left(x_{02} - x_{22}\\right)\\right)\\\\\\frac{1}{m_{1}} \\left(- \\frac{m_{0} m_{1}}{r_{01}^{3}} \\left(- x_{00} + x_{10}\\right) - \\frac{m_{1} m_{2}}{r_{12}^{3}} \\left(x_{10} - x_{20}\\right)\\right)\\\\\\frac{1}{m_{1}} \\left(- \\frac{m_{0} m_{1}}{r_{01}^{3}} \\left(- x_{01} + x_{11}\\right) - \\frac{m_{1} m_{2}}{r_{12}^{3}} \\left(x_{11} - x_{21}\\right)\\right)\\\\\\frac{1}{m_{1}} \\left(- \\frac{m_{0} m_{1}}{r_{01}^{3}} \\left(- x_{02} + x_{12}\\right) - \\frac{m_{1} m_{2}}{r_{12}^{3}} \\left(x_{12} - x_{22}\\right)\\right)\\\\\\frac{1}{m_{2}} \\left(- \\frac{m_{0} m_{2}}{r_{02}^{3}} \\left(- x_{00} + x_{20}\\right) - \\frac{m_{1} m_{2}}{r_{12}^{3}} \\left(- x_{10} + x_{20}\\right)\\right)\\\\\\frac{1}{m_{2}} \\left(- \\frac{m_{0} m_{2}}{r_{02}^{3}} \\left(- x_{01} + x_{21}\\right) - \\frac{m_{1} m_{2}}{r_{12}^{3}} \\left(- x_{11} + x_{21}\\right)\\right)\\\\\\frac{1}{m_{2}} \\left(- \\frac{m_{0} m_{2}}{r_{02}^{3}} \\left(- x_{02} + x_{22}\\right) - \\frac{m_{1} m_{2}}{r_{12}^{3}} \\left(- x_{12} + x_{22}\\right)\\right)\\end{matrix}\\right]$$"
      ],
      "text/plain": [
       "⎡   m₀⋅m₁⋅(x₀₀ - x₁₀)   m₀⋅m₂⋅(x₀₀ - x₂₀) ⎤\n",
       "⎢ - ───────────────── - ───────────────── ⎥\n",
       "⎢             3                   3       ⎥\n",
       "⎢          r₀₁                 r₀₂        ⎥\n",
       "⎢ ─────────────────────────────────────── ⎥\n",
       "⎢                    m₀                   ⎥\n",
       "⎢                                         ⎥\n",
       "⎢   m₀⋅m₁⋅(x₀₁ - x₁₁)   m₀⋅m₂⋅(x₀₁ - x₂₁) ⎥\n",
       "⎢ - ───────────────── - ───────────────── ⎥\n",
       "⎢             3                   3       ⎥\n",
       "⎢          r₀₁                 r₀₂        ⎥\n",
       "⎢ ─────────────────────────────────────── ⎥\n",
       "⎢                    m₀                   ⎥\n",
       "⎢                                         ⎥\n",
       "⎢   m₀⋅m₁⋅(x₀₂ - x₁₂)   m₀⋅m₂⋅(x₀₂ - x₂₂) ⎥\n",
       "⎢ - ───────────────── - ───────────────── ⎥\n",
       "⎢             3                   3       ⎥\n",
       "⎢          r₀₁                 r₀₂        ⎥\n",
       "⎢ ─────────────────────────────────────── ⎥\n",
       "⎢                    m₀                   ⎥\n",
       "⎢                                         ⎥\n",
       "⎢  m₀⋅m₁⋅(-x₀₀ + x₁₀)   m₁⋅m₂⋅(x₁₀ - x₂₀) ⎥\n",
       "⎢- ────────────────── - ───────────────── ⎥\n",
       "⎢            3                    3       ⎥\n",
       "⎢         r₀₁                  r₁₂        ⎥\n",
       "⎢──────────────────────────────────────── ⎥\n",
       "⎢                   m₁                    ⎥\n",
       "⎢                                         ⎥\n",
       "⎢  m₀⋅m₁⋅(-x₀₁ + x₁₁)   m₁⋅m₂⋅(x₁₁ - x₂₁) ⎥\n",
       "⎢- ────────────────── - ───────────────── ⎥\n",
       "⎢            3                    3       ⎥\n",
       "⎢         r₀₁                  r₁₂        ⎥\n",
       "⎢──────────────────────────────────────── ⎥\n",
       "⎢                   m₁                    ⎥\n",
       "⎢                                         ⎥\n",
       "⎢  m₀⋅m₁⋅(-x₀₂ + x₁₂)   m₁⋅m₂⋅(x₁₂ - x₂₂) ⎥\n",
       "⎢- ────────────────── - ───────────────── ⎥\n",
       "⎢            3                    3       ⎥\n",
       "⎢         r₀₁                  r₁₂        ⎥\n",
       "⎢──────────────────────────────────────── ⎥\n",
       "⎢                   m₁                    ⎥\n",
       "⎢                                         ⎥\n",
       "⎢  m₀⋅m₂⋅(-x₀₀ + x₂₀)   m₁⋅m₂⋅(-x₁₀ + x₂₀)⎥\n",
       "⎢- ────────────────── - ──────────────────⎥\n",
       "⎢            3                    3       ⎥\n",
       "⎢         r₀₂                  r₁₂        ⎥\n",
       "⎢─────────────────────────────────────────⎥\n",
       "⎢                    m₂                   ⎥\n",
       "⎢                                         ⎥\n",
       "⎢  m₀⋅m₂⋅(-x₀₁ + x₂₁)   m₁⋅m₂⋅(-x₁₁ + x₂₁)⎥\n",
       "⎢- ────────────────── - ──────────────────⎥\n",
       "⎢            3                    3       ⎥\n",
       "⎢         r₀₂                  r₁₂        ⎥\n",
       "⎢─────────────────────────────────────────⎥\n",
       "⎢                    m₂                   ⎥\n",
       "⎢                                         ⎥\n",
       "⎢  m₀⋅m₂⋅(-x₀₂ + x₂₂)   m₁⋅m₂⋅(-x₁₂ + x₂₂)⎥\n",
       "⎢- ────────────────── - ──────────────────⎥\n",
       "⎢            3                    3       ⎥\n",
       "⎢         r₀₂                  r₁₂        ⎥\n",
       "⎢─────────────────────────────────────────⎥\n",
       "⎣                    m₂                   ⎦"
      ]
     },
     "execution_count": 41,
     "metadata": {},
     "output_type": "execute_result"
    }
   ],
   "source": [
    "rhs_n = Matrix(Mni)*Matrix(bn)\n",
    "rhs_n"
   ]
  },
  {
   "cell_type": "markdown",
   "metadata": {
    "collapsed": true
   },
   "source": [
    "## Time dilation\n",
    "\n",
    "Pulse phases are measured in pulsar proper time, which is related to dynamical time (the time variable of the ODE) via time dilation. This includes both special and general relativistic dilation. These can be evaluated by computing a time dilation factor $\\gamma$, which will be a function of the positions, masses, and velocities. This factor is the rate at which pulsar time runs, and therefore the pulsar time must be computed as the integral of (the inverse of) this factor. It may improve accuracy to integrate the difference between pulsar proper time and dynamical time. In any case, if we want to compute derivatives with respect to various parameters, we will need to know the derivatives of this quantity as well."
   ]
  },
  {
   "cell_type": "markdown",
   "metadata": {
    "collapsed": true
   },
   "source": [
    "## Derivatives with respect to parameters\n",
    "\n",
    "It is possible to live with the ability to integrate the ODE for any given set of initial conditions and parameters. But because we are pushing the limits of numerical accuracy, the solution's dependence on these parameters will develop a \"roughness\" both due to round-off error and due to the numerous branches involved in the calculation. This impedes numerical minimization algorithms and complicates the fitting process. The roughness could be reduced by using fixed step sizes in the numerical solution, but the root-finding process would still introduce such jumps. On the other hand, the most severe impact of this roughness is on numerical differentiation, and we have the tools to hand to compute analytical derivatives. Let's see how hard that will be."
   ]
  },
  {
   "cell_type": "markdown",
   "metadata": {},
   "source": [
    "We can describe our situation thus:\n",
    "\n",
    "We seek to solve an ordinary differential equation\n",
    "$$\n",
    "\\dot Y = R(Y,P)\n",
    "$$\n",
    "obtaining a smooth function $Y(t,P)$, where $P$ is a vector of parameters, and where $Y(0) = K(P)$ is specified. Further, we have an additional function $D(Y)$, and we are interested in the values of $Y$ at times $t_i$ where\n",
    "$$\n",
    "t_i + D(Y(t_i), P) = T_i\n",
    "$$\n",
    "for a list of values $T_i$. For each $t_i$ we compute $\\tau_i = T(Y(t_i))$, the pulsar proper time at each observation. We then use a linear model, involving spin frequency, spin frequency derivative, telescope-specific jumps, and possibly frequency-dependent shifts to obtain a pulse phase $\\phi_i$ for each observation. We compare these phases to specific integer turn numbers $n_i$ to obtain a residual $r_i = \\phi_i - n_i$. We also have an uncertainty $\\u_i$, so that the quantity we are trying to minimize is\n",
    "$$\n",
    "E = \\sum_i \\frac{\\phi_i-n_i}{u_i}.\n",
    "$$\n",
    "(Note that for Bayesian calculations there is an additional term due to the analytical marginalization over the linear parameters.) Our goal is therefore to compute $\\partial E/\\partial P_i$, or $D_P E$ for each input parameter in the parameter vector $P$. Or, for understanding or use in a Levenberg-Marquardt method, we might want derivatives of all the residuals with respect to all the parameters.\n",
    "\n",
    "Let us walk the derivatives through. At each stage we will have a matrix, the derivatives of each element of a vector with respect to a vector of parameters (ultimately $P$). The derivatives of $D_P Y(0) = (JK)(P)$, where $J$ is the Jacobian matrix of partial derivatives of the function $K$. The derivatives of $Y(t_i)$ with respect to $P$ enter in through both the parameters and the initial conditions.\n",
    "\n",
    "The short version: from the ODE solver we will need the derivatives of $Y(t_i)$ with respect to $P$, and the derivative of $Y(t_i)$ with respect to $t_i$. The former we can obtain by integrating the Jacobian of $R$, and the latter comes out of the ODE solver, either directly from the dense output or by calling $R$."
   ]
  },
  {
   "cell_type": "code",
   "execution_count": null,
   "metadata": {
    "collapsed": true
   },
   "outputs": [],
   "source": []
  }
 ],
 "metadata": {
  "kernelspec": {
   "display_name": "Python 2",
   "language": "python",
   "name": "python2"
  },
  "language_info": {
   "codemirror_mode": {
    "name": "ipython",
    "version": 2
   },
   "file_extension": ".py",
   "mimetype": "text/x-python",
   "name": "python",
   "nbconvert_exporter": "python",
   "pygments_lexer": "ipython2",
   "version": "2.7.3"
  }
 },
 "nbformat": 4,
 "nbformat_minor": 0
}
