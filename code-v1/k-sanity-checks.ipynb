{
 "cells": [
  {
   "cell_type": "code",
   "execution_count": 1,
   "metadata": {},
   "outputs": [
    {
     "name": "stderr",
     "output_type": "stream",
     "text": [
      "DEBUG:root:test\n"
     ]
    }
   ],
   "source": [
    "%load_ext autoreload\n",
    "\n",
    "%autoreload 2\n",
    "\n",
    "from glob import glob\n",
    "from os.path import join\n",
    "import os\n",
    "import pickle\n",
    "\n",
    "import scipy.linalg\n",
    "import matplotlib\n",
    "matplotlib.rcParams[\"figure.dpi\"] = 144\n",
    "matplotlib.rcParams[\"savefig.dpi\"] = 144\n",
    "import matplotlib.pyplot as plt\n",
    "import numpy as np\n",
    "\n",
    "from astropy.table import Table, Column\n",
    "import astropy.units as u\n",
    "\n",
    "import emcee\n",
    "\n",
    "import kepler\n",
    "import threebody\n",
    "\n",
    "import minuit_wrap\n",
    "%matplotlib inline\n",
    "\n",
    "import logging\n",
    "logger = logging.getLogger()\n",
    "logger.setLevel(logging.DEBUG)\n",
    "#logger.setLevel(logging.INFO)\n",
    "logging.debug(\"test\")"
   ]
  },
  {
   "cell_type": "code",
   "execution_count": 14,
   "metadata": {},
   "outputs": [
    {
     "name": "stderr",
     "output_type": "stream",
     "text": [
      "DEBUG:threebody:Fitting DM\n",
      "DEBUG:threebody:base telescope AO_1400 from list of ['AO_1400', 'AO_430', 'GBT_1400', 'WSRT_1400', 'WSRT_350']\n"
     ]
    }
   ],
   "source": [
    "params = dict(files=\"tuned_mueller_pulses_selected\",\n",
    "             tzrmjd_middle='auto',\n",
    "             parfile=\"0337_tempo2_px_optical.par\",\n",
    "             fit_pos=True,\n",
    "             fit_pm=True,\n",
    "             fit_px=True,\n",
    "             efac=1,\n",
    "             t2_astrometry=True,\n",
    "             kopeikin=False,\n",
    "             ppn_mode='GR',\n",
    "             linear_jumps=True,\n",
    "             linear_dm=True,\n",
    "             toa_mode=\"pipeline\")\n",
    "F = threebody.Fitter(**params)"
   ]
  },
  {
   "cell_type": "code",
   "execution_count": 15,
   "metadata": {
    "scrolled": false
   },
   "outputs": [
    {
     "name": "stderr",
     "output_type": "stream",
     "text": [
      "DEBUG:threebody:Started residuals for {'f0': 365.95336876828094, 'shapiro': True, 'pm_x': -4.7253571656398304e-11, 'pm_y': 5.176655321908803e-11, 'j_NCY1400': 0.000675, 'asini_i': 1.2175268328187250986, 'eps2_i': -9.1322420630293142815e-05, 'delta_lan': -3.0460572022280719438e-05, 'eps2_o': -0.003462206702875036605, 'q_i': 0.13726885399693244624, 'general': True, 'j_GBT350': 1.8510494219682503864e-05, 'dgamma': 1.175749501990592583e-06, 'tasc_i': 0.40771687041875256721, 'ppn_mode': 'GR', 'd_RAJ': -3.2388334094615887816e-08, 'acosi_i': 1.4922596784609649978, 'acosi_o': 91.530732348852743868, 'special': True, 'tasc_o': 313.93576888835902119, 'eps1_o': 0.035186244412656308993, 'eps1_i': 0.00068692611243786728556, 'tol': 1e-16, 'd_PMRA': 9.885280864586482e-11, 'j_WSRT350': -3.6586764591042250491e-05, 'd_PMDEC': -1.9580532733266362e-10, 'lan': 22.854202311569486596, 'j_GBT820': 6.7999885696179984064e-05, 'use_quad': False, 'd_PX': -0.92477760701603597092, 'matrix_mode': 0, 'j_AO327': 6.5301884179095320452e-05, 'd_DECJ': 1.6847336940935975218e-07, 'delta': -3.1672615080429307528e-06, 'asini_o': 74.672695837636610457, 'j_AO1440': 4.8930549945746121983e-05, 'j_AO1350': 5.4169010371405938449e-05, 'dbeta': -0.00041698493776006720714, 'pb_o': 327.25749258285365256, 'pb_i': 1.6293969558060391417, 'j_GBT1500': 6.2334158805205982467e-05}\n",
      "DEBUG:threebody:Started compute_orbit for {'f0': 365.95336876828094, 'shapiro': True, 'pm_x': -4.7253571656398304e-11, 'pm_y': 5.176655321908803e-11, 'j_NCY1400': 0.000675, 'asini_i': 1.2175268328187250986, 'eps2_i': -9.1322420630293142815e-05, 'delta_lan': -3.0460572022280719438e-05, 'eps2_o': -0.003462206702875036605, 'q_i': 0.13726885399693244624, 'general': True, 'j_GBT350': 1.8510494219682503864e-05, 'dgamma': 1.175749501990592583e-06, 'tasc_i': 0.40771687041875256721, 'ppn_mode': 'GR', 'd_RAJ': -3.2388334094615887816e-08, 'acosi_i': 1.4922596784609649978, 'acosi_o': 91.530732348852743868, 'special': True, 'tasc_o': 313.93576888835902119, 'eps1_o': 0.035186244412656308993, 'eps1_i': 0.00068692611243786728556, 'tol': 1e-16, 'd_PMRA': 9.885280864586482e-11, 'j_WSRT350': -3.6586764591042250491e-05, 'd_PMDEC': -1.9580532733266362e-10, 'lan': 22.854202311569486596, 'j_GBT820': 6.7999885696179984064e-05, 'use_quad': False, 'd_PX': -0.92477760701603597092, 'matrix_mode': 0, 'j_AO327': 6.5301884179095320452e-05, 'd_DECJ': 1.6847336940935975218e-07, 'delta': -3.1672615080429307528e-06, 'asini_o': 74.672695837636610457, 'j_AO1440': 4.8930549945746121983e-05, 'j_AO1350': 5.4169010371405938449e-05, 'dbeta': -0.00041698493776006720714, 'pb_o': 327.25749258285365256, 'pb_i': 1.6293969558060391417, 'j_GBT1500': 6.2334158805205982467e-05}\n",
      "DEBUG:threebody:compute_orbit cache miss, running calculation\n",
      "DEBUG:threebody:Calling compute_orbit\n",
      "DEBUG:threebody:Running compute_orbit with parameter_dict {'f0': 365.95336876828094, 'shapiro': True, 'pm_x': -4.7253571656398304e-11, 'pm_y': 5.176655321908803e-11, 'j_NCY1400': 0.000675, 'asini_i': 1.2175268328187250986, 'eps2_i': -9.1322420630293142815e-05, 'delta_lan': -3.0460572022280719438e-05, 'eps2_o': -0.003462206702875036605, 'q_i': 0.13726885399693244624, 'general': True, 'j_GBT350': 1.8510494219682503864e-05, 'dgamma': 1.175749501990592583e-06, 'tasc_i': 0.40771687041875256721, 'ppn_mode': 'GR', 'd_RAJ': -3.2388334094615887816e-08, 'acosi_i': 1.4922596784609649978, 'acosi_o': 91.530732348852743868, 'special': True, 'tasc_o': 313.93576888835902119, 'eps1_o': 0.035186244412656308993, 'eps1_i': 0.00068692611243786728556, 'tol': 1e-16, 'd_PMRA': 9.885280864586482e-11, 'j_WSRT350': -3.6586764591042250491e-05, 'd_PMDEC': -1.9580532733266362e-10, 'lan': 22.854202311569486596, 'j_GBT820': 6.7999885696179984064e-05, 'use_quad': False, 'd_PX': -0.92477760701603597092, 'matrix_mode': 0, 'j_AO327': 6.5301884179095320452e-05, 'd_DECJ': 1.6847336940935975218e-07, 'delta': -3.1672615080429307528e-06, 'asini_o': 74.672695837636610457, 'j_AO1440': 4.8930549945746121983e-05, 'j_AO1350': 5.4169010371405938449e-05, 'dbeta': -0.00041698493776006720714, 'pb_o': 327.25749258285365256, 'pb_i': 1.6293969558060391417, 'j_GBT1500': 6.2334158805205982467e-05}\n",
      "DEBUG:threebody:PPN mode is GR\n",
      "DEBUG:threebody:Running compute_orbit from time 36.6989459147 to 1967.82251765 with tol 1e-16\n",
      "DEBUG:threebody:Constructing initial conditions\n",
      "DEBUG:threebody:setting up RHS\n",
      "DEBUG:threebody:Constructing ODE integrator\n",
      "DEBUG:threebody:Computing TOA 0 at t_bb=36.6989\n",
      "DEBUG:threebody:Extracting results\n",
      "DEBUG:threebody:Computing TOA 1 at t_bb=46.8416\n",
      "DEBUG:threebody:Extracting results\n",
      "DEBUG:threebody:Computing TOA 3 at t_bb=47.7225\n",
      "DEBUG:threebody:Extracting results\n",
      "DEBUG:threebody:Computing TOA 7 at t_bb=47.7225\n",
      "DEBUG:threebody:Extracting results\n",
      "DEBUG:threebody:Computing TOA 15 at t_bb=48.7189\n",
      "DEBUG:threebody:Extracting results\n",
      "DEBUG:threebody:Computing TOA 31 at t_bb=57.7207\n",
      "DEBUG:threebody:Extracting results\n",
      "DEBUG:threebody:Computing TOA 63 at t_bb=67.6568\n",
      "DEBUG:threebody:Extracting results\n",
      "DEBUG:threebody:Computing TOA 127 at t_bb=69.8795\n",
      "DEBUG:threebody:Extracting results\n",
      "DEBUG:threebody:Computing TOA 255 at t_bb=75.6883\n",
      "DEBUG:threebody:Extracting results\n",
      "DEBUG:threebody:Computing TOA 511 at t_bb=78.8405\n",
      "DEBUG:threebody:Extracting results\n",
      "DEBUG:threebody:Computing TOA 1023 at t_bb=92.8037\n",
      "DEBUG:threebody:Extracting results\n",
      "DEBUG:threebody:Computing TOA 2047 at t_bb=116.992\n",
      "DEBUG:threebody:Extracting results\n",
      "DEBUG:threebody:Computing TOA 4095 at t_bb=167.625\n",
      "DEBUG:threebody:Extracting results\n",
      "DEBUG:threebody:Computing TOA 8191 at t_bb=316.356\n",
      "DEBUG:threebody:Extracting results\n",
      "DEBUG:threebody:Computing TOA 16383 at t_bb=1316.52\n",
      "DEBUG:threebody:Extracting results\n",
      "DEBUG:threebody:Done integration\n",
      "DEBUG:threebody:Back from compute_orbit after time 35.4390540123 (1616975 evaluations)\n",
      "DEBUG:threebody:Setting up linear least-squares fitting\n",
      "DEBUG:threebody:Residual chi-squared: 157545.975786\n",
      "DEBUG:threebody:Residual chi-squared: 157289.030186\n",
      "DEBUG:threebody:Residual chi-squared: 157289.034153\n",
      "DEBUG:threebody:Done linear least-squares\n"
     ]
    },
    {
     "data": {
      "text/plain": [
       "[<matplotlib.lines.Line2D at 0x1206c650>]"
      ]
     },
     "execution_count": 15,
     "metadata": {},
     "output_type": "execute_result"
    },
    {
     "data": {
      "image/png": "[encoded data removed]",
      "text/plain": [
       "<matplotlib.figure.Figure at 0x93047d0>"
      ]
     },
     "metadata": {},
     "output_type": "display_data"
    }
   ],
   "source": [
    "res = F.residuals(F.best_parameters)\n",
    "plt.plot(F.mjds, res, \".\")"
   ]
  },
  {
   "cell_type": "code",
   "execution_count": 16,
   "metadata": {},
   "outputs": [
    {
     "name": "stderr",
     "output_type": "stream",
     "text": [
      "DEBUG:threebody:Started residuals for {'f0': 365.95336876828094, 'shapiro': True, 'pm_x': -4.7253571656398304e-11, 'pm_y': 5.176655321908803e-11, 'j_NCY1400': 0.000675, 'asini_i': 1.2175268328187250986, 'eps2_i': -9.1322420630293142815e-05, 'delta_lan': -3.0460572022280719438e-05, 'eps2_o': -0.003462206702875036605, 'q_i': 0.13726885399693244624, 'general': True, 'j_GBT350': 1.8510494219682503864e-05, 'dgamma': 1.175749501990592583e-06, 'tasc_i': 0.40771687041875256721, 'ppn_mode': 'GR', 'd_RAJ': -3.2388334094615887816e-08, 'acosi_i': 1.4922596784609649978, 'acosi_o': 91.530732348852743868, 'special': True, 'tasc_o': 313.93576888835902119, 'eps1_o': 0.035186244412656308993, 'eps1_i': 0.00068692611243786728556, 'tol': 1e-16, 'd_PMRA': 9.885280864586482e-11, 'j_WSRT350': -3.6586764591042250491e-05, 'd_PMDEC': -1.9580532733266362e-10, 'lan': 22.854202311569486596, 'j_GBT820': 6.7999885696179984064e-05, 'use_quad': False, 'd_PX': -0.92477760701603597092, 'matrix_mode': 0, 'j_AO327': 6.5301884179095320452e-05, 'd_DECJ': 1.6847336940935975218e-07, 'delta': -3.1672615080429307528e-06, 'asini_o': 74.672695837636610457, 'j_AO1440': 4.8930549945746121983e-05, 'j_AO1350': 5.4169010371405938449e-05, 'dbeta': -0.00041698493776006720714, 'pb_o': 327.25749258285365256, 'pb_i': 1.6293969558060391417, 'j_GBT1500': 6.2334158805205982467e-05}\n",
      "DEBUG:threebody:Started compute_orbit for {'f0': 365.95336876828094, 'shapiro': True, 'pm_x': -4.7253571656398304e-11, 'pm_y': 5.176655321908803e-11, 'j_NCY1400': 0.000675, 'asini_i': 1.2175268328187250986, 'eps2_i': -9.1322420630293142815e-05, 'delta_lan': -3.0460572022280719438e-05, 'eps2_o': -0.003462206702875036605, 'q_i': 0.13726885399693244624, 'general': True, 'j_GBT350': 1.8510494219682503864e-05, 'dgamma': 1.175749501990592583e-06, 'tasc_i': 0.40771687041875256721, 'ppn_mode': 'GR', 'd_RAJ': -3.2388334094615887816e-08, 'acosi_i': 1.4922596784609649978, 'acosi_o': 91.530732348852743868, 'special': True, 'tasc_o': 313.93576888835902119, 'eps1_o': 0.035186244412656308993, 'eps1_i': 0.00068692611243786728556, 'tol': 1e-16, 'd_PMRA': 9.885280864586482e-11, 'j_WSRT350': -3.6586764591042250491e-05, 'd_PMDEC': -1.9580532733266362e-10, 'lan': 22.854202311569486596, 'j_GBT820': 6.7999885696179984064e-05, 'use_quad': False, 'd_PX': -0.92477760701603597092, 'matrix_mode': 0, 'j_AO327': 6.5301884179095320452e-05, 'd_DECJ': 1.6847336940935975218e-07, 'delta': -3.1672615080429307528e-06, 'asini_o': 74.672695837636610457, 'j_AO1440': 4.8930549945746121983e-05, 'j_AO1350': 5.4169010371405938449e-05, 'dbeta': -0.00041698493776006720714, 'pb_o': 327.25749258285365256, 'pb_i': 1.6293969558060391417, 'j_GBT1500': 6.2334158805205982467e-05}\n",
      "DEBUG:threebody:compute_orbit cache hit\n",
      "DEBUG:threebody:Setting up linear least-squares fitting\n",
      "DEBUG:threebody:Residual chi-squared: 157545.975786\n",
      "DEBUG:threebody:Residual chi-squared: 157289.030186\n",
      "DEBUG:threebody:Residual chi-squared: 157289.034153\n",
      "DEBUG:threebody:Done linear least-squares\n"
     ]
    },
    {
     "data": {
      "text/plain": [
       "157289.02718996174298"
      ]
     },
     "execution_count": 16,
     "metadata": {},
     "output_type": "execute_result"
    }
   ],
   "source": [
    "F.goodness_of_fit(F.best_parameters)"
   ]
  },
  {
   "cell_type": "code",
   "execution_count": 17,
   "metadata": {
    "scrolled": false
   },
   "outputs": [
    {
     "name": "stderr",
     "output_type": "stream",
     "text": [
      "WARNING:threebody:best_parameters not found on disk (75 available)\n",
      "DEBUG:threebody:Fitting DM\n",
      "DEBUG:threebody:base telescope AO_1400 from list of ['AO_1400', 'AO_430', 'GBT_1400', 'WSRT_1400', 'WSRT_350']\n",
      "DEBUG:threebody:Started residuals for {'f0': 365.95336876828094, 'shapiro': True, 'pm_x': -4.7253571656398304e-11, 'pm_y': 5.176655321908803e-11, 'j_NCY1400': 0.000675, 'asini_i': 1.2175268328187250986, 'eps2_i': -9.1322420630293142815e-05, 'delta_lan': -3.0460572022280719438e-05, 'eps2_o': -0.003462206702875036605, 'q_i': 0.13726885399693244624, 'general': True, 'j_GBT350': 1.8510494219682503864e-05, 'dgamma': 1.175749501990592583e-06, 'tasc_i': 0.40771687041875256721, 'ppn_mode': 'GR', 'd_RAJ': -3.2388334094615887816e-08, 'acosi_i': 1.4922596784609649978, 'acosi_o': 91.530732348852743868, 'special': True, 'tasc_o': 313.93576888835902119, 'eps1_o': 0.035186244412656308993, 'eps1_i': 0.00068692611243786728556, 'tol': 1e-16, 'd_PMRA': 9.885280864586482e-11, 'j_WSRT350': -3.6586764591042250491e-05, 'd_PMDEC': -1.9580532733266362e-10, 'lan': 22.854202311569486596, 'j_GBT820': 6.7999885696179984064e-05, 'use_quad': False, 'd_PX': -0.92477760701603597092, 'matrix_mode': 0, 'j_AO327': 6.5301884179095320452e-05, 'd_DECJ': 1.6847336940935975218e-07, 'delta': -3.1672615080429307528e-06, 'asini_o': 74.672695837636610457, 'j_AO1440': 4.8930549945746121983e-05, 'j_AO1350': 5.4169010371405938449e-05, 'dbeta': -0.00041698493776006720714, 'pb_o': 327.25749258285365256, 'pb_i': 1.6293969558060391417, 'j_GBT1500': 6.2334158805205982467e-05}\n",
      "DEBUG:threebody:Started compute_orbit for {'f0': 365.95336876828094, 'shapiro': True, 'pm_x': -4.7253571656398304e-11, 'pm_y': 5.176655321908803e-11, 'j_NCY1400': 0.000675, 'asini_i': 1.2175268328187250986, 'eps2_i': -9.1322420630293142815e-05, 'delta_lan': -3.0460572022280719438e-05, 'eps2_o': -0.003462206702875036605, 'q_i': 0.13726885399693244624, 'general': True, 'j_GBT350': 1.8510494219682503864e-05, 'dgamma': 1.175749501990592583e-06, 'tasc_i': 0.40771687041875256721, 'ppn_mode': 'GR', 'd_RAJ': -3.2388334094615887816e-08, 'acosi_i': 1.4922596784609649978, 'acosi_o': 91.530732348852743868, 'special': True, 'tasc_o': 313.93576888835902119, 'eps1_o': 0.035186244412656308993, 'eps1_i': 0.00068692611243786728556, 'tol': 1e-16, 'd_PMRA': 9.885280864586482e-11, 'j_WSRT350': -3.6586764591042250491e-05, 'd_PMDEC': -1.9580532733266362e-10, 'lan': 22.854202311569486596, 'j_GBT820': 6.7999885696179984064e-05, 'use_quad': False, 'd_PX': -0.92477760701603597092, 'matrix_mode': 0, 'j_AO327': 6.5301884179095320452e-05, 'd_DECJ': 1.6847336940935975218e-07, 'delta': -3.1672615080429307528e-06, 'asini_o': 74.672695837636610457, 'j_AO1440': 4.8930549945746121983e-05, 'j_AO1350': 5.4169010371405938449e-05, 'dbeta': -0.00041698493776006720714, 'pb_o': 327.25749258285365256, 'pb_i': 1.6293969558060391417, 'j_GBT1500': 6.2334158805205982467e-05}\n",
      "DEBUG:threebody:compute_orbit cache hit\n",
      "DEBUG:threebody:Setting up linear least-squares fitting\n",
      "DEBUG:threebody:Residual chi-squared: 157545.975786\n",
      "DEBUG:threebody:Residual chi-squared: 157289.030186\n",
      "DEBUG:threebody:Residual chi-squared: 157289.034153\n",
      "DEBUG:threebody:Done linear least-squares\n",
      "DEBUG:threebody:Started residuals for {'f0': 365.95336876828094, 'shapiro': True, 'pm_x': -4.7253571656398304e-11, 'pm_y': 5.176655321908803e-11, 'j_NCY1400': 0.000675, 'asini_i': 1.2175268328187250986, 'eps2_i': -9.1322420630293142815e-05, 'delta_lan': -3.0460572022280719438e-05, 'eps2_o': -0.003462206702875036605, 'q_i': 0.13726885399693244624, 'general': True, 'j_GBT350': 1.8510494219682503864e-05, 'tasc_i': 0.40771687041875256721, 'dgamma': 0, 'ppn_mode': 'GR', 'dbeta': 0, 'acosi_i': 1.4922596784609649978, 'acosi_o': 91.530732348852743868, 'special': True, 'tasc_o': 313.93576888835902119, 'eps1_o': 0.035186244412656308993, 'eps1_i': 0.00068692611243786728556, 'tol': 1e-16, 'd_PMRA': 9.885280864586482e-11, 'j_WSRT350': -3.6586764591042250491e-05, 'd_PMDEC': -1.9580532733266362e-10, 'lan': 22.854202311569486596, 'j_GBT820': 6.7999885696179984064e-05, 'use_quad': False, 'd_PX': -0.92477760701603597092, 'matrix_mode': 0, 'j_AO327': 6.5301884179095320452e-05, 'd_DECJ': 1.6847336940935975218e-07, 'delta': 0, 'asini_o': 74.672695837636610457, 'j_AO1440': 4.8930549945746121983e-05, 'j_AO1350': 5.4169010371405938449e-05, 'd_RAJ': -3.2388334094615887816e-08, 'pb_o': 327.25749258285365256, 'pb_i': 1.6293969558060391417, 'j_GBT1500': 6.2334158805205982467e-05}\n",
      "DEBUG:threebody:Started compute_orbit for {'f0': 365.95336876828094, 'shapiro': True, 'pm_x': -4.7253571656398304e-11, 'pm_y': 5.176655321908803e-11, 'j_NCY1400': 0.000675, 'asini_i': 1.2175268328187250986, 'eps2_i': -9.1322420630293142815e-05, 'delta_lan': -3.0460572022280719438e-05, 'eps2_o': -0.003462206702875036605, 'q_i': 0.13726885399693244624, 'general': True, 'j_GBT350': 1.8510494219682503864e-05, 'tasc_i': 0.40771687041875256721, 'dgamma': 0, 'ppn_mode': 'GR', 'dbeta': 0, 'acosi_i': 1.4922596784609649978, 'acosi_o': 91.530732348852743868, 'special': True, 'tasc_o': 313.93576888835902119, 'eps1_o': 0.035186244412656308993, 'eps1_i': 0.00068692611243786728556, 'tol': 1e-16, 'd_PMRA': 9.885280864586482e-11, 'j_WSRT350': -3.6586764591042250491e-05, 'd_PMDEC': -1.9580532733266362e-10, 'lan': 22.854202311569486596, 'j_GBT820': 6.7999885696179984064e-05, 'use_quad': False, 'd_PX': -0.92477760701603597092, 'matrix_mode': 0, 'j_AO327': 6.5301884179095320452e-05, 'd_DECJ': 1.6847336940935975218e-07, 'delta': 0, 'asini_o': 74.672695837636610457, 'j_AO1440': 4.8930549945746121983e-05, 'j_AO1350': 5.4169010371405938449e-05, 'd_RAJ': -3.2388334094615887816e-08, 'pb_o': 327.25749258285365256, 'pb_i': 1.6293969558060391417, 'j_GBT1500': 6.2334158805205982467e-05}\n",
      "DEBUG:threebody:compute_orbit cache miss, running calculation\n",
      "DEBUG:threebody:Calling compute_orbit\n",
      "DEBUG:threebody:Running compute_orbit with parameter_dict {'f0': 365.95336876828094, 'shapiro': True, 'pm_x': -4.7253571656398304e-11, 'pm_y': 5.176655321908803e-11, 'j_NCY1400': 0.000675, 'asini_i': 1.2175268328187250986, 'eps2_i': -9.1322420630293142815e-05, 'delta_lan': -3.0460572022280719438e-05, 'eps2_o': -0.003462206702875036605, 'q_i': 0.13726885399693244624, 'general': True, 'j_GBT350': 1.8510494219682503864e-05, 'tasc_i': 0.40771687041875256721, 'dgamma': 0, 'ppn_mode': 'GR', 'dbeta': 0, 'acosi_i': 1.4922596784609649978, 'acosi_o': 91.530732348852743868, 'special': True, 'tasc_o': 313.93576888835902119, 'eps1_o': 0.035186244412656308993, 'eps1_i': 0.00068692611243786728556, 'tol': 1e-16, 'd_PMRA': 9.885280864586482e-11, 'j_WSRT350': -3.6586764591042250491e-05, 'd_PMDEC': -1.9580532733266362e-10, 'lan': 22.854202311569486596, 'j_GBT820': 6.7999885696179984064e-05, 'use_quad': False, 'd_PX': -0.92477760701603597092, 'matrix_mode': 0, 'j_AO327': 6.5301884179095320452e-05, 'd_DECJ': 1.6847336940935975218e-07, 'delta': 0, 'asini_o': 74.672695837636610457, 'j_AO1440': 4.8930549945746121983e-05, 'j_AO1350': 5.4169010371405938449e-05, 'd_RAJ': -3.2388334094615887816e-08, 'pb_o': 327.25749258285365256, 'pb_i': 1.6293969558060391417, 'j_GBT1500': 6.2334158805205982467e-05}\n",
      "DEBUG:threebody:PPN mode is GR\n",
      "DEBUG:threebody:Running compute_orbit from time 36.6989459147 to 1967.82251765 with tol 1e-16\n",
      "DEBUG:threebody:Constructing initial conditions\n",
      "DEBUG:threebody:setting up RHS\n",
      "DEBUG:threebody:Constructing ODE integrator\n",
      "DEBUG:threebody:Computing TOA 0 at t_bb=36.6989\n"
     ]
    },
    {
     "name": "stdout",
     "output_type": "stream",
     "text": [
      "157289.02719\n"
     ]
    },
    {
     "name": "stderr",
     "output_type": "stream",
     "text": [
      "DEBUG:threebody:Extracting results\n",
      "DEBUG:threebody:Computing TOA 1 at t_bb=46.8416\n",
      "DEBUG:threebody:Extracting results\n",
      "DEBUG:threebody:Computing TOA 3 at t_bb=47.7225\n",
      "DEBUG:threebody:Extracting results\n",
      "DEBUG:threebody:Computing TOA 7 at t_bb=47.7225\n",
      "DEBUG:threebody:Extracting results\n",
      "DEBUG:threebody:Computing TOA 15 at t_bb=48.7189\n",
      "DEBUG:threebody:Extracting results\n",
      "DEBUG:threebody:Computing TOA 31 at t_bb=57.7207\n",
      "DEBUG:threebody:Extracting results\n",
      "DEBUG:threebody:Computing TOA 63 at t_bb=67.6568\n",
      "DEBUG:threebody:Extracting results\n",
      "DEBUG:threebody:Computing TOA 127 at t_bb=69.8795\n",
      "DEBUG:threebody:Extracting results\n",
      "DEBUG:threebody:Computing TOA 255 at t_bb=75.6883\n",
      "DEBUG:threebody:Extracting results\n",
      "DEBUG:threebody:Computing TOA 511 at t_bb=78.8405\n",
      "DEBUG:threebody:Extracting results\n",
      "DEBUG:threebody:Computing TOA 1023 at t_bb=92.8037\n",
      "DEBUG:threebody:Extracting results\n",
      "DEBUG:threebody:Computing TOA 2047 at t_bb=116.992\n",
      "DEBUG:threebody:Extracting results\n",
      "DEBUG:threebody:Computing TOA 4095 at t_bb=167.625\n",
      "DEBUG:threebody:Extracting results\n",
      "DEBUG:threebody:Computing TOA 8191 at t_bb=316.356\n",
      "DEBUG:threebody:Extracting results\n",
      "DEBUG:threebody:Computing TOA 16383 at t_bb=1316.52\n",
      "DEBUG:threebody:Extracting results\n",
      "DEBUG:threebody:Done integration\n",
      "DEBUG:threebody:Back from compute_orbit after time 38.5095100403 (1616975 evaluations)\n",
      "DEBUG:threebody:Setting up linear least-squares fitting\n",
      "DEBUG:threebody:Residual chi-squared: 157545.975786\n",
      "DEBUG:threebody:Residual chi-squared: 157289.030186\n",
      "DEBUG:threebody:Residual chi-squared: 157289.034153\n",
      "DEBUG:threebody:Done linear least-squares\n"
     ]
    },
    {
     "name": "stdout",
     "output_type": "stream",
     "text": [
      "157289.02719\n"
     ]
    }
   ],
   "source": [
    "params2 = params.copy()\n",
    "params2[\"ppn_mode\"] = \"heavysimple\"\n",
    "F2 = threebody.Fitter(**params2)\n",
    "F2.best_parameters = F.best_parameters.copy()\n",
    "F2.best_parameters.update(dict(delta=0,dbeta=0,dgamma=0))\n",
    "print F.goodness_of_fit(F.best_parameters)\n",
    "print F2.goodness_of_fit(F2.best_parameters)"
   ]
  },
  {
   "cell_type": "code",
   "execution_count": null,
   "metadata": {
    "collapsed": true
   },
   "outputs": [],
   "source": []
  }
 ],
 "metadata": {
  "kernelspec": {
   "display_name": "Python 2",
   "language": "python",
   "name": "python2"
  },
  "language_info": {
   "codemirror_mode": {
    "name": "ipython",
    "version": 2
   },
   "file_extension": ".py",
   "mimetype": "text/x-python",
   "name": "python",
   "nbconvert_exporter": "python",
   "pygments_lexer": "ipython2",
   "version": "2.7.3"
  }
 },
 "nbformat": 4,
 "nbformat_minor": 2
}
