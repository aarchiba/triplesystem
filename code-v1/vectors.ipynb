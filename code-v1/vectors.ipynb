{
 "metadata": {
  "name": "vectors"
 },
 "nbformat": 3,
 "nbformat_minor": 0,
 "worksheets": [
  {
   "cells": [
    {
     "cell_type": "markdown",
     "metadata": {},
     "source": [
      "Differentiating the solutions to differential equations\n",
      "-------------------------------------------------------\n",
      "\n",
      "A kind of problem that turns up quite often in physics and elsewhere is to find the solution of an ordinary differential equation, given some initial conditions. That is, you have a system with some state $x$ represented as a vector of real numbers, you have an initial state $x_0$, and you have a rule describing the evolution of the state:\n",
      "$$\n",
      "\\frac{dx}{dt} = F(x,t)\n",
      "$$\n",
      "And your goal is to find $x(t)$. This standard problem has some standard solution techniques, some quite advanced - Runge-Kutta methods, symplectic methods, Hermite integrators. A few are implemented in scipy. But it sometimes happens that solving this problem is only part of a more complicated process, say of fitting, where it would be nice to have the derivatives of the solution with respect to the various initial conditions. It turns out this isn't too hard to work out, usually."
     ]
    },
    {
     "cell_type": "markdown",
     "metadata": {},
     "source": [
      "The trick is to think of it as the problem of transporting a vector along the solution. That is, in addition to $x$ as a system state, you also have a vecor $v$. As $x$ evolves, so does $v$. Notionally, $v$ could be evolved by giving it some infinitesimal length $\\delta$ and then evolving its tip ($x+\\delta v$) as well as its tail ($x$). Actually doing this numerically is possible, but very vulnerable to discontinuities in the differential equation solver (for example when the step size changes). But mathematically, it turns out that\n",
      "$$\n",
      "\\frac{dv}{dt} = DF(x,t)\n",
      "$$\n",
      "where $DF$ is the Jacobian of $F$, that is, the matrix whose $i,j$th entry is the derivative of the $i$th component of $F$ with respect to the $j$th component of $x$ (or vice versa, I'm not quite sure). But this means that you can simply view the problem as a much higher-dimensional problem whose state is $x$ and any partial derivative vectors $v_k$, and where the right-hand side function gives the derivatives of $x$ as $F(x,t)$ and the derivatives of $v_k$ as the matrix-vector product $DF(x,t)\\cdot v_k$. \n",
      "\n",
      "Going to high dimension in an ODE solver definitely makes the problem harder. For implicit solvers, there is a certain amount of matrix inversion going on, which can become really quite expensive. But solvers for non-stiff problems are probably not much hurt by this expansion. Importantly, the right-hand side depends only on $x$, not all the $v_k$, so the step sizes are probably not much affected by the expansion."
     ]
    },
    {
     "cell_type": "markdown",
     "metadata": {},
     "source": [
      "One final comment: if you are integrating from $t_0$ to $t_1$, you might want the derivatives with respect to $t_0$ or $t_1$, if your problem allows modifying those too. Fortunately, that's pretty easy - the derivative with respect to $t_1$ is just $F(x(t_1),t_1)$. With respect to $t_0$ it should be obtained by transporting $-F(x(t_0),t_0)$ along the curve as above. "
     ]
    },
    {
     "cell_type": "markdown",
     "metadata": {},
     "source": [
      "Let's try this on a sample problem, that of a particle moving in a Keplerian orbit. "
     ]
    },
    {
     "cell_type": "code",
     "collapsed": false,
     "input": [
      "import scipy.integrate"
     ],
     "language": "python",
     "metadata": {},
     "outputs": [],
     "prompt_number": 1
    },
    {
     "cell_type": "code",
     "collapsed": false,
     "input": [
      "def acceleration(r):\n",
      "    return -r/np.dot(r,r)**(3./2)\n",
      "def deriv(rv, t):\n",
      "    d = np.zeros_like(rv)\n",
      "    d[:3] = rv[3:]\n",
      "    d[3:] = acceleration(rv[:3])\n",
      "    return d"
     ],
     "language": "python",
     "metadata": {},
     "outputs": [],
     "prompt_number": 2
    },
    {
     "cell_type": "code",
     "collapsed": false,
     "input": [
      "eccentric_initial_rv = np.array([1,0,0,0,0.5,0])"
     ],
     "language": "python",
     "metadata": {},
     "outputs": [],
     "prompt_number": 3
    },
    {
     "cell_type": "code",
     "collapsed": false,
     "input": [
      "def plot_orbits(ts, xs):\n",
      "    plt.plot(xs[:,0], xs[:,1])\n",
      "    plt.gca().set_aspect('equal')"
     ],
     "language": "python",
     "metadata": {},
     "outputs": [],
     "prompt_number": 4
    },
    {
     "cell_type": "code",
     "collapsed": false,
     "input": [
      "ts = np.linspace(0,2*np.pi,1000)\n",
      "posns = scipy.integrate.odeint(deriv, eccentric_initial_rv, ts, atol=1e-10)"
     ],
     "language": "python",
     "metadata": {},
     "outputs": [],
     "prompt_number": 5
    },
    {
     "cell_type": "code",
     "collapsed": false,
     "input": [
      "plot_orbits(ts,posns[:,:3])"
     ],
     "language": "python",
     "metadata": {},
     "outputs": [
      {
       "output_type": "display_data",
       "png": "[encoded data removed]"
      }
     ],
     "prompt_number": 6
    },
    {
     "cell_type": "markdown",
     "metadata": {},
     "source": [
      "So far so good - a nice ellipse, just what we should see. (It's a bit more than one turn, since the orbital period is less than $2\\pi$, but no matter.) Now let's try to work out the partial derivatives. First we need the Jacobian:"
     ]
    },
    {
     "cell_type": "code",
     "collapsed": false,
     "input": [
      "def jacobian(rv, t):\n",
      "    J = np.zeros((6,6), dtype=rv.dtype)\n",
      "    r = rv[:3]\n",
      "    rl = np.dot(r,r)\n",
      "    for i in range(3):\n",
      "        J[i,3+i] = 1\n",
      "        for j in range(3):\n",
      "            J[3+i,j] = r[i]*r[j]*3*rl**(-5./2)\n",
      "            if i==j:\n",
      "                J[3+i,j] += -rl**(-3./2)\n",
      "    return J"
     ],
     "language": "python",
     "metadata": {},
     "outputs": [],
     "prompt_number": 7
    },
    {
     "cell_type": "markdown",
     "metadata": {},
     "source": [
      "Just to check, since these days my calculus is as sloppy as my arithmetic:"
     ]
    },
    {
     "cell_type": "code",
     "collapsed": false,
     "input": [
      "\n",
      "rv = np.array([1,2,3,4,5,6], dtype=float)\n",
      "delta = 1e-6\n",
      "\n",
      "n_jac = np.zeros((6,6))\n",
      "for j in range(6):\n",
      "    drv = rv.copy()\n",
      "    drv[j] += delta\n",
      "    n_jac[:,j] = (deriv(drv,0)-deriv(rv,0))/delta\n",
      "\n",
      "print n_jac[3:,:3]\n",
      "\n",
      "print\n",
      "\n",
      "print jacobian(rv, 0)[3:,:3]\n",
      "\n",
      "print\n",
      "\n",
      "print (jacobian(rv, 0) - n_jac)[3:,:3]\n",
      "    "
     ],
     "language": "python",
     "metadata": {},
     "outputs": [
      {
       "output_type": "stream",
       "stream": "stdout",
       "text": [
        "[[-0.01499935  0.00818147  0.0122722 ]\n",
        " [ 0.00818147 -0.00272715  0.02454439]\n",
        " [ 0.0122722   0.0245444   0.01772651]]\n",
        "\n",
        "[[-0.01499936  0.00818147  0.0122722 ]\n",
        " [ 0.00818147 -0.00272716  0.0245444 ]\n",
        " [ 0.0122722   0.0245444   0.01772651]]\n",
        "\n",
        "[[ -5.40835639e-09   8.75914105e-10   4.53004848e-09]\n",
        " [ -2.62822732e-09  -6.42595358e-09   9.06009696e-09]\n",
        " [ -3.94581042e-09   2.62774232e-09   1.31494680e-09]]\n"
       ]
      }
     ],
     "prompt_number": 8
    },
    {
     "cell_type": "markdown",
     "metadata": {},
     "source": [
      "Okay. Now we're going to need to convert a position and list of partial derivatives into a single vector, since that's what odeint wants for a state vector."
     ]
    },
    {
     "cell_type": "code",
     "collapsed": false,
     "input": [
      "def pack_vec(rv, vecs):\n",
      "    vecs = np.asarray(vecs)\n",
      "    packed = np.zeros(6*(vecs.shape[0]+1))\n",
      "    packed[:6] = rv\n",
      "    packed[6:] = vecs.flatten()\n",
      "    return packed\n",
      "\n",
      "def unpack_vec(packed):\n",
      "    rv = packed[:6]\n",
      "    vecs = packed[6:].reshape(-1,6)\n",
      "    return rv, vecs\n"
     ],
     "language": "python",
     "metadata": {},
     "outputs": [],
     "prompt_number": 9
    },
    {
     "cell_type": "code",
     "collapsed": false,
     "input": [
      "p = pack_vec([0,0,0,0,0,0],[[1,0,0,0,0,0],[1,0,0,0,0,0]])\n",
      "print p\n",
      "print unpack_vec(p)"
     ],
     "language": "python",
     "metadata": {},
     "outputs": [
      {
       "output_type": "stream",
       "stream": "stdout",
       "text": [
        "[ 0.  0.  0.  0.  0.  0.  1.  0.  0.  0.  0.  0.  1.  0.  0.  0.  0.  0.]\n",
        "(array([ 0.,  0.,  0.,  0.,  0.,  0.]), array([[ 1.,  0.,  0.,  0.,  0.,  0.],\n",
        "       [ 1.,  0.,  0.,  0.,  0.,  0.]]))\n"
       ]
      }
     ],
     "prompt_number": 10
    },
    {
     "cell_type": "markdown",
     "metadata": {},
     "source": [
      "Here's where the magic happens: the position and velocity vector evolves just like before, and the partial derivatives evolve according to the Jacobian:"
     ]
    },
    {
     "cell_type": "code",
     "collapsed": false,
     "input": [
      "def extended_deriv(rvv, t):\n",
      "    rv, vecs = unpack_vec(rvv)\n",
      "    drv = deriv(rv, t)\n",
      "    jac = jacobian(rv, t)\n",
      "    dvecs = np.dot(jac, vecs.T).T\n",
      "    return pack_vec(drv, dvecs)"
     ],
     "language": "python",
     "metadata": {},
     "outputs": [],
     "prompt_number": 11
    },
    {
     "cell_type": "markdown",
     "metadata": {},
     "source": [
      "For simplicity, we'll just test the derivatives at one point, specifically at $t=2\\pi$."
     ]
    },
    {
     "cell_type": "code",
     "collapsed": false,
     "input": [
      "t0 = 0\n",
      "t1 = 2*np.pi"
     ],
     "language": "python",
     "metadata": {},
     "outputs": [],
     "prompt_number": 12
    },
    {
     "cell_type": "markdown",
     "metadata": {},
     "source": [
      "For a list of partial derivatives, the simplest is the matrix of all six partial derivative vectors, that is, the identity matrix. (Of course, testing with a rectangular matrix is a good way to catch stupid bugs. Just speaking hypothetically, you understand.)"
     ]
    },
    {
     "cell_type": "code",
     "collapsed": false,
     "input": [
      "vecs = np.eye(6)\n",
      "posns2, extra = scipy.integrate.odeint(extended_deriv,  \n",
      "    pack_vec(eccentric_initial_rv, vecs),\n",
      "    [t0,t1],\n",
      "    mxstep = 1000,\n",
      "    full_output=1)\n",
      "\n",
      "final_rv, final_deriv = unpack_vec(posns2[-1])\n",
      "\n",
      "print final_rv\n",
      "\n",
      "print final_deriv\n",
      "\n",
      "print \"Number of steps:\", extra['nst']"
     ],
     "language": "python",
     "metadata": {},
     "outputs": [
      {
       "output_type": "stream",
       "stream": "stdout",
       "text": [
        "[ 0.60095524  0.36035579  0.         -1.02853524  0.21525949  0.        ]\n",
        "[[ 11.51684499  -1.73020275   0.          19.15892536  11.15640367   0.        ]\n",
        " [  0.20526243   0.65775946   0.           0.87751988  -0.67308395   0.        ]\n",
        " [  0.           0.           0.60095524   0.           0.          -1.02853524]\n",
        " [  1.13123643   0.11360844   0.           2.18555873   0.71090257   0.        ]\n",
        " [  4.88779405  -0.24699966   0.           8.72864758   5.57000757   0.        ]\n",
        " [  0.           0.           0.72071158   0.           0.           0.43051898]]\n",
        "Number of steps: [570]\n"
       ]
      }
     ],
     "prompt_number": 13
    },
    {
     "cell_type": "markdown",
     "metadata": {},
     "source": [
      "Let's quickly check that a simple integration without any partial derivatives winds up at the same place. In addition, it's worth comparing to see how many additional steps the integrator has to take to get the same estimated accuracy."
     ]
    },
    {
     "cell_type": "code",
     "collapsed": false,
     "input": [
      "posns3, extra = scipy.integrate.odeint(deriv,  \n",
      "    eccentric_initial_rv,\n",
      "    [t0,t1],\n",
      "    mxstep = 1000,\n",
      "    full_output=1)\n",
      "\n",
      "final_rv_simple = posns3[-1]\n",
      "print final_rv_simple\n",
      "print \"Number of steps:\", extra['nst']"
     ],
     "language": "python",
     "metadata": {},
     "outputs": [
      {
       "output_type": "stream",
       "stream": "stdout",
       "text": [
        "[ 0.60094988  0.3603566   0.         -1.02854399  0.21525322  0.        ]\n",
        "Number of steps: [400]\n"
       ]
      }
     ],
     "prompt_number": 14
    },
    {
     "cell_type": "markdown",
     "metadata": {},
     "source": [
      "Turns out adding the partial derivatives forces the integrator to take half again as many steps. Not too bad, speed-wise, really."
     ]
    },
    {
     "cell_type": "markdown",
     "metadata": {},
     "source": [
      "Now let's check that these derivatives are actually right: just solve the problem with slightly different initial conditions and see where it winds up. Getting a really good answer out of this is a finicky business, since it normally involves subtracting two similar quantites (the final positions); the amount by which you change the initial conditions has to be tuned to balance error due to non-linearities in the problem against roundoff error. And a method like this with adaptive stepsizes can have some ugly discontinuities as you vary the initial conditions. But a little fiddling and it works:"
     ]
    },
    {
     "cell_type": "code",
     "collapsed": false,
     "input": [
      "delta = 1e-11\n",
      "num_deriv = np.empty_like(vecs)\n",
      "for i in range(vecs.shape[0]):\n",
      "    p4 = scipy.integrate.odeint(deriv,  \n",
      "        eccentric_initial_rv+delta*vecs[i],\n",
      "        [t0,t1],\n",
      "        mxstep = 1000)\n",
      "    num_deriv[i] = (p4[-1]-final_rv_simple)/delta\n",
      "\n",
      "print num_deriv\n",
      "\n",
      "print \n",
      "\n",
      "print final_deriv\n",
      "    "
     ],
     "language": "python",
     "metadata": {},
     "outputs": [
      {
       "output_type": "stream",
       "stream": "stdout",
       "text": [
        "[[ 11.51057027  -1.72911685   0.          19.14852721  11.15102732   0.        ]\n",
        " [  0.19784174   0.65913386   0.           0.86508578  -0.68013928   0.        ]\n",
        " [  0.           0.           0.60094988   0.           0.          -1.02854399]\n",
        " [  1.12472254   0.11498025   0.           2.17468266   0.70479456   0.        ]\n",
        " [  4.88009633  -0.2461753    0.           8.71576145   5.56372726   0.        ]\n",
        " [  0.           0.           0.72071321   0.           0.           0.43050644]]\n",
        "\n",
        "[[ 11.51684499  -1.73020275   0.          19.15892536  11.15640367   0.        ]\n",
        " [  0.20526243   0.65775946   0.           0.87751988  -0.67308395   0.        ]\n",
        " [  0.           0.           0.60095524   0.           0.          -1.02853524]\n",
        " [  1.13123643   0.11360844   0.           2.18555873   0.71090257   0.        ]\n",
        " [  4.88779405  -0.24699966   0.           8.72864758   5.57000757   0.        ]\n",
        " [  0.           0.           0.72071158   0.           0.           0.43051898]]\n"
       ]
      }
     ],
     "prompt_number": 15
    },
    {
     "cell_type": "markdown",
     "metadata": {},
     "source": [
      "Now what about a partial derivative with respect to the start or end times?"
     ]
    },
    {
     "cell_type": "code",
     "collapsed": false,
     "input": [
      "delta = 1e-10\n",
      "\n",
      "p5 = scipy.integrate.odeint(deriv,  \n",
      "    eccentric_initial_rv,\n",
      "    [t0,t1+delta],\n",
      "    mxstep = 1000)\n",
      "\n",
      "diff_t1_num = (p5[-1]-final_rv_simple)/delta\n",
      "diff_t1 = deriv(p5[-1],t1)\n",
      "\n",
      "print diff_t1_num\n",
      "print diff_t1"
     ],
     "language": "python",
     "metadata": {},
     "outputs": [
      {
       "output_type": "stream",
       "stream": "stdout",
       "text": [
        "[-1.03030695  0.21552538  0.         -1.74959602 -1.04898729  0.        ]\n",
        "[-1.02854399  0.21525322  0.         -1.74670332 -1.04740195 -0.        ]\n"
       ]
      }
     ],
     "prompt_number": 16
    },
    {
     "cell_type": "code",
     "collapsed": false,
     "input": [
      "delta = 1e-10\n",
      "\n",
      "p6 = scipy.integrate.odeint(deriv,  \n",
      "    eccentric_initial_rv,\n",
      "    [t0+delta,t1],\n",
      "    mxstep = 1000)\n",
      "\n",
      "diff_t0_num = (p6[-1]-final_rv_simple)/delta\n",
      "diff_t0 = -np.dot(final_deriv.T, deriv(p6[0],t0))\n",
      "\n",
      "print diff_t0_num\n",
      "print diff_t0\n"
     ],
     "language": "python",
     "metadata": {},
     "outputs": [
      {
       "output_type": "stream",
       "stream": "stdout",
       "text": [
        "[ 1.02854503 -0.21525337  0.          1.74670278  1.047403    0.        ]\n",
        "[ 1.02860522 -0.21527129 -0.          1.7467988   1.04744455 -0.        ]\n"
       ]
      }
     ],
     "prompt_number": 17
    },
    {
     "cell_type": "markdown",
     "metadata": {},
     "source": [
      "So, in short, you can find the partial derivatives of an ODE solution by solving an enlarged ODE where the partial derivative vectors evolve by multiplication with the Jacobian of the original ODE. And it doesn't cost all that much in terms of smaller steps. "
     ]
    }
   ],
   "metadata": {}
  }
 ]
}