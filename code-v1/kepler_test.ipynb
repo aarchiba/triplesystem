{
 "metadata": {
  "name": "kepler_test"
 },
 "nbformat": 3,
 "nbformat_minor": 0,
 "worksheets": [
  {
   "cells": [
    {
     "cell_type": "code",
     "collapsed": false,
     "input": [
      "%load_ext autoreload\n",
      "%autoreload 1"
     ],
     "language": "python",
     "metadata": {},
     "outputs": [],
     "prompt_number": 3
    },
    {
     "cell_type": "code",
     "collapsed": false,
     "input": [
      "%aimport kepler"
     ],
     "language": "python",
     "metadata": {},
     "outputs": [],
     "prompt_number": 4
    },
    {
     "cell_type": "code",
     "collapsed": false,
     "input": [],
     "language": "python",
     "metadata": {},
     "outputs": [],
     "prompt_number": 4
    },
    {
     "cell_type": "code",
     "collapsed": false,
     "input": [
      "from scipy.optimize import fsolve\n",
      "from scipy.integrate import ode"
     ],
     "language": "python",
     "metadata": {},
     "outputs": [],
     "prompt_number": 5
    },
    {
     "cell_type": "code",
     "collapsed": false,
     "input": [
      "matplotlib.rcParams.update({'font.size': 8, \n",
      "                            'savefig.dpi': 96})"
     ],
     "language": "python",
     "metadata": {},
     "outputs": [],
     "prompt_number": 6
    },
    {
     "cell_type": "markdown",
     "metadata": {},
     "source": [
      "Two-dimensional\n",
      "---------------"
     ]
    },
    {
     "cell_type": "code",
     "collapsed": false,
     "input": [
      "pb = 1.\n",
      "a = 1.\n",
      "eps1 = 0.3\n",
      "eps2 = 0.4\n",
      "ts = np.linspace(0,pb,1000)"
     ],
     "language": "python",
     "metadata": {},
     "outputs": [],
     "prompt_number": 114
    },
    {
     "cell_type": "code",
     "collapsed": false,
     "input": [
      "xys = np.array([kepler.kepler_2d(a, pb, eps1, eps2, t)[0] \n",
      "    for t in ts])\n",
      "\n",
      "plt.figure()\n",
      "plt.plot(xys[:,0],xys[:,1])\n",
      "plt.plot(xys[0,0],xys[0,1],\"o\")\n",
      "plt.plot(xys[-1,0],xys[-1,1],\"+\")\n",
      "plt.gca().set_aspect('equal')\n",
      "plt.plot(0,0,\"+\")\n",
      "\n",
      "#plt.figure()\n",
      "#plt.plot(ts, xys[:,0]*xys[:,3]-xys[:,1]*xys[:,2])"
     ],
     "language": "python",
     "metadata": {},
     "outputs": [
      {
       "output_type": "pyout",
       "prompt_number": 115,
       "text": [
        "[<matplotlib.lines.Line2D at 0x60fcb90>]"
       ]
      },
      {
       "output_type": "display_data",
       "png": "[encoded data removed]"
      }
     ],
     "prompt_number": 115
    },
    {
     "cell_type": "code",
     "collapsed": false,
     "input": [
      "ea = 0.2\n",
      "e = np.hypot(eps1,eps2)\n",
      "print kepler.true_from_eccentric(e, ea)\n",
      "print kepler.numeric_partial(\n",
      "    lambda ea: kepler.true_from_eccentric(e, ea)[0],\n",
      "    (ea,))"
     ],
     "language": "python",
     "metadata": {},
     "outputs": [
      {
       "output_type": "stream",
       "stream": "stdout",
       "text": [
        "(0.34413256916137691, 0.44984030966051597, 1.6981998725984231)\n",
        "1.69819970725\n"
       ]
      }
     ],
     "prompt_number": 116
    },
    {
     "cell_type": "code",
     "collapsed": false,
     "input": [
      "ma = 0.2\n",
      "e = np.hypot(eps1,eps2)\n",
      "print kepler.eccentric_from_mean(e, ma)\n",
      "print kepler.numeric_partial(\n",
      "    lambda ma: kepler.eccentric_from_mean(e, ma)[0],\n",
      "    (ma,))"
     ],
     "language": "python",
     "metadata": {},
     "outputs": [
      {
       "output_type": "stream",
       "stream": "stdout",
       "text": [
        "(0.39017524962497735, [0.70752512104072218, 1.8601924341783458])\n",
        "1.86019182208\n"
       ]
      }
     ],
     "prompt_number": 117
    },
    {
     "cell_type": "code",
     "collapsed": false,
     "input": [
      "print kepler.mass(4.2, 0.198)"
     ],
     "language": "python",
     "metadata": {},
     "outputs": [
      {
       "output_type": "stream",
       "stream": "stdout",
       "text": [
        "2.02847814508\n"
       ]
      }
     ],
     "prompt_number": 118
    },
    {
     "cell_type": "code",
     "collapsed": false,
     "input": [
      "a = 3\n",
      "pb = 2\n",
      "eps1 = 0.3\n",
      "eps2 = 0.4\n",
      "t = 0.2\n",
      "print np.array(kepler.kepler_2d(a,pb,eps1,eps2,t)[1])[:,0]\n",
      "print kepler.numeric_partials(\n",
      "    lambda *args: kepler.kepler_2d(*args)[0],\n",
      "    (a,pb,eps1,eps2,t))[:,0]\n"
     ],
     "language": "python",
     "metadata": {},
     "outputs": [
      {
       "output_type": "stream",
       "stream": "stdout",
       "text": [
        "[-0.21919893  0.55277492 -4.82318538 -0.24892067]\n",
        "[-0.21919893  0.55277492 -4.82318538 -0.24892067]\n"
       ]
      }
     ],
     "prompt_number": 138
    },
    {
     "cell_type": "code",
     "collapsed": false,
     "input": [
      "pb, t"
     ],
     "language": "python",
     "metadata": {},
     "outputs": [
      {
       "output_type": "pyout",
       "prompt_number": 120,
       "text": [
        "(2, 0.2)"
       ]
      }
     ],
     "prompt_number": 120
    },
    {
     "cell_type": "code",
     "collapsed": false,
     "input": [
      "a = 3\n",
      "pb = 2\n",
      "eps1 = 0.3\n",
      "eps2 = 0.4\n",
      "t = 0.\n",
      "print a,pb,eps1,eps2,t\n",
      "xv, jac = kepler.kepler_2d(a,pb,eps1,eps2,t)\n",
      "print xv\n",
      "kepler.inverse_kepler_2d(xv, kepler.mass(a,pb))"
     ],
     "language": "python",
     "metadata": {},
     "outputs": [
      {
       "output_type": "stream",
       "stream": "stdout",
       "text": [
        "3 2 0.3 0.4 0.0\n",
        "[  1.73076923e+00   5.76461955e-16  -4.35311847e+00   1.41476350e+01]\n"
       ]
      },
      {
       "output_type": "pyout",
       "prompt_number": 140,
       "text": [
        "(2.9999999999999982,\n",
        " 1.9999999999999982,\n",
        " 0.2999999999999996,\n",
        " 0.39999999999999991,\n",
        " 5.3009244691058568e-17)"
       ]
      }
     ],
     "prompt_number": 140
    },
    {
     "cell_type": "code",
     "collapsed": false,
     "input": [
      "m = kepler.mass(a,pb)\n",
      "print m\n",
      "ts = np.linspace(0,pb,1000)\n",
      "xvs = np.array([kepler.kepler_2d(a,pb,eps1,eps2,t)[0] \n",
      "                    for t in ts])\n",
      "pms = np.array([kepler.inverse_kepler_2d(xv, m) \n",
      "                    for (xv, t) in zip(xvs, ts)])\n",
      "\n",
      "print a,pb,eps1,eps2,ts[0]\n",
      "print pms[0]\n",
      "\n",
      "plt.figure()\n",
      "plt.plot(ts, pms[:,0])\n",
      "\n",
      "plt.figure()\n",
      "plt.plot(ts, pms[:,1])\n",
      "\n",
      "plt.figure()\n",
      "plt.plot(ts, pms[:,2])\n",
      "plt.plot(ts, pms[:,3])\n",
      "\n",
      "plt.figure()\n",
      "plt.plot(ts, ((pms[:,4]-ts)/pms[:,1]+0.5)%1-0.5)\n"
     ],
     "language": "python",
     "metadata": {},
     "outputs": [
      {
       "output_type": "stream",
       "stream": "stdout",
       "text": [
        "0.00724530404517\n",
        "3"
       ]
      },
      {
       "output_type": "stream",
       "stream": "stdout",
       "text": [
        " 2 0.3 0.4 0.0\n",
        "[  3.00000000e+00   2.00000000e+00   3.00000000e-01   4.00000000e-01\n",
        "   5.30092447e-17]\n"
       ]
      },
      {
       "output_type": "pyout",
       "prompt_number": 127,
       "text": [
        "[<matplotlib.lines.Line2D at 0x69366d0>]"
       ]
      },
      {
       "output_type": "display_data",
       "png": "[encoded data removed]"
      },
      {
       "output_type": "display_data",
       "png": "[encoded data removed]"
      },
      {
       "output_type": "display_data",
       "png": "[encoded data removed]"
      },
      {
       "output_type": "display_data",
       "png": "[encoded data removed]"
      }
     ],
     "prompt_number": 127
    },
    {
     "cell_type": "code",
     "collapsed": false,
     "input": [
      "r1 = kepler.kepler_2d(1,1,0,0,0)[0]\n",
      "r2 = kepler.kepler_2d(1,1,0,1e-50,0)[0]\n",
      "print r1\n",
      "print r2\n",
      "print r2-r1\n",
      "numpy.testing.assert_allclose(r1,r2,atol=1e-40)"
     ],
     "language": "python",
     "metadata": {},
     "outputs": [
      {
       "output_type": "stream",
       "stream": "stdout",
       "text": [
        "[ 1.          0.          0.          6.28318531]\n",
        "[  1.00000000e+00   0.00000000e+00  -6.28318531e-50   6.28318531e+00]\n",
        "[  0.00000000e+00   0.00000000e+00  -6.28318531e-50   0.00000000e+00]\n"
       ]
      }
     ],
     "prompt_number": 129
    },
    {
     "cell_type": "code",
     "collapsed": false,
     "input": [
      "kepler.check_all_partials(kepler.eccentric_from_mean, \n",
      "    [0.5, 5.95046722446])\n"
     ],
     "language": "python",
     "metadata": {},
     "outputs": [],
     "prompt_number": 130
    },
    {
     "cell_type": "code",
     "collapsed": false,
     "input": [
      "t = 0 # there's a problem near here\n",
      "kepler.check_all_partials(kepler.kepler_2d,\n",
      "                          (a, pb, 0, 0, t))\n",
      "                          "
     ],
     "language": "python",
     "metadata": {},
     "outputs": [],
     "prompt_number": 33
    },
    {
     "cell_type": "markdown",
     "metadata": {},
     "source": [
      "Three-dimensional\n",
      "-----------------"
     ]
    },
    {
     "cell_type": "code",
     "collapsed": false,
     "input": [
      "def f(xy):\n",
      "    x, y = xy\n",
      "    return [x,x+y]\n",
      "def jac_f(xy):\n",
      "    x, y = xy\n",
      "    return np.array([[1,0],[1,1]])\n",
      "z, infodict, ier, mesg = fsolve(f, \n",
      "    (1,1), fprime=jac_f, full_output=True)\n",
      "print infodict"
     ],
     "language": "python",
     "metadata": {},
     "outputs": [
      {
       "output_type": "stream",
       "stream": "stdout",
       "text": [
        "{'fvec': array([ 0.,  0.]), 'qtf': array([ -4.29720342e-64,  -4.29720342e-64]), 'nfev': 6, 'r': array([-1.41421356, -0.70710678, -0.70710678]), 'fjac': array([[-0.70710678, -0.70710678],\n",
        "       [ 0.70710678, -0.70710678]]), 'njev': 1}\n"
       ]
      }
     ],
     "prompt_number": 175
    },
    {
     "cell_type": "code",
     "collapsed": false,
     "input": [
      "def vdiff(a,b):\n",
      "    v = (a-b)/np.maximum(np.abs(a),np.abs(b))\n",
      "    v[np.isnan(v)] = 0\n",
      "    return v"
     ],
     "language": "python",
     "metadata": {},
     "outputs": [],
     "prompt_number": 176
    },
    {
     "cell_type": "code",
     "collapsed": false,
     "input": [
      "a = 3\n",
      "pb = 2\n",
      "eps1 = 0.3\n",
      "eps2 = 0.4\n",
      "i = np.pi/6\n",
      "lan = np.pi/3\n",
      "t = 0.2\n",
      "\n",
      "xyv, jac = kepler.kepler_3d(a,pb,eps1,eps2,i,lan,t)\n",
      "print xyv\n",
      "print\n",
      "#print jac\n",
      "#print\n",
      "njac = kepler.numeric_partials(\n",
      "    lambda *args: kepler.kepler_3d(*args)[0],\n",
      "    (a,pb,eps1,eps2,i,lan,t))\n",
      "\n",
      "j = 6\n",
      "for i in range(jac.shape[0]):\n",
      "    print jac[i,j], njac[i,j]\n"
     ],
     "language": "python",
     "metadata": {},
     "outputs": [
      {
       "output_type": "stream",
       "stream": "stdout",
       "text": [
        "[  0.91494517   1.28757121   0.82916238  -7.79484959  12.20764577\n",
        "  -0.37338101]\n",
        "\n",
        "-7.79484958573 -7.79484958491\n",
        "12.2076457718 12.2076457711\n",
        "-0.373381006604 -0.373381006558\n",
        "-42.9448580365 -42.9448580324\n",
        "-60.4348381292 -60.4348381277\n",
        "-38.9184640494 -38.918464047\n"
       ]
      }
     ],
     "prompt_number": 177
    },
    {
     "cell_type": "code",
     "collapsed": false,
     "input": [
      "import scipy.linalg"
     ],
     "language": "python",
     "metadata": {},
     "outputs": [],
     "prompt_number": 178
    },
    {
     "cell_type": "code",
     "collapsed": false,
     "input": [
      "a = 3\n",
      "pb = 2\n",
      "eps1 = 0.3\n",
      "eps2 = 0.4\n",
      "i = 0.5\n",
      "lan = 0.1\n",
      "t = 0.3\n",
      "\n",
      "print a,pb,eps1,eps2,i,lan,t\n",
      "xyv, jac = kepler.kepler_3d(a,pb,eps1,eps2,i,lan,t)\n",
      "print xyv\n",
      "print kepler.inverse_kepler_3d(xyv, kepler.mass(a,pb))"
     ],
     "language": "python",
     "metadata": {},
     "outputs": [
      {
       "output_type": "stream",
       "stream": "stdout",
       "text": [
        "3 2 0.3 0.4 0.5 0.1 0.3\n",
        "[ -1.7882623    1.31871632   0.61928845 -10.89933519  -3.97906457\n",
        "  -2.75735457]\n",
        "(2.9999999999999956, 1.9999999999999956, 0.30000000000000027, 0.39999999999999913, 0.49999999999999989, 0.099999999999999992, 0.29999999999999993)"
       ]
      },
      {
       "output_type": "stream",
       "stream": "stdout",
       "text": [
        "\n"
       ]
      }
     ],
     "prompt_number": 179
    },
    {
     "cell_type": "code",
     "collapsed": false,
     "input": [
      "ts = np.linspace(0,pb,1000)\n",
      "xyvs = np.array([\n",
      "        kepler.kepler_3d(a,pb,eps1,eps2,i,lan,t)[0] \n",
      "        for t in ts])\n",
      "plt.plot(ts,xyvs[:,2])"
     ],
     "language": "python",
     "metadata": {},
     "outputs": [
      {
       "output_type": "pyout",
       "prompt_number": 180,
       "text": [
        "[<matplotlib.lines.Line2D at 0x693af10>]"
       ]
      },
      {
       "output_type": "display_data",
       "png": "[encoded data removed]"
      }
     ],
     "prompt_number": 180
    },
    {
     "cell_type": "code",
     "collapsed": false,
     "input": [
      "kepler.check_all_partials(kepler.kepler_3d,\n",
      "                          (a,pb,eps1,eps2,i,lan,t))"
     ],
     "language": "python",
     "metadata": {},
     "outputs": [],
     "prompt_number": 20
    },
    {
     "cell_type": "markdown",
     "metadata": {},
     "source": [
      "Two body\n",
      "--------"
     ]
    },
    {
     "cell_type": "code",
     "collapsed": false,
     "input": [
      "a = 3\n",
      "pb = 2\n",
      "eps1 = 0.\n",
      "eps2 = 0.\n",
      "i = 0.5\n",
      "lan = 0.1\n",
      "q = 1/2.\n",
      "x_cm = np.array([1.,2.,3.])\n",
      "v_cm = np.array([-1.,2.,-3.])\n",
      "tasc = 0.4\n",
      "\n",
      "def k2b(*args):\n",
      "    x_cm = args[7:10]\n",
      "    v_cm = args[10:13]\n",
      "    return kepler.kepler_two_body(*(\n",
      "        list(args[:7]) + [x_cm, v_cm, args[-1]]))\n",
      "kepler.check_all_partials(k2b,\n",
      "  (a,pb,eps1,eps2,i,lan,q,\n",
      "    x_cm[0],x_cm[1],x_cm[2],\n",
      "    v_cm[0],v_cm[1],v_cm[2],tasc))\n"
     ],
     "language": "python",
     "metadata": {},
     "outputs": [
      {
       "ename": "AssertionError",
       "evalue": "\nNot equal to tolerance rtol=0.0001, atol=0.0001\n\n(mismatch 100.0%)\n x: array([[  2.24149171e-01,   1.83477584e+00,  -5.76222728e+00,\n         -5.76222728e+00,   1.36560368e-01,  -2.58393348e+00,\n          0.00000000e+00,   1.00000000e+00,   0.00000000e+00,...\n y: array([[  2.24149170e-01,   1.83477584e+00,  -5.76222728e+00,\n          4.67506489e+00,   1.36560368e-01,  -2.58393348e+00,\n          0.00000000e+00,   1.00000000e+00,   0.00000000e+00,...",
       "output_type": "pyerr",
       "traceback": [
        "\u001b[0;31m---------------------------------------------------------------------------\u001b[0m\n\u001b[0;31mAssertionError\u001b[0m                            Traceback (most recent call last)",
        "\u001b[0;32m<ipython-input-13-6bd01bfcc2d7>\u001b[0m in \u001b[0;36m<module>\u001b[0;34m()\u001b[0m\n\u001b[1;32m     18\u001b[0m   (a,pb,eps1,eps2,i,lan,q,\n\u001b[1;32m     19\u001b[0m     \u001b[0mx_cm\u001b[0m\u001b[0;34m[\u001b[0m\u001b[0;36m0\u001b[0m\u001b[0;34m]\u001b[0m\u001b[0;34m,\u001b[0m\u001b[0mx_cm\u001b[0m\u001b[0;34m[\u001b[0m\u001b[0;36m1\u001b[0m\u001b[0;34m]\u001b[0m\u001b[0;34m,\u001b[0m\u001b[0mx_cm\u001b[0m\u001b[0;34m[\u001b[0m\u001b[0;36m2\u001b[0m\u001b[0;34m]\u001b[0m\u001b[0;34m,\u001b[0m\u001b[0;34m\u001b[0m\u001b[0m\n\u001b[0;32m---> 20\u001b[0;31m     v_cm[0],v_cm[1],v_cm[2],tasc))\n\u001b[0m",
        "\u001b[0;32m/home/peridot/projects/threebody/kepler.pyc\u001b[0m in \u001b[0;36mcheck_all_partials\u001b[0;34m(f, args, delta, atol, rtol)\u001b[0m\n\u001b[1;32m    579\u001b[0m \u001b[0;34m\u001b[0m\u001b[0m\n\u001b[1;32m    580\u001b[0m     \u001b[0;32mtry\u001b[0m\u001b[0;34m:\u001b[0m\u001b[0;34m\u001b[0m\u001b[0m\n\u001b[0;32m--> 581\u001b[0;31m         \u001b[0mnp\u001b[0m\u001b[0;34m.\u001b[0m\u001b[0mtesting\u001b[0m\u001b[0;34m.\u001b[0m\u001b[0massert_allclose\u001b[0m\u001b[0;34m(\u001b[0m\u001b[0mjac\u001b[0m\u001b[0;34m,\u001b[0m \u001b[0mnjac\u001b[0m\u001b[0;34m,\u001b[0m \u001b[0matol\u001b[0m\u001b[0;34m=\u001b[0m\u001b[0matol\u001b[0m\u001b[0;34m,\u001b[0m \u001b[0mrtol\u001b[0m\u001b[0;34m=\u001b[0m\u001b[0mrtol\u001b[0m\u001b[0;34m)\u001b[0m\u001b[0;34m\u001b[0m\u001b[0m\n\u001b[0m\u001b[1;32m    582\u001b[0m     \u001b[0;32mexcept\u001b[0m \u001b[0mAssertionError\u001b[0m\u001b[0;34m:\u001b[0m\u001b[0;34m\u001b[0m\u001b[0m\n\u001b[1;32m    583\u001b[0m         \u001b[0;31m#print jac\u001b[0m\u001b[0;34m\u001b[0m\u001b[0;34m\u001b[0m\u001b[0m\n",
        "\u001b[0;32m/usr/lib/python2.7/dist-packages/numpy/testing/utils.pyc\u001b[0m in \u001b[0;36massert_allclose\u001b[0;34m(actual, desired, rtol, atol, err_msg, verbose)\u001b[0m\n\u001b[1;32m   1166\u001b[0m     \u001b[0mheader\u001b[0m \u001b[0;34m=\u001b[0m \u001b[0;34m'Not equal to tolerance rtol=%g, atol=%g'\u001b[0m \u001b[0;34m%\u001b[0m \u001b[0;34m(\u001b[0m\u001b[0mrtol\u001b[0m\u001b[0;34m,\u001b[0m \u001b[0matol\u001b[0m\u001b[0;34m)\u001b[0m\u001b[0;34m\u001b[0m\u001b[0m\n\u001b[1;32m   1167\u001b[0m     assert_array_compare(compare, actual, desired, err_msg=str(err_msg),\n\u001b[0;32m-> 1168\u001b[0;31m                          verbose=verbose, header=header)\n\u001b[0m\u001b[1;32m   1169\u001b[0m \u001b[0;34m\u001b[0m\u001b[0m\n\u001b[1;32m   1170\u001b[0m \u001b[0;32mdef\u001b[0m \u001b[0massert_array_almost_equal_nulp\u001b[0m\u001b[0;34m(\u001b[0m\u001b[0mx\u001b[0m\u001b[0;34m,\u001b[0m \u001b[0my\u001b[0m\u001b[0;34m,\u001b[0m \u001b[0mnulp\u001b[0m\u001b[0;34m=\u001b[0m\u001b[0;36m1\u001b[0m\u001b[0;34m)\u001b[0m\u001b[0;34m:\u001b[0m\u001b[0;34m\u001b[0m\u001b[0m\n",
        "\u001b[0;32m/usr/lib/python2.7/dist-packages/numpy/testing/utils.pyc\u001b[0m in \u001b[0;36massert_array_compare\u001b[0;34m(comparison, x, y, err_msg, verbose, header)\u001b[0m\n\u001b[1;32m    634\u001b[0m                                 names=('x', 'y'))\n\u001b[1;32m    635\u001b[0m             \u001b[0;32mif\u001b[0m \u001b[0;32mnot\u001b[0m \u001b[0mcond\u001b[0m \u001b[0;34m:\u001b[0m\u001b[0;34m\u001b[0m\u001b[0m\n\u001b[0;32m--> 636\u001b[0;31m                 \u001b[0;32mraise\u001b[0m \u001b[0mAssertionError\u001b[0m\u001b[0;34m(\u001b[0m\u001b[0mmsg\u001b[0m\u001b[0;34m)\u001b[0m\u001b[0;34m\u001b[0m\u001b[0m\n\u001b[0m\u001b[1;32m    637\u001b[0m     \u001b[0;32mexcept\u001b[0m \u001b[0mValueError\u001b[0m\u001b[0;34m,\u001b[0m \u001b[0me\u001b[0m\u001b[0;34m:\u001b[0m\u001b[0;34m\u001b[0m\u001b[0m\n\u001b[1;32m    638\u001b[0m         \u001b[0mheader\u001b[0m \u001b[0;34m=\u001b[0m \u001b[0;34m'error during assertion:\\n%s\\n\\n%s'\u001b[0m \u001b[0;34m%\u001b[0m \u001b[0;34m(\u001b[0m\u001b[0me\u001b[0m\u001b[0;34m,\u001b[0m \u001b[0mheader\u001b[0m\u001b[0;34m)\u001b[0m\u001b[0;34m\u001b[0m\u001b[0m\n",
        "\u001b[0;31mAssertionError\u001b[0m: \nNot equal to tolerance rtol=0.0001, atol=0.0001\n\n(mismatch 100.0%)\n x: array([[  2.24149171e-01,   1.83477584e+00,  -5.76222728e+00,\n         -5.76222728e+00,   1.36560368e-01,  -2.58393348e+00,\n          0.00000000e+00,   1.00000000e+00,   0.00000000e+00,...\n y: array([[  2.24149170e-01,   1.83477584e+00,  -5.76222728e+00,\n          4.67506489e+00,   1.36560368e-01,  -2.58393348e+00,\n          0.00000000e+00,   1.00000000e+00,   0.00000000e+00,..."
       ]
      },
      {
       "output_type": "stream",
       "stream": "stdout",
       "text": [
        "fail fraction: 0.0612244897959\n",
        "max fail: 20168.4276281 at (7, 3)\n",
        "jac there: 11.5244545652 njac there: -9.3501297842\n"
       ]
      }
     ],
     "prompt_number": 13
    },
    {
     "cell_type": "code",
     "collapsed": false,
     "input": [
      "a = 3\n",
      "pb = 2\n",
      "eps1 = 0.3\n",
      "eps2 = 0.4\n",
      "i = 0.5\n",
      "lan = 0.1\n",
      "q = 1/2.\n",
      "x_cm = np.zeros(3)\n",
      "v_cm = np.zeros(3)\n",
      "tasc = 0.\n",
      "\n",
      "def rhs_novec(t,total_state):\n",
      "    n = len(total_state)/7\n",
      "    assert n==2 or n==3\n",
      "    accel = kepler.accelerations(total_state)[0]\n",
      "    r = np.zeros_like(total_state)\n",
      "    for i in range(n):\n",
      "        r[7*i:7*i+3] = total_state[7*i+3:7*i+6]\n",
      "        r[7*i+3:7*i+6] = accel[3*i:3*i+3]\n",
      "    return r\n",
      "\n",
      "initial_state = kepler.kepler_two_body(\n",
      "    a,pb,eps1,eps2,i,lan,q,x_cm,v_cm,tasc)[0]\n",
      "O = ode(rhs_novec)\n",
      "O.set_integrator('vode', \n",
      "    method='adams',\n",
      "    first_step=pb/1e2,\n",
      "    order=12,\n",
      "    nsteps=10000,\n",
      "    rtol=1e-14)\n",
      "ts = np.linspace(tasc,tasc+pb,101)\n",
      "states = [initial_state]\n",
      "O.set_initial_value(states[0], ts[0])\n",
      "for t in ts[1:]:\n",
      "    O.integrate(t)\n",
      "    states.append(O.y)\n",
      "states = np.array(states)"
     ],
     "language": "python",
     "metadata": {},
     "outputs": [],
     "prompt_number": 29
    },
    {
     "cell_type": "code",
     "collapsed": false,
     "input": [
      "print states[0,0], states[0,7]\n",
      "plt.plot(states[:,0],states[:,1])\n",
      "plt.plot(states[:,7],states[:,8])\n",
      "plt.gca().set_aspect('equal')\n",
      "plt.figure()\n",
      "plt.plot(states[:,0]-states[:,7],\n",
      "         states[:,1]-states[:,8])\n",
      "plt.gca().set_aspect('equal')\n"
     ],
     "language": "python",
     "metadata": {},
     "outputs": [
      {
       "output_type": "stream",
       "stream": "stdout",
       "text": [
        "1.0006382274 -2.0012764548\n"
       ]
      },
      {
       "output_type": "display_data",
       "png": "[encoded data removed]"
      },
      {
       "output_type": "display_data",
       "png": "[encoded data removed]"
      }
     ],
     "prompt_number": 30
    },
    {
     "cell_type": "code",
     "collapsed": false,
     "input": [
      "es = kepler.total_energy(states)\n",
      "es /= -np.mean(es)\n",
      "es += 1\n",
      "plt.plot(ts, es)"
     ],
     "language": "python",
     "metadata": {},
     "outputs": [
      {
       "output_type": "pyout",
       "prompt_number": 31,
       "text": [
        "[<matplotlib.lines.Line2D at 0x547a5d0>]"
       ]
      },
      {
       "output_type": "display_data",
       "png": "[encoded data removed]"
      }
     ],
     "prompt_number": 31
    },
    {
     "cell_type": "code",
     "collapsed": false,
     "input": [
      "args_in = (a,pb,eps1,eps2,i,lan,q,x_cm,v_cm,tasc)\n",
      "total_state = kepler.kepler_two_body(*args_in)[0]\n",
      "args_out = kepler.inverse_kepler_two_body(total_state)\n",
      "\n",
      "print\n",
      "\n",
      "for ix in range(len(args_in)):\n",
      "    print args_in[ix], args_out[ix]\n"
     ],
     "language": "python",
     "metadata": {},
     "outputs": [
      {
       "output_type": "stream",
       "stream": "stdout",
       "text": [
        "\n",
        "3 3.0\n",
        "2 2.0\n",
        "0.3 0.3\n",
        "0.4 0.4\n",
        "0.5 0.5\n",
        "0.1 0.1\n",
        "0.5 0.5\n",
        "[ 0.  0.  0.] [ 0.  0.  0.]\n",
        "[ 0.  0.  0.] [ 0.  0.  0.]\n",
        "0.0 -2.04032677946e-17\n"
       ]
      }
     ],
     "prompt_number": 32
    },
    {
     "cell_type": "code",
     "collapsed": false,
     "input": [
      "keplerian = [kepler.inverse_kepler_two_body(s) \n",
      "    for s in states]\n",
      "plt.figure()\n",
      "plt.plot(ts, [k[0] for k in keplerian])\n",
      "\n",
      "plt.figure()\n",
      "plt.plot(ts, [k[3] for k in keplerian])\n"
     ],
     "language": "python",
     "metadata": {},
     "outputs": [
      {
       "output_type": "pyout",
       "prompt_number": 33,
       "text": [
        "[<matplotlib.lines.Line2D at 0x54750d0>]"
       ]
      },
      {
       "output_type": "display_data",
       "png": "[encoded data removed]"
      },
      {
       "output_type": "display_data",
       "png": "[encoded data removed]"
      }
     ],
     "prompt_number": 33
    },
    {
     "cell_type": "code",
     "collapsed": false,
     "input": [
      "print keplerian[0][7]\n",
      "print keplerian[100][7]"
     ],
     "language": "python",
     "metadata": {},
     "outputs": [
      {
       "output_type": "stream",
       "stream": "stdout",
       "text": [
        "[ 0.  0.  0.]\n",
        "[ 0.  0.  0.]\n"
       ]
      }
     ],
     "prompt_number": 34
    },
    {
     "cell_type": "code",
     "collapsed": false,
     "input": [
      "zs = [kepler.kepler_two_body(\n",
      "         a,pb,eps1,eps2,i,lan,q,x_cm,v_cm,tasc-t)[0][2] \n",
      "      for t in ts]\n",
      "zs = np.array(zs)\n",
      "plt.plot(ts,zs)\n",
      "plt.plot(ts,states[:,2])\n",
      "\n",
      "plt.figure()\n",
      "plt.plot(ts, zs-states[:,2])"
     ],
     "language": "python",
     "metadata": {},
     "outputs": [
      {
       "output_type": "pyout",
       "prompt_number": 35,
       "text": [
        "[<matplotlib.lines.Line2D at 0x520c450>]"
       ]
      },
      {
       "output_type": "display_data",
       "png": "[encoded data removed]"
      },
      {
       "output_type": "display_data",
       "png": "[encoded data removed]"
      }
     ],
     "prompt_number": 35
    },
    {
     "cell_type": "code",
     "collapsed": false,
     "input": [
      "a = 3\n",
      "pb = 2\n",
      "eps1 = 0.3\n",
      "eps2 = 0.4\n",
      "i = 0.5\n",
      "lan = 0.1\n",
      "q = 1/2.\n",
      "x_cm = np.zeros(3)\n",
      "v_cm = np.zeros(3)\n",
      "tasc = 0.\n",
      "\n",
      "def rhs_novec(t,total_state):\n",
      "    n = len(total_state)/7\n",
      "    assert n==2 or n==3\n",
      "    accel = kepler.accelerations(total_state)[0]\n",
      "    r = np.zeros_like(total_state)\n",
      "    for i in range(n):\n",
      "        r[7*i:7*i+3] = total_state[7*i+3:7*i+6]\n",
      "        r[7*i+3:7*i+6] = accel[3*i:3*i+3]\n",
      "    return r\n",
      "\n",
      "initial_state = kepler.kepler_two_body(\n",
      "    a,pb,eps1,eps2,i,lan,q,x_cm,v_cm,tasc)[0]\n",
      "O = ode(rhs_novec)\n",
      "O.set_integrator('vode', \n",
      "    method='adams',\n",
      "    first_step=pb/1e2,\n",
      "    order=12,\n",
      "    nsteps=10000,\n",
      "    rtol=1e-16)\n",
      "ts = np.linspace(tasc,tasc+1000*pb,10001)\n",
      "states = [initial_state]\n",
      "O.set_initial_value(states[0], ts[0])\n",
      "for t in ts[1:]:\n",
      "    O.integrate(t)\n",
      "    states.append(O.y)\n",
      "states = np.array(states)"
     ],
     "language": "python",
     "metadata": {},
     "outputs": [
      {
       "ename": "KeyboardInterrupt",
       "evalue": "",
       "output_type": "pyerr",
       "traceback": [
        "\u001b[0;31m---------------------------------------------------------------------------\u001b[0m\n\u001b[0;31mKeyboardInterrupt\u001b[0m                         Traceback (most recent call last)",
        "\u001b[0;32m<ipython-input-37-5b27f86802d0>\u001b[0m in \u001b[0;36m<module>\u001b[0;34m()\u001b[0m\n\u001b[1;32m     33\u001b[0m \u001b[0mO\u001b[0m\u001b[0;34m.\u001b[0m\u001b[0mset_initial_value\u001b[0m\u001b[0;34m(\u001b[0m\u001b[0mstates\u001b[0m\u001b[0;34m[\u001b[0m\u001b[0;36m0\u001b[0m\u001b[0;34m]\u001b[0m\u001b[0;34m,\u001b[0m \u001b[0mts\u001b[0m\u001b[0;34m[\u001b[0m\u001b[0;36m0\u001b[0m\u001b[0;34m]\u001b[0m\u001b[0;34m)\u001b[0m\u001b[0;34m\u001b[0m\u001b[0m\n\u001b[1;32m     34\u001b[0m \u001b[0;32mfor\u001b[0m \u001b[0mt\u001b[0m \u001b[0;32min\u001b[0m \u001b[0mts\u001b[0m\u001b[0;34m[\u001b[0m\u001b[0;36m1\u001b[0m\u001b[0;34m:\u001b[0m\u001b[0;34m]\u001b[0m\u001b[0;34m:\u001b[0m\u001b[0;34m\u001b[0m\u001b[0m\n\u001b[0;32m---> 35\u001b[0;31m     \u001b[0mO\u001b[0m\u001b[0;34m.\u001b[0m\u001b[0mintegrate\u001b[0m\u001b[0;34m(\u001b[0m\u001b[0mt\u001b[0m\u001b[0;34m)\u001b[0m\u001b[0;34m\u001b[0m\u001b[0m\n\u001b[0m\u001b[1;32m     36\u001b[0m     \u001b[0mstates\u001b[0m\u001b[0;34m.\u001b[0m\u001b[0mappend\u001b[0m\u001b[0;34m(\u001b[0m\u001b[0mO\u001b[0m\u001b[0;34m.\u001b[0m\u001b[0my\u001b[0m\u001b[0;34m)\u001b[0m\u001b[0;34m\u001b[0m\u001b[0m\n\u001b[1;32m     37\u001b[0m \u001b[0mstates\u001b[0m \u001b[0;34m=\u001b[0m \u001b[0mnp\u001b[0m\u001b[0;34m.\u001b[0m\u001b[0marray\u001b[0m\u001b[0;34m(\u001b[0m\u001b[0mstates\u001b[0m\u001b[0;34m)\u001b[0m\u001b[0;34m\u001b[0m\u001b[0m\n",
        "\u001b[0;32m/usr/lib/python2.7/dist-packages/scipy/integrate/_ode.pyc\u001b[0m in \u001b[0;36mintegrate\u001b[0;34m(self, t, step, relax)\u001b[0m\n\u001b[1;32m    331\u001b[0m         self.y, self.t = mth(self.f, self.jac or (lambda: None),\n\u001b[1;32m    332\u001b[0m                             \u001b[0mself\u001b[0m\u001b[0;34m.\u001b[0m\u001b[0my\u001b[0m\u001b[0;34m,\u001b[0m \u001b[0mself\u001b[0m\u001b[0;34m.\u001b[0m\u001b[0mt\u001b[0m\u001b[0;34m,\u001b[0m \u001b[0mt\u001b[0m\u001b[0;34m,\u001b[0m\u001b[0;34m\u001b[0m\u001b[0m\n\u001b[0;32m--> 333\u001b[0;31m                             self.f_params, self.jac_params)\n\u001b[0m\u001b[1;32m    334\u001b[0m         \u001b[0;32mreturn\u001b[0m \u001b[0mself\u001b[0m\u001b[0;34m.\u001b[0m\u001b[0my\u001b[0m\u001b[0;34m\u001b[0m\u001b[0m\n\u001b[1;32m    335\u001b[0m \u001b[0;34m\u001b[0m\u001b[0m\n",
        "\u001b[0;32m/usr/lib/python2.7/dist-packages/scipy/integrate/_ode.pyc\u001b[0m in \u001b[0;36mrun\u001b[0;34m(self, *args)\u001b[0m\n\u001b[1;32m    629\u001b[0m             \u001b[0mself\u001b[0m\u001b[0;34m.\u001b[0m\u001b[0macquire_new_handle\u001b[0m\u001b[0;34m(\u001b[0m\u001b[0;34m)\u001b[0m\u001b[0;34m\u001b[0m\u001b[0m\n\u001b[1;32m    630\u001b[0m         y1, t, istate = self.runner(*(args[:5] + tuple(self.call_args) +\n\u001b[0;32m--> 631\u001b[0;31m                                       args[5:]))\n\u001b[0m\u001b[1;32m    632\u001b[0m         \u001b[0;32mif\u001b[0m \u001b[0mistate\u001b[0m \u001b[0;34m<\u001b[0m \u001b[0;36m0\u001b[0m\u001b[0;34m:\u001b[0m\u001b[0;34m\u001b[0m\u001b[0m\n\u001b[1;32m    633\u001b[0m             warnings.warn('vode: ' +\n",
        "\u001b[0;32m<ipython-input-37-5b27f86802d0>\u001b[0m in \u001b[0;36mrhs_novec\u001b[0;34m(t, total_state)\u001b[0m\n\u001b[1;32m     13\u001b[0m     \u001b[0mn\u001b[0m \u001b[0;34m=\u001b[0m \u001b[0mlen\u001b[0m\u001b[0;34m(\u001b[0m\u001b[0mtotal_state\u001b[0m\u001b[0;34m)\u001b[0m\u001b[0;34m/\u001b[0m\u001b[0;36m7\u001b[0m\u001b[0;34m\u001b[0m\u001b[0m\n\u001b[1;32m     14\u001b[0m     \u001b[0;32massert\u001b[0m \u001b[0mn\u001b[0m\u001b[0;34m==\u001b[0m\u001b[0;36m2\u001b[0m \u001b[0;32mor\u001b[0m \u001b[0mn\u001b[0m\u001b[0;34m==\u001b[0m\u001b[0;36m3\u001b[0m\u001b[0;34m\u001b[0m\u001b[0m\n\u001b[0;32m---> 15\u001b[0;31m     \u001b[0maccel\u001b[0m \u001b[0;34m=\u001b[0m \u001b[0mkepler\u001b[0m\u001b[0;34m.\u001b[0m\u001b[0maccelerations\u001b[0m\u001b[0;34m(\u001b[0m\u001b[0mtotal_state\u001b[0m\u001b[0;34m)\u001b[0m\u001b[0;34m[\u001b[0m\u001b[0;36m0\u001b[0m\u001b[0;34m]\u001b[0m\u001b[0;34m\u001b[0m\u001b[0m\n\u001b[0m\u001b[1;32m     16\u001b[0m     \u001b[0mr\u001b[0m \u001b[0;34m=\u001b[0m \u001b[0mnp\u001b[0m\u001b[0;34m.\u001b[0m\u001b[0mzeros_like\u001b[0m\u001b[0;34m(\u001b[0m\u001b[0mtotal_state\u001b[0m\u001b[0;34m)\u001b[0m\u001b[0;34m\u001b[0m\u001b[0m\n\u001b[1;32m     17\u001b[0m     \u001b[0;32mfor\u001b[0m \u001b[0mi\u001b[0m \u001b[0;32min\u001b[0m \u001b[0mrange\u001b[0m\u001b[0;34m(\u001b[0m\u001b[0mn\u001b[0m\u001b[0;34m)\u001b[0m\u001b[0;34m:\u001b[0m\u001b[0;34m\u001b[0m\u001b[0m\n",
        "\u001b[0;32m/home/peridot/projects/threebody/kepler.pyc\u001b[0m in \u001b[0;36maccelerations\u001b[0;34m(total_state)\u001b[0m\n\u001b[1;32m    537\u001b[0m                     -(3./2)*dx[:,None]*r2**(-5./2)*d_r2[None,:])\n\u001b[1;32m    538\u001b[0m             \u001b[0ma_ij\u001b[0m \u001b[0;34m=\u001b[0m \u001b[0mm_j\u001b[0m\u001b[0;34m*\u001b[0m\u001b[0mc\u001b[0m\u001b[0;34m\u001b[0m\u001b[0m\n\u001b[0;32m--> 539\u001b[0;31m             \u001b[0ma_ji\u001b[0m \u001b[0;34m=\u001b[0m \u001b[0;34m-\u001b[0m\u001b[0mm_i\u001b[0m\u001b[0;34m*\u001b[0m\u001b[0mc\u001b[0m\u001b[0;34m\u001b[0m\u001b[0m\n\u001b[0m\u001b[1;32m    540\u001b[0m             \u001b[0md_a_ij\u001b[0m \u001b[0;34m=\u001b[0m \u001b[0;34m(\u001b[0m\u001b[0md_m_j\u001b[0m\u001b[0;34m[\u001b[0m\u001b[0mNone\u001b[0m\u001b[0;34m,\u001b[0m\u001b[0;34m:\u001b[0m\u001b[0;34m]\u001b[0m\u001b[0;34m*\u001b[0m\u001b[0mc\u001b[0m\u001b[0;34m[\u001b[0m\u001b[0;34m:\u001b[0m\u001b[0;34m,\u001b[0m\u001b[0mNone\u001b[0m\u001b[0;34m]\u001b[0m\u001b[0;34m+\u001b[0m\u001b[0mm_j\u001b[0m\u001b[0;34m*\u001b[0m\u001b[0md_c\u001b[0m\u001b[0;34m)\u001b[0m\u001b[0;34m\u001b[0m\u001b[0m\n\u001b[1;32m    541\u001b[0m             \u001b[0md_a_ji\u001b[0m \u001b[0;34m=\u001b[0m \u001b[0;34m-\u001b[0m\u001b[0;34m(\u001b[0m\u001b[0md_m_i\u001b[0m\u001b[0;34m[\u001b[0m\u001b[0mNone\u001b[0m\u001b[0;34m,\u001b[0m\u001b[0;34m:\u001b[0m\u001b[0;34m]\u001b[0m\u001b[0;34m*\u001b[0m\u001b[0mc\u001b[0m\u001b[0;34m[\u001b[0m\u001b[0;34m:\u001b[0m\u001b[0;34m,\u001b[0m\u001b[0mNone\u001b[0m\u001b[0;34m]\u001b[0m\u001b[0;34m+\u001b[0m\u001b[0mm_i\u001b[0m\u001b[0;34m*\u001b[0m\u001b[0md_c\u001b[0m\u001b[0;34m)\u001b[0m\u001b[0;34m\u001b[0m\u001b[0m\n",
        "\u001b[0;31mKeyboardInterrupt\u001b[0m: "
       ]
      }
     ],
     "prompt_number": 37
    },
    {
     "cell_type": "code",
     "collapsed": false,
     "input": [
      "zs = [kepler.kepler_two_body(\n",
      "         a,pb,eps1,eps2,i,lan,q,x_cm,v_cm,tasc-t)[0][2] \n",
      "      for t in ts]\n",
      "zs = np.array(zs)\n",
      "plt.plot(ts,zs)\n",
      "plt.plot(ts,states[:,2])\n",
      "\n",
      "plt.figure()\n",
      "plt.plot(ts, zs-states[:,2])"
     ],
     "language": "python",
     "metadata": {},
     "outputs": []
    },
    {
     "cell_type": "markdown",
     "metadata": {},
     "source": [
      "Three body\n",
      "----------"
     ]
    },
    {
     "cell_type": "code",
     "collapsed": false,
     "input": [
      "a_i = np.pi\n",
      "pb_i = np.exp(1)\n",
      "eps1_i = 0.\n",
      "eps2_i = 0.\n",
      "i_i = 0.5\n",
      "lan_i = 0.1\n",
      "q_i = 1/2.\n",
      "tasc_i = 0.\n",
      "a_o = 3000\n",
      "pb_o = 2000\n",
      "eps1_o = -0.\n",
      "eps2_o = 0.\n",
      "i_o = 0.2\n",
      "lan_o = 0.7\n",
      "tasc_o = 0.\n",
      "x_cm = np.zeros(3)\n",
      "v_cm = np.zeros(3)"
     ],
     "language": "python",
     "metadata": {},
     "outputs": [],
     "prompt_number": 34
    },
    {
     "cell_type": "code",
     "collapsed": false,
     "input": [
      "def k3b(*args):\n",
      "    x_cm = args[15:18]\n",
      "    v_cm = args[18:]\n",
      "    return kepler.kepler_three_body(*(\n",
      "        list(args[:15]) + [x_cm, v_cm]))\n",
      "kepler.check_all_partials(k3b,\n",
      "  (a_i,pb_i,eps1_i,eps2_i,i_i,lan_i,q_i,tasc_i,\n",
      "   a_o,pb_o,eps1_o,eps2_o,i_o,lan_o,tasc_o,\n",
      "   x_cm[0],x_cm[1],x_cm[2],\n",
      "   v_cm[0],v_cm[1],v_cm[2]))\n"
     ],
     "language": "python",
     "metadata": {},
     "outputs": [],
     "prompt_number": 35
    },
    {
     "cell_type": "code",
     "collapsed": false,
     "input": [
      "orbital_parameters = (a_i,pb_i,eps1_i,eps2_i,i_i,lan_i,q_i,tasc_i,\n",
      "   a_o,pb_o,eps1_o,eps2_o,i_o,lan_o,tasc_o,\n",
      "   x_cm, v_cm)\n",
      "print orbital_parameters\n",
      "kepler.check_all_partials(\n",
      "    lambda *args: kepler.kepler_three_body(*kepler.unpack_three_body(args)), \n",
      "    kepler.pack_three_body(*orbital_parameters))\n"
     ],
     "language": "python",
     "metadata": {},
     "outputs": [
      {
       "output_type": "stream",
       "stream": "stdout",
       "text": [
        "(3.141592653589793, 2.7182818284590451, 0.3, 0.4, 0.5, 0.1, 0.5, 0.0, 3000, 2000, -0.1, 0.2, 0.2, 0.7, 0.0, array([ 0.,  0.,  0.]), array([ 0.,  0.,  0.]))\n"
       ]
      }
     ],
     "prompt_number": 10
    },
    {
     "cell_type": "code",
     "collapsed": false,
     "input": [
      "def rhs_novec(t,total_state):\n",
      "    n = len(total_state)/7\n",
      "    assert n==2 or n==3\n",
      "    accel = kepler.accelerations(total_state)[0]\n",
      "    r = np.zeros_like(total_state)\n",
      "    for i in range(n):\n",
      "        r[7*i:7*i+3] = total_state[7*i+3:7*i+6]\n",
      "        r[7*i+3:7*i+6] = accel[3*i:3*i+3]\n",
      "    return r\n",
      "\n",
      "initial_state = kepler.kepler_three_body(\n",
      "    a_i,pb_i,eps1_i,eps2_i,i_i,lan_i,q_i,tasc_i,\n",
      "    a_o,pb_o,eps1_o,eps2_o,i_o,lan_o,tasc_o,\n",
      "    x_cm,v_cm)[0]\n",
      "\n",
      "O = ode(rhs_novec)\n",
      "O.set_integrator('vode', \n",
      "    method='adams',\n",
      "    first_step=pb_i/1e2,\n",
      "    nsteps=10000,\n",
      "    order=12,\n",
      "    rtol=1e-13)\n",
      "ts = np.linspace(0,pb_o,1000)\n",
      "states = [initial_state]\n",
      "O.set_initial_value(states[0], ts[0])\n",
      "for t in ts[1:]:\n",
      "    O.integrate(t)\n",
      "    states.append(O.y)\n",
      "states = np.array(states)"
     ],
     "language": "python",
     "metadata": {},
     "outputs": []
    },
    {
     "cell_type": "code",
     "collapsed": false,
     "input": [
      "es = kepler.total_energy(states)\n",
      "es /= -np.mean(es)\n",
      "es += 1\n",
      "plt.plot(ts, es)"
     ],
     "language": "python",
     "metadata": {},
     "outputs": []
    },
    {
     "cell_type": "code",
     "collapsed": false,
     "input": [
      "plt.plot(states[:,0],states[:,1])\n",
      "plt.plot(states[:,7],states[:,8])\n",
      "plt.plot(states[:,14],states[:,15])\n",
      "plt.gca().set_aspect('equal')\n",
      "\n",
      "plt.figure()\n",
      "plt.plot(states[:,0]-states[:,7],states[:,1]-states[:,8])\n",
      "plt.gca().set_aspect('equal')"
     ],
     "language": "python",
     "metadata": {},
     "outputs": []
    },
    {
     "cell_type": "code",
     "collapsed": false,
     "input": [
      "args = (a_i,pb_i,eps1_i,eps2_i,i_i,lan_i,q_i,tasc_i,\n",
      "        a_o,pb_o,eps1_o,eps2_o,i_o,lan_o,tasc_o,\n",
      "        x_cm,v_cm)\n",
      "ts = kepler.kepler_three_body(*args)[0]\n",
      "args2 = kepler.inverse_kepler_three_body(ts)\n",
      "print\n",
      "for i in range(len(args)):\n",
      "    print args[i], args2[i]\n"
     ],
     "language": "python",
     "metadata": {},
     "outputs": [
      {
       "output_type": "stream",
       "stream": "stdout",
       "text": [
        "\n",
        "3.14159265359 3.14159265359\n",
        "2.71828182846 2.71828182846\n",
        "0.3 0.3\n",
        "0.4 0.4\n",
        "0.5 0.5\n",
        "0.1 0.1\n",
        "0.5 0.5\n",
        "0.0 -2.05208778723e-15\n",
        "3000 3000.0\n",
        "2000 2000.0\n",
        "-0.1 -0.1\n",
        "0.2 0.2\n",
        "0.2 0.2\n",
        "0.7 0.7\n",
        "0.0 8.74222529164e-14\n",
        "[ 0.  0.  0.] [ -1.86878282e-15   0.00000000e+00  -1.86878282e-15]\n",
        "[ 0.  0.  0.] [  5.83994631e-17  -7.29993289e-18   7.29993289e-18]\n"
       ]
      }
     ],
     "prompt_number": 44
    },
    {
     "cell_type": "code",
     "collapsed": false,
     "input": [
      "#m_tot = mass((1+q_o)*a_o,pb_o)\n",
      "#m_tot*pb**2 = C*a_tot**3\n",
      "#(1+q)*m_i*pb**2 = C*(a_o*(1+1/q))**3\n",
      "#(1+q)*(1+1/q)**(-3)*m_i = C*a_o**3*pb**(-2)\n",
      "#q**3/(1+q)**2 = ()/m_i"
     ],
     "language": "python",
     "metadata": {},
     "outputs": []
    },
    {
     "cell_type": "code",
     "collapsed": false,
     "input": [
      "ts = np.linspace(0,5*pb_i,200)\n",
      "initial_kepler = (\n",
      "    a_i,pb_i,eps1_i,eps2_i,i_i,lan_i,q_i,tasc_i,\n",
      "    a_o,pb_o,eps1_o,eps2_o,i_o,lan_o,tasc_o,\n",
      "    x_cm,v_cm)"
     ],
     "language": "python",
     "metadata": {},
     "outputs": []
    },
    {
     "cell_type": "code",
     "collapsed": false,
     "input": [
      "ix=0\n",
      "print (initial_kepler[ix],\n",
      "    kepler.inverse_kepler_three_body(\n",
      "        kepler.kepler_three_body(*initial_kepler)[0])[ix])"
     ],
     "language": "python",
     "metadata": {},
     "outputs": []
    },
    {
     "cell_type": "code",
     "collapsed": false,
     "input": [
      "rtol = 1e-8"
     ],
     "language": "python",
     "metadata": {},
     "outputs": []
    },
    {
     "cell_type": "code",
     "collapsed": false,
     "input": [
      "O_raw = ode(kepler.rhs_three_body)\n",
      "O_raw.set_integrator('vode', \n",
      "    method='adams',\n",
      "    first_step=pb_i/1e2,\n",
      "    nsteps=10000,\n",
      "    order=12,\n",
      "    rtol=rtol)\n",
      "\n",
      "initial_state = kepler.kepler_three_body(\n",
      "    *initial_kepler)[0]\n",
      "states = [kepler.inverse_kepler_three_body(initial_state)]\n",
      "O_raw.set_initial_value(initial_state, ts[0])\n",
      "for t in ts[1:]:\n",
      "    O_raw.integrate(t)\n",
      "    states.append(\n",
      "        kepler.inverse_kepler_three_body(O_raw.y))"
     ],
     "language": "python",
     "metadata": {},
     "outputs": []
    },
    {
     "cell_type": "code",
     "collapsed": false,
     "input": [
      "O_vop = ode(kepler.rhs_variation_of_parameters)\n",
      "O_vop.set_integrator('vode', \n",
      "    method='adams',\n",
      "    first_step=pb_i/1e2,\n",
      "    nsteps=10000,\n",
      "    order=12,\n",
      "    rtol=rtol)\n",
      "states_vop = [(a_i,pb_i,eps1_i,eps2_i,i_i,lan_i,q_i,tasc_i,\n",
      "    a_o,pb_o,eps1_o,eps2_o,i_o,lan_o,tasc_o,\n",
      "    x_cm,v_cm)]\n",
      "O_vop.set_initial_value(\n",
      "    kepler.pack_three_body(*(states_vop[0])), ts[0])\n",
      "for t in ts[1:]:\n",
      "    O_vop.integrate(t)\n",
      "    states_vop.append(kepler.unpack_three_body(O_vop.y))"
     ],
     "language": "python",
     "metadata": {},
     "outputs": []
    },
    {
     "cell_type": "code",
     "collapsed": false,
     "input": [
      "O_vop_s = ode(kepler.rhs_variation_of_parameters)\n",
      "O_vop_s.set_integrator('vode', \n",
      "    method='adams',\n",
      "    first_step=pb_i/1e2,\n",
      "    nsteps=10000,\n",
      "    order=12,\n",
      "    rtol=rtol)\n",
      "states_vop_s = [(a_i,pb_i,eps1_i,eps2_i,i_i,lan_i,q_i,tasc_i,\n",
      "    a_o,pb_o,eps1_o,eps2_o,i_o,lan_o,tasc_o,\n",
      "    x_cm,v_cm)]\n",
      "O_vop_s.set_initial_value(\n",
      "    kepler.pack_three_body(*(states_vop_s[0])), ts[0])\n",
      "for t in ts[1:]:\n",
      "    O_vop_s.integrate(t)\n",
      "    states_vop_s.append(\n",
      "        kepler.unpack_three_body(O_vop_s.y))"
     ],
     "language": "python",
     "metadata": {},
     "outputs": []
    },
    {
     "cell_type": "code",
     "collapsed": false,
     "input": [
      "O_fine = ode(kepler.rhs_three_body)\n",
      "O_fine.set_integrator('vode', \n",
      "    method='adams',\n",
      "    first_step=pb_i/1e2,\n",
      "    nsteps=10000,\n",
      "    order=12,\n",
      "    rtol=1e-13)\n",
      "\n",
      "initial_state = kepler.kepler_three_body(\n",
      "    *initial_kepler)[0]\n",
      "states_fine = [\n",
      "    kepler.inverse_kepler_three_body(initial_state)]\n",
      "O_fine.set_initial_value(initial_state, ts[0])\n",
      "for t in ts[1:]:\n",
      "    O_fine.integrate(t)\n",
      "    states_fine.append(\n",
      "        kepler.inverse_kepler_three_body(O_fine.y))"
     ],
     "language": "python",
     "metadata": {},
     "outputs": []
    },
    {
     "cell_type": "markdown",
     "metadata": {},
     "source": [
      "Depending on which orbital parameter we look at, the raw calculation may be preferred or the variation of parameters calculation."
     ]
    },
    {
     "cell_type": "code",
     "collapsed": false,
     "input": [
      "def show_error(ix):\n",
      "    plt.figure()\n",
      "    plt.title(\"%s variation\" % \n",
      "        kepler.three_body_parameters[ix])\n",
      "    plt.plot(ts,[s[ix] for s in states],label=\"raw\")\n",
      "    plt.plot(ts,[s[ix] for s in states_vop],label=\"vop\")\n",
      "    plt.plot(ts,[s[ix] for s in states_vop_s],\n",
      "        label=\"vop_s\")\n",
      "    plt.plot(ts,[s[ix] for s in states_fine],label=\"fine\")\n",
      "    plt.legend(loc=\"best\")\n",
      "\n",
      "    plt.figure()\n",
      "    plt.title(\"%s difference from best solution\" % \n",
      "        kepler.three_body_parameters[ix])\n",
      "    plt.plot(ts,[s1[ix]-s2[ix] \n",
      "            for (s1,s2) in zip(states,states_fine)],\n",
      "        label=\"raw\")\n",
      "    plt.plot(ts,[s1[ix]-s2[ix] \n",
      "            for (s1,s2) in zip(states_vop,states_fine)],\n",
      "        label=\"vop\")\n",
      "    plt.plot(ts,[s1[ix]-s2[ix] \n",
      "            for (s1,s2) in zip(states_vop_s,states_fine)],\n",
      "        label=\"vop_s\")\n",
      "    plt.legend(loc=\"best\")\n",
      "    \n",
      "show_error(0)\n",
      "show_error(4)"
     ],
     "language": "python",
     "metadata": {},
     "outputs": []
    },
    {
     "cell_type": "code",
     "collapsed": false,
     "input": [],
     "language": "python",
     "metadata": {},
     "outputs": []
    },
    {
     "cell_type": "code",
     "collapsed": false,
     "input": [
      "O_vop_step = ode(kepler.rhs_variation_of_parameters)\n",
      "if True:\n",
      "    O_vop_step.set_integrator('vode', \n",
      "        method='adams',\n",
      "        first_step=pb_i/1e2,\n",
      "        nsteps=10000,\n",
      "        order=12,\n",
      "        rtol=rtol)\n",
      "state_vop_step = (\n",
      "    a_i,pb_i,eps1_i,eps2_i,i_i,lan_i,q_i,tasc_i,\n",
      "    a_o,pb_o,eps1_o,eps2_o,i_o,lan_o,tasc_o,\n",
      "    x_cm,v_cm)\n",
      "O_vop_step.set_initial_value(\n",
      "    kepler.pack_three_body(*state_vop_step), 0)\n",
      "vop_steps = [0]\n",
      "while vop_steps[-1]<5*pb_i:\n",
      "    O_vop_step.integrate(t,step=1)\n",
      "    vop_steps.append(O_vop_step.t)\n"
     ],
     "language": "python",
     "metadata": {},
     "outputs": []
    },
    {
     "cell_type": "code",
     "collapsed": false,
     "input": [
      "O_raw_step = ode(kepler.rhs_three_body)\n",
      "if True:\n",
      "    O_raw_step.set_integrator('vode', \n",
      "        method='adams',\n",
      "        first_step=pb_i/1e2,\n",
      "        nsteps=10000,\n",
      "        order=12,\n",
      "        rtol=rtol)\n",
      "\n",
      "initial_state = kepler.kepler_three_body(\n",
      "    *initial_kepler)[0]\n",
      "O_raw_step.set_initial_value(initial_state, ts[0])\n",
      "raw_steps = [0]\n",
      "\n",
      "while raw_steps[-1]<5*pb_i:\n",
      "    O_raw_step.integrate(t,step=1)\n",
      "    raw_steps.append(O_raw_step.t)\n"
     ],
     "language": "python",
     "metadata": {},
     "outputs": []
    },
    {
     "cell_type": "markdown",
     "metadata": {},
     "source": [
      "Using variation of parameters lets us use about a sixth as many steps, but it's not so clear how to propagate vectors along the trajectory (actually, you could use the same trick for propagating the vectors - convert them into the orbital parameters' frame, where they won't, presumably, change very much). In any case, the runtime of the raw code will probably be less because the function evaluations of the variation of parameters code are much more expensive. The question is, does it help with roundoff error? Even if it's only a sixth of the number of steps, reducing the amount of roundoff error by an optimistic factor of six probably isn't worth it."
     ]
    },
    {
     "cell_type": "code",
     "collapsed": false,
     "input": [
      "print len(vop_steps), len(raw_steps)\n",
      "plt.plot(vop_steps[:-1], np.diff(vop_steps))\n",
      "plt.plot(raw_steps[:-1], np.diff(raw_steps))\n"
     ],
     "language": "python",
     "metadata": {},
     "outputs": []
    },
    {
     "cell_type": "markdown",
     "metadata": {},
     "source": [
      "Vectors\n",
      "-------"
     ]
    },
    {
     "cell_type": "code",
     "collapsed": false,
     "input": [
      "kepler.check_all_partials(\n",
      "    lambda *args: kepler.accelerations(np.array(args)),\n",
      "    initial_state)"
     ],
     "language": "python",
     "metadata": {},
     "outputs": [],
     "prompt_number": 124
    },
    {
     "cell_type": "code",
     "collapsed": false,
     "input": [
      "def euler_step(i_s):\n",
      "    i_s_v = np.concatenate(\n",
      "       (i_s, np.eye(21).reshape((-1,))))\n",
      "    r = kepler.rhs_three_body_vectors(0, i_s_v)\n",
      "    i_f_v = i_s_v+1e-2*r\n",
      "    ix = 17\n",
      "    #return i_f_v[ix], i_f_v[21:].reshape((21,21))[:,ix]\n",
      "    return i_f_v[:21], i_f_v[21:].reshape((21,21)).T\n",
      "\n",
      "kepler.check_all_partials(\n",
      "    lambda *args: euler_step(np.array(args)), \n",
      "    initial_state)"
     ],
     "language": "python",
     "metadata": {},
     "outputs": [],
     "prompt_number": 157
    },
    {
     "cell_type": "code",
     "collapsed": false,
     "input": [],
     "language": "python",
     "metadata": {},
     "outputs": []
    },
    {
     "cell_type": "code",
     "collapsed": false,
     "input": [
      "def euler_step_vec(d):\n",
      "    v = np.arange(21)\n",
      "    i_s_v = np.concatenate(\n",
      "       (initial_state+d*v, v))\n",
      "    r = kepler.rhs_three_body_vectors(0, i_s_v)\n",
      "    i_f_v = i_s_v+1e-2*r\n",
      "    return i_f_v[:21], i_f_v[21:,None]\n",
      "\n",
      "kepler.check_all_partials(euler_step_vec, (0,))"
     ],
     "language": "python",
     "metadata": {},
     "outputs": [],
     "prompt_number": 162
    },
    {
     "cell_type": "code",
     "collapsed": false,
     "input": [
      "def euler_step_vec2(d1,d2):\n",
      "    v1 = np.arange(21)\n",
      "    v2 = np.sin(np.arange(21))\n",
      "\n",
      "    i_s_v = np.concatenate(\n",
      "       (initial_state+d1*v1+d2*v2, v1, v2))\n",
      "    r = kepler.rhs_three_body_vectors(0, i_s_v)\n",
      "    i_f_v = i_s_v+1e-2*r\n",
      "    return i_f_v[:21], i_f_v[21:].reshape((-1, 21)).T\n",
      "\n",
      "kepler.check_all_partials(euler_step_vec2, (0,0))"
     ],
     "language": "python",
     "metadata": {},
     "outputs": [],
     "prompt_number": 190
    },
    {
     "cell_type": "code",
     "collapsed": false,
     "input": [
      "def euler_step_n(i_s):\n",
      "    n = 100\n",
      "    i_s_v = np.concatenate(\n",
      "       (i_s, np.eye(21).reshape((-1,))))\n",
      "    for i in range(n):\n",
      "        r = kepler.rhs_three_body_vectors(0, i_s_v)\n",
      "        i_s_v = i_s_v+(pb_i/n)*r\n",
      "    return i_s_v[:21], i_s_v[21:].reshape((21,21)).T\n",
      "\n",
      "kepler.check_all_partials(\n",
      "    lambda *args: euler_step_n(np.array(args)), \n",
      "    initial_state)"
     ],
     "language": "python",
     "metadata": {},
     "outputs": [
      {
       "ename": "AssertionError",
       "evalue": "\nNot equal to tolerance rtol=0.0001, atol=0.0001\n\n(mismatch 100.0%)\n x: array([[ -6.52107883e+00,  -3.67847814e+00,  -2.24372921e+00,\n          3.66057646e+00,  -1.39178400e+00,  -6.58502895e-01,\n          2.06139466e+02,   7.52101341e+00,   3.67852552e+00,...\n y: array([[ -6.52107110e+00,  -3.67847434e+00,  -2.24372371e+00,\n          3.66058271e+00,  -1.39177337e+00,  -6.58504121e-01,\n          2.06138833e+02,   7.52102238e+00,   3.67852846e+00,...",
       "output_type": "pyerr",
       "traceback": [
        "\u001b[0;31m---------------------------------------------------------------------------\u001b[0m\n\u001b[0;31mAssertionError\u001b[0m                            Traceback (most recent call last)",
        "\u001b[0;32m<ipython-input-212-6aaaaa301026>\u001b[0m in \u001b[0;36m<module>\u001b[0;34m()\u001b[0m\n\u001b[1;32m     10\u001b[0m kepler.check_all_partials(\n\u001b[1;32m     11\u001b[0m     \u001b[0;32mlambda\u001b[0m \u001b[0;34m*\u001b[0m\u001b[0margs\u001b[0m\u001b[0;34m:\u001b[0m \u001b[0meuler_step_n\u001b[0m\u001b[0;34m(\u001b[0m\u001b[0mnp\u001b[0m\u001b[0;34m.\u001b[0m\u001b[0marray\u001b[0m\u001b[0;34m(\u001b[0m\u001b[0margs\u001b[0m\u001b[0;34m)\u001b[0m\u001b[0;34m)\u001b[0m\u001b[0;34m,\u001b[0m\u001b[0;34m\u001b[0m\u001b[0m\n\u001b[0;32m---> 12\u001b[0;31m     initial_state)\n\u001b[0m",
        "\u001b[0;32m/home/peridot/projects/threebody/kepler.py\u001b[0m in \u001b[0;36mcheck_all_partials\u001b[0;34m(f, args, delta, atol, rtol)\u001b[0m\n\u001b[1;32m    468\u001b[0m \u001b[0;34m\u001b[0m\u001b[0m\n\u001b[1;32m    469\u001b[0m     \u001b[0;32mtry\u001b[0m\u001b[0;34m:\u001b[0m\u001b[0;34m\u001b[0m\u001b[0m\n\u001b[0;32m--> 470\u001b[0;31m         \u001b[0mnp\u001b[0m\u001b[0;34m.\u001b[0m\u001b[0mtesting\u001b[0m\u001b[0;34m.\u001b[0m\u001b[0massert_allclose\u001b[0m\u001b[0;34m(\u001b[0m\u001b[0mjac\u001b[0m\u001b[0;34m,\u001b[0m \u001b[0mnjac\u001b[0m\u001b[0;34m,\u001b[0m \u001b[0matol\u001b[0m\u001b[0;34m=\u001b[0m\u001b[0matol\u001b[0m\u001b[0;34m,\u001b[0m \u001b[0mrtol\u001b[0m\u001b[0;34m=\u001b[0m\u001b[0mrtol\u001b[0m\u001b[0;34m)\u001b[0m\u001b[0;34m\u001b[0m\u001b[0m\n\u001b[0m\u001b[1;32m    471\u001b[0m     \u001b[0;32mexcept\u001b[0m \u001b[0mAssertionError\u001b[0m\u001b[0;34m:\u001b[0m\u001b[0;34m\u001b[0m\u001b[0m\n\u001b[1;32m    472\u001b[0m         \u001b[0;31m#print jac\u001b[0m\u001b[0;34m\u001b[0m\u001b[0;34m\u001b[0m\u001b[0m\n",
        "\u001b[0;32m/usr/lib/python2.7/dist-packages/numpy/testing/utils.pyc\u001b[0m in \u001b[0;36massert_allclose\u001b[0;34m(actual, desired, rtol, atol, err_msg, verbose)\u001b[0m\n\u001b[1;32m   1166\u001b[0m     \u001b[0mheader\u001b[0m \u001b[0;34m=\u001b[0m \u001b[0;34m'Not equal to tolerance rtol=%g, atol=%g'\u001b[0m \u001b[0;34m%\u001b[0m \u001b[0;34m(\u001b[0m\u001b[0mrtol\u001b[0m\u001b[0;34m,\u001b[0m \u001b[0matol\u001b[0m\u001b[0;34m)\u001b[0m\u001b[0;34m\u001b[0m\u001b[0m\n\u001b[1;32m   1167\u001b[0m     assert_array_compare(compare, actual, desired, err_msg=str(err_msg),\n\u001b[0;32m-> 1168\u001b[0;31m                          verbose=verbose, header=header)\n\u001b[0m\u001b[1;32m   1169\u001b[0m \u001b[0;34m\u001b[0m\u001b[0m\n\u001b[1;32m   1170\u001b[0m \u001b[0;32mdef\u001b[0m \u001b[0massert_array_almost_equal_nulp\u001b[0m\u001b[0;34m(\u001b[0m\u001b[0mx\u001b[0m\u001b[0;34m,\u001b[0m \u001b[0my\u001b[0m\u001b[0;34m,\u001b[0m \u001b[0mnulp\u001b[0m\u001b[0;34m=\u001b[0m\u001b[0;36m1\u001b[0m\u001b[0;34m)\u001b[0m\u001b[0;34m:\u001b[0m\u001b[0;34m\u001b[0m\u001b[0m\n",
        "\u001b[0;32m/usr/lib/python2.7/dist-packages/numpy/testing/utils.pyc\u001b[0m in \u001b[0;36massert_array_compare\u001b[0;34m(comparison, x, y, err_msg, verbose, header)\u001b[0m\n\u001b[1;32m    634\u001b[0m                                 names=('x', 'y'))\n\u001b[1;32m    635\u001b[0m             \u001b[0;32mif\u001b[0m \u001b[0;32mnot\u001b[0m \u001b[0mcond\u001b[0m \u001b[0;34m:\u001b[0m\u001b[0;34m\u001b[0m\u001b[0m\n\u001b[0;32m--> 636\u001b[0;31m                 \u001b[0;32mraise\u001b[0m \u001b[0mAssertionError\u001b[0m\u001b[0;34m(\u001b[0m\u001b[0mmsg\u001b[0m\u001b[0;34m)\u001b[0m\u001b[0;34m\u001b[0m\u001b[0m\n\u001b[0m\u001b[1;32m    637\u001b[0m     \u001b[0;32mexcept\u001b[0m \u001b[0mValueError\u001b[0m\u001b[0;34m,\u001b[0m \u001b[0me\u001b[0m\u001b[0;34m:\u001b[0m\u001b[0;34m\u001b[0m\u001b[0m\n\u001b[1;32m    638\u001b[0m         \u001b[0mheader\u001b[0m \u001b[0;34m=\u001b[0m \u001b[0;34m'error during assertion:\\n%s\\n\\n%s'\u001b[0m \u001b[0;34m%\u001b[0m \u001b[0;34m(\u001b[0m\u001b[0me\u001b[0m\u001b[0;34m,\u001b[0m \u001b[0mheader\u001b[0m\u001b[0;34m)\u001b[0m\u001b[0;34m\u001b[0m\u001b[0m\n",
        "\u001b[0;31mAssertionError\u001b[0m: \nNot equal to tolerance rtol=0.0001, atol=0.0001\n\n(mismatch 100.0%)\n x: array([[ -6.52107883e+00,  -3.67847814e+00,  -2.24372921e+00,\n          3.66057646e+00,  -1.39178400e+00,  -6.58502895e-01,\n          2.06139466e+02,   7.52101341e+00,   3.67852552e+00,...\n y: array([[ -6.52107110e+00,  -3.67847434e+00,  -2.24372371e+00,\n          3.66058271e+00,  -1.39177337e+00,  -6.58504121e-01,\n          2.06138833e+02,   7.52102238e+00,   3.67852846e+00,..."
       ]
      },
      {
       "output_type": "stream",
       "stream": "stdout",
       "text": [
        "fail fraction: 0.00226757369615\n",
        "max fail: 1.64497229828 at (12, 6)\n",
        "jac there: 17.405396976 njac there: 17.4023698372\n"
       ]
      }
     ],
     "prompt_number": 212
    },
    {
     "cell_type": "markdown",
     "metadata": {},
     "source": [
      "Aha! It all falls down when you take too many steps. Numerical errors in the derivative or the matrix multiplication add up and crush you. "
     ]
    },
    {
     "cell_type": "code",
     "collapsed": false,
     "input": [
      "def integrate_turn_vec(d):\n",
      "    O = ode(kepler.rhs_three_body_vectors)\n",
      "    O.set_integrator('vode', \n",
      "        method='adams',\n",
      "        first_step=pb_i/1e4,\n",
      "        nsteps=10000,\n",
      "        order=12,\n",
      "        rtol=1e-12)\n",
      "\n",
      "    v = np.arange(21)\n",
      "    i_s_v = np.concatenate(\n",
      "       (initial_state+d*v, v))\n",
      "    O.set_initial_value(i_s_v, 0)\n",
      "    O.integrate(pb_i/1e1)\n",
      "    return O.y[:21],O.y[21:,None]\n",
      "\n",
      "kepler.check_all_partials(integrate_turn_vec, (0,))"
     ],
     "language": "python",
     "metadata": {},
     "outputs": [
      {
       "ename": "AssertionError",
       "evalue": "\nNot equal to tolerance rtol=0.0001, atol=0.0001\n\n(mismatch 100.0%)\n x: array([[  -48.55505093],\n       [ -606.7682962 ],\n       [ -329.24349496],...\n y: array([[  -48.53094379],\n       [ -606.79675425],\n       [ -329.25728959],...",
       "output_type": "pyerr",
       "traceback": [
        "\u001b[0;31m---------------------------------------------------------------------------\u001b[0m\n\u001b[0;31mAssertionError\u001b[0m                            Traceback (most recent call last)",
        "\u001b[0;32m<ipython-input-207-d5e416996a35>\u001b[0m in \u001b[0;36m<module>\u001b[0;34m()\u001b[0m\n\u001b[1;32m     15\u001b[0m     \u001b[0;32mreturn\u001b[0m \u001b[0mO\u001b[0m\u001b[0;34m.\u001b[0m\u001b[0my\u001b[0m\u001b[0;34m[\u001b[0m\u001b[0;34m:\u001b[0m\u001b[0;36m21\u001b[0m\u001b[0;34m]\u001b[0m\u001b[0;34m,\u001b[0m\u001b[0mO\u001b[0m\u001b[0;34m.\u001b[0m\u001b[0my\u001b[0m\u001b[0;34m[\u001b[0m\u001b[0;36m21\u001b[0m\u001b[0;34m:\u001b[0m\u001b[0;34m,\u001b[0m\u001b[0mNone\u001b[0m\u001b[0;34m]\u001b[0m\u001b[0;34m\u001b[0m\u001b[0m\n\u001b[1;32m     16\u001b[0m \u001b[0;34m\u001b[0m\u001b[0m\n\u001b[0;32m---> 17\u001b[0;31m \u001b[0mkepler\u001b[0m\u001b[0;34m.\u001b[0m\u001b[0mcheck_all_partials\u001b[0m\u001b[0;34m(\u001b[0m\u001b[0mintegrate_turn_vec\u001b[0m\u001b[0;34m,\u001b[0m \u001b[0;34m(\u001b[0m\u001b[0;36m0\u001b[0m\u001b[0;34m,\u001b[0m\u001b[0;34m)\u001b[0m\u001b[0;34m)\u001b[0m\u001b[0;34m\u001b[0m\u001b[0m\n\u001b[0m",
        "\u001b[0;32m/home/peridot/projects/threebody/kepler.py\u001b[0m in \u001b[0;36mcheck_all_partials\u001b[0;34m(f, args, delta, atol, rtol)\u001b[0m\n\u001b[1;32m    468\u001b[0m \u001b[0;34m\u001b[0m\u001b[0m\n\u001b[1;32m    469\u001b[0m     \u001b[0;32mtry\u001b[0m\u001b[0;34m:\u001b[0m\u001b[0;34m\u001b[0m\u001b[0m\n\u001b[0;32m--> 470\u001b[0;31m         \u001b[0mnp\u001b[0m\u001b[0;34m.\u001b[0m\u001b[0mtesting\u001b[0m\u001b[0;34m.\u001b[0m\u001b[0massert_allclose\u001b[0m\u001b[0;34m(\u001b[0m\u001b[0mjac\u001b[0m\u001b[0;34m,\u001b[0m \u001b[0mnjac\u001b[0m\u001b[0;34m,\u001b[0m \u001b[0matol\u001b[0m\u001b[0;34m=\u001b[0m\u001b[0matol\u001b[0m\u001b[0;34m,\u001b[0m \u001b[0mrtol\u001b[0m\u001b[0;34m=\u001b[0m\u001b[0mrtol\u001b[0m\u001b[0;34m)\u001b[0m\u001b[0;34m\u001b[0m\u001b[0m\n\u001b[0m\u001b[1;32m    471\u001b[0m     \u001b[0;32mexcept\u001b[0m \u001b[0mAssertionError\u001b[0m\u001b[0;34m:\u001b[0m\u001b[0;34m\u001b[0m\u001b[0m\n\u001b[1;32m    472\u001b[0m         \u001b[0;31m#print jac\u001b[0m\u001b[0;34m\u001b[0m\u001b[0;34m\u001b[0m\u001b[0m\n",
        "\u001b[0;32m/usr/lib/python2.7/dist-packages/numpy/testing/utils.pyc\u001b[0m in \u001b[0;36massert_allclose\u001b[0;34m(actual, desired, rtol, atol, err_msg, verbose)\u001b[0m\n\u001b[1;32m   1166\u001b[0m     \u001b[0mheader\u001b[0m \u001b[0;34m=\u001b[0m \u001b[0;34m'Not equal to tolerance rtol=%g, atol=%g'\u001b[0m \u001b[0;34m%\u001b[0m \u001b[0;34m(\u001b[0m\u001b[0mrtol\u001b[0m\u001b[0;34m,\u001b[0m \u001b[0matol\u001b[0m\u001b[0;34m)\u001b[0m\u001b[0;34m\u001b[0m\u001b[0m\n\u001b[1;32m   1167\u001b[0m     assert_array_compare(compare, actual, desired, err_msg=str(err_msg),\n\u001b[0;32m-> 1168\u001b[0;31m                          verbose=verbose, header=header)\n\u001b[0m\u001b[1;32m   1169\u001b[0m \u001b[0;34m\u001b[0m\u001b[0m\n\u001b[1;32m   1170\u001b[0m \u001b[0;32mdef\u001b[0m \u001b[0massert_array_almost_equal_nulp\u001b[0m\u001b[0;34m(\u001b[0m\u001b[0mx\u001b[0m\u001b[0;34m,\u001b[0m \u001b[0my\u001b[0m\u001b[0;34m,\u001b[0m \u001b[0mnulp\u001b[0m\u001b[0;34m=\u001b[0m\u001b[0;36m1\u001b[0m\u001b[0;34m)\u001b[0m\u001b[0;34m:\u001b[0m\u001b[0;34m\u001b[0m\u001b[0m\n",
        "\u001b[0;32m/usr/lib/python2.7/dist-packages/numpy/testing/utils.pyc\u001b[0m in \u001b[0;36massert_array_compare\u001b[0;34m(comparison, x, y, err_msg, verbose, header)\u001b[0m\n\u001b[1;32m    634\u001b[0m                                 names=('x', 'y'))\n\u001b[1;32m    635\u001b[0m             \u001b[0;32mif\u001b[0m \u001b[0;32mnot\u001b[0m \u001b[0mcond\u001b[0m \u001b[0;34m:\u001b[0m\u001b[0;34m\u001b[0m\u001b[0m\n\u001b[0;32m--> 636\u001b[0;31m                 \u001b[0;32mraise\u001b[0m \u001b[0mAssertionError\u001b[0m\u001b[0;34m(\u001b[0m\u001b[0mmsg\u001b[0m\u001b[0;34m)\u001b[0m\u001b[0;34m\u001b[0m\u001b[0m\n\u001b[0m\u001b[1;32m    637\u001b[0m     \u001b[0;32mexcept\u001b[0m \u001b[0mValueError\u001b[0m\u001b[0;34m,\u001b[0m \u001b[0me\u001b[0m\u001b[0;34m:\u001b[0m\u001b[0;34m\u001b[0m\u001b[0m\n\u001b[1;32m    638\u001b[0m         \u001b[0mheader\u001b[0m \u001b[0;34m=\u001b[0m \u001b[0;34m'error during assertion:\\n%s\\n\\n%s'\u001b[0m \u001b[0;34m%\u001b[0m \u001b[0;34m(\u001b[0m\u001b[0me\u001b[0m\u001b[0;34m,\u001b[0m \u001b[0mheader\u001b[0m\u001b[0;34m)\u001b[0m\u001b[0;34m\u001b[0m\u001b[0m\n",
        "\u001b[0;31mAssertionError\u001b[0m: \nNot equal to tolerance rtol=0.0001, atol=0.0001\n\n(mismatch 100.0%)\n x: array([[  -48.55505093],\n       [ -606.7682962 ],\n       [ -329.24349496],...\n y: array([[  -48.53094379],\n       [ -606.79675425],\n       [ -329.25728959],..."
       ]
      },
      {
       "output_type": "stream",
       "stream": "stdout",
       "text": [
        "fail fraction: 0.190476190476\n",
        "max fail: 5.11071485328 at (7, 0)\n",
        "jac there: -44.8028840707 njac there: -44.8263045882\n"
       ]
      }
     ],
     "prompt_number": 207
    },
    {
     "cell_type": "code",
     "collapsed": false,
     "input": [
      "def integrate_turn_vec2(d1,d2):\n",
      "    O = ode(kepler.rhs_three_body_vectors)\n",
      "    O.set_integrator('vode', \n",
      "        method='adams',\n",
      "        first_step=pb_i/1e4,\n",
      "        nsteps=10000,\n",
      "        order=12,\n",
      "        atol=1e-12,\n",
      "        rtol=1e-12)\n",
      "\n",
      "    v1 = np.arange(21)\n",
      "    v2 = np.sin(np.arange(21))\n",
      "    i_s_v = np.concatenate(\n",
      "       (initial_state+d1*v1+d2*v2, v1, v2))\n",
      "    O.set_initial_value(i_s_v, 0)\n",
      "    O.integrate(pb_i/1e1)\n",
      "    return O.y[:21],O.y[21:].reshape((-1,21)).T\n",
      "\n",
      "kepler.check_all_partials(integrate_turn_vec2, (0,0))"
     ],
     "language": "python",
     "metadata": {},
     "outputs": [
      {
       "ename": "AssertionError",
       "evalue": "\nNot equal to tolerance rtol=0.0001, atol=0.0001\n\n(mismatch 100.0%)\n x: array([[ -4.85550509e+01,  -2.66376207e+00],\n       [ -6.06768296e+02,  -1.71229411e+01],\n       [ -3.29243495e+02,  -9.34666602e+00],...\n y: array([[ -4.85309436e+01,  -2.66375616e+00],\n       [ -6.06796755e+02,  -1.71229449e+01],\n       [ -3.29257289e+02,  -9.34667088e+00],...",
       "output_type": "pyerr",
       "traceback": [
        "\u001b[0;31m---------------------------------------------------------------------------\u001b[0m\n\u001b[0;31mAssertionError\u001b[0m                            Traceback (most recent call last)",
        "\u001b[0;32m<ipython-input-202-43bc892f3c35>\u001b[0m in \u001b[0;36m<module>\u001b[0;34m()\u001b[0m\n\u001b[1;32m     17\u001b[0m     \u001b[0;32mreturn\u001b[0m \u001b[0mO\u001b[0m\u001b[0;34m.\u001b[0m\u001b[0my\u001b[0m\u001b[0;34m[\u001b[0m\u001b[0;34m:\u001b[0m\u001b[0;36m21\u001b[0m\u001b[0;34m]\u001b[0m\u001b[0;34m,\u001b[0m\u001b[0mO\u001b[0m\u001b[0;34m.\u001b[0m\u001b[0my\u001b[0m\u001b[0;34m[\u001b[0m\u001b[0;36m21\u001b[0m\u001b[0;34m:\u001b[0m\u001b[0;34m]\u001b[0m\u001b[0;34m.\u001b[0m\u001b[0mreshape\u001b[0m\u001b[0;34m(\u001b[0m\u001b[0;34m(\u001b[0m\u001b[0;34m-\u001b[0m\u001b[0;36m1\u001b[0m\u001b[0;34m,\u001b[0m\u001b[0;36m21\u001b[0m\u001b[0;34m)\u001b[0m\u001b[0;34m)\u001b[0m\u001b[0;34m.\u001b[0m\u001b[0mT\u001b[0m\u001b[0;34m\u001b[0m\u001b[0m\n\u001b[1;32m     18\u001b[0m \u001b[0;34m\u001b[0m\u001b[0m\n\u001b[0;32m---> 19\u001b[0;31m \u001b[0mkepler\u001b[0m\u001b[0;34m.\u001b[0m\u001b[0mcheck_all_partials\u001b[0m\u001b[0;34m(\u001b[0m\u001b[0mintegrate_turn_vec2\u001b[0m\u001b[0;34m,\u001b[0m \u001b[0;34m(\u001b[0m\u001b[0;36m0\u001b[0m\u001b[0;34m,\u001b[0m\u001b[0;36m0\u001b[0m\u001b[0;34m)\u001b[0m\u001b[0;34m)\u001b[0m\u001b[0;34m\u001b[0m\u001b[0m\n\u001b[0m",
        "\u001b[0;32m/home/peridot/projects/threebody/kepler.py\u001b[0m in \u001b[0;36mcheck_all_partials\u001b[0;34m(f, args, delta, atol, rtol)\u001b[0m\n\u001b[1;32m    468\u001b[0m \u001b[0;34m\u001b[0m\u001b[0m\n\u001b[1;32m    469\u001b[0m     \u001b[0;32mtry\u001b[0m\u001b[0;34m:\u001b[0m\u001b[0;34m\u001b[0m\u001b[0m\n\u001b[0;32m--> 470\u001b[0;31m         \u001b[0mnp\u001b[0m\u001b[0;34m.\u001b[0m\u001b[0mtesting\u001b[0m\u001b[0;34m.\u001b[0m\u001b[0massert_allclose\u001b[0m\u001b[0;34m(\u001b[0m\u001b[0mjac\u001b[0m\u001b[0;34m,\u001b[0m \u001b[0mnjac\u001b[0m\u001b[0;34m,\u001b[0m \u001b[0matol\u001b[0m\u001b[0;34m=\u001b[0m\u001b[0matol\u001b[0m\u001b[0;34m,\u001b[0m \u001b[0mrtol\u001b[0m\u001b[0;34m=\u001b[0m\u001b[0mrtol\u001b[0m\u001b[0;34m)\u001b[0m\u001b[0;34m\u001b[0m\u001b[0m\n\u001b[0m\u001b[1;32m    471\u001b[0m     \u001b[0;32mexcept\u001b[0m \u001b[0mAssertionError\u001b[0m\u001b[0;34m:\u001b[0m\u001b[0;34m\u001b[0m\u001b[0m\n\u001b[1;32m    472\u001b[0m         \u001b[0;31m#print jac\u001b[0m\u001b[0;34m\u001b[0m\u001b[0;34m\u001b[0m\u001b[0m\n",
        "\u001b[0;32m/usr/lib/python2.7/dist-packages/numpy/testing/utils.pyc\u001b[0m in \u001b[0;36massert_allclose\u001b[0;34m(actual, desired, rtol, atol, err_msg, verbose)\u001b[0m\n\u001b[1;32m   1166\u001b[0m     \u001b[0mheader\u001b[0m \u001b[0;34m=\u001b[0m \u001b[0;34m'Not equal to tolerance rtol=%g, atol=%g'\u001b[0m \u001b[0;34m%\u001b[0m \u001b[0;34m(\u001b[0m\u001b[0mrtol\u001b[0m\u001b[0;34m,\u001b[0m \u001b[0matol\u001b[0m\u001b[0;34m)\u001b[0m\u001b[0;34m\u001b[0m\u001b[0m\n\u001b[1;32m   1167\u001b[0m     assert_array_compare(compare, actual, desired, err_msg=str(err_msg),\n\u001b[0;32m-> 1168\u001b[0;31m                          verbose=verbose, header=header)\n\u001b[0m\u001b[1;32m   1169\u001b[0m \u001b[0;34m\u001b[0m\u001b[0m\n\u001b[1;32m   1170\u001b[0m \u001b[0;32mdef\u001b[0m \u001b[0massert_array_almost_equal_nulp\u001b[0m\u001b[0;34m(\u001b[0m\u001b[0mx\u001b[0m\u001b[0;34m,\u001b[0m \u001b[0my\u001b[0m\u001b[0;34m,\u001b[0m \u001b[0mnulp\u001b[0m\u001b[0;34m=\u001b[0m\u001b[0;36m1\u001b[0m\u001b[0;34m)\u001b[0m\u001b[0;34m:\u001b[0m\u001b[0;34m\u001b[0m\u001b[0m\n",
        "\u001b[0;32m/usr/lib/python2.7/dist-packages/numpy/testing/utils.pyc\u001b[0m in \u001b[0;36massert_array_compare\u001b[0;34m(comparison, x, y, err_msg, verbose, header)\u001b[0m\n\u001b[1;32m    634\u001b[0m                                 names=('x', 'y'))\n\u001b[1;32m    635\u001b[0m             \u001b[0;32mif\u001b[0m \u001b[0;32mnot\u001b[0m \u001b[0mcond\u001b[0m \u001b[0;34m:\u001b[0m\u001b[0;34m\u001b[0m\u001b[0m\n\u001b[0;32m--> 636\u001b[0;31m                 \u001b[0;32mraise\u001b[0m \u001b[0mAssertionError\u001b[0m\u001b[0;34m(\u001b[0m\u001b[0mmsg\u001b[0m\u001b[0;34m)\u001b[0m\u001b[0;34m\u001b[0m\u001b[0m\n\u001b[0m\u001b[1;32m    637\u001b[0m     \u001b[0;32mexcept\u001b[0m \u001b[0mValueError\u001b[0m\u001b[0;34m,\u001b[0m \u001b[0me\u001b[0m\u001b[0;34m:\u001b[0m\u001b[0;34m\u001b[0m\u001b[0m\n\u001b[1;32m    638\u001b[0m         \u001b[0mheader\u001b[0m \u001b[0;34m=\u001b[0m \u001b[0;34m'error during assertion:\\n%s\\n\\n%s'\u001b[0m \u001b[0;34m%\u001b[0m \u001b[0;34m(\u001b[0m\u001b[0me\u001b[0m\u001b[0;34m,\u001b[0m \u001b[0mheader\u001b[0m\u001b[0;34m)\u001b[0m\u001b[0;34m\u001b[0m\u001b[0m\n",
        "\u001b[0;31mAssertionError\u001b[0m: \nNot equal to tolerance rtol=0.0001, atol=0.0001\n\n(mismatch 100.0%)\n x: array([[ -4.85550509e+01,  -2.66376207e+00],\n       [ -6.06768296e+02,  -1.71229411e+01],\n       [ -3.29243495e+02,  -9.34666602e+00],...\n y: array([[ -4.85309436e+01,  -2.66375616e+00],\n       [ -6.06796755e+02,  -1.71229449e+01],\n       [ -3.29257289e+02,  -9.34667088e+00],..."
       ]
      },
      {
       "output_type": "stream",
       "stream": "stdout",
       "text": [
        "fail fraction: 0.0952380952381\n",
        "max fail: 5.11026850233 at (7, 0)\n",
        "jac there: -44.8028840708 njac there: -44.8263025419\n"
       ]
      }
     ],
     "prompt_number": 202
    },
    {
     "cell_type": "code",
     "collapsed": false,
     "input": [
      "def integrate_turn(initial_state):\n",
      "    O = ode(kepler.rhs_three_body_vectors)\n",
      "    O.set_integrator('vode', \n",
      "        method='adams',\n",
      "        first_step=pb_i/1e4,\n",
      "        nsteps=10000,\n",
      "        order=12,\n",
      "        atol=1e-12,\n",
      "        rtol=1e-12)\n",
      "\n",
      "    i_s_v = np.concatenate(\n",
      "       (initial_state, np.eye(21).reshape((-1,))))\n",
      "    O.set_initial_value(i_s_v, 0)\n",
      "    O.integrate(pb_i/1e5)\n",
      "    return O.y[:21],O.y[21:].reshape((21,21)).T\n",
      "\n",
      "kepler.check_all_partials(\n",
      "    lambda *args: integrate_turn(np.array(args)), \n",
      "    initial_state,\n",
      "    delta=1e-8)"
     ],
     "language": "python",
     "metadata": {},
     "outputs": [
      {
       "ename": "AssertionError",
       "evalue": "\nNot equal to tolerance rtol=0.0001, atol=0.0001\n\n(mismatch 100.0%)\n x: array([[  1.00000000e+00,   6.72776901e-09,   4.04023866e-09,\n          2.71828183e-05,   6.16467888e-14,   3.70205433e-14,\n         -7.71986518e-16,  -1.76241611e-09,  -6.72776411e-09,...\n y: array([[  1.00001216e+00,   0.00000000e+00,   1.13686838e-05,\n          3.41060513e-05,   1.13686838e-05,   0.00000000e+00,\n          1.13686838e-05,   1.13686838e-05,   1.13686838e-05,...",
       "output_type": "pyerr",
       "traceback": [
        "\u001b[0;31m---------------------------------------------------------------------------\u001b[0m\n\u001b[0;31mAssertionError\u001b[0m                            Traceback (most recent call last)",
        "\u001b[0;32m<ipython-input-195-81fd64bcc9ce>\u001b[0m in \u001b[0;36m<module>\u001b[0;34m()\u001b[0m\n\u001b[1;32m     18\u001b[0m     \u001b[0;32mlambda\u001b[0m \u001b[0;34m*\u001b[0m\u001b[0margs\u001b[0m\u001b[0;34m:\u001b[0m \u001b[0mintegrate_turn\u001b[0m\u001b[0;34m(\u001b[0m\u001b[0mnp\u001b[0m\u001b[0;34m.\u001b[0m\u001b[0marray\u001b[0m\u001b[0;34m(\u001b[0m\u001b[0margs\u001b[0m\u001b[0;34m)\u001b[0m\u001b[0;34m)\u001b[0m\u001b[0;34m,\u001b[0m\u001b[0;34m\u001b[0m\u001b[0m\n\u001b[1;32m     19\u001b[0m     \u001b[0minitial_state\u001b[0m\u001b[0;34m,\u001b[0m\u001b[0;34m\u001b[0m\u001b[0m\n\u001b[0;32m---> 20\u001b[0;31m     delta=1e-8)\n\u001b[0m",
        "\u001b[0;32m/home/peridot/projects/threebody/kepler.py\u001b[0m in \u001b[0;36mcheck_all_partials\u001b[0;34m(f, args, delta, atol, rtol)\u001b[0m\n\u001b[1;32m    468\u001b[0m \u001b[0;34m\u001b[0m\u001b[0m\n\u001b[1;32m    469\u001b[0m     \u001b[0;32mtry\u001b[0m\u001b[0;34m:\u001b[0m\u001b[0;34m\u001b[0m\u001b[0m\n\u001b[0;32m--> 470\u001b[0;31m         \u001b[0mnp\u001b[0m\u001b[0;34m.\u001b[0m\u001b[0mtesting\u001b[0m\u001b[0;34m.\u001b[0m\u001b[0massert_allclose\u001b[0m\u001b[0;34m(\u001b[0m\u001b[0mjac\u001b[0m\u001b[0;34m,\u001b[0m \u001b[0mnjac\u001b[0m\u001b[0;34m,\u001b[0m \u001b[0matol\u001b[0m\u001b[0;34m=\u001b[0m\u001b[0matol\u001b[0m\u001b[0;34m,\u001b[0m \u001b[0mrtol\u001b[0m\u001b[0;34m=\u001b[0m\u001b[0mrtol\u001b[0m\u001b[0;34m)\u001b[0m\u001b[0;34m\u001b[0m\u001b[0m\n\u001b[0m\u001b[1;32m    471\u001b[0m     \u001b[0;32mexcept\u001b[0m \u001b[0mAssertionError\u001b[0m\u001b[0;34m:\u001b[0m\u001b[0;34m\u001b[0m\u001b[0m\n\u001b[1;32m    472\u001b[0m         \u001b[0;31m#print jac\u001b[0m\u001b[0;34m\u001b[0m\u001b[0;34m\u001b[0m\u001b[0m\n",
        "\u001b[0;32m/usr/lib/python2.7/dist-packages/numpy/testing/utils.pyc\u001b[0m in \u001b[0;36massert_allclose\u001b[0;34m(actual, desired, rtol, atol, err_msg, verbose)\u001b[0m\n\u001b[1;32m   1166\u001b[0m     \u001b[0mheader\u001b[0m \u001b[0;34m=\u001b[0m \u001b[0;34m'Not equal to tolerance rtol=%g, atol=%g'\u001b[0m \u001b[0;34m%\u001b[0m \u001b[0;34m(\u001b[0m\u001b[0mrtol\u001b[0m\u001b[0;34m,\u001b[0m \u001b[0matol\u001b[0m\u001b[0;34m)\u001b[0m\u001b[0;34m\u001b[0m\u001b[0m\n\u001b[1;32m   1167\u001b[0m     assert_array_compare(compare, actual, desired, err_msg=str(err_msg),\n\u001b[0;32m-> 1168\u001b[0;31m                          verbose=verbose, header=header)\n\u001b[0m\u001b[1;32m   1169\u001b[0m \u001b[0;34m\u001b[0m\u001b[0m\n\u001b[1;32m   1170\u001b[0m \u001b[0;32mdef\u001b[0m \u001b[0massert_array_almost_equal_nulp\u001b[0m\u001b[0;34m(\u001b[0m\u001b[0mx\u001b[0m\u001b[0;34m,\u001b[0m \u001b[0my\u001b[0m\u001b[0;34m,\u001b[0m \u001b[0mnulp\u001b[0m\u001b[0;34m=\u001b[0m\u001b[0;36m1\u001b[0m\u001b[0;34m)\u001b[0m\u001b[0;34m:\u001b[0m\u001b[0;34m\u001b[0m\u001b[0m\n",
        "\u001b[0;32m/usr/lib/python2.7/dist-packages/numpy/testing/utils.pyc\u001b[0m in \u001b[0;36massert_array_compare\u001b[0;34m(comparison, x, y, err_msg, verbose, header)\u001b[0m\n\u001b[1;32m    634\u001b[0m                                 names=('x', 'y'))\n\u001b[1;32m    635\u001b[0m             \u001b[0;32mif\u001b[0m \u001b[0;32mnot\u001b[0m \u001b[0mcond\u001b[0m \u001b[0;34m:\u001b[0m\u001b[0;34m\u001b[0m\u001b[0m\n\u001b[0;32m--> 636\u001b[0;31m                 \u001b[0;32mraise\u001b[0m \u001b[0mAssertionError\u001b[0m\u001b[0;34m(\u001b[0m\u001b[0mmsg\u001b[0m\u001b[0;34m)\u001b[0m\u001b[0;34m\u001b[0m\u001b[0m\n\u001b[0m\u001b[1;32m    637\u001b[0m     \u001b[0;32mexcept\u001b[0m \u001b[0mValueError\u001b[0m\u001b[0;34m,\u001b[0m \u001b[0me\u001b[0m\u001b[0;34m:\u001b[0m\u001b[0;34m\u001b[0m\u001b[0m\n\u001b[1;32m    638\u001b[0m         \u001b[0mheader\u001b[0m \u001b[0;34m=\u001b[0m \u001b[0;34m'error during assertion:\\n%s\\n\\n%s'\u001b[0m \u001b[0;34m%\u001b[0m \u001b[0;34m(\u001b[0m\u001b[0me\u001b[0m\u001b[0;34m,\u001b[0m \u001b[0mheader\u001b[0m\u001b[0;34m)\u001b[0m\u001b[0;34m\u001b[0m\u001b[0m\n",
        "\u001b[0;31mAssertionError\u001b[0m: \nNot equal to tolerance rtol=0.0001, atol=0.0001\n\n(mismatch 100.0%)\n x: array([[  1.00000000e+00,   6.72776901e-09,   4.04023866e-09,\n          2.71828183e-05,   6.16467888e-14,   3.70205433e-14,\n         -7.71986518e-16,  -1.76241611e-09,  -6.72776411e-09,...\n y: array([[  1.00001216e+00,   0.00000000e+00,   1.13686838e-05,\n          3.41060513e-05,   1.13686838e-05,   0.00000000e+00,\n          1.13686838e-05,   1.13686838e-05,   1.13686838e-05,..."
       ]
      },
      {
       "output_type": "stream",
       "stream": "stdout",
       "text": [
        "fail fraction: 0.00226757369615\n",
        "max fail: 1.36405596239 at (8, 13)\n",
        "jac there: 1.47875190096e-15 njac there: 0.000136424205266\n"
       ]
      }
     ],
     "prompt_number": 195
    },
    {
     "cell_type": "code",
     "collapsed": false,
     "input": [],
     "language": "python",
     "metadata": {},
     "outputs": []
    }
   ],
   "metadata": {}
  }
 ]
}