{
 "metadata": {
  "name": "a-auto-tzrmjd"
 },
 "nbformat": 3,
 "nbformat_minor": 0,
 "worksheets": [
  {
   "cells": [
    {
     "cell_type": "code",
     "collapsed": false,
     "input": [
      "%load_ext autoreload\n",
      "\n",
      "%autoreload 2"
     ],
     "language": "python",
     "metadata": {},
     "outputs": [],
     "prompt_number": 1
    },
    {
     "cell_type": "code",
     "collapsed": false,
     "input": [
      "import scipy.linalg\n",
      "\n",
      "import threebody\n",
      "import minuit_wrap"
     ],
     "language": "python",
     "metadata": {},
     "outputs": [],
     "prompt_number": 21
    },
    {
     "cell_type": "code",
     "collapsed": false,
     "input": [
      "import matplotlib\n",
      "matplotlib.rcParams['savefig.dpi'] = 120"
     ],
     "language": "python",
     "metadata": {},
     "outputs": [],
     "prompt_number": 3
    },
    {
     "cell_type": "code",
     "collapsed": false,
     "input": [
      "F = threebody.Fitter(\"0337+17-scott-2013-06-06\",tzrmjd_middle='weighted',\n",
      "    priors=['dbeta','dgamma'],ppn_mode='heavysimple')"
     ],
     "language": "python",
     "metadata": {},
     "outputs": [],
     "prompt_number": 4
    },
    {
     "cell_type": "code",
     "collapsed": false,
     "input": [
      "p = F.best_parameters.copy()\n",
      "del p['tzrmjd']\n",
      "del p['f0']\n",
      "del p['f1']"
     ],
     "language": "python",
     "metadata": {},
     "outputs": [],
     "prompt_number": 5
    },
    {
     "cell_type": "code",
     "collapsed": false,
     "input": [
      "r = F.residuals(p)"
     ],
     "language": "python",
     "metadata": {},
     "outputs": [],
     "prompt_number": 13
    },
    {
     "cell_type": "code",
     "collapsed": false,
     "input": [
      "-2*F.lnprob(p)*F.efac**2"
     ],
     "language": "python",
     "metadata": {},
     "outputs": [
      {
       "output_type": "pyout",
       "prompt_number": 14,
       "text": [
        "42865.840021550198227"
       ]
      }
     ],
     "prompt_number": 14
    },
    {
     "cell_type": "code",
     "collapsed": false,
     "input": [
      "jumps = np.dot(F.jmatrix,np.array([p[n] for n in F.jnames]))\n",
      "o = threebody.compute_orbit(p,\n",
      "    (F.mjds-F.base_mjd)-(jumps/86400.).astype(np.float128))\n",
      "t_psr = o['t_psr']\n",
      "t_psr_s = t_psr*86400."
     ],
     "language": "python",
     "metadata": {},
     "outputs": [],
     "prompt_number": 18
    },
    {
     "cell_type": "code",
     "collapsed": false,
     "input": [
      "At = [np.ones(len(t_psr_s)), t_psr_s, 0.5*t_psr_s**2]\n",
      "b = F.pulses.copy()\n",
      "A = np.array(At).T\n",
      "r = np.zeros(3,dtype=np.float128)\n",
      "for i in range(3):\n",
      "    print np.sum((b/F.phase_uncerts)**2)\n",
      "    x, rk, res, s = scipy.linalg.lstsq(A/F.phase_uncerts[:,None],\n",
      "                                       b/F.phase_uncerts)\n",
      "    print x\n",
      "    b -= np.dot(A,x)\n",
      "    r += x\n",
      "print np.sum((b/F.phase_uncerts)**2)"
     ],
     "language": "python",
     "metadata": {},
     "outputs": [
      {
       "output_type": "stream",
       "stream": "stdout",
       "text": [
        "1.6754183736e+30\n",
        "[ -6.26421638e+09   3.65953369e+02   6.14807006e-15]\n",
        "2.67428872555e+13\n",
        "[ -1.20554490e+01   5.96723309e-08  -8.51561987e-15]\n",
        "42865.839887\n",
        "[ -1.96560475e-09   9.70808447e-18  -1.38745557e-24]\n",
        "42865.8398863\n"
       ]
      }
     ],
     "prompt_number": 91
    },
    {
     "cell_type": "code",
     "collapsed": false,
     "input": [
      "print r[1], r[1]-F.best_parameters['f0']\n",
      "print r[2], r[2]-F.best_parameters['f1']"
     ],
     "language": "python",
     "metadata": {},
     "outputs": [
      {
       "output_type": "stream",
       "stream": "stdout",
       "text": [
        "365.953368788 -1.43773881689e-14\n",
        "-2.36754981041e-15 1.32398465777e-21\n"
       ]
      }
     ],
     "prompt_number": 62
    },
    {
     "cell_type": "code",
     "collapsed": false,
     "input": [
      "r[0]*r[1], F.pulses[0]"
     ],
     "language": "python",
     "metadata": {},
     "outputs": [
      {
       "output_type": "pyout",
       "prompt_number": 63,
       "text": [
        "(-2292411092503.8054986, -5918678748.0)"
       ]
      }
     ],
     "prompt_number": 63
    },
    {
     "cell_type": "code",
     "collapsed": false,
     "input": [
      "def err(tzrmjd_s):\n",
      "    f0 = r[1]\n",
      "    f1 = r[2]\n",
      "    phase = f0*t_psr_s+f1*t_psr_s**2/2.\n",
      "    phase -= f0*tzrmjd_s+f1*tzrmjd_s**2/2.\n",
      "    rr = phase-F.pulses\n",
      "    rr /= F.phase_uncerts\n",
      "    return np.sum(rr**2)"
     ],
     "language": "python",
     "metadata": {},
     "outputs": [],
     "prompt_number": 69
    },
    {
     "cell_type": "code",
     "collapsed": false,
     "input": [
      "a = (F.mjds[0]-F.base_mjd)*86400\n",
      "b = (F.mjds[-1]-F.base_mjd)*86400\n",
      "tzrmjd_s, fval, iter, funcalls = scipy.optimize.brent(err, brack=(a,b), tol=1e-160, full_output=True)\n",
      "tzrmjd_s, fval, iter, funcalls"
     ],
     "language": "python",
     "metadata": {},
     "outputs": [
      {
       "output_type": "pyout",
       "prompt_number": 89,
       "text": [
        "(17117526.246394647271, 42865.840453087842469, 7, 8)"
       ]
      }
     ],
     "prompt_number": 89
    },
    {
     "cell_type": "code",
     "collapsed": false,
     "input": [
      "err(tzrmjd_s)"
     ],
     "language": "python",
     "metadata": {},
     "outputs": [
      {
       "output_type": "pyout",
       "prompt_number": 81,
       "text": [
        "763156.91754024377013"
       ]
      }
     ],
     "prompt_number": 81
    },
    {
     "cell_type": "code",
     "collapsed": false,
     "input": [
      "err(0), err(a), err(b)"
     ],
     "language": "python",
     "metadata": {},
     "outputs": [
      {
       "output_type": "pyout",
       "prompt_number": 72,
       "text": [
        "(7.078377707279000184e+30,\n",
        " 3.4157581058072571675e+28,\n",
        " 3.8486101510777523441e+29)"
       ]
      }
     ],
     "prompt_number": 72
    },
    {
     "cell_type": "code",
     "collapsed": false,
     "input": [
      "r[1]*tzrmjd_s+r[2]*tzrmjd_s**2/2., r[0]"
     ],
     "language": "python",
     "metadata": {},
     "outputs": [
      {
       "output_type": "pyout",
       "prompt_number": 74,
       "text": [
        "(6264216394.8344219672, -6264216394.8324236986)"
       ]
      }
     ],
     "prompt_number": 74
    },
    {
     "cell_type": "code",
     "collapsed": false,
     "input": [],
     "language": "python",
     "metadata": {},
     "outputs": []
    }
   ],
   "metadata": {}
  }
 ]
}