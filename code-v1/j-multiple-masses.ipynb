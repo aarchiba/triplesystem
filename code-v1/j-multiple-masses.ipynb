{
 "cells": [
  {
   "cell_type": "code",
   "execution_count": 7,
   "metadata": {
    "collapsed": false
   },
   "outputs": [
    {
     "name": "stdout",
     "output_type": "stream",
     "text": [
      "The autoreload extension is already loaded. To reload it, use:\n",
      "  %reload_ext autoreload\n"
     ]
    }
   ],
   "source": [
    "%load_ext autoreload\n",
    "\n",
    "%autoreload 2"
   ]
  },
  {
   "cell_type": "code",
   "execution_count": 8,
   "metadata": {
    "collapsed": true
   },
   "outputs": [],
   "source": [
    "from __future__ import division\n",
    "from glob import glob\n",
    "import os\n",
    "import time\n",
    "import cPickle as pickle\n",
    "\n",
    "import scipy.linalg\n",
    "import scipy.stats\n",
    "\n",
    "import emcee\n",
    "import numdifftools\n",
    "\n",
    "import kepler\n",
    "import threebody"
   ]
  },
  {
   "cell_type": "code",
   "execution_count": 11,
   "metadata": {
    "collapsed": false
   },
   "outputs": [],
   "source": [
    "fpickle = \"fitter_params.pickle\"\n",
    "d = pickle.load(open(fpickle,\"rb\"))\n",
    "d['files'] = 'fake-uniform'\n",
    "d['kopeikin'] = True\n",
    "d['fit_pm'] = True\n",
    "d['fit_px'] = True\n",
    "\n",
    "F = threebody.Fitter(**d)\n"
   ]
  },
  {
   "cell_type": "code",
   "execution_count": 12,
   "metadata": {
    "collapsed": false
   },
   "outputs": [
    {
     "data": {
      "text/plain": [
       "{'efac': (('AO1440', 1.45),\n",
       "  ('GBT1500', 1.11),\n",
       "  ('GBT1500s', 1.11),\n",
       "  ('WSRT1400', 1.45)),\n",
       " 'files': 'fake-uniform',\n",
       " 'fit_pm': True,\n",
       " 'fit_pos': False,\n",
       " 'fit_px': True,\n",
       " 'kopeikin': True,\n",
       " 'linear_jumps': True,\n",
       " 'ppn_mode': 'heavysimple',\n",
       " 'priors': ('dbeta', 'dgamma'),\n",
       " 't2_astrometry': False,\n",
       " 'tzrmjd_middle': 'auto'}"
      ]
     },
     "execution_count": 12,
     "metadata": {},
     "output_type": "execute_result"
    }
   ],
   "source": [
    "d"
   ]
  },
  {
   "cell_type": "code",
   "execution_count": 13,
   "metadata": {
    "collapsed": false
   },
   "outputs": [
    {
     "data": {
      "text/plain": [
       "{'acosi_i': 1.4906026211744192,\n",
       " 'acosi_o': 91.45306511868512,\n",
       " 'asini_i': 1.2175266047808866,\n",
       " 'asini_o': 74.67270046836649,\n",
       " 'd_DECJ': 0,\n",
       " 'd_PMDEC': 0,\n",
       " 'd_PMRA': 0,\n",
       " 'd_PX': 0,\n",
       " 'd_RAJ': 0,\n",
       " 'dbeta': 0,\n",
       " 'delta': 0,\n",
       " 'delta_lan': 5.2353855210995294e-05,\n",
       " 'dgamma': 0,\n",
       " 'eps1_i': 0.0006871960477540105,\n",
       " 'eps1_o': 0.03518625484392224,\n",
       " 'eps2_i': -9.116341168613552e-05,\n",
       " 'eps2_o': -0.0034621826187927287,\n",
       " 'f0': 365.95336878765835,\n",
       " 'j_AO1350': 5.364017648361716e-05,\n",
       " 'j_AO1440': 4.928169959977888e-05,\n",
       " 'j_AO327': 6.457616019511097e-05,\n",
       " 'j_GBT1500': 6.263233068203105e-05,\n",
       " 'j_GBT350': 1.8912917353649655e-05,\n",
       " 'j_GBT820': 6.712253154451129e-05,\n",
       " 'j_NCY1400': 0.000675,\n",
       " 'j_WSRT350': -3.6063906052781444e-05,\n",
       " 'lan': 0,\n",
       " 'pb_i': 1.6293969135798416,\n",
       " 'pb_o': 327.2574914403988,\n",
       " 'pm_x': -4.7253571656398304e-11,\n",
       " 'pm_y': 5.176655321908803e-11,\n",
       " 'ppn_mode': 'heavysimple',\n",
       " 'q_i': 0.13733426409023541,\n",
       " 'shapiro': True,\n",
       " 'tasc_i': 0.40751890523964546,\n",
       " 'tasc_o': 313.93556809302754,\n",
       " 'tol': 1e-16,\n",
       " 'use_quad': False}"
      ]
     },
     "execution_count": 13,
     "metadata": {},
     "output_type": "execute_result"
    }
   ],
   "source": [
    "F.best_parameters"
   ]
  },
  {
   "cell_type": "code",
   "execution_count": 14,
   "metadata": {
    "collapsed": false
   },
   "outputs": [
    {
     "data": {
      "text/plain": [
       "['asini_i',\n",
       " 'pb_i',\n",
       " 'eps1_i',\n",
       " 'eps2_i',\n",
       " 'tasc_i',\n",
       " 'acosi_i',\n",
       " 'q_i',\n",
       " 'asini_o',\n",
       " 'pb_o',\n",
       " 'eps1_o',\n",
       " 'eps2_o',\n",
       " 'tasc_o',\n",
       " 'acosi_o',\n",
       " 'delta_lan',\n",
       " 'lan',\n",
       " 'delta',\n",
       " 'dgamma',\n",
       " 'dbeta']"
      ]
     },
     "execution_count": 14,
     "metadata": {},
     "output_type": "execute_result"
    }
   ],
   "source": [
    "F.parameters"
   ]
  },
  {
   "cell_type": "code",
   "execution_count": null,
   "metadata": {
    "collapsed": true
   },
   "outputs": [],
   "source": []
  }
 ],
 "metadata": {
  "kernelspec": {
   "display_name": "Python 2",
   "language": "python",
   "name": "python2"
  },
  "language_info": {
   "codemirror_mode": {
    "name": "ipython",
    "version": 2
   },
   "file_extension": ".py",
   "mimetype": "text/x-python",
   "name": "python",
   "nbconvert_exporter": "python",
   "pygments_lexer": "ipython2",
   "version": "2.7.3"
  }
 },
 "nbformat": 4,
 "nbformat_minor": 0
}
