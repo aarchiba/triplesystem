{
 "metadata": {
  "name": "generate_btx"
 },
 "nbformat": 3,
 "nbformat_minor": 0,
 "worksheets": [
  {
   "cells": [
    {
     "cell_type": "code",
     "collapsed": false,
     "input": [
      "from __future__ import division\n",
      "\n",
      "import os\n",
      "import subprocess\n",
      "\n",
      "import residuals # from PRESTO"
     ],
     "language": "python",
     "metadata": {},
     "outputs": [],
     "prompt_number": 218
    },
    {
     "cell_type": "code",
     "collapsed": false,
     "input": [
      "MJD = 56100\n",
      "fixedbtx = False\n",
      "length = 10\n",
      "filename = \"osculating.txt\"\n",
      "ntemptim = \"temp.tim\"\n",
      "ntemppulses = \"temp.pulses\"\n",
      "toafile = \"fake.tim\"\n",
      "pulsesfile = \"fake.pulses\"\n",
      "parfile = \"osculating.par\""
     ],
     "language": "python",
     "metadata": {},
     "outputs": [],
     "prompt_number": 268
    },
    {
     "cell_type": "code",
     "collapsed": false,
     "input": [
      "\n",
      "osculating_parameters = np.loadtxt(filename)\n",
      "\n",
      "i = np.searchsorted(osculating_parameters[:,0],MJD)\n",
      "if osculating_parameters[i+1,0]-MJD<MJD-osculating_parameters[i,0]:\n",
      "    i += 1\n",
      "col_names = open(filename).readline().split()[1:]\n",
      "d = dict(zip(col_names,osculating_parameters[i]))\n",
      "\n",
      "if fixedbtx:\n",
      "    d['model'] = \"BTX\"\n",
      "    d['omdot'] = 0\n",
      "else:\n",
      "    d['model'] = \"BTX\"\n",
      "    d['t0_i'] = d['t0_i']+d['z_i']/86400\n",
      "    d['pb_i'] = d['pb_i']*(1+d['vz_i']/86400.)\n"
     ],
     "language": "python",
     "metadata": {},
     "outputs": [],
     "prompt_number": 269
    },
    {
     "cell_type": "code",
     "collapsed": false,
     "input": [
      "template = \"\"\"PSR              J0337+17    \n",
      "RAJ      03:37:43.82589000\n",
      "DECJ      17:15:14.8281000\n",
      "F0                  {f0!r} 1\n",
      "F1                  {f1!r}\n",
      "PEPOCH        56100.000000\n",
      "DM               21.313000\n",
      "SOLARN0              10.00\n",
      "EPHEM             DE405\n",
      "CLK               UTC(NIST)   \n",
      "TZRMJD  56100.13622674904489\n",
      "TZRFRQ            1379.999\n",
      "TZRSITE                  j\n",
      "NITS                     1\n",
      "BINARY             {model}     \n",
      "PLAN  1\n",
      "A1             {asini_i!r} 1 \n",
      "E                  {e_i!r} \n",
      "T0                {t0_i!r} 1\n",
      "OM                {om_i!r} 1\n",
      "PB                {pb_i!r} 1\n",
      "A1_2           {asini_o!r} \n",
      "E_2                {e_o!r}\n",
      "T0_2              {t0_o!r} \n",
      "PB_2              {pb_o!r} \n",
      "OM_2              {om_o!r} \n",
      "\"\"\"\n",
      "\n",
      "with open(parfile,\"wt\") as f:\n",
      "    f.write(template.format(**d))"
     ],
     "language": "python",
     "metadata": {},
     "outputs": [],
     "prompt_number": 270
    },
    {
     "cell_type": "code",
     "collapsed": false,
     "input": [
      "n = 0\n",
      "tempo2 = False\n",
      "with open(ntemptim, \"wt\") as temptim:\n",
      "    with open(ntemppulses, \"wt\") as temppulses:\n",
      "        for toaline, pulseline in zip(open(toafile,\"rt\").readlines(),\n",
      "                                      open(pulsesfile,\"rt\").readlines()):\n",
      "            if toaline.strip() == \"FORMAT 1\":\n",
      "                tempo2 = True\n",
      "                temptim.write(toaline)\n",
      "                continue\n",
      "            if tempo2:\n",
      "                toa = float(toaline.split()[2])\n",
      "            else:\n",
      "                toa = float(toaline[24:44])\n",
      "            if MJD-length/2.<=toa<=MJD+length/2.:\n",
      "                temptim.write(toaline)\n",
      "                temppulses.write(pulseline)\n",
      "                n += 1\n",
      "if n==0:\n",
      "    raise ValueError(\"Input MJD past end or before beginning of simulated TOAs\")\n"
     ],
     "language": "python",
     "metadata": {},
     "outputs": [],
     "prompt_number": 271
    },
    {
     "cell_type": "code",
     "collapsed": false,
     "input": [
      "os.environ['TEMPO'] = \"/home/peridot/software/tempo/tempo\"\n",
      "subprocess.check_call([\"tempo\",\n",
      "        \"-ni\",ntemppulses,\n",
      "        \"-f\",parfile,\n",
      "        ntemptim])\n"
     ],
     "language": "python",
     "metadata": {},
     "outputs": [
      {
       "output_type": "pyout",
       "prompt_number": 272,
       "text": [
        "0"
       ]
      }
     ],
     "prompt_number": 272
    },
    {
     "cell_type": "code",
     "collapsed": false,
     "input": [
      "r = residuals.read_residuals()"
     ],
     "language": "python",
     "metadata": {},
     "outputs": [],
     "prompt_number": 273
    },
    {
     "cell_type": "code",
     "collapsed": false,
     "input": [
      "plt.plot(r.bary_TOA-MJD, 1e6*r.postfit_sec)\n",
      "plt.xlabel(\"MJD-%d\" % MJD)\n",
      "plt.ylabel(\"Residual ($\\mu$s)\")\n",
      "nx,xx = plt.gca().get_xlim()\n",
      "ny,xy = plt.gca().get_ylim()\n",
      "plt.twinx()\n",
      "plt.ylim(ny*d['f0']/1e6, xy*d['f0']/1e6)\n",
      "plt.ylabel(\"Residual (phase)\")\n",
      "plt.twiny()\n",
      "def mtoo(m):\n",
      "    return (m+MJD-d['t0_i'])/d['pb_i']\n",
      "plt.xlim(mtoo(nx), mtoo(xx))\n",
      "plt.xlabel(\"Inner orbital phase\")\n",
      "#print d['t0_i'], d['pb_i']\n",
      "print np.std(1e6*r.postfit_sec)"
     ],
     "language": "python",
     "metadata": {},
     "outputs": [
      {
       "output_type": "stream",
       "stream": "stdout",
       "text": [
        "3.92099279521\n"
       ]
      },
      {
       "output_type": "display_data",
       "png": "[encoded data removed]"
      }
     ],
     "prompt_number": 275
    },
    {
     "cell_type": "code",
     "collapsed": false,
     "input": [
      "import threebody\n",
      "import kepler"
     ],
     "language": "python",
     "metadata": {},
     "outputs": [],
     "prompt_number": 208
    },
    {
     "cell_type": "code",
     "collapsed": false,
     "input": [
      "mjds, delays, tel_list, tels, uncerts = threebody.load_data()\n",
      "times = np.arange(1000)\n",
      "f0, f0err = 365.9533436144258189, 0.0000000000656904\n",
      "f1, f1err = 7.833539631670e-15, 1.490959143049e-17\n",
      "pepoch = 56100.000000\n",
      "mjdbase = 55920"
     ],
     "language": "python",
     "metadata": {},
     "outputs": [],
     "prompt_number": 226
    },
    {
     "cell_type": "code",
     "collapsed": false,
     "input": [
      "o_fit = threebody.compute_orbit(threebody.best_parameters_nogr, mjds)"
     ],
     "language": "python",
     "metadata": {},
     "outputs": [],
     "prompt_number": 210
    },
    {
     "cell_type": "code",
     "collapsed": false,
     "input": [
      "lin, lin_names = threebody.trend_matrix(mjds, tel_list, tels, \n",
      "        f0=f0, pepoch=pepoch, mjdbase=mjdbase)\n",
      "odelay = o_fit[\"delays\"]\n",
      "ps = np.sqrt(np.mean(lin**2, axis=0))\n",
      "x, rk, resids, s = scipy.linalg.lstsq(lin/uncerts[:,None]/ps[None,:],(odelay-delays)/uncerts)\n",
      "lin_parameters = -x/ps"
     ],
     "language": "python",
     "metadata": {},
     "outputs": [],
     "prompt_number": 211
    },
    {
     "cell_type": "code",
     "collapsed": false,
     "input": [
      "L = lin[:,[lin_names.index(\"const\"),lin_names.index(\"f0error\")]]\n",
      "x, rk, resids, s = scipy.linalg.lstsq(L/uncerts[:,None],  \n",
      "        (86400*o_fit[\"einstein_delays\"])/uncerts)\n",
      "f0_einstein = x[1]"
     ],
     "language": "python",
     "metadata": {},
     "outputs": [],
     "prompt_number": 215
    },
    {
     "cell_type": "code",
     "collapsed": false,
     "input": [
      "print f0, -lin_parameters[lin_names.index(\"f0error\")], -f0_einstein"
     ],
     "language": "python",
     "metadata": {},
     "outputs": [
      {
       "output_type": "stream",
       "stream": "stdout",
       "text": [
        "365.953343614 -4.44825171901e-05 -2.49843586937e-05\n"
       ]
      }
     ],
     "prompt_number": 216
    },
    {
     "cell_type": "code",
     "collapsed": false,
     "input": [
      "tf0 = f0 -0*lin_parameters[lin_names.index(\"f0error\")]-0*f0_einstein\n",
      "#f1 += -lin_parameters[lin_names.index(\"f1error\")]\n",
      "print tf0, (tf0-365.95334366782265079)"
     ],
     "language": "python",
     "metadata": {},
     "outputs": [
      {
       "output_type": "stream",
       "stream": "stdout",
       "text": [
        "365.953343614 -5.3396831845e-08\n"
       ]
      }
     ],
     "prompt_number": 235
    },
    {
     "cell_type": "code",
     "collapsed": false,
     "input": [],
     "language": "python",
     "metadata": {},
     "outputs": []
    }
   ],
   "metadata": {}
  }
 ]
}