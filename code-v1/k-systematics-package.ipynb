{
 "cells": [
  {
   "cell_type": "markdown",
   "metadata": {},
   "source": [
    "# Making a package for systematics analysis\n",
    "\n",
    "The idea of this notebook is to take a fully-converged MCMC fit and produce a package of data files suitable for analyzing the unmodelled systematics remaining in the data. It should contain:\n",
    "\n",
    "* The best-fit parameter names, values, and uncertainties (covariance matrix)\n",
    "* Names, values, and uncertainties on any parameters obtained by linear fitting\n",
    "* Names, values, and uncertainties for derived parameters\n",
    "* The astrometric parameters that went into the calculation\n",
    "* The settings used in the fitting\n",
    "* Residuals of the fitting, in the form of a matrix with columns time, residual (phase), uncertainty\n",
    "* Derivatives of the residuals with respect to all fitted parameters\n",
    "* Derivatives of an imaginary uniformly sampled data set with respect to all fitted parameters\n"
   ]
  },
  {
   "cell_type": "code",
   "execution_count": 4,
   "metadata": {},
   "outputs": [
    {
     "name": "stdout",
     "output_type": "stream",
     "text": [
      "The autoreload extension is already loaded. To reload it, use:\n",
      "  %reload_ext autoreload\n"
     ]
    }
   ],
   "source": [
    "%load_ext autoreload\n",
    "\n",
    "%autoreload 2"
   ]
  },
  {
   "cell_type": "code",
   "execution_count": 5,
   "metadata": {
    "collapsed": true
   },
   "outputs": [],
   "source": [
    "from glob import glob\n",
    "import os\n",
    "import time\n",
    "import cPickle as pickle\n",
    "import joblib\n",
    "\n",
    "import scipy.linalg\n",
    "import scipy.stats\n",
    "\n",
    "import emcee\n",
    "import numdifftools\n",
    "\n",
    "import kepler\n",
    "import threebody"
   ]
  },
  {
   "cell_type": "code",
   "execution_count": 6,
   "metadata": {},
   "outputs": [
    {
     "data": {
      "text/plain": [
       "<matplotlib.figure.Figure at 0x6361110>"
      ]
     },
     "metadata": {},
     "output_type": "display_data"
    }
   ],
   "source": [
    "import matplotlib\n",
    "matplotlib.rcParams['savefig.dpi'] = 144\n",
    "%matplotlib inline\n",
    "import numpy as np\n",
    "import matplotlib.pyplot as plt\n",
    "plt.viridis()"
   ]
  },
  {
   "cell_type": "code",
   "execution_count": 10,
   "metadata": {
    "collapsed": true
   },
   "outputs": [],
   "source": [
    "gr_params = dict(files=\"tuned_mueller_pulses_selected\",\n",
    "                     tzrmjd_middle='auto',\n",
    "                     parfile=\"0337_tempo2_px_optical.par\",\n",
    "                     fit_pos=True,\n",
    "                     fit_pm=True,\n",
    "                     fit_px=True,\n",
    "                     t2_astrometry=True,\n",
    "                     efac=(('AO1440',1.0),\n",
    "                           ('GBT1500',1.0),\n",
    "                           ('WSRT1400',1.0)),\n",
    "                     kopeikin=False,\n",
    "                     ppn_mode='GR',\n",
    "                     linear_jumps=True,\n",
    "                     linear_dm=True,\n",
    "                     toa_mode=\"pipeline\")\n",
    "F_gr = threebody.Fitter(**gr_params)\n",
    "params = gr_params.copy()\n",
    "params[\"ppn_mode\"] = \"heavysimple\"\n",
    "F = threebody.Fitter(**params)\n",
    "F.best_parameters = F_gr.best_parameters\n",
    "F.best_parameters[\"ppn_mode\"] = \"heavysimple\"\n",
    "F.best_parameters[\"delta\"] = 0\n",
    "F.best_parameters[\"dbeta\"] = 0\n",
    "F.best_parameters[\"dgamma\"] = 0\n",
    "fitter_params = params"
   ]
  },
  {
   "cell_type": "code",
   "execution_count": 11,
   "metadata": {},
   "outputs": [
    {
     "data": {
      "text/plain": [
       "{'acosi_i': 1.4922596784609649978,\n",
       " 'acosi_o': 91.530732348852743868,\n",
       " 'asini_i': 1.2175268328187250986,\n",
       " 'asini_o': 74.672695837636610457,\n",
       " 'd_DECJ': 1.6847336940935975218e-07,\n",
       " 'd_PMDEC': -1.9580532733266362e-10,\n",
       " 'd_PMRA': 9.885280864586482e-11,\n",
       " 'd_PX': -0.92477760701603597092,\n",
       " 'd_RAJ': -3.2388334094615887816e-08,\n",
       " 'dbeta': 0,\n",
       " 'delta': 0,\n",
       " 'delta_lan': -3.0460572022280719438e-05,\n",
       " 'dgamma': 0,\n",
       " 'eps1_i': 0.00068692611243786728556,\n",
       " 'eps1_o': 0.035186244412656308993,\n",
       " 'eps2_i': -9.1322420630293142815e-05,\n",
       " 'eps2_o': -0.003462206702875036605,\n",
       " 'f0': 365.95336876828094,\n",
       " 'general': True,\n",
       " 'j_AO1350': 5.4169010371405938449e-05,\n",
       " 'j_AO1440': 4.8930549945746121983e-05,\n",
       " 'j_AO327': 6.5301884179095320452e-05,\n",
       " 'j_GBT1500': 6.2334158805205982467e-05,\n",
       " 'j_GBT350': 1.8510494219682503864e-05,\n",
       " 'j_GBT820': 6.7999885696179984064e-05,\n",
       " 'j_NCY1400': 0.000675,\n",
       " 'j_WSRT350': -3.6586764591042250491e-05,\n",
       " 'lan': 22.854202311569486596,\n",
       " 'matrix_mode': 0,\n",
       " 'pb_i': 1.6293969558060391417,\n",
       " 'pb_o': 327.25749258285365256,\n",
       " 'pm_x': -4.7253571656398304e-11,\n",
       " 'pm_y': 5.176655321908803e-11,\n",
       " 'ppn_mode': 'heavysimple',\n",
       " 'q_i': 0.13726885399693244624,\n",
       " 'shapiro': True,\n",
       " 'special': True,\n",
       " 'tasc_i': 0.40771687041875256721,\n",
       " 'tasc_o': 313.93576888835902119,\n",
       " 'tol': 1e-16,\n",
       " 'use_quad': False}"
      ]
     },
     "execution_count": 11,
     "metadata": {},
     "output_type": "execute_result"
    }
   ],
   "source": [
    "F.best_parameters"
   ]
  },
  {
   "cell_type": "code",
   "execution_count": 12,
   "metadata": {},
   "outputs": [
    {
     "data": {
      "text/plain": [
       "{'initial_values': array([ -9.01845800e+01,   7.21804078e+01,   1.76180992e+01,\n",
       "         -5.68612000e+00,   4.03854967e+00,   1.38279207e+00,\n",
       "          1.44464593e+00,  -9.95836396e+01,   6.41355501e+01,\n",
       "          2.77122062e+01,   3.42898370e+01,  -4.26800759e+01,\n",
       "          1.38094316e+00,   1.98304892e-01,   3.64461237e+02,\n",
       "         -2.84202060e+02,  -7.51777459e+01,   3.43633325e+00,\n",
       "          6.38735380e+00,  -5.51793707e+00,   4.11656150e-01,\n",
       "          0.00000000e+00]),\n",
       " 'n_evaluations': 1616975,\n",
       " 'parameter_dict': {'acosi_i': 1.4922596784609649978,\n",
       "  'acosi_o': 91.530732348852743868,\n",
       "  'asini_i': 1.2175268328187250986,\n",
       "  'asini_o': 74.672695837636610457,\n",
       "  'd_DECJ': 1.6847336940935975218e-07,\n",
       "  'd_PMDEC': -1.9580532733266362e-10,\n",
       "  'd_PMRA': 9.885280864586482e-11,\n",
       "  'd_PX': -0.92477760701603597092,\n",
       "  'd_RAJ': -3.2388334094615887816e-08,\n",
       "  'dbeta': 0,\n",
       "  'delta': 0,\n",
       "  'delta_lan': -3.0460572022280719438e-05,\n",
       "  'dgamma': 0,\n",
       "  'eps1_i': 0.00068692611243786728556,\n",
       "  'eps1_o': 0.035186244412656308993,\n",
       "  'eps2_i': -9.1322420630293142815e-05,\n",
       "  'eps2_o': -0.003462206702875036605,\n",
       "  'f0': 365.95336876828094,\n",
       "  'general': True,\n",
       "  'j_AO1350': 5.4169010371405938449e-05,\n",
       "  'j_AO1440': 4.8930549945746121983e-05,\n",
       "  'j_AO327': 6.5301884179095320452e-05,\n",
       "  'j_GBT1500': 6.2334158805205982467e-05,\n",
       "  'j_GBT350': 1.8510494219682503864e-05,\n",
       "  'j_GBT820': 6.7999885696179984064e-05,\n",
       "  'j_NCY1400': 0.000675,\n",
       "  'j_WSRT350': -3.6586764591042250491e-05,\n",
       "  'lan': 22.854202311569486596,\n",
       "  'matrix_mode': 0,\n",
       "  'pb_i': 1.6293969558060391417,\n",
       "  'pb_o': 327.25749258285365256,\n",
       "  'pm_x': -4.7253571656398304e-11,\n",
       "  'pm_y': 5.176655321908803e-11,\n",
       "  'ppn_mode': 'heavysimple',\n",
       "  'q_i': 0.13726885399693244624,\n",
       "  'shapiro': True,\n",
       "  'special': True,\n",
       "  'tasc_i': 0.40771687041875256721,\n",
       "  'tasc_o': 313.93576888835902119,\n",
       "  'tol': 1e-16,\n",
       "  'use_quad': False},\n",
       " 'states': array([[-98.495472, -1.3654818,  61.77877, ..., -3.1346621,  0.41165615,\n",
       "         -2.5246001e-06],\n",
       "        [-88.743819, -23.089558,  67.256325, ..., -2.0862682,  0.41165615,\n",
       "         -3.2227916e-06],\n",
       "        [-90.615251, -22.23869,  67.965187, ..., -1.9899244,  0.41165615,\n",
       "         -3.2823189e-06],\n",
       "        ..., \n",
       "        [-94.219119,  61.996523,  25.520628, ..., -5.36834,  0.41165615,\n",
       "         -0.00013517379],\n",
       "        [-94.219119,  61.996523,  25.520628, ..., -5.36834,  0.41165615,\n",
       "         -0.00013517379],\n",
       "        [-94.219118,  61.996523,  25.520628, ..., -5.36834,  0.41165615,\n",
       "         -0.00013517379]], dtype=float128),\n",
       " 't_bb': array([ 36.698946,  46.841601,  47.722454, ...,  1967.8225,  1967.8225,\n",
       "         1967.8225], dtype=float128),\n",
       " 't_d': array([ 36.698231,  46.840823,  47.721667, ...,  1967.8222,  1967.8222,\n",
       "         1967.8222], dtype=float128),\n",
       " 't_psr': array([ 36.698228,  46.840819,  47.721664, ...,  1967.8221,  1967.8221,\n",
       "         1967.8221], dtype=float128),\n",
       " 'time': 34.720654010772705,\n",
       " 'times': array([ 36.698946,  46.841601,  47.722454, ...,  1967.8225,  1967.8225,\n",
       "         1967.8225], dtype=float128)}"
      ]
     },
     "execution_count": 12,
     "metadata": {},
     "output_type": "execute_result"
    }
   ],
   "source": [
    "orbit = F.compute_orbit(F.best_parameters)\n",
    "orbit"
   ]
  },
  {
   "cell_type": "code",
   "execution_count": 13,
   "metadata": {},
   "outputs": [
    {
     "name": "stdout",
     "output_type": "stream",
     "text": [
      "157288.688201 24301\n"
     ]
    },
    {
     "data": {
      "image/png": "[encoded data removed]",
      "text/plain": [
       "<matplotlib.figure.Figure at 0x63610d0>"
      ]
     },
     "metadata": {},
     "output_type": "display_data"
    },
    {
     "data": {
      "image/png": "[encoded data removed]",
      "text/plain": [
       "<matplotlib.figure.Figure at 0x70074d0>"
      ]
     },
     "metadata": {},
     "output_type": "display_data"
    }
   ],
   "source": [
    "residuals = F.residuals()\n",
    "plt.hexbin(\n",
    "    ((F.mjds-F.base_mjd-F.best_parameters['tasc_i'])/F.best_parameters['pb_i'])%1, \n",
    "    F.mjds,\n",
    "    C=residuals/F.best_parameters['f0']*1e6, gridsize=20)\n",
    "plt.title(\"Residuals\")\n",
    "plt.colorbar().set_label(r\"$\\mu$s\")\n",
    "plt.figure()\n",
    "plt.hexbin(\n",
    "    ((F.mjds-F.base_mjd-F.best_parameters['tasc_i'])/F.best_parameters['pb_i'])%1, \n",
    "    F.mjds,\n",
    "    C=residuals/F.phase_uncerts, gridsize=20)\n",
    "plt.title(\"Normalized residuals\")\n",
    "plt.colorbar().set_label(r\"$\\sigma$\")\n",
    "\n",
    "print np.sum((residuals/F.phase_uncerts)**2), len(F.mjds)"
   ]
  },
  {
   "cell_type": "code",
   "execution_count": 14,
   "metadata": {},
   "outputs": [
    {
     "data": {
      "text/plain": [
       "['d_DECJ',\n",
       " 'd_DM',\n",
       " 'd_PMDEC',\n",
       " 'd_PMRA',\n",
       " 'd_PX',\n",
       " 'd_RAJ',\n",
       " 'f0',\n",
       " 'f1',\n",
       " 'j_AO_430',\n",
       " 'j_GBT_1400',\n",
       " 'j_WSRT_1400',\n",
       " 'j_WSRT_350',\n",
       " 'phase']"
      ]
     },
     "execution_count": 14,
     "metadata": {},
     "output_type": "execute_result"
    }
   ],
   "source": [
    "M, linear_parameters = F.compute_linear_matrix()\n",
    "linear_parameters"
   ]
  },
  {
   "cell_type": "code",
   "execution_count": 15,
   "metadata": {},
   "outputs": [
    {
     "data": {
      "text/plain": [
       "(24301, 13)"
      ]
     },
     "execution_count": 15,
     "metadata": {},
     "output_type": "execute_result"
    }
   ],
   "source": [
    "M.shape"
   ]
  },
  {
   "cell_type": "code",
   "execution_count": 16,
   "metadata": {
    "collapsed": true
   },
   "outputs": [],
   "source": [
    "derivatives = {}"
   ]
  },
  {
   "cell_type": "code",
   "execution_count": 17,
   "metadata": {
    "collapsed": true
   },
   "outputs": [],
   "source": [
    "for i, p in enumerate(linear_parameters):\n",
    "    derivatives[p] = M[:,i]"
   ]
  },
  {
   "cell_type": "code",
   "execution_count": null,
   "metadata": {},
   "outputs": [
    {
     "name": "stdout",
     "output_type": "stream",
     "text": [
      "[ 0.  0.  0.  0.  0.  0.  0.  0.  0.  0.  0.  0.  0.  0.  0.  0.  0.]\n",
      "[ 2.  0.  0.  0.  0.  0.  0.  0.  0.  0.  0.  0.  0.  0.  0.  0.  0.]\n",
      "[-2.  0.  0.  0.  0.  0.  0.  0.  0.  0.  0.  0.  0.  0.  0.  0.  0.]\n",
      "[ 0.  2.  0.  0.  0.  0.  0.  0.  0.  0.  0.  0.  0.  0.  0.  0.  0.]\n",
      "[ 0. -2.  0.  0.  0.  0.  0.  0.  0.  0.  0.  0.  0.  0.  0.  0.  0.]\n",
      "[ 0.  0.  2.  0.  0.  0.  0.  0.  0.  0.  0.  0.  0.  0.  0.  0.  0.]\n",
      "[ 0.  0. -2.  0.  0.  0.  0.  0.  0.  0.  0.  0.  0.  0.  0.  0.  0.]\n",
      "[ 0.  0.  0.  2.  0.  0.  0.  0.  0.  0.  0.  0.  0.  0.  0.  0.  0.]\n",
      "[ 0.  0.  0. -2.  0.  0.  0.  0.  0.  0.  0.  0.  0.  0.  0.  0.  0.]\n",
      "[ 0.  0.  0.  0.  2.  0.  0.  0.  0.  0.  0.  0.  0.  0.  0.  0.  0.]\n",
      "[ 0.  0.  0.  0. -2.  0.  0.  0.  0.  0.  0.  0.  0.  0.  0.  0.  0.]\n",
      "[ 0.  0.  0.  0.  0.  2.  0.  0.  0.  0.  0.  0.  0.  0.  0.  0.  0.]\n",
      "[ 0.  0.  0.  0.  0. -2.  0.  0.  0.  0.  0.  0.  0.  0.  0.  0.  0.]\n",
      "[ 0.  0.  0.  0.  0.  0.  2.  0.  0.  0.  0.  0.  0.  0.  0.  0.  0.]\n",
      "[ 0.  0.  0.  0.  0.  0. -2.  0.  0.  0.  0.  0.  0.  0.  0.  0.  0.]\n",
      "[ 0.  0.  0.  0.  0.  0.  0.  2.  0.  0.  0.  0.  0.  0.  0.  0.  0.]\n",
      "[ 0.  0.  0.  0.  0.  0.  0. -2.  0.  0.  0.  0.  0.  0.  0.  0.  0.]\n",
      "[ 0.  0.  0.  0.  0.  0.  0.  0.  2.  0.  0.  0.  0.  0.  0.  0.  0.]\n",
      "[ 0.  0.  0.  0.  0.  0.  0.  0. -2.  0.  0.  0.  0.  0.  0.  0.  0.]\n",
      "[ 0.  0.  0.  0.  0.  0.  0.  0.  0.  2.  0.  0.  0.  0.  0.  0.  0.]\n",
      "[ 0.  0.  0.  0.  0.  0.  0.  0.  0. -2.  0.  0.  0.  0.  0.  0.  0.]\n",
      "[ 0.  0.  0.  0.  0.  0.  0.  0.  0.  0.  2.  0.  0.  0.  0.  0.  0.]\n",
      "[ 0.  0.  0.  0.  0.  0.  0.  0.  0.  0. -2.  0.  0.  0.  0.  0.  0.]\n",
      "[ 0.  0.  0.  0.  0.  0.  0.  0.  0.  0.  0.  2.  0.  0.  0.  0.  0.]\n",
      "[ 0.  0.  0.  0.  0.  0.  0.  0.  0.  0.  0. -2.  0.  0.  0.  0.  0.]\n",
      "[ 0.  0.  0.  0.  0.  0.  0.  0.  0.  0.  0.  0.  2.  0.  0.  0.  0.]\n",
      "[ 0.  0.  0.  0.  0.  0.  0.  0.  0.  0.  0.  0. -2.  0.  0.  0.  0.]\n",
      "[ 0.  0.  0.  0.  0.  0.  0.  0.  0.  0.  0.  0.  0.  2.  0.  0.  0.]\n",
      "[ 0.  0.  0.  0.  0.  0.  0.  0.  0.  0.  0.  0.  0. -2.  0.  0.  0.]\n",
      "[ 0.  0.  0.  0.  0.  0.  0.  0.  0.  0.  0.  0.  0.  0.  2.  0.  0.]\n",
      "[ 0.  0.  0.  0.  0.  0.  0.  0.  0.  0.  0.  0.  0.  0. -2.  0.  0.]\n",
      "[ 0.  0.  0.  0.  0.  0.  0.  0.  0.  0.  0.  0.  0.  0.  0.  2.  0.]\n",
      "[ 0.  0.  0.  0.  0.  0.  0.  0.  0.  0.  0.  0.  0.  0.  0. -2.  0.]\n",
      "[ 0.  0.  0.  0.  0.  0.  0.  0.  0.  0.  0.  0.  0.  0.  0.  0.  2.]\n",
      "[ 0.  0.  0.  0.  0.  0.  0.  0.  0.  0.  0.  0.  0.  0.  0.  0. -2.]\n",
      "[ 1.  0.  0.  0.  0.  0.  0.  0.  0.  0.  0.  0.  0.  0.  0.  0.  0.]\n",
      "[-1.  0.  0.  0.  0.  0.  0.  0.  0.  0.  0.  0.  0.  0.  0.  0.  0.]\n",
      "[ 0.  1.  0.  0.  0.  0.  0.  0.  0.  0.  0.  0.  0.  0.  0.  0.  0.]\n",
      "[ 0. -1.  0.  0.  0.  0.  0.  0.  0.  0.  0.  0.  0.  0.  0.  0.  0.]\n",
      "[ 0.  0.  1.  0.  0.  0.  0.  0.  0.  0.  0.  0.  0.  0.  0.  0.  0.]\n",
      "[ 0.  0. -1.  0.  0.  0.  0.  0.  0.  0.  0.  0.  0.  0.  0.  0.  0.]\n",
      "[ 0.  0.  0.  1.  0.  0.  0.  0.  0.  0.  0.  0.  0.  0.  0.  0.  0.]\n",
      "[ 0.  0.  0. -1.  0.  0.  0.  0.  0.  0.  0.  0.  0.  0.  0.  0.  0.]\n",
      "[ 0.  0.  0.  0.  1.  0.  0.  0.  0.  0.  0.  0.  0.  0.  0.  0.  0.]\n",
      "[ 0.  0.  0.  0. -1.  0.  0.  0.  0.  0.  0.  0.  0.  0.  0.  0.  0.]\n",
      "[ 0.  0.  0.  0.  0.  1.  0.  0.  0.  0.  0.  0.  0.  0.  0.  0.  0.]\n",
      "[ 0.  0.  0.  0.  0. -1.  0.  0.  0.  0.  0.  0.  0.  0.  0.  0.  0.]\n",
      "[ 0.  0.  0.  0.  0.  0.  1.  0.  0.  0.  0.  0.  0.  0.  0.  0.  0.]\n",
      "[ 0.  0.  0.  0.  0.  0. -1.  0.  0.  0.  0.  0.  0.  0.  0.  0.  0.]\n",
      "[ 0.  0.  0.  0.  0.  0.  0.  1.  0.  0.  0.  0.  0.  0.  0.  0.  0.]\n",
      "[ 0.  0.  0.  0.  0.  0.  0. -1.  0.  0.  0.  0.  0.  0.  0.  0.  0.]\n",
      "[ 0.  0.  0.  0.  0.  0.  0.  0.  1.  0.  0.  0.  0.  0.  0.  0.  0.]\n",
      "[ 0.  0.  0.  0.  0.  0.  0.  0. -1.  0.  0.  0.  0.  0.  0.  0.  0.]\n",
      "[ 0.  0.  0.  0.  0.  0.  0.  0.  0.  1.  0.  0.  0.  0.  0.  0.  0.]\n",
      "[ 0.  0.  0.  0.  0.  0.  0.  0.  0. -1.  0.  0.  0.  0.  0.  0.  0.]\n",
      "[ 0.  0.  0.  0.  0.  0.  0.  0.  0.  0.  1.  0.  0.  0.  0.  0.  0.]\n"
     ]
    }
   ],
   "source": [
    "def fres(p):\n",
    "    print p\n",
    "    bp  = F.best_parameters.copy()\n",
    "    for (i,fp) in enumerate(F.parameters):\n",
    "        bp[fp] += p[i]\n",
    "    try:\n",
    "        r = F.residuals(bp)\n",
    "        return r\n",
    "    except ValueError:\n",
    "        return np.inf*np.ones_like(F.mjds)\n",
    "x = np.zeros(len(F.parameters))\n",
    "J = numdifftools.Jacobian(fres)(x)"
   ]
  },
  {
   "cell_type": "code",
   "execution_count": 55,
   "metadata": {
    "collapsed": true
   },
   "outputs": [],
   "source": [
    "for (i,p) in enumerate(F.parameters):\n",
    "    derivatives[p] = J[:,i]"
   ]
  },
  {
   "cell_type": "code",
   "execution_count": 58,
   "metadata": {
    "collapsed": true
   },
   "outputs": [],
   "source": [
    "np.savez_compressed(\n",
    "    \"systematics-package.npz\",\n",
    "    fitter_params=fitter_params,\n",
    "    best_parameters=F.best_parameters,\n",
    "    residuals=residuals,\n",
    "    telescopes=F.tels,\n",
    "    telescope_list=F.tel_list,\n",
    "    orbit=orbit,\n",
    "    times=F.mjds,\n",
    "    base_mjd=F.base_mjd,\n",
    "    phase_uncerts=F.phase_uncerts,\n",
    "    linear_parameters=linear_parameters,\n",
    "    derivatives=derivatives,\n",
    "    )"
   ]
  },
  {
   "cell_type": "code",
   "execution_count": 47,
   "metadata": {
    "collapsed": true
   },
   "outputs": [],
   "source": [
    "numdifftools.Derivative?"
   ]
  },
  {
   "cell_type": "code",
   "execution_count": 71,
   "metadata": {
    "collapsed": true
   },
   "outputs": [],
   "source": [
    "d = dict(\n",
    "    fitter_params=fitter_params,\n",
    "    best_parameters=F.best_parameters,\n",
    "    residuals=residuals,\n",
    "    telescopes=F.tels,\n",
    "    telescope_list=F.tel_list,\n",
    "    raw_uncerts=F.raw_uncerts,\n",
    "    f0=F.best_parameters['f0'],\n",
    "    efacs=fitter_params['efac'],\n",
    "    orbit=orbit,\n",
    "    times=F.mjds,\n",
    "    base_mjd=F.base_mjd,\n",
    "    phase_uncerts=F.phase_uncerts,\n",
    "    linear_parameters=linear_parameters,\n",
    "    derivatives=derivatives,\n",
    "    )\n",
    "with open(\"systematics-package.pickle\",\"wb\") as f:\n",
    "    pickle.dump(d,f)"
   ]
  },
  {
   "cell_type": "code",
   "execution_count": 63,
   "metadata": {
    "scrolled": false
   },
   "outputs": [
    {
     "name": "stderr",
     "output_type": "stream",
     "text": [
      "[autoreload of numpy.compat failed: Traceback (most recent call last):\n",
      "  File \"/usr/local/lib/python2.7/dist-packages/IPython/extensions/autoreload.py\", line 247, in check\n",
      "    superreload(m, reload, self.old_objects)\n",
      "ImportError: cannot import name _inspect\n",
      "]\n",
      "[autoreload of numpy.core failed: Traceback (most recent call last):\n",
      "  File \"/usr/local/lib/python2.7/dist-packages/IPython/extensions/autoreload.py\", line 247, in check\n",
      "    superreload(m, reload, self.old_objects)\n",
      "ImportError: cannot import name multiarray\n",
      "]\n",
      "[autoreload of numpy failed: Traceback (most recent call last):\n",
      "  File \"/usr/local/lib/python2.7/dist-packages/IPython/extensions/autoreload.py\", line 247, in check\n",
      "    superreload(m, reload, self.old_objects)\n",
      "ImportError: cannot import name add_newdocs\n",
      "]\n",
      "[autoreload of numpy.fft failed: Traceback (most recent call last):\n",
      "  File \"/usr/local/lib/python2.7/dist-packages/IPython/extensions/autoreload.py\", line 247, in check\n",
      "    superreload(m, reload, self.old_objects)\n",
      "ImportError: cannot import name _numpy_tester\n",
      "]\n",
      "[autoreload of scipy.special failed: Traceback (most recent call last):\n",
      "  File \"/usr/local/lib/python2.7/dist-packages/IPython/extensions/autoreload.py\", line 247, in check\n",
      "    superreload(m, reload, self.old_objects)\n",
      "ImportError: cannot import name specfun\n",
      "]\n",
      "[autoreload of scipy.misc failed: Traceback (most recent call last):\n",
      "  File \"/usr/local/lib/python2.7/dist-packages/IPython/extensions/autoreload.py\", line 247, in check\n",
      "    superreload(m, reload, self.old_objects)\n",
      "ImportError: cannot import name doccer\n",
      "]\n",
      "[autoreload of scipy.sparse.dia failed: Traceback (most recent call last):\n",
      "  File \"/usr/local/lib/python2.7/dist-packages/IPython/extensions/autoreload.py\", line 247, in check\n",
      "    superreload(m, reload, self.old_objects)\n",
      "ImportError: cannot import name get_sum_dtype\n",
      "]\n",
      "[autoreload of numpy.random failed: Traceback (most recent call last):\n",
      "  File \"/usr/local/lib/python2.7/dist-packages/IPython/extensions/autoreload.py\", line 247, in check\n",
      "    superreload(m, reload, self.old_objects)\n",
      "ImportError: cannot import name _numpy_tester\n",
      "]\n",
      "[autoreload of scipy.special.basic failed: Traceback (most recent call last):\n",
      "  File \"/usr/local/lib/python2.7/dist-packages/IPython/extensions/autoreload.py\", line 247, in check\n",
      "    superreload(m, reload, self.old_objects)\n",
      "ImportError: cannot import name _zeta\n",
      "]\n",
      "[autoreload of scipy.stats.mstats_basic failed: Traceback (most recent call last):\n",
      "  File \"/usr/local/lib/python2.7/dist-packages/IPython/extensions/autoreload.py\", line 247, in check\n",
      "    superreload(m, reload, self.old_objects)\n",
      "ValueError: threshold() requires a code object with 0 free vars, not 3\n",
      "]\n",
      "[autoreload of scipy.sparse.csc failed: Traceback (most recent call last):\n",
      "  File \"/usr/local/lib/python2.7/dist-packages/IPython/extensions/autoreload.py\", line 247, in check\n",
      "    superreload(m, reload, self.old_objects)\n",
      "AttributeError: type object 'spmatrix' has no attribute 'tocsc'\n",
      "]\n",
      "[autoreload of scipy.sparse.csr failed: Traceback (most recent call last):\n",
      "  File \"/usr/local/lib/python2.7/dist-packages/IPython/extensions/autoreload.py\", line 247, in check\n",
      "    superreload(m, reload, self.old_objects)\n",
      "AttributeError: type object 'spmatrix' has no attribute 'tocsr'\n",
      "]\n",
      "[autoreload of numpy.core.function_base failed: Traceback (most recent call last):\n",
      "  File \"/usr/local/lib/python2.7/dist-packages/IPython/extensions/autoreload.py\", line 247, in check\n",
      "    superreload(m, reload, self.old_objects)\n",
      "ImportError: cannot import name shares_memory\n",
      "]\n",
      "[autoreload of scipy.sparse.base failed: Traceback (most recent call last):\n",
      "  File \"/usr/local/lib/python2.7/dist-packages/IPython/extensions/autoreload.py\", line 247, in check\n",
      "    superreload(m, reload, self.old_objects)\n",
      "ImportError: cannot import name get_sum_dtype\n",
      "]\n",
      "[autoreload of scipy.stats.stats failed: Traceback (most recent call last):\n",
      "  File \"/usr/local/lib/python2.7/dist-packages/IPython/extensions/autoreload.py\", line 247, in check\n",
      "    superreload(m, reload, self.old_objects)\n",
      "ValueError: threshold() requires a code object with 0 free vars, not 3\n",
      "]\n",
      "[autoreload of numpy.core.numeric failed: Traceback (most recent call last):\n",
      "  File \"/usr/local/lib/python2.7/dist-packages/IPython/extensions/autoreload.py\", line 247, in check\n",
      "    superreload(m, reload, self.old_objects)\n",
      "AttributeError: 'module' object has no attribute 'MAY_SHARE_BOUNDS'\n",
      "]\n",
      "[autoreload of scipy.sparse.lil failed: Traceback (most recent call last):\n",
      "  File \"/usr/local/lib/python2.7/dist-packages/IPython/extensions/autoreload.py\", line 247, in check\n",
      "    superreload(m, reload, self.old_objects)\n",
      "AttributeError: type object 'spmatrix' has no attribute 'count_nonzero'\n",
      "]\n",
      "[autoreload of scipy.stats._distn_infrastructure failed: Traceback (most recent call last):\n",
      "  File \"/usr/local/lib/python2.7/dist-packages/IPython/extensions/autoreload.py\", line 247, in check\n",
      "    superreload(m, reload, self.old_objects)\n",
      "ImportError: cannot import name optimize\n",
      "]\n",
      "[autoreload of scipy.optimize.tnc failed: Traceback (most recent call last):\n",
      "  File \"/usr/local/lib/python2.7/dist-packages/IPython/extensions/autoreload.py\", line 247, in check\n",
      "    superreload(m, reload, self.old_objects)\n",
      "ImportError: cannot import name moduleTNC\n",
      "]\n",
      "[autoreload of numpy.testing.utils failed: Traceback (most recent call last):\n",
      "  File \"/usr/local/lib/python2.7/dist-packages/IPython/extensions/autoreload.py\", line 247, in check\n",
      "    superreload(m, reload, self.old_objects)\n",
      "ValueError: rand() requires a code object with 0 free vars, not 3\n",
      "]\n",
      "[autoreload of scipy.sparse.compressed failed: Traceback (most recent call last):\n",
      "  File \"/usr/local/lib/python2.7/dist-packages/IPython/extensions/autoreload.py\", line 247, in check\n",
      "    superreload(m, reload, self.old_objects)\n",
      "ImportError: cannot import name _sparsetools\n",
      "]\n",
      "[autoreload of scipy.stats failed: Traceback (most recent call last):\n",
      "  File \"/usr/local/lib/python2.7/dist-packages/IPython/extensions/autoreload.py\", line 247, in check\n",
      "    superreload(m, reload, self.old_objects)\n",
      "ImportError: cannot import name mstats\n",
      "]\n",
      "[autoreload of scipy.stats._continuous_distns failed: Traceback (most recent call last):\n",
      "  File \"/usr/local/lib/python2.7/dist-packages/IPython/extensions/autoreload.py\", line 247, in check\n",
      "    superreload(m, reload, self.old_objects)\n",
      "ImportError: cannot import name special\n",
      "]\n",
      "[autoreload of scipy.sparse.data failed: Traceback (most recent call last):\n",
      "  File \"/usr/local/lib/python2.7/dist-packages/IPython/extensions/autoreload.py\", line 247, in check\n",
      "    superreload(m, reload, self.old_objects)\n",
      "AttributeError: type object 'spmatrix' has no attribute 'count_nonzero'\n",
      "]\n",
      "[autoreload of scipy.sparse.bsr failed: Traceback (most recent call last):\n",
      "  File \"/usr/local/lib/python2.7/dist-packages/IPython/extensions/autoreload.py\", line 247, in check\n",
      "    superreload(m, reload, self.old_objects)\n",
      "ImportError: cannot import name _sparsetools\n",
      "]\n",
      "[autoreload of scipy.sparse.dok failed: Traceback (most recent call last):\n",
      "  File \"/usr/local/lib/python2.7/dist-packages/IPython/extensions/autoreload.py\", line 247, in check\n",
      "    superreload(m, reload, self.old_objects)\n",
      "AttributeError: type object 'spmatrix' has no attribute 'count_nonzero'\n",
      "]\n",
      "[autoreload of numpy.ma failed: Traceback (most recent call last):\n",
      "  File \"/usr/local/lib/python2.7/dist-packages/IPython/extensions/autoreload.py\", line 247, in check\n",
      "    superreload(m, reload, self.old_objects)\n",
      "ImportError: cannot import name core\n",
      "]\n",
      "[autoreload of numpy.lib failed: Traceback (most recent call last):\n",
      "  File \"/usr/local/lib/python2.7/dist-packages/IPython/extensions/autoreload.py\", line 247, in check\n",
      "    superreload(m, reload, self.old_objects)\n",
      "ImportError: cannot import name scimath\n",
      "]\n",
      "[autoreload of numpy.testing failed: Traceback (most recent call last):\n",
      "  File \"/usr/local/lib/python2.7/dist-packages/IPython/extensions/autoreload.py\", line 247, in check\n",
      "    superreload(m, reload, self.old_objects)\n",
      "ImportError: cannot import name decorators\n",
      "]\n",
      "[autoreload of scipy.integrate.odepack failed: Traceback (most recent call last):\n",
      "  File \"/usr/local/lib/python2.7/dist-packages/IPython/extensions/autoreload.py\", line 247, in check\n",
      "    superreload(m, reload, self.old_objects)\n",
      "ImportError: cannot import name _odepack\n",
      "]\n",
      "[autoreload of scipy.sparse.linalg.dsolve failed: Traceback (most recent call last):\n",
      "  File \"/usr/local/lib/python2.7/dist-packages/IPython/extensions/autoreload.py\", line 247, in check\n",
      "    superreload(m, reload, self.old_objects)\n",
      "ImportError: cannot import name _add_newdocs\n",
      "]\n",
      "[autoreload of numpy.matrixlib failed: Traceback (most recent call last):\n",
      "  File \"/usr/local/lib/python2.7/dist-packages/IPython/extensions/autoreload.py\", line 247, in check\n",
      "    superreload(m, reload, self.old_objects)\n",
      "NameError: name 'defmatrix' is not defined\n",
      "]\n",
      "[autoreload of scipy.sparse.linalg.isolve.iterative failed: Traceback (most recent call last):\n",
      "  File \"/usr/local/lib/python2.7/dist-packages/IPython/extensions/autoreload.py\", line 247, in check\n",
      "    superreload(m, reload, self.old_objects)\n",
      "ImportError: cannot import name _iterative\n",
      "]\n",
      "[autoreload of numpy.polynomial.hermite failed: Traceback (most recent call last):\n",
      "  File \"/usr/local/lib/python2.7/dist-packages/IPython/extensions/autoreload.py\", line 247, in check\n",
      "    superreload(m, reload, self.old_objects)\n",
      "ImportError: cannot import name polyutils\n",
      "]\n"
     ]
    },
    {
     "data": {
      "text/plain": [
       "['__class__',\n",
       " '__delattr__',\n",
       " '__dict__',\n",
       " '__doc__',\n",
       " '__format__',\n",
       " '__getattribute__',\n",
       " '__hash__',\n",
       " '__init__',\n",
       " '__module__',\n",
       " '__new__',\n",
       " '__reduce__',\n",
       " '__reduce_ex__',\n",
       " '__repr__',\n",
       " '__setattr__',\n",
       " '__sizeof__',\n",
       " '__str__',\n",
       " '__subclasshook__',\n",
       " '__weakref__',\n",
       " 'args',\n",
       " 'base_mjd',\n",
       " 'best_errors',\n",
       " 'best_parameters',\n",
       " 'bootstrap',\n",
       " 'chi2',\n",
       " 'compute_linear_matrix',\n",
       " 'compute_linear_parts',\n",
       " 'compute_orbit',\n",
       " 'derivs',\n",
       " 'dof',\n",
       " 'efac',\n",
       " 'files',\n",
       " 'fit',\n",
       " 'fit_pm',\n",
       " 'fit_pos',\n",
       " 'fit_px',\n",
       " 'general',\n",
       " 'ix',\n",
       " 'jmatrix',\n",
       " 'jnames',\n",
       " 'kopeikin',\n",
       " 'last_orbit',\n",
       " 'last_p',\n",
       " 'linear_jumps',\n",
       " 'lnprior',\n",
       " 'lnprob',\n",
       " 'make_mfun',\n",
       " 'matrix_mode',\n",
       " 'mjds',\n",
       " 'parameters',\n",
       " 'parfile',\n",
       " 'phase_uncerts',\n",
       " 'ppn_mode',\n",
       " 'priors',\n",
       " 'pulses',\n",
       " 'raw_uncerts',\n",
       " 'residuals',\n",
       " 'shapiro',\n",
       " 'special',\n",
       " 't2_astrometry',\n",
       " 'tel_base',\n",
       " 'tel_list',\n",
       " 'tels',\n",
       " 'tol',\n",
       " 'tzrmjd_base',\n",
       " 'uncerts',\n",
       " 'use_quad']"
      ]
     },
     "execution_count": 63,
     "metadata": {},
     "output_type": "execute_result"
    }
   ],
   "source": [
    "dir(F)"
   ]
  },
  {
   "cell_type": "code",
   "execution_count": 67,
   "metadata": {},
   "outputs": [
    {
     "data": {
      "text/plain": [
       "array([ 1.11,  1.11,  1.11, ...,  1.11,  1.11,  1.11])"
      ]
     },
     "execution_count": 67,
     "metadata": {},
     "output_type": "execute_result"
    }
   ],
   "source": [
    "F.phase_uncerts/(F.best_parameters['f0']*F.raw_uncerts)"
   ]
  },
  {
   "cell_type": "code",
   "execution_count": 70,
   "metadata": {},
   "outputs": [
    {
     "data": {
      "text/plain": [
       "{'efac': (('AO1440', 1.45), ('GBT1500', 1.11), ('WSRT1400', 1.45)),\n",
       " 'files': '0337+17-anne-2014-09-22',\n",
       " 'fit_pm': True,\n",
       " 'fit_pos': True,\n",
       " 'fit_px': True,\n",
       " 'kopeikin': False,\n",
       " 'parfile': '0337_tempo2_px_optical.par',\n",
       " 'ppn_mode': 'heavysimple',\n",
       " 'priors': ('dbeta', 'dgamma'),\n",
       " 't2_astrometry': True,\n",
       " 'tzrmjd_middle': 'auto'}"
      ]
     },
     "execution_count": 70,
     "metadata": {},
     "output_type": "execute_result"
    }
   ],
   "source": [
    "fitter_params"
   ]
  },
  {
   "cell_type": "code",
   "execution_count": 69,
   "metadata": {},
   "outputs": [
    {
     "data": {
      "text/plain": [
       "1.0"
      ]
     },
     "execution_count": 69,
     "metadata": {},
     "output_type": "execute_result"
    }
   ],
   "source": [
    "F.efac"
   ]
  }
 ],
 "metadata": {
  "kernelspec": {
   "display_name": "Python 2",
   "language": "python",
   "name": "python2"
  },
  "language_info": {
   "codemirror_mode": {
    "name": "ipython",
    "version": 2
   },
   "file_extension": ".py",
   "mimetype": "text/x-python",
   "name": "python",
   "nbconvert_exporter": "python",
   "pygments_lexer": "ipython2",
   "version": "2.7.3"
  }
 },
 "nbformat": 4,
 "nbformat_minor": 1
}
