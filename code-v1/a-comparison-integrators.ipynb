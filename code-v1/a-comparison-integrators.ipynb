{
 "metadata": {
  "name": "a-comparison-integrators"
 },
 "nbformat": 3,
 "nbformat_minor": 0,
 "worksheets": [
  {
   "cells": [
    {
     "cell_type": "code",
     "collapsed": false,
     "input": [
      "%load_ext autoreload\n",
      "\n",
      "%autoreload 2"
     ],
     "language": "python",
     "metadata": {},
     "outputs": [],
     "prompt_number": 4
    },
    {
     "cell_type": "code",
     "collapsed": false,
     "input": [
      "from glob import glob\n",
      "import os\n",
      "\n",
      "import scipy.linalg\n",
      "\n",
      "import kepler\n",
      "import threebody"
     ],
     "language": "python",
     "metadata": {},
     "outputs": [],
     "prompt_number": 5
    },
    {
     "cell_type": "code",
     "collapsed": false,
     "input": [
      "import matplotlib\n",
      "matplotlib.rcParams['savefig.dpi'] = 120"
     ],
     "language": "python",
     "metadata": {},
     "outputs": [],
     "prompt_number": 6
    },
    {
     "cell_type": "code",
     "collapsed": false,
     "input": [
      "F = threebody.Fitter(\"0337+17-scott-2013-06-06\",tzrmjd_middle='weighted')"
     ],
     "language": "python",
     "metadata": {},
     "outputs": [],
     "prompt_number": 7
    },
    {
     "cell_type": "code",
     "collapsed": false,
     "input": [
      "F.tel_list, len(F.tel_list)"
     ],
     "language": "python",
     "metadata": {},
     "outputs": [
      {
       "output_type": "pyout",
       "prompt_number": 8,
       "text": [
        "(['AO1350',\n",
        "  'AO1440',\n",
        "  'AO327',\n",
        "  'GBT1500',\n",
        "  'GBT350',\n",
        "  'GBT820',\n",
        "  'WSRT1400',\n",
        "  'WSRT350'],\n",
        " 8)"
       ]
      }
     ],
     "prompt_number": 8
    },
    {
     "cell_type": "code",
     "collapsed": false,
     "input": [
      "F.best_parameters"
     ],
     "language": "python",
     "metadata": {},
     "outputs": [
      {
       "output_type": "pyout",
       "prompt_number": 9,
       "text": [
        "{'acosi_i': 1.4897512309364032,\n",
        " 'acosi_o': 91.40522295634956,\n",
        " 'asini_i': 1.217528411091,\n",
        " 'asini_o': 74.67270658918648,\n",
        " 'delta': 0.0,\n",
        " 'delta_lan': 4.4997457847240714e-05,\n",
        " 'eps1_i': 0.0006856799262721906,\n",
        " 'eps1_o': 0.03518627726274827,\n",
        " 'eps2_i': -9.17036013347448e-05,\n",
        " 'eps2_o': -0.003462135749461484,\n",
        " 'f0': 365.95336876828094,\n",
        " 'f1': -2.3646872857785326e-15,\n",
        " 'j_AO1350': 5.364123866718607e-05,\n",
        " 'j_AO1440': 4.925776005523901e-05,\n",
        " 'j_AO327': 6.48262723561324e-05,\n",
        " 'j_GBT1500': 6.263322776967433e-05,\n",
        " 'j_GBT350': 1.888999445373467e-05,\n",
        " 'j_GBT820': 6.709416223083646e-05,\n",
        " 'j_WSRT350': -3.606016370729403e-05,\n",
        " 'pb_i': 1.6294017513810861,\n",
        " 'pb_o': 327.25753313824424,\n",
        " 'ppn_mode': None,\n",
        " 'q_i': 0.1373507151755161,\n",
        " 'tasc_i': 0.4075193395926848,\n",
        " 'tasc_o': 313.93560900860314,\n",
        " 'tzrmjd': 0.00013931410186979548}"
       ]
      }
     ],
     "prompt_number": 9
    },
    {
     "cell_type": "code",
     "collapsed": false,
     "input": [
      "times = np.linspace(0,500,500*20)[1:]\n",
      "o = threebody.compute_orbit(F.best_parameters, times)"
     ],
     "language": "python",
     "metadata": {},
     "outputs": [],
     "prompt_number": 10
    },
    {
     "cell_type": "code",
     "collapsed": false,
     "input": [
      "parameters = np.asarray([F.best_parameters[p]\n",
      "                for p in kepler.three_body_parameters_measurable[:14]])\n",
      "initial_values, jac = kepler.kepler_three_body_measurable(\n",
      "                *(list(parameters)+[0,np.zeros(3),np.zeros(3),0]))"
     ],
     "language": "python",
     "metadata": {},
     "outputs": [],
     "prompt_number": 11
    },
    {
     "cell_type": "code",
     "collapsed": false,
     "input": [
      "for b in initial_values.reshape((3,-1)):\n",
      "    for v in b:\n",
      "        print repr(v),\n",
      "    print"
     ],
     "language": "python",
     "metadata": {},
     "outputs": [
      {
       "output_type": "stream",
       "stream": "stdout",
       "text": [
        "113.38543481264142 21.56176777492335 17.618378396131874 6.7584386369681848 1.6970574551736539 1.386373841358973 1.4379051660392406\n",
        "113.37104789413874 33.90630385045241 27.70719260992999 -54.634697758813353 1.6584925108104827 1.3548558842267673 0.19749730291005893\n",
        "-452.15140033696753 -91.928897034347443 -75.117138737343353 2.6145028919128745 -6.7489519379328575 -5.5134018176644322 0.41010152466561245\n"
       ]
      }
     ],
     "prompt_number": 12
    },
    {
     "cell_type": "code",
     "collapsed": false,
     "input": [
      "np.savez(\"demo-orbit.npz\", **o)"
     ],
     "language": "python",
     "metadata": {},
     "outputs": [],
     "prompt_number": 13
    },
    {
     "cell_type": "code",
     "collapsed": false,
     "input": [
      "np.save(\"t_d.npy\",o[\"t_d\"].astype(float))\n",
      "np.save(\"states.npy\",o[\"states\"].astype(float))\n"
     ],
     "language": "python",
     "metadata": {},
     "outputs": [],
     "prompt_number": 14
    },
    {
     "cell_type": "code",
     "collapsed": false,
     "input": [
      "o"
     ],
     "language": "python",
     "metadata": {},
     "outputs": [
      {
       "output_type": "pyout",
       "prompt_number": 15,
       "text": [
        "{'n_evaluations': 427398L,\n",
        " 'parameter_dict': {'acosi_i': 1.4897512309364032,\n",
        "  'acosi_o': 91.40522295634956,\n",
        "  'asini_i': 1.217528411091,\n",
        "  'asini_o': 74.67270658918648,\n",
        "  'delta': 0.0,\n",
        "  'delta_lan': 4.4997457847240714e-05,\n",
        "  'eps1_i': 0.0006856799262721906,\n",
        "  'eps1_o': 0.03518627726274827,\n",
        "  'eps2_i': -9.17036013347448e-05,\n",
        "  'eps2_o': -0.003462135749461484,\n",
        "  'f0': 365.95336876828094,\n",
        "  'f1': -2.3646872857785326e-15,\n",
        "  'j_AO1350': 5.364123866718607e-05,\n",
        "  'j_AO1440': 4.925776005523901e-05,\n",
        "  'j_AO327': 6.48262723561324e-05,\n",
        "  'j_GBT1500': 6.263322776967433e-05,\n",
        "  'j_GBT350': 1.888999445373467e-05,\n",
        "  'j_GBT820': 6.709416223083646e-05,\n",
        "  'j_WSRT350': -3.606016370729403e-05,\n",
        "  'pb_i': 1.6294017513810861,\n",
        "  'pb_o': 327.25753313824424,\n",
        "  'ppn_mode': None,\n",
        "  'q_i': 0.1373507151755161,\n",
        "  'tasc_i': 0.4075193395926848,\n",
        "  'tasc_o': 313.93560900860314,\n",
        "  'tzrmjd': 0.00013931410186979548},\n",
        " 'states': array([[ 113.71966,  21.673616,  17.70976, ..., -5.5119921,  0.41010152,\n",
        "         3.3896024e-09],\n",
        "       [ 114.04152,  21.839909,  17.845637, ..., -5.510571,  0.41010152,\n",
        "         6.8144827e-09],\n",
        "       [ 114.3365,  22.05728,  18.023259, ..., -5.5091444,  0.41010152,\n",
        "         1.0260912e-08],\n",
        "       ..., \n",
        "       [-103.0365, -50.039774, -40.883407, ...,  4.8538001,  0.41010152,\n",
        "         3.4267885e-05],\n",
        "       [-102.84135, -50.380252, -41.161643, ...,  4.8509453,  0.41010152,\n",
        "         3.4271417e-05],\n",
        "       [-102.58287, -50.695192, -41.419006, ...,  4.8480867,  0.41010152,\n",
        "         3.4274949e-05]], dtype=float128),\n",
        " 't_bb': array([ 0.050005001,  0.10001,  0.150015, ...,  499.89999,  499.94999,\n",
        "        500.0], dtype=float128),\n",
        " 't_d': array([ 0.049800027,  0.099803455,  0.1498064, ...,  499.90046,  499.95047,\n",
        "        500.00048], dtype=float128),\n",
        " 't_psr': array([ 0.049800023,  0.099803448,  0.14980639, ...,  499.90043,\n",
        "        499.95044,  500.00045], dtype=float128),\n",
        " 'time': 1.132148027420044,\n",
        " 'times': array([  5.00050005e-02,   1.00010001e-01,   1.50015002e-01, ...,\n",
        "         4.99899990e+02,   4.99949995e+02,   5.00000000e+02])}"
       ]
      }
     ],
     "prompt_number": 15
    },
    {
     "cell_type": "code",
     "collapsed": false,
     "input": [
      "goal_t_d = np.arange(1,25000)*0.02\n",
      "goal_t_d[-1]"
     ],
     "language": "python",
     "metadata": {},
     "outputs": [
      {
       "output_type": "pyout",
       "prompt_number": 39,
       "text": [
        "499.98000000000002"
       ]
      }
     ],
     "prompt_number": 39
    },
    {
     "cell_type": "code",
     "collapsed": false,
     "input": [
      "t_bb = goal_t_d.copy()"
     ],
     "language": "python",
     "metadata": {},
     "outputs": [],
     "prompt_number": 40
    },
    {
     "cell_type": "code",
     "collapsed": false,
     "input": [
      "o = threebody.compute_orbit(F.best_parameters, t_bb)\n",
      "errors = o['t_d']-goal_t_d\n",
      "t_bb -= errors\n",
      "np.amax(np.abs(errors))*86400"
     ],
     "language": "python",
     "metadata": {},
     "outputs": [
      {
       "output_type": "pyout",
       "prompt_number": 45,
       "text": [
        "2.4556356947869062424e-09"
       ]
      }
     ],
     "prompt_number": 45
    },
    {
     "cell_type": "code",
     "collapsed": false,
     "input": [
      "np.amax(np.abs(t_bb-goal_t_d))*86400"
     ],
     "language": "python",
     "metadata": {},
     "outputs": [
      {
       "output_type": "pyout",
       "prompt_number": 46,
       "text": [
        "78.512102995227906"
       ]
      }
     ],
     "prompt_number": 46
    },
    {
     "cell_type": "code",
     "collapsed": false,
     "input": [
      "np.save(\"t_d.npy\",o[\"t_d\"].astype(float))\n",
      "np.save(\"states.npy\",o[\"states\"].astype(float))"
     ],
     "language": "python",
     "metadata": {},
     "outputs": [],
     "prompt_number": 47
    },
    {
     "cell_type": "code",
     "collapsed": false,
     "input": [],
     "language": "python",
     "metadata": {},
     "outputs": []
    }
   ],
   "metadata": {}
  }
 ]
}