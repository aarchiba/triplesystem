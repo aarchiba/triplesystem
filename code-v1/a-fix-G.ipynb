{
 "metadata": {
  "name": "a-fix-G"
 },
 "nbformat": 3,
 "nbformat_minor": 0,
 "worksheets": [
  {
   "cells": [
    {
     "cell_type": "code",
     "collapsed": false,
     "input": [
      "import astropy\n",
      "import astropy.units as u"
     ],
     "language": "python",
     "metadata": {},
     "outputs": [],
     "prompt_number": 1
    },
    {
     "cell_type": "code",
     "collapsed": false,
     "input": [
      "import kepler\n",
      "repr(kepler.G), kepler.c"
     ],
     "language": "python",
     "metadata": {},
     "outputs": [
      {
       "output_type": "pyout",
       "prompt_number": 9,
       "text": [
        "('36779.59091405234', 299792458.0)"
       ]
      }
     ],
     "prompt_number": 9
    },
    {
     "cell_type": "code",
     "collapsed": false,
     "input": [
      "c = 299792458*u.m/u.s"
     ],
     "language": "python",
     "metadata": {},
     "outputs": [],
     "prompt_number": 4
    },
    {
     "cell_type": "code",
     "collapsed": false,
     "input": [
      "kepler_G_old = 36779.59091405234 * (u.s*c)**3 * u.solMass**(-1) * u.day**(-2)"
     ],
     "language": "python",
     "metadata": {},
     "outputs": [],
     "prompt_number": 5
    },
    {
     "cell_type": "code",
     "collapsed": false,
     "input": [
      "G_new = 132712440018 * u.km**3 * u.s**(-2) * u.solMass**(-1)"
     ],
     "language": "python",
     "metadata": {},
     "outputs": [],
     "prompt_number": 6
    },
    {
     "cell_type": "code",
     "collapsed": false,
     "input": [
      "(kepler_G_old/G_new).decompose()"
     ],
     "language": "python",
     "metadata": {},
     "outputs": [
      {
       "latex": [
        "$1.0003 \\; \\mathrm{}$"
       ],
       "output_type": "pyout",
       "prompt_number": 8,
       "text": [
        "<Quantity 1.0002991141 >"
       ]
      }
     ],
     "prompt_number": 8
    },
    {
     "cell_type": "code",
     "collapsed": false,
     "input": [
      "kepler_G_old"
     ],
     "language": "python",
     "metadata": {},
     "outputs": [
      {
       "latex": [
        "$9.90989\\times 10^{+29} \\; \\mathrm{\\frac{m^{3}}{M_{\\odot}\\,d^{2}}}$"
       ],
       "output_type": "pyout",
       "prompt_number": 10,
       "text": [
        "<Quantity 9.90989386498e+29 m3 / (d2 solMass)>"
       ]
      }
     ],
     "prompt_number": 10
    },
    {
     "cell_type": "code",
     "collapsed": false,
     "input": [
      "float((G_new/((u.s*c)**3 * u.solMass**(-1) * u.day**(-2))).decompose())"
     ],
     "language": "python",
     "metadata": {},
     "outputs": [
      {
       "output_type": "stream",
       "stream": "stdout",
       "text": [
        "WARNING: Converting Quantity object in units '1' to a Python scalar [astropy.units.quantity]\n"
       ]
      },
      {
       "output_type": "pyout",
       "prompt_number": 13,
       "text": [
        "36768.59290949113"
       ]
      }
     ],
     "prompt_number": 13
    },
    {
     "cell_type": "code",
     "collapsed": false,
     "input": [],
     "language": "python",
     "metadata": {},
     "outputs": []
    }
   ],
   "metadata": {}
  }
 ]
}