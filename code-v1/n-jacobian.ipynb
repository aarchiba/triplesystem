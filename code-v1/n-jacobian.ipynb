{
 "metadata": {
  "name": "n-jacobian"
 },
 "nbformat": 3,
 "nbformat_minor": 0,
 "worksheets": [
  {
   "cells": [
    {
     "cell_type": "code",
     "collapsed": false,
     "input": [
      "import subprocess\n",
      "import inspect\n",
      "\n",
      "import scipy.optimize\n",
      "import scipy.linalg\n",
      "\n",
      "import kepler\n",
      "import quad_integrate\n",
      "import threebody"
     ],
     "language": "python",
     "metadata": {},
     "outputs": [],
     "prompt_number": 1
    },
    {
     "cell_type": "code",
     "collapsed": false,
     "input": [
      "best_parameters = {'acosi_i': 1.4929862588663960758,\n",
      " 'acosi_o': 91.617941797449888988,\n",
      " 'asini_i': 1.2175287020486945866,\n",
      " 'asini_o': 74.672693058950960536,\n",
      " 'delta_lan': -5.8150284439036972337e-05,\n",
      " 'eps1_i': 0.00068567061735558419287,\n",
      " 'eps1_o': 0.035186307163170868541,\n",
      " 'eps2_i': -9.1695444739146245634e-05,\n",
      " 'eps2_o': -0.0034621201009006383508,\n",
      " 'f0': 365.95336879329157809,\n",
      " 'f1': -2.447635756534791276e-15,\n",
      " 'j_AO1440': 1.5076559907194445347e-06,\n",
      " 'j_AO327': 0.00049038731991381206183,\n",
      " 'j_GBT1500': 1.4832296152922550753e-05,\n",
      " 'j_GBT350': 0.00017128793851210017519,\n",
      " 'j_GBT820': 1.7349580378302418578e-05,\n",
      " 'j_WSRT1400': -4.7722633292688620323e-05,\n",
      " 'pb_i': 1.6294017478029645897,\n",
      " 'pb_o': 327.25751242302521665,\n",
      " 'q_i': 0.13737824720827664527,\n",
      " 'tasc_i': 0.40751930282264762069,\n",
      " 'tasc_o': 313.93560601843813529,\n",
      " 'tzrmjd': 56099.99998763672377}\n",
      "best_errors = {'acosi_i': 3.370303801835014e-08,\n",
      " 'acosi_o': 4.8167846714967205e-05,\n",
      " 'asini_i': 4.509055552231862e-09,\n",
      " 'asini_o': 3.508272414379927e-08,\n",
      " 'delta_lan': 1.2479040398812225e-06,\n",
      " 'eps1_i': 9.858000137330593e-09,\n",
      " 'eps1_o': 6.54699277355958e-11,\n",
      " 'eps2_i': 2.725769768396246e-08,\n",
      " 'eps2_o': 7.901098931557688e-10,\n",
      " 'f0': 3.022368721482778e-13,\n",
      " 'f1': 6.444399430351435e-20,\n",
      " 'j_AO1440': 1.110276862079532e-08,\n",
      " 'j_AO327': 1.302531501186911e-07,\n",
      " 'j_GBT1500': 1.6651918660122316e-08,\n",
      " 'j_GBT350': 3.447346279775526e-07,\n",
      " 'j_GBT820': 8.688588616299676e-08,\n",
      " 'j_WSRT1400': 2.8068526880908094e-08,\n",
      " 'pb_i': 3.66973899299573e-11,\n",
      " 'pb_o': 3.356634201441321e-08,\n",
      " 'q_i': 4.013308092805307e-09,\n",
      " 'tasc_i': 5.255642407878276e-09,\n",
      " 'tasc_o': 1.2127481097118383e-08,\n",
      " 'tzrmjd': 5.710297721750182e-14}"
     ],
     "language": "python",
     "metadata": {},
     "outputs": [],
     "prompt_number": 2
    },
    {
     "cell_type": "code",
     "collapsed": false,
     "input": [
      "base_mjd = 55920\n",
      "mjds, pulses, tel_list, tels, uncerts = threebody.load_toas()"
     ],
     "language": "python",
     "metadata": {},
     "outputs": [],
     "prompt_number": 3
    },
    {
     "cell_type": "code",
     "collapsed": false,
     "input": [
      "phase_uncerts = uncerts*365.9533436144258189 # approximate F0\n",
      "print np.mean(phase_uncerts), np.mean(uncerts)"
     ],
     "language": "python",
     "metadata": {},
     "outputs": [
      {
       "output_type": "stream",
       "stream": "stdout",
       "text": [
        "0.000623884276008 1.70481917133e-06\n"
       ]
      }
     ],
     "prompt_number": 4
    },
    {
     "cell_type": "code",
     "collapsed": false,
     "input": [
      "jmatrix,jnames = threebody.trend_matrix(mjds, tel_list, tels, const=False, P=False, Pdot=False, jumps=True)\n",
      "#jnames = ['j_'+n for n in tel_list[1:]]\n",
      "print jnames"
     ],
     "language": "python",
     "metadata": {},
     "outputs": [
      {
       "output_type": "stream",
       "stream": "stdout",
       "text": [
        "['j_AO1440', 'j_AO327', 'j_GBT1500', 'j_GBT350', 'j_GBT820', 'j_WSRT1400']\n"
       ]
      }
     ],
     "prompt_number": 5
    },
    {
     "cell_type": "code",
     "collapsed": false,
     "input": [
      "resid_cache = {}\n",
      "def residuals(p):\n",
      "    pc = p.copy()\n",
      "    del pc['tzrmjd']\n",
      "    del pc['f0']\n",
      "    del pc['f1']\n",
      "    pc = tuple(sorted(pc.items()))\n",
      "    if pc not in resid_cache:\n",
      "        jumps = np.dot(jmatrix,np.array([p[n] for n in jnames]))\n",
      "        o = threebody.compute_orbit_bbat([p[n] for n in parameters[:14]], \n",
      "            mjds-(jumps/86400.).astype(np.float128)-base_mjd)\n",
      "        t_psr_s = o['t_psr']*86400.\n",
      "        resid_cache[pc] = t_psr_s\n",
      "    t_psr_s = resid_cache[pc]-(p['tzrmjd']-base_mjd)*86400\n",
      "    # FIXME: assumes PEPOCH=TZRMJD\n",
      "    phase = p['f0']*t_psr_s+p['f1']*t_psr_s**2/2.\n",
      "    return phase-pulses\n",
      "\n",
      "def mfun(asini_i, pb_i, eps1_i, eps2_i, tasc_i, \n",
      "            acosi_i, q_i,\n",
      "            asini_o, pb_o, eps1_o, eps2_o, tasc_o, \n",
      "            acosi_o, delta_lan,\n",
      "            tzrmjd, f0, f1, \n",
      "            j_AO1440, j_AO327, j_GBT1500, \n",
      "            j_GBT350, j_GBT820, j_WSRT1400):\n",
      "    r = residuals(locals())\n",
      "    return np.sum((r/phase_uncerts)**2)\n",
      "parameters = inspect.getargspec(mfun).args"
     ],
     "language": "python",
     "metadata": {},
     "outputs": [],
     "prompt_number": 6
    },
    {
     "cell_type": "code",
     "collapsed": false,
     "input": [
      "def toarray(d):\n",
      "    return np.array([np.float128(d[n]) for n in parameters])\n",
      "def fromarray(a):\n",
      "    return dict(zip(parameters,a))"
     ],
     "language": "python",
     "metadata": {},
     "outputs": [],
     "prompt_number": 7
    },
    {
     "cell_type": "code",
     "collapsed": false,
     "input": [
      "central_value = residuals(best_parameters)"
     ],
     "language": "python",
     "metadata": {},
     "outputs": [],
     "prompt_number": 8
    },
    {
     "cell_type": "code",
     "collapsed": false,
     "input": [
      "partials, partial_errors = {}, {}\n",
      "for i,p in enumerate(parameters):\n",
      "    print p\n",
      "    a = toarray(best_parameters)\n",
      "    a[i] += best_errors[p]\n",
      "    av = residuals(fromarray(a))\n",
      "    b = toarray(best_parameters)\n",
      "    b[i] -= best_errors[p]\n",
      "    bv = residuals(fromarray(b))\n",
      "    partials[p] = (av-bv)/(a[i]-b[i])\n",
      "    partial_errors[p] = np.abs((av-central_value)/(a[i]-best_parameters[p]) - partials[p])"
     ],
     "language": "python",
     "metadata": {},
     "outputs": [
      {
       "output_type": "stream",
       "stream": "stdout",
       "text": [
        "asini_i\n",
        "pb_i"
       ]
      },
      {
       "output_type": "stream",
       "stream": "stdout",
       "text": [
        "\n",
        "eps1_i"
       ]
      },
      {
       "output_type": "stream",
       "stream": "stdout",
       "text": [
        "\n",
        "eps2_i"
       ]
      },
      {
       "output_type": "stream",
       "stream": "stdout",
       "text": [
        "\n",
        "tasc_i"
       ]
      },
      {
       "output_type": "stream",
       "stream": "stdout",
       "text": [
        "\n",
        "acosi_i"
       ]
      },
      {
       "output_type": "stream",
       "stream": "stdout",
       "text": [
        "\n",
        "q_i"
       ]
      },
      {
       "output_type": "stream",
       "stream": "stdout",
       "text": [
        "\n",
        "asini_o"
       ]
      },
      {
       "output_type": "stream",
       "stream": "stdout",
       "text": [
        "\n",
        "pb_o"
       ]
      },
      {
       "output_type": "stream",
       "stream": "stdout",
       "text": [
        "\n",
        "eps1_o"
       ]
      },
      {
       "output_type": "stream",
       "stream": "stdout",
       "text": [
        "\n",
        "eps2_o"
       ]
      },
      {
       "output_type": "stream",
       "stream": "stdout",
       "text": [
        "\n",
        "tasc_o"
       ]
      },
      {
       "output_type": "stream",
       "stream": "stdout",
       "text": [
        "\n",
        "acosi_o"
       ]
      },
      {
       "output_type": "stream",
       "stream": "stdout",
       "text": [
        "\n",
        "delta_lan"
       ]
      },
      {
       "output_type": "stream",
       "stream": "stdout",
       "text": [
        "\n",
        "tzrmjd"
       ]
      },
      {
       "output_type": "stream",
       "stream": "stdout",
       "text": [
        "\n",
        "f0\n",
        "f1\n",
        "j_AO1440\n",
        "j_AO327"
       ]
      },
      {
       "output_type": "stream",
       "stream": "stdout",
       "text": [
        "\n",
        "j_GBT1500"
       ]
      },
      {
       "output_type": "stream",
       "stream": "stdout",
       "text": [
        "\n",
        "j_GBT350"
       ]
      },
      {
       "output_type": "stream",
       "stream": "stdout",
       "text": [
        "\n",
        "j_GBT820"
       ]
      },
      {
       "output_type": "stream",
       "stream": "stdout",
       "text": [
        "\n",
        "j_WSRT1400"
       ]
      },
      {
       "output_type": "stream",
       "stream": "stdout",
       "text": [
        "\n"
       ]
      }
     ],
     "prompt_number": 9
    },
    {
     "cell_type": "code",
     "collapsed": false,
     "input": [
      "for p in parameters:\n",
      "    print p, np.sqrt(np.mean(partial_errors[p]**2))/np.sqrt(np.mean(partials[p]**2))"
     ],
     "language": "python",
     "metadata": {},
     "outputs": [
      {
       "output_type": "stream",
       "stream": "stdout",
       "text": [
        "asini_i 0.00191094240694\n",
        "pb_i 0.000629896435191\n",
        "eps1_i 0.000320106213403\n",
        "eps2_i 0.000744244292602\n",
        "tasc_i 0.000504481723875\n",
        "acosi_i 0.000299422824762\n",
        "q_i 0.000350812207045\n",
        "asini_o 0.000366193446116\n",
        "pb_o 0.000506086860076\n",
        "eps1_o 0.000709289814515\n",
        "eps2_o 0.000406825720201\n",
        "tasc_o 0.000705513922176\n",
        "acosi_o 0.000384106877927\n",
        "delta_lan 0.000692221328562\n",
        "tzrmjd 5.0305064925e-05\n",
        "f0 3.48334294128e-05\n",
        "f1 2.97767845959e-05\n",
        "j_AO1440 0.013719623108\n",
        "j_AO327 0.00171581757706\n",
        "j_GBT1500 0.00126359064957\n",
        "j_GBT350 0.000447933374498\n",
        "j_GBT820 0.000867746416854\n",
        "j_WSRT1400 0.00557803934336\n"
       ]
      }
     ],
     "prompt_number": 10
    },
    {
     "cell_type": "code",
     "collapsed": false,
     "input": [
      "jac = np.array([partials[p] for p in parameters])\n",
      "jac_scale = jac/np.sqrt(np.mean(jac**2,axis=1))[:,None]\n",
      "U, s, Vh = scipy.linalg.svd(jac_scale.astype(float), full_matrices=False)\n",
      "print s"
     ],
     "language": "python",
     "metadata": {},
     "outputs": [
      {
       "output_type": "stream",
       "stream": "stdout",
       "text": [
        "[  4.43067493e+02   2.90490970e+02   2.44610603e+02   2.24635500e+02\n",
        "   1.80599257e+02   1.63851487e+02   1.58746611e+02   1.58438318e+02\n",
        "   1.51830756e+02   1.34070329e+02   1.23801197e+02   9.95904153e+01\n",
        "   8.77813220e+01   5.54651662e+01   2.08801757e+01   1.93389834e+01\n",
        "   1.46364896e+01   9.11412507e+00   7.62850027e+00   1.73602021e+00\n",
        "   5.51790285e-01   3.09819891e-02   1.72663769e-02]\n"
       ]
      }
     ],
     "prompt_number": 21
    },
    {
     "cell_type": "code",
     "collapsed": false,
     "input": [
      "U.shape"
     ],
     "language": "python",
     "metadata": {},
     "outputs": [
      {
       "output_type": "pyout",
       "prompt_number": 22,
       "text": [
        "(23, 23)"
       ]
      }
     ],
     "prompt_number": 22
    },
    {
     "cell_type": "code",
     "collapsed": false,
     "input": [
      "print sum(U.T[:,-1]**2)\n",
      "print zip(parameters,U.T[:,-1])"
     ],
     "language": "python",
     "metadata": {},
     "outputs": [
      {
       "output_type": "stream",
       "stream": "stdout",
       "text": [
        "1.0\n",
        "[('asini_i', -0.13532131911794582), ('pb_i', 0.069628963757249612), ('eps1_i', -0.12225899435258281), ('eps2_i', -0.12468422813014995), ('tasc_i', 0.088627805827748748), ('acosi_i', 0.25199276339275634), ('q_i', 0.70908767671571671), ('asini_o', -0.2884321780827741), ('pb_o', -0.046615579210821254), ('eps1_o', -0.25163151308894721), ('eps2_o', -0.29787495872626496), ('tasc_o', -0.023013125562267464), ('acosi_o', -0.16035454951376737), ('delta_lan', 0.020870226792059281), ('tzrmjd', 0.029966865352365257), ('f0', -0.14071642059480041), ('f1', 0.1412149989225174), ('j_AO1440', 0.20728354255754738), ('j_AO327', 0.15589924516361311), ('j_GBT1500', 0.013429426859036513), ('j_GBT350', 0.00098205899935406311), ('j_GBT820', -7.0502241085183796e-05), ('j_WSRT1400', 1.0870123468152886e-05)]\n"
       ]
      }
     ],
     "prompt_number": 26
    },
    {
     "cell_type": "code",
     "collapsed": false,
     "input": [],
     "language": "python",
     "metadata": {},
     "outputs": []
    }
   ],
   "metadata": {}
  }
 ]
}