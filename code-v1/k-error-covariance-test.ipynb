{
 "cells": [
  {
   "cell_type": "code",
   "execution_count": 1,
   "metadata": {
    "collapsed": true
   },
   "outputs": [],
   "source": [
    "import numpy as np\n"
   ]
  },
  {
   "cell_type": "code",
   "execution_count": 12,
   "metadata": {
    "collapsed": false
   },
   "outputs": [],
   "source": [
    "n = 4\n",
    "m = 1000000\n",
    "r = 4*np.random.randn(n,m)\n",
    "r += np.repeat(np.random.randn(n//2,m),2,axis=0)"
   ]
  },
  {
   "cell_type": "code",
   "execution_count": 13,
   "metadata": {
    "collapsed": false
   },
   "outputs": [
    {
     "data": {
      "text/plain": [
       "array([[  1.69740214e+01,   1.02948561e+00,   5.97367124e-03,\n",
       "          2.10140086e-02],\n",
       "       [  1.02948561e+00,   1.69915662e+01,  -3.62205336e-02,\n",
       "         -3.34774125e-02],\n",
       "       [  5.97367124e-03,  -3.62205336e-02,   1.70110215e+01,\n",
       "          1.00823539e+00],\n",
       "       [  2.10140086e-02,  -3.34774125e-02,   1.00823539e+00,\n",
       "          1.70304112e+01]])"
      ]
     },
     "execution_count": 13,
     "metadata": {},
     "output_type": "execute_result"
    }
   ],
   "source": [
    "np.cov(r)"
   ]
  },
  {
   "cell_type": "markdown",
   "metadata": {},
   "source": [
    "Thus when we have errors we know are correlated, they contribute blocks of 1s to the covariance matrix. Red noise produces a more complicated correlation between values, so it fills in the covariance matrix completely, albeit with relatively small components.\n",
    "\n",
    "If we have several sources of error, each producing a covariance matrix, then the total covariance matrix $C$ is the sum of all the covariance matrices of the individual error contributions, and the error associated with a vector of residuals $r$ is $r^T C r$.\n",
    "\n",
    "In linear least-squares fitting, we have a parameter vector $x$, an \"effects\" matrix $A$, and a target vector $b$. Our goal is to find the $x$ for which $r=Ax-b$ minimizes $ r^T C^{-1} r$.\n",
    "\n",
    "Suppose we can write $C^{-1} = D^T D$. Then we can write $s = Dr$, so that our condition becomes to minimize $s^T s$. Our least-squares problem then becomes $s = (DA)x - (Db)$. This can be solved in much the same way as we would solve a normal linear least-squares problem. Finding a $D$ proceeds most easily by Cholesky decomposition.\n",
    "\n",
    "If the correlations are purely local, then the covariance matrix is block-diagonal and therefore sparse; its inverse will likewise be sparse. But if we want to include red-noise management, that will require a dense covariance matrix. \n",
    "\n",
    "Sparse Cholesky factorization is not part of scipy, though it does appear in `scikits.sparse`. It may require pivoting to retain sparsity, so $D$ will not be triangular; we don't need it to be."
   ]
  },
  {
   "cell_type": "code",
   "execution_count": null,
   "metadata": {
    "collapsed": true
   },
   "outputs": [],
   "source": []
  }
 ],
 "metadata": {
  "kernelspec": {
   "display_name": "Python 2",
   "language": "python",
   "name": "python2"
  },
  "language_info": {
   "codemirror_mode": {
    "name": "ipython",
    "version": 2
   },
   "file_extension": ".py",
   "mimetype": "text/x-python",
   "name": "python",
   "nbconvert_exporter": "python",
   "pygments_lexer": "ipython2",
   "version": "2.7.3"
  }
 },
 "nbformat": 4,
 "nbformat_minor": 0
}
