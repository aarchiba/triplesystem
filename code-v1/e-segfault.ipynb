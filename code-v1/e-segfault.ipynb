{
 "metadata": {
  "name": ""
 },
 "nbformat": 3,
 "nbformat_minor": 0,
 "worksheets": [
  {
   "cells": [
    {
     "cell_type": "code",
     "collapsed": false,
     "input": [
      "%load_ext autoreload\n",
      "\n",
      "%autoreload 2"
     ],
     "language": "python",
     "metadata": {},
     "outputs": [],
     "prompt_number": 1
    },
    {
     "cell_type": "code",
     "collapsed": false,
     "input": [
      "from __future__ import division\n",
      "from glob import glob\n",
      "import os\n",
      "import time\n",
      "import cPickle as pickle\n",
      "import re\n",
      "import logging\n",
      "import resource\n",
      "\n",
      "import scipy.linalg\n",
      "import scipy.stats\n",
      "\n",
      "import emcee\n",
      "import numdifftools\n",
      "\n",
      "import kepler\n",
      "import threebody"
     ],
     "language": "python",
     "metadata": {},
     "outputs": [],
     "prompt_number": 2
    },
    {
     "cell_type": "code",
     "collapsed": false,
     "input": [
      "logger = logging.getLogger()\n",
      "\n",
      "logger.setLevel(logging.DEBUG)\n",
      "fh = logging.FileHandler(\"segfault.log\")\n",
      "formatter = logging.Formatter('%(asctime)s - %(module)s:%(funcName)s:%(lineno)s - %(message)s')\n",
      "fh.setFormatter(formatter)\n",
      "logger.addHandler(fh)\n",
      "\n"
     ],
     "language": "python",
     "metadata": {},
     "outputs": [],
     "prompt_number": 3
    },
    {
     "cell_type": "code",
     "collapsed": false,
     "input": [
      "problem_run = 32559\n",
      "problem_rank = 60\n",
      "\n",
      "jobdir = \"multinest-chains/%d.nimrod/\" % problem_run\n",
      "logfile = os.path.join(jobdir,\"rank-%d.log\" % problem_rank)"
     ],
     "language": "python",
     "metadata": {},
     "outputs": [],
     "prompt_number": 4
    },
    {
     "cell_type": "code",
     "collapsed": false,
     "input": [
      "fitter_params = pickle.load(\n",
      "    open(os.path.join(jobdir,\"multinest_params.pickle\"),\"rb\"))\n",
      "F = threebody.Fitter(**fitter_params)\n"
     ],
     "language": "python",
     "metadata": {},
     "outputs": [],
     "prompt_number": 5
    },
    {
     "cell_type": "code",
     "collapsed": false,
     "input": [
      "pdre = re.compile(r\"^.*Running compute_orbit with parameter_dict.*({.*}).*$\")\n",
      "pd = None\n",
      "with open(logfile,\"rt\") as f:\n",
      "    while True:\n",
      "        l = f.readline()\n",
      "        if not l:\n",
      "            break\n",
      "        m = pdre.match(l)\n",
      "        if m:\n",
      "            pd = m.group(1)\n",
      "problem_params = eval(pd)\n",
      "problem_params"
     ],
     "language": "python",
     "metadata": {},
     "outputs": [
      {
       "metadata": {},
       "output_type": "pyout",
       "prompt_number": 6,
       "text": [
        "{'acosi_i': 5.565158523000227,\n",
        " 'acosi_o': 129.43934075158077,\n",
        " 'asini_i': 1.7003840587302097,\n",
        " 'asini_o': 77.56975480436799,\n",
        " 'd_DECJ': 9.102862719423401e-08,\n",
        " 'd_RAJ': -5.010488365309351e-07,\n",
        " 'dbeta': -0.0007532082056140136,\n",
        " 'delta': -0.008695566152972622,\n",
        " 'delta_lan': -0.9372997301707295,\n",
        " 'dgamma': -3.335574333670413e-05,\n",
        " 'eps1_i': -0.049535645676031775,\n",
        " 'eps1_o': 0.09275761884794698,\n",
        " 'eps2_i': 0.008660385688741279,\n",
        " 'eps2_o': -0.09126629290460245,\n",
        " 'f0': 365.95336878765835,\n",
        " 'j_AO1350': 5.364017648361716e-05,\n",
        " 'j_AO1440': -0.0005512166314092182,\n",
        " 'j_AO327': 6.457616019511097e-05,\n",
        " 'j_GBT1500': 0.0003347993194619059,\n",
        " 'j_GBT350': 1.8912917353649655e-05,\n",
        " 'j_GBT820': 6.712253154451129e-05,\n",
        " 'j_NCY1400': 0.000675,\n",
        " 'j_WSRT350': -3.6063906052781444e-05,\n",
        " 'pb_i': 1.6192431699323735,\n",
        " 'pb_o': 328.2790920683726,\n",
        " 'ppn_mode': 'heavysimple',\n",
        " 'q_i': 0.042098615315663356,\n",
        " 'shapiro': True,\n",
        " 'tasc_i': 0.8815020165750194,\n",
        " 'tasc_o': 317.1677959647487,\n",
        " 'tol': 1e-16,\n",
        " 'use_quad': False}"
       ]
      }
     ],
     "prompt_number": 6
    },
    {
     "cell_type": "code",
     "collapsed": false,
     "input": [],
     "language": "python",
     "metadata": {},
     "outputs": [],
     "prompt_number": 6
    },
    {
     "cell_type": "code",
     "collapsed": false,
     "input": [
      "if False:\n",
      "    logger.info(\"NEW RUN\")\n",
      "    \n",
      "    F.compute_orbit(problem_params)"
     ],
     "language": "python",
     "metadata": {},
     "outputs": [],
     "prompt_number": 7
    },
    {
     "cell_type": "code",
     "collapsed": false,
     "input": [
      "if False:\n",
      "    # 13368 ok\n",
      "    # 13369 not\n",
      "    n_times = 13368\n",
      "    logger.info(\"NEW RUN with %d times\" % n_times)\n",
      "    \n",
      "    p = problem_params\n",
      "    jumps = np.dot(F.jmatrix,np.array([p[n] for n in F.jnames]))\n",
      "    o = threebody.compute_orbit(p,\n",
      "            ((F.mjds)-(jumps/86400.).astype(np.float128))[:n_times],\n",
      "            keep_states=True)"
     ],
     "language": "python",
     "metadata": {},
     "outputs": [],
     "prompt_number": 8
    },
    {
     "cell_type": "code",
     "collapsed": false,
     "input": [
      "if False:\n",
      "    logger.info(\"NEW RUN with few times\")\n",
      "    \n",
      "    p = problem_params\n",
      "    jumps = np.dot(F.jmatrix,np.array([p[n] for n in F.jnames]))\n",
      "    o = threebody.compute_orbit(p,\n",
      "            ((F.mjds)-(jumps/86400.).astype(np.float128))[13368:13369],\n",
      "            keep_states=True)"
     ],
     "language": "python",
     "metadata": {},
     "outputs": [],
     "prompt_number": 9
    },
    {
     "cell_type": "code",
     "collapsed": false,
     "input": [
      "if False:\n",
      "    logger.info(\"NEW RUN past problem\")\n",
      "    \n",
      "    p = problem_params\n",
      "    jumps = np.dot(F.jmatrix,np.array([p[n] for n in F.jnames]))\n",
      "    o = threebody.compute_orbit(p,\n",
      "            ((F.mjds)-(jumps/86400.).astype(np.float128))[13368:13369]+10,\n",
      "            keep_states=True)\n"
     ],
     "language": "python",
     "metadata": {},
     "outputs": [],
     "prompt_number": 10
    },
    {
     "cell_type": "code",
     "collapsed": false,
     "input": [
      "if False:\n",
      "    logger.info(\"NEW RUN with setrlimit\")\n",
      "    \n",
      "    resource.setrlimit(resource.RLIMIT_STACK, (resource.RLIM_INFINITY, resource.RLIM_INFINITY))\n",
      "    p = problem_params\n",
      "    jumps = np.dot(F.jmatrix,np.array([p[n] for n in F.jnames]))\n",
      "    o = threebody.compute_orbit(p,\n",
      "            ((F.mjds)-(jumps/86400.).astype(np.float128))[13368:13369]+10,\n",
      "            keep_states=True)\n"
     ],
     "language": "python",
     "metadata": {},
     "outputs": [],
     "prompt_number": "*"
    },
    {
     "cell_type": "code",
     "collapsed": false,
     "input": [
      "if True:\n",
      "    logger.info(\"NEW RUN with different model\")\n",
      "    \n",
      "    p = problem_params.copy()\n",
      "    p['use_quad'] = True\n",
      "    jumps = np.dot(F.jmatrix,np.array([p[n] for n in F.jnames]))\n",
      "    o = threebody.compute_orbit(p,\n",
      "            ((F.mjds)-(jumps/86400.).astype(np.float128))[13368:13369]+10,\n",
      "            keep_states=True)"
     ],
     "language": "python",
     "metadata": {},
     "outputs": [],
     "prompt_number": "*"
    },
    {
     "cell_type": "code",
     "collapsed": false,
     "input": [
      "print problem_params['q_i']\n",
      "\n",
      "plt.plot(o['t_bb'],o['states'][:,0],\".\",markersize=1)\n",
      "plt.plot(o['t_bb'],o['states'][:,1],\".\",markersize=1)\n",
      "plt.plot(o['t_bb'],o['states'][:,2],\".\",markersize=1)\n",
      "plt.axhline(problem_params['asini_i'])\n",
      "plt.axhline(problem_params['acosi_i'])\n",
      "\n",
      "plt.figure()\n",
      "plt.plot(o['t_bb'],o['states'][:,7],\".\",markersize=1)\n",
      "plt.plot(o['t_bb'],o['states'][:,8],\".\",markersize=1)\n",
      "plt.plot(o['t_bb'],o['states'][:,9],\".\",markersize=1)\n",
      "\n",
      "plt.figure()\n",
      "plt.plot(o['t_bb'],o['states'][:,0]-o['states'][:,7],\".\",markersize=1)\n",
      "plt.plot(o['t_bb'],o['states'][:,1]-o['states'][:,8],\".\",markersize=1)\n",
      "plt.plot(o['t_bb'],o['states'][:,2]-o['states'][:,9],\".\",markersize=1)\n",
      "\n",
      "plt.figure()\n",
      "plt.plot(o['t_bb'],o['states'][:,0]+problem_params['q_i']*o['states'][:,7],\".\",markersize=1)\n",
      "plt.plot(o['t_bb'],o['states'][:,1]+problem_params['q_i']*o['states'][:,8],\".\",markersize=1)\n",
      "plt.plot(o['t_bb'],o['states'][:,2]+problem_params['q_i']*o['states'][:,9],\".\",markersize=1)\n",
      "\n",
      "plt.figure()\n",
      "plt.plot(o['t_bb'],o['states'][:,0]-o['states'][:,14],\".\",markersize=1)\n",
      "plt.plot(o['t_bb'],o['states'][:,1]-o['states'][:,15],\".\",markersize=1)\n",
      "plt.plot(o['t_bb'],o['states'][:,2]-o['states'][:,16],\".\",markersize=1)\n",
      "\n",
      "plt.figure()\n",
      "plt.plot(o['t_bb'],o['states'][:,7]-o['states'][:,14],\".\",markersize=1)\n",
      "plt.plot(o['t_bb'],o['states'][:,8]-o['states'][:,15],\".\",markersize=1)\n",
      "plt.plot(o['t_bb'],o['states'][:,9]-o['states'][:,16],\".\",markersize=1)\n",
      "\n",
      "plt.figure()\n",
      "plt.plot(o['t_bb'],o['states'][:,21],\".\",markersize=1)\n",
      "\n",
      "plt.figure()\n",
      "plt.plot(o['t_bb'],np.sqrt(np.sum((o['states'][:,:3]-o['states'][:,7:10])**2,axis=-1)),\".\",markersize=1)\n",
      "\n",
      "plt.figure()\n",
      "plt.plot(o['t_bb'],np.sqrt(np.sum((o['states'][:,:3]-o['states'][:,14:17])**2,axis=-1)),\".\",markersize=1)\n",
      "\n",
      "plt.figure()\n",
      "plt.plot(o['t_bb'],np.sqrt(np.sum((o['states'][:,7:10]-o['states'][:,14:17])**2,axis=-1)),\".\",markersize=1)\n"
     ],
     "language": "python",
     "metadata": {},
     "outputs": [],
     "prompt_number": "*"
    },
    {
     "cell_type": "code",
     "collapsed": false,
     "input": [
      "problem_params"
     ],
     "language": "python",
     "metadata": {},
     "outputs": [],
     "prompt_number": "*"
    },
    {
     "cell_type": "code",
     "collapsed": false,
     "input": [],
     "language": "python",
     "metadata": {},
     "outputs": [],
     "prompt_number": "*"
    }
   ],
   "metadata": {}
  }
 ]
}