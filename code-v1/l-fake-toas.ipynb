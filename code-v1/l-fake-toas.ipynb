{
 "cells": [
  {
   "cell_type": "code",
   "execution_count": 81,
   "metadata": {},
   "outputs": [
    {
     "name": "stdout",
     "output_type": "stream",
     "text": [
      "The autoreload extension is already loaded. To reload it, use:\n",
      "  %reload_ext autoreload\n"
     ]
    },
    {
     "data": {
      "text/plain": [
       "<matplotlib.figure.Figure at 0x114ea550>"
      ]
     },
     "metadata": {},
     "output_type": "display_data"
    }
   ],
   "source": [
    "%load_ext autoreload\n",
    "\n",
    "%autoreload 2\n",
    "\n",
    "from __future__ import division, print_function\n",
    "\n",
    "from glob import glob\n",
    "import os\n",
    "import time\n",
    "import cPickle as pickle\n",
    "import joblib\n",
    "\n",
    "import scipy.linalg\n",
    "import scipy.stats\n",
    "\n",
    "import emcee\n",
    "import numdifftools\n",
    "\n",
    "import kepler\n",
    "import threebody\n",
    "\n",
    "import matplotlib\n",
    "matplotlib.rcParams['savefig.dpi'] = 144\n",
    "%matplotlib inline\n",
    "import numpy as np\n",
    "import matplotlib.pyplot as plt\n",
    "plt.viridis()\n"
   ]
  },
  {
   "cell_type": "code",
   "execution_count": 195,
   "metadata": {
    "collapsed": true
   },
   "outputs": [],
   "source": [
    "# Note: bad things happen if any TOAs are too close to zero.\n",
    "start = 1\n",
    "end = 2000\n",
    "density = 20 # TOAs per day\n",
    "#fakename = \"fake_short\"\n",
    "#fakename = \"fake_noSR\"\n",
    "#fakename = \"fake_noSR_noGR\"\n",
    "fakename = \"fake_delta\"\n",
    "\n",
    "toa_infos = [ dict(file=\"FAKE\",\n",
    "                   freq=999999.999,\n",
    "                   mjd_string=repr(F.base_mjd+t),\n",
    "                   uncert=1.0, # us\n",
    "                   tel=\"@\",\n",
    "                   flags=dict(tel=\"fake\",\n",
    "                              band=999999)) \n",
    "             for t in np.linspace(start,end,int((end-start)*density),dtype=np.longdouble)]\n",
    "\n",
    "threebody.write_t2_toas(fakename+\".tim\", toa_infos)"
   ]
  },
  {
   "cell_type": "code",
   "execution_count": 196,
   "metadata": {},
   "outputs": [
    {
     "data": {
      "text/plain": [
       "{'efac': 1,\n",
       " 'fdn_range': (1, 5),\n",
       " 'files': 'fake_delta',\n",
       " 'fit_pm': True,\n",
       " 'fit_pos': True,\n",
       " 'fit_px': True,\n",
       " 'general': True,\n",
       " 'kopeikin': False,\n",
       " 'linear_dm': True,\n",
       " 'linear_jumps': True,\n",
       " 'matrix_mode': 0,\n",
       " 'only_tels': None,\n",
       " 'parfile': '0337_tempo2_px_optical_dmcorr.par',\n",
       " 'ppn_mode': 'heavysimple',\n",
       " 'priors': ('dbeta', 'dgamma'),\n",
       " 'reference_f0': 365.95336876828094,\n",
       " 'shapiro': True,\n",
       " 'special': True,\n",
       " 't2_astrometry': True,\n",
       " 'toa_mode': 'pipeline',\n",
       " 'tol': 1e-16,\n",
       " 'tzrmjd_middle': 'auto',\n",
       " 'use_quad': False}"
      ]
     },
     "execution_count": 196,
     "metadata": {},
     "output_type": "execute_result"
    }
   ],
   "source": [
    "fpickle = \"forecaster_params.pickle\"\n",
    "fparams = \"forecaster_best_parameters.pickle\"\n",
    "f_best_params = pickle.load(open(fparams, \"rb\"))\n",
    "f_best_params[\"delta\"] = 1e-4\n",
    "d = pickle.load(open(fpickle,\"rb\"))\n",
    "#d[\"special\"] = False\n",
    "#d[\"general\"] = False\n",
    "d[\"ppn_mode\"] = \"heavysimple\"\n",
    "d[\"files\"] = fakename\n",
    "d[\"toa_mode\"] = \"pipeline\"\n",
    "F = threebody.Fitter(**d)\n",
    "F.best_parameters = f_best_params.copy()\n",
    "d"
   ]
  },
  {
   "cell_type": "code",
   "execution_count": 197,
   "metadata": {
    "collapsed": true
   },
   "outputs": [],
   "source": [
    "for t in F.jnames:\n",
    "    if t not in F.best_parameters:\n",
    "        print(t)\n",
    "        F.best_parameters[t] = 0"
   ]
  },
  {
   "cell_type": "code",
   "execution_count": 198,
   "metadata": {
    "collapsed": true
   },
   "outputs": [],
   "source": [
    "if F.pulses is None:\n",
    "    F.pulses = np.zeros(len(F.mjds),dtype=np.int64)"
   ]
  },
  {
   "cell_type": "code",
   "execution_count": 199,
   "metadata": {
    "collapsed": true
   },
   "outputs": [],
   "source": [
    "r = F.residuals(F.best_parameters, linear_fit=False)\n"
   ]
  },
  {
   "cell_type": "code",
   "execution_count": 200,
   "metadata": {
    "collapsed": true
   },
   "outputs": [],
   "source": [
    "F.pulses += np.round(r).astype(np.int64)"
   ]
  },
  {
   "cell_type": "code",
   "execution_count": 201,
   "metadata": {},
   "outputs": [],
   "source": [
    "r = F.residuals(F.best_parameters, linear_fit=False)\n"
   ]
  },
  {
   "cell_type": "code",
   "execution_count": 202,
   "metadata": {},
   "outputs": [
    {
     "data": {
      "text/plain": [
       "(array([ 4027.,  3999.,  4032.,  3990.,  4009.,  4085.,  3859.,  3956.,\n",
       "         4033.,  3990.]),\n",
       " array([-0.49999403, -0.39999685, -0.29999967, -0.2000025, -0.10000532,\n",
       "        -8.1423204e-06,  0.099989035,  0.19998621,  0.29998339,  0.39998057,\n",
       "         0.49997774], dtype=float128),\n",
       " <a list of 10 Patch objects>)"
      ]
     },
     "execution_count": 202,
     "metadata": {},
     "output_type": "execute_result"
    },
    {
     "data": {
      "image/png": "[encoded data removed]",
      "text/plain": [
       "<matplotlib.figure.Figure at 0x8733590>"
      ]
     },
     "metadata": {},
     "output_type": "display_data"
    }
   ],
   "source": [
    "plt.hist(r)"
   ]
  },
  {
   "cell_type": "code",
   "execution_count": 203,
   "metadata": {
    "collapsed": true
   },
   "outputs": [],
   "source": [
    "for t, p, m, ri in zip(toa_infos, F.pulses, F.mjds, r):\n",
    "    t[\"flags\"][\"pn\"] = p\n",
    "    mjd_string = repr(F.base_mjd + m - ri/F.reference_f0/86400)\n",
    "    #print(t[\"mjd_string\"], mjd_string)\n",
    "    t[\"mjd_string\"] = mjd_string\n",
    "    \n",
    "threebody.write_t2_toas(fakename+\".tim\", toa_infos)"
   ]
  },
  {
   "cell_type": "code",
   "execution_count": 204,
   "metadata": {},
   "outputs": [
    {
     "data": {
      "text/plain": [
       "{'efac': 1,\n",
       " 'fdn_range': (1, 5),\n",
       " 'files': 'fake_delta',\n",
       " 'fit_pm': True,\n",
       " 'fit_pos': True,\n",
       " 'fit_px': True,\n",
       " 'general': True,\n",
       " 'kopeikin': False,\n",
       " 'linear_dm': True,\n",
       " 'linear_jumps': True,\n",
       " 'matrix_mode': 0,\n",
       " 'only_tels': None,\n",
       " 'parfile': '0337_tempo2_px_optical_dmcorr.par',\n",
       " 'ppn_mode': 'heavysimple',\n",
       " 'priors': ('dbeta', 'dgamma'),\n",
       " 'reference_f0': 365.95336876828094,\n",
       " 'shapiro': True,\n",
       " 'special': True,\n",
       " 't2_astrometry': True,\n",
       " 'toa_mode': 'pipeline',\n",
       " 'tol': 1e-16,\n",
       " 'tzrmjd_middle': 'auto',\n",
       " 'use_quad': False}"
      ]
     },
     "execution_count": 204,
     "metadata": {},
     "output_type": "execute_result"
    }
   ],
   "source": [
    "F = threebody.Fitter(**d)\n",
    "F.best_parameters = f_best_params.copy()\n",
    "d"
   ]
  },
  {
   "cell_type": "code",
   "execution_count": 205,
   "metadata": {},
   "outputs": [
    {
     "data": {
      "text/plain": [
       "(array([   393.,   1287.,   3049.,   5235.,  10275.,   9889.,   5217.,\n",
       "          2981.,   1299.,    355.]),\n",
       " array([-3.4961849e-05, -2.7945265e-05, -2.0928681e-05, -1.3912097e-05,\n",
       "        -6.8955123e-06,  1.2107193e-07,  7.1376562e-06,  1.415424e-05,\n",
       "         2.1170825e-05,  2.8187409e-05,  3.5203993e-05], dtype=float128),\n",
       " <a list of 10 Patch objects>)"
      ]
     },
     "execution_count": 205,
     "metadata": {},
     "output_type": "execute_result"
    },
    {
     "data": {
      "image/png": "[encoded data removed]",
      "text/plain": [
       "<matplotlib.figure.Figure at 0x86bc750>"
      ]
     },
     "metadata": {},
     "output_type": "display_data"
    }
   ],
   "source": [
    "r = F.residuals(F.best_parameters, linear_fit=False)\n",
    "plt.hist(r)"
   ]
  },
  {
   "cell_type": "code",
   "execution_count": 206,
   "metadata": {
    "collapsed": true
   },
   "outputs": [],
   "source": [
    "for t, m, ri in zip(toa_infos, F.mjds, r):\n",
    "    mjd_string = repr(F.base_mjd + m - ri/F.reference_f0/86400)\n",
    "    #print(t[\"mjd_string\"], mjd_string)\n",
    "    t[\"mjd_string\"] = mjd_string\n",
    "    \n",
    "threebody.write_t2_toas(fakename+\".tim\", toa_infos)"
   ]
  },
  {
   "cell_type": "code",
   "execution_count": 207,
   "metadata": {},
   "outputs": [
    {
     "data": {
      "text/plain": [
       "{'efac': 1,\n",
       " 'fdn_range': (1, 5),\n",
       " 'files': 'fake_delta',\n",
       " 'fit_pm': True,\n",
       " 'fit_pos': True,\n",
       " 'fit_px': True,\n",
       " 'general': True,\n",
       " 'kopeikin': False,\n",
       " 'linear_dm': True,\n",
       " 'linear_jumps': True,\n",
       " 'matrix_mode': 0,\n",
       " 'only_tels': None,\n",
       " 'parfile': '0337_tempo2_px_optical_dmcorr.par',\n",
       " 'ppn_mode': 'heavysimple',\n",
       " 'priors': ('dbeta', 'dgamma'),\n",
       " 'reference_f0': 365.95336876828094,\n",
       " 'shapiro': True,\n",
       " 'special': True,\n",
       " 't2_astrometry': True,\n",
       " 'toa_mode': 'pipeline',\n",
       " 'tol': 1e-16,\n",
       " 'tzrmjd_middle': 'auto',\n",
       " 'use_quad': False}"
      ]
     },
     "execution_count": 207,
     "metadata": {},
     "output_type": "execute_result"
    }
   ],
   "source": [
    "F = threebody.Fitter(**d)\n",
    "F.best_parameters = f_best_params.copy()\n",
    "d"
   ]
  },
  {
   "cell_type": "code",
   "execution_count": 208,
   "metadata": {},
   "outputs": [
    {
     "data": {
      "text/plain": [
       "(array([  110.,  1671.,  4746.,  6334.,  6462.,  6631.,  6629.,  5125.,\n",
       "         2051.,   221.]),\n",
       " array([-9.3132257e-08, -7.469207e-08, -5.6251884e-08, -3.7811697e-08,\n",
       "        -1.937151e-08, -9.3132257e-10,  1.7508864e-08,  3.5949051e-08,\n",
       "         5.4389238e-08,  7.2829425e-08,  9.1269612e-08], dtype=float128),\n",
       " <a list of 10 Patch objects>)"
      ]
     },
     "execution_count": 208,
     "metadata": {},
     "output_type": "execute_result"
    },
    {
     "data": {
      "image/png": "[encoded data removed]",
      "text/plain": [
       "<matplotlib.figure.Figure at 0x13b76c90>"
      ]
     },
     "metadata": {},
     "output_type": "display_data"
    }
   ],
   "source": [
    "r = F.residuals(F.best_parameters, linear_fit=False)\n",
    "plt.hist(r)"
   ]
  },
  {
   "cell_type": "code",
   "execution_count": 209,
   "metadata": {},
   "outputs": [
    {
     "data": {
      "text/plain": [
       "0.00036989655778338082581"
      ]
     },
     "execution_count": 209,
     "metadata": {},
     "output_type": "execute_result"
    }
   ],
   "source": [
    "F.goodness_of_fit()"
   ]
  },
  {
   "cell_type": "code",
   "execution_count": 210,
   "metadata": {},
   "outputs": [
    {
     "name": "stdout",
     "output_type": "stream",
     "text": [
      "inf\n",
      "0.000369896557783\n",
      "updating\n"
     ]
    }
   ],
   "source": [
    "bpd = threebody.load_best_parameter_database()\n",
    "F2 = threebody.Fitter(**d)\n",
    "newp = F.best_parameters.copy()\n",
    "\n",
    "old = F2.goodness_of_fit()\n",
    "print(old)\n",
    "new = F2.goodness_of_fit(newp)\n",
    "print(new)\n",
    "if new<old:\n",
    "    print(\"updating\")\n",
    "    bpd[F2.bpd_k] = newp\n",
    "threebody.save_best_parameter_database(bpd)"
   ]
  },
  {
   "cell_type": "code",
   "execution_count": 211,
   "metadata": {},
   "outputs": [
    {
     "name": "stdout",
     "output_type": "stream",
     "text": [
      "Adding dbeta\n",
      "Adding dgamma\n",
      "0.000369896557783\n",
      "0.000369896557783\n",
      "updating\n"
     ]
    }
   ],
   "source": [
    "d2 = d.copy()\n",
    "d2[\"ppn_mode\"] = \"heavysimple\"\n",
    "bpd = threebody.load_best_parameter_database()\n",
    "F2 = threebody.Fitter(**d2)\n",
    "newp = F.best_parameters.copy()\n",
    "for p in ['delta','dbeta','dgamma']:\n",
    "    if p not in newp:\n",
    "        print(\"Adding\",p)\n",
    "        newp[p] = 0\n",
    "\n",
    "old = F2.goodness_of_fit()\n",
    "print(old)\n",
    "new = F2.goodness_of_fit(newp)\n",
    "print(new)\n",
    "if new<=old:\n",
    "    print(\"updating\")\n",
    "    bpd[F2.bpd_k] = newp\n",
    "threebody.save_best_parameter_database(bpd)"
   ]
  },
  {
   "cell_type": "code",
   "execution_count": null,
   "metadata": {
    "collapsed": true
   },
   "outputs": [],
   "source": []
  },
  {
   "cell_type": "code",
   "execution_count": null,
   "metadata": {
    "collapsed": true
   },
   "outputs": [],
   "source": []
  },
  {
   "cell_type": "code",
   "execution_count": null,
   "metadata": {
    "collapsed": true
   },
   "outputs": [],
   "source": []
  }
 ],
 "metadata": {
  "kernelspec": {
   "display_name": "Python 2",
   "language": "python",
   "name": "python2"
  },
  "language_info": {
   "codemirror_mode": {
    "name": "ipython",
    "version": 2
   },
   "file_extension": ".py",
   "mimetype": "text/x-python",
   "name": "python",
   "nbconvert_exporter": "python",
   "pygments_lexer": "ipython2",
   "version": "2.7.3"
  }
 },
 "nbformat": 4,
 "nbformat_minor": 2
}
