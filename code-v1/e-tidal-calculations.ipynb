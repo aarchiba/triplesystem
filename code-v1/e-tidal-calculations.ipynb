{
 "metadata": {
  "name": "",
  "signature": "sha256:c8d334cba046697fb5b0838e9c0e5b0501169eff640d663467ef1f75913141a0"
 },
 "nbformat": 3,
 "nbformat_minor": 0,
 "worksheets": [
  {
   "cells": [
    {
     "cell_type": "code",
     "collapsed": false,
     "input": [
      "from __future__ import division\n",
      "import astropy.units as u\n",
      "import astropy.constants as c"
     ],
     "language": "python",
     "metadata": {},
     "outputs": [],
     "prompt_number": 10
    },
    {
     "cell_type": "code",
     "collapsed": false,
     "input": [
      "M_psr = 1.4378*u.solMass\n",
      "M_i = 0.19751*u.solMass\n",
      "M_o = 0.4101*u.solMass\n",
      "\n",
      "a_i_psr = 1.9242*u.s*c.c\n",
      "a_i_tot = a_i_psr*(1+M_psr/M_o)\n",
      "\n",
      "e_i = 6.9178e-4\n",
      "P_i = 1.629401788*u.day\n",
      "\n",
      "P_o = 327.257541*u.day\n",
      "\n",
      "R_i = 0.091*u.solRad\n",
      "\n",
      "advance_sep = 2*np.pi/P_o"
     ],
     "language": "python",
     "metadata": {},
     "outputs": [],
     "prompt_number": 4
    },
    {
     "cell_type": "markdown",
     "metadata": {},
     "source": [
      "Formulas from Sravan et al. 2014"
     ]
    },
    {
     "cell_type": "code",
     "collapsed": false,
     "input": [
      "advance_gr = ((30*np.pi/P_i)**(5/3)\n",
      "              *3*c.G/c.c**2\n",
      "              *(M_psr+M_i)/(a_i_tot*(1-e_i**2)))\n",
      "(advance_gr**(-1)).to(u.day)"
     ],
     "language": "python",
     "metadata": {},
     "outputs": [
      {
       "latex": [
        "$6201.61 \\; \\mathrm{d}$"
       ],
       "metadata": {},
       "output_type": "pyout",
       "prompt_number": 7,
       "text": [
        "<Quantity 6201.605174297091 d>"
       ]
      }
     ],
     "prompt_number": 7
    },
    {
     "cell_type": "code",
     "collapsed": false,
     "input": [
      "advance_sep**(-1)"
     ],
     "language": "python",
     "metadata": {},
     "outputs": [
      {
       "latex": [
        "$52.0847 \\; \\mathrm{d}$"
       ],
       "metadata": {},
       "output_type": "pyout",
       "prompt_number": 8,
       "text": [
        "<Quantity 52.084655314248614 d>"
       ]
      }
     ],
     "prompt_number": 8
    },
    {
     "cell_type": "code",
     "collapsed": false,
     "input": [
      "k2 = 0.74 # uniform sphere\n",
      "#k2 = 0.1 # rough value for higher-mass WDs"
     ],
     "language": "python",
     "metadata": {},
     "outputs": [],
     "prompt_number": 17
    },
    {
     "cell_type": "code",
     "collapsed": false,
     "input": [
      "advance_tides = (30*np.pi/P_i\n",
      "                 *(R_i/a_i_tot)**5\n",
      "                 *M_psr/M_i\n",
      "                 *(1+3/2*e_i**2+1/8*e_i**4)/(1-e_i**2)**5\n",
      "                 *k2)\n",
      "(advance_tides**(-1)).to(u.day)"
     ],
     "language": "python",
     "metadata": {},
     "outputs": [
      {
       "latex": [
        "$374969 \\; \\mathrm{d}$"
       ],
       "metadata": {},
       "output_type": "pyout",
       "prompt_number": 18,
       "text": [
        "<Quantity 374968.7169856792 d>"
       ]
      }
     ],
     "prompt_number": 18
    },
    {
     "cell_type": "markdown",
     "metadata": {},
     "source": [
      "Fuller and Lai 2011: gravitational radiation always dominates over tidal dissipation (by a factor of about the system moment of inertia divided by the stellar moment of inertia); also $\\Delta t = \\dot P t^2/(2P)$. where $t$ is the observation span and $\\Delta t$ is the change in eclipse time. Also references to simpler tidal dissipation models parameterized by $Q_{tide}$."
     ]
    },
    {
     "cell_type": "code",
     "collapsed": false,
     "input": [
      "t_GW = (5*c.c**5/(64*c.G**3)\n",
      "        *a_i_tot**4/(M_psr*M_i*(M_psr+M_i)))\n",
      "t_GW.to(u.day)"
     ],
     "language": "python",
     "metadata": {},
     "outputs": [
      {
       "latex": [
        "$9.20096\\times 10^{+13} \\; \\mathrm{d}$"
       ],
       "metadata": {},
       "output_type": "pyout",
       "prompt_number": 20,
       "text": [
        "<Quantity 92009645092543.5 d>"
       ]
      }
     ],
     "prompt_number": 20
    },
    {
     "cell_type": "code",
     "collapsed": false,
     "input": [],
     "language": "python",
     "metadata": {},
     "outputs": []
    }
   ],
   "metadata": {}
  }
 ]
}