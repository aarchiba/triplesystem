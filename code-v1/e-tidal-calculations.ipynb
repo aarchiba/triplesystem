{
 "cells": [
  {
   "cell_type": "code",
   "execution_count": 10,
   "metadata": {},
   "outputs": [],
   "source": [
    "from __future__ import division\n",
    "import astropy.units as u\n",
    "import astropy.constants as c"
   ]
  },
  {
   "cell_type": "code",
   "execution_count": 4,
   "metadata": {},
   "outputs": [],
   "source": [
    "M_psr = 1.4378*u.solMass\n",
    "M_i = 0.19751*u.solMass\n",
    "M_o = 0.4101*u.solMass\n",
    "\n",
    "a_i_psr = 1.9242*u.s*c.c\n",
    "a_i_tot = a_i_psr*(1+M_psr/M_o)\n",
    "\n",
    "e_i = 6.9178e-4\n",
    "P_i = 1.629401788*u.day\n",
    "\n",
    "P_o = 327.257541*u.day\n",
    "\n",
    "R_i = 0.091*u.solRad\n",
    "\n",
    "advance_sep = 2*np.pi/P_o"
   ]
  },
  {
   "cell_type": "markdown",
   "metadata": {},
   "source": [
    "Formulas from Sravan et al. 2014"
   ]
  },
  {
   "cell_type": "code",
   "execution_count": 7,
   "metadata": {},
   "outputs": [
    {
     "data": {
      "text/latex": [
       "$6201.61 \\; \\mathrm{d}$"
      ],
      "text/plain": [
       "<Quantity 6201.605174297091 d>"
      ]
     },
     "execution_count": 7,
     "metadata": {},
     "output_type": "execute_result"
    }
   ],
   "source": [
    "advance_gr = ((30*np.pi/P_i)**(5/3)\n",
    "              *3*c.G/c.c**2\n",
    "              *(M_psr+M_i)/(a_i_tot*(1-e_i**2)))\n",
    "(advance_gr**(-1)).to(u.day)"
   ]
  },
  {
   "cell_type": "code",
   "execution_count": 8,
   "metadata": {},
   "outputs": [
    {
     "data": {
      "text/latex": [
       "$52.0847 \\; \\mathrm{d}$"
      ],
      "text/plain": [
       "<Quantity 52.084655314248614 d>"
      ]
     },
     "execution_count": 8,
     "metadata": {},
     "output_type": "execute_result"
    }
   ],
   "source": [
    "advance_sep**(-1)"
   ]
  },
  {
   "cell_type": "code",
   "execution_count": 17,
   "metadata": {},
   "outputs": [],
   "source": [
    "k2 = 0.74 # uniform sphere\n",
    "#k2 = 0.1 # rough value for higher-mass WDs"
   ]
  },
  {
   "cell_type": "code",
   "execution_count": 18,
   "metadata": {},
   "outputs": [
    {
     "data": {
      "text/latex": [
       "$374969 \\; \\mathrm{d}$"
      ],
      "text/plain": [
       "<Quantity 374968.7169856792 d>"
      ]
     },
     "execution_count": 18,
     "metadata": {},
     "output_type": "execute_result"
    }
   ],
   "source": [
    "advance_tides = (30*np.pi/P_i\n",
    "                 *(R_i/a_i_tot)**5\n",
    "                 *M_psr/M_i\n",
    "                 *(1+3/2*e_i**2+1/8*e_i**4)/(1-e_i**2)**5\n",
    "                 *k2)\n",
    "(advance_tides**(-1)).to(u.day)"
   ]
  },
  {
   "cell_type": "markdown",
   "metadata": {},
   "source": [
    "Fuller and Lai 2011: gravitational radiation always dominates over tidal dissipation (by a factor of about the system moment of inertia divided by the stellar moment of inertia); also $\\Delta t = \\dot P t^2/(2P)$. where $t$ is the observation span and $\\Delta t$ is the change in eclipse time. Also references to simpler tidal dissipation models parameterized by $Q_{tide}$."
   ]
  },
  {
   "cell_type": "code",
   "execution_count": 20,
   "metadata": {},
   "outputs": [
    {
     "data": {
      "text/latex": [
       "$9.20096\\times 10^{+13} \\; \\mathrm{d}$"
      ],
      "text/plain": [
       "<Quantity 92009645092543.5 d>"
      ]
     },
     "execution_count": 20,
     "metadata": {},
     "output_type": "execute_result"
    }
   ],
   "source": [
    "t_GW = (5*c.c**5/(64*c.G**3)\n",
    "        *a_i_tot**4/(M_psr*M_i*(M_psr+M_i)))\n",
    "t_GW.to(u.day)"
   ]
  },
  {
   "cell_type": "code",
   "execution_count": null,
   "metadata": {},
   "outputs": [],
   "source": []
  }
 ],
 "metadata": {
  "kernelspec": {
   "display_name": "Python 2",
   "language": "python",
   "name": "python2"
  },
  "language_info": {
   "codemirror_mode": {
    "name": "ipython",
    "version": 2
   },
   "file_extension": ".py",
   "mimetype": "text/x-python",
   "name": "python",
   "nbconvert_exporter": "python",
   "pygments_lexer": "ipython2",
   "version": "2.7.3"
  }
 },
 "nbformat": 4,
 "nbformat_minor": 1
}
