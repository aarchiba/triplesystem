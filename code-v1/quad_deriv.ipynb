{
 "metadata": {
  "name": "quad_deriv"
 },
 "nbformat": 3,
 "nbformat_minor": 0,
 "worksheets": [
  {
   "cells": [
    {
     "cell_type": "code",
     "collapsed": false,
     "input": [
      "import kepler\n",
      "\n",
      "import quad_integrate"
     ],
     "language": "python",
     "metadata": {},
     "outputs": [],
     "prompt_number": 1
    },
    {
     "cell_type": "code",
     "collapsed": false,
     "input": [
      "asini_i = 1.5\n",
      "i_i = np.pi/5\n",
      "a_i = asini_i / np.sin(i_i)\n",
      "pb_i = 1.601234567\n",
      "eps1_i = 0.\n",
      "eps2_i = 0.\n",
      "lan_i = 0.1\n",
      "q_i = 0.2\n",
      "tasc_i = 0.\n",
      "\n",
      "asini_o = 106.\n",
      "i_o = np.pi/4\n",
      "a_o = asini_o/np.sin(i_o)\n",
      "pb_o = 327.01\n",
      "eps1_o = 0.\n",
      "eps2_o = 0.\n",
      "lan_o = 0.7\n",
      "tasc_o = 0.\n",
      "x_cm = np.zeros(3)\n",
      "v_cm = np.zeros(3)\n",
      "\n",
      "orbital_parameters = (a_i,pb_i,eps1_i,eps2_i,i_i,lan_i,q_i,tasc_i,\n",
      "    a_o,pb_o,eps1_o,eps2_o,i_o,lan_o,tasc_o,\n",
      "    x_cm,v_cm)"
     ],
     "language": "python",
     "metadata": {},
     "outputs": [],
     "prompt_number": 2
    },
    {
     "cell_type": "code",
     "collapsed": false,
     "input": [
      "d_x = np.zeros(21)\n",
      "d_x[-6] = 1\n",
      "\n",
      "initial_state, jac = kepler.kepler_three_body(*orbital_parameters)\n",
      "\n",
      "d_x = np.dot(jac,d_x)\n",
      "print d_x"
     ],
     "language": "python",
     "metadata": {},
     "outputs": [
      {
       "output_type": "stream",
       "stream": "stdout",
       "text": [
        "[ 1.  0.  0.  0.  0.  0.  0.  1.  0.  0.  0.  0.  0.  0.  1.  0.  0.  0.\n",
        "  0.  0.  0.]\n"
       ]
      }
     ],
     "prompt_number": 3
    },
    {
     "cell_type": "code",
     "collapsed": false,
     "input": [
      "O = quad_integrate.ODE(quad_integrate.KeplerRHS(),\n",
      "                       initial_state, 0,\n",
      "                       vectors = [d_x],\n",
      "                       symmetric = True)\n",
      "print O.dx\n"
     ],
     "language": "python",
     "metadata": {},
     "outputs": [
      {
       "output_type": "stream",
       "stream": "stdout",
       "text": [
        "[[ 1.0]\n",
        " [ 0.0]\n",
        " [ 0.0]\n",
        " [ 0.0]\n",
        " [ 0.0]\n",
        " [ 0.0]\n",
        " [ 0.0]\n",
        " [ 1.0]\n",
        " [ 0.0]\n",
        " [ 0.0]\n",
        " [ 0.0]\n",
        " [ 0.0]\n",
        " [ 0.0]\n",
        " [ 0.0]\n",
        " [ 1.0]\n",
        " [ 0.0]\n",
        " [ 0.0]\n",
        " [ 0.0]\n",
        " [ 0.0]\n",
        " [ 0.0]\n",
        " [ 0.0]]\n"
       ]
      }
     ],
     "prompt_number": 4
    },
    {
     "cell_type": "code",
     "collapsed": false,
     "input": [
      "O.integrate_to(10)\n",
      "print O.dx"
     ],
     "language": "python",
     "metadata": {},
     "outputs": [
      {
       "output_type": "stream",
       "stream": "stdout",
       "text": [
        "[[ 1.0]\n",
        " [-2.8349689e-24]\n",
        " [ 1.6177812e-25]\n",
        " [ 1.7975089e-23]\n",
        " [ 1.118948e-22]\n",
        " [ 8.0864406e-23]\n",
        " [ 0.0]\n",
        " [ 1.0]\n",
        " [ 1.42488e-23]\n",
        " [ 6.0859386e-26]\n",
        " [-8.8860867e-23]\n",
        " [-5.6111391e-22]\n",
        " [-4.046791e-22]\n",
        " [ 0.0]\n",
        " [ 1.0]\n",
        " [-4.1415198e-24]\n",
        " [-1.1678839e-24]\n",
        " [-1.6254849e-25]\n",
        " [-3.5051925e-26]\n",
        " [ 6.625199e-26]\n",
        " [ 0.0]]\n"
       ]
      }
     ],
     "prompt_number": 5
    },
    {
     "cell_type": "code",
     "collapsed": false,
     "input": [
      "def f(*state):\n",
      "    O = quad_integrate.ODE(quad_integrate.KeplerRHS(),\n",
      "                       state, 0,\n",
      "                       vectors = np.eye(21),\n",
      "                       symmetric = True)\n",
      "    return O.x, O.dx\n",
      "\n",
      "kepler.check_all_partials(f, initial_state)"
     ],
     "language": "python",
     "metadata": {},
     "outputs": [],
     "prompt_number": 6
    },
    {
     "cell_type": "code",
     "collapsed": false,
     "input": [
      "def f(*state):\n",
      "    O = quad_integrate.ODE(quad_integrate.KeplerRHS(),\n",
      "                       state, 0,\n",
      "                       vectors = np.eye(21),\n",
      "                       symmetric = True)\n",
      "    O.integrate_to(10)\n",
      "    return O.x, O.dx\n",
      "\n",
      "kepler.check_all_partials(f, initial_state)"
     ],
     "language": "python",
     "metadata": {},
     "outputs": [],
     "prompt_number": 7
    },
    {
     "cell_type": "code",
     "collapsed": false,
     "input": [],
     "language": "python",
     "metadata": {},
     "outputs": []
    }
   ],
   "metadata": {}
  }
 ]
}