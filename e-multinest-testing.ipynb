{
 "metadata": {
  "name": ""
 },
 "nbformat": 3,
 "nbformat_minor": 0,
 "worksheets": [
  {
   "cells": [
    {
     "cell_type": "code",
     "collapsed": false,
     "input": [
      "%load_ext autoreload\n",
      "\n",
      "%autoreload 2"
     ],
     "language": "python",
     "metadata": {},
     "outputs": [],
     "prompt_number": 2
    },
    {
     "cell_type": "code",
     "collapsed": false,
     "input": [
      "from __future__ import division\n",
      "import inspect\n",
      "import os, shutil\n",
      "\n",
      "import pymultinest"
     ],
     "language": "python",
     "metadata": {},
     "outputs": [],
     "prompt_number": 3
    },
    {
     "cell_type": "markdown",
     "metadata": {},
     "source": [
      "# Basic problem"
     ]
    },
    {
     "cell_type": "code",
     "collapsed": false,
     "input": [
      "noise = 0.5\n",
      "xs = np.linspace(0,1,100)\n",
      "true_parameters = dict(frequency=1, phase=0, amplitude=1)\n",
      "\n",
      "def model(frequency, phase, amplitude, x):\n",
      "    return amplitude*np.cos(2*np.pi*frequency*(x+phase))\n",
      "\n",
      "parameters = inspect.getargspec(model).args[:-1]\n",
      "\n",
      "ys = model(x=xs, **true_parameters)+noise*np.random.randn(len(xs))\n",
      "\n",
      "plt.plot(xs, ys, \".\")\n",
      "plt.plot(xs, model(x=xs, **true_parameters))"
     ],
     "language": "python",
     "metadata": {},
     "outputs": [
      {
       "metadata": {},
       "output_type": "pyout",
       "prompt_number": 21,
       "text": [
        "[<matplotlib.lines.Line2D at 0x417ca90>]"
       ]
      },
      {
       "metadata": {},
       "output_type": "display_data",
       "png": "[encoded data removed]",
       "text": [
        "<matplotlib.figure.Figure at 0x417cb10>"
       ]
      }
     ],
     "prompt_number": 21
    },
    {
     "cell_type": "code",
     "collapsed": false,
     "input": [
      "def prior(cube, ndim, nparams):\n",
      "    i = parameters.index('frequency')\n",
      "    cube[i] *= 10\n",
      "    i = parameters.index('amplitude')\n",
      "    cube[i] *= 10\n",
      "    i = parameters.index('phase')\n",
      "    cube[i] *= 1\n",
      "    \n",
      "def loglike(cube, ndim, nparams):\n",
      "    mys = model(x=xs, **dict(zip(parameters, cube)))\n",
      "    return -0.5*np.sum(((mys-ys)/noise)**2)\n",
      "outdir = 'multinest-testing/out/'\n",
      "if not os.path.exists(outdir):\n",
      "    os.makedirs(outdir)\n",
      "pymultinest.run(loglike, prior, len(parameters), \n",
      "                outputfiles_basename=outdir,\n",
      "                resume = False, verbose = True)\n"
     ],
     "language": "python",
     "metadata": {},
     "outputs": [],
     "prompt_number": 22
    },
    {
     "cell_type": "code",
     "collapsed": false,
     "input": [
      "A = pymultinest.Analyzer(len(parameters), outdir)"
     ],
     "language": "python",
     "metadata": {},
     "outputs": [
      {
       "output_type": "stream",
       "stream": "stdout",
       "text": [
        "  analysing data from multinest-testing/out/.txt\n"
       ]
      }
     ],
     "prompt_number": 23
    },
    {
     "cell_type": "code",
     "collapsed": false,
     "input": [
      "A.get_stats()"
     ],
     "language": "python",
     "metadata": {},
     "outputs": [
      {
       "metadata": {},
       "output_type": "pyout",
       "prompt_number": 24,
       "text": [
        "{u'global evidence': -63.042031105960284,\n",
        " u'global evidence error': 0.2083823443057831,\n",
        " u'marginals': [{u'1sigma': [1.0132798570869914, 1.1052997668103217],\n",
        "   u'2sigma': [0.9742244565704283, 1.1550959584600802],\n",
        "   u'3sigma': [0.9311827553794703, 1.2108987121560753],\n",
        "   u'5sigma': [0.8466628966229809, 1.32752315507231],\n",
        "   u'median': 1.0563145124551538,\n",
        "   u'q01%': 0.956619941464394,\n",
        "   u'q10%': 1.0039972188041222,\n",
        "   u'q25%': 1.0258363098672696,\n",
        "   u'q75%': 1.088499428568375,\n",
        "   u'q90%': 1.1756824280616083,\n",
        "   u'q99%': 1.1756824280616083,\n",
        "   u'sigma': 0.04600995486166515},\n",
        "  {u'1sigma': [0.022302793537324832, 0.9540112612160699],\n",
        "   u'2sigma': [0.0020490534599591206, 0.9924202360543012],\n",
        "   u'3sigma': [5.280955749445746e-05, 0.9997628718366204],\n",
        "   u'5sigma': [2.876866245872848e-07, 0.9998972664964868],\n",
        "   u'median': 0.8951409051866897,\n",
        "   u'q01%': 0.0009107595155840272,\n",
        "   u'q10%': 0.01088833123040216,\n",
        "   u'q25%': 0.8310949012589329,\n",
        "   u'q75%': 0.9388538501739796,\n",
        "   u'q90%': 0.9974193735509459,\n",
        "   u'q99%': 0.9974193735509459,\n",
        "   u'sigma': 0.4658542338393726},\n",
        "  {u'1sigma': [0.892536818900263, 1.0305059323054766],\n",
        "   u'2sigma': [0.8211022966307442, 1.1033239857633275],\n",
        "   u'3sigma': [0.7508430153151027, 1.1636518095921047],\n",
        "   u'5sigma': [0.6241635735525437, 1.3061192611899985],\n",
        "   u'median': 0.9605829871526301,\n",
        "   u'q01%': 0.794359924047588,\n",
        "   u'q10%': 0.8715331481772002,\n",
        "   u'q25%': 0.9142678994357208,\n",
        "   u'q75%': 1.0070756121639175,\n",
        "   u'q90%': 1.1207984961048414,\n",
        "   u'q99%': 1.1207984961048414,\n",
        "   u'sigma': 0.06898455670260678}],\n",
        " u'modes': [{u'index': 0,\n",
        "   u'local log-evidence': -63.042031105960284,\n",
        "   u'local log-evidence error': 0.2083823443057831,\n",
        "   u'maximum': [1.0567987242136705, 0.9281373494732843, 0.9498551947049845],\n",
        "   u'maximum a posterior': [1.0567987242136705,\n",
        "    0.9281373494732843,\n",
        "    0.9498551947049845],\n",
        "   u'mean': [1.058680496781393, 0.731757736710656, 0.9604236629910392],\n",
        "   u'sigma': [0.04623796274493086, 0.35992019268080344, 0.06972088390171644],\n",
        "   u'strictly local log-evidence': -63.042031105960284,\n",
        "   u'strictly local log-evidence error': 0.2083823443057831}],\n",
        " u'nested importance sampling global log-evidence': -63.042031105960284,\n",
        " u'nested importance sampling global log-evidence error': 0.2083823443057831,\n",
        " u'nested sampling global log-evidence': -62.8758266655817,\n",
        " u'nested sampling global log-evidence error': 0.15856977784485923}"
       ]
      }
     ],
     "prompt_number": 24
    },
    {
     "cell_type": "code",
     "collapsed": false,
     "input": [
      "posterior = A.get_data()"
     ],
     "language": "python",
     "metadata": {},
     "outputs": [],
     "prompt_number": 47
    },
    {
     "cell_type": "code",
     "collapsed": false,
     "input": [
      "posterior.shape"
     ],
     "language": "python",
     "metadata": {},
     "outputs": [
      {
       "metadata": {},
       "output_type": "pyout",
       "prompt_number": 48,
       "text": [
        "(4530, 5)"
       ]
      }
     ],
     "prompt_number": 48
    },
    {
     "cell_type": "code",
     "collapsed": false,
     "input": [
      "posterior[:10]"
     ],
     "language": "python",
     "metadata": {},
     "outputs": [
      {
       "metadata": {},
       "output_type": "pyout",
       "prompt_number": 49,
       "text": [
        "array([[  1.44651179e-99,   5.64587265e+02,   6.92513406e+00,\n",
        "          8.17607343e-01,   1.14485562e+00],\n",
        "       [  1.69185921e-99,   5.64268919e+02,   2.21749485e+00,\n",
        "          6.99328184e-01,   1.08915329e+00],\n",
        "       [  7.90584716e-99,   5.61180369e+02,   4.27910563e+00,\n",
        "          2.96949619e-01,   1.03104313e+00],\n",
        "       [  8.60526270e-99,   5.61005827e+02,   8.63788362e+00,\n",
        "          7.41581294e-01,   1.19336279e+00],\n",
        "       [  8.82968501e-99,   5.60949336e+02,   4.53391451e+00,\n",
        "          9.01226263e-01,   1.10348215e+00],\n",
        "       [  2.13119664e-98,   5.59182037e+02,   5.34285445e+00,\n",
        "          1.82386297e-02,   1.08444412e+00],\n",
        "       [  4.40330582e-98,   5.57725693e+02,   5.52236846e+00,\n",
        "          3.38061052e-03,   1.07980569e+00],\n",
        "       [  5.25890689e-98,   5.57365558e+02,   1.89323383e+00,\n",
        "          7.22975646e-01,   1.12058358e+00],\n",
        "       [  6.27099949e-98,   5.57008533e+02,   7.31106030e+00,\n",
        "          1.72451445e-01,   1.05623055e+00],\n",
        "       [  8.71477661e-98,   5.56345364e+02,   6.63117715e+00,\n",
        "          2.88017492e-01,   1.06480956e+00]])"
       ]
      }
     ],
     "prompt_number": 49
    },
    {
     "cell_type": "code",
     "collapsed": false,
     "input": [
      "parameters"
     ],
     "language": "python",
     "metadata": {},
     "outputs": [
      {
       "metadata": {},
       "output_type": "pyout",
       "prompt_number": 50,
       "text": [
        "['frequency', 'phase', 'amplitude']"
       ]
      }
     ],
     "prompt_number": 50
    },
    {
     "cell_type": "code",
     "collapsed": false,
     "input": [
      "np.average(posterior[:,2:], axis=0, weights=posterior[:,0])"
     ],
     "language": "python",
     "metadata": {},
     "outputs": [
      {
       "metadata": {},
       "output_type": "pyout",
       "prompt_number": 52,
       "text": [
        "array([ 1.0586805 ,  0.73175774,  0.96042366])"
       ]
      }
     ],
     "prompt_number": 52
    },
    {
     "cell_type": "code",
     "collapsed": false,
     "input": [
      "for i,n in enumerate(parameters):\n",
      "    plt.figure()\n",
      "    plt.hist(posterior[:,i+2], \n",
      "             weights=posterior[:,0], \n",
      "             bins=np.sqrt(len(posterior)), histtype='step')\n",
      "    plt.xlabel(n)"
     ],
     "language": "python",
     "metadata": {},
     "outputs": [
      {
       "metadata": {},
       "output_type": "display_data",
       "png": "[encoded data removed]",
       "text": [
        "<matplotlib.figure.Figure at 0x4343b90>"
       ]
      },
      {
       "metadata": {},
       "output_type": "display_data",
       "png": "[encoded data removed]",
       "text": [
        "<matplotlib.figure.Figure at 0x6de84d0>"
       ]
      },
      {
       "metadata": {},
       "output_type": "display_data",
       "png": "[encoded data removed]",
       "text": [
        "<matplotlib.figure.Figure at 0x4803450>"
       ]
      }
     ],
     "prompt_number": 53
    },
    {
     "cell_type": "code",
     "collapsed": false,
     "input": [
      "xval = 'frequency'\n",
      "yval = 'phase'\n",
      "\n",
      "xi = parameters.index(xval)\n",
      "yi = parameters.index(yval)\n",
      "\n",
      "plt.hexbin(posterior[:,xi+2],posterior[:,yi+2],\n",
      "           C=posterior[:,0])\n",
      "plt.xlabel(xval)\n",
      "plt.ylabel(yval)\n",
      "plt.hot()"
     ],
     "language": "python",
     "metadata": {},
     "outputs": [
      {
       "metadata": {},
       "output_type": "display_data",
       "png": "[encoded data removed]",
       "text": [
        "<matplotlib.figure.Figure at 0x7020350>"
       ]
      }
     ],
     "prompt_number": 54
    },
    {
     "cell_type": "markdown",
     "metadata": {},
     "source": [
      "# High dimensionality\n",
      "\n",
      "How well does multinest cope with a problem that's basically easy but has high dimensionality?"
     ]
    },
    {
     "cell_type": "code",
     "collapsed": false,
     "input": [
      "noise = 0.5\n",
      "prior_scale = 10\n",
      "xs = np.linspace(0,1,1024,endpoint=False)\n",
      "ndim = 24\n",
      "\n",
      "if ndim%2:\n",
      "    raise ValueError\n",
      "    \n",
      "true_parameters = np.repeat((np.arange(ndim//2)+1.)**(-1),2)\n",
      "true_parameters[::2] = 0\n",
      "\n",
      "def model(parameters):\n",
      "    # aargh parameters is not a numpy array\n",
      "    ick_parameters = parameters\n",
      "    parameters = np.zeros(len(true_parameters),dtype=float)\n",
      "    parameters[:] = ick_parameters[:len(parameters)]\n",
      "    ft = np.zeros(len(parameters)//2+1, dtype=np.complex)\n",
      "    ft[1:] = parameters[::2]+1.j*parameters[1::2]\n",
      "    return np.fft.irfft(ft,len(xs))*len(xs)\n",
      "\n",
      "ys = model(true_parameters)+noise*np.random.randn(len(xs))\n",
      "\n",
      "plt.plot(xs, ys, \"r.\", markersize=1)\n",
      "plt.plot(xs, model(true_parameters), 'k')\n",
      "true_parameters"
     ],
     "language": "python",
     "metadata": {},
     "outputs": [
      {
       "metadata": {},
       "output_type": "pyout",
       "prompt_number": 4,
       "text": [
        "array([ 0.        ,  1.        ,  0.        ,  0.5       ,  0.        ,\n",
        "        0.33333333,  0.        ,  0.25      ,  0.        ,  0.2       ,\n",
        "        0.        ,  0.16666667,  0.        ,  0.14285714,  0.        ,\n",
        "        0.125     ,  0.        ,  0.11111111,  0.        ,  0.1       ,\n",
        "        0.        ,  0.09090909,  0.        ,  0.08333333])"
       ]
      },
      {
       "metadata": {},
       "output_type": "display_data",
       "png": "[encoded data removed]",
       "text": [
        "<matplotlib.figure.Figure at 0x291f7d0>"
       ]
      }
     ],
     "prompt_number": 4
    },
    {
     "cell_type": "code",
     "collapsed": false,
     "input": [
      "nev = 0\n",
      "def prior(cube, ndim, nparams):\n",
      "    for i in range(ndim):\n",
      "        cube[i]= (2*cube[i]-1)*prior_scale\n",
      "    \n",
      "def loglike(cube, ndim, nparams):\n",
      "    global nev\n",
      "    n = nev\n",
      "    nev += 1\n",
      "    while n!=0 and n%2==0:\n",
      "        n//=2\n",
      "    if n<=1:\n",
      "        print nev, \"evaluations\"\n",
      "    mys = model(cube)\n",
      "    return -0.5*np.sum(((mys-ys)/noise)**2)\n",
      "\n",
      "outdir = 'multinest-testing/big/'\n",
      "if not os.path.exists(outdir):\n",
      "    os.makedirs(outdir)\n",
      "pymultinest.run(loglike, prior, len(true_parameters), \n",
      "                outputfiles_basename=outdir,\n",
      "                resume = False, verbose = True)\n"
     ],
     "language": "python",
     "metadata": {},
     "outputs": [
      {
       "output_type": "stream",
       "stream": "stdout",
       "text": [
        "1 evaluations\n",
        "2 evaluations\n",
        "3 evaluations\n",
        "5 evaluations\n",
        "9 evaluations\n",
        "17 evaluations\n",
        "33 evaluations\n",
        "65 evaluations\n",
        "129 evaluations\n",
        "257 evaluations\n",
        "513"
       ]
      },
      {
       "output_type": "stream",
       "stream": "stdout",
       "text": [
        " evaluations\n",
        "1025"
       ]
      },
      {
       "output_type": "stream",
       "stream": "stdout",
       "text": [
        " evaluations\n",
        "2049"
       ]
      },
      {
       "output_type": "stream",
       "stream": "stdout",
       "text": [
        " evaluations\n",
        "4097"
       ]
      },
      {
       "output_type": "stream",
       "stream": "stdout",
       "text": [
        " evaluations\n",
        "8193"
       ]
      },
      {
       "output_type": "stream",
       "stream": "stdout",
       "text": [
        " evaluations\n",
        "16385"
       ]
      },
      {
       "output_type": "stream",
       "stream": "stdout",
       "text": [
        " evaluations\n",
        "32769"
       ]
      },
      {
       "output_type": "stream",
       "stream": "stdout",
       "text": [
        " evaluations\n",
        "65537"
       ]
      },
      {
       "output_type": "stream",
       "stream": "stdout",
       "text": [
        " evaluations\n",
        "131073"
       ]
      },
      {
       "output_type": "stream",
       "stream": "stdout",
       "text": [
        " evaluations\n",
        "262145"
       ]
      },
      {
       "output_type": "stream",
       "stream": "stdout",
       "text": [
        " evaluations\n"
       ]
      }
     ],
     "prompt_number": 5
    },
    {
     "cell_type": "code",
     "collapsed": false,
     "input": [
      "nev"
     ],
     "language": "python",
     "metadata": {},
     "outputs": [
      {
       "metadata": {},
       "output_type": "pyout",
       "prompt_number": 6,
       "text": [
        "506917"
       ]
      }
     ],
     "prompt_number": 6
    },
    {
     "cell_type": "code",
     "collapsed": false,
     "input": [
      "A = pymultinest.Analyzer(len(true_parameters), outdir)"
     ],
     "language": "python",
     "metadata": {},
     "outputs": [
      {
       "output_type": "stream",
       "stream": "stdout",
       "text": [
        "  analysing data from multinest-testing/big/.txt\n"
       ]
      }
     ],
     "prompt_number": 8
    },
    {
     "cell_type": "code",
     "collapsed": false,
     "input": [
      "A.get_stats()"
     ],
     "language": "python",
     "metadata": {},
     "outputs": [
      {
       "metadata": {},
       "output_type": "pyout",
       "prompt_number": 9,
       "text": [
        "{u'global evidence': -658.5376676927381,\n",
        " u'global evidence error': 0.0062772192291087135,\n",
        " u'marginals': [{u'1sigma': [0.0026396910865767826, 0.02485012687504449],\n",
        "   u'2sigma': [-0.007632344581950755, 0.03565096941444183],\n",
        "   u'3sigma': [-0.01685267720462382, 0.0470569469961063],\n",
        "   u'5sigma': [-0.03925931449710342, 0.06736563843089895],\n",
        "   u'median': 0.013950238285970775,\n",
        "   u'q01%': -0.01187313851839358,\n",
        "   u'q10%': -0.000743251375685866,\n",
        "   u'q25%': 0.006176258575332245,\n",
        "   u'q75%': 0.021236843586326857,\n",
        "   u'q90%': 0.03951602268946829,\n",
        "   u'q99%': 0.03951602268946829,\n",
        "   u'sigma': 0.011105217894233852},\n",
        "  {u'1sigma': [1.0003743090766921, 1.0221778311761858],\n",
        "   u'2sigma': [0.9902190348839833, 1.0326422453370407],\n",
        "   u'3sigma': [0.9788723788435463, 1.0440590098160019],\n",
        "   u'5sigma': [0.9637621196843191, 1.061210832301185],\n",
        "   u'median': 1.0114315253404549,\n",
        "   u'q01%': 0.9860411129672292,\n",
        "   u'q10%': 0.997271288723202,\n",
        "   u'q25%': 1.003866496600662,\n",
        "   u'q75%': 1.0188993954774836,\n",
        "   u'q90%': 1.0373339756883948,\n",
        "   u'q99%': 1.0373339756883948,\n",
        "   u'sigma': 0.010901761049746828},\n",
        "  {u'1sigma': [-0.009664737679956762, 0.012731725665354559],\n",
        "   u'2sigma': [-0.020426571279394897, 0.0231212257932939],\n",
        "   u'3sigma': [-0.03155344837741323, 0.03486217870628992],\n",
        "   u'5sigma': [-0.050625553082703535, 0.05562886141492976],\n",
        "   u'median': 0.001450350338858359,\n",
        "   u'q01%': -0.02444279420356251,\n",
        "   u'q10%': -0.01267382469580641,\n",
        "   u'q25%': -0.006139017614823932,\n",
        "   u'q75%': 0.00906753855265337,\n",
        "   u'q90%': 0.027569516319060336,\n",
        "   u'q99%': 0.027569516319060336,\n",
        "   u'sigma': 0.01119823167265566},\n",
        "  {u'1sigma': [0.47317052102280105, 0.495096759562941],\n",
        "   u'2sigma': [0.4624770927370351, 0.5052061230715528],\n",
        "   u'3sigma': [0.45191267547148434, 0.5153196645566306],\n",
        "   u'5sigma': [0.4338611557728651, 0.5299123615482637],\n",
        "   u'median': 0.48364503417429766,\n",
        "   u'q01%': 0.45865208770240834,\n",
        "   u'q10%': 0.4698566471927571,\n",
        "   u'q25%': 0.47644970595311703,\n",
        "   u'q75%': 0.49083183354558424,\n",
        "   u'q90%': 0.509000240790078,\n",
        "   u'q99%': 0.509000240790078,\n",
        "   u'sigma': 0.010963119270069988},\n",
        "  {u'1sigma': [-0.0252805342032932, -0.0030148166437030705],\n",
        "   u'2sigma': [-0.03480011447871585, 0.007426391624284648],\n",
        "   u'3sigma': [-0.04647619187245424, 0.01910855866037119],\n",
        "   u'5sigma': [-0.06263245175145123, 0.0431350023358358],\n",
        "   u'median': -0.014169849601976856,\n",
        "   u'q01%': -0.038293923993657046,\n",
        "   u'q10%': -0.028052124038173323,\n",
        "   u'q25%': -0.021663445355913864,\n",
        "   u'q75%': -0.0065935010487313305,\n",
        "   u'q90%': 0.011909596357060856,\n",
        "   u'q99%': 0.011909596357060856,\n",
        "   u'sigma': 0.011132858779795064},\n",
        "  {u'1sigma': [0.31710985760833904, 0.33896980757273004],\n",
        "   u'2sigma': [0.3058240760283617, 0.3499879513251618],\n",
        "   u'3sigma': [0.29527652370189317, 0.36113292486014353],\n",
        "   u'5sigma': [0.2775687859883451, 0.37936102869053584],\n",
        "   u'median': 0.32778403862264643,\n",
        "   u'q01%': 0.30206337830992946,\n",
        "   u'q10%': 0.3137769920383915,\n",
        "   u'q25%': 0.32068725442807433,\n",
        "   u'q75%': 0.3353841009485523,\n",
        "   u'q90%': 0.3542999732172585,\n",
        "   u'q99%': 0.3542999732172585,\n",
        "   u'sigma': 0.0109299749821955},\n",
        "  {u'1sigma': [-0.01136519845949812, 0.011144288982427957],\n",
        "   u'2sigma': [-0.021554740955302812, 0.02173818028782678],\n",
        "   u'3sigma': [-0.032627925774866964, 0.032589904894382175],\n",
        "   u'5sigma': [-0.0500921500407366, 0.048839602214884],\n",
        "   u'median': -0.0001910744193121486,\n",
        "   u'q01%': -0.025758970609100804,\n",
        "   u'q10%': -0.014560337364750368,\n",
        "   u'q25%': -0.00783291232159529,\n",
        "   u'q75%': 0.007335670107897925,\n",
        "   u'q90%': 0.025606615857086148,\n",
        "   u'q99%': 0.025606615857086148,\n",
        "   u'sigma': 0.011254743720963039},\n",
        "  {u'1sigma': [0.2461939062174667, 0.26882899215923745],\n",
        "   u'2sigma': [0.23611781854814098, 0.279167903680031],\n",
        "   u'3sigma': [0.22537712725849482, 0.2920183485731715],\n",
        "   u'5sigma': [0.19993400193316332, 0.3037513600702619],\n",
        "   u'median': 0.2576596337934491,\n",
        "   u'q01%': 0.232448333617358,\n",
        "   u'q10%': 0.24317491554715603,\n",
        "   u'q25%': 0.24979774132204963,\n",
        "   u'q75%': 0.26508053934785164,\n",
        "   u'q90%': 0.2830389795924179,\n",
        "   u'q99%': 0.2830389795924179,\n",
        "   u'sigma': 0.011317542970885372},\n",
        "  {u'1sigma': [-0.02201120890996016, 1.8248889193535225e-05],\n",
        "   u'2sigma': [-0.03303812007659773, 0.009926234715393901],\n",
        "   u'3sigma': [-0.04358881833236433, 0.02136042542906642],\n",
        "   u'5sigma': [-0.05492118731878023, 0.03339909829625657],\n",
        "   u'median': -0.010946086555538009,\n",
        "   u'q01%': -0.03687659490328609,\n",
        "   u'q10%': -0.025081409325072402,\n",
        "   u'q25%': -0.01835856504369518,\n",
        "   u'q75%': -0.003456104968101988,\n",
        "   u'q90%': 0.013946297421510228,\n",
        "   u'q99%': 0.013946297421510228,\n",
        "   u'sigma': 0.011014728899576848},\n",
        "  {u'1sigma': [0.19121400906364397, 0.2133346984889322],\n",
        "   u'2sigma': [0.18044710771709288, 0.22426786075300748],\n",
        "   u'3sigma': [0.16801620170924533, 0.23534649301408092],\n",
        "   u'5sigma': [0.155264363325666, 0.2510547833421576],\n",
        "   u'median': 0.20195842285600102,\n",
        "   u'q01%': 0.17676544469247044,\n",
        "   u'q10%': 0.188241197950071,\n",
        "   u'q25%': 0.1946194640517132,\n",
        "   u'q75%': 0.20958607946936328,\n",
        "   u'q90%': 0.22817040873677896,\n",
        "   u'q99%': 0.22817040873677896,\n",
        "   u'sigma': 0.01106034471264411},\n",
        "  {u'1sigma': [-0.02630061099526995, -0.004359612093233064],\n",
        "   u'2sigma': [-0.03568335175102111, 0.005744332936367625],\n",
        "   u'3sigma': [-0.04633902072337708, 0.01727991830568053],\n",
        "   u'5sigma': [-0.06935128255489531, 0.03290009316936092],\n",
        "   u'median': -0.015392318589974285,\n",
        "   u'q01%': -0.039449835036602605,\n",
        "   u'q10%': -0.029167801612527588,\n",
        "   u'q25%': -0.022761113120494048,\n",
        "   u'q75%': -0.008180612899952491,\n",
        "   u'q90%': 0.010427566030181747,\n",
        "   u'q99%': 0.010427566030181747,\n",
        "   u'sigma': 0.010970499451018443},\n",
        "  {u'1sigma': [0.15609500527704545, 0.17813182676173295],\n",
        "   u'2sigma': [0.14636969946146486, 0.1884205327327005],\n",
        "   u'3sigma': [0.13523327833185478, 0.20234848364937694],\n",
        "   u'5sigma': [0.1215742248335696, 0.21598483889909215],\n",
        "   u'median': 0.16744707274285764,\n",
        "   u'q01%': 0.14237112425861675,\n",
        "   u'q10%': 0.15319044114104202,\n",
        "   u'q25%': 0.15990996643432873,\n",
        "   u'q75%': 0.1745514879862385,\n",
        "   u'q90%': 0.19227257256611394,\n",
        "   u'q99%': 0.19227257256611394,\n",
        "   u'sigma': 0.011018410742343748},\n",
        "  {u'1sigma': [-0.008522383405981666, 0.01321707056338933],\n",
        "   u'2sigma': [-0.01997902960784203, 0.023629848832853788],\n",
        "   u'3sigma': [-0.030240907162469823, 0.034136672676518015],\n",
        "   u'5sigma': [-0.05365679998460739, 0.0545485965550118],\n",
        "   u'median': 0.00209539739180815,\n",
        "   u'q01%': -0.02405099450944234,\n",
        "   u'q10%': -0.011758100014019916,\n",
        "   u'q25%': -0.005032808810138455,\n",
        "   u'q75%': 0.009646398703428082,\n",
        "   u'q90%': 0.027587732945579164,\n",
        "   u'q99%': 0.027587732945579164,\n",
        "   u'sigma': 0.010869726984685498},\n",
        "  {u'1sigma': [0.12982059927229014, 0.15187853539932966],\n",
        "   u'2sigma': [0.11942280341971453, 0.16184591618705102],\n",
        "   u'3sigma': [0.10949606429143373, 0.1731357628627441],\n",
        "   u'5sigma': [0.09497402525720117, 0.18975901170829595],\n",
        "   u'median': 0.14058478511233902,\n",
        "   u'q01%': 0.11536434684148926,\n",
        "   u'q10%': 0.12645109936688653,\n",
        "   u'q25%': 0.1334779788984622,\n",
        "   u'q75%': 0.14804327009234552,\n",
        "   u'q90%': 0.16528176294356803,\n",
        "   u'q99%': 0.16528176294356803,\n",
        "   u'sigma': 0.011028968063519759},\n",
        "  {u'1sigma': [-0.013092913369190502, 0.008582315872043033],\n",
        "   u'2sigma': [-0.024157607682405144, 0.019753312439642394],\n",
        "   u'3sigma': [-0.033103763556175066, 0.030113113190019473],\n",
        "   u'5sigma': [-0.050789743073839155, 0.050683412742946486],\n",
        "   u'median': -0.0023097778867149344,\n",
        "   u'q01%': -0.027466707945145247,\n",
        "   u'q10%': -0.016060279857624087,\n",
        "   u'q25%': -0.009580961328235339,\n",
        "   u'q75%': 0.0050556167349203275,\n",
        "   u'q90%': 0.023675133344942693,\n",
        "   u'q99%': 0.023675133344942693,\n",
        "   u'sigma': 0.010837614620616769},\n",
        "  {u'1sigma': [0.12597405967854206, 0.14739510562213137],\n",
        "   u'2sigma': [0.11515064625818583, 0.15811264277386966],\n",
        "   u'3sigma': [0.10486465932306885, 0.16863305715097232],\n",
        "   u'5sigma': [0.08446601018370904, 0.18622456327742778],\n",
        "   u'median': 0.13660683554205763,\n",
        "   u'q01%': 0.11126239716095812,\n",
        "   u'q10%': 0.12285935571194509,\n",
        "   u'q25%': 0.12949806730277483,\n",
        "   u'q75%': 0.1438612168643016,\n",
        "   u'q90%': 0.16148188609514605,\n",
        "   u'q99%': 0.16148188609514605,\n",
        "   u'sigma': 0.010710522971794659},\n",
        "  {u'1sigma': [-0.0056927676634752076, 0.016018800271700204],\n",
        "   u'2sigma': [-0.015297680655517676, 0.026106774351967288],\n",
        "   u'3sigma': [-0.029050675535903358, 0.03836380197873732],\n",
        "   u'5sigma': [-0.04090532691374258, 0.05113326874980874],\n",
        "   u'median': 0.005023637766663562,\n",
        "   u'q01%': -0.0199913827334773,\n",
        "   u'q10%': -0.00840194168769664,\n",
        "   u'q25%': -0.002319085516977835,\n",
        "   u'q75%': 0.012456680080129566,\n",
        "   u'q90%': 0.030253862000024168,\n",
        "   u'q99%': 0.030253862000024168,\n",
        "   u'sigma': 0.010855783967587705},\n",
        "  {u'1sigma': [0.10637389915934546, 0.12821591028129029],\n",
        "   u'2sigma': [0.0962036528413886, 0.13828166084452811],\n",
        "   u'3sigma': [0.08470716084851773, 0.14887361405108168],\n",
        "   u'5sigma': [0.06412575948397149, 0.16541476454816686],\n",
        "   u'median': 0.11749543363318833,\n",
        "   u'q01%': 0.09217285372638241,\n",
        "   u'q10%': 0.10343499465429043,\n",
        "   u'q25%': 0.10998047835032089,\n",
        "   u'q75%': 0.12482370258891538,\n",
        "   u'q90%': 0.14202069460549088,\n",
        "   u'q99%': 0.14202069460549088,\n",
        "   u'sigma': 0.010921005560972412},\n",
        "  {u'1sigma': [-0.004766986507110467, 0.017646226947058953],\n",
        "   u'2sigma': [-0.01550913559385838, 0.02889370689711258],\n",
        "   u'3sigma': [-0.027806478462934547, 0.03845736110490971],\n",
        "   u'5sigma': [-0.047273044658501504, 0.05042677336437486],\n",
        "   u'median': 0.00654924749508244,\n",
        "   u'q01%': -0.019963658104741988,\n",
        "   u'q10%': -0.007743387427658991,\n",
        "   u'q25%': -0.0009218054742564729,\n",
        "   u'q75%': 0.014176204363946425,\n",
        "   u'q90%': 0.03286320359026957,\n",
        "   u'q99%': 0.03286320359026957,\n",
        "   u'sigma': 0.01120660672708471},\n",
        "  {u'1sigma': [0.09038974848028537, 0.1120158617002559],\n",
        "   u'2sigma': [0.07961439755394926, 0.1223451927952174],\n",
        "   u'3sigma': [0.06821754853257299, 0.13532711896645788],\n",
        "   u'5sigma': [0.05480669124313781, 0.14896781235571302],\n",
        "   u'median': 0.10125006583888946,\n",
        "   u'q01%': 0.07583792264549423,\n",
        "   u'q10%': 0.08722460624447698,\n",
        "   u'q25%': 0.09416770399548295,\n",
        "   u'q75%': 0.10855317352681557,\n",
        "   u'q90%': 0.12633235180911945,\n",
        "   u'q99%': 0.12633235180911945,\n",
        "   u'sigma': 0.010813056609985265},\n",
        "  {u'1sigma': [-0.011977760534329895, 0.0102745069522958],\n",
        "   u'2sigma': [-0.023081587228301458, 0.02054138571298437],\n",
        "   u'3sigma': [-0.034042062599468514, 0.031570330093362846],\n",
        "   u'5sigma': [-0.05574005045158455, 0.04435131666204846],\n",
        "   u'median': -0.0006935916994455034,\n",
        "   u'q01%': -0.0269250675206145,\n",
        "   u'q10%': -0.015161038485006035,\n",
        "   u'q25%': -0.008353814673227652,\n",
        "   u'q75%': 0.0069855669175889375,\n",
        "   u'q90%': 0.02400457195246971,\n",
        "   u'q99%': 0.02400457195246971,\n",
        "   u'sigma': 0.011126133743312849},\n",
        "  {u'1sigma': [0.055148650982239894, 0.07705621547175193],\n",
        "   u'2sigma': [0.044401781281511926, 0.08784811735145567],\n",
        "   u'3sigma': [0.034774080453887087, 0.09845020989155764],\n",
        "   u'5sigma': [0.013625836304669958, 0.11565735423460657],\n",
        "   u'median': 0.06620408207399406,\n",
        "   u'q01%': 0.04049880187345472,\n",
        "   u'q10%': 0.052180972097997554,\n",
        "   u'q25%': 0.05883701826440093,\n",
        "   u'q75%': 0.07351565101533108,\n",
        "   u'q90%': 0.0914443424180311,\n",
        "   u'q99%': 0.0914443424180311,\n",
        "   u'sigma': 0.010953782244756016},\n",
        "  {u'1sigma': [-0.020048082340124083, 0.0017330213140224525],\n",
        "   u'2sigma': [-0.03034130604838578, 0.01306605387417512],\n",
        "   u'3sigma': [-0.04119358549375321, 0.024650154964609313],\n",
        "   u'5sigma': [-0.06134121765303217, 0.04448242768966913],\n",
        "   u'median': -0.009173644886408195,\n",
        "   u'q01%': -0.034785770134332476,\n",
        "   u'q10%': -0.02324689522462992,\n",
        "   u'q25%': -0.01643408174813981,\n",
        "   u'q75%': -0.0017369690998132743,\n",
        "   u'q90%': 0.01698533386225142,\n",
        "   u'q99%': 0.01698533386225142,\n",
        "   u'sigma': 0.010890551827073268},\n",
        "  {u'1sigma': [0.08304851399170736, 0.10484411840008222],\n",
        "   u'2sigma': [0.0732470033495739, 0.11513028163182581],\n",
        "   u'3sigma': [0.06064256047210556, 0.12620113231835012],\n",
        "   u'5sigma': [0.04490999533001625, 0.14223998188511966],\n",
        "   u'median': 0.09399243349338053,\n",
        "   u'q01%': 0.06981252652236557,\n",
        "   u'q10%': 0.07990418106061141,\n",
        "   u'q25%': 0.08654521399366254,\n",
        "   u'q75%': 0.10133540793246203,\n",
        "   u'q90%': 0.11867142686123058,\n",
        "   u'q99%': 0.11867142686123058,\n",
        "   u'sigma': 0.010897802204187429}],\n",
        " u'modes': [{u'index': 0,\n",
        "   u'local log-evidence': -658.5376676927381,\n",
        "   u'local log-evidence error': 0.0062772192291087135,\n",
        "   u'maximum': [0.0035639317959401673,\n",
        "    1.017998822350179,\n",
        "    0.0059409443816305085,\n",
        "    0.4889975607579511,\n",
        "    -0.009180381668376647,\n",
        "    0.3364827154497152,\n",
        "    0.010756710635102529,\n",
        "    0.26318603949837316,\n",
        "    -0.01442800414354628,\n",
        "    0.1970076536883858,\n",
        "    -0.01540138288389059,\n",
        "    0.17406700291459076,\n",
        "    0.001569661576257264,\n",
        "    0.15525474678456108,\n",
        "    -0.004310921503596354,\n",
        "    0.12383378141922474,\n",
        "    0.008401974002731905,\n",
        "    0.11633791455276654,\n",
        "    0.013834280422846401,\n",
        "    0.09973023360217548,\n",
        "    -0.0006192480561673097,\n",
        "    0.056913777012259636,\n",
        "    -0.004073232018918516,\n",
        "    0.0960472033210702],\n",
        "   u'maximum a posterior': [0.0035639317959401673,\n",
        "    1.017998822350179,\n",
        "    0.0059409443816305085,\n",
        "    0.4889975607579511,\n",
        "    -0.009180381668376647,\n",
        "    0.3364827154497152,\n",
        "    0.010756710635102529,\n",
        "    0.26318603949837316,\n",
        "    -0.01442800414354628,\n",
        "    0.1970076536883858,\n",
        "    -0.01540138288389059,\n",
        "    0.17406700291459076,\n",
        "    0.001569661576257264,\n",
        "    0.15525474678456108,\n",
        "    -0.004310921503596354,\n",
        "    0.12383378141922474,\n",
        "    0.008401974002731905,\n",
        "    0.11633791455276654,\n",
        "    0.013834280422846401,\n",
        "    0.09973023360217548,\n",
        "    -0.0006192480561673097,\n",
        "    0.056913777012259636,\n",
        "    -0.004073232018918516,\n",
        "    0.0960472033210702],\n",
        "   u'mean': [0.013830437082364365,\n",
        "    1.0113618701714535,\n",
        "    0.0014593954125310417,\n",
        "    0.48382680728177097,\n",
        "    -0.014071011623974455,\n",
        "    0.32799493288794446,\n",
        "    -0.000164009638306868,\n",
        "    0.25757355484481415,\n",
        "    -0.011044183530479274,\n",
        "    0.20216474895090125,\n",
        "    -0.015275226134556131,\n",
        "    0.16727864591632155,\n",
        "    0.0021649579779000148,\n",
        "    0.14071285926211344,\n",
        "    -0.002204960744289668,\n",
        "    0.13667938449526085,\n",
        "    0.005083264375710328,\n",
        "    0.11737055236652101,\n",
        "    0.006517368886916382,\n",
        "    0.10130356017635984,\n",
        "    -0.0007953425764271862,\n",
        "    0.06620589854024166,\n",
        "    -0.009096043521197951,\n",
        "    0.09398707665465511],\n",
        "   u'sigma': [0.011079540867440112,\n",
        "    0.010908309076660083,\n",
        "    0.011121593984566311,\n",
        "    0.010943278299920556,\n",
        "    0.01093345560780791,\n",
        "    0.011092948470939397,\n",
        "    0.01116535194126138,\n",
        "    0.011104341909757872,\n",
        "    0.010929881031341,\n",
        "    0.011046303182437755,\n",
        "    0.01077314519176867,\n",
        "    0.010870484853565185,\n",
        "    0.010995426216604385,\n",
        "    0.010919268775341752,\n",
        "    0.010891507339952885,\n",
        "    0.010813811914196636,\n",
        "    0.010751538848455615,\n",
        "    0.01079953383851663,\n",
        "    0.011191788908476084,\n",
        "    0.01089122696945539,\n",
        "    0.011124746856661741,\n",
        "    0.01098719985658369,\n",
        "    0.011012513665814355,\n",
        "    0.010811918243010529],\n",
        "   u'strictly local log-evidence': -658.5376676927381,\n",
        "   u'strictly local log-evidence error': 0.0062772192291087135}],\n",
        " u'nested importance sampling global log-evidence': -658.5376676927381,\n",
        " u'nested importance sampling global log-evidence error': 0.0062772192291087135,\n",
        " u'nested sampling global log-evidence': -656.0518088254917,\n",
        " u'nested sampling global log-evidence error': 0.5991619772313898}"
       ]
      }
     ],
     "prompt_number": 9
    },
    {
     "cell_type": "code",
     "collapsed": false,
     "input": [],
     "language": "python",
     "metadata": {},
     "outputs": []
    }
   ],
   "metadata": {}
  }
 ]
}