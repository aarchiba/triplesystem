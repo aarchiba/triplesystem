{
 "metadata": {
  "name": "minuit_errors"
 },
 "nbformat": 3,
 "nbformat_minor": 0,
 "worksheets": [
  {
   "cells": [
    {
     "cell_type": "code",
     "collapsed": false,
     "input": [
      "import functools\n",
      "\n",
      "import scipy.optimize\n",
      "\n",
      "import minuit\n",
      "\n",
      "import kepler\n",
      "import quad_integrate\n",
      "import threebody"
     ],
     "language": "python",
     "metadata": {},
     "outputs": [],
     "prompt_number": 1
    },
    {
     "cell_type": "code",
     "collapsed": false,
     "input": [
      "mjds, delays, tel_list, tels, uncerts = threebody.load_data()"
     ],
     "language": "python",
     "metadata": {},
     "outputs": [],
     "prompt_number": 2
    },
    {
     "cell_type": "code",
     "collapsed": false,
     "input": [
      "cache = {}"
     ],
     "language": "python",
     "metadata": {},
     "outputs": [],
     "prompt_number": 16
    },
    {
     "cell_type": "code",
     "collapsed": false,
     "input": [
      "f0, f0err = 365.9533436144258189, 0.0000000000656904\n",
      "f1, f1err = 7.833539631670e-15, 1.490959143049e-17\n",
      "pepoch = 56100.000000"
     ],
     "language": "python",
     "metadata": {},
     "outputs": [],
     "prompt_number": 4
    },
    {
     "cell_type": "code",
     "collapsed": false,
     "input": [
      "const_vec = np.ones(len(mjds))\n",
      "f0error_vec = f0**(-1)*((mjds-pepoch)*86400)\n",
      "f1error_vec = f0**(-1)*0.5*((mjds-pepoch)*86400)**2\n",
      "jump_vec = tels[:,None]==np.arange(1,len(tel_list))[None,:]\n",
      "lin = np.hstack([const_vec[:,None],\n",
      "                 f0error_vec[:,None],\n",
      "                 f1error_vec[:,None],\n",
      "                 jump_vec])"
     ],
     "language": "python",
     "metadata": {},
     "outputs": [],
     "prompt_number": 5
    },
    {
     "cell_type": "code",
     "collapsed": false,
     "input": [
      "def scale(p):\n",
      "    return (np.array(p,np.float128)-np.array(threebody.best_parameters,np.float128))/np.array(threebody.best_errors,np.float128)\n",
      "def unscale(p):\n",
      "    return np.array(p,np.float128)*np.array(threebody.best_errors,np.float128)+np.array(threebody.best_parameters,np.float128)"
     ],
     "language": "python",
     "metadata": {},
     "outputs": [],
     "prompt_number": 6
    },
    {
     "cell_type": "code",
     "collapsed": false,
     "input": [
      "o = threebody.compute_orbit(threebody.best_parameters,mjds)\n",
      "odelay = o[\"delays\"]\n",
      "ps = np.sqrt(np.mean(lin**2, axis=0))\n",
      "x, rk, resids, s = scipy.linalg.lstsq(lin/uncerts[:,None]/ps[None,:],(odelay-delays)/uncerts)\n",
      "lin_parameters = -x/ps\n",
      "print lin_parameters\n",
      "print np.sqrt(np.mean((odelay-delays+np.dot(lin,lin_parameters))**2))"
     ],
     "language": "python",
     "metadata": {},
     "outputs": [
      {
       "output_type": "stream",
       "stream": "stdout",
       "text": [
        "[ -6.27928865e+00   2.39853162e-05   1.01745017e-14   4.90328906e-04\n",
        "   1.33959078e-05   1.69545126e-04   1.78695335e-05  -4.92224467e-05]\n",
        "2.46153059271e-06\n"
       ]
      }
     ],
     "prompt_number": 7
    },
    {
     "cell_type": "code",
     "collapsed": false,
     "input": [
      "lin_errors = [\n",
      "\t2.5749018446020474e-10 ,\n",
      "\t1.4226524465019778e-19 ,\n",
      "\t2.1698135752062604e-24 ,\n",
      "\t2.6324769707225523e-07 ,\n",
      "\t3.2315608708057456e-08 ,\n",
      "\t7.285391735338057e-07 ,\n",
      "\t1.9730981158256066e-07 ,\n",
      "\t6.053413617066911e-08 ,\n",
      "]"
     ],
     "language": "python",
     "metadata": {},
     "outputs": [],
     "prompt_number": 8
    },
    {
     "cell_type": "code",
     "collapsed": false,
     "input": [
      "def scale_lin(l):\n",
      "    return (np.array(l,np.float128)-np.array(lin_parameters,np.float128))/np.array(lin_errors,np.float128)\n",
      "def unscale_lin(l):\n",
      "    return np.array(l,np.float128)*np.array(lin_errors,np.float128)+np.array(lin_parameters,np.float128)"
     ],
     "language": "python",
     "metadata": {},
     "outputs": [],
     "prompt_number": 9
    },
    {
     "cell_type": "code",
     "collapsed": false,
     "input": [
      "def mfun(asini_i, pb_i, eps1_i, eps2_i, tasc_i, \n",
      "            acosi_i, q_i,\n",
      "            asini_o, pb_o, eps1_o, eps2_o, tasc_o, \n",
      "            acosi_o, delta_lan,\n",
      "            const, f0error, f1error, \n",
      "            j_AO327, j_GBT1500, j_GBT350, j_GBT820, j_WSRT1400):\n",
      "    p = (asini_i, pb_i, eps1_i, eps2_i, tasc_i, \n",
      "            acosi_i, q_i,\n",
      "            asini_o, pb_o, eps1_o, eps2_o, tasc_o, \n",
      "            acosi_o, delta_lan)\n",
      "    l = (const, f0error, f1error, \n",
      "            j_AO327, j_GBT1500, j_GBT350, j_GBT820, j_WSRT1400)\n",
      "    p = tuple(unscale(p))\n",
      "    l = tuple(unscale_lin(l))\n",
      "    d_mjd = np.dot(lin,l)\n",
      "    if (p,l) not in cache:\n",
      "        o = threebody.compute_orbit(p,mjds-d_mjd/86400.)\n",
      "        cache[p,l] = o[\"delays\"]\n",
      "    r = cache[p,l].copy()\n",
      "    r += np.dot(lin,l)\n",
      "    r -= delays\n",
      "    return np.sum((r/uncerts)**2)"
     ],
     "language": "python",
     "metadata": {},
     "outputs": [],
     "prompt_number": 15
    },
    {
     "cell_type": "code",
     "collapsed": false,
     "input": [
      "m = minuit.Minuit(mfun)"
     ],
     "language": "python",
     "metadata": {},
     "outputs": [],
     "prompt_number": 17
    },
    {
     "cell_type": "code",
     "collapsed": false,
     "input": [
      "best_parameters = threebody.best_parameters\n",
      "best_errors = threebody.best_errors"
     ],
     "language": "python",
     "metadata": {},
     "outputs": [],
     "prompt_number": 18
    },
    {
     "cell_type": "code",
     "collapsed": false,
     "input": [
      "for n,v in zip(m.parameters, np.concatenate([scale(best_parameters),scale_lin(lin_parameters)])):\n",
      "    m.values[n] = v"
     ],
     "language": "python",
     "metadata": {},
     "outputs": [],
     "prompt_number": 19
    },
    {
     "cell_type": "code",
     "collapsed": false,
     "input": [
      "m.printMode = 3\n",
      "m.strategy = 1\n",
      "m.eps = 1e-10\n",
      "m.tol = 100.\n",
      "m.up = 1.67\n",
      "m.migrad()\n",
      "print m.fval/len(mjds)"
     ],
     "language": "python",
     "metadata": {},
     "outputs": [
      {
       "output_type": "stream",
       "stream": "stdout",
       "text": [
        "1.67482653801\n"
       ]
      }
     ],
     "prompt_number": 20
    },
    {
     "cell_type": "code",
     "collapsed": false,
     "input": [
      "bp, lp = unscale([m.values[n] for n in m.parameters[:14]]), unscale_lin([m.values[n] for n in m.parameters[14:]])\n",
      "en, el = ([m.errors[n]*abs(e) for n,e in zip(m.parameters[:14],best_errors)], \n",
      "            [m.errors[n]*abs(e) for n,e in zip(m.parameters[14:],lin_errors)])\n",
      "for n,v,e in zip(m.parameters,list(bp)+list(lp),list(en)+list(el)):\n",
      "    print n, threebody.fmt(v,e)\n",
      "print\n",
      "C = m.matrix(True)\n",
      "for i in range(len(m.parameters)):\n",
      "    for j in range(i+1,len(m.parameters)):\n",
      "        if abs(C[i][j])>0.5:\n",
      "            print m.parameters[i], m.parameters[j], C[i][j]"
     ],
     "language": "python",
     "metadata": {},
     "outputs": [
      {
       "output_type": "stream",
       "stream": "stdout",
       "text": [
        "asini_i 1.217528683(15)e0\n",
        "pb_i 1.62940185210(9)e0\n",
        "eps1_i -9.1661(19)e-5\n",
        "eps2_i 6.85681(14)e-4\n",
        "tasc_i 4.07458471(9)e-1\n",
        "acosi_i 1.49284054(11)e0\n",
        "q_i 1.37396956(15)e-1\n",
        "asini_o 7.467270888(6)e1\n",
        "pb_o 3.2725756545(12)e2\n",
        "eps1_o -3.4621273(6)e-3\n",
        "eps2_o 3.51862750(4)e-2\n",
        "tasc_o 3.1393557387(6)e2\n",
        "acosi_o 9.16149(2)e1\n",
        "delta_lan -4.9(5)e-5\n",
        "const -6.2792886463(7)e0\n",
        "f0error 2.39853162393736(4)e-5\n",
        "f1error 1.0174501728(2)e-14\n",
        "j_AO327 4.906(3)e-4\n",
        "j_GBT1500 1.341(3)e-5\n",
        "j_GBT350 1.696(7)e-4\n",
        "j_GBT820 1.810(18)e-5\n",
        "j_WSRT1400 -4.922(6)e-5\n",
        "\n",
        "asini_i asini_o -0.500238255209\n",
        "asini_i delta_lan -0.559941243001\n",
        "pb_i asini_o -0.509898256606\n",
        "pb_i delta_lan -0.671789250894\n",
        "eps2_i tasc_i 0.714938262387\n",
        "acosi_i q_i 0.531309684076\n",
        "asini_o delta_lan 0.84261207439\n",
        "asini_o f1error -0.687305726832\n",
        "pb_o eps1_o -0.573099842386\n",
        "pb_o tasc_o 0.535882073071\n"
       ]
      }
     ],
     "prompt_number": 21
    },
    {
     "cell_type": "code",
     "collapsed": false,
     "input": [
      "lin_parameters = lp\n",
      "lin_errors = el\n",
      "best_parameters = bp\n",
      "best_errors = en"
     ],
     "language": "python",
     "metadata": {},
     "outputs": [],
     "prompt_number": 22
    },
    {
     "cell_type": "code",
     "collapsed": false,
     "input": [
      "L = np.vstack([const_vec, f0error_vec]).T\n",
      "x, rk, res, s = scipy.linalg.lstsq(L,o[\"einstein_delays\"])\n",
      "print x\n",
      "f0error_einsteins = x[1]"
     ],
     "language": "python",
     "metadata": {},
     "outputs": [
      {
       "output_type": "stream",
       "stream": "stdout",
       "text": [
        "[  3.85099227e-03   2.90750273e-10]\n"
       ]
      }
     ],
     "prompt_number": 23
    },
    {
     "cell_type": "code",
     "collapsed": false,
     "input": [
      "f0_fixed = f0-lin_parameters[1]-f0error_einsteins\n",
      "f1_fixed = f1-lin_parameters[2]\n",
      "print repr(f0_fixed)\n",
      "print repr(f1_fixed)\n",
      "p = 1/f0_fixed\n",
      "pdot = -f1_fixed/f0_fixed**2\n",
      "print 1000*p, \"ms\"\n",
      "print pdot\n",
      "print p/(2*pdot)/(365.2425*86400), \"y\""
     ],
     "language": "python",
     "metadata": {},
     "outputs": [
      {
       "output_type": "stream",
       "stream": "stdout",
       "text": [
        "365.95331962881882928\n",
        "-2.3409620962567860933e-15\n",
        "2.73258895701 ms\n",
        "1.74800632482e-20\n",
        "2476887402.4 y\n"
       ]
      }
     ],
     "prompt_number": 24
    },
    {
     "cell_type": "code",
     "collapsed": false,
     "input": [
      "print \"lin_errors = [\"\n",
      "for e in lin_errors:\n",
      "    print \"\\t\", repr(e), \",\"\n",
      "print \"]\""
     ],
     "language": "python",
     "metadata": {},
     "outputs": [
      {
       "output_type": "stream",
       "stream": "stdout",
       "text": [
        "lin_errors = [\n",
        "\t6.630194999958349e-10 ,\n",
        "\t3.663363124876658e-19 ,\n",
        "\t2.0255994780049002e-24 ,\n",
        "\t2.578661945832055e-07 ,\n",
        "\t3.0101805595580954e-08 ,\n",
        "\t6.792117624134432e-07 ,\n",
        "\t1.838981303565943e-07 ,\n",
        "\t5.6400327458232957e-08 ,\n",
        "]\n"
       ]
      }
     ],
     "prompt_number": 25
    },
    {
     "cell_type": "code",
     "collapsed": false,
     "input": [
      "lin_errors = [1.4090202003501563e-16, \n",
      "    5.525045756223474e-20, \n",
      "    5.246777533774113e-20, \n",
      "    3.089368472537974e-07, \n",
      "    5.5583556521988356e-06, \n",
      "    1.766250437032009e-05, \n",
      "    0.00011601262552719464, \n",
      "    1.4468247217110738e-06\n",
      "]\n"
     ],
     "language": "python",
     "metadata": {},
     "outputs": []
    },
    {
     "cell_type": "code",
     "collapsed": false,
     "input": [
      "print lin_parameters"
     ],
     "language": "python",
     "metadata": {},
     "outputs": [
      {
       "output_type": "stream",
       "stream": "stdout",
       "text": [
        "[-6.2792886  2.3985316e-05  1.0174502e-14  0.00049060828  1.3411072e-05\n",
        "  0.0001695535  1.810195e-05 -4.9216429e-05]\n"
       ]
      }
     ],
     "prompt_number": 26
    },
    {
     "cell_type": "code",
     "collapsed": false,
     "input": [
      "lin_errors = el"
     ],
     "language": "python",
     "metadata": {},
     "outputs": [],
     "prompt_number": 27
    },
    {
     "cell_type": "code",
     "collapsed": false,
     "input": [
      "m.up = m.fval/len(mjds)"
     ],
     "language": "python",
     "metadata": {},
     "outputs": [],
     "prompt_number": 28
    },
    {
     "cell_type": "code",
     "collapsed": false,
     "input": [
      "m.hesse()"
     ],
     "language": "python",
     "metadata": {},
     "outputs": [],
     "prompt_number": "*"
    },
    {
     "cell_type": "code",
     "collapsed": false,
     "input": [
      "m.minos()"
     ],
     "language": "python",
     "metadata": {},
     "outputs": [],
     "prompt_number": "*"
    },
    {
     "cell_type": "code",
     "collapsed": false,
     "input": [],
     "language": "python",
     "metadata": {},
     "outputs": []
    }
   ],
   "metadata": {}
  }
 ]
}