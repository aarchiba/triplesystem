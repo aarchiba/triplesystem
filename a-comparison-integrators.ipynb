{
 "metadata": {
  "name": "a-comparison-integrators"
 },
 "nbformat": 3,
 "nbformat_minor": 0,
 "worksheets": [
  {
   "cells": [
    {
     "cell_type": "code",
     "collapsed": false,
     "input": [
      "%load_ext autoreload\n",
      "\n",
      "%autoreload 2"
     ],
     "language": "python",
     "metadata": {},
     "outputs": [],
     "prompt_number": 1
    },
    {
     "cell_type": "code",
     "collapsed": false,
     "input": [
      "from glob import glob\n",
      "import os\n",
      "\n",
      "import scipy.linalg\n",
      "\n",
      "import kepler\n",
      "import threebody"
     ],
     "language": "python",
     "metadata": {},
     "outputs": [],
     "prompt_number": 2
    },
    {
     "cell_type": "code",
     "collapsed": false,
     "input": [
      "import matplotlib\n",
      "matplotlib.rcParams['savefig.dpi'] = 120"
     ],
     "language": "python",
     "metadata": {},
     "outputs": [],
     "prompt_number": 3
    },
    {
     "cell_type": "code",
     "collapsed": false,
     "input": [
      "F = threebody.Fitter(\"0337+17-scott-2013-06-06\",tzrmjd_middle='weighted')"
     ],
     "language": "python",
     "metadata": {},
     "outputs": [],
     "prompt_number": 4
    },
    {
     "cell_type": "code",
     "collapsed": false,
     "input": [
      "F.best_parameters"
     ],
     "language": "python",
     "metadata": {},
     "outputs": [
      {
       "output_type": "pyout",
       "prompt_number": 5,
       "text": [
        "{'acosi_i': 1.4897512309364032,\n",
        " 'acosi_o': 91.40522295634956,\n",
        " 'asini_i': 1.217528411091,\n",
        " 'asini_o': 74.67270658918648,\n",
        " 'delta': 0.0,\n",
        " 'delta_lan': 4.4997457847240714e-05,\n",
        " 'eps1_i': 0.0006856799262721906,\n",
        " 'eps1_o': 0.03518627726274827,\n",
        " 'eps2_i': -9.17036013347448e-05,\n",
        " 'eps2_o': -0.003462135749461484,\n",
        " 'f0': 365.95336876828094,\n",
        " 'f1': -2.3646872857785326e-15,\n",
        " 'j_AO1350': 5.364123866718607e-05,\n",
        " 'j_AO1440': 4.925776005523901e-05,\n",
        " 'j_AO327': 6.48262723561324e-05,\n",
        " 'j_GBT1500': 6.263322776967433e-05,\n",
        " 'j_GBT350': 1.888999445373467e-05,\n",
        " 'j_GBT820': 6.709416223083646e-05,\n",
        " 'j_WSRT350': -3.606016370729403e-05,\n",
        " 'pb_i': 1.6294017513810861,\n",
        " 'pb_o': 327.25753313824424,\n",
        " 'ppn_mode': None,\n",
        " 'q_i': 0.1373507151755161,\n",
        " 'tasc_i': 0.4075193395926848,\n",
        " 'tasc_o': 313.93560900860314,\n",
        " 'tzrmjd': 0.00013931410186979548}"
       ]
      }
     ],
     "prompt_number": 5
    },
    {
     "cell_type": "code",
     "collapsed": false,
     "input": [
      "times = np.linspace(1,500,500*20)\n",
      "o = threebody.compute_orbit(F.best_parameters, times)"
     ],
     "language": "python",
     "metadata": {},
     "outputs": [],
     "prompt_number": 26
    },
    {
     "cell_type": "code",
     "collapsed": false,
     "input": [
      "parameters = np.asarray([F.best_parameters[p]\n",
      "                for p in kepler.three_body_parameters_measurable[:14]])\n",
      "initial_values, jac = kepler.kepler_three_body_measurable(\n",
      "                *(list(parameters)+[0,np.zeros(3),np.zeros(3),0]))"
     ],
     "language": "python",
     "metadata": {},
     "outputs": [],
     "prompt_number": 27
    },
    {
     "cell_type": "code",
     "collapsed": false,
     "input": [
      "for b in initial_values.reshape((3,-1)):\n",
      "    for v in b:\n",
      "        print repr(v),\n",
      "    print"
     ],
     "language": "python",
     "metadata": {},
     "outputs": [
      {
       "output_type": "stream",
       "stream": "stdout",
       "text": [
        "113.38543481264142 21.56176777492335 17.618378396131874 6.7584386369681848 1.6970574551736539 1.386373841358973 1.4374751969400288\n",
        "113.37104789413874 33.90630385045241 27.70719260992999 -54.634697758813353 1.6584925108104827 1.3548558842267673 0.19743824634677884\n",
        "-452.15140033696753 -91.928897034347443 -75.117138737343353 2.6145028919128745 -6.7489519379328575 -5.5134018176644322 0.40997889419782479\n"
       ]
      }
     ],
     "prompt_number": 28
    },
    {
     "cell_type": "code",
     "collapsed": false,
     "input": [
      "np.savez(\"demo-orbit.npz\", **o)"
     ],
     "language": "python",
     "metadata": {},
     "outputs": [],
     "prompt_number": 29
    },
    {
     "cell_type": "code",
     "collapsed": false,
     "input": [
      "np.save(\"t_d.npy\",o[\"t_d\"].astype(float))\n",
      "np.save(\"states.npy\",o[\"states\"].astype(float))\n"
     ],
     "language": "python",
     "metadata": {},
     "outputs": [],
     "prompt_number": 30
    },
    {
     "cell_type": "code",
     "collapsed": false,
     "input": [
      "o"
     ],
     "language": "python",
     "metadata": {},
     "outputs": [
      {
       "output_type": "pyout",
       "prompt_number": 31,
       "text": [
        "{'n_evaluations': 426834L,\n",
        " 'parameter_dict': {'acosi_i': 1.4897512309364032,\n",
        "  'acosi_o': 91.40522295634956,\n",
        "  'asini_i': 1.217528411091,\n",
        "  'asini_o': 74.67270658918648,\n",
        "  'delta': 0.0,\n",
        "  'delta_lan': 4.4997457847240714e-05,\n",
        "  'eps1_i': 0.0006856799262721906,\n",
        "  'eps1_o': 0.03518627726274827,\n",
        "  'eps2_i': -9.17036013347448e-05,\n",
        "  'eps2_o': -0.003462135749461484,\n",
        "  'f0': 365.95336876828094,\n",
        "  'f1': -2.3646872857785326e-15,\n",
        "  'j_AO1350': 5.364123866718607e-05,\n",
        "  'j_AO1440': 4.925776005523901e-05,\n",
        "  'j_AO327': 6.48262723561324e-05,\n",
        "  'j_GBT1500': 6.263322776967433e-05,\n",
        "  'j_GBT350': 1.888999445373467e-05,\n",
        "  'j_GBT820': 6.709416223083646e-05,\n",
        "  'j_WSRT350': -3.606016370729403e-05,\n",
        "  'pb_i': 1.6294017513810861,\n",
        "  'pb_o': 327.25753313824424,\n",
        "  'ppn_mode': None,\n",
        "  'q_i': 0.1373507151755161,\n",
        "  'tasc_i': 0.4075193395926848,\n",
        "  'tasc_o': 313.93560900860314,\n",
        "  'tzrmjd': 0.00013931410186979548},\n",
        " 'states': array([[ 111.44622,  25.864356,  21.134174, ..., -5.4840801,  0.40997889,\n",
        "         6.9642018e-08],\n",
        "       [ 111.15654,  25.740741,  21.033118, ..., -5.4825602,  0.40997889,\n",
        "         7.3010992e-08],\n",
        "       [ 110.92278,  25.583209,  20.904344, ..., -5.4810348,  0.40997889,\n",
        "         7.6361865e-08],\n",
        "       ..., \n",
        "       [-103.03586, -50.041174, -40.884551, ...,  4.8537887,  0.40997889,\n",
        "         3.4267899e-05],\n",
        "       [-102.84089, -50.38091, -41.162181, ...,  4.8509396,  0.40997889,\n",
        "         3.4271424e-05],\n",
        "       [-102.58287, -50.695192, -41.419006, ...,  4.8480867,  0.40997889,\n",
        "         3.4274949e-05]], dtype=float128),\n",
        " 't_bb': array([ 1.0,  1.049905,  1.09981, ...,  499.90019,  499.9501,  500.0], dtype=float128),\n",
        " 't_d': array([ 0.99975539,  1.0496616,  1.099568, ...,  499.90066,  499.95057,\n",
        "        500.00048], dtype=float128),\n",
        " 't_psr': array([ 0.99975532,  1.0496615,  1.099568, ...,  499.90063,  499.95054,\n",
        "        500.00045], dtype=float128),\n",
        " 'time': 1.1324341297149658,\n",
        " 'times': array([   1.        ,    1.04990499,    1.09980998, ...,  499.90019002,\n",
        "        499.95009501,  500.        ])}"
       ]
      }
     ],
     "prompt_number": 31
    },
    {
     "cell_type": "code",
     "collapsed": false,
     "input": [],
     "language": "python",
     "metadata": {},
     "outputs": []
    }
   ],
   "metadata": {}
  }
 ]
}