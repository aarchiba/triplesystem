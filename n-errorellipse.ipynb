{
 "metadata": {
  "name": "n-errorellipse"
 },
 "nbformat": 3,
 "nbformat_minor": 0,
 "worksheets": [
  {
   "cells": [
    {
     "cell_type": "code",
     "collapsed": false,
     "input": [
      "%load_ext autoreload\n",
      "\n",
      "%autoreload 2"
     ],
     "language": "python",
     "metadata": {},
     "outputs": [],
     "prompt_number": 1
    },
    {
     "cell_type": "code",
     "collapsed": false,
     "input": [
      "import subprocess\n",
      "import inspect\n",
      "\n",
      "import scipy.linalg\n",
      "\n",
      "import minuit\n",
      "\n",
      "import threebody\n",
      "import kepler\n",
      "import quad_integrate\n",
      "import minuit_wrap\n"
     ],
     "language": "python",
     "metadata": {},
     "outputs": [],
     "prompt_number": 2
    },
    {
     "cell_type": "code",
     "collapsed": false,
     "input": [
      "base_mjd = 55920"
     ],
     "language": "python",
     "metadata": {},
     "outputs": [],
     "prompt_number": 3
    },
    {
     "cell_type": "markdown",
     "metadata": {},
     "source": [
      "Setting up the error ellipse tester\n",
      "-----------------------------------"
     ]
    },
    {
     "cell_type": "code",
     "collapsed": false,
     "input": [
      "def sample(f,basis):\n",
      "    rhs = []\n",
      "    matrix = []\n",
      "    n = len(basis[0])\n",
      "    m = 1+n+n*(n+1)//2\n",
      "\n",
      "    # constant term\n",
      "    rhs.append(f(np.zeros_like(basis[0])))\n",
      "    matrix.append(np.zeros(n))\n",
      "    \n",
      "    for i in range(n):\n",
      "        rhs.append(f(basis[i]))\n",
      "        matrix.append(np.zeros(n))\n",
      "        matrix[-1][i] = 1\n",
      "        rhs.append(f(-basis[i]))\n",
      "        matrix.append(np.zeros(n))\n",
      "        matrix[-1][i] = -1\n",
      "        for j in range(i+1,n):\n",
      "            rhs.append(f(basis[i]+basis[j]))\n",
      "            matrix.append(np.zeros(n))\n",
      "            matrix[-1][i] = 1\n",
      "            matrix[-1][j] = 1\n",
      "    return np.array(matrix), np.array(rhs)"
     ],
     "language": "python",
     "metadata": {},
     "outputs": [],
     "prompt_number": 12
    },
    {
     "cell_type": "code",
     "collapsed": false,
     "input": [
      "def random_sample(f,basis,ndata):\n",
      "    rhs = []\n",
      "    matrix = []\n",
      "    n = len(basis[0])\n",
      "    for i in range(ndata):\n",
      "        d = np.random.randn(n)/np.sqrt(n)\n",
      "        matrix.append(d)\n",
      "        rhs.append(f(np.dot(basis.T,d)))\n",
      "    return np.array(matrix), np.array(rhs)"
     ],
     "language": "python",
     "metadata": {},
     "outputs": [],
     "prompt_number": 70
    },
    {
     "cell_type": "code",
     "collapsed": false,
     "input": [
      "def model(const, deriv, hessian, vector):\n",
      "    return const + np.dot(deriv,vector) + np.dot(vector,np.dot(hessian,vector))\n",
      "def model_from_vector(v,n):\n",
      "    const = v[0]\n",
      "    deriv = v[1:n+1]\n",
      "    hessian = np.zeros((n,n))\n",
      "    pos = n+1\n",
      "    for i in range(n):\n",
      "        hessian[i,i:] = v[pos:pos+(n-i)]\n",
      "        hessian[i:,i] = hessian[i,i:]\n",
      "        pos += n-i\n",
      "    return const, deriv, hessian"
     ],
     "language": "python",
     "metadata": {},
     "outputs": [],
     "prompt_number": 20
    },
    {
     "cell_type": "code",
     "collapsed": false,
     "input": [
      "def fit_quadratic(matrix, rhs):\n",
      "    ndata, n = matrix.shape\n",
      "    m = 1+n+n*(n+1)//2\n",
      "    assert ndata==m\n",
      "    A = np.zeros((ndata,m))\n",
      "    for i in range(m):\n",
      "        v = np.zeros(m)\n",
      "        v[i] = 1\n",
      "        const, deriv, hessian = model_from_vector(v,n)\n",
      "        for j in range(ndata):\n",
      "            A[j,i] = model(const,deriv,hessian,matrix[j])\n",
      "    x, resids, rk, s = scipy.linalg.lstsq(A, rhs)\n",
      "    return model_from_vector(x,n), resids"
     ],
     "language": "python",
     "metadata": {},
     "outputs": [],
     "prompt_number": 35
    },
    {
     "cell_type": "code",
     "collapsed": false,
     "input": [
      "def f(v):\n",
      "    return np.dot(v,v)+v[1]*v[2]+v[0]\n"
     ],
     "language": "python",
     "metadata": {},
     "outputs": [],
     "prompt_number": 36
    },
    {
     "cell_type": "code",
     "collapsed": false,
     "input": [
      "matrix, rhs = sample(f,np.eye(3))\n",
      "(const, deriv, hessian), resids = fit_quadratic(matrix, rhs)\n",
      "print const\n",
      "print deriv\n",
      "print hessian\n",
      "print resids"
     ],
     "language": "python",
     "metadata": {},
     "outputs": [
      {
       "output_type": "stream",
       "stream": "stdout",
       "text": [
        "-1.22124532709e-15\n",
        "[  1.00000000e+00   8.32667268e-16   4.99600361e-16]\n",
        "[[  1.00000000e+00  -1.60982339e-15  -1.05471187e-15]\n",
        " [ -1.60982339e-15   1.00000000e+00   5.00000000e-01]\n",
        " [ -1.05471187e-15   5.00000000e-01   1.00000000e+00]]\n",
        "[]\n"
       ]
      }
     ],
     "prompt_number": 37
    },
    {
     "cell_type": "code",
     "collapsed": false,
     "input": [
      "vals, vecs = scipy.linalg.eigh(hessian)\n",
      "vecs = vecs.T"
     ],
     "language": "python",
     "metadata": {},
     "outputs": [],
     "prompt_number": 45
    },
    {
     "cell_type": "code",
     "collapsed": false,
     "input": [
      "matrix, rhs = sample(f,vecs)\n",
      "(const, deriv, hessian), resids = fit_quadratic(matrix, rhs)\n",
      "print const\n",
      "print deriv\n",
      "print hessian\n",
      "print resids"
     ],
     "language": "python",
     "metadata": {},
     "outputs": [
      {
       "output_type": "stream",
       "stream": "stdout",
       "text": [
        "-1.66533453694e-15\n",
        "[  2.16493490e-15   1.00000000e+00   5.06539255e-15]\n",
        "[[  5.00000000e-01  -8.88178420e-16   2.77555756e-16]\n",
        " [ -8.88178420e-16   1.00000000e+00  -1.55431223e-15]\n",
        " [  2.77555756e-16  -1.55431223e-15   1.50000000e+00]]\n",
        "[]\n"
       ]
      }
     ],
     "prompt_number": 46
    },
    {
     "cell_type": "markdown",
     "metadata": {},
     "source": [
      "Error ellipses for actual data\n",
      "------------------------------"
     ]
    },
    {
     "cell_type": "code",
     "collapsed": false,
     "input": [
      "best_parameters = {'acosi_i': 1.492996505749166051,\n",
      " 'acosi_o': 91.624327061946270585,\n",
      " 'asini_i': 1.2175286739463885032,\n",
      " 'asini_o': 74.672712940915864505,\n",
      " 'delta_lan': -4.8924067422821832562e-05,\n",
      " 'eps1_i': 0.00068569214948117362916,\n",
      " 'eps1_o': 0.035186266537560595716,\n",
      " 'eps2_i': -9.1663265850432053158e-05,\n",
      " 'eps2_o': -0.0034621353064823793319,\n",
      " 'f0': 365.95336879306462755,\n",
      " 'f1': -2.3087642545369393818e-15,\n",
      " 'j_AO1440': -5.2035840020719817456e-06,\n",
      " 'j_AO327': 0.00048620538587195378448,\n",
      " 'j_GBT1500': 8.2762648393068845411e-06,\n",
      " 'j_GBT350': 0.00016435240849134364285,\n",
      " 'j_GBT820': 1.39969928987975978e-05,\n",
      " 'j_WSRT1400': -5.4412712486553552976e-05,\n",
      " 'pb_i': 1.6294017469527389251,\n",
      " 'pb_o': 327.25754679334093919,\n",
      " 'q_i': 0.13737736822937013903,\n",
      " 'tasc_i': 0.40751933310868834821,\n",
      " 'tasc_o': 313.93561073710762493,\n",
      " 'tzrmjd': -1.2363237255575723422e-05}\n",
      "best_errors = {'acosi_i': 1.1364855283869259e-07,\n",
      " 'acosi_o': 0.00019120360006287366,\n",
      " 'asini_i': 1.621267616747125e-08,\n",
      " 'asini_o': 8.500526965230896e-08,\n",
      " 'delta_lan': 5.887930556206129e-06,\n",
      " 'eps1_i': 1.626776241835793e-08,\n",
      " 'eps1_o': 3.5025504505771786e-10,\n",
      " 'eps2_i': 2.1422489154240615e-08,\n",
      " 'eps2_o': 6.20211990305842e-10,\n",
      " 'f0': 2.6737212960806425e-12,\n",
      " 'f1': 7.154596587522638e-19,\n",
      " 'j_AO1440': 7.869581642299969e-08,\n",
      " 'j_AO327': 2.939829478062659e-07,\n",
      " 'j_GBT1500': 8.431206831925499e-08,\n",
      " 'j_GBT350': 7.385834466074228e-07,\n",
      " 'j_GBT820': 2.1775339741433153e-07,\n",
      " 'j_WSRT1400': 9.932751627769614e-08,\n",
      " 'pb_i': 1.0096889106962887e-10,\n",
      " 'pb_o': 1.3048863234327796e-07,\n",
      " 'q_i': 1.4736390586720232e-08,\n",
      " 'tasc_i': 9.763319569531049e-09,\n",
      " 'tasc_o': 6.285845016953283e-08,\n",
      " 'tzrmjd': 9.298470732599925e-13}"
     ],
     "language": "python",
     "metadata": {},
     "outputs": [],
     "prompt_number": 72
    },
    {
     "cell_type": "code",
     "collapsed": false,
     "input": [
      "base_mjd = 55920\n",
      "tzrmjd_base = 56100\n",
      "\n",
      "mjds, pulses, tel_list, tels, uncerts = threebody.load_toas()\n",
      "\n",
      "phase_uncerts = uncerts*365.9533436144258189 # approximate F0\n",
      "print np.mean(phase_uncerts), np.mean(uncerts)\n",
      "\n",
      "jmatrix,jnames = threebody.trend_matrix(mjds, tel_list, tels, const=False, P=False, Pdot=False, jumps=True)\n",
      "#jnames = ['j_'+n for n in tel_list[1:]]\n",
      "print jnames\n",
      "\n"
     ],
     "language": "python",
     "metadata": {},
     "outputs": [
      {
       "output_type": "stream",
       "stream": "stdout",
       "text": [
        "0.000623884276008 1.70481917133e-06\n",
        "['j_AO1440', 'j_AO327', 'j_GBT1500', 'j_GBT350', 'j_GBT820', 'j_WSRT1400']\n"
       ]
      }
     ],
     "prompt_number": 73
    },
    {
     "cell_type": "code",
     "collapsed": false,
     "input": [
      "resid_cache = {}\n",
      "def residuals(p):\n",
      "    pc = p.copy()\n",
      "    del pc['tzrmjd']\n",
      "    del pc['f0']\n",
      "    del pc['f1']\n",
      "    pc = tuple(sorted(pc.items()))\n",
      "    if pc not in resid_cache:\n",
      "        jumps = np.dot(jmatrix,np.array([p[n] for n in jnames]))\n",
      "        o = threebody.compute_orbit_bbat([p[n] for n in parameters[:14]], \n",
      "            mjds-(jumps/86400.).astype(np.float128)-base_mjd)\n",
      "        t_psr_s = o['t_psr']*86400.\n",
      "        resid_cache[pc] = t_psr_s\n",
      "    t_psr_s = resid_cache[pc]-(p['tzrmjd']+(tzrmjd_base-base_mjd))*86400\n",
      "    # FIXME: assumes PEPOCH=TZRMJD\n",
      "    phase = p['f0']*t_psr_s+p['f1']*t_psr_s**2/2.\n",
      "    return phase-pulses\n",
      "\n",
      "def mfun(asini_i, pb_i, eps1_i, eps2_i, tasc_i, \n",
      "            acosi_i, q_i,\n",
      "            asini_o, pb_o, eps1_o, eps2_o, tasc_o, \n",
      "            acosi_o, delta_lan,\n",
      "            tzrmjd, f0, f1, \n",
      "            j_AO1440, j_AO327, j_GBT1500, \n",
      "            j_GBT350, j_GBT820, j_WSRT1400):\n",
      "    r = residuals(locals())\n",
      "    return np.sum((r/phase_uncerts)**2)\n",
      "parameters = inspect.getargspec(mfun).args"
     ],
     "language": "python",
     "metadata": {},
     "outputs": [],
     "prompt_number": 74
    },
    {
     "cell_type": "code",
     "collapsed": false,
     "input": [
      "def f(d):\n",
      "    return mfun(*[best_parameters[p]+d for (p,d) in zip(parameters,d)])"
     ],
     "language": "python",
     "metadata": {},
     "outputs": [],
     "prompt_number": 75
    },
    {
     "cell_type": "code",
     "collapsed": false,
     "input": [
      "basis = np.diag([best_errors[p] for p in parameters])"
     ],
     "language": "python",
     "metadata": {},
     "outputs": [],
     "prompt_number": 76
    },
    {
     "cell_type": "code",
     "collapsed": false,
     "input": [
      "matrix, rhs = sample(f,basis)"
     ],
     "language": "python",
     "metadata": {},
     "outputs": [],
     "prompt_number": 77
    },
    {
     "cell_type": "code",
     "collapsed": false,
     "input": [
      "np.amin(rhs)"
     ],
     "language": "python",
     "metadata": {},
     "outputs": [
      {
       "output_type": "pyout",
       "prompt_number": 81,
       "text": [
        "41833.343010083971354"
       ]
      }
     ],
     "prompt_number": 81
    },
    {
     "cell_type": "code",
     "collapsed": false,
     "input": [
      "(const, deriv, hessian), resids = fit_quadratic(matrix, rhs)"
     ],
     "language": "python",
     "metadata": {},
     "outputs": [],
     "prompt_number": 78
    },
    {
     "cell_type": "code",
     "collapsed": false,
     "input": [
      "print const\n",
      "print deriv"
     ],
     "language": "python",
     "metadata": {},
     "outputs": [
      {
       "output_type": "stream",
       "stream": "stdout",
       "text": [
        "41833.8925018\n",
        "[ -4.01269585e-01  -5.71710462e-01   1.69026862e+00  -4.33732202e-01\n",
        "  -5.93075288e-01  -2.83564350e+00   3.00234199e+00  -1.17855378e+00\n",
        "   2.78140090e+00   2.31926145e+00   2.45159970e-01  -1.99430656e+00\n",
        "  -3.04871083e+00   2.56554653e-01  -4.53120558e-01  -2.04813637e+00\n",
        "   2.00195650e+00  -3.50132627e+00  -1.93246578e-03  -3.87934323e-01\n",
        "  -1.13258524e-02  -3.57011475e-02  -8.40078623e-02]\n"
       ]
      }
     ],
     "prompt_number": 79
    },
    {
     "cell_type": "code",
     "collapsed": false,
     "input": [
      "vals, vecs = scipy.linalg.eigh(hessian)\n",
      "vecs = vecs.T\n",
      "print vals"
     ],
     "language": "python",
     "metadata": {},
     "outputs": [
      {
       "output_type": "stream",
       "stream": "stdout",
       "text": [
        "[ -2.56680568e+00  -1.06521632e+00  -7.88696288e-01  -6.88131746e-01\n",
        "  -3.72544560e-01  -2.99433065e-01  -6.59564957e-03   1.54067473e-01\n",
        "   9.45191791e-01   1.22210823e+00   1.71126371e+00   2.03456723e+00\n",
        "   2.31945935e+00   2.81398145e+00   3.91040275e+00   4.95975451e+00\n",
        "   6.05568720e+00   1.51998994e+01   2.38029425e+01   6.94400819e+01\n",
        "   1.07269571e+02   2.25443270e+02   9.75789430e+02]\n"
       ]
      }
     ],
     "prompt_number": 80
    },
    {
     "cell_type": "code",
     "collapsed": false,
     "input": [
      "print np.diag(basis)"
     ],
     "language": "python",
     "metadata": {},
     "outputs": [
      {
       "output_type": "stream",
       "stream": "stdout",
       "text": [
        "[  4.50905555e-09   3.66973899e-11   9.85800014e-09   2.72576977e-08\n",
        "   5.25564241e-09   3.37030380e-08   4.01330809e-09   3.50827241e-08\n",
        "   3.35663420e-08   6.54699277e-11   7.90109893e-10   1.21274811e-08\n",
        "   4.81678467e-05   1.24790404e-06   5.71029772e-14   3.02236872e-13\n",
        "   6.44439943e-20   1.11027686e-08   1.30253150e-07   1.66519187e-08\n",
        "   3.44734628e-07   8.68858862e-08   2.80685269e-08]\n"
       ]
      }
     ],
     "prompt_number": 62
    },
    {
     "cell_type": "code",
     "collapsed": false,
     "input": [
      "matrix, rhs = random_sample(f, basis, len(parameters)**2)"
     ],
     "language": "python",
     "metadata": {},
     "outputs": [
      {
       "ename": "KeyboardInterrupt",
       "evalue": "",
       "output_type": "pyerr",
       "traceback": [
        "\u001b[0;31m---------------------------------------------------------------------------\u001b[0m\n\u001b[0;31mKeyboardInterrupt\u001b[0m                         Traceback (most recent call last)",
        "\u001b[0;32m<ipython-input-71-c7d83d7c974f>\u001b[0m in \u001b[0;36m<module>\u001b[0;34m()\u001b[0m\n\u001b[0;32m----> 1\u001b[0;31m \u001b[0mmatrix\u001b[0m\u001b[0;34m,\u001b[0m \u001b[0mrhs\u001b[0m \u001b[0;34m=\u001b[0m \u001b[0mrandom_sample\u001b[0m\u001b[0;34m(\u001b[0m\u001b[0mf\u001b[0m\u001b[0;34m,\u001b[0m \u001b[0mbasis\u001b[0m\u001b[0;34m,\u001b[0m \u001b[0mlen\u001b[0m\u001b[0;34m(\u001b[0m\u001b[0mparameters\u001b[0m\u001b[0;34m)\u001b[0m\u001b[0;34m**\u001b[0m\u001b[0;36m2\u001b[0m\u001b[0;34m)\u001b[0m\u001b[0;34m\u001b[0m\u001b[0m\n\u001b[0m",
        "\u001b[0;32m<ipython-input-70-5dfa8a312613>\u001b[0m in \u001b[0;36mrandom_sample\u001b[0;34m(f, basis, ndata)\u001b[0m\n\u001b[1;32m      6\u001b[0m         \u001b[0md\u001b[0m \u001b[0;34m=\u001b[0m \u001b[0mnp\u001b[0m\u001b[0;34m.\u001b[0m\u001b[0mrandom\u001b[0m\u001b[0;34m.\u001b[0m\u001b[0mrandn\u001b[0m\u001b[0;34m(\u001b[0m\u001b[0mn\u001b[0m\u001b[0;34m)\u001b[0m\u001b[0;34m/\u001b[0m\u001b[0mnp\u001b[0m\u001b[0;34m.\u001b[0m\u001b[0msqrt\u001b[0m\u001b[0;34m(\u001b[0m\u001b[0mn\u001b[0m\u001b[0;34m)\u001b[0m\u001b[0;34m\u001b[0m\u001b[0m\n\u001b[1;32m      7\u001b[0m         \u001b[0mmatrix\u001b[0m\u001b[0;34m.\u001b[0m\u001b[0mappend\u001b[0m\u001b[0;34m(\u001b[0m\u001b[0md\u001b[0m\u001b[0;34m)\u001b[0m\u001b[0;34m\u001b[0m\u001b[0m\n\u001b[0;32m----> 8\u001b[0;31m         \u001b[0mrhs\u001b[0m\u001b[0;34m.\u001b[0m\u001b[0mappend\u001b[0m\u001b[0;34m(\u001b[0m\u001b[0mf\u001b[0m\u001b[0;34m(\u001b[0m\u001b[0mnp\u001b[0m\u001b[0;34m.\u001b[0m\u001b[0mdot\u001b[0m\u001b[0;34m(\u001b[0m\u001b[0mbasis\u001b[0m\u001b[0;34m.\u001b[0m\u001b[0mT\u001b[0m\u001b[0;34m,\u001b[0m\u001b[0md\u001b[0m\u001b[0;34m)\u001b[0m\u001b[0;34m)\u001b[0m\u001b[0;34m)\u001b[0m\u001b[0;34m\u001b[0m\u001b[0m\n\u001b[0m\u001b[1;32m      9\u001b[0m     \u001b[0;32mreturn\u001b[0m \u001b[0mnp\u001b[0m\u001b[0;34m.\u001b[0m\u001b[0marray\u001b[0m\u001b[0;34m(\u001b[0m\u001b[0mmatrix\u001b[0m\u001b[0;34m)\u001b[0m\u001b[0;34m,\u001b[0m \u001b[0mnp\u001b[0m\u001b[0;34m.\u001b[0m\u001b[0marray\u001b[0m\u001b[0;34m(\u001b[0m\u001b[0mrhs\u001b[0m\u001b[0;34m)\u001b[0m\u001b[0;34m\u001b[0m\u001b[0m\n",
        "\u001b[0;32m<ipython-input-55-b5397ae6cb79>\u001b[0m in \u001b[0;36mf\u001b[0;34m(d)\u001b[0m\n\u001b[1;32m      1\u001b[0m \u001b[0;32mdef\u001b[0m \u001b[0mf\u001b[0m\u001b[0;34m(\u001b[0m\u001b[0md\u001b[0m\u001b[0;34m)\u001b[0m\u001b[0;34m:\u001b[0m\u001b[0;34m\u001b[0m\u001b[0m\n\u001b[0;32m----> 2\u001b[0;31m     \u001b[0;32mreturn\u001b[0m \u001b[0mmfun\u001b[0m\u001b[0;34m(\u001b[0m\u001b[0;34m*\u001b[0m\u001b[0;34m[\u001b[0m\u001b[0mbest_parameters\u001b[0m\u001b[0;34m[\u001b[0m\u001b[0mp\u001b[0m\u001b[0;34m]\u001b[0m\u001b[0;34m+\u001b[0m\u001b[0md\u001b[0m \u001b[0;32mfor\u001b[0m \u001b[0;34m(\u001b[0m\u001b[0mp\u001b[0m\u001b[0;34m,\u001b[0m\u001b[0md\u001b[0m\u001b[0;34m)\u001b[0m \u001b[0;32min\u001b[0m \u001b[0mzip\u001b[0m\u001b[0;34m(\u001b[0m\u001b[0mparameters\u001b[0m\u001b[0;34m,\u001b[0m\u001b[0md\u001b[0m\u001b[0;34m)\u001b[0m\u001b[0;34m]\u001b[0m\u001b[0;34m)\u001b[0m\u001b[0;34m\u001b[0m\u001b[0m\n\u001b[0m",
        "\u001b[0;32m<ipython-input-54-7b57ff42c801>\u001b[0m in \u001b[0;36mmfun\u001b[0;34m(asini_i, pb_i, eps1_i, eps2_i, tasc_i, acosi_i, q_i, asini_o, pb_o, eps1_o, eps2_o, tasc_o, acosi_o, delta_lan, tzrmjd, f0, f1, j_AO1440, j_AO327, j_GBT1500, j_GBT350, j_GBT820, j_WSRT1400)\u001b[0m\n\u001b[1;32m     24\u001b[0m             \u001b[0mj_AO1440\u001b[0m\u001b[0;34m,\u001b[0m \u001b[0mj_AO327\u001b[0m\u001b[0;34m,\u001b[0m \u001b[0mj_GBT1500\u001b[0m\u001b[0;34m,\u001b[0m\u001b[0;34m\u001b[0m\u001b[0m\n\u001b[1;32m     25\u001b[0m             j_GBT350, j_GBT820, j_WSRT1400):\n\u001b[0;32m---> 26\u001b[0;31m     \u001b[0mr\u001b[0m \u001b[0;34m=\u001b[0m \u001b[0mresiduals\u001b[0m\u001b[0;34m(\u001b[0m\u001b[0mlocals\u001b[0m\u001b[0;34m(\u001b[0m\u001b[0;34m)\u001b[0m\u001b[0;34m)\u001b[0m\u001b[0;34m\u001b[0m\u001b[0m\n\u001b[0m\u001b[1;32m     27\u001b[0m     \u001b[0;32mreturn\u001b[0m \u001b[0mnp\u001b[0m\u001b[0;34m.\u001b[0m\u001b[0msum\u001b[0m\u001b[0;34m(\u001b[0m\u001b[0;34m(\u001b[0m\u001b[0mr\u001b[0m\u001b[0;34m/\u001b[0m\u001b[0mphase_uncerts\u001b[0m\u001b[0;34m)\u001b[0m\u001b[0;34m**\u001b[0m\u001b[0;36m2\u001b[0m\u001b[0;34m)\u001b[0m\u001b[0;34m\u001b[0m\u001b[0m\n\u001b[1;32m     28\u001b[0m \u001b[0mparameters\u001b[0m \u001b[0;34m=\u001b[0m \u001b[0minspect\u001b[0m\u001b[0;34m.\u001b[0m\u001b[0mgetargspec\u001b[0m\u001b[0;34m(\u001b[0m\u001b[0mmfun\u001b[0m\u001b[0;34m)\u001b[0m\u001b[0;34m.\u001b[0m\u001b[0margs\u001b[0m\u001b[0;34m\u001b[0m\u001b[0m\n",
        "\u001b[0;32m<ipython-input-54-7b57ff42c801>\u001b[0m in \u001b[0;36mresiduals\u001b[0;34m(p)\u001b[0m\n\u001b[1;32m      9\u001b[0m         \u001b[0mjumps\u001b[0m \u001b[0;34m=\u001b[0m \u001b[0mnp\u001b[0m\u001b[0;34m.\u001b[0m\u001b[0mdot\u001b[0m\u001b[0;34m(\u001b[0m\u001b[0mjmatrix\u001b[0m\u001b[0;34m,\u001b[0m\u001b[0mnp\u001b[0m\u001b[0;34m.\u001b[0m\u001b[0marray\u001b[0m\u001b[0;34m(\u001b[0m\u001b[0;34m[\u001b[0m\u001b[0mp\u001b[0m\u001b[0;34m[\u001b[0m\u001b[0mn\u001b[0m\u001b[0;34m]\u001b[0m \u001b[0;32mfor\u001b[0m \u001b[0mn\u001b[0m \u001b[0;32min\u001b[0m \u001b[0mjnames\u001b[0m\u001b[0;34m]\u001b[0m\u001b[0;34m)\u001b[0m\u001b[0;34m)\u001b[0m\u001b[0;34m\u001b[0m\u001b[0m\n\u001b[1;32m     10\u001b[0m         o = threebody.compute_orbit_bbat([p[n] for n in parameters[:14]], \n\u001b[0;32m---> 11\u001b[0;31m             mjds-(jumps/86400.).astype(np.float128)-base_mjd)\n\u001b[0m\u001b[1;32m     12\u001b[0m         \u001b[0mt_psr_s\u001b[0m \u001b[0;34m=\u001b[0m \u001b[0mo\u001b[0m\u001b[0;34m[\u001b[0m\u001b[0;34m't_psr'\u001b[0m\u001b[0;34m]\u001b[0m\u001b[0;34m*\u001b[0m\u001b[0;36m86400.\u001b[0m\u001b[0;34m\u001b[0m\u001b[0m\n\u001b[1;32m     13\u001b[0m         \u001b[0mresid_cache\u001b[0m\u001b[0;34m[\u001b[0m\u001b[0mpc\u001b[0m\u001b[0;34m]\u001b[0m \u001b[0;34m=\u001b[0m \u001b[0mt_psr_s\u001b[0m\u001b[0;34m\u001b[0m\u001b[0m\n",
        "\u001b[0;32m/home/aarchiba/projects/threebody/threebody.pyc\u001b[0m in \u001b[0;36mcompute_orbit_bbat\u001b[0;34m(parameters, bbats, tol, shapiro, special, general)\u001b[0m\n\u001b[1;32m    252\u001b[0m            rtol = tol, atol = tol)\n\u001b[1;32m    253\u001b[0m     \u001b[0;32mfor\u001b[0m \u001b[0mt_bb\u001b[0m \u001b[0;32min\u001b[0m \u001b[0mbbats\u001b[0m\u001b[0;34m:\u001b[0m\u001b[0;34m\u001b[0m\u001b[0m\n\u001b[0;32m--> 254\u001b[0;31m         \u001b[0mO\u001b[0m\u001b[0;34m.\u001b[0m\u001b[0mintegrate_to\u001b[0m\u001b[0;34m(\u001b[0m\u001b[0mt_bb\u001b[0m\u001b[0;34m)\u001b[0m\u001b[0;34m\u001b[0m\u001b[0m\n\u001b[0m\u001b[1;32m    255\u001b[0m         \u001b[0mstates\u001b[0m\u001b[0;34m.\u001b[0m\u001b[0mappend\u001b[0m\u001b[0;34m(\u001b[0m\u001b[0mO\u001b[0m\u001b[0;34m.\u001b[0m\u001b[0mx\u001b[0m\u001b[0;34m)\u001b[0m\u001b[0;34m\u001b[0m\u001b[0m\n\u001b[1;32m    256\u001b[0m         \u001b[0mts\u001b[0m\u001b[0;34m.\u001b[0m\u001b[0mappend\u001b[0m\u001b[0;34m(\u001b[0m\u001b[0;34m(\u001b[0m\u001b[0mO\u001b[0m\u001b[0;34m.\u001b[0m\u001b[0mt_bb\u001b[0m\u001b[0;34m,\u001b[0m\u001b[0mO\u001b[0m\u001b[0;34m.\u001b[0m\u001b[0mt_psr\u001b[0m\u001b[0;34m,\u001b[0m\u001b[0mO\u001b[0m\u001b[0;34m.\u001b[0m\u001b[0mt_d\u001b[0m\u001b[0;34m)\u001b[0m\u001b[0;34m)\u001b[0m\u001b[0;34m\u001b[0m\u001b[0m\n",
        "\u001b[0;31mKeyboardInterrupt\u001b[0m: "
       ]
      }
     ],
     "prompt_number": 71
    },
    {
     "cell_type": "code",
     "collapsed": false,
     "input": [
      "np.diag(basis)[parameters.index('eps1_o')]"
     ],
     "language": "python",
     "metadata": {},
     "outputs": [
      {
       "output_type": "pyout",
       "prompt_number": 68,
       "text": [
        "6.5469927735595806e-11"
       ]
      }
     ],
     "prompt_number": 68
    },
    {
     "cell_type": "code",
     "collapsed": false,
     "input": [
      "import pymc"
     ],
     "language": "python",
     "metadata": {},
     "outputs": [],
     "prompt_number": 82
    },
    {
     "cell_type": "code",
     "collapsed": false,
     "input": [],
     "language": "python",
     "metadata": {},
     "outputs": []
    }
   ],
   "metadata": {}
  }
 ]
}