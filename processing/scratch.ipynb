{
 "cells": [
  {
   "cell_type": "code",
   "execution_count": 3,
   "metadata": {
    "collapsed": false
   },
   "outputs": [
    {
     "name": "stderr",
     "output_type": "stream",
     "text": [
      "DEBUG:root:test\n"
     ]
    },
    {
     "data": {
      "text/plain": [
       "<matplotlib.figure.Figure at 0x7f86a445a690>"
      ]
     },
     "metadata": {},
     "output_type": "display_data"
    }
   ],
   "source": [
    "%load_ext autoreload\n",
    "\n",
    "%autoreload 2\n",
    "\n",
    "import os\n",
    "from glob import glob\n",
    "import subprocess\n",
    "import shutil\n",
    "import traceback\n",
    "import random\n",
    "import pickle\n",
    "from os.path import join\n",
    "\n",
    "import joblib\n",
    "from concurrent.futures import ProcessPoolExecutor\n",
    "import re\n",
    "\n",
    "from backports import tempfile\n",
    "\n",
    "import matplotlib\n",
    "matplotlib.rcParams['savefig.dpi'] = 144\n",
    "%matplotlib inline\n",
    "import numpy as np\n",
    "import matplotlib.pyplot as plt\n",
    "import numpy.ma as ma\n",
    "\n",
    "import psrchive\n",
    "from astropy.io import fits\n",
    "\n",
    "import pipe\n",
    "\n",
    "plt.viridis()\n",
    "\n",
    "import logging\n",
    "logger = logging.getLogger()\n",
    "logger.setLevel(logging.DEBUG)\n",
    "logging.debug(\"test\")"
   ]
  },
  {
   "cell_type": "code",
   "execution_count": 24,
   "metadata": {
    "collapsed": false
   },
   "outputs": [],
   "source": [
    "pam = pipe.PsrchiveCommand(\"pam\", infiles=[0], outfiles=[\"output\"], inplace={0:\"output\"}, always_args=[\"-m\"])\n",
    "paz = pipe.PsrchiveCommand(\"paz\", infiles=[0], outfiles=[\"output\"], inplace={0:\"output\"}, always_args=[\"-m\"])"
   ]
  },
  {
   "cell_type": "code",
   "execution_count": 25,
   "metadata": {
    "collapsed": false
   },
   "outputs": [
    {
     "name": "stdout",
     "output_type": "stream",
     "text": [
      "/tmp/tripletest/psc.fits written to disk\n"
     ]
    }
   ],
   "source": [
    "pam(\"/tmp/tripletest/raw_0001.fits\", output=\"/tmp/tripletest/psc.fits\", \n",
    "    p=None)"
   ]
  },
  {
   "cell_type": "code",
   "execution_count": 27,
   "metadata": {
    "collapsed": false,
    "scrolled": false
   },
   "outputs": [
    {
     "name": "stderr",
     "output_type": "stream",
     "text": [
      "INFO:root:No old arguments on record\n",
      "INFO:root:Arguments changed\n",
      "DEBUG:root:(['/tmp/tripletest/raw_0001.fits'], {'output': '/tmp/tripletest/zap.fits', 'R': '20', 'r': None}) != ([], {})\n",
      "INFO:root:Input /tmp/tripletest/zap.fits.args newer than /tmp/tripletest/zap.fits.stderr\n",
      "DEBUG:root:Mon Jan 30 18:46:39 2017 > Mon Jan 30 18:45:10 2017\n",
      "DEBUG:root:Inplace replacing position 0=/tmp/tripletest/raw_0001.fits with keyword output=/tmp/tripletest/zap.fits\n"
     ]
    },
    {
     "name": "stdout",
     "output_type": "stream",
     "text": [
      "Using median smoothed difference zapper\n",
      "Equivalent paz cmd: paz -z \"0 1 2 94 95 96 99 104 175 176 177 178 180 181 222 280 281 292 304 323 324 325 328 329 330 332 333 334 335 336 337 338 460 461 462 463 464 465\"\n",
      "Equivalent paz cmd: paz -z \"0 1 2 52 94 95 96 99 100 104 175 176 177 178 180 181 222 273 274 280 281 285 293 294 304 323 324 325 328 329 330 332 333 334 335 336 337 338 460 461 462 463 464\"\n",
      "Equivalent paz cmd: paz -z \"0 1 2 95 96 175 177 180 181 222 273 291 293 294 304 305 323 324 325 328 329 332 333 334 335 336 337 338 460 461 463 464\"\n",
      "Equivalent paz cmd: paz -z \"0 1 2 95 96 175 177 178 180 181 222 280 291 292 293 294 304 305 323 324 325 332 333 334 335 336 337 460 461 463 464\"\n",
      "Equivalent paz cmd: paz -z \"0 1 2 95 96 180 222 279 280 292 293 294 304 305 323 324 325 332 333 335 336 460 461 463 464\"\n",
      "Equivalent paz cmd: paz -z \"0 1 2 9 95 96 222 280 281 291 292 293 294 304 305 323 324 325 332 333 335 336 460 461 463 464 504\"\n",
      "Equivalent paz cmd: paz -z \"0 1 2 9 95 96 222 280 281 291 292 293 294 304 305 323 324 325 332 333 335 336 504\"\n",
      "Equivalent paz cmd: paz -z \"0 1 2 9 95 96 222 279 280 281 285 291 292 293 304 305 323 324 325 332 333 504\"\n",
      "Equivalent paz cmd: paz -z \"0 1 2 9 95 96 222 279 280 285 292 293 304 305 323 324 325 332 333 334 504\"\n",
      "Equivalent paz cmd: paz -z \"0 1 2 9 95 96 222 223 276 280 281 292 293 294 304 305 322 323 324 325 332 333 334 451 504 506\"\n",
      "Equivalent paz cmd: paz -z \"0 1 2 9 95 96 222 223 280 281 291 292 293 294 304 305 322 323 324 325 332 333 334 451 504 506\"\n",
      "Equivalent paz cmd: paz -z \"0 1 2 9 95 96 222 223 279 291 292 293 304 305 322 323 324 325 333 451 504 506\"\n",
      "Equivalent paz cmd: paz -z \"0 1 2 9 95 96 222 223 279 280 291 292 293 304 305 321 322 323 324 325 332 333 334 451 504 506\"\n",
      "Equivalent paz cmd: paz -z \"0 1 2 9 95 96 222 223 279 280 281 292 293 294 304 305 321 322 323 324 325 332 333 334 451 504 506\"\n",
      "Equivalent paz cmd: paz -z \"0 1 2 9 95 222 223 280 281 291 292 293 294 304 305 321 322 323 324 325 332 333 334 451 504 506\"\n",
      "Equivalent paz cmd: paz -z \"0 1 2 9 10 95 96 222 223 272 273 276 279 280 281 291 292 293 304 305 321 322 323 324 325 332 333 334 451 452 504 506\"\n",
      "Equivalent paz cmd: paz -z \"0 1 2 9 95 222 274 279 280 292 293 294 304 305 322 323 324 325 328 332 333 334 337 338 451 504\"\n",
      "Equivalent paz cmd: paz -z \"0 1 2 9 95 222 279 280 292 293 294 304 305 322 323 324 325 328 332 333 334 337 338 451 504\"\n",
      "Equivalent paz cmd: paz -z \"0 1 2 9 95 222 273 280 281 282 293 294 304 305 322 323 324 325 328 329 332 333 334 335 337 451 504\"\n",
      "Equivalent paz cmd: paz -z \"0 1 2 9 95 222 273 274 280 291 292 304 305 322 323 324 325 328 329 332 333 334 335 337 338 451 504\"\n",
      "Equivalent paz cmd: paz -z \"0 1 2 9 222 223 273 274 280 292 293 304 305 319 321 322 323 324 325 334 451 452 504\"\n",
      "Equivalent paz cmd: paz -z \"0 1 2 222 280 281 292 304 305 319 322 323 324 325 334 451 504\"\n",
      "Equivalent paz cmd: paz -z \"0 1 2 9 222 223 276 280 281 304 305 319 320 321 322 323 324 325 327 328 333 334 337 451 452 504 506\"\n",
      "Equivalent paz cmd: paz -z \"0 1 2 9 222 223 273 274 279 280 304 305 319 320 321 322 323 324 325 334 451 504 506\"\n",
      "Equivalent paz cmd: paz -z \"0 1 2 9 222 223 273 274 280 292 293 304 305 319 320 322 323 324 325 451 504\"\n",
      "Equivalent paz cmd: paz -z \"0 1 2 9 10 222 223 273 274 279 280 281 292 293 304 305 319 320 321 322 323 324 325 332 451 452 504 506\"\n",
      "Equivalent paz cmd: paz -z \"0 1 2 9 222 223 280 281 304 305 319 320 321 322 323 324 325 332 333 451 452 504 506\"\n",
      "Equivalent paz cmd: paz -z \"0 1 2 9 10 222 223 273 274 280 281 291 304 305 319 320 321 322 323 324 325 332 333 451 452 504 506\"\n",
      "Equivalent paz cmd: paz -z \"0 1 2 9 10 222 223 273 274 279 280 289 292 293 304 305 319 320 321 322 323 324 325 332 333 451 452 504 506\"\n",
      "Equivalent paz cmd: paz -z \"0 1 2 9 10 222 223 273 274 280 292 304 305 319 320 321 322 323 324 325 332 333 451 460 461 504 506\"\n",
      "Equivalent paz cmd: paz -z \"0 1 2 9 222 223 279 280 281 304 305 319 320 321 322 323 324 325 332 333 451 452 460 504 506\"\n",
      "Equivalent paz cmd: paz -z \"0 1 2 9 10 222 223 279 280 281 291 292 304 305 318 319 320 321 322 323 324 325 332 333 451 452 460 504 506\"\n",
      "Equivalent paz cmd: paz -z \"0 1 2 9 222 280 292 304 305 318 319 320 321 322 323 324 325 332 333 334 335 451 452 504\"\n",
      "Equivalent paz cmd: paz -z \"0 1 2 9 222 280 293 294 304 305 318 319 320 321 322 323 324 325 332 333 451 504\"\n",
      "Equivalent paz cmd: paz -z \"0 1 2 9 222 223 280 281 293 304 305 318 319 320 321 322 323 324 325 327 328 332 333 334 335 337 338 451 452 504\"\n",
      "Equivalent paz cmd: paz -z \"0 1 2 222 280 304 305 319 320 322 323 324 325 328 332 333 334 335 337 451 504\"\n",
      "Equivalent paz cmd: paz -z \"0 1 2 9 222 223 292 293 304 305 318 319 320 321 322 323 324 325 327 328 329 332 333 334 335 337 338 451 452 504 506\"\n",
      "Equivalent paz cmd: paz -z \"0 1 2 9 222 223 280 293 304 305 318 319 320 321 322 323 324 325 326 327 328 329 332 333 334 335 337 451 452 460 461 504 506\"\n",
      "Equivalent paz cmd: paz -z \"0 1 2 9 180 222 223 272 279 280 281 291 292 304 305 318 319 320 321 322 323 324 325 326 327 328 329 330 332 333 334 335 337 338 451 460 461 504 506\"\n",
      "Equivalent paz cmd: paz -z \"0 1 2 9 222 223 280 291 304 305 318 319 320 321 322 323 324 325 327 328 329 332 333 334 337 338 451 460 461 504 506\"\n",
      "Equivalent paz cmd: paz -z \"0 1 2 9 222 223 280 292 304 305 318 319 320 321 322 323 324 325 326 327 328 329 330 332 333 334 335 337 338 451 460 461 465 504 506\"\n",
      "Equivalent paz cmd: paz -z \"0 1 2 9 175 176 180 181 222 223 273 280 293 294 304 305 318 319 320 321 322 323 324 325 326 327 328 329 330 332 333 334 335 337 338 451 456 460 461 462 463 465 466 504 506\"\n",
      "Equivalent paz cmd: paz -z \"0 1 2 180 222 273 274 304 305 319 320 322 323 324 325 327 328 329 332 333 334 335 337 338 460 461\"\n",
      "Equivalent paz cmd: paz -z \"0 1 2 180 181 222 273 292 304 305 319 320 322 323 324 325 327 328 329 332 333 334 335 337 451 460 461 462 504\"\n",
      "Equivalent paz cmd: paz -z \"0 1 2 52 104 105 180 181 222 292 304 305 319 320 322 323 324 325 327 328 329 332 333 334 335 337 338 451 460 461 462\"\n",
      "Equivalent paz cmd: paz -z \"0 1 2 180 181 222 304 305 319 320 322 323 324 325 326 327 328 329 330 332 333 334 335 336 337 460 461\"\n",
      "Equivalent paz cmd: paz -z \"0 1 2 9 180 181 222 304 305 318 319 320 322 323 324 325 327 328 329 332 333 334 335 337 338 451 460 461 504\"\n",
      "Equivalent paz cmd: paz -z \"0 1 2 9 180 181 222 273 274 292 304 305 318 319 320 321 322 323 324 325 332 333 334 335 451 460 461 504\"\n",
      "Equivalent paz cmd: paz -z \"0 1 2 9 180 222 223 273 274 285 292 293 304 305 318 319 320 321 322 323 324 325 327 328 329 332 333 334 335 337 338 451 460 461 504 506\"\n",
      "Equivalent paz cmd: paz -z \"0 1 2 9 180 181 222 293 304 305 318 319 320 321 322 323 324 325 327 328 329 332 333 334 335 336 337 451 460 461 462 463 504\"\n",
      "Equivalent paz cmd: paz -z \"0 1 2 9 180 181 222 223 273 304 305 318 319 320 321 322 323 324 325 326 327 328 329 330 331 332 333 334 335 336 337 338 340 451 457 460 461 462 463 464 465 504 506\"\n",
      "Equivalent paz cmd: paz -z \"0 1 2 222 273 274 304 305 319 320 321 322 323 324 325 326 327 328 329 330 332 333 334 335 336 337 451 460 461 462 463 464 465\"\n",
      "Equivalent paz cmd: paz -z \"0 1 2 178 179 180 181 222 273 274 304 305 319 320 323 324 325 326 327 328 329 330 331 332 333 334 335 336 337 338 458 460 461 462 463 464 465\"\n",
      "Equivalent paz cmd: paz -z \"0 1 2 101 102 105 106 175 176 177 178 179 180 181 222 273 274 304 305 319 320 323 324 326 327 328 329 330 331 332 333 334 335 336 337 338 457 458 460 461 462 463 464 465\"\n",
      "Equivalent paz cmd: paz -z \"0 1 2 9 101 175 176 177 179 180 181 222 223 273 274 280 285 304 305 319 320 323 324 325 326 327 328 329 330 331 332 333 334 335 336 337 338 339 340 341 451 456 457 458 459 460 461 462 463 464 465 466 504 506\"\n",
      "Equivalent paz cmd: paz -z \"0 1 2 222 273 274 304 305 319 320 323 324 325 327 328 329 330 332 333 334 335 336 337 338 460 461 462 464 465\"\n",
      "Equivalent paz cmd: paz -z \"0 1 2 175 176 180 181 222 273 274 304 305 319 320 323 324 325 327 328 329 330 332 333 334 335 336 337 338 458 460 461 462 463 464 465\"\n",
      "Equivalent paz cmd: paz -z \"0 1 2 222 273 274 304 305 319 320 322 323 324 325 327 328 329 332 333 335 336 337 338 460 461 464 465\"\n",
      "Equivalent paz cmd: paz -z \"0 1 2 222 273 274 304 305 319 320 323 324 325 328 332 333 336 337 338\"\n",
      "Equivalent paz cmd: paz -z \"0 1 2 222 273 274 304 305 319 320 323 324 325 327 328 329 332 333 334 336 337 338 460 461 464\"\n",
      "Equivalent paz cmd: paz -z \"0 1 2 222 273 274 304 305 319 320 322 323 324 325 328 332 333 334 336 337 460 461 464 465\"\n",
      "Equivalent paz cmd: paz -z \"0 1 2 222 273 274 304 305 319 320 323 324 325 328 329 332 333 334 336 337 460 461 462 464 465\"\n",
      "Equivalent paz cmd: paz -z \"0 1 2 9 222 223 273 274 280 304 305 319 320 321 322 323 324 325 327 328 332 333 334 336 337 460 461 462 464 465 504\"\n",
      "Equivalent paz cmd: paz -z \"0 1 2 9 222 223 273 274 280 304 305 319 320 321 322 323 324 325 327 328 332 333 334 336 337 451 504 506\"\n",
      "Equivalent paz cmd: paz -z \"0 1 2 9 222 223 273 274 280 281 304 305 319 320 321 322 323 324 325 328 332 333 334 461 504\"\n",
      "Equivalent paz cmd: paz -z \"0 1 2 9 222 223 273 274 279 280 304 305 318 319 320 321 322 323 324 325 327 328 329 330 332 333 334 336 337 451 461 462 504 506\"\n",
      "Equivalent paz cmd: paz -z \"0 1 2 9 222 223 273 274 279 280 304 305 318 319 320 321 322 323 324 325 327 333 334 336 337 461 462 504 506\"\n",
      "Equivalent paz cmd: paz -z \"0 1 2 9 10 222 223 273 274 279 280 285 304 305 318 319 320 321 322 323 324 325 327 333 334 336 337 451 461 504 506\"\n",
      "Equivalent paz cmd: paz -z \"0 1 2 9 10 222 223 273 274 279 280 281 288 304 305 318 319 320 321 322 323 324 325 327 333 334 336 337 451 452 461 504 506\"\n",
      "Equivalent paz cmd: paz -z \"0 1 2 7 8 9 10 222 223 273 274 279 280 281 282 284 285 288 289 304 305 318 319 320 321 322 323 324 325 326 327 333 334 336 337 397 398 404 405 406 451 452 502 504 505 506 508\"\n",
      "Equivalent paz cmd: paz -z \"0 1 2 9 10 222 223 273 274 279 280 281 285 288 289 304 305 318 319 320 321 322 323 324 325 327 333 334 336 337 451 452 504 506\"\n",
      "Equivalent paz cmd: paz -z \"0 1 2 9 10 222 223 273 274 279 280 281 285 286 304 305 318 319 320 321 322 323 324 325 327 328 329 330 333 334 335 336 337 340 341 451 452 504 506\"\n",
      "Equivalent paz cmd: paz -z \"0 1 2 9 10 222 223 273 274 279 280 281 282 283 285 304 305 318 319 320 321 322 323 324 325 327 328 329 333 334 336 337 338 451 452 504 506\"\n",
      "Equivalent paz cmd: paz -z \"0 1 2 9 222 273 274 280 281 282 304 305 318 319 320 321 322 323 324 325 327 333 334 336 337 451 504\"\n",
      "Equivalent paz cmd: paz -z \"0 1 2 9 10 222 223 273 274 279 280 281 282 283 285 288 304 305 318 319 320 321 322 323 324 325 326 327 328 329 330 333 334 335 336 337 339 340 341 451 452 504 506\"\n",
      "Equivalent paz cmd: paz -z \"0 1 2 9 222 223 273 274 279 280 281 285 304 305 318 319 320 321 322 323 324 325 326 327 328 329 333 334 335 336 337 451 504 506\"\n",
      "Equivalent paz cmd: paz -z \"0 1 2 6 7 8 9 10 11 104 222 223 273 274 279 280 281 282 283 284 285 286 289 290 291 294 304 305 318 319 320 321 322 323 324 325 326 327 328 329 330 331 333 334 335 336 337 338 339 340 341 342 343 344 397 398 399 401 402 403 404 405 406 450 451 452 453 458 463 464 502 503 504 505 506 507 508 510\"\n",
      "Equivalent paz cmd: paz -z \"0 1 2 9 222 223 273 274 279 280 281 282 283 304 305 318 319 320 321 322 323 324 325 326 327 328 329 330 333 334 335 336 337 338 451 504 506\"\n",
      "Equivalent paz cmd: paz -z \"0 1 2 9 10 222 223 273 274 279 280 281 282 283 304 305 318 319 320 321 322 323 324 325 326 327 328 329 330 333 334 335 336 337 339 340 341 404 405 451 452 504 506\"\n",
      "Equivalent paz cmd: paz -z \"0 1 2 9 222 223 273 274 279 280 281 282 283 304 305 318 319 320 321 322 323 324 325 326 327 328 329 333 334 335 336 337 451 463 504 506\"\n",
      "Equivalent paz cmd: paz -z \"0 1 2 9 10 222 223 273 274 279 280 281 282 304 305 318 319 320 321 322 323 324 325 326 327 328 329 333 334 335 336 337 340 341 451 452 504 506\"\n",
      "Equivalent paz cmd: paz -z \"0 1 2 9 222 223 273 274 279 280 281 304 305 318 319 320 321 322 323 324 325 327 333 334 335 336 451 504\"\n",
      "Equivalent paz cmd: paz -z \"0 1 2 9 222 223 273 274 279 280 281 282 283 284 289 304 305 318 319 320 321 322 323 324 325 327 328 333 335 336 451 504 506\"\n",
      "Equivalent paz cmd: paz -z \"0 1 2 9 222 223 273 274 279 280 281 282 283 288 304 305 318 319 320 321 322 323 324 325 335 504\"\n",
      "Equivalent paz cmd: paz -z \"0 1 2 9 222 223 273 274 279 280 281 293 304 305 318 319 320 321 322 323 324 325 335 336 504\"\n",
      "Equivalent paz cmd: paz -z \"0 1 2 9 222 223 273 274 279 280 281 282 293 304 305 318 319 320 321 322 323 324 325 334 335 504 506\"\n",
      "Equivalent paz cmd: paz -z \"0 1 2 9 222 223 273 274 279 280 281 282 283 304 305 318 319 320 321 322 323 324 325 504 506\"\n",
      "Equivalent paz cmd: paz -z \"0 1 2 9 10 222 223 273 274 279 280 281 282 283 289 290 304 305 318 319 320 321 323 324 325 332 333 504 506\"\n",
      "Equivalent paz cmd: paz -z \"0 1 2 9 222 273 274 280 281 304 305 318 319 320 323 324 325 332 333 504\"\n",
      "Equivalent paz cmd: paz -z \"0 1 2 9 222 223 273 274 280 281 304 305 318 319 320 323 324 325 332 333 335 504 506\"\n",
      "Equivalent paz cmd: paz -z \"0 1 2 9 222 223 273 274 279 280 281 304 305 317 318 319 320 323 324 325 327 328 332 333 335 336 337 447 504 506\"\n",
      "Equivalent paz cmd: paz -z \"0 1 2 9 222 223 273 280 281 304 305 317 318 319 320 323 324 325 327 332 333 335 336 447 504 506\"\n",
      "Equivalent paz cmd: paz -z \"0 1 2 9 222 223 274 280 281 282 304 305 318 319 320 321 323 324 325 327 328 332 333 335 336 337 460 504\"\n",
      "Equivalent paz cmd: paz -z \"0 1 2 180 222 273 280 281 304 305 318 319 320 323 324 325 326 327 328 329 332 333 334 335 336 337 338 460 461 504\"\n",
      "Equivalent paz cmd: paz -z \"0 1 2 9 180 222 223 273 274 279 280 281 304 305 318 319 320 321 323 324 325 326 327 328 329 332 333 334 335 336 337 338 460 461 504\"\n",
      "Equivalent paz cmd: paz -z \"0 1 2 9 180 222 223 273 274 280 281 282 291 304 305 318 319 320 321 323 324 325 326 327 328 329 330 332 333 334 335 336 337 338 460 461 504\"\n",
      "Equivalent paz cmd: paz -z \"0 1 2 180 181 222 273 280 281 282 304 305 318 319 320 321 323 324 325 326 327 328 329 330 332 333 334 335 336 337 338 460 461 463 464 504\"\n",
      "Equivalent paz cmd: paz -z \"0 1 2 175 180 181 222 280 281 304 305 318 319 320 323 324 325 326 327 328 329 330 332 333 334 335 336 337 338 460 461 462 463 464\"\n",
      "Equivalent paz cmd: paz -z \"0 1 2 177 222 280 304 305 318 319 320 323 324 325 326 327 328 329 330 332 333 334 335 336 337 338 457 463 464 465\"\n",
      "Equivalent paz cmd: paz -z \"0 1 2 52 97 101 102 105 106 176 177 178 179 180 181 222 273 274 279 280 304 305 318 319 320 323 324 325 326 327 328 329 330 332 333 334 335 336 337 338 457 458 460 461 462 463 464 465\"\n",
      "Equivalent paz cmd: paz -z \"0 1 2 9 52 101 102 105 106 177 178 179 180 181 222 223 273 274 279 280 281 282 283 304 305 318 319 320 323 324 325 326 327 328 329 330 331 332 333 334 335 336 337 340 341 457 458 460 461 462 463 464 465 504 506\"\n",
      "Equivalent paz cmd: paz -z \"0 1 2 222 273 274 280 281 304 305 318 319 320 323 324 325 326 327 328 329 332 333 334 335 336 337 460 461 463 464 504\"\n",
      "Equivalent paz cmd: paz -z \"0 1 2 9 222 223 273 274 279 280 281 304 305 318 319 320 322 323 324 325 326 327 328 329 332 333 334 335 336 460 461 504 506\"\n",
      "Equivalent paz cmd: paz -z \"0 1 2 9 222 223 273 274 279 280 304 305 318 319 320 322 323 324 325 326 327 328 329 330 332 333 334 335 336 337 338 461 462 463 464 504 506\"\n",
      "Equivalent paz cmd: paz -z \"0 1 2 51 52 102 103 179 180 222 273 274 279 282 283 304 305 318 319 320 322 323 324 325 326 327 328 329 330 332 333 334 335 336 337 359 360 460 461 462 463 464 504\"\n",
      "Equivalent paz cmd: paz -z \"0 1 2 51 52 102 103 179 180 222 273 274 280 282 283 304 305 318 319 320 322 323 324 325 327 328 329 330 332 333 334 335 336 337 338 359 360 461 462 463 464\"\n",
      "Equivalent paz cmd: paz -z \"0 1 2 9 51 52 102 103 179 180 222 273 274 280 282 304 305 318 319 320 321 322 323 324 325 326 327 328 329 330 332 333 334 335 336 337 338 359 360 451 460 461 462 463 464 504\"\n",
      "Equivalent paz cmd: paz -z \"0 1 2 9 179 180 222 223 273 274 279 280 304 305 318 319 320 321 322 323 324 325 326 327 328 329 330 332 333 334 335 336 337 338 451 461 462 463 464 504 506\"\n",
      "Equivalent paz cmd: paz -z \"0 1 2 9 179 180 222 223 273 274 279 280 304 305 318 319 320 321 322 323 324 325 326 327 328 329 332 333 334 335 336 337 451 460 461 462 463 464 504 506\"\n",
      "Equivalent paz cmd: paz -z \"0 1 2 9 222 223 273 274 279 280 304 305 318 319 320 321 322 323 324 325 326 327 328 329 330 332 333 334 335 336 337 338 456 458 460 461 462 463 464 465 504 506\"\n",
      "Equivalent paz cmd: paz -z \"0 1 2 9 222 223 273 274 280 304 305 318 319 320 321 322 323 324 325 326 327 328 329 330 332 333 334 335 336 337 338 451 463 465 504\"\n",
      "Equivalent paz cmd: paz -z \"0 1 2 9 222 223 273 274 280 281 304 305 317 318 319 320 321 322 323 324 325 326 327 328 329 330 332 333 334 335 336 337 338 451 452 463 464 504 506\"\n",
      "Equivalent paz cmd: paz -z \"0 1 2 9 10 222 223 273 274 279 280 281 282 304 305 317 318 319 320 321 322 323 324 325 326 327 328 329 330 332 333 334 335 336 337 338 451 461 463 464 465 504 506\"\n",
      "Equivalent paz cmd: paz -z \"0 1 2 9 10 222 223 273 274 279 280 281 282 283 304 305 317 318 319 320 321 322 323 324 325 326 327 328 333 334 335 336 451 461 462 463 504 506\"\n",
      "Equivalent paz cmd: paz -z \"0 1 2 6 7 8 9 10 104 222 223 273 274 279 280 281 282 283 288 289 290 304 305 317 318 319 320 321 322 323 324 325 326 327 328 329 333 334 335 336 337 338 342 397 398 399 403 404 405 406 447 448 451 452 453 461 462 465 502 503 504 505 506 507 508\"\n",
      "Equivalent paz cmd: paz -z \"0 1 2 6 7 8 9 10 104 222 223 273 274 279 280 281 282 283 288 289 290 304 305 317 318 319 320 321 322 323 324 325 326 327 328 329 333 334 335 336 337 338 342 397 398 399 403 404 405 406 447 448 451 452 453 461 462 502 503 504 505 506 507 508\"\n",
      "Equivalent paz cmd: paz -z \"0 1 2 9 10 222 223 273 274 279 280 281 304 305 317 318 319 320 321 322 323 324 325 326 327 328 329 333 334 335 336 337 338 404 405 447 451 452 461 504 506\"\n",
      "Equivalent paz cmd: paz -z \"0 1 2 9 10 222 223 273 274 279 280 281 304 305 317 318 319 320 321 322 323 324 325 326 327 328 329 332 333 334 337 338 404 447 451 452 461 504 506\"\n",
      "Equivalent paz cmd: paz -z \"0 1 2 9 10 222 223 273 274 279 280 281 282 304 305 317 318 319 320 321 322 323 324 325 326 327 328 332 333 334 404 447 451 452 461 504 506\"\n",
      "Equivalent paz cmd: paz -z \"0 1 2 6 7 8 9 10 11 104 222 223 273 274 279 280 281 282 283 284 288 289 290 291 294 295 296 304 305 317 318 319 320 321 322 323 324 325 326 327 328 332 333 334 340 397 398 399 403 404 405 406 447 448 451 452 453 461 462 502 503 504 505 506 507 508 510\"\n",
      "Equivalent paz cmd: paz -z \"0 1 2 9 10 222 223 273 279 280 281 282 288 304 305 317 318 319 320 321 322 323 324 325 326 327 328 332 333 334 335 404 447 451 452 461 504 506\"\n",
      "Equivalent paz cmd: paz -z \"0 1 2 6 7 8 9 10 104 222 223 273 274 279 280 281 282 289 290 304 305 317 318 319 320 321 322 323 324 325 326 333 334 397 398 399 404 405 406 447 448 451 452 453 502 503 504 505 506 507 508\"\n",
      "Equivalent paz cmd: paz -z \"0 1 2 9 10 222 223 273 279 280 282 304 305 317 318 319 320 321 322 323 324 325 333 334 335 447 451 452 504 506\"\n",
      "Equivalent paz cmd: paz -z \"0 1 2 9 10 222 223 273 274 279 280 282 283 304 305 317 318 319 320 321 322 323 324 325 333 334 447 451 452 504 506\"\n",
      "Equivalent paz cmd: paz -z \"0 1 2 9 10 222 223 273 274 279 280 281 282 304 305 317 318 319 320 321 322 323 324 325 333 334 447 451 452 504 506\"\n",
      "Equivalent paz cmd: paz -z \"0 1 2 6 7 8 9 10 11 95 96 104 222 223 273 274 279 280 281 282 283 284 289 290 291 294 295 296 304 305 317 318 319 320 321 322 323 324 325 326 327 328 332 333 334 340 341 397 398 399 403 404 405 406 447 448 451 452 453 502 503 504 505 506 507 508 510\"\n",
      "Equivalent paz cmd: paz -z \"0 1 2 9 10 222 223 273 274 280 281 282 304 305 317 318 319 320 321 322 323 324 325 326 327 328 333 334 335 336 447 448 451 452 463 504 506\"\n",
      "Equivalent paz cmd: paz -z \"0 1 2 9 10 222 223 273 274 280 281 282 283 304 305 317 318 319 320 321 322 323 324 325 326 327 328 333 334 335 336 447 448 451 452 504 506\"\n",
      "Updating /tmp/tripletest/zap.fits ... done\n"
     ]
    }
   ],
   "source": [
    "paz(\"/tmp/tripletest/raw_0001.fits\", output=\"/tmp/tripletest/zap.fits\", \n",
    "    r=None, R=\"20\")"
   ]
  },
  {
   "cell_type": "code",
   "execution_count": 7,
   "metadata": {
    "collapsed": true
   },
   "outputs": [],
   "source": [
    "np.searchsorted?"
   ]
  },
  {
   "cell_type": "code",
   "execution_count": 2,
   "metadata": {
    "collapsed": true
   },
   "outputs": [],
   "source": [
    "pickle.dump?"
   ]
  },
  {
   "cell_type": "code",
   "execution_count": 5,
   "metadata": {
    "collapsed": false
   },
   "outputs": [
    {
     "data": {
      "text/plain": [
       "'1.0000000000000000001'"
      ]
     },
     "execution_count": 5,
     "metadata": {},
     "output_type": "execute_result"
    }
   ],
   "source": [
    "repr(1+np.finfo(np.longdouble).eps)"
   ]
  },
  {
   "cell_type": "code",
   "execution_count": 6,
   "metadata": {
    "collapsed": false
   },
   "outputs": [
    {
     "data": {
      "text/plain": [
       "1.0"
      ]
     },
     "execution_count": 6,
     "metadata": {},
     "output_type": "execute_result"
    }
   ],
   "source": [
    "float(1+np.finfo(np.longdouble).eps)"
   ]
  },
  {
   "cell_type": "code",
   "execution_count": 8,
   "metadata": {
    "collapsed": false
   },
   "outputs": [
    {
     "data": {
      "text/plain": [
       "'/export/astron/archibald/.local/lib/python2.7/site-packages/numpy/__init__.pyc'"
      ]
     },
     "execution_count": 8,
     "metadata": {},
     "output_type": "execute_result"
    }
   ],
   "source": [
    "np.__file__"
   ]
  },
  {
   "cell_type": "code",
   "execution_count": 22,
   "metadata": {
    "collapsed": false
   },
   "outputs": [],
   "source": [
    "# make a symlink \"copy\" of a directory tree\n",
    "# directories are real, files are symlinks\n",
    "\n",
    "def split(path):\n",
    "    p = path.split(\"/\")\n",
    "    if p[0]==\"\":\n",
    "        p[0] = \"/\"\n",
    "    return p\n",
    "\n",
    "source = \"/psr_archive/hessels/archibald/0337+17\"\n",
    "destination = \"/data/archibald/0337+1715\"\n",
    "source_split = split(source)\n",
    "for dirName, subdirList, fileList in os.walk(source):\n",
    "    dn_split = split(dirName)\n",
    "    assert dn_split[:len(source_split)] == source_split, \"destination %s is weird\" % (dn_split,)\n",
    "    rel_dn = dn_split[len(source_split):]\n",
    "    target_dn = join(destination,*rel_dn)\n",
    "    if not os.path.exists(target_dn):\n",
    "        os.mkdir(target_dn)\n",
    "        #print \"mkdir\", target_dn\n",
    "    for f in fileList:\n",
    "        sf, tf = join(dirName, f), join(target_dn,f) \n",
    "        os.symlink(sf, tf)\n",
    "        #print \"symlink\", sf, \"->\", tf"
   ]
  },
  {
   "cell_type": "code",
   "execution_count": 21,
   "metadata": {
    "collapsed": false
   },
   "outputs": [],
   "source": [
    "os.mkdir?"
   ]
  },
  {
   "cell_type": "code",
   "execution_count": 34,
   "metadata": {
    "collapsed": false
   },
   "outputs": [],
   "source": [
    "#F = psrchive.Archive_load(\"data/obs/56477.53_AO_1400/singlefrequency/scrunch_0000.ar\")\n",
    "F = psrchive.Archive_load(\"data/obs/56494.49_GBT_1400/onescintle/scrunch_0000.ar\")\n",
    "I = F.get_Integration(0)\n",
    "F_fits = fits.open(\"data/obs/56494.49_GBT_1400/onescintle/scrunch_0000.ar\")"
   ]
  },
  {
   "cell_type": "code",
   "execution_count": 23,
   "metadata": {
    "collapsed": false
   },
   "outputs": [
    {
     "data": {
      "text/plain": [
       "'GBT'"
      ]
     },
     "execution_count": 23,
     "metadata": {},
     "output_type": "execute_result"
    }
   ],
   "source": [
    "F.get_telescope()"
   ]
  },
  {
   "cell_type": "code",
   "execution_count": 24,
   "metadata": {
    "collapsed": false
   },
   "outputs": [],
   "source": [
    "E = I.get_epoch()"
   ]
  },
  {
   "cell_type": "code",
   "execution_count": 25,
   "metadata": {
    "collapsed": false
   },
   "outputs": [
    {
     "data": {
      "text/plain": [
       "(56494, 0.4886506586585616)"
      ]
     },
     "execution_count": 25,
     "metadata": {},
     "output_type": "execute_result"
    }
   ],
   "source": [
    "E.intday(), E.fracday()"
   ]
  },
  {
   "cell_type": "code",
   "execution_count": 26,
   "metadata": {
    "collapsed": false
   },
   "outputs": [
    {
     "data": {
      "text/plain": [
       "0.002732301836043067"
      ]
     },
     "execution_count": 26,
     "metadata": {},
     "output_type": "execute_result"
    }
   ],
   "source": [
    "I.get_folding_period()"
   ]
  },
  {
   "cell_type": "code",
   "execution_count": 27,
   "metadata": {
    "collapsed": false
   },
   "outputs": [
    {
     "data": {
      "text/plain": [
       "1510.6408344515858"
      ]
     },
     "execution_count": 27,
     "metadata": {},
     "output_type": "execute_result"
    }
   ],
   "source": [
    "I.weighted_frequency(0)"
   ]
  },
  {
   "cell_type": "code",
   "execution_count": 28,
   "metadata": {
    "collapsed": false
   },
   "outputs": [
    {
     "data": {
      "text/plain": [
       "(2, 128)"
      ]
     },
     "execution_count": 28,
     "metadata": {},
     "output_type": "execute_result"
    }
   ],
   "source": [
    "F.get_weights().shape"
   ]
  },
  {
   "cell_type": "code",
   "execution_count": 29,
   "metadata": {
    "collapsed": false
   },
   "outputs": [
    {
     "data": {
      "text/plain": [
       "655.9680000000005"
      ]
     },
     "execution_count": 29,
     "metadata": {},
     "output_type": "execute_result"
    }
   ],
   "source": [
    "I.get_duration()"
   ]
  },
  {
   "cell_type": "code",
   "execution_count": 35,
   "metadata": {
    "collapsed": false
   },
   "outputs": [
    {
     "data": {
      "text/plain": [
       "[<matplotlib.lines.Line2D at 0x7f6ce6773e90>]"
      ]
     },
     "execution_count": 35,
     "metadata": {},
     "output_type": "execute_result"
    },
    {
     "data": {
      "image/png": "[encoded data removed]",
      "text/plain": [
       "<matplotlib.figure.Figure at 0x7f6ce66d2590>"
      ]
     },
     "metadata": {},
     "output_type": "display_data"
    }
   ],
   "source": [
    "wfs = [I.weighted_frequency(i) for i in range(F.get_nchan())]\n",
    "plt.plot(wfs,\".\")\n",
    "plt.plot(F_fits['SUBINT'].data['DAT_FREQ'][0],\".\")\n"
   ]
  },
  {
   "cell_type": "code",
   "execution_count": 38,
   "metadata": {
    "collapsed": false
   },
   "outputs": [
    {
     "name": "stdout",
     "output_type": "stream",
     "text": [
      "[1510.6408344515858, 1510.6408344515858, 1510.6408344515858, 1510.6408344515858, 1510.6408344515858, 1510.6408344515858, 1510.6408344515858, 1510.6408344515858, 1510.6408344515858, 1512.784289665465]\n",
      "[ 1102.34375  1108.59375  1114.84375  1121.09375  1127.34375  1133.59375\n",
      "  1139.84375  1146.09375  1153.90625  1158.59375]\n"
     ]
    }
   ],
   "source": [
    "print [I.weighted_frequency(i) for i in range(F.get_nchan())][:10]\n",
    "print F_fits['SUBINT'].data['DAT_FREQ'][0][:10]\n"
   ]
  },
  {
   "cell_type": "code",
   "execution_count": 1,
   "metadata": {
    "collapsed": true
   },
   "outputs": [],
   "source": [
    "import residuals"
   ]
  },
  {
   "cell_type": "code",
   "execution_count": 2,
   "metadata": {
    "collapsed": true
   },
   "outputs": [],
   "source": [
    "r = residuals.read_residuals()"
   ]
  },
  {
   "cell_type": "code",
   "execution_count": 5,
   "metadata": {
    "collapsed": false
   },
   "outputs": [
    {
     "data": {
      "text/plain": [
       "([5, 6, 7, 8, 9, 10, 11, 12, 13], [])"
      ]
     },
     "execution_count": 5,
     "metadata": {},
     "output_type": "execute_result"
    }
   ],
   "source": [
    "pipe.read_manual_zap(\"data/obs/56015.80_AO_1400/raw_0002.ar.paz\")"
   ]
  },
  {
   "cell_type": "code",
   "execution_count": 6,
   "metadata": {
    "collapsed": true
   },
   "outputs": [],
   "source": [
    "F = psrchive.Archive_load(\"data/obs/55962.26_GBT_1400/raw_0000.ar\")"
   ]
  },
  {
   "cell_type": "code",
   "execution_count": null,
   "metadata": {
    "collapsed": true
   },
   "outputs": [],
   "source": [
    "F.get_"
   ]
  }
 ],
 "metadata": {
  "kernelspec": {
   "display_name": "Python 2",
   "language": "python",
   "name": "python2"
  },
  "language_info": {
   "codemirror_mode": {
    "name": "ipython",
    "version": 2
   },
   "file_extension": ".py",
   "mimetype": "text/x-python",
   "name": "python",
   "nbconvert_exporter": "python",
   "pygments_lexer": "ipython2",
   "version": "2.7.6"
  }
 },
 "nbformat": 4,
 "nbformat_minor": 1
}
