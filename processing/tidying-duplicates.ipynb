{
 "cells": [
  {
   "cell_type": "code",
   "execution_count": 1,
   "metadata": {
    "collapsed": false
   },
   "outputs": [
    {
     "data": {
      "text/plain": [
       "<matplotlib.figure.Figure at 0x7f14fc557d90>"
      ]
     },
     "metadata": {},
     "output_type": "display_data"
    }
   ],
   "source": [
    "import os\n",
    "from glob import glob\n",
    "import subprocess\n",
    "import shutil\n",
    "import traceback\n",
    "import random\n",
    "import pickle\n",
    "from os.path import join\n",
    "\n",
    "import joblib\n",
    "from concurrent.futures import ProcessPoolExecutor\n",
    "\n",
    "from backports import tempfile\n",
    "\n",
    "import matplotlib\n",
    "%matplotlib inline\n",
    "matplotlib.rcParams['savefig.dpi'] = 144\n",
    "import numpy as np\n",
    "import numpy.ma as ma\n",
    "import matplotlib.pyplot as plt\n",
    "plt.viridis()\n",
    "\n",
    "import astropy.io.fits\n",
    "\n",
    "import psrchive\n",
    "\n",
    "import pipe"
   ]
  },
  {
   "cell_type": "code",
   "execution_count": 2,
   "metadata": {
    "collapsed": false
   },
   "outputs": [
    {
     "data": {
      "text/plain": [
       "['puppi_56554_J0337+1715_0222_cal_0001.fits',\n",
       " 'puppi_56554_J0337+1715_0223_0001.fits',\n",
       " 'puppi_56554_J0337+1715_0223_0002.fits',\n",
       " 'puppi_56554_J0337+1715_0223_0003.fits',\n",
       " 'puppi_56554_J0337+1715_0224_cal_0001.fits',\n",
       " 'puppi_56554_J0337+1715_0225_0001.fits',\n",
       " 'puppi_56584_J0337+1715_0589_cal_0001.fits',\n",
       " 'puppi_56584_J0337+1715_0590_0001.fits',\n",
       " 'puppi_56584_J0337+1715_0590_0002.fits',\n",
       " 'puppi_56584_J0337+1715_0590_0003.fits',\n",
       " 'puppi_56584_J0337+1715_0591_cal_0001.fits',\n",
       " 'puppi_56584_J0337+1715_0592_0001.fits',\n",
       " 'puppi_56599_J0337+1715_0118_cal_0001.fits',\n",
       " 'puppi_56599_J0337+1715_0119_0001.fits',\n",
       " 'puppi_56599_J0337+1715_0119_0002.fits',\n",
       " 'puppi_56599_J0337+1715_0119_0003.fits',\n",
       " 'puppi_56599_J0337+1715_0120_cal_0001.fits',\n",
       " 'puppi_56599_J0337+1715_0121_0001.fits',\n",
       " 'puppi_56620_J0337+1715_0357_cal_0001.fits',\n",
       " 'puppi_56620_J0337+1715_0358_0001.fits',\n",
       " 'puppi_56620_J0337+1715_0358_0002.fits',\n",
       " 'puppi_56620_J0337+1715_0358_0003.fits',\n",
       " 'puppi_56620_J0337+1715_0359_cal_0001.fits',\n",
       " 'puppi_56620_J0337+1715_0360_0001.fits',\n",
       " 'puppi_56645_J0337+1715_0558_cal_0001.fits',\n",
       " 'puppi_56645_J0337+1715_0559_0001.fits',\n",
       " 'puppi_56645_J0337+1715_0559_0002.fits',\n",
       " 'puppi_56645_J0337+1715_0559_0003.fits',\n",
       " 'puppi_56645_J0337+1715_0560_cal_0001.fits',\n",
       " 'puppi_56645_J0337+1715_0561_0001.fits',\n",
       " 'puppi_56736_J0337+1715_0279_cal_0001.fits',\n",
       " 'puppi_56736_J0337+1715_0280_0001.fits',\n",
       " 'puppi_56736_J0337+1715_0280_0002.fits',\n",
       " 'puppi_56736_J0337+1715_0280_0003.fits',\n",
       " 'puppi_56736_J0337+1715_0281_cal_0001.fits',\n",
       " 'puppi_56736_J0337+1715_0282_0001.fits']"
      ]
     },
     "execution_count": 2,
     "metadata": {},
     "output_type": "execute_result"
    }
   ],
   "source": [
    "puppi1 = \"/psr_archive/hessels/archibald/0337+17/raw/AO\"\n",
    "puppi2 = \"/psr_archive/hessels/archibald/0337+17/raw/AO/from_UBC\"\n",
    "\n",
    "p1files = sorted(os.path.basename(i) for i in glob(join(puppi1,\"*\")))\n",
    "p2files = sorted(os.path.basename(i) for i in glob(join(puppi2,\"*\")))\n",
    "\n",
    "commonfiles = [f for f in p1files if f in p2files]\n",
    "commonfiles"
   ]
  },
  {
   "cell_type": "code",
   "execution_count": 11,
   "metadata": {
    "collapsed": false
   },
   "outputs": [],
   "source": [
    "f = commonfiles[1]\n",
    "F = psrchive.Archive_load(join(puppi1,f))\n",
    "G = psrchive.Archive_load(join(puppi2,f))"
   ]
  },
  {
   "cell_type": "code",
   "execution_count": 15,
   "metadata": {
    "collapsed": false
   },
   "outputs": [
    {
     "data": {
      "image/png": "[encoded data removed]",
      "text/plain": [
       "<matplotlib.figure.Figure at 0x7fc6707e7c90>"
      ]
     },
     "metadata": {},
     "output_type": "display_data"
    },
    {
     "data": {
      "image/png": "[encoded data removed]",
      "text/plain": [
       "<matplotlib.figure.Figure at 0x7fc6704180d0>"
      ]
     },
     "metadata": {},
     "output_type": "display_data"
    }
   ],
   "source": [
    "plt.imshow(F.get_weights())\n",
    "plt.gca().set_aspect('auto')\n",
    "plt.figure()\n",
    "plt.imshow(G.get_weights())\n",
    "plt.gca().set_aspect('auto')\n"
   ]
  },
  {
   "cell_type": "code",
   "execution_count": 18,
   "metadata": {
    "collapsed": true
   },
   "outputs": [],
   "source": [
    "Ff = astropy.io.fits.open(join(puppi1,f))\n",
    "Gf = astropy.io.fits.open(join(puppi2,f))\n"
   ]
  },
  {
   "cell_type": "code",
   "execution_count": 26,
   "metadata": {
    "collapsed": false
   },
   "outputs": [
    {
     "name": "stdout",
     "output_type": "stream",
     "text": [
      "[ ('Fri Nov  8 15:09:17 2013', 'UNKNOWN                                                                         ', 'FluxDen ', 'AABBCRCI', 64, 4, 2048, 2048, 1.3342496249791094e-06, 1380.78125, 512, -1.5625, 0.0, 0.0, 0, 0, 0, 0, 0, 'UNSET                           ', 'NONE                            ', 'NONE                            ', 'NONE                            ', 'NONE                            ', 'NONE                            ', 0, 'NONE                            ', 0)\n",
      " ('Mon Dec  2 11:18:52 2013', 'psredit -m -c rcvr:name=L-wide                                                  ', 'FluxDen ', 'AABBCRCI', 64, 4, 2048, 2048, 1.3342496249810353e-06, 1380.78125, 512, -1.5625, 0.0, 0.0, 0, 0, 0, 0, 0, 'UNSET                           ', 'NONE                            ', 'NONE                            ', 'NONE                            ', 'NONE                            ', 'NONE                            ', 0, 'NONE                            ', 0)]\n"
     ]
    }
   ],
   "source": [
    "print Gf[1].data"
   ]
  },
  {
   "cell_type": "code",
   "execution_count": 23,
   "metadata": {
    "collapsed": false
   },
   "outputs": [
    {
     "name": "stdout",
     "output_type": "stream",
     "text": [
      "Filename: /psr_archive/hessels/archibald/0337+17/raw/AO/from_UBC/puppi_56554_J0337+1715_0223_0001.fits\n",
      "No.    Name         Type      Cards   Dimensions   Format\n",
      "0    PRIMARY     PrimaryHDU      64   ()              \n",
      "1    HISTORY     BinTableHDU     71   2R x 28C     [24A, 80A, 8A, 8A, 1I, 1I, 1I, 1I, 1D, 1D, 1I, 1D, 1D, 1D, 1I, 1I, 1I, 1I, 1I, 32A, 32A, 32A, 32A, 32A, 32A, 1I, 32A, 1I]   \n",
      "2    PSRPARAM    BinTableHDU     12   31R x 1C     [128A]   \n",
      "3    POLYCO      BinTableHDU     38   2R x 13C     [24A, 16A, 1I, 1I, 1I, 8A, 1D, 1D, 1D, 1D, 1D, 1D, 15D]   \n",
      "4    SUBINT      BinTableHDU     87   64R x 20C    [1D, 1D, 1D, 1D, 1D, 1D, 1D, 1D, 1E, 1E, 1E, 1E, 1E, 1D, 1D, 512E, 512E, 2048E, 2048E, 4194304I]   \n"
     ]
    }
   ],
   "source": [
    "Gf.info()"
   ]
  },
  {
   "cell_type": "code",
   "execution_count": 3,
   "metadata": {
    "collapsed": false
   },
   "outputs": [],
   "source": [
    "for f in commonfiles:\n",
    "    shutil.move(join(puppi2,f),join(puppi1,\"duplicates\",f))"
   ]
  },
  {
   "cell_type": "code",
   "execution_count": null,
   "metadata": {
    "collapsed": true
   },
   "outputs": [],
   "source": []
  }
 ],
 "metadata": {
  "kernelspec": {
   "display_name": "Python 2",
   "language": "python",
   "name": "python2"
  },
  "language_info": {
   "codemirror_mode": {
    "name": "ipython",
    "version": 2
   },
   "file_extension": ".py",
   "mimetype": "text/x-python",
   "name": "python",
   "nbconvert_exporter": "python",
   "pygments_lexer": "ipython2",
   "version": "2.7.6"
  }
 },
 "nbformat": 4,
 "nbformat_minor": 1
}
