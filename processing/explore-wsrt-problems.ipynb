{
 "cells": [
  {
   "cell_type": "code",
   "execution_count": 1,
   "metadata": {
    "collapsed": true
   },
   "outputs": [],
   "source": [
    "%load_ext autoreload\n",
    "\n",
    "%autoreload 2"
   ]
  },
  {
   "cell_type": "code",
   "execution_count": 2,
   "metadata": {
    "collapsed": true
   },
   "outputs": [],
   "source": [
    "import os\n",
    "from glob import glob\n",
    "import subprocess\n",
    "import shutil\n",
    "import traceback\n",
    "import random\n",
    "import pickle\n",
    "\n",
    "import joblib\n",
    "from concurrent.futures import ProcessPoolExecutor\n",
    "\n",
    "from backports import tempfile\n",
    "\n",
    "import matplotlib\n",
    "matplotlib.rcParams['savefig.dpi'] = 144\n",
    "%matplotlib inline\n",
    "import numpy as np\n",
    "import matplotlib.pyplot as plt\n",
    "\n",
    "import psrchive\n",
    "\n",
    "import pipe"
   ]
  },
  {
   "cell_type": "code",
   "execution_count": 68,
   "metadata": {
    "collapsed": false
   },
   "outputs": [],
   "source": [
    "wsrt_raw_location = \"/nimrod1/aarchiba/0337+17/WSRT-raw\"\n",
    "wsrt_obs_glob = wsrt_raw_location+\"/*/*0337*/\"\n",
    "\n",
    "td = \"/tmp/wsrt_problem\"\n",
    "\n",
    "class DiscontinuityError(ValueError):\n",
    "    pass\n",
    "\n",
    "def max_smearing(F,G):\n",
    "    P = F.get_Integration(0).get_folding_period()\n",
    "    deltas = []\n",
    "    for i in range(len(F)):\n",
    "        d = (G.get_Integration(i).get_epoch()-F.get_Integration(i).get_epoch()).in_days()*86400\n",
    "        deltas.append(d/P)\n",
    "    deltas = np.array(deltas)\n",
    "\n",
    "    smear = np.diff(deltas)\n",
    "    smear = (smear+0.5) % 1 - 0.5\n",
    "    \n",
    "    return np.amax(smear)\n",
    "\n",
    "\n",
    "def process_wsrt_day(d):\n",
    "    success_file = d+\"/success\"\n",
    "    failure_file = d+\"/failure.pickle\"\n",
    "    if os.path.exists(td):\n",
    "        shutil.rmtree(td)\n",
    "    os.mkdir(td)\n",
    "    try:\n",
    "        extra_info = dict(day=d, max_smearing=0)\n",
    "        for s in glob(d+\"/Band*\"):\n",
    "            b = s.split(\"/\")[-1]\n",
    "            tadd = td+\"/\"+b+\".tadd.ar\"\n",
    "            pipe.check_call([\"psradd\", \"-o\", tadd]+glob(s+\"/u*.ar\"))\n",
    "            F = psrchive.Archive_load(tadd)\n",
    "\n",
    "            mjd = (F.get_Integration(0).get_start_time().in_days()\n",
    "                +F.get_Integration(len(F)-1).get_end_time().in_days())/2\n",
    "            par = par_db.get_par_for(mjd)\n",
    "            pipe.check_call([\"pam\", \"-E\", par, \"-e\", \"align.ar\", tadd])\n",
    "            align = td+\"/\"+b+\".tadd.align.ar\"\n",
    "            G = psrchive.Archive_load(align)\n",
    "\n",
    "            s = max_smearing(F,G)\n",
    "            extra_info[\"max_smearing\"] = max(extra_info[\"max_smearing\"], s)\n",
    "            extra_info[\"mjd\"] = mjd\n",
    "            extra_info[\"par\"] = par\n",
    "\n",
    "            del F\n",
    "            del G\n",
    "        pipe.check_call([\"psradd\", \"-o\", td+\"/raw.ar\", \"-R\"]+glob(td+\"/Band*.tadd.align.ar\"))\n",
    "        shutil.copy(td+\"/raw.ar\", \"raw.ar\")\n",
    "        F = psrchive.Archive_load(td+\"/raw.ar\")\n",
    "        l = (F.end_time()-F.start_time()).in_seconds()\n",
    "        M = \"%.1f\" % (((F.end_time()+F.start_time())).in_days()/2)\n",
    "        #T = F.get_nsubint()*F.get_first_Integration().get_duration()\n",
    "        T = F.integration_length()\n",
    "        extra_info[\"length\"] = T\n",
    "        extra_info[\"centre_frequency\"] = F.get_centre_frequency()\n",
    "        extra_info[\"P\"] = F.get_Integration(0).get_folding_period()\n",
    "        extra_info[\"file\"] = M\n",
    "        del F\n",
    "        if np.abs(l-T)> 5:\n",
    "            raise DiscontinuityError(\"Observation in directory %s appears not to be contiguous: \"\n",
    "                             \"total integration time %f but start-to-end time %f\"\n",
    "                             % (d,T,l))\n",
    "        shutil.copy(td+\"/raw.ar\", wsrt_data+\"wsrt_%s.raw.ar\" % M)\n",
    "        with open(success_file,\"wb\") as f:\n",
    "            pickle.dump(extra_info, f)\n",
    "        return extra_info\n",
    "    except Exception as e:\n",
    "        with open(failure_file, \"wb\") as f:\n",
    "            pickle.dump(e,f)\n",
    "        raise\n"
   ]
  },
  {
   "cell_type": "code",
   "execution_count": 69,
   "metadata": {
    "collapsed": false,
    "scrolled": false
   },
   "outputs": [
    {
     "ename": "CalledProcessError",
     "evalue": "CalledProcessError(\n            cmd=['psradd', '-o', '/tmp/wsrt_problem/raw.ar', '-R', '/tmp/wsrt_problem/Band6.tadd.align.ar', '/tmp/wsrt_problem/Band0.tadd.align.ar', '/tmp/wsrt_problem/Band2.tadd.align.ar', '/tmp/wsrt_problem/Band5.tadd.align.ar', '/tmp/wsrt_problem/Band3.tadd.align.ar', '/tmp/wsrt_problem/Band1.tadd.align.ar', '/tmp/wsrt_problem/Band7.tadd.align.ar', '/tmp/wsrt_problem/Band4.tadd.align.ar'],\n            returncode=255,\n            output='''''',\n            error='''psradd: shell not available; insufficient resources\n''')",
     "output_type": "error",
     "traceback": [
      "\u001b[1;31m---------------------------------------------------------------------------\u001b[0m",
      "\u001b[1;31mCalledProcessError\u001b[0m                        Traceback (most recent call last)",
      "\u001b[1;32m<ipython-input-69-db12bf2b956f>\u001b[0m in \u001b[0;36m<module>\u001b[1;34m()\u001b[0m\n\u001b[0;32m      1\u001b[0m \u001b[0md\u001b[0m \u001b[1;33m=\u001b[0m \u001b[1;34m\"/nimrod1/aarchiba/0337+17/WSRT-raw/11Apr2012/J0337+1715-1380/\"\u001b[0m\u001b[1;33m\u001b[0m\u001b[0m\n\u001b[0;32m      2\u001b[0m \u001b[1;33m\u001b[0m\u001b[0m\n\u001b[1;32m----> 3\u001b[1;33m \u001b[0mprocess_wsrt_day\u001b[0m\u001b[1;33m(\u001b[0m\u001b[0md\u001b[0m\u001b[1;33m)\u001b[0m\u001b[1;33m\u001b[0m\u001b[0m\n\u001b[0m",
      "\u001b[1;32m<ipython-input-68-f4a0ca8c5b3c>\u001b[0m in \u001b[0;36mprocess_wsrt_day\u001b[1;34m(d)\u001b[0m\n\u001b[0;32m     49\u001b[0m             \u001b[1;32mdel\u001b[0m \u001b[0mF\u001b[0m\u001b[1;33m\u001b[0m\u001b[0m\n\u001b[0;32m     50\u001b[0m             \u001b[1;32mdel\u001b[0m \u001b[0mG\u001b[0m\u001b[1;33m\u001b[0m\u001b[0m\n\u001b[1;32m---> 51\u001b[1;33m         \u001b[0mpipe\u001b[0m\u001b[1;33m.\u001b[0m\u001b[0mcheck_call\u001b[0m\u001b[1;33m(\u001b[0m\u001b[1;33m[\u001b[0m\u001b[1;34m\"psradd\"\u001b[0m\u001b[1;33m,\u001b[0m \u001b[1;34m\"-o\"\u001b[0m\u001b[1;33m,\u001b[0m \u001b[0mtd\u001b[0m\u001b[1;33m+\u001b[0m\u001b[1;34m\"/raw.ar\"\u001b[0m\u001b[1;33m,\u001b[0m \u001b[1;34m\"-R\"\u001b[0m\u001b[1;33m]\u001b[0m\u001b[1;33m+\u001b[0m\u001b[0mglob\u001b[0m\u001b[1;33m(\u001b[0m\u001b[0mtd\u001b[0m\u001b[1;33m+\u001b[0m\u001b[1;34m\"/Band*.tadd.align.ar\"\u001b[0m\u001b[1;33m)\u001b[0m\u001b[1;33m)\u001b[0m\u001b[1;33m\u001b[0m\u001b[0m\n\u001b[0m\u001b[0;32m     52\u001b[0m         \u001b[0mshutil\u001b[0m\u001b[1;33m.\u001b[0m\u001b[0mcopy\u001b[0m\u001b[1;33m(\u001b[0m\u001b[0mtd\u001b[0m\u001b[1;33m+\u001b[0m\u001b[1;34m\"/raw.ar\"\u001b[0m\u001b[1;33m,\u001b[0m \u001b[1;34m\"raw.ar\"\u001b[0m\u001b[1;33m)\u001b[0m\u001b[1;33m\u001b[0m\u001b[0m\n\u001b[0;32m     53\u001b[0m         \u001b[0mF\u001b[0m \u001b[1;33m=\u001b[0m \u001b[0mpsrchive\u001b[0m\u001b[1;33m.\u001b[0m\u001b[0mArchive_load\u001b[0m\u001b[1;33m(\u001b[0m\u001b[0mtd\u001b[0m\u001b[1;33m+\u001b[0m\u001b[1;34m\"/raw.ar\"\u001b[0m\u001b[1;33m)\u001b[0m\u001b[1;33m\u001b[0m\u001b[0m\n",
      "\u001b[1;32m/home/aarchiba/projects/triplesystem/processing/pipe.py\u001b[0m in \u001b[0;36mcheck_call\u001b[1;34m(cmd, stderr_re, shell, cwd)\u001b[0m\n\u001b[0;32m    248\u001b[0m     \u001b[1;32mdel\u001b[0m \u001b[0mP\u001b[0m\u001b[1;33m\u001b[0m\u001b[0m\n\u001b[0;32m    249\u001b[0m     \u001b[1;32mif\u001b[0m \u001b[0mreturncode\u001b[0m \u001b[1;32mor\u001b[0m \u001b[1;33m(\u001b[0m\u001b[0mstderr_re\u001b[0m \u001b[1;32mis\u001b[0m \u001b[1;32mnot\u001b[0m \u001b[0mNone\u001b[0m \u001b[1;32mand\u001b[0m \u001b[0mre\u001b[0m\u001b[1;33m.\u001b[0m\u001b[0msearch\u001b[0m\u001b[1;33m(\u001b[0m\u001b[0mstderr_re\u001b[0m\u001b[1;33m,\u001b[0m \u001b[0merror\u001b[0m\u001b[1;33m)\u001b[0m\u001b[1;33m)\u001b[0m\u001b[1;33m:\u001b[0m\u001b[1;33m\u001b[0m\u001b[0m\n\u001b[1;32m--> 250\u001b[1;33m         \u001b[1;32mraise\u001b[0m \u001b[0mCalledProcessError\u001b[0m\u001b[1;33m(\u001b[0m\u001b[0mcmd\u001b[0m\u001b[1;33m,\u001b[0m \u001b[0mreturncode\u001b[0m\u001b[1;33m,\u001b[0m \u001b[0moutput\u001b[0m\u001b[1;33m=\u001b[0m\u001b[0moutput\u001b[0m\u001b[1;33m,\u001b[0m \u001b[0merror\u001b[0m\u001b[1;33m=\u001b[0m\u001b[0merror\u001b[0m\u001b[1;33m)\u001b[0m\u001b[1;33m\u001b[0m\u001b[0m\n\u001b[0m\u001b[0;32m    251\u001b[0m \u001b[1;33m\u001b[0m\u001b[0m\n\u001b[0;32m    252\u001b[0m \u001b[1;33m\u001b[0m\u001b[0m\n",
      "\u001b[1;31mCalledProcessError\u001b[0m: CalledProcessError(\n            cmd=['psradd', '-o', '/tmp/wsrt_problem/raw.ar', '-R', '/tmp/wsrt_problem/Band6.tadd.align.ar', '/tmp/wsrt_problem/Band0.tadd.align.ar', '/tmp/wsrt_problem/Band2.tadd.align.ar', '/tmp/wsrt_problem/Band5.tadd.align.ar', '/tmp/wsrt_problem/Band3.tadd.align.ar', '/tmp/wsrt_problem/Band1.tadd.align.ar', '/tmp/wsrt_problem/Band7.tadd.align.ar', '/tmp/wsrt_problem/Band4.tadd.align.ar'],\n            returncode=255,\n            output='''''',\n            error='''psradd: shell not available; insufficient resources\n''')"
     ]
    }
   ],
   "source": [
    "d = \"/nimrod1/aarchiba/0337+17/WSRT-raw/11Apr2012/J0337+1715-1380/\"\n",
    "\n",
    "process_wsrt_day(d)"
   ]
  },
  {
   "cell_type": "markdown",
   "metadata": {
    "collapsed": false
   },
   "source": [
    "##### pipe.__file__"
   ]
  },
  {
   "cell_type": "code",
   "execution_count": 34,
   "metadata": {
    "collapsed": true
   },
   "outputs": [],
   "source": [
    "par_db = pipe.EphemerisCollection(directory=\"/nimrod1/aarchiba/0337+17/ephemerides/\")"
   ]
  },
  {
   "cell_type": "code",
   "execution_count": 37,
   "metadata": {
    "collapsed": false
   },
   "outputs": [],
   "source": [
    "inf = \"/tmp/wsrt_problem/Band4.tadd.ar\"\n",
    "outf = \"/tmp/wsrt_problem/Band4.tadd.align\"\n",
    "F = psrchive.Archive_load(inf)\n",
    "mjd = (F.get_Integration(0).get_start_time().in_days()\n",
    "    +F.get_Integration(len(F)-1).get_end_time().in_days())/2\n",
    "par = par_db.get_par_for(mjd)\n",
    "pipe.check_call([\"pam\", \"-E\", par, \"-e\", \"align\", inf])\n",
    "G = psrchive.Archive_load(outf)"
   ]
  },
  {
   "cell_type": "code",
   "execution_count": 38,
   "metadata": {
    "collapsed": true
   },
   "outputs": [],
   "source": [
    "I = F.get_Integration(0)\n",
    "J = G.get_Integration(0)"
   ]
  },
  {
   "cell_type": "code",
   "execution_count": 46,
   "metadata": {
    "collapsed": false
   },
   "outputs": [
    {
     "name": "stdout",
     "output_type": "stream",
     "text": [
      "0.00237752092653\n"
     ]
    }
   ],
   "source": [
    "print (J.get_epoch()-I.get_epoch()).in_days()*86400"
   ]
  },
  {
   "cell_type": "code",
   "execution_count": 62,
   "metadata": {
    "collapsed": false
   },
   "outputs": [
    {
     "data": {
      "text/plain": [
       "[<matplotlib.lines.Line2D at 0x34e52f10>]"
      ]
     },
     "execution_count": 62,
     "metadata": {},
     "output_type": "execute_result"
    },
    {
     "data": {
      "image/png": "[encoded data removed]",
      "text/plain": [
       "<matplotlib.figure.Figure at 0x354def10>"
      ]
     },
     "metadata": {},
     "output_type": "display_data"
    },
    {
     "data": {
      "image/png": "[encoded data removed]",
      "text/plain": [
       "<matplotlib.figure.Figure at 0x354d9b90>"
      ]
     },
     "metadata": {},
     "output_type": "display_data"
    }
   ],
   "source": [
    "P = I.get_folding_period()\n",
    "deltas = []\n",
    "ts = []\n",
    "mjd0 = None \n",
    "for i in range(len(F)):\n",
    "    if mjd0 is None:\n",
    "        mjd0 = F.get_Integration(i).get_epoch().in_days()\n",
    "    t = F.get_Integration(i).get_epoch().in_days() - mjd0\n",
    "    d = (G.get_Integration(i).get_epoch()-F.get_Integration(i).get_epoch()).in_days()*86400\n",
    "    deltas.append(d/P)\n",
    "    ts.append(t)\n",
    "deltas = np.array(deltas)\n",
    "ts = np.array(ts)\n",
    "\n",
    "plt.plot(ts, deltas, \",\")\n",
    "plt.figure()\n",
    "\n",
    "smear = np.diff(deltas)\n",
    "smear = (smear+0.5) % 1 - 0.5\n",
    "plt.plot(ts[:-1], smear)\n",
    "#plt.ylim(-1,1)\n"
   ]
  },
  {
   "cell_type": "code",
   "execution_count": 52,
   "metadata": {
    "collapsed": false
   },
   "outputs": [],
   "source": [
    "E = F.get_ephemeris()"
   ]
  },
  {
   "cell_type": "code",
   "execution_count": 57,
   "metadata": {
    "collapsed": false
   },
   "outputs": [],
   "source": [
    "P = I.get_folding_period()"
   ]
  },
  {
   "cell_type": "code",
   "execution_count": 63,
   "metadata": {
    "collapsed": false
   },
   "outputs": [
    {
     "data": {
      "text/plain": [
       "1390.0"
      ]
     },
     "execution_count": 63,
     "metadata": {},
     "output_type": "execute_result"
    }
   ],
   "source": [
    "F.get_centre_frequency()"
   ]
  },
  {
   "cell_type": "code",
   "execution_count": null,
   "metadata": {
    "collapsed": true
   },
   "outputs": [],
   "source": [
    "F."
   ]
  }
 ],
 "metadata": {
  "kernelspec": {
   "display_name": "Python 2",
   "language": "python",
   "name": "python2"
  },
  "language_info": {
   "codemirror_mode": {
    "name": "ipython",
    "version": 2
   },
   "file_extension": ".py",
   "mimetype": "text/x-python",
   "name": "python",
   "nbconvert_exporter": "python",
   "pygments_lexer": "ipython2",
   "version": "2.7.3"
  }
 },
 "nbformat": 4,
 "nbformat_minor": 0
}
