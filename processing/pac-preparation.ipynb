{
 "cells": [
  {
   "cell_type": "markdown",
   "metadata": {},
   "source": [
    "# pac preparation\n",
    "\n",
    "Run this notebook to import new calibration scans. Shouldn't need any particular configuration or changes; it just globs for plausible-looking cal files. Runs pretty quickly."
   ]
  },
  {
   "cell_type": "code",
   "execution_count": 1,
   "metadata": {
    "collapsed": false
   },
   "outputs": [],
   "source": [
    "%load_ext autoreload\n",
    "\n",
    "%autoreload 2"
   ]
  },
  {
   "cell_type": "code",
   "execution_count": 2,
   "metadata": {
    "collapsed": true
   },
   "outputs": [],
   "source": [
    "import os\n",
    "from glob import glob\n",
    "import subprocess\n",
    "import shutil\n",
    "import traceback\n",
    "import random\n",
    "import pickle\n",
    "from os.path import join\n",
    "\n",
    "import joblib\n",
    "from concurrent.futures import ProcessPoolExecutor\n",
    "\n",
    "from backports import tempfile\n",
    "\n",
    "import matplotlib\n",
    "matplotlib.rcParams['savefig.dpi'] = 144\n",
    "%matplotlib inline\n",
    "import numpy as np\n",
    "import matplotlib.pyplot as plt\n",
    "\n",
    "import psrchive\n",
    "\n",
    "import pipe"
   ]
  },
  {
   "cell_type": "code",
   "execution_count": 3,
   "metadata": {
    "collapsed": false
   },
   "outputs": [
    {
     "name": "stderr",
     "output_type": "stream",
     "text": [
      "DEBUG:root:test\n"
     ]
    }
   ],
   "source": [
    "import logging\n",
    "logger = logging.getLogger()\n",
    "logger.setLevel(logging.DEBUG)\n",
    "logging.debug(\"test\")"
   ]
  },
  {
   "cell_type": "code",
   "execution_count": 4,
   "metadata": {
    "collapsed": false
   },
   "outputs": [],
   "source": [
    "cals = []\n",
    "for d in [\"data/raw/GBT\", \"data/raw/AO\", \"data/raw/AO/from_UBC\", \"data/raw/GBT/new/\"]:\n",
    "    cals.extend(glob(join(d,\"?uppi_*_cal_*.*\")))\n",
    "for d in [\"data/cal/fluxcal/AO\", \"data/cal/fluxcal/AO/new\", \"data/cal/fluxcal/GBT\"]:\n",
    "    cals.extend(glob(join(d,\"*.fcal\")))\n",
    "cals.extend(glob(join(\"data\",\"cal\",\"*.cf\")))\n",
    "cals.sort()\n",
    "\n",
    "with open(\"data/cal/cal-list.ls\", \"wt\") as f:\n",
    "    for c in cals:\n",
    "        f.write(c)\n",
    "        f.write(\"\\n\")"
   ]
  },
  {
   "cell_type": "code",
   "execution_count": 5,
   "metadata": {
    "collapsed": false,
    "scrolled": false
   },
   "outputs": [
    {
     "name": "stdout",
     "output_type": "stream",
     "text": [
      "pac: Generating new calibrator database\n",
      "pac: Loading calibrator filenames from metafile=data/cal/cal-list.ls\n",
      "pac: Writing database summary file to data/cal/cal-new.db\n",
      "\n",
      "Pulsar::Database::add keeping newest of duplicate entries:\n",
      "\tdata/cal/fluxcal/AO/new/puppi_57389_J1445+099cal_5481_cal.fcal and\n",
      "\tdata/cal/fluxcal/AO/puppi_57389_J1445+099cal_5481_cal.fcal\n",
      "Pulsar::Database::add keeping newest of duplicate entries:\n",
      "\tdata/cal/fluxcal/AO/new/puppi_57389_J1445+099cal_5485_cal.fcal and\n",
      "\tdata/cal/fluxcal/AO/puppi_57389_J1445+099cal_5485_cal.fcal\n",
      "Pulsar::Database::add keeping newest of duplicate entries:\n",
      "\tdata/cal/fluxcal/AO/new/puppi_57417_J1445+099cal_5874_cal.fcal and\n",
      "\tdata/cal/fluxcal/AO/puppi_57417_J1445+099cal_5874_cal.fcal\n",
      "Pulsar::Database::add keeping newest of duplicate entries:\n",
      "\tdata/cal/fluxcal/AO/new/puppi_57417_J1445+099cal_5878_cal.fcal and\n",
      "\tdata/cal/fluxcal/AO/puppi_57417_J1445+099cal_5878_cal.fcal\n",
      "Pulsar::Database::add keeping newest of duplicate entries:\n",
      "\tdata/cal/fluxcal/AO/new/puppi_57502_J1445+099cal_0013_cal.fcal and\n",
      "\tdata/cal/fluxcal/AO/puppi_57502_J1445+099cal_0013_cal.fcal\n",
      "Pulsar::Database::add keeping newest of duplicate entries:\n",
      "\tdata/cal/fluxcal/AO/new/puppi_57502_J1445+099cal_0017_cal.fcal and\n",
      "\tdata/cal/fluxcal/AO/puppi_57502_J1445+099cal_0017_cal.fcal\n",
      "Pulsar::Database::add keeping newest of duplicate entries:\n",
      "\tdata/cal/fluxcal/AO/new/puppi_57523_J1445+099cal_0113_cal.fcal and\n",
      "\tdata/cal/fluxcal/AO/puppi_57523_J1445+099cal_0113_cal.fcal\n",
      "Pulsar::Database::add keeping newest of duplicate entries:\n",
      "\tdata/cal/fluxcal/AO/new/puppi_57523_J1445+099cal_0117_cal.fcal and\n",
      "\tdata/cal/fluxcal/AO/puppi_57523_J1445+099cal_0117_cal.fcal\n",
      "Pulsar::Database::add keeping newest of duplicate entries:\n",
      "\tdata/cal/fluxcal/AO/new/puppi_57537_J1445+099cal_0575_cal.fcal and\n",
      "\tdata/cal/fluxcal/AO/puppi_57537_J1445+099cal_0575_cal.fcal\n",
      "Pulsar::Database::add keeping newest of duplicate entries:\n",
      "\tdata/cal/fluxcal/AO/new/puppi_57537_J1445+099cal_0579_cal.fcal and\n",
      "\tdata/cal/fluxcal/AO/puppi_57537_J1445+099cal_0579_cal.fcal\n",
      "Pulsar::Database::add keeping newest of duplicate entries:\n",
      "\tdata/cal/fluxcal/AO/new/puppi_57564_J1445+099cal_0437_cal.fcal and\n",
      "\tdata/cal/fluxcal/AO/puppi_57564_J1445+099cal_0437_cal.fcal\n",
      "Pulsar::Database::add keeping newest of duplicate entries:\n",
      "\tdata/cal/fluxcal/AO/new/puppi_57564_J1445+099cal_0441_cal.fcal and\n",
      "\tdata/cal/fluxcal/AO/puppi_57564_J1445+099cal_0441_cal.fcal\n",
      "Pulsar::Database::add keeping newest of duplicate entries:\n",
      "\tdata/cal/fluxcal/AO/new/puppi_57586_J1445+099cal_0277_cal.fcal and\n",
      "\tdata/cal/fluxcal/AO/puppi_57586_J1445+099cal_0277_cal.fcal\n",
      "Pulsar::Database::add keeping newest of duplicate entries:\n",
      "\tdata/cal/fluxcal/AO/new/puppi_57586_J1445+099cal_0281_cal.fcal and\n",
      "\tdata/cal/fluxcal/AO/puppi_57586_J1445+099cal_0281_cal.fcal\n",
      "Pulsar::Database::add keeping newest of duplicate entries:\n",
      "\tdata/cal/fluxcal/AO/new/puppi_57606_J1445+099cal_0563_cal.fcal and\n",
      "\tdata/cal/fluxcal/AO/puppi_57606_J1445+099cal_0563_cal.fcal\n",
      "Pulsar::Database::add keeping newest of duplicate entries:\n",
      "\tdata/cal/fluxcal/AO/new/puppi_57606_J1445+099cal_0567_cal.fcal and\n",
      "\tdata/cal/fluxcal/AO/puppi_57606_J1445+099cal_0567_cal.fcal\n",
      "Pulsar::Database::add keeping newest of duplicate entries:\n",
      "\tdata/cal/fluxcal/AO/new/puppi_57627_J1445+099cal_1136_cal.fcal and\n",
      "\tdata/cal/fluxcal/AO/puppi_57627_J1445+099cal_1136_cal.fcal\n",
      "Pulsar::Database::add keeping newest of duplicate entries:\n",
      "\tdata/cal/fluxcal/AO/new/puppi_57627_J1445+099cal_1140_cal.fcal and\n",
      "\tdata/cal/fluxcal/AO/puppi_57627_J1445+099cal_1140_cal.fcal\n",
      "Pulsar::Database::add keeping newest of duplicate entries:\n",
      "\tdata/cal/fluxcal/AO/new/puppi_57648_J1445+099cal_0068_cal.fcal and\n",
      "\tdata/cal/fluxcal/AO/puppi_57648_J1445+099cal_0068_cal.fcal\n",
      "Pulsar::Database::add keeping newest of duplicate entries:\n",
      "\tdata/cal/fluxcal/AO/new/puppi_57648_J1445+099cal_0072_cal.fcal and\n",
      "\tdata/cal/fluxcal/AO/puppi_57648_J1445+099cal_0072_cal.fcal\n",
      "Pulsar::Database::add keeping newest of duplicate entries:\n",
      "\tdata/cal/fluxcal/AO/new/puppi_57669_J1445+099cal_0287_cal.fcal and\n",
      "\tdata/cal/fluxcal/AO/puppi_57669_J1445+099cal_0287_cal.fcal\n",
      "Pulsar::Database::add keeping newest of duplicate entries:\n",
      "\tdata/cal/fluxcal/AO/new/puppi_57669_J1445+099cal_0291_cal.fcal and\n",
      "\tdata/cal/fluxcal/AO/puppi_57669_J1445+099cal_0291_cal.fcal\n",
      "Pulsar::Database::add keeping newest of duplicate entries:\n",
      "\tdata/cal/fluxcal/AO/new/puppi_57700_J1445+099cal_0081_cal.fcal and\n",
      "\tdata/cal/fluxcal/AO/puppi_57700_J1445+099cal_0081_cal.fcal\n",
      "Pulsar::Database::add keeping newest of duplicate entries:\n",
      "\tdata/cal/fluxcal/AO/new/puppi_57700_J1445+099cal_0085_cal.fcal and\n",
      "\tdata/cal/fluxcal/AO/puppi_57700_J1445+099cal_0085_cal.fcal\n",
      "Pulsar::Database::add keeping newest of duplicate entries:\n",
      "\tdata/cal/fluxcal/AO/new/puppi_57717_J1445+099cal_0086_cal.fcal and\n",
      "\tdata/cal/fluxcal/AO/puppi_57717_J1445+099cal_0086_cal.fcal\n",
      "Pulsar::Database::add keeping newest of duplicate entries:\n",
      "\tdata/cal/fluxcal/AO/new/puppi_57717_J1445+099cal_0090_cal.fcal and\n",
      "\tdata/cal/fluxcal/AO/puppi_57717_J1445+099cal_0090_cal.fcal\n",
      "Pulsar::Database::add keeping newest of duplicate entries:\n",
      "\tdata/cal/fluxcal/AO/new/puppi_57739_J1445+099cal_0414_cal.fcal and\n",
      "\tdata/cal/fluxcal/AO/puppi_57739_J1445+099cal_0414_cal.fcal\n",
      "Pulsar::Database::add keeping newest of duplicate entries:\n",
      "\tdata/cal/fluxcal/AO/new/puppi_57739_J1445+099cal_0418_cal.fcal and\n",
      "\tdata/cal/fluxcal/AO/puppi_57739_J1445+099cal_0418_cal.fcal\n",
      "Pulsar::Database::add keeping newest of duplicate entries:\n",
      "\tdata/cal/fluxcal/AO/new/puppi_57767_J1445+099cal_0860_cal.fcal and\n",
      "\tdata/cal/fluxcal/AO/puppi_57767_J1445+099cal_0860_cal.fcal\n",
      "Pulsar::Database::add keeping newest of duplicate entries:\n",
      "\tdata/cal/fluxcal/AO/new/puppi_57767_J1445+099cal_0864_cal.fcal and\n",
      "\tdata/cal/fluxcal/AO/puppi_57767_J1445+099cal_0864_cal.fcal\n",
      "Pulsar::Database::add keeping newest of duplicate entries:\n",
      "\tdata/cal/fluxcal/AO/new/puppi_57788_J1445+099cal_0210_cal.fcal and\n",
      "\tdata/cal/fluxcal/AO/puppi_57788_J1445+099cal_0210_cal.fcal\n",
      "Pulsar::Database::add keeping newest of duplicate entries:\n",
      "\tdata/cal/fluxcal/AO/new/puppi_57788_J1445+099cal_0214_cal.fcal and\n",
      "\tdata/cal/fluxcal/AO/puppi_57788_J1445+099cal_0214_cal.fcal\n",
      "Pulsar::Database::add keeping newest of duplicate entries:\n",
      "\tdata/raw/GBT/guppi_56142_0337+17_0003_cal_0001.cf and\n",
      "\tdata/raw/GBT/guppi_56142_0337+17_0003_cal_0001.zap\n",
      "\n"
     ]
    }
   ],
   "source": [
    "P = subprocess.Popen([\"pac\",\n",
    "                 \"-w\",\n",
    "                 \"-k\", \"data/cal/cal-new.db\",\n",
    "                 \"-W\", \"data/cal/cal-list.ls\"], \n",
    "                 stderr=subprocess.PIPE, \n",
    "                 stdout=subprocess.PIPE)\n",
    "out, err = P.communicate()\n",
    "print out\n",
    "print err\n",
    "if P.returncode:\n",
    "    raise ValueError(\"Return code %d\" % P.returncode)"
   ]
  },
  {
   "cell_type": "code",
   "execution_count": null,
   "metadata": {
    "collapsed": true
   },
   "outputs": [],
   "source": []
  }
 ],
 "metadata": {
  "kernelspec": {
   "display_name": "Python 2",
   "language": "python",
   "name": "python2"
  },
  "language_info": {
   "codemirror_mode": {
    "name": "ipython",
    "version": 2
   },
   "file_extension": ".py",
   "mimetype": "text/x-python",
   "name": "python",
   "nbconvert_exporter": "python",
   "pygments_lexer": "ipython2",
   "version": "2.7.6"
  }
 },
 "nbformat": 4,
 "nbformat_minor": 1
}
