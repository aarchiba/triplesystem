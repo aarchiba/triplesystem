{
 "cells": [
  {
   "cell_type": "markdown",
   "metadata": {},
   "source": [
    "# Summary\n",
    "\n",
    "Computes various summary statistics describing the collection of observations.  In particular note the list showing the last observation from each telescope; this is the easiest way to check whether new observations are included yet."
   ]
  },
  {
   "cell_type": "code",
   "execution_count": 6,
   "metadata": {
    "collapsed": false
   },
   "outputs": [
    {
     "name": "stderr",
     "output_type": "stream",
     "text": [
      "DEBUG:root:test\n"
     ]
    },
    {
     "name": "stdout",
     "output_type": "stream",
     "text": [
      "The autoreload extension is already loaded. To reload it, use:\n",
      "  %reload_ext autoreload\n"
     ]
    },
    {
     "data": {
      "text/plain": [
       "<matplotlib.figure.Figure at 0x7f5ee6bdd710>"
      ]
     },
     "metadata": {},
     "output_type": "display_data"
    }
   ],
   "source": [
    "%load_ext autoreload\n",
    "\n",
    "%autoreload 2\n",
    "\n",
    "import os\n",
    "from glob import glob\n",
    "import subprocess\n",
    "import shutil\n",
    "import traceback\n",
    "import random\n",
    "import pickle\n",
    "from os.path import join\n",
    "\n",
    "import joblib\n",
    "from concurrent.futures import ProcessPoolExecutor\n",
    "import re\n",
    "\n",
    "from backports import tempfile\n",
    "\n",
    "import matplotlib\n",
    "matplotlib.rcParams['savefig.dpi'] = 144\n",
    "%matplotlib inline\n",
    "import numpy as np\n",
    "import matplotlib.pyplot as plt\n",
    "import numpy.ma as ma\n",
    "\n",
    "import psrchive\n",
    "\n",
    "import pipe\n",
    "\n",
    "plt.viridis()\n",
    "\n",
    "import logging\n",
    "logger = logging.getLogger()\n",
    "logger.setLevel(logging.DEBUG)\n",
    "logging.debug(\"test\")"
   ]
  },
  {
   "cell_type": "markdown",
   "metadata": {},
   "source": [
    "## Overall summary"
   ]
  },
  {
   "cell_type": "code",
   "execution_count": 12,
   "metadata": {
    "collapsed": false
   },
   "outputs": [],
   "source": [
    "n_obs = {}\n",
    "t_total = {}\n",
    "tbw_total = {}\n",
    "mjd_start = {}\n",
    "mjd_end = {}\n",
    "\n",
    "for d in sorted(glob(join(\"data\",\"obs\",\"*\"))):\n",
    "    M = pickle.load(open(join(d,\"meta.pickle\"),\"rb\"))\n",
    "    k = M[\"tel\"], M[\"band\"]\n",
    "    n_obs[k] = n_obs.setdefault(k,0) + 1\n",
    "    t_total[k] = t_total.setdefault(k,0) + M[\"length\"]\n",
    "    mjd_start[k] = min(mjd_start.setdefault(k,1e10),M[\"mjd\"])\n",
    "    mjd_end[k] = max(mjd_start.setdefault(k,0),M[\"mjd\"])\n",
    "    #tbw_total[k] = "
   ]
  },
  {
   "cell_type": "code",
   "execution_count": 13,
   "metadata": {
    "collapsed": false
   },
   "outputs": [
    {
     "name": "stdout",
     "output_type": "stream",
     "text": [
      "tel   band    n     T (h)  mean T (min)    MJD range  \n",
      "------------------------------------------------------\n",
      "AO     350    3       0.9          17.7   57059--57432\n",
      "AO     430   36      12.9          21.5   56071--57833\n",
      "AO    1400   92      58.9          38.4   55990--57833\n",
      "AO    2000    7       3.2          27.0   56769--57552\n",
      "AO    3000    1       0.7          40.3   56782--56782\n",
      "GBT   1400  172     236.0          82.3   55962--57888\n",
      "WSRT   350   20      17.3          52.0   55960--56485\n",
      "WSRT  1400  439     836.7         114.4   55957--56496\n"
     ]
    }
   ],
   "source": [
    "print(\"{tel:5s}{band:>5s}{n:>5s}{t:>10s}{m:>14s}   {r:^12s}\".format(\n",
    "        tel=\"tel\", band=\"band\", n=\"n\", t=\"T (h)\", m=\"mean T (min)\",\n",
    "        r=\"MJD range\"))\n",
    "print(\"-\"*54)\n",
    "for k in sorted(n_obs.keys()):\n",
    "    tel, band = k\n",
    "    n = n_obs[k]\n",
    "    t = t_total[k]/3600\n",
    "    m = t/n*60\n",
    "    s, e = mjd_start[k], mjd_end[k]\n",
    "    print(\"{tel:5s}{band:5d}{n:5d}{t:10.1f}{m:14.1f}   {s:5.0f}--{e:5.0f}\".format(**locals()))"
   ]
  },
  {
   "cell_type": "markdown",
   "metadata": {},
   "source": [
    "## Longest observations\n",
    "\n",
    "This is a quick proxy for SNR, which isn't computed until we have a template."
   ]
  },
  {
   "cell_type": "code",
   "execution_count": 14,
   "metadata": {
    "collapsed": false
   },
   "outputs": [],
   "source": [
    "longest = {}\n",
    "for d in sorted(glob(join(\"data\",\"obs\",\"*\"))):\n",
    "    M = pickle.load(open(join(d,\"meta.pickle\"),\"rb\"))\n",
    "    k = M[\"tel\"], M[\"band\"]\n",
    "    if (k not in longest\n",
    "        or longest[k][\"length\"]<M[\"length\"]):\n",
    "        longest[k] = M\n"
   ]
  },
  {
   "cell_type": "code",
   "execution_count": 15,
   "metadata": {
    "collapsed": false,
    "scrolled": false
   },
   "outputs": [
    {
     "name": "stdout",
     "output_type": "stream",
     "text": [
      "('AO', 2000) 63 4576.99288437 /psr_archive/hessels/archibald/0337+17/obs/56768.79_AO_2000\n",
      "('AO', 350) 168 1796.86460998 /psr_archive/hessels/archibald/0337+17/obs/57058.98_AO_350\n",
      "('GBT', 1400) 69 42646.8976767 /psr_archive/hessels/archibald/0337+17/obs/56321.01_GBT_1400\n",
      "('WSRT', 1400) 3239 32389.792704 /psr_archive/hessels/archibald/0337+17/obs/56262.88_WSRT_1400\n",
      "('AO', 1400) 35 8877.52792533 /psr_archive/hessels/archibald/0337+17/obs/56025.79_AO_1400\n",
      "('AO', 3000) 44 2416.49165356 /psr_archive/hessels/archibald/0337+17/obs/56781.71_AO_3000\n",
      "('AO', 430) 261 2791.53515592 /psr_archive/hessels/archibald/0337+17/obs/56070.64_AO_430\n",
      "('WSRT', 350) 1799 17988.84864 /psr_archive/hessels/archibald/0337+17/obs/56479.20_WSRT_350\n"
     ]
    }
   ],
   "source": [
    "for k in longest:\n",
    "    l = longest[k]\n",
    "    print k, l[\"nsubint\"], l[\"length\"], l[\"obs_dir\"]"
   ]
  },
  {
   "cell_type": "markdown",
   "metadata": {},
   "source": [
    "## List of runs\n",
    "\n",
    "See `bulk-processing` for a more detailed summary of processed data."
   ]
  },
  {
   "cell_type": "code",
   "execution_count": 66,
   "metadata": {
    "collapsed": false
   },
   "outputs": [],
   "source": [
    "processing_runs = set()\n",
    "toa_runs = set()\n",
    "for d in sorted(glob(join(\"data\",\"obs\",\"*\"))):\n",
    "    for sd in os.listdir(d):\n",
    "        if not os.path.isdir(join(d,sd)):\n",
    "            continue\n",
    "        processing_runs.add(sd)\n",
    "        for ssd in os.listdir(join(d,sd)):\n",
    "            if not os.path.isdir(join(d,sd,ssd)):\n",
    "                continue\n",
    "            toa_runs.add((sd,ssd))"
   ]
  },
  {
   "cell_type": "code",
   "execution_count": 67,
   "metadata": {
    "collapsed": false
   },
   "outputs": [
    {
     "data": {
      "text/plain": [
       "['toa-testing', 'wideband']"
      ]
     },
     "execution_count": 67,
     "metadata": {},
     "output_type": "execute_result"
    }
   ],
   "source": [
    "sorted(processing_runs)"
   ]
  },
  {
   "cell_type": "code",
   "execution_count": 68,
   "metadata": {
    "collapsed": false
   },
   "outputs": [
    {
     "data": {
      "text/plain": [
       "[]"
      ]
     },
     "execution_count": 68,
     "metadata": {},
     "output_type": "execute_result"
    }
   ],
   "source": [
    "sorted(toa_runs)"
   ]
  },
  {
   "cell_type": "markdown",
   "metadata": {},
   "source": [
    "## SNRs\n",
    "\n",
    "This looks at the processed data to find a list of the observations with the best SNR for each mode. The output is intentionally in python-usable format, so that it can be pasted into notebooks that want to work with the few best observations in each mode."
   ]
  },
  {
   "cell_type": "code",
   "execution_count": 16,
   "metadata": {
    "collapsed": false
   },
   "outputs": [
    {
     "name": "stdout",
     "output_type": "stream",
     "text": [
      "('WSRT', 350) [(251.18026218134258, '56102.39_WSRT_350'), (245.23569445045879, '56479.20_WSRT_350'), (104.75167204664039, '56485.26_WSRT_350'), (100.63210377531576, '55967.78_WSRT_350'), (80.232637720029473, '56045.74_WSRT_350'), (69.956378173759788, '56004.67_WSRT_350'), (58.591225643360254, '55977.83_WSRT_350'), (54.103708520745428, '55968.77_WSRT_350'), (53.804596846188119, '55972.74_WSRT_350'), (48.37354189264633, '56039.69_WSRT_350'), (32.71782200838949, '55982.90_WSRT_350'), (29.377213229614213, '55966.84_WSRT_350'), (29.282446431742695, '55987.70_WSRT_350'), (28.666824813701474, '56168.95_WSRT_350'), (27.841890534209007, '56000.84_WSRT_350'), (24.363223473499868, '55990.63_WSRT_350'), (23.967162099712926, '55994.76_WSRT_350'), (23.488575414046206, '55961.87_WSRT_350'), (20.915352306050821, '55959.72_WSRT_350'), (16.783416545569992, '56067.54_WSRT_350')]\n",
      "('AO', 430) [(709.81840051858285, '56070.64_AO_430'), (508.39091994908512, '57628.41_AO_430'), (461.02895391364893, '57808.92_AO_430'), (453.36661023434829, '57236.49_AO_430'), (420.94905497888419, '57667.34_AO_430'), (418.60456588612885, '57571.57_AO_430'), (412.98749026104571, '57093.89_AO_430'), (408.57723197502435, '57705.21_AO_430'), (407.35492720008619, '57376.10_AO_430'), (406.23881284141027, '57764.03_AO_430'), (404.07511343984254, '57422.97_AO_430'), (403.00855024613463, '57400.04_AO_430'), (402.13089178174425, '57739.09_AO_430'), (400.3773076100735, '57787.96_AO_430'), (394.36654114176486, '57686.26_AO_430'), (384.25735121042436, '57551.62_AO_430'), (368.0953266837472, '56554.36_AO_430'), (322.23559999836039, '57530.68_AO_430'), (311.60646813039313, '56584.26_AO_430'), (298.17440122021185, '56477.56_AO_430')]\n",
      "('WSRT', 1400) [(1443.0880602722673, '56261.84_WSRT_1400'), (1285.4583444311261, '56262.88_WSRT_1400'), (1270.5632098320639, '56050.52_WSRT_1400'), (1043.9899627240259, '56146.15_WSRT_1400'), (1027.376980798148, '56446.34_WSRT_1400'), (986.07204723899179, '56273.90_WSRT_1400'), (983.4780797510814, '56401.41_WSRT_1400'), (964.51874967540562, '56298.74_WSRT_1400'), (935.60854854681861, '56296.82_WSRT_1400'), (934.25698880130597, '56092.43_WSRT_1400'), (931.96566886677624, '56072.31_WSRT_1400'), (914.92431929855957, '56004.59_WSRT_1400'), (907.30843781619421, '56043.63_WSRT_1400'), (906.29904629244118, '56396.43_WSRT_1400'), (859.51472238721772, '55995.66_WSRT_1400'), (821.42431955150278, '56248.87_WSRT_1400'), (816.69857559520153, '56000.78_WSRT_1400'), (779.68063563438886, '56137.16_WSRT_1400'), (775.26050103588022, '56074.31_WSRT_1400'), (747.78958782567304, '56051.54_WSRT_1400')]\n",
      "('AO', 1400) [(35203.003480465668, '55998.86_AO_1400'), (33015.218644340137, '56025.79_AO_1400'), (29851.39078006598, '56095.61_AO_1400'), (21880.051621122169, '56005.83_AO_1400'), (19154.004700798163, '55995.89_AO_1400'), (18218.791644092729, '56012.82_AO_1400'), (17068.943725043373, '56001.83_AO_1400'), (14303.845505497302, '56042.71_AO_1400'), (14063.294621300385, '56053.70_AO_1400'), (13104.780528922573, '55992.86_AO_1400'), (13086.703457900512, '56030.75_AO_1400'), (12817.067066138061, '56080.62_AO_1400'), (12235.473411507035, '55989.87_AO_1400'), (12179.476046219243, '56021.77_AO_1400'), (12110.051285157195, '56033.74_AO_1400'), (11362.826485985895, '56073.62_AO_1400'), (11282.379491881798, '56180.35_AO_1400'), (11118.05787486806, '56138.46_AO_1400'), (10905.105168077738, '56050.72_AO_1400'), (10876.483915755924, '56292.06_AO_1400')]\n",
      "('GBT', 1400) [(33903.228793058879, '56412.76_GBT_1400'), (31766.275692451884, '56142.50_GBT_1400'), (31725.25830417201, '56321.01_GBT_1400'), (30535.382917044564, '56234.25_GBT_1400'), (29622.295602788268, '57413.11_GBT_1400'), (27896.109549061635, '57698.14_GBT_1400'), (27036.269462852903, '56506.42_GBT_1400'), (27012.139406591097, '57292.43_GBT_1400'), (26990.358048985905, '57354.24_GBT_1400'), (24395.17425445739, '57538.58_GBT_1400'), (23116.992944446629, '56690.92_GBT_1400'), (22522.683258924844, '57642.46_GBT_1400'), (20536.609288572639, '57757.02_GBT_1400'), (20270.565033225859, '56527.34_GBT_1400'), (14202.666336057151, '57471.99_GBT_1400'), (10889.713552146071, '57236.41_GBT_1400'), (7780.4270540102998, '57591.60_GBT_1400'), (7300.4147892480732, '57236.56_GBT_1400'), (5940.7348904895425, '56034.89_GBT_1400'), (5193.320046967312, '55997.81_GBT_1400')]\n"
     ]
    }
   ],
   "source": [
    "snrs = {}\n",
    "processing_name = \"tuned\"\n",
    "toa_name = \"mueller\"\n",
    "for d in sorted(glob(join(\"data\",\"obs\",\"*\",processing_name,toa_name))):\n",
    "    M = pickle.load(open(join(d,\"..\",\"process.pickle\"),\"rb\"))\n",
    "    M2 = pickle.load(open(join(d,\"summary.pickle\"),\"rb\"))\n",
    "    k = M[\"tel\"], M[\"band\"]\n",
    "    if k not in snrs:\n",
    "        snrs[k] = []\n",
    "    snrs[k].append((M2['snr_sum'],M['name']))\n",
    "for k in snrs:\n",
    "    snrs[k].sort()\n",
    "    snrs[k] = snrs[k][::-1]\n",
    "    print k, snrs[k][:20]"
   ]
  }
 ],
 "metadata": {
  "kernelspec": {
   "display_name": "Python 2",
   "language": "python",
   "name": "python2"
  },
  "language_info": {
   "codemirror_mode": {
    "name": "ipython",
    "version": 2
   },
   "file_extension": ".py",
   "mimetype": "text/x-python",
   "name": "python",
   "nbconvert_exporter": "python",
   "pygments_lexer": "ipython2",
   "version": "2.7.6"
  }
 },
 "nbformat": 4,
 "nbformat_minor": 1
}
