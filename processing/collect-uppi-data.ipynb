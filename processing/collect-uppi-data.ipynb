{
 "cells": [
  {
   "cell_type": "code",
   "execution_count": 1,
   "metadata": {
    "collapsed": true
   },
   "outputs": [],
   "source": [
    "%load_ext autoreload\n",
    "\n",
    "%autoreload 2"
   ]
  },
  {
   "cell_type": "code",
   "execution_count": 2,
   "metadata": {
    "collapsed": true
   },
   "outputs": [],
   "source": [
    "import os\n",
    "from glob import glob\n",
    "import subprocess\n",
    "import shutil\n",
    "import traceback\n",
    "import random\n",
    "import pickle\n",
    "from os.path import join\n",
    "\n",
    "import joblib\n",
    "from concurrent.futures import ProcessPoolExecutor\n",
    "\n",
    "from backports import tempfile\n",
    "\n",
    "import matplotlib\n",
    "matplotlib.rcParams['savefig.dpi'] = 144\n",
    "%matplotlib inline\n",
    "import numpy as np\n",
    "import matplotlib.pyplot as plt\n",
    "\n",
    "import psrchive\n",
    "\n",
    "import pipe"
   ]
  },
  {
   "cell_type": "code",
   "execution_count": 3,
   "metadata": {
    "collapsed": false
   },
   "outputs": [
    {
     "name": "stderr",
     "output_type": "stream",
     "text": [
      "DEBUG:root:test\n"
     ]
    }
   ],
   "source": [
    "import logging\n",
    "logger = logging.getLogger()\n",
    "logger.setLevel(logging.DEBUG)\n",
    "logging.debug(\"test\")"
   ]
  },
  {
   "cell_type": "code",
   "execution_count": 4,
   "metadata": {
    "collapsed": false
   },
   "outputs": [
    {
     "name": "stderr",
     "output_type": "stream",
     "text": [
      "INFO:root:Processing uppi batch 0337+17 07498 in /psr_archive/hessels/archibald/0337+17/raw/GBT\n",
      "INFO:root:Processing uppi batch 0337+17 09479 in /psr_archive/hessels/archibald/0337+17/raw/GBT\n",
      "INFO:root:Processing uppi batch 0337+17 10560 in /psr_archive/hessels/archibald/0337+17/raw/GBT\n",
      "INFO:root:Processing uppi batch 0337+17 11215 in /psr_archive/hessels/archibald/0337+17/raw/GBT\n",
      "INFO:root:Processing uppi batch 0337+17 14669 in /psr_archive/hessels/archibald/0337+17/raw/GBT\n",
      "INFO:root:Processing uppi batch 0337+17 15125 in /psr_archive/hessels/archibald/0337+17/raw/GBT\n",
      "INFO:root:Processing uppi batch 0337+17 16383 in /psr_archive/hessels/archibald/0337+17/raw/GBT\n",
      "INFO:root:Processing uppi batch 0337+17 18050 in /psr_archive/hessels/archibald/0337+17/raw/GBT\n",
      "INFO:root:Processing uppi batch 0337+17 18622 in /psr_archive/hessels/archibald/0337+17/raw/GBT\n",
      "INFO:root:Processing uppi batch 0337+17 22190 in /psr_archive/hessels/archibald/0337+17/raw/GBT\n",
      "INFO:root:Processing uppi batch 0337+17 22518 in /psr_archive/hessels/archibald/0337+17/raw/GBT\n",
      "INFO:root:Processing uppi batch 0337+17 38662 in /psr_archive/hessels/archibald/0337+17/raw/GBT\n",
      "INFO:root:Processing uppi batch 0337+17 53396 in /psr_archive/hessels/archibald/0337+17/raw/GBT\n",
      "INFO:root:Processing uppi batch 0337+17 61346 in /psr_archive/hessels/archibald/0337+17/raw/GBT\n",
      "INFO:root:Processing uppi batch 0337+17 62169 in /psr_archive/hessels/archibald/0337+17/raw/GBT\n",
      "INFO:root:Processing uppi batch 0337+17 68141 in /psr_archive/hessels/archibald/0337+17/raw/GBT\n",
      "INFO:root:Processing uppi batch 0337+17 74216 in /psr_archive/hessels/archibald/0337+17/raw/GBT\n",
      "INFO:root:Processing uppi batch 0337+17 74363 in /psr_archive/hessels/archibald/0337+17/raw/GBT\n",
      "INFO:root:Processing uppi batch 0337+17 74601 in /psr_archive/hessels/archibald/0337+17/raw/GBT\n",
      "INFO:root:Processing uppi batch 0337+17 75204 in /psr_archive/hessels/archibald/0337+17/raw/GBT\n",
      "INFO:root:Processing uppi batch 0337+17 78570 in /psr_archive/hessels/archibald/0337+17/raw/GBT\n",
      "INFO:root:Processing uppi batch 0337+17 83552 in /psr_archive/hessels/archibald/0337+17/raw/GBT\n",
      "INFO:root:Processing uppi batch 0337+17 84308 in /psr_archive/hessels/archibald/0337+17/raw/GBT\n",
      "INFO:root:Processing uppi batch 0337+17 85890 in /psr_archive/hessels/archibald/0337+17/raw/GBT\n",
      "INFO:root:Processing uppi batch 0337+17 86004 in /psr_archive/hessels/archibald/0337+17/raw/GBT\n",
      "INFO:root:Processing uppi batch 56031 0025 in /psr_archive/hessels/archibald/0337+17/raw/GBT\n",
      "ERROR:root:Problem with /psr_archive/hessels/archibald/0337+17/raw/GBT 56031 0025: No integrations in /psr_archive/hessels/archibald/0337+17/raw/GBT/guppi_56031_J0337+17_0025_0001.fits\n",
      "INFO:root:Processing uppi batch 56034 0002.fits in /psr_archive/hessels/archibald/0337+17/raw/GBT\n",
      "INFO:root:Processing uppi batch 56036 0002.fits in /psr_archive/hessels/archibald/0337+17/raw/GBT\n",
      "INFO:root:Processing uppi batch 56039 0003.fits in /psr_archive/hessels/archibald/0337+17/raw/GBT\n",
      "INFO:root:Processing uppi batch 56041 0002.fits in /psr_archive/hessels/archibald/0337+17/raw/GBT\n",
      "INFO:root:Processing uppi batch 56047 0002.fits in /psr_archive/hessels/archibald/0337+17/raw/GBT\n",
      "INFO:root:Processing uppi batch 56050 0008.fits in /psr_archive/hessels/archibald/0337+17/raw/GBT\n",
      "INFO:root:Processing uppi batch 56053 0002.fits in /psr_archive/hessels/archibald/0337+17/raw/GBT\n",
      "INFO:root:Processing uppi batch 56056 0002.fits in /psr_archive/hessels/archibald/0337+17/raw/GBT\n",
      "INFO:root:Processing uppi batch 56060 0002.fits in /psr_archive/hessels/archibald/0337+17/raw/GBT\n",
      "INFO:root:Processing uppi batch 56063 0002.fits in /psr_archive/hessels/archibald/0337+17/raw/GBT\n",
      "INFO:root:Processing uppi batch 56066 0002.fits in /psr_archive/hessels/archibald/0337+17/raw/GBT\n",
      "INFO:root:Processing uppi batch 56069 0004.fits in /psr_archive/hessels/archibald/0337+17/raw/GBT\n",
      "INFO:root:Processing uppi batch 56071 0002.fits in /psr_archive/hessels/archibald/0337+17/raw/GBT\n",
      "INFO:root:Processing uppi batch 56081 0004.fits in /psr_archive/hessels/archibald/0337+17/raw/GBT\n",
      "INFO:root:Processing uppi batch 56096 0002.fits in /psr_archive/hessels/archibald/0337+17/raw/GBT\n",
      "INFO:root:Processing uppi batch 56101 0004.fits in /psr_archive/hessels/archibald/0337+17/raw/GBT\n",
      "INFO:root:Processing uppi batch 56103 0002.fits in /psr_archive/hessels/archibald/0337+17/raw/GBT\n",
      "INFO:root:Processing uppi batch 56107 0002.fits in /psr_archive/hessels/archibald/0337+17/raw/GBT\n",
      "INFO:root:Processing uppi batch 56116 0002.fits in /psr_archive/hessels/archibald/0337+17/raw/GBT\n",
      "INFO:root:Processing uppi batch 56121 0002.fits in /psr_archive/hessels/archibald/0337+17/raw/GBT\n",
      "INFO:root:Processing uppi batch 56124 0002.fits in /psr_archive/hessels/archibald/0337+17/raw/GBT\n",
      "INFO:root:Processing uppi batch 56131 0002.fits in /psr_archive/hessels/archibald/0337+17/raw/GBT\n",
      "INFO:root:Processing uppi batch 56135 0002.fits in /psr_archive/hessels/archibald/0337+17/raw/GBT\n",
      "INFO:root:Processing uppi batch 56142 0004 in /psr_archive/hessels/archibald/0337+17/raw/GBT\n",
      "INFO:root:Processing uppi batch 56145 0002.fits in /psr_archive/hessels/archibald/0337+17/raw/GBT\n",
      "INFO:root:Processing uppi batch 56149 0002.fits in /psr_archive/hessels/archibald/0337+17/raw/GBT\n",
      "INFO:root:Processing uppi batch 56158 0002.fits in /psr_archive/hessels/archibald/0337+17/raw/GBT\n",
      "INFO:root:Processing uppi batch 56163 0002.fits in /psr_archive/hessels/archibald/0337+17/raw/GBT\n",
      "INFO:root:Processing uppi batch 56170 0002.fits in /psr_archive/hessels/archibald/0337+17/raw/GBT\n",
      "INFO:root:Processing uppi batch 56175 0002.fits in /psr_archive/hessels/archibald/0337+17/raw/GBT\n",
      "INFO:root:Processing uppi batch 56179 0003.fits in /psr_archive/hessels/archibald/0337+17/raw/GBT\n",
      "INFO:root:Processing uppi batch 56187 0004.fits in /psr_archive/hessels/archibald/0337+17/raw/GBT\n",
      "INFO:root:Processing uppi batch 56197 0002.fits in /psr_archive/hessels/archibald/0337+17/raw/GBT\n",
      "INFO:root:Processing uppi batch 56203 0002.fits in /psr_archive/hessels/archibald/0337+17/raw/GBT\n",
      "INFO:root:Processing uppi batch 56207 0002.fits in /psr_archive/hessels/archibald/0337+17/raw/GBT\n",
      "INFO:root:Processing uppi batch 56214 0002.fits in /psr_archive/hessels/archibald/0337+17/raw/GBT\n",
      "INFO:root:Processing uppi batch 56223 0005.fits in /psr_archive/hessels/archibald/0337+17/raw/GBT\n",
      "INFO:root:Processing uppi batch 56234 0005 in /psr_archive/hessels/archibald/0337+17/raw/GBT\n",
      "INFO:root:Processing uppi batch 56236 0002.fits in /psr_archive/hessels/archibald/0337+17/raw/GBT\n",
      "INFO:root:Processing uppi batch 56241 0003.fits in /psr_archive/hessels/archibald/0337+17/raw/GBT\n",
      "INFO:root:Processing uppi batch 56246 0002.fits in /psr_archive/hessels/archibald/0337+17/raw/GBT\n",
      "INFO:root:Processing uppi batch 56274 0003.fits in /psr_archive/hessels/archibald/0337+17/raw/GBT\n",
      "INFO:root:Processing uppi batch 56276 0002.fits in /psr_archive/hessels/archibald/0337+17/raw/GBT\n",
      "INFO:root:Processing uppi batch 56283 0002.fits in /psr_archive/hessels/archibald/0337+17/raw/GBT\n",
      "INFO:root:Processing uppi batch 56290 0002.fits in /psr_archive/hessels/archibald/0337+17/raw/GBT\n",
      "INFO:root:Processing uppi batch 56297 0002.fits in /psr_archive/hessels/archibald/0337+17/raw/GBT\n",
      "INFO:root:Processing uppi batch 56304 0002.fits in /psr_archive/hessels/archibald/0337+17/raw/GBT\n",
      "INFO:root:Processing uppi batch 56311 0002.fits in /psr_archive/hessels/archibald/0337+17/raw/GBT\n",
      "INFO:root:Processing uppi batch 56320 0002 in /psr_archive/hessels/archibald/0337+17/raw/GBT\n",
      "INFO:root:Processing uppi batch 56328 0002.fits in /psr_archive/hessels/archibald/0337+17/raw/GBT\n",
      "INFO:root:Processing uppi batch 56333 0004.fits in /psr_archive/hessels/archibald/0337+17/raw/GBT\n",
      "INFO:root:Processing uppi batch 56340 0002.fits in /psr_archive/hessels/archibald/0337+17/raw/GBT\n",
      "INFO:root:Processing uppi batch 56346 0002.fits in /psr_archive/hessels/archibald/0337+17/raw/GBT\n",
      "INFO:root:Processing uppi batch 56353 0002.fits in /psr_archive/hessels/archibald/0337+17/raw/GBT\n",
      "INFO:root:Processing uppi batch 56362 0004.fits in /psr_archive/hessels/archibald/0337+17/raw/GBT\n",
      "INFO:root:Processing uppi batch 56367 0002.fits in /psr_archive/hessels/archibald/0337+17/raw/GBT\n",
      "INFO:root:Processing uppi batch 56376 0002.fits in /psr_archive/hessels/archibald/0337+17/raw/GBT\n",
      "INFO:root:Processing uppi batch 56382 0002.fits in /psr_archive/hessels/archibald/0337+17/raw/GBT\n",
      "INFO:root:Processing uppi batch 56389 0002.fits in /psr_archive/hessels/archibald/0337+17/raw/GBT\n",
      "INFO:root:Processing uppi batch 56398 0002.fits in /psr_archive/hessels/archibald/0337+17/raw/GBT\n",
      "INFO:root:Processing uppi batch 56406 0002.fits in /psr_archive/hessels/archibald/0337+17/raw/GBT\n",
      "INFO:root:Processing uppi batch 56412 0005 in /psr_archive/hessels/archibald/0337+17/raw/GBT\n",
      "INFO:root:Processing uppi batch 56416 0002.fits in /psr_archive/hessels/archibald/0337+17/raw/GBT\n",
      "INFO:root:Processing uppi batch 56423 0002.fits in /psr_archive/hessels/archibald/0337+17/raw/GBT\n",
      "INFO:root:Processing uppi batch 56430 0002.fits in /psr_archive/hessels/archibald/0337+17/raw/GBT\n",
      "INFO:root:Processing uppi batch 56437 0002.fits in /psr_archive/hessels/archibald/0337+17/raw/GBT\n",
      "INFO:root:Processing uppi batch 56444 0003.fits in /psr_archive/hessels/archibald/0337+17/raw/GBT\n",
      "INFO:root:Processing uppi batch 56458 0002.fits in /psr_archive/hessels/archibald/0337+17/raw/GBT\n",
      "INFO:root:Processing uppi batch 56465 0002.fits in /psr_archive/hessels/archibald/0337+17/raw/GBT\n",
      "INFO:root:Processing uppi batch 56471 0004.fits in /psr_archive/hessels/archibald/0337+17/raw/GBT\n",
      "INFO:root:Processing uppi batch 56479 0002.fits in /psr_archive/hessels/archibald/0337+17/raw/GBT\n",
      "INFO:root:Processing uppi batch 56487 0002.fits in /psr_archive/hessels/archibald/0337+17/raw/GBT\n",
      "INFO:root:Processing uppi batch 56487 0003.fits in /psr_archive/hessels/archibald/0337+17/raw/GBT\n",
      "INFO:root:Processing uppi batch 56494 0002.fits in /psr_archive/hessels/archibald/0337+17/raw/GBT\n",
      "INFO:root:Processing uppi batch 56500 0002.fits in /psr_archive/hessels/archibald/0337+17/raw/GBT\n",
      "INFO:root:Processing uppi batch 56506 0002 in /psr_archive/hessels/archibald/0337+17/raw/GBT\n",
      "INFO:root:Processing uppi batch 56515 0002.fits in /psr_archive/hessels/archibald/0337+17/raw/GBT\n",
      "INFO:root:Processing uppi batch 56523 0002.fits in /psr_archive/hessels/archibald/0337+17/raw/GBT\n",
      "INFO:root:Processing uppi batch 56527 0002 in /psr_archive/hessels/archibald/0337+17/raw/GBT\n",
      "INFO:root:Processing uppi batch 56550 0002.fits in /psr_archive/hessels/archibald/0337+17/raw/GBT\n",
      "INFO:root:Processing uppi batch 56563 0002.fits in /psr_archive/hessels/archibald/0337+17/raw/GBT\n",
      "INFO:root:Processing uppi batch 56585 0002.fits in /psr_archive/hessels/archibald/0337+17/raw/GBT\n",
      "INFO:root:Processing uppi batch 56595 0002.fits in /psr_archive/hessels/archibald/0337+17/raw/GBT\n",
      "INFO:root:Processing uppi batch 56599 0002.fits in /psr_archive/hessels/archibald/0337+17/raw/GBT\n",
      "INFO:root:Processing uppi batch 56603 0002.fits in /psr_archive/hessels/archibald/0337+17/raw/GBT\n",
      "INFO:root:Processing uppi batch 56611 0002.fits in /psr_archive/hessels/archibald/0337+17/raw/GBT\n",
      "INFO:root:Processing uppi batch 56611 0003.fits in /psr_archive/hessels/archibald/0337+17/raw/GBT\n",
      "INFO:root:Processing uppi batch 56622 0002.fits in /psr_archive/hessels/archibald/0337+17/raw/GBT\n",
      "INFO:root:Processing uppi batch 56630 0003.fits in /psr_archive/hessels/archibald/0337+17/raw/GBT\n",
      "INFO:root:Processing uppi batch 56639 0002.fits in /psr_archive/hessels/archibald/0337+17/raw/GBT\n",
      "INFO:root:Processing uppi batch 56649 0002.fits in /psr_archive/hessels/archibald/0337+17/raw/GBT\n",
      "INFO:root:Processing uppi batch 56660 0002.fits in /psr_archive/hessels/archibald/0337+17/raw/GBT\n",
      "INFO:root:Processing uppi batch 56668 0013.fits in /psr_archive/hessels/archibald/0337+17/raw/GBT\n",
      "INFO:root:Processing uppi batch 56684 0004.fits in /psr_archive/hessels/archibald/0337+17/raw/GBT\n",
      "INFO:root:Processing uppi batch 56689 0004.fits in /psr_archive/hessels/archibald/0337+17/raw/GBT\n",
      "INFO:root:Processing uppi batch 56690 0010 in /psr_archive/hessels/archibald/0337+17/raw/GBT\n",
      "INFO:root:Processing uppi batch 56702 0008.fits in /psr_archive/hessels/archibald/0337+17/raw/GBT\n"
     ]
    }
   ],
   "source": [
    "pipe.process_uppi_dir(\"/psr_archive/hessels/archibald/0337+17/raw/GBT\")"
   ]
  },
  {
   "cell_type": "code",
   "execution_count": null,
   "metadata": {
    "collapsed": false
   },
   "outputs": [],
   "source": [
    "!ls /psr_archive/hessels/archibald/0337+17/raw/GBT/*.failure"
   ]
  },
  {
   "cell_type": "code",
   "execution_count": 7,
   "metadata": {
    "collapsed": true
   },
   "outputs": [],
   "source": [
    "!rm /psr_archive/hessels/archibald/0337+17/raw/GBT/*.failure"
   ]
  },
  {
   "cell_type": "code",
   "execution_count": 40,
   "metadata": {
    "collapsed": false
   },
   "outputs": [
    {
     "name": "stderr",
     "output_type": "stream",
     "text": [
      "INFO:root:Processing uppi batch 56142 0004 in /psr_archive/hessels/archibald/0337+17/raw/GBT\n"
     ]
    },
    {
     "data": {
      "text/plain": [
       "{'P': 0.002732191308248665,\n",
       " 'align_files': ['align_0001.ar',\n",
       "  'align_0002.ar',\n",
       "  'align_0003.ar',\n",
       "  'align_0004.ar',\n",
       "  'align_0005.ar',\n",
       "  'align_0006.ar',\n",
       "  'align_0007.ar',\n",
       "  'align_0008.ar',\n",
       "  'align_0009.ar',\n",
       "  'align_0010.ar',\n",
       "  'align_0011.ar',\n",
       "  'align_0012.ar',\n",
       "  'align_0013.ar',\n",
       "  'align_0014.ar',\n",
       "  'align_0015.ar',\n",
       "  'align_0016.ar',\n",
       "  'align_0017.ar',\n",
       "  'align_0018.ar',\n",
       "  'align_0019.ar',\n",
       "  'align_0020.ar',\n",
       "  'align_0021.ar',\n",
       "  'align_0022.ar',\n",
       "  'align_0023.ar',\n",
       "  'align_0024.ar',\n",
       "  'align_0025.ar',\n",
       "  'align_0026.ar',\n",
       "  'align_0027.ar',\n",
       "  'align_0028.ar'],\n",
       " 'band': 1400,\n",
       " 'centre_frequency': 1499.21875,\n",
       " 'input_files': ['/psr_archive/hessels/archibald/0337+17/raw/GBT/guppi_56142_0337+17_0004_0001.fits',\n",
       "  '/psr_archive/hessels/archibald/0337+17/raw/GBT/guppi_56142_0337+17_0004_0002.fits',\n",
       "  '/psr_archive/hessels/archibald/0337+17/raw/GBT/guppi_56142_0337+17_0004_0003.fits',\n",
       "  '/psr_archive/hessels/archibald/0337+17/raw/GBT/guppi_56142_0337+17_0004_0004.fits',\n",
       "  '/psr_archive/hessels/archibald/0337+17/raw/GBT/guppi_56142_0337+17_0004_0005.fits',\n",
       "  '/psr_archive/hessels/archibald/0337+17/raw/GBT/guppi_56142_0337+17_0004_0006.fits',\n",
       "  '/psr_archive/hessels/archibald/0337+17/raw/GBT/guppi_56142_0337+17_0004_0007.fits',\n",
       "  '/psr_archive/hessels/archibald/0337+17/raw/GBT/guppi_56142_0337+17_0004_0008.fits',\n",
       "  '/psr_archive/hessels/archibald/0337+17/raw/GBT/guppi_56142_0337+17_0004_0009.fits',\n",
       "  '/psr_archive/hessels/archibald/0337+17/raw/GBT/guppi_56142_0337+17_0004_0011.fits',\n",
       "  '/psr_archive/hessels/archibald/0337+17/raw/GBT/guppi_56142_0337+17_0004_0012.fits',\n",
       "  '/psr_archive/hessels/archibald/0337+17/raw/GBT/guppi_56142_0337+17_0004_0013.fits',\n",
       "  '/psr_archive/hessels/archibald/0337+17/raw/GBT/guppi_56142_0337+17_0004_0014.fits',\n",
       "  '/psr_archive/hessels/archibald/0337+17/raw/GBT/guppi_56142_0337+17_0004_0015.fits',\n",
       "  '/psr_archive/hessels/archibald/0337+17/raw/GBT/guppi_56142_0337+17_0004_0016.fits',\n",
       "  '/psr_archive/hessels/archibald/0337+17/raw/GBT/guppi_56142_0337+17_0004_0017.fits',\n",
       "  '/psr_archive/hessels/archibald/0337+17/raw/GBT/guppi_56142_0337+17_0004_0018.fits',\n",
       "  '/psr_archive/hessels/archibald/0337+17/raw/GBT/guppi_56142_0337+17_0004_0019.fits',\n",
       "  '/psr_archive/hessels/archibald/0337+17/raw/GBT/guppi_56142_0337+17_0004_0021.fits',\n",
       "  '/psr_archive/hessels/archibald/0337+17/raw/GBT/guppi_56142_0337+17_0004_0022.fits',\n",
       "  '/psr_archive/hessels/archibald/0337+17/raw/GBT/guppi_56142_0337+17_0004_0023.fits',\n",
       "  '/psr_archive/hessels/archibald/0337+17/raw/GBT/guppi_56142_0337+17_0004_0024.fits',\n",
       "  '/psr_archive/hessels/archibald/0337+17/raw/GBT/guppi_56142_0337+17_0004_0025.fits',\n",
       "  '/psr_archive/hessels/archibald/0337+17/raw/GBT/guppi_56142_0337+17_0004_0026.fits',\n",
       "  '/psr_archive/hessels/archibald/0337+17/raw/GBT/guppi_56142_0337+17_0004_0027.fits',\n",
       "  '/psr_archive/hessels/archibald/0337+17/raw/GBT/guppi_56142_0337+17_0004_0028.fits',\n",
       "  '/psr_archive/hessels/archibald/0337+17/raw/GBT/guppi_56142_0337+17_0004_0029.fits',\n",
       "  '/psr_archive/hessels/archibald/0337+17/raw/GBT/guppi_56142_0337+17_0004_0030.fits'],\n",
       " 'length': 38417.99847478978,\n",
       " 'max_smearing': 0,\n",
       " 'mjd': 56142.50304197458,\n",
       " 'name': '56142.50_GBT_1400',\n",
       " 'obs_dir': '/psr_archive/hessels/archibald/0337+17/obs/56142.50_GBT_1400',\n",
       " 'par': '/psr_archive/hessels/archibald/0337+17/ephemerides/56144.par',\n",
       " 'tel': 'GBT'}"
      ]
     },
     "execution_count": 40,
     "metadata": {},
     "output_type": "execute_result"
    }
   ],
   "source": [
    "pipe.process_uppi_batch(\"/psr_archive/hessels/archibald/0337+17/raw/GBT\", \"56142\", \"0004\", \"/tmp/uppi_problem\")"
   ]
  },
  {
   "cell_type": "code",
   "execution_count": 11,
   "metadata": {
    "collapsed": false
   },
   "outputs": [
    {
     "name": "stdout",
     "output_type": "stream",
     "text": [
      "/psr_archive/hessels/archibald/0337+17/raw/GBT/GUPPI_0337+17_55962_22190_0001.fits.success\r\n",
      "/psr_archive/hessels/archibald/0337+17/raw/GBT/GUPPI_0337+17_55962_22518_0001.fits.success\r\n",
      "/psr_archive/hessels/archibald/0337+17/raw/GBT/GUPPI_0337+17_55963_84308_0001.fits.success\r\n",
      "/psr_archive/hessels/archibald/0337+17/raw/GBT/GUPPI_0337+17_55970_18622_0001.fits.success\r\n",
      "/psr_archive/hessels/archibald/0337+17/raw/GBT/GUPPI_0337+17_55973_18050_0001.fits.success\r\n",
      "/psr_archive/hessels/archibald/0337+17/raw/GBT/GUPPI_0337+17_55976_07498_0001.fits.success\r\n",
      "/psr_archive/hessels/archibald/0337+17/raw/GBT/GUPPI_0337+17_55978_78570_0001.fits.success\r\n",
      "/psr_archive/hessels/archibald/0337+17/raw/GBT/GUPPI_0337+17_55982_15125_0001.fits.success\r\n",
      "/psr_archive/hessels/archibald/0337+17/raw/GBT/GUPPI_0337+17_55986_14669_0001.fits.success\r\n",
      "/psr_archive/hessels/archibald/0337+17/raw/GBT/GUPPI_0337+17_55986_16383_0001.fits.success\r\n",
      "/psr_archive/hessels/archibald/0337+17/raw/GBT/GUPPI_0337+17_55992_09479_0001.fits.success\r\n",
      "/psr_archive/hessels/archibald/0337+17/raw/GBT/GUPPI_0337+17_55994_75204_0001.fits.success\r\n",
      "/psr_archive/hessels/archibald/0337+17/raw/GBT/GUPPI_0337+17_55997_68141_0001.fits.success\r\n",
      "/psr_archive/hessels/archibald/0337+17/raw/GBT/GUPPI_0337+17_55998_85890_0001.fits.success\r\n",
      "/psr_archive/hessels/archibald/0337+17/raw/GBT/GUPPI_0337+17_55999_74363_0001.fits.success\r\n",
      "/psr_archive/hessels/archibald/0337+17/raw/GBT/GUPPI_0337+17_56003_10560_0001.fits.success\r\n",
      "/psr_archive/hessels/archibald/0337+17/raw/GBT/GUPPI_0337+17_56006_11215_0001.fits.success\r\n",
      "/psr_archive/hessels/archibald/0337+17/raw/GBT/GUPPI_0337+17_56009_53396_0001.fits.success\r\n",
      "/psr_archive/hessels/archibald/0337+17/raw/GBT/GUPPI_0337+17_56014_74216_0001.fits.success\r\n",
      "/psr_archive/hessels/archibald/0337+17/raw/GBT/GUPPI_0337+17_56014_74601_0001.fits.success\r\n",
      "/psr_archive/hessels/archibald/0337+17/raw/GBT/GUPPI_0337+17_56018_62169_0001.fits.success\r\n",
      "/psr_archive/hessels/archibald/0337+17/raw/GBT/GUPPI_0337+17_56021_61346_0001.fits.success\r\n",
      "/psr_archive/hessels/archibald/0337+17/raw/GBT/GUPPI_0337+17_56028_86004_0001.fits.success\r\n",
      "/psr_archive/hessels/archibald/0337+17/raw/GBT/GUPPI_0337+17_56044_83552_0001.fits.success\r\n",
      "/psr_archive/hessels/archibald/0337+17/raw/GBT/GUPPI_0337+17_56128_38662_0001.fits.success\r\n",
      "/psr_archive/hessels/archibald/0337+17/raw/GBT/guppi_56034_0337+17_0002.fits.success\r\n",
      "/psr_archive/hessels/archibald/0337+17/raw/GBT/guppi_56036_0337+17_0002.fits.success\r\n",
      "/psr_archive/hessels/archibald/0337+17/raw/GBT/guppi_56039_0337+17_0003.fits.success\r\n",
      "/psr_archive/hessels/archibald/0337+17/raw/GBT/guppi_56041_0337+17_0002.fits.success\r\n",
      "/psr_archive/hessels/archibald/0337+17/raw/GBT/guppi_56047_0337+17_0002.fits.success\r\n",
      "/psr_archive/hessels/archibald/0337+17/raw/GBT/guppi_56050_0337+17_0008.fits.success\r\n",
      "/psr_archive/hessels/archibald/0337+17/raw/GBT/guppi_56053_0337+17_0002.fits.success\r\n",
      "/psr_archive/hessels/archibald/0337+17/raw/GBT/guppi_56056_0337+17_0002.fits.success\r\n",
      "/psr_archive/hessels/archibald/0337+17/raw/GBT/guppi_56060_0337+17_0002.fits.success\r\n",
      "/psr_archive/hessels/archibald/0337+17/raw/GBT/guppi_56063_0337+17_0002.fits.success\r\n",
      "/psr_archive/hessels/archibald/0337+17/raw/GBT/guppi_56066_0337+17_0002.fits.success\r\n",
      "/psr_archive/hessels/archibald/0337+17/raw/GBT/guppi_56069_0337+17_0004.fits.success\r\n",
      "/psr_archive/hessels/archibald/0337+17/raw/GBT/guppi_56071_0337+17_0002.fits.success\r\n",
      "/psr_archive/hessels/archibald/0337+17/raw/GBT/guppi_56081_0337+17_0004.fits.success\r\n",
      "/psr_archive/hessels/archibald/0337+17/raw/GBT/guppi_56096_0337+17_0002.fits.success\r\n",
      "/psr_archive/hessels/archibald/0337+17/raw/GBT/guppi_56101_0337+17_0004.fits.success\r\n",
      "/psr_archive/hessels/archibald/0337+17/raw/GBT/guppi_56103_0337+17_0002.fits.success\r\n",
      "/psr_archive/hessels/archibald/0337+17/raw/GBT/guppi_56107_0337+17_0002.fits.success\r\n",
      "/psr_archive/hessels/archibald/0337+17/raw/GBT/guppi_56116_0337+17_0002.fits.success\r\n",
      "/psr_archive/hessels/archibald/0337+17/raw/GBT/guppi_56121_0337+17_0002.fits.success\r\n",
      "/psr_archive/hessels/archibald/0337+17/raw/GBT/guppi_56124_0337+17_0002.fits.success\r\n",
      "/psr_archive/hessels/archibald/0337+17/raw/GBT/guppi_56131_0337+17_0002.fits.success\r\n",
      "/psr_archive/hessels/archibald/0337+17/raw/GBT/guppi_56135_0337+17_0002.fits.success\r\n",
      "/psr_archive/hessels/archibald/0337+17/raw/GBT/guppi_56142_0337+17_0004_0001.fits.success\r\n",
      "/psr_archive/hessels/archibald/0337+17/raw/GBT/guppi_56145_0337+17_0002.fits.success\r\n",
      "/psr_archive/hessels/archibald/0337+17/raw/GBT/guppi_56149_0337+17_0002.fits.success\r\n",
      "/psr_archive/hessels/archibald/0337+17/raw/GBT/guppi_56158_0337+17_0002.fits.success\r\n",
      "/psr_archive/hessels/archibald/0337+17/raw/GBT/guppi_56163_0337+17_0002.fits.success\r\n",
      "/psr_archive/hessels/archibald/0337+17/raw/GBT/guppi_56170_0337+17_0002.fits.success\r\n",
      "/psr_archive/hessels/archibald/0337+17/raw/GBT/guppi_56175_0337+17_0002.fits.success\r\n",
      "/psr_archive/hessels/archibald/0337+17/raw/GBT/guppi_56179_0337+17_0003.fits.success\r\n",
      "/psr_archive/hessels/archibald/0337+17/raw/GBT/guppi_56187_0337+17_0004.fits.success\r\n",
      "/psr_archive/hessels/archibald/0337+17/raw/GBT/guppi_56197_0337+17_0002.fits.success\r\n",
      "/psr_archive/hessels/archibald/0337+17/raw/GBT/guppi_56203_0337+17_0002.fits.success\r\n",
      "/psr_archive/hessels/archibald/0337+17/raw/GBT/guppi_56207_0337+17_0002.fits.success\r\n",
      "/psr_archive/hessels/archibald/0337+17/raw/GBT/guppi_56214_0337+17_0002.fits.success\r\n",
      "/psr_archive/hessels/archibald/0337+17/raw/GBT/guppi_56223_0337+17_0005.fits.success\r\n",
      "/psr_archive/hessels/archibald/0337+17/raw/GBT/guppi_56234_0337+17_0005_0001.fits.success\r\n",
      "/psr_archive/hessels/archibald/0337+17/raw/GBT/guppi_56236_0337+17_0002.fits.success\r\n",
      "/psr_archive/hessels/archibald/0337+17/raw/GBT/guppi_56241_0337+17_0003.fits.success\r\n",
      "/psr_archive/hessels/archibald/0337+17/raw/GBT/guppi_56246_0337+17_0002.fits.success\r\n",
      "/psr_archive/hessels/archibald/0337+17/raw/GBT/guppi_56274_0337+17_0003.fits.success\r\n",
      "/psr_archive/hessels/archibald/0337+17/raw/GBT/guppi_56276_0337+17_0002.fits.success\r\n",
      "/psr_archive/hessels/archibald/0337+17/raw/GBT/guppi_56283_0337+17_0002.fits.success\r\n",
      "/psr_archive/hessels/archibald/0337+17/raw/GBT/guppi_56290_0337+17_0002.fits.success\r\n",
      "/psr_archive/hessels/archibald/0337+17/raw/GBT/guppi_56297_0337+17_0002.fits.success\r\n",
      "/psr_archive/hessels/archibald/0337+17/raw/GBT/guppi_56304_0337+17_0002.fits.success\r\n",
      "/psr_archive/hessels/archibald/0337+17/raw/GBT/guppi_56311_0337+17_0002.fits.success\r\n",
      "/psr_archive/hessels/archibald/0337+17/raw/GBT/guppi_56320_0337+17_0002_0001.fits.success\r\n",
      "/psr_archive/hessels/archibald/0337+17/raw/GBT/guppi_56328_0337+17_0002.fits.success\r\n",
      "/psr_archive/hessels/archibald/0337+17/raw/GBT/guppi_56333_0337+17_0004.fits.success\r\n",
      "/psr_archive/hessels/archibald/0337+17/raw/GBT/guppi_56340_0337+17_0002.fits.success\r\n",
      "/psr_archive/hessels/archibald/0337+17/raw/GBT/guppi_56346_0337+17_0002.fits.success\r\n",
      "/psr_archive/hessels/archibald/0337+17/raw/GBT/guppi_56353_0337+17_0002.fits.success\r\n",
      "/psr_archive/hessels/archibald/0337+17/raw/GBT/guppi_56362_0337+17_0004.fits.success\r\n",
      "/psr_archive/hessels/archibald/0337+17/raw/GBT/guppi_56367_0337+17_0002.fits.success\r\n",
      "/psr_archive/hessels/archibald/0337+17/raw/GBT/guppi_56376_0337+17_0002.fits.success\r\n",
      "/psr_archive/hessels/archibald/0337+17/raw/GBT/guppi_56382_0337+17_0002.fits.success\r\n",
      "/psr_archive/hessels/archibald/0337+17/raw/GBT/guppi_56389_0337+17_0002.fits.success\r\n",
      "/psr_archive/hessels/archibald/0337+17/raw/GBT/guppi_56398_0337+17_0002.fits.success\r\n",
      "/psr_archive/hessels/archibald/0337+17/raw/GBT/guppi_56406_0337+17_0002.fits.success\r\n",
      "/psr_archive/hessels/archibald/0337+17/raw/GBT/guppi_56412_0337+17_0005_0001.fits.success\r\n",
      "/psr_archive/hessels/archibald/0337+17/raw/GBT/guppi_56416_0337+17_0002.fits.success\r\n",
      "/psr_archive/hessels/archibald/0337+17/raw/GBT/guppi_56423_0337+17_0002.fits.success\r\n",
      "/psr_archive/hessels/archibald/0337+17/raw/GBT/guppi_56430_0337+17_0002.fits.success\r\n",
      "/psr_archive/hessels/archibald/0337+17/raw/GBT/guppi_56437_0337+17_0002.fits.success\r\n",
      "/psr_archive/hessels/archibald/0337+17/raw/GBT/guppi_56444_0337+17_0003.fits.success\r\n",
      "/psr_archive/hessels/archibald/0337+17/raw/GBT/guppi_56458_0337+17_0002.fits.success\r\n",
      "/psr_archive/hessels/archibald/0337+17/raw/GBT/guppi_56465_0337+17_0002.fits.success\r\n",
      "/psr_archive/hessels/archibald/0337+17/raw/GBT/guppi_56471_0337+17_0004.fits.success\r\n",
      "/psr_archive/hessels/archibald/0337+17/raw/GBT/guppi_56479_0337+17_0002.fits.success\r\n",
      "/psr_archive/hessels/archibald/0337+17/raw/GBT/guppi_56487_0337+17_0002.fits.success\r\n",
      "/psr_archive/hessels/archibald/0337+17/raw/GBT/guppi_56487_0337+17_0003.fits.success\r\n",
      "/psr_archive/hessels/archibald/0337+17/raw/GBT/guppi_56494_0337+17_0002.fits.success\r\n",
      "/psr_archive/hessels/archibald/0337+17/raw/GBT/guppi_56500_0337+17_0002.fits.success\r\n",
      "/psr_archive/hessels/archibald/0337+17/raw/GBT/guppi_56506_0337+17_0002_0001.fits.success\r\n",
      "/psr_archive/hessels/archibald/0337+17/raw/GBT/guppi_56515_0337+17_0002.fits.success\r\n",
      "/psr_archive/hessels/archibald/0337+17/raw/GBT/guppi_56523_0337+17_0002.fits.success\r\n",
      "/psr_archive/hessels/archibald/0337+17/raw/GBT/guppi_56527_0337+17_0002_0001.fits.success\r\n",
      "/psr_archive/hessels/archibald/0337+17/raw/GBT/guppi_56550_0337+17_0002.fits.success\r\n",
      "/psr_archive/hessels/archibald/0337+17/raw/GBT/guppi_56563_0337+17_0002.fits.success\r\n",
      "/psr_archive/hessels/archibald/0337+17/raw/GBT/guppi_56585_0337+17_0002.fits.success\r\n",
      "/psr_archive/hessels/archibald/0337+17/raw/GBT/guppi_56595_0337+17_0002.fits.success\r\n",
      "/psr_archive/hessels/archibald/0337+17/raw/GBT/guppi_56599_0337+17_0002.fits.success\r\n",
      "/psr_archive/hessels/archibald/0337+17/raw/GBT/guppi_56603_0337+17_0002.fits.success\r\n",
      "/psr_archive/hessels/archibald/0337+17/raw/GBT/guppi_56611_0337+17_0002.fits.success\r\n",
      "/psr_archive/hessels/archibald/0337+17/raw/GBT/guppi_56611_0337+17_0003.fits.success\r\n",
      "/psr_archive/hessels/archibald/0337+17/raw/GBT/guppi_56622_0337+17_0002.fits.success\r\n",
      "/psr_archive/hessels/archibald/0337+17/raw/GBT/guppi_56630_0337+17_0003.fits.success\r\n",
      "/psr_archive/hessels/archibald/0337+17/raw/GBT/guppi_56639_0337+17_0002.fits.success\r\n",
      "/psr_archive/hessels/archibald/0337+17/raw/GBT/guppi_56649_0337+17_0002.fits.success\r\n",
      "/psr_archive/hessels/archibald/0337+17/raw/GBT/guppi_56660_0337+17_0002.fits.success\r\n",
      "/psr_archive/hessels/archibald/0337+17/raw/GBT/guppi_56668_0337+17_0013.fits.success\r\n",
      "/psr_archive/hessels/archibald/0337+17/raw/GBT/guppi_56684_0337+17_0004.fits.success\r\n",
      "/psr_archive/hessels/archibald/0337+17/raw/GBT/guppi_56689_0337+17_0004.fits.success\r\n",
      "/psr_archive/hessels/archibald/0337+17/raw/GBT/guppi_56690_0337+17_0010_0001.fits.success\r\n",
      "/psr_archive/hessels/archibald/0337+17/raw/GBT/guppi_56702_0337+17_0008.fits.success\r\n"
     ]
    }
   ],
   "source": [
    "!ls /psr_archive/hessels/archibald/0337+17/raw/GBT/*.success"
   ]
  },
  {
   "cell_type": "code",
   "execution_count": 12,
   "metadata": {
    "collapsed": true
   },
   "outputs": [],
   "source": [
    "!rm /psr_archive/hessels/archibald/0337+17/raw/GBT/*.success"
   ]
  },
  {
   "cell_type": "code",
   "execution_count": null,
   "metadata": {
    "collapsed": true
   },
   "outputs": [],
   "source": []
  },
  {
   "cell_type": "code",
   "execution_count": 53,
   "metadata": {
    "collapsed": true
   },
   "outputs": [],
   "source": [
    "F = psrchive.Archive_load(\"data/raw/GBT/GUPPI_0337+17_56014_74601_0001.fits\")"
   ]
  },
  {
   "cell_type": "code",
   "execution_count": 64,
   "metadata": {
    "collapsed": false
   },
   "outputs": [
    {
     "name": "stdout",
     "output_type": "stream",
     "text": [
      "97\n",
      "1499.21875\n",
      "GUPPI\n",
      "800.0\n",
      "4\n",
      "Rcvr1_2\n",
      "FluxDensity\n",
      "Pulsar\n"
     ]
    }
   ],
   "source": [
    "print F.get_nsubint()\n",
    "print F.get_centre_frequency()\n",
    "print F.get_backend_name()\n",
    "print F.get_bandwidth()\n",
    "print F.get_npol()\n",
    "print F.get_receiver_name()\n",
    "print F.get_scale()\n",
    "print F.get_type()\n"
   ]
  },
  {
   "cell_type": "code",
   "execution_count": 56,
   "metadata": {
    "collapsed": false
   },
   "outputs": [
    {
     "data": {
      "text/plain": [
       "'GUPPI'"
      ]
     },
     "execution_count": 56,
     "metadata": {},
     "output_type": "execute_result"
    }
   ],
   "source": []
  },
  {
   "cell_type": "code",
   "execution_count": null,
   "metadata": {
    "collapsed": true
   },
   "outputs": [],
   "source": []
  }
 ],
 "metadata": {
  "kernelspec": {
   "display_name": "Python 2",
   "language": "python",
   "name": "python2"
  },
  "language_info": {
   "codemirror_mode": {
    "name": "ipython",
    "version": 2
   },
   "file_extension": ".py",
   "mimetype": "text/x-python",
   "name": "python",
   "nbconvert_exporter": "python",
   "pygments_lexer": "ipython2",
   "version": "2.7.6"
  }
 },
 "nbformat": 4,
 "nbformat_minor": 1
}
