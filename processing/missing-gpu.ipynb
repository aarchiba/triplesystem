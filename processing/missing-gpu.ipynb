{
 "cells": [
  {
   "cell_type": "code",
   "execution_count": 1,
   "metadata": {
    "collapsed": false
   },
   "outputs": [
    {
     "name": "stderr",
     "output_type": "stream",
     "text": [
      "DEBUG:root:test\n"
     ]
    },
    {
     "data": {
      "text/plain": [
       "<matplotlib.figure.Figure at 0x7f288538b350>"
      ]
     },
     "metadata": {},
     "output_type": "display_data"
    }
   ],
   "source": [
    "%load_ext autoreload\n",
    "\n",
    "%autoreload 2\n",
    "\n",
    "import os\n",
    "from glob import glob\n",
    "import subprocess\n",
    "import shutil\n",
    "import traceback\n",
    "import random\n",
    "import pickle\n",
    "from os.path import join\n",
    "\n",
    "import joblib\n",
    "from concurrent.futures import ProcessPoolExecutor\n",
    "\n",
    "from backports import tempfile\n",
    "\n",
    "import matplotlib\n",
    "matplotlib.rcParams['savefig.dpi'] = 144\n",
    "matplotlib.rcParams[\"image.composite_image\"]=False\n",
    "%matplotlib inline\n",
    "import numpy as np\n",
    "import matplotlib.pyplot as plt\n",
    "import scipy.optimize\n",
    "import scipy.linalg\n",
    "from numpy.fft import rfft, irfft, fft, ifft\n",
    "\n",
    "import multiprocessing\n",
    "import concurrent.futures\n",
    "from astropy.io import fits\n",
    "\n",
    "import psrchive\n",
    "import residuals\n",
    "\n",
    "import pipe\n",
    "from pipe import rotate_phase, convert_template, align_profile, align_scale_profile\n",
    "\n",
    "import template_match as tm\n",
    "\n",
    "plt.viridis()\n",
    "\n",
    "import logging\n",
    "logger = logging.getLogger()\n",
    "logger.setLevel(logging.DEBUG)\n",
    "logging.debug(\"test\")"
   ]
  },
  {
   "cell_type": "code",
   "execution_count": 15,
   "metadata": {
    "collapsed": true
   },
   "outputs": [],
   "source": [
    "#files = sorted(glob(\"data/raw/GBT/new/guppi_57825_0337+17_0002_*.fits\"))\n",
    "files = sorted(glob(\"data/raw/GBT/new/guppi_57591_0337+17_0005_*.fits\"))\n"
   ]
  },
  {
   "cell_type": "code",
   "execution_count": 20,
   "metadata": {
    "collapsed": false
   },
   "outputs": [
    {
     "name": "stdout",
     "output_type": "stream",
     "text": [
      "1200.0 1898.4375 1.5625 1.5625 448\n",
      "1200.0 1898.4375 1.5625 1.5625 448\n",
      "1200.0 1898.4375 1.5625 1.5625 448\n",
      "1200.0 1898.4375 1.5625 1.5625 448\n",
      "1200.0 1898.4375 1.5625 1.5625 448\n",
      "1200.0 1898.4375 1.5625 1.5625 448\n",
      "1200.0 1898.4375 1.5625 1.5625 448\n"
     ]
    }
   ],
   "source": [
    "for f in files:\n",
    "    hdulist = fits.open(f)\n",
    "    freqs = hdulist['SUBINT'].data['DAT_FREQ']\n",
    "    df = np.diff(freqs,axis=1)\n",
    "    print np.amin(freqs), np.amax(freqs), np.amin(df), np.amax(df), freqs.shape[1]"
   ]
  },
  {
   "cell_type": "code",
   "execution_count": 17,
   "metadata": {
    "collapsed": false
   },
   "outputs": [
    {
     "name": "stdout",
     "output_type": "stream",
     "text": [
      "(1550.0, 800.0, 448, 1.7857142857142858, 1.5625)\n",
      "(1150.0, 1950.0)\n",
      "(1150.78125, 1949.21875)\n",
      "(1150.0, 1948.4375)\n",
      "(1200.0, 1898.4375)\n"
     ]
    }
   ],
   "source": [
    "hdulist = fits.open(files[0])\n",
    "cf = hdulist[0].header['OBSFREQ']\n",
    "bw = hdulist[0].header['OBSBW']\n",
    "nchan_o = hdulist[0].header['OBSNCHAN']\n",
    "nchan = hdulist['SUBINT'].header['NCHAN']\n",
    "chan_bw = hdulist['SUBINT'].header['CHAN_BW']\n",
    "freqs = hdulist['SUBINT'].data['DAT_FREQ']\n",
    "\n",
    "print(cf, bw, nchan, bw/nchan, chan_bw)\n",
    "print(cf-bw/2, cf+bw/2)\n",
    "print(cf-bw/2+chan_bw/2, cf+bw/2-chan_bw/2)\n",
    "print(cf-bw/2, cf+bw/2-chan_bw)\n",
    "print(freqs[0,0], freqs[0,-1])\n"
   ]
  },
  {
   "cell_type": "code",
   "execution_count": 18,
   "metadata": {
    "collapsed": false
   },
   "outputs": [
    {
     "data": {
      "text/plain": [
       "XTENSION= 'BINTABLE'           / ***** Subintegration data  *****               \n",
       "BITPIX  =                    8 / N/A                                            \n",
       "NAXIS   =                    2 / 2-dimensional binary table                     \n",
       "NAXIS1  =              3689828 / width of table in bytes                        \n",
       "NAXIS2  =                  128 / Number of rows in table (NSUBINT)              \n",
       "PCOUNT  =                    0 / size of special data area                      \n",
       "GCOUNT  =                    1 / one data group (required keyword)              \n",
       "TFIELDS =                   20 / Number of fields per row                       \n",
       "TTYPE1  = 'INDEXVAL'           / Optionally used if INT_TYPE != TIME            \n",
       "TFORM1  = '1D      '           / Double                                         \n",
       "TTYPE2  = 'TSUBINT '           / Length of subintegration                       \n",
       "TFORM2  = '1D      '           / Double                                         \n",
       "TTYPE3  = 'OFFS_SUB'           / Offset from Start of subint centre             \n",
       "TFORM3  = '1D      '           / Double                                         \n",
       "TTYPE4  = 'LST_SUB '           / LST at subint centre                           \n",
       "TFORM4  = '1D      '           / Double                                         \n",
       "TTYPE5  = 'RA_SUB  '           / RA (J2000) at subint centre                    \n",
       "TFORM5  = '1D      '           / Double                                         \n",
       "TTYPE6  = 'DEC_SUB '           / Dec (J2000) at subint centre                   \n",
       "TFORM6  = '1D      '           / Double                                         \n",
       "TTYPE7  = 'GLON_SUB'           / [deg] Gal longitude at subint centre           \n",
       "TFORM7  = '1D      '           / Double                                         \n",
       "TTYPE8  = 'GLAT_SUB'           / [deg] Gal latitude at subint centre            \n",
       "TFORM8  = '1D      '           / Double                                         \n",
       "TTYPE9  = 'FD_ANG  '           / [deg] Feed angle at subint centre              \n",
       "TFORM9  = '1E      '           / Float                                          \n",
       "TTYPE10 = 'POS_ANG '           / [deg] Position angle of feed at subint centre  \n",
       "TFORM10 = '1E      '           / Float                                          \n",
       "TTYPE11 = 'PAR_ANG '           / [deg] Parallactic angle at subint centre       \n",
       "TFORM11 = '1E      '           / Float                                          \n",
       "TTYPE12 = 'TEL_AZ  '           / [deg] Telescope azimuth at subint centre       \n",
       "TFORM12 = '1E      '           / Float                                          \n",
       "TTYPE13 = 'TEL_ZEN '           / [deg] Telescope zenith angle at subint centre  \n",
       "TFORM13 = '1E      '           / Float                                          \n",
       "TTYPE14 = 'AUX_DM  '           / additional DM (ionosphere, corona, etc.)       \n",
       "TFORM14 = '1D      '           / Double                                         \n",
       "TTYPE15 = 'AUX_RM  '           / additional RM (ionosphere, corona, etc.)       \n",
       "TFORM15 = '1D      '           / Double                                         \n",
       "TTYPE16 = 'DAT_FREQ'           / [MHz] Centre frequency for each channel        \n",
       "TFORM16 = '448D    '           / NCHAN doubles                                  \n",
       "TTYPE17 = 'DAT_WTS '           / Weights for each channel                       \n",
       "TFORM17 = '448E    '           / NCHAN floats                                   \n",
       "TTYPE18 = 'DAT_OFFS'           / Data offset for each channel                   \n",
       "TFORM18 = '1792E   '           / NCHAN*NPOL floats                              \n",
       "TTYPE19 = 'DAT_SCL '           / Data scale factor (outval=dataval*scl + offs)  \n",
       "TFORM19 = '1792E   '           / NCHAN*NPOL floats                              \n",
       "TTYPE20 = 'DATA    '           / Subint data table                              \n",
       "TFORM20 = '1835008I'           / I (Fold) or B (1-8 bit) Search                 \n",
       "INT_TYPE= 'TIME    '           / Time axis (TIME, BINPHSPERI, BINLNGASC, etc)   \n",
       "INT_UNIT= 'SEC     '           / Unit of time axis (SEC, PHS (0-1), DEG)        \n",
       "SCALE   = 'FluxDen '           / Intensity units (FluxDen/RefFlux/Jansky)       \n",
       "POL_TYPE= 'AABBCRCI'           / Polarisation identifier (e.g., AABBCRCI, AA+BB)\n",
       "NPOL    =                    4 / Nr of polarisations                            \n",
       "TBIN    =              6.4E-07 / [s] Time per bin or sample                     \n",
       "NBIN    =                 1024 / Nr of bins (PSR/CAL mode; else 1)              \n",
       "NBIN_PRD= '*       '           / Nr of bins/pulse period (for gated data)       \n",
       "PHS_OFFS= '*       '           / Phase offset of bin 0 for gated data           \n",
       "NBITS   =                    1 / Nr of bits/datum (SEARCH mode data, else 1)    \n",
       "ZERO_OFF= '*       '           / Zero offset for SEARCH-mode data               \n",
       "SIGNINT =                    0 / 1 for signed ints in SEARCH-mode data, else 0  \n",
       "NSUBOFFS= '*       '           / Subint offset (Contiguous SEARCH-mode files)   \n",
       "NCHAN   =                  448 / Number of channels/sub-bands in this file      \n",
       "CHAN_BW =               1.5625 / [MHz] Channel/sub-band width                   \n",
       "DM      =               21.313 / [cm-3 pc] DM for post-detection dedisperion    \n",
       "RM      =                   0. / [rad m-2] RM for post-detection deFaraday      \n",
       "NCHNOFFS= '*       '           / Channel/sub-band offset for split files        \n",
       "NSBLK   =                    1 / Samples/row (SEARCH mode, else 1)              \n",
       "NSTOT   = '*       '           / Total number of samples (SEARCH mode, else 1)  \n",
       "EXTNAME = 'SUBINT  '           / name of this binary table extension            \n",
       "TUNIT2  = 's       '           / Units of field                                 \n",
       "TUNIT3  = 's       '           / Units of field                                 \n",
       "TUNIT4  = 's       '           / Units of field                                 \n",
       "TUNIT5  = 'deg     '           / Units of field                                 \n",
       "TUNIT6  = 'deg     '           / Units of field                                 \n",
       "TUNIT7  = 'deg     '           / Units of field                                 \n",
       "TUNIT8  = 'deg     '           / Units of field                                 \n",
       "TUNIT9  = 'deg     '           / Units of field                                 \n",
       "TUNIT10 = 'deg     '           / Units of field                                 \n",
       "TUNIT11 = 'deg     '           / Units of field                                 \n",
       "TUNIT12 = 'deg     '           / Units of field                                 \n",
       "TUNIT13 = 'deg     '           / Units of field                                 \n",
       "TUNIT14 = 'CM-3    '                                                            \n",
       "TUNIT15 = 'RAD     '                                                            \n",
       "TUNIT16 = 'MHz     '           / Units of field                                 \n",
       "TDIM20  = '(1024,448,4)'       / (NBIN,NCHAN,NPOL) or (NCHAN,NPOL,NSBLK*NBITS/8)\n",
       "TUNIT20 = 'Jy      '           / Units of subint data                           \n",
       "EXTVER  =                    1 / auto assigned by template parser               \n",
       "EPOCHS  = 'VALID   '                                                            "
      ]
     },
     "execution_count": 18,
     "metadata": {},
     "output_type": "execute_result"
    }
   ],
   "source": [
    "hdulist['subint'].header"
   ]
  },
  {
   "cell_type": "code",
   "execution_count": 14,
   "metadata": {
    "collapsed": false
   },
   "outputs": [
    {
     "data": {
      "text/plain": [
       "0.78125"
      ]
     },
     "execution_count": 14,
     "metadata": {},
     "output_type": "execute_result"
    }
   ],
   "source": [
    "chan_bw/2"
   ]
  },
  {
   "cell_type": "code",
   "execution_count": 21,
   "metadata": {
    "collapsed": true
   },
   "outputs": [],
   "source": [
    "import shlex"
   ]
  },
  {
   "cell_type": "code",
   "execution_count": 25,
   "metadata": {
    "collapsed": false
   },
   "outputs": [
    {
     "name": "stdout",
     "output_type": "stream",
     "text": [
      "a b 'c \\' d'\n"
     ]
    },
    {
     "ename": "ValueError",
     "evalue": "No closing quotation",
     "output_type": "error",
     "traceback": [
      "\u001b[0;31m---------------------------------------------------------------------------\u001b[0m",
      "\u001b[0;31mValueError\u001b[0m                                Traceback (most recent call last)",
      "\u001b[0;32m<ipython-input-25-d022248e495e>\u001b[0m in \u001b[0;36m<module>\u001b[0;34m()\u001b[0m\n\u001b[1;32m      1\u001b[0m \u001b[0ms\u001b[0m \u001b[0;34m=\u001b[0m \u001b[0;34mr\"a b 'c \\' d'\"\u001b[0m\u001b[0;34m\u001b[0m\u001b[0m\n\u001b[1;32m      2\u001b[0m \u001b[0;32mprint\u001b[0m \u001b[0ms\u001b[0m\u001b[0;34m\u001b[0m\u001b[0m\n\u001b[0;32m----> 3\u001b[0;31m \u001b[0mshlex\u001b[0m\u001b[0;34m.\u001b[0m\u001b[0msplit\u001b[0m\u001b[0;34m(\u001b[0m\u001b[0ms\u001b[0m\u001b[0;34m)\u001b[0m\u001b[0;34m\u001b[0m\u001b[0m\n\u001b[0m",
      "\u001b[0;32m/usr/lib/python2.7/shlex.pyc\u001b[0m in \u001b[0;36msplit\u001b[0;34m(s, comments, posix)\u001b[0m\n\u001b[1;32m    277\u001b[0m     \u001b[0;32mif\u001b[0m \u001b[0;32mnot\u001b[0m \u001b[0mcomments\u001b[0m\u001b[0;34m:\u001b[0m\u001b[0;34m\u001b[0m\u001b[0m\n\u001b[1;32m    278\u001b[0m         \u001b[0mlex\u001b[0m\u001b[0;34m.\u001b[0m\u001b[0mcommenters\u001b[0m \u001b[0;34m=\u001b[0m \u001b[0;34m''\u001b[0m\u001b[0;34m\u001b[0m\u001b[0m\n\u001b[0;32m--> 279\u001b[0;31m     \u001b[0;32mreturn\u001b[0m \u001b[0mlist\u001b[0m\u001b[0;34m(\u001b[0m\u001b[0mlex\u001b[0m\u001b[0;34m)\u001b[0m\u001b[0;34m\u001b[0m\u001b[0m\n\u001b[0m\u001b[1;32m    280\u001b[0m \u001b[0;34m\u001b[0m\u001b[0m\n\u001b[1;32m    281\u001b[0m \u001b[0;32mif\u001b[0m \u001b[0m__name__\u001b[0m \u001b[0;34m==\u001b[0m \u001b[0;34m'__main__'\u001b[0m\u001b[0;34m:\u001b[0m\u001b[0;34m\u001b[0m\u001b[0m\n",
      "\u001b[0;32m/usr/lib/python2.7/shlex.pyc\u001b[0m in \u001b[0;36mnext\u001b[0;34m(self)\u001b[0m\n\u001b[1;32m    267\u001b[0m \u001b[0;34m\u001b[0m\u001b[0m\n\u001b[1;32m    268\u001b[0m     \u001b[0;32mdef\u001b[0m \u001b[0mnext\u001b[0m\u001b[0;34m(\u001b[0m\u001b[0mself\u001b[0m\u001b[0;34m)\u001b[0m\u001b[0;34m:\u001b[0m\u001b[0;34m\u001b[0m\u001b[0m\n\u001b[0;32m--> 269\u001b[0;31m         \u001b[0mtoken\u001b[0m \u001b[0;34m=\u001b[0m \u001b[0mself\u001b[0m\u001b[0;34m.\u001b[0m\u001b[0mget_token\u001b[0m\u001b[0;34m(\u001b[0m\u001b[0;34m)\u001b[0m\u001b[0;34m\u001b[0m\u001b[0m\n\u001b[0m\u001b[1;32m    270\u001b[0m         \u001b[0;32mif\u001b[0m \u001b[0mtoken\u001b[0m \u001b[0;34m==\u001b[0m \u001b[0mself\u001b[0m\u001b[0;34m.\u001b[0m\u001b[0meof\u001b[0m\u001b[0;34m:\u001b[0m\u001b[0;34m\u001b[0m\u001b[0m\n\u001b[1;32m    271\u001b[0m             \u001b[0;32mraise\u001b[0m \u001b[0mStopIteration\u001b[0m\u001b[0;34m\u001b[0m\u001b[0m\n",
      "\u001b[0;32m/usr/lib/python2.7/shlex.pyc\u001b[0m in \u001b[0;36mget_token\u001b[0;34m(self)\u001b[0m\n\u001b[1;32m     94\u001b[0m             \u001b[0;32mreturn\u001b[0m \u001b[0mtok\u001b[0m\u001b[0;34m\u001b[0m\u001b[0m\n\u001b[1;32m     95\u001b[0m         \u001b[0;31m# No pushback.  Get a token.\u001b[0m\u001b[0;34m\u001b[0m\u001b[0;34m\u001b[0m\u001b[0m\n\u001b[0;32m---> 96\u001b[0;31m         \u001b[0mraw\u001b[0m \u001b[0;34m=\u001b[0m \u001b[0mself\u001b[0m\u001b[0;34m.\u001b[0m\u001b[0mread_token\u001b[0m\u001b[0;34m(\u001b[0m\u001b[0;34m)\u001b[0m\u001b[0;34m\u001b[0m\u001b[0m\n\u001b[0m\u001b[1;32m     97\u001b[0m         \u001b[0;31m# Handle inclusions\u001b[0m\u001b[0;34m\u001b[0m\u001b[0;34m\u001b[0m\u001b[0m\n\u001b[1;32m     98\u001b[0m         \u001b[0;32mif\u001b[0m \u001b[0mself\u001b[0m\u001b[0;34m.\u001b[0m\u001b[0msource\u001b[0m \u001b[0;32mis\u001b[0m \u001b[0;32mnot\u001b[0m \u001b[0mNone\u001b[0m\u001b[0;34m:\u001b[0m\u001b[0;34m\u001b[0m\u001b[0m\n",
      "\u001b[0;32m/usr/lib/python2.7/shlex.pyc\u001b[0m in \u001b[0;36mread_token\u001b[0;34m(self)\u001b[0m\n\u001b[1;32m    170\u001b[0m                         \u001b[0;32mprint\u001b[0m \u001b[0;34m\"shlex: I see EOF in quotes state\"\u001b[0m\u001b[0;34m\u001b[0m\u001b[0m\n\u001b[1;32m    171\u001b[0m                     \u001b[0;31m# XXX what error should be raised here?\u001b[0m\u001b[0;34m\u001b[0m\u001b[0;34m\u001b[0m\u001b[0m\n\u001b[0;32m--> 172\u001b[0;31m                     \u001b[0;32mraise\u001b[0m \u001b[0mValueError\u001b[0m\u001b[0;34m,\u001b[0m \u001b[0;34m\"No closing quotation\"\u001b[0m\u001b[0;34m\u001b[0m\u001b[0m\n\u001b[0m\u001b[1;32m    173\u001b[0m                 \u001b[0;32mif\u001b[0m \u001b[0mnextchar\u001b[0m \u001b[0;34m==\u001b[0m \u001b[0mself\u001b[0m\u001b[0;34m.\u001b[0m\u001b[0mstate\u001b[0m\u001b[0;34m:\u001b[0m\u001b[0;34m\u001b[0m\u001b[0m\n\u001b[1;32m    174\u001b[0m                     \u001b[0;32mif\u001b[0m \u001b[0;32mnot\u001b[0m \u001b[0mself\u001b[0m\u001b[0;34m.\u001b[0m\u001b[0mposix\u001b[0m\u001b[0;34m:\u001b[0m\u001b[0;34m\u001b[0m\u001b[0m\n",
      "\u001b[0;31mValueError\u001b[0m: No closing quotation"
     ]
    }
   ],
   "source": [
    "s = r\"a b 'c \\' d'\"\n",
    "print s\n",
    "shlex.split(s)"
   ]
  },
  {
   "cell_type": "code",
   "execution_count": 26,
   "metadata": {
    "collapsed": false
   },
   "outputs": [
    {
     "data": {
      "text/plain": [
       "[]"
      ]
     },
     "execution_count": 26,
     "metadata": {},
     "output_type": "execute_result"
    }
   ],
   "source": [
    "shlex.split(\"   \\n\")"
   ]
  },
  {
   "cell_type": "code",
   "execution_count": 31,
   "metadata": {
    "collapsed": false
   },
   "outputs": [
    {
     "data": {
      "text/plain": [
       "(1100.0, 1898.4375)"
      ]
     },
     "execution_count": 31,
     "metadata": {},
     "output_type": "execute_result"
    },
    {
     "data": {
      "image/png": "[encoded data removed]",
      "text/plain": [
       "<matplotlib.figure.Figure at 0x7f2880a8e090>"
      ]
     },
     "metadata": {},
     "output_type": "display_data"
    }
   ],
   "source": [
    "H = fits.open(\"/data/archibald/scratch/pat-test/guppi_57825_0337+17_0002_0017.tscr\")\n",
    "d = H[\"SUBINT\"].data[\"DAT_FREQ\"][0]\n",
    "plt.plot(d)\n",
    "d[0], d[-1]"
   ]
  },
  {
   "cell_type": "code",
   "execution_count": 35,
   "metadata": {
    "collapsed": false
   },
   "outputs": [
    {
     "data": {
      "text/plain": [
       "(1745.6196, 1745.6196)"
      ]
     },
     "execution_count": 35,
     "metadata": {},
     "output_type": "execute_result"
    }
   ],
   "source": [
    "w = H[\"SUBINT\"].data['DAT_WTS'][0]\n",
    "w[0], w[-1]"
   ]
  },
  {
   "cell_type": "code",
   "execution_count": 36,
   "metadata": {
    "collapsed": false
   },
   "outputs": [
    {
     "data": {
      "text/plain": [
       "True"
      ]
     },
     "execution_count": 36,
     "metadata": {},
     "output_type": "execute_result"
    }
   ],
   "source": [
    "np.all(w==w[0])"
   ]
  },
  {
   "cell_type": "code",
   "execution_count": 37,
   "metadata": {
    "collapsed": false
   },
   "outputs": [
    {
     "data": {
      "text/plain": [
       "448"
      ]
     },
     "execution_count": 37,
     "metadata": {},
     "output_type": "execute_result"
    }
   ],
   "source": [
    "len(w)"
   ]
  },
  {
   "cell_type": "code",
   "execution_count": null,
   "metadata": {
    "collapsed": true
   },
   "outputs": [],
   "source": []
  }
 ],
 "metadata": {
  "kernelspec": {
   "display_name": "Python 2",
   "language": "python",
   "name": "python2"
  },
  "language_info": {
   "codemirror_mode": {
    "name": "ipython",
    "version": 2
   },
   "file_extension": ".py",
   "mimetype": "text/x-python",
   "name": "python",
   "nbconvert_exporter": "python",
   "pygments_lexer": "ipython2",
   "version": "2.7.6"
  }
 },
 "nbformat": 4,
 "nbformat_minor": 1
}
