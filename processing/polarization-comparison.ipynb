{
 "cells": [
  {
   "cell_type": "code",
   "execution_count": 1,
   "metadata": {
    "collapsed": false
   },
   "outputs": [
    {
     "name": "stderr",
     "output_type": "stream",
     "text": [
      "DEBUG:root:test\n"
     ]
    },
    {
     "data": {
      "text/plain": [
       "<matplotlib.figure.Figure at 0x7fdec81a7f10>"
      ]
     },
     "metadata": {},
     "output_type": "display_data"
    }
   ],
   "source": [
    "%load_ext autoreload\n",
    "\n",
    "%autoreload 2\n",
    "\n",
    "import os\n",
    "from glob import glob\n",
    "import subprocess\n",
    "import shutil\n",
    "import traceback\n",
    "import random\n",
    "import pickle\n",
    "from os.path import join\n",
    "\n",
    "import joblib\n",
    "from concurrent.futures import ProcessPoolExecutor\n",
    "\n",
    "from backports import tempfile\n",
    "\n",
    "import matplotlib\n",
    "matplotlib.rcParams['savefig.dpi'] = 144\n",
    "matplotlib.rcParams[\"image.composite_image\"]=False\n",
    "%matplotlib inline\n",
    "import numpy as np\n",
    "import matplotlib.pyplot as plt\n",
    "import scipy.optimize\n",
    "from numpy.fft import rfft, irfft, fft, ifft\n",
    "\n",
    "import psrchive\n",
    "import residuals\n",
    "\n",
    "import pipe\n",
    "from pipe import rotate_phase, convert_template, align_profile, align_scale_profile\n",
    "\n",
    "plt.viridis()\n",
    "\n",
    "import logging\n",
    "logger = logging.getLogger()\n",
    "logger.setLevel(logging.DEBUG)\n",
    "logging.debug(\"test\")"
   ]
  },
  {
   "cell_type": "code",
   "execution_count": null,
   "metadata": {
    "collapsed": true
   },
   "outputs": [],
   "source": [
    "proc_name_A = \"wideband\"\n",
    "proc_name_B = \"singlefrequency\"\n",
    "toa_name = \"normal\"\n",
    "\n",
    "\n",
    "processing_specs = pickle.load(open(\"processing_specs.pickle\",\"rb\"))\n",
    "toa_specs = pickle.load(open(\"toa_specs.pickle\",\"rb\"))\n"
   ]
  }
 ],
 "metadata": {
  "kernelspec": {
   "display_name": "Python 2",
   "language": "python",
   "name": "python2"
  },
  "language_info": {
   "codemirror_mode": {
    "name": "ipython",
    "version": 2
   },
   "file_extension": ".py",
   "mimetype": "text/x-python",
   "name": "python",
   "nbconvert_exporter": "python",
   "pygments_lexer": "ipython2",
   "version": "2.7.6"
  }
 },
 "nbformat": 4,
 "nbformat_minor": 1
}
