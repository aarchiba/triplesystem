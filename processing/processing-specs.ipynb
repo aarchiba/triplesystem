{
 "cells": [
  {
   "cell_type": "markdown",
   "metadata": {},
   "source": [
    "# Processing specs\n",
    "\n",
    "This notebook serves to establish named sets of processing parameters. The idea is that, for example, `onescintle` refers to a specific amount of averaging and other processing settings; this way multiple sets of settings can coexist and be documented. There are actually two levels: the `processing_name`, which defines the alignment, zapping, and averaging, and the `toa_name`, which defines the template and TOA generation method. Each allows different settings to be used for each telescope and band."
   ]
  },
  {
   "cell_type": "code",
   "execution_count": 1,
   "metadata": {
    "collapsed": false
   },
   "outputs": [
    {
     "name": "stderr",
     "output_type": "stream",
     "text": [
      "DEBUG:root:test\n"
     ]
    },
    {
     "data": {
      "text/plain": [
       "<matplotlib.figure.Figure at 0x7f532a3edf50>"
      ]
     },
     "metadata": {},
     "output_type": "display_data"
    }
   ],
   "source": [
    "%load_ext autoreload\n",
    "\n",
    "%autoreload 2\n",
    "\n",
    "import os\n",
    "from glob import glob\n",
    "import subprocess\n",
    "import shutil\n",
    "import traceback\n",
    "import random\n",
    "import pickle\n",
    "from os.path import join\n",
    "\n",
    "import joblib\n",
    "from concurrent.futures import ProcessPoolExecutor\n",
    "\n",
    "from backports import tempfile\n",
    "\n",
    "import matplotlib\n",
    "matplotlib.rcParams['savefig.dpi'] = 144\n",
    "matplotlib.rcParams[\"image.composite_image\"]=False\n",
    "%matplotlib inline\n",
    "import numpy as np\n",
    "import matplotlib.pyplot as plt\n",
    "import scipy.optimize\n",
    "from numpy.fft import rfft, irfft, fft, ifft\n",
    "\n",
    "import psrchive\n",
    "import residuals\n",
    "\n",
    "import pipe\n",
    "from pipe import rotate_phase, convert_template, align_profile, align_scale_profile\n",
    "\n",
    "plt.viridis()\n",
    "\n",
    "import logging\n",
    "logger = logging.getLogger()\n",
    "logger.setLevel(logging.DEBUG)\n",
    "logging.debug(\"test\")"
   ]
  },
  {
   "cell_type": "code",
   "execution_count": 2,
   "metadata": {
    "collapsed": true
   },
   "outputs": [],
   "source": [
    "processing_specs = {}"
   ]
  },
  {
   "cell_type": "code",
   "execution_count": 3,
   "metadata": {
    "collapsed": true
   },
   "outputs": [],
   "source": [
    "wideband = dict(generic=dict(cal_db=\"data/cal/cal-noflux.db\"))\n",
    "wideband[\"AO\",1400] = {}\n",
    "wideband[\"GBT\",1400] = {}\n",
    "wideband[\"WSRT\",1400] = dict(toa_time=600.)\n",
    "\n",
    "processing_specs[\"wideband\"] = wideband\n"
   ]
  },
  {
   "cell_type": "code",
   "execution_count": 4,
   "metadata": {
    "collapsed": false
   },
   "outputs": [],
   "source": [
    "singlefrequency = dict(generic=dict(rm=30))\n",
    "singlefrequency[\"AO\",1400] = {}\n",
    "singlefrequency[\"GBT\",1400] = {}\n",
    "singlefrequency[\"WSRT\",1400] = dict(toa_time=600.)\n",
    "\n",
    "processing_specs[\"singlefrequency\"] = singlefrequency"
   ]
  },
  {
   "cell_type": "code",
   "execution_count": 5,
   "metadata": {
    "collapsed": true
   },
   "outputs": [],
   "source": [
    "subband = dict(generic=dict(toa_bw=100.,toa_time=60.,rm=30))\n",
    "subband[\"AO\",1400] = {}\n",
    "subband[\"GBT\",1400] = {}\n",
    "subband[\"WSRT\",1400] = dict(toa_bw=60., toa_time=1200.)\n",
    "subband[\"AO\",430] = dict(toa_bw=10.)\n",
    "subband[\"WSRT\",350] = dict(toa_bw=30., toa_time=1200.)\n",
    "\n",
    "processing_specs[\"subband\"] = subband\n"
   ]
  },
  {
   "cell_type": "code",
   "execution_count": 6,
   "metadata": {
    "collapsed": true
   },
   "outputs": [],
   "source": [
    "# AO has plenty of SNR\n",
    "# WSRT is okay for long observations but short ones can't really be used\n",
    "# GBT loses many subints to SNR<10\n",
    "onescintle = dict(generic=dict(toa_bw=5.,toa_time=1200.,rm=30))\n",
    "onescintle[\"AO\",1400] = {}\n",
    "onescintle[\"GBT\",1400] = {}\n",
    "onescintle[\"WSRT\",1400] = dict(toa_bw=5., toa_time=7200.)\n",
    "onescintle[\"AO\",430] = dict(toa_bw=10.)\n",
    "onescintle[\"WSRT\",350] = dict(toa_bw=30., toa_time=1200.)\n",
    "\n",
    "processing_specs[\"onescintle\"] = onescintle"
   ]
  },
  {
   "cell_type": "code",
   "execution_count": 7,
   "metadata": {
    "collapsed": true
   },
   "outputs": [],
   "source": [
    "# Like onescintle, but allow wider subbands for a factor 2 in SNR\n",
    "tuned = dict(generic=dict(toa_bw=20.,toa_time=1200.,rm=30))\n",
    "tuned[\"AO\",1400] = dict()\n",
    "tuned[\"GBT\",1400] = dict()\n",
    "tuned[\"WSRT\",1400] = dict(toa_time=7200.)\n",
    "tuned[\"AO\",430] = dict(toa_bw=np.inf)\n",
    "tuned[\"WSRT\",350] = dict(toa_bw=np.inf, toa_time=1200.)\n",
    "\n",
    "processing_specs[\"tuned\"] = tuned"
   ]
  },
  {
   "cell_type": "code",
   "execution_count": 27,
   "metadata": {
    "collapsed": true
   },
   "outputs": [],
   "source": [
    "sband = dict(generic=dict(toa_bw=40, rm=30, toa_time=1200))\n",
    "sband[\"AO\",2000] = dict()\n",
    "sband[\"AO\",3000] = dict(median_r=None)\n",
    "\n",
    "processing_specs[\"sband\"] = sband"
   ]
  },
  {
   "cell_type": "code",
   "execution_count": 8,
   "metadata": {
    "collapsed": true
   },
   "outputs": [],
   "source": [
    "with open(\"processing_specs.pickle\",\"wb\") as f:\n",
    "    pickle.dump(processing_specs, f)"
   ]
  },
  {
   "cell_type": "code",
   "execution_count": 6,
   "metadata": {
    "collapsed": true
   },
   "outputs": [],
   "source": [
    "toa_specs = {}"
   ]
  },
  {
   "cell_type": "code",
   "execution_count": 7,
   "metadata": {
    "collapsed": true
   },
   "outputs": [],
   "source": [
    "normal = dict(generic={})\n",
    "normal[\"AO\",1400] = dict(template=\"template-work/56736.85_AO_1400.profile.psrsmooth\")\n",
    "normal[\"GBT\",1400] = dict(template=\"template-work/56736.85_AO_1400.profile.psrsmooth\")\n",
    "normal[\"WSRT\",1400] = dict(template=\"template-work/56736.85_AO_1400.profile.psrsmooth\")\n",
    "normal[\"AO\",430] = dict(template=\"template-work/56070.64_AO_430.tscrunch.fscrunch.sm\")\n",
    "normal[\"AO\",350] = dict(template=\"template-work/56070.64_AO_430.tscrunch.fscrunch.sm\")\n",
    "normal[\"WSRT\",350] = dict(template=\"template-work/56070.64_AO_430.tscrunch.fscrunch.sm\")\n",
    "\n",
    "toa_specs[\"normal\"] = normal"
   ]
  },
  {
   "cell_type": "code",
   "execution_count": 8,
   "metadata": {
    "collapsed": true
   },
   "outputs": [],
   "source": [
    "mueller = dict(generic=dict(match=\"mueller\"))\n",
    "mueller[\"AO\",1400] = dict(template=\"template-work/56412.76_GBT_1400.rmset.scrunch.sm\")\n",
    "mueller[\"GBT\",1400] = dict(template=\"template-work/56412.76_GBT_1400.rmset.scrunch.sm\")\n",
    "mueller[\"WSRT\",1400] = dict(template=\"template-work/56412.76_GBT_1400.rmset.scrunch.sm\")\n",
    "mueller[\"AO\",430] = dict(template=\"template-work/56070.64_AO_430.tscrunch.fscrunch.sm\")\n",
    "mueller[\"AO\",350] = dict(template=\"template-work/56070.64_AO_430.tscrunch.fscrunch.sm\")\n",
    "mueller[\"WSRT\",350] = dict(template=\"template-work/56070.64_AO_430.tscrunch.fscrunch.sm\")\n",
    "\n",
    "toa_specs[\"mueller\"] = mueller"
   ]
  },
  {
   "cell_type": "code",
   "execution_count": 9,
   "metadata": {
    "collapsed": false
   },
   "outputs": [],
   "source": [
    "with open(\"toa_specs.pickle\",\"wb\") as f:\n",
    "    pickle.dump(toa_specs, f)"
   ]
  },
  {
   "cell_type": "code",
   "execution_count": null,
   "metadata": {
    "collapsed": true
   },
   "outputs": [],
   "source": []
  }
 ],
 "metadata": {
  "kernelspec": {
   "display_name": "Python 2",
   "language": "python",
   "name": "python2"
  },
  "language_info": {
   "codemirror_mode": {
    "name": "ipython",
    "version": 2
   },
   "file_extension": ".py",
   "mimetype": "text/x-python",
   "name": "python",
   "nbconvert_exporter": "python",
   "pygments_lexer": "ipython2",
   "version": "2.7.6"
  }
 },
 "nbformat": 4,
 "nbformat_minor": 1
}
