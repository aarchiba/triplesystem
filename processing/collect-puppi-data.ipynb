{
 "cells": [
  {
   "cell_type": "markdown",
   "metadata": {},
   "source": [
    "# Collect PUPPI data\n",
    "\n",
    "This notebook collects raw PUPPI data and makes observation directories for it. `collect-uppi-data` does the same for GUPPI. Note that the produced observations may end up on the wrong disk (`/data` rather than the permanent-but-slow `/psr_archive`); use `maintain-symlinks.ipynb` to check that out."
   ]
  },
  {
   "cell_type": "code",
   "execution_count": 1,
   "metadata": {
    "collapsed": true
   },
   "outputs": [],
   "source": [
    "%load_ext autoreload\n",
    "\n",
    "%autoreload 2"
   ]
  },
  {
   "cell_type": "code",
   "execution_count": 1,
   "metadata": {
    "collapsed": true
   },
   "outputs": [],
   "source": [
    "import os\n",
    "from glob import glob\n",
    "import subprocess\n",
    "import shutil\n",
    "import traceback\n",
    "import random\n",
    "import pickle\n",
    "from os.path import join\n",
    "\n",
    "import joblib\n",
    "from concurrent.futures import ProcessPoolExecutor\n",
    "\n",
    "from backports import tempfile\n",
    "\n",
    "import matplotlib\n",
    "matplotlib.rcParams['savefig.dpi'] = 144\n",
    "%matplotlib inline\n",
    "import numpy as np\n",
    "import matplotlib.pyplot as plt\n",
    "\n",
    "import psrchive\n",
    "\n",
    "import pipe"
   ]
  },
  {
   "cell_type": "code",
   "execution_count": 2,
   "metadata": {
    "collapsed": false
   },
   "outputs": [
    {
     "name": "stderr",
     "output_type": "stream",
     "text": [
      "DEBUG:root:test\n"
     ]
    }
   ],
   "source": [
    "import logging\n",
    "logger = logging.getLogger()\n",
    "logger.setLevel(logging.DEBUG)\n",
    "logging.debug(\"test\")"
   ]
  },
  {
   "cell_type": "code",
   "execution_count": 3,
   "metadata": {
    "collapsed": false
   },
   "outputs": [
    {
     "name": "stderr",
     "output_type": "stream",
     "text": [
      "INFO:root:Processing uppi batch 56554 0223 in /psr_archive/hessels/archibald/0337+17/raw/AO\n",
      "INFO:root:Processing uppi batch 56554 0225 in /psr_archive/hessels/archibald/0337+17/raw/AO\n",
      "INFO:root:Processing uppi batch 56584 0590 in /psr_archive/hessels/archibald/0337+17/raw/AO\n",
      "INFO:root:Processing uppi batch 56584 0592 in /psr_archive/hessels/archibald/0337+17/raw/AO\n",
      "INFO:root:Processing uppi batch 56599 0119 in /psr_archive/hessels/archibald/0337+17/raw/AO\n",
      "INFO:root:Processing uppi batch 56599 0121 in /psr_archive/hessels/archibald/0337+17/raw/AO\n",
      "INFO:root:Processing uppi batch 56620 0358 in /psr_archive/hessels/archibald/0337+17/raw/AO\n",
      "INFO:root:Processing uppi batch 56620 0360 in /psr_archive/hessels/archibald/0337+17/raw/AO\n",
      "INFO:root:Processing uppi batch 56645 0559 in /psr_archive/hessels/archibald/0337+17/raw/AO\n",
      "INFO:root:Processing uppi batch 56645 0561 in /psr_archive/hessels/archibald/0337+17/raw/AO\n",
      "INFO:root:Processing uppi batch 56736 0280 in /psr_archive/hessels/archibald/0337+17/raw/AO\n",
      "INFO:root:Processing uppi batch 56736 0282 in /psr_archive/hessels/archibald/0337+17/raw/AO\n",
      "INFO:root:Processing uppi batch 56755 0655 in /psr_archive/hessels/archibald/0337+17/raw/AO\n",
      "INFO:root:Processing uppi batch 56755 0657 in /psr_archive/hessels/archibald/0337+17/raw/AO\n",
      "INFO:root:Processing uppi batch 56768 0882 in /psr_archive/hessels/archibald/0337+17/raw/AO\n",
      "INFO:root:Processing uppi batch 56768 0884 in /psr_archive/hessels/archibald/0337+17/raw/AO\n",
      "INFO:root:Processing uppi batch 56781 1037 in /psr_archive/hessels/archibald/0337+17/raw/AO\n",
      "INFO:root:Processing uppi batch 56781 1039 in /psr_archive/hessels/archibald/0337+17/raw/AO\n",
      "INFO:root:Processing uppi batch 57055 0823 in /psr_archive/hessels/archibald/0337+17/raw/AO\n",
      "INFO:root:Processing uppi batch 57055 0825 in /psr_archive/hessels/archibald/0337+17/raw/AO\n",
      "INFO:root:Processing uppi batch 57055 0827 in /psr_archive/hessels/archibald/0337+17/raw/AO\n",
      "INFO:root:Processing uppi batch 57058 0840 in /psr_archive/hessels/archibald/0337+17/raw/AO\n",
      "INFO:root:Processing uppi batch 57058 0842 in /psr_archive/hessels/archibald/0337+17/raw/AO\n",
      "INFO:root:Processing uppi batch 57060 0861 in /psr_archive/hessels/archibald/0337+17/raw/AO\n",
      "INFO:root:Processing uppi batch 57060 0863 in /psr_archive/hessels/archibald/0337+17/raw/AO\n",
      "INFO:root:Processing uppi batch 57093 0261 in /psr_archive/hessels/archibald/0337+17/raw/AO\n",
      "INFO:root:Processing uppi batch 57093 0263 in /psr_archive/hessels/archibald/0337+17/raw/AO\n",
      "INFO:root:Processing uppi batch 57236 2483 in /psr_archive/hessels/archibald/0337+17/raw/AO\n",
      "INFO:root:Processing uppi batch 57236 2484 in /psr_archive/hessels/archibald/0337+17/raw/AO\n",
      "INFO:root:Processing uppi batch 57263 3151 in /psr_archive/hessels/archibald/0337+17/raw/AO\n",
      "INFO:root:Processing uppi batch 57263 3153 in /psr_archive/hessels/archibald/0337+17/raw/AO\n",
      "INFO:root:Processing uppi batch 57293 3704 in /psr_archive/hessels/archibald/0337+17/raw/AO\n",
      "INFO:root:Processing uppi batch 57293 3706 in /psr_archive/hessels/archibald/0337+17/raw/AO\n",
      "INFO:root:Processing uppi batch 57317 4043 in /psr_archive/hessels/archibald/0337+17/raw/AO\n",
      "INFO:root:Processing uppi batch 57317 4045 in /psr_archive/hessels/archibald/0337+17/raw/AO\n",
      "INFO:root:Processing uppi batch 57317 4048 in /psr_archive/hessels/archibald/0337+17/raw/AO\n",
      "INFO:root:Processing uppi batch 57349 4785 in /psr_archive/hessels/archibald/0337+17/raw/AO\n",
      "INFO:root:Processing uppi batch 57349 4787 in /psr_archive/hessels/archibald/0337+17/raw/AO\n",
      "INFO:root:Processing uppi batch 57375 5033 in /psr_archive/hessels/archibald/0337+17/raw/AO\n",
      "INFO:root:Processing uppi batch 57376 5108 in /psr_archive/hessels/archibald/0337+17/raw/AO\n",
      "INFO:root:Processing uppi batch 57376 5110 in /psr_archive/hessels/archibald/0337+17/raw/AO\n",
      "INFO:root:Processing uppi batch 57400 5607 in /psr_archive/hessels/archibald/0337+17/raw/AO\n",
      "INFO:root:Processing uppi batch 57400 5609 in /psr_archive/hessels/archibald/0337+17/raw/AO\n",
      "INFO:root:Processing uppi batch 57422 6016 in /psr_archive/hessels/archibald/0337+17/raw/AO\n",
      "INFO:root:Processing uppi batch 57422 6018 in /psr_archive/hessels/archibald/0337+17/raw/AO\n",
      "INFO:root:Processing uppi batch 57431 0019 in /psr_archive/hessels/archibald/0337+17/raw/AO\n",
      "INFO:root:Processing uppi batch 57431 0021 in /psr_archive/hessels/archibald/0337+17/raw/AO\n",
      "INFO:root:Processing uppi batch 57431 0023 in /psr_archive/hessels/archibald/0337+17/raw/AO\n",
      "INFO:root:Processing uppi batch 57502 0061 in /psr_archive/hessels/archibald/0337+17/raw/AO\n",
      "INFO:root:Processing uppi batch 57502 0063 in /psr_archive/hessels/archibald/0337+17/raw/AO\n",
      "INFO:root:Processing uppi batch 57530 0378 in /psr_archive/hessels/archibald/0337+17/raw/AO\n",
      "INFO:root:Processing uppi batch 57530 0380 in /psr_archive/hessels/archibald/0337+17/raw/AO\n",
      "INFO:root:Processing uppi batch 57551 0166 in /psr_archive/hessels/archibald/0337+17/raw/AO\n",
      "INFO:root:Processing uppi batch 57551 0168 in /psr_archive/hessels/archibald/0337+17/raw/AO\n",
      "INFO:root:Processing uppi batch 57551 0182 in /psr_archive/hessels/archibald/0337+17/raw/AO\n",
      "INFO:root:Processing uppi batch 57551 0184 in /psr_archive/hessels/archibald/0337+17/raw/AO\n",
      "INFO:root:Processing uppi batch 57571 0054 in /psr_archive/hessels/archibald/0337+17/raw/AO\n",
      "INFO:root:Processing uppi batch 57571 0056 in /psr_archive/hessels/archibald/0337+17/raw/AO\n",
      "INFO:root:Processing uppi batch 57594 0454 in /psr_archive/hessels/archibald/0337+17/raw/AO\n",
      "INFO:root:Processing uppi batch 57594 0456 in /psr_archive/hessels/archibald/0337+17/raw/AO\n",
      "INFO:root:Processing uppi batch 57594 0458 in /psr_archive/hessels/archibald/0337+17/raw/AO\n",
      "INFO:root:Processing uppi batch 57621 0940 in /psr_archive/hessels/archibald/0337+17/raw/AO\n",
      "INFO:root:Processing uppi batch 57621 0942 in /psr_archive/hessels/archibald/0337+17/raw/AO\n",
      "INFO:root:Processing uppi batch 57628 1196 in /psr_archive/hessels/archibald/0337+17/raw/AO\n",
      "INFO:root:Processing uppi batch 57628 1198 in /psr_archive/hessels/archibald/0337+17/raw/AO\n",
      "INFO:root:Processing uppi batch 57643 1356 in /psr_archive/hessels/archibald/0337+17/raw/AO\n",
      "INFO:root:Processing uppi batch 57643 1358 in /psr_archive/hessels/archibald/0337+17/raw/AO\n",
      "INFO:root:Processing uppi batch 57667 0185 in /psr_archive/hessels/archibald/0337+17/raw/AO\n",
      "INFO:root:Processing uppi batch 57667 0187 in /psr_archive/hessels/archibald/0337+17/raw/AO\n",
      "INFO:root:Processing uppi batch 57686 0656 in /psr_archive/hessels/archibald/0337+17/raw/AO\n",
      "INFO:root:Processing uppi batch 57686 0658 in /psr_archive/hessels/archibald/0337+17/raw/AO\n",
      "INFO:root:Processing uppi batch 57686 0660 in /psr_archive/hessels/archibald/0337+17/raw/AO\n",
      "INFO:root:Processing uppi batch 57705 0198 in /psr_archive/hessels/archibald/0337+17/raw/AO\n",
      "INFO:root:Processing uppi batch 57705 0200 in /psr_archive/hessels/archibald/0337+17/raw/AO\n",
      "INFO:root:Processing uppi batch 57730 0217 in /psr_archive/hessels/archibald/0337+17/raw/AO\n",
      "INFO:root:Processing uppi batch 57730 0219 in /psr_archive/hessels/archibald/0337+17/raw/AO\n",
      "INFO:root:Processing uppi batch 57739 0394 in /psr_archive/hessels/archibald/0337+17/raw/AO\n",
      "INFO:root:Processing uppi batch 57739 0396 in /psr_archive/hessels/archibald/0337+17/raw/AO\n",
      "INFO:root:Processing uppi batch 57763 0804 in /psr_archive/hessels/archibald/0337+17/raw/AO\n",
      "INFO:root:Processing uppi batch 57764 0806 in /psr_archive/hessels/archibald/0337+17/raw/AO\n",
      "INFO:root:Processing uppi batch 57787 0182 in /psr_archive/hessels/archibald/0337+17/raw/AO\n",
      "INFO:root:Processing uppi batch 57787 0184 in /psr_archive/hessels/archibald/0337+17/raw/AO\n",
      "INFO:root:Processing uppi batch 57808 0175 in /psr_archive/hessels/archibald/0337+17/raw/AO\n",
      "INFO:root:Processing uppi batch 57808 0177 in /psr_archive/hessels/archibald/0337+17/raw/AO\n",
      "INFO:root:Processing uppi batch 57808 0179 in /psr_archive/hessels/archibald/0337+17/raw/AO\n",
      "INFO:root:Processing uppi batch 57832 0151 in /psr_archive/hessels/archibald/0337+17/raw/AO\n",
      "INFO:root:Processing uppi batch 57832 0153 in /psr_archive/hessels/archibald/0337+17/raw/AO\n",
      "INFO:root:Processing uppi batch 57900 0309 in /psr_archive/hessels/archibald/0337+17/raw/AO\n",
      "INFO:root:Processing uppi batch 57900 0311 in /psr_archive/hessels/archibald/0337+17/raw/AO\n",
      "INFO:root:Processing uppi batch 57900 0313 in /psr_archive/hessels/archibald/0337+17/raw/AO\n"
     ]
    }
   ],
   "source": [
    "pipe.process_uppi_dir(\"/psr_archive/hessels/archibald/0337+17/raw/AO\")"
   ]
  },
  {
   "cell_type": "code",
   "execution_count": 4,
   "metadata": {
    "collapsed": false
   },
   "outputs": [
    {
     "name": "stdout",
     "output_type": "stream",
     "text": [
      "ls: cannot access /psr_archive/hessels/archibald/0337+17/raw/AO/*.failure: No such file or directory\r\n"
     ]
    }
   ],
   "source": [
    "!ls /psr_archive/hessels/archibald/0337+17/raw/AO/*.failure"
   ]
  },
  {
   "cell_type": "code",
   "execution_count": 23,
   "metadata": {
    "collapsed": true
   },
   "outputs": [],
   "source": [
    "!rm /psr_archive/hessels/archibald/0337+17/raw/AO/*.failure"
   ]
  },
  {
   "cell_type": "code",
   "execution_count": 27,
   "metadata": {
    "collapsed": false,
    "scrolled": true
   },
   "outputs": [
    {
     "name": "stdout",
     "output_type": "stream",
     "text": [
      "/psr_archive/hessels/archibald/0337+17/raw/AO/puppi_56554_J0337+1715_0223_0001.fits.success\r\n",
      "/psr_archive/hessels/archibald/0337+17/raw/AO/puppi_56554_J0337+1715_0225_0001.fits.success\r\n",
      "/psr_archive/hessels/archibald/0337+17/raw/AO/puppi_56584_J0337+1715_0590_0001.fits.success\r\n",
      "/psr_archive/hessels/archibald/0337+17/raw/AO/puppi_56584_J0337+1715_0592_0001.fits.success\r\n",
      "/psr_archive/hessels/archibald/0337+17/raw/AO/puppi_56599_J0337+1715_0119_0001.fits.success\r\n",
      "/psr_archive/hessels/archibald/0337+17/raw/AO/puppi_56599_J0337+1715_0121_0001.fits.success\r\n",
      "/psr_archive/hessels/archibald/0337+17/raw/AO/puppi_56620_J0337+1715_0358_0001.fits.success\r\n",
      "/psr_archive/hessels/archibald/0337+17/raw/AO/puppi_56620_J0337+1715_0360_0001.fits.success\r\n",
      "/psr_archive/hessels/archibald/0337+17/raw/AO/puppi_56645_J0337+1715_0559_0001.fits.success\r\n",
      "/psr_archive/hessels/archibald/0337+17/raw/AO/puppi_56645_J0337+1715_0561_0001.fits.success\r\n",
      "/psr_archive/hessels/archibald/0337+17/raw/AO/puppi_56736_J0337+1715_0280_0001.fits.success\r\n",
      "/psr_archive/hessels/archibald/0337+17/raw/AO/puppi_56736_J0337+1715_0282_0001.fits.success\r\n",
      "/psr_archive/hessels/archibald/0337+17/raw/AO/puppi_56755_J0337+1715_0655_0001.fits.success\r\n",
      "/psr_archive/hessels/archibald/0337+17/raw/AO/puppi_56755_J0337+1715_0657_0001.fits.success\r\n",
      "/psr_archive/hessels/archibald/0337+17/raw/AO/puppi_56768_J0337+1715_0882_0001.fits.success\r\n",
      "/psr_archive/hessels/archibald/0337+17/raw/AO/puppi_56768_J0337+1715_0884_0001.fits.success\r\n",
      "/psr_archive/hessels/archibald/0337+17/raw/AO/puppi_56781_J0337+1715_1037_0001.fits.success\r\n",
      "/psr_archive/hessels/archibald/0337+17/raw/AO/puppi_56781_J0337+1715_1039_0001.fits.success\r\n",
      "/psr_archive/hessels/archibald/0337+17/raw/AO/puppi_57055_J0337+1715_0823_0001.fits.success\r\n",
      "/psr_archive/hessels/archibald/0337+17/raw/AO/puppi_57055_J0337+1715_0825_0001.fits.success\r\n",
      "/psr_archive/hessels/archibald/0337+17/raw/AO/puppi_57055_J0337+1715_0827_0001.fits.success\r\n",
      "/psr_archive/hessels/archibald/0337+17/raw/AO/puppi_57058_J0337+1715_0840_0001.fits.success\r\n",
      "/psr_archive/hessels/archibald/0337+17/raw/AO/puppi_57058_J0337+1715_0842_0001.fits.success\r\n",
      "/psr_archive/hessels/archibald/0337+17/raw/AO/puppi_57060_J0337+1715_0861_0001.fits.success\r\n",
      "/psr_archive/hessels/archibald/0337+17/raw/AO/puppi_57060_J0337+1715_0863_0001.fits.success\r\n",
      "/psr_archive/hessels/archibald/0337+17/raw/AO/puppi_57093_J0337+1715_0261_0001.fits.success\r\n",
      "/psr_archive/hessels/archibald/0337+17/raw/AO/puppi_57093_J0337+1715_0263_0001.fits.success\r\n",
      "/psr_archive/hessels/archibald/0337+17/raw/AO/puppi_57236_J0337+1715_2483_0001.fits.success\r\n",
      "/psr_archive/hessels/archibald/0337+17/raw/AO/puppi_57236_J0337+1715_2484_0001.fits.success\r\n",
      "/psr_archive/hessels/archibald/0337+17/raw/AO/puppi_57263_J0337+1715_3151_0001.fits.success\r\n",
      "/psr_archive/hessels/archibald/0337+17/raw/AO/puppi_57263_J0337+1715_3153_0001.fits.success\r\n",
      "/psr_archive/hessels/archibald/0337+17/raw/AO/puppi_57293_J0337+1715_3704_0001.fits.success\r\n",
      "/psr_archive/hessels/archibald/0337+17/raw/AO/puppi_57293_J0337+1715_3706_0001.fits.success\r\n",
      "/psr_archive/hessels/archibald/0337+17/raw/AO/puppi_57317_J0337+1715_4043_0001.fits.success\r\n",
      "/psr_archive/hessels/archibald/0337+17/raw/AO/puppi_57317_J0337+1715_4045_0001.fits.success\r\n",
      "/psr_archive/hessels/archibald/0337+17/raw/AO/puppi_57317_J0337+1715_4048_0001.fits.success\r\n",
      "/psr_archive/hessels/archibald/0337+17/raw/AO/puppi_57349_J0337+1715_4785_0001.fits.success\r\n",
      "/psr_archive/hessels/archibald/0337+17/raw/AO/puppi_57349_J0337+1715_4787_0001.fits.success\r\n",
      "/psr_archive/hessels/archibald/0337+17/raw/AO/puppi_57375_J0337+1715_5033_0001.fits.success\r\n",
      "/psr_archive/hessels/archibald/0337+17/raw/AO/puppi_57376_J0337+1715_5108_0001.fits.success\r\n",
      "/psr_archive/hessels/archibald/0337+17/raw/AO/puppi_57376_J0337+1715_5110_0001.fits.success\r\n",
      "/psr_archive/hessels/archibald/0337+17/raw/AO/puppi_57400_J0337+1715_5607_0001.fits.success\r\n",
      "/psr_archive/hessels/archibald/0337+17/raw/AO/puppi_57400_J0337+1715_5609_0001.fits.success\r\n",
      "/psr_archive/hessels/archibald/0337+17/raw/AO/puppi_57422_J0337+1715_6016_0001.fits.success\r\n",
      "/psr_archive/hessels/archibald/0337+17/raw/AO/puppi_57422_J0337+1715_6018_0001.fits.success\r\n",
      "/psr_archive/hessels/archibald/0337+17/raw/AO/puppi_57431_J0337+1715_0019_0001.fits.success\r\n",
      "/psr_archive/hessels/archibald/0337+17/raw/AO/puppi_57431_J0337+1715_0021_0001.fits.success\r\n",
      "/psr_archive/hessels/archibald/0337+17/raw/AO/puppi_57431_J0337+1715_0023_0001.fits.success\r\n"
     ]
    }
   ],
   "source": [
    "!ls /psr_archive/hessels/archibald/0337+17/raw/AO/*.success"
   ]
  },
  {
   "cell_type": "code",
   "execution_count": 28,
   "metadata": {
    "collapsed": true
   },
   "outputs": [],
   "source": [
    "!rm /psr_archive/hessels/archibald/0337+17/raw/AO/*.success"
   ]
  },
  {
   "cell_type": "code",
   "execution_count": 34,
   "metadata": {
    "collapsed": false
   },
   "outputs": [
    {
     "name": "stderr",
     "output_type": "stream",
     "text": [
      "INFO:root:Processing uppi batch 55989 0068 in /psr_archive/hessels/archibald/0337+17/raw/AO/from_UBC\n",
      "INFO:root:Processing uppi batch 55992 0070 in /psr_archive/hessels/archibald/0337+17/raw/AO/from_UBC\n",
      "INFO:root:Processing uppi batch 55995 0003 in /psr_archive/hessels/archibald/0337+17/raw/AO/from_UBC\n",
      "INFO:root:Processing uppi batch 55995 0004 in /psr_archive/hessels/archibald/0337+17/raw/AO/from_UBC\n",
      "INFO:root:Processing uppi batch 55995 0005 in /psr_archive/hessels/archibald/0337+17/raw/AO/from_UBC\n",
      "INFO:root:Processing uppi batch 55998 0036 in /psr_archive/hessels/archibald/0337+17/raw/AO/from_UBC\n",
      "INFO:root:Processing uppi batch 55998 0037 in /psr_archive/hessels/archibald/0337+17/raw/AO/from_UBC\n",
      "INFO:root:Processing uppi batch 56001 0039 in /psr_archive/hessels/archibald/0337+17/raw/AO/from_UBC\n",
      "INFO:root:Processing uppi batch 56005 0043 in /psr_archive/hessels/archibald/0337+17/raw/AO/from_UBC\n",
      "INFO:root:Processing uppi batch 56008 0047 in /psr_archive/hessels/archibald/0337+17/raw/AO/from_UBC\n",
      "INFO:root:Processing uppi batch 56012 0051 in /psr_archive/hessels/archibald/0337+17/raw/AO/from_UBC\n",
      "INFO:root:Processing uppi batch 56015 0054 in /psr_archive/hessels/archibald/0337+17/raw/AO/from_UBC\n",
      "INFO:root:Processing uppi batch 56018 0079 in /psr_archive/hessels/archibald/0337+17/raw/AO/from_UBC\n",
      "INFO:root:Processing uppi batch 56021 0097 in /psr_archive/hessels/archibald/0337+17/raw/AO/from_UBC\n",
      "INFO:root:Processing uppi batch 56025 0164 in /psr_archive/hessels/archibald/0337+17/raw/AO/from_UBC\n",
      "INFO:root:Processing uppi batch 56030 0166 in /psr_archive/hessels/archibald/0337+17/raw/AO/from_UBC\n",
      "INFO:root:Processing uppi batch 56033 0169 in /psr_archive/hessels/archibald/0337+17/raw/AO/from_UBC\n",
      "INFO:root:Processing uppi batch 56036 0178 in /psr_archive/hessels/archibald/0337+17/raw/AO/from_UBC\n",
      "INFO:root:Processing uppi batch 56039 0193 in /psr_archive/hessels/archibald/0337+17/raw/AO/from_UBC\n",
      "INFO:root:Processing uppi batch 56042 0209 in /psr_archive/hessels/archibald/0337+17/raw/AO/from_UBC\n",
      "INFO:root:Processing uppi batch 56046 0226 in /psr_archive/hessels/archibald/0337+17/raw/AO/from_UBC\n",
      "INFO:root:Processing uppi batch 56050 0235 in /psr_archive/hessels/archibald/0337+17/raw/AO/from_UBC\n",
      "INFO:root:Processing uppi batch 56053 0239 in /psr_archive/hessels/archibald/0337+17/raw/AO/from_UBC\n",
      "INFO:root:Processing uppi batch 56053 0240 in /psr_archive/hessels/archibald/0337+17/raw/AO/from_UBC\n",
      "INFO:root:Processing uppi batch 56056 0242 in /psr_archive/hessels/archibald/0337+17/raw/AO/from_UBC\n",
      "INFO:root:Processing uppi batch 56060 0343 in /psr_archive/hessels/archibald/0337+17/raw/AO/from_UBC\n",
      "INFO:root:Processing uppi batch 56063 0347 in /psr_archive/hessels/archibald/0337+17/raw/AO/from_UBC\n",
      "INFO:root:Processing uppi batch 56067 0351 in /psr_archive/hessels/archibald/0337+17/raw/AO/from_UBC\n",
      "INFO:root:Processing uppi batch 56070 0355 in /psr_archive/hessels/archibald/0337+17/raw/AO/from_UBC\n",
      "INFO:root:Processing uppi batch 56073 0359 in /psr_archive/hessels/archibald/0337+17/raw/AO/from_UBC\n",
      "INFO:root:Processing uppi batch 56076 0361 in /psr_archive/hessels/archibald/0337+17/raw/AO/from_UBC\n",
      "INFO:root:Processing uppi batch 56080 0371 in /psr_archive/hessels/archibald/0337+17/raw/AO/from_UBC\n",
      "INFO:root:Processing uppi batch 56084 0381 in /psr_archive/hessels/archibald/0337+17/raw/AO/from_UBC\n",
      "INFO:root:Processing uppi batch 56087 0400 in /psr_archive/hessels/archibald/0337+17/raw/AO/from_UBC\n",
      "INFO:root:Processing uppi batch 56095 0405 in /psr_archive/hessels/archibald/0337+17/raw/AO/from_UBC\n",
      "INFO:root:Processing uppi batch 56103 0411 in /psr_archive/hessels/archibald/0337+17/raw/AO/from_UBC\n",
      "INFO:root:Processing uppi batch 56110 0509 in /psr_archive/hessels/archibald/0337+17/raw/AO/from_UBC\n",
      "INFO:root:Processing uppi batch 56117 0525 in /psr_archive/hessels/archibald/0337+17/raw/AO/from_UBC\n",
      "INFO:root:Processing uppi batch 56124 0549 in /psr_archive/hessels/archibald/0337+17/raw/AO/from_UBC\n",
      "INFO:root:Processing uppi batch 56132 0552 in /psr_archive/hessels/archibald/0337+17/raw/AO/from_UBC\n",
      "INFO:root:Processing uppi batch 56138 0581 in /psr_archive/hessels/archibald/0337+17/raw/AO/from_UBC\n",
      "INFO:root:Processing uppi batch 56159 0685 in /psr_archive/hessels/archibald/0337+17/raw/AO/from_UBC\n",
      "INFO:root:Processing uppi batch 56180 0803 in /psr_archive/hessels/archibald/0337+17/raw/AO/from_UBC\n",
      "INFO:root:Processing uppi batch 56180 0805 in /psr_archive/hessels/archibald/0337+17/raw/AO/from_UBC\n",
      "INFO:root:Processing uppi batch 56201 0935 in /psr_archive/hessels/archibald/0337+17/raw/AO/from_UBC\n",
      "INFO:root:Processing uppi batch 56222 1084 in /psr_archive/hessels/archibald/0337+17/raw/AO/from_UBC\n",
      "ERROR:root:failure processing /psr_archive/hessels/archibald/0337+17/raw/AO/from_UBC: fits_read_col OFFS_SUB: tried to move past end of file\n",
      "ERROR:root:Weird problem with /psr_archive/hessels/archibald/0337+17/raw/AO/from_UBC 56222 1084: fits_read_col OFFS_SUB: tried to move past end of file\n",
      "INFO:root:Processing uppi batch 56243 1253 in /psr_archive/hessels/archibald/0337+17/raw/AO/from_UBC\n",
      "INFO:root:Processing uppi batch 56277 1465 in /psr_archive/hessels/archibald/0337+17/raw/AO/from_UBC\n",
      "INFO:root:Processing uppi batch 56292 1616 in /psr_archive/hessels/archibald/0337+17/raw/AO/from_UBC\n",
      "INFO:root:Processing uppi batch 56477 0258 in /psr_archive/hessels/archibald/0337+17/raw/AO/from_UBC\n",
      "INFO:root:Processing uppi batch 56477 0261 in /psr_archive/hessels/archibald/0337+17/raw/AO/from_UBC\n",
      "INFO:root:Processing uppi batch 56501 0561 in /psr_archive/hessels/archibald/0337+17/raw/AO/from_UBC\n",
      "INFO:root:Processing uppi batch 56526 1021 in /psr_archive/hessels/archibald/0337+17/raw/AO/from_UBC\n",
      "INFO:root:Processing uppi batch 56526 1023 in /psr_archive/hessels/archibald/0337+17/raw/AO/from_UBC\n"
     ]
    }
   ],
   "source": [
    "pipe.process_uppi_dir(\"/psr_archive/hessels/archibald/0337+17/raw/AO/from_UBC\")"
   ]
  },
  {
   "cell_type": "code",
   "execution_count": 29,
   "metadata": {
    "collapsed": false
   },
   "outputs": [
    {
     "name": "stdout",
     "output_type": "stream",
     "text": [
      "/psr_archive/hessels/archibald/0337+17/raw/AO/from_UBC/puppi_56222_J0337+17_1084_0001.fits.failure\r\n"
     ]
    }
   ],
   "source": [
    "!ls /psr_archive/hessels/archibald/0337+17/raw/AO/from_UBC/*.failure"
   ]
  },
  {
   "cell_type": "code",
   "execution_count": 30,
   "metadata": {
    "collapsed": true
   },
   "outputs": [],
   "source": [
    "!rm /psr_archive/hessels/archibald/0337+17/raw/AO/from_UBC/*.failure"
   ]
  },
  {
   "cell_type": "code",
   "execution_count": 31,
   "metadata": {
    "collapsed": false
   },
   "outputs": [
    {
     "name": "stdout",
     "output_type": "stream",
     "text": [
      "/psr_archive/hessels/archibald/0337+17/raw/AO/from_UBC/puppi_55989_0337+1715_0068_0001.fits.success\r\n",
      "/psr_archive/hessels/archibald/0337+17/raw/AO/from_UBC/puppi_55992_0337+1715_0070_0001.fits.success\r\n",
      "/psr_archive/hessels/archibald/0337+17/raw/AO/from_UBC/puppi_55995_0337+1715_0003_0001.fits.success\r\n",
      "/psr_archive/hessels/archibald/0337+17/raw/AO/from_UBC/puppi_55995_0337+1715_0004_0001.fits.success\r\n",
      "/psr_archive/hessels/archibald/0337+17/raw/AO/from_UBC/puppi_55995_0337+1715_0005_0001.fits.success\r\n",
      "/psr_archive/hessels/archibald/0337+17/raw/AO/from_UBC/puppi_55998_0337+1715_0036_0001.fits.success\r\n",
      "/psr_archive/hessels/archibald/0337+17/raw/AO/from_UBC/puppi_55998_0337+1715_0037_0001.fits.success\r\n",
      "/psr_archive/hessels/archibald/0337+17/raw/AO/from_UBC/puppi_56001_0337+1715_0039_0001.fits.success\r\n",
      "/psr_archive/hessels/archibald/0337+17/raw/AO/from_UBC/puppi_56005_J0337+17_0043_0001.fits.success\r\n",
      "/psr_archive/hessels/archibald/0337+17/raw/AO/from_UBC/puppi_56008_J0337+17_0047_0001.fits.success\r\n",
      "/psr_archive/hessels/archibald/0337+17/raw/AO/from_UBC/puppi_56012_J0337+17_0051_0001.fits.success\r\n",
      "/psr_archive/hessels/archibald/0337+17/raw/AO/from_UBC/puppi_56015_J0337+17_0054_0001.fits.success\r\n",
      "/psr_archive/hessels/archibald/0337+17/raw/AO/from_UBC/puppi_56018_J0337+17_0079_0001.fits.success\r\n",
      "/psr_archive/hessels/archibald/0337+17/raw/AO/from_UBC/puppi_56021_J0337+17_0097_0001.fits.success\r\n",
      "/psr_archive/hessels/archibald/0337+17/raw/AO/from_UBC/puppi_56025_J0337+17_0164_0001.fits.success\r\n",
      "/psr_archive/hessels/archibald/0337+17/raw/AO/from_UBC/puppi_56030_J0337+17_0166_0001.fits.success\r\n",
      "/psr_archive/hessels/archibald/0337+17/raw/AO/from_UBC/puppi_56033_J0337+17_0169_0001.fits.success\r\n",
      "/psr_archive/hessels/archibald/0337+17/raw/AO/from_UBC/puppi_56036_J0337+17_0178_0001.fits.success\r\n",
      "/psr_archive/hessels/archibald/0337+17/raw/AO/from_UBC/puppi_56039_J0337+17_0193_0001.fits.success\r\n",
      "/psr_archive/hessels/archibald/0337+17/raw/AO/from_UBC/puppi_56042_J0337+17_0209_0001.fits.success\r\n",
      "/psr_archive/hessels/archibald/0337+17/raw/AO/from_UBC/puppi_56046_J0337+17_0226_0001.fits.success\r\n",
      "/psr_archive/hessels/archibald/0337+17/raw/AO/from_UBC/puppi_56050_J0337+17_0235_0001.fits.success\r\n",
      "/psr_archive/hessels/archibald/0337+17/raw/AO/from_UBC/puppi_56053_J0337+17_0239_0001.fits.success\r\n",
      "/psr_archive/hessels/archibald/0337+17/raw/AO/from_UBC/puppi_56053_J0337+17_0240_0001.fits.success\r\n",
      "/psr_archive/hessels/archibald/0337+17/raw/AO/from_UBC/puppi_56056_J0337+17_0242_0001.fits.success\r\n",
      "/psr_archive/hessels/archibald/0337+17/raw/AO/from_UBC/puppi_56060_J0337+17_0343_0001.fits.success\r\n",
      "/psr_archive/hessels/archibald/0337+17/raw/AO/from_UBC/puppi_56063_J0337+17_0347_0001.fits.success\r\n",
      "/psr_archive/hessels/archibald/0337+17/raw/AO/from_UBC/puppi_56067_J0337+17_0351_0001.fits.success\r\n",
      "/psr_archive/hessels/archibald/0337+17/raw/AO/from_UBC/puppi_56070_J0337+17_0355_0001.fits.success\r\n",
      "/psr_archive/hessels/archibald/0337+17/raw/AO/from_UBC/puppi_56073_J0337+17_0359_0001.fits.success\r\n",
      "/psr_archive/hessels/archibald/0337+17/raw/AO/from_UBC/puppi_56076_J0337+17_0361_0001.fits.success\r\n",
      "/psr_archive/hessels/archibald/0337+17/raw/AO/from_UBC/puppi_56080_J0337+17_0371_0001.fits.success\r\n",
      "/psr_archive/hessels/archibald/0337+17/raw/AO/from_UBC/puppi_56084_J0337+17_0381_0001.fits.success\r\n",
      "/psr_archive/hessels/archibald/0337+17/raw/AO/from_UBC/puppi_56087_J0337+17_0400_0001.fits.success\r\n",
      "/psr_archive/hessels/archibald/0337+17/raw/AO/from_UBC/puppi_56095_J0337+17_0405_0001.fits.success\r\n",
      "/psr_archive/hessels/archibald/0337+17/raw/AO/from_UBC/puppi_56103_J0337+17_0411_0001.fits.success\r\n",
      "/psr_archive/hessels/archibald/0337+17/raw/AO/from_UBC/puppi_56110_J0337+17_0509_0001.fits.success\r\n",
      "/psr_archive/hessels/archibald/0337+17/raw/AO/from_UBC/puppi_56117_J0337+17_0525_0001.fits.success\r\n",
      "/psr_archive/hessels/archibald/0337+17/raw/AO/from_UBC/puppi_56124_J0337+17_0549_0001.fits.success\r\n",
      "/psr_archive/hessels/archibald/0337+17/raw/AO/from_UBC/puppi_56132_J0337+17_0552_0001.fits.success\r\n",
      "/psr_archive/hessels/archibald/0337+17/raw/AO/from_UBC/puppi_56138_J0337+17_0581_0001.fits.success\r\n",
      "/psr_archive/hessels/archibald/0337+17/raw/AO/from_UBC/puppi_56159_J0337+17_0685_0001.fits.success\r\n",
      "/psr_archive/hessels/archibald/0337+17/raw/AO/from_UBC/puppi_56180_J0337+17_0803_0001.fits.success\r\n",
      "/psr_archive/hessels/archibald/0337+17/raw/AO/from_UBC/puppi_56180_J0337+17_0805_0001.fits.success\r\n",
      "/psr_archive/hessels/archibald/0337+17/raw/AO/from_UBC/puppi_56201_J0337+17_0935_0001.fits.success\r\n",
      "/psr_archive/hessels/archibald/0337+17/raw/AO/from_UBC/puppi_56243_J0337+17_1253_0001.fits.success\r\n",
      "/psr_archive/hessels/archibald/0337+17/raw/AO/from_UBC/puppi_56277_J0337+17_1465_0001.fits.success\r\n",
      "/psr_archive/hessels/archibald/0337+17/raw/AO/from_UBC/puppi_56292_J0337+17_1616_0001.fits.success\r\n",
      "/psr_archive/hessels/archibald/0337+17/raw/AO/from_UBC/puppi_56477_J0337+1715_0258_0001.fits.success\r\n",
      "/psr_archive/hessels/archibald/0337+17/raw/AO/from_UBC/puppi_56477_J0337+1715_0261_0001.fits.success\r\n",
      "/psr_archive/hessels/archibald/0337+17/raw/AO/from_UBC/puppi_56501_J0337+1715_0561_0001.fits.success\r\n",
      "/psr_archive/hessels/archibald/0337+17/raw/AO/from_UBC/puppi_56526_J0337+1715_1021_0001.fits.success\r\n",
      "/psr_archive/hessels/archibald/0337+17/raw/AO/from_UBC/puppi_56526_J0337+1715_1023_0001.fits.success\r\n"
     ]
    }
   ],
   "source": [
    "!ls /psr_archive/hessels/archibald/0337+17/raw/AO/from_UBC/*.success"
   ]
  },
  {
   "cell_type": "code",
   "execution_count": 32,
   "metadata": {
    "collapsed": true
   },
   "outputs": [],
   "source": [
    "!rm /psr_archive/hessels/archibald/0337+17/raw/AO/from_UBC/*.success"
   ]
  },
  {
   "cell_type": "code",
   "execution_count": null,
   "metadata": {
    "collapsed": true
   },
   "outputs": [],
   "source": []
  }
 ],
 "metadata": {
  "kernelspec": {
   "display_name": "Python 2",
   "language": "python",
   "name": "python2"
  },
  "language_info": {
   "codemirror_mode": {
    "name": "ipython",
    "version": 2
   },
   "file_extension": ".py",
   "mimetype": "text/x-python",
   "name": "python",
   "nbconvert_exporter": "python",
   "pygments_lexer": "ipython2",
   "version": "2.7.6"
  }
 },
 "nbformat": 4,
 "nbformat_minor": 1
}
