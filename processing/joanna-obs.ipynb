{
 "cells": [
  {
   "cell_type": "code",
   "execution_count": 1,
   "metadata": {
    "collapsed": false
   },
   "outputs": [
    {
     "name": "stderr",
     "output_type": "stream",
     "text": [
      "DEBUG:root:test\n"
     ]
    },
    {
     "data": {
      "text/plain": [
       "<matplotlib.figure.Figure at 0x7f9c376be050>"
      ]
     },
     "metadata": {},
     "output_type": "display_data"
    }
   ],
   "source": [
    "import subprocess\n",
    "import shutil\n",
    "import traceback\n",
    "import random\n",
    "import pickle\n",
    "from os.path import join\n",
    "\n",
    "import joblib\n",
    "from concurrent.futures import ProcessPoolExecutor\n",
    "\n",
    "from backports import tempfile\n",
    "\n",
    "import matplotlib\n",
    "matplotlib.rcParams['savefig.dpi'] = 144\n",
    "matplotlib.rcParams[\"image.composite_image\"]=False\n",
    "%matplotlib inline\n",
    "import numpy as np\n",
    "import matplotlib.pyplot as plt\n",
    "import scipy.optimize\n",
    "from numpy.fft import rfft, irfft, fft, ifft\n",
    "\n",
    "import psrchive\n",
    "import residuals\n",
    "\n",
    "import pipe\n",
    "from pipe import rotate_phase, convert_template, align_profile, align_scale_profile\n",
    "\n",
    "plt.viridis()\n",
    "\n",
    "import logging\n",
    "logger = logging.getLogger()\n",
    "logger.setLevel(logging.DEBUG)\n",
    "logging.debug(\"test\")"
   ]
  },
  {
   "cell_type": "code",
   "execution_count": 2,
   "metadata": {
    "collapsed": true
   },
   "outputs": [],
   "source": [
    "joanna_obs = [\n",
    "    (\"56412.76_GBT_1400\", \"tuned\"),\n",
    "    (\"57900.63_AO_2000\", \"sband\"),\n",
    "    (\"57900.68_AO_3000\", \"sband\"),\n",
    "    # FIXME: 430 and 350? 800?\n",
    "    ]\n"
   ]
  },
  {
   "cell_type": "code",
   "execution_count": 6,
   "metadata": {
    "collapsed": false
   },
   "outputs": [],
   "source": [
    "for (o,p) in joanna_obs:\n",
    "    F = psrchive.Archive_load(join(\"data/obs\",o,p,\"scrunch_0000.ar\"))\n",
    "    F.tscrunch()\n",
    "    F.fscrunch()\n",
    "    F.remove_baseline()\n",
    "    F.convert_state(\"Stokes\")\n",
    "    iquv = F.get_data()[0,:,0,:]\n",
    "    outf = o + \".iquv\"\n",
    "    np.savetxt(outf, iquv.T, header=\"center-frequency: %g\" % F.get_centre_frequency())"
   ]
  },
  {
   "cell_type": "code",
   "execution_count": null,
   "metadata": {
    "collapsed": true
   },
   "outputs": [],
   "source": []
  }
 ],
 "metadata": {
  "kernelspec": {
   "display_name": "Python 2",
   "language": "python",
   "name": "python2"
  },
  "language_info": {
   "codemirror_mode": {
    "name": "ipython",
    "version": 2
   },
   "file_extension": ".py",
   "mimetype": "text/x-python",
   "name": "python",
   "nbconvert_exporter": "python",
   "pygments_lexer": "ipython2",
   "version": "2.7.6"
  }
 },
 "nbformat": 4,
 "nbformat_minor": 1
}
