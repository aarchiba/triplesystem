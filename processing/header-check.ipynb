{
 "cells": [
  {
   "cell_type": "code",
   "execution_count": 11,
   "metadata": {
    "collapsed": true
   },
   "outputs": [],
   "source": [
    "from glob import glob\n",
    "import subprocess"
   ]
  },
  {
   "cell_type": "code",
   "execution_count": 27,
   "metadata": {
    "collapsed": true
   },
   "outputs": [],
   "source": [
    "fs = sorted(glob(\"data/raw/AO/*.fits\")+glob(\"data/raw/AO/from_UBC/*.fits\")+glob(\"data/raw/AO/duplicates/*.fits\"))"
   ]
  },
  {
   "cell_type": "code",
   "execution_count": 28,
   "metadata": {
    "collapsed": true
   },
   "outputs": [],
   "source": [
    "psredit_out = {}"
   ]
  },
  {
   "cell_type": "code",
   "execution_count": 35,
   "metadata": {
    "collapsed": false
   },
   "outputs": [],
   "source": [
    "for f in fs:\n",
    "    if f in psredit_out:\n",
    "        continue\n",
    "    o = subprocess.check_output([\"psredit\",f])\n",
    "    d = {}\n",
    "    for l in o.split(\"\\n\"):\n",
    "        if not l.strip():\n",
    "            continue\n",
    "        k = l[:17].strip()\n",
    "        dsc = l[17:67].strip()\n",
    "        v = l[67:].strip()\n",
    "        d[k] = v\n",
    "    psredit_out[f] = d"
   ]
  },
  {
   "cell_type": "code",
   "execution_count": 36,
   "metadata": {
    "collapsed": false,
    "scrolled": false
   },
   "outputs": [
    {
     "name": "stdout",
     "output_type": "stream",
     "text": [
      "data/raw/AO/duplicates/puppi_56554_J0337+1715_0222_cal_0001.fits ('L-wide', '1380.78125')\n",
      "data/raw/AO/duplicates/puppi_56554_J0337+1715_0224_cal_0001.fits ('430', '429.21875')\n",
      "data/raw/AO/duplicates/puppi_56645_J0337+1715_0558_cal_0001.fits ('lbw', '1416.49553571429')\n",
      "data/raw/AO/duplicates/puppi_56645_J0337+1715_0560_cal_0001.fits ('430', '424.754464285714')\n",
      "data/raw/AO/duplicates/puppi_56736_J0337+1715_0279_cal_0001.fits ('lbw', '1380.78125')\n",
      "data/raw/AO/from_UBC/puppi_56222_J0337+17_1084_0004.fits anomaly\n",
      "data/raw/AO/puppi_56755_J0337+1715_0654_cal_0001.fits ('lbw', '1390.78125')\n",
      "data/raw/AO/puppi_56755_J0337+1715_0656_cal_0001.fits ('430', '427.96875')\n",
      "data/raw/AO/puppi_56768_J0337+1715_0881_cal_0001.fits ('sbw', '2030.78125')\n",
      "data/raw/AO/puppi_56781_J0337+1715_1036_cal_0001.fits ('sbw', '2917.44791666667')\n",
      "data/raw/AO/puppi_56781_J0337+1715_1038_cal_0001.fits ('sbw', '2147.44791666667')\n",
      "data/raw/AO/puppi_56781_J0337+1715_1039_0003.fits ('sbw', '2330.78125')\n",
      "data/raw/AO/puppi_57055_J0337+1715_0822_cal_0001.fits ('lbw', '1430.78125')\n",
      "data/raw/AO/puppi_57055_J0337+1715_0826_cal_0001.fits ('430', '422.96875')\n",
      "data/raw/AO/puppi_57058_J0337+1715_0839_cal_0001.fits ('lbw', '1730.78125')\n",
      "data/raw/AO/puppi_57058_J0337+1715_0841_cal_0001.fits ('430', '385.46875')\n",
      "data/raw/AO/puppi_57375_J0337+1715_5032_cal_0001.fits ('sbw', '2080.78125')\n",
      "data/raw/AO/puppi_57431_J0337+1715_0022_cal_0001.fits ('327', '320.65234375')\n"
     ]
    }
   ],
   "source": [
    "cfs = {}\n",
    "anomalies = []\n",
    "for f, d in sorted(psredit_out.items()):\n",
    "    try:\n",
    "        k = d['rcvr:name'], d['freq']\n",
    "    except KeyError:\n",
    "        print f, \"anomaly\"\n",
    "        anomalies.append((f,d))\n",
    "        continue\n",
    "    if k not in cfs:\n",
    "        print f, k\n",
    "        cfs[k] = []\n",
    "    cfs[k].append(f)"
   ]
  },
  {
   "cell_type": "code",
   "execution_count": 37,
   "metadata": {
    "collapsed": false
   },
   "outputs": [
    {
     "data": {
      "text/plain": [
       "(500, 500)"
      ]
     },
     "execution_count": 37,
     "metadata": {},
     "output_type": "execute_result"
    }
   ],
   "source": [
    "len(fs), len(psredit_out)"
   ]
  },
  {
   "cell_type": "code",
   "execution_count": 38,
   "metadata": {
    "collapsed": false
   },
   "outputs": [
    {
     "data": {
      "text/plain": [
       "['data/raw/AO/puppi_57058_J0337+1715_0839_cal_0001.fits',\n",
       " 'data/raw/AO/puppi_57058_J0337+1715_0840_0001.fits',\n",
       " 'data/raw/AO/puppi_57058_J0337+1715_0840_0002.fits',\n",
       " 'data/raw/AO/puppi_57058_J0337+1715_0840_0003.fits',\n",
       " 'data/raw/AO/puppi_57060_J0337+1715_0860_cal_0001.fits',\n",
       " 'data/raw/AO/puppi_57060_J0337+1715_0861_0001.fits',\n",
       " 'data/raw/AO/puppi_57060_J0337+1715_0861_0002.fits',\n",
       " 'data/raw/AO/puppi_57060_J0337+1715_0861_0003.fits']"
      ]
     },
     "execution_count": 38,
     "metadata": {},
     "output_type": "execute_result"
    }
   ],
   "source": [
    "cfs[('lbw', '1730.78125')]"
   ]
  },
  {
   "cell_type": "code",
   "execution_count": 17,
   "metadata": {
    "collapsed": false
   },
   "outputs": [
    {
     "data": {
      "text/plain": [
       "67"
      ]
     },
     "execution_count": 17,
     "metadata": {},
     "output_type": "execute_result"
    }
   ],
   "source": [
    "len(\"sub:signint      1 for signed ints in SEARCH-mode data, else 0     \")"
   ]
  },
  {
   "cell_type": "code",
   "execution_count": 40,
   "metadata": {
    "collapsed": false
   },
   "outputs": [
    {
     "data": {
      "text/plain": [
       "['data/raw/AO/puppi_57058_J0337+1715_0841_cal_0001.fits',\n",
       " 'data/raw/AO/puppi_57058_J0337+1715_0842_0001.fits',\n",
       " 'data/raw/AO/puppi_57060_J0337+1715_0862_cal_0001.fits',\n",
       " 'data/raw/AO/puppi_57060_J0337+1715_0863_0001.fits']"
      ]
     },
     "execution_count": 40,
     "metadata": {},
     "output_type": "execute_result"
    }
   ],
   "source": [
    "cfs[('430', '385.46875')]"
   ]
  },
  {
   "cell_type": "code",
   "execution_count": 41,
   "metadata": {
    "collapsed": false
   },
   "outputs": [
    {
     "data": {
      "text/plain": [
       "['data/raw/AO/puppi_56781_J0337+1715_1036_cal_0001.fits',\n",
       " 'data/raw/AO/puppi_56781_J0337+1715_1037_0001.fits',\n",
       " 'data/raw/AO/puppi_56781_J0337+1715_1037_0002.fits',\n",
       " 'data/raw/AO/puppi_56781_J0337+1715_1037_0003.fits',\n",
       " 'data/raw/AO/puppi_56781_J0337+1715_1037_0004.fits']"
      ]
     },
     "execution_count": 41,
     "metadata": {},
     "output_type": "execute_result"
    }
   ],
   "source": [
    "cfs[('sbw', '2917.44791666667')]"
   ]
  },
  {
   "cell_type": "code",
   "execution_count": null,
   "metadata": {
    "collapsed": true
   },
   "outputs": [],
   "source": []
  }
 ],
 "metadata": {
  "kernelspec": {
   "display_name": "Python 2",
   "language": "python",
   "name": "python2"
  },
  "language_info": {
   "codemirror_mode": {
    "name": "ipython",
    "version": 2
   },
   "file_extension": ".py",
   "mimetype": "text/x-python",
   "name": "python",
   "nbconvert_exporter": "python",
   "pygments_lexer": "ipython2",
   "version": "2.7.6"
  }
 },
 "nbformat": 4,
 "nbformat_minor": 1
}
