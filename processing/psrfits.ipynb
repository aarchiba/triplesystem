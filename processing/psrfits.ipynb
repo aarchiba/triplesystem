{
 "cells": [
  {
   "cell_type": "code",
   "execution_count": 2,
   "metadata": {
    "collapsed": false
   },
   "outputs": [
    {
     "name": "stderr",
     "output_type": "stream",
     "text": [
      "DEBUG:root:test\n"
     ]
    },
    {
     "name": "stdout",
     "output_type": "stream",
     "text": [
      "The autoreload extension is already loaded. To reload it, use:\n",
      "  %reload_ext autoreload\n"
     ]
    },
    {
     "data": {
      "text/plain": [
       "<matplotlib.figure.Figure at 0x7f20bf94cc50>"
      ]
     },
     "metadata": {},
     "output_type": "display_data"
    }
   ],
   "source": [
    "%load_ext autoreload\n",
    "\n",
    "%autoreload 2\n",
    "\n",
    "import os\n",
    "from glob import glob\n",
    "import subprocess\n",
    "import shutil\n",
    "import traceback\n",
    "import random\n",
    "import pickle\n",
    "from os.path import join\n",
    "\n",
    "import joblib\n",
    "from concurrent.futures import ProcessPoolExecutor\n",
    "\n",
    "from backports import tempfile\n",
    "\n",
    "import matplotlib\n",
    "matplotlib.rcParams['savefig.dpi'] = 144\n",
    "matplotlib.rcParams[\"image.composite_image\"]=False\n",
    "%matplotlib inline\n",
    "import numpy as np\n",
    "import matplotlib.pyplot as plt\n",
    "import scipy.optimize\n",
    "import scipy.linalg\n",
    "from numpy.fft import rfft, irfft, fft, ifft\n",
    "\n",
    "import multiprocessing\n",
    "import concurrent.futures\n",
    "c\n",
    "\n",
    "import psrchive\n",
    "import residuals\n",
    "\n",
    "import pipe\n",
    "from pipe import rotate_phase, convert_template, align_profile, align_scale_profile\n",
    "\n",
    "import template_match as tm\n",
    "\n",
    "plt.viridis()\n",
    "\n",
    "import logging\n",
    "logger = logging.getLogger()\n",
    "logger.setLevel(logging.DEBUG)\n",
    "logging.debug(\"test\")"
   ]
  },
  {
   "cell_type": "code",
   "execution_count": 3,
   "metadata": {
    "collapsed": true
   },
   "outputs": [],
   "source": [
    "obs = \"data/obs/56494.49_GBT_1400\"\n",
    "processing_name = \"onescintle\"\n",
    "scr, = glob(join(obs,processing_name,\"scrunch_*.ar\"))\n",
    "F = psrchive.Archive_load(scr)\n",
    "hdulist = fits.open(scr)"
   ]
  },
  {
   "cell_type": "code",
   "execution_count": 4,
   "metadata": {
    "collapsed": false
   },
   "outputs": [
    {
     "name": "stdout",
     "output_type": "stream",
     "text": [
      "Filename: data/obs/56494.49_GBT_1400/onescintle/scrunch_0000.ar\n",
      "No.    Name         Type      Cards   Dimensions   Format\n",
      "  0  PRIMARY     PrimaryHDU      64   ()      \n",
      "  1  HISTORY     BinTableHDU     71   8R x 28C   [24A, 256A, 8A, 8A, 1J, 1I, 1I, 1I, 1D, 1D, 1J, 1D, 1D, 1D, 1I, 1I, 1I, 1I, 1I, 32A, 32A, 32A, 256A, 32A, 32A, 1I, 32A, 1I]   \n",
      "  2  PSRPARAM    BinTableHDU     12   38R x 1C   [128A]   \n",
      "  3  POLYCO      BinTableHDU     38   1R x 13C   [24A, 16A, 1I, 1I, 1I, 8A, 1D, 1D, 1D, 1D, 1D, 1D, 15D]   \n",
      "  4  SUBINT      BinTableHDU     88   2R x 20C   [1D, 1D, 1D, 1D, 1D, 1D, 1D, 1D, 1E, 1E, 1E, 1E, 1E, 1D, 1D, 128D, 128E, 512E, 512E, 524288I]   \n"
     ]
    }
   ],
   "source": [
    "hdulist.info()"
   ]
  },
  {
   "cell_type": "code",
   "execution_count": 6,
   "metadata": {
    "collapsed": false
   },
   "outputs": [
    {
     "data": {
      "text/plain": [
       "dtype((numpy.record, [('INDEXVAL', '>f8'), ('TSUBINT', '>f8'), ('OFFS_SUB', '>f8'), ('LST_SUB', '>f8'), ('RA_SUB', '>f8'), ('DEC_SUB', '>f8'), ('GLON_SUB', '>f8'), ('GLAT_SUB', '>f8'), ('FD_ANG', '>f4'), ('POS_ANG', '>f4'), ('PAR_ANG', '>f4'), ('TEL_AZ', '>f4'), ('TEL_ZEN', '>f4'), ('AUX_DM', '>f8'), ('AUX_RM', '>f8'), ('DAT_FREQ', '>f8', (128,)), ('DAT_WTS', '>f4', (128,)), ('DAT_OFFS', '>f4', (512,)), ('DAT_SCL', '>f4', (512,)), ('DATA', '>i2', (4, 128, 1024))]))"
      ]
     },
     "execution_count": 6,
     "metadata": {},
     "output_type": "execute_result"
    }
   ],
   "source": [
    "hdulist['SUBINT'].data.dtype"
   ]
  },
  {
   "cell_type": "code",
   "execution_count": 7,
   "metadata": {
    "collapsed": false
   },
   "outputs": [
    {
     "data": {
      "text/plain": [
       "ColDefs(\n",
       "    name = 'INDEXVAL'; format = '1D'\n",
       "    name = 'TSUBINT'; format = '1D'; unit = 's'\n",
       "    name = 'OFFS_SUB'; format = '1D'; unit = 's'\n",
       "    name = 'LST_SUB'; format = '1D'; unit = 's'\n",
       "    name = 'RA_SUB'; format = '1D'; unit = 'deg'\n",
       "    name = 'DEC_SUB'; format = '1D'; unit = 'deg'\n",
       "    name = 'GLON_SUB'; format = '1D'; unit = 'deg'\n",
       "    name = 'GLAT_SUB'; format = '1D'; unit = 'deg'\n",
       "    name = 'FD_ANG'; format = '1E'; unit = 'deg'\n",
       "    name = 'POS_ANG'; format = '1E'; unit = 'deg'\n",
       "    name = 'PAR_ANG'; format = '1E'; unit = 'deg'\n",
       "    name = 'TEL_AZ'; format = '1E'; unit = 'deg'\n",
       "    name = 'TEL_ZEN'; format = '1E'; unit = 'deg'\n",
       "    name = 'AUX_DM'; format = '1D'; unit = 'CM-3'\n",
       "    name = 'AUX_RM'; format = '1D'; unit = 'RAD'\n",
       "    name = 'DAT_FREQ'; format = '128D'; unit = 'MHz'\n",
       "    name = 'DAT_WTS'; format = '128E'\n",
       "    name = 'DAT_OFFS'; format = '512E'\n",
       "    name = 'DAT_SCL'; format = '512E'\n",
       "    name = 'DATA'; format = '524288I'; unit = 'Jy'; dim = '(1024,128,4)'\n",
       ")"
      ]
     },
     "execution_count": 7,
     "metadata": {},
     "output_type": "execute_result"
    }
   ],
   "source": [
    "hdulist['SUBINT'].columns"
   ]
  },
  {
   "cell_type": "code",
   "execution_count": 13,
   "metadata": {
    "collapsed": false
   },
   "outputs": [
    {
     "data": {
      "text/plain": [
       "(2, 4, 128, 1024)"
      ]
     },
     "execution_count": 13,
     "metadata": {},
     "output_type": "execute_result"
    }
   ],
   "source": [
    "hdulist['SUBINT'].data['DATA'].shape"
   ]
  },
  {
   "cell_type": "code",
   "execution_count": 14,
   "metadata": {
    "collapsed": false
   },
   "outputs": [
    {
     "data": {
      "text/plain": [
       "(2, 128)"
      ]
     },
     "execution_count": 14,
     "metadata": {},
     "output_type": "execute_result"
    }
   ],
   "source": [
    "hdulist['SUBINT'].data['DAT_WTS'].shape"
   ]
  },
  {
   "cell_type": "code",
   "execution_count": 15,
   "metadata": {
    "collapsed": false
   },
   "outputs": [
    {
     "data": {
      "text/plain": [
       "(2, 128)"
      ]
     },
     "execution_count": 15,
     "metadata": {},
     "output_type": "execute_result"
    }
   ],
   "source": [
    "hdulist['SUBINT'].data['DAT_FREQ'].shape"
   ]
  },
  {
   "cell_type": "code",
   "execution_count": 16,
   "metadata": {
    "collapsed": false
   },
   "outputs": [
    {
     "data": {
      "text/plain": [
       "XTENSION= 'BINTABLE'           / ***** Subintegration data  *****               \n",
       "BITPIX  =                    8 / N/A                                            \n",
       "NAXIS   =                    2 / 2-dimensional binary table                     \n",
       "NAXIS1  =              1054308 / width of table in bytes                        \n",
       "NAXIS2  =                    2 / Number of rows in table (NSUBINT)              \n",
       "PCOUNT  =                    0 / size of special data area                      \n",
       "GCOUNT  =                    1 / one data group (required keyword)              \n",
       "TFIELDS =                   20 / Number of fields per row                       \n",
       "TTYPE1  = 'INDEXVAL'           / Optionally used if INT_TYPE != TIME            \n",
       "TFORM1  = '1D      '           / Double                                         \n",
       "TTYPE2  = 'TSUBINT '           / Length of subintegration                       \n",
       "TFORM2  = '1D      '           / Double                                         \n",
       "TTYPE3  = 'OFFS_SUB'           / Offset from Start of subint centre             \n",
       "TFORM3  = '1D      '           / Double                                         \n",
       "TTYPE4  = 'LST_SUB '           / LST at subint centre                           \n",
       "TFORM4  = '1D      '           / Double                                         \n",
       "TTYPE5  = 'RA_SUB  '           / RA (J2000) at subint centre                    \n",
       "TFORM5  = '1D      '           / Double                                         \n",
       "TTYPE6  = 'DEC_SUB '           / Dec (J2000) at subint centre                   \n",
       "TFORM6  = '1D      '           / Double                                         \n",
       "TTYPE7  = 'GLON_SUB'           / [deg] Gal longitude at subint centre           \n",
       "TFORM7  = '1D      '           / Double                                         \n",
       "TTYPE8  = 'GLAT_SUB'           / [deg] Gal latitude at subint centre            \n",
       "TFORM8  = '1D      '           / Double                                         \n",
       "TTYPE9  = 'FD_ANG  '           / [deg] Feed angle at subint centre              \n",
       "TFORM9  = '1E      '           / Float                                          \n",
       "TTYPE10 = 'POS_ANG '           / [deg] Position angle of feed at subint centre  \n",
       "TFORM10 = '1E      '           / Float                                          \n",
       "TTYPE11 = 'PAR_ANG '           / [deg] Parallactic angle at subint centre       \n",
       "TFORM11 = '1E      '           / Float                                          \n",
       "TTYPE12 = 'TEL_AZ  '           / [deg] Telescope azimuth at subint centre       \n",
       "TFORM12 = '1E      '           / Float                                          \n",
       "TTYPE13 = 'TEL_ZEN '           / [deg] Telescope zenith angle at subint centre  \n",
       "TFORM13 = '1E      '           / Float                                          \n",
       "TTYPE14 = 'AUX_DM  '           / additional DM (ionosphere, corona, etc.)       \n",
       "TFORM14 = '1D      '           / Double                                         \n",
       "TTYPE15 = 'AUX_RM  '           / additional RM (ionosphere, corona, etc.)       \n",
       "TFORM15 = '1D      '           / Double                                         \n",
       "TTYPE16 = 'DAT_FREQ'           / [MHz] Centre frequency for each channel        \n",
       "TFORM16 = '128D    '           / NCHAN doubles                                  \n",
       "TTYPE17 = 'DAT_WTS '           / Weights for each channel                       \n",
       "TFORM17 = '128E    '           / NCHAN floats                                   \n",
       "TTYPE18 = 'DAT_OFFS'           / Data offset for each channel                   \n",
       "TFORM18 = '512E    '           / NCHAN*NPOL floats                              \n",
       "TTYPE19 = 'DAT_SCL '           / Data scale factor (outval=dataval*scl + offs)  \n",
       "TFORM19 = '512E    '           / NCHAN*NPOL floats                              \n",
       "TTYPE20 = 'DATA    '           / Subint data table                              \n",
       "TFORM20 = '524288I '           / I (Fold) or B (1-8 bit) Search                 \n",
       "INT_TYPE= 'TIME    '           / Time axis (TIME, BINPHSPERI, BINLNGASC, etc)   \n",
       "INT_UNIT= 'SEC     '           / Unit of time axis (SEC, PHS (0-1), DEG)        \n",
       "SCALE   = 'Jansky  '           / Intensity units (FluxDen/RefFlux/Jansky)       \n",
       "POL_TYPE= 'AABBCRCI'           / Polarisation identifier (e.g., AABBCRCI, AA+BB)\n",
       "NPOL    =                    4 / Nr of polarisations                            \n",
       "TBIN    =              6.4E-07 / [s] Time per bin or sample                     \n",
       "NBIN    =                 1024 / Nr of bins (PSR/CAL mode; else 1)              \n",
       "NBIN_PRD= '*       '           / Nr of bins/pulse period (for gated data)       \n",
       "PHS_OFFS= '*       '           / Phase offset of bin 0 for gated data           \n",
       "NBITS   =                    1 / Nr of bits/datum (SEARCH mode data, else 1)    \n",
       "ZERO_OFF= '*       '           / Zero offset for SEARCH-mode data               \n",
       "SIGNINT =                    0 / 1 for signed ints in SEARCH-mode data, else 0  \n",
       "NSUBOFFS= '*       '           / Subint offset (Contiguous SEARCH-mode files)   \n",
       "NCHAN   =                  128 / Number of channels/sub-bands in this file      \n",
       "CHAN_BW =                 6.25 / [MHz] Channel/sub-band width                   \n",
       "DM      =               21.313 / [cm-3 pc] DM for post-detection dedisperion    \n",
       "RM      =                  30. / [rad m-2] RM for post-detection deFaraday      \n",
       "NCHNOFFS= '*       '           / Channel/sub-band offset for split files        \n",
       "NSBLK   =                    1 / Samples/row (SEARCH mode, else 1)              \n",
       "NSTOT   = '*       '           / Total number of samples (SEARCH mode, else 1)  \n",
       "EXTNAME = 'SUBINT  '           / name of this binary table extension            \n",
       "TUNIT2  = 's       '           / Units of field                                 \n",
       "TUNIT3  = 's       '           / Units of field                                 \n",
       "TUNIT4  = 's       '           / Units of field                                 \n",
       "TUNIT5  = 'deg     '           / Units of field                                 \n",
       "TUNIT6  = 'deg     '           / Units of field                                 \n",
       "TUNIT7  = 'deg     '           / Units of field                                 \n",
       "TUNIT8  = 'deg     '           / Units of field                                 \n",
       "TUNIT9  = 'deg     '           / Units of field                                 \n",
       "TUNIT10 = 'deg     '           / Units of field                                 \n",
       "TUNIT11 = 'deg     '           / Units of field                                 \n",
       "TUNIT12 = 'deg     '           / Units of field                                 \n",
       "TUNIT13 = 'deg     '           / Units of field                                 \n",
       "TUNIT14 = 'CM-3    '                                                            \n",
       "TUNIT15 = 'RAD     '                                                            \n",
       "TUNIT16 = 'MHz     '           / Units of field                                 \n",
       "TDIM20  = '(1024,128,4)'       / (NBIN,NCHAN,NPOL) or (NCHAN,NPOL,NSBLK*NBITS/8)\n",
       "TUNIT20 = 'Jy      '           / Units of subint data                           \n",
       "EXTVER  =                    1 / auto assigned by template parser               \n",
       "EPOCHS  = 'VALID   '                                                            "
      ]
     },
     "execution_count": 16,
     "metadata": {},
     "output_type": "execute_result"
    }
   ],
   "source": [
    "hdulist['SUBINT'].header"
   ]
  },
  {
   "cell_type": "code",
   "execution_count": 17,
   "metadata": {
    "collapsed": false
   },
   "outputs": [
    {
     "data": {
      "text/plain": [
       "array([ 326.4169081 ,  981.02133036])"
      ]
     },
     "execution_count": 17,
     "metadata": {},
     "output_type": "execute_result"
    }
   ],
   "source": [
    "hdulist['SUBINT'].data['OFFS_SUB']"
   ]
  },
  {
   "cell_type": "code",
   "execution_count": 19,
   "metadata": {
    "collapsed": false
   },
   "outputs": [
    {
     "data": {
      "text/plain": [
       "SIMPLE  =                    T / file does conform to FITS standard             \n",
       "BITPIX  =                    8 / number of bits per data pixel                  \n",
       "NAXIS   =                    0 / number of data axes                            \n",
       "EXTEND  =                    T / FITS dataset may contain extensions            \n",
       "COMMENT   FITS (Flexible Image Transport System) format is defined in 'Astronomy\n",
       "COMMENT   and Astrophysics', volume 376, page 359; bibcode: 2001A&A...376..359H \n",
       "COMMENT   FITS (Flexible Image Transport System) format defined in Astronomy and\n",
       "COMMENT   Astrophysics Supplement Series v44/p363, v44/p371, v73/p359, v73/p365.\n",
       "COMMENT   Contact the NASA Science Office of Standards and Technology for the   \n",
       "COMMENT   FITS Definition document #100 and other FITS information.             \n",
       "HDRVER  = '5.4             '   / Header version                                 \n",
       "FITSTYPE= 'PSRFITS         '   / FITS definition for pulsar data files          \n",
       "DATE    = '2017-04-19T09:52:02' / File creation date (YYYY-MM-DDThh:mm:ss UTC)  \n",
       "OBSERVER= 'Scott Ransom'       / Observer name(s)                               \n",
       "PROJID  = 'AGBT12B_309_55'     / Project name                                   \n",
       "TELESCOP= 'GBT     '           / Telescope name                                 \n",
       "ANT_X   =            882589.65 / [m] Antenna ITRF X-coordinate (D)              \n",
       "ANT_Y   =          -4924872.32 / [m] Antenna ITRF Y-coordinate (D)              \n",
       "ANT_Z   =          3943729.348 / [m] Antenna ITRF Z-coordinate (D)              \n",
       "FRONTEND= 'Rcvr1_2 '           / Receiver ID                                    \n",
       "IBEAM   = '        '           / Beam ID for multibeam systems                  \n",
       "NRCVR   =                    2 / Number of receiver polarisation channels       \n",
       "FD_POLN = 'LIN     '           / LIN or CIRC                                    \n",
       "FD_HAND =                   -1 / +/- 1. +1 is LIN:A=X,B=Y, CIRC:A=L,B=R (I)     \n",
       "FD_SANG =                 -45. / [deg] FA of E vect for equal sig in A&B (E)    \n",
       "FD_XYPH =                   0. / [deg] Phase of A^* B for injected cal (E)      \n",
       "BACKEND = 'GUPPI   '           / Backend ID                                     \n",
       "BECONFIG= 'N/A     '           / Backend configuration file name                \n",
       "BE_PHASE=                   -1 / 0/+1/-1 BE cross-phase:0 unknown,+/-1 std/rev  \n",
       "BE_DCC  =                    0 / 0/1 BE downconversion conjugation corrected    \n",
       "BE_DELAY=             3.84E-06 / [s] Backend propn delay from digitiser input   \n",
       "TCYCLE  =                   0. / [s] On-line cycle time (D)                     \n",
       "OBS_MODE= 'PSR     '           / (PSR, CAL, SEARCH)                             \n",
       "DATE-OBS= '2013-07-21T11:38:13.000' / Date of observation (YYYY-MM-DDThh:mm:ss U\n",
       "OBSFREQ =                1500. / [MHz] Centre frequency for observation         \n",
       "OBSBW   =                 800. / [MHz] Bandwidth for observation                \n",
       "OBSNCHAN=                  512 / Number of frequency channels (original)        \n",
       "CHAN_DM =               21.313 / [cm-3 pc] DM used for on-line dedispersion     \n",
       "PNT_ID  = '        '           / Name or ID for pointing ctr (multibeam feeds)  \n",
       "SRC_NAME= '0337+17 '           / Source or scan ID                              \n",
       "COORD_MD= 'J2000   '           / Coordinate mode (J2000, GALACTIC, ECLIPTIC)    \n",
       "EQUINOX =                2000. / Equinox of coords (e.g. 2000.0)                \n",
       "RA      = '03:37:43.872'       / Right ascension (hh:mm:ss.ssss)                \n",
       "DEC     = '+17:15:14.760'      / Declination (-dd:mm:ss.sss)                    \n",
       "BMAJ    =    0.133049068040931 / [deg] Beam major axis length                   \n",
       "BMIN    =    0.133049068040931 / [deg] Beam minor axis length                   \n",
       "BPA     =                   0. / [deg] Beam position angle                      \n",
       "STT_CRD1= '03:37:43.872'       / Start coord 1 (hh:mm:ss.sss or ddd.ddd)        \n",
       "STT_CRD2= '+17:15:14.760'      / Start coord 2 (-dd:mm:ss.sss or -dd.ddd)       \n",
       "TRK_MODE= 'TRACK   '           / Track mode (TRACK, SCANGC, SCANLAT)            \n",
       "STP_CRD1= '03:37:43.8720'      / Stop coord 1 (hh:mm:ss.sss or ddd.ddd)         \n",
       "STP_CRD2= '+17:15:14.7600'     / Stop coord 2 (-dd:mm:ss.sss or -dd.ddd)        \n",
       "SCANLEN = '*       '           / [s] Requested scan length (E)                  \n",
       "FD_MODE = 'FA      '           / Feed track mode - FA, CPA, SPA, TPA            \n",
       "FA_REQ  =                   0. / [deg] Feed/Posn angle requested (E)            \n",
       "CAL_MODE= '                '   / Cal mode (OFF, SYNC, EXT1, EXT2)               \n",
       "CAL_FREQ= '*       '           / [Hz] Cal modulation frequency (E)              \n",
       "CAL_DCYC= '*       '           / Cal duty cycle (E)                             \n",
       "CAL_PHS = '*       '           / Cal phase (wrt start time) (E)                 \n",
       "CAL_NPHS= '*       '           / Number of states in cal pulse (I)              \n",
       "STT_IMJD=                56494 / Start MJD (UTC days) (J - long integer)        \n",
       "STT_SMJD=                41892 / [s] Start time (sec past UTC 00h) (J)          \n",
       "STT_OFFS=    0.999999999926786 / [s] Start time offset (D)                      \n",
       "STT_LST =                8199. / [s] Start LST (D)                              "
      ]
     },
     "execution_count": 19,
     "metadata": {},
     "output_type": "execute_result"
    }
   ],
   "source": [
    "hdulist[0].header"
   ]
  },
  {
   "cell_type": "code",
   "execution_count": 22,
   "metadata": {
    "collapsed": false
   },
   "outputs": [
    {
     "data": {
      "text/plain": [
       "2531.1475"
      ]
     },
     "execution_count": 22,
     "metadata": {},
     "output_type": "execute_result"
    }
   ],
   "source": [
    "d_p = F.get_data()\n",
    "d_f = hdulist['SUBINT'].data['DATA']\n",
    "\n",
    "np.mean(d_p-d_f)"
   ]
  },
  {
   "cell_type": "code",
   "execution_count": 23,
   "metadata": {
    "collapsed": false
   },
   "outputs": [
    {
     "data": {
      "text/plain": [
       "'Coherence'"
      ]
     },
     "execution_count": 23,
     "metadata": {},
     "output_type": "execute_result"
    }
   ],
   "source": [
    "F.get_state()"
   ]
  },
  {
   "cell_type": "code",
   "execution_count": 24,
   "metadata": {
    "collapsed": false
   },
   "outputs": [
    {
     "data": {
      "text/plain": [
       "array([ 0.,  0.])"
      ]
     },
     "execution_count": 24,
     "metadata": {},
     "output_type": "execute_result"
    }
   ],
   "source": [
    "hdulist['SUBINT'].data['INDEXVAL']"
   ]
  },
  {
   "cell_type": "code",
   "execution_count": 26,
   "metadata": {
    "collapsed": false
   },
   "outputs": [
    {
     "data": {
      "text/plain": [
       "ColDefs(\n",
       "    name = 'DATE_PRO'; format = '24A'\n",
       "    name = 'PROC_CMD'; format = '256A'\n",
       "    name = 'SCALE'; format = '8A'\n",
       "    name = 'POL_TYPE'; format = '8A'\n",
       "    name = 'NSUB'; format = '1J'\n",
       "    name = 'NPOL'; format = '1I'\n",
       "    name = 'NBIN'; format = '1I'\n",
       "    name = 'NBIN_PRD'; format = '1I'\n",
       "    name = 'TBIN'; format = '1D'; unit = 's'\n",
       "    name = 'CTR_FREQ'; format = '1D'; unit = 'MHz'\n",
       "    name = 'NCHAN'; format = '1J'\n",
       "    name = 'CHAN_BW'; format = '1D'; unit = 'MHz'\n",
       "    name = 'DM'; format = '1D'; unit = 'CM-3'\n",
       "    name = 'RM'; format = '1D'; unit = 'RAD'\n",
       "    name = 'PR_CORR'; format = '1I'\n",
       "    name = 'FD_CORR'; format = '1I'\n",
       "    name = 'BE_CORR'; format = '1I'\n",
       "    name = 'RM_CORR'; format = '1I'\n",
       "    name = 'DEDISP'; format = '1I'\n",
       "    name = 'DDS_MTHD'; format = '32A'\n",
       "    name = 'SC_MTHD'; format = '32A'\n",
       "    name = 'CAL_MTHD'; format = '32A'\n",
       "    name = 'CAL_FILE'; format = '256A'\n",
       "    name = 'RFI_MTHD'; format = '32A'\n",
       "    name = 'RM_MODEL'; format = '32A'\n",
       "    name = 'AUX_RM_C'; format = '1I'\n",
       "    name = 'DM_MODEL'; format = '32A'\n",
       "    name = 'AUX_DM_C'; format = '1I'\n",
       ")"
      ]
     },
     "execution_count": 26,
     "metadata": {},
     "output_type": "execute_result"
    }
   ],
   "source": [
    "hdulist['HISTORY'].columns"
   ]
  },
  {
   "cell_type": "code",
   "execution_count": null,
   "metadata": {
    "collapsed": true
   },
   "outputs": [],
   "source": []
  }
 ],
 "metadata": {
  "kernelspec": {
   "display_name": "Python 2",
   "language": "python",
   "name": "python2"
  },
  "language_info": {
   "codemirror_mode": {
    "name": "ipython",
    "version": 2
   },
   "file_extension": ".py",
   "mimetype": "text/x-python",
   "name": "python",
   "nbconvert_exporter": "python",
   "pygments_lexer": "ipython2",
   "version": "2.7.6"
  }
 },
 "nbformat": 4,
 "nbformat_minor": 1
}
