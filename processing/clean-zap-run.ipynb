{
 "cells": [
  {
   "cell_type": "code",
   "execution_count": 1,
   "metadata": {
    "collapsed": false
   },
   "outputs": [
    {
     "name": "stderr",
     "output_type": "stream",
     "text": [
      "DEBUG:root:test\n"
     ]
    },
    {
     "data": {
      "text/plain": [
       "<matplotlib.figure.Figure at 0x7f07b024ca10>"
      ]
     },
     "metadata": {},
     "output_type": "display_data"
    }
   ],
   "source": [
    "%load_ext autoreload\n",
    "\n",
    "%autoreload 2\n",
    "\n",
    "import os\n",
    "from glob import glob\n",
    "import subprocess\n",
    "import shutil\n",
    "import traceback\n",
    "import random\n",
    "import pickle\n",
    "from os.path import join\n",
    "\n",
    "import joblib\n",
    "from concurrent.futures import ProcessPoolExecutor\n",
    "import re\n",
    "\n",
    "from backports import tempfile\n",
    "\n",
    "import matplotlib\n",
    "matplotlib.rcParams['savefig.dpi'] = 144\n",
    "%matplotlib inline\n",
    "import numpy as np\n",
    "import matplotlib.pyplot as plt\n",
    "import numpy.ma as ma\n",
    "\n",
    "import psrchive\n",
    "\n",
    "import pipe\n",
    "\n",
    "plt.viridis()\n",
    "\n",
    "import logging\n",
    "logger = logging.getLogger()\n",
    "logger.setLevel(logging.DEBUG)\n",
    "logging.debug(\"test\")"
   ]
  },
  {
   "cell_type": "code",
   "execution_count": null,
   "metadata": {
    "collapsed": false
   },
   "outputs": [
    {
     "name": "stdout",
     "output_type": "stream",
     "text": [
      "data/obs/57432.00_AO_350\n",
      "data/obs/56033.78_WSRT_1400\n",
      "data/obs/56315.68_WSRT_1400\n",
      "data/obs/56500.71_GBT_1400\n",
      "data/obs/56146.15_WSRT_1400\n",
      "data/obs/55990.63_WSRT_350\n",
      "data/obs/56130.35_WSRT_1400\n",
      "data/obs/56283.88_WSRT_1400\n",
      "data/obs/56620.16_AO_430\n",
      "data/obs/55992.74_WSRT_1400\n",
      "data/obs/56102.39_WSRT_350\n",
      "data/obs/56206.85_WSRT_1400\n",
      "data/obs/56668.87_GBT_1400\n",
      "data/obs/55956.69_WSRT_1400\n",
      "data/obs/56457.26_WSRT_1400\n",
      "data/obs/56050.90_GBT_1400\n",
      "data/obs/56136.18_WSRT_1400\n",
      "data/obs/56376.02_GBT_1400\n",
      "data/obs/56090.57_WSRT_1400\n",
      "data/obs/56236.36_GBT_1400\n",
      "data/obs/56282.89_WSRT_1400\n",
      "data/obs/57263.41_AO_430\n",
      "data/obs/56446.34_WSRT_1400\n",
      "data/obs/55992.86_AO_1400\n",
      "data/obs/56137.31_WSRT_1400\n",
      "data/obs/56041.94_GBT_1400\n",
      "data/obs/56309.70_WSRT_1400\n",
      "data/obs/55998.91_AO_1400\n",
      "data/obs/56034.89_GBT_1400\n",
      "data/obs/56295.72_WSRT_1400\n",
      "data/obs/56394.62_WSRT_1400\n",
      "data/obs/56251.82_WSRT_1400\n",
      "data/obs/56168.95_WSRT_350\n",
      "data/obs/56496.15_WSRT_1400\n",
      "data/obs/56308.59_WSRT_1400\n",
      "data/obs/56264.74_WSRT_1400\n",
      "data/obs/56180.35_AO_1400\n",
      "data/obs/55956.68_WSRT_1400\n",
      "data/obs/56061.26_WSRT_1400\n",
      "data/obs/56091.21_WSRT_1400\n",
      "data/obs/56163.49_GBT_1400\n",
      "data/obs/56401.56_WSRT_1400\n",
      "data/obs/57060.96_AO_1400\n"
     ]
    },
    {
     "name": "stderr",
     "output_type": "stream",
     "text": [
      "INFO:root:Zapping subintegrations in keyhole: [40, 41, 42, 43, 44, 45, 46, 47, 48, 49, 50, 51, 52, 53, 54, 55, 56, 57, 58, 59, 60, 61, 62, 63]\n",
      "INFO:root:Zapping subintegrations in keyhole: [0, 1, 2, 3, 4, 5, 6, 7, 8, 9, 10, 11, 12, 13, 14, 15, 16, 17, 18, 19, 20, 21, 22, 23, 24, 25, 26, 27]\n"
     ]
    },
    {
     "name": "stdout",
     "output_type": "stream",
     "text": [
      "data/obs/56200.19_WSRT_1400\n",
      "data/obs/56452.23_WSRT_1400\n",
      "data/obs/56467.38_WSRT_1400\n",
      "data/obs/56009.69_WSRT_1400\n",
      "data/obs/56002.67_WSRT_1400\n",
      "data/obs/56087.62_AO_1400\n",
      "data/obs/56288.84_WSRT_1400\n",
      "data/obs/57317.30_AO_2000\n",
      "data/obs/55989.86_WSRT_1400\n",
      "data/obs/56304.83_GBT_1400\n",
      "data/obs/56019.52_WSRT_1400\n",
      "data/obs/56469.19_WSRT_1400\n",
      "data/obs/56098.59_WSRT_1400\n",
      "data/obs/56237.77_WSRT_1400\n",
      "data/obs/56527.34_GBT_1400\n",
      "data/obs/56074.31_WSRT_1400\n",
      "data/obs/56260.71_WSRT_1400\n",
      "data/obs/56139.12_WSRT_1400\n",
      "data/obs/56451.21_WSRT_1400\n",
      "data/obs/56189.04_WSRT_1400\n",
      "data/obs/56453.22_WSRT_1400\n",
      "data/obs/56141.13_WSRT_1400\n",
      "data/obs/56479.20_WSRT_350\n",
      "data/obs/56060.52_WSRT_1400\n",
      "data/obs/56056.68_AO_1400\n",
      "data/obs/55994.72_WSRT_1400\n",
      "data/obs/56181.92_WSRT_1400\n",
      "data/obs/57349.16_AO_430\n"
     ]
    },
    {
     "name": "stderr",
     "output_type": "stream",
     "text": [
      "INFO:root:Zapping subintegrations in keyhole: [93, 94, 95, 96, 97, 98, 99, 100, 101, 102, 103, 104, 105, 106, 107, 108, 109]\n"
     ]
    },
    {
     "name": "stdout",
     "output_type": "stream",
     "text": [
      "data/obs/56480.29_WSRT_1400\n",
      "data/obs/56144.15_WSRT_1400\n",
      "data/obs/56018.79_AO_1400\n",
      "data/obs/56611.40_GBT_1400\n",
      "data/obs/56086.34_WSRT_1400\n",
      "data/obs/56444.34_WSRT_1400\n",
      "data/obs/56136.45_WSRT_1400\n",
      "data/obs/56468.19_WSRT_1400\n",
      "data/obs/56075.47_WSRT_1400\n",
      "data/obs/56175.28_GBT_1400\n",
      "data/obs/56073.45_WSRT_1400\n",
      "data/obs/56362.04_GBT_1400\n",
      "data/obs/56080.62_AO_1400\n",
      "data/obs/56364.48_WSRT_1400\n",
      "data/obs/56164.35_WSRT_1400\n",
      "data/obs/56018.55_WSRT_1400\n",
      "data/obs/56445.44_WSRT_1400\n",
      "data/obs/56069.47_GBT_1400\n",
      "data/obs/56702.91_GBT_1400\n",
      "data/obs/56151.06_WSRT_1400\n",
      "data/obs/56026.68_WSRT_1400\n",
      "data/obs/56197.26_GBT_1400\n",
      "data/obs/56111.17_WSRT_1400\n",
      "data/obs/56071.30_WSRT_1400\n",
      "data/obs/56162.31_WSRT_1400\n",
      "data/obs/56036.99_GBT_1400\n",
      "data/obs/56083.43_WSRT_1400\n",
      "data/obs/56437.58_GBT_1400\n",
      "data/obs/57431.99_AO_2000\n",
      "data/obs/56095.61_AO_1400\n",
      "data/obs/56228.86_WSRT_1400\n",
      "data/obs/56294.77_WSRT_1400\n",
      "data/obs/56187.29_GBT_1400\n",
      "data/obs/56249.74_WSRT_1400\n",
      "data/obs/56554.36_AO_430\n",
      "data/obs/56000.84_WSRT_350\n",
      "data/obs/56103.62_AO_1400\n",
      "data/obs/56333.86_GBT_1400\n",
      "data/obs/56157.02_WSRT_1400\n",
      "data/obs/56133.44_WSRT_1400\n",
      "data/obs/56087.33_WSRT_1400\n",
      "data/obs/56136.35_WSRT_1400\n",
      "data/obs/56322.75_WSRT_1400\n",
      "data/obs/56331.64_WSRT_1400\n",
      "data/obs/56025.79_AO_1400\n",
      "data/obs/56055.66_WSRT_1400\n",
      "data/obs/57058.98_AO_350\n",
      "data/obs/57400.04_AO_430\n",
      "data/obs/56479.82_GBT_1400\n",
      "data/obs/56113.15_WSRT_1400\n",
      "data/obs/56165.35_WSRT_1400\n",
      "data/obs/55990.59_WSRT_1400\n",
      "data/obs/55967.72_WSRT_1400\n",
      "data/obs/56022.44_WSRT_1400\n",
      "data/obs/56487.61_GBT_1400\n",
      "data/obs/56054.64_WSRT_1400\n",
      "data/obs/56369.41_WSRT_1400\n",
      "data/obs/56198.12_WSRT_1400\n",
      "data/obs/56332.65_WSRT_1400\n",
      "data/obs/56321.74_WSRT_1400\n",
      "data/obs/56101.87_GBT_1400\n",
      "data/obs/56206.30_WSRT_1400\n",
      "data/obs/56160.31_WSRT_1400\n",
      "data/obs/56340.13_GBT_1400\n",
      "data/obs/56053.70_AO_1400\n",
      "data/obs/56258.13_WSRT_1400\n",
      "data/obs/55995.86_AO_1400\n",
      "data/obs/56083.36_WSRT_1400\n",
      "data/obs/56233.98_WSRT_1400\n",
      "data/obs/56291.73_WSRT_1400\n",
      "data/obs/55987.66_WSRT_1400\n",
      "data/obs/55961.87_WSRT_350\n",
      "data/obs/56515.53_GBT_1400\n",
      "data/obs/56071.93_GBT_1400\n",
      "data/obs/56185.91_WSRT_1400\n",
      "data/obs/56442.42_WSRT_1400\n",
      "data/obs/56011.72_WSRT_1400\n",
      "data/obs/56072.31_WSRT_1400\n",
      "data/obs/56397.38_WSRT_1400\n",
      "data/obs/56124.44_GBT_1400\n",
      "data/obs/56436.48_WSRT_1400\n",
      "data/obs/55999.55_WSRT_1400\n",
      "data/obs/56488.21_WSRT_1400\n",
      "data/obs/57400.02_AO_1400\n"
     ]
    },
    {
     "name": "stderr",
     "output_type": "stream",
     "text": [
      "INFO:root:Zapping subintegrations in keyhole: [28, 29, 30, 31, 32, 33, 34, 35, 36, 37, 38, 39, 40, 41, 42, 43, 44, 45, 46, 47, 48, 49, 50, 51, 52, 53, 54, 55, 56, 57, 58, 59, 60, 61, 62, 63]\n",
      "INFO:root:Zapping subintegrations in keyhole: [0, 1, 2, 3, 4, 5, 6, 7, 8, 9, 10, 11, 12, 13, 14, 15]\n"
     ]
    },
    {
     "name": "stdout",
     "output_type": "stream",
     "text": [
      "data/obs/56143.15_WSRT_1400\n",
      "data/obs/56124.49_AO_1400\n",
      "data/obs/55967.78_WSRT_350\n",
      "data/obs/55968.77_WSRT_350\n",
      "data/obs/56200.87_WSRT_1400\n",
      "data/obs/56081.34_WSRT_1400\n",
      "data/obs/56367.66_GBT_1400\n",
      "data/obs/56444.46_WSRT_1400\n",
      "data/obs/56161.31_WSRT_1400\n",
      "data/obs/56214.26_GBT_1400\n",
      "data/obs/56001.48_WSRT_1400\n",
      "data/obs/57093.89_AO_430\n",
      "data/obs/57293.32_AO_1400\n"
     ]
    },
    {
     "name": "stderr",
     "output_type": "stream",
     "text": [
      "INFO:root:Zapping subintegrations in keyhole: [9, 10, 11, 12, 13, 14, 15, 16, 17, 18, 19, 20, 21, 22, 23, 24, 25, 26, 27, 28, 29, 30, 31, 32, 33, 34, 35, 36, 37, 38, 39, 40, 41, 42, 43, 44, 45, 46, 47, 48, 49, 50, 51, 52, 53, 54, 55, 56, 57, 58, 59, 60, 61]\n"
     ]
    },
    {
     "name": "stdout",
     "output_type": "stream",
     "text": [
      "data/obs/56320.74_WSRT_1400\n",
      "data/obs/56138.16_WSRT_1400\n",
      "data/obs/56115.34_WSRT_1400\n",
      "data/obs/56645.11_AO_430\n",
      "data/obs/56027.64_WSRT_1400\n",
      "data/obs/56056.68_WSRT_1400\n",
      "data/obs/56059.60_WSRT_1400\n",
      "data/obs/56023.62_WSRT_1400\n",
      "data/obs/56406.02_GBT_1400\n",
      "data/obs/56768.75_AO_2000\n"
     ]
    },
    {
     "name": "stderr",
     "output_type": "stream",
     "text": [
      "INFO:root:Zapping subintegrations in keyhole: [48, 49, 50, 51, 52, 53, 54, 55, 56, 57, 58, 59, 60, 61, 62, 63]\n",
      "INFO:root:Zapping subintegrations in keyhole: [0, 1, 2, 3, 4, 5, 6, 7, 8, 9, 10, 11, 12, 13, 14, 15, 16, 17, 18, 19, 20]\n"
     ]
    },
    {
     "name": "stdout",
     "output_type": "stream",
     "text": [
      "data/obs/56012.82_AO_1400\n",
      "data/obs/56242.01_GBT_1400\n",
      "data/obs/56347.48_WSRT_1400\n",
      "data/obs/56630.32_GBT_1400\n",
      "data/obs/56768.79_AO_2000\n",
      "data/obs/56466.44_WSRT_1400\n",
      "data/obs/56030.72_WSRT_1400\n",
      "data/obs/56225.80_WSRT_1400\n",
      "data/obs/56421.50_WSRT_1400\n",
      "data/obs/56138.31_WSRT_1400\n",
      "data/obs/56684.94_GBT_1400\n",
      "data/obs/56015.52_WSRT_1400\n",
      "data/obs/56563.13_GBT_1400\n",
      "data/obs/55972.74_WSRT_350\n",
      "data/obs/56198.87_WSRT_1400\n"
     ]
    }
   ],
   "source": [
    "for o in glob(\"data/obs/*\"):\n",
    "    print o\n",
    "    M = pipe.cleanup(o, work_dir=\"/tmp/clean_zap_2\")"
   ]
  },
  {
   "cell_type": "code",
   "execution_count": null,
   "metadata": {
    "collapsed": true
   },
   "outputs": [],
   "source": [
    "!ls"
   ]
  },
  {
   "cell_type": "code",
   "execution_count": null,
   "metadata": {
    "collapsed": true
   },
   "outputs": [],
   "source": []
  }
 ],
 "metadata": {
  "kernelspec": {
   "display_name": "Python 2",
   "language": "python",
   "name": "python2"
  },
  "language_info": {
   "codemirror_mode": {
    "name": "ipython",
    "version": 2
   },
   "file_extension": ".py",
   "mimetype": "text/x-python",
   "name": "python",
   "nbconvert_exporter": "python",
   "pygments_lexer": "ipython2",
   "version": "2.7.6"
  }
 },
 "nbformat": 4,
 "nbformat_minor": 1
}
