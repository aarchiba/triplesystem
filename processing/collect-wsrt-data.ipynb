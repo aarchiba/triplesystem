{
 "cells": [
  {
   "cell_type": "code",
   "execution_count": 1,
   "metadata": {
    "collapsed": false
   },
   "outputs": [],
   "source": [
    "%load_ext autoreload\n",
    "\n",
    "%autoreload 2"
   ]
  },
  {
   "cell_type": "code",
   "execution_count": 3,
   "metadata": {
    "collapsed": false
   },
   "outputs": [],
   "source": [
    "import os\n",
    "from glob import glob\n",
    "import subprocess\n",
    "import shutil\n",
    "import traceback\n",
    "import random\n",
    "\n",
    "import joblib\n",
    "from concurrent.futures import ProcessPoolExecutor\n",
    "\n",
    "from backports import tempfile\n",
    "\n",
    "import matplotlib\n",
    "matplotlib.rcParams['savefig.dpi'] = 144\n",
    "%matplotlib inline\n",
    "import numpy as np\n",
    "import matplotlib.pyplot as plt\n",
    "\n",
    "import psrchive\n",
    "\n",
    "import pipe"
   ]
  },
  {
   "cell_type": "code",
   "execution_count": 4,
   "metadata": {
    "collapsed": true
   },
   "outputs": [],
   "source": [
    "data_location = \"/nimrod1/aarchiba/0337+17\"\n",
    "data_location_name = data_location+\"/{telescope}/{epoch}\""
   ]
  },
  {
   "cell_type": "code",
   "execution_count": 5,
   "metadata": {
    "collapsed": true
   },
   "outputs": [],
   "source": [
    "wsrt_data = \"/nimrod1/aarchiba/0337+17/WSRT/\"\n",
    "if not os.path.exists(wsrt_data):\n",
    "    os.mkdir(wsrt_data)"
   ]
  },
  {
   "cell_type": "code",
   "execution_count": 6,
   "metadata": {
    "collapsed": false
   },
   "outputs": [],
   "source": [
    "wsrt_raw_location = \"/nimrod1/aarchiba/0337+17/WSRT-raw\"\n",
    "wsrt_obs_glob = wsrt_raw_location+\"/*/*0337*/\"\n",
    "\n",
    "class DiscontinuityError(ValueError):\n",
    "    pass\n",
    "\n",
    "def process_wsrt_day(d):\n",
    "    success_file = d+\"/success\"\n",
    "    if os.path.exists(success_file):\n",
    "        return open(success_file,\"rt\").read().strip()\n",
    "    with tempfile.TemporaryDirectory() as td:\n",
    "        for s in glob(d+\"/Band*\"):\n",
    "            b = s.split(\"/\")[-1]\n",
    "            subprocess.check_call([\"psradd\", \"-o\",td+\"/\"+b+\".tadd.ar\"]+glob(s+\"/u*.ar\"))\n",
    "        subprocess.check_call([\"psradd\", \"-o\", td+\"/raw.ar\", \"-R\"]+glob(td+\"/Band*.tadd.ar\"))\n",
    "        shutil.copy(td+\"/raw.ar\", \"raw.ar\")\n",
    "        F = psrchive.Archive_load(td+\"/raw.ar\")\n",
    "        l = (F.end_time()-F.start_time()).in_seconds()\n",
    "        M = \"%.1f\" % (((F.end_time()+F.start_time())).in_days()/2)\n",
    "        #T = F.get_nsubint()*F.get_first_Integration().get_duration()\n",
    "        T = F.integration_length()\n",
    "        if np.abs(l-T)> 5:\n",
    "            raise DiscontinuityError(\"Observation in directory %s appears not to be contiguous: \"\n",
    "                             \"total integration time %f but start-to-end time %f\"\n",
    "                             % (d,T,l))\n",
    "        shutil.copy(td+\"/raw.ar\", wsrt_data+\"wsrt_%s.raw.ar\" % M)\n",
    "        with open(success_file,\"wt\") as f:\n",
    "            f.write(M)\n",
    "        return M"
   ]
  },
  {
   "cell_type": "code",
   "execution_count": 10,
   "metadata": {
    "collapsed": false,
    "scrolled": false
   },
   "outputs": [
    {
     "name": "stdout",
     "output_type": "stream",
     "text": [
      "/nimrod1/aarchiba/0337+17/WSRT-raw/30Jan2012_grid/J0337+17_0/\n",
      "success; 55956.7\n",
      "/nimrod1/aarchiba/0337+17/WSRT-raw/12Dec2012/J0337+1715-1380/\n",
      "psradd failure\n",
      "/nimrod1/aarchiba/0337+17/WSRT-raw/24Jan2013/J0337+1715-1380/\n",
      "psradd failure\n",
      "/nimrod1/aarchiba/0337+17/WSRT-raw/27Mar2012/J0337+1715-1380/\n",
      "success; 56013.6\n",
      "/nimrod1/aarchiba/0337+17/WSRT-raw/08Oct2012/J0337+1715-1380/\n",
      "success; 56208.2\n",
      "/nimrod1/aarchiba/0337+17/WSRT-raw/18Jun2012/J0337+1715-1380b/\n",
      "psradd failure\n",
      "/nimrod1/aarchiba/0337+17/WSRT-raw/03Jun2012/J0337+1715-1380b/\n",
      "success; 56081.4\n",
      "/nimrod1/aarchiba/0337+17/WSRT-raw/03Nov2012/J0337+1715-1380/\n",
      "success; 56234.8\n",
      "/nimrod1/aarchiba/0337+17/WSRT-raw/24Jul2012/J0337+1715-1380/\n",
      "psradd failure\n",
      "/nimrod1/aarchiba/0337+17/WSRT-raw/30Jan2012_grid/J0337+17_+3/\n",
      "success; 55956.7\n",
      "/nimrod1/aarchiba/0337+17/WSRT-raw/02Mar2013/J0337+1715-1380a/\n",
      "psradd failure\n",
      "/nimrod1/aarchiba/0337+17/WSRT-raw/29Jun2013/J0337+1715-1380b/\n",
      "psradd failure\n",
      "/nimrod1/aarchiba/0337+17/WSRT-raw/11Feb2012/J0337+1715-385/\n",
      "success; 55968.8\n",
      "/nimrod1/aarchiba/0337+17/WSRT-raw/26Apr2012/J0337+1715-1380/\n",
      "psradd failure\n",
      "/nimrod1/aarchiba/0337+17/WSRT-raw/24Feb2013/J0337+1715-1380/\n",
      "psradd failure\n",
      "/nimrod1/aarchiba/0337+17/WSRT-raw/09Apr2012/J0337+1715-1380/\n",
      "psradd failure\n",
      "/nimrod1/aarchiba/0337+17/WSRT-raw/22Mar2013/J0337+1715-1380/\n",
      "psradd failure\n",
      "/nimrod1/aarchiba/0337+17/WSRT-raw/25Jun2012/J0337+1715-1380b/\n",
      "psradd failure\n",
      "/nimrod1/aarchiba/0337+17/WSRT-raw/30Nov2012/J0337+1715-1380/\n",
      "psradd failure\n",
      "/nimrod1/aarchiba/0337+17/WSRT-raw/14May2012/J0337+1715-1380a/\n",
      "success; 56061.3\n",
      "/nimrod1/aarchiba/0337+17/WSRT-raw/11Jan2013/J0337+1715-1380/\n",
      "psradd failure\n",
      "/nimrod1/aarchiba/0337+17/WSRT-raw/18Mar2013/J0337+1715-1380/\n",
      "psradd failure\n",
      "/nimrod1/aarchiba/0337+17/WSRT-raw/15May2013/J0337+1715-1380/\n",
      "psradd failure\n",
      "/nimrod1/aarchiba/0337+17/WSRT-raw/25Feb2012/J0337+1715-385/\n",
      "success; 55982.9\n",
      "/nimrod1/aarchiba/0337+17/WSRT-raw/15Dec2012/J0337+1715-1380/\n",
      "psradd failure\n",
      "/nimrod1/aarchiba/0337+17/WSRT-raw/03Apr2012/J0337+1715-1380/\n",
      "success; 56020.6\n",
      "/nimrod1/aarchiba/0337+17/WSRT-raw/26Jun2013/J0337+1715-1380/\n",
      "psradd failure\n",
      "/nimrod1/aarchiba/0337+17/WSRT-raw/31Jan2013/J0337+1715-1380/\n",
      "psradd failure\n",
      "/nimrod1/aarchiba/0337+17/WSRT-raw/21Dec2012/J0337+1715-1380/\n",
      "psradd failure\n",
      "/nimrod1/aarchiba/0337+17/WSRT-raw/02Jul2012/J0337+1715-1380b/\n",
      "success; 56110.3\n",
      "/nimrod1/aarchiba/0337+17/WSRT-raw/29Oct2012/J0337+1715-1380a/\n",
      "success; 56229.9\n",
      "/nimrod1/aarchiba/0337+17/WSRT-raw/10Jul2012/J0337+1715-1380/\n",
      "psradd failure\n",
      "/nimrod1/aarchiba/0337+17/WSRT-raw/11Apr2012/J0337+1715-1380/\n",
      "psradd failure\n",
      "/nimrod1/aarchiba/0337+17/WSRT-raw/22Jun2012/J0337+1715-1380/\n",
      "psradd failure\n",
      "/nimrod1/aarchiba/0337+17/WSRT-raw/02Jul2013/J0337+1715-1380/\n",
      "psradd failure\n",
      "/nimrod1/aarchiba/0337+17/WSRT-raw/29Jul2012/J0337+1715-1380b/\n",
      "psradd failure\n",
      "/nimrod1/aarchiba/0337+17/WSRT-raw/09May2013/J0337+1715-1380/\n",
      "psradd failure\n",
      "/nimrod1/aarchiba/0337+17/WSRT-raw/30Jan2012_grid/J0337+17_-2/\n",
      "success; 55956.7\n",
      "/nimrod1/aarchiba/0337+17/WSRT-raw/07Feb2013/J0337+1715-1380/\n",
      "psradd failure\n",
      "/nimrod1/aarchiba/0337+17/WSRT-raw/04Jan2013/J0337+1715-1380/\n",
      "psradd failure\n",
      "/nimrod1/aarchiba/0337+17/WSRT-raw/05Apr2012/J0337+1715-1380b/\n",
      "psradd failure\n",
      "/nimrod1/aarchiba/0337+17/WSRT-raw/06Oct2012/J0337+1715-1380b/\n",
      "success; 56206.8\n",
      "/nimrod1/aarchiba/0337+17/WSRT-raw/22Apr2012/J0337+1715-1380/\n",
      "psradd failure\n",
      "/nimrod1/aarchiba/0337+17/WSRT-raw/19Mar2012/J0337+1715-1380/\n",
      "success; 56005.7\n",
      "/nimrod1/aarchiba/0337+17/WSRT-raw/25Jun2012/J0337+1715-1380a/\n",
      "psradd failure\n",
      "/nimrod1/aarchiba/0337+17/WSRT-raw/29Dec2012/J0337+1715-1380/\n",
      "psradd failure\n",
      "/nimrod1/aarchiba/0337+17/WSRT-raw/10Jun2012/J0337+1715-1380b/\n",
      "psradd failure\n",
      "/nimrod1/aarchiba/0337+17/WSRT-raw/05May2013/J0337+1715-1380/\n",
      "psradd failure\n",
      "/nimrod1/aarchiba/0337+17/WSRT-raw/04Jul2013/J0337+1715-1380/\n",
      "psradd failure\n",
      "/nimrod1/aarchiba/0337+17/WSRT-raw/29Jan2013/J0337+1715-1380/\n",
      "psradd failure\n",
      "/nimrod1/aarchiba/0337+17/WSRT-raw/20Jul2012/J0337+1715-1380/\n",
      "psradd failure\n",
      "/nimrod1/aarchiba/0337+17/WSRT-raw/27Jan2013/J0337+1715-1380/\n",
      "psradd failure\n",
      "/nimrod1/aarchiba/0337+17/WSRT-raw/29Sep2012/J0337+1715-1380e/\n",
      "psradd failure\n",
      "/nimrod1/aarchiba/0337+17/WSRT-raw/12Jun2012/J0337+1715-1380/\n",
      "success; 56090.6\n",
      "/nimrod1/aarchiba/0337+17/WSRT-raw/25May2012/J0337+1715-1380/\n",
      "psradd failure\n",
      "/nimrod1/aarchiba/0337+17/WSRT-raw/20May2012/J0337+1715-1380/\n",
      "psradd failure\n",
      "/nimrod1/aarchiba/0337+17/WSRT-raw/30Jun2013/J0337+1715-1380b/\n",
      "psradd failure\n",
      "/nimrod1/aarchiba/0337+17/WSRT-raw/15Jul2012/J0337+1715-1380/\n",
      "psradd failure\n",
      "/nimrod1/aarchiba/0337+17/WSRT-raw/12Mar2012/J0337+1715-1380b/\n",
      "success; 55998.8\n",
      "/nimrod1/aarchiba/0337+17/WSRT-raw/12Jul2013/J0337+1715-385/\n",
      "psradd failure\n",
      "/nimrod1/aarchiba/0337+17/WSRT-raw/30Dec2012/J0337+1715-1380a/\n",
      "psradd failure\n",
      "/nimrod1/aarchiba/0337+17/WSRT-raw/03Jun2012/J0337+1715-1380a/\n",
      "success; 56081.3\n",
      "/nimrod1/aarchiba/0337+17/WSRT-raw/13Jan2013/J0337+1715-1380/\n",
      "psradd failure\n",
      "/nimrod1/aarchiba/0337+17/WSRT-raw/12Mar2012/J0337+1715-1380a/\n",
      "success; 55998.6\n",
      "/nimrod1/aarchiba/0337+17/WSRT-raw/14Mar2013/J0337+1715-1380/\n",
      "psradd failure\n",
      "/nimrod1/aarchiba/0337+17/WSRT-raw/10Aug2012/J0337+1715-1380/\n",
      "psradd failure\n",
      "/nimrod1/aarchiba/0337+17/WSRT-raw/04Nov2012/J0337+1715-1380/\n",
      "psradd failure\n",
      "/nimrod1/aarchiba/0337+17/WSRT-raw/30Jan2013/J0337+1715-1380/\n",
      "psradd failure\n",
      "/nimrod1/aarchiba/0337+17/WSRT-raw/21Apr2012/J0337+1715-1380/\n",
      "success; 56038.3\n",
      "/nimrod1/aarchiba/0337+17/WSRT-raw/23Apr2012/J0337+1715-1380a/\n",
      "psradd failure\n",
      "/nimrod1/aarchiba/0337+17/WSRT-raw/23Apr2012/J0337+1715-1380c/\n",
      "psradd failure\n",
      "/nimrod1/aarchiba/0337+17/WSRT-raw/03Jul2012/J0337+1715-1380/\n",
      "success; 56111.2\n",
      "/nimrod1/aarchiba/0337+17/WSRT-raw/21Jan2013/J0337+1715-1380/\n"
     ]
    },
    {
     "ename": "OSError",
     "evalue": "[Errno 12] Cannot allocate memory",
     "output_type": "error",
     "traceback": [
      "\u001b[1;31m---------------------------------------------------------------------------\u001b[0m",
      "\u001b[1;31mOSError\u001b[0m                                   Traceback (most recent call last)",
      "\u001b[1;32m<ipython-input-10-368535fd5dc8>\u001b[0m in \u001b[0;36m<module>\u001b[1;34m()\u001b[0m\n\u001b[0;32m      5\u001b[0m     \u001b[1;32mprint\u001b[0m \u001b[0md\u001b[0m\u001b[1;33m\u001b[0m\u001b[0m\n\u001b[0;32m      6\u001b[0m     \u001b[1;32mtry\u001b[0m\u001b[1;33m:\u001b[0m\u001b[1;33m\u001b[0m\u001b[0m\n\u001b[1;32m----> 7\u001b[1;33m         \u001b[0mM\u001b[0m \u001b[1;33m=\u001b[0m \u001b[0mprocess_wsrt_day\u001b[0m\u001b[1;33m(\u001b[0m\u001b[0md\u001b[0m\u001b[1;33m)\u001b[0m\u001b[1;33m\u001b[0m\u001b[0m\n\u001b[0m\u001b[0;32m      8\u001b[0m         \u001b[1;32mprint\u001b[0m \u001b[1;34m\"success;\"\u001b[0m\u001b[1;33m,\u001b[0m \u001b[0mM\u001b[0m\u001b[1;33m\u001b[0m\u001b[0m\n\u001b[0;32m      9\u001b[0m         \u001b[0ms\u001b[0m \u001b[1;33m+=\u001b[0m \u001b[1;36m1\u001b[0m\u001b[1;33m\u001b[0m\u001b[0m\n",
      "\u001b[1;32m<ipython-input-6-93237bda86dc>\u001b[0m in \u001b[0;36mprocess_wsrt_day\u001b[1;34m(d)\u001b[0m\n\u001b[0;32m     12\u001b[0m         \u001b[1;32mfor\u001b[0m \u001b[0ms\u001b[0m \u001b[1;32min\u001b[0m \u001b[0mglob\u001b[0m\u001b[1;33m(\u001b[0m\u001b[0md\u001b[0m\u001b[1;33m+\u001b[0m\u001b[1;34m\"/Band*\"\u001b[0m\u001b[1;33m)\u001b[0m\u001b[1;33m:\u001b[0m\u001b[1;33m\u001b[0m\u001b[0m\n\u001b[0;32m     13\u001b[0m             \u001b[0mb\u001b[0m \u001b[1;33m=\u001b[0m \u001b[0ms\u001b[0m\u001b[1;33m.\u001b[0m\u001b[0msplit\u001b[0m\u001b[1;33m(\u001b[0m\u001b[1;34m\"/\"\u001b[0m\u001b[1;33m)\u001b[0m\u001b[1;33m[\u001b[0m\u001b[1;33m-\u001b[0m\u001b[1;36m1\u001b[0m\u001b[1;33m]\u001b[0m\u001b[1;33m\u001b[0m\u001b[0m\n\u001b[1;32m---> 14\u001b[1;33m             \u001b[0msubprocess\u001b[0m\u001b[1;33m.\u001b[0m\u001b[0mcheck_call\u001b[0m\u001b[1;33m(\u001b[0m\u001b[1;33m[\u001b[0m\u001b[1;34m\"psradd\"\u001b[0m\u001b[1;33m,\u001b[0m \u001b[1;34m\"-o\"\u001b[0m\u001b[1;33m,\u001b[0m\u001b[0mtd\u001b[0m\u001b[1;33m+\u001b[0m\u001b[1;34m\"/\"\u001b[0m\u001b[1;33m+\u001b[0m\u001b[0mb\u001b[0m\u001b[1;33m+\u001b[0m\u001b[1;34m\".tadd.ar\"\u001b[0m\u001b[1;33m]\u001b[0m\u001b[1;33m+\u001b[0m\u001b[0mglob\u001b[0m\u001b[1;33m(\u001b[0m\u001b[0ms\u001b[0m\u001b[1;33m+\u001b[0m\u001b[1;34m\"/u*.ar\"\u001b[0m\u001b[1;33m)\u001b[0m\u001b[1;33m)\u001b[0m\u001b[1;33m\u001b[0m\u001b[0m\n\u001b[0m\u001b[0;32m     15\u001b[0m         \u001b[0msubprocess\u001b[0m\u001b[1;33m.\u001b[0m\u001b[0mcheck_call\u001b[0m\u001b[1;33m(\u001b[0m\u001b[1;33m[\u001b[0m\u001b[1;34m\"psradd\"\u001b[0m\u001b[1;33m,\u001b[0m \u001b[1;34m\"-o\"\u001b[0m\u001b[1;33m,\u001b[0m \u001b[0mtd\u001b[0m\u001b[1;33m+\u001b[0m\u001b[1;34m\"/raw.ar\"\u001b[0m\u001b[1;33m,\u001b[0m \u001b[1;34m\"-R\"\u001b[0m\u001b[1;33m]\u001b[0m\u001b[1;33m+\u001b[0m\u001b[0mglob\u001b[0m\u001b[1;33m(\u001b[0m\u001b[0mtd\u001b[0m\u001b[1;33m+\u001b[0m\u001b[1;34m\"/Band*.tadd.ar\"\u001b[0m\u001b[1;33m)\u001b[0m\u001b[1;33m)\u001b[0m\u001b[1;33m\u001b[0m\u001b[0m\n\u001b[0;32m     16\u001b[0m         \u001b[0mshutil\u001b[0m\u001b[1;33m.\u001b[0m\u001b[0mcopy\u001b[0m\u001b[1;33m(\u001b[0m\u001b[0mtd\u001b[0m\u001b[1;33m+\u001b[0m\u001b[1;34m\"/raw.ar\"\u001b[0m\u001b[1;33m,\u001b[0m \u001b[1;34m\"raw.ar\"\u001b[0m\u001b[1;33m)\u001b[0m\u001b[1;33m\u001b[0m\u001b[0m\n",
      "\u001b[1;32m/usr/lib/python2.7/subprocess.pyc\u001b[0m in \u001b[0;36mcheck_call\u001b[1;34m(*popenargs, **kwargs)\u001b[0m\n\u001b[0;32m    504\u001b[0m     \u001b[0mcheck_call\u001b[0m\u001b[1;33m(\u001b[0m\u001b[1;33m[\u001b[0m\u001b[1;34m\"ls\"\u001b[0m\u001b[1;33m,\u001b[0m \u001b[1;34m\"-l\"\u001b[0m\u001b[1;33m]\u001b[0m\u001b[1;33m)\u001b[0m\u001b[1;33m\u001b[0m\u001b[0m\n\u001b[0;32m    505\u001b[0m     \"\"\"\n\u001b[1;32m--> 506\u001b[1;33m     \u001b[0mretcode\u001b[0m \u001b[1;33m=\u001b[0m \u001b[0mcall\u001b[0m\u001b[1;33m(\u001b[0m\u001b[1;33m*\u001b[0m\u001b[0mpopenargs\u001b[0m\u001b[1;33m,\u001b[0m \u001b[1;33m**\u001b[0m\u001b[0mkwargs\u001b[0m\u001b[1;33m)\u001b[0m\u001b[1;33m\u001b[0m\u001b[0m\n\u001b[0m\u001b[0;32m    507\u001b[0m     \u001b[1;32mif\u001b[0m \u001b[0mretcode\u001b[0m\u001b[1;33m:\u001b[0m\u001b[1;33m\u001b[0m\u001b[0m\n\u001b[0;32m    508\u001b[0m         \u001b[0mcmd\u001b[0m \u001b[1;33m=\u001b[0m \u001b[0mkwargs\u001b[0m\u001b[1;33m.\u001b[0m\u001b[0mget\u001b[0m\u001b[1;33m(\u001b[0m\u001b[1;34m\"args\"\u001b[0m\u001b[1;33m)\u001b[0m\u001b[1;33m\u001b[0m\u001b[0m\n",
      "\u001b[1;32m/usr/lib/python2.7/subprocess.pyc\u001b[0m in \u001b[0;36mcall\u001b[1;34m(*popenargs, **kwargs)\u001b[0m\n\u001b[0;32m    491\u001b[0m     \u001b[0mretcode\u001b[0m \u001b[1;33m=\u001b[0m \u001b[0mcall\u001b[0m\u001b[1;33m(\u001b[0m\u001b[1;33m[\u001b[0m\u001b[1;34m\"ls\"\u001b[0m\u001b[1;33m,\u001b[0m \u001b[1;34m\"-l\"\u001b[0m\u001b[1;33m]\u001b[0m\u001b[1;33m)\u001b[0m\u001b[1;33m\u001b[0m\u001b[0m\n\u001b[0;32m    492\u001b[0m     \"\"\"\n\u001b[1;32m--> 493\u001b[1;33m     \u001b[1;32mreturn\u001b[0m \u001b[0mPopen\u001b[0m\u001b[1;33m(\u001b[0m\u001b[1;33m*\u001b[0m\u001b[0mpopenargs\u001b[0m\u001b[1;33m,\u001b[0m \u001b[1;33m**\u001b[0m\u001b[0mkwargs\u001b[0m\u001b[1;33m)\u001b[0m\u001b[1;33m.\u001b[0m\u001b[0mwait\u001b[0m\u001b[1;33m(\u001b[0m\u001b[1;33m)\u001b[0m\u001b[1;33m\u001b[0m\u001b[0m\n\u001b[0m\u001b[0;32m    494\u001b[0m \u001b[1;33m\u001b[0m\u001b[0m\n\u001b[0;32m    495\u001b[0m \u001b[1;33m\u001b[0m\u001b[0m\n",
      "\u001b[1;32m/usr/lib/python2.7/subprocess.pyc\u001b[0m in \u001b[0;36m__init__\u001b[1;34m(self, args, bufsize, executable, stdin, stdout, stderr, preexec_fn, close_fds, shell, cwd, env, universal_newlines, startupinfo, creationflags)\u001b[0m\n\u001b[0;32m    677\u001b[0m                             \u001b[0mp2cread\u001b[0m\u001b[1;33m,\u001b[0m \u001b[0mp2cwrite\u001b[0m\u001b[1;33m,\u001b[0m\u001b[1;33m\u001b[0m\u001b[0m\n\u001b[0;32m    678\u001b[0m                             \u001b[0mc2pread\u001b[0m\u001b[1;33m,\u001b[0m \u001b[0mc2pwrite\u001b[0m\u001b[1;33m,\u001b[0m\u001b[1;33m\u001b[0m\u001b[0m\n\u001b[1;32m--> 679\u001b[1;33m                             errread, errwrite)\n\u001b[0m\u001b[0;32m    680\u001b[0m \u001b[1;33m\u001b[0m\u001b[0m\n\u001b[0;32m    681\u001b[0m         \u001b[1;32mif\u001b[0m \u001b[0mmswindows\u001b[0m\u001b[1;33m:\u001b[0m\u001b[1;33m\u001b[0m\u001b[0m\n",
      "\u001b[1;32m/usr/lib/python2.7/subprocess.pyc\u001b[0m in \u001b[0;36m_execute_child\u001b[1;34m(self, args, executable, preexec_fn, close_fds, cwd, env, universal_newlines, startupinfo, creationflags, shell, p2cread, p2cwrite, c2pread, c2pwrite, errread, errwrite)\u001b[0m\n\u001b[0;32m   1141\u001b[0m                     \u001b[0mgc\u001b[0m\u001b[1;33m.\u001b[0m\u001b[0mdisable\u001b[0m\u001b[1;33m(\u001b[0m\u001b[1;33m)\u001b[0m\u001b[1;33m\u001b[0m\u001b[0m\n\u001b[0;32m   1142\u001b[0m                     \u001b[1;32mtry\u001b[0m\u001b[1;33m:\u001b[0m\u001b[1;33m\u001b[0m\u001b[0m\n\u001b[1;32m-> 1143\u001b[1;33m                         \u001b[0mself\u001b[0m\u001b[1;33m.\u001b[0m\u001b[0mpid\u001b[0m \u001b[1;33m=\u001b[0m \u001b[0mos\u001b[0m\u001b[1;33m.\u001b[0m\u001b[0mfork\u001b[0m\u001b[1;33m(\u001b[0m\u001b[1;33m)\u001b[0m\u001b[1;33m\u001b[0m\u001b[0m\n\u001b[0m\u001b[0;32m   1144\u001b[0m                     \u001b[1;32mexcept\u001b[0m\u001b[1;33m:\u001b[0m\u001b[1;33m\u001b[0m\u001b[0m\n\u001b[0;32m   1145\u001b[0m                         \u001b[1;32mif\u001b[0m \u001b[0mgc_was_enabled\u001b[0m\u001b[1;33m:\u001b[0m\u001b[1;33m\u001b[0m\u001b[0m\n",
      "\u001b[1;31mOSError\u001b[0m: [Errno 12] Cannot allocate memory"
     ]
    }
   ],
   "source": [
    "g = list(glob(wsrt_obs_glob))\n",
    "random.shuffle(g)\n",
    "s = 0\n",
    "for d in g:\n",
    "    print d\n",
    "    try:\n",
    "        M = process_wsrt_day(d)\n",
    "        print \"success;\", M\n",
    "        s += 1\n",
    "    except subprocess.CalledProcessError:\n",
    "        print \"psradd failure\"\n",
    "    except DiscontinuityError:\n",
    "        traceback.print_exc()\n",
    "print s, len(g)"
   ]
  },
  {
   "cell_type": "code",
   "execution_count": 11,
   "metadata": {
    "collapsed": false,
    "scrolled": false
   },
   "outputs": [],
   "source": [
    "if False:\n",
    "    # Mystery failures\n",
    "    g = list(glob(wsrt_obs_glob))\n",
    "    random.shuffle(g)\n",
    "    def do_one(d):\n",
    "        try:\n",
    "            return process_wsrt_day(d)\n",
    "        except subprocess.CalledProcessError:\n",
    "            return \"psradd problem with %s\" % d\n",
    "        except DiscontinuityError:\n",
    "            return \"discontinuity problem with %s\" % d\n",
    "    joblib.Parallel(n_jobs=-1)(joblib.delayed(do_one)(d) for d in g)"
   ]
  },
  {
   "cell_type": "code",
   "execution_count": 12,
   "metadata": {
    "collapsed": false,
    "scrolled": false
   },
   "outputs": [],
   "source": [
    "if False:\n",
    "    # Mystery failures\n",
    "    g = list(glob(wsrt_obs_glob))\n",
    "    random.shuffle(g)\n",
    "    def do_one(d):\n",
    "        try:\n",
    "            return process_wsrt_day(d)\n",
    "        except subprocess.CalledProcessError:\n",
    "            return \"psradd problem with %s\" % d\n",
    "        except DiscontinuityError:\n",
    "            return \"discontinuity problem with %s\" % d\n",
    "    with ProcessPoolExecutor() as P:\n",
    "        list(P.map(do_one,g))"
   ]
  },
  {
   "cell_type": "markdown",
   "metadata": {
    "collapsed": true
   },
   "source": [
    "Now the challenge is to fix as many of the failed observations as possible"
   ]
  },
  {
   "cell_type": "code",
   "execution_count": null,
   "metadata": {
    "collapsed": true
   },
   "outputs": [],
   "source": []
  }
 ],
 "metadata": {
  "kernelspec": {
   "display_name": "Python 2",
   "language": "python",
   "name": "python2"
  }
 },
 "nbformat": 4,
 "nbformat_minor": 0
}
