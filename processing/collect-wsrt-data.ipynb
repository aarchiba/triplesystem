{
 "cells": [
  {
   "cell_type": "code",
   "execution_count": 2,
   "metadata": {
    "collapsed": false
   },
   "outputs": [],
   "source": [
    "%load_ext autoreload\n",
    "\n",
    "%autoreload 2"
   ]
  },
  {
   "cell_type": "code",
   "execution_count": 3,
   "metadata": {
    "collapsed": false
   },
   "outputs": [],
   "source": [
    "import os\n",
    "from glob import glob\n",
    "import subprocess\n",
    "import shutil\n",
    "import traceback\n",
    "import random\n",
    "import pickle\n",
    "\n",
    "import joblib\n",
    "from concurrent.futures import ProcessPoolExecutor\n",
    "\n",
    "from backports import tempfile\n",
    "\n",
    "import matplotlib\n",
    "matplotlib.rcParams['savefig.dpi'] = 144\n",
    "%matplotlib inline\n",
    "import numpy as np\n",
    "import matplotlib.pyplot as plt\n",
    "\n",
    "import psrchive\n",
    "\n",
    "import pipe"
   ]
  },
  {
   "cell_type": "code",
   "execution_count": 4,
   "metadata": {
    "collapsed": true
   },
   "outputs": [],
   "source": [
    "data_location = \"/nimrod1/aarchiba/0337+17\"\n",
    "data_location_name = data_location+\"/{telescope}/{epoch}\""
   ]
  },
  {
   "cell_type": "code",
   "execution_count": 5,
   "metadata": {
    "collapsed": true
   },
   "outputs": [],
   "source": [
    "wsrt_data = \"/nimrod1/aarchiba/0337+17/WSRT/\"\n",
    "if not os.path.exists(wsrt_data):\n",
    "    os.mkdir(wsrt_data)"
   ]
  },
  {
   "cell_type": "code",
   "execution_count": 15,
   "metadata": {
    "collapsed": true
   },
   "outputs": [],
   "source": [
    "par_db = pipe.EphemerisCollection(directory=\"/nimrod1/aarchiba/0337+17/ephemerides/\")"
   ]
  },
  {
   "cell_type": "code",
   "execution_count": 19,
   "metadata": {
    "collapsed": false
   },
   "outputs": [],
   "source": [
    "wsrt_raw_location = \"/nimrod1/aarchiba/0337+17/WSRT-raw\"\n",
    "wsrt_obs_glob = wsrt_raw_location+\"/*/*0337*/\"\n",
    "\n",
    "class DiscontinuityError(ValueError):\n",
    "    pass\n",
    "\n",
    "def max_smearing(F,G):\n",
    "    P = F.get_Integration(0).get_folding_period()\n",
    "    deltas = []\n",
    "    for i in range(len(F)):\n",
    "        d = (G.get_Integration(i).get_epoch()-F.get_Integration(i).get_epoch()).in_days()*86400\n",
    "        deltas.append(d/P)\n",
    "    deltas = np.array(deltas)\n",
    "\n",
    "    smear = np.diff(deltas)\n",
    "    smear = (smear+0.5) % 1 - 0.5\n",
    "    \n",
    "    return np.amax(smear)\n",
    "\n",
    "def clear_wsrt_day(d, success=False, failure=True):\n",
    "    success_file = d+\"/success\"\n",
    "    failure_file = d+\"/failure.pickle\"\n",
    "    if success and os.path.exists(success_file):\n",
    "        os.unlink(success_file)\n",
    "    if failure and os.path.exists(failure_file):\n",
    "        os.unlink(failure_file)\n",
    "\n",
    "def process_wsrt_day(d):\n",
    "    success_file = d+\"/success\"\n",
    "    failure_file = d+\"/failure.pickle\"\n",
    "    if os.path.exists(success_file):\n",
    "        with open(success_file, \"rb\") as f:\n",
    "            return pickle.load(f)\n",
    "    if os.path.exists(failure_file):\n",
    "        with open(failure_file, \"rb\") as f:\n",
    "            raise pickle.load(f)\n",
    "    with tempfile.TemporaryDirectory() as td:\n",
    "        try:\n",
    "            extra_info = dict(day=d, max_smearing=0)\n",
    "            for s in glob(d+\"/Band*\"):\n",
    "                b = s.split(\"/\")[-1]\n",
    "                tadd = td+\"/\"+b+\".tadd.ar\"\n",
    "                pipe.check_call([\"psradd\", \"-o\", tadd]+glob(s+\"/u*.ar\"))\n",
    "                F = psrchive.Archive_load(tadd)\n",
    "\n",
    "                mjd = (F.get_Integration(0).get_start_time().in_days()\n",
    "                    +F.get_Integration(len(F)-1).get_end_time().in_days())/2\n",
    "                par = par_db.get_par_for(mjd)\n",
    "                pipe.check_call([\"pam\", \"-E\", par, \"-e\", \"align.ar\", tadd])\n",
    "                align = td+\"/\"+b+\".tadd.align.ar\"\n",
    "                G = psrchive.Archive_load(align)\n",
    "                \n",
    "                s = max_smearing(F,G)\n",
    "                extra_info[\"max_smearing\"] = max(extra_info[\"max_smearing\"], s)\n",
    "                extra_info[\"mjd\"] = mjd\n",
    "                extra_info[\"par\"] = par\n",
    "                \n",
    "                del F\n",
    "                del G\n",
    "            pipe.check_call([\"psradd\", \"-o\", td+\"/raw.ar\", \"-R\"]+glob(td+\"/Band*.tadd.ar\"))\n",
    "            shutil.copy(td+\"/raw.ar\", \"raw.ar\")\n",
    "            F = psrchive.Archive_load(td+\"/raw.ar\")\n",
    "            l = (F.end_time()-F.start_time()).in_seconds()\n",
    "            M = \"%.1f\" % (((F.end_time()+F.start_time())).in_days()/2)\n",
    "            #T = F.get_nsubint()*F.get_first_Integration().get_duration()\n",
    "            T = F.integration_length()\n",
    "            extra_info[\"length\"] = T\n",
    "            extra_info[\"centre_frequency\"] = F.get_centre_frequency()\n",
    "            extra_info[\"P\"] = F.get_Integration(0).get_folding_period()\n",
    "            extra_info[\"file\"] = M\n",
    "            del F\n",
    "            if np.abs(l-T)> 5:\n",
    "                raise DiscontinuityError(\"Observation in directory %s appears not to be contiguous: \"\n",
    "                                 \"total integration time %f but start-to-end time %f\"\n",
    "                                 % (d,T,l))\n",
    "            shutil.copy(td+\"/raw.ar\", wsrt_data+\"wsrt_%s.raw.ar\" % M)\n",
    "            with open(success_file,\"wb\") as f:\n",
    "                pickle.dump(extra_info, f)\n",
    "            return extra_info\n",
    "        except Exception as e:\n",
    "            with open(failure_file, \"wb\") as f:\n",
    "                pickle.dump(e,f)\n",
    "            raise\n",
    "\n"
   ]
  },
  {
   "cell_type": "code",
   "execution_count": 20,
   "metadata": {
    "collapsed": false
   },
   "outputs": [
    {
     "ename": "CalledProcessError",
     "evalue": "CalledProcessError(\n            cmd=['psradd', '-o', '/tmp/tmpO6IaPw/raw.ar', '-R', '/tmp/tmpO6IaPw/Band7.tadd.ar', '/tmp/tmpO6IaPw/Band1.tadd.ar', '/tmp/tmpO6IaPw/Band3.tadd.ar', '/tmp/tmpO6IaPw/Band4.tadd.ar', '/tmp/tmpO6IaPw/Band5.tadd.ar', '/tmp/tmpO6IaPw/Band6.tadd.ar', '/tmp/tmpO6IaPw/Band2.tadd.ar', '/tmp/tmpO6IaPw/Band0.tadd.ar'],\n            returncode=255,\n            output='''''',\n            error='''psradd: shell not available; insufficient resources\n''')",
     "output_type": "error",
     "traceback": [
      "\u001b[1;31m---------------------------------------------------------------------------\u001b[0m",
      "\u001b[1;31mCalledProcessError\u001b[0m                        Traceback (most recent call last)",
      "\u001b[1;32m<ipython-input-20-d0345b1fc4ee>\u001b[0m in \u001b[0;36m<module>\u001b[1;34m()\u001b[0m\n\u001b[0;32m      2\u001b[0m \u001b[1;33m\u001b[0m\u001b[0m\n\u001b[0;32m      3\u001b[0m \u001b[0mclear_wsrt_day\u001b[0m\u001b[1;33m(\u001b[0m\u001b[0md\u001b[0m\u001b[1;33m)\u001b[0m\u001b[1;33m\u001b[0m\u001b[0m\n\u001b[1;32m----> 4\u001b[1;33m \u001b[0mprocess_wsrt_day\u001b[0m\u001b[1;33m(\u001b[0m\u001b[0md\u001b[0m\u001b[1;33m)\u001b[0m\u001b[1;33m\u001b[0m\u001b[0m\n\u001b[0m",
      "\u001b[1;32m<ipython-input-19-5bb9c41724db>\u001b[0m in \u001b[0;36mprocess_wsrt_day\u001b[1;34m(d)\u001b[0m\n\u001b[0;32m     58\u001b[0m                 \u001b[1;32mdel\u001b[0m \u001b[0mF\u001b[0m\u001b[1;33m\u001b[0m\u001b[0m\n\u001b[0;32m     59\u001b[0m                 \u001b[1;32mdel\u001b[0m \u001b[0mG\u001b[0m\u001b[1;33m\u001b[0m\u001b[0m\n\u001b[1;32m---> 60\u001b[1;33m             \u001b[0mpipe\u001b[0m\u001b[1;33m.\u001b[0m\u001b[0mcheck_call\u001b[0m\u001b[1;33m(\u001b[0m\u001b[1;33m[\u001b[0m\u001b[1;34m\"psradd\"\u001b[0m\u001b[1;33m,\u001b[0m \u001b[1;34m\"-o\"\u001b[0m\u001b[1;33m,\u001b[0m \u001b[0mtd\u001b[0m\u001b[1;33m+\u001b[0m\u001b[1;34m\"/raw.ar\"\u001b[0m\u001b[1;33m,\u001b[0m \u001b[1;34m\"-R\"\u001b[0m\u001b[1;33m]\u001b[0m\u001b[1;33m+\u001b[0m\u001b[0mglob\u001b[0m\u001b[1;33m(\u001b[0m\u001b[0mtd\u001b[0m\u001b[1;33m+\u001b[0m\u001b[1;34m\"/Band*.tadd.ar\"\u001b[0m\u001b[1;33m)\u001b[0m\u001b[1;33m)\u001b[0m\u001b[1;33m\u001b[0m\u001b[0m\n\u001b[0m\u001b[0;32m     61\u001b[0m             \u001b[0mshutil\u001b[0m\u001b[1;33m.\u001b[0m\u001b[0mcopy\u001b[0m\u001b[1;33m(\u001b[0m\u001b[0mtd\u001b[0m\u001b[1;33m+\u001b[0m\u001b[1;34m\"/raw.ar\"\u001b[0m\u001b[1;33m,\u001b[0m \u001b[1;34m\"raw.ar\"\u001b[0m\u001b[1;33m)\u001b[0m\u001b[1;33m\u001b[0m\u001b[0m\n\u001b[0;32m     62\u001b[0m             \u001b[0mF\u001b[0m \u001b[1;33m=\u001b[0m \u001b[0mpsrchive\u001b[0m\u001b[1;33m.\u001b[0m\u001b[0mArchive_load\u001b[0m\u001b[1;33m(\u001b[0m\u001b[0mtd\u001b[0m\u001b[1;33m+\u001b[0m\u001b[1;34m\"/raw.ar\"\u001b[0m\u001b[1;33m)\u001b[0m\u001b[1;33m\u001b[0m\u001b[0m\n",
      "\u001b[1;32m/home/aarchiba/projects/triplesystem/processing/pipe.pyc\u001b[0m in \u001b[0;36mcheck_call\u001b[1;34m(cmd, stderr_re, shell, cwd)\u001b[0m\n\u001b[0;32m    248\u001b[0m     \u001b[1;32mdel\u001b[0m \u001b[0mP\u001b[0m\u001b[1;33m\u001b[0m\u001b[0m\n\u001b[0;32m    249\u001b[0m     \u001b[1;32mif\u001b[0m \u001b[0mreturncode\u001b[0m \u001b[1;32mor\u001b[0m \u001b[1;33m(\u001b[0m\u001b[0mstderr_re\u001b[0m \u001b[1;32mis\u001b[0m \u001b[1;32mnot\u001b[0m \u001b[0mNone\u001b[0m \u001b[1;32mand\u001b[0m \u001b[0mre\u001b[0m\u001b[1;33m.\u001b[0m\u001b[0msearch\u001b[0m\u001b[1;33m(\u001b[0m\u001b[0mstderr_re\u001b[0m\u001b[1;33m,\u001b[0m \u001b[0merror\u001b[0m\u001b[1;33m)\u001b[0m\u001b[1;33m)\u001b[0m\u001b[1;33m:\u001b[0m\u001b[1;33m\u001b[0m\u001b[0m\n\u001b[1;32m--> 250\u001b[1;33m         \u001b[1;32mraise\u001b[0m \u001b[0mCalledProcessError\u001b[0m\u001b[1;33m(\u001b[0m\u001b[0mcmd\u001b[0m\u001b[1;33m,\u001b[0m \u001b[0mreturncode\u001b[0m\u001b[1;33m,\u001b[0m \u001b[0moutput\u001b[0m\u001b[1;33m=\u001b[0m\u001b[0moutput\u001b[0m\u001b[1;33m,\u001b[0m \u001b[0merror\u001b[0m\u001b[1;33m=\u001b[0m\u001b[0merror\u001b[0m\u001b[1;33m)\u001b[0m\u001b[1;33m\u001b[0m\u001b[0m\n\u001b[0m\u001b[0;32m    251\u001b[0m \u001b[1;33m\u001b[0m\u001b[0m\n\u001b[0;32m    252\u001b[0m \u001b[1;33m\u001b[0m\u001b[0m\n",
      "\u001b[1;31mCalledProcessError\u001b[0m: CalledProcessError(\n            cmd=['psradd', '-o', '/tmp/tmpO6IaPw/raw.ar', '-R', '/tmp/tmpO6IaPw/Band7.tadd.ar', '/tmp/tmpO6IaPw/Band1.tadd.ar', '/tmp/tmpO6IaPw/Band3.tadd.ar', '/tmp/tmpO6IaPw/Band4.tadd.ar', '/tmp/tmpO6IaPw/Band5.tadd.ar', '/tmp/tmpO6IaPw/Band6.tadd.ar', '/tmp/tmpO6IaPw/Band2.tadd.ar', '/tmp/tmpO6IaPw/Band0.tadd.ar'],\n            returncode=255,\n            output='''''',\n            error='''psradd: shell not available; insufficient resources\n''')"
     ]
    }
   ],
   "source": [
    "d = \"/nimrod1/aarchiba/0337+17/WSRT-raw/11Apr2012/J0337+1715-1380/\"\n",
    "\n",
    "clear_wsrt_day(d)\n",
    "process_wsrt_day(d)"
   ]
  },
  {
   "cell_type": "code",
   "execution_count": 10,
   "metadata": {
    "collapsed": false,
    "scrolled": false
   },
   "outputs": [
    {
     "name": "stdout",
     "output_type": "stream",
     "text": [
      "/nimrod1/aarchiba/0337+17/WSRT-raw/25Apr2012/J0337+1715-1380a/\n",
      "success; 56042.3\n",
      "/nimrod1/aarchiba/0337+17/WSRT-raw/05Mar2012/J0337+1715-1380b/\n",
      "success; 55991.8\n",
      "/nimrod1/aarchiba/0337+17/WSRT-raw/01Feb2013/J0337+1715-1380/\n",
      "psradd failure CalledProcessError(\n",
      "            cmd=['psradd', '-o', '/tmp/tmppXLvd6/raw.ar', '-R', '/tmp/tmppXLvd6/Band7.tadd.ar', '/tmp/tmppXLvd6/Band1.tadd.ar', '/tmp/tmppXLvd6/Band3.tadd.ar', '/tmp/tmppXLvd6/Band4.tadd.ar', '/tmp/tmppXLvd6/Band5.tadd.ar', '/tmp/tmppXLvd6/Band6.tadd.ar', '/tmp/tmppXLvd6/Band2.tadd.ar', '/tmp/tmppXLvd6/Band0.tadd.ar'],\n",
      "            returncode=255,\n",
      "            output='''''',\n",
      "            error='''psradd: no polynomials loaded\n",
      "\n",
      "see http://psrchive.sourceforge.net/qa/?qa=95/no-polynomials-loaded\n",
      "''')\n",
      "/nimrod1/aarchiba/0337+17/WSRT-raw/10Dec2012/J0337+1715-1380/\n",
      "psradd failure CalledProcessError(\n",
      "            cmd=['psradd', '-o', '/tmp/tmpRjl6UU/raw.ar', '-R', '/tmp/tmpRjl6UU/Band7.tadd.ar', '/tmp/tmpRjl6UU/Band1.tadd.ar', '/tmp/tmpRjl6UU/Band3.tadd.ar', '/tmp/tmpRjl6UU/Band4.tadd.ar', '/tmp/tmpRjl6UU/Band5.tadd.ar', '/tmp/tmpRjl6UU/Band6.tadd.ar', '/tmp/tmpRjl6UU/Band2.tadd.ar', '/tmp/tmpRjl6UU/Band0.tadd.ar'],\n",
      "            returncode=255,\n",
      "            output='''''',\n",
      "            error='''psradd: shell not available; insufficient resources\n",
      "''')\n",
      "/nimrod1/aarchiba/0337+17/WSRT-raw/04Mar2012/J0337+1715-1380/\n",
      "success; 55990.6\n",
      "/nimrod1/aarchiba/0337+17/WSRT-raw/01Nov2012/J0337+1715-1380/\n",
      "success; 56232.8\n",
      "/nimrod1/aarchiba/0337+17/WSRT-raw/28Aug2012/J0337+1715-1380/\n",
      "success; 56167.3\n",
      "/nimrod1/aarchiba/0337+17/WSRT-raw/21Apr2012/J0337+1715-1380/\n",
      "success; 56038.3\n",
      "/nimrod1/aarchiba/0337+17/WSRT-raw/23Jan2013/J0337+1715-1380/\n",
      "psradd failure CalledProcessError(\n",
      "            cmd=['psradd', '-o', '/tmp/tmp40K4tK/raw.ar', '-R', '/tmp/tmp40K4tK/Band7.tadd.ar', '/tmp/tmp40K4tK/Band1.tadd.ar', '/tmp/tmp40K4tK/Band3.tadd.ar', '/tmp/tmp40K4tK/Band4.tadd.ar', '/tmp/tmp40K4tK/Band5.tadd.ar', '/tmp/tmp40K4tK/Band6.tadd.ar', '/tmp/tmp40K4tK/Band2.tadd.ar', '/tmp/tmp40K4tK/Band0.tadd.ar'],\n",
      "            returncode=255,\n",
      "            output='''''',\n",
      "            error='''psradd: no polynomials loaded\n",
      "\n",
      "see http://psrchive.sourceforge.net/qa/?qa=95/no-polynomials-loaded\n",
      "''')\n",
      "/nimrod1/aarchiba/0337+17/WSRT-raw/12Feb2013/J0337+1715-1380/\n"
     ]
    },
    {
     "ename": "OSError",
     "evalue": "[Errno 12] Cannot allocate memory",
     "output_type": "error",
     "traceback": [
      "\u001b[1;31m---------------------------------------------------------------------------\u001b[0m",
      "\u001b[1;31mOSError\u001b[0m                                   Traceback (most recent call last)",
      "\u001b[1;32m<ipython-input-10-9b0f404f6b0a>\u001b[0m in \u001b[0;36m<module>\u001b[1;34m()\u001b[0m\n\u001b[0;32m      5\u001b[0m     \u001b[1;32mprint\u001b[0m \u001b[0md\u001b[0m\u001b[1;33m\u001b[0m\u001b[0m\n\u001b[0;32m      6\u001b[0m     \u001b[1;32mtry\u001b[0m\u001b[1;33m:\u001b[0m\u001b[1;33m\u001b[0m\u001b[0m\n\u001b[1;32m----> 7\u001b[1;33m         \u001b[0mM\u001b[0m \u001b[1;33m=\u001b[0m \u001b[0mprocess_wsrt_day\u001b[0m\u001b[1;33m(\u001b[0m\u001b[0md\u001b[0m\u001b[1;33m)\u001b[0m\u001b[1;33m\u001b[0m\u001b[0m\n\u001b[0m\u001b[0;32m      8\u001b[0m         \u001b[1;32mprint\u001b[0m \u001b[1;34m\"success;\"\u001b[0m\u001b[1;33m,\u001b[0m \u001b[0mM\u001b[0m\u001b[1;33m\u001b[0m\u001b[0m\n\u001b[0;32m      9\u001b[0m         \u001b[0ms\u001b[0m \u001b[1;33m+=\u001b[0m \u001b[1;36m1\u001b[0m\u001b[1;33m\u001b[0m\u001b[0m\n",
      "\u001b[1;32m<ipython-input-9-64fa06ca639e>\u001b[0m in \u001b[0;36mprocess_wsrt_day\u001b[1;34m(d)\u001b[0m\n\u001b[0;32m     17\u001b[0m             \u001b[1;32mfor\u001b[0m \u001b[0ms\u001b[0m \u001b[1;32min\u001b[0m \u001b[0mglob\u001b[0m\u001b[1;33m(\u001b[0m\u001b[0md\u001b[0m\u001b[1;33m+\u001b[0m\u001b[1;34m\"/Band*\"\u001b[0m\u001b[1;33m)\u001b[0m\u001b[1;33m:\u001b[0m\u001b[1;33m\u001b[0m\u001b[0m\n\u001b[0;32m     18\u001b[0m                 \u001b[0mb\u001b[0m \u001b[1;33m=\u001b[0m \u001b[0ms\u001b[0m\u001b[1;33m.\u001b[0m\u001b[0msplit\u001b[0m\u001b[1;33m(\u001b[0m\u001b[1;34m\"/\"\u001b[0m\u001b[1;33m)\u001b[0m\u001b[1;33m[\u001b[0m\u001b[1;33m-\u001b[0m\u001b[1;36m1\u001b[0m\u001b[1;33m]\u001b[0m\u001b[1;33m\u001b[0m\u001b[0m\n\u001b[1;32m---> 19\u001b[1;33m                 \u001b[0mpipe\u001b[0m\u001b[1;33m.\u001b[0m\u001b[0mcheck_call\u001b[0m\u001b[1;33m(\u001b[0m\u001b[1;33m[\u001b[0m\u001b[1;34m\"psradd\"\u001b[0m\u001b[1;33m,\u001b[0m \u001b[1;34m\"-o\"\u001b[0m\u001b[1;33m,\u001b[0m\u001b[0mtd\u001b[0m\u001b[1;33m+\u001b[0m\u001b[1;34m\"/\"\u001b[0m\u001b[1;33m+\u001b[0m\u001b[0mb\u001b[0m\u001b[1;33m+\u001b[0m\u001b[1;34m\".tadd.ar\"\u001b[0m\u001b[1;33m]\u001b[0m\u001b[1;33m+\u001b[0m\u001b[0mglob\u001b[0m\u001b[1;33m(\u001b[0m\u001b[0ms\u001b[0m\u001b[1;33m+\u001b[0m\u001b[1;34m\"/u*.ar\"\u001b[0m\u001b[1;33m)\u001b[0m\u001b[1;33m)\u001b[0m\u001b[1;33m\u001b[0m\u001b[0m\n\u001b[0m\u001b[0;32m     20\u001b[0m             \u001b[0mpipe\u001b[0m\u001b[1;33m.\u001b[0m\u001b[0mcheck_call\u001b[0m\u001b[1;33m(\u001b[0m\u001b[1;33m[\u001b[0m\u001b[1;34m\"psradd\"\u001b[0m\u001b[1;33m,\u001b[0m \u001b[1;34m\"-o\"\u001b[0m\u001b[1;33m,\u001b[0m \u001b[0mtd\u001b[0m\u001b[1;33m+\u001b[0m\u001b[1;34m\"/raw.ar\"\u001b[0m\u001b[1;33m,\u001b[0m \u001b[1;34m\"-R\"\u001b[0m\u001b[1;33m]\u001b[0m\u001b[1;33m+\u001b[0m\u001b[0mglob\u001b[0m\u001b[1;33m(\u001b[0m\u001b[0mtd\u001b[0m\u001b[1;33m+\u001b[0m\u001b[1;34m\"/Band*.tadd.ar\"\u001b[0m\u001b[1;33m)\u001b[0m\u001b[1;33m)\u001b[0m\u001b[1;33m\u001b[0m\u001b[0m\n\u001b[0;32m     21\u001b[0m             \u001b[0mshutil\u001b[0m\u001b[1;33m.\u001b[0m\u001b[0mcopy\u001b[0m\u001b[1;33m(\u001b[0m\u001b[0mtd\u001b[0m\u001b[1;33m+\u001b[0m\u001b[1;34m\"/raw.ar\"\u001b[0m\u001b[1;33m,\u001b[0m \u001b[1;34m\"raw.ar\"\u001b[0m\u001b[1;33m)\u001b[0m\u001b[1;33m\u001b[0m\u001b[0m\n",
      "\u001b[1;32m/home/aarchiba/projects/triplesystem/processing/pipe.pyc\u001b[0m in \u001b[0;36mcheck_call\u001b[1;34m(cmd, stderr_re, shell)\u001b[0m\n\u001b[0;32m    239\u001b[0m                     \u001b[0mstdout\u001b[0m\u001b[1;33m=\u001b[0m\u001b[0msubprocess\u001b[0m\u001b[1;33m.\u001b[0m\u001b[0mPIPE\u001b[0m\u001b[1;33m,\u001b[0m\u001b[1;33m\u001b[0m\u001b[0m\n\u001b[0;32m    240\u001b[0m                     \u001b[0mstderr\u001b[0m\u001b[1;33m=\u001b[0m\u001b[0msubprocess\u001b[0m\u001b[1;33m.\u001b[0m\u001b[0mPIPE\u001b[0m\u001b[1;33m,\u001b[0m\u001b[1;33m\u001b[0m\u001b[0m\n\u001b[1;32m--> 241\u001b[1;33m                     shell=shell)\n\u001b[0m\u001b[0;32m    242\u001b[0m     \u001b[0moutput\u001b[0m\u001b[1;33m,\u001b[0m \u001b[0merror\u001b[0m \u001b[1;33m=\u001b[0m \u001b[0mP\u001b[0m\u001b[1;33m.\u001b[0m\u001b[0mcommunicate\u001b[0m\u001b[1;33m(\u001b[0m\u001b[1;33m)\u001b[0m\u001b[1;33m\u001b[0m\u001b[0m\n\u001b[0;32m    243\u001b[0m     \u001b[0mreturncode\u001b[0m \u001b[1;33m=\u001b[0m \u001b[0mP\u001b[0m\u001b[1;33m.\u001b[0m\u001b[0mreturncode\u001b[0m\u001b[1;33m\u001b[0m\u001b[0m\n",
      "\u001b[1;32m/usr/lib/python2.7/subprocess.pyc\u001b[0m in \u001b[0;36m__init__\u001b[1;34m(self, args, bufsize, executable, stdin, stdout, stderr, preexec_fn, close_fds, shell, cwd, env, universal_newlines, startupinfo, creationflags)\u001b[0m\n\u001b[0;32m    677\u001b[0m                             \u001b[0mp2cread\u001b[0m\u001b[1;33m,\u001b[0m \u001b[0mp2cwrite\u001b[0m\u001b[1;33m,\u001b[0m\u001b[1;33m\u001b[0m\u001b[0m\n\u001b[0;32m    678\u001b[0m                             \u001b[0mc2pread\u001b[0m\u001b[1;33m,\u001b[0m \u001b[0mc2pwrite\u001b[0m\u001b[1;33m,\u001b[0m\u001b[1;33m\u001b[0m\u001b[0m\n\u001b[1;32m--> 679\u001b[1;33m                             errread, errwrite)\n\u001b[0m\u001b[0;32m    680\u001b[0m \u001b[1;33m\u001b[0m\u001b[0m\n\u001b[0;32m    681\u001b[0m         \u001b[1;32mif\u001b[0m \u001b[0mmswindows\u001b[0m\u001b[1;33m:\u001b[0m\u001b[1;33m\u001b[0m\u001b[0m\n",
      "\u001b[1;32m/usr/lib/python2.7/subprocess.pyc\u001b[0m in \u001b[0;36m_execute_child\u001b[1;34m(self, args, executable, preexec_fn, close_fds, cwd, env, universal_newlines, startupinfo, creationflags, shell, p2cread, p2cwrite, c2pread, c2pwrite, errread, errwrite)\u001b[0m\n\u001b[0;32m   1141\u001b[0m                     \u001b[0mgc\u001b[0m\u001b[1;33m.\u001b[0m\u001b[0mdisable\u001b[0m\u001b[1;33m(\u001b[0m\u001b[1;33m)\u001b[0m\u001b[1;33m\u001b[0m\u001b[0m\n\u001b[0;32m   1142\u001b[0m                     \u001b[1;32mtry\u001b[0m\u001b[1;33m:\u001b[0m\u001b[1;33m\u001b[0m\u001b[0m\n\u001b[1;32m-> 1143\u001b[1;33m                         \u001b[0mself\u001b[0m\u001b[1;33m.\u001b[0m\u001b[0mpid\u001b[0m \u001b[1;33m=\u001b[0m \u001b[0mos\u001b[0m\u001b[1;33m.\u001b[0m\u001b[0mfork\u001b[0m\u001b[1;33m(\u001b[0m\u001b[1;33m)\u001b[0m\u001b[1;33m\u001b[0m\u001b[0m\n\u001b[0m\u001b[0;32m   1144\u001b[0m                     \u001b[1;32mexcept\u001b[0m\u001b[1;33m:\u001b[0m\u001b[1;33m\u001b[0m\u001b[0m\n\u001b[0;32m   1145\u001b[0m                         \u001b[1;32mif\u001b[0m \u001b[0mgc_was_enabled\u001b[0m\u001b[1;33m:\u001b[0m\u001b[1;33m\u001b[0m\u001b[0m\n",
      "\u001b[1;31mOSError\u001b[0m: [Errno 12] Cannot allocate memory"
     ]
    }
   ],
   "source": [
    "g = list(glob(wsrt_obs_glob))\n",
    "random.shuffle(g)\n",
    "s = 0\n",
    "for d in g:\n",
    "    print d\n",
    "    try:\n",
    "        M = process_wsrt_day(d)\n",
    "        print \"success;\", M\n",
    "        s += 1\n",
    "    except subprocess.CalledProcessError as e:\n",
    "        print \"psradd failure\", e\n",
    "    except DiscontinuityError:\n",
    "        traceback.print_exc()\n",
    "print s, len(g)"
   ]
  },
  {
   "cell_type": "code",
   "execution_count": 11,
   "metadata": {
    "collapsed": false,
    "scrolled": false
   },
   "outputs": [],
   "source": [
    "if False:\n",
    "    # Mystery failures\n",
    "    g = list(glob(wsrt_obs_glob))\n",
    "    random.shuffle(g)\n",
    "    def do_one(d):\n",
    "        try:\n",
    "            return process_wsrt_day(d)\n",
    "        except subprocess.CalledProcessError:\n",
    "            return \"psradd problem with %s\" % d\n",
    "        except DiscontinuityError:\n",
    "            return \"discontinuity problem with %s\" % d\n",
    "    joblib.Parallel(n_jobs=-1)(joblib.delayed(do_one)(d) for d in g)"
   ]
  },
  {
   "cell_type": "code",
   "execution_count": 12,
   "metadata": {
    "collapsed": false,
    "scrolled": false
   },
   "outputs": [],
   "source": [
    "if False:\n",
    "    # Mystery failures\n",
    "    g = list(glob(wsrt_obs_glob))\n",
    "    random.shuffle(g)\n",
    "    def do_one(d):\n",
    "        try:\n",
    "            return process_wsrt_day(d)\n",
    "        except subprocess.CalledProcessError:\n",
    "            return \"psradd problem with %s\" % d\n",
    "        except DiscontinuityError:\n",
    "            return \"discontinuity problem with %s\" % d\n",
    "    with ProcessPoolExecutor() as P:\n",
    "        list(P.map(do_one,g))"
   ]
  },
  {
   "cell_type": "markdown",
   "metadata": {
    "collapsed": true
   },
   "source": [
    "Now the challenge is to fix as many of the failed observations as possible"
   ]
  },
  {
   "cell_type": "code",
   "execution_count": 8,
   "metadata": {
    "collapsed": false
   },
   "outputs": [],
   "source": [
    "F = psrchive.Archive_load(wsrt_data+\"/wsrt_55956.6.raw.ar\")"
   ]
  },
  {
   "cell_type": "code",
   "execution_count": 12,
   "metadata": {
    "collapsed": false
   },
   "outputs": [
    {
     "data": {
      "text/plain": [
       "True"
      ]
     },
     "execution_count": 12,
     "metadata": {},
     "output_type": "execute_result"
    }
   ],
   "source": [
    "F.thisown"
   ]
  },
  {
   "cell_type": "code",
   "execution_count": 7,
   "metadata": {
    "collapsed": false
   },
   "outputs": [
    {
     "name": "stdout",
     "output_type": "stream",
     "text": [
      "wsrt_55956.6.raw.ar  wsrt_56039.7.raw.ar  wsrt_56199.2.raw.ar\r\n",
      "wsrt_55956.7.raw.ar  wsrt_56042.3.raw.ar  wsrt_56199.3.raw.ar\r\n",
      "wsrt_55959.7.raw.ar  wsrt_56044.3.raw.ar  wsrt_56200.3.raw.ar\r\n",
      "wsrt_55961.9.raw.ar  wsrt_56044.5.raw.ar  wsrt_56200.9.raw.ar\r\n",
      "wsrt_55966.8.raw.ar  wsrt_56045.7.raw.ar  wsrt_56202.3.raw.ar\r\n",
      "wsrt_55967.8.raw.ar  wsrt_56048.7.raw.ar  wsrt_56204.3.raw.ar\r\n",
      "wsrt_55968.8.raw.ar  wsrt_56049.6.raw.ar  wsrt_56206.3.raw.ar\r\n",
      "wsrt_55972.7.raw.ar  wsrt_56050.3.raw.ar  wsrt_56206.8.raw.ar\r\n",
      "wsrt_55977.8.raw.ar  wsrt_56055.3.raw.ar  wsrt_56208.2.raw.ar\r\n",
      "wsrt_55982.9.raw.ar  wsrt_56056.3.raw.ar  wsrt_56211.8.raw.ar\r\n",
      "wsrt_55987.7.raw.ar  wsrt_56056.7.raw.ar  wsrt_56213.8.raw.ar\r\n",
      "wsrt_55988.9.raw.ar  wsrt_56057.3.raw.ar  wsrt_56214.8.raw.ar\r\n",
      "wsrt_55989.9.raw.ar  wsrt_56061.3.raw.ar  wsrt_56216.8.raw.ar\r\n",
      "wsrt_55990.6.raw.ar  wsrt_56064.3.raw.ar  wsrt_56217.8.raw.ar\r\n",
      "wsrt_55991.6.raw.ar  wsrt_56067.5.raw.ar  wsrt_56220.8.raw.ar\r\n",
      "wsrt_55991.8.raw.ar  wsrt_56070.2.raw.ar  wsrt_56221.8.raw.ar\r\n",
      "wsrt_55992.5.raw.ar  wsrt_56079.3.raw.ar  wsrt_56222.8.raw.ar\r\n",
      "wsrt_55992.7.raw.ar  wsrt_56081.3.raw.ar  wsrt_56223.0.raw.ar\r\n",
      "wsrt_55993.6.raw.ar  wsrt_56081.4.raw.ar  wsrt_56224.0.raw.ar\r\n",
      "wsrt_55994.8.raw.ar  wsrt_56083.4.raw.ar  wsrt_56224.2.raw.ar\r\n",
      "wsrt_55998.6.raw.ar  wsrt_56086.3.raw.ar  wsrt_56225.1.raw.ar\r\n",
      "wsrt_55998.8.raw.ar  wsrt_56090.6.raw.ar  wsrt_56225.8.raw.ar\r\n",
      "wsrt_55999.6.raw.ar  wsrt_56101.5.raw.ar  wsrt_56229.9.raw.ar\r\n",
      "wsrt_55999.7.raw.ar  wsrt_56109.3.raw.ar  wsrt_56230.0.raw.ar\r\n",
      "wsrt_56000.8.raw.ar  wsrt_56110.2.raw.ar  wsrt_56230.2.raw.ar\r\n",
      "wsrt_56001.5.raw.ar  wsrt_56110.3.raw.ar  wsrt_56231.1.raw.ar\r\n",
      "wsrt_56002.7.raw.ar  wsrt_56111.2.raw.ar  wsrt_56232.8.raw.ar\r\n",
      "wsrt_56003.7.raw.ar  wsrt_56112.4.raw.ar  wsrt_56234.0.raw.ar\r\n",
      "wsrt_56004.7.raw.ar  wsrt_56120.4.raw.ar  wsrt_56234.8.raw.ar\r\n",
      "wsrt_56005.7.raw.ar  wsrt_56122.4.raw.ar  wsrt_56237.8.raw.ar\r\n",
      "wsrt_56009.7.raw.ar  wsrt_56124.4.raw.ar  wsrt_56238.8.raw.ar\r\n",
      "wsrt_56011.7.raw.ar  wsrt_56126.4.raw.ar  wsrt_56239.8.raw.ar\r\n",
      "wsrt_56013.6.raw.ar  wsrt_56140.4.raw.ar  wsrt_56240.8.raw.ar\r\n",
      "wsrt_56014.6.raw.ar  wsrt_56157.0.raw.ar  wsrt_56241.8.raw.ar\r\n",
      "wsrt_56016.5.raw.ar  wsrt_56160.3.raw.ar  wsrt_56242.8.raw.ar\r\n",
      "wsrt_56017.6.raw.ar  wsrt_56161.3.raw.ar  wsrt_56243.7.raw.ar\r\n",
      "wsrt_56018.5.raw.ar  wsrt_56162.3.raw.ar  wsrt_56249.7.raw.ar\r\n",
      "wsrt_56019.5.raw.ar  wsrt_56163.3.raw.ar  wsrt_56256.0.raw.ar\r\n",
      "wsrt_56020.6.raw.ar  wsrt_56167.3.raw.ar  wsrt_56259.9.raw.ar\r\n",
      "wsrt_56021.7.raw.ar  wsrt_56169.0.raw.ar  wsrt_56260.7.raw.ar\r\n",
      "wsrt_56022.4.raw.ar  wsrt_56172.0.raw.ar  wsrt_56266.8.raw.ar\r\n",
      "wsrt_56023.7.raw.ar  wsrt_56175.3.raw.ar  wsrt_56266.9.raw.ar\r\n",
      "wsrt_56025.7.raw.ar  wsrt_56181.9.raw.ar  wsrt_56269.7.raw.ar\r\n",
      "wsrt_56027.6.raw.ar  wsrt_56185.9.raw.ar  wsrt_56280.9.raw.ar\r\n",
      "wsrt_56032.6.raw.ar  wsrt_56188.9.raw.ar  wsrt_56291.8.raw.ar\r\n",
      "wsrt_56033.8.raw.ar  wsrt_56189.9.raw.ar  wsrt_56293.9.raw.ar\r\n",
      "wsrt_56034.3.raw.ar  wsrt_56190.9.raw.ar\r\n",
      "wsrt_56038.3.raw.ar  wsrt_56198.9.raw.ar\r\n"
     ]
    }
   ],
   "source": [
    "!ls /nimrod1/aarchiba/0337+17/WSRT/"
   ]
  },
  {
   "cell_type": "code",
   "execution_count": null,
   "metadata": {
    "collapsed": true
   },
   "outputs": [],
   "source": []
  }
 ],
 "metadata": {
  "kernelspec": {
   "display_name": "Python 2",
   "language": "python",
   "name": "python2"
  },
  "language_info": {
   "codemirror_mode": {
    "name": "ipython",
    "version": 2
   },
   "file_extension": ".py",
   "mimetype": "text/x-python",
   "name": "python",
   "nbconvert_exporter": "python",
   "pygments_lexer": "ipython2",
   "version": "2.7.6"
  }
 },
 "nbformat": 4,
 "nbformat_minor": 0
}
