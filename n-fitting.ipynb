{
 "metadata": {
  "name": ""
 },
 "nbformat": 3,
 "nbformat_minor": 0,
 "worksheets": [
  {
   "cells": [
    {
     "cell_type": "code",
     "collapsed": false,
     "input": [
      "%load_ext autoreload\n",
      "\n",
      "%autoreload 2"
     ],
     "language": "python",
     "metadata": {},
     "outputs": [],
     "prompt_number": 1
    },
    {
     "cell_type": "code",
     "collapsed": false,
     "input": [
      "from glob import glob\n",
      "import os\n",
      "import pickle\n",
      "\n",
      "import scipy.linalg\n",
      "\n",
      "import emcee\n",
      "\n",
      "import kepler\n",
      "import threebody\n",
      "\n",
      "import minuit_wrap"
     ],
     "language": "python",
     "metadata": {},
     "outputs": [],
     "prompt_number": 2
    },
    {
     "cell_type": "code",
     "collapsed": false,
     "input": [
      "import logging\n",
      "logger = logging.getLogger()\n",
      "\n",
      "logger.setLevel(logging.DEBUG)\n",
      "fh = logging.FileHandler(\"fitting.log\")\n",
      "formatter = logging.Formatter('%(asctime)s - %(module)s:%(funcName)s:%(lineno)s - %(message)s')\n",
      "fh.setFormatter(formatter)\n",
      "logger.addHandler(fh)\n"
     ],
     "language": "python",
     "metadata": {},
     "outputs": [],
     "prompt_number": 3
    },
    {
     "cell_type": "code",
     "collapsed": false,
     "input": [
      "# numpy binds itself to one CPU; unbind it\n",
      "#import os\n",
      "#os.system(\"taskset -p 0xff %d\" % os.getpid());"
     ],
     "language": "python",
     "metadata": {},
     "outputs": [],
     "prompt_number": 4
    },
    {
     "cell_type": "code",
     "collapsed": false,
     "input": [
      "#import matplotlib\n",
      "#matplotlib.rcParams['savefig.dpi'] = 120"
     ],
     "language": "python",
     "metadata": {},
     "outputs": [],
     "prompt_number": 5
    },
    {
     "cell_type": "code",
     "collapsed": false,
     "input": [
      "#F = threebody.Fitter(\"0337+17-scott-2013-06-06\",tzrmjd_middle='weighted',priors=['dbeta','dgamma'],ppn_mode='heavysimple')\n",
      "#F = threebody.Fitter(\"0337+17-scott-2013-06-06\",\n",
      "#    tzrmjd_middle='weighted',priors=['dbeta','dgamma'],\n",
      "#    use_quad=True,tol=1e-20,ppn_mode='heavysimple')\n",
      "#F = threebody.Fitter(\"0337+17-scott-2013-06-06\",tzrmjd_middle='weighted',\n",
      "#    only_tels=['AO1440','AO1350','GBT1500'],\n",
      "#    ppn_mode='heavysimple')\n",
      "#F = threebody.Fitter(\"0337+17-scott-2013-06-06\",tzrmjd_middle='weighted',\n",
      "#    only_tels=['WSRT1400'],\n",
      "#    ppn_mode='heavysimple')\n",
      "#F = threebody.Fitter(files=\"0337+17-scott-2013-08-29\",tzrmjd_middle='weighted',\n",
      "#                     parfile=\"0337_tempo2_nobinary.par\",\n",
      "#                     fit_pos=True,\n",
      "#                     ppn_mode='GR')\n",
      "#F = threebody.Fitter(files=\"0337+17-scott-2013-08-29\",tzrmjd_middle='auto',\n",
      "#                     parfile=\"0337_modified.par\",\n",
      "#                     fit_pos=True,\n",
      "#                     fit_pm=True,\n",
      "#                     fit_px=True,\n",
      "#                     t2_astrometry=True,\n",
      "#                     ppn_mode='GR')\n",
      "#F = threebody.Fitter(files=\"0337+17-scott-2013-08-29\",tzrmjd_middle='auto',\n",
      "#                     parfile=\"0337_modified.par\",\n",
      "#                     fit_pos=True,\n",
      "#                     fit_pm=True,\n",
      "#                     fit_px=True,\n",
      "#                     t2_astrometry=True,\n",
      "#                     kopeikin=True,\n",
      "#                     ppn_mode='heavysimple')\n",
      "if False:\n",
      "    fitter_params = dict(files=\"0337+17-scott-2013-08-29\",tzrmjd_middle='auto',\n",
      "                     parfile=\"0337_tempo2_pm.par\",\n",
      "                     fit_pos=True,\n",
      "                     fit_pm=False,\n",
      "                     fit_px=True,\n",
      "                     t2_astrometry=True,\n",
      "                     kopeikin=True,\n",
      "                     priors=('dbeta','dgamma'),\n",
      "                     ppn_mode='heavysimple')\n",
      "elif False:\n",
      "    fitter_params = dict(files=\"0337+17-scott-2013-08-29\",tzrmjd_middle='auto',\n",
      "                     parfile=\"0337_tempo2_pm.par\",\n",
      "                     fit_pos=True,\n",
      "                     fit_pm=False,\n",
      "                     fit_px=True,\n",
      "                     t2_astrometry=True,\n",
      "                     kopeikin=True,\n",
      "                     shapiro=False,\n",
      "                     priors=('dbeta','dgamma'),\n",
      "                     ppn_mode='heavysimple')\n",
      "elif False:\n",
      "    fitter_params = dict(files=\"0337+17-scott-2013-08-29\",tzrmjd_middle='auto',\n",
      "                     parfile=\"0337_tempo2_pm.par\",\n",
      "                     fit_pos=True,\n",
      "                     fit_pm=False,\n",
      "                     fit_px=True,\n",
      "                     t2_astrometry=True,\n",
      "                     kopeikin=True,\n",
      "                     general=False,\n",
      "                     priors=('dbeta','dgamma'),\n",
      "                     ppn_mode='heavysimple')\n",
      "elif False:\n",
      "    fitter_params = dict(files=\"0337+17-scott-2013-08-29\",tzrmjd_middle='auto',\n",
      "                     parfile=\"0337_tempo2_pm.par\",\n",
      "                     fit_pos=True,\n",
      "                     fit_pm=False,\n",
      "                     fit_px=True,\n",
      "                     t2_astrometry=True,\n",
      "                     kopeikin=True,\n",
      "                     ppn_mode=None)\n",
      "elif False:\n",
      "    fitter_params = dict(files=\"0337+17-scott-2013-08-29\",tzrmjd_middle='auto',\n",
      "                     parfile=\"0337_tempo2_px.par\",\n",
      "                     fit_pos=True,\n",
      "                     fit_pm=False,\n",
      "                     fit_px=True,\n",
      "                     t2_astrometry=True,\n",
      "                     kopeikin=True,\n",
      "                     ppn_mode='GR')\n",
      "elif False:\n",
      "    fitter_params = dict(files=\"0337+17-scott-2013-08-29\",tzrmjd_middle='auto',\n",
      "                     parfile=\"0337_tempo2_pm.par\",\n",
      "                     fit_pos=True,\n",
      "                     fit_pm=False,\n",
      "                     fit_px=True,\n",
      "                     t2_astrometry=True,\n",
      "                     kopeikin=True,\n",
      "                     ppn_mode='GR')\n",
      "elif False:\n",
      "    fitter_params = dict(files=\"0337+17-scott-2014-01-22\",\n",
      "                     tzrmjd_middle='auto',\n",
      "                     parfile=\"0337_tempo2_px_optical.par\",\n",
      "                     fit_pos=True,\n",
      "                     fit_pm=False,\n",
      "                     fit_px=False,\n",
      "                     t2_astrometry=True,\n",
      "                     kopeikin=True,\n",
      "                     ppn_mode='GR')\n",
      "elif False:\n",
      "    fitter_params = dict(files=\"0337+17-scott-2014-01-22\",\n",
      "                     tzrmjd_middle='auto',\n",
      "                     parfile=\"0337_tempo2_px_optical.par\",\n",
      "                     fit_pos=True,\n",
      "                     fit_pm=False,\n",
      "                     fit_px=False,\n",
      "                     t2_astrometry=True,\n",
      "                     kopeikin=False,\n",
      "                     ppn_mode='GR')\n",
      "elif False:\n",
      "    fitter_params = dict(files=\"0337+17-scott-2014-01-22\",\n",
      "                     tzrmjd_middle='auto',\n",
      "                     parfile=\"0337_tempo2_px_optical.par\",\n",
      "                     fit_pos=True,\n",
      "                     fit_pm=False,\n",
      "                     fit_px=False,\n",
      "                     t2_astrometry=True,\n",
      "                     kopeikin=False,\n",
      "                     priors=('dbeta','dgamma'),\n",
      "                     ppn_mode='heavysimple')\n",
      "elif False:\n",
      "    fitter_params = dict(files=\"0337+17-anne-2014-01-28\",\n",
      "                     tzrmjd_middle='auto',\n",
      "                     parfile=\"0337_tempo2_px_optical.par\",\n",
      "                     fit_pos=True,\n",
      "                     fit_pm=False,\n",
      "                     fit_px=False,\n",
      "                     t2_astrometry=True,\n",
      "                     kopeikin=False,\n",
      "                     priors=('dbeta','dgamma'),\n",
      "                     ppn_mode='heavysimple')\n",
      "elif False:\n",
      "    fitter_params = dict(files=\"0337+17-anne-2014-02-04c\",\n",
      "                     tzrmjd_middle='auto',\n",
      "                     parfile=\"0337_tempo2_px_optical.par\",\n",
      "                     fit_pos=True,\n",
      "                     fit_pm=False,\n",
      "                     fit_px=False,\n",
      "                     t2_astrometry=True,\n",
      "                     kopeikin=False,\n",
      "                     ppn_mode='GR')\n",
      "elif False:\n",
      "    fitter_params = dict(files=\"0337+17-anne-2014-02-04c\",\n",
      "                     tzrmjd_middle='auto',\n",
      "                     parfile=\"0337_tempo_px_optical.par\",\n",
      "                     fit_pos=False,\n",
      "                     fit_pm=False,\n",
      "                     fit_px=False,\n",
      "                     t2_astrometry=True,\n",
      "                     kopeikin=False,\n",
      "                     ppn_mode='GR')\n",
      "elif False:\n",
      "    fitter_params = dict(files=\"0337+17-anne-2014-09-22\",\n",
      "                     tzrmjd_middle='auto',\n",
      "                     parfile=\"0337_tempo_px_optical.par\",\n",
      "                     fit_pos=True,\n",
      "                     fit_pm=False,\n",
      "                     fit_px=False,\n",
      "                     t2_astrometry=True,\n",
      "                     kopeikin=False,\n",
      "                     ppn_mode='GR')\n",
      "elif True:\n",
      "    fitter_params = dict(files=\"0337+17-anne-2014-09-22\",\n",
      "                     tzrmjd_middle='auto',\n",
      "                     parfile=\"0337_tempo2_px_optical.par\",\n",
      "                     fit_pos=True,\n",
      "                     fit_pm=False,\n",
      "                     fit_px=False,\n",
      "                     t2_astrometry=True,\n",
      "                     kopeikin=False,\n",
      "                     priors=('dbeta','dgamma'),\n",
      "                     ppn_mode='heavysimple')\n",
      "else:\n",
      "    runid = \"7983\"\n",
      "    fitter_params = pickle.load(open(\"emcee-chains/%s.nimrod/fitter_params.pickle\" % runid))\n",
      "#F = threebody.Fitter(\"0337+17-scott-2013-06-06\",tzrmjd_middle='weighted',ppn_mode='GR')\n",
      "#F = threebody.Fitter(\"0337+17-scott-2013-06-06\",tzrmjd_middle='weighted',general=False,ppn_mode='GR')\n",
      "#F = threebody.Fitter(\"0337+17-scott-2013-06-06\",tzrmjd_middle=True)\n",
      "with open(\"fitter_params.pickle\",\"wb\") as f:\n",
      "    pickle.dump(fitter_params,f)\n",
      "F = threebody.Fitter(**fitter_params)"
     ],
     "language": "python",
     "metadata": {},
     "outputs": [],
     "prompt_number": 21
    },
    {
     "cell_type": "code",
     "collapsed": false,
     "input": [
      "F.tel_list, len(F.mjds)"
     ],
     "language": "python",
     "metadata": {},
     "outputs": [
      {
       "metadata": {},
       "output_type": "pyout",
       "prompt_number": 22,
       "text": [
        "(['AO1440', 'GBT1500', 'WSRT1400'], 34570)"
       ]
      }
     ],
     "prompt_number": 22
    },
    {
     "cell_type": "code",
     "collapsed": false,
     "input": [
      "print F.parameters\n",
      "print len(F.parameters)"
     ],
     "language": "python",
     "metadata": {},
     "outputs": [
      {
       "output_type": "stream",
       "stream": "stdout",
       "text": [
        "['asini_i', 'pb_i', 'eps1_i', 'eps2_i', 'tasc_i', 'acosi_i', 'q_i', 'asini_o', 'pb_o', 'eps1_o', 'eps2_o', 'tasc_o', 'acosi_o', 'delta_lan', 'delta', 'dgamma', 'dbeta', 'd_RAJ', 'd_DECJ', 'j_AO1440', 'j_GBT1500']\n",
        "21\n"
       ]
      }
     ],
     "prompt_number": 23
    },
    {
     "cell_type": "code",
     "collapsed": false,
     "input": [
      "F.best_parameters"
     ],
     "language": "python",
     "metadata": {},
     "outputs": [
      {
       "metadata": {},
       "output_type": "pyout",
       "prompt_number": 24,
       "text": [
        "{'acosi_i': 1.4916493021653913168,\n",
        " 'acosi_o': 91.519620761810251311,\n",
        " 'asini_i': 1.2175267653814461963,\n",
        " 'asini_o': 74.67270643847444167,\n",
        " 'd_DECJ': 2.4779681329875679358e-07,\n",
        " 'd_RAJ': -6.4499129045266957688e-08,\n",
        " 'dbeta': 0.0,\n",
        " 'delta': 0.0,\n",
        " 'delta_lan': -2.5631264977132676208e-05,\n",
        " 'dgamma': 0.0,\n",
        " 'eps1_i': 0.00068720563241181474598,\n",
        " 'eps1_o': 0.035186248275885282531,\n",
        " 'eps2_i': -9.1213668386596449718e-05,\n",
        " 'eps2_o': -0.0034621385790835670135,\n",
        " 'f0': 365.95336878765835,\n",
        " 'j_AO1350': 5.364017648361716e-05,\n",
        " 'j_AO1440': -0.00055110229623296496296,\n",
        " 'j_AO327': 6.457616019511097e-05,\n",
        " 'j_GBT1500': -0.00053762924604986671483,\n",
        " 'j_GBT350': 1.8912917353649655e-05,\n",
        " 'j_GBT820': 6.712253154451129e-05,\n",
        " 'j_WSRT350': -3.6063906052781444e-05,\n",
        " 'pb_i': 1.6293969395230589955,\n",
        " 'pb_o': 327.25752155593578771,\n",
        " 'ppn_mode': 'heavysimple',\n",
        " 'q_i': 0.13746334425652446117,\n",
        " 'shapiro': True,\n",
        " 'tasc_i': 0.40771698415026918393,\n",
        " 'tasc_o': 313.93579039177622422,\n",
        " 'tol': 1e-16,\n",
        " 'use_quad': False}"
       ]
      }
     ],
     "prompt_number": 24
    },
    {
     "cell_type": "code",
     "collapsed": false,
     "input": [
      "#for n in threebody.astro_names:\n",
      "#    F.best_parameters[n] = 0"
     ],
     "language": "python",
     "metadata": {},
     "outputs": [],
     "prompt_number": 25
    },
    {
     "cell_type": "code",
     "collapsed": false,
     "input": [
      "#F.best_parameters['d_PX'] = 0\n",
      "#F.best_parameters['pm_x'] = 0\n",
      "#F.best_parameters['pm_y'] = 0\n"
     ],
     "language": "python",
     "metadata": {},
     "outputs": [],
     "prompt_number": 26
    },
    {
     "cell_type": "code",
     "collapsed": false,
     "input": [
      "rload = F.residuals(F.best_parameters)\n",
      "for ti, t in enumerate(F.tel_list):\n",
      "    c = F.tels == ti\n",
      "    plt.plot(F.mjds[c], rload[c], \n",
      "             \".\", markersize=1, label=t)\n",
      "plt.legend(loc=\"best\")"
     ],
     "language": "python",
     "metadata": {},
     "outputs": [
      {
       "metadata": {},
       "output_type": "pyout",
       "prompt_number": 27,
       "text": [
        "<matplotlib.legend.Legend at 0x3cb8890>"
       ]
      },
      {
       "metadata": {},
       "output_type": "display_data",
       "png": "[encoded data removed]",
       "text": [
        "<matplotlib.figure.Figure at 0x3cb84d0>"
       ]
      }
     ],
     "prompt_number": 27
    },
    {
     "cell_type": "code",
     "collapsed": false,
     "input": [
      "mfun = F.make_mfun()"
     ],
     "language": "python",
     "metadata": {},
     "outputs": [],
     "prompt_number": 28
    },
    {
     "cell_type": "code",
     "collapsed": false,
     "input": [
      "mfun(*[F.best_parameters[p] for p in F.parameters])"
     ],
     "language": "python",
     "metadata": {},
     "outputs": [
      {
       "metadata": {},
       "output_type": "pyout",
       "prompt_number": 29,
       "text": [
        "59898.010353497283901"
       ]
      }
     ],
     "prompt_number": 29
    },
    {
     "cell_type": "code",
     "collapsed": false,
     "input": [
      "M = minuit_wrap.Fitter(F.make_mfun())"
     ],
     "language": "python",
     "metadata": {},
     "outputs": [],
     "prompt_number": 30
    },
    {
     "cell_type": "code",
     "collapsed": false,
     "input": [
      "for p in F.parameters:\n",
      "    M.values[p] = F.best_parameters[p]\n",
      "    M.errors[p] = F.best_errors[p]\n",
      "M.set_normalization()"
     ],
     "language": "python",
     "metadata": {},
     "outputs": [],
     "prompt_number": 31
    },
    {
     "cell_type": "code",
     "collapsed": false,
     "input": [
      "if False:\n",
      "    for p in F.parameters:\n",
      "        if not p.startswith(\"j_\"):\n",
      "            M.fixed[p] = True\n"
     ],
     "language": "python",
     "metadata": {},
     "outputs": [],
     "prompt_number": 32
    },
    {
     "cell_type": "code",
     "collapsed": false,
     "input": [
      "if False:\n",
      "    for p in F.parameters:\n",
      "        M.fixed[p] = False"
     ],
     "language": "python",
     "metadata": {},
     "outputs": [],
     "prompt_number": 33
    },
    {
     "cell_type": "code",
     "collapsed": false,
     "input": [
      "M.best_filename = \"fitter_best_values.pickle\"\n",
      "M.tol = 100\n",
      "M.eps = 1e-6\n",
      "M.strategy = 1\n",
      "M.printMode = 3\n",
      "M.migrad()"
     ],
     "language": "python",
     "metadata": {},
     "outputs": [
      {
       "ename": "KeyboardInterrupt",
       "evalue": "",
       "output_type": "pyerr",
       "traceback": [
        "\u001b[0;31m---------------------------------------------------------------------------\u001b[0m\n\u001b[0;31mKeyboardInterrupt\u001b[0m                         Traceback (most recent call last)",
        "\u001b[0;32m<ipython-input-34-9b0c34f80e12>\u001b[0m in \u001b[0;36m<module>\u001b[0;34m()\u001b[0m\n\u001b[1;32m      4\u001b[0m \u001b[0mM\u001b[0m\u001b[0;34m.\u001b[0m\u001b[0mstrategy\u001b[0m \u001b[0;34m=\u001b[0m \u001b[0;36m1\u001b[0m\u001b[0;34m\u001b[0m\u001b[0m\n\u001b[1;32m      5\u001b[0m \u001b[0mM\u001b[0m\u001b[0;34m.\u001b[0m\u001b[0mprintMode\u001b[0m \u001b[0;34m=\u001b[0m \u001b[0;36m3\u001b[0m\u001b[0;34m\u001b[0m\u001b[0m\n\u001b[0;32m----> 6\u001b[0;31m \u001b[0mM\u001b[0m\u001b[0;34m.\u001b[0m\u001b[0mmigrad\u001b[0m\u001b[0;34m(\u001b[0m\u001b[0;34m)\u001b[0m\u001b[0;34m\u001b[0m\u001b[0m\n\u001b[0m",
        "\u001b[0;32m/home/aarchiba/projects/threebody/minuit_wrap.pyc\u001b[0m in \u001b[0;36mmigrad\u001b[0;34m(self)\u001b[0m\n\u001b[1;32m    109\u001b[0m     \u001b[0;32mdef\u001b[0m \u001b[0mmigrad\u001b[0m\u001b[0;34m(\u001b[0m\u001b[0mself\u001b[0m\u001b[0;34m)\u001b[0m\u001b[0;34m:\u001b[0m\u001b[0;34m\u001b[0m\u001b[0m\n\u001b[1;32m    110\u001b[0m         \u001b[0mself\u001b[0m\u001b[0;34m.\u001b[0m\u001b[0m_set_minuit\u001b[0m\u001b[0;34m(\u001b[0m\u001b[0;34m)\u001b[0m\u001b[0;34m\u001b[0m\u001b[0m\n\u001b[0;32m--> 111\u001b[0;31m         \u001b[0mr\u001b[0m \u001b[0;34m=\u001b[0m \u001b[0mself\u001b[0m\u001b[0;34m.\u001b[0m\u001b[0m_minuit\u001b[0m\u001b[0;34m.\u001b[0m\u001b[0mmigrad\u001b[0m\u001b[0;34m(\u001b[0m\u001b[0;34m)\u001b[0m\u001b[0;34m\u001b[0m\u001b[0m\n\u001b[0m\u001b[1;32m    112\u001b[0m         \u001b[0mself\u001b[0m\u001b[0;34m.\u001b[0m\u001b[0m_get_minuit\u001b[0m\u001b[0;34m(\u001b[0m\u001b[0;34m)\u001b[0m\u001b[0;34m\u001b[0m\u001b[0m\n\u001b[1;32m    113\u001b[0m         \u001b[0;32mreturn\u001b[0m \u001b[0mr\u001b[0m\u001b[0;34m\u001b[0m\u001b[0m\n",
        "\u001b[0;32m<string>\u001b[0m in \u001b[0;36mwrapfunc2\u001b[0;34m(asini_i, pb_i, eps1_i, eps2_i, tasc_i, acosi_i, q_i, asini_o, pb_o, eps1_o, eps2_o, tasc_o, acosi_o, delta_lan, delta, dgamma, dbeta, d_RAJ, d_DECJ, j_AO1440, j_GBT1500)\u001b[0m\n",
        "\u001b[0;32m/home/aarchiba/projects/threebody/minuit_wrap.pyc\u001b[0m in \u001b[0;36mwrapfunc\u001b[0;34m(*args)\u001b[0m\n\u001b[1;32m     18\u001b[0m             \u001b[0mfargs\u001b[0m \u001b[0;34m=\u001b[0m \u001b[0mfargs\u001b[0m\u001b[0;34m[\u001b[0m\u001b[0;36m1\u001b[0m\u001b[0;34m:\u001b[0m\u001b[0;34m]\u001b[0m\u001b[0;34m\u001b[0m\u001b[0m\n\u001b[1;32m     19\u001b[0m         \u001b[0;32mdef\u001b[0m \u001b[0mwrapfunc\u001b[0m\u001b[0;34m(\u001b[0m\u001b[0;34m*\u001b[0m\u001b[0margs\u001b[0m\u001b[0;34m)\u001b[0m\u001b[0;34m:\u001b[0m\u001b[0;34m\u001b[0m\u001b[0m\n\u001b[0;32m---> 20\u001b[0;31m             \u001b[0mr\u001b[0m \u001b[0;34m=\u001b[0m \u001b[0mfunc\u001b[0m\u001b[0;34m(\u001b[0m\u001b[0;34m**\u001b[0m\u001b[0mdict\u001b[0m\u001b[0;34m(\u001b[0m\u001b[0mself\u001b[0m\u001b[0;34m.\u001b[0m\u001b[0m_denormalize\u001b[0m\u001b[0;34m(\u001b[0m\u001b[0mfargs\u001b[0m\u001b[0;34m,\u001b[0m\u001b[0margs\u001b[0m\u001b[0;34m)\u001b[0m\u001b[0;34m)\u001b[0m\u001b[0;34m)\u001b[0m\u001b[0;34m\u001b[0m\u001b[0m\n\u001b[0m\u001b[1;32m     21\u001b[0m             \u001b[0;32mif\u001b[0m \u001b[0mself\u001b[0m\u001b[0;34m.\u001b[0m\u001b[0mbest_values\u001b[0m \u001b[0;32mis\u001b[0m \u001b[0mNone\u001b[0m \u001b[0;32mor\u001b[0m \u001b[0mr\u001b[0m\u001b[0;34m<\u001b[0m\u001b[0mself\u001b[0m\u001b[0;34m.\u001b[0m\u001b[0mbest_values_fval\u001b[0m\u001b[0;34m:\u001b[0m\u001b[0;34m\u001b[0m\u001b[0m\n\u001b[1;32m     22\u001b[0m                 \u001b[0mself\u001b[0m\u001b[0;34m.\u001b[0m\u001b[0mbest_values\u001b[0m \u001b[0;34m=\u001b[0m \u001b[0mdict\u001b[0m\u001b[0;34m(\u001b[0m\u001b[0mself\u001b[0m\u001b[0;34m.\u001b[0m\u001b[0m_denormalize\u001b[0m\u001b[0;34m(\u001b[0m\u001b[0mfargs\u001b[0m\u001b[0;34m,\u001b[0m\u001b[0margs\u001b[0m\u001b[0;34m)\u001b[0m\u001b[0;34m)\u001b[0m\u001b[0;34m\u001b[0m\u001b[0m\n",
        "\u001b[0;32m/home/aarchiba/projects/threebody/threebody.pyc\u001b[0m in \u001b[0;36m<lambda>\u001b[0;34m(asini_i, pb_i, eps1_i, eps2_i, tasc_i, acosi_i, q_i, asini_o, pb_o, eps1_o, eps2_o, tasc_o, acosi_o, delta_lan, delta, dgamma, dbeta, d_RAJ, d_DECJ, j_AO1440, j_GBT1500)\u001b[0m\n",
        "\u001b[0;32m/home/aarchiba/projects/threebody/threebody.pyc\u001b[0m in \u001b[0;36mlnprob\u001b[0;34m(self, p)\u001b[0m\n\u001b[1;32m   1234\u001b[0m             \u001b[0mphase\u001b[0m \u001b[0;34m-=\u001b[0m \u001b[0mf0\u001b[0m\u001b[0;34m*\u001b[0m\u001b[0mtzrmjd_s\u001b[0m\u001b[0;34m+\u001b[0m\u001b[0mf1\u001b[0m\u001b[0;34m*\u001b[0m\u001b[0mtzrmjd_s\u001b[0m\u001b[0;34m**\u001b[0m\u001b[0;36m2\u001b[0m\u001b[0;34m/\u001b[0m\u001b[0;36m2.\u001b[0m\u001b[0;34m\u001b[0m\u001b[0m\n\u001b[1;32m   1235\u001b[0m             \u001b[0mrr\u001b[0m \u001b[0;34m=\u001b[0m \u001b[0mphase\u001b[0m\u001b[0;34m-\u001b[0m\u001b[0mself\u001b[0m\u001b[0;34m.\u001b[0m\u001b[0mpulses\u001b[0m\u001b[0;34m\u001b[0m\u001b[0m\n\u001b[0;32m-> 1236\u001b[0;31m             \u001b[0mrr\u001b[0m \u001b[0;34m/=\u001b[0m \u001b[0mself\u001b[0m\u001b[0;34m.\u001b[0m\u001b[0mphase_uncerts\u001b[0m\u001b[0;34m\u001b[0m\u001b[0m\n\u001b[0m\u001b[1;32m   1237\u001b[0m             \u001b[0;32mreturn\u001b[0m \u001b[0mnp\u001b[0m\u001b[0;34m.\u001b[0m\u001b[0msum\u001b[0m\u001b[0;34m(\u001b[0m\u001b[0mrr\u001b[0m\u001b[0;34m**\u001b[0m\u001b[0;36m2\u001b[0m\u001b[0;34m)\u001b[0m\u001b[0;34m\u001b[0m\u001b[0m\n\u001b[1;32m   1238\u001b[0m \u001b[0;34m\u001b[0m\u001b[0m\n",
        "\u001b[0;32m/home/aarchiba/projects/threebody/threebody.pyc\u001b[0m in \u001b[0;36mresiduals\u001b[0;34m(self, p, times)\u001b[0m\n\u001b[1;32m   1167\u001b[0m         \u001b[0mIf\u001b[0m \u001b[0msome\u001b[0m \u001b[0mof\u001b[0m \u001b[0mthe\u001b[0m \u001b[0mlast\u001b[0m \u001b[0mthree\u001b[0m \u001b[0mare\u001b[0m \u001b[0mmissing\u001b[0m\u001b[0;34m,\u001b[0m \u001b[0mtheir\u001b[0m \u001b[0mbest\u001b[0m\u001b[0;34m-\u001b[0m\u001b[0mfit\u001b[0m \u001b[0mvalues\u001b[0m\u001b[0;34m\u001b[0m\u001b[0m\n\u001b[1;32m   1168\u001b[0m         \u001b[0mwill\u001b[0m \u001b[0mautomatically\u001b[0m \u001b[0mbe\u001b[0m \u001b[0mcomputed\u001b[0m \u001b[0;32mand\u001b[0m \u001b[0mtheir\u001b[0m \u001b[0meffect\u001b[0m \u001b[0msubtracted\u001b[0m\u001b[0;34m.\u001b[0m\u001b[0;34m\u001b[0m\u001b[0m\n\u001b[0;32m-> 1169\u001b[0;31m \u001b[0;34m\u001b[0m\u001b[0m\n\u001b[0m\u001b[1;32m   1170\u001b[0m         \u001b[0mIf\u001b[0m \u001b[0mthe\u001b[0m \u001b[0mmarginalize\u001b[0m \u001b[0mparameter\u001b[0m \u001b[0;32mis\u001b[0m \u001b[0mTrue\u001b[0m\u001b[0;34m,\u001b[0m \u001b[0mthis\u001b[0m \u001b[0mfunction\u001b[0m \u001b[0mwill\u001b[0m \u001b[0malso\u001b[0m\u001b[0;34m\u001b[0m\u001b[0m\n\u001b[1;32m   1171\u001b[0m         \u001b[0;32mreturn\u001b[0m \u001b[0mhalf\u001b[0m \u001b[0mthe\u001b[0m \u001b[0mlogarithm\u001b[0m \u001b[0mof\u001b[0m \u001b[0mthe\u001b[0m \u001b[0mdeterminant\u001b[0m \u001b[0mof\u001b[0m \u001b[0mthe\u001b[0m \u001b[0mmatrix\u001b[0m \u001b[0mof\u001b[0m\u001b[0;34m\u001b[0m\u001b[0m\n",
        "\u001b[0;32m/home/aarchiba/projects/threebody/threebody.pyc\u001b[0m in \u001b[0;36mcompute_orbit\u001b[0;34m(self, p)\u001b[0m\n\u001b[1;32m   1141\u001b[0m             \u001b[0mjumps\u001b[0m \u001b[0;34m=\u001b[0m \u001b[0mnp\u001b[0m\u001b[0;34m.\u001b[0m\u001b[0mdot\u001b[0m\u001b[0;34m(\u001b[0m\u001b[0mself\u001b[0m\u001b[0;34m.\u001b[0m\u001b[0mjmatrix\u001b[0m\u001b[0;34m,\u001b[0m\u001b[0mnp\u001b[0m\u001b[0;34m.\u001b[0m\u001b[0marray\u001b[0m\u001b[0;34m(\u001b[0m\u001b[0;34m[\u001b[0m\u001b[0mp\u001b[0m\u001b[0;34m[\u001b[0m\u001b[0mn\u001b[0m\u001b[0;34m]\u001b[0m \u001b[0;32mfor\u001b[0m \u001b[0mn\u001b[0m \u001b[0;32min\u001b[0m \u001b[0mself\u001b[0m\u001b[0;34m.\u001b[0m\u001b[0mjnames\u001b[0m\u001b[0;34m]\u001b[0m\u001b[0;34m)\u001b[0m\u001b[0;34m)\u001b[0m\u001b[0;34m\u001b[0m\u001b[0m\n\u001b[1;32m   1142\u001b[0m             \u001b[0mdebug\u001b[0m\u001b[0;34m(\u001b[0m\u001b[0;34m\"Calling compute_orbit\"\u001b[0m\u001b[0;34m)\u001b[0m\u001b[0;34m\u001b[0m\u001b[0m\n\u001b[0;32m-> 1143\u001b[0;31m             o = compute_orbit(p,\n\u001b[0m\u001b[1;32m   1144\u001b[0m                     \u001b[0;34m(\u001b[0m\u001b[0mself\u001b[0m\u001b[0;34m.\u001b[0m\u001b[0mmjds\u001b[0m\u001b[0;34m)\u001b[0m\u001b[0;34m-\u001b[0m\u001b[0;34m(\u001b[0m\u001b[0mjumps\u001b[0m\u001b[0;34m/\u001b[0m\u001b[0;36m86400.\u001b[0m\u001b[0;34m)\u001b[0m\u001b[0;34m.\u001b[0m\u001b[0mastype\u001b[0m\u001b[0;34m(\u001b[0m\u001b[0mnp\u001b[0m\u001b[0;34m.\u001b[0m\u001b[0mfloat128\u001b[0m\u001b[0;34m)\u001b[0m\u001b[0;34m,\u001b[0m\u001b[0;34m\u001b[0m\u001b[0m\n\u001b[1;32m   1145\u001b[0m                     keep_states=True)\n",
        "\u001b[0;32m/home/aarchiba/projects/threebody/threebody.pyc\u001b[0m in \u001b[0;36mcompute_orbit\u001b[0;34m(parameter_dict, times, keep_states)\u001b[0m\n\u001b[1;32m    411\u001b[0m         \u001b[0;32mif\u001b[0m \u001b[0mi\u001b[0m\u001b[0;34m+\u001b[0m\u001b[0;36m1\u001b[0m\u001b[0;34m==\u001b[0m\u001b[0mreport\u001b[0m\u001b[0;34m:\u001b[0m\u001b[0;34m\u001b[0m\u001b[0m\n\u001b[1;32m    412\u001b[0m            \u001b[0mdebug\u001b[0m\u001b[0;34m(\u001b[0m\u001b[0;34m\"Computing TOA %d at t_bb=%g\"\u001b[0m \u001b[0;34m%\u001b[0m \u001b[0;34m(\u001b[0m\u001b[0mi\u001b[0m\u001b[0;34m,\u001b[0m\u001b[0mt_bb\u001b[0m\u001b[0;34m)\u001b[0m\u001b[0;34m)\u001b[0m\u001b[0;34m\u001b[0m\u001b[0m\n\u001b[0;32m--> 413\u001b[0;31m         \u001b[0;32massert\u001b[0m \u001b[0mt_bb\u001b[0m \u001b[0;34m>=\u001b[0m \u001b[0ml_t_bb\u001b[0m\u001b[0;34m\u001b[0m\u001b[0m\n\u001b[0m\u001b[1;32m    414\u001b[0m         \u001b[0ml_t_bb\u001b[0m \u001b[0;34m=\u001b[0m \u001b[0mt_bb\u001b[0m\u001b[0;34m\u001b[0m\u001b[0m\n\u001b[1;32m    415\u001b[0m         \u001b[0mO\u001b[0m\u001b[0;34m.\u001b[0m\u001b[0mintegrate_to\u001b[0m\u001b[0;34m(\u001b[0m\u001b[0mt_bb\u001b[0m\u001b[0;34m)\u001b[0m\u001b[0;34m\u001b[0m\u001b[0m\n",
        "\u001b[0;31mKeyboardInterrupt\u001b[0m: "
       ]
      }
     ],
     "prompt_number": 34
    },
    {
     "cell_type": "code",
     "collapsed": false,
     "input": [
      "M.tol = 100\n",
      "M.eps = 1e-6\n",
      "M.strategy = 1\n",
      "M.printMode = 3\n",
      "M.simplex()"
     ],
     "language": "python",
     "metadata": {},
     "outputs": []
    },
    {
     "cell_type": "code",
     "collapsed": false,
     "input": [
      "for (i,p) in enumerate(F.parameters):\n",
      "    M.values[p] = M.best_values[p]\n",
      "    M.errors[p] = F.best_errors[p]\n",
      "M.set_normalization() "
     ],
     "language": "python",
     "metadata": {},
     "outputs": [],
     "prompt_number": 21
    },
    {
     "cell_type": "code",
     "collapsed": false,
     "input": [
      "best_so_far = np.load(\"emcee-chains/1045.nimrod/best_so_far.npy\")\n",
      "for (i,p) in enumerate(F.parameters):\n",
      "    M.values[p] = best_so_far[i]\n",
      "    M.errors[p] = F.best_errors[p]\n",
      "M.set_normalization()    "
     ],
     "language": "python",
     "metadata": {},
     "outputs": [],
     "prompt_number": 47
    },
    {
     "cell_type": "code",
     "collapsed": false,
     "input": [
      "M.tol = 100\n",
      "M.eps = 1e-6\n",
      "M.strategy = 1\n",
      "M.printMode = 3\n",
      "M.migrad()"
     ],
     "language": "python",
     "metadata": {},
     "outputs": [],
     "prompt_number": "*"
    },
    {
     "cell_type": "code",
     "collapsed": false,
     "input": [
      "for p in F.parameters:\n",
      "    print p, (M.best_values[p]-F.best_parameters[p])/F.best_errors[p]"
     ],
     "language": "python",
     "metadata": {},
     "outputs": [
      {
       "output_type": "stream",
       "stream": "stdout",
       "text": [
        "asini_i 0.517917158598\n",
        "pb_i -23.2697401251\n",
        "eps1_i -0.0867122866332\n",
        "eps2_i -0.220651867135\n",
        "tasc_i -0.72573615609\n",
        "acosi_i -168.024705934\n",
        "q_i 2001.01096787\n",
        "asini_o -329.315341916\n",
        "pb_o 13.1567451529\n",
        "eps1_o 27.8242157603\n",
        "eps2_o 3.88123052027\n",
        "tasc_o 19.522305594\n",
        "acosi_o -15.9467489021\n",
        "delta_lan -1.98735919543\n",
        "d_RAJ 3.9513751833e-09\n",
        "d_DECJ 1.1787734586e-08\n",
        "d_PMRA -7.1415748125e-11\n",
        "d_PMDEC -2.24599552198e-10\n",
        "d_PX 3.14210508376\n",
        "j_AO1350 -0.201057237876\n",
        "j_AO1440 -0.233944211883\n",
        "j_AO327 -0.307928067862\n",
        "j_GBT1500 -0.102348571879\n",
        "j_GBT350 0.0265799467381\n",
        "j_GBT820 -0.43275410068\n",
        "j_WSRT350 0.00916273371531\n"
       ]
      }
     ],
     "prompt_number": 25
    },
    {
     "cell_type": "code",
     "collapsed": false,
     "input": [
      "M.best_values"
     ],
     "language": "python",
     "metadata": {},
     "outputs": [
      {
       "output_type": "pyout",
       "prompt_number": 35,
       "text": [
        "{'acosi_i': 1.4910067355605846241,\n",
        " 'acosi_o': 91.483321231514481531,\n",
        " 'asini_i': 1.217524313327316427,\n",
        " 'asini_o': 74.672498215253724815,\n",
        " 'd_DECJ': 1.5850057133766109003e-07,\n",
        " 'd_PX': -0.0057964004302968521326,\n",
        " 'd_RAJ': -3.5712416061404894357e-08,\n",
        " 'dbeta': -0.00043687718852679894752,\n",
        " 'delta': -3.1671884955755300661e-06,\n",
        " 'delta_lan': -1.5333801609433849105e-05,\n",
        " 'dgamma': 1.9010089536821112408e-06,\n",
        " 'eps1_i': 0.00069072434414566367085,\n",
        " 'eps1_o': 0.035185441458214066173,\n",
        " 'eps2_i': -9.1399367906461627915e-05,\n",
        " 'eps2_o': -0.003464864984479578323,\n",
        " 'j_AO1350': 5.4053048485294400165e-05,\n",
        " 'j_AO1440': 4.8976911818435227773e-05,\n",
        " 'j_AO327': 6.5164544836979817954e-05,\n",
        " 'j_GBT1500': 6.2353501712596322794e-05,\n",
        " 'j_GBT350': 1.8558947722522662211e-05,\n",
        " 'j_GBT820': 6.7984613121986739575e-05,\n",
        " 'j_WSRT350': -3.660025665461338598e-05,\n",
        " 'lan': 22.466892501023420184,\n",
        " 'pb_i': 1.6293866452261764758,\n",
        " 'pb_o': 327.2556528311661265,\n",
        " 'q_i': 0.13729545245477304646,\n",
        " 'tasc_i': 0.40771627287303960962,\n",
        " 'tasc_o': 313.93392390662118038}"
       ]
      }
     ],
     "prompt_number": 35
    },
    {
     "cell_type": "code",
     "collapsed": false,
     "input": [
      "mfun(*[M.best_values[p] for p in F.parameters])"
     ],
     "language": "python",
     "metadata": {},
     "outputs": [
      {
       "output_type": "pyout",
       "prompt_number": 18,
       "text": [
        "48799.270489809721724"
       ]
      }
     ],
     "prompt_number": 18
    },
    {
     "cell_type": "code",
     "collapsed": false,
     "input": [
      "if False:\n",
      "    import cPickle as pickle\n",
      "    with open(M.best_filename,\"wb\") as f:\n",
      "        pickle.dump(M.best_values, f)"
     ],
     "language": "python",
     "metadata": {},
     "outputs": [],
     "prompt_number": 52
    },
    {
     "cell_type": "code",
     "collapsed": false,
     "input": [
      "M._minuit.errors"
     ],
     "language": "python",
     "metadata": {},
     "outputs": [
      {
       "output_type": "pyout",
       "prompt_number": 27,
       "text": [
        "{'acosi_i': 139.02508867802638,\n",
        " 'acosi_o': 4.811539702192222,\n",
        " 'asini_i': 1.1529530438611666,\n",
        " 'asini_o': 2.915285523038148,\n",
        " 'd_DECJ': 1.225502795384472e-09,\n",
        " 'd_PMDEC': 8.453921569102159e-12,\n",
        " 'd_PMRA': 2.237152305747054e-12,\n",
        " 'd_PX': 0.06196154124695489,\n",
        " 'd_RAJ': 3.1350493915067363e-10,\n",
        " 'delta_lan': 1.3331647450553485,\n",
        " 'eps1_i': 1.0860166719552065,\n",
        " 'eps1_o': 2.631035143385638,\n",
        " 'eps2_i': 0.9770788974831299,\n",
        " 'eps2_o': 1.4920854102034453,\n",
        " 'j_AO1350': 1.0248932937893427,\n",
        " 'j_AO1440': 1.4758184359206294,\n",
        " 'j_AO327': 1.057290312427709,\n",
        " 'j_GBT1500': 1.3738788656191272,\n",
        " 'j_GBT350': 1.002940507375427,\n",
        " 'j_GBT820': 1.1348055511045556,\n",
        " 'j_WSRT350': 1.0994446580272799,\n",
        " 'pb_i': 1.5617758572929903,\n",
        " 'pb_o': 1.7666293216979356,\n",
        " 'q_i': 50.62593524208594,\n",
        " 'tasc_i': 1.0508357230570085,\n",
        " 'tasc_o': 2.7005499330031637}"
       ]
      }
     ],
     "prompt_number": 27
    },
    {
     "cell_type": "code",
     "collapsed": false,
     "input": [
      "new_walkers = np.load(\"emcee-chains/845.nimrod/new_walkers.npy\")\n",
      "new_walkers = new_walkers.reshape((-1,new_walkers.shape[-1]))\n",
      "new_walkers -= np.mean(new_walkers,axis=0)\n",
      "delta = new_walkers[np.random.randint(new_walkers.shape[0])]\n",
      "for (i,p) in enumerate(F.parameters):\n",
      "    M.values[p] = M.best_values[p] + delta[i]\n",
      "    M.errors[p] = F.best_errors[p]\n",
      "M.set_normalization() "
     ],
     "language": "python",
     "metadata": {},
     "outputs": [],
     "prompt_number": 14
    },
    {
     "cell_type": "code",
     "collapsed": false,
     "input": [],
     "language": "python",
     "metadata": {},
     "outputs": []
    }
   ],
   "metadata": {}
  }
 ]
}