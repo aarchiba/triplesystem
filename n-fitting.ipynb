{
 "metadata": {
  "name": ""
 },
 "nbformat": 3,
 "nbformat_minor": 0,
 "worksheets": [
  {
   "cells": [
    {
     "cell_type": "code",
     "collapsed": false,
     "input": [
      "%load_ext autoreload\n",
      "\n",
      "%autoreload 2"
     ],
     "language": "python",
     "metadata": {},
     "outputs": [],
     "prompt_number": 1
    },
    {
     "cell_type": "code",
     "collapsed": false,
     "input": [
      "from glob import glob\n",
      "import os\n",
      "import pickle\n",
      "\n",
      "import scipy.linalg\n",
      "\n",
      "import emcee\n",
      "\n",
      "import kepler\n",
      "import threebody\n",
      "\n",
      "import minuit_wrap"
     ],
     "language": "python",
     "metadata": {},
     "outputs": [],
     "prompt_number": 2
    },
    {
     "cell_type": "code",
     "collapsed": false,
     "input": [
      "import logging\n",
      "logger = logging.getLogger()\n",
      "\n",
      "logger.setLevel(logging.DEBUG)\n",
      "fh = logging.FileHandler(\"fitting.log\")\n",
      "formatter = logging.Formatter('%(asctime)s - %(module)s:%(funcName)s:%(lineno)s - %(message)s')\n",
      "fh.setFormatter(formatter)\n",
      "logger.addHandler(fh)\n"
     ],
     "language": "python",
     "metadata": {},
     "outputs": [],
     "prompt_number": 3
    },
    {
     "cell_type": "code",
     "collapsed": false,
     "input": [
      "# numpy binds itself to one CPU; unbind it\n",
      "#import os\n",
      "#os.system(\"taskset -p 0xff %d\" % os.getpid());"
     ],
     "language": "python",
     "metadata": {},
     "outputs": [],
     "prompt_number": 4
    },
    {
     "cell_type": "code",
     "collapsed": false,
     "input": [
      "#import matplotlib\n",
      "#matplotlib.rcParams['savefig.dpi'] = 120"
     ],
     "language": "python",
     "metadata": {},
     "outputs": [],
     "prompt_number": 5
    },
    {
     "cell_type": "code",
     "collapsed": false,
     "input": [
      "#F = threebody.Fitter(\"0337+17-scott-2013-06-06\",tzrmjd_middle='weighted',priors=['dbeta','dgamma'],ppn_mode='heavysimple')\n",
      "#F = threebody.Fitter(\"0337+17-scott-2013-06-06\",\n",
      "#    tzrmjd_middle='weighted',priors=['dbeta','dgamma'],\n",
      "#    use_quad=True,tol=1e-20,ppn_mode='heavysimple')\n",
      "#F = threebody.Fitter(\"0337+17-scott-2013-06-06\",tzrmjd_middle='weighted',\n",
      "#    only_tels=['AO1440','AO1350','GBT1500'],\n",
      "#    ppn_mode='heavysimple')\n",
      "#F = threebody.Fitter(\"0337+17-scott-2013-06-06\",tzrmjd_middle='weighted',\n",
      "#    only_tels=['WSRT1400'],\n",
      "#    ppn_mode='heavysimple')\n",
      "#F = threebody.Fitter(files=\"0337+17-scott-2013-08-29\",tzrmjd_middle='weighted',\n",
      "#                     parfile=\"0337_tempo2_nobinary.par\",\n",
      "#                     fit_pos=True,\n",
      "#                     ppn_mode='GR')\n",
      "#F = threebody.Fitter(files=\"0337+17-scott-2013-08-29\",tzrmjd_middle='auto',\n",
      "#                     parfile=\"0337_modified.par\",\n",
      "#                     fit_pos=True,\n",
      "#                     fit_pm=True,\n",
      "#                     fit_px=True,\n",
      "#                     t2_astrometry=True,\n",
      "#                     ppn_mode='GR')\n",
      "#F = threebody.Fitter(files=\"0337+17-scott-2013-08-29\",tzrmjd_middle='auto',\n",
      "#                     parfile=\"0337_modified.par\",\n",
      "#                     fit_pos=True,\n",
      "#                     fit_pm=True,\n",
      "#                     fit_px=True,\n",
      "#                     t2_astrometry=True,\n",
      "#                     kopeikin=True,\n",
      "#                     ppn_mode='heavysimple')\n",
      "if False:\n",
      "    fitter_params = dict(files=\"0337+17-scott-2013-08-29\",tzrmjd_middle='auto',\n",
      "                     parfile=\"0337_tempo2_pm.par\",\n",
      "                     fit_pos=True,\n",
      "                     fit_pm=False,\n",
      "                     fit_px=True,\n",
      "                     t2_astrometry=True,\n",
      "                     kopeikin=True,\n",
      "                     priors=('dbeta','dgamma'),\n",
      "                     ppn_mode='heavysimple')\n",
      "elif False:\n",
      "    fitter_params = dict(files=\"0337+17-scott-2013-08-29\",tzrmjd_middle='auto',\n",
      "                     parfile=\"0337_tempo2_pm.par\",\n",
      "                     fit_pos=True,\n",
      "                     fit_pm=False,\n",
      "                     fit_px=True,\n",
      "                     t2_astrometry=True,\n",
      "                     kopeikin=True,\n",
      "                     shapiro=False,\n",
      "                     priors=('dbeta','dgamma'),\n",
      "                     ppn_mode='heavysimple')\n",
      "elif False:\n",
      "    fitter_params = dict(files=\"0337+17-scott-2013-08-29\",tzrmjd_middle='auto',\n",
      "                     parfile=\"0337_tempo2_pm.par\",\n",
      "                     fit_pos=True,\n",
      "                     fit_pm=False,\n",
      "                     fit_px=True,\n",
      "                     t2_astrometry=True,\n",
      "                     kopeikin=True,\n",
      "                     general=False,\n",
      "                     priors=('dbeta','dgamma'),\n",
      "                     ppn_mode='heavysimple')\n",
      "elif False:\n",
      "    fitter_params = dict(files=\"0337+17-scott-2013-08-29\",tzrmjd_middle='auto',\n",
      "                     parfile=\"0337_tempo2_pm.par\",\n",
      "                     fit_pos=True,\n",
      "                     fit_pm=False,\n",
      "                     fit_px=True,\n",
      "                     t2_astrometry=True,\n",
      "                     kopeikin=True,\n",
      "                     ppn_mode=None)\n",
      "elif False:\n",
      "    fitter_params = dict(files=\"0337+17-scott-2013-08-29\",tzrmjd_middle='auto',\n",
      "                     parfile=\"0337_tempo2_px.par\",\n",
      "                     fit_pos=True,\n",
      "                     fit_pm=False,\n",
      "                     fit_px=True,\n",
      "                     t2_astrometry=True,\n",
      "                     kopeikin=True,\n",
      "                     ppn_mode='GR')\n",
      "elif False:\n",
      "    fitter_params = dict(files=\"0337+17-scott-2013-08-29\",tzrmjd_middle='auto',\n",
      "                     parfile=\"0337_tempo2_pm.par\",\n",
      "                     fit_pos=True,\n",
      "                     fit_pm=False,\n",
      "                     fit_px=True,\n",
      "                     t2_astrometry=True,\n",
      "                     kopeikin=True,\n",
      "                     ppn_mode='GR')\n",
      "elif False:\n",
      "    fitter_params = dict(files=\"0337+17-scott-2014-01-22\",\n",
      "                     tzrmjd_middle='auto',\n",
      "                     parfile=\"0337_tempo2_px_optical.par\",\n",
      "                     fit_pos=True,\n",
      "                     fit_pm=False,\n",
      "                     fit_px=False,\n",
      "                     t2_astrometry=True,\n",
      "                     kopeikin=True,\n",
      "                     ppn_mode='GR')\n",
      "elif False:\n",
      "    fitter_params = dict(files=\"0337+17-scott-2014-01-22\",\n",
      "                     tzrmjd_middle='auto',\n",
      "                     parfile=\"0337_tempo2_px_optical.par\",\n",
      "                     fit_pos=True,\n",
      "                     fit_pm=False,\n",
      "                     fit_px=False,\n",
      "                     t2_astrometry=True,\n",
      "                     kopeikin=False,\n",
      "                     ppn_mode='GR')\n",
      "elif False:\n",
      "    fitter_params = dict(files=\"0337+17-scott-2014-01-22\",\n",
      "                     tzrmjd_middle='auto',\n",
      "                     parfile=\"0337_tempo2_px_optical.par\",\n",
      "                     fit_pos=True,\n",
      "                     fit_pm=False,\n",
      "                     fit_px=False,\n",
      "                     t2_astrometry=True,\n",
      "                     kopeikin=False,\n",
      "                     priors=('dbeta','dgamma'),\n",
      "                     ppn_mode='heavysimple')\n",
      "elif False:\n",
      "    fitter_params = dict(files=\"0337+17-anne-2014-01-28\",\n",
      "                     tzrmjd_middle='auto',\n",
      "                     parfile=\"0337_tempo2_px_optical.par\",\n",
      "                     fit_pos=True,\n",
      "                     fit_pm=False,\n",
      "                     fit_px=False,\n",
      "                     t2_astrometry=True,\n",
      "                     kopeikin=False,\n",
      "                     priors=('dbeta','dgamma'),\n",
      "                     ppn_mode='heavysimple')\n",
      "elif False:\n",
      "    fitter_params = dict(files=\"0337+17-anne-2014-02-04c\",\n",
      "                     tzrmjd_middle='auto',\n",
      "                     parfile=\"0337_tempo2_px_optical.par\",\n",
      "                     fit_pos=True,\n",
      "                     fit_pm=False,\n",
      "                     fit_px=False,\n",
      "                     t2_astrometry=True,\n",
      "                     kopeikin=False,\n",
      "                     ppn_mode='GR')\n",
      "elif False:\n",
      "    fitter_params = dict(files=\"0337+17-anne-2014-02-04c\",\n",
      "                     tzrmjd_middle='auto',\n",
      "                     parfile=\"0337_tempo_px_optical.par\",\n",
      "                     fit_pos=False,\n",
      "                     fit_pm=False,\n",
      "                     fit_px=False,\n",
      "                     t2_astrometry=True,\n",
      "                     kopeikin=False,\n",
      "                     ppn_mode='GR')\n",
      "elif False:\n",
      "    fitter_params = dict(files=\"0337+17-anne-2014-09-22\",\n",
      "                     tzrmjd_middle='auto',\n",
      "                     parfile=\"0337_tempo_px_optical.par\",\n",
      "                     fit_pos=True,\n",
      "                     fit_pm=False,\n",
      "                     fit_px=False,\n",
      "                     t2_astrometry=True,\n",
      "                     kopeikin=False,\n",
      "                     ppn_mode='GR')\n",
      "elif True:\n",
      "    fitter_params = dict(files=\"0337+17-anne-2014-09-22\",\n",
      "                     tzrmjd_middle='auto',\n",
      "                     parfile=\"0337_tempo2_px_optical.par\",\n",
      "                     fit_pos=True,\n",
      "                     fit_pm=False,\n",
      "                     fit_px=False,\n",
      "                     t2_astrometry=True,\n",
      "                     kopeikin=False,\n",
      "                     priors=('dbeta','dgamma'),\n",
      "                     ppn_mode='heavysimple')\n",
      "elif False:\n",
      "    fitter_params = dict(files=\"0337+17-anne-2014-09-29\",\n",
      "                     tzrmjd_middle='auto',\n",
      "                     parfile=\"0337_tempo2_px_optical.par\",\n",
      "                     fit_pos=True,\n",
      "                     fit_pm=False,\n",
      "                     fit_px=False,\n",
      "                     t2_astrometry=True,\n",
      "                     kopeikin=False,\n",
      "                     priors=('dbeta','dgamma'),\n",
      "                     ppn_mode='heavysimple')\n",
      "elif False:\n",
      "    fitter_params = dict(files=\"0337+17-anne-2014-09-22\",\n",
      "                     tzrmjd_middle='auto',\n",
      "                     parfile=\"0337_tempo2_px_optical.par\",\n",
      "                     fit_pos=True,\n",
      "                     fit_pm=False,\n",
      "                     fit_px=False,\n",
      "                     t2_astrometry=True,\n",
      "                     kopeikin=False,\n",
      "                     only_tels=('GBT1500','WSRT1400'),\n",
      "                     priors=('dbeta','dgamma'),\n",
      "                     ppn_mode='heavysimple')\n",
      "else:\n",
      "    runid = \"7983\"\n",
      "    fitter_params = pickle.load(open(\"emcee-chains/%s.nimrod/fitter_params.pickle\" % runid))\n",
      "#F = threebody.Fitter(\"0337+17-scott-2013-06-06\",tzrmjd_middle='weighted',ppn_mode='GR')\n",
      "#F = threebody.Fitter(\"0337+17-scott-2013-06-06\",tzrmjd_middle='weighted',general=False,ppn_mode='GR')\n",
      "#F = threebody.Fitter(\"0337+17-scott-2013-06-06\",tzrmjd_middle=True)\n",
      "with open(\"fitter_params.pickle\",\"wb\") as f:\n",
      "    pickle.dump(fitter_params,f)\n",
      "F = threebody.Fitter(**fitter_params)"
     ],
     "language": "python",
     "metadata": {},
     "outputs": [],
     "prompt_number": 24
    },
    {
     "cell_type": "code",
     "collapsed": false,
     "input": [
      "F.tel_list, len(F.mjds)"
     ],
     "language": "python",
     "metadata": {},
     "outputs": [
      {
       "metadata": {},
       "output_type": "pyout",
       "prompt_number": 25,
       "text": [
        "(['AO1440', 'GBT1500', 'WSRT1400'], 34570)"
       ]
      }
     ],
     "prompt_number": 25
    },
    {
     "cell_type": "code",
     "collapsed": false,
     "input": [
      "print F.parameters\n",
      "print len(F.parameters)"
     ],
     "language": "python",
     "metadata": {},
     "outputs": [
      {
       "output_type": "stream",
       "stream": "stdout",
       "text": [
        "['asini_i', 'pb_i', 'eps1_i', 'eps2_i', 'tasc_i', 'acosi_i', 'q_i', 'asini_o', 'pb_o', 'eps1_o', 'eps2_o', 'tasc_o', 'acosi_o', 'delta_lan', 'delta', 'dgamma', 'dbeta', 'd_RAJ', 'd_DECJ', 'j_AO1440', 'j_GBT1500']\n",
        "21\n"
       ]
      }
     ],
     "prompt_number": 26
    },
    {
     "cell_type": "code",
     "collapsed": false,
     "input": [
      "F.best_parameters"
     ],
     "language": "python",
     "metadata": {},
     "outputs": [
      {
       "metadata": {},
       "output_type": "pyout",
       "prompt_number": 27,
       "text": [
        "{'acosi_i': 1.4917920737881377967,\n",
        " 'acosi_o': 91.515517821405981132,\n",
        " 'asini_i': 1.2175268187146886046,\n",
        " 'asini_o': 74.672709901274213484,\n",
        " 'd_DECJ': 3.8297379260835209625e-07,\n",
        " 'd_RAJ': -9.1473641598984196357e-08,\n",
        " 'dbeta': 3.137215781113322372e-05,\n",
        " 'delta': -2.4326288381809617149e-10,\n",
        " 'delta_lan': -5.4096316391090949558e-05,\n",
        " 'dgamma': -2.5854449182822343408e-07,\n",
        " 'eps1_i': 0.00068724728071223587401,\n",
        " 'eps1_o': 0.035186247652040840626,\n",
        " 'eps2_i': -9.1179836780626676656e-05,\n",
        " 'eps2_o': -0.003462135260726911092,\n",
        " 'f0': 365.95336878765835,\n",
        " 'j_AO1350': 5.364017648361716e-05,\n",
        " 'j_AO1440': -0.00055121663140921818248,\n",
        " 'j_AO327': 6.457616019511097e-05,\n",
        " 'j_GBT1500': -0.00053763724410558742536,\n",
        " 'j_GBT350': 1.8912917353649655e-05,\n",
        " 'j_GBT820': 6.712253154451129e-05,\n",
        " 'j_WSRT350': -3.6063906052781444e-05,\n",
        " 'pb_i': 1.6293969394546642386,\n",
        " 'pb_o': 327.2575252205244358,\n",
        " 'ppn_mode': 'heavysimple',\n",
        " 'q_i': 0.13746673219074406775,\n",
        " 'shapiro': True,\n",
        " 'tasc_i': 0.4077170163964780749,\n",
        " 'tasc_o': 313.93579191727065536,\n",
        " 'tol': 1e-16,\n",
        " 'use_quad': False}"
       ]
      }
     ],
     "prompt_number": 27
    },
    {
     "cell_type": "code",
     "collapsed": false,
     "input": [
      "if 'j_NCY1400' not in F.best_errors:\n",
      "    F.best_errors['j_NCY1400'] = F.best_errors['j_GBT1500']"
     ],
     "language": "python",
     "metadata": {},
     "outputs": [],
     "prompt_number": 28
    },
    {
     "cell_type": "code",
     "collapsed": false,
     "input": [
      "#for n in threebody.astro_names:\n",
      "#    F.best_parameters[n] = 0"
     ],
     "language": "python",
     "metadata": {},
     "outputs": [],
     "prompt_number": 29
    },
    {
     "cell_type": "code",
     "collapsed": false,
     "input": [
      "#F.best_parameters['d_PX'] = 0\n",
      "#F.best_parameters['pm_x'] = 0\n",
      "#F.best_parameters['pm_y'] = 0\n"
     ],
     "language": "python",
     "metadata": {},
     "outputs": [],
     "prompt_number": 30
    },
    {
     "cell_type": "code",
     "collapsed": false,
     "input": [
      "rload = F.residuals(F.best_parameters)\n",
      "for ti, t in enumerate(F.tel_list):\n",
      "    c = F.tels == ti\n",
      "    plt.plot(F.mjds[c], rload[c], \n",
      "             \".\", markersize=1, label=t)\n",
      "plt.legend(loc=\"best\")"
     ],
     "language": "python",
     "metadata": {},
     "outputs": [
      {
       "metadata": {},
       "output_type": "pyout",
       "prompt_number": 31,
       "text": [
        "<matplotlib.legend.Legend at 0x3afd710>"
       ]
      },
      {
       "metadata": {},
       "output_type": "display_data",
       "png": "[encoded data removed]",
       "text": [
        "<matplotlib.figure.Figure at 0x3afd610>"
       ]
      }
     ],
     "prompt_number": 31
    },
    {
     "cell_type": "code",
     "collapsed": false,
     "input": [
      "mfun = F.make_mfun()"
     ],
     "language": "python",
     "metadata": {},
     "outputs": [],
     "prompt_number": 32
    },
    {
     "cell_type": "code",
     "collapsed": false,
     "input": [
      "mfun(*[F.best_parameters[p] for p in F.parameters])"
     ],
     "language": "python",
     "metadata": {},
     "outputs": [
      {
       "metadata": {},
       "output_type": "pyout",
       "prompt_number": 33,
       "text": [
        "57475.754741383749881"
       ]
      }
     ],
     "prompt_number": 33
    },
    {
     "cell_type": "code",
     "collapsed": false,
     "input": [
      "M = minuit_wrap.Fitter(F.make_mfun())"
     ],
     "language": "python",
     "metadata": {},
     "outputs": [],
     "prompt_number": 34
    },
    {
     "cell_type": "code",
     "collapsed": false,
     "input": [
      "for p in F.parameters:\n",
      "    M.values[p] = F.best_parameters[p]\n",
      "    M.errors[p] = F.best_errors[p]\n",
      "M.set_normalization()"
     ],
     "language": "python",
     "metadata": {},
     "outputs": [],
     "prompt_number": 35
    },
    {
     "cell_type": "code",
     "collapsed": false,
     "input": [
      "if False:\n",
      "    for p in F.parameters:\n",
      "        if not p.startswith(\"j_\"):\n",
      "            M.fixed[p] = True\n"
     ],
     "language": "python",
     "metadata": {},
     "outputs": [],
     "prompt_number": 36
    },
    {
     "cell_type": "code",
     "collapsed": false,
     "input": [
      "if False:\n",
      "    for p in F.parameters:\n",
      "        M.fixed[p] = False"
     ],
     "language": "python",
     "metadata": {},
     "outputs": [],
     "prompt_number": 37
    },
    {
     "cell_type": "code",
     "collapsed": false,
     "input": [
      "M.best_filename = \"fitter_best_values.pickle\"\n",
      "M.tol = 100\n",
      "M.eps = 1e-6\n",
      "M.strategy = 1\n",
      "M.printMode = 3\n",
      "M.migrad()"
     ],
     "language": "python",
     "metadata": {},
     "outputs": [],
     "prompt_number": 38
    },
    {
     "cell_type": "code",
     "collapsed": false,
     "input": [
      "M.tol = 100\n",
      "M.eps = 1e-6\n",
      "M.strategy = 1\n",
      "M.printMode = 3\n",
      "M.simplex()"
     ],
     "language": "python",
     "metadata": {},
     "outputs": []
    },
    {
     "cell_type": "code",
     "collapsed": false,
     "input": [
      "for (i,p) in enumerate(F.parameters):\n",
      "    M.values[p] = M.best_values[p]\n",
      "    M.errors[p] = F.best_errors[p]\n",
      "M.set_normalization() "
     ],
     "language": "python",
     "metadata": {},
     "outputs": [],
     "prompt_number": 21
    },
    {
     "cell_type": "code",
     "collapsed": false,
     "input": [
      "best_so_far = np.load(\"emcee-chains/1045.nimrod/best_so_far.npy\")\n",
      "for (i,p) in enumerate(F.parameters):\n",
      "    M.values[p] = best_so_far[i]\n",
      "    M.errors[p] = F.best_errors[p]\n",
      "M.set_normalization()    "
     ],
     "language": "python",
     "metadata": {},
     "outputs": [],
     "prompt_number": 47
    },
    {
     "cell_type": "code",
     "collapsed": false,
     "input": [
      "M.tol = 100\n",
      "M.eps = 1e-6\n",
      "M.strategy = 1\n",
      "M.printMode = 3\n",
      "M.migrad()"
     ],
     "language": "python",
     "metadata": {},
     "outputs": [],
     "prompt_number": "*"
    },
    {
     "cell_type": "code",
     "collapsed": false,
     "input": [
      "for p in F.parameters:\n",
      "    print p, (M.best_values[p]-F.best_parameters[p])/F.best_errors[p]"
     ],
     "language": "python",
     "metadata": {},
     "outputs": [
      {
       "output_type": "stream",
       "stream": "stdout",
       "text": [
        "asini_i 0.517917158598\n",
        "pb_i -23.2697401251\n",
        "eps1_i -0.0867122866332\n",
        "eps2_i -0.220651867135\n",
        "tasc_i -0.72573615609\n",
        "acosi_i -168.024705934\n",
        "q_i 2001.01096787\n",
        "asini_o -329.315341916\n",
        "pb_o 13.1567451529\n",
        "eps1_o 27.8242157603\n",
        "eps2_o 3.88123052027\n",
        "tasc_o 19.522305594\n",
        "acosi_o -15.9467489021\n",
        "delta_lan -1.98735919543\n",
        "d_RAJ 3.9513751833e-09\n",
        "d_DECJ 1.1787734586e-08\n",
        "d_PMRA -7.1415748125e-11\n",
        "d_PMDEC -2.24599552198e-10\n",
        "d_PX 3.14210508376\n",
        "j_AO1350 -0.201057237876\n",
        "j_AO1440 -0.233944211883\n",
        "j_AO327 -0.307928067862\n",
        "j_GBT1500 -0.102348571879\n",
        "j_GBT350 0.0265799467381\n",
        "j_GBT820 -0.43275410068\n",
        "j_WSRT350 0.00916273371531\n"
       ]
      }
     ],
     "prompt_number": 25
    },
    {
     "cell_type": "code",
     "collapsed": false,
     "input": [
      "M.best_values"
     ],
     "language": "python",
     "metadata": {},
     "outputs": [
      {
       "output_type": "pyout",
       "prompt_number": 35,
       "text": [
        "{'acosi_i': 1.4910067355605846241,\n",
        " 'acosi_o': 91.483321231514481531,\n",
        " 'asini_i': 1.217524313327316427,\n",
        " 'asini_o': 74.672498215253724815,\n",
        " 'd_DECJ': 1.5850057133766109003e-07,\n",
        " 'd_PX': -0.0057964004302968521326,\n",
        " 'd_RAJ': -3.5712416061404894357e-08,\n",
        " 'dbeta': -0.00043687718852679894752,\n",
        " 'delta': -3.1671884955755300661e-06,\n",
        " 'delta_lan': -1.5333801609433849105e-05,\n",
        " 'dgamma': 1.9010089536821112408e-06,\n",
        " 'eps1_i': 0.00069072434414566367085,\n",
        " 'eps1_o': 0.035185441458214066173,\n",
        " 'eps2_i': -9.1399367906461627915e-05,\n",
        " 'eps2_o': -0.003464864984479578323,\n",
        " 'j_AO1350': 5.4053048485294400165e-05,\n",
        " 'j_AO1440': 4.8976911818435227773e-05,\n",
        " 'j_AO327': 6.5164544836979817954e-05,\n",
        " 'j_GBT1500': 6.2353501712596322794e-05,\n",
        " 'j_GBT350': 1.8558947722522662211e-05,\n",
        " 'j_GBT820': 6.7984613121986739575e-05,\n",
        " 'j_WSRT350': -3.660025665461338598e-05,\n",
        " 'lan': 22.466892501023420184,\n",
        " 'pb_i': 1.6293866452261764758,\n",
        " 'pb_o': 327.2556528311661265,\n",
        " 'q_i': 0.13729545245477304646,\n",
        " 'tasc_i': 0.40771627287303960962,\n",
        " 'tasc_o': 313.93392390662118038}"
       ]
      }
     ],
     "prompt_number": 35
    },
    {
     "cell_type": "code",
     "collapsed": false,
     "input": [
      "mfun(*[M.best_values[p] for p in F.parameters])"
     ],
     "language": "python",
     "metadata": {},
     "outputs": [
      {
       "output_type": "pyout",
       "prompt_number": 18,
       "text": [
        "48799.270489809721724"
       ]
      }
     ],
     "prompt_number": 18
    },
    {
     "cell_type": "code",
     "collapsed": false,
     "input": [
      "if False:\n",
      "    import cPickle as pickle\n",
      "    with open(M.best_filename,\"wb\") as f:\n",
      "        pickle.dump(M.best_values, f)"
     ],
     "language": "python",
     "metadata": {},
     "outputs": [],
     "prompt_number": 52
    },
    {
     "cell_type": "code",
     "collapsed": false,
     "input": [
      "M._minuit.errors"
     ],
     "language": "python",
     "metadata": {},
     "outputs": [
      {
       "output_type": "pyout",
       "prompt_number": 27,
       "text": [
        "{'acosi_i': 139.02508867802638,\n",
        " 'acosi_o': 4.811539702192222,\n",
        " 'asini_i': 1.1529530438611666,\n",
        " 'asini_o': 2.915285523038148,\n",
        " 'd_DECJ': 1.225502795384472e-09,\n",
        " 'd_PMDEC': 8.453921569102159e-12,\n",
        " 'd_PMRA': 2.237152305747054e-12,\n",
        " 'd_PX': 0.06196154124695489,\n",
        " 'd_RAJ': 3.1350493915067363e-10,\n",
        " 'delta_lan': 1.3331647450553485,\n",
        " 'eps1_i': 1.0860166719552065,\n",
        " 'eps1_o': 2.631035143385638,\n",
        " 'eps2_i': 0.9770788974831299,\n",
        " 'eps2_o': 1.4920854102034453,\n",
        " 'j_AO1350': 1.0248932937893427,\n",
        " 'j_AO1440': 1.4758184359206294,\n",
        " 'j_AO327': 1.057290312427709,\n",
        " 'j_GBT1500': 1.3738788656191272,\n",
        " 'j_GBT350': 1.002940507375427,\n",
        " 'j_GBT820': 1.1348055511045556,\n",
        " 'j_WSRT350': 1.0994446580272799,\n",
        " 'pb_i': 1.5617758572929903,\n",
        " 'pb_o': 1.7666293216979356,\n",
        " 'q_i': 50.62593524208594,\n",
        " 'tasc_i': 1.0508357230570085,\n",
        " 'tasc_o': 2.7005499330031637}"
       ]
      }
     ],
     "prompt_number": 27
    },
    {
     "cell_type": "code",
     "collapsed": false,
     "input": [
      "new_walkers = np.load(\"emcee-chains/845.nimrod/new_walkers.npy\")\n",
      "new_walkers = new_walkers.reshape((-1,new_walkers.shape[-1]))\n",
      "new_walkers -= np.mean(new_walkers,axis=0)\n",
      "delta = new_walkers[np.random.randint(new_walkers.shape[0])]\n",
      "for (i,p) in enumerate(F.parameters):\n",
      "    M.values[p] = M.best_values[p] + delta[i]\n",
      "    M.errors[p] = F.best_errors[p]\n",
      "M.set_normalization() "
     ],
     "language": "python",
     "metadata": {},
     "outputs": [],
     "prompt_number": 14
    },
    {
     "cell_type": "code",
     "collapsed": false,
     "input": [],
     "language": "python",
     "metadata": {},
     "outputs": []
    }
   ],
   "metadata": {}
  }
 ]
}