{
 "metadata": {
  "name": "n-fitting"
 },
 "nbformat": 3,
 "nbformat_minor": 0,
 "worksheets": [
  {
   "cells": [
    {
     "cell_type": "code",
     "collapsed": false,
     "input": [
      "%load_ext autoreload\n",
      "\n",
      "%autoreload 2"
     ],
     "language": "python",
     "metadata": {},
     "outputs": [],
     "prompt_number": 1
    },
    {
     "cell_type": "code",
     "collapsed": false,
     "input": [
      "from glob import glob\n",
      "import os\n",
      "\n",
      "import scipy.linalg\n",
      "\n",
      "import emcee\n",
      "\n",
      "import kepler\n",
      "import threebody\n",
      "\n",
      "import minuit_wrap"
     ],
     "language": "python",
     "metadata": {},
     "outputs": [],
     "prompt_number": 2
    },
    {
     "cell_type": "code",
     "collapsed": false,
     "input": [
      "# numpy binds itself to one CPU; unbind it\n",
      "#import os\n",
      "#os.system(\"taskset -p 0xff %d\" % os.getpid());"
     ],
     "language": "python",
     "metadata": {},
     "outputs": [],
     "prompt_number": 3
    },
    {
     "cell_type": "code",
     "collapsed": false,
     "input": [
      "#import matplotlib\n",
      "#matplotlib.rcParams['savefig.dpi'] = 120"
     ],
     "language": "python",
     "metadata": {},
     "outputs": [],
     "prompt_number": 4
    },
    {
     "cell_type": "code",
     "collapsed": false,
     "input": [
      "F = threebody.Fitter(\"0337+17-scott-2013-06-06\",tzrmjd_middle='weighted',ppn_mode='GR')"
     ],
     "language": "python",
     "metadata": {},
     "outputs": [],
     "prompt_number": 5
    },
    {
     "cell_type": "code",
     "collapsed": false,
     "input": [
      "F.parameters"
     ],
     "language": "python",
     "metadata": {},
     "outputs": [
      {
       "output_type": "pyout",
       "prompt_number": 6,
       "text": [
        "['asini_i',\n",
        " 'pb_i',\n",
        " 'eps1_i',\n",
        " 'eps2_i',\n",
        " 'tasc_i',\n",
        " 'acosi_i',\n",
        " 'q_i',\n",
        " 'asini_o',\n",
        " 'pb_o',\n",
        " 'eps1_o',\n",
        " 'eps2_o',\n",
        " 'tasc_o',\n",
        " 'acosi_o',\n",
        " 'delta_lan',\n",
        " 'tzrmjd',\n",
        " 'f0',\n",
        " 'f1',\n",
        " 'j_AO1350',\n",
        " 'j_AO1440',\n",
        " 'j_AO327',\n",
        " 'j_GBT1500',\n",
        " 'j_GBT350',\n",
        " 'j_GBT820',\n",
        " 'j_WSRT350']"
       ]
      }
     ],
     "prompt_number": 6
    },
    {
     "cell_type": "code",
     "collapsed": false,
     "input": [
      "M = minuit_wrap.Fitter(F.mfun)"
     ],
     "language": "python",
     "metadata": {},
     "outputs": [],
     "prompt_number": 7
    },
    {
     "cell_type": "code",
     "collapsed": false,
     "input": [
      "for p in F.parameters:\n",
      "    M.values[p] = F.best_parameters[p]\n",
      "    M.errors[p] = F.best_errors[p]\n",
      "M.set_normalization()"
     ],
     "language": "python",
     "metadata": {},
     "outputs": [],
     "prompt_number": 8
    },
    {
     "cell_type": "code",
     "collapsed": false,
     "input": [
      "for p in F.parameters:\n",
      "    M.fixed[p] = True\n",
      "M.fixed['tzrmjd'] = False"
     ],
     "language": "python",
     "metadata": {},
     "outputs": [],
     "prompt_number": 9
    },
    {
     "cell_type": "code",
     "collapsed": false,
     "input": [
      "for p in F.parameters:\n",
      "    M.fixed[p] = False"
     ],
     "language": "python",
     "metadata": {},
     "outputs": [],
     "prompt_number": 11
    },
    {
     "cell_type": "code",
     "collapsed": false,
     "input": [
      "M.tol = 100\n",
      "M.eps = 1e-6\n",
      "M.strategy = 2\n",
      "M.printMode = 3\n",
      "M.migrad()"
     ],
     "language": "python",
     "metadata": {},
     "outputs": [],
     "prompt_number": "*"
    },
    {
     "cell_type": "code",
     "collapsed": false,
     "input": [
      "M.tol = 100\n",
      "M.eps = 1e-6\n",
      "M.strategy = 1\n",
      "M.printMode = 3\n",
      "M.simplex()"
     ],
     "language": "python",
     "metadata": {},
     "outputs": [],
     "prompt_number": 14
    },
    {
     "cell_type": "code",
     "collapsed": false,
     "input": [
      "for (i,p) in enumerate(F.parameters):\n",
      "    M.values[p] = M.best_values[p]\n",
      "    M.errors[p] = F.best_errors[p]\n",
      "M.set_normalization() "
     ],
     "language": "python",
     "metadata": {},
     "outputs": [],
     "prompt_number": 15
    },
    {
     "cell_type": "code",
     "collapsed": false,
     "input": [
      "best_so_far = np.load(\"emcee-chains/884.nimrod/best_so_far.npy\")\n",
      "for (i,p) in enumerate(F.parameters):\n",
      "    M.values[p] = best_so_far[i]\n",
      "    M.errors[p] = F.best_errors[p]\n",
      "M.set_normalization()    "
     ],
     "language": "python",
     "metadata": {},
     "outputs": [],
     "prompt_number": 9
    },
    {
     "cell_type": "code",
     "collapsed": false,
     "input": [
      "M.tol = 100\n",
      "M.eps = 1e-6\n",
      "M.strategy = 1\n",
      "M.printMode = 3\n",
      "M.migrad()"
     ],
     "language": "python",
     "metadata": {},
     "outputs": [],
     "prompt_number": 81
    },
    {
     "cell_type": "code",
     "collapsed": false,
     "input": [
      "for p in F.parameters:\n",
      "    print p, (M.best_values[p]-F.best_parameters[p])/F.best_errors[p]"
     ],
     "language": "python",
     "metadata": {},
     "outputs": [
      {
       "output_type": "stream",
       "stream": "stdout",
       "text": [
        "asini_i -2.03718005632\n",
        "pb_i -278.290237746\n",
        "eps1_i 0.5842600386\n",
        "eps2_i -1.83678733823\n",
        "tasc_i -6.61249848387\n",
        "acosi_i 5566.71388061\n",
        "q_i 13693.1373976\n",
        "asini_o 47.3240716982\n",
        "pb_o 275.432073833\n",
        "eps1_o 39.6561360803\n",
        "eps2_o 98.7408801999\n",
        "tasc_o 590.660848807\n",
        "acosi_o 160.870216062\n",
        "delta_lan 0.58894027321\n",
        "tzrmjd 7296.86644508\n",
        "f0 4928.4116324\n",
        "f1 -3.16615969059\n",
        "j_AO1350 682.346199538\n",
        "j_AO1440 684.562781969\n",
        "j_AO327 183.202870553\n",
        "j_GBT1500 639.046084529\n",
        "j_GBT350 72.9316694161\n",
        "j_GBT820 248.101243203\n",
        "j_WSRT350 538.774318349\n"
       ]
      }
     ],
     "prompt_number": 37
    },
    {
     "cell_type": "code",
     "collapsed": false,
     "input": [
      "M.best_values"
     ],
     "language": "python",
     "metadata": {},
     "outputs": [
      {
       "output_type": "pyout",
       "prompt_number": 11,
       "text": [
        "{'acosi_i': 1.4901030967375510719,\n",
        " 'acosi_o': 91.404576971516813065,\n",
        " 'asini_i': 1.2175265855988132598,\n",
        " 'asini_o': 74.672701347664255593,\n",
        " 'delta_lan': 4.4301423835961980434e-05,\n",
        " 'eps1_i': 0.00068720390971564635379,\n",
        " 'eps1_o': 0.035186254399129720146,\n",
        " 'eps2_i': -9.2091753419594045115e-05,\n",
        " 'eps2_o': -0.0034621771473608687653,\n",
        " 'f0': 365.95336876913063498,\n",
        " 'f1': -2.3671254865566901149e-15,\n",
        " 'j_AO1350': 5.3185599380177846881e-05,\n",
        " 'j_AO1440': 4.9318510611301893706e-05,\n",
        " 'j_AO327': 6.4728773533524038381e-05,\n",
        " 'j_GBT1500': 6.2578922197013576212e-05,\n",
        " 'j_GBT350': 1.8857498061175077805e-05,\n",
        " 'j_GBT820': 6.6997790068967559975e-05,\n",
        " 'j_WSRT350': -3.6107393277047654665e-05,\n",
        " 'pb_i': 1.6293969144593854897,\n",
        " 'pb_o': 327.2574963302058059,\n",
        " 'q_i': 0.1373907308547224033,\n",
        " 'tasc_i': 0.4075188737840608819,\n",
        " 'tasc_o': 313.93557293857620763,\n",
        " 'tzrmjd': 0.00073697113297647244393}"
       ]
      }
     ],
     "prompt_number": 11
    },
    {
     "cell_type": "code",
     "collapsed": false,
     "input": [
      "new_walkers = np.load(\"emcee-chains/845.nimrod/new_walkers.npy\")\n",
      "new_walkers = new_walkers.reshape((-1,new_walkers.shape[-1]))\n",
      "new_walkers -= np.mean(new_walkers,axis=0)\n",
      "delta = new_walkers[np.random.randint(new_walkers.shape[0])]\n",
      "for (i,p) in enumerate(F.parameters):\n",
      "    M.values[p] = M.best_values[p] + delta[i]\n",
      "    M.errors[p] = F.best_errors[p]\n",
      "M.set_normalization() "
     ],
     "language": "python",
     "metadata": {},
     "outputs": [],
     "prompt_number": 14
    },
    {
     "cell_type": "code",
     "collapsed": false,
     "input": [],
     "language": "python",
     "metadata": {},
     "outputs": []
    }
   ],
   "metadata": {}
  }
 ]
}