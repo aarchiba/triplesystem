{
 "metadata": {
  "name": "kepler_derivs"
 },
 "nbformat": 3,
 "nbformat_minor": 0,
 "worksheets": [
  {
   "cells": [
    {
     "cell_type": "code",
     "collapsed": false,
     "input": [
      "%load_ext sympyprinting\n",
      "\n",
      "import sympy\n",
      "from sympy import *"
     ],
     "language": "python",
     "metadata": {},
     "outputs": [],
     "prompt_number": 1
    },
    {
     "cell_type": "code",
     "collapsed": false,
     "input": [
      "M = Symbol('M')\n",
      "E = Symbol('E')\n",
      "e = Symbol('e')\n",
      "ell1 = Symbol('ell1')\n",
      "ell2 = Symbol('ell2')\n"
     ],
     "language": "python",
     "metadata": {},
     "outputs": [],
     "prompt_number": 2
    },
    {
     "cell_type": "code",
     "collapsed": false,
     "input": [
      "ke = E-e*sin(E)-M\n",
      "\n",
      "ke"
     ],
     "language": "python",
     "metadata": {},
     "outputs": [
      {
       "latex": [
        "$$E - M - e \\operatorname{sin}\\left(E\\right)$$"
       ],
       "output_type": "pyout",
       "png": "[encoded data removed]",
       "prompt_number": 4,
       "text": [
        "E - M - e\u22c5sin(E)"
       ]
      }
     ],
     "prompt_number": 4
    },
    {
     "cell_type": "code",
     "collapsed": false,
     "input": [
      "diff(ke,E), diff(ke,M), diff(ke, e)"
     ],
     "language": "python",
     "metadata": {},
     "outputs": [
      {
       "latex": [
        "$$\\begin{pmatrix}- e \\operatorname{cos}\\left(E\\right) + 1, & -1, & - \\operatorname{sin}\\left(E\\right)\\end{pmatrix}$$"
       ],
       "output_type": "pyout",
       "prompt_number": 5,
       "text": [
        "(-e\u22c5cos(E) + 1, -1, -sin(E))"
       ]
      }
     ],
     "prompt_number": 5
    },
    {
     "cell_type": "code",
     "collapsed": false,
     "input": [
      "diff(sqrt(M**2+E**2),M)"
     ],
     "language": "python",
     "metadata": {},
     "outputs": [
      {
       "latex": [
        "$$\\frac{M}{\\sqrt{E^{2} + M^{2}}}$$"
       ],
       "output_type": "pyout",
       "png": "[encoded data removed]",
       "prompt_number": 6,
       "text": [
        "\n",
        "     M      \n",
        "\u2500\u2500\u2500\u2500\u2500\u2500\u2500\u2500\u2500\u2500\u2500\u2500\n",
        "   \u23bd\u23bd\u23bd\u23bd\u23bd\u23bd\u23bd\u23bd\u23bd\n",
        "  \u2571  2    2 \n",
        "\u2572\u2571  E  + M  "
       ]
      }
     ],
     "prompt_number": 6
    },
    {
     "cell_type": "code",
     "collapsed": false,
     "input": [
      "class kesolve(Function):\n",
      "    nargs = 2\n",
      "    @classmethod\n",
      "    def eval(cls, e, E):\n",
      "        return None\n",
      "    def fdiff(self, argindex=1):\n",
      "        if argindex==1:\n",
      "            pass"
     ],
     "language": "python",
     "metadata": {},
     "outputs": [],
     "prompt_number": 7
    },
    {
     "cell_type": "code",
     "collapsed": false,
     "input": [
      "diff(atan2(ell2,ell1), ell1), diff(atan2(ell2,ell1), ell2)"
     ],
     "language": "python",
     "metadata": {},
     "outputs": [
      {
       "latex": [
        "$$\\begin{pmatrix}- \\frac{\\ell_{2}}{\\ell_{1}^{2} + \\ell_{2}^{2}}, & \\frac{\\ell_{1}}{\\ell_{1}^{2} + \\ell_{2}^{2}}\\end{pmatrix}$$"
       ],
       "output_type": "pyout",
       "prompt_number": 8,
       "text": [
        "(\n",
        "    -ell\u2082    \n",
        "\u2500\u2500\u2500\u2500\u2500\u2500\u2500\u2500\u2500\u2500\u2500\u2500\u2500\n",
        "    2       2\n",
        "ell\u2081  + ell\u2082 ,\n",
        " \n",
        "     ell\u2081    \n",
        "\u2500\u2500\u2500\u2500\u2500\u2500\u2500\u2500\u2500\u2500\u2500\u2500\u2500\n",
        "    2       2\n",
        "ell\u2081  + ell\u2082 )"
       ]
      }
     ],
     "prompt_number": 8
    },
    {
     "cell_type": "code",
     "collapsed": false,
     "input": [
      "-diff(ke,e)/diff(ke,E)"
     ],
     "language": "python",
     "metadata": {},
     "outputs": [
      {
       "latex": [
        "$$\\frac{\\operatorname{sin}\\left(E\\right)}{- e \\operatorname{cos}\\left(E\\right) + 1}$$"
       ],
       "output_type": "pyout",
       "png": "[encoded data removed]",
       "prompt_number": 9,
       "text": [
        "\n",
        "    sin(E)   \n",
        "\u2500\u2500\u2500\u2500\u2500\u2500\u2500\u2500\u2500\u2500\u2500\u2500\u2500\n",
        "-e\u22c5cos(E) + 1"
       ]
      }
     ],
     "prompt_number": 9
    },
    {
     "cell_type": "code",
     "collapsed": false,
     "input": [
      "Eprime = -diff(ke,M)/diff(ke,E)\n",
      "Eprime"
     ],
     "language": "python",
     "metadata": {},
     "outputs": [
      {
       "latex": [
        "$$\\frac{1}{- e \\operatorname{cos}\\left(E\\right) + 1}$$"
       ],
       "output_type": "pyout",
       "png": "[encoded data removed]",
       "prompt_number": 10,
       "text": [
        "\n",
        "      1      \n",
        "\u2500\u2500\u2500\u2500\u2500\u2500\u2500\u2500\u2500\u2500\u2500\u2500\u2500\n",
        "-e\u22c5cos(E) + 1"
       ]
      }
     ],
     "prompt_number": 10
    },
    {
     "cell_type": "code",
     "collapsed": false,
     "input": [
      "diff(Eprime, E)"
     ],
     "language": "python",
     "metadata": {},
     "outputs": [
      {
       "latex": [
        "$$- \\frac{e \\operatorname{sin}\\left(E\\right)}{\\left(- e \\operatorname{cos}\\left(E\\right) + 1\\right)^{2}}$$"
       ],
       "output_type": "pyout",
       "png": "[encoded data removed]",
       "prompt_number": 11,
       "text": [
        "\n",
        "   -e\u22c5sin(E)    \n",
        "\u2500\u2500\u2500\u2500\u2500\u2500\u2500\u2500\u2500\u2500\u2500\u2500\u2500\u2500\u2500\u2500\n",
        "               2\n",
        "(-e\u22c5cos(E) + 1) "
       ]
      }
     ],
     "prompt_number": 11
    },
    {
     "cell_type": "code",
     "collapsed": false,
     "input": [
      "diff(Eprime, e)"
     ],
     "language": "python",
     "metadata": {},
     "outputs": [
      {
       "latex": [
        "$$\\frac{\\operatorname{cos}\\left(E\\right)}{\\left(- e \\operatorname{cos}\\left(E\\right) + 1\\right)^{2}}$$"
       ],
       "output_type": "pyout",
       "png": "[encoded data removed]",
       "prompt_number": 12,
       "text": [
        "\n",
        "     cos(E)     \n",
        "\u2500\u2500\u2500\u2500\u2500\u2500\u2500\u2500\u2500\u2500\u2500\u2500\u2500\u2500\u2500\u2500\n",
        "               2\n",
        "(-e\u22c5cos(E) + 1) "
       ]
      }
     ],
     "prompt_number": 12
    },
    {
     "cell_type": "code",
     "collapsed": false,
     "input": [
      "var('x:z')"
     ],
     "language": "python",
     "metadata": {},
     "outputs": [
      {
       "latex": [
        "$$\\begin{pmatrix}x, & y, & z\\end{pmatrix}$$"
       ],
       "output_type": "pyout",
       "prompt_number": 13,
       "text": [
        "(x, y, z)"
       ]
      }
     ],
     "prompt_number": 13
    },
    {
     "cell_type": "code",
     "collapsed": false,
     "input": [
      "f = Function('f')"
     ],
     "language": "python",
     "metadata": {},
     "outputs": [],
     "prompt_number": 14
    },
    {
     "cell_type": "code",
     "collapsed": false,
     "input": [
      "exp = y-f(x)\n",
      "-diff(exp,x)/diff(exp,y)"
     ],
     "language": "python",
     "metadata": {},
     "outputs": [
      {
       "latex": [
        "$$\\frac{\\partial}{\\partial x} \\operatorname{f}\\left(x\\right)$$"
       ],
       "output_type": "pyout",
       "png": "[encoded data removed]",
       "prompt_number": 15,
       "text": [
        "\n",
        "d       \n",
        "\u2500\u2500(f(x))\n",
        "dx      "
       ]
      }
     ],
     "prompt_number": 15
    },
    {
     "cell_type": "code",
     "collapsed": false,
     "input": [
      "theta = 2*atan2(sqrt(1+e)*sin(E/2),sqrt(1-e)*cos(E/2))\n",
      "theta"
     ],
     "language": "python",
     "metadata": {},
     "outputs": [
      {
       "latex": [
        "$$2 \\operatorname{atan2}\\left(\\sqrt{e + 1} \\operatorname{sin}\\left(\\frac{1}{2} E\\right),\\sqrt{- e + 1} \\operatorname{cos}\\left(\\frac{1}{2} E\\right)\\right)$$"
       ],
       "output_type": "pyout",
       "png": "[encoded data removed]",
       "prompt_number": 16,
       "text": [
        "\n",
        "       \u239b  \u23bd\u23bd\u23bd\u23bd\u23bd\u23bd\u23bd    \u239bE\u239e    \u23bd\u23bd\u23bd\u23bd\u23bd\u23bd\u23bd\u23bd    \u239bE\u239e\u239e\n",
        "2\u22c5atan\u2082\u239c\u2572\u2571 e + 1 \u22c5sin\u239c\u2500\u239f, \u2572\u2571 -e + 1 \u22c5cos\u239c\u2500\u239f\u239f\n",
        "       \u239d             \u239d2\u23a0                \u239d2\u23a0\u23a0"
       ]
      }
     ],
     "prompt_number": 16
    },
    {
     "cell_type": "code",
     "collapsed": false,
     "input": [
      "together(diff(theta,e))"
     ],
     "language": "python",
     "metadata": {},
     "outputs": [
      {
       "latex": [
        "$$2 \\frac{\\operatorname{sin}\\left(\\frac{1}{2} E\\right) \\operatorname{cos}\\left(\\frac{1}{2} E\\right)}{\\sqrt{- e + 1} \\sqrt{e + 1} \\left(\\left(- e + 1\\right) \\operatorname{cos}^{2}\\left(\\frac{1}{2} E\\right) + \\left(e + 1\\right) \\operatorname{sin}^{2}\\left(\\frac{1}{2} E\\right)\\right)}$$"
       ],
       "output_type": "pyout",
       "png": "[encoded data removed]",
       "prompt_number": 17,
       "text": [
        "\n",
        "                          \u239bE\u239e    \u239bE\u239e                     \n",
        "                     2\u22c5sin\u239c\u2500\u239f\u22c5cos\u239c\u2500\u239f                     \n",
        "                          \u239d2\u23a0    \u239d2\u23a0                     \n",
        "\u2500\u2500\u2500\u2500\u2500\u2500\u2500\u2500\u2500\u2500\u2500\u2500\u2500\u2500\u2500\u2500\u2500\u2500\u2500\u2500\u2500\u2500\u2500\u2500\u2500\u2500\u2500\u2500\u2500\u2500\u2500\u2500\u2500\u2500\u2500\u2500\u2500\u2500\u2500\u2500\u2500\u2500\u2500\u2500\u2500\u2500\u2500\u2500\u2500\u2500\u2500\u2500\u2500\u2500\u2500\u2500\u2500\n",
        "                     \u239b            2                 2   \u239e\n",
        "  \u23bd\u23bd\u23bd\u23bd\u23bd\u23bd\u23bd\u23bd   \u23bd\u23bd\u23bd\u23bd\u23bd\u23bd\u23bd \u239c             \u239bE\u239e               \u239bE\u239e\u239f\n",
        "\u2572\u2571 -e + 1 \u22c5\u2572\u2571 e + 1 \u22c5\u239c(-e + 1)\u22c5cos \u239c\u2500\u239f + (e + 1)\u22c5sin \u239c\u2500\u239f\u239f\n",
        "                     \u239d             \u239d2\u23a0               \u239d2\u23a0\u23a0"
       ]
      }
     ],
     "prompt_number": 17
    },
    {
     "cell_type": "code",
     "collapsed": false,
     "input": [
      "together(diff(theta, E))"
     ],
     "language": "python",
     "metadata": {},
     "outputs": [
      {
       "latex": [
        "$$\\frac{\\sqrt{- e + 1} \\sqrt{e + 1} \\left(\\operatorname{sin}^{2}\\left(\\frac{1}{2} E\\right) + \\operatorname{cos}^{2}\\left(\\frac{1}{2} E\\right)\\right)}{\\left(- e + 1\\right) \\operatorname{cos}^{2}\\left(\\frac{1}{2} E\\right) + \\left(e + 1\\right) \\operatorname{sin}^{2}\\left(\\frac{1}{2} E\\right)}$$"
       ],
       "output_type": "pyout",
       "png": "[encoded data removed]",
       "prompt_number": 18,
       "text": [
        "\n",
        "                     \u239b   2         2   \u239e\n",
        "  \u23bd\u23bd\u23bd\u23bd\u23bd\u23bd\u23bd\u23bd   \u23bd\u23bd\u23bd\u23bd\u23bd\u23bd\u23bd \u239c    \u239bE\u239e       \u239bE\u239e\u239f\n",
        "\u2572\u2571 -e + 1 \u22c5\u2572\u2571 e + 1 \u22c5\u239csin \u239c\u2500\u239f + cos \u239c\u2500\u239f\u239f\n",
        "                     \u239d    \u239d2\u23a0       \u239d2\u23a0\u23a0\n",
        "\u2500\u2500\u2500\u2500\u2500\u2500\u2500\u2500\u2500\u2500\u2500\u2500\u2500\u2500\u2500\u2500\u2500\u2500\u2500\u2500\u2500\u2500\u2500\u2500\u2500\u2500\u2500\u2500\u2500\u2500\u2500\u2500\u2500\u2500\u2500\u2500\u2500\u2500\u2500\u2500\n",
        "               2                 2      \n",
        "                \u239bE\u239e               \u239bE\u239e   \n",
        "   (-e + 1)\u22c5cos \u239c\u2500\u239f + (e + 1)\u22c5sin \u239c\u2500\u239f   \n",
        "                \u239d2\u23a0               \u239d2\u23a0   "
       ]
      }
     ],
     "prompt_number": 18
    },
    {
     "cell_type": "code",
     "collapsed": false,
     "input": [
      "thetaprime = sqrt(1-e**2)/(1-e*cos(E))\n",
      "thetaprime"
     ],
     "language": "python",
     "metadata": {},
     "outputs": [
      {
       "latex": [
        "$$\\frac{\\sqrt{- e^{2} + 1}}{- e \\operatorname{cos}\\left(E\\right) + 1}$$"
       ],
       "output_type": "pyout",
       "png": "[encoded data removed]",
       "prompt_number": 19,
       "text": [
        "\n",
        "   \u23bd\u23bd\u23bd\u23bd\u23bd\u23bd\u23bd\u23bd\u23bd\u23bd\n",
        "  \u2571    2     \n",
        "\u2572\u2571  - e  + 1 \n",
        "\u2500\u2500\u2500\u2500\u2500\u2500\u2500\u2500\u2500\u2500\u2500\u2500\u2500\n",
        "-e\u22c5cos(E) + 1"
       ]
      }
     ],
     "prompt_number": 19
    },
    {
     "cell_type": "code",
     "collapsed": false,
     "input": [
      "simplify(diff(thetaprime, e))"
     ],
     "language": "python",
     "metadata": {},
     "outputs": [
      {
       "latex": [
        "$$\\frac{- e + \\operatorname{cos}\\left(E\\right)}{\\sqrt{- e^{2} + 1} \\left(e^{2} \\operatorname{cos}^{2}\\left(E\\right) - 2 e \\operatorname{cos}\\left(E\\right) + 1\\right)}$$"
       ],
       "output_type": "pyout",
       "png": "[encoded data removed]",
       "prompt_number": 20,
       "text": [
        "\n",
        "                -e + cos(E)                \n",
        "\u2500\u2500\u2500\u2500\u2500\u2500\u2500\u2500\u2500\u2500\u2500\u2500\u2500\u2500\u2500\u2500\u2500\u2500\u2500\u2500\u2500\u2500\u2500\u2500\u2500\u2500\u2500\u2500\u2500\u2500\u2500\u2500\u2500\u2500\u2500\u2500\u2500\u2500\u2500\u2500\u2500\u2500\u2500\n",
        "   \u23bd\u23bd\u23bd\u23bd\u23bd\u23bd\u23bd\u23bd\u23bd\u23bd                              \n",
        "  \u2571    2      \u239b 2    2                    \u239e\n",
        "\u2572\u2571  - e  + 1 \u22c5\u239de \u22c5cos (E) - 2\u22c5e\u22c5cos(E) + 1\u23a0"
       ]
      }
     ],
     "prompt_number": 20
    },
    {
     "cell_type": "code",
     "collapsed": false,
     "input": [
      "simplify(diff(thetaprime, E))"
     ],
     "language": "python",
     "metadata": {},
     "outputs": [
      {
       "latex": [
        "$$\\frac{e \\sqrt{- e^{2} + 1} \\operatorname{sin}\\left(E\\right)}{- e^{2} \\operatorname{cos}^{2}\\left(E\\right) + 2 e \\operatorname{cos}\\left(E\\right) -1}$$"
       ],
       "output_type": "pyout",
       "png": "[encoded data removed]",
       "prompt_number": 21,
       "text": [
        "\n",
        "         \u23bd\u23bd\u23bd\u23bd\u23bd\u23bd\u23bd\u23bd\u23bd\u23bd          \n",
        "        \u2571    2               \n",
        "    e\u22c5\u2572\u2571  - e  + 1 \u22c5sin(E)   \n",
        "\u2500\u2500\u2500\u2500\u2500\u2500\u2500\u2500\u2500\u2500\u2500\u2500\u2500\u2500\u2500\u2500\u2500\u2500\u2500\u2500\u2500\u2500\u2500\u2500\u2500\u2500\u2500\u2500\u2500\n",
        "   2    2                    \n",
        "- e \u22c5cos (E) + 2\u22c5e\u22c5cos(E) - 1"
       ]
      }
     ],
     "prompt_number": 21
    },
    {
     "cell_type": "code",
     "collapsed": false,
     "input": [
      "var('a')\n",
      "var('nu')"
     ],
     "language": "python",
     "metadata": {},
     "outputs": [
      {
       "latex": [
        "$$\\nu$$"
       ],
       "output_type": "pyout",
       "png": "[encoded data removed]",
       "prompt_number": 22,
       "text": [
        "\u03bd"
       ]
      }
     ],
     "prompt_number": 22
    },
    {
     "cell_type": "code",
     "collapsed": false,
     "input": [
      "r = a*(1-e**2)/(1+e*cos(nu))\n",
      "r"
     ],
     "language": "python",
     "metadata": {},
     "outputs": [
      {
       "latex": [
        "$$\\frac{a \\left(- e^{2} + 1\\right)}{e \\operatorname{cos}\\left(\\nu\\right) + 1}$$"
       ],
       "output_type": "pyout",
       "png": "[encoded data removed]",
       "prompt_number": 23,
       "text": [
        "\n",
        "  \u239b   2    \u239e\n",
        "a\u22c5\u239d- e  + 1\u23a0\n",
        "\u2500\u2500\u2500\u2500\u2500\u2500\u2500\u2500\u2500\u2500\u2500\u2500\n",
        "e\u22c5cos(\u03bd) + 1"
       ]
      }
     ],
     "prompt_number": 23
    },
    {
     "cell_type": "code",
     "collapsed": false,
     "input": [
      "simplify(diff(r,e))"
     ],
     "language": "python",
     "metadata": {},
     "outputs": [
      {
       "latex": [
        "$$- \\frac{a \\left(- e^{2} \\operatorname{cos}\\left(\\nu\\right) - 2 e - \\operatorname{cos}\\left(\\nu\\right)\\right)}{- e^{2} \\operatorname{cos}^{2}\\left(\\nu\\right) - 2 e \\operatorname{cos}\\left(\\nu\\right) -1}$$"
       ],
       "output_type": "pyout",
       "png": "[encoded data removed]",
       "prompt_number": 24,
       "text": [
        "\n",
        "   \u239b   2                      \u239e\n",
        "-a\u22c5\u239d- e \u22c5cos(\u03bd) - 2\u22c5e - cos(\u03bd)\u23a0\n",
        "\u2500\u2500\u2500\u2500\u2500\u2500\u2500\u2500\u2500\u2500\u2500\u2500\u2500\u2500\u2500\u2500\u2500\u2500\u2500\u2500\u2500\u2500\u2500\u2500\u2500\u2500\u2500\u2500\u2500\u2500\u2500\n",
        "    2    2                     \n",
        " - e \u22c5cos (\u03bd) - 2\u22c5e\u22c5cos(\u03bd) - 1 "
       ]
      }
     ],
     "prompt_number": 24
    },
    {
     "cell_type": "code",
     "collapsed": false,
     "input": [
      "rprime = diff(r,nu)\n",
      "rprime"
     ],
     "language": "python",
     "metadata": {},
     "outputs": [
      {
       "latex": [
        "$$\\frac{a e \\left(- e^{2} + 1\\right) \\operatorname{sin}\\left(\\nu\\right)}{\\left(e \\operatorname{cos}\\left(\\nu\\right) + 1\\right)^{2}}$$"
       ],
       "output_type": "pyout",
       "png": "[encoded data removed]",
       "prompt_number": 25,
       "text": [
        "\n",
        "    \u239b   2    \u239e       \n",
        "a\u22c5e\u22c5\u239d- e  + 1\u23a0\u22c5sin(\u03bd)\n",
        "\u2500\u2500\u2500\u2500\u2500\u2500\u2500\u2500\u2500\u2500\u2500\u2500\u2500\u2500\u2500\u2500\u2500\u2500\u2500\u2500\u2500\n",
        "                 2   \n",
        "   (e\u22c5cos(\u03bd) + 1)    "
       ]
      }
     ],
     "prompt_number": 25
    },
    {
     "cell_type": "code",
     "collapsed": false,
     "input": [
      "simplify(diff(rprime, e)) "
     ],
     "language": "python",
     "metadata": {},
     "outputs": [
      {
       "latex": [
        "$$\\frac{a \\left(- e^{3} \\operatorname{cos}\\left(\\nu\\right) - 3 e^{2} - e \\operatorname{cos}\\left(\\nu\\right) + 1\\right) \\operatorname{sin}\\left(\\nu\\right)}{e^{3} \\operatorname{cos}^{3}\\left(\\nu\\right) + 3 e^{2} \\operatorname{cos}^{2}\\left(\\nu\\right) + 3 e \\operatorname{cos}\\left(\\nu\\right) + 1}$$"
       ],
       "output_type": "pyout",
       "png": "[encoded data removed]",
       "prompt_number": 26,
       "text": [
        "\n",
        "  \u239b   3             2               \u239e       \n",
        "a\u22c5\u239d- e \u22c5cos(\u03bd) - 3\u22c5e  - e\u22c5cos(\u03bd) + 1\u23a0\u22c5sin(\u03bd)\n",
        "\u2500\u2500\u2500\u2500\u2500\u2500\u2500\u2500\u2500\u2500\u2500\u2500\u2500\u2500\u2500\u2500\u2500\u2500\u2500\u2500\u2500\u2500\u2500\u2500\u2500\u2500\u2500\u2500\u2500\u2500\u2500\u2500\u2500\u2500\u2500\u2500\u2500\u2500\u2500\u2500\u2500\u2500\u2500\u2500\n",
        "  3    3         2    2                     \n",
        " e \u22c5cos (\u03bd) + 3\u22c5e \u22c5cos (\u03bd) + 3\u22c5e\u22c5cos(\u03bd) + 1 "
       ]
      }
     ],
     "prompt_number": 26
    },
    {
     "cell_type": "code",
     "collapsed": false,
     "input": [
      "together(diff(rprime, nu))"
     ],
     "language": "python",
     "metadata": {},
     "outputs": [
      {
       "latex": [
        "$$\\frac{a e \\left(- e^{2} + 1\\right) \\left(2 e \\operatorname{sin}^{2}\\left(\\nu\\right) + \\left(e \\operatorname{cos}\\left(\\nu\\right) + 1\\right) \\operatorname{cos}\\left(\\nu\\right)\\right)}{\\left(e \\operatorname{cos}\\left(\\nu\\right) + 1\\right)^{3}}$$"
       ],
       "output_type": "pyout",
       "png": "[encoded data removed]",
       "prompt_number": 27,
       "text": [
        "\n",
        "    \u239b   2    \u239e \u239b       2                           \u239e\n",
        "a\u22c5e\u22c5\u239d- e  + 1\u23a0\u22c5\u239d2\u22c5e\u22c5sin (\u03bd) + (e\u22c5cos(\u03bd) + 1)\u22c5cos(\u03bd)\u23a0\n",
        "\u2500\u2500\u2500\u2500\u2500\u2500\u2500\u2500\u2500\u2500\u2500\u2500\u2500\u2500\u2500\u2500\u2500\u2500\u2500\u2500\u2500\u2500\u2500\u2500\u2500\u2500\u2500\u2500\u2500\u2500\u2500\u2500\u2500\u2500\u2500\u2500\u2500\u2500\u2500\u2500\u2500\u2500\u2500\u2500\u2500\u2500\u2500\u2500\u2500\u2500\u2500\u2500\n",
        "                                3                   \n",
        "                  (e\u22c5cos(\u03bd) + 1)                    "
       ]
      }
     ],
     "prompt_number": 27
    },
    {
     "cell_type": "code",
     "collapsed": false,
     "input": [
      "var('T')"
     ],
     "language": "python",
     "metadata": {},
     "outputs": [
      {
       "latex": [
        "$$T$$"
       ],
       "output_type": "pyout",
       "png": "[encoded data removed]",
       "prompt_number": 28,
       "text": [
        "T"
       ]
      }
     ],
     "prompt_number": 28
    },
    {
     "cell_type": "code",
     "collapsed": false,
     "input": [
      "E2 = atan2(sqrt(1-e**2)*sin(T), e+cos(T))\n",
      "E2"
     ],
     "language": "python",
     "metadata": {},
     "outputs": [
      {
       "latex": [
        "$$\\operatorname{atan2}\\left(\\sqrt{- e^{2} + 1} \\operatorname{sin}\\left(T\\right),e + \\operatorname{cos}\\left(T\\right)\\right)$$"
       ],
       "output_type": "pyout",
       "png": "[encoded data removed]",
       "prompt_number": 29,
       "text": [
        "\n",
        "     \u239b   \u23bd\u23bd\u23bd\u23bd\u23bd\u23bd\u23bd\u23bd\u23bd\u23bd                   \u239e\n",
        "     \u239c  \u2571    2                        \u239f\n",
        "atan\u2082\u239d\u2572\u2571  - e  + 1 \u22c5sin(T), e + cos(T)\u23a0"
       ]
      }
     ],
     "prompt_number": 29
    },
    {
     "cell_type": "code",
     "collapsed": false,
     "input": [
      "simplify(diff(E2,e))"
     ],
     "language": "python",
     "metadata": {},
     "outputs": [
      {
       "latex": [
        "$$\\frac{\\left(e \\operatorname{cos}\\left(T\\right) + 1\\right) \\operatorname{sin}\\left(T\\right)}{\\sqrt{- e^{2} + 1} \\left(- e^{2} \\operatorname{cos}^{2}\\left(T\\right) - 2 e \\operatorname{cos}\\left(T\\right) -1\\right)}$$"
       ],
       "output_type": "pyout",
       "png": "[encoded data removed]",
       "prompt_number": 30,
       "text": [
        "\n",
        "            (e\u22c5cos(T) + 1)\u22c5sin(T)            \n",
        "\u2500\u2500\u2500\u2500\u2500\u2500\u2500\u2500\u2500\u2500\u2500\u2500\u2500\u2500\u2500\u2500\u2500\u2500\u2500\u2500\u2500\u2500\u2500\u2500\u2500\u2500\u2500\u2500\u2500\u2500\u2500\u2500\u2500\u2500\u2500\u2500\u2500\u2500\u2500\u2500\u2500\u2500\u2500\u2500\u2500\n",
        "   \u23bd\u23bd\u23bd\u23bd\u23bd\u23bd\u23bd\u23bd\u23bd\u23bd                                \n",
        "  \u2571    2      \u239b   2    2                    \u239e\n",
        "\u2572\u2571  - e  + 1 \u22c5\u239d- e \u22c5cos (T) - 2\u22c5e\u22c5cos(T) - 1\u23a0"
       ]
      }
     ],
     "prompt_number": 30
    },
    {
     "cell_type": "code",
     "collapsed": false,
     "input": [
      "simplify(diff(E2,T))"
     ],
     "language": "python",
     "metadata": {},
     "outputs": [
      {
       "latex": [
        "$$\\frac{\\sqrt{- e^{2} + 1} \\left(- e \\operatorname{cos}\\left(T\\right) -1\\right)}{- e^{2} \\operatorname{cos}^{2}\\left(T\\right) - 2 e \\operatorname{cos}\\left(T\\right) -1}$$"
       ],
       "output_type": "pyout",
       "png": "[encoded data removed]",
       "prompt_number": 31,
       "text": [
        "\n",
        "   \u23bd\u23bd\u23bd\u23bd\u23bd\u23bd\u23bd\u23bd\u23bd\u23bd                \n",
        "  \u2571    2                     \n",
        "\u2572\u2571  - e  + 1 \u22c5(-e\u22c5cos(T) - 1)\n",
        "\u2500\u2500\u2500\u2500\u2500\u2500\u2500\u2500\u2500\u2500\u2500\u2500\u2500\u2500\u2500\u2500\u2500\u2500\u2500\u2500\u2500\u2500\u2500\u2500\u2500\u2500\u2500\u2500\u2500\n",
        "   2    2                    \n",
        "- e \u22c5cos (T) - 2\u22c5e\u22c5cos(T) - 1"
       ]
      }
     ],
     "prompt_number": 31
    },
    {
     "cell_type": "code",
     "collapsed": false,
     "input": [
      "var('q')"
     ],
     "language": "python",
     "metadata": {},
     "outputs": [
      {
       "latex": [
        "$$q$$"
       ],
       "output_type": "pyout",
       "png": "[encoded data removed]",
       "prompt_number": 32,
       "text": [
        "q"
       ]
      }
     ],
     "prompt_number": 32
    },
    {
     "cell_type": "code",
     "collapsed": false,
     "input": [
      "diff(1/(1+1/q),q)"
     ],
     "language": "python",
     "metadata": {},
     "outputs": [
      {
       "latex": [
        "$$\\frac{1}{q^{2} \\left(1 + \\frac{1}{q}\\right)^{2}}$$"
       ],
       "output_type": "pyout",
       "png": "[encoded data removed]",
       "prompt_number": 33,
       "text": [
        "\n",
        "     1     \n",
        "\u2500\u2500\u2500\u2500\u2500\u2500\u2500\u2500\u2500\u2500\u2500\n",
        "          2\n",
        " 2 \u239b    1\u239e \n",
        "q \u22c5\u239c1 + \u2500\u239f \n",
        "   \u239d    q\u23a0 "
       ]
      }
     ],
     "prompt_number": 33
    },
    {
     "cell_type": "code",
     "collapsed": false,
     "input": [
      "var('m_temp')"
     ],
     "language": "python",
     "metadata": {},
     "outputs": [
      {
       "latex": [
        "$$m_{temp}$$"
       ],
       "output_type": "pyout",
       "png": "[encoded data removed]",
       "prompt_number": 34,
       "text": [
        "m_temp"
       ]
      }
     ],
     "prompt_number": 34
    },
    {
     "cell_type": "code",
     "collapsed": false,
     "input": [
      "var('m_i')"
     ],
     "language": "python",
     "metadata": {},
     "outputs": [
      {
       "latex": [
        "$$m_{i}$$"
       ],
       "output_type": "pyout",
       "png": "[encoded data removed]",
       "prompt_number": 35,
       "text": [
        "m\u1d62"
       ]
      }
     ],
     "prompt_number": 35
    },
    {
     "cell_type": "code",
     "collapsed": false,
     "input": [
      "eqn = q**3/(1+q)**2 - m_temp/m_i\n",
      "eqn"
     ],
     "language": "python",
     "metadata": {},
     "outputs": [
      {
       "latex": [
        "$$\\frac{q^{3}}{\\left(q + 1\\right)^{2}} - \\frac{m_{temp}}{m_{i}}$$"
       ],
       "output_type": "pyout",
       "png": "[encoded data removed]",
       "prompt_number": 38,
       "text": [
        "\n",
        "    3            \n",
        "   q       m_temp\n",
        "\u2500\u2500\u2500\u2500\u2500\u2500\u2500\u2500 - \u2500\u2500\u2500\u2500\u2500\u2500\n",
        "       2     m\u1d62  \n",
        "(q + 1)          "
       ]
      }
     ],
     "prompt_number": 38
    },
    {
     "cell_type": "code",
     "collapsed": false,
     "input": [
      "together(diff(eqn,q))"
     ],
     "language": "python",
     "metadata": {},
     "outputs": [
      {
       "latex": [
        "$$\\frac{q^{2} \\left(q + 3\\right)}{\\left(q + 1\\right)^{3}}$$"
       ],
       "output_type": "pyout",
       "png": "[encoded data removed]",
       "prompt_number": 40,
       "text": [
        "\n",
        " 2        \n",
        "q \u22c5(q + 3)\n",
        "\u2500\u2500\u2500\u2500\u2500\u2500\u2500\u2500\u2500\u2500\n",
        "        3 \n",
        " (q + 1)  "
       ]
      }
     ],
     "prompt_number": 40
    },
    {
     "cell_type": "code",
     "collapsed": false,
     "input": [
      "var('x_1')\n",
      "var('x_2')\n",
      "var('x_3')\n",
      "var('x_i')\n",
      "var('r2_3_i')\n",
      "var('r2_3_1')\n",
      "var('r_3_i')\n",
      "var('r_3_1')\n"
     ],
     "language": "python",
     "metadata": {},
     "outputs": [
      {
       "latex": [
        "$$r_{3 1}$$"
       ],
       "output_type": "pyout",
       "png": "[encoded data removed]",
       "prompt_number": 48,
       "text": [
        "r\u2083 \u2081"
       ]
      }
     ],
     "prompt_number": 48
    },
    {
     "cell_type": "code",
     "collapsed": false,
     "input": [
      "together((x_3-x_1)*r_3_1**(-3)-(x_3-x_i)*r_3_i**(-3))"
     ],
     "language": "python",
     "metadata": {},
     "outputs": [
      {
       "latex": [
        "$$\\frac{- r_{3 1}^{3} \\left(x_{3} - x_{i}\\right) + r_{3 i}^{3} \\left(- x_{1} + x_{3}\\right)}{r_{3 1}^{3} r_{3 i}^{3}}$$"
       ],
       "output_type": "pyout",
       "png": "[encoded data removed]",
       "prompt_number": 49,
       "text": [
        "\n",
        "      3                 3           \n",
        "- r\u2083 \u2081 \u22c5(x\u2083 - x\u1d62) + r\u2083 \u1d62 \u22c5(-x\u2081 + x\u2083)\n",
        "\u2500\u2500\u2500\u2500\u2500\u2500\u2500\u2500\u2500\u2500\u2500\u2500\u2500\u2500\u2500\u2500\u2500\u2500\u2500\u2500\u2500\u2500\u2500\u2500\u2500\u2500\u2500\u2500\u2500\u2500\u2500\u2500\u2500\u2500\u2500\u2500\n",
        "                3     3             \n",
        "            r\u2083 \u2081 \u22c5r\u2083 \u1d62              "
       ]
      }
     ],
     "prompt_number": 49
    },
    {
     "cell_type": "code",
     "collapsed": false,
     "input": [
      "var('e')\n",
      "var('theta')"
     ],
     "language": "python",
     "metadata": {},
     "outputs": [
      {
       "latex": [
        "$$\\theta$$"
       ],
       "output_type": "pyout",
       "png": "[encoded data removed]",
       "prompt_number": 3,
       "text": [
        "\u03b8"
       ]
      }
     ],
     "prompt_number": 3
    },
    {
     "cell_type": "code",
     "collapsed": false,
     "input": [
      "together(\n",
      "    diff(atan2(sqrt(1-e**2)*sin(theta),e+cos(theta)),e)\n",
      "    -(-(1+cos(theta))*sin(theta)\n",
      "        /(sqrt(1-e**2)*(e+cos(theta))**2)))\n"
     ],
     "language": "python",
     "metadata": {},
     "outputs": [
      {
       "latex": [
        "$$\\frac{\\left(- e \\left(e + \\operatorname{cos}\\left(\\theta\\right)\\right)^{3} - \\left(e + \\operatorname{cos}\\left(\\theta\\right)\\right)^{2} \\left(- e^{2} + 1\\right) - \\left(\\left(e + \\operatorname{cos}\\left(\\theta\\right)\\right)^{2} + \\left(- e^{2} + 1\\right) \\operatorname{sin}^{2}\\left(\\theta\\right)\\right) \\left(- \\operatorname{cos}\\left(\\theta\\right) -1\\right)\\right) \\operatorname{sin}\\left(\\theta\\right)}{\\left(e + \\operatorname{cos}\\left(\\theta\\right)\\right)^{2} \\sqrt{- e^{2} + 1} \\left(\\left(e + \\operatorname{cos}\\left(\\theta\\right)\\right)^{2} + \\left(- e^{2} + 1\\right) \\operatorname{sin}^{2}\\left(\\theta\\right)\\right)}$$"
       ],
       "output_type": "pyout",
       "png": "[encoded data removed]",
       "prompt_number": 14,
       "text": [
        "\n",
        "\u239b                3               2 \u239b   2    \u239e   \u239b            2   \u239b   2    \u239e   \n",
        "\u239d- e\u22c5(e + cos(\u03b8))  - (e + cos(\u03b8)) \u22c5\u239d- e  + 1\u23a0 - \u239d(e + cos(\u03b8))  + \u239d- e  + 1\u23a0\u22c5si\n",
        "\u2500\u2500\u2500\u2500\u2500\u2500\u2500\u2500\u2500\u2500\u2500\u2500\u2500\u2500\u2500\u2500\u2500\u2500\u2500\u2500\u2500\u2500\u2500\u2500\u2500\u2500\u2500\u2500\u2500\u2500\u2500\u2500\u2500\u2500\u2500\u2500\u2500\u2500\u2500\u2500\u2500\u2500\u2500\u2500\u2500\u2500\u2500\u2500\u2500\u2500\u2500\u2500\u2500\u2500\u2500\u2500\u2500\u2500\u2500\u2500\u2500\u2500\u2500\u2500\u2500\u2500\u2500\u2500\u2500\u2500\u2500\u2500\u2500\u2500\u2500\u2500\u2500\u2500\n",
        "                                      \u23bd\u23bd\u23bd\u23bd\u23bd\u23bd\u23bd\u23bd\u23bd\u23bd                              \n",
        "                                 2   \u2571    2      \u239b            2   \u239b   2    \u239e  \n",
        "                     (e + cos(\u03b8)) \u22c5\u2572\u2571  - e  + 1 \u22c5\u239d(e + cos(\u03b8))  + \u239d- e  + 1\u23a0\u22c5s\n",
        "\n",
        " 2   \u239e              \u239e       \n",
        "n (\u03b8)\u23a0\u22c5(-cos(\u03b8) - 1)\u23a0\u22c5sin(\u03b8)\n",
        "\u2500\u2500\u2500\u2500\u2500\u2500\u2500\u2500\u2500\u2500\u2500\u2500\u2500\u2500\u2500\u2500\u2500\u2500\u2500\u2500\u2500\u2500\u2500\u2500\u2500\u2500\u2500\u2500\n",
        "                            \n",
        "  2   \u239e                     \n",
        "in (\u03b8)\u23a0                     "
       ]
      }
     ],
     "prompt_number": 14
    },
    {
     "cell_type": "code",
     "collapsed": false,
     "input": [
      "expand((e+cos(theta))**2+(1-e**2)*sin(theta)**2)"
     ],
     "language": "python",
     "metadata": {},
     "outputs": [
      {
       "latex": [
        "$$- e^{2} \\operatorname{sin}^{2}\\left(\\theta\\right) + e^{2} + 2 e \\operatorname{cos}\\left(\\theta\\right) + \\operatorname{sin}^{2}\\left(\\theta\\right) + \\operatorname{cos}^{2}\\left(\\theta\\right)$$"
       ],
       "output_type": "pyout",
       "png": "[encoded data removed]",
       "prompt_number": 7,
       "text": [
        "\n",
        "   2    2       2                   2         2   \n",
        "- e \u22c5sin (\u03b8) + e  + 2\u22c5e\u22c5cos(\u03b8) + sin (\u03b8) + cos (\u03b8)"
       ]
      }
     ],
     "prompt_number": 7
    },
    {
     "cell_type": "code",
     "collapsed": false,
     "input": [
      "together(\n",
      "    diff(atan2(sqrt(1-e**2)*sin(theta),e+cos(theta)),\n",
      "    e))"
     ],
     "language": "python",
     "metadata": {},
     "outputs": [
      {
       "latex": [
        "$$\\frac{\\left(e^{2} - e \\left(e + \\operatorname{cos}\\left(\\theta\\right)\\right) -1\\right) \\operatorname{sin}\\left(\\theta\\right)}{\\sqrt{- e^{2} + 1} \\left(\\left(e + \\operatorname{cos}\\left(\\theta\\right)\\right)^{2} + \\left(- e^{2} + 1\\right) \\operatorname{sin}^{2}\\left(\\theta\\right)\\right)}$$"
       ],
       "output_type": "pyout",
       "png": "[encoded data removed]",
       "prompt_number": 17,
       "text": [
        "\n",
        "         \u239b 2                     \u239e                \n",
        "         \u239de  - e\u22c5(e + cos(\u03b8)) - 1\u23a0\u22c5sin(\u03b8)         \n",
        "\u2500\u2500\u2500\u2500\u2500\u2500\u2500\u2500\u2500\u2500\u2500\u2500\u2500\u2500\u2500\u2500\u2500\u2500\u2500\u2500\u2500\u2500\u2500\u2500\u2500\u2500\u2500\u2500\u2500\u2500\u2500\u2500\u2500\u2500\u2500\u2500\u2500\u2500\u2500\u2500\u2500\u2500\u2500\u2500\u2500\u2500\u2500\u2500\u2500\u2500\n",
        "   \u23bd\u23bd\u23bd\u23bd\u23bd\u23bd\u23bd\u23bd\u23bd\u23bd                                     \n",
        "  \u2571    2      \u239b            2   \u239b   2    \u239e    2   \u239e\n",
        "\u2572\u2571  - e  + 1 \u22c5\u239d(e + cos(\u03b8))  + \u239d- e  + 1\u23a0\u22c5sin (\u03b8)\u23a0"
       ]
      }
     ],
     "prompt_number": 17
    },
    {
     "cell_type": "code",
     "collapsed": false,
     "input": [
      "together(diff(atan2(sqrt(1-e**2)*sin(theta),e+cos(theta)),theta))\n"
     ],
     "language": "python",
     "metadata": {},
     "outputs": [
      {
       "latex": [
        "$$\\frac{\\sqrt{- e^{2} + 1} \\left(\\left(e + \\operatorname{cos}\\left(\\theta\\right)\\right) \\operatorname{cos}\\left(\\theta\\right) + \\operatorname{sin}^{2}\\left(\\theta\\right)\\right)}{\\left(e + \\operatorname{cos}\\left(\\theta\\right)\\right)^{2} + \\left(- e^{2} + 1\\right) \\operatorname{sin}^{2}\\left(\\theta\\right)}$$"
       ],
       "output_type": "pyout",
       "png": "[encoded data removed]",
       "prompt_number": 8,
       "text": [
        "\n",
        "   \u23bd\u23bd\u23bd\u23bd\u23bd\u23bd\u23bd\u23bd\u23bd\u23bd                                \n",
        "  \u2571    2      \u239b                         2   \u239e\n",
        "\u2572\u2571  - e  + 1 \u22c5\u239d(e + cos(\u03b8))\u22c5cos(\u03b8) + sin (\u03b8)\u23a0\n",
        "\u2500\u2500\u2500\u2500\u2500\u2500\u2500\u2500\u2500\u2500\u2500\u2500\u2500\u2500\u2500\u2500\u2500\u2500\u2500\u2500\u2500\u2500\u2500\u2500\u2500\u2500\u2500\u2500\u2500\u2500\u2500\u2500\u2500\u2500\u2500\u2500\u2500\u2500\u2500\u2500\u2500\u2500\u2500\u2500\u2500\n",
        "                  2   \u239b   2    \u239e    2        \n",
        "      (e + cos(\u03b8))  + \u239d- e  + 1\u23a0\u22c5sin (\u03b8)     "
       ]
      }
     ],
     "prompt_number": 8
    },
    {
     "cell_type": "code",
     "collapsed": false,
     "input": [
      "expand((e+cos(theta))**2 + (-e**2+1)*sin(theta)**2)"
     ],
     "language": "python",
     "metadata": {},
     "outputs": [
      {
       "latex": [
        "$$- e^{2} \\operatorname{sin}^{2}\\left(\\theta\\right) + e^{2} + 2 e \\operatorname{cos}\\left(\\theta\\right) + \\operatorname{sin}^{2}\\left(\\theta\\right) + \\operatorname{cos}^{2}\\left(\\theta\\right)$$"
       ],
       "output_type": "pyout",
       "png": "[encoded data removed]",
       "prompt_number": 10,
       "text": [
        "\n",
        "   2    2       2                   2         2   \n",
        "- e \u22c5sin (\u03b8) + e  + 2\u22c5e\u22c5cos(\u03b8) + sin (\u03b8) + cos (\u03b8)"
       ]
      }
     ],
     "prompt_number": 10
    },
    {
     "cell_type": "code",
     "collapsed": false,
     "input": [],
     "language": "python",
     "metadata": {},
     "outputs": []
    }
   ],
   "metadata": {}
  }
 ]
}