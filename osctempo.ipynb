{
 "metadata": {
  "name": "osctempo"
 },
 "nbformat": 3,
 "nbformat_minor": 0,
 "worksheets": [
  {
   "cells": [
    {
     "cell_type": "code",
     "collapsed": false,
     "input": [
      "import kepler\n",
      "import threebody"
     ],
     "language": "python",
     "metadata": {},
     "outputs": [],
     "prompt_number": 2
    },
    {
     "cell_type": "code",
     "collapsed": false,
     "input": [
      "mjdbase = 55920\n",
      "times = np.array([0,56102-mjdbase])\n",
      "o = threebody.compute_orbit(threebody.best_parameters, times)\n"
     ],
     "language": "python",
     "metadata": {},
     "outputs": [],
     "prompt_number": 4
    },
    {
     "cell_type": "code",
     "collapsed": false,
     "input": [
      "t0_i_fit = 56102.477379415825 - mjdbase\n",
      "t0_o_fit = 55823.233542101501 - mjdbase"
     ],
     "language": "python",
     "metadata": {},
     "outputs": [],
     "prompt_number": 7
    },
    {
     "cell_type": "code",
     "collapsed": false,
     "input": [
      "i=1\n",
      "params = kepler.inverse_kepler_three_body_measurable(o[\"states\"][i,:21], times[i])\n",
      "(asini_i, pb_i, eps1_i, eps2_i, tasc_i, \n",
      "        acosi_i, q_i,\n",
      "        asini_o, pb_o, eps1_o, eps2_o, tasc_o, \n",
      "        acosi_o, delta_lan,\n",
      "        lan_i, x_cm, v_cm) = params\n",
      "\n",
      "# WARNING WARNING WARNING: kepler.py exhanges eps1 and eps2 relative to TEMPO's ELL1 model. \n",
      "asini_i, pb_i, e_i, om_i, t0_i = kepler.btx_parameters(asini_i, pb_i, eps1_i, eps2_i, tasc_i)\n",
      "asini_o, pb_o, e_o, om_o, t0_o = kepler.btx_parameters(asini_o, pb_o, eps1_o, eps2_o, tasc_o)\n",
      "s = o[\"states\"][i]\n",
      "cm_i = (s[:6]*s[13]+s[7:13]*s[6])/(s[6]+s[13])\n",
      "\n",
      "z_i, vz_i = cm_i[2], cm_i[5]\n",
      "t0_i = t0_i+z_i/86400\n",
      "pb_i = pb_i*(1+vz_i/86400.)\n",
      "\n",
      "print t0_i, t0_o\n",
      "print t0_i%pb_i, t0_i_fit%pb_i\n",
      "print t0_o%pb_o, t0_o_fit%pb_o\n",
      "\n",
      "#print \"\\t\".join(repr(p) for p in (times[i]+mjdbase, asini_i, pb_i, e_i, om_i, t0_i+mjdbase, asini_o, pb_o, e_o, om_o, t0_o+mjdbase, cm_i[2], cm_i[5]))\n"
     ],
     "language": "python",
     "metadata": {},
     "outputs": [
      {
       "output_type": "stream",
       "stream": "stdout",
       "text": [
        "180.848496656 -96.7683507009\n",
        "1.55813415134 1.5571045249\n",
        "230.48758041 230.489473212\n"
       ]
      }
     ],
     "prompt_number": 21
    },
    {
     "cell_type": "code",
     "collapsed": false,
     "input": [],
     "language": "python",
     "metadata": {},
     "outputs": []
    }
   ],
   "metadata": {}
  }
 ]
}