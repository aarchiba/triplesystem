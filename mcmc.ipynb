{
 "metadata": {
  "name": "mcmc"
 },
 "nbformat": 3,
 "nbformat_minor": 0,
 "worksheets": [
  {
   "cells": [
    {
     "cell_type": "code",
     "collapsed": false,
     "input": [
      "import scipy.optimize\n",
      "\n",
      "import emcee\n",
      "import minuit\n",
      "\n",
      "import kepler\n",
      "import quad_integrate\n",
      "import threebody"
     ],
     "language": "python",
     "metadata": {},
     "outputs": [],
     "prompt_number": 2
    },
    {
     "cell_type": "code",
     "collapsed": false,
     "input": [
      "(mjds, delays, tel_list, \n",
      "    tels, uncerts) = threebody.load_data()"
     ],
     "language": "python",
     "metadata": {},
     "outputs": [],
     "prompt_number": 3
    },
    {
     "cell_type": "code",
     "collapsed": false,
     "input": [
      "def lnprob(p):\n",
      "    o = threebody.compute_orbit(p, mjds, \n",
      "        shapiro=True, special=True, general=True)\n",
      "    d = threebody.remove_trend(o[\"delays\"]-delays,\n",
      "        mjds, tel_list, tels)\n",
      "    return -np.sum((d/uncerts)**2)/2."
     ],
     "language": "python",
     "metadata": {},
     "outputs": [],
     "prompt_number": 8
    },
    {
     "cell_type": "code",
     "collapsed": false,
     "input": [
      "ndim = 14\n",
      "nwalkers = 50\n",
      "p0 = np.random.randn(nwalkers, ndim)\n",
      "p0 *= np.array(threebody.best_errors)[None,:]\n",
      "p0 += np.array(threebody.best_parameters)[None,:]"
     ],
     "language": "python",
     "metadata": {},
     "outputs": [],
     "prompt_number": 9
    },
    {
     "cell_type": "code",
     "collapsed": false,
     "input": [
      "sampler = emcee.EnsembleSampler(nwalkers, ndim, lnprob)"
     ],
     "language": "python",
     "metadata": {},
     "outputs": [],
     "prompt_number": 10
    },
    {
     "cell_type": "code",
     "collapsed": false,
     "input": [
      "pos, prob, state = sampler.run_mcmc(p0, 100) # burnin\n",
      "#sampler.reset()"
     ],
     "language": "python",
     "metadata": {},
     "outputs": [],
     "prompt_number": "*"
    },
    {
     "cell_type": "code",
     "collapsed": false,
     "input": [
      "sampler.run_mcmc(1000)"
     ],
     "language": "python",
     "metadata": {},
     "outputs": []
    }
   ],
   "metadata": {}
  }
 ]
}