{
 "metadata": {
  "name": ""
 },
 "nbformat": 3,
 "nbformat_minor": 0,
 "worksheets": [
  {
   "cells": [
    {
     "cell_type": "code",
     "collapsed": false,
     "input": [
      "%load_ext autoreload\n",
      "\n",
      "%autoreload 2"
     ],
     "language": "python",
     "metadata": {},
     "outputs": [],
     "prompt_number": 1
    },
    {
     "cell_type": "code",
     "collapsed": false,
     "input": [
      "import matplotlib\n",
      "matplotlib.rcParams['savefig.dpi'] = 120"
     ],
     "language": "python",
     "metadata": {},
     "outputs": [],
     "prompt_number": 2
    },
    {
     "cell_type": "code",
     "collapsed": false,
     "input": [
      "from __future__ import division\n",
      "from glob import glob\n",
      "import os\n",
      "import time\n",
      "import cPickle as pickle\n",
      "import subprocess\n",
      "import shutil\n",
      "\n",
      "import scipy.linalg\n",
      "import scipy.stats\n",
      "\n",
      "import astropy.io.fits\n",
      "import astropy.table\n",
      "import astropy.units as u\n",
      "import astropy.constants as c\n",
      "\n",
      "import emcee\n",
      "import numdifftools\n",
      "import residuals\n",
      "import polycos\n",
      "\n",
      "import kepler\n",
      "import threebody\n"
     ],
     "language": "python",
     "metadata": {},
     "outputs": [],
     "prompt_number": 245
    },
    {
     "cell_type": "code",
     "collapsed": false,
     "input": [
      "import logging\n",
      "logger = logging.getLogger()\n",
      "logger.setLevel(logging.DEBUG)\n",
      "logging.debug(\"test\")"
     ],
     "language": "python",
     "metadata": {},
     "outputs": [
      {
       "output_type": "stream",
       "stream": "stderr",
       "text": [
        "DEBUG:root:test\n"
       ]
      }
     ],
     "prompt_number": 4
    },
    {
     "cell_type": "code",
     "collapsed": false,
     "input": [
      "inputs = sorted(glob(\"/nimrod1/aarchiba/0337+17/smear/*.fscr\"))\n",
      "template = \"/nimrod1/aarchiba/0337+17/smear/GUPPI_Lband_rotated_512.template\"\n",
      "mvk_ephemeris = \"/home/aarchiba/projects/threebody/0337+17_MvK_nofit_i.par\"\n",
      "fit_segment = \"/nimrod1/aarchiba/0337+17/smear/fit_segment/J0337+17_{mjd}_BTX.par\"\n",
      "#period = 1./365.95336878765835\n",
      "period = 1./365.9533436437517366"
     ],
     "language": "python",
     "metadata": {},
     "outputs": [],
     "prompt_number": 177
    },
    {
     "cell_type": "code",
     "collapsed": false,
     "input": [
      "def get_toas(f):\n",
      "    o = subprocess.check_output(\n",
      "            [\"pat\",\n",
      "               \"-s\", template,\n",
      "               \"-f\", \"tempo2\",\n",
      "               \"-A\", \"FDM\",\n",
      "               \"-e\", \"mcmc=0\",\n",
      "               \"-C\", \"chan\",\n",
      "               \"-C\", \"subint\",\n",
      "               \"-C\", \"snr\",\n",
      "               \"-C\", \"wt\",\n",
      "               f])\n",
      "    lines = o.split(\"\\n\")[1:]\n",
      "    r = []\n",
      "    for l in lines:\n",
      "        s = l.split()\n",
      "        if len(s)<5:\n",
      "            continue\n",
      "        i, f = s[2].split(\".\")\n",
      "        toa = np.float128(i)-55920+np.float128(\"0.\"+f)\n",
      "        #print s[2], toa\n",
      "        d = dict(file=s[0],\n",
      "                 freq=float(s[1]),\n",
      "                 toa=toa,\n",
      "                 err=float(s[3]),\n",
      "                 tel=s[4])\n",
      "        i=5\n",
      "        while i<len(s):\n",
      "            if not s[i].startswith(\"-\"):\n",
      "                raise ValueError\n",
      "            k = s[i][1:]\n",
      "            v = float(s[i+1])\n",
      "            d[k] = v\n",
      "            i += 2\n",
      "        r.append(d)\n",
      "    return r"
     ],
     "language": "python",
     "metadata": {},
     "outputs": [],
     "prompt_number": 139
    },
    {
     "cell_type": "code",
     "collapsed": false,
     "input": [
      "def get_residuals(f, mjd=None):\n",
      "    o = subprocess.check_output(\n",
      "            [\"pat\",\n",
      "               \"-s\", template,\n",
      "               \"-f\", \"tempo2\",\n",
      "               \"-A\", \"FDM\",\n",
      "               \"-e\", \"mcmc=0\",\n",
      "               \"-C\", \"chan\",\n",
      "               \"-C\", \"subint\",\n",
      "               \"-C\", \"snr\",\n",
      "               \"-C\", \"wt\",\n",
      "               f])\n",
      "    with open(\"temp-resids.tim\",\"wt\") as tr:\n",
      "        tr.write(o)\n",
      "        tr.write(\"fake 999999.999 55920.0 1.0 @\\n\")\n",
      "    if mjd is None:\n",
      "        mjd = f.split(\"_\")[1]\n",
      "    subprocess.check_call([\"tempo\", \n",
      "                           \"-f\", fit_segment.format(mjd=mjd),\n",
      "                           \"temp-resids.tim\"])\n",
      "    return residuals.read_residuals()\n",
      "    "
     ],
     "language": "python",
     "metadata": {},
     "outputs": [],
     "prompt_number": 203
    },
    {
     "cell_type": "code",
     "collapsed": false,
     "input": [
      "r = get_residuals(inputs[-1])"
     ],
     "language": "python",
     "metadata": {},
     "outputs": [],
     "prompt_number": 199
    },
    {
     "cell_type": "code",
     "collapsed": false,
     "input": [
      "len(r.prefit_sec)"
     ],
     "language": "python",
     "metadata": {},
     "outputs": [
      {
       "metadata": {},
       "output_type": "pyout",
       "prompt_number": 200,
       "text": [
        "1972"
       ]
      }
     ],
     "prompt_number": 200
    },
    {
     "cell_type": "code",
     "collapsed": false,
     "input": [
      "def scrunch_and_extract(f, via_mvk=False, factor=8):\n",
      "    shutil.copy(f,\"temp.fits\")\n",
      "    mjd = f.split(\"_\")[1]\n",
      "    #print f, mjd, fit_segment.format(mjd=mjd)\n",
      "    if via_mvk:\n",
      "        subprocess.check_call([\"pam\", \"-m\",\n",
      "                           \"--ephver\", \"tempo\",\n",
      "                               \"-E\", mvk_ephemeris,\n",
      "                               \"temp.fits\"])\n",
      "    elif False:\n",
      "        subprocess.check_call([\"pam\", \"-m\",\n",
      "                           \"--ephver\", \"tempo\",\n",
      "                               \"-E\", fit_segment.format(mjd=mjd),\n",
      "                               \"temp.fits\"])\n",
      "    subprocess.check_call([\"pam\", \"-m\",\n",
      "                           \"-t\", str(factor),\n",
      "                           \"temp.fits\"])\n",
      "    c = [\"pam\", \"-m\",\n",
      "                           \"--ephver\", \"tempo\",\n",
      "                           \"-E\", fit_segment.format(mjd=mjd),\n",
      "                           \"temp.fits\"]\n",
      "    #print \" \".join(c)\n",
      "    subprocess.check_call(c)\n",
      "    #r = get_toas(\"temp.fits\")\n",
      "    r = get_residuals(\"temp.fits\", mjd=mjd)\n",
      "    os.unlink(\"temp.fits\")\n",
      "    return r\n",
      "                          "
     ],
     "language": "python",
     "metadata": {},
     "outputs": [],
     "prompt_number": 204
    },
    {
     "cell_type": "code",
     "collapsed": false,
     "input": [
      "f = 32\n",
      "r_good = scrunch_and_extract(inputs[-1], factor=f)\n",
      "r_mvk = scrunch_and_extract(inputs[-1], factor=f, via_mvk=True)"
     ],
     "language": "python",
     "metadata": {},
     "outputs": [],
     "prompt_number": 224
    },
    {
     "cell_type": "code",
     "collapsed": false,
     "input": [
      "t_diff = ((r_good.prefit_sec[:-1]-r_good.prefit_sec[-1])\n",
      "          -(r_mvk.prefit_sec[:-1]-r_mvk.prefit_sec[-1]))\n",
      "\n",
      "plt.hist(1e6*t_diff, bins=100, histtype='step')\n",
      "plt.xlabel(r\"error ($\\mu$s)\")\n",
      "n,x = plt.xlim()\n",
      "plt.twiny()\n",
      "plt.xlim(1e-3*n/period,1e-3*x/period)\n",
      "plt.xlabel(\"error (milliturns)\")"
     ],
     "language": "python",
     "metadata": {},
     "outputs": [
      {
       "metadata": {},
       "output_type": "pyout",
       "prompt_number": 225,
       "text": [
        "<matplotlib.text.Text at 0x10b01e90>"
       ]
      },
      {
       "metadata": {},
       "output_type": "display_data",
       "png": "[encoded data removed]",
       "text": [
        "<matplotlib.figure.Figure at 0xf6d2a10>"
       ]
      }
     ],
     "prompt_number": 225
    },
    {
     "cell_type": "code",
     "collapsed": false,
     "input": [
      "f_2 = 2\n",
      "r_good_2 = scrunch_and_extract(inputs[-1], factor=f_2)\n",
      "r_mvk_2 = scrunch_and_extract(inputs[-1], factor=f_2, via_mvk=True)\n",
      "\n",
      "t_diff_2 = ((r_good_2.prefit_sec[:-1]-r_good_2.prefit_sec[-1])\n",
      "          -(r_mvk_2.prefit_sec[:-1]-r_mvk_2.prefit_sec[-1]))\n"
     ],
     "language": "python",
     "metadata": {},
     "outputs": [],
     "prompt_number": 226
    },
    {
     "cell_type": "code",
     "collapsed": false,
     "input": [
      "n, x = min(t_diff.min(),t_diff_2.min()), max(t_diff.max(),t_diff_2.max())\n",
      "plt.hist(1e6*t_diff, bins=30, range=(1e6*n,1e6*x), histtype='step', normed=True, label=\"%d\" % f)\n",
      "plt.hist(1e6*t_diff_2, bins=30, range=(1e6*n,1e6*x), histtype='step', normed=True, label=\"%d\" % f_2)\n",
      "plt.xlabel(r\"error ($\\mu$s)\")\n",
      "plt.legend(loc=\"best\")\n",
      "n,x = plt.xlim()\n",
      "plt.twiny()\n",
      "plt.xlim(1e-3*n/period,1e-3*x/period)\n",
      "plt.xlabel(\"error (milliturns)\")\n"
     ],
     "language": "python",
     "metadata": {},
     "outputs": [
      {
       "metadata": {},
       "output_type": "pyout",
       "prompt_number": 227,
       "text": [
        "<matplotlib.text.Text at 0x10eff450>"
       ]
      },
      {
       "metadata": {},
       "output_type": "display_data",
       "png": "[encoded data removed]",
       "text": [
        "<matplotlib.figure.Figure at 0x10b25350>"
       ]
      }
     ],
     "prompt_number": 227
    },
    {
     "cell_type": "code",
     "collapsed": false,
     "input": [
      "factor = 32\n",
      "r_all_good = []\n",
      "r_all_mvk = []\n",
      "for f in inputs:\n",
      "    print f,\n",
      "    r_all_good.append(scrunch_and_extract(f, via_mvk=False, factor=factor))\n",
      "    r_all_mvk.append(scrunch_and_extract(f, via_mvk=True, factor=factor))\n",
      "    print len(r_all_good[-1].prefit_phs)\n",
      "    "
     ],
     "language": "python",
     "metadata": {},
     "outputs": [
      {
       "output_type": "stream",
       "stream": "stdout",
       "text": [
        "/nimrod1/aarchiba/0337+17/smear/guppi_56034_0337+17_0002.fscr "
       ]
      },
      {
       "output_type": "stream",
       "stream": "stdout",
       "text": [
        "20\n",
        "/nimrod1/aarchiba/0337+17/smear/guppi_56036_0337+17_0002.fscr "
       ]
      },
      {
       "output_type": "stream",
       "stream": "stdout",
       "text": [
        "6\n",
        "/nimrod1/aarchiba/0337+17/smear/guppi_56039_0337+17_0003.fscr "
       ]
      },
      {
       "output_type": "stream",
       "stream": "stdout",
       "text": [
        "16\n",
        "/nimrod1/aarchiba/0337+17/smear/guppi_56041_0337+17_0002.fscr "
       ]
      },
      {
       "output_type": "stream",
       "stream": "stdout",
       "text": [
        "9\n",
        "/nimrod1/aarchiba/0337+17/smear/guppi_56047_0337+17_0002.fscr "
       ]
      },
      {
       "output_type": "stream",
       "stream": "stdout",
       "text": [
        "11\n",
        "/nimrod1/aarchiba/0337+17/smear/guppi_56050_0337+17_0008.fscr "
       ]
      },
      {
       "output_type": "stream",
       "stream": "stdout",
       "text": [
        "7\n",
        "/nimrod1/aarchiba/0337+17/smear/guppi_56053_0337+17_0002.fscr "
       ]
      },
      {
       "output_type": "stream",
       "stream": "stdout",
       "text": [
        "5\n",
        "/nimrod1/aarchiba/0337+17/smear/guppi_56056_0337+17_0002.fscr "
       ]
      },
      {
       "output_type": "stream",
       "stream": "stdout",
       "text": [
        "12\n",
        "/nimrod1/aarchiba/0337+17/smear/guppi_56060_0337+17_0002.fscr "
       ]
      },
      {
       "output_type": "stream",
       "stream": "stdout",
       "text": [
        "4\n",
        "/nimrod1/aarchiba/0337+17/smear/guppi_56063_0337+17_0002.fscr "
       ]
      },
      {
       "output_type": "stream",
       "stream": "stdout",
       "text": [
        "10\n",
        "/nimrod1/aarchiba/0337+17/smear/guppi_56066_0337+17_0002.fscr "
       ]
      },
      {
       "output_type": "stream",
       "stream": "stdout",
       "text": [
        "5\n",
        "/nimrod1/aarchiba/0337+17/smear/guppi_56069_0337+17_0004.fscr "
       ]
      },
      {
       "output_type": "stream",
       "stream": "stdout",
       "text": [
        "15\n",
        "/nimrod1/aarchiba/0337+17/smear/guppi_56071_0337+17_0002.fscr "
       ]
      },
      {
       "output_type": "stream",
       "stream": "stdout",
       "text": [
        "8\n",
        "/nimrod1/aarchiba/0337+17/smear/guppi_56081_0337+17_0004.fscr "
       ]
      },
      {
       "output_type": "stream",
       "stream": "stdout",
       "text": [
        "5\n",
        "/nimrod1/aarchiba/0337+17/smear/guppi_56096_0337+17_0002.fscr "
       ]
      },
      {
       "output_type": "stream",
       "stream": "stdout",
       "text": [
        "5\n",
        "/nimrod1/aarchiba/0337+17/smear/guppi_56101_0337+17_0004.fscr "
       ]
      },
      {
       "output_type": "stream",
       "stream": "stdout",
       "text": [
        "7\n",
        "/nimrod1/aarchiba/0337+17/smear/guppi_56103_0337+17_0002.fscr "
       ]
      },
      {
       "output_type": "stream",
       "stream": "stdout",
       "text": [
        "4\n",
        "/nimrod1/aarchiba/0337+17/smear/guppi_56107_0337+17_0002.fscr "
       ]
      },
      {
       "output_type": "stream",
       "stream": "stdout",
       "text": [
        "4\n",
        "/nimrod1/aarchiba/0337+17/smear/guppi_56116_0337+17_0002.fscr "
       ]
      },
      {
       "output_type": "stream",
       "stream": "stdout",
       "text": [
        "5\n",
        "/nimrod1/aarchiba/0337+17/smear/guppi_56121_0337+17_0002.fscr "
       ]
      },
      {
       "output_type": "stream",
       "stream": "stdout",
       "text": [
        "10\n",
        "/nimrod1/aarchiba/0337+17/smear/guppi_56124_0337+17_0002.fscr "
       ]
      },
      {
       "output_type": "stream",
       "stream": "stdout",
       "text": [
        "11\n",
        "/nimrod1/aarchiba/0337+17/smear/guppi_56131_0337+17_0002.fscr "
       ]
      },
      {
       "output_type": "stream",
       "stream": "stdout",
       "text": [
        "5\n",
        "/nimrod1/aarchiba/0337+17/smear/guppi_56135_0337+17_0002.fscr "
       ]
      },
      {
       "output_type": "stream",
       "stream": "stdout",
       "text": [
        "12\n",
        "/nimrod1/aarchiba/0337+17/smear/guppi_56142_0337+17_0004.fscr "
       ]
      },
      {
       "output_type": "stream",
       "stream": "stdout",
       "text": [
        "111\n",
        "/nimrod1/aarchiba/0337+17/smear/guppi_56145_0337+17_0002.fscr "
       ]
      },
      {
       "output_type": "stream",
       "stream": "stdout",
       "text": [
        "9\n",
        "/nimrod1/aarchiba/0337+17/smear/guppi_56149_0337+17_0002.fscr "
       ]
      },
      {
       "output_type": "stream",
       "stream": "stdout",
       "text": [
        "11\n",
        "/nimrod1/aarchiba/0337+17/smear/guppi_56163_0337+17_0002.fscr "
       ]
      },
      {
       "output_type": "stream",
       "stream": "stdout",
       "text": [
        "9\n",
        "/nimrod1/aarchiba/0337+17/smear/guppi_56170_0337+17_0002.fscr "
       ]
      },
      {
       "output_type": "stream",
       "stream": "stdout",
       "text": [
        "7\n",
        "/nimrod1/aarchiba/0337+17/smear/guppi_56175_0337+17_0002.fscr "
       ]
      },
      {
       "output_type": "stream",
       "stream": "stdout",
       "text": [
        "8\n",
        "/nimrod1/aarchiba/0337+17/smear/guppi_56179_0337+17_0003.fscr "
       ]
      },
      {
       "output_type": "stream",
       "stream": "stdout",
       "text": [
        "7\n",
        "/nimrod1/aarchiba/0337+17/smear/guppi_56187_0337+17_0004.fscr "
       ]
      },
      {
       "output_type": "stream",
       "stream": "stdout",
       "text": [
        "9\n",
        "/nimrod1/aarchiba/0337+17/smear/guppi_56197_0337+17_0002.fscr "
       ]
      },
      {
       "output_type": "stream",
       "stream": "stdout",
       "text": [
        "7\n",
        "/nimrod1/aarchiba/0337+17/smear/guppi_56203_0337+17_0002.fscr "
       ]
      },
      {
       "output_type": "stream",
       "stream": "stdout",
       "text": [
        "7\n",
        "/nimrod1/aarchiba/0337+17/smear/guppi_56207_0337+17_0002.fscr "
       ]
      },
      {
       "output_type": "stream",
       "stream": "stdout",
       "text": [
        "7\n",
        "/nimrod1/aarchiba/0337+17/smear/guppi_56214_0337+17_0002.fscr "
       ]
      },
      {
       "output_type": "stream",
       "stream": "stdout",
       "text": [
        "5\n",
        "/nimrod1/aarchiba/0337+17/smear/guppi_56234_0337+17_0005.fscr "
       ]
      },
      {
       "output_type": "stream",
       "stream": "stdout",
       "text": [
        "130\n",
        "/nimrod1/aarchiba/0337+17/smear/guppi_56236_0337+17_0002.fscr "
       ]
      },
      {
       "output_type": "stream",
       "stream": "stdout",
       "text": [
        "10\n",
        "/nimrod1/aarchiba/0337+17/smear/guppi_56241_0337+17_0003.fscr "
       ]
      },
      {
       "output_type": "stream",
       "stream": "stdout",
       "text": [
        "8\n",
        "/nimrod1/aarchiba/0337+17/smear/guppi_56246_0337+17_0002.fscr "
       ]
      },
      {
       "output_type": "stream",
       "stream": "stdout",
       "text": [
        "8\n",
        "/nimrod1/aarchiba/0337+17/smear/guppi_56274_0337+17_0003.fscr "
       ]
      },
      {
       "output_type": "stream",
       "stream": "stdout",
       "text": [
        "7\n",
        "/nimrod1/aarchiba/0337+17/smear/guppi_56276_0337+17_0002.fscr "
       ]
      },
      {
       "output_type": "stream",
       "stream": "stdout",
       "text": [
        "9\n",
        "/nimrod1/aarchiba/0337+17/smear/guppi_56283_0337+17_0002.fscr "
       ]
      },
      {
       "output_type": "stream",
       "stream": "stdout",
       "text": [
        "7\n",
        "/nimrod1/aarchiba/0337+17/smear/guppi_56290_0337+17_0002.fscr "
       ]
      },
      {
       "output_type": "stream",
       "stream": "stdout",
       "text": [
        "9\n",
        "/nimrod1/aarchiba/0337+17/smear/guppi_56297_0337+17_0002.fscr "
       ]
      },
      {
       "output_type": "stream",
       "stream": "stdout",
       "text": [
        "8\n",
        "/nimrod1/aarchiba/0337+17/smear/guppi_56304_0337+17_0002.fscr "
       ]
      },
      {
       "output_type": "stream",
       "stream": "stdout",
       "text": [
        "8\n",
        "/nimrod1/aarchiba/0337+17/smear/guppi_56311_0337+17_0002.fscr "
       ]
      },
      {
       "output_type": "stream",
       "stream": "stdout",
       "text": [
        "7\n",
        "/nimrod1/aarchiba/0337+17/smear/guppi_56320_0337+17_0002.fscr "
       ]
      },
      {
       "output_type": "stream",
       "stream": "stdout",
       "text": [
        "132\n",
        "/nimrod1/aarchiba/0337+17/smear/guppi_56328_0337+17_0002.fscr "
       ]
      },
      {
       "output_type": "stream",
       "stream": "stdout",
       "text": [
        "12\n",
        "/nimrod1/aarchiba/0337+17/smear/guppi_56333_0337+17_0004.fscr "
       ]
      },
      {
       "output_type": "stream",
       "stream": "stdout",
       "text": [
        "10\n",
        "/nimrod1/aarchiba/0337+17/smear/guppi_56340_0337+17_0002.fscr "
       ]
      },
      {
       "output_type": "stream",
       "stream": "stdout",
       "text": [
        "8\n",
        "/nimrod1/aarchiba/0337+17/smear/guppi_56346_0337+17_0002.fscr "
       ]
      },
      {
       "output_type": "stream",
       "stream": "stdout",
       "text": [
        "4\n",
        "/nimrod1/aarchiba/0337+17/smear/guppi_56353_0337+17_0002.fscr "
       ]
      },
      {
       "output_type": "stream",
       "stream": "stdout",
       "text": [
        "2\n",
        "/nimrod1/aarchiba/0337+17/smear/guppi_56362_0337+17_0004.fscr "
       ]
      },
      {
       "output_type": "stream",
       "stream": "stdout",
       "text": [
        "3\n",
        "/nimrod1/aarchiba/0337+17/smear/guppi_56367_0337+17_0002.fscr "
       ]
      },
      {
       "output_type": "stream",
       "stream": "stdout",
       "text": [
        "6\n",
        "/nimrod1/aarchiba/0337+17/smear/guppi_56376_0337+17_0002.fscr "
       ]
      },
      {
       "output_type": "stream",
       "stream": "stdout",
       "text": [
        "8\n",
        "/nimrod1/aarchiba/0337+17/smear/guppi_56382_0337+17_0002.fscr "
       ]
      },
      {
       "output_type": "stream",
       "stream": "stdout",
       "text": [
        "7\n",
        "/nimrod1/aarchiba/0337+17/smear/guppi_56389_0337+17_0002.fscr "
       ]
      },
      {
       "output_type": "stream",
       "stream": "stdout",
       "text": [
        "8\n",
        "/nimrod1/aarchiba/0337+17/smear/guppi_56398_0337+17_0002.fscr "
       ]
      },
      {
       "output_type": "stream",
       "stream": "stdout",
       "text": [
        "7\n",
        "/nimrod1/aarchiba/0337+17/smear/guppi_56406_0337+17_0002.fscr "
       ]
      },
      {
       "output_type": "stream",
       "stream": "stdout",
       "text": [
        "10\n",
        "/nimrod1/aarchiba/0337+17/smear/guppi_56412_0337+17_0005.fscr "
       ]
      },
      {
       "output_type": "stream",
       "stream": "stdout",
       "text": [
        "127\n",
        "/nimrod1/aarchiba/0337+17/smear/guppi_56416_0337+17_0002.fscr "
       ]
      },
      {
       "output_type": "stream",
       "stream": "stdout",
       "text": [
        "7\n",
        "/nimrod1/aarchiba/0337+17/smear/guppi_56423_0337+17_0002.fscr "
       ]
      },
      {
       "output_type": "stream",
       "stream": "stdout",
       "text": [
        "8\n",
        "/nimrod1/aarchiba/0337+17/smear/guppi_56430_0337+17_0002.fscr "
       ]
      },
      {
       "output_type": "stream",
       "stream": "stdout",
       "text": [
        "9\n",
        "/nimrod1/aarchiba/0337+17/smear/guppi_56437_0337+17_0002.fscr "
       ]
      },
      {
       "output_type": "stream",
       "stream": "stdout",
       "text": [
        "9\n",
        "/nimrod1/aarchiba/0337+17/smear/guppi_56444_0337+17_0003.fscr "
       ]
      },
      {
       "output_type": "stream",
       "stream": "stdout",
       "text": [
        "5\n",
        "/nimrod1/aarchiba/0337+17/smear/guppi_56458_0337+17_0002.fscr "
       ]
      },
      {
       "output_type": "stream",
       "stream": "stdout",
       "text": [
        "7\n",
        "/nimrod1/aarchiba/0337+17/smear/guppi_56465_0337+17_0002.fscr "
       ]
      },
      {
       "output_type": "stream",
       "stream": "stdout",
       "text": [
        "7\n",
        "/nimrod1/aarchiba/0337+17/smear/guppi_56471_0337+17_0004.fscr "
       ]
      },
      {
       "output_type": "stream",
       "stream": "stdout",
       "text": [
        "9\n",
        "/nimrod1/aarchiba/0337+17/smear/guppi_56479_0337+17_0002.fscr "
       ]
      },
      {
       "output_type": "stream",
       "stream": "stdout",
       "text": [
        "4\n",
        "/nimrod1/aarchiba/0337+17/smear/guppi_56487_0337+17_0002.fscr "
       ]
      },
      {
       "output_type": "stream",
       "stream": "stdout",
       "text": [
        "4\n",
        "/nimrod1/aarchiba/0337+17/smear/guppi_56487_0337+17_0003.fscr "
       ]
      },
      {
       "output_type": "stream",
       "stream": "stdout",
       "text": [
        "4\n",
        "/nimrod1/aarchiba/0337+17/smear/guppi_56494_0337+17_0002.fscr "
       ]
      },
      {
       "output_type": "stream",
       "stream": "stdout",
       "text": [
        "5\n",
        "/nimrod1/aarchiba/0337+17/smear/guppi_56500_0337+17_0002.fscr "
       ]
      },
      {
       "output_type": "stream",
       "stream": "stdout",
       "text": [
        "8\n",
        "/nimrod1/aarchiba/0337+17/smear/guppi_56506_0337+17_0002.fscr "
       ]
      },
      {
       "output_type": "stream",
       "stream": "stdout",
       "text": [
        "87\n",
        "/nimrod1/aarchiba/0337+17/smear/guppi_56515_0337+17_0002.fscr "
       ]
      },
      {
       "output_type": "stream",
       "stream": "stdout",
       "text": [
        "7\n",
        "/nimrod1/aarchiba/0337+17/smear/guppi_56523_0337+17_0002.fscr "
       ]
      },
      {
       "output_type": "stream",
       "stream": "stdout",
       "text": [
        "9\n",
        "/nimrod1/aarchiba/0337+17/smear/guppi_56527_0337+17_0002.fscr "
       ]
      },
      {
       "output_type": "stream",
       "stream": "stdout",
       "text": [
        "74\n",
        "/nimrod1/aarchiba/0337+17/smear/guppi_56550_0337+17_0002.fscr "
       ]
      },
      {
       "output_type": "stream",
       "stream": "stdout",
       "text": [
        "12\n",
        "/nimrod1/aarchiba/0337+17/smear/guppi_56563_0337+17_0002.fscr "
       ]
      },
      {
       "output_type": "stream",
       "stream": "stdout",
       "text": [
        "7\n",
        "/nimrod1/aarchiba/0337+17/smear/guppi_56585_0337+17_0002.fscr "
       ]
      },
      {
       "output_type": "stream",
       "stream": "stdout",
       "text": [
        "8\n",
        "/nimrod1/aarchiba/0337+17/smear/guppi_56595_0337+17_0002.fscr "
       ]
      },
      {
       "output_type": "stream",
       "stream": "stdout",
       "text": [
        "8\n",
        "/nimrod1/aarchiba/0337+17/smear/guppi_56599_0337+17_0002.fscr "
       ]
      },
      {
       "output_type": "stream",
       "stream": "stdout",
       "text": [
        "8\n",
        "/nimrod1/aarchiba/0337+17/smear/guppi_56603_0337+17_0002.fscr "
       ]
      },
      {
       "output_type": "stream",
       "stream": "stdout",
       "text": [
        "6\n",
        "/nimrod1/aarchiba/0337+17/smear/guppi_56611_0337+17_0002.fscr "
       ]
      },
      {
       "output_type": "stream",
       "stream": "stdout",
       "text": [
        "6\n",
        "/nimrod1/aarchiba/0337+17/smear/guppi_56611_0337+17_0003.fscr "
       ]
      },
      {
       "output_type": "stream",
       "stream": "stdout",
       "text": [
        "10\n",
        "/nimrod1/aarchiba/0337+17/smear/guppi_56622_0337+17_0002.fscr "
       ]
      },
      {
       "output_type": "stream",
       "stream": "stdout",
       "text": [
        "8\n",
        "/nimrod1/aarchiba/0337+17/smear/guppi_56630_0337+17_0003.fscr "
       ]
      },
      {
       "output_type": "stream",
       "stream": "stdout",
       "text": [
        "7\n",
        "/nimrod1/aarchiba/0337+17/smear/guppi_56639_0337+17_0002.fscr "
       ]
      },
      {
       "output_type": "stream",
       "stream": "stdout",
       "text": [
        "6\n",
        "/nimrod1/aarchiba/0337+17/smear/guppi_56649_0337+17_0002.fscr "
       ]
      },
      {
       "output_type": "stream",
       "stream": "stdout",
       "text": [
        "8\n",
        "/nimrod1/aarchiba/0337+17/smear/guppi_56660_0337+17_0002.fscr "
       ]
      },
      {
       "output_type": "stream",
       "stream": "stdout",
       "text": [
        "6\n",
        "/nimrod1/aarchiba/0337+17/smear/guppi_56668_0337+17_0013.fscr "
       ]
      },
      {
       "output_type": "stream",
       "stream": "stdout",
       "text": [
        "10\n",
        "/nimrod1/aarchiba/0337+17/smear/guppi_56684_0337+17_0004.fscr "
       ]
      },
      {
       "output_type": "stream",
       "stream": "stdout",
       "text": [
        "4\n",
        "/nimrod1/aarchiba/0337+17/smear/guppi_56689_0337+17_0004.fscr "
       ]
      },
      {
       "output_type": "stream",
       "stream": "stdout",
       "text": [
        "3\n",
        "/nimrod1/aarchiba/0337+17/smear/guppi_56690_0337+17_0010.fscr "
       ]
      },
      {
       "output_type": "stream",
       "stream": "stdout",
       "text": [
        "81\n",
        "/nimrod1/aarchiba/0337+17/smear/guppi_56702_0337+17_0008.fscr "
       ]
      },
      {
       "output_type": "stream",
       "stream": "stdout",
       "text": [
        "11\n",
        "/nimrod1/aarchiba/0337+17/smear/guppi_56712_0337+17_0004.fscr "
       ]
      },
      {
       "output_type": "stream",
       "stream": "stdout",
       "text": [
        "4\n",
        "/nimrod1/aarchiba/0337+17/smear/guppi_56712_0337+17_0005.fscr "
       ]
      },
      {
       "output_type": "stream",
       "stream": "stdout",
       "text": [
        "3\n",
        "/nimrod1/aarchiba/0337+17/smear/guppi_56719_0337+17_0005.fscr "
       ]
      },
      {
       "output_type": "stream",
       "stream": "stdout",
       "text": [
        "2\n",
        "/nimrod1/aarchiba/0337+17/smear/guppi_56728_0337+17_0002.fscr "
       ]
      },
      {
       "output_type": "stream",
       "stream": "stdout",
       "text": [
        "10\n",
        "/nimrod1/aarchiba/0337+17/smear/guppi_56740_0337+17_0002.fscr "
       ]
      },
      {
       "output_type": "stream",
       "stream": "stdout",
       "text": [
        "8\n",
        "/nimrod1/aarchiba/0337+17/smear/guppi_56749_0337+17_0002.fscr "
       ]
      },
      {
       "output_type": "stream",
       "stream": "stdout",
       "text": [
        "9\n",
        "/nimrod1/aarchiba/0337+17/smear/guppi_56770_0337+17_0002.fscr "
       ]
      },
      {
       "output_type": "stream",
       "stream": "stdout",
       "text": [
        "8\n",
        "/nimrod1/aarchiba/0337+17/smear/guppi_56775_0337+17_0002.fscr "
       ]
      },
      {
       "output_type": "stream",
       "stream": "stdout",
       "text": [
        "81\n",
        "/nimrod1/aarchiba/0337+17/smear/guppi_56787_0337+17_0004.fscr "
       ]
      },
      {
       "output_type": "stream",
       "stream": "stdout",
       "text": [
        "6\n",
        "/nimrod1/aarchiba/0337+17/smear/guppi_56789_0337+17_0002.fscr "
       ]
      },
      {
       "output_type": "stream",
       "stream": "stdout",
       "text": [
        "9\n",
        "/nimrod1/aarchiba/0337+17/smear/guppi_56799_0337+17_0002.fscr "
       ]
      },
      {
       "output_type": "stream",
       "stream": "stdout",
       "text": [
        "9\n",
        "/nimrod1/aarchiba/0337+17/smear/guppi_56821_0337+17_0002.fscr "
       ]
      },
      {
       "output_type": "stream",
       "stream": "stdout",
       "text": [
        "9\n",
        "/nimrod1/aarchiba/0337+17/smear/guppi_56830_0337+17_0002.fscr "
       ]
      },
      {
       "output_type": "stream",
       "stream": "stdout",
       "text": [
        "6\n",
        "/nimrod1/aarchiba/0337+17/smear/guppi_56841_0337+17_0002.fscr "
       ]
      },
      {
       "output_type": "stream",
       "stream": "stdout",
       "text": [
        "6\n",
        "/nimrod1/aarchiba/0337+17/smear/guppi_56849_0337+17_0004.fscr "
       ]
      },
      {
       "output_type": "stream",
       "stream": "stdout",
       "text": [
        "8\n",
        "/nimrod1/aarchiba/0337+17/smear/guppi_56870_0337+17_0002.fscr "
       ]
      },
      {
       "output_type": "stream",
       "stream": "stdout",
       "text": [
        "87\n",
        "/nimrod1/aarchiba/0337+17/smear/guppi_56877_0337+17_0007.fscr "
       ]
      },
      {
       "output_type": "stream",
       "stream": "stdout",
       "text": [
        "11\n",
        "/nimrod1/aarchiba/0337+17/smear/guppi_56914_0337+17_0006.fscr "
       ]
      },
      {
       "output_type": "stream",
       "stream": "stdout",
       "text": [
        "4\n",
        "/nimrod1/aarchiba/0337+17/smear/guppi_56936_0337+17_0002.fscr "
       ]
      },
      {
       "output_type": "stream",
       "stream": "stdout",
       "text": [
        "10\n",
        "/nimrod1/aarchiba/0337+17/smear/guppi_56961_0337+17_0008.fscr "
       ]
      },
      {
       "output_type": "stream",
       "stream": "stdout",
       "text": [
        "3\n",
        "/nimrod1/aarchiba/0337+17/smear/guppi_56962_0337+17_0002.fscr "
       ]
      },
      {
       "output_type": "stream",
       "stream": "stdout",
       "text": [
        "87\n",
        "/nimrod1/aarchiba/0337+17/smear/guppi_56978_0337+17_0002.fscr "
       ]
      },
      {
       "output_type": "stream",
       "stream": "stdout",
       "text": [
        "12\n",
        "/nimrod1/aarchiba/0337+17/smear/guppi_57000_0337+17_0003.fscr "
       ]
      },
      {
       "output_type": "stream",
       "stream": "stdout",
       "text": [
        "10\n",
        "/nimrod1/aarchiba/0337+17/smear/guppi_57021_0337+17_0002.fscr "
       ]
      },
      {
       "output_type": "stream",
       "stream": "stdout",
       "text": [
        "10\n",
        "/nimrod1/aarchiba/0337+17/smear/guppi_57041_0337+17_0002.fscr "
       ]
      },
      {
       "output_type": "stream",
       "stream": "stdout",
       "text": [
        "10\n",
        "/nimrod1/aarchiba/0337+17/smear/guppi_57047_0337+17_0002.fscr "
       ]
      },
      {
       "output_type": "stream",
       "stream": "stdout",
       "text": [
        "63\n"
       ]
      }
     ],
     "prompt_number": 228
    },
    {
     "cell_type": "code",
     "collapsed": false,
     "input": [
      "toas_all_good = np.concatenate([r.prefit_sec[:-1]-r.prefit_sec[-1] for r in r_all_good])\n",
      "toas_all_mvk = np.concatenate([r.prefit_sec[:-1]-r.prefit_sec[-1] for r in r_all_mvk])\n",
      "mjds_all = np.concatenate([r.bary_TOA[:-1] for r in r_all_mvk])"
     ],
     "language": "python",
     "metadata": {},
     "outputs": [],
     "prompt_number": 237
    },
    {
     "cell_type": "code",
     "collapsed": false,
     "input": [
      "plt.hist(1e6*(toas_all_good-toas_all_mvk), bins=100)"
     ],
     "language": "python",
     "metadata": {},
     "outputs": [
      {
       "metadata": {},
       "output_type": "pyout",
       "prompt_number": 238,
       "text": [
        "(array([  1,   0,   0,   0,   0,   0,   0,   0,   0,   0,   0,   0,   0,\n",
        "         0,   0,   0,   0,   0,   0,   0,   0,   0,   0,   0,   0,   0,\n",
        "         0,   0,   0,   0,   0,   0,   0,   0,   0,   0,   0,   1,   1,\n",
        "         0,   0,   0,   0,   1,   2,   1,   2,   3,   1,   0,   2,   1,\n",
        "         1,   7,   3,   7,   8,   4,   7,   9,  11,  20,  26,  26,  49,\n",
        "        64,  94, 163, 294, 379, 192,  96,  80,  48,  39,  29,  23,  19,\n",
        "        14,  10,   7,   4,  11,   7,   7,   2,   2,   1,   1,   0,   0,\n",
        "         0,   0,   2,   0,   0,   0,   0,   0,   2]),\n",
        " array([-0.30534988, -0.30094981, -0.29654974, -0.29214967, -0.28774961,\n",
        "       -0.28334954, -0.27894947, -0.2745494 , -0.27014934, -0.26574927,\n",
        "       -0.2613492 , -0.25694913, -0.25254907, -0.248149  , -0.24374893,\n",
        "       -0.23934886, -0.23494879, -0.23054873, -0.22614866, -0.22174859,\n",
        "       -0.21734852, -0.21294846, -0.20854839, -0.20414832, -0.19974825,\n",
        "       -0.19534819, -0.19094812, -0.18654805, -0.18214798, -0.17774792,\n",
        "       -0.17334785, -0.16894778, -0.16454771, -0.16014764, -0.15574758,\n",
        "       -0.15134751, -0.14694744, -0.14254737, -0.13814731, -0.13374724,\n",
        "       -0.12934717, -0.1249471 , -0.12054704, -0.11614697, -0.1117469 ,\n",
        "       -0.10734683, -0.10294676, -0.0985467 , -0.09414663, -0.08974656,\n",
        "       -0.08534649, -0.08094643, -0.07654636, -0.07214629, -0.06774622,\n",
        "       -0.06334616, -0.05894609, -0.05454602, -0.05014595, -0.04574588,\n",
        "       -0.04134582, -0.03694575, -0.03254568, -0.02814561, -0.02374555,\n",
        "       -0.01934548, -0.01494541, -0.01054534, -0.00614528, -0.00174521,\n",
        "        0.00265486,  0.00705493,  0.011455  ,  0.01585506,  0.02025513,\n",
        "        0.0246552 ,  0.02905527,  0.03345533,  0.0378554 ,  0.04225547,\n",
        "        0.04665554,  0.0510556 ,  0.05545567,  0.05985574,  0.06425581,\n",
        "        0.06865587,  0.07305594,  0.07745601,  0.08185608,  0.08625615,\n",
        "        0.09065621,  0.09505628,  0.09945635,  0.10385642,  0.10825648,\n",
        "        0.11265655,  0.11705662,  0.12145669,  0.12585675,  0.13025682,\n",
        "        0.13465689]),\n",
        " <a list of 100 Patch objects>)"
       ]
      },
      {
       "metadata": {},
       "output_type": "display_data",
       "png": "[encoded data removed]",
       "text": [
        "<matplotlib.figure.Figure at 0x6d30150>"
       ]
      }
     ],
     "prompt_number": 238
    },
    {
     "cell_type": "code",
     "collapsed": false,
     "input": [
      "gridsize=15\n",
      "fpickle = \"fitter_params.pickle\"\n",
      "d = pickle.load(open(fpickle,\"rb\"))\n",
      "F2 = threebody.Fitter(**d)\n",
      "plt.hexbin(\n",
      "        ((mjds_all-F2.base_mjd-F2.best_parameters['tasc_i'])/F2.best_parameters['pb_i'])%1, \n",
      "        (mjds_all-F2.base_mjd)/F2.best_parameters['pb_o'],\n",
      "        C=1e6*(toas_all_good-toas_all_mvk), gridsize=gridsize, cmap='cool')\n",
      "plt.colorbar()"
     ],
     "language": "python",
     "metadata": {},
     "outputs": [
      {
       "output_type": "stream",
       "stream": "stderr",
       "text": [
        "DEBUG:threebody:base telescope WSRT1400 from list of ['AO1440', 'GBT1500', 'GBT1500s', 'WSRT1400']\n"
       ]
      },
      {
       "metadata": {},
       "output_type": "pyout",
       "prompt_number": 241,
       "text": [
        "<matplotlib.colorbar.Colorbar instance at 0x12497050>"
       ]
      },
      {
       "metadata": {},
       "output_type": "display_data",
       "png": "[encoded data removed]",
       "text": [
        "<matplotlib.figure.Figure at 0x6e6ebd0>"
       ]
      }
     ],
     "prompt_number": 241
    },
    {
     "cell_type": "code",
     "collapsed": false,
     "input": [
      "0.2*period*10/(1.6*86400)"
     ],
     "language": "python",
     "metadata": {},
     "outputs": [
      {
       "metadata": {},
       "output_type": "pyout",
       "prompt_number": 243,
       "text": [
        "3.953398115874713e-08"
       ]
      }
     ],
     "prompt_number": 243
    },
    {
     "cell_type": "code",
     "collapsed": false,
     "input": [
      "def get_polycos(mjd, par, site=\"1\", psr=\"0337+17\"):\n",
      "    c = [\"tempo\",\n",
      "                           \"-f\",par,\n",
      "                           \"-ZPSR=%s\" % psr,\n",
      "                           \"-ZSITE=%s\" % site,\n",
      "                           \"-ZSPAN=120M\",\n",
      "                           \"-ZTOBS=72\",\n",
      "                           \"-ZSTART=%d\" % (mjd-1),\n",
      "                           ]\n",
      "    print \" \".join(c)\n",
      "    subprocess.check_call(c)\n",
      "    \n",
      "    return polycos.polycos(psr)\n"
     ],
     "language": "python",
     "metadata": {},
     "outputs": [],
     "prompt_number": 373
    },
    {
     "cell_type": "code",
     "collapsed": false,
     "input": [
      "P = get_polycos(57000, mvk_ephemeris)"
     ],
     "language": "python",
     "metadata": {},
     "outputs": [
      {
       "output_type": "stream",
       "stream": "stdout",
       "text": [
        "tempo -f /home/aarchiba/projects/threebody/0337+17_MvK_nofit_i.par -ZPSR=0337+17 -ZSITE=1 -ZSPAN=120M -ZTOBS=72 -ZSTART=56999\n"
       ]
      },
      {
       "output_type": "stream",
       "stream": "stderr",
       "text": [
        "Read 36 polycos for PSR 0337+17\n"
       ]
      }
     ],
     "prompt_number": 374
    },
    {
     "cell_type": "code",
     "collapsed": false,
     "input": [
      "P.get_phs_and_freq(57000,0.01)"
     ],
     "language": "python",
     "metadata": {},
     "outputs": [
      {
       "metadata": {},
       "output_type": "pyout",
       "prompt_number": 375,
       "text": [
        "(0.7307281494140625, 365.96245504573733)"
       ]
      }
     ],
     "prompt_number": 375
    },
    {
     "cell_type": "code",
     "collapsed": false,
     "input": [
      "cached_mvk_polyco = None\n",
      "cached_fit_polyco = None\n",
      "def smear_by_polyco(mjd,dt=10.):\n",
      "    global cached_mvk_polyco, cached_fit_polyco\n",
      "    if (cached_mvk_polyco is None \n",
      "        or not (cached_mvk_polyco.TMIDs[0]<=mjd<=cached_mvk_polyco.TMIDs[-1])):\n",
      "        cached_mvk_polyco = get_polycos(mjd, mvk_ephemeris)\n",
      "        print cached_mvk_polyco.TMIDs[0], mjd, cached_mvk_polyco.TMIDs[-1]\n",
      "    if (cached_fit_polyco is None \n",
      "        or not (cached_fit_polyco.TMIDs[0]<=mjd<=cached_fit_polyco.TMIDs[-1])):\n",
      "        try:\n",
      "            subprocess.check_call([\"python\", \"fit_segment.py\", \"--fixedbtx\", str(mjd)])\n",
      "        except CalledProcessError:\n",
      "            subprocess.check_call([\"python\", \"fit_segment.py\", \"--fixedbtx\", str(mjd), \"--length\", \"20\"])            \n",
      "        cached_fit_polyco = get_polycos(mjd, \"J0337+17.par\")\n",
      "    imjd = np.floor(mjd)\n",
      "    fmjd = mjd - imjd\n",
      "    f = cached_mvk_polyco.get_phs_and_freq(imjd,fmjd)[1]\n",
      "    ps = ((cached_mvk_polyco.get_phs_and_freq(imjd,fmjd+dt/86400.)[0]\n",
      "             -cached_fit_polyco.get_phs_and_freq(imjd,fmjd+dt/86400.)[0])\n",
      "            -(cached_mvk_polyco.get_phs_and_freq(imjd,fmjd)[0]\n",
      "             -cached_fit_polyco.get_phs_and_freq(imjd,fmjd)[0]))\n",
      "    ps = (ps+0.5) % 1 - 0.5\n",
      "    return ps/f\n"
     ],
     "language": "python",
     "metadata": {},
     "outputs": [],
     "prompt_number": 398
    },
    {
     "cell_type": "code",
     "collapsed": false,
     "input": [
      "smear_by_polyco(57000)"
     ],
     "language": "python",
     "metadata": {},
     "outputs": [
      {
       "output_type": "stream",
       "stream": "stdout",
       "text": [
        "tempo -f /home/aarchiba/projects/threebody/0337+17_MvK_nofit_i.par -ZPSR=0337+17 -ZSITE=1 -ZSPAN=120M -ZTOBS=72 -ZSTART=56999\n",
        "56999.0416667"
       ]
      },
      {
       "output_type": "stream",
       "stream": "stdout",
       "text": [
        " 57000 57001.9583333\n",
        "tempo -f J0337+17.par -ZPSR=0337+17 -ZSITE=1 -ZSPAN=120M -ZTOBS=72 -ZSTART=56999"
       ]
      },
      {
       "output_type": "stream",
       "stream": "stderr",
       "text": [
        "Read 36 polycos for PSR 0337+17\n",
        "Read 36 polycos for PSR 0337+17\n"
       ]
      },
      {
       "output_type": "stream",
       "stream": "stdout",
       "text": [
        "\n"
       ]
      },
      {
       "metadata": {},
       "output_type": "pyout",
       "prompt_number": 399,
       "text": [
        "-9.3813569333334484e-08"
       ]
      }
     ],
     "prompt_number": 399
    },
    {
     "cell_type": "code",
     "collapsed": false,
     "input": [
      "smear_by_polyco(57003)"
     ],
     "language": "python",
     "metadata": {},
     "outputs": [
      {
       "output_type": "stream",
       "stream": "stdout",
       "text": [
        "tempo -f /home/aarchiba/projects/threebody/0337+17_MvK_nofit_i.par -ZPSR=0337+17 -ZSITE=1 -ZSPAN=120M -ZTOBS=72 -ZSTART=57002\n",
        "57002.0416667"
       ]
      },
      {
       "output_type": "stream",
       "stream": "stdout",
       "text": [
        " 57003 57004.9583333\n",
        "tempo -f J0337+17.par -ZPSR=0337+17 -ZSITE=1 -ZSPAN=120M -ZTOBS=72 -ZSTART=57002"
       ]
      },
      {
       "output_type": "stream",
       "stream": "stderr",
       "text": [
        "Read 36 polycos for PSR 0337+17\n",
        "Read 36 polycos for PSR 0337+17\n"
       ]
      },
      {
       "output_type": "stream",
       "stream": "stdout",
       "text": [
        "\n"
       ]
      },
      {
       "metadata": {},
       "output_type": "pyout",
       "prompt_number": 400,
       "text": [
        "1.2508591976237982e-07"
       ]
      }
     ],
     "prompt_number": 400
    },
    {
     "cell_type": "code",
     "collapsed": false,
     "input": [
      "smear_by_polyco(57002.96)"
     ],
     "language": "python",
     "metadata": {},
     "outputs": [
      {
       "metadata": {},
       "output_type": "pyout",
       "prompt_number": 401,
       "text": [
        "1.4593430891045797e-07"
       ]
      }
     ],
     "prompt_number": 401
    },
    {
     "cell_type": "code",
     "collapsed": false,
     "input": [
      "J = np.load(\"jac-uniform.npy\")"
     ],
     "language": "python",
     "metadata": {},
     "outputs": [],
     "prompt_number": 402
    },
    {
     "cell_type": "code",
     "collapsed": false,
     "input": [
      "fpickle = \"sensitivity_params.pickle\"\n",
      "d = pickle.load(open(fpickle,\"rb\"))\n",
      "F1 = threebody.Fitter(**d)\n"
     ],
     "language": "python",
     "metadata": {},
     "outputs": [
      {
       "output_type": "stream",
       "stream": "stderr",
       "text": [
        "DEBUG:threebody:base telescope infinite from list of ['infinite']\n"
       ]
      }
     ],
     "prompt_number": 403
    },
    {
     "cell_type": "code",
     "collapsed": false,
     "input": [
      "p_order = [\n",
      " 'asini_i',\n",
      " 'tasc_i',\n",
      " 'pb_i',\n",
      " 'eps1_i',\n",
      " 'eps2_i',\n",
      " 'asini_o',\n",
      " 'tasc_o',\n",
      " 'pb_o',\n",
      " 'eps1_o',\n",
      " 'eps2_o',\n",
      " 'd_RAJ',\n",
      " 'd_DECJ',\n",
      " 'd_PMRA',\n",
      " 'd_PMDEC',\n",
      " 'd_PX',\n",
      " 'acosi_i',\n",
      " 'q_i',\n",
      " 'acosi_o',\n",
      " 'delta_lan',\n",
      " 'lan',\n",
      " 'dgamma',\n",
      " 'dbeta',\n",
      " 'delta',\n",
      " ]\n",
      "if len(p_order)!=len(F.parameters):\n",
      "    p_order = list(F.parameters)[:]\n",
      "    i = p_order.index('delta')\n",
      "    del p_order[i]\n",
      "    p_order.append(F.parameters[i])\n",
      "    print p_order"
     ],
     "language": "python",
     "metadata": {},
     "outputs": [],
     "prompt_number": 404
    },
    {
     "cell_type": "code",
     "collapsed": false,
     "input": [
      "J2 = J.copy()\n",
      "for j, p in enumerate(p_order):\n",
      "    J2[:,j] = J[:,F.parameters.index(p)]\n",
      "Q, R = scipy.linalg.qr(J2, mode='economic')"
     ],
     "language": "python",
     "metadata": {},
     "outputs": [],
     "prompt_number": 405
    },
    {
     "cell_type": "code",
     "collapsed": false,
     "input": [
      "sim_r = Q[:,-1]*R[-1,-1]/F.parameters['f0']\n",
      "sim_r.min(), sim_r.max()"
     ],
     "language": "python",
     "metadata": {},
     "outputs": [
      {
       "ename": "TypeError",
       "evalue": "list indices must be integers, not str",
       "output_type": "pyerr",
       "traceback": [
        "\u001b[0;31m---------------------------------------------------------------------------\u001b[0m\n\u001b[0;31mTypeError\u001b[0m                                 Traceback (most recent call last)",
        "\u001b[0;32m<ipython-input-443-95d2b9eee606>\u001b[0m in \u001b[0;36m<module>\u001b[0;34m()\u001b[0m\n\u001b[0;32m----> 1\u001b[0;31m \u001b[0msim_r\u001b[0m \u001b[0;34m=\u001b[0m \u001b[0mQ\u001b[0m\u001b[0;34m[\u001b[0m\u001b[0;34m:\u001b[0m\u001b[0;34m,\u001b[0m\u001b[0;34m-\u001b[0m\u001b[0;36m1\u001b[0m\u001b[0;34m]\u001b[0m\u001b[0;34m*\u001b[0m\u001b[0mR\u001b[0m\u001b[0;34m[\u001b[0m\u001b[0;34m-\u001b[0m\u001b[0;36m1\u001b[0m\u001b[0;34m,\u001b[0m\u001b[0;34m-\u001b[0m\u001b[0;36m1\u001b[0m\u001b[0;34m]\u001b[0m\u001b[0;34m/\u001b[0m\u001b[0mF\u001b[0m\u001b[0;34m.\u001b[0m\u001b[0mparameters\u001b[0m\u001b[0;34m[\u001b[0m\u001b[0;34m'f0'\u001b[0m\u001b[0;34m]\u001b[0m\u001b[0;34m\u001b[0m\u001b[0m\n\u001b[0m\u001b[1;32m      2\u001b[0m \u001b[0msim_r\u001b[0m\u001b[0;34m.\u001b[0m\u001b[0mmin\u001b[0m\u001b[0;34m(\u001b[0m\u001b[0;34m)\u001b[0m\u001b[0;34m,\u001b[0m \u001b[0msim_r\u001b[0m\u001b[0;34m.\u001b[0m\u001b[0mmax\u001b[0m\u001b[0;34m(\u001b[0m\u001b[0;34m)\u001b[0m\u001b[0;34m\u001b[0m\u001b[0m\n",
        "\u001b[0;31mTypeError\u001b[0m: list indices must be integers, not str"
       ]
      }
     ],
     "prompt_number": 443
    },
    {
     "cell_type": "code",
     "collapsed": false,
     "input": [
      "cmap = \"bwr\"\n",
      "gridsize = 40\n",
      "delta_step = 1e-4\n",
      "\n",
      "plt.hexbin(\n",
      "        ((F1.mjds-F1.base_mjd-F1.best_parameters['tasc_i'])/F1.best_parameters['pb_i'])%1, \n",
      "        F1.mjds/F1.best_parameters['pb_o'],\n",
      "        vmin=-10, vmax=10,\n",
      "        C=1e6*delta_step*(sim_r-sim_r.mean()), gridsize=gridsize, cmap=cmap)\n",
      "plt.xlabel(\"Inner phase\")\n",
      "plt.ylabel(\"Outer phase\")\n",
      "plt.title(r\"$\\Delta = %g$\" % delta_step)\n"
     ],
     "language": "python",
     "metadata": {},
     "outputs": []
    },
    {
     "cell_type": "code",
     "collapsed": false,
     "input": [],
     "language": "python",
     "metadata": {},
     "outputs": [],
     "prompt_number": 407
    },
    {
     "cell_type": "code",
     "collapsed": false,
     "input": [
      "#smrs = []\n",
      "for t in F1.mjds[len(smrs):]:\n",
      "    smrs.append(smear_by_polyco(t+F1.base_mjd))\n"
     ],
     "language": "python",
     "metadata": {},
     "outputs": [
      {
       "output_type": "stream",
       "stream": "stdout",
       "text": [
        "tempo -f /home/aarchiba/projects/threebody/0337+17_MvK_nofit_i.par -ZPSR=0337+17 -ZSITE=1 -ZSPAN=120M -ZTOBS=72 -ZSTART=57032\n",
        "57032.0416667"
       ]
      },
      {
       "output_type": "stream",
       "stream": "stdout",
       "text": [
        " 57033.9701008 57034.9583333\n",
        "tempo -f J0337+17.par -ZPSR=0337+17 -ZSITE=1 -ZSPAN=120M -ZTOBS=72 -ZSTART=57032"
       ]
      },
      {
       "output_type": "stream",
       "stream": "stderr",
       "text": [
        "Read 36 polycos for PSR 0337+17\n",
        "Read 36 polycos for PSR 0337+17\n"
       ]
      },
      {
       "output_type": "stream",
       "stream": "stdout",
       "text": [
        "\n",
        "tempo -f /home/aarchiba/projects/threebody/0337+17_MvK_nofit_i.par -ZPSR=0337+17 -ZSITE=1 -ZSPAN=120M -ZTOBS=72 -ZSTART=57033"
       ]
      },
      {
       "output_type": "stream",
       "stream": "stdout",
       "text": [
        "\n",
        "57033.0416667"
       ]
      },
      {
       "output_type": "stream",
       "stream": "stdout",
       "text": [
        " 57034.9692841 57035.9583333\n",
        "tempo -f J0337+17.par -ZPSR=0337+17 -ZSITE=1 -ZSPAN=120M -ZTOBS=72 -ZSTART=57033"
       ]
      },
      {
       "output_type": "stream",
       "stream": "stderr",
       "text": [
        "Read 36 polycos for PSR 0337+17\n",
        "Read 36 polycos for PSR 0337+17\n"
       ]
      },
      {
       "output_type": "stream",
       "stream": "stdout",
       "text": [
        "\n",
        "tempo -f /home/aarchiba/projects/threebody/0337+17_MvK_nofit_i.par -ZPSR=0337+17 -ZSITE=1 -ZSPAN=120M -ZTOBS=72 -ZSTART=57034"
       ]
      },
      {
       "output_type": "stream",
       "stream": "stdout",
       "text": [
        "\n",
        "57034.0416667"
       ]
      },
      {
       "output_type": "stream",
       "stream": "stdout",
       "text": [
        " 57035.9684674 57036.9583333\n",
        "tempo -f J0337+17.par -ZPSR=0337+17 -ZSITE=1 -ZSPAN=120M -ZTOBS=72 -ZSTART=57034"
       ]
      },
      {
       "output_type": "stream",
       "stream": "stderr",
       "text": [
        "Read 36 polycos for PSR 0337+17\n",
        "Read 36 polycos for PSR 0337+17\n"
       ]
      },
      {
       "output_type": "stream",
       "stream": "stdout",
       "text": [
        "\n",
        "tempo -f /home/aarchiba/projects/threebody/0337+17_MvK_nofit_i.par -ZPSR=0337+17 -ZSITE=1 -ZSPAN=120M -ZTOBS=72 -ZSTART=57035"
       ]
      },
      {
       "output_type": "stream",
       "stream": "stdout",
       "text": [
        "\n",
        "57035.0416667"
       ]
      },
      {
       "output_type": "stream",
       "stream": "stdout",
       "text": [
        " 57036.9676507 57037.9583333\n",
        "tempo -f J0337+17.par -ZPSR=0337+17 -ZSITE=1 -ZSPAN=120M -ZTOBS=72 -ZSTART=57035"
       ]
      },
      {
       "output_type": "stream",
       "stream": "stderr",
       "text": [
        "Read 36 polycos for PSR 0337+17\n",
        "Read 36 polycos for PSR 0337+17\n"
       ]
      },
      {
       "output_type": "stream",
       "stream": "stdout",
       "text": [
        "\n",
        "tempo -f /home/aarchiba/projects/threebody/0337+17_MvK_nofit_i.par -ZPSR=0337+17 -ZSITE=1 -ZSPAN=120M -ZTOBS=72 -ZSTART=57036"
       ]
      },
      {
       "output_type": "stream",
       "stream": "stdout",
       "text": [
        "\n",
        "57036.0416667"
       ]
      },
      {
       "output_type": "stream",
       "stream": "stdout",
       "text": [
        " 57037.966834 57038.9583333\n",
        "tempo -f J0337+17.par -ZPSR=0337+17 -ZSITE=1 -ZSPAN=120M -ZTOBS=72 -ZSTART=57036"
       ]
      },
      {
       "output_type": "stream",
       "stream": "stderr",
       "text": [
        "Read 36 polycos for PSR 0337+17\n",
        "Read 36 polycos for PSR 0337+17\n"
       ]
      },
      {
       "output_type": "stream",
       "stream": "stdout",
       "text": [
        "\n",
        "tempo -f /home/aarchiba/projects/threebody/0337+17_MvK_nofit_i.par -ZPSR=0337+17 -ZSITE=1 -ZSPAN=120M -ZTOBS=72 -ZSTART=57037"
       ]
      },
      {
       "output_type": "stream",
       "stream": "stdout",
       "text": [
        "\n",
        "57037.0416667"
       ]
      },
      {
       "output_type": "stream",
       "stream": "stdout",
       "text": [
        " 57038.9660173 57039.9583333\n",
        "tempo -f J0337+17.par -ZPSR=0337+17 -ZSITE=1 -ZSPAN=120M -ZTOBS=72 -ZSTART=57037"
       ]
      },
      {
       "output_type": "stream",
       "stream": "stderr",
       "text": [
        "Read 36 polycos for PSR 0337+17\n",
        "Read 36 polycos for PSR 0337+17\n"
       ]
      },
      {
       "output_type": "stream",
       "stream": "stdout",
       "text": [
        "\n",
        "tempo -f /home/aarchiba/projects/threebody/0337+17_MvK_nofit_i.par -ZPSR=0337+17 -ZSITE=1 -ZSPAN=120M -ZTOBS=72 -ZSTART=57038"
       ]
      },
      {
       "output_type": "stream",
       "stream": "stdout",
       "text": [
        "\n",
        "57038.0416667"
       ]
      },
      {
       "output_type": "stream",
       "stream": "stdout",
       "text": [
        " 57039.9652006 57040.9583333\n",
        "tempo -f J0337+17.par -ZPSR=0337+17 -ZSITE=1 -ZSPAN=120M -ZTOBS=72 -ZSTART=57038"
       ]
      },
      {
       "output_type": "stream",
       "stream": "stderr",
       "text": [
        "Read 36 polycos for PSR 0337+17\n",
        "Read 36 polycos for PSR 0337+17\n"
       ]
      },
      {
       "output_type": "stream",
       "stream": "stdout",
       "text": [
        "\n",
        "tempo -f /home/aarchiba/projects/threebody/0337+17_MvK_nofit_i.par -ZPSR=0337+17 -ZSITE=1 -ZSPAN=120M -ZTOBS=72 -ZSTART=57039"
       ]
      },
      {
       "output_type": "stream",
       "stream": "stdout",
       "text": [
        "\n",
        "57039.0416667"
       ]
      },
      {
       "output_type": "stream",
       "stream": "stdout",
       "text": [
        " 57040.9643839 57041.9583333\n",
        "tempo -f J0337+17.par -ZPSR=0337+17 -ZSITE=1 -ZSPAN=120M -ZTOBS=72 -ZSTART=57039"
       ]
      },
      {
       "output_type": "stream",
       "stream": "stderr",
       "text": [
        "Read 36 polycos for PSR 0337+17\n",
        "Read 36 polycos for PSR 0337+17\n"
       ]
      },
      {
       "output_type": "stream",
       "stream": "stdout",
       "text": [
        "\n",
        "tempo -f /home/aarchiba/projects/threebody/0337+17_MvK_nofit_i.par -ZPSR=0337+17 -ZSITE=1 -ZSPAN=120M -ZTOBS=72 -ZSTART=57040"
       ]
      },
      {
       "output_type": "stream",
       "stream": "stdout",
       "text": [
        "\n",
        "57040.0416667"
       ]
      },
      {
       "output_type": "stream",
       "stream": "stdout",
       "text": [
        " 57041.9635672 57042.9583333\n",
        "tempo -f J0337+17.par -ZPSR=0337+17 -ZSITE=1 -ZSPAN=120M -ZTOBS=72 -ZSTART=57040"
       ]
      },
      {
       "output_type": "stream",
       "stream": "stderr",
       "text": [
        "Read 36 polycos for PSR 0337+17\n",
        "Read 36 polycos for PSR 0337+17\n"
       ]
      },
      {
       "output_type": "stream",
       "stream": "stdout",
       "text": [
        "\n",
        "tempo -f /home/aarchiba/projects/threebody/0337+17_MvK_nofit_i.par -ZPSR=0337+17 -ZSITE=1 -ZSPAN=120M -ZTOBS=72 -ZSTART=57041"
       ]
      },
      {
       "output_type": "stream",
       "stream": "stdout",
       "text": [
        "\n",
        "57041.0416667"
       ]
      },
      {
       "output_type": "stream",
       "stream": "stdout",
       "text": [
        " 57042.9627505 57043.9583333\n",
        "tempo -f J0337+17.par -ZPSR=0337+17 -ZSITE=1 -ZSPAN=120M -ZTOBS=72 -ZSTART=57041"
       ]
      },
      {
       "output_type": "stream",
       "stream": "stderr",
       "text": [
        "Read 36 polycos for PSR 0337+17\n",
        "Read 36 polycos for PSR 0337+17\n"
       ]
      },
      {
       "output_type": "stream",
       "stream": "stdout",
       "text": [
        "\n",
        "tempo -f /home/aarchiba/projects/threebody/0337+17_MvK_nofit_i.par -ZPSR=0337+17 -ZSITE=1 -ZSPAN=120M -ZTOBS=72 -ZSTART=57042"
       ]
      },
      {
       "output_type": "stream",
       "stream": "stdout",
       "text": [
        "\n",
        "57042.0416667"
       ]
      },
      {
       "output_type": "stream",
       "stream": "stdout",
       "text": [
        " 57043.9619339 57044.9583333\n",
        "tempo -f J0337+17.par -ZPSR=0337+17 -ZSITE=1 -ZSPAN=120M -ZTOBS=72 -ZSTART=57042"
       ]
      },
      {
       "output_type": "stream",
       "stream": "stderr",
       "text": [
        "Read 36 polycos for PSR 0337+17\n",
        "Read 36 polycos for PSR 0337+17\n"
       ]
      },
      {
       "output_type": "stream",
       "stream": "stdout",
       "text": [
        "\n",
        "tempo -f /home/aarchiba/projects/threebody/0337+17_MvK_nofit_i.par -ZPSR=0337+17 -ZSITE=1 -ZSPAN=120M -ZTOBS=72 -ZSTART=57043"
       ]
      },
      {
       "output_type": "stream",
       "stream": "stdout",
       "text": [
        "\n",
        "57043.0416667"
       ]
      },
      {
       "output_type": "stream",
       "stream": "stdout",
       "text": [
        " 57044.9611171 57045.9583333\n",
        "tempo -f J0337+17.par -ZPSR=0337+17 -ZSITE=1 -ZSPAN=120M -ZTOBS=72 -ZSTART=57043"
       ]
      },
      {
       "output_type": "stream",
       "stream": "stderr",
       "text": [
        "Read 36 polycos for PSR 0337+17\n",
        "Read 36 polycos for PSR 0337+17\n"
       ]
      },
      {
       "output_type": "stream",
       "stream": "stdout",
       "text": [
        "\n",
        "tempo -f /home/aarchiba/projects/threebody/0337+17_MvK_nofit_i.par -ZPSR=0337+17 -ZSITE=1 -ZSPAN=120M -ZTOBS=72 -ZSTART=57044"
       ]
      },
      {
       "output_type": "stream",
       "stream": "stdout",
       "text": [
        "\n",
        "57044.0416667"
       ]
      },
      {
       "output_type": "stream",
       "stream": "stdout",
       "text": [
        " 57045.9603005 57046.9583333\n",
        "tempo -f J0337+17.par -ZPSR=0337+17 -ZSITE=1 -ZSPAN=120M -ZTOBS=72 -ZSTART=57044"
       ]
      },
      {
       "output_type": "stream",
       "stream": "stderr",
       "text": [
        "Read 36 polycos for PSR 0337+17\n",
        "Read 36 polycos for PSR 0337+17\n"
       ]
      },
      {
       "output_type": "stream",
       "stream": "stdout",
       "text": [
        "\n",
        "tempo -f /home/aarchiba/projects/threebody/0337+17_MvK_nofit_i.par -ZPSR=0337+17 -ZSITE=1 -ZSPAN=120M -ZTOBS=72 -ZSTART=57045"
       ]
      },
      {
       "output_type": "stream",
       "stream": "stdout",
       "text": [
        "\n",
        "57045.0416667"
       ]
      },
      {
       "output_type": "stream",
       "stream": "stdout",
       "text": [
        " 57046.9594838 57047.9583333\n",
        "tempo -f J0337+17.par -ZPSR=0337+17 -ZSITE=1 -ZSPAN=120M -ZTOBS=72 -ZSTART=57045"
       ]
      },
      {
       "output_type": "stream",
       "stream": "stderr",
       "text": [
        "Read 36 polycos for PSR 0337+17\n",
        "Read 36 polycos for PSR 0337+17\n"
       ]
      },
      {
       "output_type": "stream",
       "stream": "stdout",
       "text": [
        "\n",
        "tempo -f /home/aarchiba/projects/threebody/0337+17_MvK_nofit_i.par -ZPSR=0337+17 -ZSITE=1 -ZSPAN=120M -ZTOBS=72 -ZSTART=57046"
       ]
      },
      {
       "output_type": "stream",
       "stream": "stdout",
       "text": [
        "\n",
        "57046.0416667"
       ]
      },
      {
       "output_type": "stream",
       "stream": "stdout",
       "text": [
        " 57047.9586671 57048.9583333\n",
        "tempo -f J0337+17.par -ZPSR=0337+17 -ZSITE=1 -ZSPAN=120M -ZTOBS=72 -ZSTART=57046"
       ]
      },
      {
       "output_type": "stream",
       "stream": "stderr",
       "text": [
        "Read 36 polycos for PSR 0337+17\n",
        "Read 36 polycos for PSR 0337+17\n"
       ]
      },
      {
       "output_type": "stream",
       "stream": "stdout",
       "text": [
        "\n",
        "tempo -f /home/aarchiba/projects/threebody/0337+17_MvK_nofit_i.par -ZPSR=0337+17 -ZSITE=1 -ZSPAN=120M -ZTOBS=72 -ZSTART=57047"
       ]
      },
      {
       "output_type": "stream",
       "stream": "stdout",
       "text": [
        "\n",
        "57047.0416667"
       ]
      },
      {
       "output_type": "stream",
       "stream": "stdout",
       "text": [
        " 57048.977834 57049.9583333\n",
        "tempo -f J0337+17.par -ZPSR=0337+17 -ZSITE=1 -ZSPAN=120M -ZTOBS=72 -ZSTART=57047"
       ]
      },
      {
       "output_type": "stream",
       "stream": "stderr",
       "text": [
        "Read 36 polycos for PSR 0337+17\n",
        "Read 36 polycos for PSR 0337+17\n"
       ]
      },
      {
       "output_type": "stream",
       "stream": "stdout",
       "text": [
        "\n",
        "tempo -f /home/aarchiba/projects/threebody/0337+17_MvK_nofit_i.par -ZPSR=0337+17 -ZSITE=1 -ZSPAN=120M -ZTOBS=72 -ZSTART=57048"
       ]
      },
      {
       "output_type": "stream",
       "stream": "stdout",
       "text": [
        "\n",
        "57048.0416667"
       ]
      },
      {
       "output_type": "stream",
       "stream": "stdout",
       "text": [
        " 57049.9770174 57050.9583333\n",
        "tempo -f J0337+17.par -ZPSR=0337+17 -ZSITE=1 -ZSPAN=120M -ZTOBS=72 -ZSTART=57048"
       ]
      },
      {
       "output_type": "stream",
       "stream": "stderr",
       "text": [
        "Read 36 polycos for PSR 0337+17\n",
        "Read 36 polycos for PSR 0337+17\n"
       ]
      },
      {
       "output_type": "stream",
       "stream": "stdout",
       "text": [
        "\n",
        "tempo -f /home/aarchiba/projects/threebody/0337+17_MvK_nofit_i.par -ZPSR=0337+17 -ZSITE=1 -ZSPAN=120M -ZTOBS=72 -ZSTART=57049"
       ]
      },
      {
       "output_type": "stream",
       "stream": "stdout",
       "text": [
        "\n",
        "57049.0416667"
       ]
      },
      {
       "output_type": "stream",
       "stream": "stdout",
       "text": [
        " 57050.9762006 57051.9583333\n",
        "tempo -f J0337+17.par -ZPSR=0337+17 -ZSITE=1 -ZSPAN=120M -ZTOBS=72 -ZSTART=57049"
       ]
      },
      {
       "output_type": "stream",
       "stream": "stderr",
       "text": [
        "Read 36 polycos for PSR 0337+17\n",
        "Read 36 polycos for PSR 0337+17\n"
       ]
      },
      {
       "output_type": "stream",
       "stream": "stdout",
       "text": [
        "\n",
        "tempo -f /home/aarchiba/projects/threebody/0337+17_MvK_nofit_i.par -ZPSR=0337+17 -ZSITE=1 -ZSPAN=120M -ZTOBS=72 -ZSTART=57050"
       ]
      },
      {
       "output_type": "stream",
       "stream": "stdout",
       "text": [
        "\n",
        "57050.0416667"
       ]
      },
      {
       "output_type": "stream",
       "stream": "stdout",
       "text": [
        " 57051.9753839 57052.9583333\n",
        "tempo -f J0337+17.par -ZPSR=0337+17 -ZSITE=1 -ZSPAN=120M -ZTOBS=72 -ZSTART=57050"
       ]
      },
      {
       "output_type": "stream",
       "stream": "stderr",
       "text": [
        "Read 36 polycos for PSR 0337+17\n",
        "Read 36 polycos for PSR 0337+17\n"
       ]
      },
      {
       "output_type": "stream",
       "stream": "stdout",
       "text": [
        "\n",
        "tempo -f /home/aarchiba/projects/threebody/0337+17_MvK_nofit_i.par -ZPSR=0337+17 -ZSITE=1 -ZSPAN=120M -ZTOBS=72 -ZSTART=57051"
       ]
      },
      {
       "output_type": "stream",
       "stream": "stdout",
       "text": [
        "\n",
        "57051.0416667"
       ]
      },
      {
       "output_type": "stream",
       "stream": "stdout",
       "text": [
        " 57052.9745672 57053.9583333\n",
        "tempo -f J0337+17.par -ZPSR=0337+17 -ZSITE=1 -ZSPAN=120M -ZTOBS=72 -ZSTART=57051"
       ]
      },
      {
       "output_type": "stream",
       "stream": "stderr",
       "text": [
        "Read 36 polycos for PSR 0337+17\n",
        "Read 36 polycos for PSR 0337+17\n"
       ]
      },
      {
       "output_type": "stream",
       "stream": "stdout",
       "text": [
        "\n",
        "tempo -f /home/aarchiba/projects/threebody/0337+17_MvK_nofit_i.par -ZPSR=0337+17 -ZSITE=1 -ZSPAN=120M -ZTOBS=72 -ZSTART=57052"
       ]
      },
      {
       "output_type": "stream",
       "stream": "stdout",
       "text": [
        "\n",
        "57052.0416667"
       ]
      },
      {
       "output_type": "stream",
       "stream": "stdout",
       "text": [
        " 57053.9737505 57054.9583333\n",
        "tempo -f J0337+17.par -ZPSR=0337+17 -ZSITE=1 -ZSPAN=120M -ZTOBS=72 -ZSTART=57052"
       ]
      },
      {
       "output_type": "stream",
       "stream": "stderr",
       "text": [
        "Read 36 polycos for PSR 0337+17\n",
        "Read 36 polycos for PSR 0337+17\n"
       ]
      },
      {
       "output_type": "stream",
       "stream": "stdout",
       "text": [
        "\n",
        "tempo -f /home/aarchiba/projects/threebody/0337+17_MvK_nofit_i.par -ZPSR=0337+17 -ZSITE=1 -ZSPAN=120M -ZTOBS=72 -ZSTART=57053"
       ]
      },
      {
       "output_type": "stream",
       "stream": "stdout",
       "text": [
        "\n",
        "57053.0416667"
       ]
      },
      {
       "output_type": "stream",
       "stream": "stdout",
       "text": [
        " 57054.9729338 57055.9583333\n",
        "tempo -f J0337+17.par -ZPSR=0337+17 -ZSITE=1 -ZSPAN=120M -ZTOBS=72 -ZSTART=57053"
       ]
      },
      {
       "output_type": "stream",
       "stream": "stderr",
       "text": [
        "Read 36 polycos for PSR 0337+17\n",
        "Read 36 polycos for PSR 0337+17\n"
       ]
      },
      {
       "output_type": "stream",
       "stream": "stdout",
       "text": [
        "\n",
        "tempo -f /home/aarchiba/projects/threebody/0337+17_MvK_nofit_i.par -ZPSR=0337+17 -ZSITE=1 -ZSPAN=120M -ZTOBS=72 -ZSTART=57054"
       ]
      },
      {
       "output_type": "stream",
       "stream": "stdout",
       "text": [
        "\n",
        "57054.0416667"
       ]
      },
      {
       "output_type": "stream",
       "stream": "stdout",
       "text": [
        " 57055.9721172 57056.9583333\n",
        "tempo -f J0337+17.par -ZPSR=0337+17 -ZSITE=1 -ZSPAN=120M -ZTOBS=72 -ZSTART=57054"
       ]
      },
      {
       "output_type": "stream",
       "stream": "stderr",
       "text": [
        "Read 36 polycos for PSR 0337+17\n",
        "Read 36 polycos for PSR 0337+17\n"
       ]
      },
      {
       "output_type": "stream",
       "stream": "stdout",
       "text": [
        "\n",
        "tempo -f /home/aarchiba/projects/threebody/0337+17_MvK_nofit_i.par -ZPSR=0337+17 -ZSITE=1 -ZSPAN=120M -ZTOBS=72 -ZSTART=57055"
       ]
      },
      {
       "output_type": "stream",
       "stream": "stdout",
       "text": [
        "\n",
        "57055.0416667"
       ]
      },
      {
       "output_type": "stream",
       "stream": "stdout",
       "text": [
        " 57056.9713005 57057.9583333\n",
        "tempo -f J0337+17.par -ZPSR=0337+17 -ZSITE=1 -ZSPAN=120M -ZTOBS=72 -ZSTART=57055"
       ]
      },
      {
       "output_type": "stream",
       "stream": "stderr",
       "text": [
        "Read 36 polycos for PSR 0337+17\n",
        "Read 36 polycos for PSR 0337+17\n"
       ]
      },
      {
       "output_type": "stream",
       "stream": "stdout",
       "text": [
        "\n",
        "tempo -f /home/aarchiba/projects/threebody/0337+17_MvK_nofit_i.par -ZPSR=0337+17 -ZSITE=1 -ZSPAN=120M -ZTOBS=72 -ZSTART=57056"
       ]
      },
      {
       "output_type": "stream",
       "stream": "stdout",
       "text": [
        "\n",
        "57056.0416667"
       ]
      },
      {
       "output_type": "stream",
       "stream": "stdout",
       "text": [
        " 57057.9704838 57058.9583333\n",
        "tempo -f J0337+17.par -ZPSR=0337+17 -ZSITE=1 -ZSPAN=120M -ZTOBS=72 -ZSTART=57056"
       ]
      },
      {
       "output_type": "stream",
       "stream": "stderr",
       "text": [
        "Read 36 polycos for PSR 0337+17\n",
        "Read 36 polycos for PSR 0337+17\n"
       ]
      },
      {
       "output_type": "stream",
       "stream": "stdout",
       "text": [
        "\n",
        "tempo -f /home/aarchiba/projects/threebody/0337+17_MvK_nofit_i.par -ZPSR=0337+17 -ZSITE=1 -ZSPAN=120M -ZTOBS=72 -ZSTART=57057"
       ]
      },
      {
       "output_type": "stream",
       "stream": "stdout",
       "text": [
        "\n",
        "57057.0416667"
       ]
      },
      {
       "output_type": "stream",
       "stream": "stdout",
       "text": [
        " 57058.9696671 57059.9583333\n",
        "tempo -f J0337+17.par -ZPSR=0337+17 -ZSITE=1 -ZSPAN=120M -ZTOBS=72 -ZSTART=57057"
       ]
      },
      {
       "output_type": "stream",
       "stream": "stderr",
       "text": [
        "Read 36 polycos for PSR 0337+17\n",
        "Read 36 polycos for PSR 0337+17\n"
       ]
      },
      {
       "output_type": "stream",
       "stream": "stdout",
       "text": [
        "\n",
        "tempo -f /home/aarchiba/projects/threebody/0337+17_MvK_nofit_i.par -ZPSR=0337+17 -ZSITE=1 -ZSPAN=120M -ZTOBS=72 -ZSTART=57058"
       ]
      },
      {
       "output_type": "stream",
       "stream": "stdout",
       "text": [
        "\n",
        "57058.0416667"
       ]
      },
      {
       "output_type": "stream",
       "stream": "stdout",
       "text": [
        " 57059.9688504 57060.9583333\n",
        "tempo -f J0337+17.par -ZPSR=0337+17 -ZSITE=1 -ZSPAN=120M -ZTOBS=72 -ZSTART=57058"
       ]
      },
      {
       "output_type": "stream",
       "stream": "stderr",
       "text": [
        "Read 36 polycos for PSR 0337+17\n",
        "Read 36 polycos for PSR 0337+17\n"
       ]
      },
      {
       "output_type": "stream",
       "stream": "stdout",
       "text": [
        "\n",
        "tempo -f /home/aarchiba/projects/threebody/0337+17_MvK_nofit_i.par -ZPSR=0337+17 -ZSITE=1 -ZSPAN=120M -ZTOBS=72 -ZSTART=57059"
       ]
      },
      {
       "output_type": "stream",
       "stream": "stdout",
       "text": [
        "\n",
        "57059.0416667"
       ]
      },
      {
       "output_type": "stream",
       "stream": "stdout",
       "text": [
        " 57060.9680337 57061.9583333\n",
        "tempo -f J0337+17.par -ZPSR=0337+17 -ZSITE=1 -ZSPAN=120M -ZTOBS=72 -ZSTART=57059"
       ]
      },
      {
       "output_type": "stream",
       "stream": "stderr",
       "text": [
        "Read 36 polycos for PSR 0337+17\n",
        "Read 36 polycos for PSR 0337+17\n"
       ]
      },
      {
       "output_type": "stream",
       "stream": "stdout",
       "text": [
        "\n",
        "tempo -f /home/aarchiba/projects/threebody/0337+17_MvK_nofit_i.par -ZPSR=0337+17 -ZSITE=1 -ZSPAN=120M -ZTOBS=72 -ZSTART=57060"
       ]
      },
      {
       "output_type": "stream",
       "stream": "stdout",
       "text": [
        "\n",
        "57060.0416667"
       ]
      },
      {
       "output_type": "stream",
       "stream": "stdout",
       "text": [
        " 57061.967217 57062.9583333\n",
        "tempo -f J0337+17.par -ZPSR=0337+17 -ZSITE=1 -ZSPAN=120M -ZTOBS=72 -ZSTART=57060"
       ]
      },
      {
       "output_type": "stream",
       "stream": "stderr",
       "text": [
        "Read 36 polycos for PSR 0337+17\n",
        "Read 36 polycos for PSR 0337+17\n"
       ]
      },
      {
       "output_type": "stream",
       "stream": "stdout",
       "text": [
        "\n",
        "tempo -f /home/aarchiba/projects/threebody/0337+17_MvK_nofit_i.par -ZPSR=0337+17 -ZSITE=1 -ZSPAN=120M -ZTOBS=72 -ZSTART=57061"
       ]
      },
      {
       "output_type": "stream",
       "stream": "stdout",
       "text": [
        "\n",
        "57061.0416667"
       ]
      },
      {
       "output_type": "stream",
       "stream": "stdout",
       "text": [
        " 57062.9664003 57063.9583333\n",
        "tempo -f J0337+17.par -ZPSR=0337+17 -ZSITE=1 -ZSPAN=120M -ZTOBS=72 -ZSTART=57061"
       ]
      },
      {
       "output_type": "stream",
       "stream": "stderr",
       "text": [
        "Read 36 polycos for PSR 0337+17\n",
        "Read 36 polycos for PSR 0337+17\n"
       ]
      },
      {
       "output_type": "stream",
       "stream": "stdout",
       "text": [
        "\n",
        "tempo -f /home/aarchiba/projects/threebody/0337+17_MvK_nofit_i.par -ZPSR=0337+17 -ZSITE=1 -ZSPAN=120M -ZTOBS=72 -ZSTART=57062"
       ]
      },
      {
       "output_type": "stream",
       "stream": "stdout",
       "text": [
        "\n",
        "57062.0416667"
       ]
      },
      {
       "output_type": "stream",
       "stream": "stdout",
       "text": [
        " 57063.9655836 57064.9583333\n",
        "tempo -f J0337+17.par -ZPSR=0337+17 -ZSITE=1 -ZSPAN=120M -ZTOBS=72 -ZSTART=57062"
       ]
      },
      {
       "output_type": "stream",
       "stream": "stderr",
       "text": [
        "Read 36 polycos for PSR 0337+17\n",
        "Read 36 polycos for PSR 0337+17\n"
       ]
      },
      {
       "output_type": "stream",
       "stream": "stdout",
       "text": [
        "\n",
        "tempo -f /home/aarchiba/projects/threebody/0337+17_MvK_nofit_i.par -ZPSR=0337+17 -ZSITE=1 -ZSPAN=120M -ZTOBS=72 -ZSTART=57063"
       ]
      },
      {
       "output_type": "stream",
       "stream": "stdout",
       "text": [
        "\n",
        "57063.0416667"
       ]
      },
      {
       "output_type": "stream",
       "stream": "stdout",
       "text": [
        " 57064.9647669 57065.9583333\n",
        "tempo -f J0337+17.par -ZPSR=0337+17 -ZSITE=1 -ZSPAN=120M -ZTOBS=72 -ZSTART=57063"
       ]
      },
      {
       "output_type": "stream",
       "stream": "stderr",
       "text": [
        "Read 36 polycos for PSR 0337+17\n",
        "Read 36 polycos for PSR 0337+17\n"
       ]
      },
      {
       "output_type": "stream",
       "stream": "stdout",
       "text": [
        "\n",
        "tempo -f /home/aarchiba/projects/threebody/0337+17_MvK_nofit_i.par -ZPSR=0337+17 -ZSITE=1 -ZSPAN=120M -ZTOBS=72 -ZSTART=57064"
       ]
      },
      {
       "output_type": "stream",
       "stream": "stdout",
       "text": [
        "\n",
        "57064.0416667"
       ]
      },
      {
       "output_type": "stream",
       "stream": "stdout",
       "text": [
        " 57065.9639502 57066.9583333\n",
        "tempo -f J0337+17.par -ZPSR=0337+17 -ZSITE=1 -ZSPAN=120M -ZTOBS=72 -ZSTART=57064"
       ]
      },
      {
       "output_type": "stream",
       "stream": "stderr",
       "text": [
        "Read 36 polycos for PSR 0337+17\n",
        "Read 36 polycos for PSR 0337+17\n"
       ]
      },
      {
       "output_type": "stream",
       "stream": "stdout",
       "text": [
        "\n",
        "tempo -f /home/aarchiba/projects/threebody/0337+17_MvK_nofit_i.par -ZPSR=0337+17 -ZSITE=1 -ZSPAN=120M -ZTOBS=72 -ZSTART=57065"
       ]
      },
      {
       "output_type": "stream",
       "stream": "stdout",
       "text": [
        "\n",
        "57065.0416667"
       ]
      },
      {
       "output_type": "stream",
       "stream": "stdout",
       "text": [
        " 57066.9631335 57067.9583333\n",
        "tempo -f J0337+17.par -ZPSR=0337+17 -ZSITE=1 -ZSPAN=120M -ZTOBS=72 -ZSTART=57065"
       ]
      },
      {
       "output_type": "stream",
       "stream": "stderr",
       "text": [
        "Read 36 polycos for PSR 0337+17\n",
        "Read 36 polycos for PSR 0337+17\n"
       ]
      },
      {
       "output_type": "stream",
       "stream": "stdout",
       "text": [
        "\n",
        "tempo -f /home/aarchiba/projects/threebody/0337+17_MvK_nofit_i.par -ZPSR=0337+17 -ZSITE=1 -ZSPAN=120M -ZTOBS=72 -ZSTART=57066"
       ]
      },
      {
       "output_type": "stream",
       "stream": "stdout",
       "text": [
        "\n",
        "57066.0416667"
       ]
      },
      {
       "output_type": "stream",
       "stream": "stdout",
       "text": [
        " 57067.9623168 57068.9583333\n",
        "tempo -f J0337+17.par -ZPSR=0337+17 -ZSITE=1 -ZSPAN=120M -ZTOBS=72 -ZSTART=57066"
       ]
      },
      {
       "output_type": "stream",
       "stream": "stderr",
       "text": [
        "Read 36 polycos for PSR 0337+17\n",
        "Read 36 polycos for PSR 0337+17\n"
       ]
      },
      {
       "output_type": "stream",
       "stream": "stdout",
       "text": [
        "\n",
        "tempo -f /home/aarchiba/projects/threebody/0337+17_MvK_nofit_i.par -ZPSR=0337+17 -ZSITE=1 -ZSPAN=120M -ZTOBS=72 -ZSTART=57067"
       ]
      },
      {
       "output_type": "stream",
       "stream": "stdout",
       "text": [
        "\n",
        "57067.0416667"
       ]
      },
      {
       "output_type": "stream",
       "stream": "stdout",
       "text": [
        " 57068.9615001 57069.9583333\n",
        "tempo -f J0337+17.par -ZPSR=0337+17 -ZSITE=1 -ZSPAN=120M -ZTOBS=72 -ZSTART=57067"
       ]
      },
      {
       "output_type": "stream",
       "stream": "stderr",
       "text": [
        "Read 36 polycos for PSR 0337+17\n",
        "Read 36 polycos for PSR 0337+17\n"
       ]
      },
      {
       "output_type": "stream",
       "stream": "stdout",
       "text": [
        "\n",
        "tempo -f /home/aarchiba/projects/threebody/0337+17_MvK_nofit_i.par -ZPSR=0337+17 -ZSITE=1 -ZSPAN=120M -ZTOBS=72 -ZSTART=57068"
       ]
      },
      {
       "output_type": "stream",
       "stream": "stdout",
       "text": [
        "\n",
        "57068.0416667"
       ]
      },
      {
       "output_type": "stream",
       "stream": "stdout",
       "text": [
        " 57069.9606834 57070.9583333\n",
        "tempo -f J0337+17.par -ZPSR=0337+17 -ZSITE=1 -ZSPAN=120M -ZTOBS=72 -ZSTART=57068"
       ]
      },
      {
       "output_type": "stream",
       "stream": "stderr",
       "text": [
        "Read 36 polycos for PSR 0337+17\n",
        "Read 36 polycos for PSR 0337+17\n"
       ]
      },
      {
       "output_type": "stream",
       "stream": "stdout",
       "text": [
        "\n",
        "tempo -f /home/aarchiba/projects/threebody/0337+17_MvK_nofit_i.par -ZPSR=0337+17 -ZSITE=1 -ZSPAN=120M -ZTOBS=72 -ZSTART=57069"
       ]
      },
      {
       "output_type": "stream",
       "stream": "stdout",
       "text": [
        "\n",
        "57069.0416667"
       ]
      },
      {
       "output_type": "stream",
       "stream": "stdout",
       "text": [
        " 57070.9598667 57071.9583333\n",
        "tempo -f J0337+17.par -ZPSR=0337+17 -ZSITE=1 -ZSPAN=120M -ZTOBS=72 -ZSTART=57069"
       ]
      },
      {
       "output_type": "stream",
       "stream": "stderr",
       "text": [
        "Read 36 polycos for PSR 0337+17\n",
        "Read 36 polycos for PSR 0337+17\n"
       ]
      },
      {
       "output_type": "stream",
       "stream": "stdout",
       "text": [
        "\n",
        "tempo -f /home/aarchiba/projects/threebody/0337+17_MvK_nofit_i.par -ZPSR=0337+17 -ZSITE=1 -ZSPAN=120M -ZTOBS=72 -ZSTART=57070"
       ]
      },
      {
       "output_type": "stream",
       "stream": "stdout",
       "text": [
        "\n",
        "57070.0416667"
       ]
      },
      {
       "output_type": "stream",
       "stream": "stdout",
       "text": [
        " 57071.95905 57072.9583333\n",
        "tempo -f J0337+17.par -ZPSR=0337+17 -ZSITE=1 -ZSPAN=120M -ZTOBS=72 -ZSTART=57070"
       ]
      },
      {
       "output_type": "stream",
       "stream": "stderr",
       "text": [
        "Read 36 polycos for PSR 0337+17\n",
        "Read 36 polycos for PSR 0337+17\n"
       ]
      },
      {
       "output_type": "stream",
       "stream": "stdout",
       "text": [
        "\n",
        "tempo -f /home/aarchiba/projects/threebody/0337+17_MvK_nofit_i.par -ZPSR=0337+17 -ZSITE=1 -ZSPAN=120M -ZTOBS=72 -ZSTART=57071"
       ]
      },
      {
       "output_type": "stream",
       "stream": "stdout",
       "text": [
        "\n",
        "57071.0416667"
       ]
      },
      {
       "output_type": "stream",
       "stream": "stdout",
       "text": [
        " 57072.978217 57073.9583333\n",
        "tempo -f J0337+17.par -ZPSR=0337+17 -ZSITE=1 -ZSPAN=120M -ZTOBS=72 -ZSTART=57071"
       ]
      },
      {
       "output_type": "stream",
       "stream": "stderr",
       "text": [
        "Read 36 polycos for PSR 0337+17\n",
        "Read 36 polycos for PSR 0337+17\n"
       ]
      },
      {
       "output_type": "stream",
       "stream": "stdout",
       "text": [
        "\n",
        "tempo -f /home/aarchiba/projects/threebody/0337+17_MvK_nofit_i.par -ZPSR=0337+17 -ZSITE=1 -ZSPAN=120M -ZTOBS=72 -ZSTART=57072"
       ]
      },
      {
       "output_type": "stream",
       "stream": "stdout",
       "text": [
        "\n",
        "57072.0416667"
       ]
      },
      {
       "output_type": "stream",
       "stream": "stdout",
       "text": [
        " 57073.9774003 57074.9583333\n",
        "tempo -f J0337+17.par -ZPSR=0337+17 -ZSITE=1 -ZSPAN=120M -ZTOBS=72 -ZSTART=57072"
       ]
      },
      {
       "output_type": "stream",
       "stream": "stderr",
       "text": [
        "Read 36 polycos for PSR 0337+17\n",
        "Read 36 polycos for PSR 0337+17\n"
       ]
      },
      {
       "output_type": "stream",
       "stream": "stdout",
       "text": [
        "\n",
        "tempo -f /home/aarchiba/projects/threebody/0337+17_MvK_nofit_i.par -ZPSR=0337+17 -ZSITE=1 -ZSPAN=120M -ZTOBS=72 -ZSTART=57073"
       ]
      },
      {
       "output_type": "stream",
       "stream": "stdout",
       "text": [
        "\n",
        "57073.0416667"
       ]
      },
      {
       "output_type": "stream",
       "stream": "stdout",
       "text": [
        " 57074.9765836 57075.9583333\n",
        "tempo -f J0337+17.par -ZPSR=0337+17 -ZSITE=1 -ZSPAN=120M -ZTOBS=72 -ZSTART=57073"
       ]
      },
      {
       "output_type": "stream",
       "stream": "stderr",
       "text": [
        "Read 36 polycos for PSR 0337+17\n",
        "Read 36 polycos for PSR 0337+17\n"
       ]
      },
      {
       "output_type": "stream",
       "stream": "stdout",
       "text": [
        "\n",
        "tempo -f /home/aarchiba/projects/threebody/0337+17_MvK_nofit_i.par -ZPSR=0337+17 -ZSITE=1 -ZSPAN=120M -ZTOBS=72 -ZSTART=57074"
       ]
      },
      {
       "output_type": "stream",
       "stream": "stdout",
       "text": [
        "\n",
        "57074.0416667"
       ]
      },
      {
       "output_type": "stream",
       "stream": "stdout",
       "text": [
        " 57075.9757669 57076.9583333\n",
        "tempo -f J0337+17.par -ZPSR=0337+17 -ZSITE=1 -ZSPAN=120M -ZTOBS=72 -ZSTART=57074"
       ]
      },
      {
       "output_type": "stream",
       "stream": "stderr",
       "text": [
        "Read 36 polycos for PSR 0337+17\n",
        "Read 36 polycos for PSR 0337+17\n"
       ]
      },
      {
       "output_type": "stream",
       "stream": "stdout",
       "text": [
        "\n",
        "tempo -f /home/aarchiba/projects/threebody/0337+17_MvK_nofit_i.par -ZPSR=0337+17 -ZSITE=1 -ZSPAN=120M -ZTOBS=72 -ZSTART=57075"
       ]
      },
      {
       "output_type": "stream",
       "stream": "stdout",
       "text": [
        "\n",
        "57075.0416667"
       ]
      },
      {
       "output_type": "stream",
       "stream": "stdout",
       "text": [
        " 57076.9749502 57077.9583333\n",
        "tempo -f J0337+17.par -ZPSR=0337+17 -ZSITE=1 -ZSPAN=120M -ZTOBS=72 -ZSTART=57075"
       ]
      },
      {
       "output_type": "stream",
       "stream": "stderr",
       "text": [
        "Read 36 polycos for PSR 0337+17\n",
        "Read 36 polycos for PSR 0337+17\n"
       ]
      },
      {
       "output_type": "stream",
       "stream": "stdout",
       "text": [
        "\n",
        "tempo -f /home/aarchiba/projects/threebody/0337+17_MvK_nofit_i.par -ZPSR=0337+17 -ZSITE=1 -ZSPAN=120M -ZTOBS=72 -ZSTART=57076"
       ]
      },
      {
       "output_type": "stream",
       "stream": "stdout",
       "text": [
        "\n",
        "57076.0416667"
       ]
      },
      {
       "output_type": "stream",
       "stream": "stdout",
       "text": [
        " 57077.9741335 57078.9583333\n",
        "tempo -f J0337+17.par -ZPSR=0337+17 -ZSITE=1 -ZSPAN=120M -ZTOBS=72 -ZSTART=57076"
       ]
      },
      {
       "output_type": "stream",
       "stream": "stderr",
       "text": [
        "Read 36 polycos for PSR 0337+17\n",
        "Read 36 polycos for PSR 0337+17\n"
       ]
      },
      {
       "output_type": "stream",
       "stream": "stdout",
       "text": [
        "\n",
        "tempo -f /home/aarchiba/projects/threebody/0337+17_MvK_nofit_i.par -ZPSR=0337+17 -ZSITE=1 -ZSPAN=120M -ZTOBS=72 -ZSTART=57077"
       ]
      },
      {
       "output_type": "stream",
       "stream": "stdout",
       "text": [
        "\n",
        "57077.0416667"
       ]
      },
      {
       "output_type": "stream",
       "stream": "stdout",
       "text": [
        " 57078.9733168 57079.9583333\n",
        "tempo -f J0337+17.par -ZPSR=0337+17 -ZSITE=1 -ZSPAN=120M -ZTOBS=72 -ZSTART=57077"
       ]
      },
      {
       "output_type": "stream",
       "stream": "stderr",
       "text": [
        "Read 36 polycos for PSR 0337+17\n",
        "Read 36 polycos for PSR 0337+17\n"
       ]
      },
      {
       "output_type": "stream",
       "stream": "stdout",
       "text": [
        "\n",
        "tempo -f /home/aarchiba/projects/threebody/0337+17_MvK_nofit_i.par -ZPSR=0337+17 -ZSITE=1 -ZSPAN=120M -ZTOBS=72 -ZSTART=57078"
       ]
      },
      {
       "output_type": "stream",
       "stream": "stdout",
       "text": [
        "\n",
        "57078.0416667"
       ]
      },
      {
       "output_type": "stream",
       "stream": "stdout",
       "text": [
        " 57079.9725001 57080.9583333\n",
        "tempo -f J0337+17.par -ZPSR=0337+17 -ZSITE=1 -ZSPAN=120M -ZTOBS=72 -ZSTART=57078"
       ]
      },
      {
       "output_type": "stream",
       "stream": "stderr",
       "text": [
        "Read 36 polycos for PSR 0337+17\n",
        "Read 36 polycos for PSR 0337+17\n"
       ]
      },
      {
       "output_type": "stream",
       "stream": "stdout",
       "text": [
        "\n",
        "tempo -f /home/aarchiba/projects/threebody/0337+17_MvK_nofit_i.par -ZPSR=0337+17 -ZSITE=1 -ZSPAN=120M -ZTOBS=72 -ZSTART=57079"
       ]
      },
      {
       "output_type": "stream",
       "stream": "stdout",
       "text": [
        "\n",
        "57079.0416667"
       ]
      },
      {
       "output_type": "stream",
       "stream": "stdout",
       "text": [
        " 57080.9716834 57081.9583333\n",
        "tempo -f J0337+17.par -ZPSR=0337+17 -ZSITE=1 -ZSPAN=120M -ZTOBS=72 -ZSTART=57079"
       ]
      },
      {
       "output_type": "stream",
       "stream": "stderr",
       "text": [
        "Read 36 polycos for PSR 0337+17\n",
        "Read 36 polycos for PSR 0337+17\n"
       ]
      },
      {
       "output_type": "stream",
       "stream": "stdout",
       "text": [
        "\n",
        "tempo -f /home/aarchiba/projects/threebody/0337+17_MvK_nofit_i.par -ZPSR=0337+17 -ZSITE=1 -ZSPAN=120M -ZTOBS=72 -ZSTART=57080"
       ]
      },
      {
       "output_type": "stream",
       "stream": "stdout",
       "text": [
        "\n",
        "57080.0416667"
       ]
      },
      {
       "output_type": "stream",
       "stream": "stdout",
       "text": [
        " 57081.9708668 57082.9583333\n",
        "tempo -f J0337+17.par -ZPSR=0337+17 -ZSITE=1 -ZSPAN=120M -ZTOBS=72 -ZSTART=57080"
       ]
      },
      {
       "output_type": "stream",
       "stream": "stderr",
       "text": [
        "Read 36 polycos for PSR 0337+17\n",
        "Read 36 polycos for PSR 0337+17\n"
       ]
      },
      {
       "output_type": "stream",
       "stream": "stdout",
       "text": [
        "\n",
        "tempo -f /home/aarchiba/projects/threebody/0337+17_MvK_nofit_i.par -ZPSR=0337+17 -ZSITE=1 -ZSPAN=120M -ZTOBS=72 -ZSTART=57081"
       ]
      },
      {
       "output_type": "stream",
       "stream": "stdout",
       "text": [
        "\n",
        "57081.0416667"
       ]
      },
      {
       "output_type": "stream",
       "stream": "stdout",
       "text": [
        " 57082.97005 57083.9583333\n",
        "tempo -f J0337+17.par -ZPSR=0337+17 -ZSITE=1 -ZSPAN=120M -ZTOBS=72 -ZSTART=57081"
       ]
      },
      {
       "output_type": "stream",
       "stream": "stderr",
       "text": [
        "Read 36 polycos for PSR 0337+17\n",
        "Read 36 polycos for PSR 0337+17\n"
       ]
      },
      {
       "output_type": "stream",
       "stream": "stdout",
       "text": [
        "\n",
        "tempo -f /home/aarchiba/projects/threebody/0337+17_MvK_nofit_i.par -ZPSR=0337+17 -ZSITE=1 -ZSPAN=120M -ZTOBS=72 -ZSTART=57082"
       ]
      },
      {
       "output_type": "stream",
       "stream": "stdout",
       "text": [
        "\n",
        "57082.0416667"
       ]
      },
      {
       "output_type": "stream",
       "stream": "stdout",
       "text": [
        " 57083.9692333 57084.9583333\n",
        "tempo -f J0337+17.par -ZPSR=0337+17 -ZSITE=1 -ZSPAN=120M -ZTOBS=72 -ZSTART=57082"
       ]
      },
      {
       "output_type": "stream",
       "stream": "stderr",
       "text": [
        "Read 36 polycos for PSR 0337+17\n",
        "Read 36 polycos for PSR 0337+17\n"
       ]
      },
      {
       "output_type": "stream",
       "stream": "stdout",
       "text": [
        "\n",
        "tempo -f /home/aarchiba/projects/threebody/0337+17_MvK_nofit_i.par -ZPSR=0337+17 -ZSITE=1 -ZSPAN=120M -ZTOBS=72 -ZSTART=57083"
       ]
      },
      {
       "output_type": "stream",
       "stream": "stdout",
       "text": [
        "\n",
        "57083.0416667"
       ]
      },
      {
       "output_type": "stream",
       "stream": "stdout",
       "text": [
        " 57084.9684167 57085.9583333\n",
        "tempo -f J0337+17.par -ZPSR=0337+17 -ZSITE=1 -ZSPAN=120M -ZTOBS=72 -ZSTART=57083"
       ]
      },
      {
       "output_type": "stream",
       "stream": "stderr",
       "text": [
        "Read 36 polycos for PSR 0337+17\n",
        "Read 36 polycos for PSR 0337+17\n"
       ]
      },
      {
       "output_type": "stream",
       "stream": "stdout",
       "text": [
        "\n",
        "tempo -f /home/aarchiba/projects/threebody/0337+17_MvK_nofit_i.par -ZPSR=0337+17 -ZSITE=1 -ZSPAN=120M -ZTOBS=72 -ZSTART=57084"
       ]
      },
      {
       "output_type": "stream",
       "stream": "stdout",
       "text": [
        "\n",
        "57084.0416667"
       ]
      },
      {
       "output_type": "stream",
       "stream": "stdout",
       "text": [
        " 57085.9676 57086.9583333\n",
        "tempo -f J0337+17.par -ZPSR=0337+17 -ZSITE=1 -ZSPAN=120M -ZTOBS=72 -ZSTART=57084"
       ]
      },
      {
       "output_type": "stream",
       "stream": "stderr",
       "text": [
        "Read 36 polycos for PSR 0337+17\n",
        "Read 36 polycos for PSR 0337+17\n"
       ]
      },
      {
       "output_type": "stream",
       "stream": "stdout",
       "text": [
        "\n",
        "tempo -f /home/aarchiba/projects/threebody/0337+17_MvK_nofit_i.par -ZPSR=0337+17 -ZSITE=1 -ZSPAN=120M -ZTOBS=72 -ZSTART=57085"
       ]
      },
      {
       "output_type": "stream",
       "stream": "stdout",
       "text": [
        "\n",
        "57085.0416667"
       ]
      },
      {
       "output_type": "stream",
       "stream": "stdout",
       "text": [
        " 57086.9667832 57087.9583333\n",
        "tempo -f J0337+17.par -ZPSR=0337+17 -ZSITE=1 -ZSPAN=120M -ZTOBS=72 -ZSTART=57085"
       ]
      },
      {
       "output_type": "stream",
       "stream": "stderr",
       "text": [
        "Read 36 polycos for PSR 0337+17\n",
        "Read 36 polycos for PSR 0337+17\n"
       ]
      },
      {
       "output_type": "stream",
       "stream": "stdout",
       "text": [
        "\n",
        "tempo -f /home/aarchiba/projects/threebody/0337+17_MvK_nofit_i.par -ZPSR=0337+17 -ZSITE=1 -ZSPAN=120M -ZTOBS=72 -ZSTART=57086"
       ]
      },
      {
       "output_type": "stream",
       "stream": "stdout",
       "text": [
        "\n",
        "57086.0416667"
       ]
      },
      {
       "output_type": "stream",
       "stream": "stdout",
       "text": [
        " 57087.9659666 57088.9583333\n",
        "tempo -f J0337+17.par -ZPSR=0337+17 -ZSITE=1 -ZSPAN=120M -ZTOBS=72 -ZSTART=57086"
       ]
      },
      {
       "output_type": "stream",
       "stream": "stderr",
       "text": [
        "Read 36 polycos for PSR 0337+17\n",
        "Read 36 polycos for PSR 0337+17\n"
       ]
      },
      {
       "output_type": "stream",
       "stream": "stdout",
       "text": [
        "\n",
        "tempo -f /home/aarchiba/projects/threebody/0337+17_MvK_nofit_i.par -ZPSR=0337+17 -ZSITE=1 -ZSPAN=120M -ZTOBS=72 -ZSTART=57087"
       ]
      },
      {
       "output_type": "stream",
       "stream": "stdout",
       "text": [
        "\n",
        "57087.0416667"
       ]
      },
      {
       "output_type": "stream",
       "stream": "stdout",
       "text": [
        " 57088.9651499 57089.9583333\n",
        "tempo -f J0337+17.par -ZPSR=0337+17 -ZSITE=1 -ZSPAN=120M -ZTOBS=72 -ZSTART=57087"
       ]
      },
      {
       "output_type": "stream",
       "stream": "stderr",
       "text": [
        "Read 36 polycos for PSR 0337+17\n",
        "Read 36 polycos for PSR 0337+17\n"
       ]
      },
      {
       "output_type": "stream",
       "stream": "stdout",
       "text": [
        "\n",
        "tempo -f /home/aarchiba/projects/threebody/0337+17_MvK_nofit_i.par -ZPSR=0337+17 -ZSITE=1 -ZSPAN=120M -ZTOBS=72 -ZSTART=57088"
       ]
      },
      {
       "output_type": "stream",
       "stream": "stdout",
       "text": [
        "\n",
        "57088.0416667"
       ]
      },
      {
       "output_type": "stream",
       "stream": "stdout",
       "text": [
        " 57089.9643332 57090.9583333\n",
        "tempo -f J0337+17.par -ZPSR=0337+17 -ZSITE=1 -ZSPAN=120M -ZTOBS=72 -ZSTART=57088"
       ]
      },
      {
       "output_type": "stream",
       "stream": "stderr",
       "text": [
        "Read 36 polycos for PSR 0337+17\n",
        "Read 36 polycos for PSR 0337+17\n"
       ]
      },
      {
       "output_type": "stream",
       "stream": "stdout",
       "text": [
        "\n",
        "tempo -f /home/aarchiba/projects/threebody/0337+17_MvK_nofit_i.par -ZPSR=0337+17 -ZSITE=1 -ZSPAN=120M -ZTOBS=72 -ZSTART=57089"
       ]
      },
      {
       "output_type": "stream",
       "stream": "stdout",
       "text": [
        "\n",
        "57089.0416667"
       ]
      },
      {
       "output_type": "stream",
       "stream": "stdout",
       "text": [
        " 57090.9635165 57091.9583333\n",
        "tempo -f J0337+17.par -ZPSR=0337+17 -ZSITE=1 -ZSPAN=120M -ZTOBS=72 -ZSTART=57089"
       ]
      },
      {
       "output_type": "stream",
       "stream": "stderr",
       "text": [
        "Read 36 polycos for PSR 0337+17\n",
        "Read 36 polycos for PSR 0337+17\n"
       ]
      },
      {
       "output_type": "stream",
       "stream": "stdout",
       "text": [
        "\n",
        "tempo -f /home/aarchiba/projects/threebody/0337+17_MvK_nofit_i.par -ZPSR=0337+17 -ZSITE=1 -ZSPAN=120M -ZTOBS=72 -ZSTART=57090"
       ]
      },
      {
       "output_type": "stream",
       "stream": "stdout",
       "text": [
        "\n",
        "57090.0416667"
       ]
      },
      {
       "output_type": "stream",
       "stream": "stdout",
       "text": [
        " 57091.9626998 57092.9583333\n",
        "tempo -f J0337+17.par -ZPSR=0337+17 -ZSITE=1 -ZSPAN=120M -ZTOBS=72 -ZSTART=57090"
       ]
      },
      {
       "output_type": "stream",
       "stream": "stderr",
       "text": [
        "Read 36 polycos for PSR 0337+17\n",
        "Read 36 polycos for PSR 0337+17\n"
       ]
      },
      {
       "output_type": "stream",
       "stream": "stdout",
       "text": [
        "\n",
        "tempo -f /home/aarchiba/projects/threebody/0337+17_MvK_nofit_i.par -ZPSR=0337+17 -ZSITE=1 -ZSPAN=120M -ZTOBS=72 -ZSTART=57091"
       ]
      },
      {
       "output_type": "stream",
       "stream": "stdout",
       "text": [
        "\n",
        "57091.0416667"
       ]
      },
      {
       "output_type": "stream",
       "stream": "stdout",
       "text": [
        " 57092.9618831 57093.9583333\n",
        "tempo -f J0337+17.par -ZPSR=0337+17 -ZSITE=1 -ZSPAN=120M -ZTOBS=72 -ZSTART=57091"
       ]
      },
      {
       "output_type": "stream",
       "stream": "stderr",
       "text": [
        "Read 36 polycos for PSR 0337+17\n",
        "Read 36 polycos for PSR 0337+17\n"
       ]
      },
      {
       "output_type": "stream",
       "stream": "stdout",
       "text": [
        "\n",
        "tempo -f /home/aarchiba/projects/threebody/0337+17_MvK_nofit_i.par -ZPSR=0337+17 -ZSITE=1 -ZSPAN=120M -ZTOBS=72 -ZSTART=57092"
       ]
      },
      {
       "output_type": "stream",
       "stream": "stdout",
       "text": [
        "\n",
        "57092.0416667"
       ]
      },
      {
       "output_type": "stream",
       "stream": "stdout",
       "text": [
        " 57093.9610664 57094.9583333\n",
        "tempo -f J0337+17.par -ZPSR=0337+17 -ZSITE=1 -ZSPAN=120M -ZTOBS=72 -ZSTART=57092"
       ]
      },
      {
       "output_type": "stream",
       "stream": "stderr",
       "text": [
        "Read 36 polycos for PSR 0337+17\n",
        "Read 36 polycos for PSR 0337+17\n"
       ]
      },
      {
       "output_type": "stream",
       "stream": "stdout",
       "text": [
        "\n",
        "tempo -f /home/aarchiba/projects/threebody/0337+17_MvK_nofit_i.par -ZPSR=0337+17 -ZSITE=1 -ZSPAN=120M -ZTOBS=72 -ZSTART=57093"
       ]
      },
      {
       "output_type": "stream",
       "stream": "stdout",
       "text": [
        "\n",
        "57093.0416667"
       ]
      },
      {
       "output_type": "stream",
       "stream": "stdout",
       "text": [
        " 57094.9602497 57095.9583333\n",
        "tempo -f J0337+17.par -ZPSR=0337+17 -ZSITE=1 -ZSPAN=120M -ZTOBS=72 -ZSTART=57093"
       ]
      },
      {
       "output_type": "stream",
       "stream": "stderr",
       "text": [
        "Read 36 polycos for PSR 0337+17\n",
        "Read 36 polycos for PSR 0337+17\n"
       ]
      },
      {
       "output_type": "stream",
       "stream": "stdout",
       "text": [
        "\n",
        "tempo -f /home/aarchiba/projects/threebody/0337+17_MvK_nofit_i.par -ZPSR=0337+17 -ZSITE=1 -ZSPAN=120M -ZTOBS=72 -ZSTART=57094"
       ]
      },
      {
       "output_type": "stream",
       "stream": "stdout",
       "text": [
        "\n",
        "57094.0416667"
       ]
      },
      {
       "output_type": "stream",
       "stream": "stdout",
       "text": [
        " 57095.959433 57096.9583333\n",
        "tempo -f J0337+17.par -ZPSR=0337+17 -ZSITE=1 -ZSPAN=120M -ZTOBS=72 -ZSTART=57094"
       ]
      },
      {
       "output_type": "stream",
       "stream": "stderr",
       "text": [
        "Read 36 polycos for PSR 0337+17\n",
        "Read 36 polycos for PSR 0337+17\n"
       ]
      },
      {
       "output_type": "stream",
       "stream": "stdout",
       "text": [
        "\n",
        "tempo -f /home/aarchiba/projects/threebody/0337+17_MvK_nofit_i.par -ZPSR=0337+17 -ZSITE=1 -ZSPAN=120M -ZTOBS=72 -ZSTART=57095"
       ]
      },
      {
       "output_type": "stream",
       "stream": "stdout",
       "text": [
        "\n",
        "57095.0416667"
       ]
      },
      {
       "output_type": "stream",
       "stream": "stdout",
       "text": [
        " 57096.9586163 57097.9583333\n",
        "tempo -f J0337+17.par -ZPSR=0337+17 -ZSITE=1 -ZSPAN=120M -ZTOBS=72 -ZSTART=57095"
       ]
      },
      {
       "output_type": "stream",
       "stream": "stderr",
       "text": [
        "Read 36 polycos for PSR 0337+17\n",
        "Read 36 polycos for PSR 0337+17\n"
       ]
      },
      {
       "output_type": "stream",
       "stream": "stdout",
       "text": [
        "\n",
        "tempo -f /home/aarchiba/projects/threebody/0337+17_MvK_nofit_i.par -ZPSR=0337+17 -ZSITE=1 -ZSPAN=120M -ZTOBS=72 -ZSTART=57096"
       ]
      },
      {
       "output_type": "stream",
       "stream": "stdout",
       "text": [
        "\n",
        "57096.0416667"
       ]
      },
      {
       "output_type": "stream",
       "stream": "stdout",
       "text": [
        " 57097.9777833 57098.9583333\n",
        "tempo -f J0337+17.par -ZPSR=0337+17 -ZSITE=1 -ZSPAN=120M -ZTOBS=72 -ZSTART=57096"
       ]
      },
      {
       "output_type": "stream",
       "stream": "stderr",
       "text": [
        "Read 36 polycos for PSR 0337+17\n",
        "Read 36 polycos for PSR 0337+17\n"
       ]
      },
      {
       "output_type": "stream",
       "stream": "stdout",
       "text": [
        "\n",
        "tempo -f /home/aarchiba/projects/threebody/0337+17_MvK_nofit_i.par -ZPSR=0337+17 -ZSITE=1 -ZSPAN=120M -ZTOBS=72 -ZSTART=57097"
       ]
      },
      {
       "output_type": "stream",
       "stream": "stdout",
       "text": [
        "\n",
        "57097.0416667"
       ]
      },
      {
       "output_type": "stream",
       "stream": "stdout",
       "text": [
        " 57098.9769666 57099.9583333\n",
        "tempo -f J0337+17.par -ZPSR=0337+17 -ZSITE=1 -ZSPAN=120M -ZTOBS=72 -ZSTART=57097"
       ]
      },
      {
       "output_type": "stream",
       "stream": "stderr",
       "text": [
        "Read 36 polycos for PSR 0337+17\n",
        "Read 36 polycos for PSR 0337+17\n"
       ]
      },
      {
       "output_type": "stream",
       "stream": "stdout",
       "text": [
        "\n",
        "tempo -f /home/aarchiba/projects/threebody/0337+17_MvK_nofit_i.par -ZPSR=0337+17 -ZSITE=1 -ZSPAN=120M -ZTOBS=72 -ZSTART=57098"
       ]
      },
      {
       "output_type": "stream",
       "stream": "stdout",
       "text": [
        "\n",
        "57098.0416667"
       ]
      },
      {
       "output_type": "stream",
       "stream": "stdout",
       "text": [
        " 57099.9761499 57100.9583333\n",
        "tempo -f J0337+17.par -ZPSR=0337+17 -ZSITE=1 -ZSPAN=120M -ZTOBS=72 -ZSTART=57098"
       ]
      },
      {
       "output_type": "stream",
       "stream": "stderr",
       "text": [
        "Read 36 polycos for PSR 0337+17\n",
        "Read 36 polycos for PSR 0337+17\n"
       ]
      },
      {
       "output_type": "stream",
       "stream": "stdout",
       "text": [
        "\n",
        "tempo -f /home/aarchiba/projects/threebody/0337+17_MvK_nofit_i.par -ZPSR=0337+17 -ZSITE=1 -ZSPAN=120M -ZTOBS=72 -ZSTART=57099"
       ]
      },
      {
       "output_type": "stream",
       "stream": "stdout",
       "text": [
        "\n",
        "57099.0416667"
       ]
      },
      {
       "output_type": "stream",
       "stream": "stdout",
       "text": [
        " 57100.9753332 57101.9583333\n",
        "tempo -f J0337+17.par -ZPSR=0337+17 -ZSITE=1 -ZSPAN=120M -ZTOBS=72 -ZSTART=57099"
       ]
      },
      {
       "output_type": "stream",
       "stream": "stderr",
       "text": [
        "Read 36 polycos for PSR 0337+17\n",
        "Read 36 polycos for PSR 0337+17\n"
       ]
      },
      {
       "output_type": "stream",
       "stream": "stdout",
       "text": [
        "\n",
        "tempo -f /home/aarchiba/projects/threebody/0337+17_MvK_nofit_i.par -ZPSR=0337+17 -ZSITE=1 -ZSPAN=120M -ZTOBS=72 -ZSTART=57100"
       ]
      },
      {
       "output_type": "stream",
       "stream": "stdout",
       "text": [
        "\n",
        "57100.0416667"
       ]
      },
      {
       "output_type": "stream",
       "stream": "stdout",
       "text": [
        " 57101.9745165 57102.9583333\n",
        "tempo -f J0337+17.par -ZPSR=0337+17 -ZSITE=1 -ZSPAN=120M -ZTOBS=72 -ZSTART=57100"
       ]
      },
      {
       "output_type": "stream",
       "stream": "stderr",
       "text": [
        "Read 36 polycos for PSR 0337+17\n",
        "Read 36 polycos for PSR 0337+17\n"
       ]
      },
      {
       "output_type": "stream",
       "stream": "stdout",
       "text": [
        "\n",
        "tempo -f /home/aarchiba/projects/threebody/0337+17_MvK_nofit_i.par -ZPSR=0337+17 -ZSITE=1 -ZSPAN=120M -ZTOBS=72 -ZSTART=57101"
       ]
      },
      {
       "output_type": "stream",
       "stream": "stdout",
       "text": [
        "\n",
        "57101.0416667"
       ]
      },
      {
       "output_type": "stream",
       "stream": "stdout",
       "text": [
        " 57102.9736998 57103.9583333\n",
        "tempo -f J0337+17.par -ZPSR=0337+17 -ZSITE=1 -ZSPAN=120M -ZTOBS=72 -ZSTART=57101"
       ]
      },
      {
       "output_type": "stream",
       "stream": "stderr",
       "text": [
        "Read 36 polycos for PSR 0337+17\n",
        "Read 36 polycos for PSR 0337+17\n"
       ]
      },
      {
       "output_type": "stream",
       "stream": "stdout",
       "text": [
        "\n",
        "tempo -f /home/aarchiba/projects/threebody/0337+17_MvK_nofit_i.par -ZPSR=0337+17 -ZSITE=1 -ZSPAN=120M -ZTOBS=72 -ZSTART=57102"
       ]
      },
      {
       "output_type": "stream",
       "stream": "stdout",
       "text": [
        "\n",
        "57102.0416667"
       ]
      },
      {
       "output_type": "stream",
       "stream": "stdout",
       "text": [
        " 57103.9728831 57104.9583333\n",
        "tempo -f J0337+17.par -ZPSR=0337+17 -ZSITE=1 -ZSPAN=120M -ZTOBS=72 -ZSTART=57102"
       ]
      },
      {
       "output_type": "stream",
       "stream": "stderr",
       "text": [
        "Read 36 polycos for PSR 0337+17\n",
        "Read 36 polycos for PSR 0337+17\n"
       ]
      },
      {
       "output_type": "stream",
       "stream": "stdout",
       "text": [
        "\n",
        "tempo -f /home/aarchiba/projects/threebody/0337+17_MvK_nofit_i.par -ZPSR=0337+17 -ZSITE=1 -ZSPAN=120M -ZTOBS=72 -ZSTART=57103"
       ]
      },
      {
       "output_type": "stream",
       "stream": "stdout",
       "text": [
        "\n",
        "57103.0416667"
       ]
      },
      {
       "output_type": "stream",
       "stream": "stdout",
       "text": [
        " 57104.9720664 57105.9583333\n",
        "tempo -f J0337+17.par -ZPSR=0337+17 -ZSITE=1 -ZSPAN=120M -ZTOBS=72 -ZSTART=57103"
       ]
      },
      {
       "output_type": "stream",
       "stream": "stderr",
       "text": [
        "Read 36 polycos for PSR 0337+17\n",
        "Read 36 polycos for PSR 0337+17\n"
       ]
      },
      {
       "output_type": "stream",
       "stream": "stdout",
       "text": [
        "\n",
        "tempo -f /home/aarchiba/projects/threebody/0337+17_MvK_nofit_i.par -ZPSR=0337+17 -ZSITE=1 -ZSPAN=120M -ZTOBS=72 -ZSTART=57104"
       ]
      },
      {
       "output_type": "stream",
       "stream": "stdout",
       "text": [
        "\n",
        "57104.0416667"
       ]
      },
      {
       "output_type": "stream",
       "stream": "stdout",
       "text": [
        " 57105.9712497 57106.9583333\n",
        "tempo -f J0337+17.par -ZPSR=0337+17 -ZSITE=1 -ZSPAN=120M -ZTOBS=72 -ZSTART=57104"
       ]
      },
      {
       "output_type": "stream",
       "stream": "stderr",
       "text": [
        "Read 36 polycos for PSR 0337+17\n",
        "Read 36 polycos for PSR 0337+17\n"
       ]
      },
      {
       "output_type": "stream",
       "stream": "stdout",
       "text": [
        "\n",
        "tempo -f /home/aarchiba/projects/threebody/0337+17_MvK_nofit_i.par -ZPSR=0337+17 -ZSITE=1 -ZSPAN=120M -ZTOBS=72 -ZSTART=57105"
       ]
      },
      {
       "output_type": "stream",
       "stream": "stdout",
       "text": [
        "\n",
        "57105.0416667"
       ]
      },
      {
       "output_type": "stream",
       "stream": "stdout",
       "text": [
        " 57106.970433 57107.9583333\n",
        "tempo -f J0337+17.par -ZPSR=0337+17 -ZSITE=1 -ZSPAN=120M -ZTOBS=72 -ZSTART=57105"
       ]
      },
      {
       "output_type": "stream",
       "stream": "stderr",
       "text": [
        "Read 36 polycos for PSR 0337+17\n",
        "Read 36 polycos for PSR 0337+17\n"
       ]
      },
      {
       "output_type": "stream",
       "stream": "stdout",
       "text": [
        "\n",
        "tempo -f /home/aarchiba/projects/threebody/0337+17_MvK_nofit_i.par -ZPSR=0337+17 -ZSITE=1 -ZSPAN=120M -ZTOBS=72 -ZSTART=57106"
       ]
      },
      {
       "output_type": "stream",
       "stream": "stdout",
       "text": [
        "\n",
        "57106.0416667"
       ]
      },
      {
       "output_type": "stream",
       "stream": "stdout",
       "text": [
        " 57107.9696163 57108.9583333\n",
        "tempo -f J0337+17.par -ZPSR=0337+17 -ZSITE=1 -ZSPAN=120M -ZTOBS=72 -ZSTART=57106"
       ]
      },
      {
       "output_type": "stream",
       "stream": "stderr",
       "text": [
        "Read 36 polycos for PSR 0337+17\n",
        "Read 36 polycos for PSR 0337+17\n"
       ]
      },
      {
       "output_type": "stream",
       "stream": "stdout",
       "text": [
        "\n",
        "tempo -f /home/aarchiba/projects/threebody/0337+17_MvK_nofit_i.par -ZPSR=0337+17 -ZSITE=1 -ZSPAN=120M -ZTOBS=72 -ZSTART=57107"
       ]
      },
      {
       "output_type": "stream",
       "stream": "stdout",
       "text": [
        "\n",
        "57107.0416667"
       ]
      },
      {
       "output_type": "stream",
       "stream": "stdout",
       "text": [
        " 57108.9687996 57109.9583333\n",
        "tempo -f J0337+17.par -ZPSR=0337+17 -ZSITE=1 -ZSPAN=120M -ZTOBS=72 -ZSTART=57107"
       ]
      },
      {
       "output_type": "stream",
       "stream": "stderr",
       "text": [
        "Read 36 polycos for PSR 0337+17\n",
        "Read 36 polycos for PSR 0337+17\n"
       ]
      },
      {
       "output_type": "stream",
       "stream": "stdout",
       "text": [
        "\n",
        "tempo -f /home/aarchiba/projects/threebody/0337+17_MvK_nofit_i.par -ZPSR=0337+17 -ZSITE=1 -ZSPAN=120M -ZTOBS=72 -ZSTART=57108"
       ]
      },
      {
       "output_type": "stream",
       "stream": "stdout",
       "text": [
        "\n",
        "57108.0416667"
       ]
      },
      {
       "output_type": "stream",
       "stream": "stdout",
       "text": [
        " 57109.9679829 57110.9583333\n",
        "tempo -f J0337+17.par -ZPSR=0337+17 -ZSITE=1 -ZSPAN=120M -ZTOBS=72 -ZSTART=57108"
       ]
      },
      {
       "output_type": "stream",
       "stream": "stderr",
       "text": [
        "Read 36 polycos for PSR 0337+17\n",
        "Read 36 polycos for PSR 0337+17\n"
       ]
      },
      {
       "output_type": "stream",
       "stream": "stdout",
       "text": [
        "\n",
        "tempo -f /home/aarchiba/projects/threebody/0337+17_MvK_nofit_i.par -ZPSR=0337+17 -ZSITE=1 -ZSPAN=120M -ZTOBS=72 -ZSTART=57109"
       ]
      },
      {
       "output_type": "stream",
       "stream": "stdout",
       "text": [
        "\n",
        "57109.0416667"
       ]
      },
      {
       "output_type": "stream",
       "stream": "stdout",
       "text": [
        " 57110.9671662 57111.9583333\n",
        "tempo -f J0337+17.par -ZPSR=0337+17 -ZSITE=1 -ZSPAN=120M -ZTOBS=72 -ZSTART=57109"
       ]
      },
      {
       "output_type": "stream",
       "stream": "stderr",
       "text": [
        "Read 36 polycos for PSR 0337+17\n",
        "Read 36 polycos for PSR 0337+17\n"
       ]
      },
      {
       "output_type": "stream",
       "stream": "stdout",
       "text": [
        "\n",
        "tempo -f /home/aarchiba/projects/threebody/0337+17_MvK_nofit_i.par -ZPSR=0337+17 -ZSITE=1 -ZSPAN=120M -ZTOBS=72 -ZSTART=57110"
       ]
      },
      {
       "output_type": "stream",
       "stream": "stdout",
       "text": [
        "\n",
        "57110.0416667"
       ]
      },
      {
       "output_type": "stream",
       "stream": "stdout",
       "text": [
        " 57111.9663495 57112.9583333\n",
        "tempo -f J0337+17.par -ZPSR=0337+17 -ZSITE=1 -ZSPAN=120M -ZTOBS=72 -ZSTART=57110"
       ]
      },
      {
       "output_type": "stream",
       "stream": "stderr",
       "text": [
        "Read 36 polycos for PSR 0337+17\n",
        "Read 36 polycos for PSR 0337+17\n"
       ]
      },
      {
       "output_type": "stream",
       "stream": "stdout",
       "text": [
        "\n",
        "tempo -f /home/aarchiba/projects/threebody/0337+17_MvK_nofit_i.par -ZPSR=0337+17 -ZSITE=1 -ZSPAN=120M -ZTOBS=72 -ZSTART=57111"
       ]
      },
      {
       "output_type": "stream",
       "stream": "stdout",
       "text": [
        "\n",
        "57111.0416667"
       ]
      },
      {
       "output_type": "stream",
       "stream": "stdout",
       "text": [
        " 57112.9655328 57113.9583333\n",
        "tempo -f J0337+17.par -ZPSR=0337+17 -ZSITE=1 -ZSPAN=120M -ZTOBS=72 -ZSTART=57111"
       ]
      },
      {
       "output_type": "stream",
       "stream": "stderr",
       "text": [
        "Read 36 polycos for PSR 0337+17\n",
        "Read 36 polycos for PSR 0337+17\n"
       ]
      },
      {
       "output_type": "stream",
       "stream": "stdout",
       "text": [
        "\n",
        "tempo -f /home/aarchiba/projects/threebody/0337+17_MvK_nofit_i.par -ZPSR=0337+17 -ZSITE=1 -ZSPAN=120M -ZTOBS=72 -ZSTART=57112"
       ]
      },
      {
       "output_type": "stream",
       "stream": "stdout",
       "text": [
        "\n",
        "57112.0416667"
       ]
      },
      {
       "output_type": "stream",
       "stream": "stdout",
       "text": [
        " 57113.9647161 57114.9583333\n",
        "tempo -f J0337+17.par -ZPSR=0337+17 -ZSITE=1 -ZSPAN=120M -ZTOBS=72 -ZSTART=57112"
       ]
      },
      {
       "output_type": "stream",
       "stream": "stderr",
       "text": [
        "Read 36 polycos for PSR 0337+17\n",
        "Read 36 polycos for PSR 0337+17\n"
       ]
      },
      {
       "output_type": "stream",
       "stream": "stdout",
       "text": [
        "\n",
        "tempo -f /home/aarchiba/projects/threebody/0337+17_MvK_nofit_i.par -ZPSR=0337+17 -ZSITE=1 -ZSPAN=120M -ZTOBS=72 -ZSTART=57113"
       ]
      },
      {
       "output_type": "stream",
       "stream": "stdout",
       "text": [
        "\n",
        "57113.0416667"
       ]
      },
      {
       "output_type": "stream",
       "stream": "stdout",
       "text": [
        " 57114.9638995 57115.9583333\n",
        "tempo -f J0337+17.par -ZPSR=0337+17 -ZSITE=1 -ZSPAN=120M -ZTOBS=72 -ZSTART=57113"
       ]
      },
      {
       "output_type": "stream",
       "stream": "stderr",
       "text": [
        "Read 36 polycos for PSR 0337+17\n",
        "Read 36 polycos for PSR 0337+17\n"
       ]
      },
      {
       "output_type": "stream",
       "stream": "stdout",
       "text": [
        "\n",
        "tempo -f /home/aarchiba/projects/threebody/0337+17_MvK_nofit_i.par -ZPSR=0337+17 -ZSITE=1 -ZSPAN=120M -ZTOBS=72 -ZSTART=57114"
       ]
      },
      {
       "output_type": "stream",
       "stream": "stdout",
       "text": [
        "\n",
        "57114.0416667"
       ]
      },
      {
       "output_type": "stream",
       "stream": "stdout",
       "text": [
        " 57115.9630828 57116.9583333\n",
        "tempo -f J0337+17.par -ZPSR=0337+17 -ZSITE=1 -ZSPAN=120M -ZTOBS=72 -ZSTART=57114"
       ]
      },
      {
       "output_type": "stream",
       "stream": "stderr",
       "text": [
        "Read 36 polycos for PSR 0337+17\n",
        "Read 36 polycos for PSR 0337+17\n"
       ]
      },
      {
       "output_type": "stream",
       "stream": "stdout",
       "text": [
        "\n",
        "tempo -f /home/aarchiba/projects/threebody/0337+17_MvK_nofit_i.par -ZPSR=0337+17 -ZSITE=1 -ZSPAN=120M -ZTOBS=72 -ZSTART=57115"
       ]
      },
      {
       "output_type": "stream",
       "stream": "stdout",
       "text": [
        "\n",
        "57115.0416667"
       ]
      },
      {
       "output_type": "stream",
       "stream": "stdout",
       "text": [
        " 57116.962266 57117.9583333\n",
        "tempo -f J0337+17.par -ZPSR=0337+17 -ZSITE=1 -ZSPAN=120M -ZTOBS=72 -ZSTART=57115"
       ]
      },
      {
       "output_type": "stream",
       "stream": "stderr",
       "text": [
        "Read 36 polycos for PSR 0337+17\n",
        "Read 36 polycos for PSR 0337+17\n"
       ]
      },
      {
       "output_type": "stream",
       "stream": "stdout",
       "text": [
        "\n",
        "tempo -f /home/aarchiba/projects/threebody/0337+17_MvK_nofit_i.par -ZPSR=0337+17 -ZSITE=1 -ZSPAN=120M -ZTOBS=72 -ZSTART=57116"
       ]
      },
      {
       "output_type": "stream",
       "stream": "stdout",
       "text": [
        "\n",
        "57116.0416667"
       ]
      },
      {
       "output_type": "stream",
       "stream": "stdout",
       "text": [
        " 57117.9614494 57118.9583333\n",
        "tempo -f J0337+17.par -ZPSR=0337+17 -ZSITE=1 -ZSPAN=120M -ZTOBS=72 -ZSTART=57116"
       ]
      },
      {
       "output_type": "stream",
       "stream": "stderr",
       "text": [
        "Read 36 polycos for PSR 0337+17\n",
        "Read 36 polycos for PSR 0337+17\n"
       ]
      },
      {
       "output_type": "stream",
       "stream": "stdout",
       "text": [
        "\n",
        "tempo -f /home/aarchiba/projects/threebody/0337+17_MvK_nofit_i.par -ZPSR=0337+17 -ZSITE=1 -ZSPAN=120M -ZTOBS=72 -ZSTART=57117"
       ]
      },
      {
       "output_type": "stream",
       "stream": "stdout",
       "text": [
        "\n",
        "57117.0416667"
       ]
      },
      {
       "output_type": "stream",
       "stream": "stdout",
       "text": [
        " 57118.9606327 57119.9583333\n",
        "tempo -f J0337+17.par -ZPSR=0337+17 -ZSITE=1 -ZSPAN=120M -ZTOBS=72 -ZSTART=57117"
       ]
      },
      {
       "output_type": "stream",
       "stream": "stderr",
       "text": [
        "Read 36 polycos for PSR 0337+17\n",
        "Read 36 polycos for PSR 0337+17\n"
       ]
      },
      {
       "output_type": "stream",
       "stream": "stdout",
       "text": [
        "\n",
        "tempo -f /home/aarchiba/projects/threebody/0337+17_MvK_nofit_i.par -ZPSR=0337+17 -ZSITE=1 -ZSPAN=120M -ZTOBS=72 -ZSTART=57118"
       ]
      },
      {
       "output_type": "stream",
       "stream": "stdout",
       "text": [
        "\n",
        "57118.0416667"
       ]
      },
      {
       "output_type": "stream",
       "stream": "stdout",
       "text": [
        " 57119.959816 57120.9583333\n",
        "tempo -f J0337+17.par -ZPSR=0337+17 -ZSITE=1 -ZSPAN=120M -ZTOBS=72 -ZSTART=57118"
       ]
      },
      {
       "output_type": "stream",
       "stream": "stderr",
       "text": [
        "Read 36 polycos for PSR 0337+17\n",
        "Read 36 polycos for PSR 0337+17\n"
       ]
      },
      {
       "output_type": "stream",
       "stream": "stdout",
       "text": [
        "\n"
       ]
      }
     ],
     "prompt_number": 408
    },
    {
     "cell_type": "code",
     "collapsed": false,
     "input": [
      "len(smrs), len(F1.mjds)"
     ],
     "language": "python",
     "metadata": {},
     "outputs": [
      {
       "metadata": {},
       "output_type": "pyout",
       "prompt_number": 409,
       "text": [
        "(60000, 60000)"
       ]
      }
     ],
     "prompt_number": 409
    },
    {
     "cell_type": "code",
     "collapsed": false,
     "input": [
      "plt.hexbin(\n",
      "        ((F1.mjds-F1.base_mjd-F1.best_parameters['tasc_i'])/F1.best_parameters['pb_i'])%1, \n",
      "        (F1.mjds)/F1.best_parameters['pb_o'],\n",
      "        C=1e9*np.array(smrs), gridsize=gridsize, cmap='bwr')\n",
      "plt.xlabel(\"Inner phase\")\n",
      "plt.ylabel(\"Outer phase\")\n",
      "plt.colorbar()\n",
      "#plt.ylabel(\"ns\")\n",
      "plt.title(\"Potential ephemeris smearing in 10-s subints (ns)\")\n",
      "plt.savefig(\"smearing-potential.pdf\")"
     ],
     "language": "python",
     "metadata": {},
     "outputs": [
      {
       "metadata": {},
       "output_type": "display_data",
       "png": "[encoded data removed]",
       "text": [
        "<matplotlib.figure.Figure at 0x18a55b10>"
       ]
      }
     ],
     "prompt_number": 417
    },
    {
     "cell_type": "code",
     "collapsed": false,
     "input": [
      "J3 = np.zeros((J.shape[0],J.shape[1]+1))\n",
      "for j, p in enumerate(p_order):\n",
      "    J3[:,j] = J[:,F.parameters.index(p)]\n",
      "J3[:,-1] = smrs\n",
      "Q3, R3 = scipy.linalg.qr(J3, mode='economic')"
     ],
     "language": "python",
     "metadata": {},
     "outputs": [],
     "prompt_number": 449
    },
    {
     "cell_type": "code",
     "collapsed": false,
     "input": [
      "R3.shape"
     ],
     "language": "python",
     "metadata": {},
     "outputs": [
      {
       "metadata": {},
       "output_type": "pyout",
       "prompt_number": 450,
       "text": [
        "(24, 24)"
       ]
      }
     ],
     "prompt_number": 450
    },
    {
     "cell_type": "code",
     "collapsed": false,
     "input": [
      "R3[-2,-1]"
     ],
     "language": "python",
     "metadata": {},
     "outputs": [
      {
       "metadata": {},
       "output_type": "pyout",
       "prompt_number": 451,
       "text": [
        "1.05888967062349e-07"
       ]
      }
     ],
     "prompt_number": 451
    },
    {
     "cell_type": "code",
     "collapsed": false,
     "input": [
      "R3[-1,-1]"
     ],
     "language": "python",
     "metadata": {},
     "outputs": [
      {
       "metadata": {},
       "output_type": "pyout",
       "prompt_number": 452,
       "text": [
        "-5.6338669930389216e-06"
       ]
      }
     ],
     "prompt_number": 452
    },
    {
     "cell_type": "code",
     "collapsed": false,
     "input": [
      "smr_p = np.array(smrs)*F1.best_parameters['f0']\n",
      "smr_p.min(),smr_p.max()"
     ],
     "language": "python",
     "metadata": {},
     "outputs": [
      {
       "metadata": {},
       "output_type": "pyout",
       "prompt_number": 446,
       "text": [
        "(-8.2495062364263311284e-05, 0.0001132372378576665288)"
       ]
      }
     ],
     "prompt_number": 446
    },
    {
     "cell_type": "code",
     "collapsed": false,
     "input": [
      "pvs, res, rk, s = scipy.linalg.lstsq(J2, smr_p)\n",
      "zip(p_order, pvs)"
     ],
     "language": "python",
     "metadata": {},
     "outputs": [
      {
       "metadata": {},
       "output_type": "pyout",
       "prompt_number": 453,
       "text": [
        "[('asini_i', 1.8818477239384587e-07),\n",
        " ('tasc_i', 2.5479270259957905e-08),\n",
        " ('pb_i', 2.998507252221235e-07),\n",
        " ('eps1_i', -1.0279010883435472e-07),\n",
        " ('eps2_i', 2.5748565414632128e-09),\n",
        " ('asini_o', 2.3925441691224505e-06),\n",
        " ('tasc_o', 1.9434726977461489e-05),\n",
        " ('pb_o', 1.9682612409399832e-05),\n",
        " ('eps1_o', 8.7173971723756703e-09),\n",
        " ('eps2_o', 2.8935346664821557e-08),\n",
        " ('d_RAJ', -5.3499658588918855e-11),\n",
        " ('d_DECJ', 3.4823768499605265e-10),\n",
        " ('d_PMRA', -1.6349411308844055e-13),\n",
        " ('d_PMDEC', 5.5813904240899314e-13),\n",
        " ('d_PX', 0.0065296319210355995),\n",
        " ('acosi_i', 0.00072152858513226689),\n",
        " ('q_i', 2.2071974534469401e-06),\n",
        " ('acosi_o', 0.043926115952423579),\n",
        " ('delta_lan', -1.345860699557846e-05),\n",
        " ('lan', 0.20275694392046109),\n",
        " ('dgamma', -0.028286644511858892),\n",
        " ('dbeta', -0.058890214494240062),\n",
        " ('delta', 1.8067977046882998e-08)]"
       ]
      }
     ],
     "prompt_number": 453
    },
    {
     "cell_type": "code",
     "collapsed": false,
     "input": [
      "pvs, res, rk, s = scipy.linalg.lstsq(J2, np.abs(smr_p))\n",
      "zip(p_order, pvs)"
     ],
     "language": "python",
     "metadata": {},
     "outputs": [
      {
       "metadata": {},
       "output_type": "pyout",
       "prompt_number": 454,
       "text": [
        "[('asini_i', -1.3295357626557412e-07),\n",
        " ('tasc_i', -6.2164146532617454e-08),\n",
        " ('pb_i', -3.6698358533869581e-07),\n",
        " ('eps1_i', 5.8401309749487155e-08),\n",
        " ('eps2_i', 3.7785267894669584e-09),\n",
        " ('asini_o', -7.1007412363185781e-06),\n",
        " ('tasc_o', -6.2363297304494092e-05),\n",
        " ('pb_o', -6.2636522766781037e-05),\n",
        " ('eps1_o', -2.7232511278756038e-08),\n",
        " ('eps2_o', -9.0427641689346437e-08),\n",
        " ('d_RAJ', 3.0782437568798868e-09),\n",
        " ('d_DECJ', -1.1342936511411157e-08),\n",
        " ('d_PMRA', -5.8212808977591553e-13),\n",
        " ('d_PMDEC', 4.0026728998026391e-12),\n",
        " ('d_PX', 0.016599884430909952),\n",
        " ('acosi_i', -4.5372279368187009e-05),\n",
        " ('q_i', 4.1119298734453757e-06),\n",
        " ('acosi_o', -0.0019032358074878959),\n",
        " ('delta_lan', -7.6665484016597344e-07),\n",
        " ('lan', 0.082249380234114447),\n",
        " ('dgamma', 0.0058612505071716694),\n",
        " ('dbeta', 0.001242603291268872),\n",
        " ('delta', -1.0837078518679882e-07)]"
       ]
      }
     ],
     "prompt_number": 454
    },
    {
     "cell_type": "code",
     "collapsed": false,
     "input": [],
     "language": "python",
     "metadata": {},
     "outputs": []
    }
   ],
   "metadata": {}
  }
 ]
}