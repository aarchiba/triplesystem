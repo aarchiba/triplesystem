{
 "cells": [
  {
   "cell_type": "code",
   "execution_count": 2,
   "metadata": {
    "collapsed": true
   },
   "outputs": [],
   "source": [
    "%load_ext autoreload\n",
    "\n",
    "%autoreload 2"
   ]
  },
  {
   "cell_type": "code",
   "execution_count": 3,
   "metadata": {
    "collapsed": true
   },
   "outputs": [],
   "source": [
    "from __future__ import division\n",
    "from glob import glob\n",
    "import os\n",
    "import time\n",
    "import cPickle as pickle\n",
    "\n",
    "import scipy.linalg\n",
    "import scipy.stats\n",
    "\n",
    "import numpy as np\n",
    "import matplotlib.pyplot as plt\n",
    "%matplotlib inline\n",
    "\n",
    "import astropy.io.fits\n",
    "import astropy.table\n",
    "import astropy.units as u\n",
    "import astropy.constants as c\n",
    "import astropy.time\n",
    "\n",
    "import emcee\n",
    "import numdifftools\n",
    "\n",
    "import kepler\n",
    "import threebody"
   ]
  },
  {
   "cell_type": "code",
   "execution_count": 4,
   "metadata": {
    "collapsed": false
   },
   "outputs": [
    {
     "name": "stdout",
     "output_type": "stream",
     "text": [
      "-rw-r--r-- 1 aarchiba pulsar     3194 May 31  2013 0337-short-2.tim\r\n",
      "-rw-r--r-- 1 aarchiba pulsar  1709289 May 31  2013 0337+17.tim\r\n",
      "-rw-r--r-- 1 aarchiba pulsar    10646 May 31  2013 0337-short.tim\r\n",
      "-rw-r--r-- 1 aarchiba pulsar  1870476 Jun 17  2013 0337+17-scott-2013-06-06.tim\r\n",
      "-rw-r--r-- 1 aarchiba pulsar  6961347 Jul 31  2013 synthetic.tim\r\n",
      "-rw-r--r-- 1 aarchiba pulsar  1977505 Aug 15  2013 0337+17-scott-2013-08-15.tim\r\n",
      "-rw-r--r-- 1 aarchiba pulsar  2043963 Aug 30  2013 0337+17-scott-2013-08-29.tim\r\n",
      "-rw-r--r-- 1 aarchiba pulsar  1590000 Sep 19  2013 fake-pulsar.tim\r\n",
      "-rw-r--r-- 1 aarchiba pulsar  2078907 Jan 22  2014 0337+17-scott-2014-01-22.tim\r\n",
      "-rw-r--r-- 1 aarchiba pulsar  2201549 Jan 28  2014 0337+17-anne-2014-01-28.tim\r\n",
      "-rw-r--r-- 1 aarchiba pulsar      154 Feb  4  2014 0337+17-anne-2014-02-04.tim\r\n",
      "-rw-r--r-- 1 aarchiba pulsar  2186806 Feb  4  2014 0337+17-anne-2014-02-04b.tim\r\n",
      "-rw-r--r-- 1 aarchiba pulsar  2143978 Feb 10  2014 fake-t2.tim\r\n",
      "-rw-r--r-- 1 aarchiba pulsar 54000000 Mar 24  2014 fake-broken.tim\r\n",
      "-rw-r--r-- 1 aarchiba pulsar  1402793 Sep 22  2014 0337+17-anne-2014-03-19.tim\r\n",
      "-rw-r--r-- 1 aarchiba pulsar  2405034 Sep 22  2014 0337+17-anne-2014-09-22.tim\r\n",
      "-rw-r--r-- 1 aarchiba pulsar  2187505 Sep 23  2014 0337+17-anne-2014-02-04c.tim\r\n",
      "-rw-r--r-- 1 aarchiba pulsar  3240000 Sep 24  2014 fake-uniform.tim\r\n",
      "-rw-r--r-- 1 aarchiba pulsar  3240000 Sep 24  2014 faket2-uniform.tim\r\n",
      "-rw-r--r-- 1 aarchiba pulsar  2538576 Sep 26  2014 0337+17-anne-2014-09-26.tim\r\n",
      "-rw-r--r-- 1 aarchiba pulsar  2538606 Sep 26  2014 0337+17-anne-2014-09-26-t1fit.tim\r\n",
      "-rw-r--r-- 1 aarchiba pulsar  2629489 Sep 29  2014 0337+17-anne-2014-09-29.tim\r\n",
      "-rw-r--r-- 1 aarchiba pulsar 54000000 Oct 10  2014 fake.tim\r\n",
      "-rw-r--r-- 1 aarchiba pulsar 54000000 Oct 10  2014 faket2.tim\r\n",
      "-rw-r----- 1 aarchiba pulsar    60241 Feb  2  2015 0337+1715_GUPPI_Lband_tscr.tim\r\n",
      "-rw-r--r-- 1 aarchiba pulsar    26136 Feb  2  2015 0337+1715_GUPPI_Lband_tscr_t1.tim\r\n",
      "-rw-r--r-- 1 aarchiba pulsar   995922 Feb  2  2015 0337_6vec_table_GBT_Lband_fold_150131.tim\r\n",
      "-rw-r----- 1 aarchiba pulsar  2258524 Feb  2  2015 0337+1715_GUPPI_Lband_fscr.tim\r\n",
      "-rw-r--r-- 1 aarchiba pulsar   995922 Feb  2  2015 0337+1715_GUPPI_Lband_fscr_t1.tim\r\n",
      "-rw-r--r-- 1 aarchiba pulsar     6465 Feb  5  2015 temp-resids.tim\r\n",
      "-rw-r--r-- 1 aarchiba pulsar    54000 May 11  2015 temp.tim\r\n",
      "-rw-r--r-- 1 aarchiba pulsar  3582731 Sep 26 05:29 0337+17-anne-2016-09-26.tim\r\n"
     ]
    }
   ],
   "source": [
    "!ls -ltr *.tim"
   ]
  },
  {
   "cell_type": "code",
   "execution_count": 5,
   "metadata": {
    "collapsed": false
   },
   "outputs": [
    {
     "name": "stdout",
     "output_type": "stream",
     "text": [
      "-rw-r--r-- 1 aarchiba pulsar 2078907 Jan 22  2014 toas/gbt/0337+17-scott-2014-01-22.tim\r\n",
      "-rw-r--r-- 1 aarchiba pulsar  898938 Feb  4  2014 toas/gbt/L-band-scott-2014-02-04.tim\r\n",
      "-rw-rw-r-- 1 aarchiba pulsar  174978 Feb  4  2014 toas/wsrt/L-band-anne-2014-02-04.tim\r\n",
      "-rw-rw-r-- 1 aarchiba pulsar 1112898 Feb  4  2014 toas/ao/L-band-anne-2014-02-04.tim\r\n",
      "-rw-r--r-- 1 aarchiba pulsar  898928 Feb 12  2014 toas/gbt/L-band-scott-2014-02-04-nojump.tim\r\n",
      "-rw-rw-r-- 1 aarchiba pulsar  116372 Mar 19  2014 toas/gbt/L-band-2d-scott-2014-03-03.tim\r\n",
      "-rw-r----- 1 aarchiba pulsar 1116480 Sep 22  2014 toas/gbt/L-band-scott-2014-08-12.tim\r\n"
     ]
    }
   ],
   "source": [
    "!ls -ltr toas/*/*.tim"
   ]
  },
  {
   "cell_type": "code",
   "execution_count": 54,
   "metadata": {
    "collapsed": false
   },
   "outputs": [
    {
     "data": {
      "text/plain": [
       "({'1': 18443, '3': 15202, 'C': 52, 'J': 2, 'T': 2, 'j': 2243}, 35888)"
      ]
     },
     "execution_count": 54,
     "metadata": {},
     "output_type": "execute_result"
    }
   ],
   "source": [
    "# If we're using tempo1 format files the loader can correctly identify telescope and band\n",
    "# So really we're just concatenating these files\n",
    "timfiles = [\n",
    "    ['0337+1715_GUPPI_Lband_fscr_t1.tim', 'GBT1500'],\n",
    "    ['toas/wsrt/L-band-anne-2014-02-04.tim', 'WSRT1400'],\n",
    "    ['toas/ao/L-band-anne-2014-02-04.tim','AO1350'],\n",
    "    ]\n",
    "outname = '0337+17-anne-2016-09-26'\n",
    "\n",
    "firstchars = {}\n",
    "with open(outname+\".tim\", \"wt\") as f:\n",
    "    for (t,tel) in timfiles:\n",
    "        f.write(\"C %s\\n\" % t)\n",
    "    for (t,tel) in timfiles:\n",
    "        skipping = False\n",
    "        for l in open(t,\"rt\").readlines():\n",
    "            if l.startswith(\"SKIP\"):\n",
    "                if skipping: \n",
    "                    raise ValueError\n",
    "                skipping = True\n",
    "            elif l.startswith(\"NOSKIP\"):\n",
    "                if not skipping: \n",
    "                    raise ValueError\n",
    "                skipping = False\n",
    "            elif l.startswith(\"EMAX\"):\n",
    "                pass\n",
    "            else:\n",
    "                # Maybe strip comments?\n",
    "                if not skipping:\n",
    "                    if l[0] not in firstchars:\n",
    "                        firstchars[l[0]] = 0\n",
    "                    firstchars[l[0]] += 1\n",
    "                    f.write(l)\n",
    "        if skipping: \n",
    "            raise ValueError\n",
    "firstchars, firstchars['1']+firstchars['3']+firstchars['j']"
   ]
  },
  {
   "cell_type": "markdown",
   "metadata": {},
   "source": [
    "## Assign pulse numbers using a three-body solution"
   ]
  },
  {
   "cell_type": "code",
   "execution_count": 21,
   "metadata": {
    "collapsed": false
   },
   "outputs": [
    {
     "data": {
      "text/plain": [
       "{'efac': (('AO1440', 1.45), ('GBT1500', 1.11), ('WSRT1400', 1.45)),\n",
       " 'files': '0337+17-anne-2014-09-22',\n",
       " 'fit_pm': False,\n",
       " 'fit_pos': True,\n",
       " 'fit_px': False,\n",
       " 'kopeikin': False,\n",
       " 'parfile': '0337_tempo2_px_optical.par',\n",
       " 'ppn_mode': 'heavysimple',\n",
       " 'priors': ('dbeta', 'dgamma'),\n",
       " 't2_astrometry': True,\n",
       " 'tzrmjd_middle': False}"
      ]
     },
     "execution_count": 21,
     "metadata": {},
     "output_type": "execute_result"
    }
   ],
   "source": [
    "fpickle = \"forecaster_params.pickle\"\n",
    "d = pickle.load(open(fpickle,\"rb\"))\n",
    "F = threebody.Fitter(**d)\n",
    "d"
   ]
  },
  {
   "cell_type": "code",
   "execution_count": 22,
   "metadata": {
    "collapsed": false
   },
   "outputs": [],
   "source": [
    "# FIXME: jumps\n",
    "o = threebody.compute_orbit(F.best_parameters, F.mjds)"
   ]
  },
  {
   "cell_type": "code",
   "execution_count": 23,
   "metadata": {
    "collapsed": true
   },
   "outputs": [],
   "source": [
    "t_psr_s = o['t_psr']*86400\n",
    "p = F.best_parameters\n",
    "tzrmjd_base = p['tzrmjd_base']\n",
    "tzrmjd_s = (p['tzrmjd']+(tzrmjd_base-F.base_mjd))*86400\n",
    "phase = p['f0']*t_psr_s+p['f1']*t_psr_s**2/2.\n",
    "phase -= p['f0']*tzrmjd_s+p['f1']*tzrmjd_s**2/2."
   ]
  },
  {
   "cell_type": "code",
   "execution_count": 24,
   "metadata": {
    "collapsed": false
   },
   "outputs": [
    {
     "name": "stdout",
     "output_type": "stream",
     "text": [
      "0 questionable entries\n"
     ]
    },
    {
     "data": {
      "image/png": "[encoded data removed]",
      "text/plain": [
       "<matplotlib.figure.Figure at 0x7894990>"
      ]
     },
     "metadata": {},
     "output_type": "display_data"
    }
   ],
   "source": [
    "plt.hist(phase-np.round(phase),bins=100)\n",
    "print np.sum(np.abs(phase-np.round(phase)>0.3)), \"questionable entries\""
   ]
  },
  {
   "cell_type": "code",
   "execution_count": 25,
   "metadata": {
    "collapsed": false
   },
   "outputs": [
    {
     "data": {
      "text/plain": [
       "{'d_DECJ': array([-113.15066, -113.1508, -113.15095, ...,  118.85497,  118.85498,\n",
       "         118.85499], dtype=float128),\n",
       " 'd_PMDEC': array([ 61874.24,  61874.278,  61874.316, ...,  44893.658,  44893.705,\n",
       "         44893.741], dtype=float128),\n",
       " 'd_PMRA': array([ 234600.09,  234600.5,  234600.9, ...,  174843.07,  174843.42,\n",
       "         174843.69], dtype=float128),\n",
       " 'd_PX': array([ 1.0426218e-06,  1.0426267e-06,  1.0426317e-06, ...,  1.2098231e-06,\n",
       "         1.2098256e-06,  1.2098274e-06], dtype=float128),\n",
       " 'd_RAJ': array([-429.01788, -429.0189, -429.01991, ...,  462.89317,  462.89367,\n",
       "         462.89405], dtype=float128)}"
      ]
     },
     "execution_count": 25,
     "metadata": {},
     "output_type": "execute_result"
    }
   ],
   "source": [
    "F.derivs"
   ]
  },
  {
   "cell_type": "code",
   "execution_count": 26,
   "metadata": {
    "collapsed": false
   },
   "outputs": [
    {
     "data": {
      "text/plain": [
       "{'acosi_i': 1.4917920737881377967,\n",
       " 'acosi_o': 91.515517821405981132,\n",
       " 'asini_i': 1.2175268187146886046,\n",
       " 'asini_o': 74.672709901274213484,\n",
       " 'd_DECJ': 3.8297379260835209625e-07,\n",
       " 'd_RAJ': -9.1473641598984196357e-08,\n",
       " 'dbeta': 3.137215781113322372e-05,\n",
       " 'delta': -2.4326288381809617149e-10,\n",
       " 'delta_lan': -5.4096316391090949558e-05,\n",
       " 'dgamma': -2.5854449182822343408e-07,\n",
       " 'eps1_i': 0.00068724728071223587401,\n",
       " 'eps1_o': 0.035186247652040840626,\n",
       " 'eps2_i': -9.1179836780626676656e-05,\n",
       " 'eps2_o': -0.003462135260726911092,\n",
       " 'f0': 365.95336311711874974,\n",
       " 'f1': -2.3547358099625887817e-15,\n",
       " 'j_AO1350': 5.364017648361716e-05,\n",
       " 'j_AO1440': -0.00055121663140921818248,\n",
       " 'j_AO327': 6.457616019511097e-05,\n",
       " 'j_GBT1500': -0.00053763724410558742536,\n",
       " 'j_GBT350': 1.8912917353649655e-05,\n",
       " 'j_GBT820': 6.712253154451129e-05,\n",
       " 'j_NCY1400': 0.000675,\n",
       " 'j_WSRT350': -3.6063906052781444e-05,\n",
       " 'pb_i': 1.6293969394546642386,\n",
       " 'pb_o': 327.2575252205244358,\n",
       " 'ppn_mode': 'heavysimple',\n",
       " 'q_i': 0.13746673219074406775,\n",
       " 'shapiro': True,\n",
       " 'tasc_i': 0.4077170163964780749,\n",
       " 'tasc_o': 313.93579191727065536,\n",
       " 'tol': 1e-16,\n",
       " 'tzrmjd': 180.00018851636843113,\n",
       " 'tzrmjd_base': 55920,\n",
       " 'use_quad': False}"
      ]
     },
     "execution_count": 26,
     "metadata": {},
     "output_type": "execute_result"
    }
   ],
   "source": [
    "F.best_parameters"
   ]
  },
  {
   "cell_type": "code",
   "execution_count": 27,
   "metadata": {
    "collapsed": false
   },
   "outputs": [
    {
     "data": {
      "image/png": "[encoded data removed]",
      "text/plain": [
       "<matplotlib.figure.Figure at 0x7894bd0>"
      ]
     },
     "metadata": {},
     "output_type": "display_data"
    }
   ],
   "source": [
    "r = F.residuals(F.best_parameters)\n",
    "plt.hist(r, bins=100);"
   ]
  },
  {
   "cell_type": "code",
   "execution_count": 47,
   "metadata": {
    "collapsed": false
   },
   "outputs": [
    {
     "data": {
      "text/plain": [
       "{'efac': (('AO1440', 1.45), ('GBT1500', 1.11), ('WSRT1400', 1.45)),\n",
       " 'files': '0337+17-anne-2016-09-26',\n",
       " 'fit_pm': False,\n",
       " 'fit_pos': True,\n",
       " 'fit_px': False,\n",
       " 'kopeikin': False,\n",
       " 'parfile': '0337_tempo2_px_optical.par',\n",
       " 'ppn_mode': 'heavysimple',\n",
       " 'priors': ('dbeta', 'dgamma'),\n",
       " 't2_astrometry': True,\n",
       " 'tzrmjd_middle': False}"
      ]
     },
     "execution_count": 47,
     "metadata": {},
     "output_type": "execute_result"
    }
   ],
   "source": [
    "d_new = d.copy()\n",
    "d_new['files'] = outname\n",
    "d_new"
   ]
  },
  {
   "cell_type": "code",
   "execution_count": 53,
   "metadata": {
    "collapsed": false
   },
   "outputs": [
    {
     "name": "stderr",
     "output_type": "stream",
     "text": [
      "WARNING:threebody:best_parameters not found on disk (63 available)\n"
     ]
    },
    {
     "ename": "ValueError",
     "evalue": "Confusing tim file 0337+17-anne-2016-09-26.tim: list of 35888 telescope codes doesn't match list of 35814 BATs",
     "output_type": "error",
     "traceback": [
      "\u001b[1;31m---------------------------------------------------------------------------\u001b[0m",
      "\u001b[1;31mValueError\u001b[0m                                Traceback (most recent call last)",
      "\u001b[1;32m<ipython-input-53-b2568458850e>\u001b[0m in \u001b[0;36m<module>\u001b[1;34m()\u001b[0m\n\u001b[1;32m----> 1\u001b[1;33m \u001b[0mF_new\u001b[0m \u001b[1;33m=\u001b[0m \u001b[0mthreebody\u001b[0m\u001b[1;33m.\u001b[0m\u001b[0mFitter\u001b[0m\u001b[1;33m(\u001b[0m\u001b[1;33m**\u001b[0m\u001b[0md_new\u001b[0m\u001b[1;33m)\u001b[0m\u001b[1;33m\u001b[0m\u001b[0m\n\u001b[0m",
      "\u001b[1;32m/home/aarchiba/projects/threebody/threebody.py\u001b[0m in \u001b[0;36m__init__\u001b[1;34m(self, files, only_tels, tzrmjd_middle, parfile, efac, ppn_mode, matrix_mode, use_quad, tol, fit_pos, t2_astrometry, fit_pm, fit_px, special, general, kopeikin, shapiro, linear_jumps, priors)\u001b[0m\n\u001b[0;32m    704\u001b[0m                  \u001b[0mparfile\u001b[0m\u001b[1;33m=\u001b[0m\u001b[0mself\u001b[0m\u001b[1;33m.\u001b[0m\u001b[0mparfile\u001b[0m\u001b[1;33m,\u001b[0m\u001b[1;33m\u001b[0m\u001b[0m\n\u001b[0;32m    705\u001b[0m                  \u001b[0mt2outfile\u001b[0m\u001b[1;33m=\u001b[0m\u001b[0moutname\u001b[0m\u001b[1;33m,\u001b[0m\u001b[1;33m\u001b[0m\u001b[0m\n\u001b[1;32m--> 706\u001b[1;33m                  base_mjd=self.base_mjd)\n\u001b[0m\u001b[0;32m    707\u001b[0m         \u001b[1;32melse\u001b[0m\u001b[1;33m:\u001b[0m\u001b[1;33m\u001b[0m\u001b[0m\n\u001b[0;32m    708\u001b[0m             (self.mjds, self.pulses,\n",
      "\u001b[1;32m/home/aarchiba/projects/threebody/threebody.py\u001b[0m in \u001b[0;36mload_toas\u001b[1;34m(timfile, pulses, parfile, tempo2_program, tempo2_dir, t2outfile, base_mjd)\u001b[0m\n\u001b[0;32m    116\u001b[0m                 \u001b[0mtelcodes\u001b[0m\u001b[1;33m.\u001b[0m\u001b[0mappend\u001b[0m\u001b[1;33m(\u001b[0m\u001b[0mtelcode\u001b[0m\u001b[1;33m)\u001b[0m\u001b[1;33m\u001b[0m\u001b[0m\n\u001b[0;32m    117\u001b[0m     \u001b[1;32mif\u001b[0m \u001b[0mlen\u001b[0m\u001b[1;33m(\u001b[0m\u001b[0mtelcodes\u001b[0m\u001b[1;33m)\u001b[0m\u001b[1;33m!=\u001b[0m\u001b[0mlen\u001b[0m\u001b[1;33m(\u001b[0m\u001b[0mt2_bats\u001b[0m\u001b[1;33m)\u001b[0m\u001b[1;33m:\u001b[0m\u001b[1;33m\u001b[0m\u001b[0m\n\u001b[1;32m--> 118\u001b[1;33m         \u001b[1;32mraise\u001b[0m \u001b[0mValueError\u001b[0m\u001b[1;33m(\u001b[0m\u001b[1;34m\"Confusing tim file %s: list of %d telescope codes doesn't match list of %d BATs\"\u001b[0m \u001b[1;33m%\u001b[0m \u001b[1;33m(\u001b[0m\u001b[0mtimfile\u001b[0m\u001b[1;33m,\u001b[0m\u001b[0mlen\u001b[0m\u001b[1;33m(\u001b[0m\u001b[0mtelcodes\u001b[0m\u001b[1;33m)\u001b[0m\u001b[1;33m,\u001b[0m\u001b[0mlen\u001b[0m\u001b[1;33m(\u001b[0m\u001b[0mt2_bats\u001b[0m\u001b[1;33m)\u001b[0m\u001b[1;33m)\u001b[0m\u001b[1;33m)\u001b[0m\u001b[1;33m\u001b[0m\u001b[0m\n\u001b[0m\u001b[0;32m    119\u001b[0m \u001b[1;33m\u001b[0m\u001b[0m\n\u001b[0;32m    120\u001b[0m     \u001b[0mtels\u001b[0m \u001b[1;33m=\u001b[0m \u001b[1;33m[\u001b[0m\u001b[1;33m]\u001b[0m\u001b[1;33m\u001b[0m\u001b[0m\n",
      "\u001b[1;31mValueError\u001b[0m: Confusing tim file 0337+17-anne-2016-09-26.tim: list of 35888 telescope codes doesn't match list of 35814 BATs"
     ]
    }
   ],
   "source": [
    "F_new = threebody.Fitter(**d_new)"
   ]
  },
  {
   "cell_type": "code",
   "execution_count": null,
   "metadata": {
    "collapsed": true
   },
   "outputs": [],
   "source": [
    "r = F_new.residuals(F.best_parameters)\n",
    "plt.hist(r, bins=100);"
   ]
  },
  {
   "cell_type": "code",
   "execution_count": null,
   "metadata": {
    "collapsed": true
   },
   "outputs": [],
   "source": []
  }
 ],
 "metadata": {
  "kernelspec": {
   "display_name": "Python 2",
   "language": "python",
   "name": "python2"
  },
  "language_info": {
   "codemirror_mode": {
    "name": "ipython",
    "version": 2
   },
   "file_extension": ".py",
   "mimetype": "text/x-python",
   "name": "python",
   "nbconvert_exporter": "python",
   "pygments_lexer": "ipython2",
   "version": "2.7.3"
  }
 },
 "nbformat": 4,
 "nbformat_minor": 0
}
