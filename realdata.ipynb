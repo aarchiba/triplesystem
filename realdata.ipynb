{
 "metadata": {
  "name": "realdata"
 },
 "nbformat": 3,
 "nbformat_minor": 0,
 "worksheets": [
  {
   "cells": [
    {
     "cell_type": "code",
     "collapsed": false,
     "input": [
      "import scipy.optimize\n",
      "\n",
      "import kepler\n",
      "import quad_integrate"
     ],
     "language": "python",
     "metadata": {},
     "outputs": [],
     "prompt_number": 1
    },
    {
     "cell_type": "code",
     "collapsed": false,
     "input": [
      "delay_list = []\n",
      "with open(\"0337_delays_labeled.txt\") as f:\n",
      "    for l in f.readlines():\n",
      "        if l.startswith(\"#\"):\n",
      "            continue\n",
      "        mjd, delay, tel = l.split()\n",
      "        delay_list.append((float(mjd),float(delay),tel))\n",
      "mjds = np.array([m for (m,d,t) in delay_list])\n",
      "delays = np.array([d for (m,d,t) in delay_list])"
     ],
     "language": "python",
     "metadata": {},
     "outputs": [],
     "prompt_number": 2
    },
    {
     "cell_type": "code",
     "collapsed": false,
     "input": [
      "ix = np.argsort(mjds)\n",
      "mjds = mjds[ix]\n",
      "delays = delays[ix]"
     ],
     "language": "python",
     "metadata": {},
     "outputs": [],
     "prompt_number": 3
    },
    {
     "cell_type": "code",
     "collapsed": false,
     "input": [
      "print len(mjds)\n",
      "plt.plot(mjds, delays)\n",
      "plt.xlabel(\"Days since start\")\n",
      "plt.ylabel(\"Delay (s)\")"
     ],
     "language": "python",
     "metadata": {},
     "outputs": [
      {
       "output_type": "stream",
       "stream": "stdout",
       "text": [
        "25173\n"
       ]
      },
      {
       "output_type": "pyout",
       "prompt_number": 4,
       "text": [
        "<matplotlib.text.Text at 0x46a1a90>"
       ]
      },
      {
       "output_type": "display_data",
       "png": "[encoded data removed]"
      }
     ],
     "prompt_number": 4
    },
    {
     "cell_type": "code",
     "collapsed": false,
     "input": [
      "par_dict = {}\n",
      "for l in open(\"0337_full_iterated_nofit_2.par\").readlines():\n",
      "    s = l.split()\n",
      "    try:\n",
      "        v = s[1]\n",
      "        v = v.replace('D','e')\n",
      "        v = float(v)\n",
      "        s[1] = v\n",
      "    except ValueError:\n",
      "        pass\n",
      "    par_dict[s[0]] = s[1]\n",
      "for k in sorted(par_dict.keys()):\n",
      "    print k, \"\\t\", par_dict[k]"
     ],
     "language": "python",
     "metadata": {},
     "outputs": [
      {
       "output_type": "stream",
       "stream": "stdout",
       "text": [
        "A1 \t1.217519006\n",
        "A1_2 \t74.669393092\n",
        "BINARY \tBTX\n",
        "CLK \tUTC(NIST)\n",
        "DECJ \t17:15:14.8200000\n",
        "DM \t21.313\n",
        "E \t0.0006930542\n",
        "EDOT \t3.600784\n",
        "EDOT2 \t-9.27879968157e-19\n",
        "EDOT3 \t-2.5001354996e-25\n",
        "EDOT4 \t1.01422910445e-31\n",
        "EDOT5 \t2.35987669576e-38\n",
        "EDOT6 \t-7.73380783075e-45\n",
        "EDOT7 \t-1.95536696893e-51\n",
        "EPHEM \tDE405\n",
        "E_2 \t0.035345285\n",
        "F0 \t365.953343614\n",
        "F1 \t7.89255810633e-15\n",
        "FB0 \t7.10281088029e-06\n",
        "FB1 \t-2.67841340358e-16\n",
        "FB2 \t2.03217761457e-23\n",
        "FB3 \t2.10755453178e-29\n",
        "FB4 \t-3.63569603489e-36\n",
        "FB5 \t-1.90177512707e-42\n",
        "FB6 \t6.79375169481e-49\n",
        "FB7 \t8.27884134039e-58\n",
        "FINISH \t56293.906\n",
        "NITS \t1.0\n",
        "NTOA \t25173.0\n",
        "OM \t94.2238090016\n",
        "OMDOT \t5.0336654\n",
        "OMDOT2 \t1.58471714337e-15\n",
        "OMDOT3 \t-1.53715296856e-22\n",
        "OMDOT4 \t-1.273502521e-28\n",
        "OMDOT5 \t2.36734632857e-35\n",
        "OMDOT6 \t1.17051735435e-41\n",
        "OMDOT7 \t-4.26683067099e-48\n",
        "OM_2 \t95.7284161724\n",
        "PB_2 \t327.221424235\n",
        "PEPOCH \t56100.0\n",
        "PLAN \t1.0\n",
        "PSR \tJ0337+17\n",
        "RAJ \t03:37:43.82100000\n",
        "SOLARN0 \t10.0\n",
        "START \t55930.923\n",
        "T0 \t56100.0699803\n",
        "T0_2 \t55990.0161362\n",
        "TRES \t2.59\n",
        "TZRFRQ \t1379.999\n",
        "TZRMJD \t56100.1362267\n",
        "TZRSITE \tj\n",
        "XDOT \t0.847264\n",
        "XDOT2 \t6.08612241856e-19\n",
        "XDOT3 \t4.04204550313e-25\n",
        "XDOT4 \t4.12986952967e-32\n",
        "XDOT5 \t-8.78356970217e-38\n",
        "XDOT6 \t-8.16971471486e-45\n",
        "XDOT7 \t9.5725733247e-51\n"
       ]
      }
     ],
     "prompt_number": 5
    },
    {
     "cell_type": "code",
     "collapsed": false,
     "input": [
      "asini_i = par_dict['A1']\n",
      "pb_i = par_dict['FB0']**(-1)/86400\n",
      "eps1_i = par_dict['E']*np.cos(par_dict['OM'])\n",
      "eps2_i = par_dict['E']*np.sin(par_dict['OM'])\n",
      "tasc_i = 0.40344589 # from fitting #par_dict['T0']-par_dict['START'] # FIXME: want TASC instead\n",
      "acosi_i = asini_i # bogus\n",
      "q_i = 0.2 # bogus\n",
      "asini_o = par_dict['A1_2']\n",
      "pb_o = par_dict['PB_2']\n",
      "eps1_o = par_dict['E_2']*np.cos(par_dict['OM_2'])\n",
      "eps2_o = par_dict['E_2']*np.sin(par_dict['OM_2'])\n",
      "tasc_o = 313.93499132 # from fit #par_dict['T0']-par_dict['START'] # FIXME: want TASC instead\n",
      "acosi_o = asini_o\n",
      "delta_lan = 0\n",
      "lan_i = 0 \n",
      "x_cm = np.array([0,0,2.63008555])\n",
      "v_cm = np.zeros(3)\n",
      "\n",
      "orbital_parameters_m = (\n",
      "        asini_i, pb_i, eps1_i, eps2_i, tasc_i, \n",
      "        acosi_i, q_i,\n",
      "        asini_o, pb_o, eps1_o, eps2_o, tasc_o, \n",
      "        acosi_o, delta_lan,\n",
      "        lan_i, x_cm, v_cm)"
     ],
     "language": "python",
     "metadata": {},
     "outputs": [],
     "prompt_number": 6
    },
    {
     "cell_type": "code",
     "collapsed": false,
     "input": [
      "print pb_i, pb_o"
     ],
     "language": "python",
     "metadata": {},
     "outputs": [
      {
       "output_type": "stream",
       "stream": "stdout",
       "text": [
        "1.62950615878 327.221424235\n"
       ]
      }
     ],
     "prompt_number": 7
    },
    {
     "cell_type": "code",
     "collapsed": false,
     "input": [
      "plt.plot(mjds, delays)\n",
      "mjd_subset = mjds[::100]\n",
      "plt.plot(mjd_subset, \n",
      "    [kepler.kepler_three_body_measurable(*(orbital_parameters_m+(t,)))[0][2] \n",
      "        for t in mjd_subset])\n",
      "plt.xlabel(\"Days since start\")\n",
      "plt.ylabel(\"Delay (s)\")\n",
      "plt.figure()\n",
      "plt.plot(mjd_subset,\n",
      "     np.array([kepler.kepler_three_body_measurable(*(orbital_parameters_m+(t,)))[0][2] \n",
      "        for t in mjd_subset])-delays[::100])\n",
      "plt.xlabel(\"Days since start\")\n",
      "plt.ylabel(\"Residual delay (s)\")\n"
     ],
     "language": "python",
     "metadata": {},
     "outputs": [
      {
       "output_type": "pyout",
       "prompt_number": 8,
       "text": [
        "<matplotlib.text.Text at 0x4d7a7d0>"
       ]
      },
      {
       "output_type": "display_data",
       "png": "[encoded data removed]"
      },
      {
       "output_type": "display_data",
       "png": "[encoded data removed]"
      }
     ],
     "prompt_number": 8
    },
    {
     "cell_type": "markdown",
     "metadata": {},
     "source": [
      "Fixing T0, T0_2, and z_cm\n",
      "-------------------------\n",
      "\n",
      "These quantities are not specified in the input par file, so I'm going to do a preliminary fit for them, then enter the values above."
     ]
    },
    {
     "cell_type": "code",
     "collapsed": false,
     "input": [
      "subset = np.zeros(len(mjds),np.bool)\n",
      "subset[np.arange(0,len(mjds),100)] = True\n",
      "subset[np.arange(1000)] = True\n",
      "subset[:] = True\n",
      "mjd_subset = mjds[subset]\n",
      "delays_subset = delays[subset]\n",
      "def find_rough(args):\n",
      "    print args,\n",
      "    (tasc_i, tasc_o, z_cm) = args\n",
      "    opm = list(orbital_parameters_m)\n",
      "    opm[kepler.three_body_parameters_measurable.index('tasc_i')] = tasc_i\n",
      "    opm[kepler.three_body_parameters_measurable.index('tasc_o')] = tasc_o\n",
      "    opm[kepler.three_body_parameters_measurable.index('x_cm')][2] = z_cm\n",
      "    k_delays = np.array(\n",
      "        [kepler.kepler_three_body_measurable(*(opm+[t]))[0][2] \n",
      "        for t in mjd_subset])\n",
      "    r = k_delays-delays_subset\n",
      "    print np.sqrt(np.mean(r**2))\n",
      "    return r\n",
      "def d_find_rough(args):\n",
      "    print \"D:\", args\n",
      "    (tasc_i, tasc_o, z_cm) = args\n",
      "    opm = list(orbital_parameters_m)\n",
      "    tip = kepler.three_body_parameters_measurable.index('tasc_i')\n",
      "    top = kepler.three_body_parameters_measurable.index('tasc_o')\n",
      "    zcmi = kepler.three_body_parameters_measurable.index('x_cm')\n",
      "    opm[tip] = tasc_i\n",
      "    opm[top] = tasc_o\n",
      "    opm[zcmi][2] = z_cm\n",
      "    k_delays = np.array(\n",
      "        [kepler.kepler_three_body_measurable(*(opm+[t]))[1][2,[tip,top,zcmi+2]] \n",
      "        for t in mjd_subset])\n",
      "    return k_delays\n",
      "\n",
      "r = scipy.optimize.leastsq(find_rough, \n",
      "    (tasc_i, tasc_o, x_cm[2]),\n",
      "    Dfun = d_find_rough)"
     ],
     "language": "python",
     "metadata": {},
     "outputs": [
      {
       "output_type": "stream",
       "stream": "stdout",
       "text": [
        "[   0.40344589  313.93499132    2.63008555] "
       ]
      },
      {
       "output_type": "stream",
       "stream": "stdout",
       "text": [
        "0.169887387367\n",
        "D: [   0.40344589  313.93499132    2.63008555]\n",
        "[   0.40344589  313.93499132    2.63008555]"
       ]
      },
      {
       "output_type": "stream",
       "stream": "stdout",
       "text": [
        " 0.169887387367\n",
        "[   0.40344589  313.93499132    2.63008555] "
       ]
      },
      {
       "output_type": "stream",
       "stream": "stdout",
       "text": [
        "0.169887387367\n",
        "D: [   0.40344589  313.93499132    2.63008555]\n",
        "[   0.40344589  313.93499132    2.63008555]"
       ]
      },
      {
       "output_type": "stream",
       "stream": "stdout",
       "text": [
        " 0.169887387367\n"
       ]
      }
     ],
     "prompt_number": 114
    },
    {
     "cell_type": "markdown",
     "metadata": {},
     "source": [
      "without minus sign: RMS 0.169\n",
      "\n",
      "with minus sign: RMS 1.873\n",
      "\n",
      "so: no minus sign"
     ]
    },
    {
     "cell_type": "code",
     "collapsed": false,
     "input": [
      "print r"
     ],
     "language": "python",
     "metadata": {},
     "outputs": [
      {
       "output_type": "stream",
       "stream": "stdout",
       "text": [
        "(array([   0.40344589,  313.93499132,    2.63008555]), 2)\n"
       ]
      }
     ],
     "prompt_number": 115
    },
    {
     "cell_type": "code",
     "collapsed": false,
     "input": [
      "tasc_i, tasc_o, x_cm[2] = r[0]\n",
      "tasc_i %= pb_i\n",
      "tasc_o %= pb_o\n",
      "print tasc_i, pb_i"
     ],
     "language": "python",
     "metadata": {},
     "outputs": [
      {
       "output_type": "stream",
       "stream": "stdout",
       "text": [
        "0.403445887117 1.62950615878\n"
       ]
      }
     ],
     "prompt_number": 113
    },
    {
     "cell_type": "markdown",
     "metadata": {},
     "source": [
      "Fitting Keplerian parameters\n",
      "----------------------------\n",
      "\n",
      "To get a first approximation, let's find some best-fit Keplerian parameters."
     ]
    },
    {
     "cell_type": "code",
     "collapsed": false,
     "input": [
      "subset = np.zeros(len(mjds),np.bool)\n",
      "subset[np.arange(0,len(mjds),100)] = True\n",
      "subset[np.arange(1000)] = True\n",
      "subset[:] = True\n",
      "\n",
      "mjd_subset = mjds[subset]\n",
      "delays_subset = delays[subset]\n",
      "def find_fine(args):\n",
      "    print args\n",
      "    (asini_i, pb_i, eps1_i, eps2_i, tasc_i,\n",
      "        asini_o, pb_o, eps1_o, eps2_o, tasc_o,\n",
      "        z_cm) = args\n",
      "    opm = list(orbital_parameters_m)\n",
      "    opm[kepler.three_body_parameters_measurable.index('asini_i')] = asini_i\n",
      "    opm[kepler.three_body_parameters_measurable.index('pb_i')] = pb_i\n",
      "    opm[kepler.three_body_parameters_measurable.index('eps1_i')] = eps1_i\n",
      "    opm[kepler.three_body_parameters_measurable.index('eps2_i')] = eps2_i\n",
      "    opm[kepler.three_body_parameters_measurable.index('tasc_i')] = tasc_i\n",
      "    opm[kepler.three_body_parameters_measurable.index('asini_i')] = asini_i\n",
      "    opm[kepler.three_body_parameters_measurable.index('pb_o')] = pb_o\n",
      "    opm[kepler.three_body_parameters_measurable.index('eps1_o')] = eps1_o\n",
      "    opm[kepler.three_body_parameters_measurable.index('eps2_o')] = eps2_o\n",
      "    opm[kepler.three_body_parameters_measurable.index('tasc_o')] = tasc_o\n",
      "    opm[kepler.three_body_parameters_measurable.index('x_cm')][2] = z_cm\n",
      "    k_delays = np.array(\n",
      "        [kepler.kepler_three_body_measurable(*(opm+[t]))[0][2] \n",
      "        for t in mjd_subset])\n",
      "    return k_delays-delays_subset\n",
      "def d_find_fine(args):\n",
      "    print \"D:\", args\n",
      "    (asini_i, pb_i, eps1_i, eps2_i, tasc_i,\n",
      "        asini_o, pb_o, eps1_o, eps2_o, tasc_o,\n",
      "        z_cm) = args\n",
      "    opm = list(orbital_parameters_m)\n",
      "    def ix(n):\n",
      "        return kepler.three_body_parameters_measurable.index(n)\n",
      "    opm[ix('asini_i')] = asini_i\n",
      "    opm[ix('pb_i')] = pb_i\n",
      "    opm[ix('eps1_i')] = eps1_i\n",
      "    opm[ix('eps2_i')] = eps2_i\n",
      "    opm[ix('tasc_i')] = tasc_i\n",
      "    opm[ix('asini_o')] = asini_o\n",
      "    opm[ix('pb_o')] = pb_o\n",
      "    opm[ix('eps1_o')] = eps1_o\n",
      "    opm[ix('eps2_o')] = eps2_o\n",
      "    opm[ix('tasc_o')] = tasc_o\n",
      "    opm[ix('x_cm')][2] = z_cm\n",
      "    d_rows = [ix('asini_i'), ix('pb_i'), ix('eps1_i'), ix('eps2_i'), ix('tasc_i'),\n",
      "              ix('asini_o'), ix('pb_o'), ix('eps1_o'), ix('eps2_o'), ix('tasc_o'),\n",
      "              ix('x_cm')+2]\n",
      "    k_delays = np.array(\n",
      "        [kepler.kepler_three_body_measurable(*(opm+[t]))[1][2,d_rows] \n",
      "        for t in mjd_subset])\n",
      "    return k_delays\n",
      "\n",
      "#r = scipy.optimize.leastsq(find_rough, \n",
      "#    (tasc_i, tasc_o, x_cm[2]),\n",
      "#    Dfun = d_find_rough)"
     ],
     "language": "python",
     "metadata": {},
     "outputs": [],
     "prompt_number": 139
    },
    {
     "cell_type": "code",
     "collapsed": false,
     "input": [
      "opi = np.array([\n",
      "        asini_i, pb_i, eps1_i, eps2_i, tasc_i,\n",
      "        asini_o, pb_o, eps1_o, eps2_o, tasc_o,\n",
      "        x_cm[2]])\n",
      "zs = find_fine(opi)\n",
      "vals = [(opi,zs)]"
     ],
     "language": "python",
     "metadata": {},
     "outputs": [
      {
       "output_type": "stream",
       "stream": "stdout",
       "text": [
        "[  1.21756531e+00   1.62941949e+00  -4.39542604e-05   1.04611505e-03\n",
        "   4.08428617e-01   7.46674542e+01   3.27221711e+02  -3.55607870e-03\n",
        "   3.51613203e-02   3.13896648e+02   2.62850604e+00]\n"
       ]
      }
     ],
     "prompt_number": 140
    },
    {
     "cell_type": "code",
     "collapsed": false,
     "input": [
      "op, zs = vals[-1]\n",
      "jac = d_find_fine(op)\n",
      "U,s,Vh = scipy.linalg.svd(jac, full_matrices=False)\n",
      "si = s**(-1)\n",
      "si[s<1e-8] = 0\n",
      "#print U.shape, s.shape, Vh.shape\n",
      "#print s\n",
      "#print si\n",
      "d_op = -np.dot(Vh.T,np.dot(np.diag(si),np.dot(U.T,zs)))\n",
      "#d_op = -np.dot(scipy.linalg.pinv(jac, rcond=1e-8),zs)\n",
      "print d_op\n",
      "op = op + d_op\n",
      "zs = find_fine(op)\n",
      "vals.append((op,zs))\n"
     ],
     "language": "python",
     "metadata": {},
     "outputs": [
      {
       "output_type": "stream",
       "stream": "stdout",
       "text": [
        "D: [  1.21732825e+00   1.62942026e+00  -2.71880288e-04   9.21474011e-04\n",
        "   4.08319561e-01   7.46677740e+01   3.27221206e+02  -3.55056445e-03\n",
        "   3.51668708e-02   3.13897060e+02   2.62883366e+00]\n",
        "[  8.51854702e-08   1.77591747e-10   1.43530182e-07  -2.21263604e-07\n",
        "  -1.34278974e-07   3.19743788e-04   9.44183300e-08  -7.57094386e-10\n",
        "   2.91317521e-10   7.60962825e-08  -3.08079483e-07]"
       ]
      },
      {
       "output_type": "stream",
       "stream": "stdout",
       "text": [
        "\n",
        "[  1.21732834e+00   1.62942026e+00  -2.71736758e-04   9.21252748e-04\n",
        "   4.08319426e-01   7.46680937e+01   3.27221206e+02  -3.55056521e-03\n",
        "   3.51668711e-02   3.13897060e+02   2.62883336e+00]\n"
       ]
      }
     ],
     "prompt_number": 144
    },
    {
     "cell_type": "code",
     "collapsed": false,
     "input": [
      "for i, (op, zs) in enumerate(vals):\n",
      "    print i, op\n",
      "    plt.semilogy(mjd_subset, np.abs(zs), label=\"%d\"%i)\n",
      "plt.legend(loc=\"best\")"
     ],
     "language": "python",
     "metadata": {},
     "outputs": [
      {
       "output_type": "stream",
       "stream": "stdout",
       "text": [
        "0 [  1.21756531e+00   1.62941949e+00  -4.39542604e-05   1.04611505e-03\n",
        "   4.08428617e-01   7.46674542e+01   3.27221711e+02  -3.55607870e-03\n",
        "   3.51613203e-02   3.13896648e+02   2.62850604e+00]\n",
        "1"
       ]
      },
      {
       "output_type": "stream",
       "stream": "stdout",
       "text": [
        " [  1.21732825e+00   1.62942026e+00  -2.71880288e-04   9.21474011e-04\n",
        "   4.08319561e-01   7.46677740e+01   3.27221206e+02  -3.55056445e-03\n",
        "   3.51668708e-02   3.13897060e+02   2.62883366e+00]\n",
        "2 [  1.21732834e+00   1.62942026e+00  -2.71736758e-04   9.21252748e-04\n",
        "   4.08319426e-01   7.46680937e+01   3.27221206e+02  -3.55056521e-03\n",
        "   3.51668711e-02   3.13897060e+02   2.62883336e+00]\n"
       ]
      },
      {
       "output_type": "pyout",
       "prompt_number": 145,
       "text": [
        "<matplotlib.legend.Legend at 0xa2ca5d0>"
       ]
      },
      {
       "output_type": "display_data",
       "png": "[encoded data removed]"
      }
     ],
     "prompt_number": 145
    },
    {
     "cell_type": "code",
     "collapsed": false,
     "input": [
      "qs = [np.mean(zs**2) for (op,zs) in vals]\n",
      "print qs\n",
      "ix = np.argmin(qs)\n",
      "(asini_i, pb_i, eps1_i, eps2_i, tasc_i,\n",
      "        asini_o, pb_o, eps1_o, eps2_o, tasc_o,\n",
      "        x_cm[2]) = vals[ix][0]\n",
      "print (asini_i, pb_i, eps1_i, eps2_i, tasc_i,\n",
      "        asini_o, pb_o, eps1_o, eps2_o, tasc_o,\n",
      "        x_cm[2])"
     ],
     "language": "python",
     "metadata": {},
     "outputs": [
      {
       "output_type": "stream",
       "stream": "stdout",
       "text": [
        "[2.5339214306848871e-06, 2.4796399491584544e-06, 2.4796366616861126e-06]\n",
        "(1.2173283388586551, 1.6294202558769499, -0.00027173675787606878, 0.00092125274771793011, 0.40831942631262214, 74.668093711142205, 327.22120584044677, -0.0035505652077833833, 0.03516687111663408, 313.89705997513585, 2.628833355191313)\n"
       ]
      }
     ],
     "prompt_number": 147
    },
    {
     "cell_type": "markdown",
     "metadata": {},
     "source": [
      "Results from fitting Keplerian model:"
     ]
    },
    {
     "cell_type": "code",
     "collapsed": false,
     "input": [
      "(asini_i, pb_i, eps1_i, eps2_i, tasc_i,\n",
      "        asini_o, pb_o, eps1_o, eps2_o, tasc_o,\n",
      "        x_cm[2]) = (1.2173283388586551, \n",
      "        1.6294202558769499, \n",
      "        -0.00027173675787606878, \n",
      "        0.00092125274771793011, \n",
      "        0.40831942631262214, \n",
      "        74.668093711142205, \n",
      "        327.22120584044677, \n",
      "        -0.0035505652077833833, \n",
      "        0.03516687111663408, \n",
      "        313.89705997513585, \n",
      "        2.628833355191313)\n",
      "\n",
      "orbital_parameters_fit_k = (\n",
      "        asini_i, pb_i, eps1_i, eps2_i, tasc_i, \n",
      "        acosi_i, q_i,\n",
      "        asini_o, pb_o, eps1_o, eps2_o, tasc_o, \n",
      "        acosi_o, delta_lan,\n",
      "        lan_i, x_cm, v_cm)"
     ],
     "language": "python",
     "metadata": {},
     "outputs": [],
     "prompt_number": 13
    },
    {
     "cell_type": "markdown",
     "metadata": {},
     "source": [
      "Fitting the full gravitational model\n",
      "------------------------------------\n",
      "\n",
      "We'll start from the state obtained from the Keplerian parameters, then let a minimizer vary the input parameters to try to fit the data. It's probably better to run the minimizer in Keplerian-parameter space rather than orbital-state-vector space, though we could do either. "
     ]
    },
    {
     "cell_type": "markdown",
     "metadata": {},
     "source": [
      "This uses the Powell optimizer, which doesn't have derivative information and takes *forever*. Or it can use one of the other non-least-squares minimizers, which are better even though they need numerical derivatives."
     ]
    },
    {
     "cell_type": "code",
     "collapsed": false,
     "input": [
      "results = []\n",
      "tol = 1e-12\n",
      "\n",
      "mjd_subset = mjds\n",
      "delay_subset = delays\n",
      "def pack(args):\n",
      "    return np.array(list(args[:-2]) + list(args[-2]) + list(args[-1]))\n",
      "def unpack(args):\n",
      "    return list(args[:-6])+[args[-6:-3],args[-3:]]\n",
      "def fit_quality(args):\n",
      "    args = unpack(args)\n",
      "    print args,\n",
      "    try:\n",
      "        initial_state = kepler.kepler_three_body_measurable(*(args+[0]))[0]\n",
      "    except (ValueError, RuntimeError):\n",
      "        err = np.inf\n",
      "        results.append((args,err))\n",
      "        return err\n",
      "    O = quad_integrate.ODE(quad_integrate.KeplerRHS(),\n",
      "                           initial_state, 0,\n",
      "                           rtol = tol, atol = tol)\n",
      "    r = []\n",
      "    for t in mjd_subset:\n",
      "        O.integrate_to(t)\n",
      "        r.append(O.x[2])\n",
      "    # we're using a scalar minimizer that doesn't know about least-squares\n",
      "    err = np.mean((np.array(r)-delay_subset)**2) \n",
      "    print err\n",
      "    results.append((args,err))\n",
      "    return err\n",
      "\n",
      "#print pack(orbital_parameters_fit_k)\n",
      "#print unpack(pack(orbital_parameters_fit_k))\n"
     ],
     "language": "python",
     "metadata": {},
     "outputs": [],
     "prompt_number": 107
    },
    {
     "cell_type": "code",
     "collapsed": false,
     "input": [
      "r = scipy.optimize.fmin_bfgs(fit_quality, \n",
      "    pack(orbital_parameters_fit_k))"
     ],
     "language": "python",
     "metadata": {},
     "outputs": [
      {
       "output_type": "stream",
       "stream": "stdout",
       "text": [
        "[1.2173283388586551, 1.6294202558769499, -0.00027173675787606878, 0.00092125274771793011, 0.40831942631262214, 1.2175190060000001, 0.20000000000000001, 74.668093711142205, 327.22120584044677, -0.0035505652077833833, 0.03516687111663408, 313.89705997513585, 74.669393092000007, 0.0, 0.0, array([ 0.        ,  0.        ,  2.62883336]), array([ 0.,  0.,  0.])] "
       ]
      },
      {
       "output_type": "stream",
       "stream": "stdout",
       "text": [
        "0.00115087877711\n",
        "[1.2173283537598163, 1.6294202558769499, -0.00027173675787606878, 0.00092125274771793011, 0.40831942631262214, 1.2175190060000001, 0.20000000000000001, 74.668093711142205, 327.22120584044677, -0.0035505652077833833, 0.03516687111663408, 313.89705997513585, 74.669393092000007, 0.0, 0.0, array([ 0.        ,  0.        ,  2.62883336]), array([ 0.,  0.,  0.])] "
       ]
      },
      {
       "output_type": "stream",
       "stream": "stdout",
       "text": [
        "0.00115087875211\n",
        "[1.2173283388586551, 1.6294202707781111, -0.00027173675787606878, 0.00092125274771793011, 0.40831942631262214, 1.2175190060000001, 0.20000000000000001, 74.668093711142205, 327.22120584044677, -0.0035505652077833833, 0.03516687111663408, 313.89705997513585, 74.669393092000007, 0.0, 0.0, array([ 0.        ,  0.        ,  2.62883336]), array([ 0.,  0.,  0.])] "
       ]
      },
      {
       "output_type": "stream",
       "stream": "stdout",
       "text": [
        "0.00115107311302\n",
        "[1.2173283388586551, 1.6294202558769499, -0.00027172185671487493, 0.00092125274771793011, 0.40831942631262214, 1.2175190060000001, 0.20000000000000001, 74.668093711142205, 327.22120584044677, -0.0035505652077833833, 0.03516687111663408, 313.89705997513585, 74.669393092000007, 0.0, 0.0, array([ 0.        ,  0.        ,  2.62883336]), array([ 0.,  0.,  0.])] "
       ]
      },
      {
       "output_type": "stream",
       "stream": "stdout",
       "text": [
        "0.00115087879039\n",
        "[1.2173283388586551, 1.6294202558769499, -0.00027173675787606878, 0.00092126764887912396, 0.40831942631262214, 1.2175190060000001, 0.20000000000000001, 74.668093711142205, 327.22120584044677, -0.0035505652077833833, 0.03516687111663408, 313.89705997513585, 74.669393092000007, 0.0, 0.0, array([ 0.        ,  0.        ,  2.62883336]), array([ 0.,  0.,  0.])] "
       ]
      },
      {
       "output_type": "stream",
       "stream": "stdout",
       "text": [
        "0.00115087809445\n",
        "[1.2173283388586551, 1.6294202558769499, -0.00027173675787606878, 0.00092125274771793011, 0.40831944121378333, 1.2175190060000001, 0.20000000000000001, 74.668093711142205, 327.22120584044677, -0.0035505652077833833, 0.03516687111663408, 313.89705997513585, 74.669393092000007, 0.0, 0.0, array([ 0.        ,  0.        ,  2.62883336]), array([ 0.,  0.,  0.])] "
       ]
      },
      {
       "output_type": "stream",
       "stream": "stdout",
       "text": [
        "0.00115088004289\n",
        "[1.2173283388586551, 1.6294202558769499, -0.00027173675787606878, 0.00092125274771793011, 0.40831942631262214, 1.2175190209011613, 0.20000000000000001, 74.668093711142205, 327.22120584044677, -0.0035505652077833833, 0.03516687111663408, 313.89705997513585, 74.669393092000007, 0.0, 0.0, array([ 0.        ,  0.        ,  2.62883336]), array([ 0.,  0.,  0.])] "
       ]
      },
      {
       "output_type": "stream",
       "stream": "stdout",
       "text": [
        "0.00115087878406\n",
        "[1.2173283388586551, 1.6294202558769499, -0.00027173675787606878, 0.00092125274771793011, 0.40831942631262214, 1.2175190060000001, 0.2000000149011612, 74.668093711142205, 327.22120584044677, -0.0035505652077833833, 0.03516687111663408, 313.89705997513585, 74.669393092000007, 0.0, 0.0, array([ 0.        ,  0.        ,  2.62883336]), array([ 0.,  0.,  0.])] "
       ]
      },
      {
       "output_type": "stream",
       "stream": "stdout",
       "text": [
        "0.00115087886807\n",
        "[1.2173283388586551, 1.6294202558769499, -0.00027173675787606878, 0.00092125274771793011, 0.40831942631262214, 1.2175190060000001, 0.20000000000000001, 74.668093726043367, 327.22120584044677, -0.0035505652077833833, 0.03516687111663408, 313.89705997513585, 74.669393092000007, 0.0, 0.0, array([ 0.        ,  0.        ,  2.62883336]), array([ 0.,  0.,  0.])] "
       ]
      },
      {
       "output_type": "stream",
       "stream": "stdout",
       "text": [
        "0.00115087869134\n",
        "[1.2173283388586551, 1.6294202558769499, -0.00027173675787606878, 0.00092125274771793011, 0.40831942631262214, 1.2175190060000001, 0.20000000000000001, 74.668093711142205, 327.22120585534793, -0.0035505652077833833, 0.03516687111663408, 313.89705997513585, 74.669393092000007, 0.0, 0.0, array([ 0.        ,  0.        ,  2.62883336]), array([ 0.,  0.,  0.])] "
       ]
      },
      {
       "output_type": "stream",
       "stream": "stdout",
       "text": [
        "0.00115087898942\n",
        "[1.2173283388586551, 1.6294202558769499, -0.00027173675787606878, 0.00092125274771793011, 0.40831942631262214, 1.2175190060000001, 0.20000000000000001, 74.668093711142205, 327.22120584044677, -0.0035505503066221894, 0.03516687111663408, 313.89705997513585, 74.669393092000007, 0.0, 0.0, array([ 0.        ,  0.        ,  2.62883336]), array([ 0.,  0.,  0.])] "
       ]
      },
      {
       "output_type": "stream",
       "stream": "stdout",
       "text": [
        "0.00115087831904\n",
        "[1.2173283388586551, 1.6294202558769499, -0.00027173675787606878, 0.00092125274771793011, 0.40831942631262214, 1.2175190060000001, 0.20000000000000001, 74.668093711142205, 327.22120584044677, -0.0035505652077833833, 0.035166886017795274, 313.89705997513585, 74.669393092000007, 0.0, 0.0, array([ 0.        ,  0.        ,  2.62883336]), array([ 0.,  0.,  0.])] "
       ]
      },
      {
       "output_type": "stream",
       "stream": "stdout",
       "text": [
        "0.00115096114842\n",
        "[1.2173283388586551, 1.6294202558769499, -0.00027173675787606878, 0.00092125274771793011, 0.40831942631262214, 1.2175190060000001, 0.20000000000000001, 74.668093711142205, 327.22120584044677, -0.0035505652077833833, 0.03516687111663408, 313.89705999003701, 74.669393092000007, 0.0, 0.0, array([ 0.        ,  0.        ,  2.62883336]), array([ 0.,  0.,  0.])] "
       ]
      },
      {
       "output_type": "stream",
       "stream": "stdout",
       "text": [
        "0.00115087796881\n",
        "[1.2173283388586551, 1.6294202558769499, -0.00027173675787606878, 0.00092125274771793011, 0.40831942631262214, 1.2175190060000001, 0.20000000000000001, 74.668093711142205, 327.22120584044677, -0.0035505652077833833, 0.03516687111663408, 313.89705997513585, 74.669393106901168, 0.0, 0.0, array([ 0.        ,  0.        ,  2.62883336]), array([ 0.,  0.,  0.])] "
       ]
      },
      {
       "output_type": "stream",
       "stream": "stdout",
       "text": [
        "0.00115087877701\n",
        "[1.2173283388586551, 1.6294202558769499, -0.00027173675787606878, 0.00092125274771793011, 0.40831942631262214, 1.2175190060000001, 0.20000000000000001, 74.668093711142205, 327.22120584044677, -0.0035505652077833833, 0.03516687111663408, 313.89705997513585, 74.669393092000007, 1.4901161193847656e-08, 0.0, array([ 0.        ,  0.        ,  2.62883336]), array([ 0.,  0.,  0.])] "
       ]
      },
      {
       "output_type": "stream",
       "stream": "stdout",
       "text": [
        "0.00115087878112\n",
        "[1.2173283388586551, 1.6294202558769499, -0.00027173675787606878, 0.00092125274771793011, 0.40831942631262214, 1.2175190060000001, 0.20000000000000001, 74.668093711142205, 327.22120584044677, -0.0035505652077833833, 0.03516687111663408, 313.89705997513585, 74.669393092000007, 0.0, 1.4901161193847656e-08, array([ 0.        ,  0.        ,  2.62883336]), array([ 0.,  0.,  0.])] "
       ]
      },
      {
       "output_type": "stream",
       "stream": "stdout",
       "text": [
        "0.0011508787771\n",
        "[1.2173283388586551, 1.6294202558769499, -0.00027173675787606878, 0.00092125274771793011, 0.40831942631262214, 1.2175190060000001, 0.20000000000000001, 74.668093711142205, 327.22120584044677, -0.0035505652077833833, 0.03516687111663408, 313.89705997513585, 74.669393092000007, 0.0, 0.0, array([  1.49011612e-08,   0.00000000e+00,   2.62883336e+00]), array([ 0.,  0.,  0.])] "
       ]
      },
      {
       "output_type": "stream",
       "stream": "stdout",
       "text": [
        "0.00115087877711\n",
        "[1.2173283388586551, 1.6294202558769499, -0.00027173675787606878, 0.00092125274771793011, 0.40831942631262214, 1.2175190060000001, 0.20000000000000001, 74.668093711142205, 327.22120584044677, -0.0035505652077833833, 0.03516687111663408, 313.89705997513585, 74.669393092000007, 0.0, 0.0, array([  0.00000000e+00,   1.49011612e-08,   2.62883336e+00]), array([ 0.,  0.,  0.])] "
       ]
      },
      {
       "output_type": "stream",
       "stream": "stdout",
       "text": [
        "0.00115087877711\n",
        "[1.2173283388586551, 1.6294202558769499, -0.00027173675787606878, 0.00092125274771793011, 0.40831942631262214, 1.2175190060000001, 0.20000000000000001, 74.668093711142205, 327.22120584044677, -0.0035505652077833833, 0.03516687111663408, 313.89705997513585, 74.669393092000007, 0.0, 0.0, array([ 0.        ,  0.        ,  2.62883337]), array([ 0.,  0.,  0.])] "
       ]
      },
      {
       "output_type": "stream",
       "stream": "stdout",
       "text": [
        "0.0011508787786\n",
        "[1.2173283388586551, 1.6294202558769499, -0.00027173675787606878, 0.00092125274771793011, 0.40831942631262214, 1.2175190060000001, 0.20000000000000001, 74.668093711142205, 327.22120584044677, -0.0035505652077833833, 0.03516687111663408, 313.89705997513585, 74.669393092000007, 0.0, 0.0, array([ 0.        ,  0.        ,  2.62883336]), array([  1.49011612e-08,   0.00000000e+00,   0.00000000e+00])] "
       ]
      },
      {
       "output_type": "stream",
       "stream": "stdout",
       "text": [
        "0.00115087877711\n",
        "[1.2173283388586551, 1.6294202558769499, -0.00027173675787606878, 0.00092125274771793011, 0.40831942631262214, 1.2175190060000001, 0.20000000000000001, 74.668093711142205, 327.22120584044677, -0.0035505652077833833, 0.03516687111663408, 313.89705997513585, 74.669393092000007, 0.0, 0.0, array([ 0.        ,  0.        ,  2.62883336]), array([  0.00000000e+00,   1.49011612e-08,   0.00000000e+00])] "
       ]
      },
      {
       "output_type": "stream",
       "stream": "stdout",
       "text": [
        "0.00115087877711\n",
        "[1.2173283388586551, 1.6294202558769499, -0.00027173675787606878, 0.00092125274771793011, 0.40831942631262214, 1.2175190060000001, 0.20000000000000001, 74.668093711142205, 327.22120584044677, -0.0035505652077833833, 0.03516687111663408, 313.89705997513585, 74.669393092000007, 0.0, 0.0, array([ 0.        ,  0.        ,  2.62883336]), array([  0.00000000e+00,   0.00000000e+00,   1.49011612e-08])] "
       ]
      },
      {
       "output_type": "stream",
       "stream": "stdout",
       "text": [
        "0.00115093756367\n",
        "[1.2173283388586551, 1.6294202558769499, -0.00027173675787606878, 0.00092125274771793011, 0.40831942631262214, 1.2175190060000001, 0.20000000000000001, 74.668093711142205, 327.22120584044677, -0.0035505652077833833, 0.03516687111663408, 313.89705997513585, 74.669393092000007, 0.0, 0.0, array([ 0.        ,  0.        ,  2.62883336]), array([ 0.,  0.,  0.])] "
       ]
      },
      {
       "output_type": "stream",
       "stream": "stdout",
       "text": [
        "0.00115087877711\n",
        "[1.2190064288716069, -11.412241540390918, -0.0011626907376033402, 0.046734034912448874, 0.32337424376878848, 1.2170525036950546, 0.19389583493614709, 74.673849587525723, 327.20695781968408, 0.027190218077825203, -5.4926782927119033, 313.95130424422462, 74.669400266616492, -0.00026871345085055509, 6.2645908371905534e-07, array([  9.45021839e-13,  -9.66338121e-13,   2.62873381e+00]), array([  6.07300876e-11,  -1.67958092e-10,  -3.94509891e+00])] [1.2190064288716069, -11.412241540390918, -0.0011626907376033402, 0.046734034912448874, 0.32337424376878848, 1.2170525036950546, 0.19389583493614709, 74.673849587525723, 327.20695781968408, 0.027190218077825203, -5.4926782927119033, 313.95130424422462, 74.669400266616492, -0.00026871345085055509, 6.2645908371905534e-07, array([  9.45021839e-13,  -9.66338121e-13,   2.62873381e+00]), array([  6.07300876e-11,  -1.67958092e-10,  -3.94509891e+00])] [1.2190064437727681, -11.412241540390918, -0.0011626907376033402, 0.046734034912448874, 0.32337424376878848, 1.2170525036950546, 0.19389583493614709, 74.673849587525723, 327.20695781968408, 0.027190218077825203, -5.4926782927119033, 313.95130424422462, 74.669400266616492, -0.00026871345085055509, 6.2645908371905534e-07, array([  9.45021839e-13,  -9.66338121e-13,   2.62873381e+00]), array([  6.07300876e-11,  -1.67958092e-10,  -3.94509891e+00])] [1.2190064288716069, -11.412241525489756, -0.0011626907376033402, 0.046734034912448874, 0.32337424376878848, 1.2170525036950546, 0.19389583493614709, 74.673849587525723, 327.20695781968408, 0.027190218077825203, -5.4926782927119033, 313.95130424422462, 74.669400266616492, -0.00026871345085055509, 6.2645908371905534e-07, array([  9.45021839e-13,  -9.66338121e-13,   2.62873381e+00]), array([  6.07300876e-11,  -1.67958092e-10,  -3.94509891e+00])] [1.2190064288716069, -11.412241540390918, -0.0011626758364421464, 0.046734034912448874, 0.32337424376878848, 1.2170525036950546, 0.19389583493614709, 74.673849587525723, 327.20695781968408, 0.027190218077825203, -5.4926782927119033, 313.95130424422462, 74.669400266616492, -0.00026871345085055509, 6.2645908371905534e-07, array([  9.45021839e-13,  -9.66338121e-13,   2.62873381e+00]), array([  6.07300876e-11,  -1.67958092e-10,  -3.94509891e+00])] [1.2190064288716069, -11.412241540390918, -0.0011626907376033402, 0.046734049813610068, 0.32337424376878848, 1.2170525036950546, 0.19389583493614709, 74.673849587525723, 327.20695781968408, 0.027190218077825203, -5.4926782927119033, 313.95130424422462, 74.669400266616492, -0.00026871345085055509, 6.2645908371905534e-07, array([  9.45021839e-13,  -9.66338121e-13,   2.62873381e+00]), array([  6.07300876e-11,  -1.67958092e-10,  -3.94509891e+00])] [1.2190064288716069, -11.412241540390918, -0.0011626907376033402, 0.046734034912448874, 0.32337425866994968, 1.2170525036950546, 0.19389583493614709, 74.673849587525723, 327.20695781968408, 0.027190218077825203, -5.4926782927119033, 313.95130424422462, 74.669400266616492, -0.00026871345085055509, 6.2645908371905534e-07, array([  9.45021839e-13,  -9.66338121e-13,   2.62873381e+00]), array([  6.07300876e-11,  -1.67958092e-10,  -3.94509891e+00])] [1.2190064288716069, -11.412241540390918, -0.0011626907376033402, 0.046734034912448874, 0.32337424376878848, 1.2170525185962158, 0.19389583493614709, 74.673849587525723, 327.20695781968408, 0.027190218077825203, -5.4926782927119033, 313.95130424422462, 74.669400266616492, -0.00026871345085055509, 6.2645908371905534e-07, array([  9.45021839e-13,  -9.66338121e-13,   2.62873381e+00]), array([  6.07300876e-11,  -1.67958092e-10,  -3.94509891e+00])] [1.2190064288716069, -11.412241540390918, -0.0011626907376033402, 0.046734034912448874, 0.32337424376878848, 1.2170525036950546, 0.19389584983730829, 74.673849587525723, 327.20695781968408, 0.027190218077825203, -5.4926782927119033, 313.95130424422462, 74.669400266616492, -0.00026871345085055509, 6.2645908371905534e-07, array([  9.45021839e-13,  -9.66338121e-13,   2.62873381e+00]), array([  6.07300876e-11,  -1.67958092e-10,  -3.94509891e+00])] [1.2190064288716069, -11.412241540390918, -0.0011626907376033402, 0.046734034912448874, 0.32337424376878848, 1.2170525036950546, 0.19389583493614709, 74.673849602426884, 327.20695781968408, 0.027190218077825203, -5.4926782927119033, 313.95130424422462, 74.669400266616492, -0.00026871345085055509, 6.2645908371905534e-07, array([  9.45021839e-13,  -9.66338121e-13,   2.62873381e+00]), array([  6.07300876e-11,  -1.67958092e-10,  -3.94509891e+00])] [1.2190064288716069, -11.412241540390918, -0.0011626907376033402, 0.046734034912448874, 0.32337424376878848, 1.2170525036950546, 0.19389583493614709, 74.673849587525723, 327.20695783458524, 0.027190218077825203, -5.4926782927119033, 313.95130424422462, 74.669400266616492, -0.00026871345085055509, 6.2645908371905534e-07, array([  9.45021839e-13,  -9.66338121e-13,   2.62873381e+00]), array([  6.07300876e-11,  -1.67958092e-10,  -3.94509891e+00])] [1.2190064288716069, -11.412241540390918, -0.0011626907376033402, 0.046734034912448874, 0.32337424376878848, 1.2170525036950546, 0.19389583493614709, 74.673849587525723, 327.20695781968408, 0.027190232978986397, -5.4926782927119033, 313.95130424422462, 74.669400266616492, -0.00026871345085055509, 6.2645908371905534e-07, array([  9.45021839e-13,  -9.66338121e-13,   2.62873381e+00]), array([  6.07300876e-11,  -1.67958092e-10,  -3.94509891e+00])] [1.2190064288716069, -11.412241540390918, -0.0011626907376033402, 0.046734034912448874, 0.32337424376878848, 1.2170525036950546, 0.19389583493614709, 74.673849587525723, 327.20695781968408, 0.027190218077825203, -5.4926782778107421, 313.95130424422462, 74.669400266616492, -0.00026871345085055509, 6.2645908371905534e-07, array([  9.45021839e-13,  -9.66338121e-13,   2.62873381e+00]), array([  6.07300876e-11,  -1.67958092e-10,  -3.94509891e+00])] [1.2190064288716069, -11.412241540390918, -0.0011626907376033402, 0.046734034912448874, 0.32337424376878848, 1.2170525036950546, 0.19389583493614709, 74.673849587525723, 327.20695781968408, 0.027190218077825203, -5.4926782927119033, 313.95130425912578, 74.669400266616492, -0.00026871345085055509, 6.2645908371905534e-07, array([  9.45021839e-13,  -9.66338121e-13,   2.62873381e+00]), array([  6.07300876e-11,  -1.67958092e-10,  -3.94509891e+00])] [1.2190064288716069, -11.412241540390918, -0.0011626907376033402, 0.046734034912448874, 0.32337424376878848, 1.2170525036950546, 0.19389583493614709, 74.673849587525723, 327.20695781968408, 0.027190218077825203, -5.4926782927119033, 313.95130424422462, 74.669400281517653, -0.00026871345085055509, 6.2645908371905534e-07, array([  9.45021839e-13,  -9.66338121e-13,   2.62873381e+00]), array([  6.07300876e-11,  -1.67958092e-10,  -3.94509891e+00])] [1.2190064288716069, -11.412241540390918, -0.0011626907376033402, 0.046734034912448874, 0.32337424376878848, 1.2170525036950546, 0.19389583493614709, 74.673849587525723, 327.20695781968408, 0.027190218077825203, -5.4926782927119033, 313.95130424422462, 74.669400266616492, -0.00026869854968936124, 6.2645908371905534e-07, array([  9.45021839e-13,  -9.66338121e-13,   2.62873381e+00]), array([  6.07300876e-11,  -1.67958092e-10,  -3.94509891e+00])] [1.2190064288716069, -11.412241540390918, -0.0011626907376033402, 0.046734034912448874, 0.32337424376878848, 1.2170525036950546, 0.19389583493614709, 74.673849587525723, 327.20695781968408, 0.027190218077825203, -5.4926782927119033, 313.95130424422462, 74.669400266616492, -0.00026871345085055509, 6.41360244912903e-07, array([  9.45021839e-13,  -9.66338121e-13,   2.62873381e+00]), array([  6.07300876e-11,  -1.67958092e-10,  -3.94509891e+00])] [1.2190064288716069, -11.412241540390918, -0.0011626907376033402, 0.046734034912448874, 0.32337424376878848, 1.2170525036950546, 0.19389583493614709, 74.673849587525723, 327.20695781968408, 0.027190218077825203, -5.4926782927119033, 313.95130424422462, 74.669400266616492, -0.00026871345085055509, 6.2645908371905534e-07, array([  1.49021062e-08,  -9.66338121e-13,   2.62873381e+00]), array([  6.07300876e-11,  -1.67958092e-10,  -3.94509891e+00])] [1.2190064288716069, -11.412241540390918, -0.0011626907376033402, 0.046734034912448874, 0.32337424376878848, 1.2170525036950546, 0.19389583493614709, 74.673849587525723, 327.20695781968408, 0.027190218077825203, -5.4926782927119033, 313.95130424422462, 74.669400266616492, -0.00026871345085055509, 6.2645908371905534e-07, array([  9.45021839e-13,   1.49001949e-08,   2.62873381e+00]), array([  6.07300876e-11,  -1.67958092e-10,  -3.94509891e+00])] [1.2190064288716069, -11.412241540390918, -0.0011626907376033402, 0.046734034912448874, 0.32337424376878848, 1.2170525036950546, 0.19389583493614709, 74.673849587525723, 327.20695781968408, 0.027190218077825203, -5.4926782927119033, 313.95130424422462, 74.669400266616492, -0.00026871345085055509, 6.2645908371905534e-07, array([  9.45021839e-13,  -9.66338121e-13,   2.62873382e+00]), array([  6.07300876e-11,  -1.67958092e-10,  -3.94509891e+00])] [1.2190064288716069, -11.412241540390918, -0.0011626907376033402, 0.046734034912448874, 0.32337424376878848, 1.2170525036950546, 0.19389583493614709, 74.673849587525723, 327.20695781968408, 0.027190218077825203, -5.4926782927119033, 313.95130424422462, 74.669400266616492, -0.00026871345085055509, 6.2645908371905534e-07, array([  9.45021839e-13,  -9.66338121e-13,   2.62873381e+00]), array([  1.49618913e-08,  -1.67958092e-10,  -3.94509891e+00])] [1.2190064288716069, -11.412241540390918, -0.0011626907376033402, 0.046734034912448874, 0.32337424376878848, 1.2170525036950546, 0.19389583493614709, 74.673849587525723, 327.20695781968408, 0.027190218077825203, -5.4926782927119033, 313.95130424422462, 74.669400266616492, -0.00026871345085055509, 6.2645908371905534e-07, array([  9.45021839e-13,  -9.66338121e-13,   2.62873381e+00]), array([  6.07300876e-11,   1.47332031e-08,  -3.94509891e+00])] [1.2190064288716069, -11.412241540390918, -0.0011626907376033402, 0.046734034912448874, 0.32337424376878848, 1.2170525036950546, 0.19389583493614709, 74.673849587525723, 327.20695781968408, 0.027190218077825203, -5.4926782927119033, 313.95130424422462, 74.669400266616492, -0.00026871345085055509, 6.2645908371905534e-07, array([  9.45021839e-13,  -9.66338121e-13,   2.62873381e+00]), array([  6.07300876e-11,  -1.67958092e-10,  -3.94509890e+00])] [1.2173283388754359, 1.629420125460332, -0.00027173676678560855, 0.00092125320584575171, 0.40831942546317029, 1.2175190059953351, 0.19999999993895837, 74.668093711199759, 327.22120584030426, -0.0035505649003755506, 0.035166815838182444, 313.8970599756783, 74.669393092000078, -2.6871345085055511e-12, 6.2645908371905533e-15, array([  9.45021839e-21,  -9.66338121e-21,   2.62883336e+00]), array([  6.07300876e-19,  -1.67958092e-18,  -3.94509891e-08])] "
       ]
      },
      {
       "output_type": "stream",
       "stream": "stdout",
       "text": [
        "0.00114871949743\n",
        "[1.2173283388754359, 1.629420125460332, -0.00027173676678560855, 0.00092125320584575171, 0.40831942546317029, 1.2175190059953351, 0.19999999993895837, 74.668093711199759, 327.22120584030426, -0.0035505649003755506, 0.035166815838182444, 313.8970599756783, 74.669393092000078, -2.6871345085055511e-12, 6.2645908371905533e-15, array([  9.45021839e-21,  -9.66338121e-21,   2.62883336e+00]), array([  6.07300876e-19,  -1.67958092e-18,  -3.94509891e-08])] "
       ]
      },
      {
       "output_type": "stream",
       "stream": "stdout",
       "text": [
        "0.00114871949743\n",
        "[1.2173283537765971, 1.629420125460332, -0.00027173676678560855, 0.00092125320584575171, 0.40831942546317029, 1.2175190059953351, 0.19999999993895837, 74.668093711199759, 327.22120584030426, -0.0035505649003755506, 0.035166815838182444, 313.8970599756783, 74.669393092000078, -2.6871345085055511e-12, 6.2645908371905533e-15, array([  9.45021839e-21,  -9.66338121e-21,   2.62883336e+00]), array([  6.07300876e-19,  -1.67958092e-18,  -3.94509891e-08])] "
       ]
      },
      {
       "output_type": "stream",
       "stream": "stdout",
       "text": [
        "0.00114871947242\n",
        "[1.2173283388754359, 1.6294201403614932, -0.00027173676678560855, 0.00092125320584575171, 0.40831942546317029, 1.2175190059953351, 0.19999999993895837, 74.668093711199759, 327.22120584030426, -0.0035505649003755506, 0.035166815838182444, 313.8970599756783, 74.669393092000078, -2.6871345085055511e-12, 6.2645908371905533e-15, array([  9.45021839e-21,  -9.66338121e-21,   2.62883336e+00]), array([  6.07300876e-19,  -1.67958092e-18,  -3.94509891e-08])] "
       ]
      },
      {
       "output_type": "stream",
       "stream": "stdout",
       "text": [
        "0.00114891326604\n",
        "[1.2173283388754359, 1.629420125460332, -0.0002717218656244147, 0.00092125320584575171, 0.40831942546317029, 1.2175190059953351, 0.19999999993895837, 74.668093711199759, 327.22120584030426, -0.0035505649003755506, 0.035166815838182444, 313.8970599756783, 74.669393092000078, -2.6871345085055511e-12, 6.2645908371905533e-15, array([  9.45021839e-21,  -9.66338121e-21,   2.62883336e+00]), array([  6.07300876e-19,  -1.67958092e-18,  -3.94509891e-08])] "
       ]
      },
      {
       "output_type": "stream",
       "stream": "stdout",
       "text": [
        "0.0011487195107\n",
        "[1.2173283388754359, 1.629420125460332, -0.00027173676678560855, 0.00092126810700694556, 0.40831942546317029, 1.2175190059953351, 0.19999999993895837, 74.668093711199759, 327.22120584030426, -0.0035505649003755506, 0.035166815838182444, 313.8970599756783, 74.669393092000078, -2.6871345085055511e-12, 6.2645908371905533e-15, array([  9.45021839e-21,  -9.66338121e-21,   2.62883336e+00]), array([  6.07300876e-19,  -1.67958092e-18,  -3.94509891e-08])] "
       ]
      },
      {
       "output_type": "stream",
       "stream": "stdout",
       "text": [
        "0.00114871881738\n",
        "[1.2173283388754359, 1.629420125460332, -0.00027173676678560855, 0.00092125320584575171, 0.40831944036433149, 1.2175190059953351, 0.19999999993895837, 74.668093711199759, 327.22120584030426, -0.0035505649003755506, 0.035166815838182444, 313.8970599756783, 74.669393092000078, -2.6871345085055511e-12, 6.2645908371905533e-15, array([  9.45021839e-21,  -9.66338121e-21,   2.62883336e+00]), array([  6.07300876e-19,  -1.67958092e-18,  -3.94509891e-08])] "
       ]
      },
      {
       "output_type": "stream",
       "stream": "stdout",
       "text": [
        "0.00114872075895\n",
        "[1.2173283388754359, 1.629420125460332, -0.00027173676678560855, 0.00092125320584575171, 0.40831942546317029, 1.2175190208964963, 0.19999999993895837, 74.668093711199759, 327.22120584030426, -0.0035505649003755506, 0.035166815838182444, 313.8970599756783, 74.669393092000078, -2.6871345085055511e-12, 6.2645908371905533e-15, array([  9.45021839e-21,  -9.66338121e-21,   2.62883336e+00]), array([  6.07300876e-19,  -1.67958092e-18,  -3.94509891e-08])] "
       ]
      },
      {
       "output_type": "stream",
       "stream": "stdout",
       "text": [
        "0.00114871950436\n",
        "[1.2173283388754359, 1.629420125460332, -0.00027173676678560855, 0.00092125320584575171, 0.40831942546317029, 1.2175190059953351, 0.20000001484011956, 74.668093711199759, 327.22120584030426, -0.0035505649003755506, 0.035166815838182444, 313.8970599756783, 74.669393092000078, -2.6871345085055511e-12, 6.2645908371905533e-15, array([  9.45021839e-21,  -9.66338121e-21,   2.62883336e+00]), array([  6.07300876e-19,  -1.67958092e-18,  -3.94509891e-08])] "
       ]
      },
      {
       "output_type": "stream",
       "stream": "stdout",
       "text": [
        "0.00114871958823\n",
        "[1.2173283388754359, 1.629420125460332, -0.00027173676678560855, 0.00092125320584575171, 0.40831942546317029, 1.2175190059953351, 0.19999999993895837, 74.668093726100921, 327.22120584030426, -0.0035505649003755506, 0.035166815838182444, 313.8970599756783, 74.669393092000078, -2.6871345085055511e-12, 6.2645908371905533e-15, array([  9.45021839e-21,  -9.66338121e-21,   2.62883336e+00]), array([  6.07300876e-19,  -1.67958092e-18,  -3.94509891e-08])] "
       ]
      },
      {
       "output_type": "stream",
       "stream": "stdout",
       "text": [
        "0.00114871941178\n",
        "[1.2173283388754359, 1.629420125460332, -0.00027173676678560855, 0.00092125320584575171, 0.40831942546317029, 1.2175190059953351, 0.19999999993895837, 74.668093711199759, 327.22120585520543, -0.0035505649003755506, 0.035166815838182444, 313.8970599756783, 74.669393092000078, -2.6871345085055511e-12, 6.2645908371905533e-15, array([  9.45021839e-21,  -9.66338121e-21,   2.62883336e+00]), array([  6.07300876e-19,  -1.67958092e-18,  -3.94509891e-08])] "
       ]
      },
      {
       "output_type": "stream",
       "stream": "stdout",
       "text": [
        "0.00114871970969\n",
        "[1.2173283388754359, 1.629420125460332, -0.00027173676678560855, 0.00092125320584575171, 0.40831942546317029, 1.2175190059953351, 0.19999999993895837, 74.668093711199759, 327.22120584030426, -0.0035505499992143567, 0.035166815838182444, 313.8970599756783, 74.669393092000078, -2.6871345085055511e-12, 6.2645908371905533e-15, array([  9.45021839e-21,  -9.66338121e-21,   2.62883336e+00]), array([  6.07300876e-19,  -1.67958092e-18,  -3.94509891e-08])] "
       ]
      },
      {
       "output_type": "stream",
       "stream": "stdout",
       "text": [
        "0.00114871903967\n",
        "[1.2173283388754359, 1.629420125460332, -0.00027173676678560855, 0.00092125320584575171, 0.40831942546317029, 1.2175190059953351, 0.19999999993895837, 74.668093711199759, 327.22120584030426, -0.0035505649003755506, 0.035166830739343638, 313.8970599756783, 74.669393092000078, -2.6871345085055511e-12, 6.2645908371905533e-15, array([  9.45021839e-21,  -9.66338121e-21,   2.62883336e+00]), array([  6.07300876e-19,  -1.67958092e-18,  -3.94509891e-08])] "
       ]
      },
      {
       "output_type": "stream",
       "stream": "stdout",
       "text": [
        "0.00114880185978\n",
        "[1.2173283388754359, 1.629420125460332, -0.00027173676678560855, 0.00092125320584575171, 0.40831942546317029, 1.2175190059953351, 0.19999999993895837, 74.668093711199759, 327.22120584030426, -0.0035505649003755506, 0.035166815838182444, 313.89705999057946, 74.669393092000078, -2.6871345085055511e-12, 6.2645908371905533e-15, array([  9.45021839e-21,  -9.66338121e-21,   2.62883336e+00]), array([  6.07300876e-19,  -1.67958092e-18,  -3.94509891e-08])] "
       ]
      },
      {
       "output_type": "stream",
       "stream": "stdout",
       "text": [
        "0.00114871868944\n",
        "[1.2173283388754359, 1.629420125460332, -0.00027173676678560855, 0.00092125320584575171, 0.40831942546317029, 1.2175190059953351, 0.19999999993895837, 74.668093711199759, 327.22120584030426, -0.0035505649003755506, 0.035166815838182444, 313.8970599756783, 74.669393106901239, -2.6871345085055511e-12, 6.2645908371905533e-15, array([  9.45021839e-21,  -9.66338121e-21,   2.62883336e+00]), array([  6.07300876e-19,  -1.67958092e-18,  -3.94509891e-08])] "
       ]
      },
      {
       "output_type": "stream",
       "stream": "stdout",
       "text": [
        "0.00114871949728\n",
        "[1.2173283388754359, 1.629420125460332, -0.00027173676678560855, 0.00092125320584575171, 0.40831942546317029, 1.2175190059953351, 0.19999999993895837, 74.668093711199759, 327.22120584030426, -0.0035505649003755506, 0.035166815838182444, 313.8970599756783, 74.669393092000078, 1.4898474059339151e-08, 6.2645908371905533e-15, array([  9.45021839e-21,  -9.66338121e-21,   2.62883336e+00]), array([  6.07300876e-19,  -1.67958092e-18,  -3.94509891e-08])] "
       ]
      },
      {
       "output_type": "stream",
       "stream": "stdout",
       "text": [
        "0.00114871950143\n",
        "[1.2173283388754359, 1.629420125460332, -0.00027173676678560855, 0.00092125320584575171, 0.40831942546317029, 1.2175190059953351, 0.19999999993895837, 74.668093711199759, 327.22120584030426, -0.0035505649003755506, 0.035166815838182444, 313.8970599756783, 74.669393092000078, -2.6871345085055511e-12, 1.4901167458438493e-08, array([  9.45021839e-21,  -9.66338121e-21,   2.62883336e+00]), array([  6.07300876e-19,  -1.67958092e-18,  -3.94509891e-08])] "
       ]
      },
      {
       "output_type": "stream",
       "stream": "stdout",
       "text": [
        "0.00114871949744\n",
        "[1.2173283388754359, 1.629420125460332, -0.00027173676678560855, 0.00092125320584575171, 0.40831942546317029, 1.2175190059953351, 0.19999999993895837, 74.668093711199759, 327.22120584030426, -0.0035505649003755506, 0.035166815838182444, 313.8970599756783, 74.669393092000078, -2.6871345085055511e-12, 6.2645908371905533e-15, array([  1.49011612e-08,  -9.66338121e-21,   2.62883336e+00]), array([  6.07300876e-19,  -1.67958092e-18,  -3.94509891e-08])] "
       ]
      },
      {
       "output_type": "stream",
       "stream": "stdout",
       "text": [
        "0.00114871949743\n",
        "[1.2173283388754359, 1.629420125460332, -0.00027173676678560855, 0.00092125320584575171, 0.40831942546317029, 1.2175190059953351, 0.19999999993895837, 74.668093711199759, 327.22120584030426, -0.0035505649003755506, 0.035166815838182444, 313.8970599756783, 74.669393092000078, -2.6871345085055511e-12, 6.2645908371905533e-15, array([  9.45021839e-21,   1.49011612e-08,   2.62883336e+00]), array([  6.07300876e-19,  -1.67958092e-18,  -3.94509891e-08])] "
       ]
      },
      {
       "output_type": "stream",
       "stream": "stdout",
       "text": [
        "0.00114871949743\n",
        "[1.2173283388754359, 1.629420125460332, -0.00027173676678560855, 0.00092125320584575171, 0.40831942546317029, 1.2175190059953351, 0.19999999993895837, 74.668093711199759, 327.22120584030426, -0.0035505649003755506, 0.035166815838182444, 313.8970599756783, 74.669393092000078, -2.6871345085055511e-12, 6.2645908371905533e-15, array([  9.45021839e-21,  -9.66338121e-21,   2.62883337e+00]), array([  6.07300876e-19,  -1.67958092e-18,  -3.94509891e-08])] "
       ]
      },
      {
       "output_type": "stream",
       "stream": "stdout",
       "text": [
        "0.00114871949871\n",
        "[1.2173283388754359, 1.629420125460332, -0.00027173676678560855, 0.00092125320584575171, 0.40831942546317029, 1.2175190059953351, 0.19999999993895837, 74.668093711199759, 327.22120584030426, -0.0035505649003755506, 0.035166815838182444, 313.8970599756783, 74.669393092000078, -2.6871345085055511e-12, 6.2645908371905533e-15, array([  9.45021839e-21,  -9.66338121e-21,   2.62883336e+00]), array([  1.49011612e-08,  -1.67958092e-18,  -3.94509891e-08])] "
       ]
      },
      {
       "output_type": "stream",
       "stream": "stdout",
       "text": [
        "0.00114871949743\n",
        "[1.2173283388754359, 1.629420125460332, -0.00027173676678560855, 0.00092125320584575171, 0.40831942546317029, 1.2175190059953351, 0.19999999993895837, 74.668093711199759, 327.22120584030426, -0.0035505649003755506, 0.035166815838182444, 313.8970599756783, 74.669393092000078, -2.6871345085055511e-12, 6.2645908371905533e-15, array([  9.45021839e-21,  -9.66338121e-21,   2.62883336e+00]), array([  6.07300876e-19,   1.49011612e-08,  -3.94509891e-08])] "
       ]
      },
      {
       "output_type": "stream",
       "stream": "stdout",
       "text": [
        "0.00114871949743\n",
        "[1.2173283388754359, 1.629420125460332, -0.00027173676678560855, 0.00092125320584575171, 0.40831942546317029, 1.2175190059953351, 0.19999999993895837, 74.668093711199759, 327.22120584030426, -0.0035505649003755506, 0.035166815838182444, 313.8970599756783, 74.669393092000078, -2.6871345085055511e-12, 6.2645908371905533e-15, array([  9.45021839e-21,  -9.66338121e-21,   2.62883336e+00]), array([  6.07300876e-19,  -1.67958092e-18,  -2.45498280e-08])] "
       ]
      },
      {
       "output_type": "stream",
       "stream": "stdout",
       "text": [
        "0.00114877821898\n",
        "[1.2173283458758377, 1.6293657202318259, -0.00027174048353241682, 0.00092144432066847235, 0.40831907110172933, 1.2175190040492514, 0.1999999744745275, 74.668093735211258, 327.22120578086657, -0.0035504366606339257, 0.035143755611350698, 313.89706020196633, 74.669393092030006, -1.1236651911846242e-09, 2.6196316702732064e-12, array([  3.95174913e-18,  -4.04088633e-18,   2.62883335e+00]), array([  2.53951878e-16,  -7.02341698e-16,  -1.64970168e-05])] "
       ]
      },
      {
       "output_type": "stream",
       "stream": "stdout",
       "text": [
        "0.000697581772101\n",
        "[1.2173283458758377, 1.6293657202318259, -0.00027174048353241682, 0.00092144432066847235, 0.40831907110172933, 1.2175190040492514, 0.1999999744745275, 74.668093735211258, 327.22120578086657, -0.0035504366606339257, 0.035143755611350698, 313.89706020196633, 74.669393092030006, -1.1236651911846242e-09, 2.6196316702732064e-12, array([  3.95174913e-18,  -4.04088633e-18,   2.62883335e+00]), array([  2.53951878e-16,  -7.02341698e-16,  -1.64970168e-05])] "
       ]
      },
      {
       "output_type": "stream",
       "stream": "stdout",
       "text": [
        "0.000697581772101\n",
        "[1.2173283607769989, 1.6293657202318259, -0.00027174048353241682, 0.00092144432066847235, 0.40831907110172933, 1.2175190040492514, 0.1999999744745275, 74.668093735211258, 327.22120578086657, -0.0035504366606339257, 0.035143755611350698, 313.89706020196633, 74.669393092030006, -1.1236651911846242e-09, 2.6196316702732064e-12, array([  3.95174913e-18,  -4.04088633e-18,   2.62883335e+00]), array([  2.53951878e-16,  -7.02341698e-16,  -1.64970168e-05])] "
       ]
      },
      {
       "output_type": "stream",
       "stream": "stdout",
       "text": [
        "0.000697581770661\n",
        "[1.2173283458758377, 1.6293657351329871, -0.00027174048353241682, 0.00092144432066847235, 0.40831907110172933, 1.2175190040492514, 0.1999999744745275, 74.668093735211258, 327.22120578086657, -0.0035504366606339257, 0.035143755611350698, 313.89706020196633, 74.669393092030006, -1.1236651911846242e-09, 2.6196316702732064e-12, array([  3.95174913e-18,  -4.04088633e-18,   2.62883335e+00]), array([  2.53951878e-16,  -7.02341698e-16,  -1.64970168e-05])] "
       ]
      },
      {
       "output_type": "stream",
       "stream": "stdout",
       "text": [
        "0.000697539985506\n",
        "[1.2173283458758377, 1.6293657202318259, -0.00027172558237122297, 0.00092144432066847235, 0.40831907110172933, 1.2175190040492514, 0.1999999744745275, 74.668093735211258, 327.22120578086657, -0.0035504366606339257, 0.035143755611350698, 313.89706020196633, 74.669393092030006, -1.1236651911846242e-09, 2.6196316702732064e-12, array([  3.95174913e-18,  -4.04088633e-18,   2.62883335e+00]), array([  2.53951878e-16,  -7.02341698e-16,  -1.64970168e-05])] "
       ]
      },
      {
       "output_type": "stream",
       "stream": "stdout",
       "text": [
        "0.000697581795998\n",
        "[1.2173283458758377, 1.6293657202318259, -0.00027174048353241682, 0.0009214592218296662, 0.40831907110172933, 1.2175190040492514, 0.1999999744745275, 74.668093735211258, 327.22120578086657, -0.0035504366606339257, 0.035143755611350698, 313.89706020196633, 74.669393092030006, -1.1236651911846242e-09, 2.6196316702732064e-12, array([  3.95174913e-18,  -4.04088633e-18,   2.62883335e+00]), array([  2.53951878e-16,  -7.02341698e-16,  -1.64970168e-05])] "
       ]
      },
      {
       "output_type": "stream",
       "stream": "stdout",
       "text": [
        "0.000697582188111\n",
        "[1.2173283458758377, 1.6293657202318259, -0.00027174048353241682, 0.00092144432066847235, 0.40831908600289052, 1.2175190040492514, 0.1999999744745275, 74.668093735211258, 327.22120578086657, -0.0035504366606339257, 0.035143755611350698, 313.89706020196633, 74.669393092030006, -1.1236651911846242e-09, 2.6196316702732064e-12, array([  3.95174913e-18,  -4.04088633e-18,   2.62883335e+00]), array([  2.53951878e-16,  -7.02341698e-16,  -1.64970168e-05])] "
       ]
      },
      {
       "output_type": "stream",
       "stream": "stdout",
       "text": [
        "0.000697581269052\n",
        "[1.2173283458758377, 1.6293657202318259, -0.00027174048353241682, 0.00092144432066847235, 0.40831907110172933, 1.2175190189504126, 0.1999999744745275, 74.668093735211258, 327.22120578086657, -0.0035504366606339257, 0.035143755611350698, 313.89706020196633, 74.669393092030006, -1.1236651911846242e-09, 2.6196316702732064e-12, array([  3.95174913e-18,  -4.04088633e-18,   2.62883335e+00]), array([  2.53951878e-16,  -7.02341698e-16,  -1.64970168e-05])] "
       ]
      },
      {
       "output_type": "stream",
       "stream": "stdout",
       "text": [
        "0.000697581779304\n",
        "[1.2173283458758377, 1.6293657202318259, -0.00027174048353241682, 0.00092144432066847235, 0.40831907110172933, 1.2175190040492514, 0.19999998937568869, 74.668093735211258, 327.22120578086657, -0.0035504366606339257, 0.035143755611350698, 313.89706020196633, 74.669393092030006, -1.1236651911846242e-09, 2.6196316702732064e-12, array([  3.95174913e-18,  -4.04088633e-18,   2.62883335e+00]), array([  2.53951878e-16,  -7.02341698e-16,  -1.64970168e-05])] "
       ]
      },
      {
       "output_type": "stream",
       "stream": "stdout",
       "text": [
        "0.000697581820505\n",
        "[1.2173283458758377, 1.6293657202318259, -0.00027174048353241682, 0.00092144432066847235, 0.40831907110172933, 1.2175190040492514, 0.1999999744745275, 74.668093750112419, 327.22120578086657, -0.0035504366606339257, 0.035143755611350698, 313.89706020196633, 74.669393092030006, -1.1236651911846242e-09, 2.6196316702732064e-12, array([  3.95174913e-18,  -4.04088633e-18,   2.62883335e+00]), array([  2.53951878e-16,  -7.02341698e-16,  -1.64970168e-05])] "
       ]
      },
      {
       "output_type": "stream",
       "stream": "stdout",
       "text": [
        "0.000697581737288\n",
        "[1.2173283458758377, 1.6293657202318259, -0.00027174048353241682, 0.00092144432066847235, 0.40831907110172933, 1.2175190040492514, 0.1999999744745275, 74.668093735211258, 327.22120579576773, -0.0035504366606339257, 0.035143755611350698, 313.89706020196633, 74.669393092030006, -1.1236651911846242e-09, 2.6196316702732064e-12, array([  3.95174913e-18,  -4.04088633e-18,   2.62883335e+00]), array([  2.53951878e-16,  -7.02341698e-16,  -1.64970168e-05])] "
       ]
      },
      {
       "output_type": "stream",
       "stream": "stdout",
       "text": [
        "0.000697581966007\n",
        "[1.2173283458758377, 1.6293657202318259, -0.00027174048353241682, 0.00092144432066847235, 0.40831907110172933, 1.2175190040492514, 0.1999999744745275, 74.668093735211258, 327.22120578086657, -0.0035504217594727319, 0.035143755611350698, 313.89706020196633, 74.669393092030006, -1.1236651911846242e-09, 2.6196316702732064e-12, array([  3.95174913e-18,  -4.04088633e-18,   2.62883335e+00]), array([  2.53951878e-16,  -7.02341698e-16,  -1.64970168e-05])] "
       ]
      },
      {
       "output_type": "stream",
       "stream": "stdout",
       "text": [
        "0.000697581443762\n",
        "[1.2173283458758377, 1.6293657202318259, -0.00027174048353241682, 0.00092144432066847235, 0.40831907110172933, 1.2175190040492514, 0.1999999744745275, 74.668093735211258, 327.22120578086657, -0.0035504366606339257, 0.035143770512511892, 313.89706020196633, 74.669393092030006, -1.1236651911846242e-09, 2.6196316702732064e-12, array([  3.95174913e-18,  -4.04088633e-18,   2.62883335e+00]), array([  2.53951878e-16,  -7.02341698e-16,  -1.64970168e-05])] "
       ]
      },
      {
       "output_type": "stream",
       "stream": "stdout",
       "text": [
        "0.000697660386906\n",
        "[1.2173283458758377, 1.6293657202318259, -0.00027174048353241682, 0.00092144432066847235, 0.40831907110172933, 1.2175190040492514, 0.1999999744745275, 74.668093735211258, 327.22120578086657, -0.0035504366606339257, 0.035143755611350698, 313.89706021686749, 74.669393092030006, -1.1236651911846242e-09, 2.6196316702732064e-12, array([  3.95174913e-18,  -4.04088633e-18,   2.62883335e+00]), array([  2.53951878e-16,  -7.02341698e-16,  -1.64970168e-05])] "
       ]
      },
      {
       "output_type": "stream",
       "stream": "stdout",
       "text": [
        "0.000697581094366\n",
        "[1.2173283458758377, 1.6293657202318259, -0.00027174048353241682, 0.00092144432066847235, 0.40831907110172933, 1.2175190040492514, 0.1999999744745275, 74.668093735211258, 327.22120578086657, -0.0035504366606339257, 0.035143755611350698, 313.89706020196633, 74.669393106931167, -1.1236651911846242e-09, 2.6196316702732064e-12, array([  3.95174913e-18,  -4.04088633e-18,   2.62883335e+00]), array([  2.53951878e-16,  -7.02341698e-16,  -1.64970168e-05])] "
       ]
      },
      {
       "output_type": "stream",
       "stream": "stdout",
       "text": [
        "0.000697581771981\n",
        "[1.2173283458758377, 1.6293657202318259, -0.00027174048353241682, 0.00092144432066847235, 0.40831907110172933, 1.2175190040492514, 0.1999999744745275, 74.668093735211258, 327.22120578086657, -0.0035504366606339257, 0.035143755611350698, 313.89706020196633, 74.669393092030006, 1.3777496002663033e-08, 2.6196316702732064e-12, array([  3.95174913e-18,  -4.04088633e-18,   2.62883335e+00]), array([  2.53951878e-16,  -7.02341698e-16,  -1.64970168e-05])] "
       ]
      },
      {
       "output_type": "stream",
       "stream": "stdout",
       "text": [
        "0.000697581770991\n",
        "[1.2173283458758377, 1.6293657202318259, -0.00027174048353241682, 0.00092144432066847235, 0.40831907110172933, 1.2175190040492514, 0.1999999744745275, 74.668093735211258, 327.22120578086657, -0.0035504366606339257, 0.035143755611350698, 313.89706020196633, 74.669393092030006, -1.1236651911846242e-09, 1.4903780825517928e-08, array([  3.95174913e-18,  -4.04088633e-18,   2.62883335e+00]), array([  2.53951878e-16,  -7.02341698e-16,  -1.64970168e-05])] "
       ]
      },
      {
       "output_type": "stream",
       "stream": "stdout",
       "text": [
        "0.000697581772106\n",
        "[1.2173283458758377, 1.6293657202318259, -0.00027174048353241682, 0.00092144432066847235, 0.40831907110172933, 1.2175190040492514, 0.1999999744745275, 74.668093735211258, 327.22120578086657, -0.0035504366606339257, 0.035143755611350698, 313.89706020196633, 74.669393092030006, -1.1236651911846242e-09, 2.6196316702732064e-12, array([  1.49011612e-08,  -4.04088633e-18,   2.62883335e+00]), array([  2.53951878e-16,  -7.02341698e-16,  -1.64970168e-05])] "
       ]
      },
      {
       "output_type": "stream",
       "stream": "stdout",
       "text": [
        "0.000697581772101\n",
        "[1.2173283458758377, 1.6293657202318259, -0.00027174048353241682, 0.00092144432066847235, 0.40831907110172933, 1.2175190040492514, 0.1999999744745275, 74.668093735211258, 327.22120578086657, -0.0035504366606339257, 0.035143755611350698, 313.89706020196633, 74.669393092030006, -1.1236651911846242e-09, 2.6196316702732064e-12, array([  3.95174913e-18,   1.49011612e-08,   2.62883335e+00]), array([  2.53951878e-16,  -7.02341698e-16,  -1.64970168e-05])] "
       ]
      },
      {
       "output_type": "stream",
       "stream": "stdout",
       "text": [
        "0.000697581772101\n",
        "[1.2173283458758377, 1.6293657202318259, -0.00027174048353241682, 0.00092144432066847235, 0.40831907110172933, 1.2175190040492514, 0.1999999744745275, 74.668093735211258, 327.22120578086657, -0.0035504366606339257, 0.035143755611350698, 313.89706020196633, 74.669393092030006, -1.1236651911846242e-09, 2.6196316702732064e-12, array([  3.95174913e-18,  -4.04088633e-18,   2.62883337e+00]), array([  2.53951878e-16,  -7.02341698e-16,  -1.64970168e-05])] "
       ]
      },
      {
       "output_type": "stream",
       "stream": "stdout",
       "text": [
        "0.000697581688089\n",
        "[1.2173283458758377, 1.6293657202318259, -0.00027174048353241682, 0.00092144432066847235, 0.40831907110172933, 1.2175190040492514, 0.1999999744745275, 74.668093735211258, 327.22120578086657, -0.0035504366606339257, 0.035143755611350698, 313.89706020196633, 74.669393092030006, -1.1236651911846242e-09, 2.6196316702732064e-12, array([  3.95174913e-18,  -4.04088633e-18,   2.62883335e+00]), array([  1.49011614e-08,  -7.02341698e-16,  -1.64970168e-05])] "
       ]
      },
      {
       "output_type": "stream",
       "stream": "stdout",
       "text": [
        "0.000697581772101\n",
        "[1.2173283458758377, 1.6293657202318259, -0.00027174048353241682, 0.00092144432066847235, 0.40831907110172933, 1.2175190040492514, 0.1999999744745275, 74.668093735211258, 327.22120578086657, -0.0035504366606339257, 0.035143755611350698, 313.89706020196633, 74.669393092030006, -1.1236651911846242e-09, 2.6196316702732064e-12, array([  3.95174913e-18,  -4.04088633e-18,   2.62883335e+00]), array([  2.53951878e-16,   1.49011605e-08,  -1.64970168e-05])] "
       ]
      },
      {
       "output_type": "stream",
       "stream": "stdout",
       "text": [
        "0.000697581772101\n",
        "[1.2173283458758377, 1.6293657202318259, -0.00027174048353241682, 0.00092144432066847235, 0.40831907110172933, 1.2175190040492514, 0.1999999744745275, 74.668093735211258, 327.22120578086657, -0.0035504366606339257, 0.035143755611350698, 313.89706020196633, 74.669393092030006, -1.1236651911846242e-09, 2.6196316702732064e-12, array([  3.95174913e-18,  -4.04088633e-18,   2.62883335e+00]), array([  2.53951878e-16,  -7.02341698e-16,  -1.64821157e-05])] "
       ]
      },
      {
       "output_type": "stream",
       "stream": "stdout",
       "text": [
        "0.000697613448498\n",
        "[1.2173283550006213, 1.6293753855877215, -0.0002717805129081753, 0.00092100086952030737, 0.40831948523209993, 1.2175189911657152, 0.19999987562428509, 74.668093811949561, 327.22120542704732, -0.003549810205794856, 0.03500133524146503, 313.89706145699591, 74.669393092242402, -5.4598739515931154e-10, -1.2073612567223552e-12, array([  4.07239773e-18,  -9.16156081e-18,   2.62883348e+00]), array([  3.85257952e-16,  -1.31960074e-15,  -8.09812352e-05])] "
       ]
      },
      {
       "output_type": "stream",
       "stream": "stdout",
       "text": [
        "0.000255444209328\n",
        "[1.2173283550006213, 1.6293753855877215, -0.0002717805129081753, 0.00092100086952030737, 0.40831948523209993, 1.2175189911657152, 0.19999987562428509, 74.668093811949561, 327.22120542704732, -0.003549810205794856, 0.03500133524146503, 313.89706145699591, 74.669393092242402, -5.4598739515931154e-10, -1.2073612567223552e-12, array([  4.07239773e-18,  -9.16156081e-18,   2.62883348e+00]), array([  3.85257952e-16,  -1.31960074e-15,  -8.09812352e-05])] "
       ]
      },
      {
       "output_type": "stream",
       "stream": "stdout",
       "text": [
        "0.000255444209328\n",
        "[1.2173283699017825, 1.6293753855877215, -0.0002717805129081753, 0.00092100086952030737, 0.40831948523209993, 1.2175189911657152, 0.19999987562428509, 74.668093811949561, 327.22120542704732, -0.003549810205794856, 0.03500133524146503, 313.89706145699591, 74.669393092242402, -5.4598739515931154e-10, -1.2073612567223552e-12, array([  4.07239773e-18,  -9.16156081e-18,   2.62883348e+00]), array([  3.85257952e-16,  -1.31960074e-15,  -8.09812352e-05])] "
       ]
      },
      {
       "output_type": "stream",
       "stream": "stdout",
       "text": [
        "0.000255444190401\n",
        "[1.2173283550006213, 1.6293754004888827, -0.0002717805129081753, 0.00092100086952030737, 0.40831948523209993, 1.2175189911657152, 0.19999987562428509, 74.668093811949561, 327.22120542704732, -0.003549810205794856, 0.03500133524146503, 313.89706145699591, 74.669393092242402, -5.4598739515931154e-10, -1.2073612567223552e-12, array([  4.07239773e-18,  -9.16156081e-18,   2.62883348e+00]), array([  3.85257952e-16,  -1.31960074e-15,  -8.09812352e-05])] "
       ]
      },
      {
       "output_type": "stream",
       "stream": "stdout",
       "text": [
        "0.000255439770639\n",
        "[1.2173283550006213, 1.6293753855877215, -0.00027176561174698145, 0.00092100086952030737, 0.40831948523209993, 1.2175189911657152, 0.19999987562428509, 74.668093811949561, 327.22120542704732, -0.003549810205794856, 0.03500133524146503, 313.89706145699591, 74.669393092242402, -5.4598739515931154e-10, -1.2073612567223552e-12, array([  4.07239773e-18,  -9.16156081e-18,   2.62883348e+00]), array([  3.85257952e-16,  -1.31960074e-15,  -8.09812352e-05])] "
       ]
      },
      {
       "output_type": "stream",
       "stream": "stdout",
       "text": [
        "0.000255444238861\n",
        "[1.2173283550006213, 1.6293753855877215, -0.0002717805129081753, 0.00092101577068150122, 0.40831948523209993, 1.2175189911657152, 0.19999987562428509, 74.668093811949561, 327.22120542704732, -0.003549810205794856, 0.03500133524146503, 313.89706145699591, 74.669393092242402, -5.4598739515931154e-10, -1.2073612567223552e-12, array([  4.07239773e-18,  -9.16156081e-18,   2.62883348e+00]), array([  3.85257952e-16,  -1.31960074e-15,  -8.09812352e-05])] "
       ]
      },
      {
       "output_type": "stream",
       "stream": "stdout",
       "text": [
        "0.000255443741396\n",
        "[1.2173283550006213, 1.6293753855877215, -0.0002717805129081753, 0.00092100086952030737, 0.40831950013326113, 1.2175189911657152, 0.19999987562428509, 74.668093811949561, 327.22120542704732, -0.003549810205794856, 0.03500133524146503, 313.89706145699591, 74.669393092242402, -5.4598739515931154e-10, -1.2073612567223552e-12, array([  4.07239773e-18,  -9.16156081e-18,   2.62883348e+00]), array([  3.85257952e-16,  -1.31960074e-15,  -8.09812352e-05])] "
       ]
      },
      {
       "output_type": "stream",
       "stream": "stdout",
       "text": [
        "0.000255444120024\n",
        "[1.2173283550006213, 1.6293753855877215, -0.0002717805129081753, 0.00092100086952030737, 0.40831948523209993, 1.2175190060668764, 0.19999987562428509, 74.668093811949561, 327.22120542704732, -0.003549810205794856, 0.03500133524146503, 313.89706145699591, 74.669393092242402, -5.4598739515931154e-10, -1.2073612567223552e-12, array([  4.07239773e-18,  -9.16156081e-18,   2.62883348e+00]), array([  3.85257952e-16,  -1.31960074e-15,  -8.09812352e-05])] "
       ]
      },
      {
       "output_type": "stream",
       "stream": "stdout",
       "text": [
        "0.000255444211257\n",
        "[1.2173283550006213, 1.6293753855877215, -0.0002717805129081753, 0.00092100086952030737, 0.40831948523209993, 1.2175189911657152, 0.19999989052544628, 74.668093811949561, 327.22120542704732, -0.003549810205794856, 0.03500133524146503, 313.89706145699591, 74.669393092242402, -5.4598739515931154e-10, -1.2073612567223552e-12, array([  4.07239773e-18,  -9.16156081e-18,   2.62883348e+00]), array([  3.85257952e-16,  -1.31960074e-15,  -8.09812352e-05])] "
       ]
      },
      {
       "output_type": "stream",
       "stream": "stdout",
       "text": [
        "0.000255444226659\n",
        "[1.2173283550006213, 1.6293753855877215, -0.0002717805129081753, 0.00092100086952030737, 0.40831948523209993, 1.2175189911657152, 0.19999987562428509, 74.668093826850722, 327.22120542704732, -0.003549810205794856, 0.03500133524146503, 313.89706145699591, 74.669393092242402, -5.4598739515931154e-10, -1.2073612567223552e-12, array([  4.07239773e-18,  -9.16156081e-18,   2.62883348e+00]), array([  3.85257952e-16,  -1.31960074e-15,  -8.09812352e-05])] "
       ]
      },
      {
       "output_type": "stream",
       "stream": "stdout",
       "text": [
        "0.00025544426719\n",
        "[1.2173283550006213, 1.6293753855877215, -0.0002717805129081753, 0.00092100086952030737, 0.40831948523209993, 1.2175189911657152, 0.19999987562428509, 74.668093811949561, 327.22120544194848, -0.003549810205794856, 0.03500133524146503, 313.89706145699591, 74.669393092242402, -5.4598739515931154e-10, -1.2073612567223552e-12, array([  4.07239773e-18,  -9.16156081e-18,   2.62883348e+00]), array([  3.85257952e-16,  -1.31960074e-15,  -8.09812352e-05])] "
       ]
      },
      {
       "output_type": "stream",
       "stream": "stdout",
       "text": [
        "0.000255444119738\n",
        "[1.2173283550006213, 1.6293753855877215, -0.0002717805129081753, 0.00092100086952030737, 0.40831948523209993, 1.2175189911657152, 0.19999987562428509, 74.668093811949561, 327.22120542704732, -0.0035497953046336622, 0.03500133524146503, 313.89706145699591, 74.669393092242402, -5.4598739515931154e-10, -1.2073612567223552e-12, array([  4.07239773e-18,  -9.16156081e-18,   2.62883348e+00]), array([  3.85257952e-16,  -1.31960074e-15,  -8.09812352e-05])] "
       ]
      },
      {
       "output_type": "stream",
       "stream": "stdout",
       "text": [
        "0.00025544011519\n",
        "[1.2173283550006213, 1.6293753855877215, -0.0002717805129081753, 0.00092100086952030737, 0.40831948523209993, 1.2175189911657152, 0.19999987562428509, 74.668093811949561, 327.22120542704732, -0.003549810205794856, 0.035001350142626224, 313.89706145699591, 74.669393092242402, -5.4598739515931154e-10, -1.2073612567223552e-12, array([  4.07239773e-18,  -9.16156081e-18,   2.62883348e+00]), array([  3.85257952e-16,  -1.31960074e-15,  -8.09812352e-05])] "
       ]
      },
      {
       "output_type": "stream",
       "stream": "stdout",
       "text": [
        "0.000255412172091\n",
        "[1.2173283550006213, 1.6293753855877215, -0.0002717805129081753, 0.00092100086952030737, 0.40831948523209993, 1.2175189911657152, 0.19999987562428509, 74.668093811949561, 327.22120542704732, -0.003549810205794856, 0.03500133524146503, 313.89706147189708, 74.669393092242402, -5.4598739515931154e-10, -1.2073612567223552e-12, array([  4.07239773e-18,  -9.16156081e-18,   2.62883348e+00]), array([  3.85257952e-16,  -1.31960074e-15,  -8.09812352e-05])] "
       ]
      },
      {
       "output_type": "stream",
       "stream": "stdout",
       "text": [
        "0.00025544415694\n",
        "[1.2173283550006213, 1.6293753855877215, -0.0002717805129081753, 0.00092100086952030737, 0.40831948523209993, 1.2175189911657152, 0.19999987562428509, 74.668093811949561, 327.22120542704732, -0.003549810205794856, 0.03500133524146503, 313.89706145699591, 74.669393107143563, -5.4598739515931154e-10, -1.2073612567223552e-12, array([  4.07239773e-18,  -9.16156081e-18,   2.62883348e+00]), array([  3.85257952e-16,  -1.31960074e-15,  -8.09812352e-05])] "
       ]
      },
      {
       "output_type": "stream",
       "stream": "stdout",
       "text": [
        "0.000255444209296\n",
        "[1.2173283550006213, 1.6293753855877215, -0.0002717805129081753, 0.00092100086952030737, 0.40831948523209993, 1.2175189911657152, 0.19999987562428509, 74.668093811949561, 327.22120542704732, -0.003549810205794856, 0.03500133524146503, 313.89706145699591, 74.669393092242402, 1.4355173798688344e-08, -1.2073612567223552e-12, array([  4.07239773e-18,  -9.16156081e-18,   2.62883348e+00]), array([  3.85257952e-16,  -1.31960074e-15,  -8.09812352e-05])] "
       ]
      },
      {
       "output_type": "stream",
       "stream": "stdout",
       "text": [
        "0.000255444208761\n",
        "[1.2173283550006213, 1.6293753855877215, -0.0002717805129081753, 0.00092100086952030737, 0.40831948523209993, 1.2175189911657152, 0.19999987562428509, 74.668093811949561, 327.22120542704732, -0.003549810205794856, 0.03500133524146503, 313.89706145699591, 74.669393092242402, -5.4598739515931154e-10, 1.4899953832590934e-08, array([  4.07239773e-18,  -9.16156081e-18,   2.62883348e+00]), array([  3.85257952e-16,  -1.31960074e-15,  -8.09812352e-05])] "
       ]
      },
      {
       "output_type": "stream",
       "stream": "stdout",
       "text": [
        "0.000255444209329\n",
        "[1.2173283550006213, 1.6293753855877215, -0.0002717805129081753, 0.00092100086952030737, 0.40831948523209993, 1.2175189911657152, 0.19999987562428509, 74.668093811949561, 327.22120542704732, -0.003549810205794856, 0.03500133524146503, 313.89706145699591, 74.669393092242402, -5.4598739515931154e-10, -1.2073612567223552e-12, array([  1.49011612e-08,  -9.16156081e-18,   2.62883348e+00]), array([  3.85257952e-16,  -1.31960074e-15,  -8.09812352e-05])] "
       ]
      },
      {
       "output_type": "stream",
       "stream": "stdout",
       "text": [
        "0.000255444209328\n",
        "[1.2173283550006213, 1.6293753855877215, -0.0002717805129081753, 0.00092100086952030737, 0.40831948523209993, 1.2175189911657152, 0.19999987562428509, 74.668093811949561, 327.22120542704732, -0.003549810205794856, 0.03500133524146503, 313.89706145699591, 74.669393092242402, -5.4598739515931154e-10, -1.2073612567223552e-12, array([  4.07239773e-18,   1.49011612e-08,   2.62883348e+00]), array([  3.85257952e-16,  -1.31960074e-15,  -8.09812352e-05])] "
       ]
      },
      {
       "output_type": "stream",
       "stream": "stdout",
       "text": [
        "0.000255444209328\n",
        "[1.2173283550006213, 1.6293753855877215, -0.0002717805129081753, 0.00092100086952030737, 0.40831948523209993, 1.2175189911657152, 0.19999987562428509, 74.668093811949561, 327.22120542704732, -0.003549810205794856, 0.03500133524146503, 313.89706145699591, 74.669393092242402, -5.4598739515931154e-10, -1.2073612567223552e-12, array([  4.07239773e-18,  -9.16156081e-18,   2.62883350e+00]), array([  3.85257952e-16,  -1.31960074e-15,  -8.09812352e-05])] "
       ]
      },
      {
       "output_type": "stream",
       "stream": "stdout",
       "text": [
        "0.00025544449282\n",
        "[1.2173283550006213, 1.6293753855877215, -0.0002717805129081753, 0.00092100086952030737, 0.40831948523209993, 1.2175189911657152, 0.19999987562428509, 74.668093811949561, 327.22120542704732, -0.003549810205794856, 0.03500133524146503, 313.89706145699591, 74.669393092242402, -5.4598739515931154e-10, -1.2073612567223552e-12, array([  4.07239773e-18,  -9.16156081e-18,   2.62883348e+00]), array([  1.49011616e-08,  -1.31960074e-15,  -8.09812352e-05])] "
       ]
      },
      {
       "output_type": "stream",
       "stream": "stdout",
       "text": [
        "0.000255444209328\n",
        "[1.2173283550006213, 1.6293753855877215, -0.0002717805129081753, 0.00092100086952030737, 0.40831948523209993, 1.2175189911657152, 0.19999987562428509, 74.668093811949561, 327.22120542704732, -0.003549810205794856, 0.03500133524146503, 313.89706145699591, 74.669393092242402, -5.4598739515931154e-10, -1.2073612567223552e-12, array([  4.07239773e-18,  -9.16156081e-18,   2.62883348e+00]), array([  3.85257952e-16,   1.49011599e-08,  -8.09812352e-05])] "
       ]
      },
      {
       "output_type": "stream",
       "stream": "stdout",
       "text": [
        "0.000255444209328\n",
        "[1.2173283550006213, 1.6293753855877215, -0.0002717805129081753, 0.00092100086952030737, 0.40831948523209993, 1.2175189911657152, 0.19999987562428509, 74.668093811949561, 327.22120542704732, -0.003549810205794856, 0.03500133524146503, 313.89706145699591, 74.669393092242402, -5.4598739515931154e-10, -1.2073612567223552e-12, array([  4.07239773e-18,  -9.16156081e-18,   2.62883348e+00]), array([  3.85257952e-16,  -1.31960074e-15,  -8.09663341e-05])] "
       ]
      },
      {
       "output_type": "stream",
       "stream": "stdout",
       "text": [
        "0.00025550706449\n",
        "[1.2173284158532753, 1.6294037027536279, -0.00027190319915808476, 0.00092180439230346795, 0.40832020274073255, 1.217518972612406, 0.19999972747298814, 74.668093730214594, 327.22120531056669, -0.0035379019015002707, 0.034943276600482492, 313.89706288725756, 74.66939309254883, 1.7411512762648534e-09, -7.9614236399480191e-12, array([  4.34617623e-18,  -1.79270374e-17,   2.62883284e+00]), array([  5.31037780e-16,  -2.27159680e-15,  -3.19519901e-04])] "
       ]
      },
      {
       "output_type": "stream",
       "stream": "stdout",
       "text": [
        "0.000718184353395\n",
        "[1.2173284158532753, 1.6294037027536279, -0.00027190319915808476, 0.00092180439230346795, 0.40832020274073255, 1.217518972612406, 0.19999972747298814, 74.668093730214594, 327.22120531056669, -0.0035379019015002707, 0.034943276600482492, 313.89706288725756, 74.66939309254883, 1.7411512762648534e-09, -7.9614236399480191e-12, array([  4.34617623e-18,  -1.79270374e-17,   2.62883284e+00]), array([  5.31037780e-16,  -2.27159680e-15,  -3.19519901e-04])] "
       ]
      },
      {
       "output_type": "stream",
       "stream": "stdout",
       "text": [
        "0.000718184353395\n",
        "[1.2173284307544365, 1.6294037027536279, -0.00027190319915808476, 0.00092180439230346795, 0.40832020274073255, 1.217518972612406, 0.19999972747298814, 74.668093730214594, 327.22120531056669, -0.0035379019015002707, 0.034943276600482492, 313.89706288725756, 74.66939309254883, 1.7411512762648534e-09, -7.9614236399480191e-12, array([  4.34617623e-18,  -1.79270374e-17,   2.62883284e+00]), array([  5.31037780e-16,  -2.27159680e-15,  -3.19519901e-04])] "
       ]
      },
      {
       "output_type": "stream",
       "stream": "stdout",
       "text": [
        "0.000718184318827\n",
        "[1.2173284158532753, 1.6294037176547891, -0.00027190319915808476, 0.00092180439230346795, 0.40832020274073255, 1.217518972612406, 0.19999972747298814, 74.668093730214594, 327.22120531056669, -0.0035379019015002707, 0.034943276600482492, 313.89706288725756, 74.66939309254883, 1.7411512762648534e-09, -7.9614236399480191e-12, array([  4.34617623e-18,  -1.79270374e-17,   2.62883284e+00]), array([  5.31037780e-16,  -2.27159680e-15,  -3.19519901e-04])] "
       ]
      },
      {
       "output_type": "stream",
       "stream": "stdout",
       "text": [
        "0.000718199877342\n",
        "[1.2173284158532753, 1.6294037027536279, -0.00027188829799689091, 0.00092180439230346795, 0.40832020274073255, 1.217518972612406, 0.19999972747298814, 74.668093730214594, 327.22120531056669, -0.0035379019015002707, 0.034943276600482492, 313.89706288725756, 74.66939309254883, 1.7411512762648534e-09, -7.9614236399480191e-12, array([  4.34617623e-18,  -1.79270374e-17,   2.62883284e+00]), array([  5.31037780e-16,  -2.27159680e-15,  -3.19519901e-04])] "
       ]
      },
      {
       "output_type": "stream",
       "stream": "stdout",
       "text": [
        "0.00071818434953\n",
        "[1.2173284158532753, 1.6294037027536279, -0.00027190319915808476, 0.0009218192934646618, 0.40832020274073255, 1.217518972612406, 0.19999972747298814, 74.668093730214594, 327.22120531056669, -0.0035379019015002707, 0.034943276600482492, 313.89706288725756, 74.66939309254883, 1.7411512762648534e-09, -7.9614236399480191e-12, array([  4.34617623e-18,  -1.79270374e-17,   2.62883284e+00]), array([  5.31037780e-16,  -2.27159680e-15,  -3.19519901e-04])] "
       ]
      },
      {
       "output_type": "stream",
       "stream": "stdout",
       "text": [
        "0.00071818526069\n",
        "[1.2173284158532753, 1.6294037027536279, -0.00027190319915808476, 0.00092180439230346795, 0.40832021764189375, 1.217518972612406, 0.19999972747298814, 74.668093730214594, 327.22120531056669, -0.0035379019015002707, 0.034943276600482492, 313.89706288725756, 74.66939309254883, 1.7411512762648534e-09, -7.9614236399480191e-12, array([  4.34617623e-18,  -1.79270374e-17,   2.62883284e+00]), array([  5.31037780e-16,  -2.27159680e-15,  -3.19519901e-04])] "
       ]
      },
      {
       "output_type": "stream",
       "stream": "stdout",
       "text": [
        "0.000718184512609\n",
        "[1.2173284158532753, 1.6294037027536279, -0.00027190319915808476, 0.00092180439230346795, 0.40832020274073255, 1.2175189875135672, 0.19999972747298814, 74.668093730214594, 327.22120531056669, -0.0035379019015002707, 0.034943276600482492, 313.89706288725756, 74.66939309254883, 1.7411512762648534e-09, -7.9614236399480191e-12, array([  4.34617623e-18,  -1.79270374e-17,   2.62883284e+00]), array([  5.31037780e-16,  -2.27159680e-15,  -3.19519901e-04])] "
       ]
      },
      {
       "output_type": "stream",
       "stream": "stdout",
       "text": [
        "0.00071818435137\n",
        "[1.2173284158532753, 1.6294037027536279, -0.00027190319915808476, 0.00092180439230346795, 0.40832020274073255, 1.217518972612406, 0.19999974237414933, 74.668093730214594, 327.22120531056669, -0.0035379019015002707, 0.034943276600482492, 313.89706288725756, 74.66939309254883, 1.7411512762648534e-09, -7.9614236399480191e-12, array([  4.34617623e-18,  -1.79270374e-17,   2.62883284e+00]), array([  5.31037780e-16,  -2.27159680e-15,  -3.19519901e-04])] "
       ]
      },
      {
       "output_type": "stream",
       "stream": "stdout",
       "text": [
        "0.000718184339895\n",
        "[1.2173284158532753, 1.6294037027536279, -0.00027190319915808476, 0.00092180439230346795, 0.40832020274073255, 1.217518972612406, 0.19999972747298814, 74.668093745115755, 327.22120531056669, -0.0035379019015002707, 0.034943276600482492, 313.89706288725756, 74.66939309254883, 1.7411512762648534e-09, -7.9614236399480191e-12, array([  4.34617623e-18,  -1.79270374e-17,   2.62883284e+00]), array([  5.31037780e-16,  -2.27159680e-15,  -3.19519901e-04])] "
       ]
      },
      {
       "output_type": "stream",
       "stream": "stdout",
       "text": [
        "0.000718184548222\n",
        "[1.2173284158532753, 1.6294037027536279, -0.00027190319915808476, 0.00092180439230346795, 0.40832020274073255, 1.217518972612406, 0.19999972747298814, 74.668093730214594, 327.22120532546785, -0.0035379019015002707, 0.034943276600482492, 313.89706288725756, 74.66939309254883, 1.7411512762648534e-09, -7.9614236399480191e-12, array([  4.34617623e-18,  -1.79270374e-17,   2.62883284e+00]), array([  5.31037780e-16,  -2.27159680e-15,  -3.19519901e-04])] "
       ]
      },
      {
       "output_type": "stream",
       "stream": "stdout",
       "text": [
        "0.000718184427287\n",
        "[1.2173284158532753, 1.6294037027536279, -0.00027190319915808476, 0.00092180439230346795, 0.40832020274073255, 1.217518972612406, 0.19999972747298814, 74.668093730214594, 327.22120531056669, -0.0035378870003390768, 0.034943276600482492, 313.89706288725756, 74.66939309254883, 1.7411512762648534e-09, -7.9614236399480191e-12, array([  4.34617623e-18,  -1.79270374e-17,   2.62883284e+00]), array([  5.31037780e-16,  -2.27159680e-15,  -3.19519901e-04])] "
       ]
      },
      {
       "output_type": "stream",
       "stream": "stdout",
       "text": [
        "0.000718177645864\n",
        "[1.2173284158532753, 1.6294037027536279, -0.00027190319915808476, 0.00092180439230346795, 0.40832020274073255, 1.217518972612406, 0.19999972747298814, 74.668093730214594, 327.22120531056669, -0.0035379019015002707, 0.034943291501643686, 313.89706288725756, 74.66939309254883, 1.7411512762648534e-09, -7.9614236399480191e-12, array([  4.34617623e-18,  -1.79270374e-17,   2.62883284e+00]), array([  5.31037780e-16,  -2.27159680e-15,  -3.19519901e-04])] "
       ]
      },
      {
       "output_type": "stream",
       "stream": "stdout",
       "text": [
        "0.00071823889401\n",
        "[1.2173284158532753, 1.6294037027536279, -0.00027190319915808476, 0.00092180439230346795, 0.40832020274073255, 1.217518972612406, 0.19999972747298814, 74.668093730214594, 327.22120531056669, -0.0035379019015002707, 0.034943276600482492, 313.89706290215872, 74.66939309254883, 1.7411512762648534e-09, -7.9614236399480191e-12, array([  4.34617623e-18,  -1.79270374e-17,   2.62883284e+00]), array([  5.31037780e-16,  -2.27159680e-15,  -3.19519901e-04])] "
       ]
      },
      {
       "output_type": "stream",
       "stream": "stdout",
       "text": [
        "0.000718184379824\n",
        "[1.2173284158532753, 1.6294037027536279, -0.00027190319915808476, 0.00092180439230346795, 0.40832020274073255, 1.217518972612406, 0.19999972747298814, 74.668093730214594, 327.22120531056669, -0.0035379019015002707, 0.034943276600482492, 313.89706288725756, 74.669393107449991, 1.7411512762648534e-09, -7.9614236399480191e-12, array([  4.34617623e-18,  -1.79270374e-17,   2.62883284e+00]), array([  5.31037780e-16,  -2.27159680e-15,  -3.19519901e-04])] "
       ]
      },
      {
       "output_type": "stream",
       "stream": "stdout",
       "text": [
        "0.00071818435343\n",
        "[1.2173284158532753, 1.6294037027536279, -0.00027190319915808476, 0.00092180439230346795, 0.40832020274073255, 1.217518972612406, 0.19999972747298814, 74.668093730214594, 327.22120531056669, -0.0035379019015002707, 0.034943276600482492, 313.89706288725756, 74.66939309254883, 1.6642312470112508e-08, -7.9614236399480191e-12, array([  4.34617623e-18,  -1.79270374e-17,   2.62883284e+00]), array([  5.31037780e-16,  -2.27159680e-15,  -3.19519901e-04])] "
       ]
      },
      {
       "output_type": "stream",
       "stream": "stdout",
       "text": [
        "0.000718184350677\n",
        "[1.2173284158532753, 1.6294037027536279, -0.00027190319915808476, 0.00092180439230346795, 0.40832020274073255, 1.217518972612406, 0.19999972747298814, 74.668093730214594, 327.22120531056669, -0.0035379019015002707, 0.034943276600482492, 313.89706288725756, 74.66939309254883, 1.7411512762648534e-09, 1.4893199770207708e-08, array([  4.34617623e-18,  -1.79270374e-17,   2.62883284e+00]), array([  5.31037780e-16,  -2.27159680e-15,  -3.19519901e-04])] "
       ]
      },
      {
       "output_type": "stream",
       "stream": "stdout",
       "text": [
        "0.000718184353394\n",
        "[1.2173284158532753, 1.6294037027536279, -0.00027190319915808476, 0.00092180439230346795, 0.40832020274073255, 1.217518972612406, 0.19999972747298814, 74.668093730214594, 327.22120531056669, -0.0035379019015002707, 0.034943276600482492, 313.89706288725756, 74.66939309254883, 1.7411512762648534e-09, -7.9614236399480191e-12, array([  1.49011612e-08,  -1.79270374e-17,   2.62883284e+00]), array([  5.31037780e-16,  -2.27159680e-15,  -3.19519901e-04])] "
       ]
      },
      {
       "output_type": "stream",
       "stream": "stdout",
       "text": [
        "0.000718184353395\n",
        "[1.2173284158532753, 1.6294037027536279, -0.00027190319915808476, 0.00092180439230346795, 0.40832020274073255, 1.217518972612406, 0.19999972747298814, 74.668093730214594, 327.22120531056669, -0.0035379019015002707, 0.034943276600482492, 313.89706288725756, 74.66939309254883, 1.7411512762648534e-09, -7.9614236399480191e-12, array([  4.34617623e-18,   1.49011612e-08,   2.62883284e+00]), array([  5.31037780e-16,  -2.27159680e-15,  -3.19519901e-04])] "
       ]
      },
      {
       "output_type": "stream",
       "stream": "stdout",
       "text": [
        "0.000718184353395\n",
        "[1.2173284158532753, 1.6294037027536279, -0.00027190319915808476, 0.00092180439230346795, 0.40832020274073255, 1.217518972612406, 0.19999972747298814, 74.668093730214594, 327.22120531056669, -0.0035379019015002707, 0.034943276600482492, 313.89706288725756, 74.66939309254883, 1.7411512762648534e-09, -7.9614236399480191e-12, array([  4.34617623e-18,  -1.79270374e-17,   2.62883285e+00]), array([  5.31037780e-16,  -2.27159680e-15,  -3.19519901e-04])] "
       ]
      },
      {
       "output_type": "stream",
       "stream": "stdout",
       "text": [
        "0.000718183808725\n",
        "[1.2173284158532753, 1.6294037027536279, -0.00027190319915808476, 0.00092180439230346795, 0.40832020274073255, 1.217518972612406, 0.19999972747298814, 74.668093730214594, 327.22120531056669, -0.0035379019015002707, 0.034943276600482492, 313.89706288725756, 74.66939309254883, 1.7411512762648534e-09, -7.9614236399480191e-12, array([  4.34617623e-18,  -1.79270374e-17,   2.62883284e+00]), array([  1.49011617e-08,  -2.27159680e-15,  -3.19519901e-04])] "
       ]
      },
      {
       "output_type": "stream",
       "stream": "stdout",
       "text": [
        "0.000718184353395\n",
        "[1.2173284158532753, 1.6294037027536279, -0.00027190319915808476, 0.00092180439230346795, 0.40832020274073255, 1.217518972612406, 0.19999972747298814, 74.668093730214594, 327.22120531056669, -0.0035379019015002707, 0.034943276600482492, 313.89706288725756, 74.66939309254883, 1.7411512762648534e-09, -7.9614236399480191e-12, array([  4.34617623e-18,  -1.79270374e-17,   2.62883284e+00]), array([  5.31037780e-16,   1.49011589e-08,  -3.19519901e-04])] "
       ]
      },
      {
       "output_type": "stream",
       "stream": "stdout",
       "text": [
        "0.000718184353395\n",
        "[1.2173284158532753, 1.6294037027536279, -0.00027190319915808476, 0.00092180439230346795, 0.40832020274073255, 1.217518972612406, 0.19999972747298814, 74.668093730214594, 327.22120531056669, -0.0035379019015002707, 0.034943276600482492, 313.89706288725756, 74.66939309254883, 1.7411512762648534e-09, -7.9614236399480191e-12, array([  4.34617623e-18,  -1.79270374e-17,   2.62883284e+00]), array([  5.31037780e-16,  -2.27159680e-15,  -3.19505000e-04])] "
       ]
      },
      {
       "output_type": "stream",
       "stream": "stdout",
       "text": [
        "0.000718059006399\n",
        "[1.2173283750403798, 1.629384710886316, -0.00027182091546532462, 0.00092126548250824505, 0.40831972151924339, 1.2175189850558119, 0.19999982683567802, 74.668093785032923, 327.22120538868836, -0.0035458886094858295, 0.034982215596337407, 313.89706192800412, 74.669393092343313, 2.0720418864725025e-10, -3.4315827292150577e-12, array([  4.16255740e-18,  -1.20481734e-17,   2.62883327e+00]), array([  4.33265596e-16,  -1.63310837e-15,  -1.59535858e-04])] "
       ]
      },
      {
       "output_type": "stream",
       "stream": "stdout",
       "text": [
        "0.000108397916515\n",
        "[1.2173283750403798, 1.629384710886316, -0.00027182091546532462, 0.00092126548250824505, 0.40831972151924339, 1.2175189850558119, 0.19999982683567802, 74.668093785032923, 327.22120538868836, -0.0035458886094858295, 0.034982215596337407, 313.89706192800412, 74.669393092343313, 2.0720418864725025e-10, -3.4315827292150577e-12, array([  4.16255740e-18,  -1.20481734e-17,   2.62883327e+00]), array([  4.33265596e-16,  -1.63310837e-15,  -1.59535858e-04])] "
       ]
      },
      {
       "output_type": "stream",
       "stream": "stdout",
       "text": [
        "0.000108397916515\n",
        "[1.217328389941541, 1.629384710886316, -0.00027182091546532462, 0.00092126548250824505, 0.40831972151924339, 1.2175189850558119, 0.19999982683567802, 74.668093785032923, 327.22120538868836, -0.0035458886094858295, 0.034982215596337407, 313.89706192800412, 74.669393092343313, 2.0720418864725025e-10, -3.4315827292150577e-12, array([  4.16255740e-18,  -1.20481734e-17,   2.62883327e+00]), array([  4.33265596e-16,  -1.63310837e-15,  -1.59535858e-04])] "
       ]
      },
      {
       "output_type": "stream",
       "stream": "stdout",
       "text": [
        "0.000108397892629\n",
        "[1.2173283750403798, 1.6293847257874772, -0.00027182091546532462, 0.00092126548250824505, 0.40831972151924339, 1.2175189850558119, 0.19999982683567802, 74.668093785032923, 327.22120538868836, -0.0035458886094858295, 0.034982215596337407, 313.89706192800412, 74.669393092343313, 2.0720418864725025e-10, -3.4315827292150577e-12, array([  4.16255740e-18,  -1.20481734e-17,   2.62883327e+00]), array([  4.33265596e-16,  -1.63310837e-15,  -1.59535858e-04])] "
       ]
      },
      {
       "output_type": "stream",
       "stream": "stdout",
       "text": [
        "0.00010840006097\n",
        "[1.2173283750403798, 1.629384710886316, -0.00027180601430413078, 0.00092126548250824505, 0.40831972151924339, 1.2175189850558119, 0.19999982683567802, 74.668093785032923, 327.22120538868836, -0.0035458886094858295, 0.034982215596337407, 313.89706192800412, 74.669393092343313, 2.0720418864725025e-10, -3.4315827292150577e-12, array([  4.16255740e-18,  -1.20481734e-17,   2.62883327e+00]), array([  4.33265596e-16,  -1.63310837e-15,  -1.59535858e-04])] "
       ]
      },
      {
       "output_type": "stream",
       "stream": "stdout",
       "text": [
        "0.000108397935012\n",
        "[1.2173283750403798, 1.629384710886316, -0.00027182091546532462, 0.0009212803836694389, 0.40831972151924339, 1.2175189850558119, 0.19999982683567802, 74.668093785032923, 327.22120538868836, -0.0035458886094858295, 0.034982215596337407, 313.89706192800412, 74.669393092343313, 2.0720418864725025e-10, -3.4315827292150577e-12, array([  4.16255740e-18,  -1.20481734e-17,   2.62883327e+00]), array([  4.33265596e-16,  -1.63310837e-15,  -1.59535858e-04])] "
       ]
      },
      {
       "output_type": "stream",
       "stream": "stdout",
       "text": [
        "0.000108397901245\n",
        "[1.2173283750403798, 1.629384710886316, -0.00027182091546532462, 0.00092126548250824505, 0.40831973642040459, 1.2175189850558119, 0.19999982683567802, 74.668093785032923, 327.22120538868836, -0.0035458886094858295, 0.034982215596337407, 313.89706192800412, 74.669393092343313, 2.0720418864725025e-10, -3.4315827292150577e-12, array([  4.16255740e-18,  -1.20481734e-17,   2.62883327e+00]), array([  4.33265596e-16,  -1.63310837e-15,  -1.59535858e-04])] "
       ]
      },
      {
       "output_type": "stream",
       "stream": "stdout",
       "text": [
        "0.000108397908908\n",
        "[1.2173283750403798, 1.629384710886316, -0.00027182091546532462, 0.00092126548250824505, 0.40831972151924339, 1.2175189999569731, 0.19999982683567802, 74.668093785032923, 327.22120538868836, -0.0035458886094858295, 0.034982215596337407, 313.89706192800412, 74.669393092343313, 2.0720418864725025e-10, -3.4315827292150577e-12, array([  4.16255740e-18,  -1.20481734e-17,   2.62883327e+00]), array([  4.33265596e-16,  -1.63310837e-15,  -1.59535858e-04])] "
       ]
      },
      {
       "output_type": "stream",
       "stream": "stdout",
       "text": [
        "0.000108397917151\n",
        "[1.2173283750403798, 1.629384710886316, -0.00027182091546532462, 0.00092126548250824505, 0.40831972151924339, 1.2175189850558119, 0.19999984173683921, 74.668093785032923, 327.22120538868836, -0.0035458886094858295, 0.034982215596337407, 313.89706192800412, 74.669393092343313, 2.0720418864725025e-10, -3.4315827292150577e-12, array([  4.16255740e-18,  -1.20481734e-17,   2.62883327e+00]), array([  4.33265596e-16,  -1.63310837e-15,  -1.59535858e-04])] "
       ]
      },
      {
       "output_type": "stream",
       "stream": "stdout",
       "text": [
        "0.00010839792369\n",
        "[1.2173283750403798, 1.629384710886316, -0.00027182091546532462, 0.00092126548250824505, 0.40831972151924339, 1.2175189850558119, 0.19999982683567802, 74.668093799934084, 327.22120538868836, -0.0035458886094858295, 0.034982215596337407, 313.89706192800412, 74.669393092343313, 2.0720418864725025e-10, -3.4315827292150577e-12, array([  4.16255740e-18,  -1.20481734e-17,   2.62883327e+00]), array([  4.33265596e-16,  -1.63310837e-15,  -1.59535858e-04])] "
       ]
      },
      {
       "output_type": "stream",
       "stream": "stdout",
       "text": [
        "0.000108398019469\n",
        "[1.2173283750403798, 1.629384710886316, -0.00027182091546532462, 0.00092126548250824505, 0.40831972151924339, 1.2175189850558119, 0.19999982683567802, 74.668093785032923, 327.22120540358952, -0.0035458886094858295, 0.034982215596337407, 313.89706192800412, 74.669393092343313, 2.0720418864725025e-10, -3.4315827292150577e-12, array([  4.16255740e-18,  -1.20481734e-17,   2.62883327e+00]), array([  4.33265596e-16,  -1.63310837e-15,  -1.59535858e-04])] "
       ]
      },
      {
       "output_type": "stream",
       "stream": "stdout",
       "text": [
        "0.000108397880776\n",
        "[1.2173283750403798, 1.629384710886316, -0.00027182091546532462, 0.00092126548250824505, 0.40831972151924339, 1.2175189850558119, 0.19999982683567802, 74.668093785032923, 327.22120538868836, -0.0035458737083246357, 0.034982215596337407, 313.89706192800412, 74.669393092343313, 2.0720418864725025e-10, -3.4315827292150577e-12, array([  4.16255740e-18,  -1.20481734e-17,   2.62883327e+00]), array([  4.33265596e-16,  -1.63310837e-15,  -1.59535858e-04])] "
       ]
      },
      {
       "output_type": "stream",
       "stream": "stdout",
       "text": [
        "0.00010839296162\n",
        "[1.2173283750403798, 1.629384710886316, -0.00027182091546532462, 0.00092126548250824505, 0.40831972151924339, 1.2175189850558119, 0.19999982683567802, 74.668093785032923, 327.22120538868836, -0.0035458886094858295, 0.034982230497498601, 313.89706192800412, 74.669393092343313, 2.0720418864725025e-10, -3.4315827292150577e-12, array([  4.16255740e-18,  -1.20481734e-17,   2.62883327e+00]), array([  4.33265596e-16,  -1.63310837e-15,  -1.59535858e-04])] "
       ]
      },
      {
       "output_type": "stream",
       "stream": "stdout",
       "text": [
        "0.000108394390352\n",
        "[1.2173283750403798, 1.629384710886316, -0.00027182091546532462, 0.00092126548250824505, 0.40831972151924339, 1.2175189850558119, 0.19999982683567802, 74.668093785032923, 327.22120538868836, -0.0035458886094858295, 0.034982215596337407, 313.89706194290528, 74.669393092343313, 2.0720418864725025e-10, -3.4315827292150577e-12, array([  4.16255740e-18,  -1.20481734e-17,   2.62883327e+00]), array([  4.33265596e-16,  -1.63310837e-15,  -1.59535858e-04])] "
       ]
      },
      {
       "output_type": "stream",
       "stream": "stdout",
       "text": [
        "0.00010839789012\n",
        "[1.2173283750403798, 1.629384710886316, -0.00027182091546532462, 0.00092126548250824505, 0.40831972151924339, 1.2175189850558119, 0.19999982683567802, 74.668093785032923, 327.22120538868836, -0.0035458886094858295, 0.034982215596337407, 313.89706192800412, 74.669393107244474, 2.0720418864725025e-10, -3.4315827292150577e-12, array([  4.16255740e-18,  -1.20481734e-17,   2.62883327e+00]), array([  4.33265596e-16,  -1.63310837e-15,  -1.59535858e-04])] "
       ]
      },
      {
       "output_type": "stream",
       "stream": "stdout",
       "text": [
        "0.000108397916503\n",
        "[1.2173283750403798, 1.629384710886316, -0.00027182091546532462, 0.00092126548250824505, 0.40831972151924339, 1.2175189850558119, 0.19999982683567802, 74.668093785032923, 327.22120538868836, -0.0035458886094858295, 0.034982215596337407, 313.89706192800412, 74.669393092343313, 1.5108365382494905e-08, -3.4315827292150577e-12, array([  4.16255740e-18,  -1.20481734e-17,   2.62883327e+00]), array([  4.33265596e-16,  -1.63310837e-15,  -1.59535858e-04])] "
       ]
      },
      {
       "output_type": "stream",
       "stream": "stdout",
       "text": [
        "0.00010839791524\n",
        "[1.2173283750403798, 1.629384710886316, -0.00027182091546532462, 0.00092126548250824505, 0.40831972151924339, 1.2175189850558119, 0.19999982683567802, 74.668093785032923, 327.22120538868836, -0.0035458886094858295, 0.034982215596337407, 313.89706192800412, 74.669393092343313, 2.0720418864725025e-10, 1.4897729611118441e-08, array([  4.16255740e-18,  -1.20481734e-17,   2.62883327e+00]), array([  4.33265596e-16,  -1.63310837e-15,  -1.59535858e-04])] "
       ]
      },
      {
       "output_type": "stream",
       "stream": "stdout",
       "text": [
        "0.000108397916515\n",
        "[1.2173283750403798, 1.629384710886316, -0.00027182091546532462, 0.00092126548250824505, 0.40831972151924339, 1.2175189850558119, 0.19999982683567802, 74.668093785032923, 327.22120538868836, -0.0035458886094858295, 0.034982215596337407, 313.89706192800412, 74.669393092343313, 2.0720418864725025e-10, -3.4315827292150577e-12, array([  1.49011612e-08,  -1.20481734e-17,   2.62883327e+00]), array([  4.33265596e-16,  -1.63310837e-15,  -1.59535858e-04])] "
       ]
      },
      {
       "output_type": "stream",
       "stream": "stdout",
       "text": [
        "0.000108397916515\n",
        "[1.2173283750403798, 1.629384710886316, -0.00027182091546532462, 0.00092126548250824505, 0.40831972151924339, 1.2175189850558119, 0.19999982683567802, 74.668093785032923, 327.22120538868836, -0.0035458886094858295, 0.034982215596337407, 313.89706192800412, 74.669393092343313, 2.0720418864725025e-10, -3.4315827292150577e-12, array([  4.16255740e-18,   1.49011612e-08,   2.62883327e+00]), array([  4.33265596e-16,  -1.63310837e-15,  -1.59535858e-04])] "
       ]
      },
      {
       "output_type": "stream",
       "stream": "stdout",
       "text": [
        "0.000108397916515\n",
        "[1.2173283750403798, 1.629384710886316, -0.00027182091546532462, 0.00092126548250824505, 0.40831972151924339, 1.2175189850558119, 0.19999982683567802, 74.668093785032923, 327.22120538868836, -0.0035458886094858295, 0.034982215596337407, 313.89706192800412, 74.669393092343313, 2.0720418864725025e-10, -3.4315827292150577e-12, array([  4.16255740e-18,  -1.20481734e-17,   2.62883328e+00]), array([  4.33265596e-16,  -1.63310837e-15,  -1.59535858e-04])] "
       ]
      },
      {
       "output_type": "stream",
       "stream": "stdout",
       "text": [
        "0.000108397927272\n",
        "[1.2173283750403798, 1.629384710886316, -0.00027182091546532462, 0.00092126548250824505, 0.40831972151924339, 1.2175189850558119, 0.19999982683567802, 74.668093785032923, 327.22120538868836, -0.0035458886094858295, 0.034982215596337407, 313.89706192800412, 74.669393092343313, 2.0720418864725025e-10, -3.4315827292150577e-12, array([  4.16255740e-18,  -1.20481734e-17,   2.62883327e+00]), array([  1.49011616e-08,  -1.63310837e-15,  -1.59535858e-04])] "
       ]
      },
      {
       "output_type": "stream",
       "stream": "stdout",
       "text": [
        "0.000108397916515\n",
        "[1.2173283750403798, 1.629384710886316, -0.00027182091546532462, 0.00092126548250824505, 0.40831972151924339, 1.2175189850558119, 0.19999982683567802, 74.668093785032923, 327.22120538868836, -0.0035458886094858295, 0.034982215596337407, 313.89706192800412, 74.669393092343313, 2.0720418864725025e-10, -3.4315827292150577e-12, array([  4.16255740e-18,  -1.20481734e-17,   2.62883327e+00]), array([  4.33265596e-16,   1.49011596e-08,  -1.59535858e-04])] "
       ]
      },
      {
       "output_type": "stream",
       "stream": "stdout",
       "text": [
        "0.000108397916515\n",
        "[1.2173283750403798, 1.629384710886316, -0.00027182091546532462, 0.00092126548250824505, 0.40831972151924339, 1.2175189850558119, 0.19999982683567802, 74.668093785032923, 327.22120538868836, -0.0035458886094858295, 0.034982215596337407, 313.89706192800412, 74.669393092343313, 2.0720418864725025e-10, -3.4315827292150577e-12, array([  4.16255740e-18,  -1.20481734e-17,   2.62883327e+00]), array([  4.33265596e-16,  -1.63310837e-15,  -1.59520957e-04])] "
       ]
      },
      {
       "output_type": "stream",
       "stream": "stdout",
       "text": [
        "0.000108398789026\n",
        "[1.2173327822041888, 1.6293891787456076, -0.00027532807749936226, 0.00091813579607465264, 0.40832522519507497, 1.2175188259213963, 0.19999825992219572, 74.668074847559595, 327.22121035347948, -0.0026293883708962025, 0.034944231960584785, 313.8970711769814, 74.669393095315726, 2.4883807293170103e-07, -7.6445088591726507e-11, array([  9.42190254e-18,  -1.11091712e-16,   2.62883337e+00]), array([  4.70713729e-15,  -1.63113697e-14,  -1.89281838e-04])] "
       ]
      },
      {
       "output_type": "stream",
       "stream": "stdout",
       "text": [
        "0.000324634819898\n",
        "[1.2173327822041888, 1.6293891787456076, -0.00027532807749936226, 0.00091813579607465264, 0.40832522519507497, 1.2175188259213963, 0.19999825992219572, 74.668074847559595, 327.22121035347948, -0.0026293883708962025, 0.034944231960584785, 313.8970711769814, 74.669393095315726, 2.4883807293170103e-07, -7.6445088591726507e-11, array([  9.42190254e-18,  -1.11091712e-16,   2.62883337e+00]), array([  4.70713729e-15,  -1.63113697e-14,  -1.89281838e-04])] "
       ]
      },
      {
       "output_type": "stream",
       "stream": "stdout",
       "text": [
        "0.000324634819898\n",
        "[1.21733279710535, 1.6293891787456076, -0.00027532807749936226, 0.00091813579607465264, 0.40832522519507497, 1.2175188259213963, 0.19999825992219572, 74.668074847559595, 327.22121035347948, -0.0026293883708962025, 0.034944231960584785, 313.8970711769814, 74.669393095315726, 2.4883807293170103e-07, -7.6445088591726507e-11, array([  9.42190254e-18,  -1.11091712e-16,   2.62883337e+00]), array([  4.70713729e-15,  -1.63113697e-14,  -1.89281838e-04])] "
       ]
      },
      {
       "output_type": "stream",
       "stream": "stdout",
       "text": [
        "0.000324634786363\n",
        "[1.2173327822041888, 1.6293891936467688, -0.00027532807749936226, 0.00091813579607465264, 0.40832522519507497, 1.2175188259213963, 0.19999825992219572, 74.668074847559595, 327.22121035347948, -0.0026293883708962025, 0.034944231960584785, 313.8970711769814, 74.669393095315726, 2.4883807293170103e-07, -7.6445088591726507e-11, array([  9.42190254e-18,  -1.11091712e-16,   2.62883337e+00]), array([  4.70713729e-15,  -1.63113697e-14,  -1.89281838e-04])] "
       ]
      },
      {
       "output_type": "stream",
       "stream": "stdout",
       "text": [
        "0.000324636861958\n",
        "[1.2173327822041888, 1.6293891787456076, -0.00027531317633816842, 0.00091813579607465264, 0.40832522519507497, 1.2175188259213963, 0.19999825992219572, 74.668074847559595, 327.22121035347948, -0.0026293883708962025, 0.034944231960584785, 313.8970711769814, 74.669393095315726, 2.4883807293170103e-07, -7.6445088591726507e-11, array([  9.42190254e-18,  -1.11091712e-16,   2.62883337e+00]), array([  4.70713729e-15,  -1.63113697e-14,  -1.89281838e-04])] "
       ]
      },
      {
       "output_type": "stream",
       "stream": "stdout",
       "text": [
        "0.000324634810345\n",
        "[1.2173327822041888, 1.6293891787456076, -0.00027532807749936226, 0.00091815069723584649, 0.40832522519507497, 1.2175188259213963, 0.19999825992219572, 74.668074847559595, 327.22121035347948, -0.0026293883708962025, 0.034944231960584785, 313.8970711769814, 74.669393095315726, 2.4883807293170103e-07, -7.6445088591726507e-11, array([  9.42190254e-18,  -1.11091712e-16,   2.62883337e+00]), array([  4.70713729e-15,  -1.63113697e-14,  -1.89281838e-04])] "
       ]
      },
      {
       "output_type": "stream",
       "stream": "stdout",
       "text": [
        "0.000324634851758\n",
        "[1.2173327822041888, 1.6293891787456076, -0.00027532807749936226, 0.00091813579607465264, 0.40832524009623616, 1.2175188259213963, 0.19999825992219572, 74.668074847559595, 327.22121035347948, -0.0026293883708962025, 0.034944231960584785, 313.8970711769814, 74.669393095315726, 2.4883807293170103e-07, -7.6445088591726507e-11, array([  9.42190254e-18,  -1.11091712e-16,   2.62883337e+00]), array([  4.70713729e-15,  -1.63113697e-14,  -1.89281838e-04])] "
       ]
      },
      {
       "output_type": "stream",
       "stream": "stdout",
       "text": [
        "0.00032463474242\n",
        "[1.2173327822041888, 1.6293891787456076, -0.00027532807749936226, 0.00091813579607465264, 0.40832522519507497, 1.2175188408225575, 0.19999825992219572, 74.668074847559595, 327.22121035347948, -0.0026293883708962025, 0.034944231960584785, 313.8970711769814, 74.669393095315726, 2.4883807293170103e-07, -7.6445088591726507e-11, array([  9.42190254e-18,  -1.11091712e-16,   2.62883337e+00]), array([  4.70713729e-15,  -1.63113697e-14,  -1.89281838e-04])] "
       ]
      },
      {
       "output_type": "stream",
       "stream": "stdout",
       "text": [
        "0.00032463481951\n",
        "[1.2173327822041888, 1.6293891787456076, -0.00027532807749936226, 0.00091813579607465264, 0.40832522519507497, 1.2175188259213963, 0.19999827482335691, 74.668074847559595, 327.22121035347948, -0.0026293883708962025, 0.034944231960584785, 313.8970711769814, 74.669393095315726, 2.4883807293170103e-07, -7.6445088591726507e-11, array([  9.42190254e-18,  -1.11091712e-16,   2.62883337e+00]), array([  4.70713729e-15,  -1.63113697e-14,  -1.89281838e-04])] "
       ]
      },
      {
       "output_type": "stream",
       "stream": "stdout",
       "text": [
        "0.00032463481572\n",
        "[1.2173327822041888, 1.6293891787456076, -0.00027532807749936226, 0.00091813579607465264, 0.40832522519507497, 1.2175188259213963, 0.19999825992219572, 74.668074862460756, 327.22121035347948, -0.0026293883708962025, 0.034944231960584785, 313.8970711769814, 74.669393095315726, 2.4883807293170103e-07, -7.6445088591726507e-11, array([  9.42190254e-18,  -1.11091712e-16,   2.62883337e+00]), array([  4.70713729e-15,  -1.63113697e-14,  -1.89281838e-04])] "
       ]
      },
      {
       "output_type": "stream",
       "stream": "stdout",
       "text": [
        "0.000324634748653\n",
        "[1.2173327822041888, 1.6293891787456076, -0.00027532807749936226, 0.00091813579607465264, 0.40832522519507497, 1.2175188259213963, 0.19999825992219572, 74.668074847559595, 327.22121036838064, -0.0026293883708962025, 0.034944231960584785, 313.8970711769814, 74.669393095315726, 2.4883807293170103e-07, -7.6445088591726507e-11, array([  9.42190254e-18,  -1.11091712e-16,   2.62883337e+00]), array([  4.70713729e-15,  -1.63113697e-14,  -1.89281838e-04])] "
       ]
      },
      {
       "output_type": "stream",
       "stream": "stdout",
       "text": [
        "0.000324634854089\n",
        "[1.2173327822041888, 1.6293891787456076, -0.00027532807749936226, 0.00091813579607465264, 0.40832522519507497, 1.2175188259213963, 0.19999825992219572, 74.668074847559595, 327.22121035347948, -0.0026293734697350087, 0.034944231960584785, 313.8970711769814, 74.669393095315726, 2.4883807293170103e-07, -7.6445088591726507e-11, array([  9.42190254e-18,  -1.11091712e-16,   2.62883337e+00]), array([  4.70713729e-15,  -1.63113697e-14,  -1.89281838e-04])] "
       ]
      },
      {
       "output_type": "stream",
       "stream": "stdout",
       "text": [
        "0.000324646575267\n",
        "[1.2173327822041888, 1.6293891787456076, -0.00027532807749936226, 0.00091813579607465264, 0.40832522519507497, 1.2175188259213963, 0.19999825992219572, 74.668074847559595, 327.22121035347948, -0.0026293883708962025, 0.034944246861745978, 313.8970711769814, 74.669393095315726, 2.4883807293170103e-07, -7.6445088591726507e-11, array([  9.42190254e-18,  -1.11091712e-16,   2.62883337e+00]), array([  4.70713729e-15,  -1.63113697e-14,  -1.89281838e-04])] "
       ]
      },
      {
       "output_type": "stream",
       "stream": "stdout",
       "text": [
        "0.000324631054829\n",
        "[1.2173327822041888, 1.6293891787456076, -0.00027532807749936226, 0.00091813579607465264, 0.40832522519507497, 1.2175188259213963, 0.19999825992219572, 74.668074847559595, 327.22121035347948, -0.0026293883708962025, 0.034944231960584785, 313.89707119188256, 74.669393095315726, 2.4883807293170103e-07, -7.6445088591726507e-11, array([  9.42190254e-18,  -1.11091712e-16,   2.62883337e+00]), array([  4.70713729e-15,  -1.63113697e-14,  -1.89281838e-04])] "
       ]
      },
      {
       "output_type": "stream",
       "stream": "stdout",
       "text": [
        "0.00032463481379\n",
        "[1.2173327822041888, 1.6293891787456076, -0.00027532807749936226, 0.00091813579607465264, 0.40832522519507497, 1.2175188259213963, 0.19999825992219572, 74.668074847559595, 327.22121035347948, -0.0026293883708962025, 0.034944231960584785, 313.8970711769814, 74.669393110216888, 2.4883807293170103e-07, -7.6445088591726507e-11, array([  9.42190254e-18,  -1.11091712e-16,   2.62883337e+00]), array([  4.70713729e-15,  -1.63113697e-14,  -1.89281838e-04])] "
       ]
      },
      {
       "output_type": "stream",
       "stream": "stdout",
       "text": [
        "0.000324634819904\n",
        "[1.2173327822041888, 1.6293891787456076, -0.00027532807749936226, 0.00091813579607465264, 0.40832522519507497, 1.2175188259213963, 0.19999825992219572, 74.668074847559595, 327.22121035347948, -0.0026293883708962025, 0.034944231960584785, 313.8970711769814, 74.669393095315726, 2.6373923412554868e-07, -7.6445088591726507e-11, array([  9.42190254e-18,  -1.11091712e-16,   2.62883337e+00]), array([  4.70713729e-15,  -1.63113697e-14,  -1.89281838e-04])] "
       ]
      },
      {
       "output_type": "stream",
       "stream": "stdout",
       "text": [
        "0.000324634819973\n",
        "[1.2173327822041888, 1.6293891787456076, -0.00027532807749936226, 0.00091813579607465264, 0.40832522519507497, 1.2175188259213963, 0.19999825992219572, 74.668074847559595, 327.22121035347948, -0.0026293883708962025, 0.034944231960584785, 313.8970711769814, 74.669393095315726, 2.4883807293170103e-07, 1.482471610525593e-08, array([  9.42190254e-18,  -1.11091712e-16,   2.62883337e+00]), array([  4.70713729e-15,  -1.63113697e-14,  -1.89281838e-04])] "
       ]
      },
      {
       "output_type": "stream",
       "stream": "stdout",
       "text": [
        "0.000324634819898\n",
        "[1.2173327822041888, 1.6293891787456076, -0.00027532807749936226, 0.00091813579607465264, 0.40832522519507497, 1.2175188259213963, 0.19999825992219572, 74.668074847559595, 327.22121035347948, -0.0026293883708962025, 0.034944231960584785, 313.8970711769814, 74.669393095315726, 2.4883807293170103e-07, -7.6445088591726507e-11, array([  1.49011612e-08,  -1.11091712e-16,   2.62883337e+00]), array([  4.70713729e-15,  -1.63113697e-14,  -1.89281838e-04])] "
       ]
      },
      {
       "output_type": "stream",
       "stream": "stdout",
       "text": [
        "0.000324634819898\n",
        "[1.2173327822041888, 1.6293891787456076, -0.00027532807749936226, 0.00091813579607465264, 0.40832522519507497, 1.2175188259213963, 0.19999825992219572, 74.668074847559595, 327.22121035347948, -0.0026293883708962025, 0.034944231960584785, 313.8970711769814, 74.669393095315726, 2.4883807293170103e-07, -7.6445088591726507e-11, array([  9.42190254e-18,   1.49011611e-08,   2.62883337e+00]), array([  4.70713729e-15,  -1.63113697e-14,  -1.89281838e-04])] "
       ]
      },
      {
       "output_type": "stream",
       "stream": "stdout",
       "text": [
        "0.000324634819898\n",
        "[1.2173327822041888, 1.6293891787456076, -0.00027532807749936226, 0.00091813579607465264, 0.40832522519507497, 1.2175188259213963, 0.19999825992219572, 74.668074847559595, 327.22121035347948, -0.0026293883708962025, 0.034944231960584785, 313.8970711769814, 74.669393095315726, 2.4883807293170103e-07, -7.6445088591726507e-11, array([  9.42190254e-18,  -1.11091712e-16,   2.62883339e+00]), array([  4.70713729e-15,  -1.63113697e-14,  -1.89281838e-04])] "
       ]
      },
      {
       "output_type": "stream",
       "stream": "stdout",
       "text": [
        "0.000324634805774\n",
        "[1.2173327822041888, 1.6293891787456076, -0.00027532807749936226, 0.00091813579607465264, 0.40832522519507497, 1.2175188259213963, 0.19999825992219572, 74.668074847559595, 327.22121035347948, -0.0026293883708962025, 0.034944231960584785, 313.8970711769814, 74.669393095315726, 2.4883807293170103e-07, -7.6445088591726507e-11, array([  9.42190254e-18,  -1.11091712e-16,   2.62883337e+00]), array([  1.49011659e-08,  -1.63113697e-14,  -1.89281838e-04])] "
       ]
      },
      {
       "output_type": "stream",
       "stream": "stdout",
       "text": [
        "0.000324634819898\n",
        "[1.2173327822041888, 1.6293891787456076, -0.00027532807749936226, 0.00091813579607465264, 0.40832522519507497, 1.2175188259213963, 0.19999825992219572, 74.668074847559595, 327.22121035347948, -0.0026293883708962025, 0.034944231960584785, 313.8970711769814, 74.669393095315726, 2.4883807293170103e-07, -7.6445088591726507e-11, array([  9.42190254e-18,  -1.11091712e-16,   2.62883337e+00]), array([  4.70713729e-15,   1.49011449e-08,  -1.89281838e-04])] "
       ]
      },
      {
       "output_type": "stream",
       "stream": "stdout",
       "text": [
        "0.000324634819898\n",
        "[1.2173327822041888, 1.6293891787456076, -0.00027532807749936226, 0.00091813579607465264, 0.40832522519507497, 1.2175188259213963, 0.19999825992219572, 74.668074847559595, 327.22121035347948, -0.0026293883708962025, 0.034944231960584785, 313.8970711769814, 74.669393095315726, 2.4883807293170103e-07, -7.6445088591726507e-11, array([  9.42190254e-18,  -1.11091712e-16,   2.62883337e+00]), array([  4.70713729e-15,  -1.63113697e-14,  -1.89266936e-04])] "
       ]
      },
      {
       "output_type": "stream",
       "stream": "stdout",
       "text": [
        "0.000324636601377\n",
        "[1.2173296504240108, 1.6293860038345369, -0.00027283584870658724, 0.00092035978645960126, 0.40832131422111928, 1.2175189390041021, 0.19999937338854215, 74.668088304741161, 327.22120682544306, -0.003280663749972042, 0.034971223559421172, 313.89706460455409, 74.669393093203496, 7.2158180802297744e-08, -2.456087001100984e-11, array([  5.68455272e-18,  -4.07102593e-17,   2.62883330e+00]), array([  1.67007599e-15,  -5.88083210e-15,  -1.68144010e-04])] "
       ]
      },
      {
       "output_type": "stream",
       "stream": "stdout",
       "text": [
        "6.54124337456e-05\n",
        "[1.2173296504240108, 1.6293860038345369, -0.00027283584870658724, 0.00092035978645960126, 0.40832131422111928, 1.2175189390041021, 0.19999937338854215, 74.668088304741161, 327.22120682544306, -0.003280663749972042, 0.034971223559421172, 313.89706460455409, 74.669393093203496, 7.2158180802297744e-08, -2.456087001100984e-11, array([  5.68455272e-18,  -4.07102593e-17,   2.62883330e+00]), array([  1.67007599e-15,  -5.88083210e-15,  -1.68144010e-04])] "
       ]
      },
      {
       "output_type": "stream",
       "stream": "stdout",
       "text": [
        "6.54124337456e-05\n",
        "[1.217329665325172, 1.6293860038345369, -0.00027283584870658724, 0.00092035978645960126, 0.40832131422111928, 1.2175189390041021, 0.19999937338854215, 74.668088304741161, 327.22120682544306, -0.003280663749972042, 0.034971223559421172, 313.89706460455409, 74.669393093203496, 7.2158180802297744e-08, -2.456087001100984e-11, array([  5.68455272e-18,  -4.07102593e-17,   2.62883330e+00]), array([  1.67007599e-15,  -5.88083210e-15,  -1.68144010e-04])] "
       ]
      },
      {
       "output_type": "stream",
       "stream": "stdout",
       "text": [
        "6.54124070672e-05\n",
        "[1.2173296504240108, 1.6293860187356981, -0.00027283584870658724, 0.00092035978645960126, 0.40832131422111928, 1.2175189390041021, 0.19999937338854215, 74.668088304741161, 327.22120682544306, -0.003280663749972042, 0.034971223559421172, 313.89706460455409, 74.669393093203496, 7.2158180802297744e-08, -2.456087001100984e-11, array([  5.68455272e-18,  -4.07102593e-17,   2.62883330e+00]), array([  1.67007599e-15,  -5.88083210e-15,  -1.68144010e-04])] "
       ]
      },
      {
       "output_type": "stream",
       "stream": "stdout",
       "text": [
        "6.54145443933e-05\n",
        "[1.2173296504240108, 1.6293860038345369, -0.00027282094754539339, 0.00092035978645960126, 0.40832131422111928, 1.2175189390041021, 0.19999937338854215, 74.668088304741161, 327.22120682544306, -0.003280663749972042, 0.034971223559421172, 313.89706460455409, 74.669393093203496, 7.2158180802297744e-08, -2.456087001100984e-11, array([  5.68455272e-18,  -4.07102593e-17,   2.62883330e+00]), array([  1.67007599e-15,  -5.88083210e-15,  -1.68144010e-04])] "
       ]
      },
      {
       "output_type": "stream",
       "stream": "stdout",
       "text": [
        "6.54124441479e-05\n",
        "[1.2173296504240108, 1.6293860038345369, -0.00027283584870658724, 0.00092037468762079511, 0.40832131422111928, 1.2175189390041021, 0.19999937338854215, 74.668088304741161, 327.22120682544306, -0.003280663749972042, 0.034971223559421172, 313.89706460455409, 74.669393093203496, 7.2158180802297744e-08, -2.456087001100984e-11, array([  5.68455272e-18,  -4.07102593e-17,   2.62883330e+00]), array([  1.67007599e-15,  -5.88083210e-15,  -1.68144010e-04])] "
       ]
      },
      {
       "output_type": "stream",
       "stream": "stdout",
       "text": [
        "6.54124320437e-05\n",
        "[1.2173296504240108, 1.6293860038345369, -0.00027283584870658724, 0.00092035978645960126, 0.40832132912228047, 1.2175189390041021, 0.19999937338854215, 74.668088304741161, 327.22120682544306, -0.003280663749972042, 0.034971223559421172, 313.89706460455409, 74.669393093203496, 7.2158180802297744e-08, -2.456087001100984e-11, array([  5.68455272e-18,  -4.07102593e-17,   2.62883330e+00]), array([  1.67007599e-15,  -5.88083210e-15,  -1.68144010e-04])] "
       ]
      },
      {
       "output_type": "stream",
       "stream": "stdout",
       "text": [
        "6.54124059137e-05\n",
        "[1.2173296504240108, 1.6293860038345369, -0.00027283584870658724, 0.00092035978645960126, 0.40832131422111928, 1.2175189539052633, 0.19999937338854215, 74.668088304741161, 327.22120682544306, -0.003280663749972042, 0.034971223559421172, 313.89706460455409, 74.669393093203496, 7.2158180802297744e-08, -2.456087001100984e-11, array([  5.68455272e-18,  -4.07102593e-17,   2.62883330e+00]), array([  1.67007599e-15,  -5.88083210e-15,  -1.68144010e-04])] "
       ]
      },
      {
       "output_type": "stream",
       "stream": "stdout",
       "text": [
        "6.5412434082e-05\n",
        "[1.2173296504240108, 1.6293860038345369, -0.00027283584870658724, 0.00092035978645960126, 0.40832131422111928, 1.2175189390041021, 0.19999938828970334, 74.668088304741161, 327.22120682544306, -0.003280663749972042, 0.034971223559421172, 313.89706460455409, 74.669393093203496, 7.2158180802297744e-08, -2.456087001100984e-11, array([  5.68455272e-18,  -4.07102593e-17,   2.62883330e+00]), array([  1.67007599e-15,  -5.88083210e-15,  -1.68144010e-04])] "
       ]
      },
      {
       "output_type": "stream",
       "stream": "stdout",
       "text": [
        "6.54124376331e-05\n",
        "[1.2173296504240108, 1.6293860038345369, -0.00027283584870658724, 0.00092035978645960126, 0.40832131422111928, 1.2175189390041021, 0.19999937338854215, 74.668088319642322, 327.22120682544306, -0.003280663749972042, 0.034971223559421172, 313.89706460455409, 74.669393093203496, 7.2158180802297744e-08, -2.456087001100984e-11, array([  5.68455272e-18,  -4.07102593e-17,   2.62883330e+00]), array([  1.67007599e-15,  -5.88083210e-15,  -1.68144010e-04])] "
       ]
      },
      {
       "output_type": "stream",
       "stream": "stdout",
       "text": [
        "6.5412486367e-05\n",
        "[1.2173296504240108, 1.6293860038345369, -0.00027283584870658724, 0.00092035978645960126, 0.40832131422111928, 1.2175189390041021, 0.19999937338854215, 74.668088304741161, 327.22120684034422, -0.003280663749972042, 0.034971223559421172, 313.89706460455409, 74.669393093203496, 7.2158180802297744e-08, -2.456087001100984e-11, array([  5.68455272e-18,  -4.07102593e-17,   2.62883330e+00]), array([  1.67007599e-15,  -5.88083210e-15,  -1.68144010e-04])] "
       ]
      },
      {
       "output_type": "stream",
       "stream": "stdout",
       "text": [
        "6.54124182141e-05\n",
        "[1.2173296504240108, 1.6293860038345369, -0.00027283584870658724, 0.00092035978645960126, 0.40832131422111928, 1.2175189390041021, 0.19999937338854215, 74.668088304741161, 327.22120682544306, -0.0032806488488108482, 0.034971223559421172, 313.89706460455409, 74.669393093203496, 7.2158180802297744e-08, -2.456087001100984e-11, array([  5.68455272e-18,  -4.07102593e-17,   2.62883330e+00]), array([  1.67007599e-15,  -5.88083210e-15,  -1.68144010e-04])] "
       ]
      },
      {
       "output_type": "stream",
       "stream": "stdout",
       "text": [
        "6.54123116187e-05\n",
        "[1.2173296504240108, 1.6293860038345369, -0.00027283584870658724, 0.00092035978645960126, 0.40832131422111928, 1.2175189390041021, 0.19999937338854215, 74.668088304741161, 327.22120682544306, -0.003280663749972042, 0.034971238460582366, 313.89706460455409, 74.669393093203496, 7.2158180802297744e-08, -2.456087001100984e-11, array([  5.68455272e-18,  -4.07102593e-17,   2.62883330e+00]), array([  1.67007599e-15,  -5.88083210e-15,  -1.68144010e-04])] "
       ]
      },
      {
       "output_type": "stream",
       "stream": "stdout",
       "text": [
        "6.54088299961e-05\n",
        "[1.2173296504240108, 1.6293860038345369, -0.00027283584870658724, 0.00092035978645960126, 0.40832131422111928, 1.2175189390041021, 0.19999937338854215, 74.668088304741161, 327.22120682544306, -0.003280663749972042, 0.034971223559421172, 313.89706461945525, 74.669393093203496, 7.2158180802297744e-08, -2.456087001100984e-11, array([  5.68455272e-18,  -4.07102593e-17,   2.62883330e+00]), array([  1.67007599e-15,  -5.88083210e-15,  -1.68144010e-04])] "
       ]
      },
      {
       "output_type": "stream",
       "stream": "stdout",
       "text": [
        "6.54124132546e-05\n",
        "[1.2173296504240108, 1.6293860038345369, -0.00027283584870658724, 0.00092035978645960126, 0.40832131422111928, 1.2175189390041021, 0.19999937338854215, 74.668088304741161, 327.22120682544306, -0.003280663749972042, 0.034971223559421172, 313.89706460455409, 74.669393108104657, 7.2158180802297744e-08, -2.456087001100984e-11, array([  5.68455272e-18,  -4.07102593e-17,   2.62883330e+00]), array([  1.67007599e-15,  -5.88083210e-15,  -1.68144010e-04])] "
       ]
      },
      {
       "output_type": "stream",
       "stream": "stdout",
       "text": [
        "6.54124337406e-05\n",
        "[1.2173296504240108, 1.6293860038345369, -0.00027283584870658724, 0.00092035978645960126, 0.40832131422111928, 1.2175189390041021, 0.19999937338854215, 74.668088304741161, 327.22120682544306, -0.003280663749972042, 0.034971223559421172, 313.89706460455409, 74.669393093203496, 8.70593419961454e-08, -2.456087001100984e-11, array([  5.68455272e-18,  -4.07102593e-17,   2.62883330e+00]), array([  1.67007599e-15,  -5.88083210e-15,  -1.68144010e-04])] "
       ]
      },
      {
       "output_type": "stream",
       "stream": "stdout",
       "text": [
        "6.54124328608e-05\n",
        "[1.2173296504240108, 1.6293860038345369, -0.00027283584870658724, 0.00092035978645960126, 0.40832131422111928, 1.2175189390041021, 0.19999937338854215, 74.668088304741161, 327.22120682544306, -0.003280663749972042, 0.034971223559421172, 313.89706460455409, 74.669393093203496, 7.2158180802297744e-08, 1.4876600323836647e-08, array([  5.68455272e-18,  -4.07102593e-17,   2.62883330e+00]), array([  1.67007599e-15,  -5.88083210e-15,  -1.68144010e-04])] "
       ]
      },
      {
       "output_type": "stream",
       "stream": "stdout",
       "text": [
        "6.54124337459e-05\n",
        "[1.2173296504240108, 1.6293860038345369, -0.00027283584870658724, 0.00092035978645960126, 0.40832131422111928, 1.2175189390041021, 0.19999937338854215, 74.668088304741161, 327.22120682544306, -0.003280663749972042, 0.034971223559421172, 313.89706460455409, 74.669393093203496, 7.2158180802297744e-08, -2.456087001100984e-11, array([  1.49011612e-08,  -4.07102593e-17,   2.62883330e+00]), array([  1.67007599e-15,  -5.88083210e-15,  -1.68144010e-04])] "
       ]
      },
      {
       "output_type": "stream",
       "stream": "stdout",
       "text": [
        "6.54124337456e-05\n",
        "[1.2173296504240108, 1.6293860038345369, -0.00027283584870658724, 0.00092035978645960126, 0.40832131422111928, 1.2175189390041021, 0.19999937338854215, 74.668088304741161, 327.22120682544306, -0.003280663749972042, 0.034971223559421172, 313.89706460455409, 74.669393093203496, 7.2158180802297744e-08, -2.456087001100984e-11, array([  5.68455272e-18,   1.49011612e-08,   2.62883330e+00]), array([  1.67007599e-15,  -5.88083210e-15,  -1.68144010e-04])] "
       ]
      },
      {
       "output_type": "stream",
       "stream": "stdout",
       "text": [
        "6.54124337456e-05\n",
        "[1.2173296504240108, 1.6293860038345369, -0.00027283584870658724, 0.00092035978645960126, 0.40832131422111928, 1.2175189390041021, 0.19999937338854215, 74.668088304741161, 327.22120682544306, -0.003280663749972042, 0.034971223559421172, 313.89706460455409, 74.669393093203496, 7.2158180802297744e-08, -2.456087001100984e-11, array([  5.68455272e-18,  -4.07102593e-17,   2.62883331e+00]), array([  1.67007599e-15,  -5.88083210e-15,  -1.68144010e-04])] "
       ]
      },
      {
       "output_type": "stream",
       "stream": "stdout",
       "text": [
        "6.54124373321e-05\n",
        "[1.2173296504240108, 1.6293860038345369, -0.00027283584870658724, 0.00092035978645960126, 0.40832131422111928, 1.2175189390041021, 0.19999937338854215, 74.668088304741161, 327.22120682544306, -0.003280663749972042, 0.034971223559421172, 313.89706460455409, 74.669393093203496, 7.2158180802297744e-08, -2.456087001100984e-11, array([  5.68455272e-18,  -4.07102593e-17,   2.62883330e+00]), array([  1.49011629e-08,  -5.88083210e-15,  -1.68144010e-04])] "
       ]
      },
      {
       "output_type": "stream",
       "stream": "stdout",
       "text": [
        "6.54124337456e-05\n",
        "[1.2173296504240108, 1.6293860038345369, -0.00027283584870658724, 0.00092035978645960126, 0.40832131422111928, 1.2175189390041021, 0.19999937338854215, 74.668088304741161, 327.22120682544306, -0.003280663749972042, 0.034971223559421172, 313.89706460455409, 74.669393093203496, 7.2158180802297744e-08, -2.456087001100984e-11, array([  5.68455272e-18,  -4.07102593e-17,   2.62883330e+00]), array([  1.67007599e-15,   1.49011553e-08,  -1.68144010e-04])] "
       ]
      },
      {
       "output_type": "stream",
       "stream": "stdout",
       "text": [
        "6.54124337456e-05\n",
        "[1.2173296504240108, 1.6293860038345369, -0.00027283584870658724, 0.00092035978645960126, 0.40832131422111928, 1.2175189390041021, 0.19999937338854215, 74.668088304741161, 327.22120682544306, -0.003280663749972042, 0.034971223559421172, 313.89706460455409, 74.669393093203496, 7.2158180802297744e-08, -2.456087001100984e-11, array([  5.68455272e-18,  -4.07102593e-17,   2.62883330e+00]), array([  1.67007599e-15,  -5.88083210e-15,  -1.68129109e-04])] "
       ]
      },
      {
       "output_type": "stream",
       "stream": "stdout",
       "text": [
        "6.54135649523e-05\n",
        "[1.2190763903487432, 1.6293522236957936, -0.00096148428629594135, -0.0011864979557941308, 0.41154397293585543, 1.2174847452641751, 0.19968116185116203, 74.664744705743331, 327.22163245352476, -0.0033001968338034109, 0.035006183003077784, 313.89977745899478, 74.669393629083928, 6.1973898941900123e-05, -2.7395518287017191e-08, array([ -1.67306607e-15,  -2.08857883e-14,   2.62942277e+00]), array([  1.23373341e-12,  -4.22365082e-12,  -1.70014811e-04])] "
       ]
      },
      {
       "output_type": "stream",
       "stream": "stdout",
       "text": [
        "7.3770638289e-05\n",
        "[1.2190763903487432, 1.6293522236957936, -0.00096148428629594135, -0.0011864979557941308, 0.41154397293585543, 1.2174847452641751, 0.19968116185116203, 74.664744705743331, 327.22163245352476, -0.0033001968338034109, 0.035006183003077784, 313.89977745899478, 74.669393629083928, 6.1973898941900123e-05, -2.7395518287017191e-08, array([ -1.67306607e-15,  -2.08857883e-14,   2.62942277e+00]), array([  1.23373341e-12,  -4.22365082e-12,  -1.70014811e-04])] "
       ]
      },
      {
       "output_type": "stream",
       "stream": "stdout",
       "text": [
        "7.3770638289e-05\n",
        "[1.2190764052499043, 1.6293522236957936, -0.00096148428629594135, -0.0011864979557941308, 0.41154397293585543, 1.2174847452641751, 0.19968116185116203, 74.664744705743331, 327.22163245352476, -0.0033001968338034109, 0.035006183003077784, 313.89977745899478, 74.669393629083928, 6.1973898941900123e-05, -2.7395518287017191e-08, array([ -1.67306607e-15,  -2.08857883e-14,   2.62942277e+00]), array([  1.23373341e-12,  -4.22365082e-12,  -1.70014811e-04])] "
       ]
      },
      {
       "output_type": "stream",
       "stream": "stdout",
       "text": [
        "7.37706420038e-05\n",
        "[1.2190763903487432, 1.6293522385969548, -0.00096148428629594135, -0.0011864979557941308, 0.41154397293585543, 1.2174847452641751, 0.19968116185116203, 74.664744705743331, 327.22163245352476, -0.0033001968338034109, 0.035006183003077784, 313.89977745899478, 74.669393629083928, 6.1973898941900123e-05, -2.7395518287017191e-08, array([ -1.67306607e-15,  -2.08857883e-14,   2.62942277e+00]), array([  1.23373341e-12,  -4.22365082e-12,  -1.70014811e-04])] "
       ]
      },
      {
       "output_type": "stream",
       "stream": "stdout",
       "text": [
        "7.37707995233e-05\n",
        "[1.2190763903487432, 1.6293522236957936, -0.0009614693851347475, -0.0011864979557941308, 0.41154397293585543, 1.2174847452641751, 0.19968116185116203, 74.664744705743331, 327.22163245352476, -0.0033001968338034109, 0.035006183003077784, 313.89977745899478, 74.669393629083928, 6.1973898941900123e-05, -2.7395518287017191e-08, array([ -1.67306607e-15,  -2.08857883e-14,   2.62942277e+00]), array([  1.23373341e-12,  -4.22365082e-12,  -1.70014811e-04])] "
       ]
      },
      {
       "output_type": "stream",
       "stream": "stdout",
       "text": [
        "7.37706309127e-05\n",
        "[1.2190763903487432, 1.6293522236957936, -0.00096148428629594135, -0.001186483054632937, 0.41154397293585543, 1.2174847452641751, 0.19968116185116203, 74.664744705743331, 327.22163245352476, -0.0033001968338034109, 0.035006183003077784, 313.89977745899478, 74.669393629083928, 6.1973898941900123e-05, -2.7395518287017191e-08, array([ -1.67306607e-15,  -2.08857883e-14,   2.62942277e+00]), array([  1.23373341e-12,  -4.22365082e-12,  -1.70014811e-04])] "
       ]
      },
      {
       "output_type": "stream",
       "stream": "stdout",
       "text": [
        "7.37705246656e-05\n",
        "[1.2190763903487432, 1.6293522236957936, -0.00096148428629594135, -0.0011864979557941308, 0.41154398783701662, 1.2174847452641751, 0.19968116185116203, 74.664744705743331, 327.22163245352476, -0.0033001968338034109, 0.035006183003077784, 313.89977745899478, 74.669393629083928, 6.1973898941900123e-05, -2.7395518287017191e-08, array([ -1.67306607e-15,  -2.08857883e-14,   2.62942277e+00]), array([  1.23373341e-12,  -4.22365082e-12,  -1.70014811e-04])] "
       ]
      },
      {
       "output_type": "stream",
       "stream": "stdout",
       "text": [
        "7.37708628647e-05\n",
        "[1.2190763903487432, 1.6293522236957936, -0.00096148428629594135, -0.0011864979557941308, 0.41154397293585543, 1.2174847601653362, 0.19968116185116203, 74.664744705743331, 327.22163245352476, -0.0033001968338034109, 0.035006183003077784, 313.89977745899478, 74.669393629083928, 6.1973898941900123e-05, -2.7395518287017191e-08, array([ -1.67306607e-15,  -2.08857883e-14,   2.62942277e+00]), array([  1.23373341e-12,  -4.22365082e-12,  -1.70014811e-04])] "
       ]
      },
      {
       "output_type": "stream",
       "stream": "stdout",
       "text": [
        "7.37706386613e-05\n",
        "[1.2190763903487432, 1.6293522236957936, -0.00096148428629594135, -0.0011864979557941308, 0.41154397293585543, 1.2174847452641751, 0.19968117675232322, 74.664744705743331, 327.22163245352476, -0.0033001968338034109, 0.035006183003077784, 313.89977745899478, 74.669393629083928, 6.1973898941900123e-05, -2.7395518287017191e-08, array([ -1.67306607e-15,  -2.08857883e-14,   2.62942277e+00]), array([  1.23373341e-12,  -4.22365082e-12,  -1.70014811e-04])] "
       ]
      },
      {
       "output_type": "stream",
       "stream": "stdout",
       "text": [
        "7.37706416145e-05\n",
        "[1.2190763903487432, 1.6293522236957936, -0.00096148428629594135, -0.0011864979557941308, 0.41154397293585543, 1.2174847452641751, 0.19968116185116203, 74.664744720644492, 327.22163245352476, -0.0033001968338034109, 0.035006183003077784, 313.89977745899478, 74.669393629083928, 6.1973898941900123e-05, -2.7395518287017191e-08, array([ -1.67306607e-15,  -2.08857883e-14,   2.62942277e+00]), array([  1.23373341e-12,  -4.22365082e-12,  -1.70014811e-04])] "
       ]
      },
      {
       "output_type": "stream",
       "stream": "stdout",
       "text": [
        "7.37706597719e-05\n",
        "[1.2190763903487432, 1.6293522236957936, -0.00096148428629594135, -0.0011864979557941308, 0.41154397293585543, 1.2174847452641751, 0.19968116185116203, 74.664744705743331, 327.22163246842592, -0.0033001968338034109, 0.035006183003077784, 313.89977745899478, 74.669393629083928, 6.1973898941900123e-05, -2.7395518287017191e-08, array([ -1.67306607e-15,  -2.08857883e-14,   2.62942277e+00]), array([  1.23373341e-12,  -4.22365082e-12,  -1.70014811e-04])] "
       ]
      },
      {
       "output_type": "stream",
       "stream": "stdout",
       "text": [
        "7.37706311489e-05\n",
        "[1.2190763903487432, 1.6293522236957936, -0.00096148428629594135, -0.0011864979557941308, 0.41154397293585543, 1.2174847452641751, 0.19968116185116203, 74.664744705743331, 327.22163245352476, -0.003300181932642217, 0.035006183003077784, 313.89977745899478, 74.669393629083928, 6.1973898941900123e-05, -2.7395518287017191e-08, array([ -1.67306607e-15,  -2.08857883e-14,   2.62942277e+00]), array([  1.23373341e-12,  -4.22365082e-12,  -1.70014811e-04])] "
       ]
      },
      {
       "output_type": "stream",
       "stream": "stdout",
       "text": [
        "7.37706360234e-05\n",
        "[1.2190763903487432, 1.6293522236957936, -0.00096148428629594135, -0.0011864979557941308, 0.41154397293585543, 1.2174847452641751, 0.19968116185116203, 74.664744705743331, 327.22163245352476, -0.0033001968338034109, 0.035006197904238978, 313.89977745899478, 74.669393629083928, 6.1973898941900123e-05, -2.7395518287017191e-08, array([ -1.67306607e-15,  -2.08857883e-14,   2.62942277e+00]), array([  1.23373341e-12,  -4.22365082e-12,  -1.70014811e-04])] "
       ]
      },
      {
       "output_type": "stream",
       "stream": "stdout",
       "text": [
        "7.37705917416e-05\n",
        "[1.2190763903487432, 1.6293522236957936, -0.00096148428629594135, -0.0011864979557941308, 0.41154397293585543, 1.2174847452641751, 0.19968116185116203, 74.664744705743331, 327.22163245352476, -0.0033001968338034109, 0.035006183003077784, 313.89977747389594, 74.669393629083928, 6.1973898941900123e-05, -2.7395518287017191e-08, array([ -1.67306607e-15,  -2.08857883e-14,   2.62942277e+00]), array([  1.23373341e-12,  -4.22365082e-12,  -1.70014811e-04])] "
       ]
      },
      {
       "output_type": "stream",
       "stream": "stdout",
       "text": [
        "7.377061502e-05\n",
        "[1.2190763903487432, 1.6293522236957936, -0.00096148428629594135, -0.0011864979557941308, 0.41154397293585543, 1.2174847452641751, 0.19968116185116203, 74.664744705743331, 327.22163245352476, -0.0033001968338034109, 0.035006183003077784, 313.89977745899478, 74.669393643985089, 6.1973898941900123e-05, -2.7395518287017191e-08, array([ -1.67306607e-15,  -2.08857883e-14,   2.62942277e+00]), array([  1.23373341e-12,  -4.22365082e-12,  -1.70014811e-04])] "
       ]
      },
      {
       "output_type": "stream",
       "stream": "stdout",
       "text": [
        "7.37706382838e-05\n",
        "[1.2190763903487432, 1.6293522236957936, -0.00096148428629594135, -0.0011864979557941308, 0.41154397293585543, 1.2174847452641751, 0.19968116185116203, 74.664744705743331, 327.22163245352476, -0.0033001968338034109, 0.035006183003077784, 313.89977745899478, 74.669393629083928, 6.1988800103093971e-05, -2.7395518287017191e-08, array([ -1.67306607e-15,  -2.08857883e-14,   2.62942277e+00]), array([  1.23373341e-12,  -4.22365082e-12,  -1.70014811e-04])] "
       ]
      },
      {
       "output_type": "stream",
       "stream": "stdout",
       "text": [
        "7.37706379058e-05\n",
        "[1.2190763903487432, 1.6293522236957936, -0.00096148428629594135, -0.0011864979557941308, 0.41154397293585543, 1.2174847452641751, 0.19968116185116203, 74.664744705743331, 327.22163245352476, -0.0033001968338034109, 0.035006183003077784, 313.89977745899478, 74.669393629083928, 6.1973898941900123e-05, -1.2494357093169535e-08, array([ -1.67306607e-15,  -2.08857883e-14,   2.62942277e+00]), array([  1.23373341e-12,  -4.22365082e-12,  -1.70014811e-04])] "
       ]
      },
      {
       "output_type": "stream",
       "stream": "stdout",
       "text": [
        "7.3770638289e-05\n",
        "[1.2190763903487432, 1.6293522236957936, -0.00096148428629594135, -0.0011864979557941308, 0.41154397293585543, 1.2174847452641751, 0.19968116185116203, 74.664744705743331, 327.22163245352476, -0.0033001968338034109, 0.035006183003077784, 313.89977745899478, 74.669393629083928, 6.1973898941900123e-05, -2.7395518287017191e-08, array([  1.49011595e-08,  -2.08857883e-14,   2.62942277e+00]), array([  1.23373341e-12,  -4.22365082e-12,  -1.70014811e-04])] "
       ]
      },
      {
       "output_type": "stream",
       "stream": "stdout",
       "text": [
        "7.3770638289e-05\n",
        "[1.2190763903487432, 1.6293522236957936, -0.00096148428629594135, -0.0011864979557941308, 0.41154397293585543, 1.2174847452641751, 0.19968116185116203, 74.664744705743331, 327.22163245352476, -0.0033001968338034109, 0.035006183003077784, 313.89977745899478, 74.669393629083928, 6.1973898941900123e-05, -2.7395518287017191e-08, array([ -1.67306607e-15,   1.49011403e-08,   2.62942277e+00]), array([  1.23373341e-12,  -4.22365082e-12,  -1.70014811e-04])] "
       ]
      },
      {
       "output_type": "stream",
       "stream": "stdout",
       "text": [
        "7.3770638289e-05\n",
        "[1.2190763903487432, 1.6293522236957936, -0.00096148428629594135, -0.0011864979557941308, 0.41154397293585543, 1.2174847452641751, 0.19968116185116203, 74.664744705743331, 327.22163245352476, -0.0033001968338034109, 0.035006183003077784, 313.89977745899478, 74.669393629083928, 6.1973898941900123e-05, -2.7395518287017191e-08, array([ -1.67306607e-15,  -2.08857883e-14,   2.62942279e+00]), array([  1.23373341e-12,  -4.22365082e-12,  -1.70014811e-04])] "
       ]
      },
      {
       "output_type": "stream",
       "stream": "stdout",
       "text": [
        "7.37706276474e-05\n",
        "[1.2190763903487432, 1.6293522236957936, -0.00096148428629594135, -0.0011864979557941308, 0.41154397293585543, 1.2174847452641751, 0.19968116185116203, 74.664744705743331, 327.22163245352476, -0.0033001968338034109, 0.035006183003077784, 313.89977745899478, 74.669393629083928, 6.1973898941900123e-05, -2.7395518287017191e-08, array([ -1.67306607e-15,  -2.08857883e-14,   2.62942277e+00]), array([  1.49023949e-08,  -4.22365082e-12,  -1.70014811e-04])] "
       ]
      },
      {
       "output_type": "stream",
       "stream": "stdout",
       "text": [
        "7.3770638289e-05\n",
        "[1.2190763903487432, 1.6293522236957936, -0.00096148428629594135, -0.0011864979557941308, 0.41154397293585543, 1.2174847452641751, 0.19968116185116203, 74.664744705743331, 327.22163245352476, -0.0033001968338034109, 0.035006183003077784, 313.89977745899478, 74.669393629083928, 6.1973898941900123e-05, -2.7395518287017191e-08, array([ -1.67306607e-15,  -2.08857883e-14,   2.62942277e+00]), array([  1.23373341e-12,   1.48969375e-08,  -1.70014811e-04])] "
       ]
      },
      {
       "output_type": "stream",
       "stream": "stdout",
       "text": [
        "7.3770638289e-05\n",
        "[1.2190763903487432, 1.6293522236957936, -0.00096148428629594135, -0.0011864979557941308, 0.41154397293585543, 1.2174847452641751, 0.19968116185116203, 74.664744705743331, 327.22163245352476, -0.0033001968338034109, 0.035006183003077784, 313.89977745899478, 74.669393629083928, 6.1973898941900123e-05, -2.7395518287017191e-08, array([ -1.67306607e-15,  -2.08857883e-14,   2.62942277e+00]), array([  1.23373341e-12,  -4.22365082e-12,  -1.69999910e-04])] "
       ]
      },
      {
       "output_type": "stream",
       "stream": "stdout",
       "text": [
        "7.3770679445e-05\n",
        "[1.2180469209987348, 1.6293721325654442, -0.00055561822152501699, 5.5212638764104449e-05, 0.40964464704000603, 1.217504897896355, 0.1998687049535515, 74.666715309745825, 327.22138160274932, -0.0032886846957736931, 0.034985579091053882, 313.89817859447112, 74.669393313254147, 2.5491109533237864e-05, -1.1264003032673168e-08, array([ -6.83667311e-16,  -8.60040533e-15,   2.62907536e+00]), array([  5.07597010e-13,  -1.73784005e-12,  -1.68912224e-04])] "
       ]
      },
      {
       "output_type": "stream",
       "stream": "stdout",
       "text": [
        "5.75053860326e-05\n",
        "[1.2180469209987348, 1.6293721325654442, -0.00055561822152501699, 5.5212638764104449e-05, 0.40964464704000603, 1.217504897896355, 0.1998687049535515, 74.666715309745825, 327.22138160274932, -0.0032886846957736931, 0.034985579091053882, 313.89817859447112, 74.669393313254147, 2.5491109533237864e-05, -1.1264003032673168e-08, array([ -6.83667311e-16,  -8.60040533e-15,   2.62907536e+00]), array([  5.07597010e-13,  -1.73784005e-12,  -1.68912224e-04])] "
       ]
      },
      {
       "output_type": "stream",
       "stream": "stdout",
       "text": [
        "5.75053860326e-05\n",
        "[1.218046935899896, 1.6293721325654442, -0.00055561822152501699, 5.5212638764104449e-05, 0.40964464704000603, 1.217504897896355, 0.1998687049535515, 74.666715309745825, 327.22138160274932, -0.0032886846957736931, 0.034985579091053882, 313.89817859447112, 74.669393313254147, 2.5491109533237864e-05, -1.1264003032673168e-08, array([ -6.83667311e-16,  -8.60040533e-15,   2.62907536e+00]), array([  5.07597010e-13,  -1.73784005e-12,  -1.68912224e-04])] "
       ]
      },
      {
       "output_type": "stream",
       "stream": "stdout",
       "text": [
        "5.75053717658e-05\n",
        "[1.2180469209987348, 1.6293721474666054, -0.00055561822152501699, 5.5212638764104449e-05, 0.40964464704000603, 1.217504897896355, 0.1998687049535515, 74.666715309745825, 327.22138160274932, -0.0032886846957736931, 0.034985579091053882, 313.89817859447112, 74.669393313254147, 2.5491109533237864e-05, -1.1264003032673168e-08, array([ -6.83667311e-16,  -8.60040533e-15,   2.62907536e+00]), array([  5.07597010e-13,  -1.73784005e-12,  -1.68912224e-04])] "
       ]
      },
      {
       "output_type": "stream",
       "stream": "stdout",
       "text": [
        "5.75066846985e-05\n",
        "[1.2180469209987348, 1.6293721325654442, -0.00055560332036382314, 5.5212638764104449e-05, 0.40964464704000603, 1.217504897896355, 0.1998687049535515, 74.666715309745825, 327.22138160274932, -0.0032886846957736931, 0.034985579091053882, 313.89817859447112, 74.669393313254147, 2.5491109533237864e-05, -1.1264003032673168e-08, array([ -6.83667311e-16,  -8.60040533e-15,   2.62907536e+00]), array([  5.07597010e-13,  -1.73784005e-12,  -1.68912224e-04])] "
       ]
      },
      {
       "output_type": "stream",
       "stream": "stdout",
       "text": [
        "5.75053891768e-05\n",
        "[1.2180469209987348, 1.6293721325654442, -0.00055561822152501699, 5.5227539925298296e-05, 0.40964464704000603, 1.217504897896355, 0.1998687049535515, 74.666715309745825, 327.22138160274932, -0.0032886846957736931, 0.034985579091053882, 313.89817859447112, 74.669393313254147, 2.5491109533237864e-05, -1.1264003032673168e-08, array([ -6.83667311e-16,  -8.60040533e-15,   2.62907536e+00]), array([  5.07597010e-13,  -1.73784005e-12,  -1.68912224e-04])] "
       ]
      },
      {
       "output_type": "stream",
       "stream": "stdout",
       "text": [
        "5.75053384666e-05\n",
        "[1.2180469209987348, 1.6293721325654442, -0.00055561822152501699, 5.5212638764104449e-05, 0.40964466194116722, 1.217504897896355, 0.1998687049535515, 74.666715309745825, 327.22138160274932, -0.0032886846957736931, 0.034985579091053882, 313.89817859447112, 74.669393313254147, 2.5491109533237864e-05, -1.1264003032673168e-08, array([ -6.83667311e-16,  -8.60040533e-15,   2.62907536e+00]), array([  5.07597010e-13,  -1.73784005e-12,  -1.68912224e-04])] "
       ]
      },
      {
       "output_type": "stream",
       "stream": "stdout",
       "text": [
        "5.75054616658e-05\n",
        "[1.2180469209987348, 1.6293721325654442, -0.00055561822152501699, 5.5212638764104449e-05, 0.40964464704000603, 1.2175049127975162, 0.1998687049535515, 74.666715309745825, 327.22138160274932, -0.0032886846957736931, 0.034985579091053882, 313.89817859447112, 74.669393313254147, 2.5491109533237864e-05, -1.1264003032673168e-08, array([ -6.83667311e-16,  -8.60040533e-15,   2.62907536e+00]), array([  5.07597010e-13,  -1.73784005e-12,  -1.68912224e-04])] "
       ]
      },
      {
       "output_type": "stream",
       "stream": "stdout",
       "text": [
        "5.75053863847e-05\n",
        "[1.2180469209987348, 1.6293721325654442, -0.00055561822152501699, 5.5212638764104449e-05, 0.40964464704000603, 1.217504897896355, 0.19986871985471269, 74.666715309745825, 327.22138160274932, -0.0032886846957736931, 0.034985579091053882, 313.89817859447112, 74.669393313254147, 2.5491109533237864e-05, -1.1264003032673168e-08, array([ -6.83667311e-16,  -8.60040533e-15,   2.62907536e+00]), array([  5.07597010e-13,  -1.73784005e-12,  -1.68912224e-04])] "
       ]
      },
      {
       "output_type": "stream",
       "stream": "stdout",
       "text": [
        "5.75053896902e-05\n",
        "[1.2180469209987348, 1.6293721325654442, -0.00055561822152501699, 5.5212638764104449e-05, 0.40964464704000603, 1.217504897896355, 0.1998687049535515, 74.666715324646987, 327.22138160274932, -0.0032886846957736931, 0.034985579091053882, 313.89817859447112, 74.669393313254147, 2.5491109533237864e-05, -1.1264003032673168e-08, array([ -6.83667311e-16,  -8.60040533e-15,   2.62907536e+00]), array([  5.07597010e-13,  -1.73784005e-12,  -1.68912224e-04])] "
       ]
      },
      {
       "output_type": "stream",
       "stream": "stdout",
       "text": [
        "5.75054258698e-05\n",
        "[1.2180469209987348, 1.6293721325654442, -0.00055561822152501699, 5.5212638764104449e-05, 0.40964464704000603, 1.217504897896355, 0.1998687049535515, 74.666715309745825, 327.22138161765048, -0.0032886846957736931, 0.034985579091053882, 313.89817859447112, 74.669393313254147, 2.5491109533237864e-05, -1.1264003032673168e-08, array([ -6.83667311e-16,  -8.60040533e-15,   2.62907536e+00]), array([  5.07597010e-13,  -1.73784005e-12,  -1.68912224e-04])] "
       ]
      },
      {
       "output_type": "stream",
       "stream": "stdout",
       "text": [
        "5.7505373968e-05\n",
        "[1.2180469209987348, 1.6293721325654442, -0.00055561822152501699, 5.5212638764104449e-05, 0.40964464704000603, 1.217504897896355, 0.1998687049535515, 74.666715309745825, 327.22138160274932, -0.0032886697946124992, 0.034985579091053882, 313.89817859447112, 74.669393313254147, 2.5491109533237864e-05, -1.1264003032673168e-08, array([ -6.83667311e-16,  -8.60040533e-15,   2.62907536e+00]), array([  5.07597010e-13,  -1.73784005e-12,  -1.68912224e-04])] "
       ]
      },
      {
       "output_type": "stream",
       "stream": "stdout",
       "text": [
        "5.75053133468e-05\n",
        "[1.2180469209987348, 1.6293721325654442, -0.00055561822152501699, 5.5212638764104449e-05, 0.40964464704000603, 1.217504897896355, 0.1998687049535515, 74.666715309745825, 327.22138160274932, -0.0032886846957736931, 0.034985593992215076, 313.89817859447112, 74.669393313254147, 2.5491109533237864e-05, -1.1264003032673168e-08, array([ -6.83667311e-16,  -8.60040533e-15,   2.62907536e+00]), array([  5.07597010e-13,  -1.73784005e-12,  -1.68912224e-04])] "
       ]
      },
      {
       "output_type": "stream",
       "stream": "stdout",
       "text": [
        "5.75032508515e-05\n",
        "[1.2180469209987348, 1.6293721325654442, -0.00055561822152501699, 5.5212638764104449e-05, 0.40964464704000603, 1.217504897896355, 0.1998687049535515, 74.666715309745825, 327.22138160274932, -0.0032886846957736931, 0.034985579091053882, 313.89817860937228, 74.669393313254147, 2.5491109533237864e-05, -1.1264003032673168e-08, array([ -6.83667311e-16,  -8.60040533e-15,   2.62907536e+00]), array([  5.07597010e-13,  -1.73784005e-12,  -1.68912224e-04])] "
       ]
      },
      {
       "output_type": "stream",
       "stream": "stdout",
       "text": [
        "5.75053643653e-05\n",
        "[1.2180469209987348, 1.6293721325654442, -0.00055561822152501699, 5.5212638764104449e-05, 0.40964464704000603, 1.217504897896355, 0.1998687049535515, 74.666715309745825, 327.22138160274932, -0.0032886846957736931, 0.034985579091053882, 313.89817859447112, 74.669393328155309, 2.5491109533237864e-05, -1.1264003032673168e-08, array([ -6.83667311e-16,  -8.60040533e-15,   2.62907536e+00]), array([  5.07597010e-13,  -1.73784005e-12,  -1.68912224e-04])] "
       ]
      },
      {
       "output_type": "stream",
       "stream": "stdout",
       "text": [
        "5.75053860274e-05\n",
        "[1.2180469209987348, 1.6293721325654442, -0.00055561822152501699, 5.5212638764104449e-05, 0.40964464704000603, 1.217504897896355, 0.1998687049535515, 74.666715309745825, 327.22138160274932, -0.0032886846957736931, 0.034985579091053882, 313.89817859447112, 74.669393313254147, 2.5506010694431712e-05, -1.1264003032673168e-08, array([ -6.83667311e-16,  -8.60040533e-15,   2.62907536e+00]), array([  5.07597010e-13,  -1.73784005e-12,  -1.68912224e-04])] "
       ]
      },
      {
       "output_type": "stream",
       "stream": "stdout",
       "text": [
        "5.75053853535e-05\n",
        "[1.2180469209987348, 1.6293721325654442, -0.00055561822152501699, 5.5212638764104449e-05, 0.40964464704000603, 1.217504897896355, 0.1998687049535515, 74.666715309745825, 327.22138160274932, -0.0032886846957736931, 0.034985579091053882, 313.89817859447112, 74.669393313254147, 2.5491109533237864e-05, 3.6371581611744885e-09, array([ -6.83667311e-16,  -8.60040533e-15,   2.62907536e+00]), array([  5.07597010e-13,  -1.73784005e-12,  -1.68912224e-04])] "
       ]
      },
      {
       "output_type": "stream",
       "stream": "stdout",
       "text": [
        "5.75053860326e-05\n",
        "[1.2180469209987348, 1.6293721325654442, -0.00055561822152501699, 5.5212638764104449e-05, 0.40964464704000603, 1.217504897896355, 0.1998687049535515, 74.666715309745825, 327.22138160274932, -0.0032886846957736931, 0.034985579091053882, 313.89817859447112, 74.669393313254147, 2.5491109533237864e-05, -1.1264003032673168e-08, array([  1.49011605e-08,  -8.60040533e-15,   2.62907536e+00]), array([  5.07597010e-13,  -1.73784005e-12,  -1.68912224e-04])] "
       ]
      },
      {
       "output_type": "stream",
       "stream": "stdout",
       "text": [
        "5.75053860326e-05\n",
        "[1.2180469209987348, 1.6293721325654442, -0.00055561822152501699, 5.5212638764104449e-05, 0.40964464704000603, 1.217504897896355, 0.1998687049535515, 74.666715309745825, 327.22138160274932, -0.0032886846957736931, 0.034985579091053882, 313.89817859447112, 74.669393313254147, 2.5491109533237864e-05, -1.1264003032673168e-08, array([ -6.83667311e-16,   1.49011526e-08,   2.62907536e+00]), array([  5.07597010e-13,  -1.73784005e-12,  -1.68912224e-04])] "
       ]
      },
      {
       "output_type": "stream",
       "stream": "stdout",
       "text": [
        "5.75053860326e-05\n",
        "[1.2180469209987348, 1.6293721325654442, -0.00055561822152501699, 5.5212638764104449e-05, 0.40964464704000603, 1.217504897896355, 0.1998687049535515, 74.666715309745825, 327.22138160274932, -0.0032886846957736931, 0.034985579091053882, 313.89817859447112, 74.669393313254147, 2.5491109533237864e-05, -1.1264003032673168e-08, array([ -6.83667311e-16,  -8.60040533e-15,   2.62907537e+00]), array([  5.07597010e-13,  -1.73784005e-12,  -1.68912224e-04])] "
       ]
      },
      {
       "output_type": "stream",
       "stream": "stdout",
       "text": [
        "5.75053837455e-05\n",
        "[1.2180469209987348, 1.6293721325654442, -0.00055561822152501699, 5.5212638764104449e-05, 0.40964464704000603, 1.217504897896355, 0.1998687049535515, 74.666715309745825, 327.22138160274932, -0.0032886846957736931, 0.034985579091053882, 313.89817859447112, 74.669393313254147, 2.5491109533237864e-05, -1.1264003032673168e-08, array([ -6.83667311e-16,  -8.60040533e-15,   2.62907536e+00]), array([  1.49016688e-08,  -1.73784005e-12,  -1.68912224e-04])] "
       ]
      },
      {
       "output_type": "stream",
       "stream": "stdout",
       "text": [
        "5.75053860326e-05\n",
        "[1.2180469209987348, 1.6293721325654442, -0.00055561822152501699, 5.5212638764104449e-05, 0.40964464704000603, 1.217504897896355, 0.1998687049535515, 74.666715309745825, 327.22138160274932, -0.0032886846957736931, 0.034985579091053882, 313.89817859447112, 74.669393313254147, 2.5491109533237864e-05, -1.1264003032673168e-08, array([ -6.83667311e-16,  -8.60040533e-15,   2.62907536e+00]), array([  5.07597010e-13,   1.48994234e-08,  -1.68912224e-04])] "
       ]
      },
      {
       "output_type": "stream",
       "stream": "stdout",
       "text": [
        "5.75053860326e-05\n",
        "[1.2180469209987348, 1.6293721325654442, -0.00055561822152501699, 5.5212638764104449e-05, 0.40964464704000603, 1.217504897896355, 0.1998687049535515, 74.666715309745825, 327.22138160274932, -0.0032886846957736931, 0.034985579091053882, 313.89817859447112, 74.669393313254147, 2.5491109533237864e-05, -1.1264003032673168e-08, array([ -6.83667311e-16,  -8.60040533e-15,   2.62907536e+00]), array([  5.07597010e-13,  -1.73784005e-12,  -1.68897323e-04])] "
       ]
      },
      {
       "output_type": "stream",
       "stream": "stdout",
       "text": [
        "5.75060641059e-05\n",
        "[1.2191929680531217, 1.629376180969804, -0.00093395044275721545, 2.8217614351103079e-05, 0.40904800174452283, 1.2174768841872678, 0.19961035144439909, 74.664167289758183, 327.22175955119371, -0.0033210986816723104, 0.035000624910812628, 313.90032124163162, 74.669393747165614, 7.252832669919597e-05, -2.6039211859367574e-08, array([ -2.39165142e-15,   3.65756110e-15,   2.62961346e+00]), array([  6.17622267e-14,  -1.10049993e-12,  -1.65081018e-04])] "
       ]
      },
      {
       "output_type": "stream",
       "stream": "stdout",
       "text": [
        "4.69457520189e-05\n",
        "[1.2191929680531217, 1.629376180969804, -0.00093395044275721545, 2.8217614351103079e-05, 0.40904800174452283, 1.2174768841872678, 0.19961035144439909, 74.664167289758183, 327.22175955119371, -0.0033210986816723104, 0.035000624910812628, 313.90032124163162, 74.669393747165614, 7.252832669919597e-05, -2.6039211859367574e-08, array([ -2.39165142e-15,   3.65756110e-15,   2.62961346e+00]), array([  6.17622267e-14,  -1.10049993e-12,  -1.65081018e-04])] "
       ]
      },
      {
       "output_type": "stream",
       "stream": "stdout",
       "text": [
        "4.69457520189e-05\n",
        "[1.2191929829542829, 1.629376180969804, -0.00093395044275721545, 2.8217614351103079e-05, 0.40904800174452283, 1.2174768841872678, 0.19961035144439909, 74.664167289758183, 327.22175955119371, -0.0033210986816723104, 0.035000624910812628, 313.90032124163162, 74.669393747165614, 7.252832669919597e-05, -2.6039211859367574e-08, array([ -2.39165142e-15,   3.65756110e-15,   2.62961346e+00]), array([  6.17622267e-14,  -1.10049993e-12,  -1.65081018e-04])] "
       ]
      },
      {
       "output_type": "stream",
       "stream": "stdout",
       "text": [
        "4.69457586958e-05\n",
        "[1.2191929680531217, 1.6293761958709652, -0.00093395044275721545, 2.8217614351103079e-05, 0.40904800174452283, 1.2174768841872678, 0.19961035144439909, 74.664167289758183, 327.22175955119371, -0.0033210986816723104, 0.035000624910812628, 313.90032124163162, 74.669393747165614, 7.252832669919597e-05, -2.6039211859367574e-08, array([ -2.39165142e-15,   3.65756110e-15,   2.62961346e+00]), array([  6.17622267e-14,  -1.10049993e-12,  -1.65081018e-04])] "
       ]
      },
      {
       "output_type": "stream",
       "stream": "stdout",
       "text": [
        "4.69454855526e-05\n",
        "[1.2191929680531217, 1.629376180969804, -0.00093393554159602161, 2.8217614351103079e-05, 0.40904800174452283, 1.2174768841872678, 0.19961035144439909, 74.664167289758183, 327.22175955119371, -0.0033210986816723104, 0.035000624910812628, 313.90032124163162, 74.669393747165614, 7.252832669919597e-05, -2.6039211859367574e-08, array([ -2.39165142e-15,   3.65756110e-15,   2.62961346e+00]), array([  6.17622267e-14,  -1.10049993e-12,  -1.65081018e-04])] "
       ]
      },
      {
       "output_type": "stream",
       "stream": "stdout",
       "text": [
        "4.69457492856e-05\n",
        "[1.2191929680531217, 1.629376180969804, -0.00093395044275721545, 2.8232515512296926e-05, 0.40904800174452283, 1.2174768841872678, 0.19961035144439909, 74.664167289758183, 327.22175955119371, -0.0033210986816723104, 0.035000624910812628, 313.90032124163162, 74.669393747165614, 7.252832669919597e-05, -2.6039211859367574e-08, array([ -2.39165142e-15,   3.65756110e-15,   2.62961346e+00]), array([  6.17622267e-14,  -1.10049993e-12,  -1.65081018e-04])] "
       ]
      },
      {
       "output_type": "stream",
       "stream": "stdout",
       "text": [
        "4.69457618016e-05\n",
        "[1.2191929680531217, 1.629376180969804, -0.00093395044275721545, 2.8217614351103079e-05, 0.40904801664568402, 1.2174768841872678, 0.19961035144439909, 74.664167289758183, 327.22175955119371, -0.0033210986816723104, 0.035000624910812628, 313.90032124163162, 74.669393747165614, 7.252832669919597e-05, -2.6039211859367574e-08, array([ -2.39165142e-15,   3.65756110e-15,   2.62961346e+00]), array([  6.17622267e-14,  -1.10049993e-12,  -1.65081018e-04])] "
       ]
      },
      {
       "output_type": "stream",
       "stream": "stdout",
       "text": [
        "4.69457759594e-05\n",
        "[1.2191929680531217, 1.629376180969804, -0.00093395044275721545, 2.8217614351103079e-05, 0.40904800174452283, 1.217476899088429, 0.19961035144439909, 74.664167289758183, 327.22175955119371, -0.0033210986816723104, 0.035000624910812628, 313.90032124163162, 74.669393747165614, 7.252832669919597e-05, -2.6039211859367574e-08, array([ -2.39165142e-15,   3.65756110e-15,   2.62961346e+00]), array([  6.17622267e-14,  -1.10049993e-12,  -1.65081018e-04])] "
       ]
      },
      {
       "output_type": "stream",
       "stream": "stdout",
       "text": [
        "4.69457524435e-05\n",
        "[1.2191929680531217, 1.629376180969804, -0.00093395044275721545, 2.8217614351103079e-05, 0.40904800174452283, 1.2174768841872678, 0.19961036634556029, 74.664167289758183, 327.22175955119371, -0.0033210986816723104, 0.035000624910812628, 313.90032124163162, 74.669393747165614, 7.252832669919597e-05, -2.6039211859367574e-08, array([ -2.39165142e-15,   3.65756110e-15,   2.62961346e+00]), array([  6.17622267e-14,  -1.10049993e-12,  -1.65081018e-04])] "
       ]
      },
      {
       "output_type": "stream",
       "stream": "stdout",
       "text": [
        "4.69457555493e-05\n",
        "[1.2191929680531217, 1.629376180969804, -0.00093395044275721545, 2.8217614351103079e-05, 0.40904800174452283, 1.2174768841872678, 0.19961035144439909, 74.664167304659344, 327.22175955119371, -0.0033210986816723104, 0.035000624910812628, 313.90032124163162, 74.669393747165614, 7.252832669919597e-05, -2.6039211859367574e-08, array([ -2.39165142e-15,   3.65756110e-15,   2.62961346e+00]), array([  6.17622267e-14,  -1.10049993e-12,  -1.65081018e-04])] "
       ]
      },
      {
       "output_type": "stream",
       "stream": "stdout",
       "text": [
        "4.69457551385e-05\n",
        "[1.2191929680531217, 1.629376180969804, -0.00093395044275721545, 2.8217614351103079e-05, 0.40904800174452283, 1.2174768841872678, 0.19961035144439909, 74.664167289758183, 327.22175956609487, -0.0033210986816723104, 0.035000624910812628, 313.90032124163162, 74.669393747165614, 7.252832669919597e-05, -2.6039211859367574e-08, array([ -2.39165142e-15,   3.65756110e-15,   2.62961346e+00]), array([  6.17622267e-14,  -1.10049993e-12,  -1.65081018e-04])] "
       ]
      },
      {
       "output_type": "stream",
       "stream": "stdout",
       "text": [
        "4.69457447134e-05\n",
        "[1.2191929680531217, 1.629376180969804, -0.00093395044275721545, 2.8217614351103079e-05, 0.40904800174452283, 1.2174768841872678, 0.19961035144439909, 74.664167289758183, 327.22175955119371, -0.0033210837805111165, 0.035000624910812628, 313.90032124163162, 74.669393747165614, 7.252832669919597e-05, -2.6039211859367574e-08, array([ -2.39165142e-15,   3.65756110e-15,   2.62961346e+00]), array([  6.17622267e-14,  -1.10049993e-12,  -1.65081018e-04])] "
       ]
      },
      {
       "output_type": "stream",
       "stream": "stdout",
       "text": [
        "4.69457636251e-05\n",
        "[1.2191929680531217, 1.629376180969804, -0.00093395044275721545, 2.8217614351103079e-05, 0.40904800174452283, 1.2174768841872678, 0.19961035144439909, 74.664167289758183, 327.22175955119371, -0.0033210986816723104, 0.035000639811973822, 313.90032124163162, 74.669393747165614, 7.252832669919597e-05, -2.6039211859367574e-08, array([ -2.39165142e-15,   3.65756110e-15,   2.62961346e+00]), array([  6.17622267e-14,  -1.10049993e-12,  -1.65081018e-04])] "
       ]
      },
      {
       "output_type": "stream",
       "stream": "stdout",
       "text": [
        "4.69460683505e-05\n",
        "[1.2191929680531217, 1.629376180969804, -0.00093395044275721545, 2.8217614351103079e-05, 0.40904800174452283, 1.2174768841872678, 0.19961035144439909, 74.664167289758183, 327.22175955119371, -0.0033210986816723104, 0.035000624910812628, 313.90032125653278, 74.669393747165614, 7.252832669919597e-05, -2.6039211859367574e-08, array([ -2.39165142e-15,   3.65756110e-15,   2.62961346e+00]), array([  6.17622267e-14,  -1.10049993e-12,  -1.65081018e-04])] "
       ]
      },
      {
       "output_type": "stream",
       "stream": "stdout",
       "text": [
        "4.69457281882e-05\n",
        "[1.2191929680531217, 1.629376180969804, -0.00093395044275721545, 2.8217614351103079e-05, 0.40904800174452283, 1.2174768841872678, 0.19961035144439909, 74.664167289758183, 327.22175955119371, -0.0033210986816723104, 0.035000624910812628, 313.90032124163162, 74.669393762066775, 7.252832669919597e-05, -2.6039211859367574e-08, array([ -2.39165142e-15,   3.65756110e-15,   2.62961346e+00]), array([  6.17622267e-14,  -1.10049993e-12,  -1.65081018e-04])] "
       ]
      },
      {
       "output_type": "stream",
       "stream": "stdout",
       "text": [
        "4.69457520112e-05\n",
        "[1.2191929680531217, 1.629376180969804, -0.00093395044275721545, 2.8217614351103079e-05, 0.40904800174452283, 1.2174768841872678, 0.19961035144439909, 74.664167289758183, 327.22175955119371, -0.0033210986816723104, 0.035000624910812628, 313.90032124163162, 74.669393747165614, 7.2543227860389817e-05, -2.6039211859367574e-08, array([ -2.39165142e-15,   3.65756110e-15,   2.62961346e+00]), array([  6.17622267e-14,  -1.10049993e-12,  -1.65081018e-04])] "
       ]
      },
      {
       "output_type": "stream",
       "stream": "stdout",
       "text": [
        "4.69457517676e-05\n",
        "[1.2191929680531217, 1.629376180969804, -0.00093395044275721545, 2.8217614351103079e-05, 0.40904800174452283, 1.2174768841872678, 0.19961035144439909, 74.664167289758183, 327.22175955119371, -0.0033210986816723104, 0.035000624910812628, 313.90032124163162, 74.669393747165614, 7.252832669919597e-05, -1.1138050665519917e-08, array([ -2.39165142e-15,   3.65756110e-15,   2.62961346e+00]), array([  6.17622267e-14,  -1.10049993e-12,  -1.65081018e-04])] "
       ]
      },
      {
       "output_type": "stream",
       "stream": "stdout",
       "text": [
        "4.69457520192e-05\n",
        "[1.2191929680531217, 1.629376180969804, -0.00093395044275721545, 2.8217614351103079e-05, 0.40904800174452283, 1.2174768841872678, 0.19961035144439909, 74.664167289758183, 327.22175955119371, -0.0033210986816723104, 0.035000624910812628, 313.90032124163162, 74.669393747165614, 7.252832669919597e-05, -2.6039211859367574e-08, array([  1.49011588e-08,   3.65756110e-15,   2.62961346e+00]), array([  6.17622267e-14,  -1.10049993e-12,  -1.65081018e-04])] "
       ]
      },
      {
       "output_type": "stream",
       "stream": "stdout",
       "text": [
        "4.69457520189e-05\n",
        "[1.2191929680531217, 1.629376180969804, -0.00093395044275721545, 2.8217614351103079e-05, 0.40904800174452283, 1.2174768841872678, 0.19961035144439909, 74.664167289758183, 327.22175955119371, -0.0033210986816723104, 0.035000624910812628, 313.90032124163162, 74.669393747165614, 7.252832669919597e-05, -2.6039211859367574e-08, array([ -2.39165142e-15,   1.49011649e-08,   2.62961346e+00]), array([  6.17622267e-14,  -1.10049993e-12,  -1.65081018e-04])] "
       ]
      },
      {
       "output_type": "stream",
       "stream": "stdout",
       "text": [
        "4.69457520189e-05\n",
        "[1.2191929680531217, 1.629376180969804, -0.00093395044275721545, 2.8217614351103079e-05, 0.40904800174452283, 1.2174768841872678, 0.19961035144439909, 74.664167289758183, 327.22175955119371, -0.0033210986816723104, 0.035000624910812628, 313.90032124163162, 74.669393747165614, 7.252832669919597e-05, -2.6039211859367574e-08, array([ -2.39165142e-15,   3.65756110e-15,   2.62961347e+00]), array([  6.17622267e-14,  -1.10049993e-12,  -1.65081018e-04])] "
       ]
      },
      {
       "output_type": "stream",
       "stream": "stdout",
       "text": [
        "4.69457324978e-05\n",
        "[1.2191929680531217, 1.629376180969804, -0.00093395044275721545, 2.8217614351103079e-05, 0.40904800174452283, 1.2174768841872678, 0.19961035144439909, 74.664167289758183, 327.22175955119371, -0.0033210986816723104, 0.035000624910812628, 313.90032124163162, 74.669393747165614, 7.252832669919597e-05, -2.6039211859367574e-08, array([ -2.39165142e-15,   3.65756110e-15,   2.62961346e+00]), array([  1.49012230e-08,  -1.10049993e-12,  -1.65081018e-04])] "
       ]
      },
      {
       "output_type": "stream",
       "stream": "stdout",
       "text": [
        "4.69457520189e-05\n",
        "[1.2191929680531217, 1.629376180969804, -0.00093395044275721545, 2.8217614351103079e-05, 0.40904800174452283, 1.2174768841872678, 0.19961035144439909, 74.664167289758183, 327.22175955119371, -0.0033210986816723104, 0.035000624910812628, 313.90032124163162, 74.669393747165614, 7.252832669919597e-05, -2.6039211859367574e-08, array([ -2.39165142e-15,   3.65756110e-15,   2.62961346e+00]), array([  6.17622267e-14,   1.49000607e-08,  -1.65081018e-04])] "
       ]
      },
      {
       "output_type": "stream",
       "stream": "stdout",
       "text": [
        "4.69457520189e-05\n",
        "[1.2191929680531217, 1.629376180969804, -0.00093395044275721545, 2.8217614351103079e-05, 0.40904800174452283, 1.2174768841872678, 0.19961035144439909, 74.664167289758183, 327.22175955119371, -0.0033210986816723104, 0.035000624910812628, 313.90032124163162, 74.669393747165614, 7.252832669919597e-05, -2.6039211859367574e-08, array([ -2.39165142e-15,   3.65756110e-15,   2.62961346e+00]), array([  6.17622267e-14,  -1.10049993e-12,  -1.65066117e-04])] "
       ]
      },
      {
       "output_type": "stream",
       "stream": "stdout",
       "text": [
        "4.69456526537e-05\n",
        "[1.2192791525707409, 1.629379010606661, -0.00095664425016113441, -0.0015171929183207863, 0.40783004950511359, 1.2174221150455551, 0.19913409721511138, 74.662423991597322, 327.22273956851865, -0.0033445774533570677, 0.0350314501351386, 313.90364509926144, 74.669394707448433, 0.0001229748699749381, -6.5233997381864518e-08, array([ -1.72367538e-14,  -4.11389633e-15,   2.63168058e+00]), array([ -1.13632622e-12,  -3.77536006e-12,  -1.71231162e-04])] "
       ]
      },
      {
       "output_type": "stream",
       "stream": "stdout",
       "text": [
        "3.82954044383e-05\n",
        "[1.2192791525707409, 1.629379010606661, -0.00095664425016113441, -0.0015171929183207863, 0.40783004950511359, 1.2174221150455551, 0.19913409721511138, 74.662423991597322, 327.22273956851865, -0.0033445774533570677, 0.0350314501351386, 313.90364509926144, 74.669394707448433, 0.0001229748699749381, -6.5233997381864518e-08, array([ -1.72367538e-14,  -4.11389633e-15,   2.63168058e+00]), array([ -1.13632622e-12,  -3.77536006e-12,  -1.71231162e-04])] "
       ]
      },
      {
       "output_type": "stream",
       "stream": "stdout",
       "text": [
        "3.82954044383e-05\n",
        "[1.2192791674719021, 1.629379010606661, -0.00095664425016113441, -0.0015171929183207863, 0.40783004950511359, 1.2174221150455551, 0.19913409721511138, 74.662423991597322, 327.22273956851865, -0.0033445774533570677, 0.0350314501351386, 313.90364509926144, 74.669394707448433, 0.0001229748699749381, -6.5233997381864518e-08, array([ -1.72367538e-14,  -4.11389633e-15,   2.63168058e+00]), array([ -1.13632622e-12,  -3.77536006e-12,  -1.71231162e-04])] "
       ]
      },
      {
       "output_type": "stream",
       "stream": "stdout",
       "text": [
        "3.82954182571e-05\n",
        "[1.2192791525707409, 1.6293790255078222, -0.00095664425016113441, -0.0015171929183207863, 0.40783004950511359, 1.2174221150455551, 0.19913409721511138, 74.662423991597322, 327.22273956851865, -0.0033445774533570677, 0.0350314501351386, 313.90364509926144, 74.669394707448433, 0.0001229748699749381, -6.5233997381864518e-08, array([ -1.72367538e-14,  -4.11389633e-15,   2.63168058e+00]), array([ -1.13632622e-12,  -3.77536006e-12,  -1.71231162e-04])] "
       ]
      },
      {
       "output_type": "stream",
       "stream": "stdout",
       "text": [
        "3.8294567074e-05\n",
        "[1.2192791525707409, 1.629379010606661, -0.00095662934899994057, -0.0015171929183207863, 0.40783004950511359, 1.2174221150455551, 0.19913409721511138, 74.662423991597322, 327.22273956851865, -0.0033445774533570677, 0.0350314501351386, 313.90364509926144, 74.669394707448433, 0.0001229748699749381, -6.5233997381864518e-08, array([ -1.72367538e-14,  -4.11389633e-15,   2.63168058e+00]), array([ -1.13632622e-12,  -3.77536006e-12,  -1.71231162e-04])] "
       ]
      },
      {
       "output_type": "stream",
       "stream": "stdout",
       "text": [
        "3.82953999216e-05\n",
        "[1.2192791525707409, 1.629379010606661, -0.00095664425016113441, -0.0015171780171595924, 0.40783004950511359, 1.2174221150455551, 0.19913409721511138, 74.662423991597322, 327.22273956851865, -0.0033445774533570677, 0.0350314501351386, 313.90364509926144, 74.669394707448433, 0.0001229748699749381, -6.5233997381864518e-08, array([ -1.72367538e-14,  -4.11389633e-15,   2.63168058e+00]), array([ -1.13632622e-12,  -3.77536006e-12,  -1.71231162e-04])] "
       ]
      },
      {
       "output_type": "stream",
       "stream": "stdout",
       "text": [
        "3.82954244433e-05\n",
        "[1.2192791525707409, 1.629379010606661, -0.00095664425016113441, -0.0015171929183207863, 0.40783006440627478, 1.2174221150455551, 0.19913409721511138, 74.662423991597322, 327.22273956851865, -0.0033445774533570677, 0.0350314501351386, 313.90364509926144, 74.669394707448433, 0.0001229748699749381, -6.5233997381864518e-08, array([ -1.72367538e-14,  -4.11389633e-15,   2.63168058e+00]), array([ -1.13632622e-12,  -3.77536006e-12,  -1.71231162e-04])] "
       ]
      },
      {
       "output_type": "stream",
       "stream": "stdout",
       "text": [
        "3.82953982198e-05\n",
        "[1.2192791525707409, 1.629379010606661, -0.00095664425016113441, -0.0015171929183207863, 0.40783004950511359, 1.2174221299467163, 0.19913409721511138, 74.662423991597322, 327.22273956851865, -0.0033445774533570677, 0.0350314501351386, 313.90364509926144, 74.669394707448433, 0.0001229748699749381, -6.5233997381864518e-08, array([ -1.72367538e-14,  -4.11389633e-15,   2.63168058e+00]), array([ -1.13632622e-12,  -3.77536006e-12,  -1.71231162e-04])] "
       ]
      },
      {
       "output_type": "stream",
       "stream": "stdout",
       "text": [
        "3.82954048522e-05\n",
        "[1.2192791525707409, 1.629379010606661, -0.00095664425016113441, -0.0015171929183207863, 0.40783004950511359, 1.2174221150455551, 0.19913411211627258, 74.662423991597322, 327.22273956851865, -0.0033445774533570677, 0.0350314501351386, 313.90364509926144, 74.669394707448433, 0.0001229748699749381, -6.5233997381864518e-08, array([ -1.72367538e-14,  -4.11389633e-15,   2.63168058e+00]), array([ -1.13632622e-12,  -3.77536006e-12,  -1.71231162e-04])] "
       ]
      },
      {
       "output_type": "stream",
       "stream": "stdout",
       "text": [
        "3.82954075894e-05\n",
        "[1.2192791525707409, 1.629379010606661, -0.00095664425016113441, -0.0015171929183207863, 0.40783004950511359, 1.2174221150455551, 0.19913409721511138, 74.662424006498483, 327.22273956851865, -0.0033445774533570677, 0.0350314501351386, 313.90364509926144, 74.669394707448433, 0.0001229748699749381, -6.5233997381864518e-08, array([ -1.72367538e-14,  -4.11389633e-15,   2.63168058e+00]), array([ -1.13632622e-12,  -3.77536006e-12,  -1.71231162e-04])] "
       ]
      },
      {
       "output_type": "stream",
       "stream": "stdout",
       "text": [
        "3.82953916208e-05\n",
        "[1.2192791525707409, 1.629379010606661, -0.00095664425016113441, -0.0015171929183207863, 0.40783004950511359, 1.2174221150455551, 0.19913409721511138, 74.662423991597322, 327.22273958341981, -0.0033445774533570677, 0.0350314501351386, 313.90364509926144, 74.669394707448433, 0.0001229748699749381, -6.5233997381864518e-08, array([ -1.72367538e-14,  -4.11389633e-15,   2.63168058e+00]), array([ -1.13632622e-12,  -3.77536006e-12,  -1.71231162e-04])] "
       ]
      },
      {
       "output_type": "stream",
       "stream": "stdout",
       "text": [
        "3.82954031426e-05\n",
        "[1.2192791525707409, 1.629379010606661, -0.00095664425016113441, -0.0015171929183207863, 0.40783004950511359, 1.2174221150455551, 0.19913409721511138, 74.662423991597322, 327.22273956851865, -0.0033445625521958738, 0.0350314501351386, 313.90364509926144, 74.669394707448433, 0.0001229748699749381, -6.5233997381864518e-08, array([ -1.72367538e-14,  -4.11389633e-15,   2.63168058e+00]), array([ -1.13632622e-12,  -3.77536006e-12,  -1.71231162e-04])] "
       ]
      },
      {
       "output_type": "stream",
       "stream": "stdout",
       "text": [
        "3.82954513525e-05\n",
        "[1.2192791525707409, 1.629379010606661, -0.00095664425016113441, -0.0015171929183207863, 0.40783004950511359, 1.2174221150455551, 0.19913409721511138, 74.662423991597322, 327.22273956851865, -0.0033445774533570677, 0.035031465036299794, 313.90364509926144, 74.669394707448433, 0.0001229748699749381, -6.5233997381864518e-08, array([ -1.72367538e-14,  -4.11389633e-15,   2.63168058e+00]), array([ -1.13632622e-12,  -3.77536006e-12,  -1.71231162e-04])] "
       ]
      },
      {
       "output_type": "stream",
       "stream": "stdout",
       "text": [
        "3.82967554816e-05\n",
        "[1.2192791525707409, 1.629379010606661, -0.00095664425016113441, -0.0015171929183207863, 0.40783004950511359, 1.2174221150455551, 0.19913409721511138, 74.662423991597322, 327.22273956851865, -0.0033445774533570677, 0.0350314501351386, 313.9036451141626, 74.669394707448433, 0.0001229748699749381, -6.5233997381864518e-08, array([ -1.72367538e-14,  -4.11389633e-15,   2.63168058e+00]), array([ -1.13632622e-12,  -3.77536006e-12,  -1.71231162e-04])] "
       ]
      },
      {
       "output_type": "stream",
       "stream": "stdout",
       "text": [
        "3.82953787437e-05\n",
        "[1.2192791525707409, 1.629379010606661, -0.00095664425016113441, -0.0015171929183207863, 0.40783004950511359, 1.2174221150455551, 0.19913409721511138, 74.662423991597322, 327.22273956851865, -0.0033445774533570677, 0.0350314501351386, 313.90364509926144, 74.669394722349594, 0.0001229748699749381, -6.5233997381864518e-08, array([ -1.72367538e-14,  -4.11389633e-15,   2.63168058e+00]), array([ -1.13632622e-12,  -3.77536006e-12,  -1.71231162e-04])] "
       ]
      },
      {
       "output_type": "stream",
       "stream": "stdout",
       "text": [
        "3.82954044313e-05\n",
        "[1.2192791525707409, 1.629379010606661, -0.00095664425016113441, -0.0015171929183207863, 0.40783004950511359, 1.2174221150455551, 0.19913409721511138, 74.662423991597322, 327.22273956851865, -0.0033445774533570677, 0.0350314501351386, 313.90364509926144, 74.669394707448433, 0.00012298977113613194, -6.5233997381864518e-08, array([ -1.72367538e-14,  -4.11389633e-15,   2.63168058e+00]), array([ -1.13632622e-12,  -3.77536006e-12,  -1.71231162e-04])] "
       ]
      },
      {
       "output_type": "stream",
       "stream": "stdout",
       "text": [
        "3.82954044683e-05\n",
        "[1.2192791525707409, 1.629379010606661, -0.00095664425016113441, -0.0015171929183207863, 0.40783004950511359, 1.2174221150455551, 0.19913409721511138, 74.662423991597322, 327.22273956851865, -0.0033445774533570677, 0.0350314501351386, 313.90364509926144, 74.669394707448433, 0.0001229748699749381, -5.0332836188016862e-08, array([ -1.72367538e-14,  -4.11389633e-15,   2.63168058e+00]), array([ -1.13632622e-12,  -3.77536006e-12,  -1.71231162e-04])] "
       ]
      },
      {
       "output_type": "stream",
       "stream": "stdout",
       "text": [
        "3.82954044384e-05\n",
        "[1.2192791525707409, 1.629379010606661, -0.00095664425016113441, -0.0015171929183207863, 0.40783004950511359, 1.2174221150455551, 0.19913409721511138, 74.662423991597322, 327.22273956851865, -0.0033445774533570677, 0.0350314501351386, 313.90364509926144, 74.669394707448433, 0.0001229748699749381, -6.5233997381864518e-08, array([  1.49011440e-08,  -4.11389633e-15,   2.63168058e+00]), array([ -1.13632622e-12,  -3.77536006e-12,  -1.71231162e-04])] "
       ]
      },
      {
       "output_type": "stream",
       "stream": "stdout",
       "text": [
        "3.82954044383e-05\n",
        "[1.2192791525707409, 1.629379010606661, -0.00095664425016113441, -0.0015171929183207863, 0.40783004950511359, 1.2174221150455551, 0.19913409721511138, 74.662423991597322, 327.22273956851865, -0.0033445774533570677, 0.0350314501351386, 313.90364509926144, 74.669394707448433, 0.0001229748699749381, -6.5233997381864518e-08, array([ -1.72367538e-14,   1.49011571e-08,   2.63168058e+00]), array([ -1.13632622e-12,  -3.77536006e-12,  -1.71231162e-04])] "
       ]
      },
      {
       "output_type": "stream",
       "stream": "stdout",
       "text": [
        "3.82954044383e-05\n",
        "[1.2192791525707409, 1.629379010606661, -0.00095664425016113441, -0.0015171929183207863, 0.40783004950511359, 1.2174221150455551, 0.19913409721511138, 74.662423991597322, 327.22273956851865, -0.0033445774533570677, 0.0350314501351386, 313.90364509926144, 74.669394707448433, 0.0001229748699749381, -6.5233997381864518e-08, array([ -1.72367538e-14,  -4.11389633e-15,   2.63168059e+00]), array([ -1.13632622e-12,  -3.77536006e-12,  -1.71231162e-04])] "
       ]
      },
      {
       "output_type": "stream",
       "stream": "stdout",
       "text": [
        "3.82953841792e-05\n",
        "[1.2192791525707409, 1.629379010606661, -0.00095664425016113441, -0.0015171929183207863, 0.40783004950511359, 1.2174221150455551, 0.19913409721511138, 74.662423991597322, 327.22273956851865, -0.0033445774533570677, 0.0350314501351386, 313.90364509926144, 74.669394707448433, 0.0001229748699749381, -6.5233997381864518e-08, array([ -1.72367538e-14,  -4.11389633e-15,   2.63168058e+00]), array([  1.49000249e-08,  -3.77536006e-12,  -1.71231162e-04])] "
       ]
      },
      {
       "output_type": "stream",
       "stream": "stdout",
       "text": [
        "3.82954044383e-05\n",
        "[1.2192791525707409, 1.629379010606661, -0.00095664425016113441, -0.0015171929183207863, 0.40783004950511359, 1.2174221150455551, 0.19913409721511138, 74.662423991597322, 327.22273956851865, -0.0033445774533570677, 0.0350314501351386, 313.90364509926144, 74.669394707448433, 0.0001229748699749381, -6.5233997381864518e-08, array([ -1.72367538e-14,  -4.11389633e-15,   2.63168058e+00]), array([ -1.13632622e-12,   1.48973858e-08,  -1.71231162e-04])] "
       ]
      },
      {
       "output_type": "stream",
       "stream": "stdout",
       "text": [
        "3.82954044383e-05\n",
        "[1.2192791525707409, 1.629379010606661, -0.00095664425016113441, -0.0015171929183207863, 0.40783004950511359, 1.2174221150455551, 0.19913409721511138, 74.662423991597322, 327.22273956851865, -0.0033445774533570677, 0.0350314501351386, 313.90364509926144, 74.669394707448433, 0.0001229748699749381, -6.5233997381864518e-08, array([ -1.72367538e-14,  -4.11389633e-15,   2.63168058e+00]), array([ -1.13632622e-12,  -3.77536006e-12,  -1.71216261e-04])] "
       ]
      },
      {
       "output_type": "stream",
       "stream": "stdout",
       "text": [
        "3.82949927932e-05\n",
        "[1.2183077773475874, 1.6293819563781591, -0.00063417795552428891, -0.0035481519815169101, 0.40637255677103667, 1.2173168079297072, 0.19823443283720307, 74.661011627321855, 327.22431449116169, -0.0033676414180020277, 0.035086189360400512, 313.90996739979647, 74.669396482399947, 0.00018473748694135977, -1.0586730917527122e-07, array([ -1.77151416e-14,   1.59894539e-14,   2.63560171e+00]), array([ -3.14216779e-12,  -7.49397953e-12,  -1.76323743e-04])] "
       ]
      },
      {
       "output_type": "stream",
       "stream": "stdout",
       "text": [
        "2.90304928502e-05\n",
        "[1.2183077773475874, 1.6293819563781591, -0.00063417795552428891, -0.0035481519815169101, 0.40637255677103667, 1.2173168079297072, 0.19823443283720307, 74.661011627321855, 327.22431449116169, -0.0033676414180020277, 0.035086189360400512, 313.90996739979647, 74.669396482399947, 0.00018473748694135977, -1.0586730917527122e-07, array([ -1.77151416e-14,   1.59894539e-14,   2.63560171e+00]), array([ -3.14216779e-12,  -7.49397953e-12,  -1.76323743e-04])] "
       ]
      },
      {
       "output_type": "stream",
       "stream": "stdout",
       "text": [
        "2.90304928502e-05\n",
        "[1.2183077922487486, 1.6293819563781591, -0.00063417795552428891, -0.0035481519815169101, 0.40637255677103667, 1.2173168079297072, 0.19823443283720307, 74.661011627321855, 327.22431449116169, -0.0033676414180020277, 0.035086189360400512, 313.90996739979647, 74.669396482399947, 0.00018473748694135977, -1.0586730917527122e-07, array([ -1.77151416e-14,   1.59894539e-14,   2.63560171e+00]), array([ -3.14216779e-12,  -7.49397953e-12,  -1.76323743e-04])] "
       ]
      },
      {
       "output_type": "stream",
       "stream": "stdout",
       "text": [
        "2.90304996385e-05\n",
        "[1.2183077773475874, 1.6293819712793203, -0.00063417795552428891, -0.0035481519815169101, 0.40637255677103667, 1.2173168079297072, 0.19823443283720307, 74.661011627321855, 327.22431449116169, -0.0033676414180020277, 0.035086189360400512, 313.90996739979647, 74.669396482399947, 0.00018473748694135977, -1.0586730917527122e-07, array([ -1.77151416e-14,   1.59894539e-14,   2.63560171e+00]), array([ -3.14216779e-12,  -7.49397953e-12,  -1.76323743e-04])] "
       ]
      },
      {
       "output_type": "stream",
       "stream": "stdout",
       "text": [
        "2.90299230125e-05\n",
        "[1.2183077773475874, 1.6293819563781591, -0.00063416305436309506, -0.0035481519815169101, 0.40637255677103667, 1.2173168079297072, 0.19823443283720307, 74.661011627321855, 327.22431449116169, -0.0033676414180020277, 0.035086189360400512, 313.90996739979647, 74.669396482399947, 0.00018473748694135977, -1.0586730917527122e-07, array([ -1.77151416e-14,   1.59894539e-14,   2.63560171e+00]), array([ -3.14216779e-12,  -7.49397953e-12,  -1.76323743e-04])] "
       ]
      },
      {
       "output_type": "stream",
       "stream": "stdout",
       "text": [
        "2.90304897571e-05\n",
        "[1.2183077773475874, 1.6293819563781591, -0.00063417795552428891, -0.0035481370803557163, 0.40637255677103667, 1.2173168079297072, 0.19823443283720307, 74.661011627321855, 327.22431449116169, -0.0033676414180020277, 0.035086189360400512, 313.90996739979647, 74.669396482399947, 0.00018473748694135977, -1.0586730917527122e-07, array([ -1.77151416e-14,   1.59894539e-14,   2.63560171e+00]), array([ -3.14216779e-12,  -7.49397953e-12,  -1.76323743e-04])] "
       ]
      },
      {
       "output_type": "stream",
       "stream": "stdout",
       "text": [
        "2.90305006486e-05\n",
        "[1.2183077773475874, 1.6293819563781591, -0.00063417795552428891, -0.0035481519815169101, 0.40637257167219787, 1.2173168079297072, 0.19823443283720307, 74.661011627321855, 327.22431449116169, -0.0033676414180020277, 0.035086189360400512, 313.90996739979647, 74.669396482399947, 0.00018473748694135977, -1.0586730917527122e-07, array([ -1.77151416e-14,   1.59894539e-14,   2.63560171e+00]), array([ -3.14216779e-12,  -7.49397953e-12,  -1.76323743e-04])] "
       ]
      },
      {
       "output_type": "stream",
       "stream": "stdout",
       "text": [
        "2.90304700811e-05\n",
        "[1.2183077773475874, 1.6293819563781591, -0.00063417795552428891, -0.0035481519815169101, 0.40637255677103667, 1.2173168228308684, 0.19823443283720307, 74.661011627321855, 327.22431449116169, -0.0033676414180020277, 0.035086189360400512, 313.90996739979647, 74.669396482399947, 0.00018473748694135977, -1.0586730917527122e-07, array([ -1.77151416e-14,   1.59894539e-14,   2.63560171e+00]), array([ -3.14216779e-12,  -7.49397953e-12,  -1.76323743e-04])] "
       ]
      },
      {
       "output_type": "stream",
       "stream": "stdout",
       "text": [
        "2.90304931543e-05\n",
        "[1.2183077773475874, 1.6293819563781591, -0.00063417795552428891, -0.0035481519815169101, 0.40637255677103667, 1.2173168079297072, 0.19823444773836427, 74.661011627321855, 327.22431449116169, -0.0033676414180020277, 0.035086189360400512, 313.90996739979647, 74.669396482399947, 0.00018473748694135977, -1.0586730917527122e-07, array([ -1.77151416e-14,   1.59894539e-14,   2.63560171e+00]), array([ -3.14216779e-12,  -7.49397953e-12,  -1.76323743e-04])] "
       ]
      },
      {
       "output_type": "stream",
       "stream": "stdout",
       "text": [
        "2.90304950768e-05\n",
        "[1.2183077773475874, 1.6293819563781591, -0.00063417795552428891, -0.0035481519815169101, 0.40637255677103667, 1.2173168079297072, 0.19823443283720307, 74.661011642223016, 327.22431449116169, -0.0033676414180020277, 0.035086189360400512, 313.90996739979647, 74.669396482399947, 0.00018473748694135977, -1.0586730917527122e-07, array([ -1.77151416e-14,   1.59894539e-14,   2.63560171e+00]), array([ -3.14216779e-12,  -7.49397953e-12,  -1.76323743e-04])] "
       ]
      },
      {
       "output_type": "stream",
       "stream": "stdout",
       "text": [
        "2.90304686196e-05\n",
        "[1.2183077773475874, 1.6293819563781591, -0.00063417795552428891, -0.0035481519815169101, 0.40637255677103667, 1.2173168079297072, 0.19823443283720307, 74.661011627321855, 327.22431450606285, -0.0033676414180020277, 0.035086189360400512, 313.90996739979647, 74.669396482399947, 0.00018473748694135977, -1.0586730917527122e-07, array([ -1.77151416e-14,   1.59894539e-14,   2.63560171e+00]), array([ -3.14216779e-12,  -7.49397953e-12,  -1.76323743e-04])] "
       ]
      },
      {
       "output_type": "stream",
       "stream": "stdout",
       "text": [
        "2.90304953668e-05\n",
        "[1.2183077773475874, 1.6293819563781591, -0.00063417795552428891, -0.0035481519815169101, 0.40637255677103667, 1.2173168079297072, 0.19823443283720307, 74.661011627321855, 327.22431449116169, -0.0033676265168408339, 0.035086189360400512, 313.90996739979647, 74.669396482399947, 0.00018473748694135977, -1.0586730917527122e-07, array([ -1.77151416e-14,   1.59894539e-14,   2.63560171e+00]), array([ -3.14216779e-12,  -7.49397953e-12,  -1.76323743e-04])] "
       ]
      },
      {
       "output_type": "stream",
       "stream": "stdout",
       "text": [
        "2.90305294117e-05\n",
        "[1.2183077773475874, 1.6293819563781591, -0.00063417795552428891, -0.0035481519815169101, 0.40637255677103667, 1.2173168079297072, 0.19823443283720307, 74.661011627321855, 327.22431449116169, -0.0033676414180020277, 0.035086204261561706, 313.90996739979647, 74.669396482399947, 0.00018473748694135977, -1.0586730917527122e-07, array([ -1.77151416e-14,   1.59894539e-14,   2.63560171e+00]), array([ -3.14216779e-12,  -7.49397953e-12,  -1.76323743e-04])] "
       ]
      },
      {
       "output_type": "stream",
       "stream": "stdout",
       "text": [
        "2.90315750148e-05\n",
        "[1.2183077773475874, 1.6293819563781591, -0.00063417795552428891, -0.0035481519815169101, 0.40637255677103667, 1.2173168079297072, 0.19823443283720307, 74.661011627321855, 327.22431449116169, -0.0033676414180020277, 0.035086189360400512, 313.90996741469763, 74.669396482399947, 0.00018473748694135977, -1.0586730917527122e-07, array([ -1.77151416e-14,   1.59894539e-14,   2.63560171e+00]), array([ -3.14216779e-12,  -7.49397953e-12,  -1.76323743e-04])] "
       ]
      },
      {
       "output_type": "stream",
       "stream": "stdout",
       "text": [
        "2.90304730917e-05\n",
        "[1.2183077773475874, 1.6293819563781591, -0.00063417795552428891, -0.0035481519815169101, 0.40637255677103667, 1.2173168079297072, 0.19823443283720307, 74.661011627321855, 327.22431449116169, -0.0033676414180020277, 0.035086189360400512, 313.90996739979647, 74.669396497301108, 0.00018473748694135977, -1.0586730917527122e-07, array([ -1.77151416e-14,   1.59894539e-14,   2.63560171e+00]), array([ -3.14216779e-12,  -7.49397953e-12,  -1.76323743e-04])] "
       ]
      },
      {
       "output_type": "stream",
       "stream": "stdout",
       "text": [
        "2.90304928453e-05\n",
        "[1.2183077773475874, 1.6293819563781591, -0.00063417795552428891, -0.0035481519815169101, 0.40637255677103667, 1.2173168079297072, 0.19823443283720307, 74.661011627321855, 327.22431449116169, -0.0033676414180020277, 0.035086189360400512, 313.90996739979647, 74.669396482399947, 0.00018475238810255362, -1.0586730917527122e-07, array([ -1.77151416e-14,   1.59894539e-14,   2.63560171e+00]), array([ -3.14216779e-12,  -7.49397953e-12,  -1.76323743e-04])] "
       ]
      },
      {
       "output_type": "stream",
       "stream": "stdout",
       "text": [
        "2.9030493137e-05\n",
        "[1.2183077773475874, 1.6293819563781591, -0.00063417795552428891, -0.0035481519815169101, 0.40637255677103667, 1.2173168079297072, 0.19823443283720307, 74.661011627321855, 327.22431449116169, -0.0033676414180020277, 0.035086189360400512, 313.90996739979647, 74.669396482399947, 0.00018473748694135977, -9.0966147981423565e-08, array([ -1.77151416e-14,   1.59894539e-14,   2.63560171e+00]), array([ -3.14216779e-12,  -7.49397953e-12,  -1.76323743e-04])] "
       ]
      },
      {
       "output_type": "stream",
       "stream": "stdout",
       "text": [
        "2.903049285e-05\n",
        "[1.2183077773475874, 1.6293819563781591, -0.00063417795552428891, -0.0035481519815169101, 0.40637255677103667, 1.2173168079297072, 0.19823443283720307, 74.661011627321855, 327.22431449116169, -0.0033676414180020277, 0.035086189360400512, 313.90996739979647, 74.669396482399947, 0.00018473748694135977, -1.0586730917527122e-07, array([  1.49011435e-08,   1.59894539e-14,   2.63560171e+00]), array([ -3.14216779e-12,  -7.49397953e-12,  -1.76323743e-04])] "
       ]
      },
      {
       "output_type": "stream",
       "stream": "stdout",
       "text": [
        "2.90304928502e-05\n",
        "[1.2183077773475874, 1.6293819563781591, -0.00063417795552428891, -0.0035481519815169101, 0.40637255677103667, 1.2173168079297072, 0.19823443283720307, 74.661011627321855, 327.22431449116169, -0.0033676414180020277, 0.035086189360400512, 313.90996739979647, 74.669396482399947, 0.00018473748694135977, -1.0586730917527122e-07, array([ -1.77151416e-14,   1.49011772e-08,   2.63560171e+00]), array([ -3.14216779e-12,  -7.49397953e-12,  -1.76323743e-04])] "
       ]
      },
      {
       "output_type": "stream",
       "stream": "stdout",
       "text": [
        "2.90304928502e-05\n",
        "[1.2183077773475874, 1.6293819563781591, -0.00063417795552428891, -0.0035481519815169101, 0.40637255677103667, 1.2173168079297072, 0.19823443283720307, 74.661011627321855, 327.22431449116169, -0.0033676414180020277, 0.035086189360400512, 313.90996739979647, 74.669396482399947, 0.00018473748694135977, -1.0586730917527122e-07, array([ -1.77151416e-14,   1.59894539e-14,   2.63560172e+00]), array([ -3.14216779e-12,  -7.49397953e-12,  -1.76323743e-04])] "
       ]
      },
      {
       "output_type": "stream",
       "stream": "stdout",
       "text": [
        "2.90304795695e-05\n",
        "[1.2183077773475874, 1.6293819563781591, -0.00063417795552428891, -0.0035481519815169101, 0.40637255677103667, 1.2173168079297072, 0.19823443283720307, 74.661011627321855, 327.22431449116169, -0.0033676414180020277, 0.035086189360400512, 313.90996739979647, 74.669396482399947, 0.00018473748694135977, -1.0586730917527122e-07, array([ -1.77151416e-14,   1.59894539e-14,   2.63560171e+00]), array([  1.48980190e-08,  -7.49397953e-12,  -1.76323743e-04])] "
       ]
      },
      {
       "output_type": "stream",
       "stream": "stdout",
       "text": [
        "2.90304928502e-05\n",
        "[1.2183077773475874, 1.6293819563781591, -0.00063417795552428891, -0.0035481519815169101, 0.40637255677103667, 1.2173168079297072, 0.19823443283720307, 74.661011627321855, 327.22431449116169, -0.0033676414180020277, 0.035086189360400512, 313.90996739979647, 74.669396482399947, 0.00018473748694135977, -1.0586730917527122e-07, array([ -1.77151416e-14,   1.59894539e-14,   2.63560171e+00]), array([ -3.14216779e-12,   1.48936672e-08,  -1.76323743e-04])] "
       ]
      },
      {
       "output_type": "stream",
       "stream": "stdout",
       "text": [
        "2.90304928502e-05\n",
        "[1.2183077773475874, 1.6293819563781591, -0.00063417795552428891, -0.0035481519815169101, 0.40637255677103667, 1.2173168079297072, 0.19823443283720307, 74.661011627321855, 327.22431449116169, -0.0033676414180020277, 0.035086189360400512, 313.90996739979647, 74.669396482399947, 0.00018473748694135977, -1.0586730917527122e-07, array([ -1.77151416e-14,   1.59894539e-14,   2.63560171e+00]), array([ -3.14216779e-12,  -7.49397953e-12,  -1.76308842e-04])] "
       ]
      },
      {
       "output_type": "stream",
       "stream": "stdout",
       "text": [
        "2.90301367171e-05\n",
        "[1.2175316663784497, 1.6293837492401908, -0.0002543784925255751, -0.0042115660308648419, 0.40582970499462029, 1.2172162391523356, 0.19738704643138918, 74.661422146799623, 327.22550260655885, -0.0033706845756195131, 0.035134518279991263, 313.91600272020628, 74.669398161180126, 0.00021300508072166974, -1.1479091965670448e-07, array([ -2.30546377e-14,   2.71509296e-14,   2.63921203e+00]), array([ -5.05967853e-12,  -1.04627024e-11,  -1.71293272e-04])] "
       ]
      },
      {
       "output_type": "stream",
       "stream": "stdout",
       "text": [
        "2.23802432949e-05\n",
        "[1.2175316663784497, 1.6293837492401908, -0.0002543784925255751, -0.0042115660308648419, 0.40582970499462029, 1.2172162391523356, 0.19738704643138918, 74.661422146799623, 327.22550260655885, -0.0033706845756195131, 0.035134518279991263, 313.91600272020628, 74.669398161180126, 0.00021300508072166974, -1.1479091965670448e-07, array([ -2.30546377e-14,   2.71509296e-14,   2.63921203e+00]), array([ -5.05967853e-12,  -1.04627024e-11,  -1.71293272e-04])] "
       ]
      },
      {
       "output_type": "stream",
       "stream": "stdout",
       "text": [
        "2.23802432949e-05\n",
        "[1.2175316812796109, 1.6293837492401908, -0.0002543784925255751, -0.0042115660308648419, 0.40582970499462029, 1.2172162391523356, 0.19738704643138918, 74.661422146799623, 327.22550260655885, -0.0033706845756195131, 0.035134518279991263, 313.91600272020628, 74.669398161180126, 0.00021300508072166974, -1.1479091965670448e-07, array([ -2.30546377e-14,   2.71509296e-14,   2.63921203e+00]), array([ -5.05967853e-12,  -1.04627024e-11,  -1.71293272e-04])] "
       ]
      },
      {
       "output_type": "stream",
       "stream": "stdout",
       "text": [
        "2.23802429589e-05\n",
        "[1.2175316663784497, 1.629383764141352, -0.0002543784925255751, -0.0042115660308648419, 0.40582970499462029, 1.2172162391523356, 0.19738704643138918, 74.661422146799623, 327.22550260655885, -0.0033706845756195131, 0.035134518279991263, 313.91600272020628, 74.669398161180126, 0.00021300508072166974, -1.1479091965670448e-07, array([ -2.30546377e-14,   2.71509296e-14,   2.63921203e+00]), array([ -5.05967853e-12,  -1.04627024e-11,  -1.71293272e-04])] "
       ]
      },
      {
       "output_type": "stream",
       "stream": "stdout",
       "text": [
        "2.2380084454e-05\n",
        "[1.2175316663784497, 1.6293837492401908, -0.00025436359136438126, -0.0042115660308648419, 0.40582970499462029, 1.2172162391523356, 0.19738704643138918, 74.661422146799623, 327.22550260655885, -0.0033706845756195131, 0.035134518279991263, 313.91600272020628, 74.669398161180126, 0.00021300508072166974, -1.1479091965670448e-07, array([ -2.30546377e-14,   2.71509296e-14,   2.63921203e+00]), array([ -5.05967853e-12,  -1.04627024e-11,  -1.71293272e-04])] "
       ]
      },
      {
       "output_type": "stream",
       "stream": "stdout",
       "text": [
        "2.23802427767e-05\n",
        "[1.2175316663784497, 1.6293837492401908, -0.0002543784925255751, -0.004211551129703648, 0.40582970499462029, 1.2172162391523356, 0.19738704643138918, 74.661422146799623, 327.22550260655885, -0.0033706845756195131, 0.035134518279991263, 313.91600272020628, 74.669398161180126, 0.00021300508072166974, -1.1479091965670448e-07, array([ -2.30546377e-14,   2.71509296e-14,   2.63921203e+00]), array([ -5.05967853e-12,  -1.04627024e-11,  -1.71293272e-04])] "
       ]
      },
      {
       "output_type": "stream",
       "stream": "stdout",
       "text": [
        "2.23802353877e-05\n",
        "[1.2175316663784497, 1.6293837492401908, -0.0002543784925255751, -0.0042115660308648419, 0.40582971989578148, 1.2172162391523356, 0.19738704643138918, 74.661422146799623, 327.22550260655885, -0.0033706845756195131, 0.035134518279991263, 313.91600272020628, 74.669398161180126, 0.00021300508072166974, -1.1479091965670448e-07, array([ -2.30546377e-14,   2.71509296e-14,   2.63921203e+00]), array([ -5.05967853e-12,  -1.04627024e-11,  -1.71293272e-04])] "
       ]
      },
      {
       "output_type": "stream",
       "stream": "stdout",
       "text": [
        "2.23802210331e-05\n",
        "[1.2175316663784497, 1.6293837492401908, -0.0002543784925255751, -0.0042115660308648419, 0.40582970499462029, 1.2172162540534968, 0.19738704643138918, 74.661422146799623, 327.22550260655885, -0.0033706845756195131, 0.035134518279991263, 313.91600272020628, 74.669398161180126, 0.00021300508072166974, -1.1479091965670448e-07, array([ -2.30546377e-14,   2.71509296e-14,   2.63921203e+00]), array([ -5.05967853e-12,  -1.04627024e-11,  -1.71293272e-04])] "
       ]
      },
      {
       "output_type": "stream",
       "stream": "stdout",
       "text": [
        "2.23802434937e-05\n",
        "[1.2175316663784497, 1.6293837492401908, -0.0002543784925255751, -0.0042115660308648419, 0.40582970499462029, 1.2172162391523356, 0.19738706133255038, 74.661422146799623, 327.22550260655885, -0.0033706845756195131, 0.035134518279991263, 313.91600272020628, 74.669398161180126, 0.00021300508072166974, -1.1479091965670448e-07, array([ -2.30546377e-14,   2.71509296e-14,   2.63921203e+00]), array([ -5.05967853e-12,  -1.04627024e-11,  -1.71293272e-04])] "
       ]
      },
      {
       "output_type": "stream",
       "stream": "stdout",
       "text": [
        "2.23802447747e-05\n",
        "[1.2175316663784497, 1.6293837492401908, -0.0002543784925255751, -0.0042115660308648419, 0.40582970499462029, 1.2172162391523356, 0.19738704643138918, 74.661422161700784, 327.22550260655885, -0.0033706845756195131, 0.035134518279991263, 313.91600272020628, 74.669398161180126, 0.00021300508072166974, -1.1479091965670448e-07, array([ -2.30546377e-14,   2.71509296e-14,   2.63921203e+00]), array([ -5.05967853e-12,  -1.04627024e-11,  -1.71293272e-04])] "
       ]
      },
      {
       "output_type": "stream",
       "stream": "stdout",
       "text": [
        "2.23802206892e-05\n",
        "[1.2175316663784497, 1.6293837492401908, -0.0002543784925255751, -0.0042115660308648419, 0.40582970499462029, 1.2172162391523356, 0.19738704643138918, 74.661422146799623, 327.22550262146001, -0.0033706845756195131, 0.035134518279991263, 313.91600272020628, 74.669398161180126, 0.00021300508072166974, -1.1479091965670448e-07, array([ -2.30546377e-14,   2.71509296e-14,   2.63921203e+00]), array([ -5.05967853e-12,  -1.04627024e-11,  -1.71293272e-04])] "
       ]
      },
      {
       "output_type": "stream",
       "stream": "stdout",
       "text": [
        "2.23802458792e-05\n",
        "[1.2175316663784497, 1.6293837492401908, -0.0002543784925255751, -0.0042115660308648419, 0.40582970499462029, 1.2172162391523356, 0.19738704643138918, 74.661422146799623, 327.22550260655885, -0.0033706696744583192, 0.035134518279991263, 313.91600272020628, 74.669398161180126, 0.00021300508072166974, -1.1479091965670448e-07, array([ -2.30546377e-14,   2.71509296e-14,   2.63921203e+00]), array([ -5.05967853e-12,  -1.04627024e-11,  -1.71293272e-04])] "
       ]
      },
      {
       "output_type": "stream",
       "stream": "stdout",
       "text": [
        "2.23802548558e-05\n",
        "[1.2175316663784497, 1.6293837492401908, -0.0002543784925255751, -0.0042115660308648419, 0.40582970499462029, 1.2172162391523356, 0.19738704643138918, 74.661422146799623, 327.22550260655885, -0.0033706845756195131, 0.035134533181152457, 313.91600272020628, 74.669398161180126, 0.00021300508072166974, -1.1479091965670448e-07, array([ -2.30546377e-14,   2.71509296e-14,   2.63921203e+00]), array([ -5.05967853e-12,  -1.04627024e-11,  -1.71293272e-04])] "
       ]
      },
      {
       "output_type": "stream",
       "stream": "stdout",
       "text": [
        "2.23806032256e-05\n",
        "[1.2175316663784497, 1.6293837492401908, -0.0002543784925255751, -0.0042115660308648419, 0.40582970499462029, 1.2172162391523356, 0.19738704643138918, 74.661422146799623, 327.22550260655885, -0.0033706845756195131, 0.035134518279991263, 313.91600273510744, 74.669398161180126, 0.00021300508072166974, -1.1479091965670448e-07, array([ -2.30546377e-14,   2.71509296e-14,   2.63921203e+00]), array([ -5.05967853e-12,  -1.04627024e-11,  -1.71293272e-04])] "
       ]
      },
      {
       "output_type": "stream",
       "stream": "stdout",
       "text": [
        "2.23802304847e-05\n",
        "[1.2175316663784497, 1.6293837492401908, -0.0002543784925255751, -0.0042115660308648419, 0.40582970499462029, 1.2172162391523356, 0.19738704643138918, 74.661422146799623, 327.22550260655885, -0.0033706845756195131, 0.035134518279991263, 313.91600272020628, 74.669398176081287, 0.00021300508072166974, -1.1479091965670448e-07, array([ -2.30546377e-14,   2.71509296e-14,   2.63921203e+00]), array([ -5.05967853e-12,  -1.04627024e-11,  -1.71293272e-04])] "
       ]
      },
      {
       "output_type": "stream",
       "stream": "stdout",
       "text": [
        "2.2380243291e-05\n",
        "[1.2175316663784497, 1.6293837492401908, -0.0002543784925255751, -0.0042115660308648419, 0.40582970499462029, 1.2172162391523356, 0.19738704643138918, 74.661422146799623, 327.22550260655885, -0.0033706845756195131, 0.035134518279991263, 313.91600272020628, 74.669398161180126, 0.00021301998188286359, -1.1479091965670448e-07, array([ -2.30546377e-14,   2.71509296e-14,   2.63921203e+00]), array([ -5.05967853e-12,  -1.04627024e-11,  -1.71293272e-04])] "
       ]
      },
      {
       "output_type": "stream",
       "stream": "stdout",
       "text": [
        "2.23802436287e-05\n",
        "[1.2175316663784497, 1.6293837492401908, -0.0002543784925255751, -0.0042115660308648419, 0.40582970499462029, 1.2172162391523356, 0.19738704643138918, 74.661422146799623, 327.22550260655885, -0.0033706845756195131, 0.035134518279991263, 313.91600272020628, 74.669398161180126, 0.00021300508072166974, -9.9889758462856825e-08, array([ -2.30546377e-14,   2.71509296e-14,   2.63921203e+00]), array([ -5.05967853e-12,  -1.04627024e-11,  -1.71293272e-04])] "
       ]
      },
      {
       "output_type": "stream",
       "stream": "stdout",
       "text": [
        "2.23802432949e-05\n",
        "[1.2175316663784497, 1.6293837492401908, -0.0002543784925255751, -0.0042115660308648419, 0.40582970499462029, 1.2172162391523356, 0.19738704643138918, 74.661422146799623, 327.22550260655885, -0.0033706845756195131, 0.035134518279991263, 313.91600272020628, 74.669398161180126, 0.00021300508072166974, -1.1479091965670448e-07, array([  1.49011381e-08,   2.71509296e-14,   2.63921203e+00]), array([ -5.05967853e-12,  -1.04627024e-11,  -1.71293272e-04])] "
       ]
      },
      {
       "output_type": "stream",
       "stream": "stdout",
       "text": [
        "2.23802432949e-05\n",
        "[1.2175316663784497, 1.6293837492401908, -0.0002543784925255751, -0.0042115660308648419, 0.40582970499462029, 1.2172162391523356, 0.19738704643138918, 74.661422146799623, 327.22550260655885, -0.0033706845756195131, 0.035134518279991263, 313.91600272020628, 74.669398161180126, 0.00021300508072166974, -1.1479091965670448e-07, array([ -2.30546377e-14,   1.49011883e-08,   2.63921203e+00]), array([ -5.05967853e-12,  -1.04627024e-11,  -1.71293272e-04])] "
       ]
      },
      {
       "output_type": "stream",
       "stream": "stdout",
       "text": [
        "2.23802432949e-05\n",
        "[1.2175316663784497, 1.6293837492401908, -0.0002543784925255751, -0.0042115660308648419, 0.40582970499462029, 1.2172162391523356, 0.19738704643138918, 74.661422146799623, 327.22550260655885, -0.0033706845756195131, 0.035134518279991263, 313.91600272020628, 74.669398161180126, 0.00021300508072166974, -1.1479091965670448e-07, array([ -2.30546377e-14,   2.71509296e-14,   2.63921205e+00]), array([ -5.05967853e-12,  -1.04627024e-11,  -1.71293272e-04])] "
       ]
      },
      {
       "output_type": "stream",
       "stream": "stdout",
       "text": [
        "2.23802376675e-05\n",
        "[1.2175316663784497, 1.6293837492401908, -0.0002543784925255751, -0.0042115660308648419, 0.40582970499462029, 1.2172162391523356, 0.19738704643138918, 74.661422146799623, 327.22550260655885, -0.0033706845756195131, 0.035134518279991263, 313.91600272020628, 74.669398161180126, 0.00021300508072166974, -1.1479091965670448e-07, array([ -2.30546377e-14,   2.71509296e-14,   2.63921203e+00]), array([  1.48961015e-08,  -1.04627024e-11,  -1.71293272e-04])] "
       ]
      },
      {
       "output_type": "stream",
       "stream": "stdout",
       "text": [
        "2.23802432949e-05\n",
        "[1.2175316663784497, 1.6293837492401908, -0.0002543784925255751, -0.0042115660308648419, 0.40582970499462029, 1.2172162391523356, 0.19738704643138918, 74.661422146799623, 327.22550260655885, -0.0033706845756195131, 0.035134518279991263, 313.91600272020628, 74.669398161180126, 0.00021300508072166974, -1.1479091965670448e-07, array([ -2.30546377e-14,   2.71509296e-14,   2.63921203e+00]), array([ -5.05967853e-12,   1.48906985e-08,  -1.71293272e-04])] "
       ]
      },
      {
       "output_type": "stream",
       "stream": "stdout",
       "text": [
        "2.23802432949e-05\n",
        "[1.2175316663784497, 1.6293837492401908, -0.0002543784925255751, -0.0042115660308648419, 0.40582970499462029, 1.2172162391523356, 0.19738704643138918, 74.661422146799623, 327.22550260655885, -0.0033706845756195131, 0.035134518279991263, 313.91600272020628, 74.669398161180126, 0.00021300508072166974, -1.1479091965670448e-07, array([ -2.30546377e-14,   2.71509296e-14,   2.63921203e+00]), array([ -5.05967853e-12,  -1.04627024e-11,  -1.71278371e-04])] "
       ]
      },
      {
       "output_type": "stream",
       "stream": "stdout",
       "text": [
        "2.23801090676e-05\n",
        "[1.2166791063343048, 1.6293863237094519, 0.00027532928907437364, -0.003584154620410084, 0.40593464434488052, 1.2170429242030956, 0.19593699694966668, 74.663765644246538, 327.2272329658511, -0.0033593879242703917, 0.035212284080590683, 313.92642503389999, 74.66940115483186, 0.00023074447771417536, -1.5469335389924451e-07, array([ -2.50348529e-14,   4.43217259e-14,   2.64514939e+00]), array([ -8.46238194e-12,  -1.55539450e-11,  -1.48949285e-04])] "
       ]
      },
      {
       "output_type": "stream",
       "stream": "stdout",
       "text": [
        "1.30053729159e-05\n",
        "[1.2166791063343048, 1.6293863237094519, 0.00027532928907437364, -0.003584154620410084, 0.40593464434488052, 1.2170429242030956, 0.19593699694966668, 74.663765644246538, 327.2272329658511, -0.0033593879242703917, 0.035212284080590683, 313.92642503389999, 74.66940115483186, 0.00023074447771417536, -1.5469335389924451e-07, array([ -2.50348529e-14,   4.43217259e-14,   2.64514939e+00]), array([ -8.46238194e-12,  -1.55539450e-11,  -1.48949285e-04])] "
       ]
      },
      {
       "output_type": "stream",
       "stream": "stdout",
       "text": [
        "1.30053729159e-05\n",
        "[1.216679121235466, 1.6293863237094519, 0.00027532928907437364, -0.003584154620410084, 0.40593464434488052, 1.2170429242030956, 0.19593699694966668, 74.663765644246538, 327.2272329658511, -0.0033593879242703917, 0.035212284080590683, 313.92642503389999, 74.66940115483186, 0.00023074447771417536, -1.5469335389924451e-07, array([ -2.50348529e-14,   4.43217259e-14,   2.64514939e+00]), array([ -8.46238194e-12,  -1.55539450e-11,  -1.48949285e-04])] "
       ]
      },
      {
       "output_type": "stream",
       "stream": "stdout",
       "text": [
        "1.30053647203e-05\n",
        "[1.2166791063343048, 1.6293863386106131, 0.00027532928907437364, -0.003584154620410084, 0.40593464434488052, 1.2170429242030956, 0.19593699694966668, 74.663765644246538, 327.2272329658511, -0.0033593879242703917, 0.035212284080590683, 313.92642503389999, 74.66940115483186, 0.00023074447771417536, -1.5469335389924451e-07, array([ -2.50348529e-14,   4.43217259e-14,   2.64514939e+00]), array([ -8.46238194e-12,  -1.55539450e-11,  -1.48949285e-04])] "
       ]
      },
      {
       "output_type": "stream",
       "stream": "stdout",
       "text": [
        "1.30057823321e-05\n",
        "[1.2166791063343048, 1.6293863237094519, 0.00027534419023556749, -0.003584154620410084, 0.40593464434488052, 1.2170429242030956, 0.19593699694966668, 74.663765644246538, 327.2272329658511, -0.0033593879242703917, 0.035212284080590683, 313.92642503389999, 74.66940115483186, 0.00023074447771417536, -1.5469335389924451e-07, array([ -2.50348529e-14,   4.43217259e-14,   2.64514939e+00]), array([ -8.46238194e-12,  -1.55539450e-11,  -1.48949285e-04])] "
       ]
      },
      {
       "output_type": "stream",
       "stream": "stdout",
       "text": [
        "1.30053763241e-05\n",
        "[1.2166791063343048, 1.6293863237094519, 0.00027532928907437364, -0.0035841397192488901, 0.40593464434488052, 1.2170429242030956, 0.19593699694966668, 74.663765644246538, 327.2272329658511, -0.0033593879242703917, 0.035212284080590683, 313.92642503389999, 74.66940115483186, 0.00023074447771417536, -1.5469335389924451e-07, array([ -2.50348529e-14,   4.43217259e-14,   2.64514939e+00]), array([ -8.46238194e-12,  -1.55539450e-11,  -1.48949285e-04])] "
       ]
      },
      {
       "output_type": "stream",
       "stream": "stdout",
       "text": [
        "1.30053492292e-05\n",
        "[1.2166791063343048, 1.6293863237094519, 0.00027532928907437364, -0.003584154620410084, 0.40593465924604172, 1.2170429242030956, 0.19593699694966668, 74.663765644246538, 327.2272329658511, -0.0033593879242703917, 0.035212284080590683, 313.92642503389999, 74.66940115483186, 0.00023074447771417536, -1.5469335389924451e-07, array([ -2.50348529e-14,   4.43217259e-14,   2.64514939e+00]), array([ -8.46238194e-12,  -1.55539450e-11,  -1.48949285e-04])] "
       ]
      },
      {
       "output_type": "stream",
       "stream": "stdout",
       "text": [
        "1.30053608229e-05\n",
        "[1.2166791063343048, 1.6293863237094519, 0.00027532928907437364, -0.003584154620410084, 0.40593464434488052, 1.2170429391042568, 0.19593699694966668, 74.663765644246538, 327.2272329658511, -0.0033593879242703917, 0.035212284080590683, 313.92642503389999, 74.66940115483186, 0.00023074447771417536, -1.5469335389924451e-07, array([ -2.50348529e-14,   4.43217259e-14,   2.64514939e+00]), array([ -8.46238194e-12,  -1.55539450e-11,  -1.48949285e-04])] "
       ]
      },
      {
       "output_type": "stream",
       "stream": "stdout",
       "text": [
        "1.30053729662e-05\n",
        "[1.2166791063343048, 1.6293863237094519, 0.00027532928907437364, -0.003584154620410084, 0.40593464434488052, 1.2170429242030956, 0.19593701185082787, 74.663765644246538, 327.2272329658511, -0.0033593879242703917, 0.035212284080590683, 313.92642503389999, 74.66940115483186, 0.00023074447771417536, -1.5469335389924451e-07, array([ -2.50348529e-14,   4.43217259e-14,   2.64514939e+00]), array([ -8.46238194e-12,  -1.55539450e-11,  -1.48949285e-04])] "
       ]
      },
      {
       "output_type": "stream",
       "stream": "stdout",
       "text": [
        "1.3005373383e-05\n",
        "[1.2166791063343048, 1.6293863237094519, 0.00027532928907437364, -0.003584154620410084, 0.40593464434488052, 1.2170429242030956, 0.19593699694966668, 74.6637656591477, 327.2272329658511, -0.0033593879242703917, 0.035212284080590683, 313.92642503389999, 74.66940115483186, 0.00023074447771417536, -1.5469335389924451e-07, array([ -2.50348529e-14,   4.43217259e-14,   2.64514939e+00]), array([ -8.46238194e-12,  -1.55539450e-11,  -1.48949285e-04])] "
       ]
      },
      {
       "output_type": "stream",
       "stream": "stdout",
       "text": [
        "1.30053599961e-05\n",
        "[1.2166791063343048, 1.6293863237094519, 0.00027532928907437364, -0.003584154620410084, 0.40593464434488052, 1.2170429242030956, 0.19593699694966668, 74.663765644246538, 327.22723298075226, -0.0033593879242703917, 0.035212284080590683, 313.92642503389999, 74.66940115483186, 0.00023074447771417536, -1.5469335389924451e-07, array([ -2.50348529e-14,   4.43217259e-14,   2.64514939e+00]), array([ -8.46238194e-12,  -1.55539450e-11,  -1.48949285e-04])] "
       ]
      },
      {
       "output_type": "stream",
       "stream": "stdout",
       "text": [
        "1.30053727065e-05\n",
        "[1.2166791063343048, 1.6293863237094519, 0.00027532928907437364, -0.003584154620410084, 0.40593464434488052, 1.2170429242030956, 0.19593699694966668, 74.663765644246538, 327.2272329658511, -0.0033593730231091978, 0.035212284080590683, 313.92642503389999, 74.66940115483186, 0.00023074447771417536, -1.5469335389924451e-07, array([ -2.50348529e-14,   4.43217259e-14,   2.64514939e+00]), array([ -8.46238194e-12,  -1.55539450e-11,  -1.48949285e-04])] "
       ]
      },
      {
       "output_type": "stream",
       "stream": "stdout",
       "text": [
        "1.30053514559e-05\n",
        "[1.2166791063343048, 1.6293863237094519, 0.00027532928907437364, -0.003584154620410084, 0.40593464434488052, 1.2170429242030956, 0.19593699694966668, 74.663765644246538, 327.2272329658511, -0.0033593879242703917, 0.035212298981751877, 313.92642503389999, 74.66940115483186, 0.00023074447771417536, -1.5469335389924451e-07, array([ -2.50348529e-14,   4.43217259e-14,   2.64514939e+00]), array([ -8.46238194e-12,  -1.55539450e-11,  -1.48949285e-04])] "
       ]
      },
      {
       "output_type": "stream",
       "stream": "stdout",
       "text": [
        "1.30047556382e-05\n",
        "[1.2166791063343048, 1.6293863237094519, 0.00027532928907437364, -0.003584154620410084, 0.40593464434488052, 1.2170429242030956, 0.19593699694966668, 74.663765644246538, 327.2272329658511, -0.0033593879242703917, 0.035212284080590683, 313.92642504880115, 74.66940115483186, 0.00023074447771417536, -1.5469335389924451e-07, array([ -2.50348529e-14,   4.43217259e-14,   2.64514939e+00]), array([ -8.46238194e-12,  -1.55539450e-11,  -1.48949285e-04])] "
       ]
      },
      {
       "output_type": "stream",
       "stream": "stdout",
       "text": [
        "1.30053714257e-05\n",
        "[1.2166791063343048, 1.6293863237094519, 0.00027532928907437364, -0.003584154620410084, 0.40593464434488052, 1.2170429242030956, 0.19593699694966668, 74.663765644246538, 327.2272329658511, -0.0033593879242703917, 0.035212284080590683, 313.92642503389999, 74.669401169733021, 0.00023074447771417536, -1.5469335389924451e-07, array([ -2.50348529e-14,   4.43217259e-14,   2.64514939e+00]), array([ -8.46238194e-12,  -1.55539450e-11,  -1.48949285e-04])] "
       ]
      },
      {
       "output_type": "stream",
       "stream": "stdout",
       "text": [
        "1.3005372915e-05\n",
        "[1.2166791063343048, 1.6293863237094519, 0.00027532928907437364, -0.003584154620410084, 0.40593464434488052, 1.2170429242030956, 0.19593699694966668, 74.663765644246538, 327.2272329658511, -0.0033593879242703917, 0.035212284080590683, 313.92642503389999, 74.66940115483186, 0.00023075937887536921, -1.5469335389924451e-07, array([ -2.50348529e-14,   4.43217259e-14,   2.64514939e+00]), array([ -8.46238194e-12,  -1.55539450e-11,  -1.48949285e-04])] "
       ]
      },
      {
       "output_type": "stream",
       "stream": "stdout",
       "text": [
        "1.30053731751e-05\n",
        "[1.2166791063343048, 1.6293863237094519, 0.00027532928907437364, -0.003584154620410084, 0.40593464434488052, 1.2170429242030956, 0.19593699694966668, 74.663765644246538, 327.2272329658511, -0.0033593879242703917, 0.035212284080590683, 313.92642503389999, 74.66940115483186, 0.00023074447771417536, -1.3979219270539686e-07, array([ -2.50348529e-14,   4.43217259e-14,   2.64514939e+00]), array([ -8.46238194e-12,  -1.55539450e-11,  -1.48949285e-04])] "
       ]
      },
      {
       "output_type": "stream",
       "stream": "stdout",
       "text": [
        "1.30053729159e-05\n",
        "[1.2166791063343048, 1.6293863237094519, 0.00027532928907437364, -0.003584154620410084, 0.40593464434488052, 1.2170429242030956, 0.19593699694966668, 74.663765644246538, 327.2272329658511, -0.0033593879242703917, 0.035212284080590683, 313.92642503389999, 74.66940115483186, 0.00023074447771417536, -1.5469335389924451e-07, array([  1.49011362e-08,   4.43217259e-14,   2.64514939e+00]), array([ -8.46238194e-12,  -1.55539450e-11,  -1.48949285e-04])] "
       ]
      },
      {
       "output_type": "stream",
       "stream": "stdout",
       "text": [
        "1.30053729159e-05\n",
        "[1.2166791063343048, 1.6293863237094519, 0.00027532928907437364, -0.003584154620410084, 0.40593464434488052, 1.2170429242030956, 0.19593699694966668, 74.663765644246538, 327.2272329658511, -0.0033593879242703917, 0.035212284080590683, 313.92642503389999, 74.66940115483186, 0.00023074447771417536, -1.5469335389924451e-07, array([ -2.50348529e-14,   1.49012055e-08,   2.64514939e+00]), array([ -8.46238194e-12,  -1.55539450e-11,  -1.48949285e-04])] "
       ]
      },
      {
       "output_type": "stream",
       "stream": "stdout",
       "text": [
        "1.30053729159e-05\n",
        "[1.2166791063343048, 1.6293863237094519, 0.00027532928907437364, -0.003584154620410084, 0.40593464434488052, 1.2170429242030956, 0.19593699694966668, 74.663765644246538, 327.2272329658511, -0.0033593879242703917, 0.035212284080590683, 313.92642503389999, 74.66940115483186, 0.00023074447771417536, -1.5469335389924451e-07, array([ -2.50348529e-14,   4.43217259e-14,   2.64514940e+00]), array([ -8.46238194e-12,  -1.55539450e-11,  -1.48949285e-04])] "
       ]
      },
      {
       "output_type": "stream",
       "stream": "stdout",
       "text": [
        "1.3005376197e-05\n",
        "[1.2166791063343048, 1.6293863237094519, 0.00027532928907437364, -0.003584154620410084, 0.40593464434488052, 1.2170429242030956, 0.19593699694966668, 74.663765644246538, 327.2272329658511, -0.0033593879242703917, 0.035212284080590683, 313.92642503389999, 74.66940115483186, 0.00023074447771417536, -1.5469335389924451e-07, array([ -2.50348529e-14,   4.43217259e-14,   2.64514939e+00]), array([  1.48926988e-08,  -1.55539450e-11,  -1.48949285e-04])] "
       ]
      },
      {
       "output_type": "stream",
       "stream": "stdout",
       "text": [
        "1.30053729159e-05\n",
        "[1.2166791063343048, 1.6293863237094519, 0.00027532928907437364, -0.003584154620410084, 0.40593464434488052, 1.2170429242030956, 0.19593699694966668, 74.663765644246538, 327.2272329658511, -0.0033593879242703917, 0.035212284080590683, 313.92642503389999, 74.66940115483186, 0.00023074447771417536, -1.5469335389924451e-07, array([ -2.50348529e-14,   4.43217259e-14,   2.64514939e+00]), array([ -8.46238194e-12,   1.48856072e-08,  -1.48949285e-04])] "
       ]
      },
      {
       "output_type": "stream",
       "stream": "stdout",
       "text": [
        "1.30053729159e-05\n",
        "[1.2166791063343048, 1.6293863237094519, 0.00027532928907437364, -0.003584154620410084, 0.40593464434488052, 1.2170429242030956, 0.19593699694966668, 74.663765644246538, 327.2272329658511, -0.0033593879242703917, 0.035212284080590683, 313.92642503389999, 74.66940115483186, 0.00023074447771417536, -1.5469335389924451e-07, array([ -2.50348529e-14,   4.43217259e-14,   2.64514939e+00]), array([ -8.46238194e-12,  -1.55539450e-11,  -1.48934383e-04])] "
       ]
      },
      {
       "output_type": "stream",
       "stream": "stdout",
       "text": [
        "1.30055709854e-05\n",
        "[1.2166712866873974, 1.6293878006087323, 0.00035663491910189701, -0.0016534852350283862, 0.40685667163880918, 1.2169292030308907, 0.19499268515788243, 74.666509985912128, 327.2282622233293, -0.0033406650110409442, 0.035257544243546664, 313.93316050471992, 74.669403109312782, 0.00021868861511648214, -1.6992885760812884e-07, array([ -3.65186459e-14,   5.61606398e-14,   2.64882051e+00]), array([ -1.09967897e-11,  -1.90168312e-11,  -1.23183417e-04])] "
       ]
      },
      {
       "output_type": "stream",
       "stream": "stdout",
       "text": [
        "8.00261793746e-06\n",
        "[1.2166712866873974, 1.6293878006087323, 0.00035663491910189701, -0.0016534852350283862, 0.40685667163880918, 1.2169292030308907, 0.19499268515788243, 74.666509985912128, 327.2282622233293, -0.0033406650110409442, 0.035257544243546664, 313.93316050471992, 74.669403109312782, 0.00021868861511648214, -1.6992885760812884e-07, array([ -3.65186459e-14,   5.61606398e-14,   2.64882051e+00]), array([ -1.09967897e-11,  -1.90168312e-11,  -1.23183417e-04])] "
       ]
      },
      {
       "output_type": "stream",
       "stream": "stdout",
       "text": [
        "8.00261793746e-06\n",
        "[1.2166713015885586, 1.6293878006087323, 0.00035663491910189701, -0.0016534852350283862, 0.40685667163880918, 1.2169292030308907, 0.19499268515788243, 74.666509985912128, 327.2282622233293, -0.0033406650110409442, 0.035257544243546664, 313.93316050471992, 74.669403109312782, 0.00021868861511648214, -1.6992885760812884e-07, array([ -3.65186459e-14,   5.61606398e-14,   2.64882051e+00]), array([ -1.09967897e-11,  -1.90168312e-11,  -1.23183417e-04])] "
       ]
      },
      {
       "output_type": "stream",
       "stream": "stdout",
       "text": [
        "8.00261087083e-06\n",
        "[1.2166712866873974, 1.6293878155098935, 0.00035663491910189701, -0.0016534852350283862, 0.40685667163880918, 1.2169292030308907, 0.19499268515788243, 74.666509985912128, 327.2282622233293, -0.0033406650110409442, 0.035257544243546664, 313.93316050471992, 74.669403109312782, 0.00021868861511648214, -1.6992885760812884e-07, array([ -3.65186459e-14,   5.61606398e-14,   2.64882051e+00]), array([ -1.09967897e-11,  -1.90168312e-11,  -1.23183417e-04])] "
       ]
      },
      {
       "output_type": "stream",
       "stream": "stdout",
       "text": [
        "8.00307062472e-06\n",
        "[1.2166712866873974, 1.6293878006087323, 0.00035664982026309086, -0.0016534852350283862, 0.40685667163880918, 1.2169292030308907, 0.19499268515788243, 74.666509985912128, 327.2282622233293, -0.0033406650110409442, 0.035257544243546664, 313.93316050471992, 74.669403109312782, 0.00021868861511648214, -1.6992885760812884e-07, array([ -3.65186459e-14,   5.61606398e-14,   2.64882051e+00]), array([ -1.09967897e-11,  -1.90168312e-11,  -1.23183417e-04])] "
       ]
      },
      {
       "output_type": "stream",
       "stream": "stdout",
       "text": [
        "8.00262234589e-06\n",
        "[1.2166712866873974, 1.6293878006087323, 0.00035663491910189701, -0.0016534703338671923, 0.40685667163880918, 1.2169292030308907, 0.19499268515788243, 74.666509985912128, 327.2282622233293, -0.0033406650110409442, 0.035257544243546664, 313.93316050471992, 74.669403109312782, 0.00021868861511648214, -1.6992885760812884e-07, array([ -3.65186459e-14,   5.61606398e-14,   2.64882051e+00]), array([ -1.09967897e-11,  -1.90168312e-11,  -1.23183417e-04])] "
       ]
      },
      {
       "output_type": "stream",
       "stream": "stdout",
       "text": [
        "8.00259828624e-06\n",
        "[1.2166712866873974, 1.6293878006087323, 0.00035663491910189701, -0.0016534852350283862, 0.40685668653997037, 1.2169292030308907, 0.19499268515788243, 74.666509985912128, 327.2282622233293, -0.0033406650110409442, 0.035257544243546664, 313.93316050471992, 74.669403109312782, 0.00021868861511648214, -1.6992885760812884e-07, array([ -3.65186459e-14,   5.61606398e-14,   2.64882051e+00]), array([ -1.09967897e-11,  -1.90168312e-11,  -1.23183417e-04])] "
       ]
      },
      {
       "output_type": "stream",
       "stream": "stdout",
       "text": [
        "8.00261570674e-06\n",
        "[1.2166712866873974, 1.6293878006087323, 0.00035663491910189701, -0.0016534852350283862, 0.40685667163880918, 1.2169292179320519, 0.19499268515788243, 74.666509985912128, 327.2282622233293, -0.0033406650110409442, 0.035257544243546664, 313.93316050471992, 74.669403109312782, 0.00021868861511648214, -1.6992885760812884e-07, array([ -3.65186459e-14,   5.61606398e-14,   2.64882051e+00]), array([ -1.09967897e-11,  -1.90168312e-11,  -1.23183417e-04])] "
       ]
      },
      {
       "output_type": "stream",
       "stream": "stdout",
       "text": [
        "8.00261793151e-06\n",
        "[1.2166712866873974, 1.6293878006087323, 0.00035663491910189701, -0.0016534852350283862, 0.40685667163880918, 1.2169292030308907, 0.19499270005904362, 74.666509985912128, 327.2282622233293, -0.0033406650110409442, 0.035257544243546664, 313.93316050471992, 74.669403109312782, 0.00021868861511648214, -1.6992885760812884e-07, array([ -3.65186459e-14,   5.61606398e-14,   2.64882051e+00]), array([ -1.09967897e-11,  -1.90168312e-11,  -1.23183417e-04])] "
       ]
      },
      {
       "output_type": "stream",
       "stream": "stdout",
       "text": [
        "8.00261801384e-06\n",
        "[1.2166712866873974, 1.6293878006087323, 0.00035663491910189701, -0.0016534852350283862, 0.40685667163880918, 1.2169292030308907, 0.19499268515788243, 74.66651000081329, 327.2282622233293, -0.0033406650110409442, 0.035257544243546664, 313.93316050471992, 74.669403109312782, 0.00021868861511648214, -1.6992885760812884e-07, array([ -3.65186459e-14,   5.61606398e-14,   2.64882051e+00]), array([ -1.09967897e-11,  -1.90168312e-11,  -1.23183417e-04])] "
       ]
      },
      {
       "output_type": "stream",
       "stream": "stdout",
       "text": [
        "8.00261519644e-06\n",
        "[1.2166712866873974, 1.6293878006087323, 0.00035663491910189701, -0.0016534852350283862, 0.40685667163880918, 1.2169292030308907, 0.19499268515788243, 74.666509985912128, 327.22826223823046, -0.0033406650110409442, 0.035257544243546664, 313.93316050471992, 74.669403109312782, 0.00021868861511648214, -1.6992885760812884e-07, array([ -3.65186459e-14,   5.61606398e-14,   2.64882051e+00]), array([ -1.09967897e-11,  -1.90168312e-11,  -1.23183417e-04])] "
       ]
      },
      {
       "output_type": "stream",
       "stream": "stdout",
       "text": [
        "8.00261445764e-06\n",
        "[1.2166712866873974, 1.6293878006087323, 0.00035663491910189701, -0.0016534852350283862, 0.40685667163880918, 1.2169292030308907, 0.19499268515788243, 74.666509985912128, 327.2282622233293, -0.0033406501098797504, 0.035257544243546664, 313.93316050471992, 74.669403109312782, 0.00021868861511648214, -1.6992885760812884e-07, array([ -3.65186459e-14,   5.61606398e-14,   2.64882051e+00]), array([ -1.09967897e-11,  -1.90168312e-11,  -1.23183417e-04])] "
       ]
      },
      {
       "output_type": "stream",
       "stream": "stdout",
       "text": [
        "8.00259364122e-06\n",
        "[1.2166712866873974, 1.6293878006087323, 0.00035663491910189701, -0.0016534852350283862, 0.40685667163880918, 1.2169292030308907, 0.19499268515788243, 74.666509985912128, 327.2282622233293, -0.0033406650110409442, 0.035257559144707858, 313.93316050471992, 74.669403109312782, 0.00021868861511648214, -1.6992885760812884e-07, array([ -3.65186459e-14,   5.61606398e-14,   2.64882051e+00]), array([ -1.09967897e-11,  -1.90168312e-11,  -1.23183417e-04])] "
       ]
      },
      {
       "output_type": "stream",
       "stream": "stdout",
       "text": [
        "8.00190195481e-06\n",
        "[1.2166712866873974, 1.6293878006087323, 0.00035663491910189701, -0.0016534852350283862, 0.40685667163880918, 1.2169292030308907, 0.19499268515788243, 74.666509985912128, 327.2282622233293, -0.0033406650110409442, 0.035257544243546664, 313.93316051962108, 74.669403109312782, 0.00021868861511648214, -1.6992885760812884e-07, array([ -3.65186459e-14,   5.61606398e-14,   2.64882051e+00]), array([ -1.09967897e-11,  -1.90168312e-11,  -1.23183417e-04])] "
       ]
      },
      {
       "output_type": "stream",
       "stream": "stdout",
       "text": [
        "8.00262188977e-06\n",
        "[1.2166712866873974, 1.6293878006087323, 0.00035663491910189701, -0.0016534852350283862, 0.40685667163880918, 1.2169292030308907, 0.19499268515788243, 74.666509985912128, 327.2282622233293, -0.0033406650110409442, 0.035257544243546664, 313.93316050471992, 74.669403124213943, 0.00021868861511648214, -1.6992885760812884e-07, array([ -3.65186459e-14,   5.61606398e-14,   2.64882051e+00]), array([ -1.09967897e-11,  -1.90168312e-11,  -1.23183417e-04])] "
       ]
      },
      {
       "output_type": "stream",
       "stream": "stdout",
       "text": [
        "8.00261793756e-06\n",
        "[1.2166712866873974, 1.6293878006087323, 0.00035663491910189701, -0.0016534852350283862, 0.40685667163880918, 1.2169292030308907, 0.19499268515788243, 74.666509985912128, 327.2282622233293, -0.0033406650110409442, 0.035257544243546664, 313.93316050471992, 74.669403109312782, 0.00021870351627767599, -1.6992885760812884e-07, array([ -3.65186459e-14,   5.61606398e-14,   2.64882051e+00]), array([ -1.09967897e-11,  -1.90168312e-11,  -1.23183417e-04])] "
       ]
      },
      {
       "output_type": "stream",
       "stream": "stdout",
       "text": [
        "8.00261804491e-06\n",
        "[1.2166712866873974, 1.6293878006087323, 0.00035663491910189701, -0.0016534852350283862, 0.40685667163880918, 1.2169292030308907, 0.19499268515788243, 74.666509985912128, 327.2282622233293, -0.0033406650110409442, 0.035257544243546664, 313.93316050471992, 74.669403109312782, 0.00021868861511648214, -1.5502769641428118e-07, array([ -3.65186459e-14,   5.61606398e-14,   2.64882051e+00]), array([ -1.09967897e-11,  -1.90168312e-11,  -1.23183417e-04])] "
       ]
      },
      {
       "output_type": "stream",
       "stream": "stdout",
       "text": [
        "8.00261793748e-06\n",
        "[1.2166712866873974, 1.6293878006087323, 0.00035663491910189701, -0.0016534852350283862, 0.40685667163880918, 1.2169292030308907, 0.19499268515788243, 74.666509985912128, 327.2282622233293, -0.0033406650110409442, 0.035257544243546664, 313.93316050471992, 74.669403109312782, 0.00021868861511648214, -1.6992885760812884e-07, array([  1.49011247e-08,   5.61606398e-14,   2.64882051e+00]), array([ -1.09967897e-11,  -1.90168312e-11,  -1.23183417e-04])] "
       ]
      },
      {
       "output_type": "stream",
       "stream": "stdout",
       "text": [
        "8.00261793746e-06\n",
        "[1.2166712866873974, 1.6293878006087323, 0.00035663491910189701, -0.0016534852350283862, 0.40685667163880918, 1.2169292030308907, 0.19499268515788243, 74.666509985912128, 327.2282622233293, -0.0033406650110409442, 0.035257544243546664, 313.93316050471992, 74.669403109312782, 0.00021868861511648214, -1.6992885760812884e-07, array([ -3.65186459e-14,   1.49012174e-08,   2.64882051e+00]), array([ -1.09967897e-11,  -1.90168312e-11,  -1.23183417e-04])] "
       ]
      },
      {
       "output_type": "stream",
       "stream": "stdout",
       "text": [
        "8.00261793746e-06\n",
        "[1.2166712866873974, 1.6293878006087323, 0.00035663491910189701, -0.0016534852350283862, 0.40685667163880918, 1.2169292030308907, 0.19499268515788243, 74.666509985912128, 327.2282622233293, -0.0033406650110409442, 0.035257544243546664, 313.93316050471992, 74.669403109312782, 0.00021868861511648214, -1.6992885760812884e-07, array([ -3.65186459e-14,   5.61606398e-14,   2.64882053e+00]), array([ -1.09967897e-11,  -1.90168312e-11,  -1.23183417e-04])] "
       ]
      },
      {
       "output_type": "stream",
       "stream": "stdout",
       "text": [
        "8.00262213654e-06\n",
        "[1.2166712866873974, 1.6293878006087323, 0.00035663491910189701, -0.0016534852350283862, 0.40685667163880918, 1.2169292030308907, 0.19499268515788243, 74.666509985912128, 327.2282622233293, -0.0033406650110409442, 0.035257544243546664, 313.93316050471992, 74.669403109312782, 0.00021868861511648214, -1.6992885760812884e-07, array([ -3.65186459e-14,   5.61606398e-14,   2.64882051e+00]), array([  1.48901644e-08,  -1.90168312e-11,  -1.23183417e-04])] "
       ]
      },
      {
       "output_type": "stream",
       "stream": "stdout",
       "text": [
        "8.00261793746e-06\n",
        "[1.2166712866873974, 1.6293878006087323, 0.00035663491910189701, -0.0016534852350283862, 0.40685667163880918, 1.2169292030308907, 0.19499268515788243, 74.666509985912128, 327.2282622233293, -0.0033406650110409442, 0.035257544243546664, 313.93316050471992, 74.669403109312782, 0.00021868861511648214, -1.6992885760812884e-07, array([ -3.65186459e-14,   5.61606398e-14,   2.64882051e+00]), array([ -1.09967897e-11,   1.48821444e-08,  -1.23183417e-04])] "
       ]
      },
      {
       "output_type": "stream",
       "stream": "stdout",
       "text": [
        "8.00261793746e-06\n",
        "[1.2166712866873974, 1.6293878006087323, 0.00035663491910189701, -0.0016534852350283862, 0.40685667163880918, 1.2169292030308907, 0.19499268515788243, 74.666509985912128, 327.2282622233293, -0.0033406650110409442, 0.035257544243546664, 313.93316050471992, 74.669403109312782, 0.00021868861511648214, -1.6992885760812884e-07, array([ -3.65186459e-14,   5.61606398e-14,   2.64882051e+00]), array([ -1.09967897e-11,  -1.90168312e-11,  -1.23168516e-04])] "
       ]
      },
      {
       "output_type": "stream",
       "stream": "stdout",
       "text": [
        "8.00286320744e-06\n",
        "[1.2170624138622679, 1.6293880191648635, 5.936845912669534e-05, -0.00011500276915329803, 0.40767278659052958, 1.2169037043575093, 0.19478464848007912, 74.6678500808476, 327.22862456692172, -0.0033306942306233372, 0.035261798653900778, 313.93441963836528, 74.669403550634343, 0.00020011098295015205, -1.732629681876192e-07, array([ -4.20138757e-14,   5.64430682e-14,   2.64950163e+00]), array([ -1.23507440e-11,  -1.88419042e-11,  -1.10174137e-04])] "
       ]
      },
      {
       "output_type": "stream",
       "stream": "stdout",
       "text": [
        "6.62439970225e-06\n",
        "[1.2170624138622679, 1.6293880191648635, 5.936845912669534e-05, -0.00011500276915329803, 0.40767278659052958, 1.2169037043575093, 0.19478464848007912, 74.6678500808476, 327.22862456692172, -0.0033306942306233372, 0.035261798653900778, 313.93441963836528, 74.669403550634343, 0.00020011098295015205, -1.732629681876192e-07, array([ -4.20138757e-14,   5.64430682e-14,   2.64950163e+00]), array([ -1.23507440e-11,  -1.88419042e-11,  -1.10174137e-04])] "
       ]
      },
      {
       "output_type": "stream",
       "stream": "stdout",
       "text": [
        "6.62439970225e-06\n",
        "[1.2170624287634291, 1.6293880191648635, 5.936845912669534e-05, -0.00011500276915329803, 0.40767278659052958, 1.2169037043575093, 0.19478464848007912, 74.6678500808476, 327.22862456692172, -0.0033306942306233372, 0.035261798653900778, 313.93441963836528, 74.669403550634343, 0.00020011098295015205, -1.732629681876192e-07, array([ -4.20138757e-14,   5.64430682e-14,   2.64950163e+00]), array([ -1.23507440e-11,  -1.88419042e-11,  -1.10174137e-04])] "
       ]
      },
      {
       "output_type": "stream",
       "stream": "stdout",
       "text": [
        "6.62439765508e-06\n",
        "[1.2170624138622679, 1.6293880340660247, 5.936845912669534e-05, -0.00011500276915329803, 0.40767278659052958, 1.2169037043575093, 0.19478464848007912, 74.6678500808476, 327.22862456692172, -0.0033306942306233372, 0.035261798653900778, 313.93441963836528, 74.669403550634343, 0.00020011098295015205, -1.732629681876192e-07, array([ -4.20138757e-14,   5.64430682e-14,   2.64950163e+00]), array([ -1.23507440e-11,  -1.88419042e-11,  -1.10174137e-04])] "
       ]
      },
      {
       "output_type": "stream",
       "stream": "stdout",
       "text": [
        "6.62455602092e-06\n",
        "[1.2170624138622679, 1.6293880191648635, 5.9383360287889187e-05, -0.00011500276915329803, 0.40767278659052958, 1.2169037043575093, 0.19478464848007912, 74.6678500808476, 327.22862456692172, -0.0033306942306233372, 0.035261798653900778, 313.93441963836528, 74.669403550634343, 0.00020011098295015205, -1.732629681876192e-07, array([ -4.20138757e-14,   5.64430682e-14,   2.64950163e+00]), array([ -1.23507440e-11,  -1.88419042e-11,  -1.10174137e-04])] "
       ]
      },
      {
       "output_type": "stream",
       "stream": "stdout",
       "text": [
        "6.62440251043e-06\n",
        "[1.2170624138622679, 1.6293880191648635, 5.936845912669534e-05, -0.00011498786799210418, 0.40767278659052958, 1.2169037043575093, 0.19478464848007912, 74.6678500808476, 327.22862456692172, -0.0033306942306233372, 0.035261798653900778, 313.93441963836528, 74.669403550634343, 0.00020011098295015205, -1.732629681876192e-07, array([ -4.20138757e-14,   5.64430682e-14,   2.64950163e+00]), array([ -1.23507440e-11,  -1.88419042e-11,  -1.10174137e-04])] "
       ]
      },
      {
       "output_type": "stream",
       "stream": "stdout",
       "text": [
        "6.62439279956e-06\n",
        "[1.2170624138622679, 1.6293880191648635, 5.936845912669534e-05, -0.00011500276915329803, 0.40767280149169077, 1.2169037043575093, 0.19478464848007912, 74.6678500808476, 327.22862456692172, -0.0033306942306233372, 0.035261798653900778, 313.93441963836528, 74.669403550634343, 0.00020011098295015205, -1.732629681876192e-07, array([ -4.20138757e-14,   5.64430682e-14,   2.64950163e+00]), array([ -1.23507440e-11,  -1.88419042e-11,  -1.10174137e-04])] "
       ]
      },
      {
       "output_type": "stream",
       "stream": "stdout",
       "text": [
        "6.62440032768e-06\n",
        "[1.2170624138622679, 1.6293880191648635, 5.936845912669534e-05, -0.00011500276915329803, 0.40767278659052958, 1.2169037192586705, 0.19478464848007912, 74.6678500808476, 327.22862456692172, -0.0033306942306233372, 0.035261798653900778, 313.93441963836528, 74.669403550634343, 0.00020011098295015205, -1.732629681876192e-07, array([ -4.20138757e-14,   5.64430682e-14,   2.64950163e+00]), array([ -1.23507440e-11,  -1.88419042e-11,  -1.10174137e-04])] "
       ]
      },
      {
       "output_type": "stream",
       "stream": "stdout",
       "text": [
        "6.62439971595e-06\n",
        "[1.2170624138622679, 1.6293880191648635, 5.936845912669534e-05, -0.00011500276915329803, 0.40767278659052958, 1.2169037043575093, 0.19478466338124031, 74.6678500808476, 327.22862456692172, -0.0033306942306233372, 0.035261798653900778, 313.93441963836528, 74.669403550634343, 0.00020011098295015205, -1.732629681876192e-07, array([ -4.20138757e-14,   5.64430682e-14,   2.64950163e+00]), array([ -1.23507440e-11,  -1.88419042e-11,  -1.10174137e-04])] "
       ]
      },
      {
       "output_type": "stream",
       "stream": "stdout",
       "text": [
        "6.62439989899e-06\n",
        "[1.2170624138622679, 1.6293880191648635, 5.936845912669534e-05, -0.00011500276915329803, 0.40767278659052958, 1.2169037043575093, 0.19478464848007912, 74.667850095748761, 327.22862456692172, -0.0033306942306233372, 0.035261798653900778, 313.93441963836528, 74.669403550634343, 0.00020011098295015205, -1.732629681876192e-07, array([ -4.20138757e-14,   5.64430682e-14,   2.64950163e+00]), array([ -1.23507440e-11,  -1.88419042e-11,  -1.10174137e-04])] "
       ]
      },
      {
       "output_type": "stream",
       "stream": "stdout",
       "text": [
        "6.62440089968e-06\n",
        "[1.2170624138622679, 1.6293880191648635, 5.936845912669534e-05, -0.00011500276915329803, 0.40767278659052958, 1.2169037043575093, 0.19478464848007912, 74.6678500808476, 327.22862458182288, -0.0033306942306233372, 0.035261798653900778, 313.93441963836528, 74.669403550634343, 0.00020011098295015205, -1.732629681876192e-07, array([ -4.20138757e-14,   5.64430682e-14,   2.64950163e+00]), array([ -1.23507440e-11,  -1.88419042e-11,  -1.10174137e-04])] "
       ]
      },
      {
       "output_type": "stream",
       "stream": "stdout",
       "text": [
        "6.62439497336e-06\n",
        "[1.2170624138622679, 1.6293880191648635, 5.936845912669534e-05, -0.00011500276915329803, 0.40767278659052958, 1.2169037043575093, 0.19478464848007912, 74.6678500808476, 327.22862456692172, -0.0033306793294621433, 0.035261798653900778, 313.93441963836528, 74.669403550634343, 0.00020011098295015205, -1.732629681876192e-07, array([ -4.20138757e-14,   5.64430682e-14,   2.64950163e+00]), array([ -1.23507440e-11,  -1.88419042e-11,  -1.10174137e-04])] "
       ]
      },
      {
       "output_type": "stream",
       "stream": "stdout",
       "text": [
        "6.62439085803e-06\n",
        "[1.2170624138622679, 1.6293880191648635, 5.936845912669534e-05, -0.00011500276915329803, 0.40767278659052958, 1.2169037043575093, 0.19478464848007912, 74.6678500808476, 327.22862456692172, -0.0033306942306233372, 0.035261813555061972, 313.93441963836528, 74.669403550634343, 0.00020011098295015205, -1.732629681876192e-07, array([ -4.20138757e-14,   5.64430682e-14,   2.64950163e+00]), array([ -1.23507440e-11,  -1.88419042e-11,  -1.10174137e-04])] "
       ]
      },
      {
       "output_type": "stream",
       "stream": "stdout",
       "text": [
        "6.62414280052e-06\n",
        "[1.2170624138622679, 1.6293880191648635, 5.936845912669534e-05, -0.00011500276915329803, 0.40767278659052958, 1.2169037043575093, 0.19478464848007912, 74.6678500808476, 327.22862456692172, -0.0033306942306233372, 0.035261798653900778, 313.93441965326645, 74.669403550634343, 0.00020011098295015205, -1.732629681876192e-07, array([ -4.20138757e-14,   5.64430682e-14,   2.64950163e+00]), array([ -1.23507440e-11,  -1.88419042e-11,  -1.10174137e-04])] "
       ]
      },
      {
       "output_type": "stream",
       "stream": "stdout",
       "text": [
        "6.62440292598e-06\n",
        "[1.2170624138622679, 1.6293880191648635, 5.936845912669534e-05, -0.00011500276915329803, 0.40767278659052958, 1.2169037043575093, 0.19478464848007912, 74.6678500808476, 327.22862456692172, -0.0033306942306233372, 0.035261798653900778, 313.93441963836528, 74.669403565535504, 0.00020011098295015205, -1.732629681876192e-07, array([ -4.20138757e-14,   5.64430682e-14,   2.64950163e+00]), array([ -1.23507440e-11,  -1.88419042e-11,  -1.10174137e-04])] "
       ]
      },
      {
       "output_type": "stream",
       "stream": "stdout",
       "text": [
        "6.62439970205e-06\n",
        "[1.2170624138622679, 1.6293880191648635, 5.936845912669534e-05, -0.00011500276915329803, 0.40767278659052958, 1.2169037043575093, 0.19478464848007912, 74.6678500808476, 327.22862456692172, -0.0033306942306233372, 0.035261798653900778, 313.93441963836528, 74.669403550634343, 0.0002001258841113459, -1.732629681876192e-07, array([ -4.20138757e-14,   5.64430682e-14,   2.64950163e+00]), array([ -1.23507440e-11,  -1.88419042e-11,  -1.10174137e-04])] "
       ]
      },
      {
       "output_type": "stream",
       "stream": "stdout",
       "text": [
        "6.62439971761e-06\n",
        "[1.2170624138622679, 1.6293880191648635, 5.936845912669534e-05, -0.00011500276915329803, 0.40767278659052958, 1.2169037043575093, 0.19478464848007912, 74.6678500808476, 327.22862456692172, -0.0033306942306233372, 0.035261798653900778, 313.93441963836528, 74.669403550634343, 0.00020011098295015205, -1.5836180699377154e-07, array([ -4.20138757e-14,   5.64430682e-14,   2.64950163e+00]), array([ -1.23507440e-11,  -1.88419042e-11,  -1.10174137e-04])] "
       ]
      },
      {
       "output_type": "stream",
       "stream": "stdout",
       "text": [
        "6.62439970227e-06\n",
        "[1.2170624138622679, 1.6293880191648635, 5.936845912669534e-05, -0.00011500276915329803, 0.40767278659052958, 1.2169037043575093, 0.19478464848007912, 74.6678500808476, 327.22862456692172, -0.0033306942306233372, 0.035261798653900778, 313.93441963836528, 74.669403550634343, 0.00020011098295015205, -1.732629681876192e-07, array([  1.49011192e-08,   5.64430682e-14,   2.64950163e+00]), array([ -1.23507440e-11,  -1.88419042e-11,  -1.10174137e-04])] "
       ]
      },
      {
       "output_type": "stream",
       "stream": "stdout",
       "text": [
        "6.62439970225e-06\n",
        "[1.2170624138622679, 1.6293880191648635, 5.936845912669534e-05, -0.00011500276915329803, 0.40767278659052958, 1.2169037043575093, 0.19478464848007912, 74.6678500808476, 327.22862456692172, -0.0033306942306233372, 0.035261798653900778, 313.93441963836528, 74.669403550634343, 0.00020011098295015205, -1.732629681876192e-07, array([ -4.20138757e-14,   1.49012176e-08,   2.64950163e+00]), array([ -1.23507440e-11,  -1.88419042e-11,  -1.10174137e-04])] "
       ]
      },
      {
       "output_type": "stream",
       "stream": "stdout",
       "text": [
        "6.62439970225e-06\n",
        "[1.2170624138622679, 1.6293880191648635, 5.936845912669534e-05, -0.00011500276915329803, 0.40767278659052958, 1.2169037043575093, 0.19478464848007912, 74.6678500808476, 327.22862456692172, -0.0033306942306233372, 0.035261798653900778, 313.93441963836528, 74.669403550634343, 0.00020011098295015205, -1.732629681876192e-07, array([ -4.20138757e-14,   5.64430682e-14,   2.64950164e+00]), array([ -1.23507440e-11,  -1.88419042e-11,  -1.10174137e-04])] "
       ]
      },
      {
       "output_type": "stream",
       "stream": "stdout",
       "text": [
        "6.62440024845e-06\n",
        "[1.2170624138622679, 1.6293880191648635, 5.936845912669534e-05, -0.00011500276915329803, 0.40767278659052958, 1.2169037043575093, 0.19478464848007912, 74.6678500808476, 327.22862456692172, -0.0033306942306233372, 0.035261798653900778, 313.93441963836528, 74.669403550634343, 0.00020011098295015205, -1.732629681876192e-07, array([ -4.20138757e-14,   5.64430682e-14,   2.64950163e+00]), array([  1.48888104e-08,  -1.88419042e-11,  -1.10174137e-04])] "
       ]
      },
      {
       "output_type": "stream",
       "stream": "stdout",
       "text": [
        "6.62439970225e-06\n",
        "[1.2170624138622679, 1.6293880191648635, 5.936845912669534e-05, -0.00011500276915329803, 0.40767278659052958, 1.2169037043575093, 0.19478464848007912, 74.6678500808476, 327.22862456692172, -0.0033306942306233372, 0.035261798653900778, 313.93441963836528, 74.669403550634343, 0.00020011098295015205, -1.732629681876192e-07, array([ -4.20138757e-14,   5.64430682e-14,   2.64950163e+00]), array([ -1.23507440e-11,   1.48823193e-08,  -1.10174137e-04])] "
       ]
      },
      {
       "output_type": "stream",
       "stream": "stdout",
       "text": [
        "6.62439970225e-06\n",
        "[1.2170624138622679, 1.6293880191648635, 5.936845912669534e-05, -0.00011500276915329803, 0.40767278659052958, 1.2169037043575093, 0.19478464848007912, 74.6678500808476, 327.22862456692172, -0.0033306942306233372, 0.035261798653900778, 313.93441963836528, 74.669403550634343, 0.00020011098295015205, -1.732629681876192e-07, array([ -4.20138757e-14,   5.64430682e-14,   2.64950163e+00]), array([ -1.23507440e-11,  -1.88419042e-11,  -1.10159235e-04])] "
       ]
      },
      {
       "output_type": "stream",
       "stream": "stdout",
       "text": [
        "6.62448179873e-06\n",
        "[1.2172589813964241, 1.6293878959358652, -0.00021876392057901142, 0.0004503612903030001, 0.40798626058371462, 1.2169072606400726, 0.19481358430481613, 74.668050177229802, 327.22891260342294, -0.0033302167745047247, 0.035254969364323797, 313.9338547524942, 74.669403488571206, 0.0001920156989645596, -1.7238580862185923e-07, array([ -4.48446371e-14,   6.31703224e-14,   2.64932761e+00]), array([ -1.33195729e-11,  -1.72025865e-11,  -1.07843918e-04])] "
       ]
      },
      {
       "output_type": "stream",
       "stream": "stdout",
       "text": [
        "6.3445024074e-06\n",
        "[1.2172589813964241, 1.6293878959358652, -0.00021876392057901142, 0.0004503612903030001, 0.40798626058371462, 1.2169072606400726, 0.19481358430481613, 74.668050177229802, 327.22891260342294, -0.0033302167745047247, 0.035254969364323797, 313.9338547524942, 74.669403488571206, 0.0001920156989645596, -1.7238580862185923e-07, array([ -4.48446371e-14,   6.31703224e-14,   2.64932761e+00]), array([ -1.33195729e-11,  -1.72025865e-11,  -1.07843918e-04])] "
       ]
      },
      {
       "output_type": "stream",
       "stream": "stdout",
       "text": [
        "6.3445024074e-06\n",
        "[1.2172589962975853, 1.6293878959358652, -0.00021876392057901142, 0.0004503612903030001, 0.40798626058371462, 1.2169072606400726, 0.19481358430481613, 74.668050177229802, 327.22891260342294, -0.0033302167745047247, 0.035254969364323797, 313.9338547524942, 74.669403488571206, 0.0001920156989645596, -1.7238580862185923e-07, array([ -4.48446371e-14,   6.31703224e-14,   2.64932761e+00]), array([ -1.33195729e-11,  -1.72025865e-11,  -1.07843918e-04])] "
       ]
      },
      {
       "output_type": "stream",
       "stream": "stdout",
       "text": [
        "6.34450287145e-06\n",
        "[1.2172589813964241, 1.6293879108370264, -0.00021876392057901142, 0.0004503612903030001, 0.40798626058371462, 1.2169072606400726, 0.19481358430481613, 74.668050177229802, 327.22891260342294, -0.0033302167745047247, 0.035254969364323797, 313.9338547524942, 74.669403488571206, 0.0001920156989645596, -1.7238580862185923e-07, array([ -4.48446371e-14,   6.31703224e-14,   2.64932761e+00]), array([ -1.33195729e-11,  -1.72025865e-11,  -1.07843918e-04])] "
       ]
      },
      {
       "output_type": "stream",
       "stream": "stdout",
       "text": [
        "6.34449366576e-06\n",
        "[1.2172589813964241, 1.6293878959358652, -0.00021874901941781758, 0.0004503612903030001, 0.40798626058371462, 1.2169072606400726, 0.19481358430481613, 74.668050177229802, 327.22891260342294, -0.0033302167745047247, 0.035254969364323797, 313.9338547524942, 74.669403488571206, 0.0001920156989645596, -1.7238580862185923e-07, array([ -4.48446371e-14,   6.31703224e-14,   2.64932761e+00]), array([ -1.33195729e-11,  -1.72025865e-11,  -1.07843918e-04])] "
       ]
      },
      {
       "output_type": "stream",
       "stream": "stdout",
       "text": [
        "6.34450365708e-06\n",
        "[1.2172589813964241, 1.6293878959358652, -0.00021876392057901142, 0.00045037619146419394, 0.40798626058371462, 1.2169072606400726, 0.19481358430481613, 74.668050177229802, 327.22891260342294, -0.0033302167745047247, 0.035254969364323797, 313.9338547524942, 74.669403488571206, 0.0001920156989645596, -1.7238580862185923e-07, array([ -4.48446371e-14,   6.31703224e-14,   2.64932761e+00]), array([ -1.33195729e-11,  -1.72025865e-11,  -1.07843918e-04])] "
       ]
      },
      {
       "output_type": "stream",
       "stream": "stdout",
       "text": [
        "6.34450175618e-06\n",
        "[1.2172589813964241, 1.6293878959358652, -0.00021876392057901142, 0.0004503612903030001, 0.40798627548487582, 1.2169072606400726, 0.19481358430481613, 74.668050177229802, 327.22891260342294, -0.0033302167745047247, 0.035254969364323797, 313.9338547524942, 74.669403488571206, 0.0001920156989645596, -1.7238580862185923e-07, array([ -4.48446371e-14,   6.31703224e-14,   2.64932761e+00]), array([ -1.33195729e-11,  -1.72025865e-11,  -1.07843918e-04])] "
       ]
      },
      {
       "output_type": "stream",
       "stream": "stdout",
       "text": [
        "6.3445025553e-06\n",
        "[1.2172589813964241, 1.6293878959358652, -0.00021876392057901142, 0.0004503612903030001, 0.40798626058371462, 1.2169072755412338, 0.19481358430481613, 74.668050177229802, 327.22891260342294, -0.0033302167745047247, 0.035254969364323797, 313.9338547524942, 74.669403488571206, 0.0001920156989645596, -1.7238580862185923e-07, array([ -4.48446371e-14,   6.31703224e-14,   2.64932761e+00]), array([ -1.33195729e-11,  -1.72025865e-11,  -1.07843918e-04])] "
       ]
      },
      {
       "output_type": "stream",
       "stream": "stdout",
       "text": [
        "6.34450244168e-06\n",
        "[1.2172589813964241, 1.6293878959358652, -0.00021876392057901142, 0.0004503612903030001, 0.40798626058371462, 1.2169072606400726, 0.19481359920597732, 74.668050177229802, 327.22891260342294, -0.0033302167745047247, 0.035254969364323797, 313.9338547524942, 74.669403488571206, 0.0001920156989645596, -1.7238580862185923e-07, array([ -4.48446371e-14,   6.31703224e-14,   2.64932761e+00]), array([ -1.33195729e-11,  -1.72025865e-11,  -1.07843918e-04])] "
       ]
      },
      {
       "output_type": "stream",
       "stream": "stdout",
       "text": [
        "6.344502736e-06\n",
        "[1.2172589813964241, 1.6293878959358652, -0.00021876392057901142, 0.0004503612903030001, 0.40798626058371462, 1.2169072606400726, 0.19481358430481613, 74.668050192130963, 327.22891260342294, -0.0033302167745047247, 0.035254969364323797, 313.9338547524942, 74.669403488571206, 0.0001920156989645596, -1.7238580862185923e-07, array([ -4.48446371e-14,   6.31703224e-14,   2.64932761e+00]), array([ -1.33195729e-11,  -1.72025865e-11,  -1.07843918e-04])] "
       ]
      },
      {
       "output_type": "stream",
       "stream": "stdout",
       "text": [
        "6.34450363777e-06\n",
        "[1.2172589813964241, 1.6293878959358652, -0.00021876392057901142, 0.0004503612903030001, 0.40798626058371462, 1.2169072606400726, 0.19481358430481613, 74.668050177229802, 327.2289126183241, -0.0033302167745047247, 0.035254969364323797, 313.9338547524942, 74.669403488571206, 0.0001920156989645596, -1.7238580862185923e-07, array([ -4.48446371e-14,   6.31703224e-14,   2.64932761e+00]), array([ -1.33195729e-11,  -1.72025865e-11,  -1.07843918e-04])] "
       ]
      },
      {
       "output_type": "stream",
       "stream": "stdout",
       "text": [
        "6.34449786681e-06\n",
        "[1.2172589813964241, 1.6293878959358652, -0.00021876392057901142, 0.0004503612903030001, 0.40798626058371462, 1.2169072606400726, 0.19481358430481613, 74.668050177229802, 327.22891260342294, -0.0033302018733435308, 0.035254969364323797, 313.9338547524942, 74.669403488571206, 0.0001920156989645596, -1.7238580862185923e-07, array([ -4.48446371e-14,   6.31703224e-14,   2.64932761e+00]), array([ -1.33195729e-11,  -1.72025865e-11,  -1.07843918e-04])] "
       ]
      },
      {
       "output_type": "stream",
       "stream": "stdout",
       "text": [
        "6.34450270826e-06\n",
        "[1.2172589813964241, 1.6293878959358652, -0.00021876392057901142, 0.0004503612903030001, 0.40798626058371462, 1.2169072606400726, 0.19481358430481613, 74.668050177229802, 327.22891260342294, -0.0033302167745047247, 0.035254984265484991, 313.9338547524942, 74.669403488571206, 0.0001920156989645596, -1.7238580862185923e-07, array([ -4.48446371e-14,   6.31703224e-14,   2.64932761e+00]), array([ -1.33195729e-11,  -1.72025865e-11,  -1.07843918e-04])] "
       ]
      },
      {
       "output_type": "stream",
       "stream": "stdout",
       "text": [
        "6.34451311901e-06\n",
        "[1.2172589813964241, 1.6293878959358652, -0.00021876392057901142, 0.0004503612903030001, 0.40798626058371462, 1.2169072606400726, 0.19481358430481613, 74.668050177229802, 327.22891260342294, -0.0033302167745047247, 0.035254969364323797, 313.93385476739536, 74.669403488571206, 0.0001920156989645596, -1.7238580862185923e-07, array([ -4.48446371e-14,   6.31703224e-14,   2.64932761e+00]), array([ -1.33195729e-11,  -1.72025865e-11,  -1.07843918e-04])] "
       ]
      },
      {
       "output_type": "stream",
       "stream": "stdout",
       "text": [
        "6.34450405257e-06\n",
        "[1.2172589813964241, 1.6293878959358652, -0.00021876392057901142, 0.0004503612903030001, 0.40798626058371462, 1.2169072606400726, 0.19481358430481613, 74.668050177229802, 327.22891260342294, -0.0033302167745047247, 0.035254969364323797, 313.9338547524942, 74.669403503472367, 0.0001920156989645596, -1.7238580862185923e-07, array([ -4.48446371e-14,   6.31703224e-14,   2.64932761e+00]), array([ -1.33195729e-11,  -1.72025865e-11,  -1.07843918e-04])] "
       ]
      },
      {
       "output_type": "stream",
       "stream": "stdout",
       "text": [
        "6.34450240687e-06\n",
        "[1.2172589813964241, 1.6293878959358652, -0.00021876392057901142, 0.0004503612903030001, 0.40798626058371462, 1.2169072606400726, 0.19481358430481613, 74.668050177229802, 327.22891260342294, -0.0033302167745047247, 0.035254969364323797, 313.9338547524942, 74.669403488571206, 0.00019203060012575344, -1.7238580862185923e-07, array([ -4.48446371e-14,   6.31703224e-14,   2.64932761e+00]), array([ -1.33195729e-11,  -1.72025865e-11,  -1.07843918e-04])] "
       ]
      },
      {
       "output_type": "stream",
       "stream": "stdout",
       "text": [
        "6.34450240786e-06\n",
        "[1.2172589813964241, 1.6293878959358652, -0.00021876392057901142, 0.0004503612903030001, 0.40798626058371462, 1.2169072606400726, 0.19481358430481613, 74.668050177229802, 327.22891260342294, -0.0033302167745047247, 0.035254969364323797, 313.9338547524942, 74.669403488571206, 0.0001920156989645596, -1.5748464742801157e-07, array([ -4.48446371e-14,   6.31703224e-14,   2.64932761e+00]), array([ -1.33195729e-11,  -1.72025865e-11,  -1.07843918e-04])] "
       ]
      },
      {
       "output_type": "stream",
       "stream": "stdout",
       "text": [
        "6.34450240741e-06\n",
        "[1.2172589813964241, 1.6293878959358652, -0.00021876392057901142, 0.0004503612903030001, 0.40798626058371462, 1.2169072606400726, 0.19481358430481613, 74.668050177229802, 327.22891260342294, -0.0033302167745047247, 0.035254969364323797, 313.9338547524942, 74.669403488571206, 0.0001920156989645596, -1.7238580862185923e-07, array([  1.49011163e-08,   6.31703224e-14,   2.64932761e+00]), array([ -1.33195729e-11,  -1.72025865e-11,  -1.07843918e-04])] "
       ]
      },
      {
       "output_type": "stream",
       "stream": "stdout",
       "text": [
        "6.3445024074e-06\n",
        "[1.2172589813964241, 1.6293878959358652, -0.00021876392057901142, 0.0004503612903030001, 0.40798626058371462, 1.2169072606400726, 0.19481358430481613, 74.668050177229802, 327.22891260342294, -0.0033302167745047247, 0.035254969364323797, 313.9338547524942, 74.669403488571206, 0.0001920156989645596, -1.7238580862185923e-07, array([ -4.48446371e-14,   1.49012244e-08,   2.64932761e+00]), array([ -1.33195729e-11,  -1.72025865e-11,  -1.07843918e-04])] "
       ]
      },
      {
       "output_type": "stream",
       "stream": "stdout",
       "text": [
        "6.3445024074e-06\n",
        "[1.2172589813964241, 1.6293878959358652, -0.00021876392057901142, 0.0004503612903030001, 0.40798626058371462, 1.2169072606400726, 0.19481358430481613, 74.668050177229802, 327.22891260342294, -0.0033302167745047247, 0.035254969364323797, 313.9338547524942, 74.669403488571206, 0.0001920156989645596, -1.7238580862185923e-07, array([ -4.48446371e-14,   6.31703224e-14,   2.64932762e+00]), array([ -1.33195729e-11,  -1.72025865e-11,  -1.07843918e-04])] "
       ]
      },
      {
       "output_type": "stream",
       "stream": "stdout",
       "text": [
        "6.34450109409e-06\n",
        "[1.2172589813964241, 1.6293878959358652, -0.00021876392057901142, 0.0004503612903030001, 0.40798626058371462, 1.2169072606400726, 0.19481358430481613, 74.668050177229802, 327.22891260342294, -0.0033302167745047247, 0.035254969364323797, 313.9338547524942, 74.669403488571206, 0.0001920156989645596, -1.7238580862185923e-07, array([ -4.48446371e-14,   6.31703224e-14,   2.64932761e+00]), array([  1.48878416e-08,  -1.72025865e-11,  -1.07843918e-04])] "
       ]
      },
      {
       "output_type": "stream",
       "stream": "stdout",
       "text": [
        "6.3445024074e-06\n",
        "[1.2172589813964241, 1.6293878959358652, -0.00021876392057901142, 0.0004503612903030001, 0.40798626058371462, 1.2169072606400726, 0.19481358430481613, 74.668050177229802, 327.22891260342294, -0.0033302167745047247, 0.035254969364323797, 313.9338547524942, 74.669403488571206, 0.0001920156989645596, -1.7238580862185923e-07, array([ -4.48446371e-14,   6.31703224e-14,   2.64932761e+00]), array([ -1.33195729e-11,   1.48839586e-08,  -1.07843918e-04])] "
       ]
      },
      {
       "output_type": "stream",
       "stream": "stdout",
       "text": [
        "6.3445024074e-06\n",
        "[1.2172589813964241, 1.6293878959358652, -0.00021876392057901142, 0.0004503612903030001, 0.40798626058371462, 1.2169072606400726, 0.19481358430481613, 74.668050177229802, 327.22891260342294, -0.0033302167745047247, 0.035254969364323797, 313.9338547524942, 74.669403488571206, 0.0001920156989645596, -1.7238580862185923e-07, array([ -4.48446371e-14,   6.31703224e-14,   2.64932761e+00]), array([ -1.33195729e-11,  -1.72025865e-11,  -1.07829017e-04])] "
       ]
      },
      {
       "output_type": "stream",
       "stream": "stdout",
       "text": [
        "6.34449595397e-06\n",
        "[1.217349363961463, 1.6293877859024595, -0.00052294475388433919, 0.0008864462677471228, 0.40822588173027485, 1.2169071583722866, 0.19480784978454613, 74.668060868241056, 327.22954120488589, -0.0033328790933031126, 0.035247747913486831, 313.93326228308501, 74.669403483503245, 0.00018619051225909664, -1.7158381131029793e-07, array([ -5.06723765e-14,   8.52235853e-14,   2.64930029e+00]), array([ -1.52005612e-11,  -1.42321964e-11,  -1.07164483e-04])] "
       ]
      },
      {
       "output_type": "stream",
       "stream": "stdout",
       "text": [
        "6.12102087998e-06\n",
        "[1.217349363961463, 1.6293877859024595, -0.00052294475388433919, 0.0008864462677471228, 0.40822588173027485, 1.2169071583722866, 0.19480784978454613, 74.668060868241056, 327.22954120488589, -0.0033328790933031126, 0.035247747913486831, 313.93326228308501, 74.669403483503245, 0.00018619051225909664, -1.7158381131029793e-07, array([ -5.06723765e-14,   8.52235853e-14,   2.64930029e+00]), array([ -1.52005612e-11,  -1.42321964e-11,  -1.07164483e-04])] "
       ]
      },
      {
       "output_type": "stream",
       "stream": "stdout",
       "text": [
        "6.12102087998e-06\n",
        "[1.2173493788626242, 1.6293877859024595, -0.00052294475388433919, 0.0008864462677471228, 0.40822588173027485, 1.2169071583722866, 0.19480784978454613, 74.668060868241056, 327.22954120488589, -0.0033328790933031126, 0.035247747913486831, 313.93326228308501, 74.669403483503245, 0.00018619051225909664, -1.7158381131029793e-07, array([ -5.06723765e-14,   8.52235853e-14,   2.64930029e+00]), array([ -1.52005612e-11,  -1.42321964e-11,  -1.07164483e-04])] "
       ]
      },
      {
       "output_type": "stream",
       "stream": "stdout",
       "text": [
        "6.12102270391e-06\n",
        "[1.217349363961463, 1.6293878008036207, -0.00052294475388433919, 0.0008864462677471228, 0.40822588173027485, 1.2169071583722866, 0.19480784978454613, 74.668060868241056, 327.22954120488589, -0.0033328790933031126, 0.035247747913486831, 313.93326228308501, 74.669403483503245, 0.00018619051225909664, -1.7158381131029793e-07, array([ -5.06723765e-14,   8.52235853e-14,   2.64930029e+00]), array([ -1.52005612e-11,  -1.42321964e-11,  -1.07164483e-04])] "
       ]
      },
      {
       "output_type": "stream",
       "stream": "stdout",
       "text": [
        "6.12091554546e-06\n",
        "[1.217349363961463, 1.6293877859024595, -0.00052292985272314534, 0.0008864462677471228, 0.40822588173027485, 1.2169071583722866, 0.19480784978454613, 74.668060868241056, 327.22954120488589, -0.0033328790933031126, 0.035247747913486831, 313.93326228308501, 74.669403483503245, 0.00018619051225909664, -1.7158381131029793e-07, array([ -5.06723765e-14,   8.52235853e-14,   2.64930029e+00]), array([ -1.52005612e-11,  -1.42321964e-11,  -1.07164483e-04])] "
       ]
      },
      {
       "output_type": "stream",
       "stream": "stdout",
       "text": [
        "6.1210205097e-06\n",
        "[1.217349363961463, 1.6293877859024595, -0.00052294475388433919, 0.00088646116890831665, 0.40822588173027485, 1.2169071583722866, 0.19480784978454613, 74.668060868241056, 327.22954120488589, -0.0033328790933031126, 0.035247747913486831, 313.93326228308501, 74.669403483503245, 0.00018619051225909664, -1.7158381131029793e-07, array([ -5.06723765e-14,   8.52235853e-14,   2.64930029e+00]), array([ -1.52005612e-11,  -1.42321964e-11,  -1.07164483e-04])] "
       ]
      },
      {
       "output_type": "stream",
       "stream": "stdout",
       "text": [
        "6.12102400155e-06\n",
        "[1.217349363961463, 1.6293877859024595, -0.00052294475388433919, 0.0008864462677471228, 0.40822589663143605, 1.2169071583722866, 0.19480784978454613, 74.668060868241056, 327.22954120488589, -0.0033328790933031126, 0.035247747913486831, 313.93326228308501, 74.669403483503245, 0.00018619051225909664, -1.7158381131029793e-07, array([ -5.06723765e-14,   8.52235853e-14,   2.64930029e+00]), array([ -1.52005612e-11,  -1.42321964e-11,  -1.07164483e-04])] "
       ]
      },
      {
       "output_type": "stream",
       "stream": "stdout",
       "text": [
        "6.12102034354e-06\n",
        "[1.217349363961463, 1.6293877859024595, -0.00052294475388433919, 0.0008864462677471228, 0.40822588173027485, 1.2169071732734478, 0.19480784978454613, 74.668060868241056, 327.22954120488589, -0.0033328790933031126, 0.035247747913486831, 313.93326228308501, 74.669403483503245, 0.00018619051225909664, -1.7158381131029793e-07, array([ -5.06723765e-14,   8.52235853e-14,   2.64930029e+00]), array([ -1.52005612e-11,  -1.42321964e-11,  -1.07164483e-04])] "
       ]
      },
      {
       "output_type": "stream",
       "stream": "stdout",
       "text": [
        "6.12102092764e-06\n",
        "[1.217349363961463, 1.6293877859024595, -0.00052294475388433919, 0.0008864462677471228, 0.40822588173027485, 1.2169071583722866, 0.19480786468570732, 74.668060868241056, 327.22954120488589, -0.0033328790933031126, 0.035247747913486831, 313.93326228308501, 74.669403483503245, 0.00018619051225909664, -1.7158381131029793e-07, array([ -5.06723765e-14,   8.52235853e-14,   2.64930029e+00]), array([ -1.52005612e-11,  -1.42321964e-11,  -1.07164483e-04])] "
       ]
      },
      {
       "output_type": "stream",
       "stream": "stdout",
       "text": [
        "6.12102129075e-06\n",
        "[1.217349363961463, 1.6293877859024595, -0.00052294475388433919, 0.0008864462677471228, 0.40822588173027485, 1.2169071583722866, 0.19480784978454613, 74.668060883142218, 327.22954120488589, -0.0033328790933031126, 0.035247747913486831, 313.93326228308501, 74.669403483503245, 0.00018619051225909664, -1.7158381131029793e-07, array([ -5.06723765e-14,   8.52235853e-14,   2.64930029e+00]), array([ -1.52005612e-11,  -1.42321964e-11,  -1.07164483e-04])] "
       ]
      },
      {
       "output_type": "stream",
       "stream": "stdout",
       "text": [
        "6.12102156169e-06\n",
        "[1.217349363961463, 1.6293877859024595, -0.00052294475388433919, 0.0008864462677471228, 0.40822588173027485, 1.2169071583722866, 0.19480784978454613, 74.668060868241056, 327.22954121978705, -0.0033328790933031126, 0.035247747913486831, 313.93326228308501, 74.669403483503245, 0.00018619051225909664, -1.7158381131029793e-07, array([ -5.06723765e-14,   8.52235853e-14,   2.64930029e+00]), array([ -1.52005612e-11,  -1.42321964e-11,  -1.07164483e-04])] "
       ]
      },
      {
       "output_type": "stream",
       "stream": "stdout",
       "text": [
        "6.12101697104e-06\n",
        "[1.217349363961463, 1.6293877859024595, -0.00052294475388433919, 0.0008864462677471228, 0.40822588173027485, 1.2169071583722866, 0.19480784978454613, 74.668060868241056, 327.22954120488589, -0.0033328641921419187, 0.035247747913486831, 313.93326228308501, 74.669403483503245, 0.00018619051225909664, -1.7158381131029793e-07, array([ -5.06723765e-14,   8.52235853e-14,   2.64930029e+00]), array([ -1.52005612e-11,  -1.42321964e-11,  -1.07164483e-04])] "
       ]
      },
      {
       "output_type": "stream",
       "stream": "stdout",
       "text": [
        "6.12102684597e-06\n",
        "[1.217349363961463, 1.6293877859024595, -0.00052294475388433919, 0.0008864462677471228, 0.40822588173027485, 1.2169071583722866, 0.19480784978454613, 74.668060868241056, 327.22954120488589, -0.0033328790933031126, 0.035247762814648025, 313.93326228308501, 74.669403483503245, 0.00018619051225909664, -1.7158381131029793e-07, array([ -5.06723765e-14,   8.52235853e-14,   2.64930029e+00]), array([ -1.52005612e-11,  -1.42321964e-11,  -1.07164483e-04])] "
       ]
      },
      {
       "output_type": "stream",
       "stream": "stdout",
       "text": [
        "6.12119454163e-06\n",
        "[1.217349363961463, 1.6293877859024595, -0.00052294475388433919, 0.0008864462677471228, 0.40822588173027485, 1.2169071583722866, 0.19480784978454613, 74.668060868241056, 327.22954120488589, -0.0033328790933031126, 0.035247747913486831, 313.93326229798618, 74.669403483503245, 0.00018619051225909664, -1.7158381131029793e-07, array([ -5.06723765e-14,   8.52235853e-14,   2.64930029e+00]), array([ -1.52005612e-11,  -1.42321964e-11,  -1.07164483e-04])] "
       ]
      },
      {
       "output_type": "stream",
       "stream": "stdout",
       "text": [
        "6.12102110734e-06\n",
        "[1.217349363961463, 1.6293877859024595, -0.00052294475388433919, 0.0008864462677471228, 0.40822588173027485, 1.2169071583722866, 0.19480784978454613, 74.668060868241056, 327.22954120488589, -0.0033328790933031126, 0.035247747913486831, 313.93326228308501, 74.669403498404407, 0.00018619051225909664, -1.7158381131029793e-07, array([ -5.06723765e-14,   8.52235853e-14,   2.64930029e+00]), array([ -1.52005612e-11,  -1.42321964e-11,  -1.07164483e-04])] "
       ]
      },
      {
       "output_type": "stream",
       "stream": "stdout",
       "text": [
        "6.12102087923e-06\n",
        "[1.217349363961463, 1.6293877859024595, -0.00052294475388433919, 0.0008864462677471228, 0.40822588173027485, 1.2169071583722866, 0.19480784978454613, 74.668060868241056, 327.22954120488589, -0.0033328790933031126, 0.035247747913486831, 313.93326228308501, 74.669403483503245, 0.00018620541342029048, -1.7158381131029793e-07, array([ -5.06723765e-14,   8.52235853e-14,   2.64930029e+00]), array([ -1.52005612e-11,  -1.42321964e-11,  -1.07164483e-04])] "
       ]
      },
      {
       "output_type": "stream",
       "stream": "stdout",
       "text": [
        "6.12102088571e-06\n",
        "[1.217349363961463, 1.6293877859024595, -0.00052294475388433919, 0.0008864462677471228, 0.40822588173027485, 1.2169071583722866, 0.19480784978454613, 74.668060868241056, 327.22954120488589, -0.0033328790933031126, 0.035247747913486831, 313.93326228308501, 74.669403483503245, 0.00018619051225909664, -1.5668265011645028e-07, array([ -5.06723765e-14,   8.52235853e-14,   2.64930029e+00]), array([ -1.52005612e-11,  -1.42321964e-11,  -1.07164483e-04])] "
       ]
      },
      {
       "output_type": "stream",
       "stream": "stdout",
       "text": [
        "6.12102087996e-06\n",
        "[1.217349363961463, 1.6293877859024595, -0.00052294475388433919, 0.0008864462677471228, 0.40822588173027485, 1.2169071583722866, 0.19480784978454613, 74.668060868241056, 327.22954120488589, -0.0033328790933031126, 0.035247747913486831, 313.93326228308501, 74.669403483503245, 0.00018619051225909664, -1.7158381131029793e-07, array([  1.49011105e-08,   8.52235853e-14,   2.64930029e+00]), array([ -1.52005612e-11,  -1.42321964e-11,  -1.07164483e-04])] "
       ]
      },
      {
       "output_type": "stream",
       "stream": "stdout",
       "text": [
        "6.12102087998e-06\n",
        "[1.217349363961463, 1.6293877859024595, -0.00052294475388433919, 0.0008864462677471228, 0.40822588173027485, 1.2169071583722866, 0.19480784978454613, 74.668060868241056, 327.22954120488589, -0.0033328790933031126, 0.035247747913486831, 313.93326228308501, 74.669403483503245, 0.00018619051225909664, -1.7158381131029793e-07, array([ -5.06723765e-14,   1.49012464e-08,   2.64930029e+00]), array([ -1.52005612e-11,  -1.42321964e-11,  -1.07164483e-04])] "
       ]
      },
      {
       "output_type": "stream",
       "stream": "stdout",
       "text": [
        "6.12102087998e-06\n",
        "[1.217349363961463, 1.6293877859024595, -0.00052294475388433919, 0.0008864462677471228, 0.40822588173027485, 1.2169071583722866, 0.19480784978454613, 74.668060868241056, 327.22954120488589, -0.0033328790933031126, 0.035247747913486831, 313.93326228308501, 74.669403483503245, 0.00018619051225909664, -1.7158381131029793e-07, array([ -5.06723765e-14,   8.52235853e-14,   2.64930030e+00]), array([ -1.52005612e-11,  -1.42321964e-11,  -1.07164483e-04])] "
       ]
      },
      {
       "output_type": "stream",
       "stream": "stdout",
       "text": [
        "6.12101886125e-06\n",
        "[1.217349363961463, 1.6293877859024595, -0.00052294475388433919, 0.0008864462677471228, 0.40822588173027485, 1.2169071583722866, 0.19480784978454613, 74.668060868241056, 327.22954120488589, -0.0033328790933031126, 0.035247747913486831, 313.93326228308501, 74.669403483503245, 0.00018619051225909664, -1.7158381131029793e-07, array([ -5.06723765e-14,   8.52235853e-14,   2.64930029e+00]), array([  1.48859606e-08,  -1.42321964e-11,  -1.07164483e-04])] "
       ]
      },
      {
       "output_type": "stream",
       "stream": "stdout",
       "text": [
        "6.12102087998e-06\n",
        "[1.217349363961463, 1.6293877859024595, -0.00052294475388433919, 0.0008864462677471228, 0.40822588173027485, 1.2169071583722866, 0.19480784978454613, 74.668060868241056, 327.22954120488589, -0.0033328790933031126, 0.035247747913486831, 313.93326228308501, 74.669403483503245, 0.00018619051225909664, -1.7158381131029793e-07, array([ -5.06723765e-14,   8.52235853e-14,   2.64930029e+00]), array([ -1.52005612e-11,   1.48869290e-08,  -1.07164483e-04])] "
       ]
      },
      {
       "output_type": "stream",
       "stream": "stdout",
       "text": [
        "6.12102087998e-06\n",
        "[1.217349363961463, 1.6293877859024595, -0.00052294475388433919, 0.0008864462677471228, 0.40822588173027485, 1.2169071583722866, 0.19480784978454613, 74.668060868241056, 327.22954120488589, -0.0033328790933031126, 0.035247747913486831, 313.93326228308501, 74.669403483503245, 0.00018619051225909664, -1.7158381131029793e-07, array([ -5.06723765e-14,   8.52235853e-14,   2.64930029e+00]), array([ -1.52005612e-11,  -1.42321964e-11,  -1.07149582e-04])] "
       ]
      },
      {
       "output_type": "stream",
       "stream": "stdout",
       "text": [
        "6.12096365921e-06\n",
        "[1.2173400836560873, 1.6293877079262944, -0.00088638956832713688, 0.0013975820112876289, 0.40850043323936608, 1.2168957916458321, 0.1947011892012652, 74.667991655517454, 327.2308903995239, -0.0033393378175037461, 0.035240017473564256, 313.93280913932523, 74.669403662178453, 0.00017938009887740337, -1.6912188675642192e-07, array([ -5.60892022e-14,   1.37367701e-13,   2.64961044e+00]), array([ -1.92178485e-11,  -8.37819791e-12,  -1.06889005e-04])] "
       ]
      },
      {
       "output_type": "stream",
       "stream": "stdout",
       "text": [
        "5.84269622812e-06\n",
        "[1.2173400836560873, 1.6293877079262944, -0.00088638956832713688, 0.0013975820112876289, 0.40850043323936608, 1.2168957916458321, 0.1947011892012652, 74.667991655517454, 327.2308903995239, -0.0033393378175037461, 0.035240017473564256, 313.93280913932523, 74.669403662178453, 0.00017938009887740337, -1.6912188675642192e-07, array([ -5.60892022e-14,   1.37367701e-13,   2.64961044e+00]), array([ -1.92178485e-11,  -8.37819791e-12,  -1.06889005e-04])] "
       ]
      },
      {
       "output_type": "stream",
       "stream": "stdout",
       "text": [
        "5.84269622812e-06\n",
        "[1.2173400985572485, 1.6293877079262944, -0.00088638956832713688, 0.0013975820112876289, 0.40850043323936608, 1.2168957916458321, 0.1947011892012652, 74.667991655517454, 327.2308903995239, -0.0033393378175037461, 0.035240017473564256, 313.93280913932523, 74.669403662178453, 0.00017938009887740337, -1.6912188675642192e-07, array([ -5.60892022e-14,   1.37367701e-13,   2.64961044e+00]), array([ -1.92178485e-11,  -8.37819791e-12,  -1.06889005e-04])] "
       ]
      },
      {
       "output_type": "stream",
       "stream": "stdout",
       "text": [
        "5.84269841778e-06\n",
        "[1.2173400836560873, 1.6293877228274556, -0.00088638956832713688, 0.0013975820112876289, 0.40850043323936608, 1.2168957916458321, 0.1947011892012652, 74.667991655517454, 327.2308903995239, -0.0033393378175037461, 0.035240017473564256, 313.93280913932523, 74.669403662178453, 0.00017938009887740337, -1.6912188675642192e-07, array([ -5.60892022e-14,   1.37367701e-13,   2.64961044e+00]), array([ -1.92178485e-11,  -8.37819791e-12,  -1.06889005e-04])] "
       ]
      },
      {
       "output_type": "stream",
       "stream": "stdout",
       "text": [
        "5.84254915873e-06\n",
        "[1.2173400836560873, 1.6293877079262944, -0.00088637466716594304, 0.0013975820112876289, 0.40850043323936608, 1.2168957916458321, 0.1947011892012652, 74.667991655517454, 327.2308903995239, -0.0033393378175037461, 0.035240017473564256, 313.93280913932523, 74.669403662178453, 0.00017938009887740337, -1.6912188675642192e-07, array([ -5.60892022e-14,   1.37367701e-13,   2.64961044e+00]), array([ -1.92178485e-11,  -8.37819791e-12,  -1.06889005e-04])] "
       ]
      },
      {
       "output_type": "stream",
       "stream": "stdout",
       "text": [
        "5.84269403506e-06\n",
        "[1.2173400836560873, 1.6293877079262944, -0.00088638956832713688, 0.0013975969124488227, 0.40850043323936608, 1.2168957916458321, 0.1947011892012652, 74.667991655517454, 327.2308903995239, -0.0033393378175037461, 0.035240017473564256, 313.93280913932523, 74.669403662178453, 0.00017938009887740337, -1.6912188675642192e-07, array([ -5.60892022e-14,   1.37367701e-13,   2.64961044e+00]), array([ -1.92178485e-11,  -8.37819791e-12,  -1.06889005e-04])] "
       ]
      },
      {
       "output_type": "stream",
       "stream": "stdout",
       "text": [
        "5.84270131636e-06\n",
        "[1.2173400836560873, 1.6293877079262944, -0.00088638956832713688, 0.0013975820112876289, 0.40850044814052727, 1.2168957916458321, 0.1947011892012652, 74.667991655517454, 327.2308903995239, -0.0033393378175037461, 0.035240017473564256, 313.93280913932523, 74.669403662178453, 0.00017938009887740337, -1.6912188675642192e-07, array([ -5.60892022e-14,   1.37367701e-13,   2.64961044e+00]), array([ -1.92178485e-11,  -8.37819791e-12,  -1.06889005e-04])] "
       ]
      },
      {
       "output_type": "stream",
       "stream": "stdout",
       "text": [
        "5.84269519663e-06\n",
        "[1.2173400836560873, 1.6293877079262944, -0.00088638956832713688, 0.0013975820112876289, 0.40850043323936608, 1.2168958065469933, 0.1947011892012652, 74.667991655517454, 327.2308903995239, -0.0033393378175037461, 0.035240017473564256, 313.93280913932523, 74.669403662178453, 0.00017938009887740337, -1.6912188675642192e-07, array([ -5.60892022e-14,   1.37367701e-13,   2.64961044e+00]), array([ -1.92178485e-11,  -8.37819791e-12,  -1.06889005e-04])] "
       ]
      },
      {
       "output_type": "stream",
       "stream": "stdout",
       "text": [
        "5.84269628052e-06\n",
        "[1.2173400836560873, 1.6293877079262944, -0.00088638956832713688, 0.0013975820112876289, 0.40850043323936608, 1.2168957916458321, 0.19470120410242639, 74.667991655517454, 327.2308903995239, -0.0033393378175037461, 0.035240017473564256, 313.93280913932523, 74.669403662178453, 0.00017938009887740337, -1.6912188675642192e-07, array([ -5.60892022e-14,   1.37367701e-13,   2.64961044e+00]), array([ -1.92178485e-11,  -8.37819791e-12,  -1.06889005e-04])] "
       ]
      },
      {
       "output_type": "stream",
       "stream": "stdout",
       "text": [
        "5.84269666102e-06\n",
        "[1.2173400836560873, 1.6293877079262944, -0.00088638956832713688, 0.0013975820112876289, 0.40850043323936608, 1.2168957916458321, 0.1947011892012652, 74.667991670418616, 327.2308903995239, -0.0033393378175037461, 0.035240017473564256, 313.93280913932523, 74.669403662178453, 0.00017938009887740337, -1.6912188675642192e-07, array([ -5.60892022e-14,   1.37367701e-13,   2.64961044e+00]), array([ -1.92178485e-11,  -8.37819791e-12,  -1.06889005e-04])] "
       ]
      },
      {
       "output_type": "stream",
       "stream": "stdout",
       "text": [
        "5.84269608984e-06\n",
        "[1.2173400836560873, 1.6293877079262944, -0.00088638956832713688, 0.0013975820112876289, 0.40850043323936608, 1.2168957916458321, 0.1947011892012652, 74.667991655517454, 327.23089041442506, -0.0033393378175037461, 0.035240017473564256, 313.93280913932523, 74.669403662178453, 0.00017938009887740337, -1.6912188675642192e-07, array([ -5.60892022e-14,   1.37367701e-13,   2.64961044e+00]), array([ -1.92178485e-11,  -8.37819791e-12,  -1.06889005e-04])] "
       ]
      },
      {
       "output_type": "stream",
       "stream": "stdout",
       "text": [
        "5.84269352177e-06\n",
        "[1.2173400836560873, 1.6293877079262944, -0.00088638956832713688, 0.0013975820112876289, 0.40850043323936608, 1.2168957916458321, 0.1947011892012652, 74.667991655517454, 327.2308903995239, -0.0033393229163425522, 0.035240017473564256, 313.93280913932523, 74.669403662178453, 0.00017938009887740337, -1.6912188675642192e-07, array([ -5.60892022e-14,   1.37367701e-13,   2.64961044e+00]), array([ -1.92178485e-11,  -8.37819791e-12,  -1.06889005e-04])] "
       ]
      },
      {
       "output_type": "stream",
       "stream": "stdout",
       "text": [
        "5.84270478423e-06\n",
        "[1.2173400836560873, 1.6293877079262944, -0.00088638956832713688, 0.0013975820112876289, 0.40850043323936608, 1.2168957916458321, 0.1947011892012652, 74.667991655517454, 327.2308903995239, -0.0033393378175037461, 0.03524003237472545, 313.93280913932523, 74.669403662178453, 0.00017938009887740337, -1.6912188675642192e-07, array([ -5.60892022e-14,   1.37367701e-13,   2.64961044e+00]), array([ -1.92178485e-11,  -8.37819791e-12,  -1.06889005e-04])] "
       ]
      },
      {
       "output_type": "stream",
       "stream": "stdout",
       "text": [
        "5.84294263616e-06\n",
        "[1.2173400836560873, 1.6293877079262944, -0.00088638956832713688, 0.0013975820112876289, 0.40850043323936608, 1.2168957916458321, 0.1947011892012652, 74.667991655517454, 327.2308903995239, -0.0033393378175037461, 0.035240017473564256, 313.93280915422639, 74.669403662178453, 0.00017938009887740337, -1.6912188675642192e-07, array([ -5.60892022e-14,   1.37367701e-13,   2.64961044e+00]), array([ -1.92178485e-11,  -8.37819791e-12,  -1.06889005e-04])] "
       ]
      },
      {
       "output_type": "stream",
       "stream": "stdout",
       "text": [
        "5.84269510066e-06\n",
        "[1.2173400836560873, 1.6293877079262944, -0.00088638956832713688, 0.0013975820112876289, 0.40850043323936608, 1.2168957916458321, 0.1947011892012652, 74.667991655517454, 327.2308903995239, -0.0033393378175037461, 0.035240017473564256, 313.93280913932523, 74.669403677079615, 0.00017938009887740337, -1.6912188675642192e-07, array([ -5.60892022e-14,   1.37367701e-13,   2.64961044e+00]), array([ -1.92178485e-11,  -8.37819791e-12,  -1.06889005e-04])] "
       ]
      },
      {
       "output_type": "stream",
       "stream": "stdout",
       "text": [
        "5.84269622719e-06\n",
        "[1.2173400836560873, 1.6293877079262944, -0.00088638956832713688, 0.0013975820112876289, 0.40850043323936608, 1.2168957916458321, 0.1947011892012652, 74.667991655517454, 327.2308903995239, -0.0033393378175037461, 0.035240017473564256, 313.93280913932523, 74.669403662178453, 0.00017939500003859722, -1.6912188675642192e-07, array([ -5.60892022e-14,   1.37367701e-13,   2.64961044e+00]), array([ -1.92178485e-11,  -8.37819791e-12,  -1.06889005e-04])] "
       ]
      },
      {
       "output_type": "stream",
       "stream": "stdout",
       "text": [
        "5.8426962569e-06\n",
        "[1.2173400836560873, 1.6293877079262944, -0.00088638956832713688, 0.0013975820112876289, 0.40850043323936608, 1.2168957916458321, 0.1947011892012652, 74.667991655517454, 327.2308903995239, -0.0033393378175037461, 0.035240017473564256, 313.93280913932523, 74.669403662178453, 0.00017938009887740337, -1.5422072556257427e-07, array([ -5.60892022e-14,   1.37367701e-13,   2.64961044e+00]), array([ -1.92178485e-11,  -8.37819791e-12,  -1.06889005e-04])] "
       ]
      },
      {
       "output_type": "stream",
       "stream": "stdout",
       "text": [
        "5.84269622813e-06\n",
        "[1.2173400836560873, 1.6293877079262944, -0.00088638956832713688, 0.0013975820112876289, 0.40850043323936608, 1.2168957916458321, 0.1947011892012652, 74.667991655517454, 327.2308903995239, -0.0033393378175037461, 0.035240017473564256, 313.93280913932523, 74.669403662178453, 0.00017938009887740337, -1.6912188675642192e-07, array([  1.49011051e-08,   1.37367701e-13,   2.64961044e+00]), array([ -1.92178485e-11,  -8.37819791e-12,  -1.06889005e-04])] "
       ]
      },
      {
       "output_type": "stream",
       "stream": "stdout",
       "text": [
        "5.84269622812e-06\n",
        "[1.2173400836560873, 1.6293877079262944, -0.00088638956832713688, 0.0013975820112876289, 0.40850043323936608, 1.2168957916458321, 0.1947011892012652, 74.667991655517454, 327.2308903995239, -0.0033393378175037461, 0.035240017473564256, 313.93280913932523, 74.669403662178453, 0.00017938009887740337, -1.6912188675642192e-07, array([ -5.60892022e-14,   1.49012986e-08,   2.64961044e+00]), array([ -1.92178485e-11,  -8.37819791e-12,  -1.06889005e-04])] "
       ]
      },
      {
       "output_type": "stream",
       "stream": "stdout",
       "text": [
        "5.84269622812e-06\n",
        "[1.2173400836560873, 1.6293877079262944, -0.00088638956832713688, 0.0013975820112876289, 0.40850043323936608, 1.2168957916458321, 0.1947011892012652, 74.667991655517454, 327.2308903995239, -0.0033393378175037461, 0.035240017473564256, 313.93280913932523, 74.669403662178453, 0.00017938009887740337, -1.6912188675642192e-07, array([ -5.60892022e-14,   1.37367701e-13,   2.64961046e+00]), array([ -1.92178485e-11,  -8.37819791e-12,  -1.06889005e-04])] "
       ]
      },
      {
       "output_type": "stream",
       "stream": "stdout",
       "text": [
        "5.84269479383e-06\n",
        "[1.2173400836560873, 1.6293877079262944, -0.00088638956832713688, 0.0013975820112876289, 0.40850043323936608, 1.2168957916458321, 0.1947011892012652, 74.667991655517454, 327.2308903995239, -0.0033393378175037461, 0.035240017473564256, 313.93280913932523, 74.669403662178453, 0.00017938009887740337, -1.6912188675642192e-07, array([ -5.60892022e-14,   1.37367701e-13,   2.64961044e+00]), array([  1.48819433e-08,  -8.37819791e-12,  -1.06889005e-04])] "
       ]
      },
      {
       "output_type": "stream",
       "stream": "stdout",
       "text": [
        "5.84269622812e-06\n",
        "[1.2173400836560873, 1.6293877079262944, -0.00088638956832713688, 0.0013975820112876289, 0.40850043323936608, 1.2168957916458321, 0.1947011892012652, 74.667991655517454, 327.2308903995239, -0.0033393378175037461, 0.035240017473564256, 313.93280913932523, 74.669403662178453, 0.00017938009887740337, -1.6912188675642192e-07, array([ -5.60892022e-14,   1.37367701e-13,   2.64961044e+00]), array([ -1.92178485e-11,   1.48927830e-08,  -1.06889005e-04])] "
       ]
      },
      {
       "output_type": "stream",
       "stream": "stdout",
       "text": [
        "5.84269622812e-06\n",
        "[1.2173400836560873, 1.6293877079262944, -0.00088638956832713688, 0.0013975820112876289, 0.40850043323936608, 1.2168957916458321, 0.1947011892012652, 74.667991655517454, 327.2308903995239, -0.0033393378175037461, 0.035240017473564256, 313.93280913932523, 74.669403662178453, 0.00017938009887740337, -1.6912188675642192e-07, array([ -5.60892022e-14,   1.37367701e-13,   2.64961044e+00]), array([ -1.92178485e-11,  -8.37819791e-12,  -1.06874104e-04])] "
       ]
      },
      {
       "output_type": "stream",
       "stream": "stdout",
       "text": [
        "5.84261822235e-06\n",
        "[1.2172247943284886, 1.6293877138155193, -0.0010182797620420755, 0.0017050832920943474, 0.40866169124482282, 1.2168751010909871, 0.19451426118016238, 74.667909773652781, 327.23237846078672, -0.0033464206863818365, 0.035236775804898722, 313.93290121722731, 74.669404008626429, 0.00017309282767902809, -1.7145806642405098e-07, array([ -6.74849014e-14,   1.95716363e-13,   2.65013166e+00]), array([ -2.39047254e-11,  -1.81050711e-12,  -1.06776492e-04])] "
       ]
      },
      {
       "output_type": "stream",
       "stream": "stdout",
       "text": [
        "5.6414163041e-06\n",
        "[1.2172247943284886, 1.6293877138155193, -0.0010182797620420755, 0.0017050832920943474, 0.40866169124482282, 1.2168751010909871, 0.19451426118016238, 74.667909773652781, 327.23237846078672, -0.0033464206863818365, 0.035236775804898722, 313.93290121722731, 74.669404008626429, 0.00017309282767902809, -1.7145806642405098e-07, array([ -6.74849014e-14,   1.95716363e-13,   2.65013166e+00]), array([ -2.39047254e-11,  -1.81050711e-12,  -1.06776492e-04])] "
       ]
      },
      {
       "output_type": "stream",
       "stream": "stdout",
       "text": [
        "5.6414163041e-06\n",
        "[1.2172248092296498, 1.6293877138155193, -0.0010182797620420755, 0.0017050832920943474, 0.40866169124482282, 1.2168751010909871, 0.19451426118016238, 74.667909773652781, 327.23237846078672, -0.0033464206863818365, 0.035236775804898722, 313.93290121722731, 74.669404008626429, 0.00017309282767902809, -1.7145806642405098e-07, array([ -6.74849014e-14,   1.95716363e-13,   2.65013166e+00]), array([ -2.39047254e-11,  -1.81050711e-12,  -1.06776492e-04])] "
       ]
      },
      {
       "output_type": "stream",
       "stream": "stdout",
       "text": [
        "5.64141744867e-06\n",
        "[1.2172247943284886, 1.6293877287166805, -0.0010182797620420755, 0.0017050832920943474, 0.40866169124482282, 1.2168751010909871, 0.19451426118016238, 74.667909773652781, 327.23237846078672, -0.0033464206863818365, 0.035236775804898722, 313.93290121722731, 74.669404008626429, 0.00017309282767902809, -1.7145806642405098e-07, array([ -6.74849014e-14,   1.95716363e-13,   2.65013166e+00]), array([ -2.39047254e-11,  -1.81050711e-12,  -1.06776492e-04])] "
       ]
      },
      {
       "output_type": "stream",
       "stream": "stdout",
       "text": [
        "5.64132547405e-06\n",
        "[1.2172247943284886, 1.6293877138155193, -0.0010182648608808816, 0.0017050832920943474, 0.40866169124482282, 1.2168751010909871, 0.19451426118016238, 74.667909773652781, 327.23237846078672, -0.0033464206863818365, 0.035236775804898722, 313.93290121722731, 74.669404008626429, 0.00017309282767902809, -1.7145806642405098e-07, array([ -6.74849014e-14,   1.95716363e-13,   2.65013166e+00]), array([ -2.39047254e-11,  -1.81050711e-12,  -1.06776492e-04])] "
       ]
      },
      {
       "output_type": "stream",
       "stream": "stdout",
       "text": [
        "5.64141356881e-06\n",
        "[1.2172247943284886, 1.6293877138155193, -0.0010182797620420755, 0.0017050981932555413, 0.40866169124482282, 1.2168751010909871, 0.19451426118016238, 74.667909773652781, 327.23237846078672, -0.0033464206863818365, 0.035236775804898722, 313.93290121722731, 74.669404008626429, 0.00017309282767902809, -1.7145806642405098e-07, array([ -6.74849014e-14,   1.95716363e-13,   2.65013166e+00]), array([ -2.39047254e-11,  -1.81050711e-12,  -1.06776492e-04])] "
       ]
      },
      {
       "output_type": "stream",
       "stream": "stdout",
       "text": [
        "5.64141989389e-06\n",
        "[1.2172247943284886, 1.6293877138155193, -0.0010182797620420755, 0.0017050832920943474, 0.40866170614598402, 1.2168751010909871, 0.19451426118016238, 74.667909773652781, 327.23237846078672, -0.0033464206863818365, 0.035236775804898722, 313.93290121722731, 74.669404008626429, 0.00017309282767902809, -1.7145806642405098e-07, array([ -6.74849014e-14,   1.95716363e-13,   2.65013166e+00]), array([ -2.39047254e-11,  -1.81050711e-12,  -1.06776492e-04])] "
       ]
      },
      {
       "output_type": "stream",
       "stream": "stdout",
       "text": [
        "5.64141556464e-06\n",
        "[1.2172247943284886, 1.6293877138155193, -0.0010182797620420755, 0.0017050832920943474, 0.40866169124482282, 1.2168751159921483, 0.19451426118016238, 74.667909773652781, 327.23237846078672, -0.0033464206863818365, 0.035236775804898722, 313.93290121722731, 74.669404008626429, 0.00017309282767902809, -1.7145806642405098e-07, array([ -6.74849014e-14,   1.95716363e-13,   2.65013166e+00]), array([ -2.39047254e-11,  -1.81050711e-12,  -1.06776492e-04])] "
       ]
      },
      {
       "output_type": "stream",
       "stream": "stdout",
       "text": [
        "5.64141634747e-06\n",
        "[1.2172247943284886, 1.6293877138155193, -0.0010182797620420755, 0.0017050832920943474, 0.40866169124482282, 1.2168751010909871, 0.19451427608132357, 74.667909773652781, 327.23237846078672, -0.0033464206863818365, 0.035236775804898722, 313.93290121722731, 74.669404008626429, 0.00017309282767902809, -1.7145806642405098e-07, array([ -6.74849014e-14,   1.95716363e-13,   2.65013166e+00]), array([ -2.39047254e-11,  -1.81050711e-12,  -1.06776492e-04])] "
       ]
      },
      {
       "output_type": "stream",
       "stream": "stdout",
       "text": [
        "5.64141666684e-06\n",
        "[1.2172247943284886, 1.6293877138155193, -0.0010182797620420755, 0.0017050832920943474, 0.40866169124482282, 1.2168751010909871, 0.19451426118016238, 74.667909788553942, 327.23237846078672, -0.0033464206863818365, 0.035236775804898722, 313.93290121722731, 74.669404008626429, 0.00017309282767902809, -1.7145806642405098e-07, array([ -6.74849014e-14,   1.95716363e-13,   2.65013166e+00]), array([ -2.39047254e-11,  -1.81050711e-12,  -1.06776492e-04])] "
       ]
      },
      {
       "output_type": "stream",
       "stream": "stdout",
       "text": [
        "5.64141566128e-06\n",
        "[1.2172247943284886, 1.6293877138155193, -0.0010182797620420755, 0.0017050832920943474, 0.40866169124482282, 1.2168751010909871, 0.19451426118016238, 74.667909773652781, 327.23237847568788, -0.0033464206863818365, 0.035236775804898722, 313.93290121722731, 74.669404008626429, 0.00017309282767902809, -1.7145806642405098e-07, array([ -6.74849014e-14,   1.95716363e-13,   2.65013166e+00]), array([ -2.39047254e-11,  -1.81050711e-12,  -1.06776492e-04])] "
       ]
      },
      {
       "output_type": "stream",
       "stream": "stdout",
       "text": [
        "5.64141471229e-06\n",
        "[1.2172247943284886, 1.6293877138155193, -0.0010182797620420755, 0.0017050832920943474, 0.40866169124482282, 1.2168751010909871, 0.19451426118016238, 74.667909773652781, 327.23237846078672, -0.0033464057852206426, 0.035236775804898722, 313.93290121722731, 74.669404008626429, 0.00017309282767902809, -1.7145806642405098e-07, array([ -6.74849014e-14,   1.95716363e-13,   2.65013166e+00]), array([ -2.39047254e-11,  -1.81050711e-12,  -1.06776492e-04])] "
       ]
      },
      {
       "output_type": "stream",
       "stream": "stdout",
       "text": [
        "5.64142185739e-06\n",
        "[1.2172247943284886, 1.6293877138155193, -0.0010182797620420755, 0.0017050832920943474, 0.40866169124482282, 1.2168751010909871, 0.19451426118016238, 74.667909773652781, 327.23237846078672, -0.0033464206863818365, 0.035236790706059916, 313.93290121722731, 74.669404008626429, 0.00017309282767902809, -1.7145806642405098e-07, array([ -6.74849014e-14,   1.95716363e-13,   2.65013166e+00]), array([ -2.39047254e-11,  -1.81050711e-12,  -1.06776492e-04])] "
       ]
      },
      {
       "output_type": "stream",
       "stream": "stdout",
       "text": [
        "5.64157480213e-06\n",
        "[1.2172247943284886, 1.6293877138155193, -0.0010182797620420755, 0.0017050832920943474, 0.40866169124482282, 1.2168751010909871, 0.19451426118016238, 74.667909773652781, 327.23237846078672, -0.0033464206863818365, 0.035236775804898722, 313.93290123212847, 74.669404008626429, 0.00017309282767902809, -1.7145806642405098e-07, array([ -6.74849014e-14,   1.95716363e-13,   2.65013166e+00]), array([ -2.39047254e-11,  -1.81050711e-12,  -1.06776492e-04])] "
       ]
      },
      {
       "output_type": "stream",
       "stream": "stdout",
       "text": [
        "5.64141481726e-06\n",
        "[1.2172247943284886, 1.6293877138155193, -0.0010182797620420755, 0.0017050832920943474, 0.40866169124482282, 1.2168751010909871, 0.19451426118016238, 74.667909773652781, 327.23237846078672, -0.0033464206863818365, 0.035236775804898722, 313.93290121722731, 74.669404023527591, 0.00017309282767902809, -1.7145806642405098e-07, array([ -6.74849014e-14,   1.95716363e-13,   2.65013166e+00]), array([ -2.39047254e-11,  -1.81050711e-12,  -1.06776492e-04])] "
       ]
      },
      {
       "output_type": "stream",
       "stream": "stdout",
       "text": [
        "5.64141630332e-06\n",
        "[1.2172247943284886, 1.6293877138155193, -0.0010182797620420755, 0.0017050832920943474, 0.40866169124482282, 1.2168751010909871, 0.19451426118016238, 74.667909773652781, 327.23237846078672, -0.0033464206863818365, 0.035236775804898722, 313.93290121722731, 74.669404008626429, 0.00017310772884022193, -1.7145806642405098e-07, array([ -6.74849014e-14,   1.95716363e-13,   2.65013166e+00]), array([ -2.39047254e-11,  -1.81050711e-12,  -1.06776492e-04])] "
       ]
      },
      {
       "output_type": "stream",
       "stream": "stdout",
       "text": [
        "5.64141636138e-06\n",
        "[1.2172247943284886, 1.6293877138155193, -0.0010182797620420755, 0.0017050832920943474, 0.40866169124482282, 1.2168751010909871, 0.19451426118016238, 74.667909773652781, 327.23237846078672, -0.0033464206863818365, 0.035236775804898722, 313.93290121722731, 74.669404008626429, 0.00017309282767902809, -1.5655690523020332e-07, array([ -6.74849014e-14,   1.95716363e-13,   2.65013166e+00]), array([ -2.39047254e-11,  -1.81050711e-12,  -1.06776492e-04])] "
       ]
      },
      {
       "output_type": "stream",
       "stream": "stdout",
       "text": [
        "5.64141630408e-06\n",
        "[1.2172247943284886, 1.6293877138155193, -0.0010182797620420755, 0.0017050832920943474, 0.40866169124482282, 1.2168751010909871, 0.19451426118016238, 74.667909773652781, 327.23237846078672, -0.0033464206863818365, 0.035236775804898722, 313.93290121722731, 74.669404008626429, 0.00017309282767902809, -1.7145806642405098e-07, array([  1.49010937e-08,   1.95716363e-13,   2.65013166e+00]), array([ -2.39047254e-11,  -1.81050711e-12,  -1.06776492e-04])] "
       ]
      },
      {
       "output_type": "stream",
       "stream": "stdout",
       "text": [
        "5.6414163041e-06\n",
        "[1.2172247943284886, 1.6293877138155193, -0.0010182797620420755, 0.0017050832920943474, 0.40866169124482282, 1.2168751010909871, 0.19451426118016238, 74.667909773652781, 327.23237846078672, -0.0033464206863818365, 0.035236775804898722, 313.93290121722731, 74.669404008626429, 0.00017309282767902809, -1.7145806642405098e-07, array([ -6.74849014e-14,   1.49013569e-08,   2.65013166e+00]), array([ -2.39047254e-11,  -1.81050711e-12,  -1.06776492e-04])] "
       ]
      },
      {
       "output_type": "stream",
       "stream": "stdout",
       "text": [
        "5.6414163041e-06\n",
        "[1.2172247943284886, 1.6293877138155193, -0.0010182797620420755, 0.0017050832920943474, 0.40866169124482282, 1.2168751010909871, 0.19451426118016238, 74.667909773652781, 327.23237846078672, -0.0033464206863818365, 0.035236775804898722, 313.93290121722731, 74.669404008626429, 0.00017309282767902809, -1.7145806642405098e-07, array([ -6.74849014e-14,   1.95716363e-13,   2.65013167e+00]), array([ -2.39047254e-11,  -1.81050711e-12,  -1.06776492e-04])] "
       ]
      },
      {
       "output_type": "stream",
       "stream": "stdout",
       "text": [
        "5.64141669506e-06\n",
        "[1.2172247943284886, 1.6293877138155193, -0.0010182797620420755, 0.0017050832920943474, 0.40866169124482282, 1.2168751010909871, 0.19451426118016238, 74.667909773652781, 327.23237846078672, -0.0033464206863818365, 0.035236775804898722, 313.93290121722731, 74.669404008626429, 0.00017309282767902809, -1.7145806642405098e-07, array([ -6.74849014e-14,   1.95716363e-13,   2.65013166e+00]), array([  1.48772565e-08,  -1.81050711e-12,  -1.06776492e-04])] "
       ]
      },
      {
       "output_type": "stream",
       "stream": "stdout",
       "text": [
        "5.6414163041e-06\n",
        "[1.2172247943284886, 1.6293877138155193, -0.0010182797620420755, 0.0017050832920943474, 0.40866169124482282, 1.2168751010909871, 0.19451426118016238, 74.667909773652781, 327.23237846078672, -0.0033464206863818365, 0.035236775804898722, 313.93290121722731, 74.669404008626429, 0.00017309282767902809, -1.7145806642405098e-07, array([ -6.74849014e-14,   1.95716363e-13,   2.65013166e+00]), array([ -2.39047254e-11,   1.48993507e-08,  -1.06776492e-04])] "
       ]
      },
      {
       "output_type": "stream",
       "stream": "stdout",
       "text": [
        "5.6414163041e-06\n",
        "[1.2172247943284886, 1.6293877138155193, -0.0010182797620420755, 0.0017050832920943474, 0.40866169124482282, 1.2168751010909871, 0.19451426118016238, 74.667909773652781, 327.23237846078672, -0.0033464206863818365, 0.035236775804898722, 313.93290121722731, 74.669404008626429, 0.00017309282767902809, -1.7145806642405098e-07, array([ -6.74849014e-14,   1.95716363e-13,   2.65013166e+00]), array([ -2.39047254e-11,  -1.81050711e-12,  -1.06761591e-04])] "
       ]
      },
      {
       "output_type": "stream",
       "stream": "stdout",
       "text": [
        "5.64136798587e-06\n",
        "[1.2171133869077229, 1.6293877500186642, -0.00088376516698039935, 0.001781113988661793, 0.4087015125381625, 1.2168553493508825, 0.19433810040000388, 74.667882707258912, 327.23346309921448, -0.003351243299152699, 0.035237145093506859, 313.93330152965075, 74.669404344570125, 0.0001657832808064497, -1.7184174901817222e-07, array([ -7.24468993e-14,   2.43346737e-13,   2.65047963e+00]), array([ -2.79006414e-11,   3.80790478e-12,  -1.06353443e-04])] "
       ]
      },
      {
       "output_type": "stream",
       "stream": "stdout",
       "text": [
        "5.5244642259e-06\n",
        "[1.2171133869077229, 1.6293877500186642, -0.00088376516698039935, 0.001781113988661793, 0.4087015125381625, 1.2168553493508825, 0.19433810040000388, 74.667882707258912, 327.23346309921448, -0.003351243299152699, 0.035237145093506859, 313.93330152965075, 74.669404344570125, 0.0001657832808064497, -1.7184174901817222e-07, array([ -7.24468993e-14,   2.43346737e-13,   2.65047963e+00]), array([ -2.79006414e-11,   3.80790478e-12,  -1.06353443e-04])] "
       ]
      },
      {
       "output_type": "stream",
       "stream": "stdout",
       "text": [
        "5.5244642259e-06\n",
        "[1.2171134018088841, 1.6293877500186642, -0.00088376516698039935, 0.001781113988661793, 0.4087015125381625, 1.2168553493508825, 0.19433810040000388, 74.667882707258912, 327.23346309921448, -0.003351243299152699, 0.035237145093506859, 313.93330152965075, 74.669404344570125, 0.0001657832808064497, -1.7184174901817222e-07, array([ -7.24468993e-14,   2.43346737e-13,   2.65047963e+00]), array([ -2.79006414e-11,   3.80790478e-12,  -1.06353443e-04])] "
       ]
      },
      {
       "output_type": "stream",
       "stream": "stdout",
       "text": [
        "5.52446405356e-06\n",
        "[1.2171133869077229, 1.6293877649198254, -0.00088376516698039935, 0.001781113988661793, 0.4087015125381625, 1.2168553493508825, 0.19433810040000388, 74.667882707258912, 327.23346309921448, -0.003351243299152699, 0.035237145093506859, 313.93330152965075, 74.669404344570125, 0.0001657832808064497, -1.7184174901817222e-07, array([ -7.24468993e-14,   2.43346737e-13,   2.65047963e+00]), array([ -2.79006414e-11,   3.80790478e-12,  -1.06353443e-04])] "
       ]
      },
      {
       "output_type": "stream",
       "stream": "stdout",
       "text": [
        "5.52445808127e-06\n",
        "[1.2171133869077229, 1.6293877500186642, -0.0008837502658192055, 0.001781113988661793, 0.4087015125381625, 1.2168553493508825, 0.19433810040000388, 74.667882707258912, 327.23346309921448, -0.003351243299152699, 0.035237145093506859, 313.93330152965075, 74.669404344570125, 0.0001657832808064497, -1.7184174901817222e-07, array([ -7.24468993e-14,   2.43346737e-13,   2.65047963e+00]), array([ -2.79006414e-11,   3.80790478e-12,  -1.06353443e-04])] "
       ]
      },
      {
       "output_type": "stream",
       "stream": "stdout",
       "text": [
        "5.5244622947e-06\n",
        "[1.2171133869077229, 1.6293877500186642, -0.00088376516698039935, 0.0017811288898229869, 0.4087015125381625, 1.2168553493508825, 0.19433810040000388, 74.667882707258912, 327.23346309921448, -0.003351243299152699, 0.035237145093506859, 313.93330152965075, 74.669404344570125, 0.0001657832808064497, -1.7184174901817222e-07, array([ -7.24468993e-14,   2.43346737e-13,   2.65047963e+00]), array([ -2.79006414e-11,   3.80790478e-12,  -1.06353443e-04])] "
       ]
      },
      {
       "output_type": "stream",
       "stream": "stdout",
       "text": [
        "5.52446507986e-06\n",
        "[1.2171133869077229, 1.6293877500186642, -0.00088376516698039935, 0.001781113988661793, 0.4087015274393237, 1.2168553493508825, 0.19433810040000388, 74.667882707258912, 327.23346309921448, -0.003351243299152699, 0.035237145093506859, 313.93330152965075, 74.669404344570125, 0.0001657832808064497, -1.7184174901817222e-07, array([ -7.24468993e-14,   2.43346737e-13,   2.65047963e+00]), array([ -2.79006414e-11,   3.80790478e-12,  -1.06353443e-04])] "
       ]
      },
      {
       "output_type": "stream",
       "stream": "stdout",
       "text": [
        "5.52446416949e-06\n",
        "[1.2171133869077229, 1.6293877500186642, -0.00088376516698039935, 0.001781113988661793, 0.4087015125381625, 1.2168553642520437, 0.19433810040000388, 74.667882707258912, 327.23346309921448, -0.003351243299152699, 0.035237145093506859, 313.93330152965075, 74.669404344570125, 0.0001657832808064497, -1.7184174901817222e-07, array([ -7.24468993e-14,   2.43346737e-13,   2.65047963e+00]), array([ -2.79006414e-11,   3.80790478e-12,  -1.06353443e-04])] "
       ]
      }
     ],
     "prompt_number": "*"
    },
    {
     "cell_type": "code",
     "collapsed": false,
     "input": [
      "orbital_parameters_fit_g = [\n",
      "    1.2171134018088841, # asini_i\n",
      "    1.6293877500186642, # pb_i\n",
      "    -0.00088376516698039935, # eps1_i\n",
      "    0.001781113988661793, # eps2_i\n",
      "    0.4087015125381625, # tasc_i\n",
      "    1.2168553493508825, # acosi_i\n",
      "    0.19433810040000388, # q_i\n",
      "    74.667882707258912, # asini_o\n",
      "    327.23346309921448, # pb_o\n",
      "    -0.003351243299152699, # eps1_o\n",
      "    0.035237145093506859, # eps2_o\n",
      "    313.93330152965075, # tasc_o\n",
      "    74.669404344570125, # acosi_o\n",
      "    0.0001657832808064497, # delta_lan\n",
      "    -1.7184174901817222e-07, # lan_i\n",
      "    array([ -7.24468993e-14,   2.43346737e-13,   2.65047963e+00]), # x_cm\n",
      "    array([ -2.79006414e-11,   3.80790478e-12,  -1.06353443e-04])] # v_cm\n",
      "opfg_residual = 5.52446507986e-06"
     ],
     "language": "python",
     "metadata": {},
     "outputs": []
    },
    {
     "cell_type": "markdown",
     "metadata": {},
     "source": [
      "Let's try it tempo-style."
     ]
    },
    {
     "cell_type": "code",
     "collapsed": false,
     "input": [
      "tol = 1e-16\n",
      "mjd_subset = mjds[:100]\n",
      "delay_subset = delays[:100]\n",
      "\n",
      "def pack(args):\n",
      "    return np.array(list(args[:-2]) + list(args[-2]) + list(args[-1]))\n",
      "def unpack(args):\n",
      "    return list(args[:-6])+[args[-6:-3],args[-3:]]\n",
      "def eval_zs(args):\n",
      "    args = unpack(args)\n",
      "    print \"eval:\", args,\n",
      "\n",
      "    initial_values, jac = kepler.kepler_three_body_measurable(*(args+[0]))\n",
      "    vectors = jac # all of them, why not?\n",
      "    \n",
      "    O = quad_integrate.ODE(quad_integrate.KeplerRHS(),\n",
      "           initial_values, 0,\n",
      "           rtol = tol, atol = tol,\n",
      "           vectors = vectors,\n",
      "           delta = 1e-10)\n",
      "    zs = []\n",
      "    jac_all = []\n",
      "    for t in mjd_subset:\n",
      "        O.integrate_to(t)\n",
      "        zs.append(O.x[2])\n",
      "        jac_all.append(O.dx[2,:])\n",
      "    zs = np.array(zs)\n",
      "    jac_all = np.array(jac_all)\n",
      "    \n",
      "    evec = zs-delay_subset\n",
      "    print np.sqrt(np.mean(evec**2))\n",
      "    return evec, jac_all"
     ],
     "language": "python",
     "metadata": {},
     "outputs": [],
     "prompt_number": 63
    },
    {
     "cell_type": "code",
     "collapsed": false,
     "input": [
      "op = pack(orbital_parameters_fit_k)\n",
      "zs, jac = eval_zs(op)\n",
      "vals = [(op, zs, jac)]"
     ],
     "language": "python",
     "metadata": {},
     "outputs": [
      {
       "output_type": "stream",
       "stream": "stdout",
       "text": [
        "eval: [1.2173283388586551, 1.6294202558769499, -0.00027173675787606878, 0.00092125274771793011, 0.40831942631262214, 1.2175190060000001, 0.20000000000000001, 74.668093711142205, 327.22120584044677, -0.0035505652077833833, 0.03516687111663408, 313.89705997513585, 74.669393092000007, 0.0, 0.0, array([ 0.        ,  0.        ,  2.62883336]), array([ 0.,  0.,  0.])] "
       ]
      },
      {
       "output_type": "stream",
       "stream": "stdout",
       "text": [
        "0.00134876236293\n"
       ]
      }
     ],
     "prompt_number": 64
    },
    {
     "cell_type": "code",
     "collapsed": false,
     "input": [
      "op, zs, jac = vals[-1]\n",
      "U,s,Vh = scipy.linalg.svd(jac, full_matrices=False)\n",
      "#print s\n",
      "si = s**(-1)\n",
      "si[s<1e-2] = 0\n",
      "d_op = -np.dot(Vh.T,np.dot(np.diag(si),np.dot(U.T,zs)))\n",
      "print \"op:\", op\n",
      "print \"d_op:\", d_op\n",
      "print\n",
      "n_op = op + d_op\n",
      "zs, jac = eval_zs(n_op)\n",
      "vals.append((n_op,zs,jac))\n"
     ],
     "language": "python",
     "metadata": {},
     "outputs": [
      {
       "output_type": "stream",
       "stream": "stdout",
       "text": [
        "op: [  1.21732834e+00   1.62942026e+00  -2.71736758e-04   9.21252748e-04\n",
        "   4.08319426e-01   1.21751901e+00   2.00000000e-01   7.46680937e+01\n",
        "   3.27221206e+02  -3.55056521e-03   3.51668711e-02   3.13897060e+02\n",
        "   7.46693931e+01   0.00000000e+00   0.00000000e+00   0.00000000e+00\n",
        "   0.00000000e+00   2.62883336e+00   0.00000000e+00   0.00000000e+00\n",
        "   0.00000000e+00]\n",
        "d_op: [ 0.00043935621  1.4137131e-05  0.00024434636 -0.00057576246 -6.2092845e-05\n",
        " -0.00026258149 -5.904459e-06 -0.0005752112  0.00043627978 -0.00030531694\n",
        " -0.00013777504  0.00030051019  0.00010377579 -7.8658491e-06 -8.5000089e-05\n",
        "  0.00016186566  0.00039957008 -2.87646e-05  6.1600423e-05 -0.00015712684\n",
        " -2.8582317e-06]\n",
        "\n",
        "eval: [1.2177676950646034572, 1.6294343930076821835, -2.7390398672090201198e-05, 0.00034549029148732599003, 0.40825733346762453654, 1.217256424508340448, 0.19999409554102025293, 74.66751849993731234, 327.22164212022946386, -0.0038558821454265897366, 0.035029096074665394873, 313.89736048532361895, 74.669496867792609043, -7.865849051300125224e-06, -8.5000089263162946032e-05, array([ 0.00016186566,  0.00039957008,  2.6288046], dtype=float128), array([ 6.1600423e-05, -0.00015712684, -2.8582317e-06], dtype=float128)] "
       ]
      },
      {
       "output_type": "stream",
       "stream": "stdout",
       "text": [
        "0.00946503547015\n"
       ]
      }
     ],
     "prompt_number": 65
    },
    {
     "cell_type": "code",
     "collapsed": false,
     "input": [
      "for i, (op, zs, jac) in enumerate(vals):\n",
      "    print i, np.sqrt(np.mean(zs**2))\n",
      "    plt.semilogy(mjd_subset, np.abs(zs), label=\"%d\"%i)\n",
      "plt.legend(loc=\"best\")\n"
     ],
     "language": "python",
     "metadata": {},
     "outputs": [
      {
       "output_type": "stream",
       "stream": "stdout",
       "text": [
        "0 0.00134876236293\n",
        "1"
       ]
      },
      {
       "output_type": "stream",
       "stream": "stdout",
       "text": [
        " 0.00946503547015\n"
       ]
      },
      {
       "output_type": "pyout",
       "prompt_number": 66,
       "text": [
        "<matplotlib.legend.Legend at 0x7b25390>"
       ]
      },
      {
       "output_type": "display_data",
       "png": "[encoded data removed]"
      }
     ],
     "prompt_number": 66
    },
    {
     "cell_type": "markdown",
     "metadata": {},
     "source": [
      "Let's try Levenburg-Marquardt."
     ]
    },
    {
     "cell_type": "code",
     "collapsed": false,
     "input": [
      "results = []\n",
      "tol = 1e-12\n",
      "\n",
      "mjd_subset = mjds[:100]\n",
      "delay_subset = delays[:100]\n",
      "def pack(args):\n",
      "    return np.array(list(args[:-2]) + list(args[-2]) + list(args[-1]))\n",
      "def unpack(args):\n",
      "    return list(args[:-6])+[args[-6:-3],args[-3:]]\n",
      "class FitQuality:\n",
      "    def __init__(self):\n",
      "        self.last_args = None\n",
      "        self.last_value = None\n",
      "        self.last_derivative = None\n",
      "        self.results = []\n",
      "    def compute(self, args):\n",
      "        self.last_args = tuple(args)\n",
      "        args = unpack(args)\n",
      "        print args,\n",
      "        try:\n",
      "            initial_state, jac = kepler.kepler_three_body_measurable(*(args+[0]))\n",
      "        except (ValueError, RuntimeError):\n",
      "            err = np.inf\n",
      "            self.results.append((args,err,None))\n",
      "            print err\n",
      "            return np.ones(21)*np.inf\n",
      "        #print jac.shape\n",
      "        O = quad_integrate.ODE(quad_integrate.KeplerRHS(),\n",
      "                               initial_state, 0,\n",
      "                               rtol = tol, atol = tol,\n",
      "                               vectors = jac[:,:-1],\n",
      "                               symmetric = False)\n",
      "        r = []\n",
      "        d = []\n",
      "        for t in mjd_subset:\n",
      "            O.integrate_to(t)\n",
      "            r.append(O.x[2])\n",
      "            d.append(O.dx[2,:])\n",
      "        self.last_value = (np.array(r)-delay_subset).astype(float)\n",
      "        self.last_derivative = np.array(d).astype(float)\n",
      "        err = np.mean(self.last_value**2) \n",
      "        self.results.append((args,err,np.array(r)-delay_subset))\n",
      "        print err\n",
      "    def value(self, args):\n",
      "        ta = tuple(args)\n",
      "        if ta!=self.last_args:\n",
      "            self.compute(args)\n",
      "        else:\n",
      "            print \"value skipped\"\n",
      "        return self.last_value\n",
      "    def derivative(self, args):\n",
      "        ta = tuple(args)\n",
      "        if ta!=self.last_args:\n",
      "            self.compute(args)\n",
      "        else:\n",
      "            print \"derivative skipped\"\n",
      "        return self.last_derivative\n",
      "        \n",
      "#print pack(orbital_parameters_fit_k)\n",
      "#print unpack(pack(orbital_parameters_fit_k))\n",
      "fq = FitQuality()"
     ],
     "language": "python",
     "metadata": {},
     "outputs": [
      {
       "output_type": "stream",
       "stream": "stdout",
       "text": [
        "\n"
       ]
      }
     ],
     "prompt_number": 99
    },
    {
     "cell_type": "code",
     "collapsed": false,
     "input": [
      "r = scipy.optimize.leastsq(fq.value, \n",
      "    pack(orbital_parameters_fit_k), \n",
      "    Dfun=fq.derivative)"
     ],
     "language": "python",
     "metadata": {},
     "outputs": [
      {
       "ename": "KeyboardInterrupt",
       "evalue": "",
       "output_type": "pyerr",
       "traceback": [
        "\u001b[0;31m---------------------------------------------------------------------------\u001b[0m\n\u001b[0;31mKeyboardInterrupt\u001b[0m                         Traceback (most recent call last)",
        "\u001b[0;32m<ipython-input-101-a7668d187619>\u001b[0m in \u001b[0;36m<module>\u001b[0;34m()\u001b[0m\n\u001b[1;32m      1\u001b[0m r = scipy.optimize.leastsq(fq.value, \n\u001b[0;32m----> 2\u001b[0;31m     pack(orbital_parameters_fit_k))\n\u001b[0m",
        "\u001b[0;32m/usr/lib/python2.7/dist-packages/scipy/optimize/minpack.pyc\u001b[0m in \u001b[0;36mleastsq\u001b[0;34m(func, x0, args, Dfun, full_output, col_deriv, ftol, xtol, gtol, maxfev, epsfcn, factor, diag)\u001b[0m\n\u001b[1;32m    274\u001b[0m     \u001b[0;32mif\u001b[0m \u001b[0mtype\u001b[0m\u001b[0;34m(\u001b[0m\u001b[0margs\u001b[0m\u001b[0;34m)\u001b[0m \u001b[0;34m!=\u001b[0m \u001b[0mtype\u001b[0m\u001b[0;34m(\u001b[0m\u001b[0;34m(\u001b[0m\u001b[0;34m)\u001b[0m\u001b[0;34m)\u001b[0m\u001b[0;34m:\u001b[0m\u001b[0;34m\u001b[0m\u001b[0m\n\u001b[1;32m    275\u001b[0m         \u001b[0margs\u001b[0m \u001b[0;34m=\u001b[0m \u001b[0;34m(\u001b[0m\u001b[0margs\u001b[0m\u001b[0;34m,\u001b[0m\u001b[0;34m)\u001b[0m\u001b[0;34m\u001b[0m\u001b[0m\n\u001b[0;32m--> 276\u001b[0;31m     \u001b[0mm\u001b[0m \u001b[0;34m=\u001b[0m \u001b[0m_check_func\u001b[0m\u001b[0;34m(\u001b[0m\u001b[0;34m'leastsq'\u001b[0m\u001b[0;34m,\u001b[0m \u001b[0;34m'func'\u001b[0m\u001b[0;34m,\u001b[0m \u001b[0mfunc\u001b[0m\u001b[0;34m,\u001b[0m \u001b[0mx0\u001b[0m\u001b[0;34m,\u001b[0m \u001b[0margs\u001b[0m\u001b[0;34m,\u001b[0m \u001b[0mn\u001b[0m\u001b[0;34m)\u001b[0m\u001b[0;34m[\u001b[0m\u001b[0;36m0\u001b[0m\u001b[0;34m]\u001b[0m\u001b[0;34m\u001b[0m\u001b[0m\n\u001b[0m\u001b[1;32m    277\u001b[0m     \u001b[0;32mif\u001b[0m \u001b[0mn\u001b[0m \u001b[0;34m>\u001b[0m \u001b[0mm\u001b[0m\u001b[0;34m:\u001b[0m\u001b[0;34m\u001b[0m\u001b[0m\n\u001b[1;32m    278\u001b[0m         \u001b[0;32mraise\u001b[0m \u001b[0mTypeError\u001b[0m\u001b[0;34m(\u001b[0m\u001b[0;34m'Improper input: N=%s must not exceed M=%s'\u001b[0m \u001b[0;34m%\u001b[0m \u001b[0;34m(\u001b[0m\u001b[0mn\u001b[0m\u001b[0;34m,\u001b[0m\u001b[0mm\u001b[0m\u001b[0;34m)\u001b[0m\u001b[0;34m)\u001b[0m\u001b[0;34m\u001b[0m\u001b[0m\n",
        "\u001b[0;32m/usr/lib/python2.7/dist-packages/scipy/optimize/minpack.pyc\u001b[0m in \u001b[0;36m_check_func\u001b[0;34m(checker, argname, thefunc, x0, args, numinputs, output_shape)\u001b[0m\n\u001b[1;32m     11\u001b[0m \u001b[0;34m\u001b[0m\u001b[0m\n\u001b[1;32m     12\u001b[0m \u001b[0;32mdef\u001b[0m \u001b[0m_check_func\u001b[0m\u001b[0;34m(\u001b[0m\u001b[0mchecker\u001b[0m\u001b[0;34m,\u001b[0m \u001b[0margname\u001b[0m\u001b[0;34m,\u001b[0m \u001b[0mthefunc\u001b[0m\u001b[0;34m,\u001b[0m \u001b[0mx0\u001b[0m\u001b[0;34m,\u001b[0m \u001b[0margs\u001b[0m\u001b[0;34m,\u001b[0m \u001b[0mnuminputs\u001b[0m\u001b[0;34m,\u001b[0m \u001b[0moutput_shape\u001b[0m\u001b[0;34m=\u001b[0m\u001b[0mNone\u001b[0m\u001b[0;34m)\u001b[0m\u001b[0;34m:\u001b[0m\u001b[0;34m\u001b[0m\u001b[0m\n\u001b[0;32m---> 13\u001b[0;31m     \u001b[0mres\u001b[0m \u001b[0;34m=\u001b[0m \u001b[0matleast_1d\u001b[0m\u001b[0;34m(\u001b[0m\u001b[0mthefunc\u001b[0m\u001b[0;34m(\u001b[0m\u001b[0;34m*\u001b[0m\u001b[0;34m(\u001b[0m\u001b[0;34m(\u001b[0m\u001b[0mx0\u001b[0m\u001b[0;34m[\u001b[0m\u001b[0;34m:\u001b[0m\u001b[0mnuminputs\u001b[0m\u001b[0;34m]\u001b[0m\u001b[0;34m,\u001b[0m\u001b[0;34m)\u001b[0m \u001b[0;34m+\u001b[0m \u001b[0margs\u001b[0m\u001b[0;34m)\u001b[0m\u001b[0;34m)\u001b[0m\u001b[0;34m)\u001b[0m\u001b[0;34m\u001b[0m\u001b[0m\n\u001b[0m\u001b[1;32m     14\u001b[0m     \u001b[0;32mif\u001b[0m \u001b[0;34m(\u001b[0m\u001b[0moutput_shape\u001b[0m \u001b[0;32mis\u001b[0m \u001b[0;32mnot\u001b[0m \u001b[0mNone\u001b[0m\u001b[0;34m)\u001b[0m \u001b[0;32mand\u001b[0m \u001b[0;34m(\u001b[0m\u001b[0mshape\u001b[0m\u001b[0;34m(\u001b[0m\u001b[0mres\u001b[0m\u001b[0;34m)\u001b[0m \u001b[0;34m!=\u001b[0m \u001b[0moutput_shape\u001b[0m\u001b[0;34m)\u001b[0m\u001b[0;34m:\u001b[0m\u001b[0;34m\u001b[0m\u001b[0m\n\u001b[1;32m     15\u001b[0m         \u001b[0;32mif\u001b[0m \u001b[0;34m(\u001b[0m\u001b[0moutput_shape\u001b[0m\u001b[0;34m[\u001b[0m\u001b[0;36m0\u001b[0m\u001b[0;34m]\u001b[0m \u001b[0;34m!=\u001b[0m \u001b[0;36m1\u001b[0m\u001b[0;34m)\u001b[0m\u001b[0;34m:\u001b[0m\u001b[0;34m\u001b[0m\u001b[0m\n",
        "\u001b[0;32m<ipython-input-99-2c8a6ae8ed82>\u001b[0m in \u001b[0;36mvalue\u001b[0;34m(self, args)\u001b[0m\n\u001b[1;32m     45\u001b[0m         \u001b[0mta\u001b[0m \u001b[0;34m=\u001b[0m \u001b[0mtuple\u001b[0m\u001b[0;34m(\u001b[0m\u001b[0margs\u001b[0m\u001b[0;34m)\u001b[0m\u001b[0;34m\u001b[0m\u001b[0m\n\u001b[1;32m     46\u001b[0m         \u001b[0;32mif\u001b[0m \u001b[0mta\u001b[0m\u001b[0;34m!=\u001b[0m\u001b[0mself\u001b[0m\u001b[0;34m.\u001b[0m\u001b[0mlast_args\u001b[0m\u001b[0;34m:\u001b[0m\u001b[0;34m\u001b[0m\u001b[0m\n\u001b[0;32m---> 47\u001b[0;31m             \u001b[0mself\u001b[0m\u001b[0;34m.\u001b[0m\u001b[0mcompute\u001b[0m\u001b[0;34m(\u001b[0m\u001b[0margs\u001b[0m\u001b[0;34m)\u001b[0m\u001b[0;34m\u001b[0m\u001b[0m\n\u001b[0m\u001b[1;32m     48\u001b[0m         \u001b[0;32melse\u001b[0m\u001b[0;34m:\u001b[0m\u001b[0;34m\u001b[0m\u001b[0m\n\u001b[1;32m     49\u001b[0m             \u001b[0;32mprint\u001b[0m \u001b[0;34m\"value skipped\"\u001b[0m\u001b[0;34m\u001b[0m\u001b[0m\n",
        "\u001b[0;32m<ipython-input-99-2c8a6ae8ed82>\u001b[0m in \u001b[0;36mcompute\u001b[0;34m(self, args)\u001b[0m\n\u001b[1;32m     34\u001b[0m         \u001b[0md\u001b[0m \u001b[0;34m=\u001b[0m \u001b[0;34m[\u001b[0m\u001b[0;34m]\u001b[0m\u001b[0;34m\u001b[0m\u001b[0m\n\u001b[1;32m     35\u001b[0m         \u001b[0;32mfor\u001b[0m \u001b[0mt\u001b[0m \u001b[0;32min\u001b[0m \u001b[0mmjd_subset\u001b[0m\u001b[0;34m:\u001b[0m\u001b[0;34m\u001b[0m\u001b[0m\n\u001b[0;32m---> 36\u001b[0;31m             \u001b[0mO\u001b[0m\u001b[0;34m.\u001b[0m\u001b[0mintegrate_to\u001b[0m\u001b[0;34m(\u001b[0m\u001b[0mt\u001b[0m\u001b[0;34m)\u001b[0m\u001b[0;34m\u001b[0m\u001b[0m\n\u001b[0m\u001b[1;32m     37\u001b[0m             \u001b[0mr\u001b[0m\u001b[0;34m.\u001b[0m\u001b[0mappend\u001b[0m\u001b[0;34m(\u001b[0m\u001b[0mO\u001b[0m\u001b[0;34m.\u001b[0m\u001b[0mx\u001b[0m\u001b[0;34m[\u001b[0m\u001b[0;36m2\u001b[0m\u001b[0;34m]\u001b[0m\u001b[0;34m)\u001b[0m\u001b[0;34m\u001b[0m\u001b[0m\n\u001b[1;32m     38\u001b[0m             \u001b[0md\u001b[0m\u001b[0;34m.\u001b[0m\u001b[0mappend\u001b[0m\u001b[0;34m(\u001b[0m\u001b[0mO\u001b[0m\u001b[0;34m.\u001b[0m\u001b[0mdx\u001b[0m\u001b[0;34m[\u001b[0m\u001b[0;36m2\u001b[0m\u001b[0;34m,\u001b[0m\u001b[0;34m:\u001b[0m\u001b[0;34m]\u001b[0m\u001b[0;34m)\u001b[0m\u001b[0;34m\u001b[0m\u001b[0m\n",
        "\u001b[0;31mKeyboardInterrupt\u001b[0m: "
       ]
      },
      {
       "output_type": "stream",
       "stream": "stdout",
       "text": [
        "[1.2173283388586551, 1.6294202558769499, -0.00027173675787606878, 0.00092125274771793011, 0.40831942631262214, 1.2175190060000001, 0.20000000000000001, 74.668093711142205, 327.22120584044677, -0.0035505652077833833, 0.03516687111663408, 313.89705997513585, 74.669393092000007, 0.0, 0.0, array([ 0.        ,  0.        ,  2.62883336]), array([ 0.,  0.,  0.])]"
       ]
      }
     ],
     "prompt_number": 101
    },
    {
     "cell_type": "code",
     "collapsed": false,
     "input": [
      "results = []\n",
      "tol = 1e-12\n",
      "\n",
      "mjd_subset = mjds[:100]\n",
      "delay_subset = delays[:100]\n",
      "def pack(args):\n",
      "    return np.array(list(args[:-2]) + list(args[-2]) + list(args[-1]))\n",
      "def unpack(args):\n",
      "    return list(args[:-6])+[args[-6:-3],args[-3:]]\n",
      "class FitQualityNoDeriv:\n",
      "    def __init__(self):\n",
      "        self.last_args = None\n",
      "        self.last_value = None\n",
      "        self.results = []\n",
      "    def compute(self, args):\n",
      "        self.last_args = tuple(args)\n",
      "        args = unpack(args)\n",
      "        print args,\n",
      "        try:\n",
      "            initial_state, jac = kepler.kepler_three_body_measurable(*(args+[0]))\n",
      "        except (ValueError, RuntimeError):\n",
      "            err = np.inf\n",
      "            self.results.append((args,err,None))\n",
      "            print err\n",
      "            return np.ones(21)*np.inf\n",
      "        #print jac.shape\n",
      "        O = quad_integrate.ODE(quad_integrate.KeplerRHS(),\n",
      "                               initial_state, 0,\n",
      "                               rtol = tol, atol = tol)\n",
      "        r = []\n",
      "        for t in mjd_subset:\n",
      "            O.integrate_to(t)\n",
      "            r.append(O.x[2])\n",
      "        self.last_value = (np.array(r)-delay_subset).astype(float)\n",
      "        err = np.mean(self.last_value**2) \n",
      "        self.results.append((args,err,np.array(r)-delay_subset))\n",
      "        print err\n",
      "    def value(self, args):\n",
      "        ta = tuple(args)\n",
      "        if ta!=self.last_args:\n",
      "            self.compute(args)\n",
      "        else:\n",
      "            print \"value skipped\"\n",
      "        return self.last_value\n",
      "        \n",
      "#print pack(orbital_parameters_fit_k)\n",
      "#print unpack(pack(orbital_parameters_fit_k))\n",
      "fq = FitQualityNoDeriv()"
     ],
     "language": "python",
     "metadata": {},
     "outputs": [],
     "prompt_number": 103
    },
    {
     "cell_type": "code",
     "collapsed": false,
     "input": [
      "r = scipy.optimize.leastsq(fq.value, \n",
      "    pack(orbital_parameters_fit_k))"
     ],
     "language": "python",
     "metadata": {},
     "outputs": [
      {
       "output_type": "stream",
       "stream": "stdout",
       "text": [
        "[1.2173283388586551, 1.6294202558769499, -0.00027173675787606878, 0.00092125274771793011, 0.40831942631262214, 1.2175190060000001, 0.20000000000000001, 74.668093711142205, 327.22120584044677, -0.0035505652077833833, 0.03516687111663408, 313.89705997513585, 74.669393092000007, 0.0, 0.0, array([ 0.        ,  0.        ,  2.62883336]), array([ 0.,  0.,  0.])] "
       ]
      },
      {
       "output_type": "stream",
       "stream": "stdout",
       "text": [
        "1.81916047308e-06\n",
        "value skipped\n",
        "value skipped\n",
        "[1.2173283569982609, 1.6294202558769499, -0.00027173675787606878, 0.00092125274771793011, 0.40831942631262214, 1.2175190060000001, 0.20000000000000001, 74.668093711142205, 327.22120584044677, -0.0035505652077833833, 0.03516687111663408, 313.89705997513585, 74.669393092000007, 0.0, 0.0, array([ 0.        ,  0.        ,  2.62883336]), array([ 0.,  0.,  0.])] "
       ]
      },
      {
       "output_type": "stream",
       "stream": "stdout",
       "text": [
        "1.81917737418e-06\n",
        "[1.2173283388586551, 1.6294202801572037, -0.00027173675787606878, 0.00092125274771793011, 0.40831942631262214, 1.2175190060000001, 0.20000000000000001, 74.668093711142205, 327.22120584044677, -0.0035505652077833833, 0.03516687111663408, 313.89705997513585, 74.669393092000007, 0.0, 0.0, array([ 0.        ,  0.        ,  2.62883336]), array([ 0.,  0.,  0.])] "
       ]
      },
      {
       "output_type": "stream",
       "stream": "stdout",
       "text": [
        "1.82037078287e-06\n",
        "[1.2173283388586551, 1.6294202558769499, -0.00027173675382687556, 0.00092125274771793011, 0.40831942631262214, 1.2175190060000001, 0.20000000000000001, 74.668093711142205, 327.22120584044677, -0.0035505652077833833, 0.03516687111663408, 313.89705997513585, 74.669393092000007, 0.0, 0.0, array([ 0.        ,  0.        ,  2.62883336]), array([ 0.,  0.,  0.])] "
       ]
      },
      {
       "output_type": "stream",
       "stream": "stdout",
       "text": [
        "1.81916047434e-06\n",
        "[1.2173283388586551, 1.6294202558769499, -0.00027173675787606878, 0.00092125276144566586, 0.40831942631262214, 1.2175190060000001, 0.20000000000000001, 74.668093711142205, 327.22120584044677, -0.0035505652077833833, 0.03516687111663408, 313.89705997513585, 74.669393092000007, 0.0, 0.0, array([ 0.        ,  0.        ,  2.62883336]), array([ 0.,  0.,  0.])] "
       ]
      },
      {
       "output_type": "stream",
       "stream": "stdout",
       "text": [
        "1.81916045281e-06\n",
        "[1.2173283388586551, 1.6294202558769499, -0.00027173675787606878, 0.00092125274771793011, 0.4083194323970557, 1.2175190060000001, 0.20000000000000001, 74.668093711142205, 327.22120584044677, -0.0035505652077833833, 0.03516687111663408, 313.89705997513585, 74.669393092000007, 0.0, 0.0, array([ 0.        ,  0.        ,  2.62883336]), array([ 0.,  0.,  0.])] "
       ]
      },
      {
       "output_type": "stream",
       "stream": "stdout",
       "text": [
        "1.81919689867e-06\n",
        "[1.2173283388586551, 1.6294202558769499, -0.00027173675787606878, 0.00092125274771793011, 0.40831942631262214, 1.2175190241424469, 0.20000000000000001, 74.668093711142205, 327.22120584044677, -0.0035505652077833833, 0.03516687111663408, 313.89705997513585, 74.669393092000007, 0.0, 0.0, array([ 0.        ,  0.        ,  2.62883336]), array([ 0.,  0.,  0.])] "
       ]
      },
      {
       "output_type": "stream",
       "stream": "stdout",
       "text": [
        "1.81916046666e-06\n",
        "[1.2173283388586551, 1.6294202558769499, -0.00027173675787606878, 0.00092125274771793011, 0.40831942631262214, 1.2175190060000001, 0.20000000298023224, 74.668093711142205, 327.22120584044677, -0.0035505652077833833, 0.03516687111663408, 313.89705997513585, 74.669393092000007, 0.0, 0.0, array([ 0.        ,  0.        ,  2.62883336]), array([ 0.,  0.,  0.])] "
       ]
      },
      {
       "output_type": "stream",
       "stream": "stdout",
       "text": [
        "1.81916049227e-06\n",
        "[1.2173283388586551, 1.6294202558769499, -0.00027173675787606878, 0.00092125274771793011, 0.40831942631262214, 1.2175190060000001, 0.20000000000000001, 74.668094823783505, 327.22120584044677, -0.0035505652077833833, 0.03516687111663408, 313.89705997513585, 74.669393092000007, 0.0, 0.0, array([ 0.        ,  0.        ,  2.62883336]), array([ 0.,  0.,  0.])] "
       ]
      },
      {
       "output_type": "stream",
       "stream": "stdout",
       "text": [
        "1.81863246658e-06\n",
        "[1.2173283388586551, 1.6294202558769499, -0.00027173675787606878, 0.00092125274771793011, 0.40831942631262214, 1.2175190060000001, 0.20000000000000001, 74.668093711142205, 327.22121071642272, -0.0035505652077833833, 0.03516687111663408, 313.89705997513585, 74.669393092000007, 0.0, 0.0, array([ 0.        ,  0.        ,  2.62883336]), array([ 0.,  0.,  0.])] "
       ]
      },
      {
       "output_type": "stream",
       "stream": "stdout",
       "text": [
        "1.81440260564e-06\n",
        "[1.2173283388586551, 1.6294202558769499, -0.00027173675787606878, 0.00092125274771793011, 0.40831942631262214, 1.2175190060000001, 0.20000000000000001, 74.668093711142205, 327.22120584044677, -0.0035505651548758386, 0.03516687111663408, 313.89705997513585, 74.669393092000007, 0.0, 0.0, array([ 0.        ,  0.        ,  2.62883336]), array([ 0.,  0.,  0.])] "
       ]
      },
      {
       "output_type": "stream",
       "stream": "stdout",
       "text": [
        "1.81915890006e-06\n",
        "[1.2173283388586551, 1.6294202558769499, -0.00027173675787606878, 0.00092125274771793011, 0.40831942631262214, 1.2175190060000001, 0.20000000000000001, 74.668093711142205, 327.22120584044677, -0.0035505652077833833, 0.035166871640661297, 313.89705997513585, 74.669393092000007, 0.0, 0.0, array([ 0.        ,  0.        ,  2.62883336]), array([ 0.,  0.,  0.])] "
       ]
      },
      {
       "output_type": "stream",
       "stream": "stdout",
       "text": [
        "1.81916094508e-06\n",
        "[1.2173283388586551, 1.6294202558769499, -0.00027173675787606878, 0.00092125274771793011, 0.40831942631262214, 1.2175190060000001, 0.20000000000000001, 74.668093711142205, 327.22120584044677, -0.0035505652077833833, 0.03516687111663408, 313.89706465256654, 74.669393092000007, 0.0, 0.0, array([ 0.        ,  0.        ,  2.62883336]), array([ 0.,  0.,  0.])] "
       ]
      },
      {
       "output_type": "stream",
       "stream": "stdout",
       "text": [
        "1.82422864456e-06\n",
        "[1.2173283388586551, 1.6294202558769499, -0.00027173675787606878, 0.00092125274771793011, 0.40831942631262214, 1.2175190060000001, 0.20000000000000001, 74.668093711142205, 327.22120584044677, -0.0035505652077833833, 0.03516687111663408, 313.89705997513585, 74.669394204660676, 0.0, 0.0, array([ 0.        ,  0.        ,  2.62883336]), array([ 0.,  0.,  0.])] "
       ]
      },
      {
       "output_type": "stream",
       "stream": "stdout",
       "text": [
        "1.81916047947e-06\n",
        "[1.2173283388586551, 1.6294202558769499, -0.00027173675787606878, 0.00092125274771793011, 0.40831942631262214, 1.2175190060000001, 0.20000000000000001, 74.668093711142205, 327.22120584044677, -0.0035505652077833833, 0.03516687111663408, 313.89705997513585, 74.669393092000007, 1.4901161193880158e-08, 0.0, array([ 0.        ,  0.        ,  2.62883336]), array([ 0.,  0.,  0.])] "
       ]
      },
      {
       "output_type": "stream",
       "stream": "stdout",
       "text": [
        "1.8191605017e-06\n",
        "[1.2173283388586551, 1.6294202558769499, -0.00027173675787606878, 0.00092125274771793011, 0.40831942631262214, 1.2175190060000001, 0.20000000000000001, 74.668093711142205, 327.22120584044677, -0.0035505652077833833, 0.03516687111663408, 313.89705997513585, 74.669393092000007, 0.0, 1.4901161193880158e-08, array([ 0.        ,  0.        ,  2.62883336]), array([ 0.,  0.,  0.])] "
       ]
      },
      {
       "output_type": "stream",
       "stream": "stdout",
       "text": [
        "1.81916047302e-06\n",
        "[1.2173283388586551, 1.6294202558769499, -0.00027173675787606878, 0.00092125274771793011, 0.40831942631262214, 1.2175190060000001, 0.20000000000000001, 74.668093711142205, 327.22120584044677, -0.0035505652077833833, 0.03516687111663408, 313.89705997513585, 74.669393092000007, 0.0, 0.0, array([  1.49011612e-08,   0.00000000e+00,   2.62883336e+00]), array([ 0.,  0.,  0.])] "
       ]
      },
      {
       "output_type": "stream",
       "stream": "stdout",
       "text": [
        "1.81916047308e-06\n",
        "[1.2173283388586551, 1.6294202558769499, -0.00027173675787606878, 0.00092125274771793011, 0.40831942631262214, 1.2175190060000001, 0.20000000000000001, 74.668093711142205, 327.22120584044677, -0.0035505652077833833, 0.03516687111663408, 313.89705997513585, 74.669393092000007, 0.0, 0.0, array([  0.00000000e+00,   1.49011612e-08,   2.62883336e+00]), array([ 0.,  0.,  0.])] "
       ]
      },
      {
       "output_type": "stream",
       "stream": "stdout",
       "text": [
        "1.81916047308e-06\n",
        "[1.2173283388586551, 1.6294202558769499, -0.00027173675787606878, 0.00092125274771793011, 0.40831942631262214, 1.2175190060000001, 0.20000000000000001, 74.668093711142205, 327.22120584044677, -0.0035505652077833833, 0.03516687111663408, 313.89705997513585, 74.669393092000007, 0.0, 0.0, array([ 0.        ,  0.        ,  2.62883339]), array([ 0.,  0.,  0.])] "
       ]
      },
      {
       "output_type": "stream",
       "stream": "stdout",
       "text": [
        "1.81912534767e-06\n",
        "[1.2173283388586551, 1.6294202558769499, -0.00027173675787606878, 0.00092125274771793011, 0.40831942631262214, 1.2175190060000001, 0.20000000000000001, 74.668093711142205, 327.22120584044677, -0.0035505652077833833, 0.03516687111663408, 313.89705997513585, 74.669393092000007, 0.0, 0.0, array([ 0.        ,  0.        ,  2.62883336]), array([  1.49011612e-08,   0.00000000e+00,   0.00000000e+00])] "
       ]
      },
      {
       "output_type": "stream",
       "stream": "stdout",
       "text": [
        "1.81916047308e-06\n",
        "[1.2173283388586551, 1.6294202558769499, -0.00027173675787606878, 0.00092125274771793011, 0.40831942631262214, 1.2175190060000001, 0.20000000000000001, 74.668093711142205, 327.22120584044677, -0.0035505652077833833, 0.03516687111663408, 313.89705997513585, 74.669393092000007, 0.0, 0.0, array([ 0.        ,  0.        ,  2.62883336]), array([  0.00000000e+00,   1.49011612e-08,   0.00000000e+00])] "
       ]
      },
      {
       "output_type": "stream",
       "stream": "stdout",
       "text": [
        "1.81916047308e-06\n",
        "[1.2173283388586551, 1.6294202558769499, -0.00027173675787606878, 0.00092125274771793011, 0.40831942631262214, 1.2175190060000001, 0.20000000000000001, 74.668093711142205, 327.22120584044677, -0.0035505652077833833, 0.03516687111663408, 313.89705997513585, 74.669393092000007, 0.0, 0.0, array([ 0.        ,  0.        ,  2.62883336]), array([  0.00000000e+00,   0.00000000e+00,   1.49011612e-08])] "
       ]
      },
      {
       "output_type": "stream",
       "stream": "stdout",
       "text": [
        "1.81894774883e-06\n",
        "[1.2361580463499302, 1.6655971730768928, 0.0011546236414309789, -0.02339050407548008, 0.40618451174832709, -4729.5946663869008, -253.85367681845671, -52468.407581510728, -21205.006596212086, 29.023595186514694, 155.71385704608966, -25189.740029714092, -328760.87763749022, 69.74166299626485, 3821.907339599732, array([    0.        ,     0.        ,  5937.23650716]), array([-5210.19149854,     0.        ,   879.81739739])] inf\n",
        "[1.2361580647701205, 1.6655971730768928, 0.0011546236414309789, -0.02339050407548008, 0.40618451174832709, -4729.5946663869008, -253.85367681845671, -52468.407581510728, -21205.006596212086, 29.023595186514694, 155.71385704608966, -25189.740029714092, -328760.87763749022, 69.74166299626485, 3821.907339599732, array([    0.        ,     0.        ,  5937.23650716]), array([-5210.19149854,     0.        ,   879.81739739])] inf\n",
        "[1.2361580463499302, 1.6655971978962247, 0.0011546236414309789, -0.02339050407548008, 0.40618451174832709, -4729.5946663869008, -253.85367681845671, -52468.407581510728, -21205.006596212086, 29.023595186514694, 155.71385704608966, -25189.740029714092, -328760.87763749022, 69.74166299626485, 3821.907339599732, array([    0.        ,     0.        ,  5937.23650716]), array([-5210.19149854,     0.        ,   879.81739739])] inf\n",
        "[1.2361580463499302, 1.6655971730768928, 0.0011546236586362118, -0.02339050407548008, 0.40618451174832709, -4729.5946663869008, -253.85367681845671, -52468.407581510728, -21205.006596212086, 29.023595186514694, 155.71385704608966, -25189.740029714092, -328760.87763749022, 69.74166299626485, 3821.907339599732, array([    0.        ,     0.        ,  5937.23650716]), array([-5210.19149854,     0.        ,   879.81739739])] inf\n",
        "[1.2361580463499302, 1.6655971730768928, 0.0011546236414309789, -0.023390503726934408, 0.40618451174832709, -4729.5946663869008, -253.85367681845671, -52468.407581510728, -21205.006596212086, 29.023595186514694, 155.71385704608966, -25189.740029714092, -328760.87763749022, 69.74166299626485, 3821.907339599732, array([    0.        ,     0.        ,  5937.23650716]), array([-5210.19149854,     0.        ,   879.81739739])] inf\n",
        "[1.2361580463499302, 1.6655971730768928, 0.0011546236414309789, -0.02339050407548008, 0.406184517800948, -4729.5946663869008, -253.85367681845671, -52468.407581510728, -21205.006596212086, 29.023595186514694, 155.71385704608966, -25189.740029714092, -328760.87763749022, 69.74166299626485, 3821.907339599732, array([    0.        ,     0.        ,  5937.23650716]), array([-5210.19149854,     0.        ,   879.81739739])] inf\n",
        "[1.2361580463499302, 1.6655971730768928, 0.0011546236414309789, -0.02339050407548008, 0.40618451174832709, -4729.5945959104483, -253.85367681845671, -52468.407581510728, -21205.006596212086, 29.023595186514694, 155.71385704608966, -25189.740029714092, -328760.87763749022, 69.74166299626485, 3821.907339599732, array([    0.        ,     0.        ,  5937.23650716]), array([-5210.19149854,     0.        ,   879.81739739])] inf\n",
        "[1.2361580463499302, 1.6655971730768928, 0.0011546236414309789, -0.02339050407548008, 0.40618451174832709, -4729.5946663869008, -253.85367303574213, -52468.407581510728, -21205.006596212086, 29.023595186514694, 155.71385704608966, -25189.740029714092, -328760.87763749022, 69.74166299626485, 3821.907339599732, array([    0.        ,     0.        ,  5937.23650716]), array([-5210.19149854,     0.        ,   879.81739739])] inf\n",
        "[1.2361580463499302, 1.6655971730768928, 0.0011546236414309789, -0.02339050407548008, 0.40618451174832709, -4729.5946663869008, -253.85367681845671, -52468.406799670527, -21205.006596212086, 29.023595186514694, 155.71385704608966, -25189.740029714092, -328760.87763749022, 69.74166299626485, 3821.907339599732, array([    0.        ,     0.        ,  5937.23650716]), array([-5210.19149854,     0.        ,   879.81739739])] inf\n",
        "[1.2361580463499302, 1.6655971730768928, 0.0011546236414309789, -0.02339050407548008, 0.40618451174832709, -4729.5946663869008, -253.85367681845671, -52468.407581510728, -21205.006280232865, 29.023595186514694, 155.71385704608966, -25189.740029714092, -328760.87763749022, 69.74166299626485, 3821.907339599732, array([    0.        ,     0.        ,  5937.23650716]), array([-5210.19149854,     0.        ,   879.81739739])] inf\n",
        "[1.2361580463499302, 1.6655971730768928, 0.0011546236414309789, -0.02339050407548008, 0.40618451174832709, -4729.5946663869008, -253.85367681845671, -52468.407581510728, -21205.006596212086, 29.023595618999963, 155.71385704608966, -25189.740029714092, -328760.87763749022, 69.74166299626485, 3821.907339599732, array([    0.        ,     0.        ,  5937.23650716]), array([-5210.19149854,     0.        ,   879.81739739])] inf\n",
        "[1.2361580463499302, 1.6655971730768928, 0.0011546236414309789, -0.02339050407548008, 0.40618451174832709, -4729.5946663869008, -253.85367681845671, -52468.407581510728, -21205.006596212086, 29.023595186514694, 155.71385936640695, -25189.740029714092, -328760.87763749022, 69.74166299626485, 3821.907339599732, array([    0.        ,     0.        ,  5937.23650716]), array([-5210.19149854,     0.        ,   879.81739739])] inf\n",
        "[1.2361580463499302, 1.6655971730768928, 0.0011546236414309789, -0.02339050407548008, 0.40618451174832709, -4729.5946663869008, -253.85367681845671, -52468.407581510728, -21205.006596212086, 29.023595186514694, 155.71385704608966, -25189.739654357716, -328760.87763749022, 69.74166299626485, 3821.907339599732, array([    0.        ,     0.        ,  5937.23650716]), array([-5210.19149854,     0.        ,   879.81739739])] inf\n",
        "[1.2361580463499302, 1.6655971730768928, 0.0011546236414309789, -0.02339050407548008, 0.40618451174832709, -4729.5946663869008, -253.85367681845671, -52468.407581510728, -21205.006596212086, 29.023595186514694, 155.71385704608966, -25189.740029714092, -328760.87273857137, 69.74166299626485, 3821.907339599732, array([    0.        ,     0.        ,  5937.23650716]), array([-5210.19149854,     0.        ,   879.81739739])] inf\n",
        "[1.2361580463499302, 1.6655971730768928, 0.0011546236414309789, -0.02339050407548008, 0.40618451174832709, -4729.5946663869008, -253.85367681845671, -52468.407581510728, -21205.006596212086, 29.023595186514694, 155.71385704608966, -25189.740029714092, -328760.87763749022, 69.741664035496612, 3821.907339599732, array([    0.        ,     0.        ,  5937.23650716]), array([-5210.19149854,     0.        ,   879.81739739])] inf\n",
        "[1.2361580463499302, 1.6655971730768928, 0.0011546236414309789, -0.02339050407548008, 0.40618451174832709, -4729.5946663869008, -253.85367681845671, -52468.407581510728, -21205.006596212086, 29.023595186514694, 155.71385704608966, -25189.740029714092, -328760.87763749022, 69.74166299626485, 3821.9073965505895, array([    0.        ,     0.        ,  5937.23650716]), array([-5210.19149854,     0.        ,   879.81739739])] inf\n",
        "[1.2361580463499302, 1.6655971730768928, 0.0011546236414309789, -0.02339050407548008, 0.40618451174832709, -4729.5946663869008, -253.85367681845671, -52468.407581510728, -21205.006596212086, 29.023595186514694, 155.71385704608966, -25189.740029714092, -328760.87763749022, 69.74166299626485, 3821.907339599732, array([  1.49011612e-08,   0.00000000e+00,   5.93723651e+03]), array([-5210.19149854,     0.        ,   879.81739739])] inf\n",
        "[1.2361580463499302, 1.6655971730768928, 0.0011546236414309789, -0.02339050407548008, 0.40618451174832709, -4729.5946663869008, -253.85367681845671, -52468.407581510728, -21205.006596212086, 29.023595186514694, 155.71385704608966, -25189.740029714092, -328760.87763749022, 69.74166299626485, 3821.907339599732, array([  0.00000000e+00,   1.49011612e-08,   5.93723651e+03]), array([-5210.19149854,     0.        ,   879.81739739])] inf\n",
        "[1.2361580463499302, 1.6655971730768928, 0.0011546236414309789, -0.02339050407548008, 0.40618451174832709, -4729.5946663869008, -253.85367681845671, -52468.407581510728, -21205.006596212086, 29.023595186514694, 155.71385704608966, -25189.740029714092, -328760.87763749022, 69.74166299626485, 3821.907339599732, array([    0.        ,     0.        ,  5937.23659563]), array([-5210.19149854,     0.        ,   879.81739739])] inf\n",
        "[1.2361580463499302, 1.6655971730768928, 0.0011546236414309789, -0.02339050407548008, 0.40618451174832709, -4729.5946663869008, -253.85367681845671, -52468.407581510728, -21205.006596212086, 29.023595186514694, 155.71385704608966, -25189.740029714092, -328760.87763749022, 69.74166299626485, 3821.907339599732, array([    0.        ,     0.        ,  5937.23650716]), array([-5210.1914209 ,     0.        ,   879.81739739])] "
       ]
      },
      {
       "output_type": "stream",
       "stream": "stdout",
       "text": [
        "inf\n",
        "[1.2361580463499302, 1.6655971730768928, 0.0011546236414309789, -0.02339050407548008, 0.40618451174832709, -4729.5946663869008, -253.85367681845671, -52468.407581510728, -21205.006596212086, 29.023595186514694, 155.71385704608966, -25189.740029714092, -328760.87763749022, 69.74166299626485, 3821.907339599732, array([    0.        ,     0.        ,  5937.23650716]), array([ -5.21019150e+03,   1.49011612e-08,   8.79817397e+02])] inf\n",
        "[1.2361580463499302, 1.6655971730768928, 0.0011546236414309789, -0.02339050407548008, 0.40618451174832709, -4729.5946663869008, -253.85367681845671, -52468.407581510728, -21205.006596212086, 29.023595186514694, 155.71385704608966, -25189.740029714092, -328760.87763749022, 69.74166299626485, 3821.907339599732, array([    0.        ,     0.        ,  5937.23650716]), array([-5210.19149854,     0.        ,   879.8174105 ])] inf\n"
       ]
      }
     ],
     "prompt_number": 104
    },
    {
     "cell_type": "code",
     "collapsed": false,
     "input": [],
     "language": "python",
     "metadata": {},
     "outputs": []
    }
   ],
   "metadata": {}
  }
 ]
}