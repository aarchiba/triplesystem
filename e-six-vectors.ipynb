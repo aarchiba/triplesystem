{
 "metadata": {
  "name": "",
  "signature": "sha256:a2f3ca8e8f6a937747489aff59759ca535bdca307d1e92431e14222155ce49d3"
 },
 "nbformat": 3,
 "nbformat_minor": 0,
 "worksheets": [
  {
   "cells": [
    {
     "cell_type": "code",
     "collapsed": false,
     "input": [
      "%load_ext autoreload\n",
      "\n",
      "%autoreload 2"
     ],
     "language": "python",
     "metadata": {},
     "outputs": [],
     "prompt_number": 1
    },
    {
     "cell_type": "code",
     "collapsed": false,
     "input": [
      "from __future__ import division\n",
      "from glob import glob\n",
      "import os\n",
      "import time\n",
      "import cPickle as pickle\n",
      "\n",
      "import scipy.linalg\n",
      "import scipy.stats\n",
      "\n",
      "import astropy.io.fits\n",
      "import astropy.table\n",
      "\n",
      "import emcee\n",
      "import numdifftools\n",
      "\n",
      "import kepler\n",
      "import threebody\n",
      "import quad_integrate"
     ],
     "language": "python",
     "metadata": {},
     "outputs": [],
     "prompt_number": 28
    },
    {
     "cell_type": "markdown",
     "metadata": {},
     "source": [
      "# Getting access to the integrator guts"
     ]
    },
    {
     "cell_type": "code",
     "collapsed": false,
     "input": [
      "fpickle = \"fitter_params.pickle\"\n",
      "d = pickle.load(open(fpickle,\"rb\"))\n",
      "F = threebody.Fitter(**d)"
     ],
     "language": "python",
     "metadata": {},
     "outputs": [],
     "prompt_number": 3
    },
    {
     "cell_type": "code",
     "collapsed": false,
     "input": [
      "parameter_dict = F.best_parameters.copy()\n",
      "\n",
      "delta = parameter_dict.get('delta',0)\n",
      "lan = parameter_dict.get('lan',0)\n",
      "pm_x = parameter_dict.get('pm_x',0)\n",
      "pm_y = parameter_dict.get('pm_y',0)\n",
      "\n",
      "parameters = np.asarray([parameter_dict[p]\n",
      "            for p in kepler.three_body_parameters_measurable[:14]])\n",
      "tol = parameter_dict.get('tol', 1e-16)\n",
      "use_quad = parameter_dict.get('use_quad',False)\n",
      "ppn_mode = parameter_dict.get('ppn_mode',None)\n",
      "shapiro = parameter_dict.get('shapiro',True)\n",
      "special = parameter_dict.get('special',True)\n",
      "general = parameter_dict.get('general',True)\n",
      "time_reciprocal = parameter_dict.get('time_reciprocal',False)\n",
      "matrix_mode = parameter_dict.get('matrix_mode',0)\n",
      "\n",
      "initial_values, jac = kepler.kepler_three_body_measurable(\n",
      "                *(list(parameters)+[lan,np.zeros(3),np.zeros(3),0]))\n",
      "\n",
      "if ppn_mode is None:\n",
      "    rhs = quad_integrate.KeplerRHS(special=special, general=general,\n",
      "                                   delta=delta,pm_x=pm_x,pm_y=pm_y,\n",
      "                                   time_reciprocal=time_reciprocal)\n",
      "elif ppn_mode=='GR':\n",
      "    rhs = quad_integrate.KeplerRHS(special=special, general=general,\n",
      "        ppn_motion=True,matrix_mode=matrix_mode,pm_x=pm_x,pm_y=pm_y,\n",
      "                                   time_reciprocal=time_reciprocal)\n",
      "elif ppn_mode=='heavypsr':\n",
      "    delta = parameter_dict['delta'] # M(G) = (1+delta) M(I)\n",
      "    dgamma = parameter_dict['dgamma']\n",
      "    dbeta = parameter_dict['dbeta']\n",
      "    dmbeta = parameter_dict['dmbeta'] #FIXME: all these three-body terms suck\n",
      "    dmpbeta = parameter_dict['dmpbeta']\n",
      "    dlambda = parameter_dict['dlambda']\n",
      "    mgammafac = (1+dgamma-delta)/(1+dgamma)\n",
      "    rhs = quad_integrate.KeplerRHS(special=special, general=general,\n",
      "        gamma=1+dgamma, beta=1+dbeta,\n",
      "        Gamma01=(1+delta), Gamma02=(1+delta), Gamma12=1,\n",
      "        Theta01=mgammafac, Theta02=mgammafac, Theta12=1,\n",
      "        Gamma011=(1+dmpbeta), Gamma012=(1+dmpbeta), Gamma022=(1+dmpbeta),\n",
      "        Gamma100=(1+dlambda), Gamma102=(1+dmbeta), Gamma122=1,\n",
      "        Gamma200=(1+dlambda), Gamma201=(1+dmbeta), Gamma211=1,\n",
      "        ppn_motion=True,matrix_mode=matrix_mode,pm_x=pm_x,pm_y=pm_y,\n",
      "                                   time_reciprocal=time_reciprocal)\n",
      "elif ppn_mode=='heavysimple':\n",
      "    delta = parameter_dict['delta'] # M(G) = (1+delta) M(I)\n",
      "    dgamma = parameter_dict['dgamma']\n",
      "    dbeta = parameter_dict['dbeta']\n",
      "    mgammafac = (1+dgamma-delta)/(1+dgamma)\n",
      "    rhs = quad_integrate.KeplerRHS(special=special, general=general,\n",
      "        gamma=1+dgamma, beta=1+dbeta,\n",
      "        Gamma01=(1+delta), Gamma02=(1+delta), Gamma12=1,\n",
      "        Theta01=mgammafac, Theta02=mgammafac, Theta12=1,\n",
      "        ppn_motion=True,matrix_mode=matrix_mode,pm_x=pm_x,pm_y=pm_y,\n",
      "                                   time_reciprocal=time_reciprocal)\n",
      "elif ppn_mode=='GRtidal':\n",
      "    Rc = parameter_dict['Rc']\n",
      "    k2 = parameter_dict['k2']\n",
      "    Omega = 2*np.pi*parameter_dict['Omega']/parameter_dict['pb_i']\n",
      "    rhs = quad_integrate.KeplerRHS(special=special, general=general,\n",
      "        Rc=Rc, k2=k2, Omega=Omega,\n",
      "        ppn_motion=True,matrix_mode=matrix_mode,pm_x=pm_x,pm_y=pm_y,\n",
      "                                   time_reciprocal=time_reciprocal)\n",
      "if special or general:\n",
      "    initial_values = np.concatenate((initial_values, [0]))\n",
      "\n",
      "gamma = 1+dgamma\n"
     ],
     "language": "python",
     "metadata": {},
     "outputs": [],
     "prompt_number": 4
    },
    {
     "cell_type": "code",
     "collapsed": false,
     "input": [
      "O = quad_integrate.ODEDelay(rhs,\n",
      "       initial_values, 0,\n",
      "       rtol=tol, atol=tol,\n",
      "       shapiro=shapiro,\n",
      "       use_quad=use_quad)"
     ],
     "language": "python",
     "metadata": {},
     "outputs": [],
     "prompt_number": 5
    },
    {
     "cell_type": "code",
     "collapsed": false,
     "input": [
      "O.previous_t_d, O.current_t_d"
     ],
     "language": "python",
     "metadata": {},
     "outputs": [
      {
       "metadata": {},
       "output_type": "pyout",
       "prompt_number": 6,
       "text": [
        "(nan, 0.0)"
       ]
      }
     ],
     "prompt_number": 6
    },
    {
     "cell_type": "code",
     "collapsed": false,
     "input": [
      "O.advance_step()"
     ],
     "language": "python",
     "metadata": {},
     "outputs": [],
     "prompt_number": 7
    },
    {
     "cell_type": "code",
     "collapsed": false,
     "input": [
      "O.previous_t_d, O.current_t_d"
     ],
     "language": "python",
     "metadata": {},
     "outputs": [
      {
       "metadata": {},
       "output_type": "pyout",
       "prompt_number": 8,
       "text": [
        "(0.0, 9.9999999999999995475e-07)"
       ]
      }
     ],
     "prompt_number": 8
    },
    {
     "cell_type": "code",
     "collapsed": false,
     "input": [
      "z = O.evaluate_at(0)"
     ],
     "language": "python",
     "metadata": {},
     "outputs": [],
     "prompt_number": 9
    },
    {
     "cell_type": "code",
     "collapsed": false,
     "input": [
      "n = O.evaluate_at(O.current_t_d)"
     ],
     "language": "python",
     "metadata": {},
     "outputs": [],
     "prompt_number": 10
    },
    {
     "cell_type": "code",
     "collapsed": false,
     "input": [
      "np.sqrt(np.sum((z[:3]-n[:3])**2))"
     ],
     "language": "python",
     "metadata": {},
     "outputs": [
      {
       "metadata": {},
       "output_type": "pyout",
       "prompt_number": 11,
       "text": [
        "7.1087572013128828587e-06"
       ]
      }
     ],
     "prompt_number": 11
    },
    {
     "cell_type": "code",
     "collapsed": false,
     "input": [
      "def shapiro_delay(x, gam):\n",
      "    c = 86400.\n",
      "    G = 36768.59290949113\n",
      "    cst = -2*G*(1+gam)/2/(c*c*c)\n",
      "    d = 0\n",
      "    for k in (1,2):\n",
      "        dr2 = np.sum((x[7*k:7*k+3]-x[:3])**2)\n",
      "        dz = x[7*k+2]-x[2]\n",
      "        d += cst*x[7*k+6]*np.log(dz+np.sqrt(dr2))\n",
      "    return d\n",
      "def delay(x, t_d):\n",
      "    d = np.float128(0)\n",
      "    d+=x[2]/86400.\n",
      "    d+=t_d*pm_x*x[0]\n",
      "    d+=t_d*pm_y*x[1]\n",
      "    d+=shapiro_delay(x,gamma)\n",
      "    return d"
     ],
     "language": "python",
     "metadata": {},
     "outputs": [],
     "prompt_number": 12
    },
    {
     "cell_type": "code",
     "collapsed": false,
     "input": [
      "delay(z,0)"
     ],
     "language": "python",
     "metadata": {},
     "outputs": [
      {
       "metadata": {},
       "output_type": "pyout",
       "prompt_number": 13,
       "text": [
        "0.00020391300597054352327"
       ]
      }
     ],
     "prompt_number": 13
    },
    {
     "cell_type": "code",
     "collapsed": false,
     "input": [
      "shapiro_delay(z,gamma)"
     ],
     "language": "python",
     "metadata": {},
     "outputs": [
      {
       "metadata": {},
       "output_type": "pyout",
       "prompt_number": 14,
       "text": [
        "-3.6353729978187541303e-10"
       ]
      }
     ],
     "prompt_number": 14
    },
    {
     "cell_type": "code",
     "collapsed": false,
     "input": [
      "z[2]/86400"
     ],
     "language": "python",
     "metadata": {},
     "outputs": [
      {
       "metadata": {},
       "output_type": "pyout",
       "prompt_number": 15,
       "text": [
        "0.00020391336950784330514"
       ]
      }
     ],
     "prompt_number": 15
    },
    {
     "cell_type": "code",
     "collapsed": false,
     "input": [
      "pm_x, pm_y"
     ],
     "language": "python",
     "metadata": {},
     "outputs": [
      {
       "metadata": {},
       "output_type": "pyout",
       "prompt_number": 16,
       "text": [
        "(0, 0)"
       ]
      }
     ],
     "prompt_number": 16
    },
    {
     "cell_type": "code",
     "collapsed": false,
     "input": [
      "xs = np.linspace(O.previous_t_d, O.current_t_d, 1000)\n",
      "delays = [delay(O.evaluate_at(t),t) for t in xs]\n",
      "plt.plot(xs,delays)"
     ],
     "language": "python",
     "metadata": {},
     "outputs": [
      {
       "metadata": {},
       "output_type": "pyout",
       "prompt_number": 17,
       "text": [
        "[<matplotlib.lines.Line2D at 0x50c2c90>]"
       ]
      },
      {
       "metadata": {},
       "output_type": "display_data",
       "png": "[encoded data removed]",
       "text": [
        "<matplotlib.figure.Figure at 0x50c3710>"
       ]
      }
     ],
     "prompt_number": 17
    },
    {
     "cell_type": "code",
     "collapsed": false,
     "input": [
      "t_goal = 500\n",
      "O = quad_integrate.ODEDelay(rhs,\n",
      "       initial_values, 0,\n",
      "       rtol=tol, atol=tol,\n",
      "       shapiro=shapiro,\n",
      "       use_quad=use_quad)\n",
      "t_d = O.current_t_d\n",
      "z = initial_values\n",
      "t = t_d+delay(z, t_d)\n",
      "n_steps = 0\n",
      "while t<t_goal:\n",
      "    t_d_o = t_d\n",
      "    z_o = z\n",
      "    t_o = t\n",
      "    O.advance_step()\n",
      "    n_steps += 1\n",
      "    t_d = O.current_t_d\n",
      "    z = O.evaluate_at(t_d)\n",
      "    t = t_d+delay(z, t_d)\n",
      "n_steps"
     ],
     "language": "python",
     "metadata": {},
     "outputs": [
      {
       "metadata": {},
       "output_type": "pyout",
       "prompt_number": 18,
       "text": [
        "3396"
       ]
      }
     ],
     "prompt_number": 18
    },
    {
     "cell_type": "code",
     "collapsed": false,
     "input": [
      "def illinois(f, a, b, fa, fb):\n",
      "    if fa*fb>0:\n",
      "        raise ValueError(\"not a bracket: %g %g\" % (fa,fb))\n",
      "    while fb!=0:\n",
      "        c = b-fb*(b-a)/(fb-fa)\n",
      "            \n",
      "        fc = f(c)\n",
      "        if fb*fc<0:\n",
      "            a, b = b, c\n",
      "            fa, fb = fb, fc\n",
      "        else:\n",
      "            a, b = a, c\n",
      "            fa, fb = fa/2, fc\n",
      "        if a==b:\n",
      "            break\n",
      "    return b, fb"
     ],
     "language": "python",
     "metadata": {},
     "outputs": [],
     "prompt_number": 19
    },
    {
     "cell_type": "code",
     "collapsed": false,
     "input": [
      "nev = 0\n",
      "def target(t_d_t):\n",
      "    global nev\n",
      "    nev += 1\n",
      "    t_t = t_d_t + delay(O.evaluate_at(t_d_t),t_d_t)\n",
      "    r = t_t-t_goal\n",
      "    return r\n",
      "t_d_goal, _ = illinois(target, t_d_o, t_d, t_o-t_goal, t-t_goal)\n",
      "nev"
     ],
     "language": "python",
     "metadata": {},
     "outputs": [
      {
       "metadata": {},
       "output_type": "pyout",
       "prompt_number": 20,
       "text": [
        "4"
       ]
      }
     ],
     "prompt_number": 20
    },
    {
     "cell_type": "code",
     "collapsed": false,
     "input": [
      "O2 = quad_integrate.ODEDelay(rhs,\n",
      "       initial_values, 0,\n",
      "       rtol=tol, atol=tol,\n",
      "       shapiro=shapiro,\n",
      "       use_quad=use_quad)"
     ],
     "language": "python",
     "metadata": {},
     "outputs": [],
     "prompt_number": 21
    },
    {
     "cell_type": "code",
     "collapsed": false,
     "input": [
      "O2.integrate_to(t_goal)"
     ],
     "language": "python",
     "metadata": {},
     "outputs": [],
     "prompt_number": 22
    },
    {
     "cell_type": "code",
     "collapsed": false,
     "input": [
      "O2.t_d"
     ],
     "language": "python",
     "metadata": {},
     "outputs": [
      {
       "metadata": {},
       "output_type": "pyout",
       "prompt_number": 23,
       "text": [
        "500.00047937595996303"
       ]
      }
     ],
     "prompt_number": 23
    },
    {
     "cell_type": "code",
     "collapsed": false,
     "input": [
      "86400*(O2.t_d-t_d_goal)"
     ],
     "language": "python",
     "metadata": {},
     "outputs": [
      {
       "metadata": {},
       "output_type": "pyout",
       "prompt_number": 24,
       "text": [
        "0.0"
       ]
      }
     ],
     "prompt_number": 24
    },
    {
     "cell_type": "markdown",
     "metadata": {},
     "source": [
      "# Reading Earth position vectors"
     ]
    },
    {
     "cell_type": "code",
     "collapsed": false,
     "input": [
      "V = astropy.table.Table.read(\"0337_6vec_table_141007.fits\")"
     ],
     "language": "python",
     "metadata": {},
     "outputs": [],
     "prompt_number": 29
    },
    {
     "cell_type": "code",
     "collapsed": false,
     "input": [
      "V"
     ],
     "language": "python",
     "metadata": {},
     "outputs": [
      {
       "html": [
        "<table id=\"table104830224\"><thead><tr><th>tdbs_d</th><th>tdbs_f</th><th>btoas_d</th><th>btoas_f</th><th>errors</th><th>freqs</th><th>infos</th><th>obs_poss [3]</th><th>obs_vels [3]</th><th>ssb2psb [3]</th></tr></thead><tr><td>55989</td><td>0.855047866011</td><td>55989</td><td>0.853331283411</td><td>0.705</td><td>1439.405</td><td>Arecibo,L-band,PUPPI_coherent_fold</td><td>-142665039184.0 .. 16661290035.9</td><td>-9224.36620324 .. -11405.3755992</td><td>0.555484634639 .. 0.296610248757</td></tr><tr><td>55989</td><td>0.855166379526</td><td>55989</td><td>0.853449785583</td><td>0.738</td><td>1439.405</td><td>Arecibo,L-band,PUPPI_coherent_fold</td><td>-142665133639.0 .. 16661173249.7</td><td>-9224.54956154 .. -11405.3821719</td><td>0.555484634639 .. 0.296610248757</td></tr><tr><td>55989</td><td>0.855284893019</td><td>55989</td><td>0.853568287733</td><td>0.683</td><td>1439.405</td><td>Arecibo,L-band,PUPPI_coherent_fold</td><td>-142665228095.0 .. 16661056463.5</td><td>-9224.73275285 .. -11405.3887449</td><td>0.555484634639 .. 0.296610248757</td></tr><tr><td>55989</td><td>0.855403406547</td><td>55989</td><td>0.853686789917</td><td>0.707</td><td>1439.405</td><td>Arecibo,L-band,PUPPI_coherent_fold</td><td>-142665322553.0 .. 16660939677.2</td><td>-9224.91577711 .. -11405.395318</td><td>0.555484634639 .. 0.296610248757</td></tr><tr><td>55989</td><td>0.85552192004</td><td>55989</td><td>0.853805292066</td><td>0.708</td><td>1439.405</td><td>Arecibo,L-band,PUPPI_coherent_fold</td><td>-142665417013.0 .. 16660822890.9</td><td>-9225.09863408 .. -11405.4018913</td><td>0.555484634639 .. 0.296610248757</td></tr><tr><td>55989</td><td>0.855640433567</td><td>55989</td><td>0.85392379425</td><td>0.7</td><td>1439.405</td><td>Arecibo,L-band,PUPPI_coherent_fold</td><td>-142665511475.0 .. 16660706104.5</td><td>-9225.28132373 .. -11405.4084647</td><td>0.555484634639 .. 0.296610248757</td></tr><tr><td>55989</td><td>0.855758947059</td><td>55989</td><td>0.854042296397</td><td>0.648</td><td>1439.405</td><td>Arecibo,L-band,PUPPI_coherent_fold</td><td>-142665605939.0 .. 16660589318.0</td><td>-9225.46384583 .. -11405.4150383</td><td>0.555484634639 .. 0.296610248757</td></tr><tr><td>55989</td><td>0.85587746058</td><td>55989</td><td>0.854160798575</td><td>0.708</td><td>1439.405</td><td>Arecibo,L-band,PUPPI_coherent_fold</td><td>-142665700405.0 .. 16660472531.5</td><td>-9225.64620034 .. -11405.421612</td><td>0.555484634639 .. 0.296610248757</td></tr><tr><td>55989</td><td>0.855995974126</td><td>55989</td><td>0.854279300776</td><td>0.667</td><td>1439.405</td><td>Arecibo,L-band,PUPPI_coherent_fold</td><td>-142665794872.0 .. 16660355744.8</td><td>-9225.82838711 .. -11405.4281859</td><td>0.555484634639 .. 0.296610248757</td></tr><tr><td>55989</td><td>0.856114487632</td><td>55989</td><td>0.854397802938</td><td>0.773</td><td>1439.405</td><td>Arecibo,L-band,PUPPI_coherent_fold</td><td>-142665889342.0 .. 16660238958.1</td><td>-9226.01040591 .. -11405.43476</td><td>0.555484634639 .. 0.296610248757</td></tr><tr><td>55989</td><td>0.856233001153</td><td>55989</td><td>0.854516305115</td><td>0.686</td><td>1439.405</td><td>Arecibo,L-band,PUPPI_coherent_fold</td><td>-142665983813.0 .. 16660122171.4</td><td>-9226.19225668 .. -11405.4413342</td><td>0.555484634639 .. 0.296610248757</td></tr><tr><td>...</td><td>...</td><td>...</td><td>...</td><td>...</td><td>...</td><td>...</td><td>...</td><td>...</td><td>...</td></tr><tr><td>56421</td><td>0.510731219122</td><td>56421</td><td>0.504938210548</td><td>3.296</td><td>1379.999</td><td>WSRT,L-band,PUMAII_coherent_fold</td><td>-99465347977.7 .. -45389022515.6</td><td>21727.2568891 .. -7843.67569308</td><td>0.555484613441 .. 0.296610226979</td></tr><tr><td>56421</td><td>0.524620101444</td><td>56421</td><td>0.518826898024</td><td>3.425</td><td>1379.999</td><td>WSRT,L-band,PUMAII_coherent_fold</td><td>-99439280066.1 .. -45398433651.8</td><td>21719.5934861 .. -7841.55902989</td><td>0.55548461344 .. 0.296610226978</td></tr><tr><td>56421</td><td>0.538508994502</td><td>56421</td><td>0.532715595481</td><td>4.113</td><td>1379.999</td><td>WSRT,L-band,PUMAII_coherent_fold</td><td>-99413220194.9 .. -45407842256.5</td><td>21713.8370149 .. -7839.44448007</td><td>0.55548461344 .. 0.296610226977</td></tr><tr><td>56421</td><td>0.552340025359</td><td>56421</td><td>0.54654643082</td><td>3.083</td><td>1379.999</td><td>WSRT,L-band,PUMAII_coherent_fold</td><td>-99387274581.9 .. -45417209143.9</td><td>21710.0783687 .. -7837.34094006</td><td>0.555484613439 .. 0.296610226977</td></tr><tr><td>56428</td><td>0.42462013199</td><td>56428</td><td>0.418770656843</td><td>7.752</td><td>1379.999</td><td>WSRT,L-band,PUMAII_coherent_fold</td><td>-85690624766.5 .. -49752265891.9</td><td>23937.6747524 .. -6748.46152102</td><td>0.555484613102 .. 0.29661022663</td></tr><tr><td>56432</td><td>0.535962704034</td><td>56432</td><td>0.53011757801</td><td>6.463</td><td>1379.999</td><td>WSRT,L-band,PUMAII_coherent_fold</td><td>-76936533306.4 .. -52027457788.8</td><td>24913.965372 .. -6056.66750861</td><td>0.5554846129 .. 0.296610226423</td></tr><tr><td>56432</td><td>0.549851641326</td><td>56432</td><td>0.544006572352</td><td>5.789</td><td>1379.999</td><td>WSRT,L-band,PUMAII_coherent_fold</td><td>-76906637130.7 .. -52034724384.3</td><td>24913.1732488 .. -6054.28334926</td><td>0.555484612899 .. 0.296610226422</td></tr><tr><td>56432</td><td>0.563682602032</td><td>56432</td><td>0.557837589235</td><td>5.812</td><td>1379.999</td><td>WSRT,L-band,PUMAII_coherent_fold</td><td>-76876865430.8 .. -52041957805.4</td><td>24914.501895 .. -6051.91168593</td><td>0.555484612898 .. 0.296610226421</td></tr><tr><td>56436</td><td>0.466286806249</td><td>56436</td><td>0.460472081517</td><td>3.406</td><td>1379.999</td><td>WSRT,L-band,PUMAII_coherent_fold</td><td>-68220596753.9 .. -53968817813.6</td><td>25885.3408349 .. -5373.16732022</td><td>0.555484612707 .. 0.296610226224</td></tr><tr><td>56436</td><td>0.480175695849</td><td>56436</td><td>0.474361122713</td><td>3.08</td><td>1379.999</td><td>WSRT,L-band,PUMAII_coherent_fold</td><td>-68189540319.9 .. -53975264134.2</td><td>25875.6863415 .. -5370.70022147</td><td>0.555484612706 .. 0.296610226224</td></tr><tr><td>56436</td><td>0.494006718296</td><td>56436</td><td>0.488192295365</td><td>3.135</td><td>1379.999</td><td>WSRT,L-band,PUMAII_coherent_fold</td><td>-68158623681.9 .. -53981680656.0</td><td>25867.9448669 .. -5368.24567026</td><td>0.555484612705 .. 0.296610226223</td></tr></table>"
       ],
       "metadata": {},
       "output_type": "pyout",
       "prompt_number": 30,
       "text": [
        "<Table rows=34570 names=('tdbs_d','tdbs_f','btoas_d','btoas_f','errors','freqs','infos','obs_poss','obs_vels','ssb2psb')>\n",
        "array([ (55989, 0.8550478660106222, 55989, 0.8533312834107676, 0.705, 1439.405, 'Arecibo,L-band,PUPPI_coherent_fold', [-142665039184.10046, 38433406620.12238, 16661290035.882038], [-9224.366203237405, -25986.539984081992, -11405.37559915361], [0.5554846346391986, 0.7768263519038207, 0.29661024875677744]),\n",
        "       (55989, 0.8551663795260325, 55989, 0.853449785582864, 0.738, 1439.405, 'Arecibo,L-band,PUPPI_coherent_fold', [-142665133638.55884, 38433140527.97, 16661173249.735987], [-9224.549561543266, -25986.779259658128, -11405.38217194978], [0.5554846346391928, 0.7768263519038271, 0.29661024875677144]),\n",
        "       (55989, 0.8552848930192454, 55989, 0.8535682877326494, 0.683, 1439.405, 'Arecibo,L-band,PUPPI_coherent_fold', [-142665228094.88208, 38432874433.39891, 16661056463.53691], [-9224.732752846969, -25987.01871607829, -11405.38874490267], [0.555484634639187, 0.7768263519038335, 0.29661024875676545]),\n",
        "       ...,\n",
        "       (56436, 0.4662868062485117, 56436, 0.460472081517068, 3.406, 1379.999, 'WSRT,L-band,PUMAII_coherent_fold', [-68220596753.93371, -124476033999.35109, -53968817813.60143], [25885.340834867035, -12235.280874287611, -5373.167320222511], [0.5554846127066086, 0.7768263761905865, 0.2966102262242326]),\n",
        "       (56436, 0.4801756958491019, 56436, 0.47436112271303443, 3.08, 1379.999, 'WSRT,L-band,PUMAII_coherent_fold', [-68189540319.86147, -124490725447.65094, -53975264134.22894], [25875.68634146905, -12250.650868843375, -5370.700221474585], [0.5554846127059266, 0.7768263761913418, 0.2966102262235319]),\n",
        "       (56436, 0.494006718295509, 56436, 0.48819229536518804, 3.135, 1379.999, 'WSRT,L-band,PUMAII_coherent_fold', [-68158623681.869514, -124505374644.68803, -53981680655.98666], [25867.944866900696, -12266.983798667663, -5368.2456702608915], [0.5554846127052474, 0.7768263761920938, 0.29661022622283406])], \n",
        "      dtype=[('tdbs_d', '>i4'), ('tdbs_f', '>f8'), ('btoas_d', '>i4'), ('btoas_f', '>f8'), ('errors', '>f8'), ('freqs', '>f8'), ('infos', 'S34'), ('obs_poss', '>f8', (3,)), ('obs_vels', '>f8', (3,)), ('ssb2psb', '>f8', (3,))])"
       ]
      }
     ],
     "prompt_number": 30
    },
    {
     "cell_type": "code",
     "collapsed": false,
     "input": [
      "mjd_base = 55920\n",
      "bary_toas = np.zeros(len(V), dtype=np.float128)\n",
      "bary_toas += V['btoas_d'] - mjd_base\n",
      "bary_toas += V['btoas_f']\n",
      "\n",
      "topo_toas = np.zeros(len(V), dtype=np.float128)\n",
      "topo_toas += V['tdbs_d'] - mjd_base\n",
      "topo_toas += V['tdbs_f']\n",
      "\n",
      "ix_topo = np.argsort(topo_toas)\n",
      "ix_bary = np.argsort(bary_toas)\n",
      "if not np.all(ix_topo==ix_bary):\n",
      "    raise ValueError\n",
      "ix = ix_topo\n",
      "topo_toas = topo_toas[ix]\n",
      "bary_toas = bary_toas[ix]\n",
      "\n",
      "obs_pos = V['obs_poss'][ix]\n",
      "ssb2psb = V['ssb2psb'][ix]\n",
      "\n",
      "translator = {'Arecibo,L-band,PUPPI_coherent_fold': 'AO1440',\n",
      "              'GBT,L-band,GUPPI_coherent_fold': 'GBT1500',\n",
      "              'GBT,L-band,GUPPI_coherent_search': 'GBT1500',\n",
      "              'WSRT,L-band,PUMAII_coherent_fold': 'WSRT1400'}\n",
      "for s in set(V['infos']):\n",
      "    if s not in translator:\n",
      "        translator[s] = \"\"\n",
      "translator"
     ],
     "language": "python",
     "metadata": {},
     "outputs": [
      {
       "metadata": {},
       "output_type": "pyout",
       "prompt_number": 47,
       "text": [
        "{'Arecibo,L-band,PUPPI_coherent_fold': 'AO1440',\n",
        " 'GBT,L-band,GUPPI_coherent_fold': 'GBT1500',\n",
        " 'GBT,L-band,GUPPI_coherent_search': 'GBT1500',\n",
        " 'WSRT,L-band,PUMAII_coherent_fold': 'WSRT1400'}"
       ]
      }
     ],
     "prompt_number": 47
    },
    {
     "cell_type": "code",
     "collapsed": false,
     "input": [
      "F.tel_list"
     ],
     "language": "python",
     "metadata": {},
     "outputs": [
      {
       "metadata": {},
       "output_type": "pyout",
       "prompt_number": 48,
       "text": [
        "['AO1440', 'GBT1500', 'WSRT1400']"
       ]
      }
     ],
     "prompt_number": 48
    },
    {
     "cell_type": "code",
     "collapsed": false,
     "input": [
      "plt.plot(topo_toas/365.2425, 86400*(bary_toas-topo_toas),\n",
      "         \".\", markersize=1)\n",
      "ss_roemer = -np.sum(obs_pos*ssb2psb,axis=1)/299792458. # in s\n",
      "plt.plot(topo_toas/365.2425, -ss_roemer,\n",
      "         \".\", markersize=1)\n"
     ],
     "language": "python",
     "metadata": {},
     "outputs": [
      {
       "metadata": {},
       "output_type": "pyout",
       "prompt_number": 60,
       "text": [
        "[<matplotlib.lines.Line2D at 0x9b5ad50>]"
       ]
      },
      {
       "metadata": {},
       "output_type": "display_data",
       "png": "[encoded data removed]",
       "text": [
        "<matplotlib.figure.Figure at 0x9783c50>"
       ]
      }
     ],
     "prompt_number": 60
    },
    {
     "cell_type": "code",
     "collapsed": false,
     "input": [
      "for k in translator:\n",
      "    c = V['infos'][ix]==k\n",
      "    plt.plot(topo_toas[c]/365.2425, 1e3*86400*(bary_toas[c]-(topo_toas[c]-ss_roemer[c]/86400)),\n",
      "             \".\", markersize=1,label=k)\n",
      "plt.legend(loc=\"best\")\n",
      "plt.xlabel(\"MJD-55920\")\n",
      "plt.ylabel(\"Difference (ms)\")\n",
      "plt.savefig(\"roemer-corrected.pdf\")"
     ],
     "language": "python",
     "metadata": {},
     "outputs": [
      {
       "metadata": {},
       "output_type": "display_data",
       "png": "[encoded data removed]",
       "text": [
        "<matplotlib.figure.Figure at 0xa46c910>"
       ]
      }
     ],
     "prompt_number": 63
    },
    {
     "cell_type": "code",
     "collapsed": false,
     "input": [],
     "language": "python",
     "metadata": {},
     "outputs": []
    },
    {
     "cell_type": "code",
     "collapsed": false,
     "input": [],
     "language": "python",
     "metadata": {},
     "outputs": []
    },
    {
     "cell_type": "code",
     "collapsed": false,
     "input": [],
     "language": "python",
     "metadata": {},
     "outputs": []
    },
    {
     "cell_type": "markdown",
     "metadata": {},
     "source": [
      "# Using Earth position vectors\n",
      "\n",
      "Suppose first that at the time of a TOA we know the Earth position $E$, the arrival time $t$, the direction and distance to the system $V$, and the system position $P$. Then we want to evaluate\n",
      "$$\n",
      "|(V+P)-E|-|V| = \\frac{|V+(P-E)|^2-|V|^2}{|(V+P)-E|+|V|} = \\frac{2V\\cdot (P-E)}{|(V+P)-E|+|V|}.\n",
      "$$\n",
      "This expression automatically includes timing parallax and orbital annual parallax, and depending on how $P$ is defined might also account for proper motion, Kopeikin effects, and radial velocity. (Do we actually want to include radial velocity? There's an argument that we need not bother in one of the timing-model papers. Something like, what we measure while ignoring radial velocity is simply the true value in redefined time and/or distance units.)\n",
      "\n",
      "Of course, to actually apply this we need to express $P$ in the same coordinate system as the other vectors, and we naturally obtain $P$ in a dynamical coordinate system suitable for the pulsar orbit. Since we don't want these dynamics to take place in a rotating coordinate system we'd better fix its orientation once and for all, presumably at time POSEPOCH (though in practice, whenever is convenient). Up to a sign-flip on the $z$ coordinate (to keep a right-handed coordinate system) three sensible basis vectors would be $V$, a vector pointing in the direction of increasing declination, and one pointed in the direction of increasing RA. Easy enough to take $V$, $(0,0,1)$, and their cross product and orthonormalize them (QR decomposition). Then this is the matrix to use to convert positions and velocities in the pulsar system into positions and velocities in the ICRF. \n",
      "\n",
      "The other question is what to do about the proper motion. I think to avoid numerical headaches it's better to simply take $V$ at each step and apply the above formula. Radial velocity poses a minor problem, since if the length of $V$ changes what we subtract also changes, but I'm not sure it's worth including radial velocity at all; if so one could just include it in $P$ then work out analytically what effect it has. All this is to avoid the integrator having to work with large offsets. "
     ]
    },
    {
     "cell_type": "markdown",
     "metadata": {},
     "source": [
      "So, if that accounts for all the effects once we know the pulsar-system dynamical time, now we need to iterate to work out what system dynamical time would produce the right delays to obtain the observed TOA. This is going to require root-finding like what we do now. Ultimately this should go in compiled Cython code, because the delay evaluation gets run for every integrator step (millions) and for every step of the root-finding (probably at least tens per TOA). But these calculations can be done in long doubles, so for testing purposes we can do experiments in python as long as the Cython code provides the appropriate interface.\n",
      "\n",
      "* advance the iterator\n",
      "* report dynamical times at beginning and end of current step\n",
      "* evaluate the integrator within current step\n",
      "\n",
      "All need only take long double times and return long double positions/velocities/Einstein delays. I'll probably want to implement my own root-finding (which might could take advantage of the velocities to provide derivatives, depending on how much it reduces the number of root-finding steps). \n",
      "\n",
      "Restructuring the compiled code in this way also has the advantage that I can simply port my root-finder to a long-double-only Cython version and replace the appalling duplicated code that's in there now.\n",
      "\n",
      "What's the right way to do this? When I have six-vectors, I think the thing to do is take the emcee stuff offline and return nimrod to normal service. Then I can sort this out, get the compiled code looking much cleaner and (optionally) using six-vectors. In fact I can start without six-vectors; initially at least I can just try to replicate the code now, working from the barycentered times I already have. The key concern is that I have to either shut down the fitting or fork off a copy of the project. Forking would be a more git-ish solution (although merging ipython notebooks is going to be impossible) but then I'd have two copies, with two different ipython interpreters. Shutting down all long-running fitter jobs is easier, and at the moment I'm mostly looking to see whether the per-telescope EFACs make things work out better."
     ]
    },
    {
     "cell_type": "code",
     "collapsed": false,
     "input": [
      "def delay(x_psr_lts, d_psr_lts)"
     ],
     "language": "python",
     "metadata": {},
     "outputs": [],
     "prompt_number": 24
    }
   ],
   "metadata": {}
  }
 ]
}