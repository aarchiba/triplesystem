{
 "metadata": {
  "name": "multi_minimum_check"
 },
 "nbformat": 3,
 "nbformat_minor": 0,
 "worksheets": [
  {
   "cells": [
    {
     "cell_type": "code",
     "collapsed": false,
     "input": [
      "import scipy.optimize\n",
      "\n",
      "import kepler\n",
      "import quad_integrate\n",
      "import threebody"
     ],
     "language": "python",
     "metadata": {},
     "outputs": [],
     "prompt_number": 1
    },
    {
     "cell_type": "code",
     "collapsed": false,
     "input": [
      "reload(threebody)"
     ],
     "language": "python",
     "metadata": {},
     "outputs": [
      {
       "output_type": "pyout",
       "prompt_number": 52,
       "text": [
        "<module 'threebody' from 'threebody.py'>"
       ]
      }
     ],
     "prompt_number": 52
    },
    {
     "cell_type": "code",
     "collapsed": false,
     "input": [
      "delay_list = []\n",
      "with open(\"0337_delays_2.txt\") as f:\n",
      "    for l in f.readlines():\n",
      "        if l.startswith(\"#\"):\n",
      "            continue\n",
      "        mjd, delay, tel = l.split()\n",
      "        delay_list.append((float(mjd),float(delay),tel))\n",
      "mjds = np.array([m for (m,d,t) in delay_list])\n",
      "delays = np.array([d for (m,d,t) in delay_list])\n",
      "\n",
      "tel_list = list(sorted(set([t for (m,d,t) in delay_list])))\n",
      "tels = np.array([tel_list.index(t) for (m,d,t) in delay_list])\n",
      "\n",
      "mjds -= delays/86400. # reomve Doppler effect\n",
      "\n",
      "ix = np.argsort(mjds)\n",
      "mjds = mjds[ix]\n",
      "delays = delays[ix]\n",
      "\n",
      "tels = tels[ix]"
     ],
     "language": "python",
     "metadata": {},
     "outputs": [
      {
       "output_type": "stream",
       "stream": "stdout",
       "text": [
        "\n"
       ]
      }
     ],
     "prompt_number": 25
    },
    {
     "cell_type": "code",
     "collapsed": false,
     "input": [
      "params = [1.2174747243188027,\n",
      "    1.6294050499170794,\n",
      "    -8.924516861524968e-05,\n",
      "    0.000685253016835822,\n",
      "    0.4075020223794183,\n",
      "    0.7448736328511888,\n",
      "    0.11700148191244052,\t\n",
      "    74.67249772629293,\n",
      "    327.2543331024813,\t\n",
      "    -0.0034677237764728424,\n",
      "    0.03518458652298544,\n",
      "    ]"
     ],
     "language": "python",
     "metadata": {},
     "outputs": [],
     "prompt_number": 4
    },
    {
     "cell_type": "code",
     "collapsed": false,
     "input": [
      "def random_parameters():\n",
      "    v = {}\n",
      "    for (n,p) in zip(kepler.three_body_parameters_measurable[:-4],params):\n",
      "        v[n] = p\n",
      "    duration = mjds[-1]-mjds[0]\n",
      "    v['pb_i'] += np.random.uniform(-0.1,0.1)/(duration/v['pb_i'])\n",
      "    v['pb_o'] += np.random.uniform(-0.1,0.1)/(duration/v['pb_o'])\n",
      "    v['asini_i'] += np.random.randn()*0.1*v['asini_i']\n",
      "    v['asini_o'] += np.random.randn()*0.1*v['asini_o']\n",
      "    v['acosi_i'] = v['asini_i']/np.tan(np.pi*np.random.uniform(-0.5,0.5))\n",
      "    v['acosi_o'] = v['asini_o']/np.tan(np.pi*np.random.uniform(-0.5,0.5))\n",
      "    v['eps1_i'] = np.random.randn()*1e-3\n",
      "    v['eps2_i'] = np.random.randn()*1e-3\n",
      "    v['eps1_o'] = np.random.randn()*1e-3\n",
      "    v['eps2_o'] = np.random.randn()*1e-3\n",
      "    v['q_i'] = (7.32+np.random.randn())**(-1)\n",
      "    v['delta_lan'] = np.random.uniform(0,2*np.pi)\n",
      "    v['tasc_i'] = np.random.uniform(0,v['pb_i'])\n",
      "    v['tasc_o'] = np.random.uniform(0,v['pb_o'])\n",
      "    return [v[n] for n in kepler.three_body_parameters_measurable[:-4]]"
     ],
     "language": "python",
     "metadata": {},
     "outputs": [],
     "prompt_number": 20
    },
    {
     "cell_type": "code",
     "collapsed": false,
     "input": [
      "def fun(p):\n",
      "    print \"fun:\",p,\n",
      "    o = threebody.compute_orbit(p, mjds)\n",
      "    rv = threebody.remove_trend(o['states'][:,2]-delays, mjds, tel_list, tels)\n",
      "    print np.sqrt(np.mean(rv**2))\n",
      "    return np.asarray(rv, float)\n",
      "def Dfun(p):\n",
      "    print \"Dfun:\",p,\n",
      "    o = threebody.compute_orbit(p, mjds, with_derivatives = True)\n",
      "    jac = o['derivatives'][:,2,:]\n",
      "    for i in range(jac.shape[1]):\n",
      "        jac[:,i] = threebody.remove_trend(jac[:,i], mjds, tel_list, tels)\n",
      "    rv = threebody.remove_trend(o['states'][:,2], mjds, tel_list, tels)\n",
      "    print np.sqrt(np.mean(rv**2))\n",
      "    #r = 2*np.dot(rv,jac)\n",
      "    return np.array(jac, float)"
     ],
     "language": "python",
     "metadata": {},
     "outputs": [
      {
       "output_type": "stream",
       "stream": "stdout",
       "text": [
        "\n"
       ]
      }
     ],
     "prompt_number": 71
    },
    {
     "cell_type": "code",
     "collapsed": false,
     "input": [
      "while True:\n",
      "    p = random_parameters()\n",
      "    print \"start:\", p\n",
      "    r = scipy.optimize.leastsq(fun, p, Dfun=Dfun)\n",
      "    fp = r[0]\n",
      "    err = np.sqrt(np.mean(fun(fp)**2))\n",
      "    print \"finish:\", r[0], err\n",
      "    with open(\"minima.txt\",\"at\") as f:\n",
      "        f.write(\"\\t\".join([repr(err),repr(fp),repr(p)]))"
     ],
     "language": "python",
     "metadata": {},
     "outputs": [
      {
       "output_type": "stream",
       "stream": "stdout",
       "text": [
        "start: [1.2857202652934683, 1.6290093936076733, -0.0016413528331854306, -0.0016602279633648861, 1.1519744173670696, -5.1351744580853822, 0.16861600085330408, 80.98762332067054, 327.30729110077147, -0.0015701311765692195, -0.000643770007406193, 123.72250966207955, 444.39658717615561, 0.47723004129116864]\n",
        "fun: [  1.28572027e+00   1.62900939e+00  -1.64135283e-03  -1.66022796e-03\n",
        "   1.15197442e+00  -5.13517446e+00   1.68616001e-01   8.09876233e+01\n",
        "   3.27307291e+02  -1.57013118e-03  -6.43770007e-04   1.23722510e+02\n",
        "   4.44396587e+02   4.77230041e-01] "
       ]
      },
      {
       "output_type": "stream",
       "stream": "stdout",
       "text": [
        "36.9427167208\n",
        "Dfun: [  1.28572027e+00   1.62900939e+00  -1.64135283e-03  -1.66022796e-03\n",
        "   1.15197442e+00  -5.13517446e+00   1.68616001e-01   8.09876233e+01\n",
        "   3.27307291e+02  -1.57013118e-03  -6.43770007e-04   1.23722510e+02\n",
        "   4.44396587e+02   4.77230041e-01] "
       ]
      },
      {
       "output_type": "stream",
       "stream": "stdout",
       "text": [
        "17.4169674646\n",
        "fun: [  1.28572027e+00   1.62900939e+00  -1.64135283e-03  -1.66022796e-03\n",
        "   1.15197442e+00  -5.13517446e+00   1.68616001e-01   8.09876233e+01\n",
        "   3.27307291e+02  -1.57013118e-03  -6.43770007e-04   1.23722510e+02\n",
        "   4.44396587e+02   4.77230041e-01] "
       ]
      },
      {
       "output_type": "stream",
       "stream": "stdout",
       "text": [
        "36.9427167208\n",
        "fun: [  1.28572027e+00   1.62900939e+00  -1.64135283e-03  -1.66022796e-03\n",
        "   1.15197442e+00  -5.13517446e+00   1.68616001e-01   8.09876233e+01\n",
        "   3.27307291e+02  -1.57013118e-03  -6.43770007e-04   1.23722510e+02\n",
        "   4.44396587e+02   4.77230041e-01] "
       ]
      },
      {
       "output_type": "stream",
       "stream": "stdout",
       "text": [
        "36.9427167208\n",
        "Dfun: [  1.28572027e+00   1.62900939e+00  -1.64135283e-03  -1.66022796e-03\n",
        "   1.15197442e+00  -5.13517446e+00   1.68616001e-01   8.09876233e+01\n",
        "   3.27307291e+02  -1.57013118e-03  -6.43770007e-04   1.23722510e+02\n",
        "   4.44396587e+02   4.77230041e-01] "
       ]
      },
      {
       "output_type": "stream",
       "stream": "stdout",
       "text": [
        "17.4169674646\n",
        "fun: [ -1.33283556e+00   1.63851022e+00  -2.09741145e-02  -4.86843418e-03\n",
        "   8.57615452e-01  -3.55755712e+00   1.92602723e+01  -6.70261089e+01\n",
        "   3.31913758e+02  -2.96820569e-02   1.54727677e-02   1.06176931e+02\n",
        "   3.88086400e+02   8.61356670e+00] "
       ]
      },
      {
       "ename": "KeyboardInterrupt",
       "evalue": "",
       "output_type": "pyerr",
       "traceback": [
        "\u001b[0;31m---------------------------------------------------------------------------\u001b[0m\n\u001b[0;31mKeyboardInterrupt\u001b[0m                         Traceback (most recent call last)",
        "\u001b[0;32m<ipython-input-71-e5cbf6836415>\u001b[0m in \u001b[0;36mDfun\u001b[0;34m(p)\u001b[0m\n\u001b[1;32m      7\u001b[0m \u001b[0;32mdef\u001b[0m \u001b[0mDfun\u001b[0m\u001b[0;34m(\u001b[0m\u001b[0mp\u001b[0m\u001b[0;34m)\u001b[0m\u001b[0;34m:\u001b[0m\u001b[0;34m\u001b[0m\u001b[0m\n\u001b[1;32m      8\u001b[0m     \u001b[0;32mprint\u001b[0m \u001b[0;34m\"Dfun:\"\u001b[0m\u001b[0;34m,\u001b[0m\u001b[0mp\u001b[0m\u001b[0;34m,\u001b[0m\u001b[0;34m\u001b[0m\u001b[0m\n\u001b[0;32m----> 9\u001b[0;31m     \u001b[0mo\u001b[0m \u001b[0;34m=\u001b[0m \u001b[0mthreebody\u001b[0m\u001b[0;34m.\u001b[0m\u001b[0mcompute_orbit\u001b[0m\u001b[0;34m(\u001b[0m\u001b[0mp\u001b[0m\u001b[0;34m,\u001b[0m \u001b[0mmjds\u001b[0m\u001b[0;34m,\u001b[0m \u001b[0mwith_derivatives\u001b[0m \u001b[0;34m=\u001b[0m \u001b[0mTrue\u001b[0m\u001b[0;34m)\u001b[0m\u001b[0;34m\u001b[0m\u001b[0m\n\u001b[0m\u001b[1;32m     10\u001b[0m     \u001b[0mjac\u001b[0m \u001b[0;34m=\u001b[0m \u001b[0mo\u001b[0m\u001b[0;34m[\u001b[0m\u001b[0;34m'derivatives'\u001b[0m\u001b[0;34m]\u001b[0m\u001b[0;34m[\u001b[0m\u001b[0;34m:\u001b[0m\u001b[0;34m,\u001b[0m\u001b[0;36m2\u001b[0m\u001b[0;34m,\u001b[0m\u001b[0;34m:\u001b[0m\u001b[0;34m]\u001b[0m\u001b[0;34m\u001b[0m\u001b[0m\n\u001b[1;32m     11\u001b[0m     \u001b[0;32mfor\u001b[0m \u001b[0mi\u001b[0m \u001b[0;32min\u001b[0m \u001b[0mrange\u001b[0m\u001b[0;34m(\u001b[0m\u001b[0mjac\u001b[0m\u001b[0;34m.\u001b[0m\u001b[0mshape\u001b[0m\u001b[0;34m[\u001b[0m\u001b[0;36m1\u001b[0m\u001b[0;34m]\u001b[0m\u001b[0;34m)\u001b[0m\u001b[0;34m:\u001b[0m\u001b[0;34m\u001b[0m\u001b[0m\n",
        "\u001b[0;32m/home/peridot/projects/threebody/threebody.py\u001b[0m in \u001b[0;36mcompute_orbit\u001b[0;34m(parameters, times, with_derivatives, epoch, save_orbits, load_orbits, tol)\u001b[0m\n\u001b[1;32m    123\u001b[0m                delta = 1e-10)\n\u001b[1;32m    124\u001b[0m         \u001b[0;32mfor\u001b[0m \u001b[0mt\u001b[0m \u001b[0;32min\u001b[0m \u001b[0mtimes\u001b[0m\u001b[0;34m:\u001b[0m\u001b[0;34m\u001b[0m\u001b[0m\n\u001b[0;32m--> 125\u001b[0;31m             \u001b[0mO\u001b[0m\u001b[0;34m.\u001b[0m\u001b[0mintegrate_to\u001b[0m\u001b[0;34m(\u001b[0m\u001b[0mt\u001b[0m\u001b[0;34m)\u001b[0m\u001b[0;34m\u001b[0m\u001b[0m\n\u001b[0m\u001b[1;32m    126\u001b[0m             \u001b[0mstates\u001b[0m\u001b[0;34m.\u001b[0m\u001b[0mappend\u001b[0m\u001b[0;34m(\u001b[0m\u001b[0mO\u001b[0m\u001b[0;34m.\u001b[0m\u001b[0mx\u001b[0m\u001b[0;34m)\u001b[0m\u001b[0;34m\u001b[0m\u001b[0m\n\u001b[1;32m    127\u001b[0m             \u001b[0mderivatives\u001b[0m\u001b[0;34m.\u001b[0m\u001b[0mappend\u001b[0m\u001b[0;34m(\u001b[0m\u001b[0mO\u001b[0m\u001b[0;34m.\u001b[0m\u001b[0mdx\u001b[0m\u001b[0;34m)\u001b[0m\u001b[0;34m\u001b[0m\u001b[0m\n",
        "\u001b[0;31mKeyboardInterrupt\u001b[0m: "
       ]
      },
      {
       "ename": "error",
       "evalue": "Error occurred while calling the Python function named Dfun",
       "output_type": "pyerr",
       "traceback": [
        "\u001b[0;31m---------------------------------------------------------------------------\u001b[0m\n\u001b[0;31merror\u001b[0m                                     Traceback (most recent call last)",
        "\u001b[0;32m<ipython-input-72-d9fa08e93fb1>\u001b[0m in \u001b[0;36m<module>\u001b[0;34m()\u001b[0m\n\u001b[1;32m      2\u001b[0m     \u001b[0mp\u001b[0m \u001b[0;34m=\u001b[0m \u001b[0mrandom_parameters\u001b[0m\u001b[0;34m(\u001b[0m\u001b[0;34m)\u001b[0m\u001b[0;34m\u001b[0m\u001b[0m\n\u001b[1;32m      3\u001b[0m     \u001b[0;32mprint\u001b[0m \u001b[0;34m\"start:\"\u001b[0m\u001b[0;34m,\u001b[0m \u001b[0mp\u001b[0m\u001b[0;34m\u001b[0m\u001b[0m\n\u001b[0;32m----> 4\u001b[0;31m     \u001b[0mr\u001b[0m \u001b[0;34m=\u001b[0m \u001b[0mscipy\u001b[0m\u001b[0;34m.\u001b[0m\u001b[0moptimize\u001b[0m\u001b[0;34m.\u001b[0m\u001b[0mleastsq\u001b[0m\u001b[0;34m(\u001b[0m\u001b[0mfun\u001b[0m\u001b[0;34m,\u001b[0m \u001b[0mp\u001b[0m\u001b[0;34m,\u001b[0m \u001b[0mDfun\u001b[0m\u001b[0;34m=\u001b[0m\u001b[0mDfun\u001b[0m\u001b[0;34m)\u001b[0m\u001b[0;34m\u001b[0m\u001b[0m\n\u001b[0m\u001b[1;32m      5\u001b[0m     \u001b[0mfp\u001b[0m \u001b[0;34m=\u001b[0m \u001b[0mr\u001b[0m\u001b[0;34m[\u001b[0m\u001b[0;36m0\u001b[0m\u001b[0;34m]\u001b[0m\u001b[0;34m\u001b[0m\u001b[0m\n\u001b[1;32m      6\u001b[0m     \u001b[0merr\u001b[0m \u001b[0;34m=\u001b[0m \u001b[0mnp\u001b[0m\u001b[0;34m.\u001b[0m\u001b[0msqrt\u001b[0m\u001b[0;34m(\u001b[0m\u001b[0mnp\u001b[0m\u001b[0;34m.\u001b[0m\u001b[0mmean\u001b[0m\u001b[0;34m(\u001b[0m\u001b[0mfun\u001b[0m\u001b[0;34m(\u001b[0m\u001b[0mfp\u001b[0m\u001b[0;34m)\u001b[0m\u001b[0;34m**\u001b[0m\u001b[0;36m2\u001b[0m\u001b[0;34m)\u001b[0m\u001b[0;34m)\u001b[0m\u001b[0;34m\u001b[0m\u001b[0m\n",
        "\u001b[0;32m/usr/lib/python2.7/dist-packages/scipy/optimize/minpack.pyc\u001b[0m in \u001b[0;36mleastsq\u001b[0;34m(func, x0, args, Dfun, full_output, col_deriv, ftol, xtol, gtol, maxfev, epsfcn, factor, diag)\u001b[0m\n\u001b[1;32m    290\u001b[0m             \u001b[0mmaxfev\u001b[0m \u001b[0;34m=\u001b[0m \u001b[0;36m100\u001b[0m\u001b[0;34m*\u001b[0m\u001b[0;34m(\u001b[0m\u001b[0mn\u001b[0m \u001b[0;34m+\u001b[0m \u001b[0;36m1\u001b[0m\u001b[0;34m)\u001b[0m\u001b[0;34m\u001b[0m\u001b[0m\n\u001b[1;32m    291\u001b[0m         retval = _minpack._lmder(func, Dfun, x0, args, full_output, col_deriv,\n\u001b[0;32m--> 292\u001b[0;31m                 ftol, xtol, gtol, maxfev, factor, diag)\n\u001b[0m\u001b[1;32m    293\u001b[0m \u001b[0;34m\u001b[0m\u001b[0m\n\u001b[1;32m    294\u001b[0m     errors = {0:[\"Improper input parameters.\", TypeError],\n",
        "\u001b[0;31merror\u001b[0m: Error occurred while calling the Python function named Dfun"
       ]
      },
      {
       "output_type": "stream",
       "stream": "stdout",
       "text": [
        "19.3318257805\n",
        "Dfun: [ -1.33283556e+00   1.63851022e+00  -2.09741145e-02  -4.86843418e-03\n",
        "   8.57615452e-01  -3.55755712e+00   1.92602723e+01  -6.70261089e+01\n",
        "   3.31913758e+02  -2.96820569e-02   1.54727677e-02   1.06176931e+02\n",
        "   3.88086400e+02   8.61356670e+00]"
       ]
      }
     ],
     "prompt_number": 72
    },
    {
     "cell_type": "code",
     "collapsed": false,
     "input": [],
     "language": "python",
     "metadata": {},
     "outputs": []
    }
   ],
   "metadata": {}
  }
 ]
}