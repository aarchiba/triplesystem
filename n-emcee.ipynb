{
 "metadata": {
  "name": "n-emcee"
 },
 "nbformat": 3,
 "nbformat_minor": 0,
 "worksheets": [
  {
   "cells": [
    {
     "cell_type": "code",
     "collapsed": false,
     "input": [
      "%load_ext autoreload\n",
      "\n",
      "%autoreload 2"
     ],
     "language": "python",
     "metadata": {},
     "outputs": [],
     "prompt_number": 1
    },
    {
     "cell_type": "code",
     "collapsed": false,
     "input": [
      "from glob import glob\n",
      "import os\n",
      "\n",
      "import scipy.linalg\n",
      "\n",
      "import emcee\n",
      "\n",
      "import threebody"
     ],
     "language": "python",
     "metadata": {},
     "outputs": [],
     "prompt_number": 2
    },
    {
     "cell_type": "code",
     "collapsed": false,
     "input": [
      "F = threebody.Fitter()"
     ],
     "language": "python",
     "metadata": {},
     "outputs": [],
     "prompt_number": 3
    },
    {
     "cell_type": "code",
     "collapsed": false,
     "input": [
      "efac = 1.3\n",
      "\n",
      "def lnprob(offset):\n",
      "    params = F.best_parameters.copy()\n",
      "    for p,o in zip(F.parameters, offset):\n",
      "        params[p] += o\n",
      "    r = F.residuals(params)/F.phase_uncerts/efac\n",
      "    return -0.5*np.sum(r**2)\n"
     ],
     "language": "python",
     "metadata": {},
     "outputs": [],
     "prompt_number": 4
    },
    {
     "cell_type": "code",
     "collapsed": false,
     "input": [
      "p0 = emcee.utils.sample_ball(\n",
      "    np.zeros(len(F.parameters)),\n",
      "    [F.best_errors[p] for p in F.parameters],\n",
      "    250) # number of walkers"
     ],
     "language": "python",
     "metadata": {},
     "outputs": [],
     "prompt_number": 17
    },
    {
     "cell_type": "code",
     "collapsed": false,
     "input": [
      "sampler = emcee.EnsembleSampler(\n",
      "    p0.shape[0],p0.shape[1],lnprob)\n"
     ],
     "language": "python",
     "metadata": {},
     "outputs": []
    },
    {
     "cell_type": "markdown",
     "metadata": {},
     "source": [
      "Toy problem\n",
      "-----------"
     ]
    },
    {
     "cell_type": "code",
     "collapsed": false,
     "input": [
      "xs = np.linspace(0,1,1000)\n",
      "ys = xs+np.random.randn(len(xs))\n",
      "def lnprob_test((m,b)):\n",
      "    resids = m*xs+b-ys\n",
      "    return -0.5*np.sum(resids**2)\n",
      "p0_test = emcee.utils.sample_ball([0,1],[1,1],250)\n",
      "print p0_test.shape"
     ],
     "language": "python",
     "metadata": {},
     "outputs": [
      {
       "output_type": "stream",
       "stream": "stdout",
       "text": [
        "(250, 2)\n"
       ]
      }
     ],
     "prompt_number": 7
    },
    {
     "cell_type": "code",
     "collapsed": false,
     "input": [
      "sampler = emcee.EnsembleSampler(\n",
      "    p0_test.shape[0],p0_test.shape[1],lnprob_test)\n"
     ],
     "language": "python",
     "metadata": {},
     "outputs": [],
     "prompt_number": 8
    },
    {
     "cell_type": "code",
     "collapsed": false,
     "input": [
      "pos, prob, state = sampler.run_mcmc(p0_test, 1000)"
     ],
     "language": "python",
     "metadata": {},
     "outputs": [],
     "prompt_number": 9
    },
    {
     "cell_type": "code",
     "collapsed": false,
     "input": [
      "plt.plot(sampler.flatchain[:,1],\".\")\n",
      "plt.figure()\n",
      "plt.hist(sampler.flatchain[:,1], bins=100)"
     ],
     "language": "python",
     "metadata": {},
     "outputs": [
      {
       "output_type": "pyout",
       "prompt_number": 15,
       "text": [
        "(array([    1,     5,     0,     0,     0,     0,     0,     0,     0,\n",
        "           3,     1,     0,     3,     0,     3,     3,     0,     5,\n",
        "          14,     2,     6,     0,     9,    20,    16,    12,   153,\n",
        "        1349,  9526, 36404, 70682, 74303, 39317, 11065,  2098,   653,\n",
        "         368,   368,   361,   383,   257,   239,   212,   168,   205,\n",
        "         172,   153,   120,   113,   111,   132,    99,    89,   109,\n",
        "          93,    60,    51,    30,    41,    42,    56,    28,    24,\n",
        "          24,    35,    27,    17,    25,    26,    18,     6,    13,\n",
        "           6,    19,     6,    13,     0,     0,     1,     0,     1,\n",
        "           0,     8,     0,     0,     0,     2,     0,     4,     0,\n",
        "           6,     3,     0,     0,     0,     0,     0,     0,     0,     3]),\n",
        " array([-1.63172235, -1.57845997, -1.52519758, -1.47193519, -1.4186728 ,\n",
        "       -1.36541041, -1.31214802, -1.25888563, -1.20562324, -1.15236085,\n",
        "       -1.09909847, -1.04583608, -0.99257369, -0.9393113 , -0.88604891,\n",
        "       -0.83278652, -0.77952413, -0.72626174, -0.67299935, -0.61973697,\n",
        "       -0.56647458, -0.51321219, -0.4599498 , -0.40668741, -0.35342502,\n",
        "       -0.30016263, -0.24690024, -0.19363785, -0.14037546, -0.08711308,\n",
        "       -0.03385069,  0.0194117 ,  0.07267409,  0.12593648,  0.17919887,\n",
        "        0.23246126,  0.28572365,  0.33898604,  0.39224842,  0.44551081,\n",
        "        0.4987732 ,  0.55203559,  0.60529798,  0.65856037,  0.71182276,\n",
        "        0.76508515,  0.81834754,  0.87160992,  0.92487231,  0.9781347 ,\n",
        "        1.03139709,  1.08465948,  1.13792187,  1.19118426,  1.24444665,\n",
        "        1.29770904,  1.35097142,  1.40423381,  1.4574962 ,  1.51075859,\n",
        "        1.56402098,  1.61728337,  1.67054576,  1.72380815,  1.77707054,\n",
        "        1.83033292,  1.88359531,  1.9368577 ,  1.99012009,  2.04338248,\n",
        "        2.09664487,  2.14990726,  2.20316965,  2.25643204,  2.30969442,\n",
        "        2.36295681,  2.4162192 ,  2.46948159,  2.52274398,  2.57600637,\n",
        "        2.62926876,  2.68253115,  2.73579354,  2.78905592,  2.84231831,\n",
        "        2.8955807 ,  2.94884309,  3.00210548,  3.05536787,  3.10863026,\n",
        "        3.16189265,  3.21515504,  3.26841743,  3.32167981,  3.3749422 ,\n",
        "        3.42820459,  3.48146698,  3.53472937,  3.58799176,  3.64125415,\n",
        "        3.69451654]),\n",
        " <a list of 100 Patch objects>)"
       ]
      },
      {
       "output_type": "display_data",
       "png": "[encoded data removed]"
      },
      {
       "output_type": "display_data",
       "png": "[encoded data removed]"
      }
     ],
     "prompt_number": 15
    },
    {
     "cell_type": "code",
     "collapsed": false,
     "input": [
      "np.save("
     ],
     "language": "python",
     "metadata": {},
     "outputs": []
    }
   ],
   "metadata": {}
  }
 ]
}