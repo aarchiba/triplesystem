{
 "metadata": {
  "name": ""
 },
 "nbformat": 3,
 "nbformat_minor": 0,
 "worksheets": [
  {
   "cells": [
    {
     "cell_type": "code",
     "collapsed": false,
     "input": [
      "%load_ext autoreload\n",
      "\n",
      "%autoreload 2"
     ],
     "language": "python",
     "metadata": {},
     "outputs": [
      {
       "output_type": "stream",
       "stream": "stdout",
       "text": [
        "The autoreload extension is already loaded. To reload it, use:\n",
        "  %reload_ext autoreload\n"
       ]
      }
     ],
     "prompt_number": 64
    },
    {
     "cell_type": "code",
     "collapsed": false,
     "input": [
      "import matplotlib\n",
      "matplotlib.rcParams['savefig.dpi'] = 120"
     ],
     "language": "python",
     "metadata": {},
     "outputs": [],
     "prompt_number": 65
    },
    {
     "cell_type": "code",
     "collapsed": false,
     "input": [
      "if False:\n",
      "    matplotlib.rcParams.update({\n",
      "        'font.size': 8, \n",
      "        'savefig.dpi': 120, \n",
      "        'text.usetex': True, \n",
      "        'font.family': 'serif',\n",
      "        'font.serif': 'Computer Modern Roman',\n",
      "        })"
     ],
     "language": "python",
     "metadata": {},
     "outputs": [],
     "prompt_number": 66
    },
    {
     "cell_type": "code",
     "collapsed": false,
     "input": [
      "from __future__ import division\n",
      "from glob import glob\n",
      "import os\n",
      "import time\n",
      "import cPickle as pickle\n",
      "\n",
      "import scipy.linalg\n",
      "import scipy.stats\n",
      "\n",
      "import astropy.io.fits\n",
      "import astropy.table\n",
      "import astropy.units as u\n",
      "import astropy.constants as c\n",
      "\n",
      "import emcee\n",
      "import numdifftools\n",
      "\n",
      "import kepler\n",
      "import threebody\n"
     ],
     "language": "python",
     "metadata": {},
     "outputs": [],
     "prompt_number": 67
    },
    {
     "cell_type": "code",
     "collapsed": false,
     "input": [
      "!ls *.fits"
     ],
     "language": "python",
     "metadata": {},
     "outputs": [
      {
       "output_type": "stream",
       "stream": "stdout",
       "text": [
        "0337_6vec_table_141009.fits\t    0337_6vec_table_GBT_Lband_fold_150131.fits\r\n",
        "0337_6vec_table_141009_pulses.fits  0337_6vec_table_GBT_Lband_fold_150131_pulses.fits\r\n"
       ]
      }
     ],
     "prompt_number": 68
    },
    {
     "cell_type": "code",
     "collapsed": false,
     "input": [
      "try:\n",
      "    V = astropy.table.Table.read(\"0337_6vec_table_150131.fits\")\n",
      "except Exception:\n",
      "    pass"
     ],
     "language": "python",
     "metadata": {},
     "outputs": [],
     "prompt_number": 87
    },
    {
     "cell_type": "code",
     "collapsed": false,
     "input": [
      "infos = set(V['infos'])\n",
      "infos"
     ],
     "language": "python",
     "metadata": {},
     "outputs": [
      {
       "metadata": {},
       "output_type": "pyout",
       "prompt_number": 88,
       "text": [
        "{'Arecibo,L-band,PUPPI_coherent_fold',\n",
        " 'GBT,L-band,GUPPI_coherent_fold',\n",
        " 'GBT,L-band,GUPPI_coherent_search',\n",
        " 'WSRT,L-band,PUMAII_coherent_fold'}"
       ]
      }
     ],
     "prompt_number": 88
    },
    {
     "cell_type": "code",
     "collapsed": false,
     "input": [
      "F = threebody.Fitter(\"0337_6vec_table_141009_pulses.fits\", tzrmjd_middle='auto', ppn_mode='heavysimple')\n",
      "if 'delta' not in F.best_parameters:\n",
      "    F.best_parameters['delta'] = 0"
     ],
     "language": "python",
     "metadata": {},
     "outputs": [],
     "prompt_number": 89
    },
    {
     "cell_type": "code",
     "collapsed": false,
     "input": [
      "with open(\"scratch_params.pickle\",\"wb\") as f:\n",
      "    pickle.dump(F.args,f)"
     ],
     "language": "python",
     "metadata": {},
     "outputs": [],
     "prompt_number": 90
    },
    {
     "cell_type": "code",
     "collapsed": false,
     "input": [
      "r = F.residuals(F.best_parameters)"
     ],
     "language": "python",
     "metadata": {},
     "outputs": [],
     "prompt_number": 91
    },
    {
     "cell_type": "code",
     "collapsed": false,
     "input": [
      "F.chi2(F.best_parameters)"
     ],
     "language": "python",
     "metadata": {},
     "outputs": [
      {
       "metadata": {},
       "output_type": "pyout",
       "prompt_number": 92,
       "text": [
        "129132662.03759749"
       ]
      }
     ],
     "prompt_number": 92
    },
    {
     "cell_type": "code",
     "collapsed": false,
     "input": [
      "for (i,t) in enumerate(F.tel_list):\n",
      "    c = F.tels==i\n",
      "    plt.plot(F.mjds[c], r[c], '.', label=t)\n",
      "plt.legend(loc='best')\n",
      "plt.savefig(\"six-vector-resids.pdf\")"
     ],
     "language": "python",
     "metadata": {},
     "outputs": [
      {
       "metadata": {},
       "output_type": "display_data",
       "png": "[encoded data removed]",
       "text": [
        "<matplotlib.figure.Figure at 0xa72f810>"
       ]
      }
     ],
     "prompt_number": 99
    },
    {
     "cell_type": "code",
     "collapsed": false,
     "input": [
      "for k in F.best_parameters:\n",
      "    if k.startswith(\"j_\"):\n",
      "        print k, F.best_parameters[k]"
     ],
     "language": "python",
     "metadata": {},
     "outputs": [
      {
       "output_type": "stream",
       "stream": "stdout",
       "text": [
        "j_GBT350 1.89129173536e-05\n",
        "j_NCY1400 0.000675\n",
        "j_WSRT350 -3.60639060528e-05\n",
        "j_GBT820 6.71225315445e-05\n",
        "j_AO327 6.45761601951e-05\n",
        "j_AO1440 4.92816995998e-05\n",
        "j_AO1350 5.36401764836e-05\n",
        "j_GBT1500 6.2632330682e-05\n"
       ]
      }
     ],
     "prompt_number": 94
    },
    {
     "cell_type": "code",
     "collapsed": false,
     "input": [
      "F.parameters"
     ],
     "language": "python",
     "metadata": {},
     "outputs": [
      {
       "metadata": {},
       "output_type": "pyout",
       "prompt_number": 95,
       "text": [
        "['asini_i',\n",
        " 'pb_i',\n",
        " 'eps1_i',\n",
        " 'eps2_i',\n",
        " 'tasc_i',\n",
        " 'acosi_i',\n",
        " 'q_i',\n",
        " 'asini_o',\n",
        " 'pb_o',\n",
        " 'eps1_o',\n",
        " 'eps2_o',\n",
        " 'tasc_o',\n",
        " 'acosi_o',\n",
        " 'delta_lan',\n",
        " 'delta',\n",
        " 'dgamma',\n",
        " 'dbeta',\n",
        " 'j_AO1440',\n",
        " 'j_GBT1500',\n",
        " 'j_GBT1500s']"
       ]
      }
     ],
     "prompt_number": 95
    },
    {
     "cell_type": "code",
     "collapsed": false,
     "input": [
      "r.min(), r.max()"
     ],
     "language": "python",
     "metadata": {},
     "outputs": [
      {
       "metadata": {},
       "output_type": "pyout",
       "prompt_number": 96,
       "text": [
        "(-0.24760103096037139, 0.7098993882694733)"
       ]
      }
     ],
     "prompt_number": 96
    },
    {
     "cell_type": "code",
     "collapsed": false,
     "input": [
      "def minmax(a):\n",
      "    return a.min(), a.max()\n"
     ],
     "language": "python",
     "metadata": {},
     "outputs": [],
     "prompt_number": 97
    },
    {
     "cell_type": "code",
     "collapsed": false,
     "input": [
      "minmax(F.uncerts)"
     ],
     "language": "python",
     "metadata": {},
     "outputs": [
      {
       "metadata": {},
       "output_type": "pyout",
       "prompt_number": 98,
       "text": [
        "(4.7599999999999997e-07, 1.5362999999999998e-05)"
       ]
      }
     ],
     "prompt_number": 98
    },
    {
     "cell_type": "code",
     "collapsed": false,
     "input": [
      "o = F.compute_orbit(F.best_parameters)"
     ],
     "language": "python",
     "metadata": {},
     "outputs": [],
     "prompt_number": 59
    },
    {
     "cell_type": "code",
     "collapsed": false,
     "input": [
      "o"
     ],
     "language": "python",
     "metadata": {},
     "outputs": [
      {
       "metadata": {},
       "output_type": "pyout",
       "prompt_number": 60,
       "text": [
        "{'initial_values': array([  1.13421201e+02,   2.15721466e+01,   1.76183772e+01,\n",
        "         6.76079231e+00,   1.69794802e+00,   1.38637149e+00,\n",
        "         1.43986555e+00,   1.13406825e+02,   3.39250572e+01,\n",
        "         2.77082543e+01,  -5.46599033e+01,   1.65938070e+00,\n",
        "         1.35486964e+00,   1.97742876e-01,  -4.52364719e+02,\n",
        "        -9.19880656e+01,  -7.51288732e+01,   2.61568263e+00,\n",
        "        -6.75355940e+00,  -5.51426342e+00,   4.10590535e-01,\n",
        "         0.00000000e+00]),\n",
        " 'n_evaluations': 783384,\n",
        " 'parameter_dict': {'acosi_i': 1.4906026211744192,\n",
        "  'acosi_o': 91.45306511868512,\n",
        "  'asini_i': 1.2175266047808866,\n",
        "  'asini_o': 74.67270046836649,\n",
        "  'dbeta': 0,\n",
        "  'delta': 0,\n",
        "  'delta_lan': 5.2353855210995294e-05,\n",
        "  'dgamma': 0,\n",
        "  'eps1_i': 0.0006871960477540105,\n",
        "  'eps1_o': 0.03518625484392224,\n",
        "  'eps2_i': -9.116341168613552e-05,\n",
        "  'eps2_o': -0.0034621826187927287,\n",
        "  'f0': 365.95336878765835,\n",
        "  'j_AO1350': 5.364017648361716e-05,\n",
        "  'j_AO1440': 4.928169959977888e-05,\n",
        "  'j_AO327': 6.457616019511097e-05,\n",
        "  'j_GBT1500': 6.263233068203105e-05,\n",
        "  'j_GBT350': 1.8912917353649655e-05,\n",
        "  'j_GBT820': 6.712253154451129e-05,\n",
        "  'j_NCY1400': 0.000675,\n",
        "  'j_WSRT350': -3.6063906052781444e-05,\n",
        "  'pb_i': 1.6293969135798416,\n",
        "  'pb_o': 327.2574914403988,\n",
        "  'ppn_mode': 'heavysimple',\n",
        "  'q_i': 0.13733426409023541,\n",
        "  'shapiro': True,\n",
        "  'tasc_i': 0.40751890523964546,\n",
        "  'tasc_o': 313.93556809302754,\n",
        "  'tol': 1e-16,\n",
        "  'use_quad': False},\n",
        " 'states': array([[ 71.550242,  71.524883,  58.404321, ..., -3.4659227,  0.41059054,\n",
        "        -2.277264e-06],\n",
        "       [ 71.547939,  71.526871,  58.405944, ..., -3.46589,  0.41059054,\n",
        "        -2.2772893e-06],\n",
        "       [ 71.545636,  71.528854,  58.407564, ..., -3.4658574,  0.41059054,\n",
        "        -2.2773145e-06],\n",
        "       ..., \n",
        "       [ 114.84012, -18.600073, -15.1823, ..., -5.5860773,  0.41059054,\n",
        "        -6.5674824e-05],\n",
        "       [ 114.84049, -18.601499, -15.183464, ..., -5.586085,  0.41059054,\n",
        "        -6.5674847e-05],\n",
        "       [ 114.84077, -18.602582, -15.18435, ..., -5.5860908,  0.41059054,\n",
        "        -6.5674865e-05]], dtype=float128),\n",
        " 't_bb': array([ 33.169231,  33.169587,  33.169943, ...,  957.71775,  957.71811,\n",
        "        957.71838], dtype=float128),\n",
        " 't_d': array([ 33.168555,  33.168911,  33.169267, ...,  957.71793,  957.71828,\n",
        "        957.71855], dtype=float128),\n",
        " 't_psr': array([ 33.168553,  33.168909,  33.169265, ...,  957.71786,  957.71822,\n",
        "        957.71849], dtype=float128),\n",
        " 'time': 6.957970142364502,\n",
        " 'times': array([ 33.169231,  33.169587,  33.169943, ...,  957.71775,  957.71811,\n",
        "        957.71838], dtype=float128)}"
       ]
      }
     ],
     "prompt_number": 60
    },
    {
     "cell_type": "code",
     "collapsed": false,
     "input": [
      "t_psr_s = o['t_psr']*86400\n",
      "p = F.best_parameters\n",
      "tzrmjd_base = p['tzrmjd_base']\n",
      "tzrmjd_s = (p['tzrmjd']+(tzrmjd_base-F.base_mjd))*86400\n",
      "phase = p['f0']*t_psr_s+p['f1']*t_psr_s**2/2.\n",
      "phase -= p['f0']*tzrmjd_s+p['f1']*tzrmjd_s**2/2."
     ],
     "language": "python",
     "metadata": {},
     "outputs": [
      {
       "ename": "KeyError",
       "evalue": "'tzrmjd_base'",
       "output_type": "pyerr",
       "traceback": [
        "\u001b[0;31m---------------------------------------------------------------------------\u001b[0m\n\u001b[0;31mKeyError\u001b[0m                                  Traceback (most recent call last)",
        "\u001b[0;32m<ipython-input-61-c40e4ddc0f41>\u001b[0m in \u001b[0;36m<module>\u001b[0;34m()\u001b[0m\n\u001b[1;32m      1\u001b[0m \u001b[0mt_psr_s\u001b[0m \u001b[0;34m=\u001b[0m \u001b[0mo\u001b[0m\u001b[0;34m[\u001b[0m\u001b[0;34m't_psr'\u001b[0m\u001b[0;34m]\u001b[0m\u001b[0;34m*\u001b[0m\u001b[0;36m86400\u001b[0m\u001b[0;34m\u001b[0m\u001b[0m\n\u001b[1;32m      2\u001b[0m \u001b[0mp\u001b[0m \u001b[0;34m=\u001b[0m \u001b[0mF\u001b[0m\u001b[0;34m.\u001b[0m\u001b[0mbest_parameters\u001b[0m\u001b[0;34m\u001b[0m\u001b[0m\n\u001b[0;32m----> 3\u001b[0;31m \u001b[0mtzrmjd_base\u001b[0m \u001b[0;34m=\u001b[0m \u001b[0mp\u001b[0m\u001b[0;34m[\u001b[0m\u001b[0;34m'tzrmjd_base'\u001b[0m\u001b[0;34m]\u001b[0m\u001b[0;34m\u001b[0m\u001b[0m\n\u001b[0m\u001b[1;32m      4\u001b[0m \u001b[0mtzrmjd_s\u001b[0m \u001b[0;34m=\u001b[0m \u001b[0;34m(\u001b[0m\u001b[0mp\u001b[0m\u001b[0;34m[\u001b[0m\u001b[0;34m'tzrmjd'\u001b[0m\u001b[0;34m]\u001b[0m\u001b[0;34m+\u001b[0m\u001b[0;34m(\u001b[0m\u001b[0mtzrmjd_base\u001b[0m\u001b[0;34m-\u001b[0m\u001b[0mF\u001b[0m\u001b[0;34m.\u001b[0m\u001b[0mbase_mjd\u001b[0m\u001b[0;34m)\u001b[0m\u001b[0;34m)\u001b[0m\u001b[0;34m*\u001b[0m\u001b[0;36m86400\u001b[0m\u001b[0;34m\u001b[0m\u001b[0m\n\u001b[1;32m      5\u001b[0m \u001b[0mphase\u001b[0m \u001b[0;34m=\u001b[0m \u001b[0mp\u001b[0m\u001b[0;34m[\u001b[0m\u001b[0;34m'f0'\u001b[0m\u001b[0;34m]\u001b[0m\u001b[0;34m*\u001b[0m\u001b[0mt_psr_s\u001b[0m\u001b[0;34m+\u001b[0m\u001b[0mp\u001b[0m\u001b[0;34m[\u001b[0m\u001b[0;34m'f1'\u001b[0m\u001b[0;34m]\u001b[0m\u001b[0;34m*\u001b[0m\u001b[0mt_psr_s\u001b[0m\u001b[0;34m**\u001b[0m\u001b[0;36m2\u001b[0m\u001b[0;34m/\u001b[0m\u001b[0;36m2.\u001b[0m\u001b[0;34m\u001b[0m\u001b[0m\n",
        "\u001b[0;31mKeyError\u001b[0m: 'tzrmjd_base'"
       ]
      }
     ],
     "prompt_number": 61
    },
    {
     "cell_type": "code",
     "collapsed": false,
     "input": [
      "d = dict((k,\"\") for k in set(V['infos']))\n",
      "d"
     ],
     "language": "python",
     "metadata": {},
     "outputs": [
      {
       "metadata": {},
       "output_type": "pyout",
       "prompt_number": 63,
       "text": [
        "{'Arecibo,L-band,PUPPI_coherent_fold': '',\n",
        " 'GBT,L-band,GUPPI_coherent_fold': '',\n",
        " 'GBT,L-band,GUPPI_coherent_search': '',\n",
        " 'WSRT,L-band,PUMAII_coherent_fold': ''}"
       ]
      }
     ],
     "prompt_number": 63
    },
    {
     "cell_type": "code",
     "collapsed": false,
     "input": [],
     "language": "python",
     "metadata": {},
     "outputs": []
    }
   ],
   "metadata": {}
  }
 ]
}