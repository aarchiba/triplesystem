{
 "metadata": {
  "name": ""
 },
 "nbformat": 3,
 "nbformat_minor": 0,
 "worksheets": [
  {
   "cells": [
    {
     "cell_type": "code",
     "collapsed": false,
     "input": [
      "%load_ext autoreload\n",
      "\n",
      "%autoreload 2"
     ],
     "language": "python",
     "metadata": {},
     "outputs": [
      {
       "output_type": "stream",
       "stream": "stdout",
       "text": [
        "The autoreload extension is already loaded. To reload it, use:\n",
        "  %reload_ext autoreload\n"
       ]
      }
     ],
     "prompt_number": 64
    },
    {
     "cell_type": "code",
     "collapsed": false,
     "input": [
      "import matplotlib\n",
      "matplotlib.rcParams['savefig.dpi'] = 120"
     ],
     "language": "python",
     "metadata": {},
     "outputs": [],
     "prompt_number": 65
    },
    {
     "cell_type": "code",
     "collapsed": false,
     "input": [
      "if False:\n",
      "    matplotlib.rcParams.update({\n",
      "        'font.size': 8, \n",
      "        'savefig.dpi': 120, \n",
      "        'text.usetex': True, \n",
      "        'font.family': 'serif',\n",
      "        'font.serif': 'Computer Modern Roman',\n",
      "        })"
     ],
     "language": "python",
     "metadata": {},
     "outputs": [],
     "prompt_number": 66
    },
    {
     "cell_type": "code",
     "collapsed": false,
     "input": [
      "from __future__ import division\n",
      "from glob import glob\n",
      "import os\n",
      "import time\n",
      "import cPickle as pickle\n",
      "\n",
      "import scipy.linalg\n",
      "import scipy.stats\n",
      "\n",
      "import astropy.io.fits\n",
      "import astropy.table\n",
      "import astropy.units as u\n",
      "import astropy.constants as c\n",
      "\n",
      "import emcee\n",
      "import numdifftools\n",
      "\n",
      "import kepler\n",
      "import threebody\n"
     ],
     "language": "python",
     "metadata": {},
     "outputs": [],
     "prompt_number": 67
    },
    {
     "cell_type": "code",
     "collapsed": false,
     "input": [
      "import logging\n",
      "logger = logging.getLogger()\n",
      "logger.setLevel(logging.DEBUG)\n",
      "logging.debug(\"test\")"
     ],
     "language": "python",
     "metadata": {},
     "outputs": [
      {
       "output_type": "stream",
       "stream": "stderr",
       "text": [
        "DEBUG:root:test\n"
       ]
      }
     ],
     "prompt_number": 129
    },
    {
     "cell_type": "code",
     "collapsed": false,
     "input": [
      "!ls *.fits"
     ],
     "language": "python",
     "metadata": {},
     "outputs": [
      {
       "output_type": "stream",
       "stream": "stdout",
       "text": [
        "0337_6vec_table_141009.fits\t    0337_6vec_table_GBT_Lband_fold_150131.fits\r\n",
        "0337_6vec_table_141009_pulses.fits  0337_6vec_table_GBT_Lband_fold_150131_pulses.fits\r\n"
       ]
      }
     ],
     "prompt_number": 68
    },
    {
     "cell_type": "code",
     "collapsed": false,
     "input": [
      "try:\n",
      "    V = astropy.table.Table.read(\"0337_6vec_table_150131.fits\")\n",
      "except Exception:\n",
      "    pass"
     ],
     "language": "python",
     "metadata": {},
     "outputs": [],
     "prompt_number": 87
    },
    {
     "cell_type": "code",
     "collapsed": false,
     "input": [
      "infos = set(V['infos'])\n",
      "infos"
     ],
     "language": "python",
     "metadata": {},
     "outputs": [
      {
       "metadata": {},
       "output_type": "pyout",
       "prompt_number": 88,
       "text": [
        "{'Arecibo,L-band,PUPPI_coherent_fold',\n",
        " 'GBT,L-band,GUPPI_coherent_fold',\n",
        " 'GBT,L-band,GUPPI_coherent_search',\n",
        " 'WSRT,L-band,PUMAII_coherent_fold'}"
       ]
      }
     ],
     "prompt_number": 88
    },
    {
     "cell_type": "code",
     "collapsed": false,
     "input": [
      "F = threebody.Fitter(\"0337_6vec_table_141009_pulses.fits\", tzrmjd_middle='auto', ppn_mode='heavysimple')\n",
      "if 'delta' not in F.best_parameters:\n",
      "    F.best_parameters['delta'] = 0"
     ],
     "language": "python",
     "metadata": {},
     "outputs": [
      {
       "output_type": "stream",
       "stream": "stderr",
       "text": [
        "DEBUG:threebody:base telescope WSRT1400 from list of ['AO1440', 'GBT1500', 'GBT1500s', 'WSRT1400']\n"
       ]
      }
     ],
     "prompt_number": 252
    },
    {
     "cell_type": "code",
     "collapsed": false,
     "input": [
      "F.jnames"
     ],
     "language": "python",
     "metadata": {},
     "outputs": [
      {
       "metadata": {},
       "output_type": "pyout",
       "prompt_number": 253,
       "text": [
        "['j_AO1440', 'j_GBT1500', 'j_GBT1500s']"
       ]
      }
     ],
     "prompt_number": 253
    },
    {
     "cell_type": "code",
     "collapsed": false,
     "input": [
      "with open(\"scratch_params.pickle\",\"wb\") as f:\n",
      "    pickle.dump(F.args,f)"
     ],
     "language": "python",
     "metadata": {},
     "outputs": [],
     "prompt_number": 254
    },
    {
     "cell_type": "code",
     "collapsed": false,
     "input": [
      "r = F.residuals(F.best_parameters, linear_jumps=True)"
     ],
     "language": "python",
     "metadata": {},
     "outputs": [
      {
       "output_type": "stream",
       "stream": "stderr",
       "text": [
        "DEBUG:threebody:Started residuals for {'f0': 365.95336878765835, 'ppn_mode': 'heavysimple', 'shapiro': True, 'asini_i': 1.2175266047808866, 'eps2_i': -9.116341168613552e-05, 'delta_lan': 5.2353855210995294e-05, 'eps2_o': -0.0034621826187927287, 'q_i': 0.13733426409023541, 'asini_o': 74.67270046836649, 'j_GBT350': 1.8912917353649655e-05, 'tasc_i': 0.40751890523964546, 'dgamma': 0, 'acosi_o': 91.45306511868512, 'acosi_i': 1.4906026211744192, 'tasc_o': 313.93556809302754, 'eps1_o': 0.03518625484392224, 'eps1_i': 0.0006871960477540105, 'j_NCY1400': 0.000675, 'tol': 1e-16, 'j_WSRT350': -3.6063906052781444e-05, 'use_quad': False, 'j_GBT820': 6.712253154451129e-05, 'j_AO327': 6.457616019511097e-05, 'delta': 0, 'j_AO1440': 4.928169959977888e-05, 'j_AO1350': 5.364017648361716e-05, 'dbeta': 0, 'pb_o': 327.2574914403988, 'pb_i': 1.6293969135798416, 'j_GBT1500': 6.263233068203105e-05}\n"
       ]
      },
      {
       "output_type": "stream",
       "stream": "stderr",
       "text": [
        "DEBUG:threebody:Started compute_orbit for {'f0': 365.95336878765835, 'ppn_mode': 'heavysimple', 'shapiro': True, 'asini_i': 1.2175266047808866, 'eps2_i': -9.116341168613552e-05, 'delta_lan': 5.2353855210995294e-05, 'eps2_o': -0.0034621826187927287, 'q_i': 0.13733426409023541, 'asini_o': 74.67270046836649, 'j_GBT350': 1.8912917353649655e-05, 'tasc_i': 0.40751890523964546, 'dgamma': 0, 'acosi_o': 91.45306511868512, 'acosi_i': 1.4906026211744192, 'tasc_o': 313.93556809302754, 'eps1_o': 0.03518625484392224, 'eps1_i': 0.0006871960477540105, 'j_NCY1400': 0.000675, 'tol': 1e-16, 'j_WSRT350': -3.6063906052781444e-05, 'use_quad': False, 'j_GBT820': 6.712253154451129e-05, 'j_AO327': 6.457616019511097e-05, 'delta': 0, 'j_AO1440': 4.928169959977888e-05, 'j_AO1350': 5.364017648361716e-05, 'dbeta': 0, 'pb_o': 327.2574914403988, 'pb_i': 1.6293969135798416, 'j_GBT1500': 6.263233068203105e-05}\n"
       ]
      },
      {
       "output_type": "stream",
       "stream": "stderr",
       "text": [
        "DEBUG:threebody:compute_orbit cache miss, running calculation\n"
       ]
      },
      {
       "output_type": "stream",
       "stream": "stderr",
       "text": [
        "DEBUG:threebody:Calling compute_orbit\n"
       ]
      },
      {
       "output_type": "stream",
       "stream": "stderr",
       "text": [
        "DEBUG:threebody:Running compute_orbit with parameter_dict {'f0': 365.95336878765835, 'ppn_mode': 'heavysimple', 'shapiro': True, 'asini_i': 1.2175266047808866, 'eps2_i': -9.116341168613552e-05, 'delta_lan': 5.2353855210995294e-05, 'eps2_o': -0.0034621826187927287, 'q_i': 0.13733426409023541, 'asini_o': 74.67270046836649, 'j_GBT350': 1.8912917353649655e-05, 'tasc_i': 0.40751890523964546, 'dgamma': 0, 'acosi_o': 91.45306511868512, 'acosi_i': 1.4906026211744192, 'tasc_o': 313.93556809302754, 'eps1_o': 0.03518625484392224, 'eps1_i': 0.0006871960477540105, 'j_NCY1400': 0.000675, 'tol': 1e-16, 'j_WSRT350': -3.6063906052781444e-05, 'use_quad': False, 'j_GBT820': 6.712253154451129e-05, 'j_AO327': 6.457616019511097e-05, 'delta': 0, 'j_AO1440': 4.928169959977888e-05, 'j_AO1350': 5.364017648361716e-05, 'dbeta': 0, 'pb_o': 327.2574914403988, 'pb_i': 1.6293969135798416, 'j_GBT1500': 6.263233068203105e-05}\n"
       ]
      },
      {
       "output_type": "stream",
       "stream": "stderr",
       "text": [
        "DEBUG:threebody:PPN mode is heavysimple\n"
       ]
      },
      {
       "output_type": "stream",
       "stream": "stderr",
       "text": [
        "DEBUG:threebody:Running compute_orbit from time 33.1692312363 to 957.718377746 with tol 1e-16\n"
       ]
      },
      {
       "output_type": "stream",
       "stream": "stderr",
       "text": [
        "DEBUG:threebody:Constructing initial conditions\n"
       ]
      },
      {
       "output_type": "stream",
       "stream": "stderr",
       "text": [
        "DEBUG:threebody:setting up RHS\n"
       ]
      },
      {
       "output_type": "stream",
       "stream": "stderr",
       "text": [
        "DEBUG:threebody:Constructing ODE integrator\n"
       ]
      },
      {
       "output_type": "stream",
       "stream": "stderr",
       "text": [
        "DEBUG:threebody:Computing TOA 0 at t_bb=33.1692\n"
       ]
      },
      {
       "output_type": "stream",
       "stream": "stderr",
       "text": [
        "DEBUG:threebody:Extracting results\n"
       ]
      },
      {
       "output_type": "stream",
       "stream": "stderr",
       "text": [
        "DEBUG:threebody:Computing TOA 1 at t_bb=33.1696\n"
       ]
      },
      {
       "output_type": "stream",
       "stream": "stderr",
       "text": [
        "DEBUG:threebody:Extracting results\n"
       ]
      },
      {
       "output_type": "stream",
       "stream": "stderr",
       "text": [
        "DEBUG:threebody:Computing TOA 3 at t_bb=33.1703\n"
       ]
      },
      {
       "output_type": "stream",
       "stream": "stderr",
       "text": [
        "DEBUG:threebody:Extracting results\n"
       ]
      },
      {
       "output_type": "stream",
       "stream": "stderr",
       "text": [
        "DEBUG:threebody:Computing TOA 7 at t_bb=33.1717\n"
       ]
      },
      {
       "output_type": "stream",
       "stream": "stderr",
       "text": [
        "DEBUG:threebody:Extracting results\n"
       ]
      },
      {
       "output_type": "stream",
       "stream": "stderr",
       "text": [
        "DEBUG:threebody:Computing TOA 15 at t_bb=33.1746\n"
       ]
      },
      {
       "output_type": "stream",
       "stream": "stderr",
       "text": [
        "DEBUG:threebody:Extracting results\n"
       ]
      },
      {
       "output_type": "stream",
       "stream": "stderr",
       "text": [
        "DEBUG:threebody:Computing TOA 31 at t_bb=35.9156\n"
       ]
      },
      {
       "output_type": "stream",
       "stream": "stderr",
       "text": [
        "DEBUG:threebody:Extracting results\n"
       ]
      },
      {
       "output_type": "stream",
       "stream": "stderr",
       "text": [
        "DEBUG:threebody:Computing TOA 63 at t_bb=35.927\n"
       ]
      },
      {
       "output_type": "stream",
       "stream": "stderr",
       "text": [
        "DEBUG:threebody:Extracting results\n"
       ]
      },
      {
       "output_type": "stream",
       "stream": "stderr",
       "text": [
        "DEBUG:threebody:Computing TOA 127 at t_bb=35.9497\n"
       ]
      },
      {
       "output_type": "stream",
       "stream": "stderr",
       "text": [
        "DEBUG:threebody:Extracting results\n"
       ]
      },
      {
       "output_type": "stream",
       "stream": "stderr",
       "text": [
        "DEBUG:threebody:Computing TOA 255 at t_bb=37.94\n"
       ]
      },
      {
       "output_type": "stream",
       "stream": "stderr",
       "text": [
        "DEBUG:threebody:Extracting results\n"
       ]
      },
      {
       "output_type": "stream",
       "stream": "stderr",
       "text": [
        "DEBUG:threebody:Computing TOA 511 at t_bb=44.0121\n"
       ]
      },
      {
       "output_type": "stream",
       "stream": "stderr",
       "text": [
        "DEBUG:threebody:Extracting results\n"
       ]
      },
      {
       "output_type": "stream",
       "stream": "stderr",
       "text": [
        "DEBUG:threebody:Computing TOA 1023 at t_bb=69.8763\n"
       ]
      },
      {
       "output_type": "stream",
       "stream": "stderr",
       "text": [
        "DEBUG:threebody:Extracting results\n"
       ]
      },
      {
       "output_type": "stream",
       "stream": "stderr",
       "text": [
        "DEBUG:threebody:Computing TOA 2047 at t_bb=75.9118\n"
       ]
      },
      {
       "output_type": "stream",
       "stream": "stderr",
       "text": [
        "DEBUG:threebody:Extracting results\n"
       ]
      },
      {
       "output_type": "stream",
       "stream": "stderr",
       "text": [
        "DEBUG:threebody:Computing TOA 4095 at t_bb=88.8218\n"
       ]
      },
      {
       "output_type": "stream",
       "stream": "stderr",
       "text": [
        "DEBUG:threebody:Extracting results\n"
       ]
      },
      {
       "output_type": "stream",
       "stream": "stderr",
       "text": [
        "DEBUG:threebody:Computing TOA 8191 at t_bb=119.678\n"
       ]
      },
      {
       "output_type": "stream",
       "stream": "stderr",
       "text": [
        "DEBUG:threebody:Extracting results\n"
       ]
      },
      {
       "output_type": "stream",
       "stream": "stderr",
       "text": [
        "DEBUG:threebody:Computing TOA 16383 at t_bb=212.478\n"
       ]
      },
      {
       "output_type": "stream",
       "stream": "stderr",
       "text": [
        "DEBUG:threebody:Extracting results\n"
       ]
      },
      {
       "output_type": "stream",
       "stream": "stderr",
       "text": [
        "DEBUG:threebody:Computing TOA 32767 at t_bb=792.123\n"
       ]
      },
      {
       "output_type": "stream",
       "stream": "stderr",
       "text": [
        "DEBUG:threebody:Extracting results\n"
       ]
      },
      {
       "output_type": "stream",
       "stream": "stderr",
       "text": [
        "DEBUG:threebody:Done integration\n"
       ]
      },
      {
       "output_type": "stream",
       "stream": "stderr",
       "text": [
        "DEBUG:threebody:Back from compute_orbit after time 6.9692428112 (783384 evaluations)\n"
       ]
      },
      {
       "output_type": "stream",
       "stream": "stderr",
       "text": [
        "DEBUG:threebody:Setting up linear least-squares fitting\n"
       ]
      },
      {
       "output_type": "stream",
       "stream": "stderr",
       "text": [
        "DEBUG:threebody:Linear least-squares iteration 0\n"
       ]
      },
      {
       "output_type": "stream",
       "stream": "stderr",
       "text": [
        "DEBUG:threebody:A[0]: [ 1.0  0.034632884  0.0011994366  0.0  1.0  0.0] b[0]: 0.000110374763608\n"
       ]
      },
      {
       "output_type": "stream",
       "stream": "stderr",
       "text": [
        "DEBUG:threebody:x: [ -5.69130640e+09   3.02814985e+10  -8.05749321e+00  -4.84466553e-04\n",
        "  -2.29887962e-02  -2.20697880e-01]\n"
       ]
      },
      {
       "output_type": "stream",
       "stream": "stderr",
       "text": [
        "DEBUG:threebody:Linear least-squares residual RMS 0.00776566\n"
       ]
      },
      {
       "output_type": "stream",
       "stream": "stderr",
       "text": [
        "DEBUG:threebody:Linear least-squares iteration 1\n"
       ]
      },
      {
       "output_type": "stream",
       "stream": "stderr",
       "text": [
        "DEBUG:threebody:A[0]: [ 1.0  0.034632884  0.0011994366  0.0  1.0  0.0] b[0]: -2.93783644959e-05\n"
       ]
      },
      {
       "output_type": "stream",
       "stream": "stderr",
       "text": [
        "DEBUG:threebody:x: [ -5.60333846e-06   5.13615423e-05  -1.05629144e-05  -1.13239966e-05\n",
        "   1.43590338e-04  -5.24564016e-06]\n"
       ]
      },
      {
       "output_type": "stream",
       "stream": "stderr",
       "text": [
        "DEBUG:threebody:Linear least-squares residual RMS 0.00776584\n"
       ]
      },
      {
       "output_type": "stream",
       "stream": "stderr",
       "text": [
        "DEBUG:threebody:Linear least-squares iteration 2\n"
       ]
      },
      {
       "output_type": "stream",
       "stream": "stderr",
       "text": [
        "DEBUG:threebody:A[0]: [ 1.0  0.034632884  0.0011994366  0.0  1.0  0.0] b[0]: -2.93783644959e-05\n"
       ]
      },
      {
       "output_type": "stream",
       "stream": "stderr",
       "text": [
        "DEBUG:threebody:x: [  9.13448203e-20  -4.85245140e-19  -6.84730754e-19   6.04227728e-19\n",
        "   3.81606461e-19   1.13710154e-18]\n"
       ]
      },
      {
       "output_type": "stream",
       "stream": "stderr",
       "text": [
        "DEBUG:threebody:Linear least-squares residual RMS 0.00776584\n"
       ]
      },
      {
       "output_type": "stream",
       "stream": "stderr",
       "text": [
        "DEBUG:threebody:Done linear least-squares\n"
       ]
      }
     ],
     "prompt_number": 255
    },
    {
     "cell_type": "code",
     "collapsed": false,
     "input": [
      "F.chi2(F.best_parameters)"
     ],
     "language": "python",
     "metadata": {},
     "outputs": [
      {
       "output_type": "stream",
       "stream": "stderr",
       "text": [
        "DEBUG:threebody:Started residuals for {'f0': 365.95336878765835, 'ppn_mode': 'heavysimple', 'shapiro': True, 'asini_i': 1.2175266047808866, 'eps2_i': -9.116341168613552e-05, 'delta_lan': 5.2353855210995294e-05, 'eps2_o': -0.0034621826187927287, 'q_i': 0.13733426409023541, 'asini_o': 74.67270046836649, 'j_GBT350': 1.8912917353649655e-05, 'tasc_i': 0.40751890523964546, 'dgamma': 0, 'acosi_o': 91.45306511868512, 'acosi_i': 1.4906026211744192, 'tasc_o': 313.93556809302754, 'eps1_o': 0.03518625484392224, 'eps1_i': 0.0006871960477540105, 'j_NCY1400': 0.000675, 'tol': 1e-16, 'j_WSRT350': -3.6063906052781444e-05, 'use_quad': False, 'j_GBT820': 6.712253154451129e-05, 'j_AO327': 6.457616019511097e-05, 'delta': 0, 'j_AO1440': 4.928169959977888e-05, 'j_AO1350': 5.364017648361716e-05, 'dbeta': 0, 'pb_o': 327.2574914403988, 'pb_i': 1.6293969135798416, 'j_GBT1500': 6.263233068203105e-05}\n"
       ]
      },
      {
       "output_type": "stream",
       "stream": "stderr",
       "text": [
        "DEBUG:threebody:Started compute_orbit for {'f0': 365.95336878765835, 'ppn_mode': 'heavysimple', 'shapiro': True, 'asini_i': 1.2175266047808866, 'eps2_i': -9.116341168613552e-05, 'delta_lan': 5.2353855210995294e-05, 'eps2_o': -0.0034621826187927287, 'q_i': 0.13733426409023541, 'asini_o': 74.67270046836649, 'j_GBT350': 1.8912917353649655e-05, 'tasc_i': 0.40751890523964546, 'dgamma': 0, 'acosi_o': 91.45306511868512, 'acosi_i': 1.4906026211744192, 'tasc_o': 313.93556809302754, 'eps1_o': 0.03518625484392224, 'eps1_i': 0.0006871960477540105, 'j_NCY1400': 0.000675, 'tol': 1e-16, 'j_WSRT350': -3.6063906052781444e-05, 'use_quad': False, 'j_GBT820': 6.712253154451129e-05, 'j_AO327': 6.457616019511097e-05, 'delta': 0, 'j_AO1440': 4.928169959977888e-05, 'j_AO1350': 5.364017648361716e-05, 'dbeta': 0, 'pb_o': 327.2574914403988, 'pb_i': 1.6293969135798416, 'j_GBT1500': 6.263233068203105e-05}\n"
       ]
      },
      {
       "output_type": "stream",
       "stream": "stderr",
       "text": [
        "DEBUG:threebody:compute_orbit cache hit\n"
       ]
      },
      {
       "output_type": "stream",
       "stream": "stderr",
       "text": [
        "DEBUG:threebody:Setting up linear least-squares fitting\n"
       ]
      },
      {
       "output_type": "stream",
       "stream": "stderr",
       "text": [
        "DEBUG:threebody:Linear least-squares iteration 0\n"
       ]
      },
      {
       "output_type": "stream",
       "stream": "stderr",
       "text": [
        "DEBUG:threebody:A[0]: [ 1.0  0.034632884  0.0011994366] b[0]: -0.0223695598543\n"
       ]
      },
      {
       "output_type": "stream",
       "stream": "stderr",
       "text": [
        "DEBUG:threebody:x: [ -5.69130640e+09   3.02814985e+10  -8.02151489e+00]\n"
       ]
      },
      {
       "output_type": "stream",
       "stream": "stderr",
       "text": [
        "DEBUG:threebody:Linear least-squares residual RMS 0.0549374\n"
       ]
      },
      {
       "output_type": "stream",
       "stream": "stderr",
       "text": [
        "DEBUG:threebody:Linear least-squares iteration 1\n"
       ]
      },
      {
       "output_type": "stream",
       "stream": "stderr",
       "text": [
        "DEBUG:threebody:A[0]: [ 1.0  0.034632884  0.0011994366] b[0]: -0.0223785040643\n"
       ]
      },
      {
       "output_type": "stream",
       "stream": "stderr",
       "text": [
        "DEBUG:threebody:x: [  8.26602262e-06   1.95048153e-05   2.23387355e-06]\n"
       ]
      },
      {
       "output_type": "stream",
       "stream": "stderr",
       "text": [
        "DEBUG:threebody:Linear least-squares residual RMS 0.0549401\n"
       ]
      },
      {
       "output_type": "stream",
       "stream": "stderr",
       "text": [
        "DEBUG:threebody:Linear least-squares iteration 2\n"
       ]
      },
      {
       "output_type": "stream",
       "stream": "stderr",
       "text": [
        "DEBUG:threebody:A[0]: [ 1.0  0.034632884  0.0011994366] b[0]: -0.0223785040643\n"
       ]
      },
      {
       "output_type": "stream",
       "stream": "stderr",
       "text": [
        "DEBUG:threebody:x: [ -2.14381793e-18   2.46937053e-17  -2.80161627e-17]\n"
       ]
      },
      {
       "output_type": "stream",
       "stream": "stderr",
       "text": [
        "DEBUG:threebody:Linear least-squares residual RMS 0.0549401\n"
       ]
      },
      {
       "output_type": "stream",
       "stream": "stderr",
       "text": [
        "DEBUG:threebody:Done linear least-squares\n"
       ]
      },
      {
       "metadata": {},
       "output_type": "pyout",
       "prompt_number": 256,
       "text": [
        "129132662.03759749"
       ]
      }
     ],
     "prompt_number": 256
    },
    {
     "cell_type": "code",
     "collapsed": false,
     "input": [
      "for (i,t) in enumerate(F.tel_list):\n",
      "    c = F.tels==i\n",
      "    plt.plot(F.mjds[c], r[c], '.', label=t)\n",
      "plt.legend(loc='best')\n",
      "plt.savefig(\"six-vector-resids.pdf\")"
     ],
     "language": "python",
     "metadata": {},
     "outputs": [
      {
       "metadata": {},
       "output_type": "display_data",
       "png": "[encoded data removed]",
       "text": [
        "<matplotlib.figure.Figure at 0x5641a50>"
       ]
      }
     ],
     "prompt_number": 257
    },
    {
     "cell_type": "code",
     "collapsed": false,
     "input": [
      "lp = F.compute_linear_parts(linear_jumps=True)\n",
      "lp"
     ],
     "language": "python",
     "metadata": {},
     "outputs": [
      {
       "output_type": "stream",
       "stream": "stderr",
       "text": [
        "DEBUG:threebody:Computing linear parts\n"
       ]
      },
      {
       "output_type": "stream",
       "stream": "stderr",
       "text": [
        "DEBUG:threebody:Started compute_orbit for {'f0': 365.95336878765835, 'ppn_mode': 'heavysimple', 'shapiro': True, 'asini_i': 1.2175266047808866, 'eps2_i': -9.116341168613552e-05, 'delta_lan': 5.2353855210995294e-05, 'eps2_o': -0.0034621826187927287, 'q_i': 0.13733426409023541, 'asini_o': 74.67270046836649, 'j_GBT350': 1.8912917353649655e-05, 'tasc_i': 0.40751890523964546, 'dgamma': 0, 'acosi_o': 91.45306511868512, 'acosi_i': 1.4906026211744192, 'tasc_o': 313.93556809302754, 'eps1_o': 0.03518625484392224, 'eps1_i': 0.0006871960477540105, 'j_NCY1400': 0.000675, 'tol': 1e-16, 'j_WSRT350': -3.6063906052781444e-05, 'use_quad': False, 'j_GBT820': 6.712253154451129e-05, 'j_AO327': 6.457616019511097e-05, 'delta': 0, 'j_AO1440': 4.928169959977888e-05, 'j_AO1350': 5.364017648361716e-05, 'dbeta': 0, 'pb_o': 327.2574914403988, 'pb_i': 1.6293969135798416, 'j_GBT1500': 6.263233068203105e-05}\n"
       ]
      },
      {
       "output_type": "stream",
       "stream": "stderr",
       "text": [
        "DEBUG:threebody:compute_orbit cache hit\n"
       ]
      },
      {
       "output_type": "stream",
       "stream": "stderr",
       "text": [
        "DEBUG:threebody:A[0]: [ 1.0  0.034632884  0.00059971832  0.0  0.0  1.0] b[0]: -5.02252951264e-05\n"
       ]
      },
      {
       "output_type": "stream",
       "stream": "stderr",
       "text": [
        "DEBUG:threebody:x: [ -5.69130640e+09   3.02814985e+10  -1.61150475e+01   2.20693588e-01\n",
        "   2.20205307e-01   1.97866440e-01]\n"
       ]
      },
      {
       "output_type": "stream",
       "stream": "stderr",
       "text": [
        "DEBUG:threebody:residual 2285923.323370\n"
       ]
      },
      {
       "output_type": "stream",
       "stream": "stderr",
       "text": [
        "DEBUG:threebody:residual RMS 0.007766\n"
       ]
      },
      {
       "output_type": "stream",
       "stream": "stderr",
       "text": [
        "DEBUG:threebody:A[0]: [ 1.0  0.034632884  0.00059971832  0.0  0.0  1.0] b[0]: -2.93786433494e-05\n"
       ]
      },
      {
       "output_type": "stream",
       "stream": "stderr",
       "text": [
        "DEBUG:threebody:x: [ -1.22794994e-05  -2.04416747e-06   3.99092758e-05   9.53717923e-06\n",
        "   2.02786467e-06  -8.52029124e-06]\n"
       ]
      },
      {
       "output_type": "stream",
       "stream": "stderr",
       "text": [
        "DEBUG:threebody:residual 2285918.117823\n"
       ]
      },
      {
       "output_type": "stream",
       "stream": "stderr",
       "text": [
        "DEBUG:threebody:residual RMS 0.007766\n"
       ]
      },
      {
       "output_type": "stream",
       "stream": "stderr",
       "text": [
        "DEBUG:threebody:A[0]: [ 1.0  0.034632884  0.00059971832  0.0  0.0  1.0] b[0]: -2.93786433494e-05\n"
       ]
      },
      {
       "output_type": "stream",
       "stream": "stderr",
       "text": [
        "DEBUG:threebody:x: [ -3.27537252e-19  -3.25237451e-18   5.26853020e-18   4.71178547e-19\n",
        "   1.36040774e-18  -1.47284069e-19]\n"
       ]
      },
      {
       "output_type": "stream",
       "stream": "stderr",
       "text": [
        "DEBUG:threebody:residual 2285918.117823\n"
       ]
      },
      {
       "output_type": "stream",
       "stream": "stderr",
       "text": [
        "DEBUG:threebody:residual RMS 0.007766\n"
       ]
      },
      {
       "output_type": "stream",
       "stream": "stderr",
       "text": [
        "DEBUG:threebody:Minimizing to find tzrmjd\n"
       ]
      },
      {
       "output_type": "stream",
       "stream": "stderr",
       "text": [
        "DEBUG:threebody:done\n"
       ]
      },
      {
       "metadata": {},
       "output_type": "pyout",
       "prompt_number": 258,
       "text": [
        "{'f0': 365.95336878731323202,\n",
        " 'f1': -2.3535709014322160725e-15,\n",
        " 'j_AO1440': -0.00055380914273193029134,\n",
        " 'j_GBT1500': -0.00053910372000996585216,\n",
        " 'j_GBT1500s': -0.00054066429333264431722,\n",
        " 'tzrmjd': 179.99998763230117221,\n",
        " 'tzrmjd_base': 55920}"
       ]
      }
     ],
     "prompt_number": 258
    },
    {
     "cell_type": "code",
     "collapsed": false,
     "input": [
      "for k in F.best_parameters:\n",
      "    if k.startswith(\"j_\"):\n",
      "        print k, F.best_parameters[k]"
     ],
     "language": "python",
     "metadata": {},
     "outputs": [
      {
       "output_type": "stream",
       "stream": "stdout",
       "text": [
        "j_GBT350 1.89129173536e-05\n",
        "j_NCY1400 0.000675\n",
        "j_WSRT350 -3.60639060528e-05\n",
        "j_GBT820 6.71225315445e-05\n",
        "j_AO327 6.45761601951e-05\n",
        "j_AO1440 4.92816995998e-05\n",
        "j_AO1350 5.36401764836e-05\n",
        "j_GBT1500 6.2632330682e-05\n"
       ]
      }
     ],
     "prompt_number": 259
    },
    {
     "cell_type": "code",
     "collapsed": false,
     "input": [
      "bp = F.best_parameters.copy()\n",
      "for k in lp:\n",
      "    if k.startswith(\"j_\"):\n",
      "        bp[k] = lp[k]\n",
      "#F.compute_linear_parts(bp, linear_jumps=True)\n",
      "r = F.residuals(bp)\n",
      "for (i,t) in enumerate(F.tel_list):\n",
      "    c = F.tels==i\n",
      "    plt.plot(F.mjds[c], r[c], '.', label=t)\n",
      "plt.legend(loc='best')"
     ],
     "language": "python",
     "metadata": {},
     "outputs": [
      {
       "output_type": "stream",
       "stream": "stderr",
       "text": [
        "DEBUG:threebody:Started residuals for {'f0': 365.95336878765835, 'ppn_mode': 'heavysimple', 'j_GBT820': 6.712253154451129e-05, 'pb_i': 1.6293969135798416, 'use_quad': False, 'shapiro': True, 'asini_i': 1.2175266047808866, 'eps2_i': -9.116341168613552e-05, 'delta_lan': 5.2353855210995294e-05, 'eps2_o': -0.0034621826187927287, 'j_GBT1500s': -0.00054066429333264431722, 'q_i': 0.13733426409023541, 'asini_o': 74.67270046836649, 'j_GBT350': 1.8912917353649655e-05, 'j_AO327': 6.457616019511097e-05, 'dgamma': 0, 'tasc_i': 0.40751890523964546, 'acosi_o': 91.45306511868512, 'acosi_i': 1.4906026211744192, 'tasc_o': 313.93556809302754, 'eps1_o': 0.03518625484392224, 'eps1_i': 0.0006871960477540105, 'j_AO1440': -0.00055380914273193029134, 'j_NCY1400': 0.000675, 'j_AO1350': 5.364017648361716e-05, 'dbeta': 0, 'pb_o': 327.2574914403988, 'delta': 0, 'tol': 1e-16, 'j_GBT1500': -0.00053910372000996585216, 'j_WSRT350': -3.6063906052781444e-05}\n"
       ]
      },
      {
       "output_type": "stream",
       "stream": "stderr",
       "text": [
        "DEBUG:threebody:Started compute_orbit for {'f0': 365.95336878765835, 'ppn_mode': 'heavysimple', 'j_GBT820': 6.712253154451129e-05, 'pb_i': 1.6293969135798416, 'use_quad': False, 'shapiro': True, 'asini_i': 1.2175266047808866, 'eps2_i': -9.116341168613552e-05, 'delta_lan': 5.2353855210995294e-05, 'eps2_o': -0.0034621826187927287, 'j_GBT1500s': -0.00054066429333264431722, 'q_i': 0.13733426409023541, 'asini_o': 74.67270046836649, 'j_GBT350': 1.8912917353649655e-05, 'j_AO327': 6.457616019511097e-05, 'dgamma': 0, 'tasc_i': 0.40751890523964546, 'acosi_o': 91.45306511868512, 'acosi_i': 1.4906026211744192, 'tasc_o': 313.93556809302754, 'eps1_o': 0.03518625484392224, 'eps1_i': 0.0006871960477540105, 'j_AO1440': -0.00055380914273193029134, 'j_NCY1400': 0.000675, 'j_AO1350': 5.364017648361716e-05, 'dbeta': 0, 'pb_o': 327.2574914403988, 'delta': 0, 'tol': 1e-16, 'j_GBT1500': -0.00053910372000996585216, 'j_WSRT350': -3.6063906052781444e-05}\n"
       ]
      },
      {
       "output_type": "stream",
       "stream": "stderr",
       "text": [
        "DEBUG:threebody:compute_orbit cache miss, running calculation\n"
       ]
      },
      {
       "output_type": "stream",
       "stream": "stderr",
       "text": [
        "DEBUG:threebody:Calling compute_orbit\n"
       ]
      },
      {
       "output_type": "stream",
       "stream": "stderr",
       "text": [
        "DEBUG:threebody:Running compute_orbit with parameter_dict {'f0': 365.95336878765835, 'ppn_mode': 'heavysimple', 'j_GBT820': 6.712253154451129e-05, 'pb_i': 1.6293969135798416, 'use_quad': False, 'shapiro': True, 'asini_i': 1.2175266047808866, 'eps2_i': -9.116341168613552e-05, 'delta_lan': 5.2353855210995294e-05, 'eps2_o': -0.0034621826187927287, 'j_GBT1500s': -0.00054066429333264431722, 'q_i': 0.13733426409023541, 'asini_o': 74.67270046836649, 'j_GBT350': 1.8912917353649655e-05, 'j_AO327': 6.457616019511097e-05, 'dgamma': 0, 'tasc_i': 0.40751890523964546, 'acosi_o': 91.45306511868512, 'acosi_i': 1.4906026211744192, 'tasc_o': 313.93556809302754, 'eps1_o': 0.03518625484392224, 'eps1_i': 0.0006871960477540105, 'j_AO1440': -0.00055380914273193029134, 'j_NCY1400': 0.000675, 'j_AO1350': 5.364017648361716e-05, 'dbeta': 0, 'pb_o': 327.2574914403988, 'delta': 0, 'tol': 1e-16, 'j_GBT1500': -0.00053910372000996585216, 'j_WSRT350': -3.6063906052781444e-05}\n"
       ]
      },
      {
       "output_type": "stream",
       "stream": "stderr",
       "text": [
        "DEBUG:threebody:PPN mode is heavysimple\n"
       ]
      },
      {
       "output_type": "stream",
       "stream": "stderr",
       "text": [
        "DEBUG:threebody:Running compute_orbit from time 33.1692312426 to 957.718377753 with tol 1e-16\n"
       ]
      },
      {
       "output_type": "stream",
       "stream": "stderr",
       "text": [
        "DEBUG:threebody:Constructing initial conditions\n"
       ]
      },
      {
       "output_type": "stream",
       "stream": "stderr",
       "text": [
        "DEBUG:threebody:setting up RHS\n"
       ]
      },
      {
       "output_type": "stream",
       "stream": "stderr",
       "text": [
        "DEBUG:threebody:Constructing ODE integrator\n"
       ]
      },
      {
       "output_type": "stream",
       "stream": "stderr",
       "text": [
        "DEBUG:threebody:Computing TOA 0 at t_bb=33.1692\n"
       ]
      },
      {
       "output_type": "stream",
       "stream": "stderr",
       "text": [
        "DEBUG:threebody:Extracting results\n"
       ]
      },
      {
       "output_type": "stream",
       "stream": "stderr",
       "text": [
        "DEBUG:threebody:Computing TOA 1 at t_bb=33.1696\n"
       ]
      },
      {
       "output_type": "stream",
       "stream": "stderr",
       "text": [
        "DEBUG:threebody:Extracting results\n"
       ]
      },
      {
       "output_type": "stream",
       "stream": "stderr",
       "text": [
        "DEBUG:threebody:Computing TOA 3 at t_bb=33.1703\n"
       ]
      },
      {
       "output_type": "stream",
       "stream": "stderr",
       "text": [
        "DEBUG:threebody:Extracting results\n"
       ]
      },
      {
       "output_type": "stream",
       "stream": "stderr",
       "text": [
        "DEBUG:threebody:Computing TOA 7 at t_bb=33.1717\n"
       ]
      },
      {
       "output_type": "stream",
       "stream": "stderr",
       "text": [
        "DEBUG:threebody:Extracting results\n"
       ]
      },
      {
       "output_type": "stream",
       "stream": "stderr",
       "text": [
        "DEBUG:threebody:Computing TOA 15 at t_bb=33.1746\n"
       ]
      },
      {
       "output_type": "stream",
       "stream": "stderr",
       "text": [
        "DEBUG:threebody:Extracting results\n"
       ]
      },
      {
       "output_type": "stream",
       "stream": "stderr",
       "text": [
        "DEBUG:threebody:Computing TOA 31 at t_bb=35.9156\n"
       ]
      },
      {
       "output_type": "stream",
       "stream": "stderr",
       "text": [
        "DEBUG:threebody:Extracting results\n"
       ]
      },
      {
       "output_type": "stream",
       "stream": "stderr",
       "text": [
        "DEBUG:threebody:Computing TOA 63 at t_bb=35.927\n"
       ]
      },
      {
       "output_type": "stream",
       "stream": "stderr",
       "text": [
        "DEBUG:threebody:Extracting results\n"
       ]
      },
      {
       "output_type": "stream",
       "stream": "stderr",
       "text": [
        "DEBUG:threebody:Computing TOA 127 at t_bb=35.9497\n"
       ]
      },
      {
       "output_type": "stream",
       "stream": "stderr",
       "text": [
        "DEBUG:threebody:Extracting results\n"
       ]
      },
      {
       "output_type": "stream",
       "stream": "stderr",
       "text": [
        "DEBUG:threebody:Computing TOA 255 at t_bb=37.94\n"
       ]
      },
      {
       "output_type": "stream",
       "stream": "stderr",
       "text": [
        "DEBUG:threebody:Extracting results\n"
       ]
      },
      {
       "output_type": "stream",
       "stream": "stderr",
       "text": [
        "DEBUG:threebody:Computing TOA 511 at t_bb=44.0121\n"
       ]
      },
      {
       "output_type": "stream",
       "stream": "stderr",
       "text": [
        "DEBUG:threebody:Extracting results\n"
       ]
      },
      {
       "output_type": "stream",
       "stream": "stderr",
       "text": [
        "DEBUG:threebody:Computing TOA 1023 at t_bb=69.8763\n"
       ]
      },
      {
       "output_type": "stream",
       "stream": "stderr",
       "text": [
        "DEBUG:threebody:Extracting results\n"
       ]
      },
      {
       "output_type": "stream",
       "stream": "stderr",
       "text": [
        "DEBUG:threebody:Computing TOA 2047 at t_bb=75.9118\n"
       ]
      },
      {
       "output_type": "stream",
       "stream": "stderr",
       "text": [
        "DEBUG:threebody:Extracting results\n"
       ]
      },
      {
       "output_type": "stream",
       "stream": "stderr",
       "text": [
        "DEBUG:threebody:Computing TOA 4095 at t_bb=88.8218\n"
       ]
      },
      {
       "output_type": "stream",
       "stream": "stderr",
       "text": [
        "DEBUG:threebody:Extracting results\n"
       ]
      },
      {
       "output_type": "stream",
       "stream": "stderr",
       "text": [
        "DEBUG:threebody:Computing TOA 8191 at t_bb=119.678\n"
       ]
      },
      {
       "output_type": "stream",
       "stream": "stderr",
       "text": [
        "DEBUG:threebody:Extracting results\n"
       ]
      },
      {
       "output_type": "stream",
       "stream": "stderr",
       "text": [
        "DEBUG:threebody:Computing TOA 16383 at t_bb=212.478\n"
       ]
      },
      {
       "output_type": "stream",
       "stream": "stderr",
       "text": [
        "DEBUG:threebody:Extracting results\n"
       ]
      },
      {
       "output_type": "stream",
       "stream": "stderr",
       "text": [
        "DEBUG:threebody:Computing TOA 32767 at t_bb=792.123\n"
       ]
      },
      {
       "output_type": "stream",
       "stream": "stderr",
       "text": [
        "DEBUG:threebody:Extracting results\n"
       ]
      },
      {
       "output_type": "stream",
       "stream": "stderr",
       "text": [
        "DEBUG:threebody:Done integration\n"
       ]
      },
      {
       "output_type": "stream",
       "stream": "stderr",
       "text": [
        "DEBUG:threebody:Back from compute_orbit after time 6.98353409767 (783384 evaluations)\n"
       ]
      },
      {
       "output_type": "stream",
       "stream": "stderr",
       "text": [
        "DEBUG:threebody:Setting up linear least-squares fitting\n"
       ]
      },
      {
       "output_type": "stream",
       "stream": "stderr",
       "text": [
        "DEBUG:threebody:Linear least-squares iteration 0\n"
       ]
      },
      {
       "output_type": "stream",
       "stream": "stderr",
       "text": [
        "DEBUG:threebody:A[0]: [ 1.0  0.034632884  0.0011994366] b[0]: -2.60677188635e-06\n"
       ]
      },
      {
       "output_type": "stream",
       "stream": "stderr",
       "text": [
        "DEBUG:threebody:x: [ -5.69130640e+09   3.02814985e+10  -8.05749893e+00]\n"
       ]
      },
      {
       "output_type": "stream",
       "stream": "stderr",
       "text": [
        "DEBUG:threebody:Linear least-squares residual RMS 0.00776583\n"
       ]
      },
      {
       "output_type": "stream",
       "stream": "stderr",
       "text": [
        "DEBUG:threebody:Linear least-squares iteration 1\n"
       ]
      },
      {
       "output_type": "stream",
       "stream": "stderr",
       "text": [
        "DEBUG:threebody:A[0]: [ 1.0  0.034632884  0.0011994366] b[0]: -1.49840051145e-05\n"
       ]
      },
      {
       "output_type": "stream",
       "stream": "stderr",
       "text": [
        "DEBUG:threebody:x: [  1.30835429e-05  -2.03111044e-05  -2.39912484e-06]\n"
       ]
      },
      {
       "output_type": "stream",
       "stream": "stderr",
       "text": [
        "DEBUG:threebody:Linear least-squares residual RMS 0.00776582\n"
       ]
      },
      {
       "output_type": "stream",
       "stream": "stderr",
       "text": [
        "DEBUG:threebody:Linear least-squares iteration 2\n"
       ]
      },
      {
       "output_type": "stream",
       "stream": "stderr",
       "text": [
        "DEBUG:threebody:A[0]: [ 1.0  0.034632884  0.0011994366] b[0]: -1.49840051145e-05\n"
       ]
      },
      {
       "output_type": "stream",
       "stream": "stderr",
       "text": [
        "DEBUG:threebody:x: [  2.75377583e-20   5.62005905e-19  -9.58447673e-19]\n"
       ]
      },
      {
       "output_type": "stream",
       "stream": "stderr",
       "text": [
        "DEBUG:threebody:Linear least-squares residual RMS 0.00776582\n"
       ]
      },
      {
       "output_type": "stream",
       "stream": "stderr",
       "text": [
        "DEBUG:threebody:Done linear least-squares\n"
       ]
      },
      {
       "metadata": {},
       "output_type": "pyout",
       "prompt_number": 260,
       "text": [
        "<matplotlib.legend.Legend at 0xa711050>"
       ]
      },
      {
       "metadata": {},
       "output_type": "display_data",
       "png": "[encoded data removed]",
       "text": [
        "<matplotlib.figure.Figure at 0x64544d0>"
       ]
      }
     ],
     "prompt_number": 260
    },
    {
     "cell_type": "code",
     "collapsed": false,
     "input": [],
     "language": "python",
     "metadata": {},
     "outputs": []
    },
    {
     "cell_type": "code",
     "collapsed": false,
     "input": [
      "F.parameters"
     ],
     "language": "python",
     "metadata": {},
     "outputs": [
      {
       "metadata": {},
       "output_type": "pyout",
       "prompt_number": 224,
       "text": [
        "['asini_i',\n",
        " 'pb_i',\n",
        " 'eps1_i',\n",
        " 'eps2_i',\n",
        " 'tasc_i',\n",
        " 'acosi_i',\n",
        " 'q_i',\n",
        " 'asini_o',\n",
        " 'pb_o',\n",
        " 'eps1_o',\n",
        " 'eps2_o',\n",
        " 'tasc_o',\n",
        " 'acosi_o',\n",
        " 'delta_lan',\n",
        " 'delta',\n",
        " 'dgamma',\n",
        " 'dbeta',\n",
        " 'j_GBT1500',\n",
        " 'j_GBT1500s',\n",
        " 'j_WSRT1400']"
       ]
      }
     ],
     "prompt_number": 224
    },
    {
     "cell_type": "code",
     "collapsed": false,
     "input": [
      "r.min(), r.max()"
     ],
     "language": "python",
     "metadata": {},
     "outputs": [
      {
       "metadata": {},
       "output_type": "pyout",
       "prompt_number": 96,
       "text": [
        "(-0.24760103096037139, 0.7098993882694733)"
       ]
      }
     ],
     "prompt_number": 96
    },
    {
     "cell_type": "code",
     "collapsed": false,
     "input": [
      "def minmax(a):\n",
      "    return a.min(), a.max()\n"
     ],
     "language": "python",
     "metadata": {},
     "outputs": [],
     "prompt_number": 97
    },
    {
     "cell_type": "code",
     "collapsed": false,
     "input": [
      "minmax(F.uncerts)"
     ],
     "language": "python",
     "metadata": {},
     "outputs": [
      {
       "metadata": {},
       "output_type": "pyout",
       "prompt_number": 98,
       "text": [
        "(4.7599999999999997e-07, 1.5362999999999998e-05)"
       ]
      }
     ],
     "prompt_number": 98
    },
    {
     "cell_type": "code",
     "collapsed": false,
     "input": [
      "o = F.compute_orbit(F.best_parameters)"
     ],
     "language": "python",
     "metadata": {},
     "outputs": [],
     "prompt_number": 59
    },
    {
     "cell_type": "code",
     "collapsed": false,
     "input": [
      "o"
     ],
     "language": "python",
     "metadata": {},
     "outputs": [
      {
       "metadata": {},
       "output_type": "pyout",
       "prompt_number": 60,
       "text": [
        "{'initial_values': array([  1.13421201e+02,   2.15721466e+01,   1.76183772e+01,\n",
        "         6.76079231e+00,   1.69794802e+00,   1.38637149e+00,\n",
        "         1.43986555e+00,   1.13406825e+02,   3.39250572e+01,\n",
        "         2.77082543e+01,  -5.46599033e+01,   1.65938070e+00,\n",
        "         1.35486964e+00,   1.97742876e-01,  -4.52364719e+02,\n",
        "        -9.19880656e+01,  -7.51288732e+01,   2.61568263e+00,\n",
        "        -6.75355940e+00,  -5.51426342e+00,   4.10590535e-01,\n",
        "         0.00000000e+00]),\n",
        " 'n_evaluations': 783384,\n",
        " 'parameter_dict': {'acosi_i': 1.4906026211744192,\n",
        "  'acosi_o': 91.45306511868512,\n",
        "  'asini_i': 1.2175266047808866,\n",
        "  'asini_o': 74.67270046836649,\n",
        "  'dbeta': 0,\n",
        "  'delta': 0,\n",
        "  'delta_lan': 5.2353855210995294e-05,\n",
        "  'dgamma': 0,\n",
        "  'eps1_i': 0.0006871960477540105,\n",
        "  'eps1_o': 0.03518625484392224,\n",
        "  'eps2_i': -9.116341168613552e-05,\n",
        "  'eps2_o': -0.0034621826187927287,\n",
        "  'f0': 365.95336878765835,\n",
        "  'j_AO1350': 5.364017648361716e-05,\n",
        "  'j_AO1440': 4.928169959977888e-05,\n",
        "  'j_AO327': 6.457616019511097e-05,\n",
        "  'j_GBT1500': 6.263233068203105e-05,\n",
        "  'j_GBT350': 1.8912917353649655e-05,\n",
        "  'j_GBT820': 6.712253154451129e-05,\n",
        "  'j_NCY1400': 0.000675,\n",
        "  'j_WSRT350': -3.6063906052781444e-05,\n",
        "  'pb_i': 1.6293969135798416,\n",
        "  'pb_o': 327.2574914403988,\n",
        "  'ppn_mode': 'heavysimple',\n",
        "  'q_i': 0.13733426409023541,\n",
        "  'shapiro': True,\n",
        "  'tasc_i': 0.40751890523964546,\n",
        "  'tasc_o': 313.93556809302754,\n",
        "  'tol': 1e-16,\n",
        "  'use_quad': False},\n",
        " 'states': array([[ 71.550242,  71.524883,  58.404321, ..., -3.4659227,  0.41059054,\n",
        "        -2.277264e-06],\n",
        "       [ 71.547939,  71.526871,  58.405944, ..., -3.46589,  0.41059054,\n",
        "        -2.2772893e-06],\n",
        "       [ 71.545636,  71.528854,  58.407564, ..., -3.4658574,  0.41059054,\n",
        "        -2.2773145e-06],\n",
        "       ..., \n",
        "       [ 114.84012, -18.600073, -15.1823, ..., -5.5860773,  0.41059054,\n",
        "        -6.5674824e-05],\n",
        "       [ 114.84049, -18.601499, -15.183464, ..., -5.586085,  0.41059054,\n",
        "        -6.5674847e-05],\n",
        "       [ 114.84077, -18.602582, -15.18435, ..., -5.5860908,  0.41059054,\n",
        "        -6.5674865e-05]], dtype=float128),\n",
        " 't_bb': array([ 33.169231,  33.169587,  33.169943, ...,  957.71775,  957.71811,\n",
        "        957.71838], dtype=float128),\n",
        " 't_d': array([ 33.168555,  33.168911,  33.169267, ...,  957.71793,  957.71828,\n",
        "        957.71855], dtype=float128),\n",
        " 't_psr': array([ 33.168553,  33.168909,  33.169265, ...,  957.71786,  957.71822,\n",
        "        957.71849], dtype=float128),\n",
        " 'time': 6.957970142364502,\n",
        " 'times': array([ 33.169231,  33.169587,  33.169943, ...,  957.71775,  957.71811,\n",
        "        957.71838], dtype=float128)}"
       ]
      }
     ],
     "prompt_number": 60
    },
    {
     "cell_type": "code",
     "collapsed": false,
     "input": [
      "t_psr_s = o['t_psr']*86400\n",
      "p = F.best_parameters\n",
      "tzrmjd_base = p['tzrmjd_base']\n",
      "tzrmjd_s = (p['tzrmjd']+(tzrmjd_base-F.base_mjd))*86400\n",
      "phase = p['f0']*t_psr_s+p['f1']*t_psr_s**2/2.\n",
      "phase -= p['f0']*tzrmjd_s+p['f1']*tzrmjd_s**2/2."
     ],
     "language": "python",
     "metadata": {},
     "outputs": [
      {
       "ename": "KeyError",
       "evalue": "'tzrmjd_base'",
       "output_type": "pyerr",
       "traceback": [
        "\u001b[0;31m---------------------------------------------------------------------------\u001b[0m\n\u001b[0;31mKeyError\u001b[0m                                  Traceback (most recent call last)",
        "\u001b[0;32m<ipython-input-61-c40e4ddc0f41>\u001b[0m in \u001b[0;36m<module>\u001b[0;34m()\u001b[0m\n\u001b[1;32m      1\u001b[0m \u001b[0mt_psr_s\u001b[0m \u001b[0;34m=\u001b[0m \u001b[0mo\u001b[0m\u001b[0;34m[\u001b[0m\u001b[0;34m't_psr'\u001b[0m\u001b[0;34m]\u001b[0m\u001b[0;34m*\u001b[0m\u001b[0;36m86400\u001b[0m\u001b[0;34m\u001b[0m\u001b[0m\n\u001b[1;32m      2\u001b[0m \u001b[0mp\u001b[0m \u001b[0;34m=\u001b[0m \u001b[0mF\u001b[0m\u001b[0;34m.\u001b[0m\u001b[0mbest_parameters\u001b[0m\u001b[0;34m\u001b[0m\u001b[0m\n\u001b[0;32m----> 3\u001b[0;31m \u001b[0mtzrmjd_base\u001b[0m \u001b[0;34m=\u001b[0m \u001b[0mp\u001b[0m\u001b[0;34m[\u001b[0m\u001b[0;34m'tzrmjd_base'\u001b[0m\u001b[0;34m]\u001b[0m\u001b[0;34m\u001b[0m\u001b[0m\n\u001b[0m\u001b[1;32m      4\u001b[0m \u001b[0mtzrmjd_s\u001b[0m \u001b[0;34m=\u001b[0m \u001b[0;34m(\u001b[0m\u001b[0mp\u001b[0m\u001b[0;34m[\u001b[0m\u001b[0;34m'tzrmjd'\u001b[0m\u001b[0;34m]\u001b[0m\u001b[0;34m+\u001b[0m\u001b[0;34m(\u001b[0m\u001b[0mtzrmjd_base\u001b[0m\u001b[0;34m-\u001b[0m\u001b[0mF\u001b[0m\u001b[0;34m.\u001b[0m\u001b[0mbase_mjd\u001b[0m\u001b[0;34m)\u001b[0m\u001b[0;34m)\u001b[0m\u001b[0;34m*\u001b[0m\u001b[0;36m86400\u001b[0m\u001b[0;34m\u001b[0m\u001b[0m\n\u001b[1;32m      5\u001b[0m \u001b[0mphase\u001b[0m \u001b[0;34m=\u001b[0m \u001b[0mp\u001b[0m\u001b[0;34m[\u001b[0m\u001b[0;34m'f0'\u001b[0m\u001b[0;34m]\u001b[0m\u001b[0;34m*\u001b[0m\u001b[0mt_psr_s\u001b[0m\u001b[0;34m+\u001b[0m\u001b[0mp\u001b[0m\u001b[0;34m[\u001b[0m\u001b[0;34m'f1'\u001b[0m\u001b[0;34m]\u001b[0m\u001b[0;34m*\u001b[0m\u001b[0mt_psr_s\u001b[0m\u001b[0;34m**\u001b[0m\u001b[0;36m2\u001b[0m\u001b[0;34m/\u001b[0m\u001b[0;36m2.\u001b[0m\u001b[0;34m\u001b[0m\u001b[0m\n",
        "\u001b[0;31mKeyError\u001b[0m: 'tzrmjd_base'"
       ]
      }
     ],
     "prompt_number": 61
    },
    {
     "cell_type": "code",
     "collapsed": false,
     "input": [
      "d = dict((k,\"\") for k in set(V['infos']))\n",
      "d"
     ],
     "language": "python",
     "metadata": {},
     "outputs": [
      {
       "metadata": {},
       "output_type": "pyout",
       "prompt_number": 63,
       "text": [
        "{'Arecibo,L-band,PUPPI_coherent_fold': '',\n",
        " 'GBT,L-band,GUPPI_coherent_fold': '',\n",
        " 'GBT,L-band,GUPPI_coherent_search': '',\n",
        " 'WSRT,L-band,PUMAII_coherent_fold': ''}"
       ]
      }
     ],
     "prompt_number": 63
    },
    {
     "cell_type": "code",
     "collapsed": false,
     "input": [],
     "language": "python",
     "metadata": {},
     "outputs": []
    }
   ],
   "metadata": {}
  }
 ]
}