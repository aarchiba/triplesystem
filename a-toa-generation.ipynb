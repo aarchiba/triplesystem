{
 "metadata": {
  "name": "a-toa-generation"
 },
 "nbformat": 3,
 "nbformat_minor": 0,
 "worksheets": [
  {
   "cells": [
    {
     "cell_type": "code",
     "collapsed": false,
     "input": [
      "%load_ext autoreload\n",
      "\n",
      "%autoreload 2"
     ],
     "language": "python",
     "metadata": {},
     "outputs": [],
     "prompt_number": 1
    },
    {
     "cell_type": "code",
     "collapsed": false,
     "input": [
      "from glob import glob\n",
      "import os\n",
      "import time\n",
      "\n",
      "import scipy.linalg\n",
      "import scipy.stats\n",
      "\n",
      "import emcee\n",
      "\n",
      "import kepler\n",
      "import threebody"
     ],
     "language": "python",
     "metadata": {},
     "outputs": [],
     "prompt_number": 2
    },
    {
     "cell_type": "code",
     "collapsed": false,
     "input": [
      "import matplotlib\n",
      "matplotlib.rcParams['savefig.dpi'] = 120"
     ],
     "language": "python",
     "metadata": {},
     "outputs": [],
     "prompt_number": 3
    },
    {
     "cell_type": "code",
     "collapsed": false,
     "input": [
      "#F = threebody.Fitter(\"0337+17-scott-2013-06-06\",tzrmjd_middle=True,use_delta=True)\n",
      "F = threebody.Fitter(\"0337+17-scott-2013-06-06\",tzrmjd_middle='weighted',ppn_mode='GR')\n",
      "#F = threebody.Fitter(\"0337+17-scott-2013-06-06\",tzrmjd_middle='weighted',ppn_mode='heavysimple')\n"
     ],
     "language": "python",
     "metadata": {},
     "outputs": [],
     "prompt_number": 4
    },
    {
     "cell_type": "code",
     "collapsed": false,
     "input": [
      "length_days = 1000\n",
      "per_day = 100\n",
      "times = np.linspace(1,length_days,length_days*per_day).astype(np.float128)\n"
     ],
     "language": "python",
     "metadata": {},
     "outputs": [],
     "prompt_number": 5
    },
    {
     "cell_type": "code",
     "collapsed": false,
     "input": [
      "times = F.mjds.copy()-F.base_mjd"
     ],
     "language": "python",
     "metadata": {},
     "outputs": [],
     "prompt_number": 19
    },
    {
     "cell_type": "code",
     "collapsed": false,
     "input": [
      "o = threebody.compute_orbit(F.best_parameters, times)"
     ],
     "language": "python",
     "metadata": {},
     "outputs": [],
     "prompt_number": 20
    },
    {
     "cell_type": "code",
     "collapsed": false,
     "input": [
      "p = F.best_parameters\n",
      "t_psr_s = o['t_psr']*86400.\n",
      "tzrmjd_s = (p['tzrmjd']+(F.tzrmjd_base-F.base_mjd))*86400\n",
      "        \n",
      "phase = p['f0']*t_psr_s+p['f1']*t_psr_s**2/2.\n",
      "phase -= p['f0']*tzrmjd_s+p['f1']*tzrmjd_s**2/2."
     ],
     "language": "python",
     "metadata": {},
     "outputs": [],
     "prompt_number": 21
    },
    {
     "cell_type": "code",
     "collapsed": false,
     "input": [
      "dphase = phase - np.round(phase)\n",
      "times2 = times-dphase/p['f0']/86400."
     ],
     "language": "python",
     "metadata": {},
     "outputs": [],
     "prompt_number": 22
    },
    {
     "cell_type": "code",
     "collapsed": false,
     "input": [
      "o2 = threebody.compute_orbit(F.best_parameters, times2)"
     ],
     "language": "python",
     "metadata": {},
     "outputs": [],
     "prompt_number": 23
    },
    {
     "cell_type": "code",
     "collapsed": false,
     "input": [
      "t_psr_s2 = o2['t_psr']*86400.\n",
      "tzrmjd_s = (p['tzrmjd']+(F.tzrmjd_base-F.base_mjd))*86400\n",
      "        \n",
      "phase2 = p['f0']*t_psr_s2+p['f1']*t_psr_s2**2/2.\n",
      "phase2 -= p['f0']*tzrmjd_s+p['f1']*tzrmjd_s**2/2."
     ],
     "language": "python",
     "metadata": {},
     "outputs": [],
     "prompt_number": 24
    },
    {
     "cell_type": "code",
     "collapsed": false,
     "input": [
      "dphase2 = phase2 - np.round(phase2)\n",
      "times3 = times2-dphase2/p['f0']/86400."
     ],
     "language": "python",
     "metadata": {},
     "outputs": [],
     "prompt_number": 25
    },
    {
     "cell_type": "code",
     "collapsed": false,
     "input": [
      "print np.std(dphase/p['f0']), np.std(dphase2/p['f0'])"
     ],
     "language": "python",
     "metadata": {},
     "outputs": [
      {
       "output_type": "stream",
       "stream": "stdout",
       "text": [
        "1.71060381271e-05 2.00868021416e-09\n"
       ]
      }
     ],
     "prompt_number": 26
    },
    {
     "cell_type": "code",
     "collapsed": false,
     "input": [
      "times3.dtype"
     ],
     "language": "python",
     "metadata": {},
     "outputs": [
      {
       "output_type": "pyout",
       "prompt_number": 27,
       "text": [
        "dtype('float128')"
       ]
      }
     ],
     "prompt_number": 27
    },
    {
     "cell_type": "code",
     "collapsed": false,
     "input": [
      "#times3 = times"
     ],
     "language": "python",
     "metadata": {},
     "outputs": [],
     "prompt_number": 28
    },
    {
     "cell_type": "code",
     "collapsed": false,
     "input": [
      "with open(\"fake.tim\",\"wt\") as f:\n",
      "    with open(\"fake.pulses\",\"wt\") as fp:\n",
      "        for t, n in zip(times3,np.round(phase2)):\n",
      "            t_base = F.base_mjd + np.floor(t)\n",
      "            t_frac = t-np.floor(t)\n",
      "            strtoa = repr(int(t_base))+repr(t_frac)[1:]\n",
      "            f.write(\"@             999999.999 %19s     3.00\\n\" % strtoa[:19])\n",
      "            fp.write(\"%d\\n\" % n)\n",
      "        "
     ],
     "language": "python",
     "metadata": {},
     "outputs": [],
     "prompt_number": 29
    },
    {
     "cell_type": "code",
     "collapsed": false,
     "input": [
      "F.tzrmjd_base"
     ],
     "language": "python",
     "metadata": {},
     "outputs": [
      {
       "output_type": "pyout",
       "prompt_number": 30,
       "text": [
        "56118.11877977957521"
       ]
      }
     ],
     "prompt_number": 30
    },
    {
     "cell_type": "code",
     "collapsed": false,
     "input": [],
     "language": "python",
     "metadata": {},
     "outputs": []
    }
   ],
   "metadata": {}
  }
 ]
}