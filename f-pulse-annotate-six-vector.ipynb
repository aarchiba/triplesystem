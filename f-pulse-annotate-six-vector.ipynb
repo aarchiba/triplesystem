{
 "cells": [
  {
   "cell_type": "code",
   "execution_count": 1,
   "metadata": {
    "collapsed": false
   },
   "outputs": [],
   "source": [
    "%load_ext autoreload\n",
    "\n",
    "%autoreload 2"
   ]
  },
  {
   "cell_type": "code",
   "execution_count": 2,
   "metadata": {
    "collapsed": false
   },
   "outputs": [],
   "source": [
    "from __future__ import division\n",
    "from glob import glob\n",
    "import os\n",
    "import time\n",
    "import cPickle as pickle\n",
    "\n",
    "import scipy.linalg\n",
    "import scipy.stats\n",
    "\n",
    "import astropy.io.fits\n",
    "import astropy.table\n",
    "import astropy.units as u\n",
    "import astropy.constants as c\n",
    "import astropy.time\n",
    "\n",
    "import emcee\n",
    "import numdifftools\n",
    "\n",
    "import kepler\n",
    "import threebody"
   ]
  },
  {
   "cell_type": "markdown",
   "metadata": {},
   "source": [
    "## Computing pulse numbers for some six-vectors"
   ]
  },
  {
   "cell_type": "code",
   "execution_count": 78,
   "metadata": {
    "collapsed": false
   },
   "outputs": [],
   "source": [
    "#infilename = \"0337_6vec_table_GBT_Lband_fold_150131.fits\"\n",
    "#infilename = \"0337_6vec_table_141009.fits\"\n",
    "infilename = \"0337_6vec_table_150131.fits\"\n",
    "outfilename = infilename.replace(\".fits\",\"_pulses.fits\")\n"
   ]
  },
  {
   "cell_type": "code",
   "execution_count": 79,
   "metadata": {
    "collapsed": false
   },
   "outputs": [],
   "source": [
    "fpickle = \"forecaster_params.pickle\"\n",
    "d = pickle.load(open(fpickle,\"rb\"))\n",
    "F = threebody.Fitter(**d)"
   ]
  },
  {
   "cell_type": "code",
   "execution_count": 80,
   "metadata": {
    "collapsed": false
   },
   "outputs": [],
   "source": [
    "V = astropy.table.Table.read(infilename)"
   ]
  },
  {
   "cell_type": "code",
   "execution_count": 81,
   "metadata": {
    "collapsed": false
   },
   "outputs": [],
   "source": [
    "btoas_t = astropy.time.Time(np.asarray(V['btoas'][:,0]),\n",
    "                            np.asarray(V['btoas'][:,1]),\n",
    "                            format='jd',\n",
    "                            scale='tdb').tcb # our F0 value is TCB\n",
    "btoas = (btoas_t.jd1-2400000.5-F.base_mjd).astype(np.float128) + btoas_t.jd2.astype(np.float128)"
   ]
  },
  {
   "cell_type": "code",
   "execution_count": 82,
   "metadata": {
    "collapsed": false
   },
   "outputs": [],
   "source": [
    "# FIXME: jumps\n",
    "o = threebody.compute_orbit(F.best_parameters, btoas)"
   ]
  },
  {
   "cell_type": "code",
   "execution_count": 83,
   "metadata": {
    "collapsed": false
   },
   "outputs": [],
   "source": [
    "t_psr_s = o['t_psr']*86400\n",
    "p = F.best_parameters\n",
    "tzrmjd_base = p['tzrmjd_base']\n",
    "tzrmjd_s = (p['tzrmjd']+(tzrmjd_base-F.base_mjd))*86400\n",
    "phase = p['f0']*t_psr_s+p['f1']*t_psr_s**2/2.\n",
    "phase -= p['f0']*tzrmjd_s+p['f1']*tzrmjd_s**2/2."
   ]
  },
  {
   "cell_type": "code",
   "execution_count": 84,
   "metadata": {
    "collapsed": false
   },
   "outputs": [
    {
     "name": "stdout",
     "output_type": "stream",
     "text": [
      "7 questionable entries\n"
     ]
    },
    {
     "data": {
      "image/png": "[encoded data removed]",
      "text/plain": [
       "<matplotlib.figure.Figure at 0x9a10250>"
      ]
     },
     "metadata": {},
     "output_type": "display_data"
    }
   ],
   "source": [
    "plt.hist(phase-np.round(phase),bins=100)\n",
    "print np.sum(np.abs(phase-np.round(phase)>0.3)), \"questionable entries\""
   ]
  },
  {
   "cell_type": "code",
   "execution_count": 85,
   "metadata": {
    "collapsed": false
   },
   "outputs": [],
   "source": [
    "pulses = np.round(phase).astype(np.int64)"
   ]
  },
  {
   "cell_type": "code",
   "execution_count": 86,
   "metadata": {
    "collapsed": false
   },
   "outputs": [],
   "source": [
    "if 'pulse' in V.colnames:\n",
    "    print \"Pulse number column already present\"\n",
    "    print np.sum(pulses!=V['pulse']), \"entries discrepant\"\n",
    "else:\n",
    "    V.add_column(astropy.table.Column(data=pulses, name='pulse'))\n"
   ]
  },
  {
   "cell_type": "code",
   "execution_count": 87,
   "metadata": {
    "collapsed": false
   },
   "outputs": [],
   "source": [
    "V.write(outfilename)"
   ]
  },
  {
   "cell_type": "markdown",
   "metadata": {},
   "source": [
    "## Building a good forecaster"
   ]
  },
  {
   "cell_type": "code",
   "execution_count": 3,
   "metadata": {
    "collapsed": false
   },
   "outputs": [],
   "source": [
    "fpickle = \"fitter_params.pickle\"\n",
    "d = pickle.load(open(fpickle,\"rb\"))\n",
    "F = threebody.Fitter(**d)"
   ]
  },
  {
   "cell_type": "code",
   "execution_count": 4,
   "metadata": {
    "collapsed": false
   },
   "outputs": [
    {
     "data": {
      "text/plain": [
       "(34392.586632432234214, 34570)"
      ]
     },
     "execution_count": 4,
     "metadata": {},
     "output_type": "execute_result"
    }
   ],
   "source": [
    "F.chi2(F.best_parameters), len(F.mjds)"
   ]
  },
  {
   "cell_type": "code",
   "execution_count": 5,
   "metadata": {
    "collapsed": false
   },
   "outputs": [],
   "source": [
    "lp = F.compute_linear_parts()"
   ]
  },
  {
   "cell_type": "code",
   "execution_count": 6,
   "metadata": {
    "collapsed": false
   },
   "outputs": [
    {
     "data": {
      "text/plain": [
       "{'f0': 365.95336311711874977,\n",
       " 'f1': -2.3547358099795740666e-15,\n",
       " 'tzrmjd': 180.00018851636843117,\n",
       " 'tzrmjd_base': 55920}"
      ]
     },
     "execution_count": 6,
     "metadata": {},
     "output_type": "execute_result"
    }
   ],
   "source": [
    "lp"
   ]
  },
  {
   "cell_type": "code",
   "execution_count": 7,
   "metadata": {
    "collapsed": false
   },
   "outputs": [
    {
     "data": {
      "text/plain": [
       "{'acosi_i': 1.4917920737881377967,\n",
       " 'acosi_o': 91.515517821405981132,\n",
       " 'asini_i': 1.2175268187146886046,\n",
       " 'asini_o': 74.672709901274213484,\n",
       " 'd_DECJ': 3.8297379260835209625e-07,\n",
       " 'd_RAJ': -9.1473641598984196357e-08,\n",
       " 'dbeta': 3.137215781113322372e-05,\n",
       " 'delta': -2.4326288381809617149e-10,\n",
       " 'delta_lan': -5.4096316391090949558e-05,\n",
       " 'dgamma': -2.5854449182822343408e-07,\n",
       " 'eps1_i': 0.00068724728071223587401,\n",
       " 'eps1_o': 0.035186247652040840626,\n",
       " 'eps2_i': -9.1179836780626676656e-05,\n",
       " 'eps2_o': -0.003462135260726911092,\n",
       " 'f0': 365.95336311711874974,\n",
       " 'f1': -2.3547358099625887817e-15,\n",
       " 'j_AO1350': 5.364017648361716e-05,\n",
       " 'j_AO1440': -0.00055121663140921818248,\n",
       " 'j_AO327': 6.457616019511097e-05,\n",
       " 'j_GBT1500': -0.00053763724410558742536,\n",
       " 'j_GBT350': 1.8912917353649655e-05,\n",
       " 'j_GBT820': 6.712253154451129e-05,\n",
       " 'j_NCY1400': 0.000675,\n",
       " 'j_WSRT350': -3.6063906052781444e-05,\n",
       " 'pb_i': 1.6293969394546642386,\n",
       " 'pb_o': 327.2575252205244358,\n",
       " 'ppn_mode': 'heavysimple',\n",
       " 'q_i': 0.13746673219074406775,\n",
       " 'shapiro': True,\n",
       " 'tasc_i': 0.4077170163964780749,\n",
       " 'tasc_o': 313.93579191727065536,\n",
       " 'tol': 1e-16,\n",
       " 'tzrmjd': 180.00018851636843113,\n",
       " 'tzrmjd_base': 55920,\n",
       " 'use_quad': False}"
      ]
     },
     "execution_count": 7,
     "metadata": {},
     "output_type": "execute_result"
    }
   ],
   "source": [
    "F.best_parameters"
   ]
  },
  {
   "cell_type": "code",
   "execution_count": 8,
   "metadata": {
    "collapsed": false
   },
   "outputs": [],
   "source": [
    "d2 = d.copy()\n",
    "d2['tzrmjd_middle'] = False\n",
    "p2 = F.best_parameters.copy()\n",
    "for k in lp:\n",
    "    p2[k] = lp[k]"
   ]
  },
  {
   "cell_type": "code",
   "execution_count": 9,
   "metadata": {
    "collapsed": false
   },
   "outputs": [],
   "source": [
    "F2 = threebody.Fitter(**d2)"
   ]
  },
  {
   "cell_type": "code",
   "execution_count": 10,
   "metadata": {
    "collapsed": false
   },
   "outputs": [
    {
     "name": "stdout",
     "output_type": "stream",
     "text": [
      "old: 34392.5866324\n",
      "new: 34392.5867662\n"
     ]
    }
   ],
   "source": [
    "try:\n",
    "    old = F2.chi2(F2.best_parameters)\n",
    "    print \"old:\", old\n",
    "except KeyError:\n",
    "    old = np.inf\n",
    "new = F2.chi2(p2)\n",
    "print \"new:\", new\n",
    "if new<old:\n",
    "    bpd = threebody.load_best_parameter_database()\n",
    "    bpd[frozenset(F2.args.iteritems())] = p2\n",
    "    threebody.save_best_parameter_database(bpd)"
   ]
  },
  {
   "cell_type": "code",
   "execution_count": 11,
   "metadata": {
    "collapsed": false
   },
   "outputs": [],
   "source": [
    "with open(\"forecaster_params.pickle\", \"wb\") as f:\n",
    "    pickle.dump(d2, f)"
   ]
  },
  {
   "cell_type": "code",
   "execution_count": null,
   "metadata": {
    "collapsed": false
   },
   "outputs": [],
   "source": []
  }
 ],
 "metadata": {
  "kernelspec": {
   "display_name": "Python 2",
   "language": "python",
   "name": "python2"
  },
  "language_info": {
   "codemirror_mode": {
    "name": "ipython",
    "version": 2
   },
   "file_extension": ".py",
   "mimetype": "text/x-python",
   "name": "python",
   "nbconvert_exporter": "python",
   "pygments_lexer": "ipython2",
   "version": "2.7.3"
  }
 },
 "nbformat": 4,
 "nbformat_minor": 0
}
