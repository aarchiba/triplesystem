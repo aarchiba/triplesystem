{
 "metadata": {
  "name": ""
 },
 "nbformat": 3,
 "nbformat_minor": 0,
 "worksheets": [
  {
   "cells": [
    {
     "cell_type": "code",
     "collapsed": false,
     "input": [
      "%load_ext autoreload\n",
      "\n",
      "%autoreload 2"
     ],
     "language": "python",
     "metadata": {},
     "outputs": [],
     "prompt_number": 1
    },
    {
     "cell_type": "code",
     "collapsed": false,
     "input": [
      "import subprocess\n",
      "import os\n",
      "import shutil\n",
      "import cPickle as pickle\n",
      "\n",
      "import residuals\n",
      "\n",
      "import threebody"
     ],
     "language": "python",
     "metadata": {},
     "outputs": [],
     "prompt_number": 2
    },
    {
     "cell_type": "code",
     "collapsed": false,
     "input": [
      "#vlbi_mjd = 56513\n",
      "#vlbi_mjd = 56699\n",
      "#vlbi_mjd = 56710\n",
      "#vlbi_mjd = 56734\n",
      "#vlbi_mjd = 56760\n",
      "#vlbi_mjd = 56879\n",
      "#vlbi_mjd = 56891\n",
      "vlbi_mjd = 57072\n"
     ],
     "language": "python",
     "metadata": {},
     "outputs": [],
     "prompt_number": 3
    },
    {
     "cell_type": "code",
     "collapsed": false,
     "input": [
      "subprocess.check_call([\"python\", \"fit_segment.py\", \n",
      "                       \"--fixedbtx\", \"--length\", \"40\", \n",
      "                       str(vlbi_mjd)])"
     ],
     "language": "python",
     "metadata": {},
     "outputs": [
      {
       "metadata": {},
       "output_type": "pyout",
       "prompt_number": 4,
       "text": [
        "0"
       ]
      }
     ],
     "prompt_number": 4
    },
    {
     "cell_type": "code",
     "collapsed": false,
     "input": [
      "r = residuals.read_residuals()"
     ],
     "language": "python",
     "metadata": {},
     "outputs": [],
     "prompt_number": 5
    },
    {
     "cell_type": "code",
     "collapsed": false,
     "input": [
      "plt.plot(r.bary_TOA, r.postfit_phs)\n",
      "plt.axvline(vlbi_mjd)"
     ],
     "language": "python",
     "metadata": {},
     "outputs": [
      {
       "metadata": {},
       "output_type": "pyout",
       "prompt_number": 6,
       "text": [
        "<matplotlib.lines.Line2D at 0x39b8190>"
       ]
      },
      {
       "metadata": {},
       "output_type": "display_data",
       "png": "[encoded data removed]",
       "text": [
        "<matplotlib.figure.Figure at 0x39b8550>"
       ]
      }
     ],
     "prompt_number": 6
    },
    {
     "cell_type": "code",
     "collapsed": false,
     "input": [
      "vlbiname = \"vlbi-%d-auto.par\" % vlbi_mjd\n",
      "shutil.copy(\"J0337+17.par\", vlbiname)"
     ],
     "language": "python",
     "metadata": {},
     "outputs": [],
     "prompt_number": 7
    },
    {
     "cell_type": "markdown",
     "metadata": {},
     "source": [
      "Now go check the phase with the notebook c-check-phase."
     ]
    },
    {
     "cell_type": "code",
     "collapsed": false,
     "input": [
      "with open(\"tz.in\",\"wt\") as f:\n",
      "    f.write(\"\"\"0    12   60   12  1410\n",
      "\n",
      "\n",
      "0337+17\n",
      "\"\"\")\n",
      "p = subprocess.Popen([\"tempo\", \"-f\", vlbiname, \"-z\"], \n",
      "                     stdin=subprocess.PIPE,\n",
      "                     stdout=subprocess.PIPE,\n",
      "                     stderr=subprocess.PIPE)\n",
      "\n",
      "out, err = p.communicate(input=\"%d %d\\n\" % (vlbi_mjd-1,vlbi_mjd+1))\n",
      "print out\n",
      "print err"
     ],
     "language": "python",
     "metadata": {},
     "outputs": [
      {
       "output_type": "stream",
       "stream": "stdout",
       "text": [
        "TZ source list for site = 0\n",
        "\n",
        "    PSR        Nspan  Ncoeffs  Maxha    Freq\n",
        "----------------------------------------------\n",
        " 0337+17           60      12   12.00   1410.00000\n",
        "\n",
        " Current date is 20-FEB-15, or MJD 57073.552\n",
        "\n",
        " Enter first and last MJD, or hit return to run for today: \n",
        " 18-FEB-15 through 20-FEB-15\n",
        "\n",
        " *** Warning - MJD = 57070 outside UT1 table range (40224-57054)\n",
        " *** Warning - Further UT1 messages suppressed\n",
        "   745     0.00000000   0.229310        626.610            1\n",
        " PSR 0337+17      17-FEB-15  UTC:   0630   rms:    0.002 us.\n",
        " PSR 0337+17      17-FEB-15  UTC:   0730   rms:    0.002 us.\n",
        " PSR 0337+17      17-FEB-15  UTC:   0830   rms:    0.002 us.\n",
        " PSR 0337+17      17-FEB-15  UTC:   0930   rms:    0.002 us.\n",
        " PSR 0337+17      17-FEB-15  UTC:   1030   rms:    0.002 us.\n",
        " PSR 0337+17      17-FEB-15  UTC:   1130   rms:    0.003 us.\n",
        " PSR 0337+17      17-FEB-15  UTC:   1230   rms:    0.002 us.\n",
        " PSR 0337+17      17-FEB-15  UTC:   1330   rms:    0.002 us.\n",
        " PSR 0337+17      17-FEB-15  UTC:   1430   rms:    0.002 us.\n",
        " PSR 0337+17      17-FEB-15  UTC:   1530   rms:    0.002 us.\n",
        " PSR 0337+17      17-FEB-15  UTC:   1630   rms:    0.002 us.\n",
        " PSR 0337+17      17-FEB-15  UTC:   1730   rms:    0.002 us.\n",
        " PSR 0337+17      17-FEB-15  UTC:   1830   rms:    0.002 us.\n",
        " PSR 0337+17      17-FEB-15  UTC:   1930   rms:    0.002 us.\n",
        " PSR 0337+17      17-FEB-15  UTC:   2030   rms:    0.002 us.\n",
        " PSR 0337+17      17-FEB-15  UTC:   2130   rms:    0.002 us.\n",
        " PSR 0337+17      17-FEB-15  UTC:   2230   rms:    0.003 us.\n",
        " PSR 0337+17      17-FEB-15  UTC:   2330   rms:    0.001 us.\n",
        " PSR 0337+17      18-FEB-15  UTC:   0030   rms:    0.002 us.\n",
        " PSR 0337+17      18-FEB-15  UTC:   0130   rms:    0.002 us.\n",
        " PSR 0337+17      18-FEB-15  UTC:   0230   rms:    0.003 us.\n",
        " PSR 0337+17      18-FEB-15  UTC:   0330   rms:    0.003 us.\n",
        " PSR 0337+17      18-FEB-15  UTC:   0430   rms:    0.002 us.\n",
        " PSR 0337+17      18-FEB-15  UTC:   0530   rms:    0.002 us.\n",
        "   745     0.00000000   0.072610        198.412            1\n",
        " PSR 0337+17      18-FEB-15  UTC:   0630   rms:    0.003 us.\n",
        " PSR 0337+17      18-FEB-15  UTC:   0730   rms:    0.002 us.\n",
        " PSR 0337+17      18-FEB-15  UTC:   0830   rms:    0.002 us.\n",
        " PSR 0337+17      18-FEB-15  UTC:   0930   rms:    0.003 us.\n",
        " PSR 0337+17      18-FEB-15  UTC:   1030   rms:    0.002 us.\n",
        " PSR 0337+17      18-FEB-15  UTC:   1130   rms:    0.002 us.\n",
        " PSR 0337+17      18-FEB-15  UTC:   1230   rms:    0.003 us.\n",
        " PSR 0337+17      18-FEB-15  UTC:   1330   rms:    0.002 us.\n",
        " PSR 0337+17      18-FEB-15  UTC:   1430   rms:    0.003 us.\n",
        " PSR 0337+17      18-FEB-15  UTC:   1530   rms:    0.002 us.\n",
        " PSR 0337+17      18-FEB-15  UTC:   1630   rms:    0.003 us.\n",
        " PSR 0337+17      18-FEB-15  UTC:   1730   rms:    0.002 us.\n",
        " PSR 0337+17      18-FEB-15  UTC:   1830   rms:    0.002 us.\n",
        " PSR 0337+17      18-FEB-15  UTC:   1930   rms:    0.003 us.\n",
        " PSR 0337+17      18-FEB-15  UTC:   2030   rms:    0.003 us.\n",
        " PSR 0337+17      18-FEB-15  UTC:   2130   rms:    0.002 us.\n",
        " PSR 0337+17      18-FEB-15  UTC:   2230   rms:    0.002 us.\n",
        " PSR 0337+17      18-FEB-15  UTC:   2330   rms:    0.002 us.\n",
        " PSR 0337+17      19-FEB-15  UTC:   0030   rms:    0.003 us.\n",
        " PSR 0337+17      19-FEB-15  UTC:   0130   rms:    0.003 us.\n",
        " PSR 0337+17      19-FEB-15  UTC:   0230   rms:    0.002 us.\n",
        " PSR 0337+17      19-FEB-15  UTC:   0330   rms:    0.003 us.\n",
        " PSR 0337+17      19-FEB-15  UTC:   0430   rms:    0.002 us.\n",
        " PSR 0337+17      19-FEB-15  UTC:   0530   rms:    0.003 us.\n",
        "   745     0.00000000   0.113323        309.665            1\n",
        " PSR 0337+17      19-FEB-15  UTC:   0600   rms:    0.003 us.\n",
        " PSR 0337+17      19-FEB-15  UTC:   0700   rms:    0.003 us.\n",
        " PSR 0337+17      19-FEB-15  UTC:   0800   rms:    0.003 us.\n",
        " PSR 0337+17      19-FEB-15  UTC:   0900   rms:    0.002 us.\n",
        " PSR 0337+17      19-FEB-15  UTC:   1000   rms:    0.002 us.\n",
        " PSR 0337+17      19-FEB-15  UTC:   1100   rms:    0.003 us.\n",
        " PSR 0337+17      19-FEB-15  UTC:   1200   rms:    0.002 us.\n",
        " PSR 0337+17      19-FEB-15  UTC:   1300   rms:    0.002 us.\n",
        " PSR 0337+17      19-FEB-15  UTC:   1400   rms:    0.003 us.\n",
        " PSR 0337+17      19-FEB-15  UTC:   1500   rms:    0.002 us.\n",
        " PSR 0337+17      19-FEB-15  UTC:   1600   rms:    0.003 us.\n",
        " PSR 0337+17      19-FEB-15  UTC:   1700   rms:    0.002 us.\n",
        " PSR 0337+17      19-FEB-15  UTC:   1800   rms:    0.002 us.\n",
        " PSR 0337+17      19-FEB-15  UTC:   1900   rms:    0.002 us.\n",
        " PSR 0337+17      19-FEB-15  UTC:   2000   rms:    0.002 us.\n",
        " PSR 0337+17      19-FEB-15  UTC:   2100   rms:    0.002 us.\n",
        " PSR 0337+17      19-FEB-15  UTC:   2200   rms:    0.002 us.\n",
        " PSR 0337+17      19-FEB-15  UTC:   2300   rms:    0.002 us.\n",
        " PSR 0337+17      20-FEB-15  UTC:   0000   rms:    0.002 us.\n",
        " PSR 0337+17      20-FEB-15  UTC:   0100   rms:    0.002 us.\n",
        " PSR 0337+17      20-FEB-15  UTC:   0200   rms:    0.003 us.\n",
        " PSR 0337+17      20-FEB-15  UTC:   0300   rms:    0.002 us.\n",
        " PSR 0337+17      20-FEB-15  UTC:   0400   rms:    0.002 us.\n",
        " PSR 0337+17      20-FEB-15  UTC:   0500   rms:    0.002 us.\n",
        "\n",
        "\n"
       ]
      }
     ],
     "prompt_number": 8
    },
    {
     "cell_type": "code",
     "collapsed": false,
     "input": [],
     "language": "python",
     "metadata": {},
     "outputs": []
    }
   ],
   "metadata": {}
  }
 ]
}