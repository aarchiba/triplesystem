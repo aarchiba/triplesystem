{
 "metadata": {
  "name": "derivs"
 },
 "nbformat": 3,
 "nbformat_minor": 0,
 "worksheets": [
  {
   "cells": [
    {
     "cell_type": "code",
     "collapsed": false,
     "input": [
      "import scipy.optimize\n",
      "\n",
      "import kepler\n",
      "import quad_integrate\n",
      "import threebody"
     ],
     "language": "python",
     "metadata": {},
     "outputs": [],
     "prompt_number": 1
    },
    {
     "cell_type": "code",
     "collapsed": false,
     "input": [
      "delay_list = []\n",
      "with open(\"0337_delays_2.txt\") as f:\n",
      "    for l in f.readlines():\n",
      "        if l.startswith(\"#\"):\n",
      "            continue\n",
      "        mjd, delay, tel = l.split()\n",
      "        delay_list.append((float(mjd),float(delay),tel))\n",
      "mjds = np.array([m for (m,d,t) in delay_list])\n",
      "delays = np.array([d for (m,d,t) in delay_list])\n",
      "\n",
      "tel_list = list(sorted(set([t for (m,d,t) in delay_list])))\n",
      "tels = np.array([tel_list.index(t) for (m,d,t) in delay_list])\n",
      "\n",
      "mjds -= delays/86400.\n",
      "\n",
      "ix = np.argsort(mjds)\n",
      "mjds = mjds[ix]\n",
      "delays = delays[ix]\n",
      "\n",
      "tels = tels[ix]"
     ],
     "language": "python",
     "metadata": {},
     "outputs": [],
     "prompt_number": 2
    },
    {
     "cell_type": "code",
     "collapsed": false,
     "input": [
      "minima = np.loadtxt(\"minima.txt\")\n",
      "print minima.shape"
     ],
     "language": "python",
     "metadata": {},
     "outputs": [
      {
       "output_type": "stream",
       "stream": "stdout",
       "text": [
        "(45, 29)\n"
       ]
      }
     ],
     "prompt_number": 3
    },
    {
     "cell_type": "code",
     "collapsed": false,
     "input": [
      "best_ix = np.argmin(minima[:,0])\n",
      "best_err = minima[best_ix,0]\n",
      "best_pos = minima[best_ix,1:15]"
     ],
     "language": "python",
     "metadata": {},
     "outputs": [],
     "prompt_number": 4
    },
    {
     "cell_type": "code",
     "collapsed": false,
     "input": [
      "def remove_trend(zs):\n",
      "    return threebody.remove_trend(zs, mjds, tel_list, tels)"
     ],
     "language": "python",
     "metadata": {},
     "outputs": [],
     "prompt_number": 5
    },
    {
     "cell_type": "code",
     "collapsed": false,
     "input": [
      "orbit = threebody.compute_orbit(best_pos, mjds, with_derivatives=True)"
     ],
     "language": "python",
     "metadata": {},
     "outputs": [],
     "prompt_number": 6
    },
    {
     "cell_type": "code",
     "collapsed": false,
     "input": [
      "orbit.keys()"
     ],
     "language": "python",
     "metadata": {},
     "outputs": [
      {
       "output_type": "pyout",
       "prompt_number": 7,
       "text": [
        "['states', 'derivatives', 'parameters', 'times']"
       ]
      }
     ],
     "prompt_number": 7
    },
    {
     "cell_type": "code",
     "collapsed": false,
     "input": [
      "orbit['derivatives'].shape"
     ],
     "language": "python",
     "metadata": {},
     "outputs": [
      {
       "output_type": "pyout",
       "prompt_number": 8,
       "text": [
        "(25173, 21, 14)"
       ]
      }
     ],
     "prompt_number": 8
    },
    {
     "cell_type": "code",
     "collapsed": false,
     "input": [
      "jac = orbit['derivatives'][:,2,:].copy()\n",
      "for i in range(jac.shape[1]):\n",
      "    jac[:,i] = remove_trend(jac[:,i])"
     ],
     "language": "python",
     "metadata": {},
     "outputs": [],
     "prompt_number": 9
    },
    {
     "cell_type": "code",
     "collapsed": false,
     "input": [
      "U,s,Vh = scipy.linalg.svd(jac, full_matrices=False)"
     ],
     "language": "python",
     "metadata": {},
     "outputs": [],
     "prompt_number": 10
    },
    {
     "cell_type": "code",
     "collapsed": false,
     "input": [
      "print s\n",
      "print U.shape, Vh.shape\n",
      "for i in range(len(s)):\n",
      "    print s[i], \n",
      "    for j,n in enumerate(kepler.three_body_parameters_measurable[:14]):\n",
      "        if abs(Vh[i,j])>1e-1:\n",
      "            print \"%f*%s\" % (Vh[i,j], n),\n",
      "    print"
     ],
     "language": "python",
     "metadata": {},
     "outputs": [
      {
       "output_type": "stream",
       "stream": "stdout",
       "text": [
        "[  5.80929286e+04   9.88321615e+03   3.60730586e+03   2.58326901e+02\n",
        "   1.12986180e+02   6.46285420e+01   5.91024716e+01   2.60285278e+01\n",
        "   2.16649315e+01   1.30855047e+00   7.97696214e-02   4.58797022e-02\n",
        "   1.47385703e-02   9.30102082e-06]\n",
        "(25173, 14) (14, 14)\n",
        "58092.9285947 0.999778*pb_i\n",
        "9883.21615252 0.999589*eps2_o\n",
        "3607.3058607 0.999740*eps1_o\n",
        "258.326900719 0.475918*eps2_i -0.878612*tasc_i\n",
        "112.98617954 -0.985730*asini_i 0.162939*eps1_i\n",
        "64.6285419853 0.163182*asini_i 0.971779*eps1_i 0.131176*eps2_i\n",
        "59.1024715596 -0.166029*eps1_i 0.867887*eps2_i 0.463085*tasc_i\n",
        "26.0285278061 0.119338*q_i -0.372728*asini_o 0.326573*pb_o -0.855724*tasc_o\n",
        "21.6649314807 0.148759*q_i 0.795889*asini_o -0.359221*pb_o -0.463304*tasc_o\n",
        "1.30855047136 0.194303*q_i -0.475032*asini_o -0.853271*pb_o\n",
        "0.0797696214493 -0.193724*q_i -0.979869*delta_lan\n",
        "0.0458797022244 -0.942463*q_i -0.184749*pb_o -0.193671*tasc_o 0.199441*delta_lan\n",
        "0.0147385703441 -0.999845*acosi_i\n",
        "9.30102082215e-06 -0.999885*acosi_o\n"
       ]
      }
     ],
     "prompt_number": 11
    },
    {
     "cell_type": "code",
     "collapsed": false,
     "input": [
      "dp = np.dot(Vh.T,np.dot(np.diag(s**(-1)),np.dot(U.T, remove_trend(orbit['states'][:,2]-delays))))\n",
      "print dp"
     ],
     "language": "python",
     "metadata": {},
     "outputs": [
      {
       "output_type": "stream",
       "stream": "stdout",
       "text": [
        "[-1.3633471e-06 -4.2006636e-07 -2.7309298e-07  7.202903e-07 -1.6353913e-06\n",
        "  0.25856755  0.0030495729  6.5968297e-05  0.0007311661  1.3680338e-06\n",
        "  3.4214052e-07  0.00082178785  16.400992 -0.0062042299]\n"
       ]
      }
     ],
     "prompt_number": 12
    },
    {
     "cell_type": "code",
     "collapsed": false,
     "input": [
      "def err_of(orbit):\n",
      "    return np.sqrt(np.mean(remove_trend(orbit['states'][:,2]-delays)**2))\n",
      "posns = [(err_of(orbit), orbit)]"
     ],
     "language": "python",
     "metadata": {},
     "outputs": [],
     "prompt_number": 13
    },
    {
     "cell_type": "code",
     "collapsed": false,
     "input": [
      "e, o = posns[-1]\n",
      "jac = o['derivatives'][:,2,:].copy()\n",
      "for i in range(jac.shape[1]):\n",
      "    jac[:,i] = remove_trend(jac[:,i])\n",
      "U,s,Vh = scipy.linalg.svd(jac, full_matrices=False)\n",
      "dp = np.dot(Vh.T,np.dot(np.diag(s**(-1)),np.dot(U.T, remove_trend(orbit['states'][:,2]-delays))))\n",
      "new_parameters = np.array(o['parameters'])-dp\n",
      "new_o = threebody.compute_orbit(new_parameters, mjds, with_derivatives=True)\n",
      "posns.append((err_of(new_o),new_o))"
     ],
     "language": "python",
     "metadata": {},
     "outputs": [],
     "prompt_number": 16
    },
    {
     "cell_type": "code",
     "collapsed": false,
     "input": [
      "for e, o in posns:\n",
      "    print err_of(o)\n",
      "    plt.semilogy(o['times'], np.abs(remove_trend(o['states'][:,2]-delays)))"
     ],
     "language": "python",
     "metadata": {},
     "outputs": [
      {
       "output_type": "stream",
       "stream": "stdout",
       "text": [
        "2.39605742104e-05\n",
        "2.43396611111e-05"
       ]
      },
      {
       "output_type": "stream",
       "stream": "stdout",
       "text": [
        "\n",
        "5.27310019083e-05\n"
       ]
      },
      {
       "output_type": "display_data",
       "png": "[encoded data removed]"
      }
     ],
     "prompt_number": 17
    },
    {
     "cell_type": "code",
     "collapsed": false,
     "input": [
      "xjac = np.vstack([\n",
      "      orbit['derivatives'][:,2,:].T,\n",
      "      np.ones_like(mjds),\n",
      "      mjds, \n",
      "      mjds**2/2.,\n",
      "      ]).T\n",
      "U,s,Vh = scipy.linalg.svd(xjac, full_matrices=False)"
     ],
     "language": "python",
     "metadata": {},
     "outputs": [],
     "prompt_number": 21
    },
    {
     "cell_type": "code",
     "collapsed": false,
     "input": [
      "randoms = 3e-5*np.random.randn(len(mjds))\n",
      "x, _, _, _ = scipy.linalg.lstsq(xjac, randoms)\n",
      "print np.sqrt(np.mean(np.dot(xjac,x)**2))\n",
      "y = np.dot(Vh.T,np.dot(np.diag(s**(-1)),np.dot(U.T, randoms)))\n",
      "print np.sqrt(np.mean(np.dot(xjac,y)**2))\n",
      "print np.sqrt(np.mean((y-x)**2))\n"
     ],
     "language": "python",
     "metadata": {},
     "outputs": [
      {
       "output_type": "stream",
       "stream": "stdout",
       "text": [
        "8.22050486782e-07\n",
        "8.22050486803e-07\n",
        "1.40975522745e-15\n"
       ]
      }
     ],
     "prompt_number": 30
    },
    {
     "cell_type": "code",
     "collapsed": false,
     "input": [
      "rs = []\n",
      "for i in range(20000):\n",
      "    randoms = 3e-5*np.random.randn(len(mjds))\n",
      "    rs.append(np.dot(Vh.T,np.dot(np.diag(s**(-1)),np.dot(U.T, randoms))))\n",
      "rs = np.array(rs)"
     ],
     "language": "python",
     "metadata": {},
     "outputs": [],
     "prompt_number": 61
    },
    {
     "cell_type": "code",
     "collapsed": false,
     "input": [
      "print rs.shape"
     ],
     "language": "python",
     "metadata": {},
     "outputs": [
      {
       "output_type": "stream",
       "stream": "stdout",
       "text": [
        "(20000, 17)\n"
       ]
      }
     ],
     "prompt_number": 62
    },
    {
     "cell_type": "code",
     "collapsed": false,
     "input": [
      "C = np.cov(rs.T)\n",
      "print C.shape"
     ],
     "language": "python",
     "metadata": {},
     "outputs": [
      {
       "output_type": "stream",
       "stream": "stdout",
       "text": [
        "(17, 17)\n"
       ]
      }
     ],
     "prompt_number": 63
    },
    {
     "cell_type": "code",
     "collapsed": false,
     "input": [
      "C2 = np.dot(Vh.T,np.dot(np.diag(s**(-2)),Vh))*3e-5**2"
     ],
     "language": "python",
     "metadata": {},
     "outputs": [],
     "prompt_number": 64
    },
    {
     "cell_type": "code",
     "collapsed": false,
     "input": [
      "print (C-C2)/C2"
     ],
     "language": "python",
     "metadata": {},
     "outputs": [
      {
       "output_type": "stream",
       "stream": "stdout",
       "text": [
        "[[  1.07478984e-02   1.03835179e-02  -1.55523582e-02   2.22733498e-01\n",
        "    8.21625084e-02  -9.00728293e-03   6.51442150e-03   1.31139460e-02\n",
        "    1.14672794e-02   6.88448206e-03  -1.66200114e-02   9.93345132e-03\n",
        "   -7.77080703e-03   1.00179442e-03   3.78197021e-02   5.75434767e-02\n",
        "    2.80974211e-01]\n",
        " [  1.03835179e-02  -8.40785199e-03  -3.43456947e-04   1.10953266e-02\n",
        "   -6.46460945e-03   5.17486126e-03  -6.69177451e-03   3.79594053e-04\n",
        "   -4.38227338e-03  -6.63000912e-03  -8.41595707e-03  -5.27379612e-03\n",
        "    1.12470916e-03   1.14909597e-02  -1.45069949e-02  -1.52026227e-02\n",
        "   -1.53572206e-02]\n",
        " [ -1.55523582e-02  -3.43456947e-04   7.09902314e-03   8.45370556e-04\n",
        "   -1.32738338e-03  -4.03009202e-02  -3.39118280e-04  -1.70306087e-02\n",
        "    6.82892446e-04  -4.01832380e-04   9.44812161e-03   2.27934256e-03\n",
        "   -4.25400136e-02  -1.13983504e-01   2.52041025e-02   2.18207673e-02\n",
        "    2.16372152e-02]\n",
        " [  2.22733498e-01   1.10953266e-02   8.45370556e-04   2.01785584e-02\n",
        "    3.31939936e-02  -2.10649637e-02   7.83356513e-03  -1.87637520e-02\n",
        "   -4.80428959e-04  -3.30262246e-03   1.01203531e-02  -4.53221763e-03\n",
        "   -1.88797006e-02   7.10268934e-03  -1.89320936e-02  -3.43238423e-02\n",
        "   -3.78270206e-02]\n",
        " [  8.21625084e-02  -6.46460945e-03  -1.32738338e-03   3.31939936e-02\n",
        "    1.44794283e-02   1.82352728e-02  -4.37097435e-03  -1.42519755e-03\n",
        "   -1.86131393e-03  -1.54162931e-03  -1.54454694e-03  -7.02598621e-04\n",
        "    1.65751394e-02   5.58863308e-03   5.98017981e-03   7.83428338e-03\n",
        "    8.48090968e-03]\n",
        " [ -9.00728293e-03   5.17486126e-03  -4.03009202e-02  -2.10649637e-02\n",
        "    1.82352728e-02  -2.22602756e-03   3.55393664e-03   1.93517360e-02\n",
        "   -7.60467856e-03   1.15196097e-03   1.00876034e-02  -1.69965004e-03\n",
        "   -2.07364139e-03  -2.55990826e-03   5.21800453e-03   4.39465240e-03\n",
        "    3.99680116e-03]\n",
        " [  6.51442150e-03  -6.69177451e-03  -3.39118280e-04   7.83356513e-03\n",
        "   -4.37097435e-03   3.55393664e-03  -4.87107976e-03   1.78917026e-03\n",
        "   -2.68041479e-03  -4.96742015e-03  -6.82854499e-03  -3.63280949e-03\n",
        "   -1.79486031e-03   1.44295530e-02  -1.51418673e-02  -1.61299829e-02\n",
        "   -1.65348932e-02]\n",
        " [  1.31139460e-02   3.79594053e-04  -1.70306087e-02  -1.87637520e-02\n",
        "   -1.42519755e-03   1.93517360e-02   1.78917026e-03   4.93589100e-03\n",
        "    2.61029765e-03  -4.37124873e-04  -9.58687020e-03   1.22866905e-03\n",
        "    1.95037596e-02   1.58616591e-02   1.19479691e-02   1.24906037e-02\n",
        "    1.26848749e-02]\n",
        " [  1.14672794e-02  -4.38227338e-03   6.82892446e-04  -4.80428959e-04\n",
        "   -1.86131393e-03  -7.60467856e-03  -2.68041479e-03   2.61029765e-03\n",
        "   -1.07050291e-03  -3.14963652e-03  -4.60829340e-03  -1.99543015e-03\n",
        "   -1.01025072e-02   3.18013352e-03  -1.65012421e-02  -1.77274148e-02\n",
        "   -1.82420449e-02]\n",
        " [  6.88448206e-03  -6.63000912e-03  -4.01832380e-04  -3.30262246e-03\n",
        "   -1.54162931e-03   1.15196097e-03  -4.96742015e-03  -4.37124873e-04\n",
        "   -3.14963652e-03  -4.47727412e-03  -4.79427196e-03  -3.59029721e-03\n",
        "   -2.29459711e-04   6.11639649e-03  -6.72047829e-03  -7.57612510e-03\n",
        "   -7.90464811e-03]\n",
        " [ -1.66200114e-02  -8.41595707e-03   9.44812161e-03   1.01203531e-02\n",
        "   -1.54454694e-03   1.00876034e-02  -6.82854499e-03  -9.58687020e-03\n",
        "   -4.60829340e-03  -4.79427196e-03  -4.00169806e-03  -4.20873614e-03\n",
        "    8.84037223e-03   1.32538286e-02  -1.67736013e-03  -2.31827663e-03\n",
        "   -2.55456519e-03]\n",
        " [  9.93345132e-03  -5.27379612e-03   2.27934256e-03  -4.53221763e-03\n",
        "   -7.02598621e-04  -1.69965004e-03  -3.63280949e-03   1.22866905e-03\n",
        "   -1.99543015e-03  -3.59029721e-03  -4.20873614e-03  -2.63722774e-03\n",
        "   -3.15244833e-03   4.50988777e-03  -8.45414499e-03  -9.40608612e-03\n",
        "   -9.78188089e-03]\n",
        " [ -7.77080703e-03   1.12470916e-03  -4.25400136e-02  -1.88797006e-02\n",
        "    1.65751394e-02  -2.07364139e-03  -1.79486031e-03   1.95037596e-02\n",
        "   -1.01025072e-02  -2.29459711e-04   8.84037223e-03  -3.15244833e-03\n",
        "   -1.93213151e-03  -2.51279361e-03   4.95112335e-03   4.15925507e-03\n",
        "    3.79273249e-03]\n",
        " [  1.00179442e-03   1.14909597e-02  -1.13983504e-01   7.10268934e-03\n",
        "    5.58863308e-03  -2.55990826e-03   1.44295530e-02   1.58616591e-02\n",
        "    3.18013352e-03   6.11639649e-03   1.32538286e-02   4.50988777e-03\n",
        "   -2.51279361e-03  -1.15628333e-03   6.50427107e-03   5.22178247e-03\n",
        "    4.66372427e-03]\n",
        " [  3.78197021e-02  -1.45069949e-02   2.52041025e-02  -1.89320936e-02\n",
        "    5.98017981e-03   5.21800453e-03  -1.51418673e-02   1.19479691e-02\n",
        "   -1.65012421e-02  -6.72047829e-03  -1.67736013e-03  -8.45414499e-03\n",
        "    4.95112335e-03   6.50427107e-03   1.64252910e-03   1.22151951e-03\n",
        "    1.02909227e-03]\n",
        " [  5.75434767e-02  -1.52026227e-02   2.18207673e-02  -3.43238423e-02\n",
        "    7.83428338e-03   4.39465240e-03  -1.61299829e-02   1.24906037e-02\n",
        "   -1.77274148e-02  -7.57612510e-03  -2.31827663e-03  -9.40608612e-03\n",
        "    4.15925507e-03   5.22178247e-03   1.22151951e-03   8.72528678e-04\n",
        "    7.06025688e-04]\n",
        " [  2.80974211e-01  -1.53572206e-02   2.16372152e-02  -3.78270206e-02\n",
        "    8.48090968e-03   3.99680116e-03  -1.65348932e-02   1.26848749e-02\n",
        "   -1.82420449e-02  -7.90464811e-03  -2.55456519e-03  -9.78188089e-03\n",
        "    3.79273249e-03   4.66372427e-03   1.02909227e-03   7.06025688e-04\n",
        "    5.50457736e-04]]\n"
       ]
      }
     ],
     "prompt_number": 65
    },
    {
     "cell_type": "code",
     "collapsed": false,
     "input": [
      "d = np.diag(C2)**(0.5)\n",
      "Corr2 = ((d**(-1))[None,:])*C2*((d**(-1))[:,None])\n",
      "print Corr2\n",
      "plt.imshow(Corr2,interpolation='nearest')\n",
      "plt.colorbar()"
     ],
     "language": "python",
     "metadata": {},
     "outputs": [
      {
       "output_type": "stream",
       "stream": "stdout",
       "text": [
        "[[ 1.          0.11319851  0.11803213  0.0783096   0.16763424  0.1648985\n",
        "  -0.17073955 -0.30710536 -0.1720425  -0.12367444 -0.05589041 -0.15294659\n",
        "   0.18693124 -0.39165552  0.0555363  -0.02044576  0.00293946]\n",
        " [ 0.11319851  1.          0.28228234 -0.13847781  0.5902625  -0.13928852\n",
        "  -0.99068943 -0.62553803 -0.96078397 -0.96525157 -0.86197075 -0.96523043\n",
        "  -0.14513318  0.20636611 -0.36935126  0.37167634 -0.36959374]\n",
        " [ 0.11803213  0.28228234  1.         -0.04913452  0.15904216  0.06208855\n",
        "  -0.28035869 -0.13877685 -0.24365294 -0.25031446 -0.2493738  -0.24663912\n",
        "   0.05895268 -0.03943665 -0.10727409  0.10341641 -0.10046567]\n",
        " [ 0.0783096  -0.13847781 -0.04913452  1.          0.49885846  0.24720823\n",
        "   0.11671291  0.06921344  0.14519789  0.17329797  0.12587204  0.15992007\n",
        "   0.25155025 -0.23873449  0.13844393 -0.12896036  0.13329838]\n",
        " [ 0.16763424  0.5902625   0.15904216  0.49885846  1.         -0.31662389\n",
        "  -0.59628556 -0.27507832 -0.59369055 -0.64296642 -0.64662124 -0.63938934\n",
        "  -0.31350762  0.31384864 -0.43369291  0.45000494 -0.45140994]\n",
        " [ 0.1648985  -0.13928852  0.06208855  0.24720823 -0.31662389  1.\n",
        "   0.0990617  -0.20387831  0.1913633   0.3516538   0.40901441  0.31232919\n",
        "   0.99908733 -0.94048523  0.67942869 -0.69432162  0.70349301]\n",
        " [-0.17073955 -0.99068943 -0.28035869  0.11671291 -0.59628556  0.0990617\n",
        "   1.          0.67298503  0.97838988  0.96327197  0.84875367  0.97375037\n",
        "   0.09954755 -0.17221463  0.32876796 -0.33000612  0.32690276]\n",
        " [-0.30710536 -0.62553803 -0.13877685  0.06921344 -0.27507832 -0.20387831\n",
        "   0.67298503  1.          0.7530658   0.55306049  0.21884565  0.62462335\n",
        "  -0.21391491  0.16134566 -0.41079158  0.39592492 -0.38906441]\n",
        " [-0.1720425  -0.96078397 -0.24365294  0.14519789 -0.59369055  0.1913633\n",
        "   0.97838988  0.7530658   1.          0.95940193  0.79495818  0.98275129\n",
        "   0.18778721 -0.26268086  0.26637565 -0.27185162  0.27165648]\n",
        " [-0.12367444 -0.96525157 -0.25031446  0.17329797 -0.64296642  0.3516538\n",
        "   0.96327197  0.55306049  0.95940193  1.          0.92043001  0.99261797\n",
        "   0.35190667 -0.40221893  0.51173183 -0.51499579  0.51310376]\n",
        " [-0.05589041 -0.86197075 -0.2493738   0.12587204 -0.64662124  0.40901441\n",
        "   0.84875367  0.21884565  0.79495818  0.92043001  1.          0.88607339\n",
        "   0.41203273 -0.45810606  0.75830217 -0.75095798  0.74422552]\n",
        " [-0.15294659 -0.96523043 -0.24663912  0.15992007 -0.63938934  0.31232919\n",
        "   0.97375037  0.62462335  0.98275129  0.99261797  0.88607339  1.\n",
        "   0.30984177 -0.36944233  0.43942208 -0.44424435  0.4435274 ]\n",
        " [ 0.18693124 -0.14513318  0.05895268  0.25155025 -0.31350762  0.99908733\n",
        "   0.09954755 -0.21391491  0.18778721  0.35190667  0.41203273  0.30984177\n",
        "   1.         -0.94161057  0.6841723  -0.6987512   0.70787223]\n",
        " [-0.39165552  0.20636611 -0.03943665 -0.23873449  0.31384864 -0.94048523\n",
        "  -0.17221463  0.16134566 -0.26268086 -0.40221893 -0.45810606 -0.36944233\n",
        "  -0.94161057  1.         -0.64073815  0.63736925 -0.63623236]\n",
        " [ 0.0555363  -0.36935126 -0.10727409  0.13844393 -0.43369291  0.67942869\n",
        "   0.32876796 -0.41079158  0.26637565  0.51173183  0.75830217  0.43942208\n",
        "   0.6841723  -0.64073815  1.         -0.99766381  0.99443819]\n",
        " [-0.02044576  0.37167634  0.10341641 -0.12896036  0.45000494 -0.69432162\n",
        "  -0.33000612  0.39592492 -0.27185162 -0.51499579 -0.75095798 -0.44424435\n",
        "  -0.6987512   0.63736925 -0.99766381  1.         -0.99919367]\n",
        " [ 0.00293946 -0.36959374 -0.10046567  0.13329838 -0.45140994  0.70349301\n",
        "   0.32690276 -0.38906441  0.27165648  0.51310376  0.74422552  0.4435274\n",
        "   0.70787223 -0.63623236  0.99443819 -0.99919367  1.        ]]\n"
       ]
      },
      {
       "output_type": "pyout",
       "prompt_number": 69,
       "text": [
        "<matplotlib.colorbar.Colorbar instance at 0x5e9f1b8>"
       ]
      },
      {
       "output_type": "display_data",
       "png": "[encoded data removed]"
      }
     ],
     "prompt_number": 69
    },
    {
     "cell_type": "code",
     "collapsed": false,
     "input": [
      "names = kepler.three_body_parameters_measurable[:14] + [\"const\",\"P\",\"Pdot\"]\n",
      "\n",
      "for i in range(len(names)):\n",
      "    print \"%s: %g\" % (names[i], d[i])\n",
      "    for j in range(i+1,len(names)):\n",
      "        print \"%s to %s: %f\" % (names[i],names[j],Corr2[i,j])\n",
      "    print"
     ],
     "language": "python",
     "metadata": {},
     "outputs": [
      {
       "output_type": "stream",
       "stream": "stdout",
       "text": [
        "asini_i: 6.45313e-07\n",
        "asini_i to pb_i: 0.113199\n",
        "asini_i to eps1_i: 0.118032\n",
        "asini_i to eps2_i: 0.078310\n",
        "asini_i to tasc_i: 0.167634\n",
        "asini_i to acosi_i: 0.164899\n",
        "asini_i to q_i: -0.170740\n",
        "asini_i to asini_o: -0.307105\n",
        "asini_i to pb_o: -0.172043\n",
        "asini_i to eps1_o: -0.123674\n",
        "asini_i to eps2_o: -0.055890\n",
        "asini_i to tasc_o: -0.152947\n",
        "asini_i to acosi_o: 0.186931\n",
        "asini_i to delta_lan: -0.391656\n",
        "asini_i to const: 0.055536\n",
        "asini_i to P: -0.020446\n",
        "asini_i to Pdot: 0.002939\n",
        "\n",
        "pb_i: 9.07616e-08\n",
        "pb_i to eps1_i: 0.282282\n",
        "pb_i to eps2_i: -0.138478\n",
        "pb_i to tasc_i: 0.590262\n",
        "pb_i to acosi_i: -0.139289\n",
        "pb_i to q_i: -0.990689\n",
        "pb_i to asini_o: -0.625538\n",
        "pb_i to pb_o: -0.960784\n",
        "pb_i to eps1_o: -0.965252\n",
        "pb_i to eps2_o: -0.861971\n",
        "pb_i to tasc_o: -0.965230\n",
        "pb_i to acosi_o: -0.145133\n",
        "pb_i to delta_lan: 0.206366\n",
        "pb_i to const: -0.369351\n",
        "pb_i to P: 0.371676\n",
        "pb_i to Pdot: -0.369594\n",
        "\n",
        "eps1_i: 4.84475e-07\n",
        "eps1_i to eps2_i: -0.049135\n",
        "eps1_i to tasc_i: 0.159042\n",
        "eps1_i to acosi_i: 0.062089\n",
        "eps1_i to q_i: -0.280359\n",
        "eps1_i to asini_o: -0.138777\n",
        "eps1_i to pb_o: -0.243653\n",
        "eps1_i to eps1_o: -0.250314\n",
        "eps1_i to eps2_o: -0.249374\n",
        "eps1_i to tasc_o: -0.246639\n",
        "eps1_i to acosi_o: 0.058953\n",
        "eps1_i to delta_lan: -0.039437\n",
        "eps1_i to const: -0.107274\n",
        "eps1_i to P: 0.103416\n",
        "eps1_i to Pdot: -0.100466\n",
        "\n",
        "eps2_i: 4.71806e-07\n",
        "eps2_i to tasc_i: 0.498858\n",
        "eps2_i to acosi_i: 0.247208\n",
        "eps2_i to q_i: 0.116713\n",
        "eps2_i to asini_o: 0.069213\n",
        "eps2_i to pb_o: 0.145198\n",
        "eps2_i to eps1_o: 0.173298\n",
        "eps2_i to eps2_o: 0.125872\n",
        "eps2_i to tasc_o: 0.159920\n",
        "eps2_i to acosi_o: 0.251550\n",
        "eps2_i to delta_lan: -0.238734\n",
        "eps2_i to const: 0.138444\n",
        "eps2_i to P: -0.128960\n",
        "eps2_i to Pdot: 0.133298\n",
        "\n",
        "tasc_i: 3.56745e-07\n",
        "tasc_i to acosi_i: -0.316624\n",
        "tasc_i to q_i: -0.596286\n",
        "tasc_i to asini_o: -0.275078\n",
        "tasc_i to pb_o: -0.593691\n",
        "tasc_i to eps1_o: -0.642966\n",
        "tasc_i to eps2_o: -0.646621\n",
        "tasc_i to tasc_o: -0.639389\n",
        "tasc_i to acosi_o: -0.313508\n",
        "tasc_i to delta_lan: 0.313849\n",
        "tasc_i to const: -0.433693\n",
        "tasc_i to P: 0.450005\n",
        "tasc_i to Pdot: -0.451410\n",
        "\n",
        "acosi_i: 0.0472437\n",
        "acosi_i to q_i: 0.099062\n",
        "acosi_i to asini_o: -0.203878\n",
        "acosi_i to pb_o: 0.191363\n",
        "acosi_i to eps1_o: 0.351654\n",
        "acosi_i to eps2_o: 0.409014\n",
        "acosi_i to tasc_o: 0.312329\n",
        "acosi_i to acosi_o: 0.999087\n",
        "acosi_i to delta_lan: -0.940485\n",
        "acosi_i to const: 0.679429\n",
        "acosi_i to P: -0.694322\n",
        "acosi_i to Pdot: 0.703493\n",
        "\n",
        "q_i: 0.000604763\n",
        "q_i to asini_o: 0.672985\n",
        "q_i to pb_o: 0.978390\n",
        "q_i to eps1_o: 0.963272\n",
        "q_i to eps2_o: 0.848754\n",
        "q_i to tasc_o: 0.973750\n",
        "q_i to acosi_o: 0.099548\n",
        "q_i to delta_lan: -0.172215\n",
        "q_i to const: 0.328768\n",
        "q_i to P: -0.330006\n",
        "q_i to Pdot: 0.326903\n",
        "\n",
        "asini_o: 1.51512e-05\n",
        "asini_o to pb_o: 0.753066\n",
        "asini_o to eps1_o: 0.553060\n",
        "asini_o to eps2_o: 0.218846\n",
        "asini_o to tasc_o: 0.624623\n",
        "asini_o to acosi_o: -0.213915\n",
        "asini_o to delta_lan: 0.161346\n",
        "asini_o to const: -0.410792\n",
        "asini_o to P: 0.395925\n",
        "asini_o to Pdot: -0.389064\n",
        "\n",
        "pb_o: 0.000119933\n",
        "pb_o to eps1_o: 0.959402\n",
        "pb_o to eps2_o: 0.794958\n",
        "pb_o to tasc_o: 0.982751\n",
        "pb_o to acosi_o: 0.187787\n",
        "pb_o to delta_lan: -0.262681\n",
        "pb_o to const: 0.266376\n",
        "pb_o to P: -0.271852\n",
        "pb_o to Pdot: 0.271656\n",
        "\n",
        "eps1_o: 2.24385e-07\n",
        "eps1_o to eps2_o: 0.920430\n",
        "eps1_o to tasc_o: 0.992618\n",
        "eps1_o to acosi_o: 0.351907\n",
        "eps1_o to delta_lan: -0.402219\n",
        "eps1_o to const: 0.511732\n",
        "eps1_o to P: -0.514996\n",
        "eps1_o to Pdot: 0.513104\n",
        "\n",
        "eps2_o: 6.72414e-08\n",
        "eps2_o to tasc_o: 0.886073\n",
        "eps2_o to acosi_o: 0.412033\n",
        "eps2_o to delta_lan: -0.458106\n",
        "eps2_o to const: 0.758302\n",
        "eps2_o to P: -0.750958\n",
        "eps2_o to Pdot: 0.744226\n",
        "\n",
        "tasc_o: 0.000129938\n",
        "tasc_o to acosi_o: 0.309842\n",
        "tasc_o to delta_lan: -0.369442\n",
        "tasc_o to const: 0.439422\n",
        "tasc_o to P: -0.444244\n",
        "tasc_o to Pdot: 0.443527\n",
        "\n",
        "acosi_o: 3.10587\n",
        "acosi_o to delta_lan: -0.941611\n",
        "acosi_o to const: 0.684172\n",
        "acosi_o to P: -0.698751\n",
        "acosi_o to Pdot: 0.707872\n",
        "\n",
        "delta_lan: 0.00115088\n",
        "delta_lan to const: -0.640738\n",
        "delta_lan to P: 0.637369\n",
        "delta_lan to Pdot: -0.636232\n",
        "\n",
        "const: 4.25427e-05\n",
        "const to P: -0.997664\n",
        "const to Pdot: 0.994438\n",
        "\n",
        "P: 4.8585e-07\n",
        "P to Pdot: -0.999194\n",
        "\n",
        "Pdot: 2.13739e-09\n",
        "\n"
       ]
      }
     ],
     "prompt_number": 72
    },
    {
     "cell_type": "code",
     "collapsed": false,
     "input": [],
     "language": "python",
     "metadata": {},
     "outputs": []
    }
   ],
   "metadata": {}
  }
 ]
}