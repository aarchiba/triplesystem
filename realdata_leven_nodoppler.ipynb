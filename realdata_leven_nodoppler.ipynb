{
 "metadata": {
  "name": "realdata_leven_nodoppler"
 },
 "nbformat": 3,
 "nbformat_minor": 0,
 "worksheets": [
  {
   "cells": [
    {
     "cell_type": "code",
     "collapsed": false,
     "input": [
      "import scipy.optimize\n",
      "\n",
      "import kepler\n",
      "import quad_integrate"
     ],
     "language": "python",
     "metadata": {},
     "outputs": [],
     "prompt_number": 2
    },
    {
     "cell_type": "code",
     "collapsed": false,
     "input": [
      "delay_list = []\n",
      "with open(\"0337_delays_labeled.txt\") as f:\n",
      "    for l in f.readlines():\n",
      "        if l.startswith(\"#\"):\n",
      "            continue\n",
      "        mjd, delay, tel = l.split()\n",
      "        delay_list.append((float(mjd),float(delay),tel))\n",
      "mjds = np.array([m for (m,d,t) in delay_list])\n",
      "delays = np.array([d for (m,d,t) in delay_list])"
     ],
     "language": "python",
     "metadata": {},
     "outputs": [],
     "prompt_number": 3
    },
    {
     "cell_type": "code",
     "collapsed": false,
     "input": [
      "tel_list = list(sorted(set([t for (m,d,t) in delay_list])))\n",
      "tels = np.array([tel_list.index(t) for (m,d,t) in delay_list])"
     ],
     "language": "python",
     "metadata": {},
     "outputs": [],
     "prompt_number": 4
    },
    {
     "cell_type": "code",
     "collapsed": false,
     "input": [
      "# Don't remove the Doppler effect because I think it might be wrong\n",
      "#mjds -= delays/86400. # reomve Doppler effect"
     ],
     "language": "python",
     "metadata": {},
     "outputs": [],
     "prompt_number": 5
    },
    {
     "cell_type": "code",
     "collapsed": false,
     "input": [
      "ix = np.argsort(mjds)\n",
      "mjds = mjds[ix]\n",
      "delays = delays[ix]"
     ],
     "language": "python",
     "metadata": {},
     "outputs": [],
     "prompt_number": 6
    },
    {
     "cell_type": "code",
     "collapsed": false,
     "input": [
      "tels = tels[ix]"
     ],
     "language": "python",
     "metadata": {},
     "outputs": [],
     "prompt_number": 7
    },
    {
     "cell_type": "code",
     "collapsed": false,
     "input": [
      "a = np.loadtxt(\"nodoppler_partial_results_2.txt\")\n",
      "b = np.loadtxt(\"nodoppler_partial_results_4.txt\")\n",
      "rs = np.vstack([a,b])"
     ],
     "language": "python",
     "metadata": {},
     "outputs": [
      {
       "output_type": "stream",
       "stream": "stdout",
       "text": [
        "\n"
       ]
      }
     ],
     "prompt_number": 18
    },
    {
     "cell_type": "code",
     "collapsed": false,
     "input": [
      "ix = np.argmin(rs[:,0])\n",
      "err = rs[ix,0]\n",
      "parms = rs[ix,1:]\n",
      "(asini_i, pb_i, eps1_i, eps2_i, tasc_i, \n",
      "            acosi_i, q_i,\n",
      "            asini_o, pb_o, eps1_o, eps2_o, tasc_o, \n",
      "            acosi_o, delta_lan,\n",
      "            ) = parms\n",
      "print err, np.sqrt(err)"
     ],
     "language": "python",
     "metadata": {},
     "outputs": [
      {
       "output_type": "stream",
       "stream": "stdout",
       "text": [
        "2.40712574292e-06 0.00155149145757\n"
       ]
      }
     ],
     "prompt_number": 19
    },
    {
     "cell_type": "code",
     "collapsed": false,
     "input": [
      "orbital_parameters_fit_g = (asini_i, pb_i, eps1_i, eps2_i, tasc_i, \n",
      "            acosi_i, q_i,\n",
      "            asini_o, pb_o, eps1_o, eps2_o, tasc_o, \n",
      "            acosi_o, delta_lan,\n",
      "            )"
     ],
     "language": "python",
     "metadata": {},
     "outputs": [],
     "prompt_number": 20
    },
    {
     "cell_type": "code",
     "collapsed": false,
     "input": [
      "year_length = 365.2425\n",
      "def remove_non_orbital(vec):\n",
      "    non_orbital_basis = np.vstack([\n",
      "                  np.cos(2*np.pi*mjds/year_length),\n",
      "                  np.sin(2*np.pi*mjds/year_length),\n",
      "                  mjds*np.sin(2*np.pi*mjds/year_length),\n",
      "                  mjds*np.sin(2*np.pi*mjds/year_length),\n",
      "                  np.cos(4*np.pi*mjds/year_length),\n",
      "                  np.sin(4*np.pi*mjds/year_length),\n",
      "                  mjds,\n",
      "                  mjds**2/2.,\n",
      "                  np.ones_like(mjds),\n",
      "        ]).T\n",
      "    x, res, rk, s = scipy.linalg.lstsq(non_orbital_basis, vec)\n",
      "    return vec-np.dot(non_orbital_basis,x)\n",
      "def remove_trend(vec):\n",
      "    non_orbital_basis = np.vstack([\n",
      "                  mjds,\n",
      "                  mjds**2/2.,\n",
      "                  np.ones_like(mjds),\n",
      "                  np.arange(1,len(tel_list))[:,None]==tels[None,:],\n",
      "                  np.cos(2*np.pi*mjds/year_length),\n",
      "                  np.sin(2*np.pi*mjds/year_length),\n",
      "        ]).T\n",
      "    x, res, rk, s = scipy.linalg.lstsq(non_orbital_basis, vec)\n",
      "    return vec-np.dot(non_orbital_basis,x)"
     ],
     "language": "python",
     "metadata": {},
     "outputs": [],
     "prompt_number": 21
    },
    {
     "cell_type": "code",
     "collapsed": false,
     "input": [
      "z_cache = {}\n",
      "deriv_cache = {}\n"
     ],
     "language": "python",
     "metadata": {},
     "outputs": [],
     "prompt_number": 13
    },
    {
     "cell_type": "code",
     "collapsed": false,
     "input": [
      "tol = 1e-16\n",
      "def eval_zs(args):\n",
      "    print \"eval:\", args,\n",
      "\n",
      "    initial_values, jac = kepler.kepler_three_body_measurable(*(list(args)+[0,np.zeros(3),np.zeros(3),0]))\n",
      "    vectors = jac.T # all of them, why not?\n",
      "    \n",
      "    if tuple(initial_values) not in z_cache:\n",
      "        O = quad_integrate.ODE(quad_integrate.KeplerRHS(),\n",
      "               initial_values, 0,\n",
      "               rtol = tol, atol = tol,\n",
      "               vectors = [],\n",
      "               delta = 1e-10)\n",
      "        zs = []\n",
      "        for t in mjds:\n",
      "            O.integrate_to(t)\n",
      "            zs.append(O.x[2])\n",
      "        zs = np.array(zs)\n",
      "        z_cache[tuple(initial_values)] = zs\n",
      "    else:\n",
      "        zs = z_cache[tuple(initial_values)]\n",
      "    evec = remove_trend(zs-delays)\n",
      "    print np.sqrt(np.mean(evec**2))\n",
      "    with open(\"nodoppler_partial_results_4.txt\",\"a\") as f:\n",
      "        f.write(\"\\t\".join(repr(f) for f in (np.mean(evec**2),) + tuple(args)))\n",
      "        f.write(\"\\n\")\n",
      "        f.flush()\n",
      "    return np.asarray(evec, float)\n",
      "def eval_derivs(args):\n",
      "    print \"deriv:\", args,\n",
      "\n",
      "    initial_values, jac = kepler.kepler_three_body_measurable(*(list(args)+[0,np.zeros(3),np.zeros(3),0]))\n",
      "    vectors = jac[:,:14].T # all of them, why not?\n",
      "    \n",
      "    if tuple(initial_values) not in deriv_cache:\n",
      "        O = quad_integrate.ODE(quad_integrate.KeplerRHS(),\n",
      "               initial_values, 0,\n",
      "               rtol = tol, atol = tol,\n",
      "               vectors = vectors,\n",
      "               delta = 1e-10)\n",
      "        zs = []\n",
      "        jac_all = []\n",
      "        for t in mjds:\n",
      "            O.integrate_to(t)\n",
      "            zs.append(O.x[2])\n",
      "            jac_all.append(O.dx[2,:])\n",
      "        zs = np.array(zs)\n",
      "        jac_all = np.array(jac_all)\n",
      "        zs = np.array(zs)\n",
      "        z_cache[tuple(initial_values)] = zs\n",
      "        deriv_cache[tuple(initial_values)] = jac_all\n",
      "    else:\n",
      "        zs = z_cache[tuple(initial_values)]\n",
      "        jac_all = deriv_cache[tuple(initial_values)]\n",
      "    \n",
      "    evec = remove_trend(zs-delays)\n",
      "    for i in range(jac_all.shape[1]):\n",
      "        jac_all[:,i] = remove_trend(jac_all[:,i])\n",
      "    print np.sqrt(np.mean(evec**2))\n",
      "    with open(\"nodoppler_partial_results_4.txt\",\"a\") as f:\n",
      "        f.write(\"\\t\".join(repr(f) for f in (np.mean(evec**2),) + tuple(args)))\n",
      "        f.write(\"\\n\")\n",
      "        f.flush()\n",
      "    return np.asarray(jac_all, float)"
     ],
     "language": "python",
     "metadata": {},
     "outputs": [],
     "prompt_number": 22
    },
    {
     "cell_type": "code",
     "collapsed": false,
     "input": [
      "r = scipy.optimize.leastsq(eval_zs, \n",
      "    orbital_parameters_fit_g,\n",
      "    Dfun=eval_derivs)"
     ],
     "language": "python",
     "metadata": {},
     "outputs": [
      {
       "output_type": "stream",
       "stream": "stdout",
       "text": [
        "eval: [  1.21741790e+00   1.62940447e+00  -3.43328116e-04   5.28545223e-04\n",
        "   4.08090272e-01   1.10738148e+00   1.05551389e-01   7.46920343e+01\n",
        "   3.27255099e+02  -3.47773623e-03   3.51908131e-02   3.13942266e+02\n",
        "   3.94910205e+01  -1.37262183e-01] "
       ]
      },
      {
       "output_type": "stream",
       "stream": "stdout",
       "text": [
        "0.00155149145757\n",
        "deriv: [  1.21741790e+00   1.62940447e+00  -3.43328116e-04   5.28545223e-04\n",
        "   4.08090272e-01   1.10738148e+00   1.05551389e-01   7.46920343e+01\n",
        "   3.27255099e+02  -3.47773623e-03   3.51908131e-02   3.13942266e+02\n",
        "   3.94910205e+01  -1.37262183e-01] "
       ]
      },
      {
       "output_type": "stream",
       "stream": "stdout",
       "text": [
        "0.00155149145757\n",
        "eval: [  1.21741790e+00   1.62940447e+00  -3.43328116e-04   5.28545223e-04\n",
        "   4.08090272e-01   1.10738148e+00   1.05551389e-01   7.46920343e+01\n",
        "   3.27255099e+02  -3.47773623e-03   3.51908131e-02   3.13942266e+02\n",
        "   3.94910205e+01  -1.37262183e-01] 0.00155149145757\n",
        "eval: [  1.21741790e+00   1.62940447e+00  -3.43328116e-04   5.28545223e-04\n",
        "   4.08090272e-01   1.10738148e+00   1.05551389e-01   7.46920343e+01\n",
        "   3.27255099e+02  -3.47773623e-03   3.51908131e-02   3.13942266e+02\n",
        "   3.94910205e+01  -1.37262183e-01] 0.00155149145757\n",
        "deriv: [  1.21741790e+00   1.62940447e+00  -3.43328116e-04   5.28545223e-04\n",
        "   4.08090272e-01   1.10738148e+00   1.05551389e-01   7.46920343e+01\n",
        "   3.27255099e+02  -3.47773623e-03   3.51908131e-02   3.13942266e+02\n",
        "   3.94910205e+01  -1.37262183e-01] "
       ]
      },
      {
       "output_type": "stream",
       "stream": "stdout",
       "text": [
        "0.00155149145757\n",
        "eval: [  1.21815748e+00   1.62988379e+00   3.25048819e-04   5.83506316e-04\n",
        "   4.09223458e-01   3.07516590e+01  -3.01662680e+00   7.49063600e+01\n",
        "   3.26818761e+02  -4.48035972e-03   3.48729215e-02   3.13526048e+02\n",
        "   1.32534198e+03  -1.54615047e+00] "
       ]
      },
      {
       "ename": "ValueError",
       "evalue": "m_i not positive: a_i:\t6.82821776293\tpb_i:\t1.62945117361\teps1_i:\t-0.000289961642735\teps2_i:\t0.000792846872609\ti_i:\t0.17924132742\tlan_i:\t0\tq_i:\t-0.176674135377\ttasc_i:\t0.408316650736\ta_o:\t299.581598742\tpb_o:\t327.264417532\teps1_o:\t-0.00351950162497\teps2_o:\t0.0351622944795\ti_o:\t0.252290673141\tlan_o:\t-0.0309500888878\ttasc_o:\t313.974720672\tx_cm:\t[ 0.  0.  0.]\tv_cm:\t[ 0.  0.  0.]",
       "output_type": "pyerr",
       "traceback": [
        "\u001b[0;31m---------------------------------------------------------------------------\u001b[0m\n\u001b[0;31mValueError\u001b[0m                                Traceback (most recent call last)",
        "\u001b[0;32m<ipython-input-22-dbd9cd85b14b>\u001b[0m in \u001b[0;36meval_zs\u001b[0;34m(args)\u001b[0m\n\u001b[1;32m      3\u001b[0m     \u001b[0;32mprint\u001b[0m \u001b[0;34m\"eval:\"\u001b[0m\u001b[0;34m,\u001b[0m \u001b[0margs\u001b[0m\u001b[0;34m,\u001b[0m\u001b[0;34m\u001b[0m\u001b[0m\n\u001b[1;32m      4\u001b[0m \u001b[0;34m\u001b[0m\u001b[0m\n\u001b[0;32m----> 5\u001b[0;31m     \u001b[0minitial_values\u001b[0m\u001b[0;34m,\u001b[0m \u001b[0mjac\u001b[0m \u001b[0;34m=\u001b[0m \u001b[0mkepler\u001b[0m\u001b[0;34m.\u001b[0m\u001b[0mkepler_three_body_measurable\u001b[0m\u001b[0;34m(\u001b[0m\u001b[0;34m*\u001b[0m\u001b[0;34m(\u001b[0m\u001b[0mlist\u001b[0m\u001b[0;34m(\u001b[0m\u001b[0margs\u001b[0m\u001b[0;34m)\u001b[0m\u001b[0;34m+\u001b[0m\u001b[0;34m[\u001b[0m\u001b[0;36m0\u001b[0m\u001b[0;34m,\u001b[0m\u001b[0mnp\u001b[0m\u001b[0;34m.\u001b[0m\u001b[0mzeros\u001b[0m\u001b[0;34m(\u001b[0m\u001b[0;36m3\u001b[0m\u001b[0;34m)\u001b[0m\u001b[0;34m,\u001b[0m\u001b[0mnp\u001b[0m\u001b[0;34m.\u001b[0m\u001b[0mzeros\u001b[0m\u001b[0;34m(\u001b[0m\u001b[0;36m3\u001b[0m\u001b[0;34m)\u001b[0m\u001b[0;34m,\u001b[0m\u001b[0;36m0\u001b[0m\u001b[0;34m]\u001b[0m\u001b[0;34m)\u001b[0m\u001b[0;34m)\u001b[0m\u001b[0;34m\u001b[0m\u001b[0m\n\u001b[0m\u001b[1;32m      6\u001b[0m     \u001b[0mvectors\u001b[0m \u001b[0;34m=\u001b[0m \u001b[0mjac\u001b[0m\u001b[0;34m.\u001b[0m\u001b[0mT\u001b[0m \u001b[0;31m# all of them, why not?\u001b[0m\u001b[0;34m\u001b[0m\u001b[0m\n\u001b[1;32m      7\u001b[0m \u001b[0;34m\u001b[0m\u001b[0m\n",
        "\u001b[0;32m/home/peridot/projects/threebody/kepler.pyc\u001b[0m in \u001b[0;36mkepler_three_body_measurable\u001b[0;34m(asini_i, pb_i, eps1_i, eps2_i, tasc_i, acosi_i, q_i, asini_o, pb_o, eps1_o, eps2_o, tasc_o, acosi_o, delta_lan, lan_i, x_cm, v_cm, t)\u001b[0m\n\u001b[1;32m    537\u001b[0m         \u001b[0ma_i\u001b[0m\u001b[0;34m,\u001b[0m\u001b[0mpb_i\u001b[0m\u001b[0;34m,\u001b[0m\u001b[0meps1_i\u001b[0m\u001b[0;34m,\u001b[0m\u001b[0meps2_i\u001b[0m\u001b[0;34m,\u001b[0m\u001b[0mi_i\u001b[0m\u001b[0;34m,\u001b[0m\u001b[0mlan_i\u001b[0m\u001b[0;34m,\u001b[0m\u001b[0mq_i\u001b[0m\u001b[0;34m,\u001b[0m\u001b[0mtasc_i\u001b[0m\u001b[0;34m-\u001b[0m\u001b[0mt\u001b[0m\u001b[0;34m,\u001b[0m\u001b[0;34m\u001b[0m\u001b[0m\n\u001b[1;32m    538\u001b[0m         \u001b[0ma_o\u001b[0m\u001b[0;34m,\u001b[0m\u001b[0mpb_o\u001b[0m\u001b[0;34m,\u001b[0m\u001b[0meps1_o\u001b[0m\u001b[0;34m,\u001b[0m\u001b[0meps2_o\u001b[0m\u001b[0;34m,\u001b[0m\u001b[0mi_o\u001b[0m\u001b[0;34m,\u001b[0m\u001b[0mlan_o\u001b[0m\u001b[0;34m,\u001b[0m\u001b[0mtasc_o\u001b[0m\u001b[0;34m-\u001b[0m\u001b[0mt\u001b[0m\u001b[0;34m,\u001b[0m\u001b[0;34m\u001b[0m\u001b[0m\n\u001b[0;32m--> 539\u001b[0;31m         x_cm,v_cm)\n\u001b[0m\u001b[1;32m    540\u001b[0m \u001b[0;34m\u001b[0m\u001b[0m\n\u001b[1;32m    541\u001b[0m     \u001b[0;32mreturn\u001b[0m \u001b[0mstate\u001b[0m\u001b[0;34m,\u001b[0m \u001b[0mnp\u001b[0m\u001b[0;34m.\u001b[0m\u001b[0mdot\u001b[0m\u001b[0;34m(\u001b[0m\u001b[0mjac\u001b[0m\u001b[0;34m,\u001b[0m \u001b[0mj1\u001b[0m\u001b[0;34m)\u001b[0m\u001b[0;34m\u001b[0m\u001b[0m\n",
        "\u001b[0;32m/home/peridot/projects/threebody/kepler.pyc\u001b[0m in \u001b[0;36mkepler_three_body\u001b[0;34m(a_i, pb_i, eps1_i, eps2_i, i_i, lan_i, q_i, tasc_i, a_o, pb_o, eps1_o, eps2_o, i_o, lan_o, tasc_o, x_cm, v_cm)\u001b[0m\n\u001b[1;32m    407\u001b[0m     \u001b[0mm_temp\u001b[0m\u001b[0;34m,\u001b[0m \u001b[0mm_temp_prime\u001b[0m \u001b[0;34m=\u001b[0m \u001b[0mmass_partials\u001b[0m\u001b[0;34m(\u001b[0m\u001b[0ma_o\u001b[0m\u001b[0;34m,\u001b[0m\u001b[0mpb_o\u001b[0m\u001b[0;34m)\u001b[0m\u001b[0;34m\u001b[0m\u001b[0m\n\u001b[1;32m    408\u001b[0m     \u001b[0;32mif\u001b[0m \u001b[0mm_i\u001b[0m\u001b[0;34m<=\u001b[0m\u001b[0;36m0\u001b[0m\u001b[0;34m:\u001b[0m\u001b[0;34m\u001b[0m\u001b[0m\n\u001b[0;32m--> 409\u001b[0;31m         \u001b[0;32mraise\u001b[0m \u001b[0mValueError\u001b[0m\u001b[0;34m(\u001b[0m\u001b[0;34m\"m_i not positive: %s\"\u001b[0m \u001b[0;34m%\u001b[0m \u001b[0mformat_args\u001b[0m\u001b[0;34m(\u001b[0m\u001b[0;34m*\u001b[0m\u001b[0margs\u001b[0m\u001b[0;34m)\u001b[0m\u001b[0;34m)\u001b[0m\u001b[0;34m\u001b[0m\u001b[0m\n\u001b[0m\u001b[1;32m    410\u001b[0m     \u001b[0;32mif\u001b[0m \u001b[0mm_temp\u001b[0m\u001b[0;34m<=\u001b[0m\u001b[0;36m0\u001b[0m\u001b[0;34m:\u001b[0m\u001b[0;34m\u001b[0m\u001b[0m\n\u001b[1;32m    411\u001b[0m         \u001b[0;32mraise\u001b[0m \u001b[0mValueError\u001b[0m\u001b[0;34m(\u001b[0m\u001b[0;34m\"m_temp not positive: %s\"\u001b[0m \u001b[0;34m%\u001b[0m \u001b[0mformat_args\u001b[0m\u001b[0;34m(\u001b[0m\u001b[0;34m*\u001b[0m\u001b[0margs\u001b[0m\u001b[0;34m)\u001b[0m\u001b[0;34m)\u001b[0m\u001b[0;34m\u001b[0m\u001b[0m\n",
        "\u001b[0;31mValueError\u001b[0m: m_i not positive: a_i:\t6.82821776293\tpb_i:\t1.62945117361\teps1_i:\t-0.000289961642735\teps2_i:\t0.000792846872609\ti_i:\t0.17924132742\tlan_i:\t0\tq_i:\t-0.176674135377\ttasc_i:\t0.408316650736\ta_o:\t299.581598742\tpb_o:\t327.264417532\teps1_o:\t-0.00351950162497\teps2_o:\t0.0351622944795\ti_o:\t0.252290673141\tlan_o:\t-0.0309500888878\ttasc_o:\t313.974720672\tx_cm:\t[ 0.  0.  0.]\tv_cm:\t[ 0.  0.  0.]"
       ]
      },
      {
       "ename": "error",
       "evalue": "Error occurred while calling the Python function named eval_zs",
       "output_type": "pyerr",
       "traceback": [
        "\u001b[0;31m---------------------------------------------------------------------------\u001b[0m\n\u001b[0;31merror\u001b[0m                                     Traceback (most recent call last)",
        "\u001b[0;32m<ipython-input-23-a99294b4c48c>\u001b[0m in \u001b[0;36m<module>\u001b[0;34m()\u001b[0m\n\u001b[1;32m      1\u001b[0m r = scipy.optimize.leastsq(eval_zs, \n\u001b[1;32m      2\u001b[0m     \u001b[0morbital_parameters_fit_g\u001b[0m\u001b[0;34m,\u001b[0m\u001b[0;34m\u001b[0m\u001b[0m\n\u001b[0;32m----> 3\u001b[0;31m     Dfun=eval_derivs)\n\u001b[0m",
        "\u001b[0;32m/usr/lib/python2.7/dist-packages/scipy/optimize/minpack.pyc\u001b[0m in \u001b[0;36mleastsq\u001b[0;34m(func, x0, args, Dfun, full_output, col_deriv, ftol, xtol, gtol, maxfev, epsfcn, factor, diag)\u001b[0m\n\u001b[1;32m    290\u001b[0m             \u001b[0mmaxfev\u001b[0m \u001b[0;34m=\u001b[0m \u001b[0;36m100\u001b[0m\u001b[0;34m*\u001b[0m\u001b[0;34m(\u001b[0m\u001b[0mn\u001b[0m \u001b[0;34m+\u001b[0m \u001b[0;36m1\u001b[0m\u001b[0;34m)\u001b[0m\u001b[0;34m\u001b[0m\u001b[0m\n\u001b[1;32m    291\u001b[0m         retval = _minpack._lmder(func, Dfun, x0, args, full_output, col_deriv,\n\u001b[0;32m--> 292\u001b[0;31m                 ftol, xtol, gtol, maxfev, factor, diag)\n\u001b[0m\u001b[1;32m    293\u001b[0m \u001b[0;34m\u001b[0m\u001b[0m\n\u001b[1;32m    294\u001b[0m     errors = {0:[\"Improper input parameters.\", TypeError],\n",
        "\u001b[0;31merror\u001b[0m: Error occurred while calling the Python function named eval_zs"
       ]
      },
      {
       "output_type": "stream",
       "stream": "stdout",
       "text": [
        "0.1492219337\n",
        "eval: [  1.21735588e+00   1.62945117e+00  -2.89961643e-04   7.92846873e-04\n",
        "   4.08316651e-01   6.71882449e+00  -1.76674135e-01   7.47823885e+01\n",
        "   3.27264418e+02  -3.51950162e-03   3.51622945e-02   3.13974721e+02\n",
        "   2.90097792e+02  -3.09500889e-02]"
       ]
      }
     ],
     "prompt_number": 23
    },
    {
     "cell_type": "code",
     "collapsed": false,
     "input": [],
     "language": "python",
     "metadata": {},
     "outputs": []
    }
   ],
   "metadata": {}
  }
 ]
}