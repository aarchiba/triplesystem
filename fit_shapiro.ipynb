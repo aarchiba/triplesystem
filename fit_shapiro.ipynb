{
 "metadata": {
  "name": "fit_shapiro"
 },
 "nbformat": 3,
 "nbformat_minor": 0,
 "worksheets": [
  {
   "cells": [
    {
     "cell_type": "code",
     "collapsed": false,
     "input": [
      "import os\n",
      "\n",
      "import numpy as np\n",
      "import numpy.random\n",
      "import scipy.optimize\n",
      "\n",
      "import minuit\n",
      "\n",
      "import kepler\n",
      "import quad_integrate\n",
      "import threebody\n"
     ],
     "language": "python",
     "metadata": {},
     "outputs": [],
     "prompt_number": 1
    },
    {
     "cell_type": "code",
     "collapsed": false,
     "input": [
      "delay_list = []\n",
      "with open(\"0337_delays_2.txt\") as f:\n",
      "    for l in f.readlines():\n",
      "        if l.startswith(\"#\"):\n",
      "            continue\n",
      "        mjd, delay, tel = l.split()\n",
      "        delay_list.append((float(mjd),float(delay),tel))\n",
      "mjds = np.array([m for (m,d,t) in delay_list])\n",
      "delays = np.array([d for (m,d,t) in delay_list])\n",
      "\n",
      "tel_list = list(sorted(set([t for (m,d,t) in delay_list])))\n",
      "tels = np.array([tel_list.index(t) for (m,d,t) in delay_list])\n",
      "\n",
      "mjds -= delays/86400. # reomve Doppler effect\n",
      "\n",
      "ix = np.argsort(mjds)\n",
      "mjds = mjds[ix]\n",
      "delays = delays[ix]\n",
      "\n",
      "tels = tels[ix]\n"
     ],
     "language": "python",
     "metadata": {},
     "outputs": [],
     "prompt_number": 2
    },
    {
     "cell_type": "code",
     "collapsed": false,
     "input": [
      "# these ones give 24 us error but don't fit the optical q_i\n",
      "params = [\n",
      "         1.2174747243188027,\n",
      "         1.6294050499170794,\n",
      "         -8.924516861524968e-05,\n",
      "         0.000685253016835822,\n",
      "         0.4075020223794183,\n",
      "         0.7448736328511888,\n",
      "         0.11700148191244052,\n",
      "         74.67249772629293,\n",
      "         327.2543331024813,\n",
      "         -0.0034677237764728424,\n",
      "         0.03518458652298544,\n",
      "         313.93278525531576,\n",
      "         39.4975669344576,\n",
      "         0.022249717631385148\n",
      "        ]\n"
     ],
     "language": "python",
     "metadata": {},
     "outputs": [],
     "prompt_number": 3
    },
    {
     "cell_type": "code",
     "collapsed": false,
     "input": [
      "# These ones give 29 us error and fit the optical q_i\n",
      "params = np.array([\n",
      "    1.2174988158050191, \n",
      "    1.6294021833256951, \n",
      "    -8.3661608717230577e-05, \n",
      "    0.00068964302009720969, \n",
      "    0.40750117909098849, \n",
      "    0.7830338355955665, \n",
      "    0.13675428276180454, \n",
      "    74.672835052964615, \n",
      "    327.25812275080034, \n",
      "    -0.0034615127312474562, \n",
      "    0.035186127376441473, \n",
      "    313.9365673866829, \n",
      "    43.094242265811594, \n",
      "    0.0025344640183430282,\n",
      "    ])"
     ],
     "language": "python",
     "metadata": {},
     "outputs": [],
     "prompt_number": 4
    },
    {
     "cell_type": "code",
     "collapsed": false,
     "input": [
      "optical_iq_i = 7.32\n",
      "optical_iq_i_u = 0.08"
     ],
     "language": "python",
     "metadata": {},
     "outputs": [],
     "prompt_number": 5
    },
    {
     "cell_type": "code",
     "collapsed": false,
     "input": [
      "def fun(p):\n",
      "    #print \"fun:\",p,\n",
      "    o = threebody.compute_orbit(p, mjds)\n",
      "    rv = threebody.remove_trend(o['states'][:,2]+threebody.shapiros(o['states'])-delays, mjds, tel_list, tels)\n",
      "    q_i = p[kepler.three_body_parameters_measurable.index('q_i')]\n",
      "    oe = (q_i**(-1)-optical_iq_i)/optical_iq_i_u\n",
      "    r = np.sqrt(np.mean(rv**2))\n",
      "    #print r, oe\n",
      "    return np.asarray(np.concatenate((rv,[10*oe*3e-5])), float)\n"
     ],
     "language": "python",
     "metadata": {},
     "outputs": [],
     "prompt_number": 6
    },
    {
     "cell_type": "code",
     "collapsed": false,
     "input": [
      "r = scipy.optimize.leastsq(fun, params)\n",
      "fp = r[0]\n",
      " "
     ],
     "language": "python",
     "metadata": {},
     "outputs": [],
     "prompt_number": 42
    },
    {
     "cell_type": "code",
     "collapsed": false,
     "input": [
      "print fun(fp)"
     ],
     "language": "python",
     "metadata": {},
     "outputs": [
      {
       "output_type": "stream",
       "stream": "stdout",
       "text": [
        "fun: [  1.21749882e+00   1.62940218e+00  -8.36616087e-05   6.89643020e-04\n",
        "   4.07501179e-01   7.83033836e-01   1.36754283e-01   7.46728351e+01\n",
        "   3.27258123e+02  -3.46151273e-03   3.51861274e-02   3.13936567e+02\n",
        "   4.30942423e+01   2.53446402e-03] "
       ]
      },
      {
       "output_type": "stream",
       "stream": "stdout",
       "text": [
        "2.91905827545e-05 -0.0951843879565\n",
        "[ -3.00066673e-05  -3.23747398e-05  -3.15319252e-05 ...,  -7.92221884e-06\n",
        "   6.50107136e-06  -8.56659492e-06]\n"
       ]
      }
     ],
     "prompt_number": 30
    },
    {
     "cell_type": "code",
     "collapsed": false,
     "input": [
      "params = fp"
     ],
     "language": "python",
     "metadata": {},
     "outputs": [],
     "prompt_number": 31
    },
    {
     "cell_type": "code",
     "collapsed": false,
     "input": [
      "print repr(tuple(fp))"
     ],
     "language": "python",
     "metadata": {},
     "outputs": [
      {
       "output_type": "stream",
       "stream": "stdout",
       "text": [
        "(1.2174988158050191, 1.6294021833256951, -8.3661608717230577e-05, 0.00068964302009720969, 0.40750117909098849, 0.7830338355955665, 0.13675428276180454, 74.672835052964615, 327.25812275080034, -0.0034615127312474562, 0.035186127376441473, 313.9365673866829, 43.094242265811594, 0.0025344640183430282)\n"
       ]
      }
     ],
     "prompt_number": 34
    },
    {
     "cell_type": "code",
     "collapsed": false,
     "input": [
      "def mfun(asini_i, pb_i, eps1_i, eps2_i, tasc_i, \n",
      "            acosi_i, q_i,\n",
      "            asini_o, pb_o, eps1_o, eps2_o, tasc_o, \n",
      "            acosi_o, delta_lan):\n",
      "    p = (asini_i, pb_i, eps1_i, eps2_i, tasc_i, \n",
      "            acosi_i, q_i,\n",
      "            asini_o, pb_o, eps1_o, eps2_o, tasc_o, \n",
      "            acosi_o, delta_lan)\n",
      "    r = fun(p)\n",
      "    return np.sum((r/3e-5)**2)"
     ],
     "language": "python",
     "metadata": {},
     "outputs": [],
     "prompt_number": 53
    },
    {
     "cell_type": "code",
     "collapsed": false,
     "input": [
      "m = minuit.Minuit(mfun)"
     ],
     "language": "python",
     "metadata": {},
     "outputs": [],
     "prompt_number": 80
    },
    {
     "cell_type": "code",
     "collapsed": false,
     "input": [
      "for n,v in zip(kepler.three_body_parameters_measurable[:14], params):\n",
      "    m.values[n] = v"
     ],
     "language": "python",
     "metadata": {},
     "outputs": [],
     "prompt_number": 81
    },
    {
     "cell_type": "code",
     "collapsed": false,
     "input": [
      "m.printMode = 3\n",
      "m.strategy = 2\n",
      "m.values['q_i'] = optical_iq_i ** (-1)\n",
      "m.fixed['q_i'] = True\n",
      "m.migrad()"
     ],
     "language": "python",
     "metadata": {},
     "outputs": [
      {
       "ename": "MinuitError",
       "evalue": "Function value is above the specified estimated distance to the minimum (edm).",
       "output_type": "pyerr",
       "traceback": [
        "\u001b[0;31m---------------------------------------------------------------------------\u001b[0m\n\u001b[0;31mMinuitError\u001b[0m                               Traceback (most recent call last)",
        "\u001b[0;32m<ipython-input-89-05310de35887>\u001b[0m in \u001b[0;36m<module>\u001b[0;34m()\u001b[0m\n\u001b[1;32m      3\u001b[0m \u001b[0mm\u001b[0m\u001b[0;34m.\u001b[0m\u001b[0mvalues\u001b[0m\u001b[0;34m[\u001b[0m\u001b[0;34m'q_i'\u001b[0m\u001b[0;34m]\u001b[0m \u001b[0;34m=\u001b[0m \u001b[0moptical_iq_i\u001b[0m \u001b[0;34m**\u001b[0m \u001b[0;34m(\u001b[0m\u001b[0;34m-\u001b[0m\u001b[0;36m1\u001b[0m\u001b[0;34m)\u001b[0m\u001b[0;34m\u001b[0m\u001b[0m\n\u001b[1;32m      4\u001b[0m \u001b[0mm\u001b[0m\u001b[0;34m.\u001b[0m\u001b[0mfixed\u001b[0m\u001b[0;34m[\u001b[0m\u001b[0;34m'q_i'\u001b[0m\u001b[0;34m]\u001b[0m \u001b[0;34m=\u001b[0m \u001b[0mTrue\u001b[0m\u001b[0;34m\u001b[0m\u001b[0m\n\u001b[0;32m----> 5\u001b[0;31m \u001b[0mm\u001b[0m\u001b[0;34m.\u001b[0m\u001b[0mmigrad\u001b[0m\u001b[0;34m(\u001b[0m\u001b[0;34m)\u001b[0m\u001b[0;34m\u001b[0m\u001b[0m\n\u001b[0m",
        "\u001b[0;31mMinuitError\u001b[0m: Function value is above the specified estimated distance to the minimum (edm)."
       ]
      },
      {
       "output_type": "stream",
       "stream": "stderr",
       "text": [
        "kepler.py:69: RuntimeWarning: invalid value encountered in sqrt\n",
        "  np.sqrt(1-e**2)*np.sin(true_anomaly_0),\n",
        "kepler.py:73: RuntimeWarning: invalid value encountered in sqrt\n",
        "  (np.sqrt(1-e**2)*(e*np.cos(true_anomaly_0)+1)**2)) +\n",
        "kepler.py:76: RuntimeWarning: invalid value encountered in sqrt\n",
        "  /(e*np.cos(true_anomaly_0)+1)**2)\n"
       ]
      }
     ],
     "prompt_number": 89
    },
    {
     "cell_type": "code",
     "collapsed": false,
     "input": [
      "params = []\n",
      "for n in kepler.three_body_parameters_measurable[:14]:\n",
      "    print n, m.values[n]\n",
      "    params.append(m.values[n])\n",
      "print \"optical:\", m.values['q_i']**(-1)\n",
      "print repr(params)"
     ],
     "language": "python",
     "metadata": {},
     "outputs": [
      {
       "output_type": "stream",
       "stream": "stdout",
       "text": [
        "asini_i 1.21747223827\n",
        "pb_i 1.62940218318\n",
        "eps1_i -9.378245843e-05\n",
        "eps2_i 0.000685669782954\n",
        "tasc_i 0.407495660849\n",
        "acosi_i 0.582730078614\n",
        "q_i 0.136612021858\n",
        "asini_o 74.6728515535\n",
        "pb_o 327.257801652\n",
        "eps1_o -0.0034615749938\n",
        "eps2_o 0.0351861301683\n",
        "tasc_o 313.936384875\n",
        "acosi_o 29.2789567428\n",
        "delta_lan 0.0242551502979\n",
        "optical: 7.32\n",
        "[1.2174722382707859, 1.629402183181589, -9.378245842996232e-05, 0.0006856697829536794, 0.4074956608492492, 0.5827300786143641, 0.13661202185792348, 74.67285155345748, 327.25780165188326, -0.0034615749937971455, 0.03518613016833898, 313.93638487530836, 29.278956742827148, 0.024255150297941418]\n"
       ]
      }
     ],
     "prompt_number": 90
    },
    {
     "cell_type": "code",
     "collapsed": false,
     "input": [
      "f = fun(params)\n",
      "print np.sqrt(np.mean(f[:-1]**2)), f[-1]"
     ],
     "language": "python",
     "metadata": {},
     "outputs": [
      {
       "output_type": "stream",
       "stream": "stdout",
       "text": [
        "2.48541435527e-05 3.33066907388e-18\n"
       ]
      }
     ],
     "prompt_number": 91
    },
    {
     "cell_type": "code",
     "collapsed": false,
     "input": [
      "m.errors"
     ],
     "language": "python",
     "metadata": {},
     "outputs": [
      {
       "output_type": "pyout",
       "prompt_number": 92,
       "text": [
        "{'acosi_i': 0.0005782864331836992,\n",
        " 'acosi_o': 0.048617806530591154,\n",
        " 'asini_i': 4.892511664427692e-07,\n",
        " 'asini_o': 4.450171671778435e-06,\n",
        " 'delta_lan': 0.0003827389515332707,\n",
        " 'eps1_i': 4.852442690130803e-07,\n",
        " 'eps1_o': 1.6086230296527104e-08,\n",
        " 'eps2_i': 5.10119839660229e-07,\n",
        " 'eps2_o': 1.3116907852414187e-08,\n",
        " 'pb_i': 3.4177840305012377e-09,\n",
        " 'pb_o': 7.07509480417511e-06,\n",
        " 'q_i': 0.1,\n",
        " 'tasc_i': 2.660167940876427e-07,\n",
        " 'tasc_o': 2.2546783124713292e-06}"
       ]
      }
     ],
     "prompt_number": 92
    },
    {
     "cell_type": "code",
     "collapsed": false,
     "input": [
      "n = len(m.parameters)\n",
      "C = m.matrix(True)\n",
      "for i in range(n):\n",
      "    for j in range(i+1,n):\n",
      "        if abs(C[i][j])>0.5:\n",
      "            print m.parameters[i], m.parameters[j], C[i][j]\n"
     ],
     "language": "python",
     "metadata": {},
     "outputs": [
      {
       "output_type": "stream",
       "stream": "stdout",
       "text": [
        "asini_i pb_i 0.565994074112\n",
        "asini_i eps2_i -0.560611637406\n",
        "asini_i acosi_i -0.625248863723\n",
        "asini_i acosi_o -0.596864203322\n",
        "asini_i delta_lan -0.812337339927\n",
        "pb_i eps2_i -0.771365963135\n",
        "pb_i tasc_i -0.688784899973\n",
        "pb_i acosi_i -0.533364942043\n",
        "pb_i tasc_o 0.717109798509\n",
        "pb_i acosi_o -0.838439758303\n",
        "pb_i delta_lan -0.809984085324\n",
        "eps2_i tasc_i 0.86781243786\n",
        "eps2_i acosi_i 0.680597699945\n",
        "eps2_i tasc_o -0.552145422277\n",
        "eps2_i acosi_o 0.832951837974\n",
        "eps2_i delta_lan 0.738745908613\n",
        "tasc_i acosi_i 0.612962534512\n",
        "tasc_i acosi_o 0.688758964831\n",
        "tasc_i delta_lan 0.549844471593\n",
        "acosi_i acosi_o 0.85385802393\n",
        "acosi_i delta_lan 0.729142708428\n",
        "asini_o pb_o 0.655557572909\n",
        "asini_o eps2_o -0.580525474142\n",
        "pb_o eps2_o -0.59765960868\n",
        "pb_o tasc_o 0.609795703853\n",
        "tasc_o acosi_o -0.566453085973\n",
        "tasc_o delta_lan -0.640306328155\n",
        "acosi_o delta_lan 0.795159944457\n"
       ]
      }
     ],
     "prompt_number": 94
    },
    {
     "cell_type": "code",
     "collapsed": false,
     "input": [
      "def mfun2(asini_i, pb_i, eps1_i, eps2_i, tasc_i, \n",
      "            i_i, q_i,\n",
      "            asini_o, pb_o, eps1_o, eps2_o, tasc_o, \n",
      "            delta_i, delta_lan):\n",
      "    acosi_i = asini_i/np.tan(i_i)\n",
      "    acosi_o = asini_o/np.tan(i_i+delta_i)\n",
      "    p = (asini_i, pb_i, eps1_i, eps2_i, tasc_i, \n",
      "            acosi_i, q_i,\n",
      "            asini_o, pb_o, eps1_o, eps2_o, tasc_o, \n",
      "            acosi_o, delta_lan)\n",
      "    r = fun(p)\n",
      "    return np.sum((r/3e-5)**2)"
     ],
     "language": "python",
     "metadata": {},
     "outputs": [],
     "prompt_number": 7
    },
    {
     "cell_type": "code",
     "collapsed": false,
     "input": [
      "(asini_i, pb_i, eps1_i, eps2_i, tasc_i, \n",
      "            acosi_i, q_i,\n",
      "            asini_o, pb_o, eps1_o, eps2_o, tasc_o, \n",
      "            acosi_o, delta_lan) = params\n",
      "i_i = np.arctan2(asini_i,acosi_i)\n",
      "delta_i = np.arctan2(asini_o,acosi_o)-i_i\n",
      "print asini_i, acosi_i, i_i\n",
      "print asini_o, acosi_o, delta_i\n",
      "params2 = (asini_i, pb_i, eps1_i, eps2_i, tasc_i, \n",
      "            i_i, q_i,\n",
      "            asini_o, pb_o, eps1_o, eps2_o, tasc_o, \n",
      "            delta_i, delta_lan)"
     ],
     "language": "python",
     "metadata": {},
     "outputs": [
      {
       "output_type": "stream",
       "stream": "stdout",
       "text": [
        "1.21749881581 0.783033835596 0.999251961005\n",
        "74.672835053 43.0942422658 0.0481277956191\n"
       ]
      }
     ],
     "prompt_number": 8
    },
    {
     "cell_type": "code",
     "collapsed": false,
     "input": [
      "# Best fit with q_i pinned; 25 us.\n",
      "params2 = [1.2174725521410714, \n",
      "    1.6294021766616862, \n",
      "    -9.351991285521032e-05, \n",
      "    0.0006860812511803413, \n",
      "    0.40749525067266673, \n",
      "    1.0352910299654439, \n",
      "    0.13661202185792348, \n",
      "    74.6728367775959, \n",
      "    327.25785669610167, \n",
      "    -0.003461335669965389, \n",
      "    0.03518622161825523, \n",
      "    313.93650863408936, \n",
      "    0.0586839866004212, \n",
      "    0.020355384435179927]"
     ],
     "language": "python",
     "metadata": {},
     "outputs": [],
     "prompt_number": 9
    },
    {
     "cell_type": "code",
     "collapsed": false,
     "input": [
      "m2 = minuit.Minuit(mfun2)"
     ],
     "language": "python",
     "metadata": {},
     "outputs": [],
     "prompt_number": 10
    },
    {
     "cell_type": "code",
     "collapsed": false,
     "input": [
      "for n,v in zip(kepler.three_body_parameters_measurable[:14], params2):\n",
      "    m2.values[n] = v\n",
      "m2.values['i_i'] = params2[5]\n",
      "m2.values['delta_i'] = params2[-2]\n"
     ],
     "language": "python",
     "metadata": {},
     "outputs": [],
     "prompt_number": 11
    },
    {
     "cell_type": "code",
     "collapsed": false,
     "input": [
      "m2.fixed['q_i'] = True\n",
      "m2.tol = 1."
     ],
     "language": "python",
     "metadata": {},
     "outputs": [],
     "prompt_number": 12
    },
    {
     "cell_type": "code",
     "collapsed": false,
     "input": [
      "m2.eps = 1e-10"
     ],
     "language": "python",
     "metadata": {},
     "outputs": [],
     "prompt_number": 13
    },
    {
     "cell_type": "code",
     "collapsed": false,
     "input": [
      "m2.printMode = 3\n",
      "m2.strategy = 2\n",
      "m2.migrad()"
     ],
     "language": "python",
     "metadata": {},
     "outputs": [
      {
       "ename": "MinuitError",
       "evalue": "Function value is above the specified estimated distance to the minimum (edm).",
       "output_type": "pyerr",
       "traceback": [
        "\u001b[0;31m---------------------------------------------------------------------------\u001b[0m\n\u001b[0;31mMinuitError\u001b[0m                               Traceback (most recent call last)",
        "\u001b[0;32m<ipython-input-14-3711c9859cc4>\u001b[0m in \u001b[0;36m<module>\u001b[0;34m()\u001b[0m\n\u001b[1;32m      1\u001b[0m \u001b[0mm2\u001b[0m\u001b[0;34m.\u001b[0m\u001b[0mprintMode\u001b[0m \u001b[0;34m=\u001b[0m \u001b[0;36m3\u001b[0m\u001b[0;34m\u001b[0m\u001b[0m\n\u001b[1;32m      2\u001b[0m \u001b[0mm2\u001b[0m\u001b[0;34m.\u001b[0m\u001b[0mstrategy\u001b[0m \u001b[0;34m=\u001b[0m \u001b[0;36m2\u001b[0m\u001b[0;34m\u001b[0m\u001b[0m\n\u001b[0;32m----> 3\u001b[0;31m \u001b[0mm2\u001b[0m\u001b[0;34m.\u001b[0m\u001b[0mmigrad\u001b[0m\u001b[0;34m(\u001b[0m\u001b[0;34m)\u001b[0m\u001b[0;34m\u001b[0m\u001b[0m\n\u001b[0m",
        "\u001b[0;31mMinuitError\u001b[0m: Function value is above the specified estimated distance to the minimum (edm)."
       ]
      }
     ],
     "prompt_number": 14
    },
    {
     "cell_type": "code",
     "collapsed": false,
     "input": [
      "\n",
      "m2.printMode = 3\n",
      "m2.hesse()"
     ],
     "language": "python",
     "metadata": {},
     "outputs": [],
     "prompt_number": 15
    },
    {
     "cell_type": "code",
     "collapsed": false,
     "input": [
      "params2 = []\n",
      "for n in kepler.three_body_parameters_measurable[:14]:\n",
      "    if n=='acosi_i':\n",
      "        n='i_i'\n",
      "    elif n=='acosi_o':\n",
      "        n='delta_i'\n",
      "    print n, m2.values[n]\n",
      "    params2.append(m2.values[n])\n",
      "print \"optical:\", m2.values['q_i']**(-1)\n",
      "print repr(params2)"
     ],
     "language": "python",
     "metadata": {},
     "outputs": [
      {
       "output_type": "stream",
       "stream": "stdout",
       "text": [
        "asini_i 1.21747255214\n",
        "pb_i 1.62940217666\n",
        "eps1_i -9.35199128552e-05\n",
        "eps2_i 0.00068608125118\n",
        "tasc_i 0.407495250673\n",
        "i_i 1.03529102997\n",
        "q_i 0.136612021858\n",
        "asini_o 74.6728367776\n",
        "pb_o 327.257856696\n",
        "eps1_o -0.00346133566997\n",
        "eps2_o 0.0351862216183\n",
        "tasc_o 313.936508634\n",
        "delta_i 0.0586839866004\n",
        "delta_lan 0.0203553844352\n",
        "optical: 7.32\n",
        "[1.2174725521410714, 1.6294021766616862, -9.351991285521032e-05, 0.0006860812511803413, 0.40749525067266673, 1.0352910299654439, 0.13661202185792348, 74.6728367775959, 327.25785669610167, -0.003461335669965389, 0.03518622161825523, 313.93650863408936, 0.0586839866004212, 0.020355384435179927]\n"
       ]
      }
     ],
     "prompt_number": 16
    },
    {
     "cell_type": "code",
     "collapsed": false,
     "input": [
      "m2.errors"
     ],
     "language": "python",
     "metadata": {},
     "outputs": [
      {
       "output_type": "pyout",
       "prompt_number": 17,
       "text": [
        "{'asini_i': 4.119300408491759e-07,\n",
        " 'asini_o': 3.1954306925915965e-06,\n",
        " 'delta_i': 0.0004280242340039028,\n",
        " 'delta_lan': 0.00030827196409193225,\n",
        " 'eps1_i': 4.596656383214903e-07,\n",
        " 'eps1_o': 1.423852242904276e-08,\n",
        " 'eps2_i': 3.4498171424739676e-07,\n",
        " 'eps2_o': 1.076789806353313e-08,\n",
        " 'i_i': 0.0013882303906687945,\n",
        " 'pb_i': 5.355502932551877e-09,\n",
        " 'pb_o': 3.8012977672630613e-06,\n",
        " 'q_i': 0.1,\n",
        " 'tasc_i': 2.0402717046073916e-07,\n",
        " 'tasc_o': 2.813779973264987e-06}"
       ]
      }
     ],
     "prompt_number": 17
    },
    {
     "cell_type": "code",
     "collapsed": false,
     "input": [
      "n = len(m2.parameters)\n",
      "C = m2.matrix(True)\n",
      "for i in range(n):\n",
      "    for j in range(i+1,n):\n",
      "        if abs(C[i][j])>0.5:\n",
      "            print m2.parameters[i], m2.parameters[j], C[i][j]\n"
     ],
     "language": "python",
     "metadata": {},
     "outputs": [
      {
       "output_type": "stream",
       "stream": "stdout",
       "text": [
        "asini_i delta_lan -0.631147172156\n",
        "pb_i asini_o -0.605208805261\n",
        "pb_i pb_o 0.525355852139\n",
        "pb_i tasc_o 0.781721830338\n",
        "pb_i delta_i 0.890120122894\n",
        "pb_i delta_lan -0.768620004249\n",
        "asini_o delta_lan 0.627982515301\n",
        "pb_o tasc_o 0.614900580275\n",
        "pb_o delta_lan -0.546857418427\n",
        "tasc_o delta_i 0.632178224437\n",
        "tasc_o delta_lan -0.521090445427\n",
        "delta_i delta_lan -0.504389419259\n"
       ]
      }
     ],
     "prompt_number": 27
    },
    {
     "cell_type": "code",
     "collapsed": false,
     "input": [
      "w, v = scipy.linalg.eigh(C)\n",
      "print w"
     ],
     "language": "python",
     "metadata": {},
     "outputs": [
      {
       "output_type": "stream",
       "stream": "stdout",
       "text": [
        "[ -5.60326684e-18  -1.11762791e-32  -2.01634105e-33   1.16052740e-17\n",
        "   9.28433497e-17   4.19447239e-03   8.01411089e-03   3.83029845e-02\n",
        "   1.84318457e-01   8.91776911e-01   1.11627758e+00   1.33986924e+00\n",
        "   1.49189324e+00   3.92535300e+00]\n"
       ]
      }
     ],
     "prompt_number": 28
    },
    {
     "cell_type": "code",
     "collapsed": false,
     "input": [
      "for val, vec in zip(w,v):\n",
      "    print val, \n",
      "    s = \"\"\n",
      "    for c,n in zip(vec,m2.parameters):\n",
      "        if abs(c)>1e-1:\n",
      "            s += \" %f*%s\" % (c,n)\n",
      "            if m2.fixed[n]:\n",
      "                s = \"\"\n",
      "                break\n",
      "    print"
     ],
     "language": "python",
     "metadata": {},
     "outputs": [
      {
       "output_type": "stream",
       "stream": "stdout",
       "text": [
        "-5.60326684045e-18\n",
        "-1.11762790734e-32\n",
        "-2.01634104565e-33\n",
        "1.16052739933e-17\n",
        "9.28433496599e-17\n",
        "0.00419447238842\n",
        "0.00801411088844\n",
        "0.0383029845274\n",
        "0.18431845739\n",
        "0.891776911204\n",
        "1.11627758095\n",
        "1.33986923948\n",
        "1.49189323897\n",
        "3.9253530042\n"
       ]
      }
     ],
     "prompt_number": 31
    },
    {
     "cell_type": "code",
     "collapsed": false,
     "input": [
      "m2.fixed['asini_i'] = True\n",
      "m2.fixed['pb_i'] = True\n",
      "m2.fixed['eps1_i'] = True\n",
      "m2.fixed['eps2_i'] = True\n",
      "m2.fixed['eps1_o'] = True\n",
      "m2.fixed['eps2_o'] = True\n",
      "\n",
      "m2.hesse()"
     ],
     "language": "python",
     "metadata": {},
     "outputs": [],
     "prompt_number": 32
    },
    {
     "cell_type": "code",
     "collapsed": false,
     "input": [
      "m2.errors"
     ],
     "language": "python",
     "metadata": {},
     "outputs": [
      {
       "output_type": "pyout",
       "prompt_number": 33,
       "text": [
        "{'asini_i': 4.140611989727984e-07,\n",
        " 'asini_o': 4.026150239959849e-06,\n",
        " 'delta_i': 0.0006637284833591394,\n",
        " 'delta_lan': 0.00024079718425760104,\n",
        " 'eps1_i': 4.596656383214903e-07,\n",
        " 'eps1_o': 1.423852242904276e-08,\n",
        " 'eps2_i': 3.4498171424739676e-07,\n",
        " 'eps2_o': 1.076789806353313e-08,\n",
        " 'i_i': 0.004978632575833052,\n",
        " 'pb_i': 5.954426360228816e-09,\n",
        " 'pb_o': 7.627613510537656e-06,\n",
        " 'q_i': 0.1,\n",
        " 'tasc_i': 1.390231757206864e-07,\n",
        " 'tasc_o': 6.043206916291924e-06}"
       ]
      }
     ],
     "prompt_number": 33
    },
    {
     "cell_type": "code",
     "collapsed": false,
     "input": [
      "m2.fixed['asini_i'] = False\n",
      "m2.fixed['pb_i'] = False\n",
      "m2.fixed['eps1_i'] = False\n",
      "m2.fixed['eps2_i'] = False\n",
      "m2.fixed['eps1_o'] = False\n",
      "m2.fixed['eps2_o'] = False\n",
      "m2.migrad()"
     ],
     "language": "python",
     "metadata": {},
     "outputs": [
      {
       "ename": "MinuitError",
       "evalue": "Function value is above the specified estimated distance to the minimum (edm).",
       "output_type": "pyerr",
       "traceback": [
        "\u001b[0;31m---------------------------------------------------------------------------\u001b[0m\n\u001b[0;31mMinuitError\u001b[0m                               Traceback (most recent call last)",
        "\u001b[0;32m<ipython-input-35-898a5703aa5f>\u001b[0m in \u001b[0;36m<module>\u001b[0;34m()\u001b[0m\n\u001b[1;32m      5\u001b[0m \u001b[0mm2\u001b[0m\u001b[0;34m.\u001b[0m\u001b[0mfixed\u001b[0m\u001b[0;34m[\u001b[0m\u001b[0;34m'eps1_o'\u001b[0m\u001b[0;34m]\u001b[0m \u001b[0;34m=\u001b[0m \u001b[0mFalse\u001b[0m\u001b[0;34m\u001b[0m\u001b[0m\n\u001b[1;32m      6\u001b[0m \u001b[0mm2\u001b[0m\u001b[0;34m.\u001b[0m\u001b[0mfixed\u001b[0m\u001b[0;34m[\u001b[0m\u001b[0;34m'eps2_o'\u001b[0m\u001b[0;34m]\u001b[0m \u001b[0;34m=\u001b[0m \u001b[0mFalse\u001b[0m\u001b[0;34m\u001b[0m\u001b[0m\n\u001b[0;32m----> 7\u001b[0;31m \u001b[0mm2\u001b[0m\u001b[0;34m.\u001b[0m\u001b[0mmigrad\u001b[0m\u001b[0;34m(\u001b[0m\u001b[0;34m)\u001b[0m\u001b[0;34m\u001b[0m\u001b[0m\n\u001b[0m",
        "\u001b[0;31mMinuitError\u001b[0m: Function value is above the specified estimated distance to the minimum (edm)."
       ]
      }
     ],
     "prompt_number": 35
    },
    {
     "cell_type": "code",
     "collapsed": false,
     "input": [
      "m2.minos()\n",
      "m2.merrors"
     ],
     "language": "python",
     "metadata": {},
     "outputs": [
      {
       "ename": "RuntimeError",
       "evalue": "You must run MIGRAD (successfully) first.",
       "output_type": "pyerr",
       "traceback": [
        "\u001b[0;31m---------------------------------------------------------------------------\u001b[0m\n\u001b[0;31mRuntimeError\u001b[0m                              Traceback (most recent call last)",
        "\u001b[0;32m<ipython-input-36-a134e183e295>\u001b[0m in \u001b[0;36m<module>\u001b[0;34m()\u001b[0m\n\u001b[0;32m----> 1\u001b[0;31m \u001b[0mm2\u001b[0m\u001b[0;34m.\u001b[0m\u001b[0mminos\u001b[0m\u001b[0;34m(\u001b[0m\u001b[0;34m)\u001b[0m\u001b[0;34m\u001b[0m\u001b[0m\n\u001b[0m\u001b[1;32m      2\u001b[0m \u001b[0mm2\u001b[0m\u001b[0;34m.\u001b[0m\u001b[0mmerrors\u001b[0m\u001b[0;34m\u001b[0m\u001b[0m\n",
        "\u001b[0;31mRuntimeError\u001b[0m: You must run MIGRAD (successfully) first."
       ]
      }
     ],
     "prompt_number": 36
    },
    {
     "cell_type": "code",
     "collapsed": false,
     "input": [
      "m2parameters = m2.parameters\n",
      "m2values = np.array([m2.values[n] for n in m2parameters])\n",
      "m2errors = np.array([m2.errors[n] for n in m2parameters])"
     ],
     "language": "python",
     "metadata": {},
     "outputs": [],
     "prompt_number": 42
    },
    {
     "cell_type": "code",
     "collapsed": false,
     "input": [
      "def scale(p):\n",
      "    return (np.asarray(p)-m2values)/m2errors\n",
      "def unscale(p):\n",
      "    return (np.asarray(p)*m2errors)+m2values"
     ],
     "language": "python",
     "metadata": {},
     "outputs": [],
     "prompt_number": 43
    },
    {
     "cell_type": "code",
     "collapsed": false,
     "input": [
      "def mfun3(asini_i, pb_i, eps1_i, eps2_i, tasc_i, \n",
      "            i_i, q_i,\n",
      "            asini_o, pb_o, eps1_o, eps2_o, tasc_o, \n",
      "            delta_i, delta_lan):\n",
      "    return mfun2(*unscale([asini_i, pb_i, eps1_i, eps2_i, tasc_i, \n",
      "            i_i, q_i,\n",
      "            asini_o, pb_o, eps1_o, eps2_o, tasc_o, \n",
      "            delta_i, delta_lan]))\n"
     ],
     "language": "python",
     "metadata": {},
     "outputs": [],
     "prompt_number": 44
    },
    {
     "cell_type": "code",
     "collapsed": false,
     "input": [
      "m3 = minuit.Minuit(mfun3)"
     ],
     "language": "python",
     "metadata": {},
     "outputs": [],
     "prompt_number": 45
    },
    {
     "cell_type": "code",
     "collapsed": false,
     "input": [
      "for n,v in zip(m2parameters, scale(m2values)):\n",
      "    m3.values[n] = v\n"
     ],
     "language": "python",
     "metadata": {},
     "outputs": [],
     "prompt_number": 46
    },
    {
     "cell_type": "code",
     "collapsed": false,
     "input": [
      "m3.fixed['q_i'] = True"
     ],
     "language": "python",
     "metadata": {},
     "outputs": [],
     "prompt_number": 47
    },
    {
     "cell_type": "code",
     "collapsed": false,
     "input": [
      "m3.printMode = 3\n",
      "m3.eps = 1e-10\n",
      "m3.tol = 100.\n",
      "m3.strategy = 2\n",
      "m3.migrad()"
     ],
     "language": "python",
     "metadata": {},
     "outputs": [],
     "prompt_number": "*"
    },
    {
     "cell_type": "code",
     "collapsed": false,
     "input": [],
     "language": "python",
     "metadata": {},
     "outputs": []
    }
   ],
   "metadata": {}
  }
 ]
}