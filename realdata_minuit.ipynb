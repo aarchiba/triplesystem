{
 "metadata": {
  "name": "realdata_minuit"
 },
 "nbformat": 3,
 "nbformat_minor": 0,
 "worksheets": [
  {
   "cells": [
    {
     "cell_type": "code",
     "collapsed": false,
     "input": [
      "import scipy.optimize\n",
      "\n",
      "import minuit\n",
      "\n",
      "import kepler\n",
      "import quad_integrate"
     ],
     "language": "python",
     "metadata": {},
     "outputs": [],
     "prompt_number": 1
    },
    {
     "cell_type": "code",
     "collapsed": false,
     "input": [
      "delay_list = []\n",
      "with open(\"0337_delays_2.txt\") as f:\n",
      "    for l in f.readlines():\n",
      "        if l.startswith(\"#\"):\n",
      "            continue\n",
      "        mjd, delay, tel = l.split()\n",
      "        delay_list.append((float(mjd),float(delay),tel))\n",
      "mjds = np.array([m for (m,d,t) in delay_list])\n",
      "delays = np.array([d for (m,d,t) in delay_list])"
     ],
     "language": "python",
     "metadata": {},
     "outputs": [],
     "prompt_number": 2
    },
    {
     "cell_type": "code",
     "collapsed": false,
     "input": [
      "tel_list = list(sorted(set([t for (m,d,t) in delay_list])))\n",
      "tels = np.array([tel_list.index(t) for (m,d,t) in delay_list])"
     ],
     "language": "python",
     "metadata": {},
     "outputs": [],
     "prompt_number": 3
    },
    {
     "cell_type": "code",
     "collapsed": false,
     "input": [
      "mjds -= delays/86400. # reomve Doppler effect"
     ],
     "language": "python",
     "metadata": {},
     "outputs": [],
     "prompt_number": 4
    },
    {
     "cell_type": "code",
     "collapsed": false,
     "input": [
      "ix = np.argsort(mjds)\n",
      "mjds = mjds[ix]\n",
      "delays = delays[ix]"
     ],
     "language": "python",
     "metadata": {},
     "outputs": [],
     "prompt_number": 5
    },
    {
     "cell_type": "code",
     "collapsed": false,
     "input": [
      "tels = tels[ix]"
     ],
     "language": "python",
     "metadata": {},
     "outputs": [],
     "prompt_number": 6
    },
    {
     "cell_type": "code",
     "collapsed": false,
     "input": [
      "print len(mjds)\n",
      "plt.plot(mjds, delays)\n",
      "plt.xlabel(\"Days since start\")\n",
      "plt.ylabel(\"Delay (s)\")"
     ],
     "language": "python",
     "metadata": {},
     "outputs": [
      {
       "output_type": "stream",
       "stream": "stdout",
       "text": [
        "25173\n"
       ]
      },
      {
       "output_type": "pyout",
       "prompt_number": 7,
       "text": [
        "<matplotlib.text.Text at 0x39c7bd0>"
       ]
      },
      {
       "output_type": "display_data",
       "png": "[encoded data removed]"
      }
     ],
     "prompt_number": 7
    },
    {
     "cell_type": "code",
     "collapsed": false,
     "input": [
      "orbital_parameters_fit_g = [\n",
      "    1.2171134018088841, # asini_i\n",
      "    1.6293877500186642, # pb_i\n",
      "    -0.00088376516698039935, # eps1_i\n",
      "    0.001781113988661793, # eps2_i\n",
      "    0.4087015125381625, # tasc_i\n",
      "    1.2168553493508825, # acosi_i\n",
      "    0.19433810040000388, # q_i\n",
      "    74.667882707258912, # asini_o\n",
      "    327.23346309921448, # pb_o\n",
      "    -0.003351243299152699, # eps1_o\n",
      "    0.035237145093506859, # eps2_o\n",
      "    313.93330152965075, # tasc_o\n",
      "    74.669404344570125, # acosi_o\n",
      "    0.0001657832808064497, # delta_lan\n",
      "    -1.7184174901817222e-07, # lan_i\n",
      "    array([ -7.24468993e-14,   2.43346737e-13,   2.65047963e+00]), # x_cm\n",
      "    array([ -2.79006414e-11,   3.80790478e-12,  -1.06353443e-04])] # v_cm\n",
      "opfg_residual = 5.52446507986e-06\n"
     ],
     "language": "python",
     "metadata": {},
     "outputs": [],
     "prompt_number": 8
    },
    {
     "cell_type": "code",
     "collapsed": false,
     "input": [
      "orbital_parameters_fit_g3 = [\n",
      "    1.2174877531607293, \n",
      "    1.6294043898535213, \n",
      "    -8.0394386823472494e-05, \n",
      "    0.00068856103153723796, \n",
      "    0.40750053445444318, \n",
      "    1.3153214040870402, \n",
      "    0.12225684857001216, \n",
      "    74.672330831358025, \n",
      "    327.25540249558935, \n",
      "    -0.0034657550249474018, \n",
      "    0.035185039958887519, \n",
      "    313.93400646864541, \n",
      "    74.667609758652702, \n",
      "    0.0094336367777643031\n",
      "]\n",
      "opfg3_residual = 4.6638647732e-05**2"
     ],
     "language": "python",
     "metadata": {},
     "outputs": [],
     "prompt_number": 9
    },
    {
     "cell_type": "code",
     "collapsed": false,
     "input": [
      "a = np.loadtxt(\"partial_results_vlbi_2.txt\")\n",
      "#b = np.loadtxt(\"partial_results_vlbi_3.txt\")\n",
      "c = np.loadtxt(\"partial_results_vlbi_4.txt\")\n",
      "rs = np.vstack([#a, \n",
      "    #b, \n",
      "    c])\n",
      "ix = np.argmin(rs[:,0])\n",
      "err = rs[ix,0]\n",
      "parms = rs[ix,1:]\n",
      "(asini_i, pb_i, eps1_i, eps2_i, tasc_i, \n",
      "            acosi_i, q_i,\n",
      "            asini_o, pb_o, eps1_o, eps2_o, tasc_o, \n",
      "            acosi_o, delta_lan,\n",
      "            ) = parms\n",
      "print err, np.sqrt(err)\n",
      "\n",
      "orbital_parameters_fit_g4 = (asini_i, pb_i, eps1_i, eps2_i, tasc_i, \n",
      "            acosi_i, q_i,\n",
      "            asini_o, pb_o, eps1_o, eps2_o, tasc_o, \n",
      "            acosi_o, delta_lan,\n",
      "            0, \n",
      "            np.zeros(3),\n",
      "            np.zeros(3)\n",
      "            )"
     ],
     "language": "python",
     "metadata": {},
     "outputs": [
      {
       "output_type": "stream",
       "stream": "stdout",
       "text": [
        "6.31082110403e-10 2.51213477028e-05\n"
       ]
      }
     ],
     "prompt_number": 35
    },
    {
     "cell_type": "code",
     "collapsed": false,
     "input": [
      "orbital_cache_2 = {}"
     ],
     "language": "python",
     "metadata": {},
     "outputs": [],
     "prompt_number": 11
    },
    {
     "cell_type": "code",
     "collapsed": false,
     "input": [],
     "language": "python",
     "metadata": {},
     "outputs": [],
     "prompt_number": 11
    },
    {
     "cell_type": "code",
     "collapsed": false,
     "input": [
      "tol = 1e-16\n",
      "year_length = 365.2425\n",
      "def remove_non_orbital(vec):\n",
      "    non_orbital_basis = np.vstack([\n",
      "                  np.cos(2*np.pi*mjds/year_length),\n",
      "                  np.sin(2*np.pi*mjds/year_length),\n",
      "                  mjds*np.sin(2*np.pi*mjds/year_length),\n",
      "                  mjds*np.sin(2*np.pi*mjds/year_length),\n",
      "                  np.cos(4*np.pi*mjds/year_length),\n",
      "                  np.sin(4*np.pi*mjds/year_length),\n",
      "                  mjds,\n",
      "                  mjds**2/2.,\n",
      "                  np.ones_like(mjds),\n",
      "        ]).T\n",
      "    x, res, rk, s = scipy.linalg.lstsq(non_orbital_basis, vec)\n",
      "    return vec-np.dot(non_orbital_basis,x)\n",
      "def remove_trend(vec):\n",
      "    non_orbital_basis = np.vstack([\n",
      "                  mjds,\n",
      "                  mjds**2/2.,\n",
      "                  np.ones_like(mjds),\n",
      "                  np.arange(1,len(tel_list))[:,None]==tels[None,:],\n",
      "                  #np.cos(2*np.pi*mjds/year_length),\n",
      "                  #np.sin(2*np.pi*mjds/year_length),\n",
      "        ]).T\n",
      "    x, res, rk, s = scipy.linalg.lstsq(non_orbital_basis, vec)\n",
      "    return vec-np.dot(non_orbital_basis,x)\n",
      "def fit_gravity_detrend(# Measurable fairly directly\n",
      "        asini_i, pb_i, eps1_i, eps2_i, tasc_i, \n",
      "        # Not measurable apart from interaction\n",
      "        acosi_i, q_i,\n",
      "        # Measurable fairly directly\n",
      "        asini_o, pb_o, eps1_o, eps2_o, tasc_o, \n",
      "        # Not measurable apart from interaction\n",
      "        acosi_o, delta_lan,\n",
      "        ):\n",
      "    initial_state, jac = kepler.kepler_three_body_measurable(\n",
      "        asini_i, pb_i, eps1_i, eps2_i, tasc_i, \n",
      "        acosi_i, q_i,\n",
      "        asini_o, pb_o, eps1_o, eps2_o, tasc_o, \n",
      "        acosi_o, delta_lan,\n",
      "        0, \n",
      "        np.zeros(3),\n",
      "        np.zeros(3),\n",
      "        0)\n",
      "    ist = tuple(initial_state)\n",
      "    if ist not in orbital_cache_2:\n",
      "        O = quad_integrate.ODE(quad_integrate.KeplerRHS(),\n",
      "                               initial_state, 0,\n",
      "                               rtol = tol, atol = tol)\n",
      "        zs = []\n",
      "        for t in mjds:\n",
      "            O.integrate_to(t)\n",
      "            zs.append(O.x[2])\n",
      "        zs = np.array(zs)\n",
      "        orbital_cache_2[ist] = zs\n",
      "    zs = orbital_cache_2[ist]\n",
      "    error = np.mean(remove_trend(zs-delays)**2)\n",
      "    with open(\"partial_results_vlbi_2.txt\",\"a\") as f:\n",
      "        f.write(\"\\t\".join(repr(f) for f in [error,\n",
      "            asini_i, pb_i, eps1_i, eps2_i, tasc_i, \n",
      "            acosi_i, q_i,\n",
      "            asini_o, pb_o, eps1_o, eps2_o, tasc_o, \n",
      "            acosi_o, delta_lan]))\n",
      "        f.write(\"\\n\")\n",
      "        f.flush()\n",
      "    return error\n",
      "    "
     ],
     "language": "python",
     "metadata": {},
     "outputs": [],
     "prompt_number": 25
    },
    {
     "cell_type": "code",
     "collapsed": false,
     "input": [
      "m2 = minuit.Minuit(fit_gravity_detrend)"
     ],
     "language": "python",
     "metadata": {},
     "outputs": [],
     "prompt_number": 26
    },
    {
     "cell_type": "code",
     "collapsed": false,
     "input": [
      "for n,v in zip(kepler.three_body_parameters_measurable[:-3], orbital_parameters_fit_g4[:-3]):\n",
      "    m2.values[n] = v"
     ],
     "language": "python",
     "metadata": {},
     "outputs": [],
     "prompt_number": 36
    },
    {
     "cell_type": "code",
     "collapsed": false,
     "input": [
      "m2.values['q_i'] = 7.32**(-1) #optical, +- 0.08\n",
      "m2.fixed['q_i'] = False"
     ],
     "language": "python",
     "metadata": {},
     "outputs": [],
     "prompt_number": 31
    },
    {
     "cell_type": "code",
     "collapsed": false,
     "input": [
      "m2.printMode = 3\n",
      "m2.strategy = 1"
     ],
     "language": "python",
     "metadata": {},
     "outputs": [],
     "prompt_number": 32
    },
    {
     "cell_type": "code",
     "collapsed": false,
     "input": [
      "#m2.up = 5.69898719672e-10/len(delays) # minimum rms error is assumed to be the uncertainty on points\n",
      "m2.up = 6e-10"
     ],
     "language": "python",
     "metadata": {},
     "outputs": [],
     "prompt_number": 33
    },
    {
     "cell_type": "code",
     "collapsed": false,
     "input": [
      "m2.migrad()"
     ],
     "language": "python",
     "metadata": {},
     "outputs": [
      {
       "ename": "MinuitError",
       "evalue": "Covariance is not positive definite.",
       "output_type": "pyerr",
       "traceback": [
        "\u001b[0;31m---------------------------------------------------------------------------\u001b[0m\n\u001b[0;31mMinuitError\u001b[0m                               Traceback (most recent call last)",
        "\u001b[0;32m<ipython-input-37-677707e1df0e>\u001b[0m in \u001b[0;36m<module>\u001b[0;34m()\u001b[0m\n\u001b[0;32m----> 1\u001b[0;31m \u001b[0mm2\u001b[0m\u001b[0;34m.\u001b[0m\u001b[0mmigrad\u001b[0m\u001b[0;34m(\u001b[0m\u001b[0;34m)\u001b[0m\u001b[0;34m\u001b[0m\u001b[0m\n\u001b[0m",
        "\u001b[0;31mMinuitError\u001b[0m: Covariance is not positive definite."
       ]
      }
     ],
     "prompt_number": 37
    },
    {
     "cell_type": "code",
     "collapsed": false,
     "input": [
      "m2.errors"
     ],
     "language": "python",
     "metadata": {},
     "outputs": []
    },
    {
     "cell_type": "code",
     "collapsed": false,
     "input": [
      "m2.values"
     ],
     "language": "python",
     "metadata": {},
     "outputs": []
    },
    {
     "cell_type": "code",
     "collapsed": false,
     "input": [
      "1./m2.values['q_i'], 1./m2.values['q_i']*(m2.errors['q_i']/m2.values['q_i']) "
     ],
     "language": "python",
     "metadata": {},
     "outputs": [
      {
       "output_type": "pyout",
       "prompt_number": 29,
       "text": [
        "(8.723689537149177, 0.9592230503913711)"
       ]
      }
     ],
     "prompt_number": 29
    },
    {
     "cell_type": "code",
     "collapsed": false,
     "input": [
      "m2.up = 1e-5"
     ],
     "language": "python",
     "metadata": {},
     "outputs": [],
     "prompt_number": 33
    },
    {
     "cell_type": "code",
     "collapsed": false,
     "input": [
      "m2.hesse()"
     ],
     "language": "python",
     "metadata": {},
     "outputs": [],
     "prompt_number": 34
    },
    {
     "cell_type": "code",
     "collapsed": false,
     "input": [
      "m2.migrad()"
     ],
     "language": "python",
     "metadata": {},
     "outputs": [
      {
       "ename": "MinuitError",
       "evalue": "Covariance is not positive definite.",
       "output_type": "pyerr",
       "traceback": [
        "\u001b[0;31m---------------------------------------------------------------------------\u001b[0m\n\u001b[0;31mMinuitError\u001b[0m                               Traceback (most recent call last)",
        "\u001b[0;32m<ipython-input-32-677707e1df0e>\u001b[0m in \u001b[0;36m<module>\u001b[0;34m()\u001b[0m\n\u001b[0;32m----> 1\u001b[0;31m \u001b[0mm2\u001b[0m\u001b[0;34m.\u001b[0m\u001b[0mmigrad\u001b[0m\u001b[0;34m(\u001b[0m\u001b[0;34m)\u001b[0m\u001b[0;34m\u001b[0m\u001b[0m\n\u001b[0m",
        "\u001b[0;31mMinuitError\u001b[0m: Covariance is not positive definite."
       ]
      }
     ],
     "prompt_number": 32
    },
    {
     "cell_type": "code",
     "collapsed": false,
     "input": [
      "m2.migrad()"
     ],
     "language": "python",
     "metadata": {},
     "outputs": [],
     "prompt_number": 38
    },
    {
     "cell_type": "code",
     "collapsed": false,
     "input": [
      "m2.values"
     ],
     "language": "python",
     "metadata": {},
     "outputs": [
      {
       "output_type": "pyout",
       "prompt_number": 39,
       "text": [
        "{'acosi_i': 0.8289537041124083,\n",
        " 'acosi_o': 39.49102050886742,\n",
        " 'asini_i': 1.2174592445491992,\n",
        " 'asini_o': 74.66456319430152,\n",
        " 'delta_lan': 0.016565680488878368,\n",
        " 'eps1_i': -9.421988143542126e-05,\n",
        " 'eps1_o': -0.0034627088827584316,\n",
        " 'eps2_i': 0.0007078801256568135,\n",
        " 'eps2_o': 0.03518822058901839,\n",
        " 'pb_i': 1.629402808341568,\n",
        " 'pb_o': 327.25514718696377,\n",
        " 'q_i': 0.13661202185792348,\n",
        " 'tasc_i': 0.4075073830211369,\n",
        " 'tasc_o': 313.93428431819507}"
       ]
      }
     ],
     "prompt_number": 39
    },
    {
     "cell_type": "code",
     "collapsed": false,
     "input": [
      "m2.errors"
     ],
     "language": "python",
     "metadata": {},
     "outputs": [
      {
       "output_type": "pyout",
       "prompt_number": 40,
       "text": [
        "{'acosi_i': 0.00632458101101852,\n",
        " 'acosi_o': 0.0063245490134940675,\n",
        " 'asini_i': 0.0037035845138656607,\n",
        " 'asini_o': 0.006324428339612177,\n",
        " 'delta_lan': 0.00632423814112689,\n",
        " 'eps1_i': 0.004882550286117905,\n",
        " 'eps1_o': 0.00023486106713925105,\n",
        " 'eps2_i': 0.004546868695867335,\n",
        " 'eps2_o': 0.00014364657293793222,\n",
        " 'pb_i': 1.908746211763635e-05,\n",
        " 'pb_o': 0.006322804284721652,\n",
        " 'q_i': 0.0571562957820357,\n",
        " 'tasc_i': 0.002978437926503759,\n",
        " 'tasc_o': 0.006324253300100693}"
       ]
      }
     ],
     "prompt_number": 40
    },
    {
     "cell_type": "code",
     "collapsed": false,
     "input": [
      "m2.fval"
     ],
     "language": "python",
     "metadata": {},
     "outputs": [
      {
       "output_type": "pyout",
       "prompt_number": 41,
       "text": [
        "8.511146215530973e-10"
       ]
      }
     ],
     "prompt_number": 41
    },
    {
     "cell_type": "code",
     "collapsed": false,
     "input": [
      "np.sqrt(m2.fval)"
     ],
     "language": "python",
     "metadata": {},
     "outputs": [
      {
       "output_type": "pyout",
       "prompt_number": 42,
       "text": [
        "2.9173868813599223e-05"
       ]
      }
     ],
     "prompt_number": 42
    }
   ],
   "metadata": {}
  }
 ]
}