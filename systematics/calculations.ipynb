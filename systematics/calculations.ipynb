{
 "metadata": {
  "kernelspec": {
   "display_name": "Python 2",
   "language": "python",
   "name": "python2"
  },
  "language_info": {
   "codemirror_mode": {
    "name": "ipython",
    "version": 2
   },
   "file_extension": ".py",
   "mimetype": "text/x-python",
   "name": "python",
   "nbconvert_exporter": "python",
   "pygments_lexer": "ipython2",
   "version": "2.7.13"
  },
  "name": "",
  "signature": "sha256:c1b1a36a8551ce99ecadbff4ca4f85acf1083ba35f718821749e6d78b9cc9e24"
 },
 "nbformat": 3,
 "nbformat_minor": 0,
 "worksheets": [
  {
   "cells": [
    {
     "cell_type": "code",
     "collapsed": false,
     "input": [
      "%load_ext autoreload\n",
      "%autoreload 2\n",
      "%matplotlib inline"
     ],
     "language": "python",
     "metadata": {},
     "outputs": [],
     "prompt_number": 1
    },
    {
     "cell_type": "code",
     "collapsed": false,
     "input": [
      "import numpy as np\n",
      "import scipy.linalg\n",
      "import matplotlib.pyplot as plt\n",
      "from collections import namedtuple\n",
      "from pylab import rcParams\n",
      "rcParams['savefig.dpi'] = 144\n",
      "import pickle\n",
      "from astropy.io import fits\n",
      "import os, sys, math, time\n",
      "import math\n",
      "from scipy.stats import norm\n",
      "import matplotlib.mlab as mlab\n",
      "from scipy import stats\n",
      "from scipy.stats import kstest\n",
      "from scipy.stats import norm\n",
      "from matplotlib.font_manager import FontProperties"
     ],
     "language": "python",
     "metadata": {},
     "outputs": [],
     "prompt_number": 2
    },
    {
     "cell_type": "code",
     "collapsed": false,
     "input": [
      "data_primary=pickle.load(open('../../../datasets/systematics-package-primary-20171220.pickle', 'rb'))\n",
      "old_data=data_primary\n",
      "\n",
      "\n",
      "p_period=1./old_data['f0']\n",
      "pb_i = old_data['best_parameters']['pb_i']\n",
      "pb_o = old_data['best_parameters']['pb_o']\n",
      "\n",
      "phi_i=(2.0*math.pi)/pb_i\n",
      "phi_o=(2.0*math.pi)/pb_o\n",
      "\n",
      "print 'period =', p_period\n",
      "print data_primary['best_parameters']"
     ],
     "language": "python",
     "metadata": {},
     "outputs": [
      {
       "output_type": "stream",
       "stream": "stdout",
       "text": [
        "period = 0.00273258859009\n",
        "{'eps1_o': 0.035185965814842112529, 'eps1_i': 0.00068826206308475963605, 'asini_i': 1.2175252779716744885, 'eps2_i': -9.1395416831860648936e-05, 'delta_lan': 2.1991360118761438107e-06, 'eps2_o': -0.0034630696957737554409, 'q_i': 0.13740557041242769519, 'asini_o': 74.672633134978249329, 'pb_o': 327.25688557208299206, 'dgamma': -1.3379539468949432047e-05, 'pb_i': 1.6293934166924090081, 'delta': -1.0853003777088741092e-06, 'tasc_i': 0.4077166413697450023, 'acosi_o': 91.36103723804699249, 'dbeta': 0.0015296055665143897265, 'acosi_i': 1.4895541513424564899, 'tasc_o': 313.93515997689802044}\n"
       ]
      }
     ],
     "prompt_number": 5
    },
    {
     "cell_type": "markdown",
     "metadata": {},
     "source": [
      "#Periastron advace:"
     ]
    },
    {
     "cell_type": "code",
     "collapsed": false,
     "input": [
      "m_sun=2e33#g\n",
      "r_sun=6.957e10#cm\n",
      "c_light=2.997924581e10#cm/s\n",
      "year=3.156e7#seconds in year\n",
      "g=6.67e-8#gravitational constant in cm/g/s"
     ],
     "language": "python",
     "metadata": {},
     "outputs": [],
     "prompt_number": 7
    },
    {
     "cell_type": "markdown",
     "metadata": {},
     "source": [
      "###Check units using Mercury:"
     ]
    },
    {
     "cell_type": "code",
     "collapsed": false,
     "input": [
      "a_pl=5.79e12\n",
      "e_pl=0.2\n",
      "t_pl=0.24*year\n",
      "\n",
      "omega=(6.*math.pi*g*m_sun)/(a_pl*(1-e_pl*e_pl)*c_light**2.0)*(100*year/t_pl)*57.29*3600\n",
      "print 'Mercury periastron advance \"/100 years:', omega\n",
      "\n",
      "coeff=17.5*30*math.pi*0.01*0.1**5*(year*57.28/27907)# coefficient of formula (3.8) Smarr & Blandford (S&B) 1976\n",
      "print 'coefficient from formula (3.8):', coeff"
     ],
     "language": "python",
     "metadata": {},
     "outputs": [
      {
       "output_type": "stream",
       "stream": "stdout",
       "text": [
        "Mercury periastron advance \"/100 years: 43.2549516647\n",
        "coefficient from formula (3.8): 10.6840528478\n"
       ]
      }
     ],
     "prompt_number": 11
    },
    {
     "cell_type": "markdown",
     "metadata": {},
     "source": [
      "###J0377+1715 inner binary: "
     ]
    },
    {
     "cell_type": "code",
     "collapsed": false,
     "input": [
      "m1=1.4378# mass of the pulsar in m_sun\n",
      "m2=0.19751#mass of the WD_i in m_sun\n",
      "r2=0.091#radius of the WD_i in r_sun (from Kaplan, D. et al. 2014)\n",
      "n=3./2.#polythrope index (from Dall'Osso & Rossi 2013)\n",
      "pb_i=1.6293922773432904091#inner binary period in days\n",
      "pb=pb_i*24.*3600.#converted to seconds\n",
      "g=6.67e-8#gravitational constant in cm/g/s\n",
      "e_i=6.9178e-4#eccentrisity of the inner orbit\n",
      "F_e=(1.+1.5*e_i**2.+0.125*e_i**4.)/(1-e_i**2)**5\n",
      "n_mean=2.*math.pi/pb\n",
      "print 'F(e)=', F_e \n",
      "\n",
      "a_b=((g*(m1+m2)*m_sun)/(n_mean**2.))**(1./3.)\n",
      "print 'a_binary=', a_b, 'cm ==', a_b/c_light, 'lt-s'\n",
      "\n",
      "k2=1.5*(-0.41+(0.56/(n**0.33)))*((m2*m_sun)/(r2*r_sun))**(-0.003)*F_e#formula from Hinderer, T. 2008\n",
      "print 'k2=', k2\n",
      "\n",
      "delta_hi=30.*math.pi*k2*(m1/m2)*((r2*r_sun)/(a_b))**5.#formula from Smarr & Blandford 1976\n",
      "print 'delta_hi=', delta_hi, 'rad/(one orbit rotation)'\n",
      "\n",
      "omg_tidal=30.*math.pi*k2*F_e*(m1/m2)*((r2*r_sun)/(((g*(m1+m2)*m_sun)/(n_mean**2.))**(1./3.)))**5.*(year*57.28/pb)\n",
      "print 'omega_tidal=', omg_tidal, 'deg/year; ', omg_tidal*6., 'deg/6 years'\n",
      "\n",
      "omg_rel=(6.*math.pi*g*(m1+m2)*m_sun)/(a_b*(1.-e_i**2.)*c_light*c_light)*(year*57.28/pb)\n",
      "print 'omega_rel=', omg_rel, 'deg/year'"
     ],
     "language": "python",
     "metadata": {},
     "outputs": [
      {
       "output_type": "stream",
       "stream": "stdout",
       "text": [
        "F(e)= 1.00000311064\n",
        "a_binary= 4.78437257776e+11 cm == 15.9589490946 lt-s\n",
        "k2= 0.102346463986\n",
        "delta_hi= 2.84869121446e-08 rad/(one orbit rotation)\n",
        "omega_tidal= 0.000365803060658 deg/year;  0.00219481836395 deg/6 years\n",
        "omega_rel= 0.122798047656 deg/year\n"
       ]
      }
     ],
     "prompt_number": 12
    },
    {
     "cell_type": "markdown",
     "metadata": {},
     "source": [
      "#$\\Omega_{SO}$:"
     ]
    },
    {
     "cell_type": "code",
     "collapsed": false,
     "input": [
      "psr_mu_i=(2./5.)*1.44*m_sun*(11*1e5)**2.*366\n",
      "print 'mu_psr=', psr_mu_i\n",
      "\n",
      "omega_SO_psr=((2.*g*c_light*psr_mu_i)/(c_light**3. * a_b**3. * (1-e_i**2.)**1.5))*(1.-3.*np.cos((math.pi/180.)*39.))\n",
      "print 'Omega_SO psr', omega_SO_psr, 'rad/sec', omega_SO_psr*year*57, 'deg/year'\n",
      "\n",
      "\n",
      "wd_mu_i=(2./5.)*0.2*m_sun*(0.091*r_sun)**2*0.1\n",
      "print 'mu_wd=', wd_mu_i\n",
      "\n",
      "omega_SO_wd=((2.*g*c_light*wd_mu_i)/(c_light**3. * a_b**3. * (1-e_i**2.)**1.5))*(1.-3.*np.cos((math.pi/180.)*39.))\n",
      "print 'Omega_SO wd', omega_SO_wd, 'rad/sec', omega_SO_wd*year*57, 'deg/year'\n"
     ],
     "language": "python",
     "metadata": {},
     "outputs": [
      {
       "output_type": "stream",
       "stream": "stdout",
       "text": [
        "mu_psr= 5.1017472e+47\n",
        "Omega_SO psr -9.20618297964e-16 rad/sec -1.65611866857e-06 deg/year\n",
        "mu_wd= 6.4127863931e+50\n",
        "Omega_SO wd -1.15719738023e-12 rad/sec -0.00208170551124 deg/year\n"
       ]
      }
     ],
     "prompt_number": 33
    },
    {
     "cell_type": "markdown",
     "metadata": {},
     "source": [
      "#Dissipative effects:"
     ]
    },
    {
     "cell_type": "markdown",
     "metadata": {},
     "source": [
      "###Check units using Hulse-Taylor pulsar:"
     ]
    },
    {
     "cell_type": "code",
     "collapsed": false,
     "input": [
      "m1_ht=1.441*m_sun\n",
      "m2_ht=1.387*m_sun\n",
      "e_ht=0.617\n",
      "a_ht=1.95e11\n",
      "\n",
      "#t_gr1=-3.8e8*((1.42*m_sun)**2./(m1_ht*m2_ht))#formula 3.15 S&B1976\n",
      "#print 't_gr=', t_gr1, 'or..', t_gr1/1e8, 'e+8'\n",
      "\n",
      "def f_eps(e):\n",
      "    res=(1.+(77.*e**2.)/24. + (37.*e**4.)/96.)/(1.-e**2.)**(7./2.)\n",
      "    return res\n",
      "#print 'F(e_ht)=', f_eps(e_ht)\n",
      "\n",
      "def t_gr(m1, m2, e, a):\n",
      "    t_gr=(96.*g**3.*m1*m2*(m1+m2)*f_eps(e))/(5.*a**4.*c_light**5.)#Formula from L&L paragraph 105 problem 1\n",
      "    t_gr= 1./(t_gr*year)# or Wagoner 1975a\n",
      "    return t_gr\n",
      "\n",
      "t_ht=t_gr(m1_ht, m2_ht, e_ht, a_ht)\n",
      "print 't_gr of Hulse-Taylor pulsar=', t_ht, 'or..', t_ht/1e8, 'e+8 year'\n",
      "\n",
      "def t_p(m1, m2, e, a, r2, mu, omg_2):\n",
      "    n=np.sqrt(g*(m1+m2)/a**3.)\n",
      "    #omg_2=n\n",
      "    t_p=1.5*(1-e**2.)**6.*(m2**2./(m1*(m1+m2)))*(n/omg_2)*(a/r2)**8.*(m2/(mu*r2))/year\n",
      "    return t_p\n",
      "\n",
      "t_p_ht=t_p(m1_ht, 0.5*m_sun, e_ht, a_ht, 0.015*r_sun, 1e13, 0.1)\n",
      "print 't_p of Hulse-Taylor pulsar=', t_p_ht\n",
      "\n",
      "delta_P=1e-8\n",
      "p_ht=(2.*math.pi)/(np.sqrt((g*(m1_ht+m2_ht)/(a_ht**3.))))\n",
      "\n",
      "P_dot_rel_ht=(p_ht/year)/t_ht\n",
      "print 'p_dot_rel=', P_dot_rel_ht\n",
      "ny_rel_ht=delta_P/P_dot_rel_ht\n",
      "print 'how many_years=', ny_rel_ht/(365.25)\n"
     ],
     "language": "python",
     "metadata": {},
     "outputs": [
      {
       "output_type": "stream",
       "stream": "stdout",
       "text": [
        "t_gr of Hulse-Taylor pulsar= 353500180.36 or.. 3.5350018036 e+8 year\n",
        "t_p of Hulse-Taylor pulsar= 6.38048680477e+16\n",
        "p_dot_rel= 2.49682172098e-12\n",
        "how many_years= 10.965343517\n"
       ]
      }
     ],
     "prompt_number": 87
    },
    {
     "cell_type": "markdown",
     "metadata": {},
     "source": [
      "###J0337+1715 inner binary:"
     ]
    },
    {
     "cell_type": "code",
     "collapsed": false,
     "input": [
      "m1=1.4378# mass of the pulsar in m_sun\n",
      "m2=0.19751#mass of the WD_i in m_sun\n",
      "r2=0.091#radius of the WD_i in r_sun (from Kaplan, D. et al. 2014)\n",
      "\n",
      "t_rel=t_gr(m1*m_sun, m2*m_sun, e_i, a_b)\n",
      "print 't_rel=p/p_dot:', t_rel\n",
      "\n",
      "t_p_b=t_p(m1*m_sun, m2*m_sun, e_i, a_b, r2*r_sun, 0.02*1e13, 0.1)\n",
      "print 't_tidal of Triple system=', t_p_b\n",
      "\n",
      "t_p_b_2=t_p(m1*m_sun, m2*m_sun, e_i, a_b, r2*r_sun, 1e5*1e13, 0.1)\n",
      "print 't_tidal of Triple system_2 e+12=', t_p_b_2/1e12"
     ],
     "language": "python",
     "metadata": {},
     "outputs": [
      {
       "output_type": "stream",
       "stream": "stdout",
       "text": [
        "t_rel=p/p_dot: 1.89936625735e+12\n",
        "t_tidal of Triple system= 1.16813103898e+14\n",
        "t_tidal of Triple system_2 e+12= 2.33626207797e-05\n"
       ]
      }
     ],
     "prompt_number": 61
    },
    {
     "cell_type": "code",
     "collapsed": false,
     "input": [
      "delta_P=1e-8\n",
      "\n",
      "P_dot_rel=(pb/year)/t_rel\n",
      "print 'p_dot_rel=', P_dot_rel\n",
      "ny_rel=delta_P/P_dot_rel\n",
      "print 'how many_years=', ny_rel/(365.25 *1e4), 'e+4' \n",
      "\n",
      "print '-----'\n",
      "P_dot_tidal=(pb/year)/t_p_b\n",
      "print 'p_dot_tidal=', P_dot_tidal\n",
      "ny_t=delta_P/P_dot_tidal\n",
      "print 'how many_years=', ny_t/(365.25 *1e4), 'e+4'\n",
      "\n",
      "print '-----'\n",
      "P_dot_tidal_2=(pb/year)/t_p_b_2\n",
      "print 'p_dot_tidal_2=', P_dot_tidal_2\n",
      "ny_t2=delta_P/P_dot_tidal_2\n",
      "print 'how many_years=', ny_t2/365.25"
     ],
     "language": "python",
     "metadata": {},
     "outputs": [
      {
       "output_type": "stream",
       "stream": "stdout",
       "text": [
        "p_dot_rel= 2.34851686439e-15\n",
        "how many_years= 1.16577863615 e+4\n",
        "-----\n",
        "p_dot_tidal= 3.81865864202e-17\n",
        "how many_years= 71.6966621998 e+4\n",
        "-----\n",
        "p_dot_tidal_2= 1.90932932101e-10\n",
        "how many_years= 0.1433933244\n"
       ]
      }
     ],
     "prompt_number": 79
    },
    {
     "cell_type": "code",
     "collapsed": false,
     "input": [
      "x=1.6/365.25\n",
      "x"
     ],
     "language": "python",
     "metadata": {},
     "outputs": [
      {
       "metadata": {},
       "output_type": "pyout",
       "prompt_number": 53,
       "text": [
        "0.004380561259411362"
       ]
      }
     ],
     "prompt_number": 53
    },
    {
     "cell_type": "code",
     "collapsed": false,
     "input": [],
     "language": "python",
     "metadata": {},
     "outputs": []
    }
   ],
   "metadata": {}
  }
 ]
}