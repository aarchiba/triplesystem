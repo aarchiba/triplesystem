{
 "metadata": {
  "name": "no_gr_fit"
 },
 "nbformat": 3,
 "nbformat_minor": 0,
 "worksheets": [
  {
   "cells": [
    {
     "cell_type": "code",
     "collapsed": false,
     "input": [
      "import scipy.optimize\n",
      "\n",
      "import minuit\n",
      "\n",
      "import kepler\n",
      "import quad_integrate\n",
      "import threebody"
     ],
     "language": "python",
     "metadata": {},
     "outputs": [],
     "prompt_number": 21
    },
    {
     "cell_type": "code",
     "collapsed": false,
     "input": [
      "reload(threebody)"
     ],
     "language": "python",
     "metadata": {},
     "outputs": [
      {
       "output_type": "pyout",
       "prompt_number": 88,
       "text": [
        "<module 'threebody' from 'threebody.pyc'>"
       ]
      }
     ],
     "prompt_number": 88
    },
    {
     "cell_type": "code",
     "collapsed": false,
     "input": [
      "mjds, delays, tel_list, tels, uncerts = threebody.load_data()"
     ],
     "language": "python",
     "metadata": {},
     "outputs": [],
     "prompt_number": 46
    },
    {
     "cell_type": "code",
     "collapsed": false,
     "input": [
      "cache = {}"
     ],
     "language": "python",
     "metadata": {},
     "outputs": [],
     "prompt_number": 69
    },
    {
     "cell_type": "code",
     "collapsed": false,
     "input": [
      "f0, f0err = 365.9533436144258189, 0.0000000000656904\n",
      "f1, f1err = 7.833539631670e-15, 1.490959143049e-17\n",
      "pepoch = 56100.000000\n",
      "mjdbase = 55920"
     ],
     "language": "python",
     "metadata": {},
     "outputs": [],
     "prompt_number": 48
    },
    {
     "cell_type": "code",
     "collapsed": false,
     "input": [
      "lin, lin_names = threebody.trend_matrix(mjds, tel_list, tels)"
     ],
     "language": "python",
     "metadata": {},
     "outputs": [],
     "prompt_number": 58
    },
    {
     "cell_type": "code",
     "collapsed": false,
     "input": [
      "best_parameters = [ # with general and shapiro turned off\n",
      "\t1.2175299598186574787 ,\n",
      "\t1.6294017359003669507 ,\n",
      "\t-9.168988926613449182e-05 ,\n",
      "\t0.00068609101419303522833 ,\n",
      "\t0.40748925760618095787 ,\n",
      "\t1.4861898474255610355 ,\n",
      "\t0.13744274569825006173 ,\n",
      "\t74.67266393076853729 ,\n",
      "\t327.25756127060675035 ,\n",
      "\t-0.0034618564681552831337 ,\n",
      "\t0.035186304766978063024 ,\n",
      "\t313.93597640466172896 ,\n",
      "\t91.202908981813469842 ,\n",
      "\t-3.8554463091750297864e-05 ,\n",
      "]\n",
      "best_errors = [\n",
      "\t1.7548868003381764e-08 ,\n",
      "\t2.2331076795728386e-10 ,\n",
      "\t1.6565420569640918e-08 ,\n",
      "\t1.4515086951730917e-08 ,\n",
      "\t8.675354315208765e-09 ,\n",
      "\t2.61901662401641e-05 ,\n",
      "\t1.0252115536955727e-06 ,\n",
      "\t2.1177816291640488e-07 ,\n",
      "\t3.2862622559074075e-07 ,\n",
      "\t7.584860693585962e-10 ,\n",
      "\t6.04699181592055e-10 ,\n",
      "\t2.0934563560744298e-07 ,\n",
      "\t0.001586126768457357 ,\n",
      "\t7.954720409700755e-06 ,\n",
      "]"
     ],
     "language": "python",
     "metadata": {},
     "outputs": [],
     "prompt_number": 72
    },
    {
     "cell_type": "code",
     "collapsed": false,
     "input": [
      "best_parameters = threebody.best_parameters_nogr\n",
      "best_errors = threebody.best_parameters_nogr"
     ],
     "language": "python",
     "metadata": {},
     "outputs": [],
     "prompt_number": 89
    },
    {
     "cell_type": "code",
     "collapsed": false,
     "input": [
      "def scale(p):\n",
      "    return (np.array(p,np.float128)-np.array(best_parameters,np.float128))/np.array(best_errors,np.float128)\n",
      "def unscale(p):\n",
      "    return np.array(p,np.float128)*np.array(best_errors,np.float128)+np.array(best_parameters,np.float128)"
     ],
     "language": "python",
     "metadata": {},
     "outputs": [],
     "prompt_number": 90
    },
    {
     "cell_type": "code",
     "collapsed": false,
     "input": [
      "o = threebody.compute_orbit(best_parameters,mjds,general=False,shapiro=False)\n",
      "odelay = o[\"delays\"]\n",
      "ps = np.sqrt(np.mean(lin**2, axis=0))\n",
      "x, rk, resids, s = scipy.linalg.lstsq(lin/uncerts[:,None]/ps[None,:],(odelay-delays)/uncerts)\n",
      "lin_parameters = -x/ps\n",
      "for n,p in zip(lin_names, lin_parameters):\n",
      "    print n, repr(p)\n",
      "print np.sqrt(np.mean((odelay-delays+np.dot(lin,lin_parameters))**2))"
     ],
     "language": "python",
     "metadata": {},
     "outputs": [
      {
       "output_type": "stream",
       "stream": "stdout",
       "text": [
        "const 305.85205487698067\n",
        "f0error 4.7456673923833603e-05\n",
        "f1error 1.013545152926076e-14\n",
        "j_AO327 0.00049073430663464155\n",
        "j_GBT1500 1.3404417139192782e-05\n",
        "j_GBT350 0.00016948725746513619\n",
        "j_GBT820 1.868760365768241e-05\n",
        "j_WSRT1400 -4.9218088419776243e-05\n",
        "2.46145187396e-06\n"
       ]
      }
     ],
     "prompt_number": 92
    },
    {
     "cell_type": "code",
     "collapsed": false,
     "input": [
      "lin_errors = [\n",
      "\t2.5749018446020474e-10 ,\n",
      "\t1.4226524465019778e-19 ,\n",
      "\t2.1698135752062604e-24 ,\n",
      "\t2.6324769707225523e-07 ,\n",
      "\t3.2315608708057456e-08 ,\n",
      "\t7.285391735338057e-07 ,\n",
      "\t1.9730981158256066e-07 ,\n",
      "\t6.053413617066911e-08 ,\n",
      "]"
     ],
     "language": "python",
     "metadata": {},
     "outputs": [],
     "prompt_number": 76
    },
    {
     "cell_type": "code",
     "collapsed": false,
     "input": [
      "def scale_lin(l):\n",
      "    return (np.array(l,np.float128)-np.array(lin_parameters,np.float128))/np.array(lin_errors,np.float128)\n",
      "def unscale_lin(l):\n",
      "    return np.array(l,np.float128)*np.array(lin_errors,np.float128)+np.array(lin_parameters,np.float128)"
     ],
     "language": "python",
     "metadata": {},
     "outputs": [],
     "prompt_number": 77
    },
    {
     "cell_type": "code",
     "collapsed": false,
     "input": [
      "def mfun(asini_i, pb_i, eps1_i, eps2_i, tasc_i, \n",
      "            acosi_i, q_i,\n",
      "            asini_o, pb_o, eps1_o, eps2_o, tasc_o, \n",
      "            acosi_o, delta_lan,\n",
      "            const, f0error, f1error, \n",
      "            j_AO327, j_GBT1500, j_GBT350, j_GBT820, j_WSRT1400):\n",
      "    p = (asini_i, pb_i, eps1_i, eps2_i, tasc_i, \n",
      "            acosi_i, q_i,\n",
      "            asini_o, pb_o, eps1_o, eps2_o, tasc_o, \n",
      "            acosi_o, delta_lan)\n",
      "    l = (const, f0error, f1error, \n",
      "            j_AO327, j_GBT1500, j_GBT350, j_GBT820, j_WSRT1400)\n",
      "    p = tuple(unscale(p))\n",
      "    l = tuple(unscale_lin(l))\n",
      "    if p not in cache:\n",
      "        o = threebody.compute_orbit(p,mjds,general=False,shapiro=False)\n",
      "        cache[p] = o[\"delays\"]\n",
      "    r = cache[p].copy()\n",
      "    r += np.dot(lin,l)\n",
      "    r -= delays\n",
      "    return np.sum((r/uncerts)**2)"
     ],
     "language": "python",
     "metadata": {},
     "outputs": [],
     "prompt_number": 78
    },
    {
     "cell_type": "code",
     "collapsed": false,
     "input": [
      "m = minuit.Minuit(mfun)"
     ],
     "language": "python",
     "metadata": {},
     "outputs": [],
     "prompt_number": 79
    },
    {
     "cell_type": "code",
     "collapsed": false,
     "input": [
      "for n,v in zip(m.parameters, np.concatenate([scale(best_parameters),scale_lin(lin_parameters)])):\n",
      "    m.values[n] = v"
     ],
     "language": "python",
     "metadata": {},
     "outputs": [],
     "prompt_number": 80
    },
    {
     "cell_type": "code",
     "collapsed": false,
     "input": [
      "m.printMode = 3\n",
      "m.strategy = 2\n",
      "m.eps = 1e-10\n",
      "m.tol = 100.\n",
      "m.up = 1.67\n",
      "m.migrad()\n",
      "print m.fval/len(mjds)"
     ],
     "language": "python",
     "metadata": {},
     "outputs": [
      {
       "output_type": "stream",
       "stream": "stdout",
       "text": [
        "1.67327946888\n"
       ]
      }
     ],
     "prompt_number": 81
    },
    {
     "cell_type": "code",
     "collapsed": false,
     "input": [
      "bp, lp = unscale([m.values[n] for n in m.parameters[:14]]), unscale_lin([m.values[n] for n in m.parameters[14:]])\n",
      "en, el = ([m.errors[n]*abs(e) for n,e in zip(m.parameters[:14],best_errors)], \n",
      "            [m.errors[n]*abs(e) for n,e in zip(m.parameters[14:],lin_errors)])\n",
      "for n,v,e in zip(m.parameters,list(bp)+list(lp),list(en)+list(el)):\n",
      "    print n, threebody.fmt(v,e)\n",
      "print\n",
      "C = m.matrix(True)\n",
      "for i in range(len(m.parameters)):\n",
      "    for j in range(i+1,len(m.parameters)):\n",
      "        if abs(C[i][j])>0.5:\n",
      "            print m.parameters[i], m.parameters[j], C[i][j]"
     ],
     "language": "python",
     "metadata": {},
     "outputs": [
      {
       "output_type": "stream",
       "stream": "stdout",
       "text": [
        "asini_i 1.217529968(19)e0\n",
        "pb_i 1.6294017359(4)e0\n",
        "eps1_i -9.1681(19)e-5\n",
        "eps2_i 6.86073(17)e-4\n",
        "tasc_i 4.07489243(10)e-1\n",
        "acosi_i 1.486185(4)e0\n",
        "q_i 1.374442(17)e-1\n",
        "asini_o 7.467266377(12)e1\n",
        "pb_o 3.272575610(4)e2\n",
        "eps1_o -3.4618550(9)e-3\n",
        "eps2_o 3.51863077(6)e-2\n",
        "tasc_o 3.139359768(4)e2\n",
        "acosi_o 9.12022(18)e1\n",
        "delta_lan -4.5(8)e-5\n",
        "const 3.058524616048(7)e2\n",
        "f0error 4.74567355277701(4)e-5\n",
        "f1error 1.0135464278(4)e-14\n",
        "j_AO327 4.907(3)e-4\n",
        "j_GBT1500 1.340(3)e-5\n",
        "j_GBT350 1.695(7)e-4\n",
        "j_GBT820 1.869(20)e-5\n",
        "j_WSRT1400 -4.922(6)e-5\n",
        "\n",
        "asini_i asini_o -0.636078457679\n",
        "asini_i delta_lan -0.692526202994\n",
        "pb_i q_i -0.765791985879\n",
        "pb_i acosi_o -0.697975589043\n",
        "eps2_i tasc_i 0.752708518473\n",
        "acosi_i asini_o 0.776257435496\n",
        "acosi_i pb_o 0.536911329524\n",
        "acosi_i acosi_o -0.566899375969\n",
        "acosi_i f1error -0.616325421822\n",
        "q_i pb_o 0.562914892837\n",
        "q_i tasc_o 0.597592575671\n",
        "asini_o delta_lan 0.774279995888\n",
        "asini_o f1error -0.732523695629\n",
        "pb_o tasc_o 0.90782961499\n",
        "tasc_o acosi_o -0.596451703329\n",
        "delta_lan f1error -0.59069283475\n"
       ]
      }
     ],
     "prompt_number": 82
    },
    {
     "cell_type": "code",
     "collapsed": false,
     "input": [
      "lin_parameters = lp\n",
      "lin_errors = el\n",
      "best_parameters = bp\n",
      "best_errors = en"
     ],
     "language": "python",
     "metadata": {},
     "outputs": [],
     "prompt_number": 83
    },
    {
     "cell_type": "code",
     "collapsed": false,
     "input": [
      "L = np.vstack([const_vec, f0error_vec]).T\n",
      "x, rk, res, s = scipy.linalg.lstsq(L,o[\"einstein_delays\"])\n",
      "print x\n",
      "f0error_einsteins = x[1]"
     ],
     "language": "python",
     "metadata": {},
     "outputs": [
      {
       "output_type": "stream",
       "stream": "stdout",
       "text": [
        "[  2.25200996e-04   1.70025358e-11]\n"
       ]
      }
     ],
     "prompt_number": 93
    },
    {
     "cell_type": "code",
     "collapsed": false,
     "input": [
      "f0_fixed = f0-lin_parameters[1]-f0error_einsteins\n",
      "print f1\n",
      "f1_fixed = f1-lin_parameters[2]\n",
      "print repr(f0_fixed)\n",
      "print repr(f1_fixed)\n",
      "p = 1/f0_fixed\n",
      "pdot = -f1_fixed/f0_fixed**2\n",
      "print 1000*p, \"ms\"\n",
      "print pdot\n",
      "print p/(2*pdot)/(365.2425*86400), \"y\""
     ],
     "language": "python",
     "metadata": {},
     "outputs": [
      {
       "output_type": "stream",
       "stream": "stdout",
       "text": [
        "7.83353963167e-15\n",
        "365.95329615773488\n",
        "-2.3019118975907604e-15\n",
        "2.73258913227 ms\n",
        "1.71884759636e-20\n",
        "2518905766.94 y\n"
       ]
      }
     ],
     "prompt_number": 95
    },
    {
     "cell_type": "code",
     "collapsed": false,
     "input": [
      "print \"lin_errors = [\"\n",
      "for e in lin_errors:\n",
      "    print \"\\t\", repr(e), \",\"\n",
      "print \"]\""
     ],
     "language": "python",
     "metadata": {},
     "outputs": [
      {
       "output_type": "stream",
       "stream": "stdout",
       "text": [
        "lin_errors = [\n",
        "\t6.654862428387142e-10 ,\n",
        "\t3.676871333394465e-19 ,\n",
        "\t4.31094356230688e-24 ,\n",
        "\t2.654411500399644e-07 ,\n",
        "\t3.056309529465774e-08 ,\n",
        "\t6.817612118279173e-07 ,\n",
        "\t1.9601017918925496e-07 ,\n",
        "\t5.68192166914135e-08 ,\n",
        "]\n"
       ]
      }
     ],
     "prompt_number": 86
    },
    {
     "cell_type": "code",
     "collapsed": false,
     "input": [
      "print \"best_parameters_nogr = [\"\n",
      "for v in best_parameters:\n",
      "    print \"\\t\",repr(v),\",\"\n",
      "print \"]\"\n",
      "\n",
      "print \"best_errors_nogr = [\"\n",
      "for v in best_errors:\n",
      "    print \"\\t\",repr(v),\",\"\n",
      "print \"]\"\n"
     ],
     "language": "python",
     "metadata": {},
     "outputs": [
      {
       "output_type": "stream",
       "stream": "stdout",
       "text": [
        "best_parameters_nogr = [\n",
        "\t1.217529967691550754 ,\n",
        "\t1.629401735908281567 ,\n",
        "\t-9.1680933187314077105e-05 ,\n",
        "\t0.00068607294788486786044 ,\n",
        "\t0.4074892430788351937 ,\n",
        "\t1.4861853088300347585 ,\n",
        "\t0.13744418603049468959 ,\n",
        "\t74.672663767844384898 ,\n",
        "\t327.25756096585252719 ,\n",
        "\t-0.0034618550185082725042 ,\n",
        "\t0.035186307687828952724 ,\n",
        "\t313.93597677179654973 ,\n",
        "\t91.202189778972841357 ,\n",
        "\t-4.4596707010768933897e-05 ,\n",
        "]\n",
        "best_errors_nogr = [\n",
        "\t1.8624739061394744e-08 ,\n",
        "\t3.625137710539212e-10 ,\n",
        "\t1.9190728493949218e-08 ,\n",
        "\t1.673908407209016e-08 ,\n",
        "\t9.816045154137255e-09 ,\n",
        "\t3.5860679776065874e-06 ,\n",
        "\t1.7327413665307784e-06 ,\n",
        "\t1.2327858353102708e-07 ,\n",
        "\t4.1809524403587833e-07 ,\n",
        "\t9.172363390894159e-10 ,\n",
        "\t6.199662972285706e-10 ,\n",
        "\t3.871106137895912e-07 ,\n",
        "\t0.0017795929143580116 ,\n",
        "\t7.70027304890772e-06 ,\n",
        "]\n"
       ]
      }
     ],
     "prompt_number": 87
    },
    {
     "cell_type": "code",
     "collapsed": false,
     "input": [],
     "language": "python",
     "metadata": {},
     "outputs": []
    }
   ],
   "metadata": {}
  }
 ]
}